{
 "cells": [
  {
   "cell_type": "code",
   "execution_count": null,
   "metadata": {},
   "outputs": [],
   "source": [
    "# default_exp data.metadatasets"
   ]
  },
  {
   "cell_type": "markdown",
   "metadata": {},
   "source": [
    "# Metadatasets: a dataset of datasets\n",
    "\n",
    "> This functionality will allow you to create a dataset from data stores in multiple, smaller datasets."
   ]
  },
  {
   "cell_type": "markdown",
   "metadata": {},
   "source": [
    "* I'd like to thank both Thomas Capelle (https://github.com/tcapelle)  and Xander Dunn (https://github.com/xanderdunn) for their contributions to make this code possible. \n",
    "* This functionality allows you to use multiple numpy arrays instead of a single one, which may be very useful in many practical settings. I've tested it with 10k+ datasets and it works well. "
   ]
  },
  {
   "cell_type": "code",
   "execution_count": null,
   "metadata": {},
   "outputs": [],
   "source": [
    "#export\n",
    "from tsai.imports import *\n",
    "from tsai.utils import *\n",
    "from tsai.data.validation import *\n",
    "from tsai.data.core import *"
   ]
  },
  {
   "cell_type": "code",
   "execution_count": null,
   "metadata": {},
   "outputs": [],
   "source": [
    "#export\n",
    "class TSMetaDataset():\n",
    "    \" A dataset capable of indexing mutiple datasets at the same time\"\n",
    "    def __init__(self, dataset_list, **kwargs):\n",
    "        if not is_listy(dataset_list): dataset_list = [dataset_list]\n",
    "        self.datasets = dataset_list\n",
    "        self.split = kwargs['split'] if 'split' in kwargs else None            \n",
    "        self.mapping = self._mapping()\n",
    "        if hasattr(dataset_list[0], 'loss_func'): \n",
    "            self.loss_func =  dataset_list[0].loss_func\n",
    "        else: \n",
    "            self.loss_func = None\n",
    "\n",
    "    def __len__(self):\n",
    "        if self.split is not None: \n",
    "            return len(self.split)\n",
    "        else:\n",
    "            return sum([len(ds) for ds in self.datasets])\n",
    "\n",
    "    def __getitem__(self, idx):\n",
    "        if self.split is not None: idx = self.split[idx]\n",
    "        idx = listify(idx)\n",
    "        idxs = self.mapping[idx]\n",
    "        idxs = idxs[idxs[:, 0].argsort()]\n",
    "        self.mapping_idxs = idxs\n",
    "        ds = np.unique(idxs[:, 0])\n",
    "        b = [self.datasets[d][idxs[idxs[:, 0] == d, 1]] for d in ds]\n",
    "        output = tuple(map(torch.cat, zip(*b)))\n",
    "        return output\n",
    "\n",
    "    def _mapping(self):\n",
    "        lengths = [len(ds) for ds in self.datasets]\n",
    "        idx_pairs = np.zeros((np.sum(lengths), 2)).astype(np.int32)\n",
    "        start = 0\n",
    "        for i,length in enumerate(lengths):\n",
    "            if i > 0: \n",
    "                idx_pairs[start:start+length, 0] = i\n",
    "            idx_pairs[start:start+length, 1] = np.arange(length)\n",
    "            start += length\n",
    "        return idx_pairs\n",
    "    \n",
    "    @property\n",
    "    def vars(self):\n",
    "        s = self.datasets[0][0][0] if not isinstance(self.datasets[0][0][0], tuple) else self.datasets[0][0][0][0]\n",
    "        return s.shape[-2]\n",
    "    @property\n",
    "    def len(self): \n",
    "        s = self.datasets[0][0][0] if not isinstance(self.datasets[0][0][0], tuple) else self.datasets[0][0][0][0]\n",
    "        return s.shape[-1]\n",
    "\n",
    "\n",
    "class TSMetaDatasets(FilteredBase):\n",
    "    def __init__(self, metadataset, splits):\n",
    "        store_attr()\n",
    "        self.mapping = metadataset.mapping\n",
    "    def subset(self, i):\n",
    "        return type(self.metadataset)(self.metadataset.datasets, split=self.splits[i])\n",
    "    @property\n",
    "    def train(self): \n",
    "        return self.subset(0)\n",
    "    @property\n",
    "    def valid(self): \n",
    "        return self.subset(1)"
   ]
  },
  {
   "cell_type": "markdown",
   "metadata": {},
   "source": [
    "Let's create 3 datasets. In this case they will have different sizes."
   ]
  },
  {
   "cell_type": "code",
   "execution_count": null,
   "metadata": {},
   "outputs": [
    {
     "data": {
      "text/plain": [
       "[(#131) [(TSTensor(vars:5, len:50), TensorCategory(1)),(TSTensor(vars:5, len:50), TensorCategory(8)),(TSTensor(vars:5, len:50), TensorCategory(8)),(TSTensor(vars:5, len:50), TensorCategory(5)),(TSTensor(vars:5, len:50), TensorCategory(1)),(TSTensor(vars:5, len:50), TensorCategory(7)),(TSTensor(vars:5, len:50), TensorCategory(9)),(TSTensor(vars:5, len:50), TensorCategory(2)),(TSTensor(vars:5, len:50), TensorCategory(2)),(TSTensor(vars:5, len:50), TensorCategory(7))...],\n",
       " (#61) [(TSTensor(vars:5, len:50), TensorCategory(5)),(TSTensor(vars:5, len:50), TensorCategory(9)),(TSTensor(vars:5, len:50), TensorCategory(3)),(TSTensor(vars:5, len:50), TensorCategory(7)),(TSTensor(vars:5, len:50), TensorCategory(7)),(TSTensor(vars:5, len:50), TensorCategory(1)),(TSTensor(vars:5, len:50), TensorCategory(6)),(TSTensor(vars:5, len:50), TensorCategory(8)),(TSTensor(vars:5, len:50), TensorCategory(9)),(TSTensor(vars:5, len:50), TensorCategory(6))...],\n",
       " (#81) [(TSTensor(vars:5, len:50), TensorCategory(9)),(TSTensor(vars:5, len:50), TensorCategory(6)),(TSTensor(vars:5, len:50), TensorCategory(7)),(TSTensor(vars:5, len:50), TensorCategory(9)),(TSTensor(vars:5, len:50), TensorCategory(2)),(TSTensor(vars:5, len:50), TensorCategory(8)),(TSTensor(vars:5, len:50), TensorCategory(10)),(TSTensor(vars:5, len:50), TensorCategory(2)),(TSTensor(vars:5, len:50), TensorCategory(4)),(TSTensor(vars:5, len:50), TensorCategory(6))...]]"
      ]
     },
     "execution_count": null,
     "metadata": {},
     "output_type": "execute_result"
    }
   ],
   "source": [
    "dsets = []\n",
    "for i in range(3):\n",
    "    size = np.random.randint(50, 150)\n",
    "    X = torch.rand(size, 5, 50)\n",
    "    y = torch.randint(0, 10, (size,))\n",
    "    tfms = [None, TSClassification(add_na=True)]\n",
    "    dset = TSDatasets(X, y, tfms=tfms)\n",
    "    dsets.append(dset)\n",
    "dsets"
   ]
  },
  {
   "cell_type": "code",
   "execution_count": null,
   "metadata": {},
   "outputs": [
    {
     "data": {
      "text/plain": [
       "(<__main__.TSMetaDataset at 0x7ff61aa4a210>, 5, 50)"
      ]
     },
     "execution_count": null,
     "metadata": {},
     "output_type": "execute_result"
    }
   ],
   "source": [
    "metadataset = TSMetaDataset(dsets)\n",
    "metadataset, metadataset.vars, metadataset.len"
   ]
  },
  {
   "cell_type": "markdown",
   "metadata": {},
   "source": [
    "We'll apply splits now to create train and valid metadatasets: "
   ]
  },
  {
   "cell_type": "code",
   "execution_count": null,
   "metadata": {},
   "outputs": [
    {
     "data": {
      "image/png": "[encoded data removed]",
      "text/plain": [
       "<Figure size 1152x36 with 1 Axes>"
      ]
     },
     "metadata": {},
     "output_type": "display_data"
    },
    {
     "data": {
      "text/plain": [
       "((#218) [0,1,2,3,4,5,6,7,8,9...],\n",
       " (#55) [218,219,220,221,222,223,224,225,226,227...])"
      ]
     },
     "execution_count": null,
     "metadata": {},
     "output_type": "execute_result"
    }
   ],
   "source": [
    "splits = TimeSplitter()(metadataset)\n",
    "splits"
   ]
  },
  {
   "cell_type": "code",
   "execution_count": null,
   "metadata": {},
   "outputs": [
    {
     "data": {
      "text/plain": [
       "(<__main__.TSMetaDataset at 0x7ff6168b5050>,\n",
       " <__main__.TSMetaDataset at 0x7ff6168b54d0>)"
      ]
     },
     "execution_count": null,
     "metadata": {},
     "output_type": "execute_result"
    }
   ],
   "source": [
    "metadatasets = TSMetaDatasets(metadataset, splits=splits)\n",
    "metadatasets.train, metadatasets.valid"
   ]
  },
  {
   "cell_type": "code",
   "execution_count": null,
   "metadata": {},
   "outputs": [
    {
     "data": {
      "text/plain": [
       "(TSTensor(samples:64, vars:5, len:50),\n",
       " TensorCategory([ 9, 10,  8,  1,  5,  1, 10,  3,  2,  4,  3,  7,  5,  1,  4,  5,  5,  1,\n",
       "          7,  5,  8,  5,  9,  3,  6,  4,  5,  6,  4,  2,  8,  9,  9,  7,  3,  1,\n",
       "          6,  3,  8,  4,  9,  1,  6,  4,  3,  6,  8,  3,  6, 10,  9,  1,  4,  6,\n",
       "          6,  5,  1,  9,  5,  8,  9,  6,  5,  6]))"
      ]
     },
     "execution_count": null,
     "metadata": {},
     "output_type": "execute_result"
    }
   ],
   "source": [
    "dls = TSDataLoaders.from_dsets(metadatasets.train, metadatasets.valid)\n",
    "xb, yb = first(dls.train)\n",
    "xb, yb"
   ]
  },
  {
   "cell_type": "markdown",
   "metadata": {},
   "source": [
    "There also en easy way to map any particular sample in a batch to the original dataset and id: "
   ]
  },
  {
   "cell_type": "code",
   "execution_count": null,
   "metadata": {},
   "outputs": [],
   "source": [
    "dls = TSDataLoaders.from_dsets(metadatasets.train, metadatasets.valid)\n",
    "xb, yb = first(dls.train)\n",
    "mappings = dls.train.dataset.mapping_idxs\n",
    "for i, (xbi, ybi) in enumerate(zip(xb, yb)):\n",
    "    ds, idx = mappings[i]\n",
    "    test_close(dsets[ds][idx][0].data, xbi)\n",
    "    test_close(dsets[ds][idx][1].data, ybi)"
   ]
  },
  {
   "cell_type": "markdown",
   "metadata": {},
   "source": [
    "For example the 3rd sample in this batch would be: "
   ]
  },
  {
   "cell_type": "code",
   "execution_count": null,
   "metadata": {},
   "outputs": [
    {
     "data": {
      "text/plain": [
       "array([  0, 124], dtype=int32)"
      ]
     },
     "execution_count": null,
     "metadata": {},
     "output_type": "execute_result"
    }
   ],
   "source": [
    "dls.train.dataset.mapping_idxs[2]"
   ]
  },
  {
   "cell_type": "code",
   "execution_count": null,
   "metadata": {},
   "outputs": [],
   "source": [
    "#hide\n",
    "out = create_scripts(); beep(out)"
   ]
  }
 ],
 "metadata": {
  "kernelspec": {
   "display_name": "Python 3",
   "language": "python",
   "name": "python3"
  }
 },
 "nbformat": 4,
 "nbformat_minor": 4
}
