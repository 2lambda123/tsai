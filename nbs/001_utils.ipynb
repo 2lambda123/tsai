{
 "cells": [
  {
   "cell_type": "code",
   "execution_count": null,
   "metadata": {},
   "outputs": [],
   "source": [
    "# default_exp utils"
   ]
  },
  {
   "cell_type": "markdown",
   "metadata": {},
   "source": [
    "# Utilities\n",
    "\n",
    "> Helper functions used throughout the library not related to timeseries data."
   ]
  },
  {
   "cell_type": "code",
   "execution_count": null,
   "metadata": {},
   "outputs": [],
   "source": [
    "#export\n",
    "from scipy.stats import ttest_ind, ks_2samp, pearsonr, spearmanr, normaltest, linregress\n",
    "import joblib\n",
    "import string\n",
    "from tsai.imports import *"
   ]
  },
  {
   "cell_type": "code",
   "execution_count": null,
   "metadata": {},
   "outputs": [],
   "source": [
    "#export\n",
    "def is_nparray(o): return isinstance(o, np.ndarray)\n",
    "def is_tensor(o): return isinstance(o, torch.Tensor)\n",
    "def is_zarr(o): return hasattr(o, 'oindex')\n",
    "def is_dask(o): return hasattr(o, 'compute')\n",
    "def is_memmap(o): return isinstance(o, np.memmap)\n",
    "def is_slice(o): return isinstance(o, slice)"
   ]
  },
  {
   "cell_type": "code",
   "execution_count": null,
   "metadata": {},
   "outputs": [],
   "source": [
    "# ensure these folders exist for testing purposes\n",
    "fns = ['data', 'export', 'models']\n",
    "for fn in fns: \n",
    "    path = Path('.')/fn\n",
    "    if not os.path.exists(path): os.makedirs(path)"
   ]
  },
  {
   "cell_type": "code",
   "execution_count": null,
   "metadata": {},
   "outputs": [],
   "source": [
    "#export\n",
    "def totensor(o):\n",
    "    if isinstance(o, torch.Tensor): return o\n",
    "    elif isinstance(o, np.ndarray):  return torch.from_numpy(o)\n",
    "    elif isinstance(o, pd.DataFrame): return torch.from_numpy(o.values)\n",
    "    else: \n",
    "        try: return torch.tensor(o)\n",
    "        except: warn(f\"Can't convert {type(o)} to torch.Tensor\", Warning)\n",
    "\n",
    "\n",
    "def toarray(o):\n",
    "    if isinstance(o, np.ndarray): return o\n",
    "    elif isinstance(o, torch.Tensor): return o.cpu().numpy()\n",
    "    elif isinstance(o, pd.DataFrame): return o.values\n",
    "    else:\n",
    "        try: return np.asarray(o)\n",
    "        except: warn(f\"Can't convert {type(o)} to np.array\", Warning)\n",
    "    \n",
    "    \n",
    "def toL(o):\n",
    "    if isinstance(o, L): return o\n",
    "    elif isinstance(o, (np.ndarray, torch.Tensor)): return L(o.tolist())\n",
    "    else:\n",
    "        try: return L(o)\n",
    "        except: warn(f'passed object needs to be of type L, list, np.ndarray or torch.Tensor but is {type(o)}', Warning)\n",
    "\n",
    "\n",
    "def to3dtensor(o):\n",
    "    o = totensor(o)\n",
    "    if o.ndim == 3: return o\n",
    "    elif o.ndim == 1: return o[None, None]\n",
    "    elif o.ndim == 2: return o[:, None]\n",
    "    assert False, f'Please, review input dimensions {o.ndim}'\n",
    "\n",
    "\n",
    "def to2dtensor(o):\n",
    "    o = totensor(o)\n",
    "    if o.ndim == 2: return o\n",
    "    elif o.ndim == 1: return o[None]\n",
    "    elif o.ndim == 3: return o[0]\n",
    "    assert False, f'Please, review input dimensions {o.ndim}'\n",
    "\n",
    "\n",
    "def to1dtensor(o):\n",
    "    o = totensor(o)\n",
    "    if o.ndim == 1: return o\n",
    "    elif o.ndim == 3: return o[0,0]\n",
    "    if o.ndim == 2: return o[0]\n",
    "    assert False, f'Please, review input dimensions {o.ndim}'\n",
    "\n",
    "\n",
    "def to3darray(o):\n",
    "    o = toarray(o)\n",
    "    if o.ndim == 3: return o\n",
    "    elif o.ndim == 1: return o[None, None]\n",
    "    elif o.ndim == 2: return o[:, None]\n",
    "    assert False, f'Please, review input dimensions {o.ndim}'\n",
    "\n",
    "\n",
    "def to2darray(o):\n",
    "    o = toarray(o)\n",
    "    if o.ndim == 2: return o\n",
    "    elif o.ndim == 1: return o[None]\n",
    "    elif o.ndim == 3: return o[0]\n",
    "    assert False, f'Please, review input dimensions {o.ndim}'\n",
    "\n",
    "\n",
    "def to1darray(o):\n",
    "    o = toarray(o)\n",
    "    if o.ndim == 1: return o\n",
    "    elif o.ndim == 3: o = o[0,0]\n",
    "    elif o.ndim == 2: o = o[0]\n",
    "    assert False, f'Please, review input dimensions {o.ndim}'\n",
    "    \n",
    "    \n",
    "def to3d(o):\n",
    "    if o.ndim == 3: return o\n",
    "    if isinstance(o, (np.ndarray, pd.DataFrame)): return to3darray(o)\n",
    "    if isinstance(o, torch.Tensor): return to3dtensor(o)\n",
    "    \n",
    "    \n",
    "def to2d(o):\n",
    "    if o.ndim == 2: return o\n",
    "    if isinstance(o, np.ndarray): return to2darray(o)\n",
    "    if isinstance(o, torch.Tensor): return to2dtensor(o)\n",
    "    \n",
    "    \n",
    "def to1d(o):\n",
    "    if o.ndim == 1: return o\n",
    "    if isinstance(o, np.ndarray): return to1darray(o)\n",
    "    if isinstance(o, torch.Tensor): return to1dtensor(o)\n",
    "    \n",
    "    \n",
    "def to2dPlus(o):\n",
    "    if o.ndim >= 2: return o\n",
    "    if isinstance(o, np.ndarray): return to2darray(o)\n",
    "    elif isinstance(o, torch.Tensor): return to2dtensor(o)\n",
    "    \n",
    "    \n",
    "def to3dPlus(o):\n",
    "    if o.ndim >= 3: return o\n",
    "    if isinstance(o, np.ndarray): return to3darray(o)\n",
    "    elif isinstance(o, torch.Tensor): return to3dtensor(o)\n",
    "    \n",
    "    \n",
    "def to2dPlusTensor(o):\n",
    "    return to2dPlus(totensor(o))\n",
    "\n",
    "\n",
    "def to2dPlusArray(o):\n",
    "    return to2dPlus(toarray(o))\n",
    "\n",
    "\n",
    "def to3dPlusTensor(o):\n",
    "    return to3dPlus(totensor(o))\n",
    "\n",
    "\n",
    "def to3dPlusArray(o):\n",
    "    return to3dPlus(toarray(o))\n",
    "\n",
    "\n",
    "def todtype(dtype):\n",
    "    def _to_type(o, dtype=dtype):\n",
    "        if o.dtype == dtype: return o\n",
    "        elif isinstance(o, torch.Tensor): o = o.to(dtype=dtype)\n",
    "        elif isinstance(o, np.ndarray): o = o.astype(dtype)\n",
    "        return o\n",
    "    return _to_type"
   ]
  },
  {
   "cell_type": "code",
   "execution_count": null,
   "metadata": {},
   "outputs": [],
   "source": [
    "a = np.random.rand(100).astype(np.float32)\n",
    "b = torch.from_numpy(a).float()\n",
    "test_eq(totensor(a), b)\n",
    "test_eq(a, toarray(b))\n",
    "test_eq(to3dtensor(a).ndim, 3)\n",
    "test_eq(to2dtensor(a).ndim, 2)\n",
    "test_eq(to1dtensor(a).ndim, 1)\n",
    "test_eq(to3darray(b).ndim, 3)\n",
    "test_eq(to2darray(b).ndim, 2)\n",
    "test_eq(to1darray(b).ndim, 1)"
   ]
  },
  {
   "cell_type": "code",
   "execution_count": null,
   "metadata": {},
   "outputs": [],
   "source": [
    "data = np.random.rand(10, 20)\n",
    "df = pd.DataFrame(data)\n",
    "df['target'] = np.random.randint(0, 3, len(df))\n",
    "X = df[df.columns[:-1]]\n",
    "y = df['target']\n",
    "test_eq(to3darray(X).shape, (10, 1, 20))\n",
    "test_eq(toarray(y).shape, (10,))"
   ]
  },
  {
   "cell_type": "code",
   "execution_count": null,
   "metadata": {},
   "outputs": [],
   "source": [
    "#export\n",
    "def bytes2size(\n",
    "    size_bytes : int, # Number of bytes \n",
    "    decimals=2 # Number of decimals in the output\n",
    "    )->str:\n",
    "    if size_bytes == 0: return \"0B\"\n",
    "    size_name = (\"B\", \"KB\", \"MB\", \"GB\", \"TB\", \"PB\", \"EB\", \"ZB\", \"YB\")\n",
    "    i = int(math.floor(math.log(size_bytes, 1024)))\n",
    "    p = math.pow(1024, i)\n",
    "    s = round(size_bytes / p, decimals)\n",
    "    return f'{s} {size_name[i]}'\n",
    "\n",
    "def bytes2GB(byts):\n",
    "    return round(byts / math.pow(1024, 3), 2)\n",
    "\n",
    "def get_size(\n",
    "    o, # Any object \n",
    "    return_str : bool = True, # True returns size in human-readable format (KB, MB, GB, ...). False in bytes.\n",
    "    decimals : int = 2, # Number of decimals in the output\n",
    "    ):\n",
    "    s = sys.getsizeof(o)\n",
    "    if return_str: return bytes2size(s, decimals=decimals)\n",
    "    else: return s\n",
    "\n",
    "def get_dir_size(\n",
    "    dir_path : str,  # path to directory \n",
    "    return_str : bool = True, # True returns size in human-readable format (KB, MB, GB, ...). False in bytes.\n",
    "    decimals : int = 2, # Number of decimals in the output\n",
    "    verbose : bool = False, # Controls verbosity\n",
    "    ):\n",
    "    assert os.path.isdir(dir_path)\n",
    "    total_size = 0\n",
    "    for dirpath, dirnames, filenames in os.walk(dir_path):\n",
    "        for f in filenames:\n",
    "            fp = os.path.join(dirpath, f)\n",
    "            # skip if it is symbolic link\n",
    "            if not os.path.islink(fp):\n",
    "                fp_size = os.path.getsize(fp)\n",
    "                total_size += fp_size\n",
    "                pv(f'file: {fp[-50:]:50} size: {fp_size}', verbose)\n",
    "    if return_str: \n",
    "        return bytes2size(total_size, decimals=decimals)\n",
    "    return total_size\n",
    "\n",
    "def get_file_size(\n",
    "    file_path : str,  # path to file \n",
    "    return_str : bool = True, # True returns size in human-readable format (KB, MB, GB, ...). False in bytes.\n",
    "    decimals : int = 2, # Number of decimals in the output\n",
    "    ):\n",
    "    assert os.path.isfile(file_path)\n",
    "    fsize = os.path.getsize(file_path)\n",
    "    if return_str: \n",
    "        return bytes2size(fsize, decimals=decimals)\n",
    "    return fsize"
   ]
  },
  {
   "cell_type": "code",
   "execution_count": null,
   "metadata": {},
   "outputs": [],
   "source": [
    "a = np.random.rand(10, 5, 3)\n",
    "test_eq(get_size(a, True), '1.3 KB')"
   ]
  },
  {
   "cell_type": "code",
   "execution_count": null,
   "metadata": {},
   "outputs": [],
   "source": [
    "#export\n",
    "def is_file(path):\n",
    "    return os.path.isfile(path)\n",
    "\n",
    "def is_dir(path):\n",
    "    return os.path.isdir(path)"
   ]
  },
  {
   "cell_type": "code",
   "execution_count": null,
   "metadata": {},
   "outputs": [],
   "source": [
    "test_eq(is_file(\"001_utils.ipynb\"), True)\n",
    "test_eq(is_file(\"utils.ipynb\"), False)"
   ]
  },
  {
   "cell_type": "code",
   "execution_count": null,
   "metadata": {},
   "outputs": [],
   "source": [
    "#export\n",
    "def delete_all_in_dir(tgt_dir, exception=None):\n",
    "    import shutil\n",
    "    if exception is not None and len(L(exception)) > 1: exception = tuple(exception)\n",
    "    for file in os.listdir(tgt_dir):\n",
    "        if exception is not None and file.endswith(exception): continue\n",
    "        file_path = os.path.join(tgt_dir, file)\n",
    "        if os.path.isfile(file_path) or os.path.islink(file_path): os.unlink(file_path)\n",
    "        elif os.path.isdir(file_path): shutil.rmtree(file_path)"
   ]
  },
  {
   "cell_type": "code",
   "execution_count": null,
   "metadata": {},
   "outputs": [],
   "source": [
    "#export\n",
    "def reverse_dict(dictionary): \n",
    "    return {v: k for k, v in dictionary.items()}"
   ]
  },
  {
   "cell_type": "code",
   "execution_count": null,
   "metadata": {},
   "outputs": [],
   "source": [
    "#export\n",
    "def is_tuple(o): return isinstance(o, tuple)"
   ]
  },
  {
   "cell_type": "code",
   "execution_count": null,
   "metadata": {},
   "outputs": [],
   "source": [
    "#export\n",
    "def itemify(*o, tup_id=None): \n",
    "    o = [o_ for o_ in L(*o) if o_ is not None]\n",
    "    items = L(o).zip()\n",
    "    if tup_id is not None: return L([item[tup_id] for item in items])\n",
    "    else: return items"
   ]
  },
  {
   "cell_type": "code",
   "execution_count": null,
   "metadata": {},
   "outputs": [
    {
     "name": "stdout",
     "output_type": "stream",
     "text": [
      "[(1, 4), (2, 5), (3, 6)]\n",
      "[(1,), (2,), (3,)]\n",
      "[(1, 4), (2, 5), (3, 6)]\n"
     ]
    }
   ],
   "source": [
    "a = [1, 2, 3]\n",
    "b = [4, 5, 6]\n",
    "print(itemify(a, b))\n",
    "test_eq(len(itemify(a, b)), len(a))\n",
    "a = [1, 2, 3]\n",
    "b = None\n",
    "print(itemify(a, b))\n",
    "test_eq(len(itemify(a, b)), len(a))\n",
    "a = [1, 2, 3]\n",
    "b = [4, 5, 6]\n",
    "c = None\n",
    "print(itemify(a, b, c))\n",
    "test_eq(len(itemify(a, b, c)), len(a))"
   ]
  },
  {
   "cell_type": "code",
   "execution_count": null,
   "metadata": {},
   "outputs": [],
   "source": [
    "#export\n",
    "def isnone(o):\n",
    "    return o is None\n",
    "\n",
    "def exists(o): return o is not None\n",
    "\n",
    "def ifelse(a, b, c):\n",
    "    \"`b` if `a` is True else `c`\"\n",
    "    return b if a else c"
   ]
  },
  {
   "cell_type": "code",
   "execution_count": null,
   "metadata": {},
   "outputs": [],
   "source": [
    "a = np.array(3)\n",
    "test_eq(isnone(a), False)\n",
    "test_eq(exists(a), True)\n",
    "b = None\n",
    "test_eq(isnone(b), True)\n",
    "test_eq(exists(b), False)"
   ]
  },
  {
   "cell_type": "code",
   "execution_count": null,
   "metadata": {},
   "outputs": [],
   "source": [
    "#export\n",
    "def is_not_close(a, b, eps=1e-5):\n",
    "    \"Is `a` within `eps` of `b`\"\n",
    "    if hasattr(a, '__array__') or hasattr(b, '__array__'):\n",
    "        return (abs(a - b) > eps).all()\n",
    "    if isinstance(a, (Iterable, Generator)) or isinstance(b, (Iterable, Generator)):\n",
    "        return is_not_close(np.array(a), np.array(b), eps=eps)\n",
    "    return abs(a - b) > eps\n",
    "\n",
    "\n",
    "def test_not_close(a, b, eps=1e-5):\n",
    "    \"`test` that `a` is within `eps` of `b`\"\n",
    "    test(a, b, partial(is_not_close, eps=eps), 'not_close')\n",
    "\n",
    "\n",
    "def test_type(a, b):\n",
    "    return test_eq(type(a), type(b))\n",
    "\n",
    "\n",
    "def test_ok(f, *args, **kwargs):\n",
    "    try: \n",
    "        f(*args, **kwargs)\n",
    "        e = 0\n",
    "    except: \n",
    "        e = 1\n",
    "        pass\n",
    "    test_eq(e, 0)\n",
    "    \n",
    "def test_not_ok(f, *args, **kwargs):\n",
    "    try: \n",
    "        f(*args, **kwargs)\n",
    "        e = 0\n",
    "    except: \n",
    "        e = 1\n",
    "        pass\n",
    "    test_eq(e, 1)\n",
    "    \n",
    "def test_error(error, f, *args, **kwargs):\n",
    "    try: f(*args, **kwargs)\n",
    "    except Exception as e: \n",
    "        test_eq(str(e), error)\n",
    "        \n",
    "def test_eq_nan(a,b):\n",
    "    \"`test` that `a==b` excluding nan values (valid for torch.Tensor and np.ndarray)\"\n",
    "    mask_a = torch.isnan(a) if isinstance(a, torch.Tensor) else np.isnan(a)\n",
    "    mask_b = torch.isnan(b) if isinstance(b, torch.Tensor) else np.isnan(b)\n",
    "    test(a[~mask_a],b[~mask_b],equals, '==')"
   ]
  },
  {
   "cell_type": "code",
   "execution_count": null,
   "metadata": {},
   "outputs": [],
   "source": [
    "#export\n",
    "def assert_fn(*args, **kwargs): assert False, 'assertion test'\n",
    "test_error('assertion test', assert_fn, 35, a=3)"
   ]
  },
  {
   "cell_type": "code",
   "execution_count": null,
   "metadata": {},
   "outputs": [],
   "source": [
    "#export\n",
    "def test_gt(a,b):\n",
    "    \"`test` that `a>b`\"\n",
    "    test(a,b,gt,'>')\n",
    "\n",
    "def test_ge(a,b):\n",
    "    \"`test` that `a>=b`\"\n",
    "    test(a,b,ge,'>')\n",
    "    \n",
    "def test_lt(a,b):\n",
    "    \"`test` that `a>b`\"\n",
    "    test(a,b,lt,'<')\n",
    "\n",
    "def test_le(a,b):\n",
    "    \"`test` that `a>b`\"\n",
    "    test(a,b,le,'<=')"
   ]
  },
  {
   "cell_type": "code",
   "execution_count": null,
   "metadata": {},
   "outputs": [],
   "source": [
    "test_ok(test_gt, 5, 4)\n",
    "test_not_ok(test_gt, 4, 4)\n",
    "test_ok(test_ge, 4, 4)\n",
    "test_not_ok(test_ge, 3, 4)\n",
    "\n",
    "test_ok(test_lt, 3, 4)\n",
    "test_not_ok(test_lt, 4, 4)\n",
    "test_ok(test_le, 4, 4)\n",
    "test_not_ok(test_le, 5, 4)"
   ]
  },
  {
   "cell_type": "code",
   "execution_count": null,
   "metadata": {},
   "outputs": [],
   "source": [
    "t = torch.rand(100)\n",
    "t[t<.5] = np.nan\n",
    "test_ne(t, t)\n",
    "test_eq_nan(t, t)"
   ]
  },
  {
   "cell_type": "code",
   "execution_count": null,
   "metadata": {},
   "outputs": [],
   "source": [
    "#export\n",
    "def stack(o, axis=0, retain=True):\n",
    "    if hasattr(o, '__array__'): return o\n",
    "    if isinstance(o[0], torch.Tensor):\n",
    "        return retain_type(torch.stack(tuple(o), dim=axis),  o[0]) if retain else torch.stack(tuple(o), dim=axis)\n",
    "    else:\n",
    "        return retain_type(np.stack(o, axis), o[0]) if retain else np.stack(o, axis)\n",
    "    \n",
    "    \n",
    "def stack_pad(o, padding_value=np.nan):\n",
    "    'Converts a an iterable into a numpy array using padding if necessary'\n",
    "    if not is_listy(o) or not is_array(o):\n",
    "        if not hasattr(o, \"ndim\"): o = np.asarray([o])\n",
    "        else: o = np.asarray(o)\n",
    "    o_ndim = 1\n",
    "    if o.ndim > 1:\n",
    "        o_ndim = o.ndim\n",
    "        o_shape = o.shape\n",
    "        o = o.flatten()\n",
    "    o = [oi if (is_array(oi) and oi.ndim > 0) or is_listy(oi) else [oi] for oi in o]\n",
    "    row_length = len(max(o, key=len))\n",
    "    result = np.full((len(o), row_length), padding_value)\n",
    "    for i,row in enumerate(o):\n",
    "        result[i, :len(row)] = row\n",
    "    if o_ndim > 1:\n",
    "        if row_length == 1:\n",
    "            result = result.reshape(*o_shape)\n",
    "        else:\n",
    "            result = result.reshape(*o_shape, row_length)\n",
    "    return result"
   ]
  },
  {
   "cell_type": "code",
   "execution_count": null,
   "metadata": {},
   "outputs": [
    {
     "name": "stderr",
     "output_type": "stream",
     "text": [
      "/Users/nacho/opt/anaconda3/envs/py37torch110/lib/python3.7/site-packages/ipykernel_launcher.py:13: VisibleDeprecationWarning: Creating an ndarray from ragged nested sequences (which is a list-or-tuple of lists-or-tuples-or ndarrays with different lengths or shapes) is deprecated. If you meant to do this, you must specify 'dtype=object' when creating the ndarray.\n",
      "  del sys.path[0]\n"
     ]
    }
   ],
   "source": [
    "o = [[0,1,2], [4,5,6,7]]\n",
    "test_eq(stack_pad(o).shape, (1, 2, 4))\n",
    "test_eq(type(stack_pad(o)), np.ndarray)\n",
    "test_eq(np.isnan(stack_pad(o)).sum(), 1)"
   ]
  },
  {
   "cell_type": "code",
   "execution_count": null,
   "metadata": {},
   "outputs": [
    {
     "name": "stdout",
     "output_type": "stream",
     "text": [
      "[[3.]]\n",
      "[[4. 5.]]\n",
      "[[[ 0.  1.  2. nan]\n",
      "  [ 4.  5.  6.  7.]]]\n",
      "[[ 0. nan]\n",
      " [ 1.  2.]]\n",
      "[[[  0.  nan  nan  nan]\n",
      "  [ 10.  20.  nan  nan]\n",
      "  [100. 200. 300.  nan]]\n",
      "\n",
      " [[  0.   1.   2.   3.]\n",
      "  [ 10.  20.  nan  nan]\n",
      "  [100.  nan  nan  nan]]]\n",
      "[[ 0. nan]\n",
      " [10. 20.]]\n"
     ]
    },
    {
     "name": "stderr",
     "output_type": "stream",
     "text": [
      "/Users/nacho/opt/anaconda3/envs/py37torch110/lib/python3.7/site-packages/ipykernel_launcher.py:13: VisibleDeprecationWarning: Creating an ndarray from ragged nested sequences (which is a list-or-tuple of lists-or-tuples-or ndarrays with different lengths or shapes) is deprecated. If you meant to do this, you must specify 'dtype=object' when creating the ndarray.\n",
      "  del sys.path[0]\n"
     ]
    }
   ],
   "source": [
    "o = 3\n",
    "print(stack_pad(o))\n",
    "test_eq(stack_pad(o), np.array([[3.]]))\n",
    "o = [4,5]\n",
    "print(stack_pad(o))\n",
    "test_eq(stack_pad(o), np.array([[4., 5.]]))\n",
    "o = [[0,1,2], [4,5,6,7]]\n",
    "print(stack_pad(o))\n",
    "o = np.array([0, [1,2]], dtype=object)\n",
    "print(stack_pad(o))\n",
    "o = np.array([[[0], [10, 20], [100, 200, 300]], [[0, 1, 2, 3], [10, 20], [100]]], dtype=object)\n",
    "print(stack_pad(o))\n",
    "o = np.array([0, [10, 20]], dtype=object)\n",
    "print(stack_pad(o))"
   ]
  },
  {
   "cell_type": "code",
   "execution_count": null,
   "metadata": {},
   "outputs": [],
   "source": [
    "a = np.random.rand(2, 3, 4)\n",
    "t = torch.from_numpy(a)\n",
    "test_eq_type(stack(itemify(a, tup_id=0)), a)\n",
    "test_eq_type(stack(itemify(t, tup_id=0)), t)"
   ]
  },
  {
   "cell_type": "code",
   "execution_count": null,
   "metadata": {},
   "outputs": [],
   "source": [
    "#export\n",
    "def pad_sequences(\n",
    "    o, # Iterable object\n",
    "    maxlen:int=None, # Optional max length of the output. If None, max length of the longest individual sequence.\n",
    "    dtype:(str, type)=np.float64, # Type of the output sequences. To pad sequences with variable length strings, you can use object.\n",
    "    padding:str='pre', # 'pre' or 'post' pad either before or after each sequence.\n",
    "    truncating:str='pre', # 'pre' or 'post' remove values from sequences larger than maxlen, either at the beginning or at the end of the sequences.\n",
    "    padding_value:float=np.nan, # Value used for padding.\n",
    "):\n",
    "    \"Transforms an iterable with sequences into a 3d numpy array using padding or truncating sequences if necessary\"\n",
    "    \n",
    "    assert padding in ['pre', 'post']\n",
    "    assert truncating in ['pre', 'post']\n",
    "    assert is_iter(o)\n",
    "\n",
    "    if not is_array(o):\n",
    "        o = [to2darray(oi) for oi in o]\n",
    "    seq_len = maxlen or max(o, key=len).shape[-1]\n",
    "    result = np.full((len(o), o[0].shape[-2], seq_len), padding_value, dtype=dtype)\n",
    "    for i,values in enumerate(o):\n",
    "        if truncating == 'pre':\n",
    "            values = values[..., -seq_len:]\n",
    "        else:\n",
    "            values = values[..., :seq_len]\n",
    "        if padding == 'pre':\n",
    "            result[i, :, -values.shape[-1]:] = values\n",
    "        else:\n",
    "            result[i, :, :values.shape[-1]] = values        \n",
    "    return result"
   ]
  },
  {
   "cell_type": "markdown",
   "metadata": {},
   "source": [
    "This function transforms a list (of length n_samples) of sequences into a 3d numpy array of shape:\n",
    "\n",
    "```bash\n",
    "                          [n_samples x n_vars x seq_len]\n",
    "```\n",
    "\n",
    "seq_len is either the maxlen argument if provided, or the length of the longest sequence in the list.\n",
    "\n",
    "Sequences that are shorter than seq_len are padded with value until they are seq_len long.\n",
    "\n",
    "Sequences longer than seq_len are truncated so that they fit the desired length.\n",
    "\n",
    "The position where padding or truncation happens is determined by the arguments padding and truncating, respectively. Pre-padding or removing values from the beginning of the sequence is the default.\n",
    "\n",
    "Input sequences to pad_sequences may be have 1, 2 or 3 dimensions:"
   ]
  },
  {
   "cell_type": "code",
   "execution_count": null,
   "metadata": {},
   "outputs": [
    {
     "data": {
      "text/plain": [
       "array([[[  2.,   3.,   4.,   5.]],\n",
       "\n",
       "       [[  0.,  10.,  20.,  nan]],\n",
       "\n",
       "       [[  0., 100.,  nan,  nan]]])"
      ]
     },
     "execution_count": null,
     "metadata": {},
     "output_type": "execute_result"
    }
   ],
   "source": [
    "# 1 dim\n",
    "a1 = np.arange(6)\n",
    "a2 = np.arange(3) * 10\n",
    "a3 = np.arange(2) * 100\n",
    "o  = [a1, a2, a3]\n",
    "padded_o = pad_sequences(o, maxlen=4, dtype=np.float64, padding='post', truncating='pre', padding_value=np.nan)\n",
    "test_eq(padded_o.shape, (3, 1, 4))\n",
    "padded_o"
   ]
  },
  {
   "cell_type": "code",
   "execution_count": null,
   "metadata": {},
   "outputs": [
    {
     "data": {
      "text/plain": [
       "array([[[  2.,   3.,   4.,   5.],\n",
       "        [  8.,   9.,  10.,  11.]],\n",
       "\n",
       "       [[  0.,  10.,  20.,  nan],\n",
       "        [ 30.,  40.,  50.,  nan]],\n",
       "\n",
       "       [[  0., 100.,  nan,  nan],\n",
       "        [200., 300.,  nan,  nan]]])"
      ]
     },
     "execution_count": null,
     "metadata": {},
     "output_type": "execute_result"
    }
   ],
   "source": [
    "# 2 dim\n",
    "a1 = np.arange(12).reshape(2, 6)\n",
    "a2 = np.arange(6).reshape(2, 3) * 10\n",
    "a3 = np.arange(4).reshape(2, 2) * 100\n",
    "o  = [a1, a2, a3]\n",
    "padded_o = pad_sequences(o, maxlen=4, dtype=np.float64, padding='post', truncating='pre', padding_value=np.nan)\n",
    "test_eq(padded_o.shape, (3, 2, 4))\n",
    "padded_o"
   ]
  },
  {
   "cell_type": "code",
   "execution_count": null,
   "metadata": {},
   "outputs": [
    {
     "data": {
      "text/plain": [
       "array([[[  0.,   1.,   2.,   3.,   4.],\n",
       "        [  5.,   6.,   7.,   8.,   9.]],\n",
       "\n",
       "       [[ nan,  nan,   0.,  10.,  20.],\n",
       "        [ nan,  nan,  30.,  40.,  50.]],\n",
       "\n",
       "       [[ nan,  nan,  nan,   0., 100.],\n",
       "        [ nan,  nan,  nan, 200., 300.]]])"
      ]
     },
     "execution_count": null,
     "metadata": {},
     "output_type": "execute_result"
    }
   ],
   "source": [
    "# 3 dim\n",
    "a1 = np.arange(10).reshape(1, 2, 5)\n",
    "a2 = np.arange(6).reshape(1, 2, 3) * 10\n",
    "a3 = np.arange(4).reshape(1, 2, 2) * 100\n",
    "o  = [a1, a2, a3]\n",
    "padded_o = pad_sequences(o, maxlen=None, dtype=np.float64, padding='pre', truncating='pre', padding_value=np.nan)\n",
    "test_eq(padded_o.shape, (3, 2, 5))\n",
    "padded_o"
   ]
  },
  {
   "cell_type": "code",
   "execution_count": null,
   "metadata": {},
   "outputs": [
    {
     "data": {
      "text/plain": [
       "array([[[  1.,   2.,   3.,   4.],\n",
       "        [  6.,   7.,   8.,   9.]],\n",
       "\n",
       "       [[ nan,   0.,  10.,  20.],\n",
       "        [ nan,  30.,  40.,  50.]],\n",
       "\n",
       "       [[ nan,  nan,   0., 100.],\n",
       "        [ nan,  nan, 200., 300.]]])"
      ]
     },
     "execution_count": null,
     "metadata": {},
     "output_type": "execute_result"
    }
   ],
   "source": [
    "# 3 dim\n",
    "a1 = np.arange(10).reshape(1, 2, 5)\n",
    "a2 = np.arange(6).reshape(1, 2, 3) * 10\n",
    "a3 = np.arange(4).reshape(1, 2, 2) * 100\n",
    "o  = [a1, a2, a3]\n",
    "padded_o = pad_sequences(o, maxlen=4, dtype=np.float64, padding='pre', truncating='pre', padding_value=np.nan)\n",
    "test_eq(padded_o.shape, (3, 2, 4))\n",
    "padded_o"
   ]
  },
  {
   "cell_type": "code",
   "execution_count": null,
   "metadata": {},
   "outputs": [
    {
     "data": {
      "text/plain": [
       "array([[[  1.,   2.,   3.,   4.],\n",
       "        [  6.,   7.,   8.,   9.]],\n",
       "\n",
       "       [[  0.,  10.,  20.,  nan],\n",
       "        [ 30.,  40.,  50.,  nan]],\n",
       "\n",
       "       [[  0., 100.,  nan,  nan],\n",
       "        [200., 300.,  nan,  nan]]])"
      ]
     },
     "execution_count": null,
     "metadata": {},
     "output_type": "execute_result"
    }
   ],
   "source": [
    "# 3 dim\n",
    "a1 = np.arange(10).reshape(1, 2, 5)\n",
    "a2 = np.arange(6).reshape(1, 2, 3) * 10\n",
    "a3 = np.arange(4).reshape(1, 2, 2) * 100\n",
    "o  = [a1, a2, a3]\n",
    "padded_o = pad_sequences(o, maxlen=4, dtype=np.float64, padding='post', truncating='pre', padding_value=np.nan)\n",
    "test_eq(padded_o.shape, (3, 2, 4))\n",
    "padded_o"
   ]
  },
  {
   "cell_type": "code",
   "execution_count": null,
   "metadata": {},
   "outputs": [
    {
     "data": {
      "text/plain": [
       "array([[[  0.,   1.,   2.,   3.],\n",
       "        [  5.,   6.,   7.,   8.]],\n",
       "\n",
       "       [[  0.,  10.,  20.,  nan],\n",
       "        [ 30.,  40.,  50.,  nan]],\n",
       "\n",
       "       [[  0., 100.,  nan,  nan],\n",
       "        [200., 300.,  nan,  nan]]])"
      ]
     },
     "execution_count": null,
     "metadata": {},
     "output_type": "execute_result"
    }
   ],
   "source": [
    "# 3 dim\n",
    "a1 = np.arange(10).reshape(1, 2, 5)\n",
    "a2 = np.arange(6).reshape(1, 2, 3) * 10\n",
    "a3 = np.arange(4).reshape(1, 2, 2) * 100\n",
    "o  = [a1, a2, a3]\n",
    "padded_o = pad_sequences(o, maxlen=4, dtype=np.float64, padding='post', truncating='post', padding_value=np.nan)\n",
    "test_eq(padded_o.shape, (3, 2, 4))\n",
    "padded_o"
   ]
  },
  {
   "cell_type": "code",
   "execution_count": null,
   "metadata": {},
   "outputs": [
    {
     "data": {
      "text/plain": [
       "array([[[  0.,   1.,   2.,   3.,   4.,   5.],\n",
       "        [  6.,   7.,   8.,   9.,  10.,  11.]],\n",
       "\n",
       "       [[  0.,  10.,  20.,  nan,  nan,  nan],\n",
       "        [ 30.,  40.,  50.,  nan,  nan,  nan]],\n",
       "\n",
       "       [[  0., 100.,  nan,  nan,  nan,  nan],\n",
       "        [200., 300.,  nan,  nan,  nan,  nan]]])"
      ]
     },
     "execution_count": null,
     "metadata": {},
     "output_type": "execute_result"
    }
   ],
   "source": [
    "# iterable is a list of lists\n",
    "a1 = np.arange(12).reshape(1, 2, 6).tolist()\n",
    "a2 = (np.arange(6).reshape(1, 2, 3) * 10).tolist()\n",
    "a3 = (np.arange(4).reshape(1, 2, 2) * 100).tolist()\n",
    "o  = [a1, a2, a3]\n",
    "padded_o = pad_sequences(o, maxlen=None, dtype=np.float64, padding='post', truncating='pre', padding_value=np.nan)\n",
    "test_eq(padded_o.shape, (3, 2, 6))\n",
    "padded_o"
   ]
  },
  {
   "cell_type": "code",
   "execution_count": null,
   "metadata": {},
   "outputs": [],
   "source": [
    "#export\n",
    "def match_seq_len(*arrays):\n",
    "    max_len = stack([x.shape[-1] for x in arrays]).max()\n",
    "    return [np.pad(x, pad_width=((0,0), (0,0), (max_len - x.shape[-1], 0)), mode='constant', constant_values=0) for x in arrays]"
   ]
  },
  {
   "cell_type": "code",
   "execution_count": null,
   "metadata": {},
   "outputs": [],
   "source": [
    "a = np.random.rand(10, 5, 8)\n",
    "b = np.random.rand(3, 5, 10)\n",
    "c, d = match_seq_len(a, b)\n",
    "test_eq(c.shape[-1], d.shape[-1])"
   ]
  },
  {
   "cell_type": "code",
   "execution_count": null,
   "metadata": {},
   "outputs": [],
   "source": [
    "#export\n",
    "def random_shuffle(o, random_state=None):\n",
    "    import sklearn\n",
    "    res = sklearn.utils.shuffle(o, random_state=random_state)\n",
    "    if isinstance(o, L): return L(list(res))\n",
    "    return res"
   ]
  },
  {
   "cell_type": "code",
   "execution_count": null,
   "metadata": {},
   "outputs": [],
   "source": [
    "a = np.arange(10)\n",
    "test_eq_type(random_shuffle(a, 1), np.array([2, 9, 6, 4, 0, 3, 1, 7, 8, 5]))\n",
    "t = torch.arange(10)\n",
    "test_eq_type(random_shuffle(t, 1), tensor([2, 9, 6, 4, 0, 3, 1, 7, 8, 5]))\n",
    "l = list(a)\n",
    "test_eq(random_shuffle(l, 1), [2, 9, 6, 4, 0, 3, 1, 7, 8, 5])\n",
    "l2 = L(l)\n",
    "test_eq_type(random_shuffle(l2, 1), L([2, 9, 6, 4, 0, 3, 1, 7, 8, 5]))"
   ]
  },
  {
   "cell_type": "code",
   "execution_count": null,
   "metadata": {},
   "outputs": [],
   "source": [
    "#export\n",
    "def cat2int(o):\n",
    "    from fastai.data.transforms import Categorize\n",
    "    from fastai.data.core import TfmdLists\n",
    "    cat = Categorize()\n",
    "    cat.setup(o)\n",
    "    return stack(TfmdLists(o, cat)[:])"
   ]
  },
  {
   "cell_type": "code",
   "execution_count": null,
   "metadata": {},
   "outputs": [],
   "source": [
    "a = np.array(['b', 'a', 'a', 'b', 'a', 'b', 'a'])\n",
    "test_eq_type(cat2int(a), TensorCategory([1, 0, 0, 1, 0, 1, 0]))"
   ]
  },
  {
   "cell_type": "code",
   "execution_count": null,
   "metadata": {},
   "outputs": [
    {
     "data": {
      "text/plain": [
       "TensorBase([1, 2, 3])"
      ]
     },
     "execution_count": null,
     "metadata": {},
     "output_type": "execute_result"
    }
   ],
   "source": [
    "TensorBase([1,2,3])"
   ]
  },
  {
   "cell_type": "code",
   "execution_count": null,
   "metadata": {},
   "outputs": [],
   "source": [
    "#export\n",
    "def cycle_dl(dl, show_progress_bar=True):\n",
    "    try:\n",
    "        if show_progress_bar:\n",
    "            for _ in progress_bar(dl): _\n",
    "        else:\n",
    "            for _ in dl: _\n",
    "    except KeyboardInterrupt:\n",
    "        pass\n",
    "\n",
    "        \n",
    "def cycle_dl_to_device(dl, show_progress_bar=True):\n",
    "    try:\n",
    "        if show_progress_bar: \n",
    "            for bs in progress_bar(dl): [b.to(default_device()) for b in bs]\n",
    "        else:\n",
    "            for bs in dl: [b.to(default_device()) for b in bs]\n",
    "    except KeyboardInterrupt:\n",
    "        pass\n",
    "        \n",
    "def cycle_dl_estimate(dl, iters=10):\n",
    "    iters = min(iters, len(dl))\n",
    "    iterator = iter(dl)\n",
    "    timer.start(False)\n",
    "    try:\n",
    "        for _ in range(iters): next(iterator)\n",
    "    except KeyboardInterrupt:\n",
    "        pass\n",
    "    t = timer.stop()\n",
    "    return (t/iters * len(dl)).total_seconds()"
   ]
  },
  {
   "cell_type": "code",
   "execution_count": null,
   "metadata": {},
   "outputs": [],
   "source": [
    "#export\n",
    "def cache_data(o, slice_len=10_000, verbose=False):\n",
    "    start = 0\n",
    "    n_loops = (len(o) - 1) // slice_len + 1\n",
    "    pv(f'{n_loops} loops', verbose)\n",
    "    timer.start(False)\n",
    "    for i in range(n_loops):\n",
    "        o[slice(start,start + slice_len)]        \n",
    "        if verbose and (i+1) % 10 == 0: print(f'{i+1:4} elapsed time: {timer.elapsed()}')\n",
    "        start += slice_len\n",
    "    pv(f'{i+1:4} total time  : {timer.stop()}\\n', verbose)\n",
    "    \n",
    "memmap2cache =  cache_data\n",
    "cache_memmap = cache_data"
   ]
  },
  {
   "cell_type": "code",
   "execution_count": null,
   "metadata": {},
   "outputs": [],
   "source": [
    "#export\n",
    "def get_func_defaults(f): \n",
    "    import inspect\n",
    "    fa = inspect.getfullargspec(f)\n",
    "    if fa.defaults is None: return dict(zip(fa.args, [''] * (len(fa.args))))\n",
    "    else: return dict(zip(fa.args, [''] * (len(fa.args) - len(fa.defaults)) + list(fa.defaults)))"
   ]
  },
  {
   "cell_type": "code",
   "execution_count": null,
   "metadata": {},
   "outputs": [],
   "source": [
    "#export\n",
    "def get_idx_from_df_col_vals(df, col, val_list):\n",
    "    return [df[df[col] == val].index[0] for val in val_list]"
   ]
  },
  {
   "cell_type": "code",
   "execution_count": null,
   "metadata": {},
   "outputs": [],
   "source": [
    "#export\n",
    "def get_sublist_idxs(aList, bList):\n",
    "    \"Get idxs that when applied to aList will return bList. aList must contain all values in bList\"\n",
    "    sorted_aList = aList[np.argsort(aList)]\n",
    "    return np.argsort(aList)[np.searchsorted(sorted_aList, bList)]"
   ]
  },
  {
   "cell_type": "code",
   "execution_count": null,
   "metadata": {},
   "outputs": [],
   "source": [
    "x = np.array([3, 5, 7, 1, 9, 8, 6, 2])\n",
    "y = np.array([6, 1, 5, 7])\n",
    "idx = get_sublist_idxs(x, y)\n",
    "test_eq(x[idx], y)\n",
    "x = np.array([3, 5, 7, 1, 9, 8, 6, 6, 2])\n",
    "y = np.array([6, 1, 5, 7, 5])\n",
    "idx = get_sublist_idxs(x, y)\n",
    "test_eq(x[idx], y)"
   ]
  },
  {
   "cell_type": "code",
   "execution_count": null,
   "metadata": {},
   "outputs": [],
   "source": [
    "#export\n",
    "def flatten_list(l):\n",
    "    return [item for sublist in l for item in sublist]"
   ]
  },
  {
   "cell_type": "code",
   "execution_count": null,
   "metadata": {},
   "outputs": [],
   "source": [
    "#export\n",
    "def display_pd_df(df, max_rows:Union[bool, int]=False, max_columns:Union[bool, int]=False):\n",
    "    if max_rows:\n",
    "        old_max_rows = pd.get_option('display.max_rows')\n",
    "        if max_rows is not True and isinstance(max_rows, Integral): pd.set_option('display.max_rows', max_rows)\n",
    "        else: pd.set_option('display.max_rows', df.shape[0])\n",
    "    if max_columns:\n",
    "        old_max_columns = pd.get_option('display.max_columns')\n",
    "        if max_columns is not True and isinstance(max_columns, Integral): pd.set_option('display.max_columns', max_columns)\n",
    "        else: pd.set_option('display.max_columns', df.shape[1])\n",
    "    display(df)\n",
    "    if max_rows: pd.set_option('display.max_rows', old_max_rows)\n",
    "    if max_columns: pd.set_option('display.max_columns', old_max_columns)"
   ]
  },
  {
   "cell_type": "code",
   "execution_count": null,
   "metadata": {},
   "outputs": [
    {
     "data": {
      "text/html": [
       "<div>\n",
       "<style scoped>\n",
       "    .dataframe tbody tr th:only-of-type {\n",
       "        vertical-align: middle;\n",
       "    }\n",
       "\n",
       "    .dataframe tbody tr th {\n",
       "        vertical-align: top;\n",
       "    }\n",
       "\n",
       "    .dataframe thead th {\n",
       "        text-align: right;\n",
       "    }\n",
       "</style>\n",
       "<table border=\"1\" class=\"dataframe\">\n",
       "  <thead>\n",
       "    <tr style=\"text-align: right;\">\n",
       "      <th></th>\n",
       "      <th>0</th>\n",
       "      <th>...</th>\n",
       "      <th>24</th>\n",
       "    </tr>\n",
       "  </thead>\n",
       "  <tbody>\n",
       "    <tr>\n",
       "      <th>0</th>\n",
       "      <td>0.372317</td>\n",
       "      <td>...</td>\n",
       "      <td>0.631153</td>\n",
       "    </tr>\n",
       "    <tr>\n",
       "      <th>...</th>\n",
       "      <td>...</td>\n",
       "      <td>...</td>\n",
       "      <td>...</td>\n",
       "    </tr>\n",
       "    <tr>\n",
       "      <th>69</th>\n",
       "      <td>0.937259</td>\n",
       "      <td>...</td>\n",
       "      <td>0.801330</td>\n",
       "    </tr>\n",
       "  </tbody>\n",
       "</table>\n",
       "<p>70 rows × 25 columns</p>\n",
       "</div>"
      ],
      "text/plain": [
       "          0   ...        24\n",
       "0   0.372317  ...  0.631153\n",
       "..       ...  ...       ...\n",
       "69  0.937259  ...  0.801330\n",
       "\n",
       "[70 rows x 25 columns]"
      ]
     },
     "metadata": {},
     "output_type": "display_data"
    }
   ],
   "source": [
    "old_max_rows, old_max_columns = pd.get_option('display.max_rows'), pd.get_option('display.max_columns')\n",
    "df = pd.DataFrame(np.random.rand(70, 25))\n",
    "display_pd_df(df, max_rows=2, max_columns=3)\n",
    "test_eq(old_max_rows, pd.get_option('display.max_rows'))\n",
    "test_eq(old_max_columns, pd.get_option('display.max_columns'))"
   ]
  },
  {
   "cell_type": "code",
   "execution_count": null,
   "metadata": {},
   "outputs": [],
   "source": [
    "#export\n",
    "def ttest(data1, data2, equal_var=False):\n",
    "    \"Calculates t-statistic and p-value based on 2 sample distributions\"\n",
    "    t_stat, p_value = ttest_ind(data1, data2, equal_var=equal_var)\n",
    "    return t_stat, np.sign(t_stat) * p_value\n",
    "\n",
    "def kstest(data1, data2, alternative='two-sided', mode='auto', by_axis=None):\n",
    "    \"\"\"Performs the two-sample Kolmogorov-Smirnov test for goodness of fit.\n",
    "    \n",
    "    Parameters\n",
    "    data1, data2: Two arrays of sample observations assumed to be drawn from a continuous distributions. Sample sizes can be different.\n",
    "    alternative: {‘two-sided’, ‘less’, ‘greater’}, optional. Defines the null and alternative hypotheses. Default is ‘two-sided’. \n",
    "    mode: {‘auto’, ‘exact’, ‘asymp’}, optional. Defines the method used for calculating the p-value. \n",
    "    by_axis (optional, int): for arrays with more than 1 dimension, the test will be run for each variable in that axis if by_axis is not None.\n",
    "    \"\"\"\n",
    "    if by_axis is None:\n",
    "        stat, p_value = ks_2samp(data1.flatten(), data2.flatten(), alternative=alternative, mode=mode)\n",
    "        return stat, np.sign(stat) * p_value\n",
    "    else:\n",
    "        assert data1.shape[by_axis] == data2.shape[by_axis], f\"both arrays must have the same size along axis {by_axis}\"\n",
    "        stats, p_values = [], []\n",
    "        for i in range(data1.shape[by_axis]):\n",
    "            d1 = np.take(data1, indices=i, axis=by_axis)\n",
    "            d2 = np.take(data2, indices=i, axis=by_axis)\n",
    "            stat, p_value = ks_2samp(d1.flatten(), d2.flatten(), alternative=alternative, mode=mode)\n",
    "            stats.append(stat) \n",
    "            p_values.append(np.sign(stat) * p_value)\n",
    "        return stats, p_values  \n",
    "        \n",
    "\n",
    "def tscore(o): \n",
    "    if o.std() == 0: return 0\n",
    "    else: return np.sqrt(len(o)) * o.mean() / o.std()"
   ]
  },
  {
   "cell_type": "code",
   "execution_count": null,
   "metadata": {},
   "outputs": [
    {
     "data": {
      "image/png": "[encoded data removed]",
      "text/plain": [
       "<Figure size 432x288 with 1 Axes>"
      ]
     },
     "metadata": {
      "needs_background": "light"
     },
     "output_type": "display_data"
    },
    {
     "data": {
      "text/plain": [
       "(2.898275642196504, 0.004327466826415265)"
      ]
     },
     "execution_count": null,
     "metadata": {},
     "output_type": "execute_result"
    }
   ],
   "source": [
    "a = np.random.normal(0.5, 1, 100)\n",
    "b = np.random.normal(0.15, .5, 50)\n",
    "plt.hist(a, 50)\n",
    "plt.hist(b, 50)\n",
    "plt.show()\n",
    "ttest(a,b)"
   ]
  },
  {
   "cell_type": "code",
   "execution_count": null,
   "metadata": {},
   "outputs": [
    {
     "data": {
      "text/plain": [
       "(0.13333333333333333, 0.4068699278729948)"
      ]
     },
     "execution_count": null,
     "metadata": {},
     "output_type": "execute_result"
    }
   ],
   "source": [
    "a = np.random.normal(0.5, 1, (100,3))\n",
    "b = np.random.normal(0.5, 1, (50,))\n",
    "kstest(a,b)"
   ]
  },
  {
   "cell_type": "code",
   "execution_count": null,
   "metadata": {},
   "outputs": [
    {
     "data": {
      "text/plain": [
       "(0.36333333333333334, 1.59766620329016e-05)"
      ]
     },
     "execution_count": null,
     "metadata": {},
     "output_type": "execute_result"
    }
   ],
   "source": [
    "a = np.random.normal(0.5, 1, (100,3))\n",
    "b = np.random.normal(0.15, .5, (50,))\n",
    "kstest(a,b)"
   ]
  },
  {
   "cell_type": "code",
   "execution_count": null,
   "metadata": {},
   "outputs": [
    {
     "data": {
      "text/plain": [
       "([0.19, 0.20666666666666667, 0.20333333333333334, 0.19666666666666666, 0.19],\n",
       " [3.7746802141706127e-05,\n",
       "  5.0749555303276145e-06,\n",
       "  7.686752727943917e-06,\n",
       "  1.727127220822253e-05,\n",
       "  3.7746802141706127e-05])"
      ]
     },
     "execution_count": null,
     "metadata": {},
     "output_type": "execute_result"
    }
   ],
   "source": [
    "data1 = np.random.normal(0,1,(100, 5, 3))\n",
    "data2 = np.random.normal(0,2,(100, 5, 3))\n",
    "kstest(data1, data2, by_axis=1)"
   ]
  },
  {
   "cell_type": "code",
   "execution_count": null,
   "metadata": {},
   "outputs": [
    {
     "data": {
      "text/plain": [
       "(5.526223578225063, tensor(3.6844))"
      ]
     },
     "execution_count": null,
     "metadata": {},
     "output_type": "execute_result"
    }
   ],
   "source": [
    "a = np.random.normal(0.5, 1, 100)\n",
    "t = torch.normal(0.5, 1, (100, ))\n",
    "tscore(a), tscore(t)"
   ]
  },
  {
   "cell_type": "code",
   "execution_count": null,
   "metadata": {},
   "outputs": [],
   "source": [
    "#export\n",
    "def ttest_tensor(a, b):\n",
    "    \"differentiable pytorch function equivalent to scipy.stats.ttest_ind with equal_var=False\"\n",
    "    # calculate standard errors\n",
    "    se1, se2 = torch.std(a)/np.sqrt(len(a)), torch.std(b)/np.sqrt(len(b))\n",
    "    # standard error on the difference between the samples\n",
    "    sed = torch.sqrt(se1**2.0 + se2**2.0)\n",
    "    # calculate the t statistic\n",
    "    t_stat = (torch.mean(a) - torch.mean(b)) / sed\n",
    "    return t_stat"
   ]
  },
  {
   "cell_type": "code",
   "execution_count": null,
   "metadata": {},
   "outputs": [
    {
     "data": {
      "text/plain": [
       "tensor(3.1645, grad_fn=<DivBackward0>)"
      ]
     },
     "execution_count": null,
     "metadata": {},
     "output_type": "execute_result"
    }
   ],
   "source": [
    "a = torch.rand(100).requires_grad_(True) + .1\n",
    "b = torch.rand(100).requires_grad_(True)\n",
    "ttest_tensor(a, b)"
   ]
  },
  {
   "cell_type": "code",
   "execution_count": null,
   "metadata": {},
   "outputs": [
    {
     "data": {
      "text/plain": [
       "(-0.03971704705658001, -0.057941794179417944)"
      ]
     },
     "execution_count": null,
     "metadata": {},
     "output_type": "execute_result"
    }
   ],
   "source": [
    "#export\n",
    "def pcc(a, b):\n",
    "    return pearsonr(a, b)[0]\n",
    "\n",
    "def scc(a, b):\n",
    "    return spearmanr(a, b)[0]\n",
    "\n",
    "a = np.random.normal(0.5, 1, 100)\n",
    "b = np.random.normal(0.15, .5, 100)\n",
    "pcc(a, b), scc(a, b)"
   ]
  },
  {
   "cell_type": "code",
   "execution_count": null,
   "metadata": {},
   "outputs": [],
   "source": [
    "#export\n",
    "def remove_fn(fn, verbose=False):\n",
    "    \"Removes a file (fn) if exists\"\n",
    "    try: \n",
    "        os.remove(fn)\n",
    "        pv(f'{fn} file removed', verbose)\n",
    "    except OSError: \n",
    "        pv(f'{fn} does not exist', verbose)\n",
    "        pass"
   ]
  },
  {
   "cell_type": "code",
   "execution_count": null,
   "metadata": {},
   "outputs": [],
   "source": [
    "#export\n",
    "def npsave(array_fn, array, verbose=True):\n",
    "    remove_fn(array_fn, verbose)\n",
    "    pv(f'saving {array_fn}...', verbose)\n",
    "    np.save(array_fn, array)\n",
    "    pv(f'...{array_fn} saved', verbose)\n",
    "    \n",
    "np_save = npsave"
   ]
  },
  {
   "cell_type": "code",
   "execution_count": null,
   "metadata": {},
   "outputs": [
    {
     "name": "stdout",
     "output_type": "stream",
     "text": [
      "data/remove_fn_test.npy does not exist\n",
      "saving data/remove_fn_test.npy...\n",
      "...data/remove_fn_test.npy saved\n",
      "data/remove_fn_test.npy file removed\n",
      "data/remove_fn_test.npy does not exist\n"
     ]
    }
   ],
   "source": [
    "fn = 'data/remove_fn_test.npy'\n",
    "a = np.zeros(1)\n",
    "npsave(fn, a)\n",
    "del a\n",
    "np.load(fn, mmap_mode='r+')\n",
    "remove_fn(fn, True)\n",
    "remove_fn(fn, True)"
   ]
  },
  {
   "cell_type": "code",
   "execution_count": null,
   "metadata": {},
   "outputs": [],
   "source": [
    "#export\n",
    "def permute_2D(array, axis=None):\n",
    "    \"Permute rows or columns in an array. This can be used, for example, in feature permutation\"\n",
    "    if axis == 0: return array[np.random.randn(*array.shape).argsort(axis=0), np.arange(array.shape[-1])[None, :]] \n",
    "    elif axis == 1 or axis == -1: return array[np.arange(len(array))[:,None], np.random.randn(*array.shape).argsort(axis=1)] \n",
    "    return array[np.random.randn(*array.shape).argsort(axis=0), np.random.randn(*array.shape).argsort(axis=1)] "
   ]
  },
  {
   "cell_type": "code",
   "execution_count": null,
   "metadata": {},
   "outputs": [],
   "source": [
    "s = np.arange(100 * 50).reshape(100, 50) \n",
    "test_eq(permute_2D(s, axis=0).mean(0), s.mean(0))\n",
    "test_ne(permute_2D(s, axis=0), s)\n",
    "test_eq(permute_2D(s, axis=1).mean(1), s.mean(1))\n",
    "test_ne(permute_2D(s, axis=1), s)\n",
    "test_ne(permute_2D(s), s)"
   ]
  },
  {
   "cell_type": "code",
   "execution_count": null,
   "metadata": {},
   "outputs": [],
   "source": [
    "#export\n",
    "def random_normal():\n",
    "    \"Returns a number between -1 and 1 with a normal distribution\"\n",
    "    while True:\n",
    "        o = np.random.normal(loc=0., scale=1/3)\n",
    "        if abs(o) <= 1: break\n",
    "    return o\n",
    "\n",
    "def random_half_normal():\n",
    "    \"Returns a number between 0 and 1 with a half-normal distribution\"\n",
    "    while True:\n",
    "        o = abs(np.random.normal(loc=0., scale=1/3))\n",
    "        if o <= 1: break\n",
    "    return o\n",
    "\n",
    "def random_normal_tensor(shape=1, device=None):\n",
    "    \"Returns a tensor of a predefined shape between -1 and 1 with a normal distribution\"\n",
    "    return torch.empty(shape, device=device).normal_(mean=0, std=1/3).clamp_(-1, 1)\n",
    "\n",
    "def random_half_normal_tensor(shape=1, device=None):\n",
    "    \"Returns a tensor of a predefined shape between 0 and 1 with a half-normal distribution\"\n",
    "    return abs(torch.empty(shape, device=device).normal_(mean=0, std=1/3)).clamp_(0, 1)"
   ]
  },
  {
   "cell_type": "code",
   "execution_count": null,
   "metadata": {},
   "outputs": [],
   "source": [
    "#export\n",
    "from matplotlib.backends.backend_agg import FigureCanvasAgg\n",
    "\n",
    "def default_dpi():\n",
    "    DPI = plt.gcf().get_dpi()\n",
    "    plt.close()\n",
    "    return int(DPI)\n",
    "\n",
    "def get_plot_fig(size=None, dpi=default_dpi()):\n",
    "    fig = plt.figure(figsize=(size / dpi, size / dpi), dpi=dpi, frameon=False) if size else plt.figure()\n",
    "    ax = fig.add_axes([0,0,1,1])\n",
    "    ax.spines['top'].set_visible(False)\n",
    "    ax.spines['right'].set_visible(False)\n",
    "    ax.spines['bottom'].set_visible(False)\n",
    "    ax.spines['left'].set_visible(False)\n",
    "    ax.get_xaxis().set_visible(False)\n",
    "    ax.get_yaxis().set_visible(False)\n",
    "    config = plt.gcf()\n",
    "    plt.close('all')\n",
    "    return config\n",
    "\n",
    "def fig2buf(fig):\n",
    "    canvas = FigureCanvasAgg(fig)\n",
    "    fig.canvas.draw()\n",
    "    return np.asarray(canvas.buffer_rgba())[..., :3]"
   ]
  },
  {
   "cell_type": "code",
   "execution_count": null,
   "metadata": {},
   "outputs": [
    {
     "data": {
      "text/plain": [
       "72"
      ]
     },
     "execution_count": null,
     "metadata": {},
     "output_type": "execute_result"
    }
   ],
   "source": [
    "default_dpi()"
   ]
  },
  {
   "cell_type": "code",
   "execution_count": null,
   "metadata": {},
   "outputs": [],
   "source": [
    "#export\n",
    "def plot_scatter(x, y, deg=1):\n",
    "    linreg = linregress(x, y)\n",
    "    plt.scatter(x, y, label=f'R2:{linreg.rvalue:.2f}', color='lime', edgecolor='black', alpha=.5)\n",
    "    plt.plot(np.unique(x), np.poly1d(np.polyfit(x, y, deg))(np.unique(x)), color='r')\n",
    "    plt.legend(loc='best')\n",
    "    plt.show()"
   ]
  },
  {
   "cell_type": "code",
   "execution_count": null,
   "metadata": {},
   "outputs": [
    {
     "data": {
      "image/png": "[encoded data removed]",
      "text/plain": [
       "<Figure size 432x288 with 1 Axes>"
      ]
     },
     "metadata": {
      "needs_background": "light"
     },
     "output_type": "display_data"
    }
   ],
   "source": [
    "a = np.random.rand(100)\n",
    "b = np.random.rand(100)**2\n",
    "plot_scatter(a, b)"
   ]
  },
  {
   "cell_type": "code",
   "execution_count": null,
   "metadata": {},
   "outputs": [],
   "source": [
    "#export\n",
    "def get_idxs(o, aList): return array([o.tolist().index(v) for v in aList])"
   ]
  },
  {
   "cell_type": "code",
   "execution_count": null,
   "metadata": {},
   "outputs": [],
   "source": [
    "a = random_shuffle(np.arange(100, 200))\n",
    "b = np.random.choice(a, 10, False)\n",
    "idxs = get_idxs(a, b)\n",
    "test_eq(a[idxs], b)"
   ]
  },
  {
   "cell_type": "code",
   "execution_count": null,
   "metadata": {},
   "outputs": [],
   "source": [
    "#export\n",
    "def apply_cmap(o, cmap):\n",
    "    o = toarray(o)\n",
    "    out = plt.get_cmap(cmap)(o)[..., :3]\n",
    "    out = tensor(out).squeeze(1)\n",
    "    return out.permute(0, 3, 1, 2)"
   ]
  },
  {
   "cell_type": "code",
   "execution_count": null,
   "metadata": {},
   "outputs": [],
   "source": [
    "a = np.random.rand(16, 1, 40, 50)\n",
    "s = L(a.shape)\n",
    "s[1] = 3\n",
    "test_eq(L(apply_cmap(a, 'viridis').shape), s)\n",
    "\n",
    "s[0] = 1\n",
    "a = np.random.rand(1, 40, 50)\n",
    "test_eq(L(apply_cmap(a, 'viridis').shape), s)"
   ]
  },
  {
   "cell_type": "code",
   "execution_count": null,
   "metadata": {},
   "outputs": [],
   "source": [
    "#export\n",
    "def torch_tile(a, n_tile, dim=0):\n",
    "    if ismin_torch(\"1.10\") and dim == 0:\n",
    "        if isinstance(n_tile, tuple): \n",
    "            return torch.tile(a, n_tile)\n",
    "        return torch.tile(a, (n_tile,))\n",
    "    init_dim = a.size(dim)\n",
    "    repeat_idx = [1] * a.dim()\n",
    "    repeat_idx[dim] = n_tile\n",
    "    a = a.repeat(*(repeat_idx))\n",
    "    order_index = torch.cat([init_dim * torch.arange(n_tile) + i for i in range(init_dim)]).to(device=a.device)\n",
    "    return torch.index_select(a, dim, order_index)"
   ]
  },
  {
   "cell_type": "code",
   "execution_count": null,
   "metadata": {},
   "outputs": [],
   "source": [
    "test_eq(torch_tile(torch.arange(2), 3), tensor([0, 1, 0, 1, 0, 1]))"
   ]
  },
  {
   "cell_type": "code",
   "execution_count": null,
   "metadata": {},
   "outputs": [],
   "source": [
    "#export\n",
    "def to_tsfresh_df(ts):\n",
    "    r\"\"\"Prepares a time series (Tensor/ np.ndarray) to be used as a tsfresh dataset to allow feature extraction\"\"\"\n",
    "    ts = to3d(ts)\n",
    "    if isinstance(ts, np.ndarray):\n",
    "        ids = np.repeat(np.arange(len(ts)), ts.shape[-1]).reshape(-1,1)\n",
    "        joint_ts =  ts.transpose(0,2,1).reshape(-1, ts.shape[1])\n",
    "        cols = ['id'] + np.arange(ts.shape[1]).tolist()\n",
    "        df = pd.DataFrame(np.concatenate([ids, joint_ts], axis=1), columns=cols)\n",
    "    elif isinstance(ts, torch.Tensor):\n",
    "        ids = torch_tile(torch.arange(len(ts)), ts.shape[-1]).reshape(-1,1)\n",
    "        joint_ts =  ts.transpose(1,2).reshape(-1, ts.shape[1])\n",
    "        cols = ['id']+np.arange(ts.shape[1]).tolist()\n",
    "        df = pd.DataFrame(torch.cat([ids, joint_ts], dim=1).numpy(), columns=cols)\n",
    "    df['id'] = df['id'].astype(int)\n",
    "    df.reset_index(drop=True, inplace=True)\n",
    "    return df"
   ]
  },
  {
   "cell_type": "code",
   "execution_count": null,
   "metadata": {},
   "outputs": [],
   "source": [
    "ts = torch.rand(16, 3, 20)\n",
    "a = to_tsfresh_df(ts)\n",
    "ts = ts.numpy()\n",
    "b = to_tsfresh_df(ts)"
   ]
  },
  {
   "cell_type": "code",
   "execution_count": null,
   "metadata": {},
   "outputs": [],
   "source": [
    "#export\n",
    "def pcorr(a, b): \n",
    "    return pearsonr(a, b)\n",
    "\n",
    "def scorr(a, b): \n",
    "    corr = spearmanr(a, b)\n",
    "    return corr[0], corr[1]"
   ]
  },
  {
   "cell_type": "code",
   "execution_count": null,
   "metadata": {},
   "outputs": [],
   "source": [
    "#export\n",
    "def torch_diff(t, lag=1, pad=True, append=0):\n",
    "    import torch.nn.functional as F\n",
    "    diff = t[..., lag:] - t[..., :-lag]\n",
    "    if pad: \n",
    "        return F.pad(diff, (lag, append))\n",
    "    else: \n",
    "        return diff"
   ]
  },
  {
   "cell_type": "code",
   "execution_count": null,
   "metadata": {},
   "outputs": [],
   "source": [
    "t = torch.arange(24).reshape(2,3,4)\n",
    "test_eq(torch_diff(t, 1)[..., 1:].float().mean(), 1.)\n",
    "test_eq(torch_diff(t, 2)[..., 2:].float().mean(), 2.)"
   ]
  },
  {
   "cell_type": "code",
   "execution_count": null,
   "metadata": {},
   "outputs": [],
   "source": [
    "#export\n",
    "def get_outliers_IQR(o, axis=None, quantile_range=(25.0, 75.0)):\n",
    "    if isinstance(o, torch.Tensor):\n",
    "        Q1 = torch.nanquantile(o, quantile_range[0]/100, axis=axis, keepdims=axis is not None)\n",
    "        Q3 = torch.nanquantile(o, quantile_range[1]/100, axis=axis, keepdims=axis is not None)\n",
    "    else:\n",
    "        Q1 = np.nanpercentile(o, quantile_range[0], axis=axis, keepdims=axis is not None)\n",
    "        Q3 = np.nanpercentile(o, quantile_range[1], axis=axis, keepdims=axis is not None)\n",
    "    IQR = Q3 - Q1\n",
    "    return Q1 - 1.5 * IQR, Q3 + 1.5 * IQR\n",
    "\n",
    "def clip_outliers(o, axis=None):\n",
    "    min_outliers, max_outliers = get_outliers_IQR(o, axis=axis)\n",
    "    if isinstance(o, (np.ndarray, pd.core.series.Series)):\n",
    "        return np.clip(o, min_outliers, max_outliers)\n",
    "    elif isinstance(o, torch.Tensor):\n",
    "        return torch.clamp(o, min_outliers, max_outliers)\n",
    "\n",
    "def get_percentile(o, percentile, axis=None):\n",
    "    if isinstance(o, torch.Tensor): \n",
    "        return torch.nanquantile(o, percentile/100, axis=axis, keepdims=axis is not None)\n",
    "    else: \n",
    "        return np.nanpercentile(o, percentile, axis=axis, keepdims=axis is not None)\n",
    "\n",
    "def torch_clamp(o, min=None, max=None):\n",
    "    r\"\"\"Clamp torch.Tensor using 1 or multiple dimensions\"\"\"\n",
    "    if min is not None: o = torch.max(o, min)\n",
    "    if max is not None: o = torch.min(o, max)\n",
    "    return o"
   ]
  },
  {
   "cell_type": "code",
   "execution_count": null,
   "metadata": {},
   "outputs": [],
   "source": [
    "t = torch.randn(2,3,100)\n",
    "test_eq(type(get_outliers_IQR(t, -1)[0]), torch.Tensor)\n",
    "a = t.numpy()\n",
    "test_eq(type(get_outliers_IQR(a, -1)[0]), np.ndarray)\n",
    "test_close(get_percentile(t, 25).numpy(), get_percentile(a, 25))"
   ]
  },
  {
   "cell_type": "code",
   "execution_count": null,
   "metadata": {},
   "outputs": [],
   "source": [
    "#export\n",
    "def get_robustscale_params(o, by_var=True, percentiles=(25, 75), eps=1e-6):\n",
    "    assert o.ndim == 3\n",
    "    if by_var: \n",
    "        median = np.nanpercentile(o, 50, axis=(0,2), keepdims=True)\n",
    "        Q1 = np.nanpercentile(o, percentiles[0], axis=(0,2), keepdims=True)\n",
    "        Q3 = np.nanpercentile(o, percentiles[1], axis=(0,2), keepdims=True)\n",
    "        IQR = Q3 - Q1\n",
    "    else:\n",
    "        median = np.nanpercentile(o, .50)\n",
    "        Q1 = np.nanpercentile(o, percentiles[0])\n",
    "        Q3 = np.nanpercentile(o, percentiles[1])\n",
    "        IQR = Q3 - Q1\n",
    "    if eps is not None: IQR = np.maximum(IQR, eps)\n",
    "    return median, IQR"
   ]
  },
  {
   "cell_type": "code",
   "execution_count": null,
   "metadata": {},
   "outputs": [],
   "source": [
    "a = np.random.rand(16, 3, 100)\n",
    "a[a>.8] = np.nan\n",
    "median, IQR = get_robustscale_params(a, by_var=True, percentiles=(25, 75))\n",
    "a_scaled = (a - median) / IQR\n",
    "test_eq(a.shape, a_scaled.shape)\n",
    "test_eq(np.isnan(median).sum(),0)\n",
    "test_eq(np.isnan(IQR).sum(),0)\n",
    "test_eq(np.isnan(a), np.isnan(a_scaled))"
   ]
  },
  {
   "cell_type": "code",
   "execution_count": null,
   "metadata": {},
   "outputs": [],
   "source": [
    "#export\n",
    "def torch_slice_by_dim(t, index, dim=-1, **kwargs):\n",
    "    if not isinstance(index, torch.Tensor): index = torch.Tensor(index)\n",
    "    assert t.ndim == index.ndim, \"t and index must have the same ndim\"\n",
    "    index = index.long()\n",
    "    return torch.gather(t, dim, index, **kwargs)"
   ]
  },
  {
   "cell_type": "code",
   "execution_count": null,
   "metadata": {},
   "outputs": [
    {
     "data": {
      "text/plain": [
       "tensor([[0.5917],\n",
       "        [0.2177],\n",
       "        [0.9194],\n",
       "        [0.2101],\n",
       "        [0.4193]])"
      ]
     },
     "execution_count": null,
     "metadata": {},
     "output_type": "execute_result"
    }
   ],
   "source": [
    "t = torch.rand(5, 3)\n",
    "index = torch.randint(0, 3, (5, 1))\n",
    "# index = [[0, 2], [0, 1], [1, 2], [0, 2], [0, 1]]\n",
    "torch_slice_by_dim(t, index)"
   ]
  },
  {
   "cell_type": "code",
   "execution_count": null,
   "metadata": {},
   "outputs": [],
   "source": [
    "#export\n",
    "def torch_nanmean(o, dim=None, keepdim=False):\n",
    "    \"\"\"There's currently no torch.nanmean function\"\"\"\n",
    "    mask = torch.isnan(o)\n",
    "    if mask.any():\n",
    "        output = torch.from_numpy(np.asarray(np.nanmean(o.cpu().numpy(), axis=dim, keepdims=keepdim))).to(o.device)\n",
    "        if output.shape == mask.shape:\n",
    "            output[mask] = 0\n",
    "        return output\n",
    "    else:\n",
    "        return torch.mean(o, dim=dim, keepdim=keepdim) if dim is not None else torch.mean(o)\n",
    "\n",
    "\n",
    "def torch_nanstd(o, dim=None, keepdim=False):\n",
    "    \"\"\"There's currently no torch.nanstd function\"\"\"\n",
    "    mask = torch.isnan(o)\n",
    "    if mask.any():\n",
    "        output = torch.from_numpy(np.asarray(np.nanstd(o.cpu().numpy(), axis=dim, keepdims=keepdim))).to(o.device)\n",
    "        if output.shape == mask.shape:\n",
    "            output[mask] = 1\n",
    "        return output\n",
    "    else:\n",
    "        return torch.std(o, dim=dim, keepdim=keepdim) if dim is not None else torch.std(o)"
   ]
  },
  {
   "cell_type": "code",
   "execution_count": null,
   "metadata": {},
   "outputs": [],
   "source": [
    "t = torch.rand(1000)\n",
    "t[:100] = float('nan')\n",
    "assert torch_nanmean(t).item() > 0"
   ]
  },
  {
   "cell_type": "code",
   "execution_count": null,
   "metadata": {},
   "outputs": [],
   "source": [
    "#export\n",
    "def concat(*ls, dim=0):\n",
    "    \"Concatenate tensors, arrays, lists, or tuples by a dimension\"\n",
    "    if not len(ls): return []\n",
    "    it = ls[0]\n",
    "    if isinstance(it, torch.Tensor): return torch.cat(ls, dim=dim)\n",
    "    elif isinstance(it, np.ndarray): return np.concatenate(ls, axis=dim)\n",
    "    else:\n",
    "        res = np.concatenate(ls, axis=dim).tolist()\n",
    "        return retain_type(res, typ=type(it))"
   ]
  },
  {
   "cell_type": "code",
   "execution_count": null,
   "metadata": {},
   "outputs": [],
   "source": [
    "#export\n",
    "def reduce_memory_usage(df):\n",
    "    \n",
    "    start_memory = df.memory_usage().sum() / 1024**2\n",
    "    print(f\"Memory usage of dataframe is {start_memory} MB\")\n",
    "    \n",
    "    for col in df.columns:\n",
    "        col_type = df[col].dtype\n",
    "        \n",
    "        if col_type != 'object':\n",
    "            c_min = df[col].min()\n",
    "            c_max = df[col].max()\n",
    "            \n",
    "            if str(col_type)[:3] == 'int':\n",
    "                if c_min > np.iinfo(np.int8).min and c_max < np.iinfo(np.int8).max:\n",
    "                    df[col] = df[col].astype(np.int8)\n",
    "                elif c_min > np.iinfo(np.int16).min and c_max < np.iinfo(np.int16).max:\n",
    "                    df[col] = df[col].astype(np.int16)\n",
    "                elif c_min > np.iinfo(np.int32).min and c_max < np.iinfo(np.int32).max:\n",
    "                    df[col] = df[col].astype(np.int32)\n",
    "                elif c_min > np.iinfo(np.int64).min and c_max < np.iinfo(np.int64).max:\n",
    "                    df[col] = df[col].astype(np.int64)\n",
    "            \n",
    "            else:\n",
    "                if c_min > np.finfo(np.float16).min and c_max < np.finfo(np.float16).max:\n",
    "                    df[col] = df[col].astype(np.float16)\n",
    "                elif c_min > np.finfo(np.float32).min and c_max < np.finfo(np.float32).max:\n",
    "                    df[col] = df[col].astype(np.float32)\n",
    "                else:\n",
    "                    pass\n",
    "        else:\n",
    "            df[col] = df[col].astype('category')\n",
    "    \n",
    "    end_memory = df.memory_usage().sum() / 1024**2\n",
    "    print(f\"Memory usage of dataframe after reduction {end_memory} MB\")\n",
    "    print(f\"Reduced by {100 * (start_memory - end_memory) / start_memory} % \")\n",
    "    return df"
   ]
  },
  {
   "cell_type": "code",
   "execution_count": null,
   "metadata": {},
   "outputs": [],
   "source": [
    "#export\n",
    "def cls_name(o): return o.__class__.__name__"
   ]
  },
  {
   "cell_type": "code",
   "execution_count": null,
   "metadata": {},
   "outputs": [],
   "source": [
    "test_eq(cls_name(timer), 'Timer')"
   ]
  },
  {
   "cell_type": "code",
   "execution_count": null,
   "metadata": {},
   "outputs": [],
   "source": [
    "#export\n",
    "def roll2d(o, roll1: Union[None, list, int] = None, roll2: Union[None, list, int] = None):\n",
    "    \"\"\"Rolls a 2D object on the indicated axis\n",
    "    This solution is based on https://stackoverflow.com/questions/20360675/roll-rows-of-a-matrix-independently\n",
    "    \"\"\"\n",
    "    \n",
    "    assert o.ndim == 2, \"roll2D can only be applied to 2d objects\"\n",
    "    axis1, axis2 = np.ogrid[:o.shape[0], :o.shape[1]]\n",
    "    if roll1 is not None:\n",
    "        if isinstance(roll1, int): axis1 = axis1 - np.array(roll1).reshape(1,1)\n",
    "        else: axis1 = np.array(roll1).reshape(o.shape[0],1)\n",
    "    if roll2 is not None:\n",
    "        if isinstance(roll2, int):  axis2 = axis2 - np.array(roll2).reshape(1,1)\n",
    "        else: axis2 = np.array(roll2).reshape(1,o.shape[1])\n",
    "    return o[axis1, axis2]\n",
    "\n",
    "\n",
    "def roll3d(o, roll1: Union[None, list, int] = None, roll2: Union[None, list, int] = None, roll3: Union[None, list, int] = None):\n",
    "    \"\"\"Rolls a 3D object on the indicated axis\n",
    "    This solution is based on https://stackoverflow.com/questions/20360675/roll-rows-of-a-matrix-independently\n",
    "    \"\"\"\n",
    "    \n",
    "    assert o.ndim == 3, \"roll3D can only be applied to 3d objects\"\n",
    "    axis1, axis2, axis3 = np.ogrid[:o.shape[0], :o.shape[1], :o.shape[2]]\n",
    "    if roll1 is not None:\n",
    "        if isinstance(roll1, int): axis1 = axis1 - np.array(roll1).reshape(1,1,1)\n",
    "        else: axis1 = np.array(roll1).reshape(o.shape[0],1,1)\n",
    "    if roll2 is not None:\n",
    "        if isinstance(roll2, int):  axis2 = axis2 - np.array(roll2).reshape(1,1,1)\n",
    "        else: axis2 = np.array(roll2).reshape(1,o.shape[1],1)\n",
    "    if roll3 is not None:\n",
    "        if isinstance(roll3, int):  axis3 = axis3 - np.array(roll3).reshape(1,1,1)\n",
    "        else: axis3 = np.array(roll3).reshape(1,1,o.shape[2])\n",
    "    return o[axis1, axis2, axis3]\n",
    "\n",
    "\n",
    "def random_roll2d(o, axis=(), replace=False):\n",
    "    \"\"\"Rolls a 2D object on the indicated axis\n",
    "    This solution is based on https://stackoverflow.com/questions/20360675/roll-rows-of-a-matrix-independently\n",
    "    \"\"\"\n",
    "    \n",
    "    assert o.ndim == 2, \"roll2D can only be applied to 2d objects\"\n",
    "    axis1, axis2 = np.ogrid[:o.shape[0], :o.shape[1]]\n",
    "    if 0 in axis:\n",
    "        axis1 = np.random.choice(np.arange(o.shape[0]), o.shape[0], replace).reshape(-1, 1)\n",
    "    if 1 in axis:\n",
    "        axis2 = np.random.choice(np.arange(o.shape[1]), o.shape[1], replace).reshape(1, -1)\n",
    "    return o[axis1, axis2]\n",
    "\n",
    "\n",
    "def random_roll3d(o, axis=(), replace=False):\n",
    "    \"\"\"Randomly rolls a 3D object along the indicated axes\n",
    "    This solution is based on https://stackoverflow.com/questions/20360675/roll-rows-of-a-matrix-independently\n",
    "    \"\"\"\n",
    "    \n",
    "    assert o.ndim == 3, \"random_roll3d can only be applied to 3d objects\"\n",
    "    axis1, axis2, axis3 = np.ogrid[:o.shape[0], :o.shape[1], :o.shape[2]]\n",
    "    if 0 in axis:\n",
    "        axis1 = np.random.choice(np.arange(o.shape[0]), o.shape[0], replace).reshape(-1, 1, 1)\n",
    "    if 1 in axis:\n",
    "        axis2 = np.random.choice(np.arange(o.shape[1]), o.shape[1], replace).reshape(1, -1, 1)\n",
    "    if 2 in axis:\n",
    "        axis3 = np.random.choice(np.arange(o.shape[2]), o.shape[2], replace).reshape(1, 1, -1)\n",
    "    return o[axis1, axis2, axis3]\n",
    "\n",
    "def rotate_axis0(o, steps=1):\n",
    "    return o[np.arange(o.shape[0]) - steps]\n",
    "\n",
    "def rotate_axis1(o, steps=1):\n",
    "    return o[:, np.arange(o.shape[1]) - steps]\n",
    "\n",
    "def rotate_axis2(o, steps=1):\n",
    "    return o[:, :, np.arange(o.shape[2]) - steps]"
   ]
  },
  {
   "cell_type": "code",
   "execution_count": null,
   "metadata": {},
   "outputs": [
    {
     "data": {
      "text/plain": [
       "array([[  0,   1,   2,   3,   4,   5,   6,   7,   8,   9],\n",
       "       [  0,  10,  20,  30,  40,  50,  60,  70,  80,  90],\n",
       "       [  0, 100, 200, 300, 400, 500, 600, 700, 800, 900]])"
      ]
     },
     "execution_count": null,
     "metadata": {},
     "output_type": "execute_result"
    }
   ],
   "source": [
    "a = np.tile(np.arange(10), 3).reshape(3, 10) * np.array([1, 10, 100]).reshape(-1, 1)\n",
    "a"
   ]
  },
  {
   "cell_type": "code",
   "execution_count": null,
   "metadata": {},
   "outputs": [
    {
     "data": {
      "text/plain": [
       "array([[  0, 100, 200, 300, 400, 500, 600, 700, 800, 900],\n",
       "       [  0,  10,  20,  30,  40,  50,  60,  70,  80,  90],\n",
       "       [  0,   1,   2,   3,   4,   5,   6,   7,   8,   9]])"
      ]
     },
     "execution_count": null,
     "metadata": {},
     "output_type": "execute_result"
    }
   ],
   "source": [
    "roll2d(a, roll1=[2, 1, 0])"
   ]
  },
  {
   "cell_type": "code",
   "execution_count": null,
   "metadata": {},
   "outputs": [
    {
     "data": {
      "text/plain": [
       "array([[  7,   8,   9,   0,   1,   2,   3,   4,   5,   6],\n",
       "       [ 70,  80,  90,   0,  10,  20,  30,  40,  50,  60],\n",
       "       [700, 800, 900,   0, 100, 200, 300, 400, 500, 600]])"
      ]
     },
     "execution_count": null,
     "metadata": {},
     "output_type": "execute_result"
    }
   ],
   "source": [
    "roll2d(a, roll2=3)"
   ]
  },
  {
   "cell_type": "code",
   "execution_count": null,
   "metadata": {},
   "outputs": [],
   "source": [
    "o = torch.arange(24).reshape(2,3,4)\n",
    "test_eq(rotate_axis0(o)[1], o[0])\n",
    "test_eq(rotate_axis1(o)[:,1], o[:,0])\n",
    "test_eq(rotate_axis2(o)[...,1], o[...,0])"
   ]
  },
  {
   "cell_type": "code",
   "execution_count": null,
   "metadata": {},
   "outputs": [],
   "source": [
    "#export\n",
    "def chunks_calculator(shape, dtype='float32', n_bytes=1024**3):\n",
    "    \"\"\"Function to calculate chunks for a given size of n_bytes (default = 1024**3 == 1GB). \n",
    "    It guarantees > 50% of the chunk will be filled\"\"\"\n",
    "    \n",
    "    X  = np.random.rand(1, *shape[1:]).astype(dtype)\n",
    "    byts = get_size(X, return_str=False)\n",
    "    n = n_bytes // byts\n",
    "    if shape[0] / n <= 1: return False\n",
    "    remainder = shape[0] % n\n",
    "    if remainder / n < .5: \n",
    "        n_chunks = shape[0] // n\n",
    "        n += np.ceil(remainder / n_chunks).astype(int)\n",
    "    return (n, -1, -1)"
   ]
  },
  {
   "cell_type": "code",
   "execution_count": null,
   "metadata": {},
   "outputs": [],
   "source": [
    "shape = (1_000, 10, 1000)\n",
    "dtype = 'float32'\n",
    "test_eq(chunks_calculator(shape, dtype), False)\n",
    "\n",
    "shape = (54684, 10, 1000)\n",
    "dtype = 'float32'\n",
    "test_eq(chunks_calculator(shape, dtype), (27342, -1, -1))"
   ]
  },
  {
   "cell_type": "code",
   "execution_count": null,
   "metadata": {},
   "outputs": [],
   "source": [
    "#export\n",
    "def is_memory_shared(a, b):\n",
    "    \"Check if 2 array-like objects share memory\"\n",
    "    assert is_array(a) and is_array(b)\n",
    "    return np.shares_memory(a, b)"
   ]
  },
  {
   "cell_type": "code",
   "execution_count": null,
   "metadata": {},
   "outputs": [],
   "source": [
    "a = np.random.rand(2,3,4)\n",
    "t1 = torch.from_numpy(a)\n",
    "test_eq(is_memory_shared(a, t1), True)\n",
    "a = np.random.rand(2,3,4)\n",
    "t2 = torch.as_tensor(a)\n",
    "test_eq(is_memory_shared(a, t2), True)\n",
    "a = np.random.rand(2,3,4)\n",
    "t3 = torch.tensor(a)\n",
    "test_eq(is_memory_shared(a, t3), False)"
   ]
  },
  {
   "cell_type": "code",
   "execution_count": null,
   "metadata": {},
   "outputs": [],
   "source": [
    "#export\n",
    "def assign_in_chunks(a, b, chunksize='auto', inplace=True, verbose=True):\n",
    "    \"\"\"Assigns values in b to an array-like object a using chunks to avoid memory overload.\n",
    "    \n",
    "    The resulting a retains it's dtype and share it's memory.\n",
    "    a: array-like object\n",
    "    b: may be an integer, float, str, 'rand' (for random data), or another array like object.\n",
    "    chunksize: is the size of chunks. If 'auto' chunks will have around 1GB each. \n",
    "    \"\"\"\n",
    "    \n",
    "    if b != 'rand' and not isinstance(b, (Iterable, Generator)):\n",
    "        a[:] = b\n",
    "    else:\n",
    "        shape = a.shape\n",
    "        dtype = a.dtype\n",
    "        if chunksize == \"auto\": \n",
    "            chunksize = chunks_calculator(shape, dtype)\n",
    "            chunksize = shape[0] if not chunksize else  chunksize[0]\n",
    "        for i in progress_bar(range((shape[0] - 1) // chunksize + 1), display=verbose, leave=False):\n",
    "            start, end = i * chunksize, min(shape[0], (i + 1) * chunksize)\n",
    "            if start >= shape[0]: break\n",
    "            if b == 'rand': \n",
    "                a[start:end] = np.random.rand(end - start, *shape[1:])\n",
    "            else: \n",
    "                a[start:end] = b[start:end]\n",
    "    if not inplace: return a"
   ]
  },
  {
   "cell_type": "code",
   "execution_count": null,
   "metadata": {},
   "outputs": [
    {
     "name": "stderr",
     "output_type": "stream",
     "text": [
      "/Users/nacho/opt/anaconda3/envs/py37torch110/lib/python3.7/site-packages/ipykernel_launcher.py:11: FutureWarning: elementwise comparison failed; returning scalar instead, but in the future will perform elementwise comparison\n",
      "  # This is added back by InteractiveShellApp.init_path()\n"
     ]
    },
    {
     "data": {
      "text/html": [],
      "text/plain": [
       "<IPython.core.display.HTML object>"
      ]
     },
     "metadata": {},
     "output_type": "display_data"
    },
    {
     "name": "stderr",
     "output_type": "stream",
     "text": [
      "/Users/nacho/opt/anaconda3/envs/py37torch110/lib/python3.7/site-packages/ipykernel_launcher.py:22: FutureWarning: elementwise comparison failed; returning scalar instead, but in the future will perform elementwise comparison\n"
     ]
    },
    {
     "data": {
      "text/html": [],
      "text/plain": [
       "<IPython.core.display.HTML object>"
      ]
     },
     "metadata": {},
     "output_type": "display_data"
    }
   ],
   "source": [
    "a = np.random.rand(10,3,4).astype('float32')\n",
    "a_dtype = a.dtype\n",
    "a_id = id(a)\n",
    "b = np.random.rand(10,3,4).astype('float64')\n",
    "assign_in_chunks(a, b, chunksize=2, inplace=True, verbose=True)\n",
    "test_close(a, b)\n",
    "test_eq(a.dtype, a_dtype)\n",
    "test_eq(id(a), a_id)\n",
    "\n",
    "a = np.random.rand(10,3,4).astype('float32')\n",
    "a_dtype = a.dtype\n",
    "a_id = id(a)\n",
    "b = 1\n",
    "assign_in_chunks(a, b, chunksize=2, inplace=True, verbose=True)\n",
    "test_eq(a, np.ones_like(a).astype(a.dtype))\n",
    "test_eq(a.dtype, a_dtype)\n",
    "test_eq(id(a), a_id)\n",
    "\n",
    "a = np.random.rand(10,3,4).astype('float32')\n",
    "a_dtype = a.dtype\n",
    "a_id = id(a)\n",
    "b = 0.5\n",
    "assign_in_chunks(a, b, chunksize=2, inplace=True, verbose=True)\n",
    "test_eq(a.dtype, a_dtype)\n",
    "test_eq(id(a), a_id)\n",
    "\n",
    "a = np.random.rand(10,3,4).astype('float32')\n",
    "a_dtype = a.dtype\n",
    "a_id = id(a)\n",
    "b = 'rand'\n",
    "assign_in_chunks(a, b, chunksize=2, inplace=True, verbose=True)\n",
    "test_eq(a.dtype, a_dtype)\n",
    "test_eq(id(a), a_id)"
   ]
  },
  {
   "cell_type": "code",
   "execution_count": null,
   "metadata": {},
   "outputs": [
    {
     "name": "stderr",
     "output_type": "stream",
     "text": [
      "/Users/nacho/opt/anaconda3/envs/py37torch110/lib/python3.7/site-packages/ipykernel_launcher.py:11: FutureWarning: elementwise comparison failed; returning scalar instead, but in the future will perform elementwise comparison\n",
      "  # This is added back by InteractiveShellApp.init_path()\n"
     ]
    },
    {
     "data": {
      "text/html": [],
      "text/plain": [
       "<IPython.core.display.HTML object>"
      ]
     },
     "metadata": {},
     "output_type": "display_data"
    },
    {
     "name": "stderr",
     "output_type": "stream",
     "text": [
      "/Users/nacho/opt/anaconda3/envs/py37torch110/lib/python3.7/site-packages/ipykernel_launcher.py:22: FutureWarning: elementwise comparison failed; returning scalar instead, but in the future will perform elementwise comparison\n"
     ]
    },
    {
     "data": {
      "text/html": [],
      "text/plain": [
       "<IPython.core.display.HTML object>"
      ]
     },
     "metadata": {},
     "output_type": "display_data"
    }
   ],
   "source": [
    "a = np.random.rand(10,3,4).astype('float32')\n",
    "b = np.random.rand(10,3,4).astype('float64')\n",
    "c = assign_in_chunks(a, b, chunksize=2, inplace=False, verbose=True)\n",
    "test_close(c, b)\n",
    "test_eq(a.dtype, c.dtype)\n",
    "test_eq(is_memory_shared(a, c), True)\n",
    "\n",
    "a = np.random.rand(10,3,4).astype('float32')\n",
    "b = 1\n",
    "c = assign_in_chunks(a, b, chunksize=2, inplace=False, verbose=True)\n",
    "test_eq(a, np.ones_like(a).astype(a.dtype))\n",
    "test_eq(a.dtype, c.dtype)\n",
    "test_eq(is_memory_shared(a, c), True)\n",
    "\n",
    "a = np.random.rand(10,3,4).astype('float32')\n",
    "b = 0.5\n",
    "c = assign_in_chunks(a, b, chunksize=2, inplace=False, verbose=True)\n",
    "test_eq(a.dtype, c.dtype)\n",
    "test_eq(is_memory_shared(a, c), True)\n",
    "\n",
    "a = np.random.rand(10,3,4).astype('float32')\n",
    "b = 'rand'\n",
    "c = assign_in_chunks(a, b, chunksize=2, inplace=False, verbose=True)\n",
    "test_eq(a.dtype, c.dtype)\n",
    "test_eq(is_memory_shared(a, c), True)"
   ]
  },
  {
   "cell_type": "code",
   "execution_count": null,
   "metadata": {},
   "outputs": [],
   "source": [
    "#export\n",
    "def create_array(shape, fname=None, path='./data', on_disk=True, dtype='float32', mode='r+', fill_value='rand', chunksize='auto', verbose=True, **kwargs):\n",
    "    \"\"\"\n",
    "    mode:\n",
    "        ‘r’:  Open existing file for reading only.\n",
    "        ‘r+’: Open existing file for reading and writing.\n",
    "        ‘w+’: Create or overwrite existing file for reading and writing.\n",
    "        ‘c’:  Copy-on-write: assignments affect data in memory, but changes are not saved to disk. The file on disk is read-only.\n",
    "    fill_value: 'rand' (for random numbers), int or float\n",
    "    chunksize = 'auto' to calculate chunks of 1GB, or any integer (for a given number of samples)\n",
    "    \"\"\"\n",
    "    if on_disk:\n",
    "        assert fname is not None, 'you must provide a fname (filename)'\n",
    "        path = Path(path)\n",
    "        if not fname.endswith('npy'): fname = f'{fname}.npy'\n",
    "        filename = path/fname\n",
    "        filename.parent.mkdir(parents=True, exist_ok=True)\n",
    "        # Save a small empty array\n",
    "        _temp_fn = path/'temp_X.npy'\n",
    "        np.save(_temp_fn, np.empty(0))\n",
    "        # Create  & save file\n",
    "        arr = np.memmap(_temp_fn, dtype=dtype, mode='w+', shape=shape, **kwargs)\n",
    "        np.save(filename, arr)\n",
    "        del arr\n",
    "        os.remove(_temp_fn)\n",
    "        # Open file in selected mode\n",
    "        arr = np.load(filename, mmap_mode=mode)\n",
    "    else:\n",
    "        arr = np.empty(shape, dtype=dtype, **kwargs)\n",
    "    if fill_value != 0:\n",
    "        assign_in_chunks(arr, fill_value, chunksize=chunksize, inplace=True, verbose=verbose)\n",
    "    return arr\n",
    "\n",
    "create_empty_array = partial(create_array, fill_value=0)"
   ]
  },
  {
   "cell_type": "code",
   "execution_count": null,
   "metadata": {},
   "outputs": [
    {
     "data": {
      "text/html": [],
      "text/plain": [
       "<IPython.core.display.HTML object>"
      ]
     },
     "metadata": {},
     "output_type": "display_data"
    }
   ],
   "source": [
    "fname = 'X_on_disk'\n",
    "shape = (100, 10, 10)\n",
    "X = create_array(shape, fname, on_disk=True, mode='r+')\n",
    "test_ne(abs(X).sum(), 0)\n",
    "os.remove(X.filename)\n",
    "del X"
   ]
  },
  {
   "cell_type": "code",
   "execution_count": null,
   "metadata": {},
   "outputs": [
    {
     "data": {
      "text/html": [],
      "text/plain": [
       "<IPython.core.display.HTML object>"
      ]
     },
     "metadata": {},
     "output_type": "display_data"
    }
   ],
   "source": [
    "fname = 'X_on_disk'\n",
    "shape = (100, 10, 10)\n",
    "X = create_empty_array(shape, fname, on_disk=True, mode='r+')\n",
    "test_eq(abs(X).sum(), 0)\n",
    "\n",
    "chunksize = 10\n",
    "pbar = progress_bar(range(math.ceil(len(X) / chunksize)), leave=False)\n",
    "start = 0\n",
    "for i in pbar: \n",
    "    end = min(start + chunksize, len(X))\n",
    "    partial_data = np.random.rand(end - start, X.shape[1] , X.shape[2])\n",
    "    X[start:end] = partial_data\n",
    "    start = end\n",
    "    del partial_data\n",
    "    gc.collect()\n",
    "filename = X.filename\n",
    "del X\n",
    "X = np.load(filename, mmap_mode='r+')\n",
    "test_eq((X == 0).sum(), 0)\n",
    "test_eq(X.shape, shape)\n",
    "os.remove(X.filename)\n",
    "del X"
   ]
  },
  {
   "cell_type": "code",
   "execution_count": null,
   "metadata": {},
   "outputs": [],
   "source": [
    "#export\n",
    "import gzip\n",
    "\n",
    "def np_save_compressed(arr, fname=None, path='./data', verbose=False, **kwargs):\n",
    "    assert fname is not None, 'you must provide a fname (filename)'\n",
    "    if fname.endswith('npy'): fname = f'{fname}.gz'\n",
    "    elif not fname.endswith('npy.gz'): fname = f'{fname}.npy.gz'\n",
    "    filename = Path(path)/fname\n",
    "    filename.parent.mkdir(parents=True, exist_ok=True)\n",
    "    f = gzip.GzipFile(filename, 'w', **kwargs)\n",
    "    np.save(file=f, arr=arr)\n",
    "    f.close()\n",
    "    pv(f'array saved to {filename}', verbose)\n",
    "    \n",
    "def np_load_compressed(fname=None, path='./data', **kwargs):\n",
    "    assert fname is not None, 'you must provide a fname (filename)'\n",
    "    if fname.endswith('npy'): fname = f'{fname}.gz'\n",
    "    elif not fname.endswith('npy.gz'): fname = f'{fname}.npy.gz'\n",
    "    filename = Path(path)/fname\n",
    "    f = gzip.GzipFile(filename, 'r', **kwargs)\n",
    "    arr = np.load(f)\n",
    "    f.close()\n",
    "    return arr"
   ]
  },
  {
   "cell_type": "code",
   "execution_count": null,
   "metadata": {},
   "outputs": [],
   "source": [
    "X1 = np.random.rand(10)\n",
    "np_save_compressed(X1, 'X_comp', path='./data')\n",
    "X2 = np_load_compressed('X_comp')\n",
    "test_eq(X1, X2)"
   ]
  },
  {
   "cell_type": "code",
   "execution_count": null,
   "metadata": {},
   "outputs": [],
   "source": [
    "#export\n",
    "def np2memmap(arr, fname=None, path='./data', dtype='float32', mode='c', **kwargs):\n",
    "    \"\"\" Function that turns an ndarray into a memmap ndarray\n",
    "    mode:\n",
    "        ‘r’:  Open existing file for reading only.\n",
    "        ‘r+’: Open existing file for reading and writing.\n",
    "        ‘w+’: Create or overwrite existing file for reading and writing.\n",
    "        ‘c’:  Copy-on-write: assignments affect data in memory, but changes are not saved to disk. The file on disk is read-only.\n",
    "    \"\"\"\n",
    "    assert fname is not None, 'you must provide a fname (filename)'\n",
    "    if not fname.endswith('npy'): fname = f'{fname}.npy'\n",
    "    filename = Path(path)/fname\n",
    "    filename.parent.mkdir(parents=True, exist_ok=True)\n",
    "    # Save file\n",
    "    np.save(filename, arr)\n",
    "    # Open file in selected mode\n",
    "    arr = np.load(filename, mmap_mode=mode)\n",
    "    return arr"
   ]
  },
  {
   "cell_type": "code",
   "execution_count": null,
   "metadata": {},
   "outputs": [],
   "source": [
    "X1 = np.random.rand(10)\n",
    "X2 = np2memmap(X1, 'X1_test')\n",
    "test_eq(X1, X2)\n",
    "test_ne(type(X1), type(X2))"
   ]
  },
  {
   "cell_type": "code",
   "execution_count": null,
   "metadata": {},
   "outputs": [],
   "source": [
    "#export \n",
    "def torch_mean_groupby(o, idxs):\n",
    "    \"\"\"Computes torch mean along axis 0 grouped by the idxs. \n",
    "    Need to ensure that idxs have the same order as o\"\"\"\n",
    "    if is_listy(idxs[0]): idxs = flatten_list(idxs)\n",
    "    flattened_idxs = torch.tensor(idxs)\n",
    "    idxs, vals = torch.unique(flattened_idxs, return_counts=True)\n",
    "    vs = torch.split_with_sizes(o, tuple(vals))\n",
    "    return torch.cat([v.mean(0).unsqueeze(0) for k,v in zip(idxs, vs)])"
   ]
  },
  {
   "cell_type": "code",
   "execution_count": null,
   "metadata": {},
   "outputs": [],
   "source": [
    "o = torch.arange(6*2*3).reshape(6, 2, 3).float()\n",
    "idxs = np.array([[0,1,2,3], [2,3]], dtype=object)\n",
    "output = torch_mean_groupby(o, idxs)\n",
    "test_eq(o[:2], output[:2])\n",
    "test_eq(o[2:4].mean(0), output[2])\n",
    "test_eq(o[4:6].mean(0), output[3])"
   ]
  },
  {
   "cell_type": "code",
   "execution_count": null,
   "metadata": {},
   "outputs": [],
   "source": [
    "#export\n",
    "def torch_flip(t, dims=-1):\n",
    "    if dims == -1: return t[..., np.arange(t.shape[dims])[::-1].copy()]\n",
    "    elif dims == 0: return t[np.arange(t.shape[dims])[::-1].copy()]\n",
    "    elif dims == 1: return t[:, np.arange(t.shape[dims])[::-1].copy()]\n",
    "    elif dims == 2: return t[:, :, np.arange(t.shape[dims])[::-1].copy()]"
   ]
  },
  {
   "cell_type": "code",
   "execution_count": null,
   "metadata": {},
   "outputs": [],
   "source": [
    "t = torch.randn(2, 3, 4)\n",
    "test_eq(torch.flip(t, (2,)), torch_flip(t, dims=-1))"
   ]
  },
  {
   "cell_type": "code",
   "execution_count": null,
   "metadata": {},
   "outputs": [],
   "source": [
    "#export \n",
    "def torch_nan_to_num(o, num=0, inplace=False):\n",
    "    if ismin_torch(\"1.8\") and not inplace: \n",
    "        return torch.nan_to_num(o, num)\n",
    "    mask = torch.isnan(o)\n",
    "    return torch_masked_to_num(o, mask, num=num, inplace=inplace)\n",
    "\n",
    "def torch_masked_to_num(o, mask, num=0, inplace=False):\n",
    "    if inplace: \n",
    "        o[:] = o.masked_fill(mask, num)\n",
    "    else: \n",
    "        return o.masked_fill(mask, num)"
   ]
  },
  {
   "cell_type": "code",
   "execution_count": null,
   "metadata": {},
   "outputs": [],
   "source": [
    "x = torch.rand(2, 4, 6)\n",
    "x[:, :3][x[:, :3] < .5] = np.nan\n",
    "nan_values = torch.isnan(x).sum()\n",
    "y = torch_nan_to_num(x[:, :3], inplace=False)\n",
    "test_eq(torch.isnan(y).sum(), 0)\n",
    "test_eq(torch.isnan(x).sum(), nan_values)\n",
    "torch_nan_to_num(x[:, :3], inplace=True)\n",
    "test_eq(torch.isnan(x).sum(), 0)"
   ]
  },
  {
   "cell_type": "code",
   "execution_count": null,
   "metadata": {},
   "outputs": [],
   "source": [
    "x = torch.rand(2, 4, 6)\n",
    "mask = x[:, :3] > .5\n",
    "x[:, :3] = torch_masked_to_num(x[:, :3], mask, num=0, inplace=False)\n",
    "test_eq(x[:, :3][mask].sum(), 0)"
   ]
  },
  {
   "cell_type": "code",
   "execution_count": null,
   "metadata": {},
   "outputs": [],
   "source": [
    "x = torch.rand(2, 4, 6)\n",
    "mask = x[:, :3] > .5\n",
    "torch_masked_to_num(x[:, :3], mask, num=0, inplace=True)\n",
    "test_eq(x[:, :3][mask].sum(), 0)"
   ]
  },
  {
   "cell_type": "code",
   "execution_count": null,
   "metadata": {},
   "outputs": [],
   "source": [
    "#export\n",
    "def mpl_trend(x, y, deg=1): \n",
    "    return np.poly1d(np.polyfit(x, y, deg))(x)"
   ]
  },
  {
   "cell_type": "code",
   "execution_count": null,
   "metadata": {},
   "outputs": [
    {
     "data": {
      "image/png": "[encoded data removed]",
      "text/plain": [
       "<Figure size 432x288 with 1 Axes>"
      ]
     },
     "metadata": {
      "needs_background": "light"
     },
     "output_type": "display_data"
    }
   ],
   "source": [
    "x = np.sort(np.random.randint(0, 100, 100)/10)\n",
    "y = np.random.rand(100) + np.linspace(0, 10, 100)\n",
    "trend = mpl_trend(x, y)\n",
    "plt.scatter(x, y)\n",
    "plt.plot(x, trend, 'r')\n",
    "plt.show()"
   ]
  },
  {
   "cell_type": "code",
   "execution_count": null,
   "metadata": {},
   "outputs": [],
   "source": [
    "#export\n",
    "def int2digits(o, n_digits=None, normalize=True):\n",
    "    if n_digits is not None:\n",
    "        iterable = '0' * (n_digits - len(str(abs(o)))) + str(abs(o))\n",
    "    else:\n",
    "        iterable = str(abs(o))\n",
    "    sign = np.sign(o)\n",
    "    digits = np.array([sign * int(d) for d in iterable])\n",
    "    if normalize:\n",
    "        digits = digits / 10\n",
    "    return digits\n",
    "\n",
    "\n",
    "def array2digits(o, n_digits=None, normalize=True):\n",
    "    output = np.array(list(map(partial(int2digits, n_digits=n_digits), o)))\n",
    "    if normalize:\n",
    "        output = output / 10\n",
    "    return output"
   ]
  },
  {
   "cell_type": "code",
   "execution_count": null,
   "metadata": {},
   "outputs": [],
   "source": [
    "o = -9645\n",
    "test_eq(int2digits(o, 6), np.array([ 0,  0, -.9, -.6, -.4, -.5]))\n",
    "\n",
    "a = np.random.randint(-1000, 1000, 10)\n",
    "test_eq(array2digits(a,5).shape, (10,5))"
   ]
  },
  {
   "cell_type": "code",
   "execution_count": null,
   "metadata": {},
   "outputs": [],
   "source": [
    "#export\n",
    "def sincos_encoding(seq_len, device=None, to_np=False):\n",
    "    if to_np:\n",
    "        sin = np.sin(np.arange(seq_len) / seq_len * 2 * np.pi)\n",
    "        cos = np.cos(np.arange(seq_len) / seq_len * 2 * np.pi)\n",
    "    else:\n",
    "        if device is None: device = default_device()\n",
    "        sin = torch.sin(torch.arange(seq_len, device=device) / seq_len * 2 * np.pi)\n",
    "        cos = torch.cos(torch.arange(seq_len, device=device) / seq_len * 2 * np.pi)\n",
    "    return sin, cos"
   ]
  },
  {
   "cell_type": "code",
   "execution_count": null,
   "metadata": {},
   "outputs": [
    {
     "data": {
      "image/png": "[encoded data removed]",
      "text/plain": [
       "<Figure size 432x288 with 1 Axes>"
      ]
     },
     "metadata": {
      "needs_background": "light"
     },
     "output_type": "display_data"
    }
   ],
   "source": [
    "sin, cos = sincos_encoding(100)\n",
    "plt.plot(sin.cpu().numpy())\n",
    "plt.plot(cos.cpu().numpy())\n",
    "plt.show()"
   ]
  },
  {
   "cell_type": "code",
   "execution_count": null,
   "metadata": {},
   "outputs": [],
   "source": [
    "#export\n",
    "def linear_encoding(seq_len, device=None, to_np=False, lin_range=(-1,1)):\n",
    "    if to_np:\n",
    "        enc =  np.linspace(lin_range[0], lin_range[1], seq_len)\n",
    "    else:\n",
    "        if device is None: device = default_device()\n",
    "        enc = torch.linspace(lin_range[0], lin_range[1], seq_len, device=device)\n",
    "    return enc"
   ]
  },
  {
   "cell_type": "code",
   "execution_count": null,
   "metadata": {},
   "outputs": [
    {
     "data": {
      "image/png": "[encoded data removed]",
      "text/plain": [
       "<Figure size 432x288 with 1 Axes>"
      ]
     },
     "metadata": {
      "needs_background": "light"
     },
     "output_type": "display_data"
    }
   ],
   "source": [
    "lin = linear_encoding(100)\n",
    "plt.plot(lin.cpu().numpy())\n",
    "plt.show()"
   ]
  },
  {
   "cell_type": "code",
   "execution_count": null,
   "metadata": {},
   "outputs": [],
   "source": [
    "#export\n",
    "def encode_positions(pos_arr, min_val=None, max_val=None, linear=False, lin_range=(-1,1)):\n",
    "    \"\"\" Encodes an array with positions using a linear or sincos methods\n",
    "    \"\"\"\n",
    "    \n",
    "    if min_val is None:\n",
    "        min_val = np.nanmin(pos_arr)\n",
    "    if max_val is None:\n",
    "        max_val = np.nanmax(pos_arr)\n",
    "        \n",
    "    if linear: \n",
    "        return (((pos_arr - min_val)/(max_val - min_val)) * (lin_range[1] - lin_range[0]) + lin_range[0])\n",
    "    else:\n",
    "        sin = np.sin((pos_arr - min_val)/(max_val - min_val) * 2 * np.pi)\n",
    "        cos = np.cos((pos_arr - min_val)/(max_val - min_val) * 2 * np.pi)\n",
    "        return sin, cos"
   ]
  },
  {
   "cell_type": "code",
   "execution_count": null,
   "metadata": {},
   "outputs": [
    {
     "data": {
      "image/png": "[encoded data removed]",
      "text/plain": [
       "<Figure size 432x288 with 1 Axes>"
      ]
     },
     "metadata": {
      "needs_background": "light"
     },
     "output_type": "display_data"
    }
   ],
   "source": [
    "n_samples = 10\n",
    "length = 500\n",
    "_a = []\n",
    "for i in range(n_samples):\n",
    "    a = np.arange(-4000, 4000, 10)\n",
    "    mask = np.random.rand(len(a)) > .5\n",
    "    a = a[mask]\n",
    "    a = np.concatenate([a, np.array([np.nan] * (length - len(a)))])\n",
    "    _a.append(a.reshape(-1,1))\n",
    "a = np.concatenate(_a, -1).transpose(1,0)\n",
    "sin, cos = encode_positions(a, linear=False)\n",
    "test_eq(a.shape, (n_samples, length))\n",
    "test_eq(sin.shape, (n_samples, length))\n",
    "test_eq(cos.shape, (n_samples, length))\n",
    "plt.plot(sin.T)\n",
    "plt.plot(cos.T)\n",
    "plt.xlim(0, 500)\n",
    "plt.show()"
   ]
  },
  {
   "cell_type": "code",
   "execution_count": null,
   "metadata": {},
   "outputs": [
    {
     "data": {
      "image/png": "[encoded data removed]",
      "text/plain": [
       "<Figure size 432x288 with 1 Axes>"
      ]
     },
     "metadata": {
      "needs_background": "light"
     },
     "output_type": "display_data"
    }
   ],
   "source": [
    "n_samples = 10\n",
    "length = 500\n",
    "_a = []\n",
    "for i in range(n_samples):\n",
    "    a = np.arange(-4000, 4000, 10)\n",
    "    mask = np.random.rand(len(a)) > .5\n",
    "    a = a[mask]\n",
    "    a = np.concatenate([a, np.array([np.nan] * (length - len(a)))])\n",
    "    _a.append(a.reshape(-1,1))\n",
    "a = np.concatenate(_a, -1).transpose(1,0)\n",
    "lin = encode_positions(a, linear=True)\n",
    "test_eq(a.shape, (n_samples, length))\n",
    "test_eq(lin.shape, (n_samples, length))\n",
    "plt.plot(lin.T)\n",
    "plt.xlim(0, 500)\n",
    "plt.show()"
   ]
  },
  {
   "cell_type": "code",
   "execution_count": null,
   "metadata": {},
   "outputs": [],
   "source": [
    "#export\n",
    "def sort_generator(generator, bs):\n",
    "    g = list(generator)\n",
    "    for i in range(len(g)//bs + 1): g[bs*i:bs*(i+1)] = np.sort(g[bs*i:bs*(i+1)])\n",
    "    return (i for i in g)"
   ]
  },
  {
   "cell_type": "code",
   "execution_count": null,
   "metadata": {},
   "outputs": [],
   "source": [
    "generator = (i for i in np.random.permutation(np.arange(1000000)).tolist())\n",
    "l = list(sort_generator(generator, 512))\n",
    "test_eq(l[:512], sorted(l[:512]))"
   ]
  },
  {
   "cell_type": "code",
   "execution_count": null,
   "metadata": {},
   "outputs": [],
   "source": [
    "#export\n",
    "def get_subset_dict(d, keys):\n",
    "    return dict((k,d[k]) for k in listify(keys) if k in d)"
   ]
  },
  {
   "cell_type": "code",
   "execution_count": null,
   "metadata": {},
   "outputs": [],
   "source": [
    "keys = string.ascii_lowercase\n",
    "values = np.arange(len(keys))\n",
    "d = {k:v for k,v in zip(keys,values)}\n",
    "test_eq(get_subset_dict(d, ['a', 'k', 'j', 'e']), {'a': 0, 'k': 10, 'j': 9, 'e': 4})"
   ]
  },
  {
   "cell_type": "code",
   "execution_count": null,
   "metadata": {},
   "outputs": [],
   "source": [
    "#export\n",
    "def create_dir(directory, verbose=True): \n",
    "    if not is_listy(directory): directory = [directory]\n",
    "    for d in directory:\n",
    "        d = Path(d)\n",
    "        if d.exists():\n",
    "            if verbose: print(f\"{d} directory already exists.\")\n",
    "        else: \n",
    "            d.mkdir(parents=True, exist_ok=True)\n",
    "            assert d.exists(),  f\"a problem has occurred while creating {d}\"\n",
    "            if verbose: print(f\"{d} directory created.\")\n",
    "\n",
    "\n",
    "def remove_dir(directory, verbose=True):\n",
    "    import shutil\n",
    "    if not is_listy(directory): directory = [directory]\n",
    "    for d in directory:\n",
    "        d = Path(d)\n",
    "        if d.is_file(): d = d.parent\n",
    "        if not d.exists():\n",
    "            if verbose: print(f\"{d} directory doesn't exist.\")\n",
    "        else:\n",
    "            shutil.rmtree(d)\n",
    "            assert not d.exists(), f\"a problem has occurred while deleting {d}\"\n",
    "            if verbose: print(f\"{d} directory removed.\")"
   ]
  },
  {
   "cell_type": "code",
   "execution_count": null,
   "metadata": {},
   "outputs": [
    {
     "name": "stdout",
     "output_type": "stream",
     "text": [
      "wandb3/wandb2/wandb directory created.\n",
      "wandb3/wandb2/wandb directory removed.\n",
      "wandb3/wandb2 directory removed.\n",
      "wandb directory doesn't exist.\n",
      "wandb3 directory removed.\n"
     ]
    }
   ],
   "source": [
    "path = \"wandb3/wandb2/wandb\"\n",
    "create_dir(path)\n",
    "assert Path(path).exists()\n",
    "\n",
    "paths = [\"wandb3/wandb2/wandb\", \"wandb3/wandb2\", \"wandb\"]\n",
    "remove_dir(paths)\n",
    "for p in paths: \n",
    "    assert not Path(p).exists()\n",
    "\n",
    "path = \"wandb3\"\n",
    "assert Path(path).exists()\n",
    "remove_dir(path)\n",
    "assert not Path(path).exists()"
   ]
  },
  {
   "cell_type": "code",
   "execution_count": null,
   "metadata": {},
   "outputs": [
    {
     "name": "stdout",
     "output_type": "stream",
     "text": [
      "test directory created.\n"
     ]
    }
   ],
   "source": [
    "create_dir('./test')"
   ]
  },
  {
   "cell_type": "code",
   "execution_count": null,
   "metadata": {},
   "outputs": [
    {
     "name": "stdout",
     "output_type": "stream",
     "text": [
      "Writing ./test/mod_dev.py\n"
     ]
    }
   ],
   "source": [
    "%%file ./test/mod_dev.py\n",
    "a = 5\n",
    "def fn(b): return a + b"
   ]
  },
  {
   "cell_type": "code",
   "execution_count": null,
   "metadata": {},
   "outputs": [
    {
     "name": "stdout",
     "output_type": "stream",
     "text": [
      "test directory removed.\n"
     ]
    }
   ],
   "source": [
    "fname = \"./test/mod_dev.py\"\n",
    "while True: \n",
    "    if fname[0] in \"/ .\": fname = fname.split(fname[0], 1)[1]\n",
    "    else: break\n",
    "if '/' in fname and fname.rsplit('/', 1)[0] not in sys.path: sys.path.append(fname.rsplit('/', 1)[0])\n",
    "mod = import_file_as_module(fname)\n",
    "test_eq(mod.fn(3), 8)\n",
    "sys.path = sys.path[:-1]\n",
    "remove_dir('./test/')"
   ]
  },
  {
   "cell_type": "code",
   "execution_count": null,
   "metadata": {},
   "outputs": [],
   "source": [
    "#export\n",
    "class named_partial(object):\n",
    "    \"\"\"Create a partial function with a __name__\"\"\"\n",
    "    \n",
    "    def __init__(self, name, func, *args, **kwargs):\n",
    "        self._func = partial(func, *args, **kwargs)\n",
    "        self.__name__ = name\n",
    "    def __call__(self, *args, **kwargs):\n",
    "        return self._func(*args, **kwargs)\n",
    "    def __repr__(self):\n",
    "        return self.__name__"
   ]
  },
  {
   "cell_type": "code",
   "execution_count": null,
   "metadata": {},
   "outputs": [],
   "source": [
    "def add_1(x, add=1): return x+add\n",
    "test_eq(add_1(1), 2)\n",
    "add_2 = partial(add_1, add=2)\n",
    "test_eq(add_2(2), 4)\n",
    "test_ne(str(add_2), \"add_2\")\n",
    "add_2 = named_partial('add_2', add_1, add=2)\n",
    "test_eq(add_2(2), 4)\n",
    "test_eq(str(add_2), \"add_2\")\n",
    "\n",
    "class _A():\n",
    "    def __init__(self, add=1): self.add = add\n",
    "    def __call__(self, x): return x + self.add\n",
    "    \n",
    "test_eq(_A()(1), 2)\n",
    "_A2 = partial(_A, add=2)\n",
    "test_eq(_A2()(1), 3)\n",
    "test_ne(str(_A2), '_A2')\n",
    "_A2 = named_partial('_A2', _A, add=2)\n",
    "test_eq(_A2()(1), 3)\n",
    "test_eq(str(_A2), '_A2')"
   ]
  },
  {
   "cell_type": "code",
   "execution_count": null,
   "metadata": {},
   "outputs": [],
   "source": [
    "# export\n",
    "def yaml2dict(fname):\n",
    "    import yaml\n",
    "    with maybe_open(fname, 'r') as f:\n",
    "        dictionary = yaml.safe_load(f)\n",
    "    return AttrDict(dictionary)"
   ]
  },
  {
   "cell_type": "code",
   "execution_count": null,
   "metadata": {},
   "outputs": [
    {
     "name": "stdout",
     "output_type": "stream",
     "text": [
      "Writing sweep_config.yaml\n"
     ]
    }
   ],
   "source": [
    "%%file sweep_config.yaml\n",
    "\n",
    "program: wandb_scripts/train_script.py          # (required) Path to training script.\n",
    "method: bayes                                   # (required) Specify the search strategy: grid, random or bayes\n",
    "parameters:                                     # (required) Specify parameters bounds to search.\n",
    "   bs:\n",
    "      values: [32, 64, 128]\n",
    "   depth:\n",
    "      values: [3, 6, 9, 12]\n",
    "   fc_dropout:\n",
    "      distribution: uniform\n",
    "      min: 0.\n",
    "      max: 0.5\n",
    "   lr_max:\n",
    "      values: [0.001, 0.003, 0.01, 0.03, 0.1]\n",
    "   n_epoch:\n",
    "      values: [10, 15, 20]\n",
    "   nb_filters:\n",
    "      values: [32, 64, 128]\n",
    "name: LSST_sweep_01\n",
    "metric: \n",
    "   name: accuracy                              # This must match one of the metrics in the training script\n",
    "   goal: maximize\n",
    "early_terminate: \n",
    "   type: hyperband\n",
    "   min_iter: 3\n",
    "project: LSST_wandb_hpo"
   ]
  },
  {
   "cell_type": "code",
   "execution_count": null,
   "metadata": {},
   "outputs": [
    {
     "name": "stdout",
     "output_type": "stream",
     "text": [
      "{'program': 'wandb_scripts/train_script.py', 'method': 'bayes', 'parameters': {'bs': {'values': [32, 64, 128]}, 'depth': {'values': [3, 6, 9, 12]}, 'fc_dropout': {'distribution': 'uniform', 'min': 0.0, 'max': 0.5}, 'lr_max': {'values': [0.001, 0.003, 0.01, 0.03, 0.1]}, 'n_epoch': {'values': [10, 15, 20]}, 'nb_filters': {'values': [32, 64, 128]}}, 'name': 'LSST_sweep_01', 'metric': {'name': 'accuracy', 'goal': 'maximize'}, 'early_terminate': {'type': 'hyperband', 'min_iter': 3}, 'project': 'LSST_wandb_hpo'}\n"
     ]
    }
   ],
   "source": [
    "fname = \"sweep_config.yaml\"\n",
    "sweep_config = yaml2dict(fname)\n",
    "print(sweep_config)\n",
    "test_eq(sweep_config.method, 'bayes')\n",
    "test_eq(sweep_config['metric'], {'name': 'accuracy', 'goal': 'maximize'})\n",
    "os.remove(fname)"
   ]
  },
  {
   "cell_type": "code",
   "execution_count": null,
   "metadata": {},
   "outputs": [],
   "source": [
    "#export\n",
    "def str2list(o):\n",
    "    if o is None: return []\n",
    "    elif o is not None and not isinstance(o, (list, L)):\n",
    "        if isinstance(o, pd.core.indexes.base.Index): o = o.tolist()\n",
    "        else: o = [o]\n",
    "    return o\n",
    "\n",
    "def str2index(o):\n",
    "    if o is None: return o\n",
    "    o = str2list(o)\n",
    "    if len(o) == 1: return o[0]\n",
    "    return o\n",
    "\n",
    "def get_cont_cols(df):\n",
    "    return df._get_numeric_data().columns.tolist()\n",
    "\n",
    "def get_cat_cols(df):\n",
    "    cols = df.columns.tolist()\n",
    "    cont_cols = df._get_numeric_data().columns.tolist()\n",
    "    return [col for col in cols if col not in cont_cols]"
   ]
  },
  {
   "cell_type": "code",
   "execution_count": null,
   "metadata": {},
   "outputs": [],
   "source": [
    "#export\n",
    "alphabet = L(list(string.ascii_lowercase))\n",
    "ALPHABET = L(list(string.ascii_uppercase))"
   ]
  },
  {
   "cell_type": "code",
   "execution_count": null,
   "metadata": {},
   "outputs": [],
   "source": [
    "#export\n",
    "def get_mapping(arr, dim=1, return_counts=False):\n",
    "    maps = [L(np.unique(np.take(arr, i, dim)).tolist()) for i in range(arr.shape[dim])]\n",
    "    if return_counts:\n",
    "        counts = [len(m) for m in maps]\n",
    "        return maps, counts\n",
    "    return maps\n",
    "\n",
    "def map_array(arr, dim=1):\n",
    "    out = stack([np.unique(np.take(arr, i, dim), return_inverse=True)[1] for i in range(arr.shape[dim])])\n",
    "    if dim == 1: out = out.T\n",
    "    return out"
   ]
  },
  {
   "cell_type": "code",
   "execution_count": null,
   "metadata": {},
   "outputs": [
    {
     "data": {
      "text/plain": [
       "(array([['c', 'o', 'j', 'I', 'J', 'J'],\n",
       "        ['e', 'j', 'f', 'H', 'J', 'H'],\n",
       "        ['m', 'l', 'a', 'H', 'I', 'G'],\n",
       "        ['b', 'n', 'g', 'G', 'I', 'G'],\n",
       "        ['o', 'c', 'c', 'G', 'G', 'I'],\n",
       "        ['h', 'a', 'l', 'I', 'J', 'G'],\n",
       "        ['g', 'g', 'l', 'G', 'J', 'I'],\n",
       "        ['d', 'a', 'g', 'I', 'H', 'I'],\n",
       "        ['a', 'k', 'h', 'J', 'J', 'I'],\n",
       "        ['a', 'd', 'd', 'J', 'H', 'G']], dtype='<U1'),\n",
       " [(#9) ['a','b','c','d','e','g','h','m','o'],\n",
       "  (#9) ['a','c','d','g','j','k','l','n','o'],\n",
       "  (#8) ['a','c','d','f','g','h','j','l'],\n",
       "  (#4) ['G','H','I','J'],\n",
       "  (#4) ['G','H','I','J'],\n",
       "  (#4) ['G','H','I','J']],\n",
       " [9, 9, 8, 4, 4, 4])"
      ]
     },
     "execution_count": null,
     "metadata": {},
     "output_type": "execute_result"
    }
   ],
   "source": [
    "a = np.asarray(alphabet[np.random.randint(0,15,30)]).reshape(10,3)\n",
    "b = np.asarray(ALPHABET[np.random.randint(6,10,30)]).reshape(10,3)\n",
    "x = concat(a,b,dim=1)\n",
    "maps, counts = get_mapping(x, dim=1, return_counts=True)\n",
    "x, maps, counts"
   ]
  },
  {
   "cell_type": "code",
   "execution_count": null,
   "metadata": {},
   "outputs": [
    {
     "data": {
      "text/plain": [
       "(array([['e', 'c', 'f'],\n",
       "        ['g', 'c', 'n'],\n",
       "        ['b', 'l', 'k'],\n",
       "        ['d', 'o', 'd'],\n",
       "        ['c', 'a', 'n'],\n",
       "        ['b', 'l', 'l'],\n",
       "        ['m', 'h', 'f'],\n",
       "        ['g', 'a', 'j'],\n",
       "        ['j', 'l', 'm'],\n",
       "        ['d', 'h', 'm']], dtype='<U1'),\n",
       " array([[3, 1, 1],\n",
       "        [4, 1, 6],\n",
       "        [0, 3, 3],\n",
       "        [2, 4, 0],\n",
       "        [1, 0, 6],\n",
       "        [0, 3, 4],\n",
       "        [6, 2, 1],\n",
       "        [4, 0, 2],\n",
       "        [5, 3, 5],\n",
       "        [2, 2, 5]]),\n",
       " array([[3, 1, 1],\n",
       "        [4, 1, 6],\n",
       "        [0, 3, 3],\n",
       "        [2, 4, 0],\n",
       "        [1, 0, 6],\n",
       "        [0, 3, 4],\n",
       "        [6, 2, 1],\n",
       "        [4, 0, 2],\n",
       "        [5, 3, 5],\n",
       "        [2, 2, 5]]))"
      ]
     },
     "execution_count": null,
     "metadata": {},
     "output_type": "execute_result"
    }
   ],
   "source": [
    "x = np.asarray(alphabet[np.random.randint(0,15,30)]).reshape(10,3)\n",
    "x, map_array(x), map_array(x, 1)"
   ]
  },
  {
   "cell_type": "code",
   "execution_count": null,
   "metadata": {},
   "outputs": [],
   "source": [
    "# export\n",
    "def log_tfm(o, inplace=False):\n",
    "    \"Log transforms an array-like object with positive and/or negative values\"\n",
    "    if isinstance(o, torch.Tensor):\n",
    "        pos_o = torch.log1p(o[o > 0])\n",
    "        neg_o = -torch.log1p(torch.abs(o[o < 0]))\n",
    "    else: \n",
    "        pos_o = np.log1p(o[o > 0])\n",
    "        neg_o = -np.log1p(np.abs(o[o < 0]))\n",
    "    if inplace:\n",
    "        o[o > 0] = pos_o\n",
    "        o[o < 0] = neg_o\n",
    "        return o\n",
    "    else:\n",
    "        if hasattr(o, \"clone\"): output = o.clone()\n",
    "        elif hasattr(o, \"copy\"): output = o.copy()\n",
    "        output[output > 0] = pos_o\n",
    "        output[output < 0] = neg_o\n",
    "        return output"
   ]
  },
  {
   "cell_type": "code",
   "execution_count": null,
   "metadata": {},
   "outputs": [
    {
     "data": {
      "image/png": "[encoded data removed]",
      "text/plain": [
       "<Figure size 432x288 with 1 Axes>"
      ]
     },
     "metadata": {
      "needs_background": "light"
     },
     "output_type": "display_data"
    }
   ],
   "source": [
    "arr = np.asarray([-1000, -100, -10, -1, 0, 1, 10, 100, 1000]).astype(float)\n",
    "plt.plot(arr, log_tfm(arr, False))\n",
    "plt.show()"
   ]
  },
  {
   "cell_type": "code",
   "execution_count": null,
   "metadata": {},
   "outputs": [
    {
     "data": {
      "image/png": "[encoded data removed]",
      "text/plain": [
       "<Figure size 432x288 with 1 Axes>"
      ]
     },
     "metadata": {
      "needs_background": "light"
     },
     "output_type": "display_data"
    }
   ],
   "source": [
    "t = tensor([-1000, -100, -10, -1, 0, 1, 10, 100, 1000]).float()\n",
    "plt.plot(t, log_tfm(t, False))\n",
    "plt.show()"
   ]
  },
  {
   "cell_type": "code",
   "execution_count": null,
   "metadata": {},
   "outputs": [],
   "source": [
    "#export\n",
    "def to_sincos_time(arr, max_value):\n",
    "    sin = np.sin(arr / max_value * 2 * np.pi)\n",
    "    cos = np.cos(arr / max_value * 2 * np.pi)\n",
    "    return sin, cos"
   ]
  },
  {
   "cell_type": "code",
   "execution_count": null,
   "metadata": {},
   "outputs": [
    {
     "data": {
      "image/png": "[encoded data removed]",
      "text/plain": [
       "<Figure size 432x288 with 1 Axes>"
      ]
     },
     "metadata": {
      "needs_background": "light"
     },
     "output_type": "display_data"
    }
   ],
   "source": [
    "arr = np.sort(np.random.rand(100) * 5)\n",
    "arr_sin, arr_cos = to_sincos_time(arr, 5)\n",
    "plt.scatter(arr, arr_sin)\n",
    "plt.scatter(arr, arr_cos)\n",
    "plt.show()"
   ]
  },
  {
   "cell_type": "code",
   "execution_count": null,
   "metadata": {},
   "outputs": [],
   "source": [
    "#export\n",
    "def plot_feature_dist(X, percentiles=[0,0.1,0.5,1,5,10,25,50,75,90,95,99,99.5,99.9,100]):\n",
    "    for i in range(X.shape[1]):\n",
    "        ys = []\n",
    "        for p in percentiles:\n",
    "            ys.append(np.percentile(X[:, i].flatten(), p))\n",
    "        plt.plot(percentiles, ys)\n",
    "        plt.xticks(percentiles, rotation='vertical')\n",
    "        plt.grid(color='gainsboro', linewidth=.5)\n",
    "        plt.title(f\"var_{i}\")\n",
    "        plt.show()"
   ]
  },
  {
   "cell_type": "code",
   "execution_count": null,
   "metadata": {},
   "outputs": [
    {
     "data": {
      "image/png": "[encoded data removed]",
      "text/plain": [
       "<Figure size 432x288 with 1 Axes>"
      ]
     },
     "metadata": {
      "needs_background": "light"
     },
     "output_type": "display_data"
    },
    {
     "data": {
      "image/png": "[encoded data removed]",
      "text/plain": [
       "<Figure size 432x288 with 1 Axes>"
      ]
     },
     "metadata": {
      "needs_background": "light"
     },
     "output_type": "display_data"
    },
    {
     "data": {
      "image/png": "[encoded data removed]",
      "text/plain": [
       "<Figure size 432x288 with 1 Axes>"
      ]
     },
     "metadata": {
      "needs_background": "light"
     },
     "output_type": "display_data"
    }
   ],
   "source": [
    "arr = np.random.rand(10, 3, 100)\n",
    "plot_feature_dist(arr, percentiles=[0,0.1,0.5,1,5,10,25,50,75,90,95,99,99.5,99.9,100])"
   ]
  },
  {
   "cell_type": "code",
   "execution_count": null,
   "metadata": {},
   "outputs": [],
   "source": [
    "#export\n",
    "def rolling_moving_average(o, window=2):\n",
    "    if isinstance(o, torch.Tensor):\n",
    "        cunsum = torch.cumsum(o, axis=-1) # nancumsum not available (can't be used with missing data!)\n",
    "        lag_cunsum = torch.cat([torch.zeros((o.shape[0], o.shape[1], window), device=o.device), torch.cumsum(o[..., :-window], axis=-1)], -1)\n",
    "        count = torch.clip(torch.ones_like(o).cumsum(-1), max=window)\n",
    "        return (cunsum - lag_cunsum) / count\n",
    "    else:\n",
    "        cunsum = np.nancumsum(o, axis=-1)\n",
    "        lag_cunsum = np.concatenate([np.zeros((o.shape[0], o.shape[1], window)), np.nancumsum(o[..., :-window], axis=-1)], -1)\n",
    "        count = np.minimum(np.ones_like(o).cumsum(-1), window)\n",
    "        return (cunsum - lag_cunsum) / count"
   ]
  },
  {
   "cell_type": "code",
   "execution_count": null,
   "metadata": {},
   "outputs": [
    {
     "name": "stdout",
     "output_type": "stream",
     "text": [
      "tensor([[[ 0.,  1.,  2.,  3.,  4.,  5.,  6.,  7.,  8.,  9.],\n",
      "         [10., 11., 12., 13., 14., 15., 16., 17., 18., 19.],\n",
      "         [20., 21., 22., 23., 24., 25., 26., 27., 28., 29.]],\n",
      "\n",
      "        [[30., 31., 32., 33., 34., 35., 36., 37., 38., 39.],\n",
      "         [40., 41., 42., 43., 44., 45., 46., 47., 48., 49.],\n",
      "         [50., 51., 52., 53., 54., 55., 56., 57., 58., 59.]]])\n",
      "tensor([[[ 0.0000,  0.5000,  1.0000,  2.0000,  3.0000,  4.0000,  5.0000,\n",
      "           6.0000,  7.0000,  8.0000],\n",
      "         [10.0000, 10.5000, 11.0000, 12.0000, 13.0000, 14.0000, 15.0000,\n",
      "          16.0000, 17.0000, 18.0000],\n",
      "         [20.0000, 20.5000, 21.0000, 22.0000, 23.0000, 24.0000, 25.0000,\n",
      "          26.0000, 27.0000, 28.0000]],\n",
      "\n",
      "        [[30.0000, 30.5000, 31.0000, 32.0000, 33.0000, 34.0000, 35.0000,\n",
      "          36.0000, 37.0000, 38.0000],\n",
      "         [40.0000, 40.5000, 41.0000, 42.0000, 43.0000, 44.0000, 45.0000,\n",
      "          46.0000, 47.0000, 48.0000],\n",
      "         [50.0000, 50.5000, 51.0000, 52.0000, 53.0000, 54.0000, 55.0000,\n",
      "          56.0000, 57.0000, 58.0000]]])\n"
     ]
    }
   ],
   "source": [
    "a = np.arange(60).reshape(2,3,10).astype(float)\n",
    "t = torch.arange(60).reshape(2,3,10).float()\n",
    "test_close(rolling_moving_average(a, window=3), rolling_moving_average(t, window=3).numpy())\n",
    "print(t)\n",
    "print(rolling_moving_average(t, window=3))"
   ]
  },
  {
   "cell_type": "code",
   "execution_count": null,
   "metadata": {},
   "outputs": [],
   "source": [
    "#export\n",
    "def ffill_sequence(o):\n",
    "    \"\"\"Forward fills an array-like object alongside sequence dimension\"\"\"\n",
    "    if isinstance(o, torch.Tensor):\n",
    "        mask = torch.isnan(o)\n",
    "        idx = torch.where(~mask, torch.arange(mask.shape[-1], device=o.device), 0)\n",
    "        idx = torch.cummax(idx, dim=-1).values\n",
    "        return o[torch.arange(o.shape[0], device=o.device)[:,None,None], torch.arange(o.shape[1], device=o.device)[None,:,None], idx]\n",
    "    else:\n",
    "        mask = np.isnan(o)\n",
    "        idx = np.where(~mask, np.arange(mask.shape[-1]), 0)\n",
    "        idx = np.maximum.accumulate(idx, axis=-1)\n",
    "        return o[np.arange(o.shape[0])[:,None,None], np.arange(o.shape[1])[None,:,None], idx]\n",
    "\n",
    "def bfill_sequence(o):\n",
    "    \"\"\"Backward fills an array-like object alongside sequence dimension\"\"\"\n",
    "    if isinstance(o, torch.Tensor):\n",
    "        o = torch.flip(o, (-1,))\n",
    "        o = ffill_sequence(o)\n",
    "        return torch.flip(o, (-1,))\n",
    "    else:\n",
    "        o = o[..., ::-1]\n",
    "        o = ffill_sequence(o)\n",
    "        return o[..., ::-1]\n",
    "\n",
    "def fbfill_sequence(o):\n",
    "    \"\"\"Forward and backward fills an array-like object alongside sequence dimension\"\"\"\n",
    "    o = ffill_sequence(o)\n",
    "    o = bfill_sequence(o)\n",
    "    return o"
   ]
  },
  {
   "cell_type": "code",
   "execution_count": null,
   "metadata": {},
   "outputs": [
    {
     "data": {
      "text/plain": [
       "tensor([[[ 0., nan, nan,  3.,  4.,  5.,  6.,  7.,  8.,  9.],\n",
       "         [10., nan, 12., 13., 14., 15., 16., nan, 18., 19.],\n",
       "         [nan, 21., nan, nan, nan, 25., 26., 27., 28., 29.],\n",
       "         [30., 31., 32., nan, 34., 35., 36., 37., 38., 39.]],\n",
       "\n",
       "        [[40., nan, nan, 43., 44., 45., nan, nan, 48., 49.],\n",
       "         [50., 51., nan, 53., 54., 55., 56., 57., nan, 59.],\n",
       "         [60., 61., 62., 63., 64., 65., 66., 67., 68., 69.],\n",
       "         [70., nan, nan, nan, 74., 75., 76., 77., 78., 79.]]],\n",
       "       dtype=torch.float64)"
      ]
     },
     "execution_count": null,
     "metadata": {},
     "output_type": "execute_result"
    }
   ],
   "source": [
    "a = np.arange(80).reshape(2, 4, 10).astype(float)\n",
    "mask = np.random.rand(*a.shape)\n",
    "a[mask > .8] = np.nan\n",
    "t = torch.from_numpy(a)\n",
    "t"
   ]
  },
  {
   "cell_type": "code",
   "execution_count": null,
   "metadata": {},
   "outputs": [
    {
     "name": "stdout",
     "output_type": "stream",
     "text": [
      "[[[ 0.  0.  0.  3.  4.  5.  6.  7.  8.  9.]\n",
      "  [10. 10. 12. 13. 14. 15. 16. 16. 18. 19.]\n",
      "  [nan 21. 21. 21. 21. 25. 26. 27. 28. 29.]\n",
      "  [30. 31. 32. 32. 34. 35. 36. 37. 38. 39.]]\n",
      "\n",
      " [[40. 40. 40. 43. 44. 45. 45. 45. 48. 49.]\n",
      "  [50. 51. 51. 53. 54. 55. 56. 57. 57. 59.]\n",
      "  [60. 61. 62. 63. 64. 65. 66. 67. 68. 69.]\n",
      "  [70. 70. 70. 70. 74. 75. 76. 77. 78. 79.]]]\n"
     ]
    }
   ],
   "source": [
    "# forward fill\n",
    "filled_a = ffill_sequence(a)\n",
    "print(filled_a)\n",
    "m = np.isnan(filled_a)\n",
    "test_eq(filled_a[~m], ffill_sequence(t).numpy()[~m])"
   ]
  },
  {
   "cell_type": "code",
   "execution_count": null,
   "metadata": {},
   "outputs": [
    {
     "name": "stdout",
     "output_type": "stream",
     "text": [
      "[[[ 0.  3.  3.  3.  4.  5.  6.  7.  8.  9.]\n",
      "  [10. 12. 12. 13. 14. 15. 16. 18. 18. 19.]\n",
      "  [21. 21. 25. 25. 25. 25. 26. 27. 28. 29.]\n",
      "  [30. 31. 32. 34. 34. 35. 36. 37. 38. 39.]]\n",
      "\n",
      " [[40. 43. 43. 43. 44. 45. 48. 48. 48. 49.]\n",
      "  [50. 51. 53. 53. 54. 55. 56. 57. 59. 59.]\n",
      "  [60. 61. 62. 63. 64. 65. 66. 67. 68. 69.]\n",
      "  [70. 74. 74. 74. 74. 75. 76. 77. 78. 79.]]]\n"
     ]
    }
   ],
   "source": [
    "# backward fill\n",
    "filled_a = bfill_sequence(a)\n",
    "print(filled_a)\n",
    "m = np.isnan(filled_a)\n",
    "test_eq(filled_a[~m], bfill_sequence(t).numpy()[~m])"
   ]
  },
  {
   "cell_type": "code",
   "execution_count": null,
   "metadata": {},
   "outputs": [
    {
     "name": "stdout",
     "output_type": "stream",
     "text": [
      "[[[ 0.  0.  0.  3.  4.  5.  6.  7.  8.  9.]\n",
      "  [10. 10. 12. 13. 14. 15. 16. 16. 18. 19.]\n",
      "  [21. 21. 21. 21. 21. 25. 26. 27. 28. 29.]\n",
      "  [30. 31. 32. 32. 34. 35. 36. 37. 38. 39.]]\n",
      "\n",
      " [[40. 40. 40. 43. 44. 45. 45. 45. 48. 49.]\n",
      "  [50. 51. 51. 53. 54. 55. 56. 57. 57. 59.]\n",
      "  [60. 61. 62. 63. 64. 65. 66. 67. 68. 69.]\n",
      "  [70. 70. 70. 70. 74. 75. 76. 77. 78. 79.]]]\n"
     ]
    }
   ],
   "source": [
    "# forward & backward fill\n",
    "filled_a = fbfill_sequence(a)\n",
    "print(filled_a)\n",
    "m = np.isnan(filled_a)\n",
    "test_eq(filled_a[~m], fbfill_sequence(t).numpy()[~m])"
   ]
  },
  {
   "cell_type": "code",
   "execution_count": null,
   "metadata": {},
   "outputs": [],
   "source": [
    "#export\n",
    "def dummify(o:Union[np.ndarray, torch.Tensor], by_var:bool=True, inplace:bool=False, skip:Optional[list]=None, random_state=None):\n",
    "    \"\"\"Shuffles an array-like object along all dimensions or dimension 1 (variables) if by_var is True.\"\"\"\n",
    "    if not inplace: \n",
    "        if isinstance(o, np.ndarray): o_dummy = o.copy()\n",
    "        elif isinstance(o, torch.Tensor): o_dummy = o.clone()\n",
    "    else: o_dummy = o\n",
    "    if by_var:\n",
    "        for k in progress_bar(range(o.shape[1]), leave=False):\n",
    "            if skip is not None and k in listify(skip): continue\n",
    "            o_dummy[:, k] = random_shuffle(o[:, k].flatten(), random_state=random_state).reshape(o[:, k].shape)\n",
    "    else:\n",
    "        o_dummy[:] = random_shuffle(o.flatten(), random_state=random_state).reshape(o.shape)\n",
    "    if not inplace: \n",
    "        return o_dummy"
   ]
  },
  {
   "cell_type": "code",
   "execution_count": null,
   "metadata": {},
   "outputs": [
    {
     "data": {
      "text/html": [],
      "text/plain": [
       "<IPython.core.display.HTML object>"
      ]
     },
     "metadata": {},
     "output_type": "display_data"
    },
    {
     "data": {
      "text/html": [],
      "text/plain": [
       "<IPython.core.display.HTML object>"
      ]
     },
     "metadata": {},
     "output_type": "display_data"
    }
   ],
   "source": [
    "arr = np.random.rand(2,3,10)\n",
    "arr_original = arr.copy()\n",
    "dummy_arr = dummify(arr)\n",
    "test_ne(arr_original, dummy_arr)\n",
    "test_eq(arr_original, arr)\n",
    "dummify(arr, inplace=True)\n",
    "test_ne(arr_original, arr)"
   ]
  },
  {
   "cell_type": "code",
   "execution_count": null,
   "metadata": {},
   "outputs": [
    {
     "data": {
      "text/html": [],
      "text/plain": [
       "<IPython.core.display.HTML object>"
      ]
     },
     "metadata": {},
     "output_type": "display_data"
    },
    {
     "data": {
      "text/html": [],
      "text/plain": [
       "<IPython.core.display.HTML object>"
      ]
     },
     "metadata": {},
     "output_type": "display_data"
    }
   ],
   "source": [
    "t = torch.rand(2,3,10)\n",
    "t_original = t.clone()\n",
    "dummy_t = dummify(t)\n",
    "test_ne(t_original, dummy_t)\n",
    "test_eq(t_original, t)\n",
    "dummify(t, inplace=True)\n",
    "test_ne(t_original, t)"
   ]
  },
  {
   "cell_type": "code",
   "execution_count": null,
   "metadata": {},
   "outputs": [],
   "source": [
    "#export\n",
    "def shuffle_along_axis(o, axis=-1, random_state=None):\n",
    "    if isinstance(o, torch.Tensor): size = o.numel()\n",
    "    else: size = np.size(o)\n",
    "    for ax in listify(axis):\n",
    "        idx = random_shuffle(np.arange(size), random_state=random_state).reshape(*o.shape).argsort(axis=ax)\n",
    "        o = np.take_along_axis(o, idx, axis=ax)\n",
    "    return o"
   ]
  },
  {
   "cell_type": "code",
   "execution_count": null,
   "metadata": {},
   "outputs": [],
   "source": [
    "X = np.arange(60).reshape(2,3,10) + 10\n",
    "X_shuffled = shuffle_along_axis(X,(0, -1), random_state=23)\n",
    "test_eq(X_shuffled, np.array([[[13, 15, 41, 14, 40, 49, 18, 42, 47, 46],\n",
    "                               [28, 56, 53, 50, 52, 25, 24, 57, 51, 59],\n",
    "                               [34, 30, 38, 35, 69, 66, 63, 67, 61, 62]],\n",
    "\n",
    "                              [[19, 10, 11, 16, 43, 12, 17, 48, 45, 44],\n",
    "                               [23, 20, 26, 22, 21, 27, 58, 29, 54, 55],\n",
    "                               [36, 31, 39, 60, 33, 68, 37, 32, 65, 64]]]))"
   ]
  },
  {
   "cell_type": "code",
   "execution_count": null,
   "metadata": {},
   "outputs": [],
   "source": [
    "# export\n",
    "def analyze_feature(feature, bins=100, density=False, feature_name=None, clip_outliers_plot=False, quantile_range=(25.0, 75.0), \n",
    "           percentiles=[1, 25, 50, 75, 99], text_len=12, figsize=(10,6)):\n",
    "    non_nan_feature = feature[~np.isnan(feature)]\n",
    "    nan_perc = np.isnan(feature).mean()\n",
    "    print(f\"{'dtype':>{text_len}}: {feature.dtype}\")\n",
    "    print(f\"{'nan values':>{text_len}}: {nan_perc:.1%}\")\n",
    "    print(f\"{'max':>{text_len}}: {np.nanmax(feature)}\")\n",
    "    for p in percentiles:\n",
    "        print(f\"{p:>{text_len}.0f}: {get_percentile(feature, p)}\")\n",
    "    print(f\"{'min':>{text_len}}: {np.nanmin(feature)}\")\n",
    "    min_outliers, max_outliers = get_outliers_IQR(feature, quantile_range=quantile_range)\n",
    "    print(f\"{'outlier min':>{text_len}}: {min_outliers}\")\n",
    "    print(f\"{'outlier max':>{text_len}}: {max_outliers}\")\n",
    "    print(f\"{'outliers':>{text_len}}: {((non_nan_feature < min_outliers) | (non_nan_feature > max_outliers)).mean():.1%}\")\n",
    "    print(f\"{'mean':>{text_len}}: {np.nanmean(feature)}\")\n",
    "    print(f\"{'std':>{text_len}}: {np.nanstd(feature)}\")\n",
    "    print(f\"{'normal dist':>{text_len}}: {normaltest(non_nan_feature, axis=0, nan_policy='propagate')[1] > .05}\")\n",
    "    plt.figure(figsize=figsize)\n",
    "    if clip_outliers_plot:\n",
    "        plt.hist(np.clip(non_nan_feature, min_outliers, max_outliers), bins, density=density, color='lime', edgecolor='black')\n",
    "    else: \n",
    "        plt.hist(non_nan_feature, bins, density=density, color='lime', edgecolor='black')\n",
    "    plt.axvline(min_outliers, lw=1, ls='--', color='red')\n",
    "    plt.axvline(max_outliers, lw=1, ls='--', color='red')\n",
    "    plt.title(f\"feature: {feature_name}\")\n",
    "    plt.show()\n",
    "    \n",
    "def analyze_array(o, bins=100, density=False, feature_names=None, clip_outliers_plot=False, quantile_range=(25.0, 75.0), \n",
    "           percentiles=[1, 25, 50, 75, 99], text_len=12, figsize=(10,6)):\n",
    "    if percentiles:\n",
    "        percentiles = np.sort(percentiles)[::-1]\n",
    "    print(f\"{'array shape':>{text_len}}: {o.shape}\")\n",
    "    if o.ndim > 1:\n",
    "        for f in range(o.shape[1]):\n",
    "            feature_name = f\"{feature_names[f]}\" if feature_names is not None else f\n",
    "            print(f\"\\n{f:3} {'feature':>{text_len - 4}}: {feature_name}\\n\")\n",
    "            analyze_feature(o[:, f].flatten(), feature_name=feature_name)\n",
    "    else:\n",
    "        analyze_feature(o.flatten(), feature_name=feature_names)        "
   ]
  },
  {
   "cell_type": "code",
   "execution_count": null,
   "metadata": {},
   "outputs": [
    {
     "name": "stdout",
     "output_type": "stream",
     "text": [
      " array shape: (1000,)\n",
      "       dtype: float64\n",
      "  nan values: 0.0%\n",
      "         max: 2.834536550458444\n",
      "           1: -2.233252886632196\n",
      "          25: -0.7130652632718217\n",
      "          50: -0.010035608009108268\n",
      "          75: 0.6745471889321126\n",
      "          99: 2.147397831090856\n",
      "         min: -2.795074934711634\n",
      " outlier min: -2.794483941577723\n",
      " outlier max: 2.755965867238014\n",
      "    outliers: 0.2%\n",
      "        mean: -0.01612382257136098\n",
      "         std: 0.9823579834092578\n",
      " normal dist: True\n"
     ]
    },
    {
     "data": {
      "image/png": "[encoded data removed]",
      "text/plain": [
       "<Figure size 720x432 with 1 Axes>"
      ]
     },
     "metadata": {
      "needs_background": "light"
     },
     "output_type": "display_data"
    }
   ],
   "source": [
    "x = np.random.normal(size=(1000))\n",
    "analyze_array(x)"
   ]
  },
  {
   "cell_type": "code",
   "execution_count": null,
   "metadata": {},
   "outputs": [
    {
     "name": "stdout",
     "output_type": "stream",
     "text": [
      " array shape: (1000, 2)\n",
      "\n",
      "  0  feature: 0\n",
      "\n",
      "       dtype: float64\n",
      "  nan values: 0.0%\n",
      "         max: 20.196476714548915\n",
      "           1: -9.482577029734582\n",
      "          25: -0.23112040976077006\n",
      "          50: 3.1406246568751244\n",
      "          75: 6.554752047140204\n",
      "          99: 14.547035923148922\n",
      "         min: -13.69039751989469\n",
      " outlier min: -10.409929095112231\n",
      " outlier max: 16.733560732491664\n",
      "    outliers: 1.2%\n",
      "        mean: 3.1273432578218303\n",
      "         std: 5.116288270936447\n",
      " normal dist: True\n"
     ]
    },
    {
     "data": {
      "image/png": "[encoded data removed]",
      "text/plain": [
       "<Figure size 720x432 with 1 Axes>"
      ]
     },
     "metadata": {
      "needs_background": "light"
     },
     "output_type": "display_data"
    },
    {
     "name": "stdout",
     "output_type": "stream",
     "text": [
      "\n",
      "  1  feature: 1\n",
      "\n",
      "       dtype: float64\n",
      "  nan values: 0.0%\n",
      "         max: 19.83438015695223\n",
      "           1: -8.189544500980482\n",
      "          25: 0.06425629228048195\n",
      "          50: 3.2429118652926157\n",
      "          75: 6.474789395503235\n",
      "          99: 15.832992606037855\n",
      "         min: -11.771309043369433\n",
      " outlier min: -9.551543362553646\n",
      " outlier max: 16.090589050337364\n",
      "    outliers: 1.2%\n",
      "        mean: 3.212784469110814\n",
      "         std: 4.940812134347808\n",
      " normal dist: True\n"
     ]
    },
    {
     "data": {
      "image/png": "[encoded data removed]",
      "text/plain": [
       "<Figure size 720x432 with 1 Axes>"
      ]
     },
     "metadata": {
      "needs_background": "light"
     },
     "output_type": "display_data"
    }
   ],
   "source": [
    "x1 = np.random.normal(size=(1000,2))\n",
    "x2 = np.random.normal(3, 5, size=(1000,2))\n",
    "x = x1 + x2\n",
    "analyze_array(x)"
   ]
  },
  {
   "cell_type": "code",
   "execution_count": null,
   "metadata": {},
   "outputs": [],
   "source": [
    "#export\n",
    "def get_relpath(path):\n",
    "    current_path = os.getcwd()\n",
    "    if is_listy(path):\n",
    "        relpaths = []\n",
    "        for p in path:\n",
    "            relpaths.append(os.path.relpath(p, current_path))\n",
    "        return relpaths\n",
    "    else:\n",
    "        return os.path.relpath(path, current_path)"
   ]
  },
  {
   "cell_type": "code",
   "execution_count": null,
   "metadata": {},
   "outputs": [],
   "source": [
    "#export\n",
    "def split_in_chunks(o, chunksize, start=0, shuffle=False, drop_last=False):\n",
    "    stop = ((len(o) - start)//chunksize*chunksize) if drop_last else None\n",
    "    chunk_list = []\n",
    "    for s in np.arange(len(o))[start:stop:chunksize]:\n",
    "        chunk_list.append(np.random.permutation(o[slice(s, s+chunksize)]) if shuffle else o[slice(s, s+chunksize)])\n",
    "    if shuffle: random.shuffle(chunk_list)\n",
    "    return chunk_list"
   ]
  },
  {
   "cell_type": "code",
   "execution_count": null,
   "metadata": {},
   "outputs": [],
   "source": [
    "a = np.arange(5, 15)\n",
    "test_eq(split_in_chunks(a, 3, drop_last=False), [array([5, 6, 7]), array([ 8,  9, 10]), array([11, 12, 13]), array([14])])\n",
    "test_eq(split_in_chunks(a, 3, drop_last=True), [array([5, 6, 7]), array([ 8,  9, 10]), array([11, 12, 13])])\n",
    "test_eq(split_in_chunks(a, 3, start=2, drop_last=True), [array([7, 8, 9]), array([10, 11, 12])])"
   ]
  },
  {
   "cell_type": "code",
   "execution_count": null,
   "metadata": {},
   "outputs": [],
   "source": [
    "#export\n",
    "def save_object(o, file_path, verbose=True):\n",
    "    file_path = Path(file_path)\n",
    "    if not file_path.suffix == '.pkl':\n",
    "        file_path = file_path.parent / (file_path.name + '.pkl')\n",
    "    create_dir(file_path.parent, verbose)\n",
    "    joblib.dump(o, file_path, )\n",
    "    pv(f'{type(o).__name__} saved as {file_path}', verbose)\n",
    "    \n",
    "def load_object(file_path):\n",
    "    file_path = Path(file_path)\n",
    "    if not file_path.suffix == '.pkl':\n",
    "        file_path = file_path.parent / (file_path.name + '.pkl')\n",
    "    return joblib.load(file_path)"
   ]
  },
  {
   "cell_type": "code",
   "execution_count": null,
   "metadata": {},
   "outputs": [
    {
     "name": "stdout",
     "output_type": "stream",
     "text": [
      "data directory already exists.\n",
      "ndarray saved as data/test.pkl\n"
     ]
    }
   ],
   "source": [
    "split = np.arange(100)\n",
    "save_object(split, file_path='data/test')\n",
    "split2 = load_object('data/test.pkl')\n",
    "test_eq(split, split2)"
   ]
  },
  {
   "cell_type": "code",
   "execution_count": null,
   "metadata": {},
   "outputs": [
    {
     "name": "stdout",
     "output_type": "stream",
     "text": [
      "data directory already exists.\n",
      "L saved as data/test.pkl\n"
     ]
    }
   ],
   "source": [
    "splits = L([[[0,1,2,3,4], [5,6,7,8,9]],[[10,11,12,13,14], [15,16,17,18,19]]])\n",
    "save_object(splits, file_path=Path('data/test'))\n",
    "splits2 = load_object('data/test')\n",
    "test_eq(splits, splits2)"
   ]
  },
  {
   "cell_type": "code",
   "execution_count": null,
   "metadata": {},
   "outputs": [],
   "source": [
    "#export\n",
    "def get_idxs_to_keep(o, cond, crit='all', invert=False, axis=(1,2), keepdims=False):\n",
    "    idxs_to_keep = cond(o)\n",
    "    if isinstance(o, torch.Tensor):\n",
    "        axis = tuplify(axis)\n",
    "        for ax in axis[::-1]: \n",
    "            if crit == 'all':\n",
    "                idxs_to_keep = torch.all(idxs_to_keep, axis=ax, keepdim=keepdims)\n",
    "            elif crit == 'any':\n",
    "                idxs_to_keep = torch.any(idxs_to_keep, axis=ax, keepdim=keepdims)\n",
    "        if invert: idxs_to_keep =  ~idxs_to_keep\n",
    "        return idxs_to_keep\n",
    "    else: \n",
    "        if crit == 'all':\n",
    "            idxs_to_keep = np.all(idxs_to_keep, axis=axis, keepdims=keepdims)\n",
    "        elif crit == 'any':\n",
    "            idxs_to_keep = np.any(idxs_to_keep, axis=axis, keepdims=keepdims)\n",
    "        if invert: idxs_to_keep = ~idxs_to_keep\n",
    "        return idxs_to_keep"
   ]
  },
  {
   "cell_type": "code",
   "execution_count": null,
   "metadata": {},
   "outputs": [],
   "source": [
    "a = np.random.rand(100, 2, 10)\n",
    "a[a > .95] = np.nan\n",
    "idxs_to_keep = get_idxs_to_keep(a, np.isfinite)\n",
    "if idxs_to_keep.size>0: \n",
    "    test_eq(np.isnan(a[idxs_to_keep]).sum(), 0)"
   ]
  },
  {
   "cell_type": "code",
   "execution_count": null,
   "metadata": {},
   "outputs": [
    {
     "data": {
      "application/javascript": [
       "IPython.notebook.save_checkpoint();"
      ],
      "text/plain": [
       "<IPython.core.display.Javascript object>"
      ]
     },
     "metadata": {},
     "output_type": "display_data"
    },
    {
     "name": "stdout",
     "output_type": "stream",
     "text": [
      "001_utils.ipynb saved at 2022-04-17 09:34:51.\n",
      "Converted 001_utils.ipynb.\n",
      "\n",
      "\n",
      "Correct conversion! 😃\n",
      "Total time elapsed 0.108 s\n",
      "Sunday 17/04/22 09:34:57 CEST\n"
     ]
    },
    {
     "data": {
      "text/html": [
       "\n",
       "                <audio  controls=\"controls\" autoplay=\"autoplay\">\n",
       "                    <source src=\"data:audio/wav;base64,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\" type=\"audio/wav\" />\n",
       "                    Your browser does not support the audio element.\n",
       "                </audio>\n",
       "              "
      ],
      "text/plain": [
       "<IPython.lib.display.Audio object>"
      ]
     },
     "metadata": {},
     "output_type": "display_data"
    }
   ],
   "source": [
    "#hide\n",
    "from tsai.imports import *\n",
    "from tsai.export import *\n",
    "nb_name = get_nb_name()\n",
    "# nb_name = \"001_utils.ipynb\"\n",
    "create_scripts(nb_name);"
   ]
  },
  {
   "cell_type": "code",
   "execution_count": null,
   "metadata": {},
   "outputs": [],
   "source": []
  }
 ],
 "metadata": {
  "kernelspec": {
   "display_name": "Python 3 (ipykernel)",
   "language": "python",
   "name": "python3"
  }
 },
 "nbformat": 4,
 "nbformat_minor": 4
}
