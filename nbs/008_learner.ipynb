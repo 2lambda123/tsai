{
 "cells": [
  {
   "cell_type": "code",
   "execution_count": null,
   "metadata": {},
   "outputs": [],
   "source": [
    "# default_exp learner"
   ]
  },
  {
   "cell_type": "markdown",
   "metadata": {},
   "source": [
    "# Learner\n",
    "\n",
    "> This contains fastai2 Learner extensions."
   ]
  },
  {
   "cell_type": "code",
   "execution_count": null,
   "metadata": {},
   "outputs": [],
   "source": [
    "#export\n",
    "from fastai2.learner import * \n",
    "from tsai.imports import *\n",
    "from tsai.data.external import *\n",
    "from tsai.data.core import *\n",
    "from tsai.models.InceptionTime import *"
   ]
  },
  {
   "cell_type": "code",
   "execution_count": null,
   "metadata": {},
   "outputs": [],
   "source": [
    "#export\n",
    "@patch\n",
    "def save_all(self:Learner, path='export', dls_fname='dls', model_fname='model', learner_fname='learner'):\n",
    "    \n",
    "    path = Path(path)\n",
    "    if not os.path.exists(path): os.makedirs(path)\n",
    "\n",
    "    # Save the dls\n",
    "    torch.save(self.dls, path/f'{dls_fname}.pth')\n",
    "\n",
    "    # Saves the model along with optimizer\n",
    "    self.model_dir = path\n",
    "    self.save(model_fname)\n",
    "\n",
    "    # Export learn without the items and the optimizer state for inference\n",
    "    self.export(path/f'{learner_fname}.pkl')\n",
    "    \n",
    "    print(f'Learner saved:')\n",
    "    print(f\"path          = '{path}'\")\n",
    "    print(f\"dls_fname     = '{dls_fname}'\")\n",
    "    print(f\"model_fname   = '{model_fname}.pth'\")\n",
    "    print(f\"learner_fname = '{learner_fname}.pkl'\")\n",
    "    \n",
    "# Learner.save_all = save_all\n",
    "    \n",
    "    \n",
    "def load_learner_all(path='export', dls_fname='dls', model_fname='model', learner_fname='learner', cpu=True):\n",
    "    path = Path(path)\n",
    "    learn = load_learner(path/f'{learner_fname}.pkl', cpu=cpu)\n",
    "    learn.load(f'{model_fname}')\n",
    "    dls = torch.load(path/f'{dls_fname}.pth')\n",
    "    learn.dls = dls\n",
    "    return learn"
   ]
  },
  {
   "cell_type": "code",
   "execution_count": null,
   "metadata": {},
   "outputs": [],
   "source": [
    "#export\n",
    "@patch\n",
    "@delegates(subplots)\n",
    "def plot_metrics(self: Recorder, nrows=None, ncols=None, figsize=None, **kwargs):\n",
    "    metrics = np.stack(self.values)\n",
    "    names = self.metric_names[1:-1]\n",
    "    n = len(names) - 1\n",
    "    if nrows is None and ncols is None:\n",
    "        nrows = int(math.sqrt(n))\n",
    "        ncols = int(np.ceil(n / nrows))\n",
    "    elif nrows is None: nrows = int(np.ceil(n / ncols))\n",
    "    elif ncols is None: ncols = int(np.ceil(n / nrows))\n",
    "    figsize = figsize or (ncols * 6, nrows * 4)\n",
    "    fig, axs = subplots(nrows, ncols, figsize=figsize, **kwargs)\n",
    "    axs = [ax if i < n else ax.set_axis_off() for i, ax in enumerate(axs.flatten())][:n]\n",
    "    for i, (name, ax) in enumerate(zip(names, [axs[0]] + axs)):\n",
    "        ax.plot(metrics[:, i], color='#1f77b4' if i == 0 else '#ff7f0e', label='valid' if i > 0 else 'train')\n",
    "        ax.set_title(name if i > 1 else 'losses')\n",
    "        ax.legend(loc='best')\n",
    "    plt.show()"
   ]
  },
  {
   "cell_type": "code",
   "execution_count": null,
   "metadata": {},
   "outputs": [
    {
     "name": "stdout",
     "output_type": "stream",
     "text": [
      "Dataset: OliveOil\n",
      "X_train: (30, 1, 570)\n",
      "y_train: (30,)\n",
      "X_valid: (30, 1, 570)\n",
      "y_valid: (30,) \n",
      "\n"
     ]
    },
    {
     "data": {
      "text/html": [
       "<table border=\"1\" class=\"dataframe\">\n",
       "  <thead>\n",
       "    <tr style=\"text-align: left;\">\n",
       "      <th>epoch</th>\n",
       "      <th>train_loss</th>\n",
       "      <th>valid_loss</th>\n",
       "      <th>accuracy</th>\n",
       "      <th>time</th>\n",
       "    </tr>\n",
       "  </thead>\n",
       "  <tbody>\n",
       "    <tr>\n",
       "      <td>0</td>\n",
       "      <td>1.683419</td>\n",
       "      <td>1.413022</td>\n",
       "      <td>0.133333</td>\n",
       "      <td>00:10</td>\n",
       "    </tr>\n",
       "  </tbody>\n",
       "</table>"
      ],
      "text/plain": [
       "<IPython.core.display.HTML object>"
      ]
     },
     "metadata": {},
     "output_type": "display_data"
    }
   ],
   "source": [
    "dsid = 'OliveOil'\n",
    "X_train, y_train, X_valid, y_valid = get_UCR_data(dsid, parent_dir='./data/UCR/', verbose=True, on_disk=True)\n",
    "X = concat(X_train, X_valid)\n",
    "y = concat(y_train, y_valid)\n",
    "splits = (L(list(np.arange(len(X_train)))), L(list(np.arange(len(X_train), len(X)))))\n",
    "tfms  = [None, [Categorize()]]\n",
    "dsets = TSDatasets(X, y, tfms=tfms, splits=splits, inplace=True)\n",
    "dls   = TSDataLoaders.from_dsets(dsets.train, dsets.valid, bs=[64, 128])\n",
    "model = InceptionTime(dls.vars, dls.c)\n",
    "learn = Learner(dls, model, metrics=accuracy)\n",
    "learn.fit_one_cycle(1, lr_max=1e-3)"
   ]
  },
  {
   "cell_type": "code",
   "execution_count": null,
   "metadata": {},
   "outputs": [
    {
     "name": "stdout",
     "output_type": "stream",
     "text": [
      "Learner saved:\n",
      "path          = 'export'\n",
      "dls_fname     = 'dls'\n",
      "model_fname   = 'model.pth'\n",
      "learner_fname = 'learner.pkl'\n"
     ]
    }
   ],
   "source": [
    "learn.save_all()\n",
    "del learn\n",
    "learn = load_learner_all()"
   ]
  },
  {
   "cell_type": "code",
   "execution_count": null,
   "metadata": {},
   "outputs": [
    {
     "data": {
      "image/png": "[encoded data removed]",
      "text/plain": [
       "<Figure size 864x288 with 2 Axes>"
      ]
     },
     "metadata": {
      "needs_background": "light"
     },
     "output_type": "display_data"
    }
   ],
   "source": [
    "learn.recorder.plot_metrics()"
   ]
  },
  {
   "cell_type": "code",
   "execution_count": null,
   "metadata": {},
   "outputs": [
    {
     "data": {
      "application/javascript": [
       "IPython.notebook.save_checkpoint()"
      ],
      "text/plain": [
       "<IPython.core.display.Javascript object>"
      ]
     },
     "metadata": {},
     "output_type": "display_data"
    },
    {
     "name": "stdout",
     "output_type": "stream",
     "text": [
      "\n",
      "Current notebook saved.\n",
      "\n",
      "Converted 000_utils.ipynb.\n",
      "Converted 001_data.external.ipynb.\n",
      "Converted 002_data.core.ipynb.\n",
      "Converted 003_data.transforms.ipynb.\n",
      "Converted 005_data.tabular.ipynb.\n",
      "Converted 006_data.validation.ipynb.\n",
      "Converted 007_metrics.ipynb.\n",
      "Converted 008_learner.ipynb.\n",
      "Converted 009_optimizers.ipynb.\n",
      "Converted 010_rocket_functions.ipynb.\n",
      "Converted 100_layers.ipynb.\n",
      "Converted 100b_models_utils.ipynb.\n",
      "Converted 101_ResNet.ipynb.\n",
      "Converted 102_InceptionTime.ipynb.\n",
      "Converted index.ipynb.\n",
      "\n",
      "Checking folder: /Users/nacho/Documents/Machine_Learning/Jupyter_Notebooks/timeseries/tsai\n",
      "Correct conversion! 😃\n",
      "Total elapsed time 11 s\n",
      "21-04-2020 16:29:21\n"
     ]
    },
    {
     "data": {
      "text/html": [
       "\n",
       "                <audio  controls=\"controls\" autoplay=\"autoplay\">\n",
       "                    <source src=\"data:audio/wav;base64,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\" type=\"audio/wav\" />\n",
       "                    Your browser does not support the audio element.\n",
       "                </audio>\n",
       "              "
      ],
      "text/plain": [
       "<IPython.lib.display.Audio object>"
      ]
     },
     "execution_count": null,
     "metadata": {},
     "output_type": "execute_result"
    }
   ],
   "source": [
    "#hide\n",
    "create_scripts()\n",
    "beep()"
   ]
  }
 ],
 "metadata": {
  "kernelspec": {
   "display_name": "Python 3",
   "language": "python",
   "name": "python3"
  }
 },
 "nbformat": 4,
 "nbformat_minor": 2
}
