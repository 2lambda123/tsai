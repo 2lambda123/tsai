{
 "cells": [
  {
   "cell_type": "code",
   "execution_count": null,
   "metadata": {},
   "outputs": [],
   "source": [
    "# default_exp wandb"
   ]
  },
  {
   "cell_type": "markdown",
   "metadata": {},
   "source": [
    "# Weights & Biases Sweeps\n",
    "\n",
    "> Weights & Biases Sweeps are used to automate hyperparameter optimization and explore the space of possible models."
   ]
  },
  {
   "cell_type": "code",
   "execution_count": null,
   "metadata": {},
   "outputs": [],
   "source": [
    "# export\n",
    "import os\n",
    "from fastcore.script import *\n",
    "from fastcore.xtras import *\n",
    "from tsai.imports import *\n",
    "from tsai.utils import *"
   ]
  },
  {
   "cell_type": "code",
   "execution_count": null,
   "metadata": {},
   "outputs": [],
   "source": [
    "# export\n",
    "@call_parse\n",
    "def run_sweep(\n",
    "    sweep: Param(\"Path to YAML file with the sweep config\", str),\n",
    "    program: Param(\"Path to Python training script\", str),\n",
    "    launch: Param(\"Launch wanbd agent.\", store_false) = True,\n",
    "    count: Param(\"Number of runs to execute\", int) = None,\n",
    "    entity: Param(\"username or team name where you're sending runs\", str) = None,\n",
    "    project: Param(\"The name of the project where you're sending the new run.\", str) = None,\n",
    "    sweep_id: Param(\"Sweep ID. This option omits `sweep`\", str) = None,\n",
    "    relogin: Param(\"Relogin to wandb.\", store_true) = False,\n",
    "    login_key: Param(\"Login key for wandb\", str) = None,\n",
    "    tags: Param(\"Tag assigned to this run\", str) = None,\n",
    "):\n",
    "    \n",
    "    assert os.path.isfile(sweep), f\"can't find file {sweep}\"\n",
    "    assert os.path.isfile(program), f\"can't find file {program}\"\n",
    "    \n",
    "    try:\n",
    "        import wandb\n",
    "    except ImportError:\n",
    "        raise ImportError('You need to install wandb to run sweeps!')\n",
    "    import yaml\n",
    "\n",
    "    # Login to W&B\n",
    "    if relogin:\n",
    "        wandb.login(relogin=True)\n",
    "    elif login_key:\n",
    "        wandb.login(key=login_key)\n",
    "\n",
    "    # Sweep id\n",
    "    if not sweep_id:\n",
    "\n",
    "        # Load the sweep config\n",
    "        if isinstance(sweep, str): sweep = yaml2dict(sweep)\n",
    "\n",
    "        # Initialize the sweep\n",
    "        print('Initializing sweep...')\n",
    "        sweep_id = wandb.sweep(sweep=sweep, entity=entity, project=project)\n",
    "        print('...sweep initialized')\n",
    "\n",
    "    # Load your training script\n",
    "    print('Loading training script...')\n",
    "    train_script, file_path = import_file_as_module(program, True)\n",
    "    train_fn = getattr(train_script, \"train\")\n",
    "    print('...training script loaded')\n",
    "\n",
    "\n",
    "    # Launch agent\n",
    "    if launch: print('\\nRun additional sweep agents with:\\n')\n",
    "    else: print('\\nRun sweep agent with:\\n')\n",
    "    print('    from a notebook:')\n",
    "    print('        import wandb')\n",
    "    print(f'        from {file_path} import train')\n",
    "    print(f\"        wandb.agent('{sweep_id}', function=train, count=None)\\n\")\n",
    "    print('    from a terminal:')\n",
    "    print(f\"        wandb agent {os.environ['WANDB_ENTITY']}/{os.environ['WANDB_PROJECT']}/{sweep_id}\\n\")\n",
    "    if launch:\n",
    "        print('Running agent...')\n",
    "        wandb.agent(sweep_id, function=train_fn, count=count)"
   ]
  },
  {
   "cell_type": "code",
   "execution_count": null,
   "metadata": {},
   "outputs": [],
   "source": [
    "#hide\n",
    "out = create_scripts()\n",
    "beep(out)"
   ]
  },
  {
   "cell_type": "code",
   "execution_count": null,
   "metadata": {},
   "outputs": [],
   "source": []
  }
 ],
 "metadata": {
  "kernelspec": {
   "display_name": "Python 3",
   "language": "python",
   "name": "python3"
  }
 },
 "nbformat": 4,
 "nbformat_minor": 2
}
