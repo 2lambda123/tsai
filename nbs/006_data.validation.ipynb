{
 "cells": [
  {
   "cell_type": "code",
   "execution_count": null,
   "metadata": {},
   "outputs": [],
   "source": [
    "# default_exp data.validation"
   ]
  },
  {
   "cell_type": "markdown",
   "metadata": {},
   "source": [
    "# Data Validation\n",
    "\n",
    "> This contains functions required to perform cross-validation."
   ]
  },
  {
   "cell_type": "code",
   "execution_count": null,
   "metadata": {},
   "outputs": [],
   "source": [
    "#export\n",
    "from tsai.imports import *"
   ]
  },
  {
   "cell_type": "code",
   "execution_count": null,
   "metadata": {},
   "outputs": [],
   "source": [
    "#export\n",
    "from sklearn.model_selection import StratifiedKFold, KFold\n",
    "from imblearn.over_sampling import RandomOverSampler\n",
    "from collections import Counter"
   ]
  },
  {
   "cell_type": "code",
   "execution_count": null,
   "metadata": {},
   "outputs": [],
   "source": [
    "#export\n",
    "def get_train_val_test_idxs(y, n_folds, test_fold=False, stratified=False, oversample=False, seed=1):\n",
    "    splitter = StratifiedKFold if stratified else KFold\n",
    "    if isinstance(y, np.ndarray): y = torch.Tensor(y).to(dtype=torch.int64)\n",
    "    folds = 5 if n_folds == 1 else n_folds\n",
    "    if test_fold:\n",
    "        outer_folds = list(splitter(n_splits=folds + 1, shuffle=True, random_state=seed).split(np.zeros(len(y)), y))\n",
    "        test_idx = outer_folds[0][1]\n",
    "        inner_idxs = outer_folds[0][0]\n",
    "        inner_folds = splitter(n_splits=folds, shuffle=True, random_state=seed).split(np.zeros(len(inner_idxs)), y[inner_idxs])\n",
    "        train_idx = []\n",
    "        val_idx = []\n",
    "        for train, val in inner_folds:\n",
    "            if oversample:train = oversampled_idxs(y[inner_idxs], train, seed=seed)\n",
    "            train_idx.append(inner_idxs[train])\n",
    "            val_idx.append(inner_idxs[val])\n",
    "        if n_folds == 1: return [train_idx[0]], [val_idx[0]], test_idx\n",
    "        return train_idx, val_idx, test_idx\n",
    "    else:\n",
    "        inner_folds = splitter(n_splits=folds, shuffle=True, random_state=seed).split(np.zeros(len(y)), y)\n",
    "        train_idx = []\n",
    "        val_idx = []\n",
    "        for train, val in inner_folds:\n",
    "            if oversample: train = oversampled_idxs(y, train, seed=seed)\n",
    "            train_idx.append(train)\n",
    "            val_idx.append(val)\n",
    "        if n_folds == 1: return [train_idx[0]], [val_idx[0]], None\n",
    "        return train_idx, val_idx, None"
   ]
  },
  {
   "cell_type": "code",
   "execution_count": null,
   "metadata": {},
   "outputs": [],
   "source": [
    "#export\n",
    "def leakage_finder(train, val, test=None):\n",
    "    if check_overlap(train, val) is not None:\n",
    "        print('train-val leakage!')\n",
    "        return check_overlap(train, val)\n",
    "    if test is not None:\n",
    "        if check_overlap(train, test) is not None:\n",
    "            print('train-test leakage!')\n",
    "            return check_overlap(train, test)\n",
    "        if check_overlap(val, test) is not None:\n",
    "            print('val-test leakage!')\n",
    "            return check_overlap(val, test)\n",
    "    return\n",
    "\n",
    "def check_overlap(a, b):\n",
    "    overlap = [i for i in a if i in b]\n",
    "    if overlap == []: return\n",
    "    return overlap"
   ]
  },
  {
   "cell_type": "code",
   "execution_count": null,
   "metadata": {},
   "outputs": [],
   "source": [
    "#export\n",
    "def oversampled_idxs(y, idx, seed=1, verbose=False):\n",
    "    ros = RandomOverSampler(random_state=seed)\n",
    "    resampled_idxs, y_resampled = ros.fit_resample(idx.reshape(-1, 1), y[idx])\n",
    "    if verbose: print('classes:', count_classes(y_resampled))\n",
    "    return np.sort(resampled_idxs.ravel())"
   ]
  },
  {
   "cell_type": "code",
   "execution_count": null,
   "metadata": {},
   "outputs": [],
   "source": [
    "#hide\n",
    "create_scripts()\n",
    "beep()"
   ]
  },
  {
   "cell_type": "code",
   "execution_count": null,
   "metadata": {},
   "outputs": [],
   "source": []
  }
 ],
 "metadata": {
  "kernelspec": {
   "display_name": "Python 3",
   "language": "python",
   "name": "python3"
  }
 },
 "nbformat": 4,
 "nbformat_minor": 2
}
