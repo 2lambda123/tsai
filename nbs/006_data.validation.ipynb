{
 "cells": [
  {
   "cell_type": "code",
   "execution_count": null,
   "metadata": {},
   "outputs": [],
   "source": [
    "# default_exp data.validation"
   ]
  },
  {
   "cell_type": "markdown",
   "metadata": {},
   "source": [
    "# Data Validation\n",
    "\n",
    "> This contains functions required to perform cross-validation."
   ]
  },
  {
   "cell_type": "code",
   "execution_count": null,
   "metadata": {},
   "outputs": [],
   "source": [
    "#export\n",
    "from tsai.imports import *"
   ]
  },
  {
   "cell_type": "code",
   "execution_count": null,
   "metadata": {},
   "outputs": [],
   "source": [
    "#export\n",
    "from sklearn.model_selection import train_test_split"
   ]
  },
  {
   "cell_type": "code",
   "execution_count": null,
   "metadata": {},
   "outputs": [],
   "source": [
    "#export\n",
    "def TrainValTestSplitter(valid_size=0.2, test_size=0.2, random_state=None, stratify=None, **kwargs):\n",
    "    \"Split `items` into random train, valid and test subsets using sklearn train_test_split utility.\"\n",
    "    valid_size = valid_size / (1 - test_size)\n",
    "    stratify1 = None if stratify is None else stratify\n",
    "    def _inner(o, **kwargs):\n",
    "        train_valid, test = train_test_split(range(len(o)), test_size=test_size, random_state=random_state, stratify=stratify1, **kwargs)\n",
    "        stratify2 = None if stratify1 is None else stratify1[train_valid]\n",
    "        train, valid = train_test_split(range(len(train_valid)), test_size=valid_size, random_state=random_state, stratify=stratify2, **kwargs)\n",
    "        return L(L(train_valid)[train]), L(L(train_valid)[valid]), L(test)\n",
    "    return _inner\n",
    "\n",
    "def get_splits(y, valid_size=0.2, test_size=0.2, stratify=True, merge_train_valid=False, merge_train_test=False, train_perc=None, \n",
    "               random_state=None, **kwargs):\n",
    "    if test_size == 0: splits = L(TrainTestSplitter(test_size=valid_size, random_state=random_state, stratify=y if stratify else None)(y))\n",
    "    else: splits = L(TrainValTestSplitter(valid_size=valid_size, test_size=test_size, random_state=random_state, stratify=y if stratify else None)(y))\n",
    "    if merge_train_valid: splits[0] = concat(splits[0], splits[1])\n",
    "    if merge_train_test: splits[0] = concat(splits[0], splits[2])\n",
    "    if train_perc: splits[0] = L(np.random.choice(len(train), int(len(train) * train_perc), False))\n",
    "    leakage_finder(*splits)\n",
    "    return splits\n",
    "\n",
    "def check_overlap(a, b):\n",
    "    overlap = L([i for i in a if i in b])\n",
    "    if overlap == []: return\n",
    "    return overlap\n",
    "\n",
    "def leakage_finder(train, val, test=None):\n",
    "    if check_overlap(train, val) is not None:\n",
    "        print('train-val leakage!')\n",
    "        print(check_overlap(train, val), '\\n')\n",
    "    if test is not None:\n",
    "        if check_overlap(train, test) is not None:\n",
    "            print('train-test leakage!')\n",
    "            print(check_overlap(train, test), '\\n')\n",
    "        if check_overlap(val, test) is not None:\n",
    "            print('val-test leakage!')\n",
    "            print(check_overlap(val, test), '\\n')"
   ]
  },
  {
   "cell_type": "code",
   "execution_count": null,
   "metadata": {},
   "outputs": [],
   "source": [
    "#hide\n",
    "out = create_scripts()\n",
    "beep(out)"
   ]
  }
 ],
 "metadata": {
  "kernelspec": {
   "display_name": "Python 3",
   "language": "python",
   "name": "python3"
  }
 },
 "nbformat": 4,
 "nbformat_minor": 2
}
