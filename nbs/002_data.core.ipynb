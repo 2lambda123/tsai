{
 "cells": [
  {
   "cell_type": "code",
   "execution_count": null,
   "metadata": {},
   "outputs": [],
   "source": [
    "# default_exp data.core"
   ]
  },
  {
   "cell_type": "markdown",
   "metadata": {},
   "source": [
    "# Data Core\n",
    "\n",
    "> Main Numpy and Times Series functions used throughout the library."
   ]
  },
  {
   "cell_type": "code",
   "execution_count": null,
   "metadata": {},
   "outputs": [],
   "source": [
    "#export\n",
    "from tsai.imports import *\n",
    "from tsai.utils import *\n",
    "from tsai.data.external import *\n",
    "from tsai.data.validation import *"
   ]
  },
  {
   "cell_type": "code",
   "execution_count": null,
   "metadata": {},
   "outputs": [
    {
     "name": "stdout",
     "output_type": "stream",
     "text": [
      "Dataset: OliveOil\n",
      "X_train: (30, 1, 570)\n",
      "y_train: (30,)\n",
      "X_valid: (30, 1, 570)\n",
      "y_valid: (30,) \n",
      "\n",
      "Dataset: OliveOil\n",
      "X      : (60, 1, 570)\n",
      "y      : (60,)\n",
      "splits : ([0, 1, 2, 3, 4, 5, 6, 7, 8, 9, 10, 11, 12, 13, 14, 15, 16, 17, 18, 19, 20, 21, 22, 23, 24, 25, 26, 27, 28, 29], [30, 31, 32, 33, 34, 35, 36, 37, 38, 39, 40, 41, 42, 43, 44, 45, 46, 47, 48, 49, 50, 51, 52, 53, 54, 55, 56, 57, 58, 59]) \n",
      "\n",
      "Dataset: OliveOil\n",
      "X      : (60, 1, 570)\n",
      "y      : (60,)\n",
      "splits : ([0, 1, 2, 3, 4, 5, 6, 7, 8, 9, 10, 11, 12, 13, 14, 15, 16, 17, 18, 19, 20, 21, 22, 23, 24, 25, 26, 27, 28, 29], [30, 31, 32, 33, 34, 35, 36, 37, 38, 39, 40, 41, 42, 43, 44, 45, 46, 47, 48, 49, 50, 51, 52, 53, 54, 55, 56, 57, 58, 59]) \n",
      "\n"
     ]
    }
   ],
   "source": [
    "dsid = 'OliveOil'\n",
    "X_train, y_train, X_valid, y_valid = get_UCR_data(dsid, parent_dir='./data/UCR/', verbose=True, on_disk=True)\n",
    "X_on_disk, y_on_disk, splits = get_UCR_data(dsid, parent_dir='./data/UCR/', verbose=True, on_disk=True, return_split=False)\n",
    "X_in_memory, y_in_memory, splits = get_UCR_data(dsid, parent_dir='./data/UCR/', verbose=True, on_disk=False, return_split=False)\n",
    "y_tensor = cat2int(y_on_disk)\n",
    "y_array = y_tensor.numpy()"
   ]
  },
  {
   "cell_type": "code",
   "execution_count": null,
   "metadata": {},
   "outputs": [],
   "source": [
    "#export\n",
    "def _fa_rebuild_tensor (cls, *args, **kwargs): return cls(torch._utils._rebuild_tensor_v2(*args, **kwargs))\n",
    "def _fa_rebuild_qtensor(cls, *args, **kwargs): return cls(torch._utils._rebuild_qtensor  (*args, **kwargs))"
   ]
  },
  {
   "cell_type": "code",
   "execution_count": null,
   "metadata": {},
   "outputs": [],
   "source": [
    "#hide\n",
    "#old\n",
    "class TensorBase2(Tensor):\n",
    "    def __new__(cls, x, **kwargs):\n",
    "        res = cast(tensor(x), cls)\n",
    "        res._meta = kwargs\n",
    "        return res\n",
    "\n",
    "    @classmethod\n",
    "    def _before_cast(cls, x): return x if isinstance(x,Tensor) else tensor(x)\n",
    "\n",
    "    def __reduce_ex__(self,proto):\n",
    "        torch.utils.hooks.warn_if_has_hooks(self)\n",
    "        args = (type(self), self.storage(), self.storage_offset(), tuple(self.size()), self.stride())\n",
    "        if self.is_quantized: args = args + (self.q_scale(), self.q_zero_point())\n",
    "        f = _fa_rebuild_qtensor if self.is_quantized else  _fa_rebuild_tensor\n",
    "        return (f, args + (self.requires_grad, OrderedDict()))\n",
    "\n",
    "    def gi(self, i):\n",
    "        res = self[i]\n",
    "        return res.as_subclass(type(self)) if isinstance(res,Tensor) else res\n",
    "\n",
    "    def __repr__(self):\n",
    "        return re.sub('tensor', self.__class__.__name__, super().__repr__())"
   ]
  },
  {
   "cell_type": "code",
   "execution_count": null,
   "metadata": {},
   "outputs": [
    {
     "name": "stdout",
     "output_type": "stream",
     "text": [
      "TensorBase(5., grad_fn=<AliasBackward>)\n",
      "TensorBase(10.)\n"
     ]
    }
   ],
   "source": [
    "inp = TensorBase(torch.tensor(5.)).requires_grad_(True)\n",
    "# inp = torch.tensor(5.).requires_grad_(True) # This is OK\n",
    "print(inp)\n",
    "out = inp**2\n",
    "grad = torch.autograd.grad(out, inp, only_inputs=True)[0]\n",
    "print(grad)"
   ]
  },
  {
   "cell_type": "code",
   "execution_count": null,
   "metadata": {},
   "outputs": [
    {
     "data": {
      "text/plain": [
       "tensor(6.1019)"
      ]
     },
     "execution_count": null,
     "metadata": {},
     "output_type": "execute_result"
    }
   ],
   "source": [
    "true_img = TensorBase(torch.randn(2, 3, 16)) # get from Dataloaders\n",
    "# true_img = torch.randn(2, 3, 16) # This is OK\n",
    "w = torch.tensor(3., requires_grad=True)\n",
    "fake_img = torch.randn(2, 3, 16) * w # generate from model\n",
    "def loss_func(fake_img, true_img): return ((fake_img-true_img)**2).mean()\n",
    "loss = loss_func(fake_img, true_img)\n",
    "loss.backward()\n",
    "w.grad"
   ]
  },
  {
   "cell_type": "code",
   "execution_count": null,
   "metadata": {
    "hide_input": true
   },
   "outputs": [],
   "source": [
    "# hide\n",
    "# class NumpyTensor(Tensor): # Temporarily until the issue with require_grad is fixed! TensorBase\n",
    "#     \"Returns a `tensor` with subclass `NumpyTensor` that has a show method\"\n",
    "\n",
    "#     def __new__(cls, o, **kwargs):\n",
    "#         if isinstance(o, (list, L)): o = stack(o)\n",
    "#         res = cast(tensor(o), cls)\n",
    "#         res._meta = kwargs\n",
    "#         return res\n",
    "\n",
    "#     def __getitem__(self, idx):\n",
    "#         res = super().__getitem__(idx)\n",
    "#         return res.as_subclass(type(self))\n",
    "\n",
    "#     def __repr__(self):\n",
    "#         if self.numel() == 1: return f'{self}'\n",
    "#         else: return f'NumpyTensor(shape:{list(self.shape)})'\n",
    "\n",
    "#     def show(self, ax=None, ctx=None, title=None, title_color='black', **kwargs):\n",
    "#         if self.ndim != 2: self = type(self)(to2d(self))\n",
    "#         self = self.detach().cpu().numpy()\n",
    "#         ax = ifnone(ax, ctx)\n",
    "#         if ax is None: fig, ax = plt.subplots(**kwargs)\n",
    "#         ax.plot(self.T)\n",
    "#         ax.axis(xmin=0, xmax=self.shape[-1] - 1)\n",
    "#         ax.set_title(title, weight='bold', color=title_color)\n",
    "#         plt.tight_layout()\n",
    "#         return ax\n",
    "\n",
    "\n",
    "# class ToNumpyTensor(Transform):\n",
    "#     \"Transforms an object into NumpyTensor\"\n",
    "#     def encodes(self, o): return NumpyTensor(o)"
   ]
  },
  {
   "cell_type": "code",
   "execution_count": null,
   "metadata": {},
   "outputs": [],
   "source": [
    "#export\n",
    "class NumpyTensor(TensorBase):\n",
    "    \"Returns a `tensor` with subclass `NumpyTensor` that has a show method\"\n",
    "\n",
    "    def __new__(cls, o, **kwargs):\n",
    "        if isinstance(o, (list, L)): o = stack(o)\n",
    "        res = cast(tensor(o), cls)\n",
    "        res._meta = kwargs\n",
    "        return res\n",
    "\n",
    "    def __getitem__(self, idx):\n",
    "        res = super().__getitem__(idx)\n",
    "        return res.as_subclass(type(self))\n",
    "\n",
    "    def __repr__(self):\n",
    "        if self.numel() == 1: return f'{self}'\n",
    "        else: return f'NumpyTensor(shape:{tuple(self.shape)})'\n",
    "\n",
    "    def show(self, ax=None, ctx=None, title=None, title_color='black', **kwargs):\n",
    "        if self.ndim != 2: self = type(self)(to2d(self))\n",
    "        self = self.detach().cpu().numpy()\n",
    "        ax = ifnone(ax, ctx)\n",
    "        if ax is None: fig, ax = plt.subplots(**kwargs)\n",
    "        ax.plot(self.T)\n",
    "        ax.axis(xmin=0, xmax=self.shape[-1] - 1)\n",
    "        ax.set_title(title, weight='bold', color=title_color)\n",
    "        plt.tight_layout()\n",
    "        return ax\n",
    "\n",
    "\n",
    "class ToNumpyTensor(Transform):\n",
    "    \"Transforms an object into NumpyTensor\"\n",
    "    def encodes(self, o): return NumpyTensor(o)"
   ]
  },
  {
   "cell_type": "code",
   "execution_count": null,
   "metadata": {},
   "outputs": [],
   "source": [
    "#export\n",
    "class TSTensor(NumpyTensor):\n",
    "    '''Returns a `tensor` with subclass `TSTensor` that has a show method'''\n",
    "    @property\n",
    "    def vars(self): return self.shape[1]\n",
    "\n",
    "    @property\n",
    "    def len(self): return self.shape[-1]\n",
    "\n",
    "    def __repr__(self):\n",
    "        if self.numel() == 1: return f'{self}'\n",
    "        elif self.ndim >= 3:\n",
    "            return f'TSTensor(samples:{self.shape[0]}, vars:{self.shape[1]}, len:{self.shape[-1]})'\n",
    "        elif self.ndim == 2:\n",
    "            return f'TSTensor(vars:{self.shape[1]}, len:{self.shape[-1]})'\n",
    "        elif self.ndim == 1:\n",
    "            return f'TSTensor(len:{self.shape[-1]})'\n",
    "\n",
    "\n",
    "class ToTSTensor(Transform):\n",
    "    \"Transforms an object into TSTensor\"\n",
    "    def encodes(self, o): return TSTensor(o)"
   ]
  },
  {
   "cell_type": "code",
   "execution_count": null,
   "metadata": {},
   "outputs": [
    {
     "data": {
      "text/plain": [
       "tensor(7.2446)"
      ]
     },
     "execution_count": null,
     "metadata": {},
     "output_type": "execute_result"
    }
   ],
   "source": [
    "# https://github.com/fastai/fastai/issues/278\n",
    "true = TSTensor(torch.randn(2, 3, 4))\n",
    "w = torch.tensor(3., requires_grad=True)\n",
    "fake = torch.randn(2, 3, 4) * w  # generated by model\n",
    "\n",
    "\n",
    "def loss_func(fake, true):\n",
    "    return ((fake - true)**2).mean()\n",
    "\n",
    "\n",
    "loss = loss_func(fake, true)\n",
    "loss.backward()\n",
    "w.grad"
   ]
  },
  {
   "cell_type": "code",
   "execution_count": null,
   "metadata": {},
   "outputs": [],
   "source": [
    "t = TSTensor(torch.randn(2, 3, 4))\n",
    "p = torch.tensor(3., requires_grad=True)\n",
    "test = torch.add(true, p)\n",
    "test_eq(test.requires_grad, True)"
   ]
  },
  {
   "cell_type": "code",
   "execution_count": null,
   "metadata": {},
   "outputs": [
    {
     "data": {
      "text/plain": [
       "TSTensor(vars:4, len:4)"
      ]
     },
     "execution_count": null,
     "metadata": {},
     "output_type": "execute_result"
    }
   ],
   "source": [
    "l = L([0,1,2,3], [4,5,6,7], [8, 9, 10, 11])\n",
    "TSTensor(l)"
   ]
  },
  {
   "cell_type": "code",
   "execution_count": null,
   "metadata": {},
   "outputs": [
    {
     "name": "stdout",
     "output_type": "stream",
     "text": [
      "TSTensor(samples:30, vars:1, len:570)\n",
      "TSTensor(vars:570, len:570)\n",
      "TSTensor(len:570)\n",
      "-0.6113752722740173\n"
     ]
    }
   ],
   "source": [
    "t = TSTensor(X_train)\n",
    "for i in range(4):\n",
    "    print(t)\n",
    "    if i < 3: t = t[0]"
   ]
  },
  {
   "cell_type": "code",
   "execution_count": null,
   "metadata": {},
   "outputs": [
    {
     "data": {
      "text/plain": [
       "TSTensor(samples:60, vars:1, len:570)"
      ]
     },
     "execution_count": null,
     "metadata": {},
     "output_type": "execute_result"
    }
   ],
   "source": [
    "TSTensor(X_on_disk)"
   ]
  },
  {
   "cell_type": "code",
   "execution_count": null,
   "metadata": {},
   "outputs": [
    {
     "data": {
      "text/plain": [
       "TSTensor(samples:60, vars:1, len:570)"
      ]
     },
     "execution_count": null,
     "metadata": {},
     "output_type": "execute_result"
    }
   ],
   "source": [
    "ToTSTensor()(X_on_disk)"
   ]
  },
  {
   "cell_type": "code",
   "execution_count": null,
   "metadata": {},
   "outputs": [
    {
     "data": {
      "image/png": "[encoded data removed]",
      "text/plain": [
       "<Figure size 432x288 with 1 Axes>"
      ]
     },
     "metadata": {
      "needs_background": "light"
     },
     "output_type": "display_data"
    }
   ],
   "source": [
    "TSTensor(X_train).show();"
   ]
  },
  {
   "cell_type": "code",
   "execution_count": null,
   "metadata": {},
   "outputs": [],
   "source": [
    "#export\n",
    "class ToFloat(Transform):\n",
    "    \"Transforms an object dtype to float\"\n",
    "    def encodes(self, o:torch.Tensor): return o.float()\n",
    "    def encodes(self, o): return o.astype(np.float32)\n",
    "    \n",
    "    \n",
    "class ToInt(Transform):\n",
    "    \"Transforms an object dtype to int\"\n",
    "    def encodes(self, o:torch.Tensor): return o.long()\n",
    "    def encodes(self, o): return o.astype(np.float32).astype(np.int64)"
   ]
  },
  {
   "cell_type": "code",
   "execution_count": null,
   "metadata": {},
   "outputs": [],
   "source": [
    "a = np.random.randint(0, 2, 10)\n",
    "b = np.array(['1', '2', '3'])\n",
    "c = np.array(['1.0', '2.0', '3.0'])\n",
    "t = torch.randint(0, 2, (10, ))\n",
    "test_eq(ToFloat()(a).dtype, 'float32')\n",
    "test_eq(ToFloat()(b).dtype, 'float32')\n",
    "test_eq(ToFloat()(c).dtype, 'float32')\n",
    "test_eq(ToFloat()(t).dtype, torch.float32)"
   ]
  },
  {
   "cell_type": "code",
   "execution_count": null,
   "metadata": {},
   "outputs": [],
   "source": [
    "a = np.random.rand(10)*10\n",
    "b = np.array(['1.0', '2.0', '3.0'])\n",
    "t = torch.rand(10)*10\n",
    "test_eq(ToInt()(a).dtype, 'int64')\n",
    "test_eq(ToInt()(b).dtype, 'int64')\n",
    "test_eq(ToInt()(t).dtype, torch.long)"
   ]
  },
  {
   "cell_type": "code",
   "execution_count": null,
   "metadata": {},
   "outputs": [],
   "source": [
    "#export\n",
    "class NumpyTensorBlock():\n",
    "    def __init__(self, type_tfms=None, item_tfms=None, batch_tfms=None, dl_type=None, dls_kwargs=None):\n",
    "        self.type_tfms  =                 L(type_tfms)\n",
    "        self.item_tfms  = ToNumpyTensor + L(item_tfms)\n",
    "        self.batch_tfms =                 L(batch_tfms)\n",
    "        self.dl_type,self.dls_kwargs = dl_type,({} if dls_kwargs is None else dls_kwargs)\n",
    "        \n",
    "class TSTensorBlock():\n",
    "    def __init__(self, type_tfms=None, item_tfms=None, batch_tfms=None, dl_type=None, dls_kwargs=None):\n",
    "        self.type_tfms  =              L(type_tfms)\n",
    "        self.item_tfms  = ToTSTensor + L(item_tfms)\n",
    "        self.batch_tfms =              L(batch_tfms)\n",
    "        self.dl_type,self.dls_kwargs = dl_type,({} if dls_kwargs is None else dls_kwargs)"
   ]
  },
  {
   "cell_type": "code",
   "execution_count": null,
   "metadata": {},
   "outputs": [],
   "source": [
    "test_eq(NumpyTensorBlock().item_tfms[0].__name__, 'ToNumpyTensor')\n",
    "test_eq(TSTensorBlock().item_tfms[0].__name__, 'ToTSTensor')"
   ]
  },
  {
   "cell_type": "code",
   "execution_count": null,
   "metadata": {},
   "outputs": [],
   "source": [
    "#export\n",
    "class TorchDataset():\n",
    "    def __init__(self, X, y=None): self.X, self.y = X, y\n",
    "    def __getitem__(self, idx): return (self.X[idx],) if self.y is None else (self.X[idx], self.y[idx])\n",
    "    def __len__(self): return len(self.X)\n",
    "\n",
    "    \n",
    "class NumpyDataset():\n",
    "    def __init__(self, X, y=None, types=None): self.X, self.y, self.types = X, y, types\n",
    "    def __getitem__(self, idx): \n",
    "        if self.types is None: return (self.X[idx], self.y[idx]) if self.y is not None else (self.X[idx])\n",
    "        else: return (self.types[0](self.X[idx]), self.types[1](self.y[idx])) if self.y is not None else (self.types[0](self.X[idx]))\n",
    "    def __len__(self): return len(self.X)\n",
    "    @property\n",
    "    def c(self): return 0 if self.y is None else 1 if isinstance(self.y[0], float) else len(np.unique(self.y)) \n",
    "\n",
    "    \n",
    "class TSDataset():\n",
    "    def __init__(self, X, y=None, types=None, sel_vars=None, sel_steps=None): \n",
    "        self.X, self.y, self.types = to3darray(X), y, types\n",
    "        self.sel_vars = ifnone(sel_vars, slice(None))\n",
    "        self.sel_steps = ifnone(sel_steps,slice(None))\n",
    "    def __getitem__(self, idx): \n",
    "        if self.types is None: return (self.X[idx, self.sel_vars, self.sel_steps], self.y[idx]) if self.y is not None else (self.X[idx])\n",
    "        else: \n",
    "            return (self.types[0](self.X[idx, self.sel_vars, self.sel_steps]), self.types[1](self.y[idx])) if self.y is not None \\\n",
    "            else (self.types[0](self.X[idx]))\n",
    "    def __len__(self): return len(self.X)\n",
    "    @property\n",
    "    def c(self): return 0 if self.y is None else 1 if isinstance(self.y[0], float) else len(np.unique(self.y)) \n",
    "    @property\n",
    "    def vars(self): return self[0][0].shape[0]\n",
    "    @property\n",
    "    def len(self): return self[0][0].shape[-1]"
   ]
  },
  {
   "cell_type": "code",
   "execution_count": null,
   "metadata": {},
   "outputs": [],
   "source": [
    "a = np.random.rand(5,6,7)\n",
    "b = np.random.rand(5)\n",
    "ds = NumpyDataset(a,b)\n",
    "xb, yb = ds[[0,4]]\n",
    "test_eq(xb.shape, (2,6,7))\n",
    "test_eq(yb.shape, (2,))\n",
    "test_eq(ds.c, 1)"
   ]
  },
  {
   "cell_type": "code",
   "execution_count": null,
   "metadata": {},
   "outputs": [],
   "source": [
    "a = np.random.rand(5,6,7)\n",
    "b = np.random.randint(0, 2, 5)\n",
    "ds = TSDataset(a,b)\n",
    "test_eq(ds.c, len(np.unique(b)))\n",
    "test_eq(ds.vars, 6)\n",
    "test_eq(ds.len, 7)"
   ]
  },
  {
   "cell_type": "code",
   "execution_count": null,
   "metadata": {
    "hide_input": true
   },
   "outputs": [],
   "source": [
    "#old\n",
    "class NumpyDatasets(Datasets):\n",
    "    \"A dataset that creates tuples from X (and y) and applies `tfms` of type item_tfms\"\n",
    "    _xtype, _ytype = NumpyTensor, None # Expected X and y output types (must have a show method)\n",
    "    def __init__(self, X=None, y=None, items=None, tfms=None, tls=None, n_inp=None, dl_type=None, inplace=True, **kwargs):\n",
    "        self.inplace = inplace\n",
    "        if tls is None: \n",
    "            X = itemify(X, tup_id=0)\n",
    "            y = itemify(y, tup_id=0) if y is not None else y\n",
    "            items = tuple((X)) if y is None else tuple((X,y))\n",
    "            self.tfms = L(ifnone(tfms,[None]*len(ifnone(tls,items))))\n",
    "        self.tls = L(tls if tls else [TfmdLists(item, t, **kwargs) for item,t in zip(items,self.tfms)])\n",
    "        self.n_inp = (1 if len(self.tls)==1 else len(self.tls)-1) if n_inp is None else n_inp\n",
    "        if len(self.tls[0]) > 0: \n",
    "            # type(tl[0]).__name__ == 'memmap' is added to avoid loading in memory larger than RAM datasets\n",
    "            self.ptls = L([tl if not self.inplace else tl[:] if type(tl[0]).__name__ == 'memmap' else tensor(tl[:]) for tl in self.tls])\n",
    "            self.types = [ifnone(_typ, type(tl[0]) if isinstance(tl[0], torch.Tensor) else tensor) for tl,_typ in zip(self.tls, [self._xtype, self._ytype])]\n",
    "    \n",
    "    def __getitem__(self, it):\n",
    "        return tuple([typ(ptl[it] if i==0 else ptl[it]) for i,(ptl,typ) in enumerate(zip(self.ptls,self.types))])\n",
    "    \n",
    "    def subset(self, i): return type(self)(tls=L(tl.subset(i) for tl in self.tls), n_inp=self.n_inp, inplace=self.inplace, tfms=self.tfms)\n",
    "    \n",
    "    def _new(self, X, *args, y=None, **kwargs): \n",
    "        items = ifnoneelse(y,tuple((X)),tuple((X, y)))\n",
    "        return super()._new(items, tfms=self.tfms, do_setup=False, **kwargs)\n",
    "    \n",
    "    def show_at(self, idx, **kwargs):\n",
    "        self.show(self[idx], **kwargs)\n",
    "        plt.show()\n",
    "\n",
    "    @property\n",
    "    def items(self): return tuple([tl.items for tl in self.tls])\n",
    "    @items.setter\n",
    "    def items(self, vs):\n",
    "        for tl,c in zip(self.tls, vs): tl.items = v\n",
    "\n",
    "\n",
    "class TSDatasets(NumpyDatasets):\n",
    "    \"A dataset that creates tuples from X (and y) and applies `item_tfms`\"\n",
    "    _xtype, _ytype = TSTensor, None # Expected X and y output types (torch.Tensor - default - or subclass)\n",
    "    def __init__(self, X=None, y=None, items=None, sel_vars=None, sel_steps=None, tfms=None, tls=None, n_inp=None, dl_type=None, \n",
    "                 inplace=True, **kwargs):\n",
    "        self.inplace = inplace\n",
    "        if tls is None: \n",
    "            X = itemify(X, tup_id=0)\n",
    "            y = itemify(y, tup_id=0) if y is not None else y\n",
    "            items = tuple((X)) if y is None else tuple((X,y))\n",
    "            self.tfms = L(ifnone(tfms,[None]*len(ifnone(tls,items))))\n",
    "        self.sel_vars = ifnone(sel_vars, slice(None))\n",
    "        self.sel_steps = ifnone(sel_steps,slice(None))\n",
    "        self.tls = L(tls if tls else [TfmdLists(item, t, **kwargs) for item,t in zip(items,self.tfms)])\n",
    "        self.n_inp = (1 if len(self.tls)==1 else len(self.tls)-1) if n_inp is None else n_inp\n",
    "        if len(self.tls[0]) > 0: \n",
    "            self.ptls = L([tl if not self.inplace else tl[:] if type(tl[0]).__name__ == 'memmap' else tensor(tl[:]) for tl in self.tls])\n",
    "            self.types = [ifnone(_typ, type(tl[0]) if isinstance(tl[0], torch.Tensor) else tensor) for tl,_typ in zip(self.tls, [self._xtype, self._ytype])]\n",
    "    \n",
    "    def __getitem__(self, it):\n",
    "        return tuple([typ(ptl[it])[...,self.sel_vars, self.sel_steps] if i==0 else typ(ptl[it]) for i,(ptl,typ) in enumerate(zip(self.ptls,self.types))])\n",
    "    \n",
    "    def subset(self, i): return type(self)(tls=L(tl.subset(i) for tl in self.tls), n_inp=self.n_inp, \n",
    "                                           inplace=self.inplace, tfms=self.tfms, sel_vars=self.sel_vars, sel_steps=self.sel_steps)\n",
    "    @property\n",
    "    def vars(self): return self[0][0].shape[-2]\n",
    "    @property\n",
    "    def len(self): return self[0][0].shape[-1]"
   ]
  },
  {
   "cell_type": "code",
   "execution_count": null,
   "metadata": {},
   "outputs": [],
   "source": [
    "#export\n",
    "@delegates(Datasets.__init__)\n",
    "class NumpyDatasets(Datasets):\n",
    "    \"A dataset that creates tuples from X (and y) and applies `tfms` of type item_tfms\"\n",
    "    _xtype, _ytype = NumpyTensor, None # Expected X and y output types (must have a show method)\n",
    "    def __init__(self, X=None, y=None, items=None, tfms=None, tls=None, n_inp=None, dl_type=None, inplace=True, **kwargs):\n",
    "        self.inplace = inplace\n",
    "        if tls is None: \n",
    "            X = itemify(X, tup_id=0)\n",
    "            y = itemify(y, tup_id=0) if y is not None else y\n",
    "            items = tuple((X,)) if y is None else tuple((X,y))\n",
    "            self.tfms = L(ifnone(tfms,[None]*len(ifnone(tls,items))))\n",
    "        self.tls = L(tls if tls else [TfmdLists(item, t, **kwargs) for item,t in zip(items,self.tfms)])\n",
    "        self.n_inp = (1 if len(self.tls)==1 else len(self.tls)-1) if n_inp is None else n_inp\n",
    "        if 'split' in kwargs: self.split_idxs = kwargs['split']\n",
    "        elif 'splits' in kwargs:  self.split_idxs = kwargs['splits']\n",
    "        else: self.split_idxs = L(np.arange(len(self.tls[0]) if len(self.tls[0]) > 0 else len(self.tls)).tolist())\n",
    "        if len(self.tls[0]) > 0: \n",
    "            self.types = L([ifnone(_typ, type(tl[0]) if isinstance(tl[0], torch.Tensor) else tensor) for tl,_typ in zip(self.tls, [self._xtype, self._ytype])])\n",
    "            self.ptls = L([tl if not self.inplace else tl[:] if type(tl[0]).__name__ == 'memmap' else tensor(stack(tl[:])) for tl in self.tls])\n",
    "    \n",
    "    def __getitem__(self, it):\n",
    "        return tuple([typ(ptl[it]) for i,(ptl,typ) in enumerate(zip(self.ptls,self.types))])\n",
    "    \n",
    "    def subset(self, i): return type(self)(tls=L(tl.subset(i) for tl in self.tls), n_inp=self.n_inp, inplace=self.inplace, tfms=self.tfms,\n",
    "                                          split=L(self.splits[i]) if self.splits is not None else None)\n",
    "    \n",
    "    def _new(self, X, *args, y=None, **kwargs): \n",
    "        items = tuple((X,)) if y is None else tuple((X, y))\n",
    "        return super()._new(items, tfms=self.tfms, do_setup=False, **kwargs)\n",
    "    \n",
    "    def show_at(self, idx, **kwargs):\n",
    "        self.show(self[idx], **kwargs)\n",
    "        plt.show()\n",
    "\n",
    "    @property\n",
    "    def items(self): return tuple([tl.items for tl in self.tls])\n",
    "    @items.setter\n",
    "    def items(self, vs):\n",
    "        for tl,c in zip(self.tls, vs): tl.items = v\n",
    "    @property\n",
    "    def c(self): \n",
    "        return 0 if len(self.tls) == 1 else 1 if isinstance(self.ptls[1][0].item(), float) else len(np.unique(self.ptls[1])) \n",
    "    @property\n",
    "    def loss_func(self): \n",
    "        return MSELossFlat() if self.c == 1 else CrossEntropyLossFlat()\n",
    "\n",
    "\n",
    "@delegates(NumpyDatasets.__init__)\n",
    "class TSDatasets(NumpyDatasets):\n",
    "    \"A dataset that creates tuples from X (and y) and applies `item_tfms`\"\n",
    "    _xtype, _ytype = TSTensor, None # Expected X and y output types (torch.Tensor - default - or subclass)\n",
    "    def __init__(self, X=None, y=None, items=None, sel_vars=None, sel_steps=None, tfms=None, tls=None, n_inp=None, dl_type=None, \n",
    "                 inplace=True, **kwargs):\n",
    "        self.inplace = inplace\n",
    "        if tls is None: \n",
    "            X = itemify(to3darray(X), tup_id=0)\n",
    "            y = itemify(y, tup_id=0) if y is not None else y\n",
    "            items = tuple((X,)) if y is None else tuple((X,y))\n",
    "            self.tfms = L(ifnone(tfms,[None]*len(ifnone(tls,items))))\n",
    "        self.sel_vars = ifnone(sel_vars, slice(None))\n",
    "        self.sel_steps = ifnone(sel_steps,slice(None))\n",
    "        self.tls = L(tls if tls else [TfmdLists(item, t, **kwargs) for item,t in zip(items,self.tfms)])\n",
    "        self.n_inp = (1 if len(self.tls)==1 else len(self.tls)-1) if n_inp is None else n_inp\n",
    "        if 'split' in kwargs: self.split_idxs = kwargs['split']\n",
    "        elif 'splits' in kwargs:  self.split_idxs = kwargs['splits']\n",
    "        else: self.split_idxs = L(np.arange(len(self.tls[0]) if len(self.tls[0]) > 0 else len(self.tls)).tolist())\n",
    "        if len(self.tls[0]) > 0: \n",
    "            self.types = L([ifnone(_typ, type(tl[0]) if isinstance(tl[0], torch.Tensor) else tensor) for tl,_typ in zip(self.tls, [self._xtype, self._ytype])])\n",
    "            self.ptls = L([tl if not self.inplace else tl[:] if type(tl[0]).__name__ == 'memmap' else tensor(stack(tl[:])) for tl in self.tls])\n",
    "    \n",
    "    def __getitem__(self, it):\n",
    "        return tuple([typ(ptl[it])[...,self.sel_vars, self.sel_steps] if i==0 else typ(ptl[it]) for i,(ptl,typ) in enumerate(zip(self.ptls,self.types))])\n",
    "\n",
    "    def subset(self, i): return type(self)(tls=L(tl.subset(i) for tl in self.tls), n_inp=self.n_inp, inplace=self.inplace, tfms=self.tfms, \n",
    "                                           sel_vars=self.sel_vars, sel_steps=self.sel_steps, split=L(self.splits[i]) if self.splits is not None else None)\n",
    "    @property\n",
    "    def vars(self): return self[0][0].shape[0]\n",
    "    @property\n",
    "    def len(self): return self[0][0].shape[-1]"
   ]
  },
  {
   "cell_type": "code",
   "execution_count": null,
   "metadata": {},
   "outputs": [],
   "source": [
    "dsets = TSDatasets(X_on_disk, y_array, tfms=None, splits=splits, inplace=False)\n",
    "dsets2 = TSDatasets(X_on_disk[:, 0], y_array, tfms=None, splits=splits, inplace=True)\n",
    "test_eq_type(dsets[0][0].data, dsets2[0][0].data)"
   ]
  },
  {
   "cell_type": "code",
   "execution_count": null,
   "metadata": {},
   "outputs": [],
   "source": [
    "dsets = TSDatasets(X_on_disk, y_array, tfms=None, splits=splits, inplace=False)\n",
    "test_eq(len(dsets.train), len(X_train))\n",
    "dsets = TSDatasets(X_on_disk, y_array, tfms=None, splits=splits, inplace=True)\n",
    "test_eq(len(dsets.train), len(X_train))\n",
    "dsets = TSDatasets(X_on_disk, y_array, tfms=[add(1), Categorize()], splits=splits, inplace=True)\n",
    "test_eq(len(dsets.train), len(X_train))\n",
    "test_eq(dsets.train[0][0].data, tensor(X_train[0] + 1))\n",
    "test_eq(dsets.train[0][1].data, y_tensor[0])"
   ]
  },
  {
   "cell_type": "code",
   "execution_count": null,
   "metadata": {},
   "outputs": [],
   "source": [
    "#export\n",
    "def add_ds(dsets, X, y=None, inplace=True):\n",
    "    \"Create test datasets from X (and y) using validation transforms of `dsets`\"\n",
    "    items = tuple((X,)) if y is None else tuple((X, y))\n",
    "    with_labels = False if y is None else True\n",
    "    if isinstance(dsets, (Datasets, NumpyDatasets, TSDatasets)):\n",
    "        tls = dsets.tls if with_labels else dsets.tls[:dsets.n_inp]\n",
    "        new_tls = L([tl._new(item, split_idx=1) for tl,item in zip(tls, items)])\n",
    "        if isinstance(dsets, TSDatasets):\n",
    "            return TSDatasets(tls=new_tls, n_inp=dsets.n_inp, inplace=inplace, tfms=dsets.tfms,\n",
    "                              sel_vars=dsets.sel_vars, sel_steps=dsets.sel_steps)\n",
    "        elif isinstance(dsets, NumpyDatasets):\n",
    "            return NumpyDatasets(tls=new_tls, n_inp=dsets.n_inp, inplace=inplace, tfms=dsets.tfms)\n",
    "        elif isinstance(dsets, Datasets): return Datasets(tls=new_tls)\n",
    "    elif isinstance(dsets, TfmdLists):\n",
    "        new_tl = dsets._new(items, split_idx=1)\n",
    "        return new_tl\n",
    "    else: raise Exception(f\"This method requires using the fastai library to assemble your data.Expected a `Datasets` or a `TfmdLists` but got {dsets.__class__.__name__}\")\n",
    "\n",
    "@patch\n",
    "def add_dataset(self:NumpyDatasets, X, y=None, inplace=True):\n",
    "    return add_ds(self, X, y=y, inplace=inplace)\n",
    "\n",
    "@patch\n",
    "def add_test(self:NumpyDatasets, X, y=None, inplace=True):\n",
    "    return add_ds(self, X, y=y, inplace=inplace)\n",
    "\n",
    "@patch\n",
    "def add_unlabeled(self:NumpyDatasets, X, inplace=True):\n",
    "    return add_ds(self, X, y=None, inplace=inplace)"
   ]
  },
  {
   "cell_type": "code",
   "execution_count": null,
   "metadata": {},
   "outputs": [],
   "source": [
    "dsets = TSDatasets(X_on_disk, y_on_disk, tfms=[None, Categorize()], splits=splits, inplace=True)\n",
    "test_eq(len(dsets.add_test(X_train, y_train)), len(X_train))\n",
    "test_eq(len(dsets.add_unlabeled(X_train)), len(X_train))"
   ]
  },
  {
   "cell_type": "code",
   "execution_count": null,
   "metadata": {},
   "outputs": [],
   "source": [
    "#export\n",
    "_batch_tfms = ('after_item','before_batch','after_batch')\n",
    "\n",
    "@delegates(TfmdDL.__init__)\n",
    "class NumpyDataLoader(TfmdDL):\n",
    "    idxs = None\n",
    "    do_item = noops # create batch returns indices\n",
    "    def __init__(self, dataset, bs=64, shuffle=True, drop_last=True, num_workers=None, verbose=False, do_setup=True, batch_tfms=None, **kwargs):\n",
    "        '''batch_tfms == after_batch (either can be used)'''\n",
    "        if num_workers is None: num_workers = min(16, defaults.cpus)\n",
    "        for nm in _batch_tfms: \n",
    "            if nm == 'after_batch':\n",
    "                if batch_tfms is not None: kwargs[nm] = Pipeline(batch_tfms if isinstance(batch_tfms, list) else [batch_tfms])\n",
    "                else: kwargs[nm] = Pipeline(kwargs.get(nm,None))\n",
    "            else: kwargs[nm] = Pipeline(kwargs.get(nm,None))\n",
    "        bs = min(bs, len(dataset))\n",
    "        super().__init__(dataset, bs=bs, shuffle=shuffle, drop_last=drop_last, num_workers=num_workers, **kwargs)\n",
    "        if do_setup:\n",
    "            for nm in _batch_tfms:\n",
    "                pv(f\"Setting up {nm}: {kwargs[nm]}\", verbose)\n",
    "                kwargs[nm].setup(self)\n",
    "\n",
    "    def create_batch(self, b):\n",
    "        it = b if self.shuffle else slice(b[0], b[0] + self.bs)\n",
    "        self.idxs = b\n",
    "        if hasattr(self, \"split_idxs\"): self.input_idxs = self.split_idxs[it]\n",
    "        return self.dataset[it]\n",
    "\n",
    "    def create_item(self, s): return s\n",
    "\n",
    "    def get_idxs(self):\n",
    "        idxs = Inf.count if self.indexed else Inf.nones\n",
    "        if self.n is not None: idxs = list(range(len(self.dataset)))\n",
    "        if self.shuffle: idxs = self.shuffle_fn(idxs)\n",
    "        return idxs\n",
    "    \n",
    "    def unique_batch(self, max_n=9):\n",
    "        old_bs = self.bs\n",
    "        self.bs = 1\n",
    "        old_get_idxs = self.get_idxs\n",
    "        self.get_idxs = lambda: Inf.zeros\n",
    "        out_len = len(self.items)\n",
    "        types = self.dataset.types\n",
    "        x, y = [], []\n",
    "        for _ in range(max_n): \n",
    "            out = self.one_batch()\n",
    "            if out_len == 2: \n",
    "                x.extend(out[0])\n",
    "                y.extend(out[1])\n",
    "            else: \n",
    "                x.extend(out)\n",
    "        b = (types[0](stack(x)), types[1](stack(y))) if out_len == 2 else (types[0](stack(x)), )\n",
    "        self.bs = old_bs\n",
    "        self.get_idxs = old_get_idxs\n",
    "        return b\n",
    "\n",
    "\n",
    "    @delegates(plt.subplots)\n",
    "    def show_batch(self, b=None, ctxs=None, max_n=9, nrows=3, ncols=3, figsize=(16, 10), unique=False, **kwargs):\n",
    "        if unique: b = self.unique_batch(max_n=max_n)\n",
    "        elif b is None: b = self.one_batch()\n",
    "        db = self.decode_batch(b, max_n=max_n)\n",
    "        if figsize is None: figsize = (ncols*6, max_n//ncols*4)\n",
    "        if ctxs is None: ctxs = get_grid(min(len(db), nrows*ncols), nrows=None, ncols=ncols, figsize=figsize, **kwargs)\n",
    "        for i,ctx in enumerate(ctxs): show_tuple(db[i], ctx=ctx)\n",
    "\n",
    "\n",
    "    @delegates(plt.subplots)\n",
    "    def show_results(self, b, preds, ctxs=None, max_n=9, nrows=3, ncols=3, figsize=(16, 10), **kwargs):\n",
    "        t = self.decode_batch(b, max_n=max_n)\n",
    "        p = self.decode_batch((b[0],preds), max_n=max_n)\n",
    "        if figsize is None: figsize = (ncols*6, max_n//ncols*4)\n",
    "        if ctxs is None: ctxs = get_grid(min(len(t), nrows*ncols), nrows=None, ncols=ncols, figsize=figsize, **kwargs)\n",
    "        for i,ctx in enumerate(ctxs): \n",
    "            title = f'True: {t[i][1]}\\nPred: {p[i][1]}'\n",
    "            color = 'green' if t[i][1] == p[i][1] else 'red'\n",
    "            t[i][0].show(ctx=ctx, title=title, title_color=color)\n",
    "            \n",
    "    @property\n",
    "    def c(self): return self.dataset.c \n",
    "\n",
    "    \n",
    "@delegates(plt.subplots)\n",
    "def show_tuple(tup, **kwargs):\n",
    "    \"Display a timeseries plot from a decoded tuple\"\n",
    "    tup[0].show(title='unlabeled' if len(tup) == 1 else tup[1], **kwargs)\n",
    "    \n",
    "class TSDataLoader(NumpyDataLoader): \n",
    "    @property\n",
    "    def vars(self): \n",
    "        b = self.one_batch()\n",
    "        x = b[0] if isinstance(b, tuple) else b\n",
    "        return x.shape[1]\n",
    "    @property\n",
    "    def len(self): return self.dataset[0][0].shape[-1]"
   ]
  },
  {
   "cell_type": "code",
   "execution_count": null,
   "metadata": {},
   "outputs": [],
   "source": [
    "#export\n",
    "_batch_tfms = ('after_item','before_batch','after_batch')\n",
    "\n",
    "class NumpyDataLoaders(DataLoaders):\n",
    "    _xblock = NumpyTensorBlock\n",
    "    _dl_type = NumpyDataLoader \n",
    "    def __init__(self, *loaders, path='.', device=default_device()):\n",
    "        self.loaders,self.path = list(loaders),Path(path)\n",
    "        self.device = device\n",
    "        \n",
    "    @classmethod\n",
    "    @delegates(DataLoaders.from_dblock)\n",
    "    def from_numpy(cls, X, y=None, splitter=None, valid_pct=0.2, seed=0, item_tfms=None, batch_tfms=None, **kwargs):\n",
    "        \"Create timeseries dataloaders from arrays (X and y, unless unlabeled)\"\n",
    "        if splitter is None: splitter = RandomSplitter(valid_pct=valid_pct, seed=seed)\n",
    "        getters = [ItemGetter(0), ItemGetter(1)] if y is not None else [ItemGetter(0)]\n",
    "        dblock = DataBlock(blocks=(cls._xblock, CategoryBlock),\n",
    "                           getters=getters,\n",
    "                           splitter=splitter,\n",
    "                           item_tfms=item_tfms,\n",
    "                           batch_tfms=batch_tfms)\n",
    "\n",
    "        source = itemify(X) if y is None else itemify(X,y)\n",
    "        return cls.from_dblock(dblock, source, **kwargs)\n",
    "\n",
    "    @classmethod\n",
    "    def from_dsets(cls, *ds, path='.', bs=64, num_workers=0, batch_tfms=None, device=default_device(), shuffle_train=True, **kwargs):\n",
    "        if batch_tfms is not None and not isinstance(batch_tfms, list): batch_tfms = [batch_tfms]\n",
    "        default = (shuffle_train,) + (False,) * (len(ds)-1)\n",
    "        defaults = {'shuffle': default, 'drop_last': default}\n",
    "        kwargs = merge(defaults, {k: tuplify(v, match=ds) for k,v in kwargs.items()})\n",
    "        kwargs = [{k: v[i] for k,v in kwargs.items()} for i in range_of(ds)]\n",
    "        if not is_listy(bs): bs = [bs]\n",
    "        if len(bs) != len(ds): bs = bs * len(ds)\n",
    "        return cls(*[cls._dl_type(d, bs=b, num_workers=num_workers, batch_tfms=batch_tfms, **k) \\\n",
    "                     for d,k,b in zip(ds, kwargs, bs)], path=path, device=device)\n",
    "\n",
    "class TSDataLoaders(NumpyDataLoaders):\n",
    "    _xblock = TSTensorBlock\n",
    "    _dl_type = TSDataLoader"
   ]
  },
  {
   "cell_type": "code",
   "execution_count": null,
   "metadata": {},
   "outputs": [],
   "source": [
    "#export\n",
    "@patch\n",
    "def cws(self:NumpyDataLoader):\n",
    "    if isinstance(tensor(self.dataset[0][-1]).item(), Integral):\n",
    "        target = torch.Tensor(self.dataset.items[-1]).to(dtype=torch.int64)\n",
    "        # Compute samples weight (each sample should get its own weight)\n",
    "        class_sample_count = torch.tensor([(target == t).sum() for t in torch.unique(target, sorted=True)])\n",
    "        weights = 1. / class_sample_count.float()\n",
    "        return (weights / weights.sum()).to(default_device())\n",
    "    else: return None"
   ]
  },
  {
   "cell_type": "code",
   "execution_count": null,
   "metadata": {},
   "outputs": [],
   "source": [
    "bs = 25\n",
    "dsets = TSDatasets(X_on_disk, y_array, tfms=[None, Categorize()], splits=splits, inplace=True)\n",
    "dls   = TSDataLoaders.from_dsets(dsets.train, dsets.valid, bs=[bs, bs*2], batch_tfms=add(1))\n",
    "xb,yb = dls.train.one_batch()\n",
    "test_eq(xb.data, tensor(X_on_disk[splits[0]][dls.train.idxs]) + 1)\n",
    "dsets = TSDatasets(X_on_disk, y_array, tfms=[None, Categorize()], splits=splits, inplace=True)\n",
    "dls   = TSDataLoaders.from_dsets(dsets.train, dsets.valid, bs=[bs, bs*2])\n",
    "xb,yb = dls.train.one_batch()\n",
    "test_eq(xb.shape, (min(bs, len(splits[0])), X_on_disk.shape[1], X_on_disk.shape[-1]))\n",
    "for xb,yb in dls.train: \n",
    "    test_eq(xb.data, tensor(X_on_disk[splits[0]][dls.train.idxs]))\n",
    "it = iter(dls.train)\n",
    "for _ in range(len(dls.train)):\n",
    "    xb,yb = next(it)\n",
    "    test_eq(xb.data, tensor(X_on_disk[dls.train.idxs]))"
   ]
  },
  {
   "cell_type": "code",
   "execution_count": null,
   "metadata": {},
   "outputs": [],
   "source": [
    "bs = 64\n",
    "dsets = TSDatasets(X_on_disk, y_array, tfms=[add(1), Categorize()], splits=RandomSplitter(valid_pct=.3)(y_array), inplace=True)\n",
    "dls = TSDataLoaders.from_dsets(dsets.train, dsets.valid, bs=[bs, bs*2])\n",
    "xb,yb = dls.train.one_batch()\n",
    "test_eq(xb.shape, (min(bs, len(dsets.train)), X_on_disk.shape[1], X_on_disk.shape[-1]))\n",
    "xb,yb = dls.valid.one_batch()\n",
    "test_eq(xb.shape, (min(bs*2, len(dsets.valid)), X_on_disk.shape[1], X_on_disk.shape[-1]))"
   ]
  },
  {
   "cell_type": "code",
   "execution_count": null,
   "metadata": {},
   "outputs": [],
   "source": [
    "dsets = TSDatasets(X_on_disk, y_array, tfms=[None, Categorize()], splits=splits, inplace=True)\n",
    "dls   = TSDataLoaders.from_dsets(dsets.train, dsets.valid, bs=[32, 64])\n",
    "for i in range(100):\n",
    "    dl = dls.train if random.random() < .5 else dls.valid\n",
    "    xb,yb = dl.one_batch()\n",
    "    torch.equal(xb, TSTensor(X_on_disk[dl.input_idxs]))\n",
    "    \n",
    "dsets = TSDatasets(X_on_disk, y_array, tfms=[None, Categorize()], inplace=True)\n",
    "dls   = TSDataLoaders.from_dsets(dsets, bs=32)\n",
    "for i in range(100):\n",
    "    xb,yb = dls.one_batch()\n",
    "    torch.equal(xb, TSTensor(X_on_disk[dl.input_idxs]))\n",
    "    \n",
    "dsets = TSDatasets(X_on_disk, tfms=None, inplace=True)\n",
    "dls   = TSDataLoaders.from_dsets(dsets, bs=32)\n",
    "for i in range(100):\n",
    "    xb = dls.one_batch()\n",
    "    torch.equal(xb[0], TSTensor(X_on_disk[dl.input_idxs]))"
   ]
  },
  {
   "cell_type": "code",
   "execution_count": null,
   "metadata": {},
   "outputs": [],
   "source": [
    "dsets = TSDatasets(X_on_disk, y_array, tfms=[None, Categorize()], inplace=True)\n",
    "dls   = TSDataLoaders.from_dsets(dsets, bs=32)\n",
    "test_eq_type(dls.split_idxs, L(np.arange(len(X_on_disk)).tolist()))"
   ]
  },
  {
   "cell_type": "code",
   "execution_count": null,
   "metadata": {},
   "outputs": [],
   "source": [
    "dsid = 'NATOPS' \n",
    "bs = 64\n",
    "X, y, splits = get_UCR_data(dsid, return_split=False)\n",
    "tfms  = [None, [Categorize()]]\n",
    "dsets = TSDatasets(X, y, tfms=tfms, splits=splits)\n",
    "dls   = TSDataLoaders.from_dsets(dsets.train, dsets.valid, bs=[bs, bs*2])"
   ]
  },
  {
   "cell_type": "code",
   "execution_count": null,
   "metadata": {},
   "outputs": [],
   "source": [
    "dsid = 'NATOPS' \n",
    "bs = 64\n",
    "X, y, splits = get_UCR_data(dsid, return_split=False)\n",
    "tfms  = [None, [Categorize()]]\n",
    "dsets = TSDatasets(X, y, tfms=tfms, splits=splits, inplace=False)\n",
    "dls   = TSDataLoaders.from_dsets(dsets.train, dsets.valid, bs=[bs, bs*2])"
   ]
  },
  {
   "cell_type": "code",
   "execution_count": null,
   "metadata": {},
   "outputs": [
    {
     "data": {
      "application/javascript": [
       "IPython.notebook.save_checkpoint()"
      ],
      "text/plain": [
       "<IPython.core.display.Javascript object>"
      ]
     },
     "metadata": {},
     "output_type": "display_data"
    },
    {
     "name": "stdout",
     "output_type": "stream",
     "text": [
      "Converted 000_utils.ipynb.\n",
      "Converted 000b_data.validation.ipynb.\n",
      "Converted 001_data.external.ipynb.\n",
      "Converted 002_data.core.ipynb.\n",
      "Converted 003_data.transforms.ipynb.\n",
      "Converted 003b_data.image.ipynb.\n",
      "Converted 005_data.tabular.ipynb.\n",
      "Converted 006_data.mixed.ipynb.\n",
      "Converted 007_metrics.ipynb.\n",
      "Converted 008_learner.ipynb.\n",
      "Converted 009_optimizer.ipynb.\n",
      "Converted 010_callback.ipynb.\n",
      "Converted 100_models.utils.ipynb.\n",
      "Converted 100b_models.layers.ipynb.\n",
      "Converted 101_models.ResNet.ipynb.\n",
      "Converted 101b_models.ResNetPlus.ipynb.\n",
      "Converted 102_models.InceptionTime.ipynb.\n",
      "Converted 102b_models.InceptionTimePlus.ipynb.\n",
      "Converted 103_models.FCN.ipynb.\n",
      "Converted 103b_models.FCNPlus.ipynb.\n",
      "Converted 104_models.ResCNN.ipynb.\n",
      "Converted 105_models.RNN.ipynb.\n",
      "Converted 105_models.RNNPlus.ipynb.\n",
      "Converted 106_models.XceptionTime.ipynb.\n",
      "Converted 106b_models.XceptionTimePlus.ipynb.\n",
      "Converted 107_models.RNN_FCN.ipynb.\n",
      "Converted 107b_models.RNN_FCNPlus.ipynb.\n",
      "Converted 108_models.TransformerModel.ipynb.\n",
      "Converted 108b_models.TST.ipynb.\n",
      "Converted 109_models.OmniScaleCNN.ipynb.\n",
      "Converted 110_models.mWDN.ipynb.\n",
      "Converted 111_models.ROCKET.ipynb.\n",
      "Converted 112_models.XResNet1d.ipynb.\n",
      "Converted 112b_models.XResNet1dPlus.ipynb.\n",
      "Converted 120_models.TabModel.ipynb.\n",
      "Converted 130_models.Hybrid.ipynb.\n",
      "Converted 200_trading.utils.ipynb.\n",
      "Converted index.ipynb.\n",
      "\n",
      "\n",
      "Checking folder: /Users/nacho/Documents/Machine_Learning/Jupyter_Notebooks/timeseries/tsai\n",
      "Correct conversion! 😃\n",
      "Total time elapsed 72 s\n",
      "Thursday 11/05/20 21:04:02 CET\n"
     ]
    },
    {
     "data": {
      "text/html": [
       "\n",
       "                <audio  controls=\"controls\" autoplay=\"autoplay\">\n",
       "                    <source src=\"data:audio/wav;base64,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\" type=\"audio/wav\" />\n",
       "                    Your browser does not support the audio element.\n",
       "                </audio>\n",
       "              "
      ],
      "text/plain": [
       "<IPython.lib.display.Audio object>"
      ]
     },
     "metadata": {},
     "output_type": "display_data"
    }
   ],
   "source": [
    "#hide\n",
    "out = create_scripts()\n",
    "beep(out)"
   ]
  }
 ],
 "metadata": {
  "kernelspec": {
   "display_name": "Python 3",
   "language": "python",
   "name": "python3"
  }
 },
 "nbformat": 4,
 "nbformat_minor": 2
}
