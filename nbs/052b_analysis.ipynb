{
 "cells": [
  {
   "cell_type": "code",
   "execution_count": null,
   "metadata": {},
   "outputs": [],
   "source": [
    "# default_exp analysis"
   ]
  },
  {
   "cell_type": "markdown",
   "metadata": {},
   "source": [
    "# Analysis\n",
    "\n",
    "> This contains fastai Learner extensions useful to perform prediction analysis."
   ]
  },
  {
   "cell_type": "code",
   "execution_count": null,
   "metadata": {},
   "outputs": [],
   "source": [
    "#export\n",
    "from sklearn.model_selection import train_test_split\n",
    "from tsai.imports import *\n",
    "from tsai.utils import random_shuffle, shuffle_along_axis\n",
    "from tsai.data.core import *\n",
    "from tsai.inference import get_X_preds\n",
    "from fastai.learner import * "
   ]
  },
  {
   "cell_type": "code",
   "execution_count": null,
   "metadata": {},
   "outputs": [],
   "source": [
    "#export\n",
    "@patch\n",
    "@delegates(subplots)\n",
    "def show_probas(self:Learner, figsize=(6,6), ds_idx=1, dl=None, one_batch=False, max_n=None, **kwargs):\n",
    "    recorder = copy(self.recorder) # This is to avoid loss of recorded values while generating preds\n",
    "    if dl is None: dl = self.dls[ds_idx]\n",
    "    if one_batch: dl = [dl.one_batch()]\n",
    "    probas, targets = self.get_preds(dl=dl)\n",
    "    if probas.ndim == 2 and probas.min() < 0 or probas.max() > 1: probas = nn.Softmax(-1)(probas)\n",
    "    if not isinstance(targets[0].item(), Integral): return\n",
    "    targets = targets.flatten()\n",
    "    if max_n is not None:\n",
    "        idxs = np.random.choice(len(probas), max_n, False)\n",
    "        probas, targets = probas[idxs], targets[idxs]\n",
    "    if isinstance(probas, torch.Tensor): probas = probas.detach().cpu().numpy()\n",
    "    if isinstance(targets, torch.Tensor): targets = targets.detach().cpu().numpy()\n",
    "    fig = plt.figure(figsize=figsize, **kwargs)\n",
    "    classes = np.unique(targets)\n",
    "    nclasses = len(classes)\n",
    "    vals = np.linspace(.5, .5 + nclasses - 1, nclasses)[::-1]\n",
    "    plt.vlines(.5, min(vals) - 1, max(vals), color='black', linewidth=.5)\n",
    "    cm = plt.get_cmap('gist_rainbow')\n",
    "    color = [cm(1.* c/nclasses) for c in range(1, nclasses + 1)][::-1]\n",
    "    # class_probas = np.array([probas[i,t] for i,t in enumerate(targets)])\n",
    "    class_probas = np.array([probas[i][t] for i,t in enumerate(targets)])\n",
    "    for i, c in enumerate(classes):\n",
    "        plt.scatter(class_probas[targets == c] if nclasses > 2 or i > 0 else 1 - class_probas[targets == c],\n",
    "                    targets[targets == c] + .5 * (np.random.rand((targets == c).sum()) - .5), color=color[i], edgecolor='black', alpha=.2, s=100)\n",
    "        if nclasses > 2: plt.vlines((targets == c).mean(), i - .5, i + .5, color='r', linewidth=.5)\n",
    "    plt.hlines(vals, 0, 1)\n",
    "    plt.ylim(min(vals) - 1, max(vals))\n",
    "    plt.xlim(0,1)\n",
    "    plt.xticks(np.linspace(0,1,11), fontsize=12)\n",
    "    plt.yticks(classes, [self.dls.vocab[x] for x in classes], fontsize=12)\n",
    "    plt.title('Predicted proba per true class' if nclasses > 2 else 'Predicted class 1 proba per true class', fontsize=14)\n",
    "    plt.xlabel('Probability', fontsize=12)\n",
    "    plt.ylabel('True class', fontsize=12)\n",
    "    plt.grid(axis='x', color='gainsboro', linewidth=.2)\n",
    "    plt.show()\n",
    "    self.recorder = recorder"
   ]
  },
  {
   "cell_type": "code",
   "execution_count": null,
   "metadata": {},
   "outputs": [],
   "source": [
    "#export\n",
    "@patch\n",
    "def plot_confusion_matrix(self:Learner, ds_idx=1, dl=None, thr=.5, normalize=False, title='Confusion matrix', cmap=\"Blues\", norm_dec=2, figsize=(6,6),\n",
    "                          title_fontsize=16, fontsize=12, plot_txt=True, **kwargs):\n",
    "        \"Plot the confusion matrix, with `title` and using `cmap`.\"\n",
    "        # This function is mainly copied from the sklearn docs\n",
    "        if dl is None: dl = self.dls[ds_idx]\n",
    "        assert dl.cat\n",
    "        if dl.c == 2: # binary classification\n",
    "            probas, preds = self.get_preds(dl=dl)\n",
    "            y_pred = (probas[:, 1] > thr).numpy().astype(int)\n",
    "            y_test = preds.numpy()\n",
    "            if normalize: skm_normalize = 'true'\n",
    "            else: skm_normalize = None\n",
    "            cm = skm.confusion_matrix(y_test, y_pred, normalize=skm_normalize)\n",
    "        else: \n",
    "            cm = ClassificationInterpretation.from_learner(self).confusion_matrix()\n",
    "\n",
    "        if normalize: cm = cm.astype('float') / cm.sum(axis=1)[:, np.newaxis]\n",
    "        fig = plt.figure(figsize=figsize, **kwargs)\n",
    "        plt.imshow(cm, interpolation='nearest', cmap=cmap)\n",
    "        if self.dls.c == 2:\n",
    "            plt.title(f\"{title} (threshold: {thr})\", fontsize=title_fontsize)\n",
    "        else: \n",
    "            plt.title(title, fontsize=title_fontsize)\n",
    "        tick_marks = np.arange(len(self.dls.vocab))\n",
    "        plt.xticks(tick_marks, self.dls.vocab, rotation=90, fontsize=fontsize)\n",
    "        plt.yticks(tick_marks, self.dls.vocab, rotation=0, fontsize=fontsize)\n",
    "\n",
    "        if plot_txt:\n",
    "            thresh = cm.max() / 2.\n",
    "            for i, j in itertools.product(range(cm.shape[0]), range(cm.shape[1])):\n",
    "                coeff = f'{cm[i, j]:.{norm_dec}f}' if normalize else f'{cm[i, j]}'\n",
    "                plt.text(j, i, coeff, horizontalalignment=\"center\", verticalalignment=\"center\", color=\"white\" if cm[i, j] > thresh else \"black\", fontsize=fontsize)\n",
    "\n",
    "        ax = fig.gca()\n",
    "        ax.set_ylim(len(self.dls.vocab)-.5,-.5)\n",
    "\n",
    "        plt.tight_layout()\n",
    "        plt.ylabel('Actual', fontsize=fontsize)\n",
    "        plt.xlabel('Predicted', fontsize=fontsize)\n",
    "        plt.grid(False)"
   ]
  },
  {
   "cell_type": "markdown",
   "metadata": {},
   "source": [
    "## Permutation importance"
   ]
  },
  {
   "cell_type": "markdown",
   "metadata": {},
   "source": [
    "We've also introduced 2 methods to help you better understand how important certain features or certain steps are for your model. Both methods use permutation importance. \n",
    "\n",
    "⚠️**The permutation feature or step importance is defined as the decrease in a model score when a single feature or step value is randomly shuffled.**\n",
    "\n",
    "So if you using accuracy (higher is better), the most important features or steps will be those with a *lower* value on the chart (as randomly shuffling them reduces performance). \n",
    "\n",
    "The opposite occurs for metrics like mean squared error (lower is better). In this case, the most important features or steps will be those with a *higher* value on the chart. \n",
    "\n",
    "There are 2 issues with step importance: \n",
    "\n",
    "* there may be many steps and the analysis could take very long\n",
    "* steps will likely have a high autocorrelation\n",
    "\n",
    "For those reasons, we've introduced an argument (n_steps) to group steps. In this way you'll be able to know which part of the time series is the most important. \n",
    "\n",
    "Feature importance has been adapted from https://www.kaggle.com/cdeotte/lstm-feature-importance by Chris Deotte (Kaggle GrandMaster)."
   ]
  },
  {
   "cell_type": "code",
   "execution_count": null,
   "metadata": {},
   "outputs": [],
   "source": [
    "#export\n",
    "@patch\n",
    "def feature_importance(self:Learner, \n",
    "    X=None, # array-like object containing the time series. If None, all data in the validation set will be used.\n",
    "    y=None, # array-like object containing the targets. If None, all targets in the validation set will be used.\n",
    "    partial_n:(int, float)=None, # # (int) or % (float) of used to measure feature importance. If None, all data will be used.\n",
    "    method:str='permutation', # Method used to invalidate feature. Use 'permutation' for shuffling or 'ablation' for setting values to np.nan.\n",
    "    feature_names:list=None, # Optional list of feature names that will be displayed if available. Otherwise var_0, var_1, etc.\n",
    "    sel_classes:(str, list)=None, # classes for which the analysis will be made\n",
    "    key_metric_idx:int=0, # Optional position of the metric used. If None or no metric is available, the loss will be used.\n",
    "    show_chart:bool=True, # Flag to indicate if a chart showing permutation feature importance will be plotted.\n",
    "    figsize:tuple=(10, 5), # Size of the chart.\n",
    "    title:str=None, # Optional string that will be used as the chart title. If None 'Permutation Feature Importance'.\n",
    "    return_df:bool=True, # Flag to indicate if the dataframe with feature importance will be returned.\n",
    "    save_df_path:Path=None, # Path where dataframe containing the permutation feature importance results will be saved.\n",
    "    random_state:int=23, # Optional int that controls the shuffling applied to the data.\n",
    "    verbose:bool=True, # Flag that controls verbosity.\n",
    "    ):\n",
    "    r\"\"\"Calculates feature importance as the drop in the model's validation loss or metric when a feature value is randomly shuffled\"\"\"\n",
    "    \n",
    "    assert method in ['permutation', 'ablation']\n",
    "\n",
    "    # X, y\n",
    "    if X is None:\n",
    "        X = self.dls.valid.dataset.tls[0].items\n",
    "        if hasattr(self.dls.valid.dataset.tls[0], '_splits'): X = X[self.dls.valid.dataset.tls[0]._splits]\n",
    "    if y is None:\n",
    "        y = self.dls.valid.dataset.tls[1].items\n",
    "    if partial_n is not None:\n",
    "        _, rand_idxs, *_ = train_test_split(np.arange(len(y)), y, test_size=partial_n, random_state=random_state, stratify=y)\n",
    "        X = X.oindex[rand_idxs] if hasattr(X, 'oindex') else X[rand_idxs]\n",
    "        y = y.oindex[rand_idxs] if hasattr(y, 'oindex') else y[rand_idxs]\n",
    "    else: \n",
    "        X, y = X[:], y[:]\n",
    "    if sel_classes is not None:\n",
    "        filt = np.isin(y, listify(sel_classes))\n",
    "        X, y = X[filt], y[filt]\n",
    "    pv(f'X.shape: {X.shape}', verbose)\n",
    "    pv(f'y.shape: {y.shape}', verbose)\n",
    "\n",
    "    # Metrics\n",
    "    metrics = [mn for mn in self.recorder.metric_names if mn not in ['epoch', 'train_loss', 'valid_loss', 'time']]\n",
    "    if len(metrics) == 0 or key_metric_idx is None:\n",
    "        metric_name = self.loss_func.__class__.__name__\n",
    "        key_metric_idx = None\n",
    "    else:\n",
    "        metric_name = metrics[key_metric_idx]\n",
    "        metric = self.recorder.metrics[key_metric_idx].func\n",
    "    metric_name = metric_name.replace(\"train_\", \"\").replace(\"valid_\", \"\")\n",
    "    pv(f'Selected metric: {metric_name}', verbose)\n",
    "\n",
    "    # Selected vars & feature names\n",
    "    sel_vars = not(isinstance(self.dls.sel_vars, slice) and self.dls.sel_vars == slice(None, None, None))\n",
    "    if feature_names is None:\n",
    "        feature_names = L([f\"var_{i}\" for i in range(X.shape[1])])\n",
    "        if sel_vars:\n",
    "            feature_names = feature_names[self.dls.sel_vars]\n",
    "    else:\n",
    "        feature_names = listify(feature_names)\n",
    "\n",
    "    if sel_vars:\n",
    "        assert len(feature_names) == len(self.dls.sel_vars)\n",
    "    else:\n",
    "        assert len(feature_names) == X.shape[1]\n",
    "    sel_var_idxs = L(np.arange(X.shape[1]).tolist())\n",
    "    if sel_vars:\n",
    "        sel_var_idxs = sel_var_idxs[self.dls.sel_vars]\n",
    "    assert len(feature_names) == len(sel_var_idxs)\n",
    "    g = list(zip(np.arange(len(sel_var_idxs)+2), [0] + sel_var_idxs))\n",
    "    \n",
    "    # Loop\n",
    "    COLS = ['BASELINE'] + list(feature_names)\n",
    "    results = []\n",
    "    pv(f'Computing feature importance ({method} method)...', verbose)\n",
    "    try:\n",
    "        if method == 'ablation':\n",
    "            fs = self.dls.valid.after_batch.fs\n",
    "            self.dls.valid.after_batch.fs = fs + [TSNan2Value()]\n",
    "        for i,k in progress_bar(g):\n",
    "            if i > 0:\n",
    "                if k not in sel_var_idxs: continue\n",
    "                save_feat = X[:, k].copy()\n",
    "                if method == 'permutation':\n",
    "                    # shuffle along samples & steps\n",
    "                    X[:, k] = random_shuffle(X[:, k].flatten(), random_state=random_state).reshape(X[:, k].shape)\n",
    "                elif method == 'ablation':\n",
    "                    X[:, k] = np.nan\n",
    "            if key_metric_idx is None:\n",
    "                value = self.get_X_preds(X, y, with_loss=True)[-1].mean().item()\n",
    "            else:\n",
    "                output = self.get_X_preds(X, y)\n",
    "                if self.dls.c == 2:\n",
    "                    try: value = metric(output[1], output[0][:, 1]).item()\n",
    "                    except: value = metric(output[0], output[1]).item()\n",
    "                else:\n",
    "                    value = metric(output[0], output[1]).item()\n",
    "                del output\n",
    "            pv(f\"{k:3} feature: {COLS[i]:20} {metric_name}: {value:8.6f}\", verbose)\n",
    "            results.append([COLS[i], value])\n",
    "            del value; gc.collect()\n",
    "            if i > 0:\n",
    "                X[:, k] = save_feat\n",
    "                del save_feat; gc.collect()\n",
    "        \n",
    "        if method == 'ablation':\n",
    "            self.dls.valid.after_batch.fs = fs\n",
    "\n",
    "    except KeyboardInterrupt:\n",
    "        if i > 0:\n",
    "            X[:, k] = save_feat\n",
    "            del save_feat; gc.collect()\n",
    "        if method == 'ablation':\n",
    "            self.dls.valid.after_batch.fs = fs\n",
    "\n",
    "    # DataFrame\n",
    "    df = pd.DataFrame(results, columns=[\"Feature\", metric_name])\n",
    "    df[f'{metric_name}_change'] = df[metric_name] - df.loc[0, metric_name]\n",
    "    sign = np.sign(df[f'{metric_name}_change'].mean())\n",
    "    if sign == 0: sign = 1\n",
    "    df[f'{metric_name}_change'] = df[f'{metric_name}_change'] * sign\n",
    "\n",
    "    # Display feature importance\n",
    "    if show_chart:\n",
    "        print()\n",
    "        value_change = df.loc[1:, f'{metric_name}_change'].values\n",
    "        pos_value_change = value_change.copy()\n",
    "        neg_value_change = value_change.copy()\n",
    "        pos_value_change[pos_value_change < 0] = 0\n",
    "        neg_value_change[neg_value_change > 0] = 0\n",
    "        plt.figure(figsize=(10, .5*len(value_change)))\n",
    "        plt.barh(np.arange(len(value_change))[::-1], pos_value_change, color='lime', edgecolor='black')\n",
    "        plt.barh(np.arange(len(value_change))[::-1], neg_value_change, color='red', edgecolor='black')\n",
    "        plt.axvline(0, color='black')\n",
    "        plt.yticks(np.arange(len(value_change))[::-1], df.loc[1:, \"Feature\"].values)\n",
    "        if title is None: title = f'Feature Importance ({method} method)'\n",
    "        plt.title(title, size=16)\n",
    "        text = 'increase' if sign == 1 else 'decrease'\n",
    "        plt.xlabel(f\"{metric_name} {text} when feature is removed\")\n",
    "        plt.ylim((-1,len(value_change)))\n",
    "        plt.show()\n",
    "\n",
    "    # Save feature importance\n",
    "    df = df.sort_values(metric_name, ascending=sign < 0).reset_index(drop=True)\n",
    "    if save_df_path:\n",
    "        if save_df_path.split('.')[-1] != 'csv': save_df_path = f'{save_df_path}.csv'\n",
    "        df.to_csv(f'{save_df_path}', index=False)\n",
    "        pv(f'Feature importance df saved to {save_df_path}', verbose)\n",
    "    if return_df: \n",
    "        return df "
   ]
  },
  {
   "cell_type": "code",
   "execution_count": null,
   "metadata": {},
   "outputs": [],
   "source": [
    "#export\n",
    "@patch\n",
    "def step_importance(\n",
    "    self:Learner, \n",
    "    X=None, # array-like object containing the time series. If None, all data in the validation set will be used.\n",
    "    y=None, # array-like object containing the targets. If None, all targets in the validation set will be used.\n",
    "    partial_n:(int, float)=None, # # (int) or % (float) of used to measure feature importance. If None, all data will be used.\n",
    "    method:str='permutation', # Method used to invalidate feature. Use 'permutation' for shuffling or 'ablation' for setting values to np.nan.\n",
    "    step_names:list=None, # Optional list of step names that will be displayed if available. Otherwise 0, 1, 2, etc.\n",
    "    sel_classes:(str, list)=None, # classes for which the analysis will be made\n",
    "    n_steps:int=1, # # of steps that will be analyzed at a time. Default is 1.\n",
    "    key_metric_idx:int=0, # Optional position of the metric used. If None or no metric is available, the loss will be used.\n",
    "    show_chart:bool=True, # Flag to indicate if a chart showing permutation feature importance will be plotted.\n",
    "    figsize:tuple=(10, 5), # Size of the chart.\n",
    "    title:str=None, # Optional string that will be used as the chart title. If None 'Permutation Feature Importance'.\n",
    "    xlabel=None, # Optional string that will be used as the chart xlabel. If None 'steps'.\n",
    "    return_df:bool=True, # Flag to indicate if the dataframe with feature importance will be returned.\n",
    "    save_df_path:Path=None, # Path where dataframe containing the permutation feature importance results will be saved.\n",
    "    random_state:int=23, # Optional int that controls the shuffling applied to the data.\n",
    "    verbose:bool=True, # Flag that controls verbosity.\n",
    "    ):\n",
    "    r\"\"\"Calculates step importance as the drop in the model's validation loss or metric when a step/s value/s is/are randomly shuffled\"\"\"\n",
    "\n",
    "    assert method in ['permutation', 'ablation']\n",
    "    \n",
    "    # X, y\n",
    "    if X is None:\n",
    "        X = self.dls.valid.dataset.tls[0].items\n",
    "        if hasattr(self.dls.valid.dataset.tls[0], '_splits'): X = X[self.dls.valid.dataset.tls[0]._splits]\n",
    "    if y is None:\n",
    "        y = self.dls.valid.dataset.tls[1].items\n",
    "    if partial_n is not None:\n",
    "        _, rand_idxs, *_ = train_test_split(np.arange(len(y)), y, test_size=partial_n, random_state=random_state, stratify=y)\n",
    "        X = X.oindex[rand_idxs] if hasattr(X, 'oindex') else X[rand_idxs]\n",
    "        y = y.oindex[rand_idxs] if hasattr(y, 'oindex') else y[rand_idxs]\n",
    "    else: \n",
    "        X, y = X[:], y[:]\n",
    "    if sel_classes is not None:\n",
    "        filt = np.isin(y, listify(sel_classes))\n",
    "        X, y = X[filt], y[filt]\n",
    "    pv(f'X.shape: {X.shape}', verbose)\n",
    "    pv(f'y.shape: {y.shape}', verbose)\n",
    "    \n",
    "\n",
    "    # Metrics\n",
    "    metrics = [mn for mn in self.recorder.metric_names if mn not in ['epoch', 'train_loss', 'valid_loss', 'time']]\n",
    "    if len(metrics) == 0 or key_metric_idx is None:\n",
    "        metric_name = self.loss_func.__class__.__name__\n",
    "        key_metric_idx = None\n",
    "    else:\n",
    "        metric_name = metrics[key_metric_idx]\n",
    "        metric = self.recorder.metrics[key_metric_idx].func\n",
    "    metric_name = metric_name.replace(\"train_\", \"\").replace(\"valid_\", \"\")\n",
    "    pv(f'Selected metric: {metric_name}', verbose)\n",
    "    \n",
    "    # Selected steps\n",
    "    sel_step_idxs = L(np.arange(X.shape[-1]).tolist())[self.dls.sel_steps]\n",
    "    if n_steps != 1:\n",
    "        sel_step_idxs = [listify(sel_step_idxs[::-1][n:n+n_steps][::-1]) for n in range(0, len(sel_step_idxs), n_steps)][::-1]        \n",
    "    g = list(zip(np.arange(len(sel_step_idxs)+2), [0] + sel_step_idxs))\n",
    "\n",
    "    # Loop\n",
    "    COLS = ['BASELINE'] + sel_step_idxs\n",
    "    results = []\n",
    "    _step_names = []\n",
    "    pv('Computing step importance...', verbose)\n",
    "    try:\n",
    "        if method == 'ablation':\n",
    "            fs = self.dls.valid.after_batch.fs\n",
    "            self.dls.valid.after_batch.fs = fs + [TSNan2Value()]\n",
    "        for i,k in progress_bar(g):\n",
    "            if i > 0:\n",
    "                if k not in sel_step_idxs: continue\n",
    "                save_feat = X[..., k].copy()\n",
    "                if method == 'permutation':\n",
    "                    # shuffle along samples\n",
    "                    X[..., k] = shuffle_along_axis(X[..., k], axis=0, random_state=random_state)\n",
    "                elif method == 'ablation':\n",
    "                    X[..., k] = np.nan\n",
    "            if key_metric_idx is None:\n",
    "                value = self.get_X_preds(X, y, with_loss=True)[-1].mean().item()\n",
    "            else:\n",
    "                output = self.get_X_preds(X, y)\n",
    "                if self.dls.c == 2:\n",
    "                    try: value = metric(output[1], output[0][:, 1]).item()\n",
    "                    except: value = metric(output[0], output[1]).item()\n",
    "                else:\n",
    "                    value = metric(output[0], output[1]).item()\n",
    "                del output\n",
    "            \n",
    "            # Step names\n",
    "            if i == 0 or step_names is None:\n",
    "                if i > 0 and n_steps != 1:\n",
    "                    step_name = f\"{str(COLS[i][0])} to {str(COLS[i][-1])}\"\n",
    "                else: step_name = str(COLS[i])\n",
    "            else:\n",
    "                step_name = step_names[i - 1]\n",
    "            if i > 0: _step_names.append(step_name)\n",
    "                \n",
    "            pv(f\"{i:3} step: {step_name:20} {metric_name}: {value:8.6f}\", verbose)\n",
    "            results.append([step_name, value])\n",
    "            del value; gc.collect()\n",
    "            if i > 0:\n",
    "                X[..., k] = save_feat\n",
    "                del save_feat; gc.collect()\n",
    "        \n",
    "        if method == 'ablation':\n",
    "            self.dls.valid.after_batch.fs = fs\n",
    "\n",
    "    except KeyboardInterrupt:\n",
    "        if i > 0:\n",
    "            X[..., k] = save_feat\n",
    "            del save_feat; gc.collect()\n",
    "        if method == 'ablation':\n",
    "            self.dls.valid.after_batch.fs = fs\n",
    "\n",
    "    # DataFrame\n",
    "    df = pd.DataFrame(results, columns=[\"Step\", metric_name])\n",
    "    df[f'{metric_name}_change'] = df[metric_name] - df.loc[0, metric_name]\n",
    "    sign = np.sign(df[f'{metric_name}_change'].mean())\n",
    "    if sign == 0: sign = 1\n",
    "    df[f'{metric_name}_change'] = df[f'{metric_name}_change'] * sign\n",
    "    \n",
    "    # Display step importance\n",
    "    if show_chart:\n",
    "        print()\n",
    "        value_change = df.loc[1:, f'{metric_name}_change'].values\n",
    "        pos_value_change = value_change.copy()\n",
    "        neg_value_change = value_change.copy()\n",
    "        pos_value_change[pos_value_change < 0] = 0\n",
    "        neg_value_change[neg_value_change > 0] = 0\n",
    "        plt.figure(figsize=(10, .5*len(value_change)))\n",
    "        plt.bar(np.arange(len(value_change)), pos_value_change, color='lime', edgecolor='black')\n",
    "        plt.bar(np.arange(len(value_change)), neg_value_change, color='red', edgecolor='black')\n",
    "        plt.axhline(0, color='black')\n",
    "        plt.xticks(np.arange(len(value_change)), _step_names, rotation=90)\n",
    "        if title is None: title = f'Step Importance ({method} method)'\n",
    "        plt.title(title, size=16)\n",
    "        text = 'increase' if sign == 1 else 'decrease'\n",
    "        if xlabel is None: xlabel = 'steps'\n",
    "        plt.xlabel(xlabel)\n",
    "        plt.ylabel(f\"{metric_name} {text} when removed\")\n",
    "        plt.xlim((-1,len(value_change)))\n",
    "        plt.show()\n",
    "\n",
    "    # Save step importance\n",
    "    df = df.sort_values(metric_name, ascending=sign < 0).reset_index(drop=True)\n",
    "    if save_df_path:\n",
    "        if save_df_path.split('.')[-1] != 'csv': save_df_path = f'{save_df_path}.csv'\n",
    "        df.to_csv(f'{save_df_path}', index=False)\n",
    "        pv(f'Step importance df saved to {save_df_path}', verbose)\n",
    "    if return_df: \n",
    "        return df "
   ]
  },
  {
   "cell_type": "code",
   "execution_count": null,
   "metadata": {},
   "outputs": [
    {
     "data": {
      "text/html": [
       "<table border=\"1\" class=\"dataframe\">\n",
       "  <thead>\n",
       "    <tr style=\"text-align: left;\">\n",
       "      <th>epoch</th>\n",
       "      <th>train_loss</th>\n",
       "      <th>train_accuracy</th>\n",
       "      <th>valid_loss</th>\n",
       "      <th>valid_accuracy</th>\n",
       "      <th>time</th>\n",
       "    </tr>\n",
       "  </thead>\n",
       "  <tbody>\n",
       "    <tr>\n",
       "      <td>0</td>\n",
       "      <td>1.797391</td>\n",
       "      <td>0.195312</td>\n",
       "      <td>1.674329</td>\n",
       "      <td>0.211111</td>\n",
       "      <td>00:01</td>\n",
       "    </tr>\n",
       "    <tr>\n",
       "      <td>1</td>\n",
       "      <td>1.584900</td>\n",
       "      <td>0.632812</td>\n",
       "      <td>1.530492</td>\n",
       "      <td>0.283333</td>\n",
       "      <td>00:01</td>\n",
       "    </tr>\n",
       "  </tbody>\n",
       "</table>"
      ],
      "text/plain": [
       "<IPython.core.display.HTML object>"
      ]
     },
     "metadata": {},
     "output_type": "display_data"
    }
   ],
   "source": [
    "from tsai.data.external import get_UCR_data\n",
    "from tsai.data.preprocessing import TSRobustScale, TSStandardize\n",
    "from tsai.learner import ts_learner\n",
    "from tsai.models.FCNPlus import FCNPlus\n",
    "dsid = 'NATOPS'\n",
    "X, y, splits = get_UCR_data(dsid, split_data=False)\n",
    "tfms  = [None, [TSClassification()]]\n",
    "batch_tfms = TSRobustScale()\n",
    "batch_tfms = TSStandardize()\n",
    "dls = get_ts_dls(X, y, splits=splits, sel_vars=[0, 3, 5, 8, 10], sel_steps=slice(-30, None), tfms=tfms, batch_tfms=batch_tfms)\n",
    "learn = ts_learner(dls, FCNPlus, metrics=accuracy, train_metrics=True)\n",
    "learn.fit_one_cycle(2)\n",
    "# learn.plot_metrics()\n",
    "# learn.show_probas()\n",
    "# learn.plot_confusion_matrix()"
   ]
  },
  {
   "cell_type": "code",
   "execution_count": null,
   "metadata": {},
   "outputs": [
    {
     "name": "stdout",
     "output_type": "stream",
     "text": [
      "X.shape: (180, 24, 51)\n",
      "y.shape: (180,)\n",
      "Selected metric: accuracy\n",
      "Computing feature importance (permutation method)...\n"
     ]
    },
    {
     "data": {
      "text/html": [
       "\n",
       "    <div>\n",
       "        <style>\n",
       "            /* Turns off some styling */\n",
       "            progress {\n",
       "                /* gets rid of default border in Firefox and Opera. */\n",
       "                border: none;\n",
       "                /* Needs to be in here for Safari polyfill so background images work as expected. */\n",
       "                background-size: auto;\n",
       "            }\n",
       "            .progress-bar-interrupted, .progress-bar-interrupted::-webkit-progress-bar {\n",
       "                background: #F44336;\n",
       "            }\n",
       "        </style>\n",
       "      <progress value='6' class='' max='6' style='width:300px; height:20px; vertical-align: middle;'></progress>\n",
       "      100.00% [6/6 00:03<00:00]\n",
       "    </div>\n",
       "    "
      ],
      "text/plain": [
       "<IPython.core.display.HTML object>"
      ]
     },
     "metadata": {},
     "output_type": "display_data"
    },
    {
     "data": {
      "text/html": [],
      "text/plain": [
       "<IPython.core.display.HTML object>"
      ]
     },
     "metadata": {},
     "output_type": "display_data"
    },
    {
     "name": "stdout",
     "output_type": "stream",
     "text": [
      "  0 feature: BASELINE             accuracy: 0.283333\n"
     ]
    },
    {
     "data": {
      "text/html": [],
      "text/plain": [
       "<IPython.core.display.HTML object>"
      ]
     },
     "metadata": {},
     "output_type": "display_data"
    },
    {
     "name": "stdout",
     "output_type": "stream",
     "text": [
      "  0 feature: var_0                accuracy: 0.222222\n"
     ]
    },
    {
     "data": {
      "text/html": [],
      "text/plain": [
       "<IPython.core.display.HTML object>"
      ]
     },
     "metadata": {},
     "output_type": "display_data"
    },
    {
     "name": "stdout",
     "output_type": "stream",
     "text": [
      "  3 feature: var_3                accuracy: 0.172222\n"
     ]
    },
    {
     "data": {
      "text/html": [],
      "text/plain": [
       "<IPython.core.display.HTML object>"
      ]
     },
     "metadata": {},
     "output_type": "display_data"
    },
    {
     "name": "stdout",
     "output_type": "stream",
     "text": [
      "  5 feature: var_5                accuracy: 0.283333\n"
     ]
    },
    {
     "data": {
      "text/html": [],
      "text/plain": [
       "<IPython.core.display.HTML object>"
      ]
     },
     "metadata": {},
     "output_type": "display_data"
    },
    {
     "name": "stdout",
     "output_type": "stream",
     "text": [
      "  8 feature: var_8                accuracy: 0.288889\n"
     ]
    },
    {
     "data": {
      "text/html": [],
      "text/plain": [
       "<IPython.core.display.HTML object>"
      ]
     },
     "metadata": {},
     "output_type": "display_data"
    },
    {
     "name": "stdout",
     "output_type": "stream",
     "text": [
      " 10 feature: var_10               accuracy: 0.294444\n",
      "\n"
     ]
    },
    {
     "data": {
      "image/png": "[encoded data removed]",
      "text/plain": [
       "<Figure size 720x180 with 1 Axes>"
      ]
     },
     "metadata": {
      "needs_background": "light"
     },
     "output_type": "display_data"
    },
    {
     "data": {
      "text/html": [
       "<div>\n",
       "<style scoped>\n",
       "    .dataframe tbody tr th:only-of-type {\n",
       "        vertical-align: middle;\n",
       "    }\n",
       "\n",
       "    .dataframe tbody tr th {\n",
       "        vertical-align: top;\n",
       "    }\n",
       "\n",
       "    .dataframe thead th {\n",
       "        text-align: right;\n",
       "    }\n",
       "</style>\n",
       "<table border=\"1\" class=\"dataframe\">\n",
       "  <thead>\n",
       "    <tr style=\"text-align: right;\">\n",
       "      <th></th>\n",
       "      <th>Feature</th>\n",
       "      <th>accuracy</th>\n",
       "      <th>accuracy_change</th>\n",
       "    </tr>\n",
       "  </thead>\n",
       "  <tbody>\n",
       "    <tr>\n",
       "      <th>0</th>\n",
       "      <td>var_3</td>\n",
       "      <td>0.172222</td>\n",
       "      <td>0.111111</td>\n",
       "    </tr>\n",
       "    <tr>\n",
       "      <th>1</th>\n",
       "      <td>var_0</td>\n",
       "      <td>0.222222</td>\n",
       "      <td>0.061111</td>\n",
       "    </tr>\n",
       "    <tr>\n",
       "      <th>2</th>\n",
       "      <td>BASELINE</td>\n",
       "      <td>0.283333</td>\n",
       "      <td>-0.000000</td>\n",
       "    </tr>\n",
       "    <tr>\n",
       "      <th>3</th>\n",
       "      <td>var_5</td>\n",
       "      <td>0.283333</td>\n",
       "      <td>-0.000000</td>\n",
       "    </tr>\n",
       "    <tr>\n",
       "      <th>4</th>\n",
       "      <td>var_8</td>\n",
       "      <td>0.288889</td>\n",
       "      <td>-0.005556</td>\n",
       "    </tr>\n",
       "    <tr>\n",
       "      <th>5</th>\n",
       "      <td>var_10</td>\n",
       "      <td>0.294444</td>\n",
       "      <td>-0.011111</td>\n",
       "    </tr>\n",
       "  </tbody>\n",
       "</table>\n",
       "</div>"
      ],
      "text/plain": [
       "    Feature  accuracy  accuracy_change\n",
       "0     var_3  0.172222         0.111111\n",
       "1     var_0  0.222222         0.061111\n",
       "2  BASELINE  0.283333        -0.000000\n",
       "3     var_5  0.283333        -0.000000\n",
       "4     var_8  0.288889        -0.005556\n",
       "5    var_10  0.294444        -0.011111"
      ]
     },
     "execution_count": null,
     "metadata": {},
     "output_type": "execute_result"
    }
   ],
   "source": [
    "learn.feature_importance()"
   ]
  },
  {
   "cell_type": "code",
   "execution_count": null,
   "metadata": {},
   "outputs": [
    {
     "name": "stdout",
     "output_type": "stream",
     "text": [
      "X.shape: (180, 24, 51)\n",
      "y.shape: (180,)\n",
      "Selected metric: accuracy\n",
      "Computing step importance...\n"
     ]
    },
    {
     "data": {
      "text/html": [
       "\n",
       "    <div>\n",
       "        <style>\n",
       "            /* Turns off some styling */\n",
       "            progress {\n",
       "                /* gets rid of default border in Firefox and Opera. */\n",
       "                border: none;\n",
       "                /* Needs to be in here for Safari polyfill so background images work as expected. */\n",
       "                background-size: auto;\n",
       "            }\n",
       "            .progress-bar-interrupted, .progress-bar-interrupted::-webkit-progress-bar {\n",
       "                background: #F44336;\n",
       "            }\n",
       "        </style>\n",
       "      <progress value='7' class='' max='7' style='width:300px; height:20px; vertical-align: middle;'></progress>\n",
       "      100.00% [7/7 00:04<00:00]\n",
       "    </div>\n",
       "    "
      ],
      "text/plain": [
       "<IPython.core.display.HTML object>"
      ]
     },
     "metadata": {},
     "output_type": "display_data"
    },
    {
     "data": {
      "text/html": [],
      "text/plain": [
       "<IPython.core.display.HTML object>"
      ]
     },
     "metadata": {},
     "output_type": "display_data"
    },
    {
     "name": "stdout",
     "output_type": "stream",
     "text": [
      "  0 step: BASELINE             accuracy: 0.288889\n"
     ]
    },
    {
     "data": {
      "text/html": [],
      "text/plain": [
       "<IPython.core.display.HTML object>"
      ]
     },
     "metadata": {},
     "output_type": "display_data"
    },
    {
     "name": "stdout",
     "output_type": "stream",
     "text": [
      "  1 step: 21 to 25             accuracy: 0.305556\n"
     ]
    },
    {
     "data": {
      "text/html": [],
      "text/plain": [
       "<IPython.core.display.HTML object>"
      ]
     },
     "metadata": {},
     "output_type": "display_data"
    },
    {
     "name": "stdout",
     "output_type": "stream",
     "text": [
      "  2 step: 26 to 30             accuracy: 0.255556\n"
     ]
    },
    {
     "data": {
      "text/html": [],
      "text/plain": [
       "<IPython.core.display.HTML object>"
      ]
     },
     "metadata": {},
     "output_type": "display_data"
    },
    {
     "name": "stdout",
     "output_type": "stream",
     "text": [
      "  3 step: 31 to 35             accuracy: 0.222222\n"
     ]
    },
    {
     "data": {
      "text/html": [],
      "text/plain": [
       "<IPython.core.display.HTML object>"
      ]
     },
     "metadata": {},
     "output_type": "display_data"
    },
    {
     "name": "stdout",
     "output_type": "stream",
     "text": [
      "  4 step: 36 to 40             accuracy: 0.244444\n"
     ]
    },
    {
     "data": {
      "text/html": [],
      "text/plain": [
       "<IPython.core.display.HTML object>"
      ]
     },
     "metadata": {},
     "output_type": "display_data"
    },
    {
     "name": "stdout",
     "output_type": "stream",
     "text": [
      "  5 step: 41 to 45             accuracy: 0.277778\n"
     ]
    },
    {
     "data": {
      "text/html": [],
      "text/plain": [
       "<IPython.core.display.HTML object>"
      ]
     },
     "metadata": {},
     "output_type": "display_data"
    },
    {
     "name": "stdout",
     "output_type": "stream",
     "text": [
      "  6 step: 46 to 50             accuracy: 0.294444\n",
      "\n"
     ]
    },
    {
     "data": {
      "image/png": "[encoded data removed]",
      "text/plain": [
       "<Figure size 720x216 with 1 Axes>"
      ]
     },
     "metadata": {
      "needs_background": "light"
     },
     "output_type": "display_data"
    }
   ],
   "source": [
    "learn.step_importance(n_steps=5);"
   ]
  },
  {
   "cell_type": "markdown",
   "metadata": {},
   "source": [
    "You may pass an X and y if you want to analyze a particular group of samples: \n",
    "\n",
    "```bash\n",
    "learn.feature_importance(X=X[splits[1]], y=y[splits[1]])\n",
    "```"
   ]
  },
  {
   "cell_type": "markdown",
   "metadata": {},
   "source": [
    "If you have a large validation dataset, you may also use the partial_n argument to select a fixed amount of samples (integer) or a percentage of the validation dataset (float):\n",
    "\n",
    "```bash\n",
    "learn.feature_importance(partial_n=.1)\n",
    "```\n",
    "\n",
    "```bash\n",
    "learn.feature_importance(partial_n=100)\n",
    "```"
   ]
  },
  {
   "cell_type": "code",
   "execution_count": null,
   "metadata": {},
   "outputs": [],
   "source": [
    "#hide\n",
    "from tsai.imports import create_scripts\n",
    "from tsai.export import get_nb_name\n",
    "nb_name = get_nb_name()\n",
    "create_scripts(nb_name);"
   ]
  },
  {
   "cell_type": "code",
   "execution_count": null,
   "metadata": {},
   "outputs": [],
   "source": []
  }
 ],
 "metadata": {
  "kernelspec": {
   "display_name": "Python 3 (ipykernel)",
   "language": "python",
   "name": "python3"
  }
 },
 "nbformat": 4,
 "nbformat_minor": 4
}
