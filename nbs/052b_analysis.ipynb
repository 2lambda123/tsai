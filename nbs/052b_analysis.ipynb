{
 "cells": [
  {
   "cell_type": "code",
   "execution_count": null,
   "metadata": {},
   "outputs": [],
   "source": [
    "# default_exp analysis"
   ]
  },
  {
   "cell_type": "markdown",
   "metadata": {},
   "source": [
    "# Analysis\n",
    "\n",
    "> This contains fastai Learner extensions useful to perform prediction analysis."
   ]
  },
  {
   "cell_type": "code",
   "execution_count": null,
   "metadata": {},
   "outputs": [],
   "source": [
    "#export\n",
    "from tsai.imports import *\n",
    "from tsai.utils import random_shuffle\n",
    "from tsai.data.core import *\n",
    "from tsai.inference import get_X_preds\n",
    "from fastai.learner import * "
   ]
  },
  {
   "cell_type": "code",
   "execution_count": null,
   "metadata": {},
   "outputs": [],
   "source": [
    "#export\n",
    "@patch\n",
    "@delegates(subplots)\n",
    "def show_probas(self:Learner, figsize=(6,6), ds_idx=1, dl=None, one_batch=False, max_n=None, **kwargs):\n",
    "    recorder = copy(self.recorder) # This is to avoid loss of recorded values while generating preds\n",
    "    if one_batch: dl = self.dls.one_batch()\n",
    "    probas, targets = self.get_preds(ds_idx=ds_idx, dl=[dl] if dl is not None else None)\n",
    "    if probas.ndim == 2 and probas.min() < 0 or probas.max() > 1: probas = nn.Softmax(-1)(probas)\n",
    "    if not isinstance(targets[0].item(), Integral): return\n",
    "    targets = targets.flatten()\n",
    "    if max_n is not None:\n",
    "        idxs = np.random.choice(len(probas), max_n, False)\n",
    "        probas, targets = probas[idxs], targets[idxs]\n",
    "    if isinstance(probas, torch.Tensor): probas = probas.detach().cpu().numpy()\n",
    "    if isinstance(targets, torch.Tensor): targets = targets.detach().cpu().numpy()\n",
    "    fig = plt.figure(figsize=figsize, **kwargs)\n",
    "    classes = np.unique(targets)\n",
    "    nclasses = len(classes)\n",
    "    vals = np.linspace(.5, .5 + nclasses - 1, nclasses)[::-1]\n",
    "    plt.vlines(.5, min(vals) - 1, max(vals), color='black', linewidth=.5)\n",
    "    cm = plt.get_cmap('gist_rainbow')\n",
    "    color = [cm(1.* c/nclasses) for c in range(1, nclasses + 1)][::-1]\n",
    "    # class_probas = np.array([probas[i,t] for i,t in enumerate(targets)])\n",
    "    class_probas = np.array([probas[i][t] for i,t in enumerate(targets)])\n",
    "    for i, c in enumerate(classes):\n",
    "        plt.scatter(class_probas[targets == c] if nclasses > 2 or i > 0 else 1 - class_probas[targets == c],\n",
    "                    targets[targets == c] + .5 * (np.random.rand((targets == c).sum()) - .5), color=color[i], edgecolor='black', alpha=.2, s=100)\n",
    "        if nclasses > 2: plt.vlines((targets == c).mean(), i - .5, i + .5, color='r', linewidth=.5)\n",
    "    plt.hlines(vals, 0, 1)\n",
    "    plt.ylim(min(vals) - 1, max(vals))\n",
    "    plt.xlim(0,1)\n",
    "    plt.xticks(np.linspace(0,1,11), fontsize=12)\n",
    "    plt.yticks(classes, [self.dls.vocab[x] for x in classes], fontsize=12)\n",
    "    plt.title('Predicted proba per true class' if nclasses > 2 else 'Predicted class 1 proba per true class', fontsize=14)\n",
    "    plt.xlabel('Probability', fontsize=12)\n",
    "    plt.ylabel('True class', fontsize=12)\n",
    "    plt.grid(axis='x', color='gainsboro', linewidth=.2)\n",
    "    plt.show()\n",
    "    self.recorder = recorder"
   ]
  },
  {
   "cell_type": "code",
   "execution_count": null,
   "metadata": {},
   "outputs": [],
   "source": [
    "#export\n",
    "@patch\n",
    "def plot_confusion_matrix(self:Learner, ds_idx=1, dl=None, thr=.5, normalize=False, title='Confusion matrix', cmap=\"Blues\", norm_dec=2, figsize=(6,6),\n",
    "                          title_fontsize=16, fontsize=12, plot_txt=True, **kwargs):\n",
    "        \"Plot the confusion matrix, with `title` and using `cmap`.\"\n",
    "        # This function is mainly copied from the sklearn docs\n",
    "        assert self.dls.cat\n",
    "        if self.dls.c == 2: # binary classification\n",
    "            probas, preds = self.get_preds(ds_idx=ds_idx, dl=dl)\n",
    "            y_pred = (probas[:, 1] > thr).numpy().astype(int)\n",
    "            y_test = preds.numpy()\n",
    "            if normalize: skm_normalize = 'true'\n",
    "            else: skm_normalize = None\n",
    "            cm = skm.confusion_matrix(y_test, y_pred, normalize=skm_normalize)\n",
    "        else: \n",
    "            cm = ClassificationInterpretation.from_learner(self).confusion_matrix()\n",
    "\n",
    "        if normalize: cm = cm.astype('float') / cm.sum(axis=1)[:, np.newaxis]\n",
    "        fig = plt.figure(figsize=figsize, **kwargs)\n",
    "        plt.imshow(cm, interpolation='nearest', cmap=cmap)\n",
    "        if self.dls.c == 2:\n",
    "            plt.title(f\"{title} (threshold: {thr})\", fontsize=title_fontsize)\n",
    "        else: \n",
    "            plt.title(title, fontsize=title_fontsize)\n",
    "        tick_marks = np.arange(len(self.dls.vocab))\n",
    "        plt.xticks(tick_marks, self.dls.vocab, rotation=90, fontsize=fontsize)\n",
    "        plt.yticks(tick_marks, self.dls.vocab, rotation=0, fontsize=fontsize)\n",
    "\n",
    "        if plot_txt:\n",
    "            thresh = cm.max() / 2.\n",
    "            for i, j in itertools.product(range(cm.shape[0]), range(cm.shape[1])):\n",
    "                coeff = f'{cm[i, j]:.{norm_dec}f}' if normalize else f'{cm[i, j]}'\n",
    "                plt.text(j, i, coeff, horizontalalignment=\"center\", verticalalignment=\"center\", color=\"white\" if cm[i, j] > thresh else \"black\", fontsize=fontsize)\n",
    "\n",
    "        ax = fig.gca()\n",
    "        ax.set_ylim(len(self.dls.vocab)-.5,-.5)\n",
    "\n",
    "        plt.tight_layout()\n",
    "        plt.ylabel('Actual', fontsize=fontsize)\n",
    "        plt.xlabel('Predicted', fontsize=fontsize)\n",
    "        plt.grid(False)"
   ]
  },
  {
   "cell_type": "markdown",
   "metadata": {},
   "source": [
    "## Permutation importance"
   ]
  },
  {
   "cell_type": "markdown",
   "metadata": {},
   "source": [
    "We've also introduced 2 methods to help you better understand how important certain features or certain steps are for your model. Both methods use permutation importance. \n",
    "\n",
    "⚠️**The permutation feature or step importance is defined to be the decrease in a model score when a single feature or step value is randomly shuffled.**\n",
    "\n",
    "So if you using accuracy (higher is better), the most important features or steps will be those with a *lower* value on the chart (as randomly shuffling them reduces performance). \n",
    "\n",
    "The opposite occurs for metrics like mean squared error (lower is better). In this case, the most important features or steps will be those with a *higher* value on the chart. \n",
    "\n",
    "There are 2 issues with step importance: \n",
    "\n",
    "* there may be many steps and the analysis could take very long\n",
    "* steps will likely have a high autocorrelation\n",
    "\n",
    "For those reasons, we've introduced an argument (n_steps) to group steps. In this way you'll be able to know which part of the time series is the most important. "
   ]
  },
  {
   "cell_type": "code",
   "execution_count": null,
   "metadata": {},
   "outputs": [],
   "source": [
    "#export\n",
    "@patch\n",
    "def feature_importance(self:Learner, X=None, y=None, partial_n=None, feature_names=None, key_metric_idx=0, show_chart=True, save_df_path=False,\n",
    "                       baseline_color='green', bar_color=\"lime\", figsize=(10, 5), random_state=23):\n",
    "    r\"\"\"Calculates feature importance defined to be the change in a model validation loss or metric when a single feature value is randomly shuffled\n",
    "\n",
    "    Adapted from https://www.kaggle.com/cdeotte/lstm-feature-importance by Chris Deotte (Kaggle GrandMaster)\n",
    "\n",
    "    This procedure breaks the relationship between the feature and the target, thus the change in the model validation loss or metric is indicative of\n",
    "    how much the model depends on the feature.\n",
    "\n",
    "    Args:\n",
    "        X: array-like object  containing the time series data for which importance will be measured. If None, all data in the validation set will be used.\n",
    "        y: array-like object containing the targets. If None, all targets in the validation set will be used.\n",
    "        partial_n: number of samples (if int) or percent of the validation set (if float) that will be used to measure feature importance. If None,\n",
    "                   all data will be used.\n",
    "        feature_names (Optional[list(str)]): list of feature names that will be displayed if available. Otherwise they will be var_0, var_1, etc.\n",
    "        key_metric_idx (Optional[int]): integer to select the metric used in the calculation. If None or no metric is available,\n",
    "                                        the change is calculated using the validation loss.\n",
    "        show_chart (bool): flag to indicate if a chart showing permutation feature importance will be plotted.\n",
    "        save_df_path (str): path to saved dataframe containing the permutation feature importance results.\n",
    "        baseline_color: color of the baseline bar in the chart\n",
    "        bar_color: color of the step bars in the chart\n",
    "        random_state (int): controls the shuffling applied to the data. Pass an int for reproducible output across multiple function calls.\n",
    "    \"\"\"\n",
    "\n",
    "    if X is None:\n",
    "        X = self.dls.valid.dataset.tls[0].items\n",
    "    if y is None:\n",
    "        y = self.dls.valid.dataset.tls[1].items\n",
    "    if partial_n is not None:\n",
    "        if isinstance(partial_n, float):\n",
    "            partial_n = int(round(partial_n * len(X)))\n",
    "        rand_idxs = random_shuffle(np.arange(len(X)), random_state=random_state)[:partial_n]\n",
    "        X = X.oindex[rand_idxs] if hasattr(X, 'oindex') else X[rand_idxs]\n",
    "        y = y.oindex[rand_idxs] if hasattr(y, 'oindex') else y[rand_idxs]\n",
    "\n",
    "    metrics = [mn for mn in self.recorder.metric_names if mn not in ['epoch', 'train_loss', 'valid_loss', 'time']]\n",
    "    if len(metrics) == 0 or key_metric_idx is None:\n",
    "        metric_name = self.loss_func.__class__.__name__\n",
    "        key_metric_idx = None\n",
    "    else:\n",
    "        metric_name = metrics[key_metric_idx]\n",
    "        metric = self.recorder.metrics[key_metric_idx].func\n",
    "    metric_name = metric_name.replace(\"train_\", \"\").replace(\"valid_\", \"\")\n",
    "    print(f'Selected metric: {metric_name}')\n",
    "    \n",
    "    sel_vars = not(isinstance(self.dls.sel_vars, slice) and self.dls.sel_vars == slice(None, None, None))\n",
    "    if feature_names is None:\n",
    "        feature_names = L([f\"var_{i}\" for i in range(X.shape[1])])\n",
    "        if sel_vars:\n",
    "            feature_names = feature_names[self.dls.sel_vars]\n",
    "    else:\n",
    "        feature_names = listify(feature_names)\n",
    "    \n",
    "    if sel_vars:\n",
    "        assert len(feature_names) == len(self.dls.sel_vars)\n",
    "    else: \n",
    "        assert len(feature_names) == X.shape[1]\n",
    "    \n",
    "    sel_var_idxs = L(np.arange(1, X.shape[1] + 1).tolist())\n",
    "    if sel_vars:\n",
    "        sel_var_idxs = sel_var_idxs[self.dls.sel_vars]\n",
    "    assert len(feature_names) == len(sel_var_idxs)\n",
    "\n",
    "    g = list(zip(np.arange(len(sel_var_idxs)+2), [0] + sel_var_idxs))\n",
    "\n",
    "    COLS = ['BASELINE'] + list(feature_names)\n",
    "    results = []\n",
    "    print('Computing feature importance...')\n",
    "    try:\n",
    "        for i,k in progress_bar(g):\n",
    "            if k not in [0] + sel_var_idxs: continue\n",
    "            if k>0:\n",
    "                save_feat = X[:, k-1].copy()\n",
    "                X[:, k-1] = random_shuffle(X[:, k-1].flatten(), random_state=random_state).reshape(X[:, k-1].shape)\n",
    "            if key_metric_idx is None:\n",
    "                value = self.get_X_preds(X, y, with_loss=True)[-1].mean().item()\n",
    "            else:\n",
    "                output = self.get_X_preds(X, y)\n",
    "                value = metric(output[0], output[1]).item()\n",
    "            print(f\"{k:3} feature: {COLS[i]:20} {metric_name}: {value:8.6f}\")\n",
    "            results.append([COLS[i], value])\n",
    "            del output, value;gc.collect()\n",
    "            if k>0:\n",
    "                X[:, k-1] = save_feat\n",
    "                del save_feat; gc.collect()\n",
    "\n",
    "    except KeyboardInterrupt:\n",
    "        if k>0:\n",
    "            X[:, k-1] = save_feat\n",
    "            del save_feat; gc.collect()\n",
    "\n",
    "    # Display feature importance\n",
    "    if show_chart:\n",
    "        print()\n",
    "        df = pd.DataFrame(results, columns=[\"Feature\", metric_name])\n",
    "#         df = df.sort_values(metric_name, ascending=key_metric_idx is None)\n",
    "        plt.figure(figsize=(10, .5*len(results)))\n",
    "        barlist = plt.barh(np.arange(len(results)), df[metric_name], color=bar_color, edgecolor='black')\n",
    "        barlist[0].set_color(baseline_color)\n",
    "        plt.yticks(np.arange(len(results)), df[\"Feature\"].values)\n",
    "        plt.title('Permutation Feature Importance', size=16)\n",
    "        plt.xlabel(f\"{metric_name}\")\n",
    "        plt.ylim((-1,len(results)))\n",
    "        plt.show()\n",
    "\n",
    "    # Save feature importance\n",
    "    if save_df_path:\n",
    "        df = df.sort_values(metric_name,ascending=False)\n",
    "        df.to_csv(f'{save_df_path}.csv', index=False)"
   ]
  },
  {
   "cell_type": "code",
   "execution_count": null,
   "metadata": {},
   "outputs": [],
   "source": [
    "#export\n",
    "@patch\n",
    "def step_importance(self:Learner, X=None, y=None, partial_n=None, key_metric_idx=0, n_steps=1, show_chart=True, save_df_path=False, \n",
    "                    baseline_color='green', bar_color=\"lime\", figsize=(10, 5), random_state=23):\n",
    "    r\"\"\"Calculates step importance defined to be the change in a model validation loss or metric when a single step value is randomly shuffled\n",
    "\n",
    "\n",
    "    This procedure breaks the relationship between the step and the target, thus the change in the model validation loss or metric is indicative of\n",
    "    how much the model depends on the step.\n",
    "\n",
    "    Args:\n",
    "        X: array-like object  containing the time series data for which importance will be measured. If None, all data in the validation set will be used.\n",
    "        y: array-like object containing the targets. If None, all targets in the validation set will be used.\n",
    "        partial_n: number of samples (if int) or percent of the validation set (if float) that will be used to measure feature importance. If None,\n",
    "                   all data will be used.\n",
    "        key_metric_idx (Optional[int]): integer to select the metric used in the calculation. If None or no metric is available,\n",
    "                                        the change is calculated using the validation loss.\n",
    "        n_steps (int): number of steps that will be analyzed at a time. Default is 1 but you may choose a larger integer.\n",
    "        show_chart (bool): flag to indicate if a chart showing permutation feature importance will be plotted.\n",
    "        save_df_path (str): path to saved dataframe containing the permutation feature importance results.\n",
    "        baseline_color: color of the baseline bar in the chart\n",
    "        bar_color: color of the step bars in the chart\n",
    "        random_state (int): controls the shuffling applied to the data. Pass an int for reproducible output across multiple function calls.\n",
    "    \"\"\"\n",
    "\n",
    "    if X is None:\n",
    "        X = self.dls.valid.dataset.tls[0].items\n",
    "    if y is None:\n",
    "        y = self.dls.valid.dataset.tls[1].items\n",
    "    if partial_n is not None:\n",
    "        if isinstance(partial_n, float):\n",
    "            partial_n = int(round(partial_n * len(X)))\n",
    "        rand_idxs = random_shuffle(np.arange(len(X)), random_state=random_state)[:partial_n]\n",
    "        X = X.oindex[rand_idxs] if hasattr(X, 'oindex') else X[rand_idxs]\n",
    "        y = y.oindex[rand_idxs] if hasattr(y, 'oindex') else y[rand_idxs]\n",
    "\n",
    "    metrics = [mn for mn in self.recorder.metric_names if mn not in ['epoch', 'train_loss', 'valid_loss', 'time']]\n",
    "    if len(metrics) == 0 or key_metric_idx is None:\n",
    "        metric_name = self.loss_func.__class__.__name__\n",
    "        key_metric_idx = None\n",
    "    else:\n",
    "        metric_name = metrics[key_metric_idx]\n",
    "        metric = self.recorder.metrics[key_metric_idx].func\n",
    "    metric_name = metric_name.replace(\"train_\", \"\").replace(\"valid_\", \"\")\n",
    "    print(f'Selected metric: {metric_name}')\n",
    "    \n",
    "    sel_step_idxs = L(np.arange(X.shape[-1]).tolist())[self.dls.sel_steps]\n",
    "    if n_steps != 1:\n",
    "        sel_step_idxs = [listify(sel_step_idxs[::-1][n:n+n_steps][::-1]) for n in range(0, len(sel_step_idxs), n_steps)][::-1]\n",
    "    g = list(zip(np.arange(len(sel_step_idxs)+2), [0] + sel_step_idxs))\n",
    "\n",
    "    COLS = ['BASELINE'] + sel_step_idxs\n",
    "    results = []\n",
    "    print('Computing step importance...')\n",
    "    try:\n",
    "        for i,k in progress_bar(g):\n",
    "            if k not in [0] and k not in sel_step_idxs: continue\n",
    "            if i>0:\n",
    "                save_feat = X[..., k].copy()\n",
    "                X[..., k] = random_shuffle(X[..., k].flatten(), random_state=random_state).reshape(X[..., k].shape)\n",
    "            if key_metric_idx is None:\n",
    "                value = self.get_X_preds(X, y, with_loss=True)[-1].mean().item()\n",
    "            else:\n",
    "                output = self.get_X_preds(X, y)\n",
    "                value = metric(output[0], output[1]).item()\n",
    "            if i > 0 and n_steps != 1: \n",
    "                step_name = f\"{str(COLS[i][0])} to {str(COLS[i][-1])}\"\n",
    "            else: step_name = str(COLS[i])\n",
    "            print(f\"{i:3} step: {step_name:20} {metric_name}: {value:8.6f}\")\n",
    "            results.append([step_name, value])\n",
    "            del output, value;gc.collect()\n",
    "            if i>0:\n",
    "                X[..., k] = save_feat\n",
    "                del save_feat; gc.collect()\n",
    "\n",
    "    except KeyboardInterrupt:\n",
    "        if k>0:\n",
    "            X[..., k] = save_feat\n",
    "            del save_feat; gc.collect()\n",
    "\n",
    "    # Display step importance\n",
    "    if show_chart:\n",
    "        print()\n",
    "        df = pd.DataFrame(results, columns=[\"Step\", metric_name])\n",
    "#         df = df.sort_values(metric_name, ascending=key_metric_idx is None)\n",
    "        plt.figure(figsize=figsize)\n",
    "        barlist = plt.bar(np.arange(len(results)), df[metric_name], color=bar_color, edgecolor='black')\n",
    "        barlist[0].set_color(baseline_color)\n",
    "        plt.xticks(np.arange(len(results)), df[\"Step\"].values, rotation=90)\n",
    "        plt.title('Permutation Step Importance', size=16)\n",
    "        plt.ylabel(f\"{metric_name}\")\n",
    "        plt.xlim((-1,len(results)))\n",
    "        plt.show()\n",
    "\n",
    "    # Save step importance\n",
    "    if save_df_path:\n",
    "        df = df.sort_values(metric_name,ascending=False)\n",
    "\n",
    "        df.to_csv(f'{save_df_path}.csv', index=False)"
   ]
  },
  {
   "cell_type": "code",
   "execution_count": null,
   "metadata": {},
   "outputs": [
    {
     "data": {
      "text/html": [
       "<table border=\"1\" class=\"dataframe\">\n",
       "  <thead>\n",
       "    <tr style=\"text-align: left;\">\n",
       "      <th>epoch</th>\n",
       "      <th>train_loss</th>\n",
       "      <th>train_accuracy</th>\n",
       "      <th>valid_loss</th>\n",
       "      <th>valid_accuracy</th>\n",
       "      <th>time</th>\n",
       "    </tr>\n",
       "  </thead>\n",
       "  <tbody>\n",
       "    <tr>\n",
       "      <td>0</td>\n",
       "      <td>1.946730</td>\n",
       "      <td>0.023438</td>\n",
       "      <td>1.721241</td>\n",
       "      <td>0.238889</td>\n",
       "      <td>00:01</td>\n",
       "    </tr>\n",
       "    <tr>\n",
       "      <td>1</td>\n",
       "      <td>1.729974</td>\n",
       "      <td>0.500000</td>\n",
       "      <td>1.537785</td>\n",
       "      <td>0.388889</td>\n",
       "      <td>00:00</td>\n",
       "    </tr>\n",
       "  </tbody>\n",
       "</table>"
      ],
      "text/plain": [
       "<IPython.core.display.HTML object>"
      ]
     },
     "metadata": {},
     "output_type": "display_data"
    },
    {
     "data": {
      "image/png": "[encoded data removed]",
      "text/plain": [
       "<Figure size 936x288 with 2 Axes>"
      ]
     },
     "metadata": {
      "needs_background": "light"
     },
     "output_type": "display_data"
    },
    {
     "data": {
      "text/html": [],
      "text/plain": [
       "<IPython.core.display.HTML object>"
      ]
     },
     "metadata": {},
     "output_type": "display_data"
    },
    {
     "data": {
      "image/png": "[encoded data removed]",
      "text/plain": [
       "<Figure size 432x432 with 1 Axes>"
      ]
     },
     "metadata": {
      "needs_background": "light"
     },
     "output_type": "display_data"
    },
    {
     "data": {
      "text/html": [],
      "text/plain": [
       "<IPython.core.display.HTML object>"
      ]
     },
     "metadata": {},
     "output_type": "display_data"
    },
    {
     "data": {
      "image/png": "[encoded data removed]",
      "text/plain": [
       "<Figure size 432x432 with 1 Axes>"
      ]
     },
     "metadata": {
      "needs_background": "light"
     },
     "output_type": "display_data"
    }
   ],
   "source": [
    "from tsai.data.external import get_UCR_data\n",
    "from tsai.data.preprocessing import TSRobustScale\n",
    "from tsai.learner import ts_learner\n",
    "from tsai.models.FCNPlus import FCNPlus\n",
    "dsid = 'NATOPS'\n",
    "X, y, splits = get_UCR_data(dsid, split_data=False)\n",
    "tfms  = [None, [TSClassification()]]\n",
    "batch_tfms = TSRobustScale()\n",
    "dls = get_ts_dls(X, y, splits=splits, sel_vars=[0, 3, 5, 8, 10], sel_steps=slice(-30, None), tfms=tfms, batch_tfms=batch_tfms)\n",
    "learn = ts_learner(dls, FCNPlus, metrics=accuracy, train_metrics=True)\n",
    "learn.fit_one_cycle(2)\n",
    "learn.plot_metrics()\n",
    "learn.show_probas()\n",
    "learn.plot_confusion_matrix()"
   ]
  },
  {
   "cell_type": "code",
   "execution_count": null,
   "metadata": {},
   "outputs": [
    {
     "name": "stdout",
     "output_type": "stream",
     "text": [
      "Selected metric: accuracy\n",
      "Computing feature importance...\n"
     ]
    },
    {
     "data": {
      "text/html": [
       "\n",
       "    <div>\n",
       "        <style>\n",
       "            /* Turns off some styling */\n",
       "            progress {\n",
       "                /* gets rid of default border in Firefox and Opera. */\n",
       "                border: none;\n",
       "                /* Needs to be in here for Safari polyfill so background images work as expected. */\n",
       "                background-size: auto;\n",
       "            }\n",
       "            .progress-bar-interrupted, .progress-bar-interrupted::-webkit-progress-bar {\n",
       "                background: #F44336;\n",
       "            }\n",
       "        </style>\n",
       "      <progress value='6' class='' max='6' style='width:300px; height:20px; vertical-align: middle;'></progress>\n",
       "      100.00% [6/6 00:04<00:00]\n",
       "    </div>\n",
       "    "
      ],
      "text/plain": [
       "<IPython.core.display.HTML object>"
      ]
     },
     "metadata": {},
     "output_type": "display_data"
    },
    {
     "data": {
      "text/html": [],
      "text/plain": [
       "<IPython.core.display.HTML object>"
      ]
     },
     "metadata": {},
     "output_type": "display_data"
    },
    {
     "name": "stdout",
     "output_type": "stream",
     "text": [
      "  0 feature: BASELINE             accuracy: 0.244444\n"
     ]
    },
    {
     "data": {
      "text/html": [],
      "text/plain": [
       "<IPython.core.display.HTML object>"
      ]
     },
     "metadata": {},
     "output_type": "display_data"
    },
    {
     "name": "stdout",
     "output_type": "stream",
     "text": [
      "  1 feature: var_0                accuracy: 0.172222\n"
     ]
    },
    {
     "data": {
      "text/html": [],
      "text/plain": [
       "<IPython.core.display.HTML object>"
      ]
     },
     "metadata": {},
     "output_type": "display_data"
    },
    {
     "name": "stdout",
     "output_type": "stream",
     "text": [
      "  4 feature: var_3                accuracy: 0.172222\n"
     ]
    },
    {
     "data": {
      "text/html": [],
      "text/plain": [
       "<IPython.core.display.HTML object>"
      ]
     },
     "metadata": {},
     "output_type": "display_data"
    },
    {
     "name": "stdout",
     "output_type": "stream",
     "text": [
      "  6 feature: var_5                accuracy: 0.172222\n"
     ]
    },
    {
     "data": {
      "text/html": [],
      "text/plain": [
       "<IPython.core.display.HTML object>"
      ]
     },
     "metadata": {},
     "output_type": "display_data"
    },
    {
     "name": "stdout",
     "output_type": "stream",
     "text": [
      "  9 feature: var_8                accuracy: 0.266667\n"
     ]
    },
    {
     "data": {
      "text/html": [],
      "text/plain": [
       "<IPython.core.display.HTML object>"
      ]
     },
     "metadata": {},
     "output_type": "display_data"
    },
    {
     "name": "stdout",
     "output_type": "stream",
     "text": [
      " 11 feature: var_10               accuracy: 0.211111\n",
      "\n"
     ]
    },
    {
     "data": {
      "image/png": "[encoded data removed]",
      "text/plain": [
       "<Figure size 720x216 with 1 Axes>"
      ]
     },
     "metadata": {
      "needs_background": "light"
     },
     "output_type": "display_data"
    }
   ],
   "source": [
    "learn.feature_importance();"
   ]
  },
  {
   "cell_type": "code",
   "execution_count": null,
   "metadata": {},
   "outputs": [
    {
     "name": "stdout",
     "output_type": "stream",
     "text": [
      "Selected metric: accuracy\n",
      "Computing step importance...\n"
     ]
    },
    {
     "data": {
      "text/html": [
       "\n",
       "    <div>\n",
       "        <style>\n",
       "            /* Turns off some styling */\n",
       "            progress {\n",
       "                /* gets rid of default border in Firefox and Opera. */\n",
       "                border: none;\n",
       "                /* Needs to be in here for Safari polyfill so background images work as expected. */\n",
       "                background-size: auto;\n",
       "            }\n",
       "            .progress-bar-interrupted, .progress-bar-interrupted::-webkit-progress-bar {\n",
       "                background: #F44336;\n",
       "            }\n",
       "        </style>\n",
       "      <progress value='11' class='' max='11' style='width:300px; height:20px; vertical-align: middle;'></progress>\n",
       "      100.00% [11/11 00:06<00:00]\n",
       "    </div>\n",
       "    "
      ],
      "text/plain": [
       "<IPython.core.display.HTML object>"
      ]
     },
     "metadata": {},
     "output_type": "display_data"
    },
    {
     "data": {
      "text/html": [],
      "text/plain": [
       "<IPython.core.display.HTML object>"
      ]
     },
     "metadata": {},
     "output_type": "display_data"
    },
    {
     "name": "stdout",
     "output_type": "stream",
     "text": [
      "  0 step: BASELINE             accuracy: 0.244444\n"
     ]
    },
    {
     "data": {
      "text/html": [],
      "text/plain": [
       "<IPython.core.display.HTML object>"
      ]
     },
     "metadata": {},
     "output_type": "display_data"
    },
    {
     "name": "stdout",
     "output_type": "stream",
     "text": [
      "  1 step: 21 to 23             accuracy: 0.261111\n"
     ]
    },
    {
     "data": {
      "text/html": [],
      "text/plain": [
       "<IPython.core.display.HTML object>"
      ]
     },
     "metadata": {},
     "output_type": "display_data"
    },
    {
     "name": "stdout",
     "output_type": "stream",
     "text": [
      "  2 step: 24 to 26             accuracy: 0.255556\n"
     ]
    },
    {
     "data": {
      "text/html": [],
      "text/plain": [
       "<IPython.core.display.HTML object>"
      ]
     },
     "metadata": {},
     "output_type": "display_data"
    },
    {
     "name": "stdout",
     "output_type": "stream",
     "text": [
      "  3 step: 27 to 29             accuracy: 0.238889\n"
     ]
    },
    {
     "data": {
      "text/html": [],
      "text/plain": [
       "<IPython.core.display.HTML object>"
      ]
     },
     "metadata": {},
     "output_type": "display_data"
    },
    {
     "name": "stdout",
     "output_type": "stream",
     "text": [
      "  4 step: 30 to 32             accuracy: 0.227778\n"
     ]
    },
    {
     "data": {
      "text/html": [],
      "text/plain": [
       "<IPython.core.display.HTML object>"
      ]
     },
     "metadata": {},
     "output_type": "display_data"
    },
    {
     "name": "stdout",
     "output_type": "stream",
     "text": [
      "  5 step: 33 to 35             accuracy: 0.227778\n"
     ]
    },
    {
     "data": {
      "text/html": [],
      "text/plain": [
       "<IPython.core.display.HTML object>"
      ]
     },
     "metadata": {},
     "output_type": "display_data"
    },
    {
     "name": "stdout",
     "output_type": "stream",
     "text": [
      "  6 step: 36 to 38             accuracy: 0.233333\n"
     ]
    },
    {
     "data": {
      "text/html": [],
      "text/plain": [
       "<IPython.core.display.HTML object>"
      ]
     },
     "metadata": {},
     "output_type": "display_data"
    },
    {
     "name": "stdout",
     "output_type": "stream",
     "text": [
      "  7 step: 39 to 41             accuracy: 0.233333\n"
     ]
    },
    {
     "data": {
      "text/html": [],
      "text/plain": [
       "<IPython.core.display.HTML object>"
      ]
     },
     "metadata": {},
     "output_type": "display_data"
    },
    {
     "name": "stdout",
     "output_type": "stream",
     "text": [
      "  8 step: 42 to 44             accuracy: 0.227778\n"
     ]
    },
    {
     "data": {
      "text/html": [],
      "text/plain": [
       "<IPython.core.display.HTML object>"
      ]
     },
     "metadata": {},
     "output_type": "display_data"
    },
    {
     "name": "stdout",
     "output_type": "stream",
     "text": [
      "  9 step: 45 to 47             accuracy: 0.227778\n"
     ]
    },
    {
     "data": {
      "text/html": [],
      "text/plain": [
       "<IPython.core.display.HTML object>"
      ]
     },
     "metadata": {},
     "output_type": "display_data"
    },
    {
     "name": "stdout",
     "output_type": "stream",
     "text": [
      " 10 step: 48 to 50             accuracy: 0.222222\n",
      "\n"
     ]
    },
    {
     "data": {
      "image/png": "[encoded data removed]",
      "text/plain": [
       "<Figure size 720x360 with 1 Axes>"
      ]
     },
     "metadata": {
      "needs_background": "light"
     },
     "output_type": "display_data"
    }
   ],
   "source": [
    "learn.step_importance(n_steps=3);"
   ]
  },
  {
   "cell_type": "markdown",
   "metadata": {},
   "source": [
    "You may pass an X and y if you want to analyze a particular group of samples: "
   ]
  },
  {
   "cell_type": "code",
   "execution_count": null,
   "metadata": {},
   "outputs": [
    {
     "name": "stdout",
     "output_type": "stream",
     "text": [
      "Selected metric: accuracy\n",
      "Computing feature importance...\n"
     ]
    },
    {
     "data": {
      "text/html": [
       "\n",
       "    <div>\n",
       "        <style>\n",
       "            /* Turns off some styling */\n",
       "            progress {\n",
       "                /* gets rid of default border in Firefox and Opera. */\n",
       "                border: none;\n",
       "                /* Needs to be in here for Safari polyfill so background images work as expected. */\n",
       "                background-size: auto;\n",
       "            }\n",
       "            .progress-bar-interrupted, .progress-bar-interrupted::-webkit-progress-bar {\n",
       "                background: #F44336;\n",
       "            }\n",
       "        </style>\n",
       "      <progress value='6' class='' max='6' style='width:300px; height:20px; vertical-align: middle;'></progress>\n",
       "      100.00% [6/6 00:03<00:00]\n",
       "    </div>\n",
       "    "
      ],
      "text/plain": [
       "<IPython.core.display.HTML object>"
      ]
     },
     "metadata": {},
     "output_type": "display_data"
    },
    {
     "data": {
      "text/html": [],
      "text/plain": [
       "<IPython.core.display.HTML object>"
      ]
     },
     "metadata": {},
     "output_type": "display_data"
    },
    {
     "name": "stdout",
     "output_type": "stream",
     "text": [
      "  0 feature: BASELINE             accuracy: 0.244444\n"
     ]
    },
    {
     "data": {
      "text/html": [],
      "text/plain": [
       "<IPython.core.display.HTML object>"
      ]
     },
     "metadata": {},
     "output_type": "display_data"
    },
    {
     "name": "stdout",
     "output_type": "stream",
     "text": [
      "  1 feature: var_0                accuracy: 0.172222\n"
     ]
    },
    {
     "data": {
      "text/html": [],
      "text/plain": [
       "<IPython.core.display.HTML object>"
      ]
     },
     "metadata": {},
     "output_type": "display_data"
    },
    {
     "name": "stdout",
     "output_type": "stream",
     "text": [
      "  4 feature: var_3                accuracy: 0.172222\n"
     ]
    },
    {
     "data": {
      "text/html": [],
      "text/plain": [
       "<IPython.core.display.HTML object>"
      ]
     },
     "metadata": {},
     "output_type": "display_data"
    },
    {
     "name": "stdout",
     "output_type": "stream",
     "text": [
      "  6 feature: var_5                accuracy: 0.172222\n"
     ]
    },
    {
     "data": {
      "text/html": [],
      "text/plain": [
       "<IPython.core.display.HTML object>"
      ]
     },
     "metadata": {},
     "output_type": "display_data"
    },
    {
     "name": "stdout",
     "output_type": "stream",
     "text": [
      "  9 feature: var_8                accuracy: 0.266667\n"
     ]
    },
    {
     "data": {
      "text/html": [],
      "text/plain": [
       "<IPython.core.display.HTML object>"
      ]
     },
     "metadata": {},
     "output_type": "display_data"
    },
    {
     "name": "stdout",
     "output_type": "stream",
     "text": [
      " 11 feature: var_10               accuracy: 0.211111\n",
      "\n"
     ]
    },
    {
     "data": {
      "image/png": "[encoded data removed]",
      "text/plain": [
       "<Figure size 720x216 with 1 Axes>"
      ]
     },
     "metadata": {
      "needs_background": "light"
     },
     "output_type": "display_data"
    }
   ],
   "source": [
    "learn.feature_importance(X=X[splits[1]], y=y[splits[1]]);"
   ]
  },
  {
   "cell_type": "markdown",
   "metadata": {},
   "source": [
    "If you have a large validation dataset, you may also use the partial_n argument to select a fixed amount of samples (integer) or a percentage of the validation dataset (float)."
   ]
  },
  {
   "cell_type": "code",
   "execution_count": null,
   "metadata": {},
   "outputs": [
    {
     "name": "stdout",
     "output_type": "stream",
     "text": [
      "Selected metric: accuracy\n",
      "Computing feature importance...\n"
     ]
    },
    {
     "data": {
      "text/html": [
       "\n",
       "    <div>\n",
       "        <style>\n",
       "            /* Turns off some styling */\n",
       "            progress {\n",
       "                /* gets rid of default border in Firefox and Opera. */\n",
       "                border: none;\n",
       "                /* Needs to be in here for Safari polyfill so background images work as expected. */\n",
       "                background-size: auto;\n",
       "            }\n",
       "            .progress-bar-interrupted, .progress-bar-interrupted::-webkit-progress-bar {\n",
       "                background: #F44336;\n",
       "            }\n",
       "        </style>\n",
       "      <progress value='6' class='' max='6' style='width:300px; height:20px; vertical-align: middle;'></progress>\n",
       "      100.00% [6/6 00:02<00:00]\n",
       "    </div>\n",
       "    "
      ],
      "text/plain": [
       "<IPython.core.display.HTML object>"
      ]
     },
     "metadata": {},
     "output_type": "display_data"
    },
    {
     "data": {
      "text/html": [],
      "text/plain": [
       "<IPython.core.display.HTML object>"
      ]
     },
     "metadata": {},
     "output_type": "display_data"
    },
    {
     "name": "stdout",
     "output_type": "stream",
     "text": [
      "  0 feature: BASELINE             accuracy: 0.277778\n"
     ]
    },
    {
     "data": {
      "text/html": [],
      "text/plain": [
       "<IPython.core.display.HTML object>"
      ]
     },
     "metadata": {},
     "output_type": "display_data"
    },
    {
     "name": "stdout",
     "output_type": "stream",
     "text": [
      "  1 feature: var_0                accuracy: 0.166667\n"
     ]
    },
    {
     "data": {
      "text/html": [],
      "text/plain": [
       "<IPython.core.display.HTML object>"
      ]
     },
     "metadata": {},
     "output_type": "display_data"
    },
    {
     "name": "stdout",
     "output_type": "stream",
     "text": [
      "  4 feature: var_3                accuracy: 0.166667\n"
     ]
    },
    {
     "data": {
      "text/html": [],
      "text/plain": [
       "<IPython.core.display.HTML object>"
      ]
     },
     "metadata": {},
     "output_type": "display_data"
    },
    {
     "name": "stdout",
     "output_type": "stream",
     "text": [
      "  6 feature: var_5                accuracy: 0.277778\n"
     ]
    },
    {
     "data": {
      "text/html": [],
      "text/plain": [
       "<IPython.core.display.HTML object>"
      ]
     },
     "metadata": {},
     "output_type": "display_data"
    },
    {
     "name": "stdout",
     "output_type": "stream",
     "text": [
      "  9 feature: var_8                accuracy: 0.277778\n"
     ]
    },
    {
     "data": {
      "text/html": [],
      "text/plain": [
       "<IPython.core.display.HTML object>"
      ]
     },
     "metadata": {},
     "output_type": "display_data"
    },
    {
     "name": "stdout",
     "output_type": "stream",
     "text": [
      " 11 feature: var_10               accuracy: 0.166667\n",
      "\n"
     ]
    },
    {
     "data": {
      "image/png": "[encoded data removed]",
      "text/plain": [
       "<Figure size 720x216 with 1 Axes>"
      ]
     },
     "metadata": {
      "needs_background": "light"
     },
     "output_type": "display_data"
    }
   ],
   "source": [
    "learn.feature_importance(partial_n=.1);"
   ]
  },
  {
   "cell_type": "code",
   "execution_count": null,
   "metadata": {},
   "outputs": [
    {
     "name": "stdout",
     "output_type": "stream",
     "text": [
      "Selected metric: accuracy\n",
      "Computing feature importance...\n"
     ]
    },
    {
     "data": {
      "text/html": [
       "\n",
       "    <div>\n",
       "        <style>\n",
       "            /* Turns off some styling */\n",
       "            progress {\n",
       "                /* gets rid of default border in Firefox and Opera. */\n",
       "                border: none;\n",
       "                /* Needs to be in here for Safari polyfill so background images work as expected. */\n",
       "                background-size: auto;\n",
       "            }\n",
       "            .progress-bar-interrupted, .progress-bar-interrupted::-webkit-progress-bar {\n",
       "                background: #F44336;\n",
       "            }\n",
       "        </style>\n",
       "      <progress value='6' class='' max='6' style='width:300px; height:20px; vertical-align: middle;'></progress>\n",
       "      100.00% [6/6 00:01<00:00]\n",
       "    </div>\n",
       "    "
      ],
      "text/plain": [
       "<IPython.core.display.HTML object>"
      ]
     },
     "metadata": {},
     "output_type": "display_data"
    },
    {
     "data": {
      "text/html": [],
      "text/plain": [
       "<IPython.core.display.HTML object>"
      ]
     },
     "metadata": {},
     "output_type": "display_data"
    },
    {
     "name": "stdout",
     "output_type": "stream",
     "text": [
      "  0 feature: BASELINE             accuracy: 0.300000\n"
     ]
    },
    {
     "data": {
      "text/html": [],
      "text/plain": [
       "<IPython.core.display.HTML object>"
      ]
     },
     "metadata": {},
     "output_type": "display_data"
    },
    {
     "name": "stdout",
     "output_type": "stream",
     "text": [
      "  1 feature: var_0                accuracy: 0.200000\n"
     ]
    },
    {
     "data": {
      "text/html": [],
      "text/plain": [
       "<IPython.core.display.HTML object>"
      ]
     },
     "metadata": {},
     "output_type": "display_data"
    },
    {
     "name": "stdout",
     "output_type": "stream",
     "text": [
      "  4 feature: var_3                accuracy: 0.200000\n"
     ]
    },
    {
     "data": {
      "text/html": [],
      "text/plain": [
       "<IPython.core.display.HTML object>"
      ]
     },
     "metadata": {},
     "output_type": "display_data"
    },
    {
     "name": "stdout",
     "output_type": "stream",
     "text": [
      "  6 feature: var_5                accuracy: 0.300000\n"
     ]
    },
    {
     "data": {
      "text/html": [],
      "text/plain": [
       "<IPython.core.display.HTML object>"
      ]
     },
     "metadata": {},
     "output_type": "display_data"
    },
    {
     "name": "stdout",
     "output_type": "stream",
     "text": [
      "  9 feature: var_8                accuracy: 0.300000\n"
     ]
    },
    {
     "data": {
      "text/html": [],
      "text/plain": [
       "<IPython.core.display.HTML object>"
      ]
     },
     "metadata": {},
     "output_type": "display_data"
    },
    {
     "name": "stdout",
     "output_type": "stream",
     "text": [
      " 11 feature: var_10               accuracy: 0.200000\n",
      "\n"
     ]
    },
    {
     "data": {
      "image/png": "[encoded data removed]",
      "text/plain": [
       "<Figure size 720x216 with 1 Axes>"
      ]
     },
     "metadata": {
      "needs_background": "light"
     },
     "output_type": "display_data"
    }
   ],
   "source": [
    "learn.feature_importance(partial_n=10);"
   ]
  },
  {
   "cell_type": "code",
   "execution_count": null,
   "metadata": {},
   "outputs": [
    {
     "data": {
      "application/javascript": [
       "IPython.notebook.save_checkpoint();"
      ],
      "text/plain": [
       "<IPython.core.display.Javascript object>"
      ]
     },
     "metadata": {},
     "output_type": "display_data"
    },
    {
     "name": "stdout",
     "output_type": "stream",
     "text": [
      "052b_analysis.ipynb saved at 2022-02-08 17:03:46.\n",
      "Converted 052b_analysis.ipynb.\n",
      "\n",
      "\n",
      "Correct conversion! 😃\n",
      "Total time elapsed 0.106 s\n",
      "Tuesday 08/02/22 17:03:51 CET\n"
     ]
    },
    {
     "data": {
      "text/html": [
       "\n",
       "                <audio  controls=\"controls\" autoplay=\"autoplay\">\n",
       "                    <source src=\"data:audio/wav;base64,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\" type=\"audio/wav\" />\n",
       "                    Your browser does not support the audio element.\n",
       "                </audio>\n",
       "              "
      ],
      "text/plain": [
       "<IPython.lib.display.Audio object>"
      ]
     },
     "metadata": {},
     "output_type": "display_data"
    }
   ],
   "source": [
    "#hide\n",
    "from tsai.imports import create_scripts\n",
    "from tsai.export import get_nb_name\n",
    "nb_name = get_nb_name()\n",
    "create_scripts(nb_name);"
   ]
  },
  {
   "cell_type": "code",
   "execution_count": null,
   "metadata": {},
   "outputs": [],
   "source": []
  }
 ],
 "metadata": {
  "kernelspec": {
   "display_name": "Python 3 (ipykernel)",
   "language": "python",
   "name": "python3"
  }
 },
 "nbformat": 4,
 "nbformat_minor": 4
}
