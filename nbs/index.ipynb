{
 "cells": [
  {
   "cell_type": "markdown",
   "metadata": {},
   "source": [
    "![CI](https://github.com/timeseriesai/tsai/workflows/CI/badge.svg) [![PyPI](https://img.shields.io/pypi/v/tsai?color=blue&label=pypi%20version)](https://pypi.org/project/tsai/#description)"
   ]
  },
  {
   "cell_type": "markdown",
   "metadata": {},
   "source": [
    "# tsai\n",
    "\n",
    "> State-of-the-art Time Series & Sequences Deep Learning in Pytorch / fastai"
   ]
  },
  {
   "cell_type": "markdown",
   "metadata": {},
   "source": [
    "`tsai`is a deep learning package built on top of Pytorch & fastai focused on state-of-the-art techniques for time series classification and regression."
   ]
  },
  {
   "cell_type": "markdown",
   "metadata": {},
   "source": [
    "## What's new?"
   ]
  },
  {
   "cell_type": "markdown",
   "metadata": {},
   "source": [
    "### tsai: 0.2.4 (Nov 10th, 2020)"
   ]
  },
  {
   "cell_type": "markdown",
   "metadata": {},
   "source": [
    "* Adapted `tsai` to work with Pytorch 1.7."
   ]
  },
  {
   "cell_type": "markdown",
   "metadata": {},
   "source": [
    "### tsai: 0.2.0 (Nov 3rd, 2020)"
   ]
  },
  {
   "cell_type": "markdown",
   "metadata": {},
   "source": [
    "`tsai` 0.2.0 is a major update to the tsai library. These are the major changes made to the library:\n",
    "\n",
    "* New tutorial nbs have been added to demonstrate the use of new functionality like: \n",
    "    * Time series **data preparation**\n",
    "    * Intro to **time series regression**\n",
    "    * TS archs comparison\n",
    "    * **TS to image** classification\n",
    "    * TS classification with **transformers**\n",
    "    \n",
    "* Also some tutorial nbs have been updated like **Time Series transforms**\n",
    "* More ts data transforms have been added, including ts to images.\n",
    "* New callbacks, like the state of the art noisy_student that will allow you to use unlabeled data.\n",
    "* New time series, state-of-the-art models are now available like XceptionTime, RNN_FCN (like LSTM_FCN, GRU_FCN), TransformerModel, TST (Transformer), OmniScaleCNN, mWDN (multi-wavelet decomposition network), XResNet1d.\n",
    "* Some of the models (those finishing with an plus) have additional, experimental functionality (like coordconv, zero_norm, squeeze and excitation, etc).\n",
    "\n",
    "The best way to discocer and understand how to use this new functionality is to use the tutorial nbs. I encourage you to use them!"
   ]
  },
  {
   "cell_type": "markdown",
   "metadata": {},
   "source": [
    "## Install"
   ]
  },
  {
   "cell_type": "markdown",
   "metadata": {},
   "source": [
    "You can install the **latest stable** version from pip:\n",
    "\n",
    "`pip install tsai`\n",
    "\n",
    "Or you can install the **bleeding edge** version of this library from github by doing:\n",
    "\n",
    "`pip install git+https://github.com/timeseriesAI/tsai.git@master`"
   ]
  },
  {
   "cell_type": "markdown",
   "metadata": {},
   "source": [
    "## How to get started"
   ]
  },
  {
   "cell_type": "markdown",
   "metadata": {},
   "source": [
    "To get to know the `tsai` package, I'd suggest you start with this notebook in Google Colab: **[01_Intro_to_Time_Series_Classification](https://colab.research.google.com/github/timeseriesAI/tsai/blob/master/tutorial_nbs/01_Intro_to_Time_Series_Classification.ipynb)**\n",
    "\n",
    "It provides an overview of a time series classification problem using fastai v2.\n",
    "\n",
    "If you want more details, you can get them in nbs 00 and 00a.\n",
    "\n",
    "To use tsai in your own notebooks, the only thing you need to do after you have installed the package is to add this:\n",
    "\n",
    "`from tsai.all import *`"
   ]
  },
  {
   "cell_type": "code",
   "execution_count": null,
   "metadata": {},
   "outputs": [],
   "source": [
    "#hide\n",
    "from tsai.imports import *\n",
    "out = create_scripts()\n",
    "beep(out)"
   ]
  }
 ],
 "metadata": {
  "kernelspec": {
   "display_name": "Python 3",
   "language": "python",
   "name": "python3"
  }
 },
 "nbformat": 4,
 "nbformat_minor": 2
}
