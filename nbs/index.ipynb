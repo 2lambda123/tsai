{
 "cells": [
  {
   "cell_type": "markdown",
   "metadata": {},
   "source": [
    "# tsai\n",
    "\n",
    "> Practical Deep Learning for Time Series / Sequential Data package built with fastai v2/ Pytorch."
   ]
  },
  {
   "cell_type": "markdown",
   "metadata": {},
   "source": [
    "`tsai`is a deep learning package built on top of fastai v2 / Pytorch focused on state-of-the-art methods for time series classification and regression.\n",
    "\n",
    "If you are looking for **timeseriesAI based on fastai v1**, it's been moved to **[timeseriesAI1](https://github.com/timeseriesAI/timeseriesAI1)**."
   ]
  },
  {
   "cell_type": "markdown",
   "metadata": {},
   "source": [
    "## Install"
   ]
  },
  {
   "cell_type": "markdown",
   "metadata": {},
   "source": [
    "You can install the **latest stable** version from pip:\n",
    "\n",
    "`pip install tsai`\n",
    "\n",
    "Or you can install the **bleeding edge** version of this library from github by doing:\n",
    "\n",
    "`pip install git+https://github.com/timeseriesAI/timeseriesAI.git@master`\n",
    "\n",
    "In the latter case, you may also want to use install the bleeding egde fastai & fastcore libraries, in which case you need to do this:\n",
    "\n",
    "`pip install git+https://github.com/fastai/fastcore.git@master`\n",
    "\n",
    "`pip install git+https://github.com/fastai/fastai.git@master`"
   ]
  },
  {
   "cell_type": "markdown",
   "metadata": {},
   "source": [
    "## How to get started"
   ]
  },
  {
   "cell_type": "markdown",
   "metadata": {},
   "source": [
    "To get to know the `tsai` package, I'd suggest you start with this notebook:\n",
    "\n",
    "**[01_Intro_to_Time_Series_Classification](https://github.com/timeseriesAI/timeseriesAI/blob/master/tutorial_nbs/01_Intro_to_Time_Series_Classification.ipynb)**\n",
    "\n",
    "It provides an overview of a time series classification problem using fastai v2.\n",
    "\n",
    "If you want more details, you can get them in nbs 00 and 00a.\n",
    "\n",
    "To use tsai in your own notebooks, the only thing you need to do after you have installed the package is to add this:\n",
    "\n",
    "`from tsai.all import *`"
   ]
  },
  {
   "cell_type": "markdown",
   "metadata": {},
   "source": [
    "## What's new?"
   ]
  },
  {
   "cell_type": "markdown",
   "metadata": {},
   "source": [
    "### tsai: 2.0 (Nov 3rd, 2020)"
   ]
  },
  {
   "cell_type": "markdown",
   "metadata": {},
   "source": [
    "`tsai` 2.0 is a major update to the tsai library. These are the major changes made to the library:\n",
    "\n",
    "* New tutorial nbs have been added to demonstrate the use of new functionality like: \n",
    "    * Time series data preparation\n",
    "    * Intro to time series regression\n",
    "    * TS archs comparison\n",
    "    * TS to image classification\n",
    "    * TS classification with transformers\n",
    "* Also some tutorial nbs have been updated like Time Series transforms\n",
    "* More ts data transforms have been added, including ts to images.\n",
    "* New callbacks, like the state of the art noisy_student that will allow you to use unlabeled data.\n",
    "* New time series, state-of-the-art models are now available like XceptionTime, RNN_FCN (like LSTM_FCN, GRU_FCN), TransformerModel, TST (Transformer), OmniScaleCNN, mWDN (multi-wavelet decomposition network), XResNet1d.\n",
    "* Some of the models (those finishing with an plus) have additional, experimental functionality (like coordconv, zero_norm, squeeze and excitation, etc).\n",
    "\n",
    "The best way to discocer and understand how to use this new functionality is to use the tutorial nbs. I encourage you to use them!"
   ]
  }
 ],
 "metadata": {
  "kernelspec": {
   "display_name": "Python 3",
   "language": "python",
   "name": "python3"
  }
 },
 "nbformat": 4,
 "nbformat_minor": 2
}
