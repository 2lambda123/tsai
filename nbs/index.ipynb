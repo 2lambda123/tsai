{
 "cells": [
  {
   "cell_type": "code",
   "execution_count": null,
   "metadata": {},
   "outputs": [],
   "source": [
    "#hide\n",
    "from tsai.all import *"
   ]
  },
  {
   "cell_type": "markdown",
   "metadata": {},
   "source": [
    "# tsai\n",
    "\n",
    "> State-of-the-art Deep Learning for Time Series and Sequence Modeling. `tsai` is currently under active development by timeseriesAI."
   ]
  },
  {
   "cell_type": "markdown",
   "metadata": {},
   "source": [
    "![CI](https://github.com/timeseriesai/tsai/workflows/CI/badge.svg) \n",
    "[![PyPI](https://img.shields.io/pypi/v/tsai?color=blue&label=pypi%20version)](https://pypi.org/project/tsai/#description)\n",
    "[![Downloads](https://pepy.tech/badge/tsai)](https://pepy.tech/project/tsai)"
   ]
  },
  {
   "cell_type": "markdown",
   "metadata": {},
   "source": [
    "`tsai` is an open-source deep learning package built on top of Pytorch & fastai focused on state-of-the-art techniques for time series classification, regression and forecasting."
   ]
  },
  {
   "cell_type": "markdown",
   "metadata": {},
   "source": [
    "## New tutorials:"
   ]
  },
  {
   "cell_type": "markdown",
   "metadata": {},
   "source": [
    "* 🚀🚀 **MINIROCKET** a SOTA Time Series Classification model (now available in Pytorch):\n",
    "You can now check MiniRocket's performance in our new tutorial notebook [10_Time_Series_Classification_and_Regression_with_MiniRocket.ipynb](https://github.com/timeseriesAI/tsai/blob/main/tutorial_nbs/10_Time_Series_Classification_and_Regression_with_MiniRocket.ipynb)\n",
    ">\"Using this method, it is possible to train and test a classifier on all of 109 datasets from the UCR archive to state-of-the-art accuracy in less than 10 minutes.\" A. Dempster et al. (Dec 2020)\n",
    "\n",
    "* **Multi-class and multi-label time series classification:** you can also check our new tutorial notebook: [01a_MultiClass_MultiLabel_TSClassification.ipynb](https://github.com/timeseriesAI/tsai/blob/main/tutorial_nbs/01a_MultiClass_MultiLabel_TSClassification.ipynb)\n",
    "\n",
    "* **Self-supervised learning:**\n",
    "If you are interested in applying self-supervised learning to time series, you may check our new tutorial notebook: [08_Self_Supervised_MVP.ipynb](https://github.com/timeseriesAI/tsai/blob/master/tutorial_nbs/08_Self_Supervised_TSBERT.ipynb)\n",
    "\n",
    "* **New visualization:**\n",
    "We've also added a new PredictionDynamics callback that will display the predictions during training. This is the type of output you would get in a classification task for example:\n",
    "<p align=\"center\">\n",
    "    <img src=\"https://github.com/timeseriesAI/tsai/blob/main/nbs/multimedia/LSST_PD.gif?raw=true\">\n",
    "</p>"
   ]
  },
  {
   "cell_type": "markdown",
   "metadata": {},
   "source": [
    "## Installation"
   ]
  },
  {
   "cell_type": "markdown",
   "metadata": {},
   "source": [
    "You can install the **latest stable** version from pip using:\n",
    "```\n",
    "pip install tsai\n",
    "```\n",
    "\n",
    "Or you can install the cutting edge version of this library from github by doing:\n",
    "```\n",
    "pip install -Uqq git+https://github.com/timeseriesAI/tsai.git\n",
    "```\n",
    "\n",
    "Once the install is complete, you should restart your runtime and then run: \n",
    "\n",
    "```\n",
    "from tsai.all import *\n",
    "```"
   ]
  },
  {
   "cell_type": "markdown",
   "metadata": {},
   "source": [
    "## Documentation"
   ]
  },
  {
   "cell_type": "markdown",
   "metadata": {},
   "source": [
    "Here's the link to the [documentation](https://timeseriesai.github.io/tsai/)."
   ]
  },
  {
   "cell_type": "markdown",
   "metadata": {},
   "source": [
    "## How to get started"
   ]
  },
  {
   "cell_type": "markdown",
   "metadata": {},
   "source": [
    "To get to know the `tsai` package, we'd suggest you start with this notebook in Google Colab: **[01_Intro_to_Time_Series_Classification](https://colab.research.google.com/github/timeseriesAI/tsai/blob/master/tutorial_nbs/01_Intro_to_Time_Series_Classification.ipynb)**\n",
    "\n",
    "It provides an overview of a time series classification problem using fastai v2.\n",
    "\n",
    "If you want more details, you can get them in nbs 00 and 00a.\n",
    "\n",
    "To use tsai in your own notebooks, the only thing you need to do after you have installed the package is to add this:\n",
    "\n",
    "`from tsai.all import *`"
   ]
  },
  {
   "cell_type": "markdown",
   "metadata": {},
   "source": [
    "## Citing tsai"
   ]
  },
  {
   "cell_type": "markdown",
   "metadata": {},
   "source": [
    "If you use `tsai` in your research please use the following BibTeX entry:\n",
    "\n",
    "```text\n",
    "@Misc{tsai,\n",
    "    author =       {Ignacio Oguiza},\n",
    "    title =        {tsai - A state-of-the-art deep learning library for time series and sequential data},\n",
    "    howpublished = {Github},\n",
    "    year =         {2020},\n",
    "    url =          {https://github.com/timeseriesAI/tsai}\n",
    "}\n",
    "```"
   ]
  },
  {
   "cell_type": "code",
   "execution_count": null,
   "metadata": {},
   "outputs": [],
   "source": [
    "#hide\n",
    "out = create_scripts(); beep(out)"
   ]
  },
  {
   "cell_type": "code",
   "execution_count": null,
   "metadata": {},
   "outputs": [],
   "source": []
  }
 ],
 "metadata": {
  "kernelspec": {
   "display_name": "Python 3",
   "language": "python",
   "name": "python3"
  }
 },
 "nbformat": 4,
 "nbformat_minor": 2
}
