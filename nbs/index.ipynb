{
 "cells": [
  {
   "cell_type": "code",
   "execution_count": null,
   "metadata": {},
   "outputs": [],
   "source": [
    "#hide\n",
    "from tsai.core import *"
   ]
  },
  {
   "cell_type": "markdown",
   "metadata": {},
   "source": [
    "# tsai\n",
    "\n",
    "> Practical Deep Learning for Time Series / Sequential Data library based on fastai v2/ Pytorch."
   ]
  },
  {
   "cell_type": "markdown",
   "metadata": {},
   "source": [
    "`tsai`is a deep learning library built on top of fastai v2 / Pytorch focused on state-of-the-art methods for time series classification and regression."
   ]
  },
  {
   "cell_type": "markdown",
   "metadata": {},
   "source": [
    "## Install"
   ]
  },
  {
   "cell_type": "markdown",
   "metadata": {},
   "source": [
    "You can install the **latest stable** version from pip:\n",
    "\n",
    "`pip install tsa`\n",
    "\n",
    "Or you can install the **bleeding edge** version of this library from github by doing:\n",
    "\n",
    "`pip install git+https://github.com/timeseriesAI/timeseriesAI.git@master`\n",
    "\n",
    "In the latter case, you may also want to use install the bleeding egde fastai & fastcore libraries, in which case you need to do this:\n",
    "\n",
    "`pip install git+https://github.com/fastai/fastcore.git@master`\n",
    "\n",
    "`pip install git+https://github.com/fastai/fastai2.git@master`"
   ]
  },
  {
   "cell_type": "markdown",
   "metadata": {},
   "source": [
    "## How to use"
   ]
  },
  {
   "cell_type": "markdown",
   "metadata": {},
   "source": [
    "The only thing you need to do after you have installed the library is to add this to your notebook:\n",
    "\n",
    "`from tsai.all import *`\n",
    "\n",
    "To get familiarized with the library, I'd suggest you start with this notebook:\n",
    "\n",
    "[01_Intro_to_Time_Series_Classification](https://github.com/timeseriesAI/timeseriesAI/blob/master/tutorial_nbs/01_Intro_to_Time_Series_Classification.ipynb)\n",
    "\n",
    "It provides an overview of a time series classification problem using fastai v2."
   ]
  }
 ],
 "metadata": {
  "kernelspec": {
   "display_name": "Python 3",
   "language": "python",
   "name": "python3"
  }
 },
 "nbformat": 4,
 "nbformat_minor": 2
}
