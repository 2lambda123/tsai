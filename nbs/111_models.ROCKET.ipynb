{
 "cells": [
  {
   "cell_type": "code",
   "execution_count": null,
   "metadata": {},
   "outputs": [],
   "source": [
    "# default_exp models.ROCKET"
   ]
  },
  {
   "cell_type": "markdown",
   "metadata": {},
   "source": [
    "# ROCKET\n",
    "\n",
    "> ROCKET (RandOm Convolutional KErnel Transform) functions for univariate and multivariate time series."
   ]
  },
  {
   "cell_type": "code",
   "execution_count": null,
   "metadata": {},
   "outputs": [],
   "source": [
    "#export\n",
    "try: \n",
    "    import sktime\n",
    "    from sktime.transformations.panel.rocket import Rocket\n",
    "except ImportError:\n",
    "    print(\"You need to install sktime to be able to use RocketClassifier and RocketRegressor\")"
   ]
  },
  {
   "cell_type": "code",
   "execution_count": null,
   "metadata": {},
   "outputs": [],
   "source": [
    "#export\n",
    "import sklearn\n",
    "from sklearn.linear_model import RidgeClassifierCV, RidgeCV\n",
    "from sklearn.metrics import make_scorer\n",
    "from tsai.imports import *\n",
    "from tsai.data.external import *\n",
    "from tsai.models.layers import *\n",
    "warnings.filterwarnings(\"ignore\", category=FutureWarning)"
   ]
  },
  {
   "cell_type": "code",
   "execution_count": null,
   "metadata": {},
   "outputs": [],
   "source": [
    "#export\n",
    "class RocketClassifier(sklearn.pipeline.Pipeline):\n",
    "    \"\"\"Time series classification using ROCKET features and a linear classifier\"\"\"\n",
    "    \n",
    "    def __init__(self, num_kernels=10_000, normalize_input=True, random_state=None, \n",
    "                 alphas=np.logspace(-3, 3, 7), normalize_features=True, memory=None, verbose=False, scoring=None, class_weight=None, **kwargs):\n",
    "        \"\"\"\n",
    "        RocketClassifier is recommended for up to 10k time series. \n",
    "        For a larger dataset, you can use ROCKET (in Pytorch).\n",
    "        scoring = None --> defaults to accuracy.\n",
    "        \n",
    "        Rocket args:            \n",
    "            num_kernels     : int, number of random convolutional kernels (default 10,000)\n",
    "            normalize_input : boolean, whether or not to normalise the input time series per instance (default True)\n",
    "            random_state    : Optional random seed (default None)\n",
    "\n",
    "        \"\"\"\n",
    "\n",
    "        self.steps = [('rocket', Rocket(num_kernels=num_kernels, normalise=normalize_input, random_state=random_state)),\n",
    "                      ('ridgeclassifiercv', RidgeClassifierCV(alphas=alphas, normalize=normalize_features, scoring=scoring, \n",
    "                                                              class_weight=class_weight, **kwargs))]\n",
    "        store_attr()\n",
    "        self._validate_steps()\n",
    "\n",
    "    def __repr__(self):  \n",
    "        return f'Pipeline(steps={self.steps.copy()})'\n",
    "\n",
    "    def save(self, fname='Rocket', path='./models'):\n",
    "        path = Path(path)\n",
    "        filename = path/fname\n",
    "        with open(f'{filename}.pkl', 'wb') as output:\n",
    "            pickle.dump(self, output, pickle.HIGHEST_PROTOCOL)"
   ]
  },
  {
   "cell_type": "code",
   "execution_count": null,
   "metadata": {},
   "outputs": [],
   "source": [
    "#export\n",
    "def load_rocket(fname='Rocket', path='./models'):\n",
    "    path = Path(path)\n",
    "    filename = path/fname\n",
    "    with open(f'{filename}.pkl', 'rb') as input:\n",
    "        output = pickle.load(input)\n",
    "    return output"
   ]
  },
  {
   "cell_type": "code",
   "execution_count": null,
   "metadata": {},
   "outputs": [],
   "source": [
    "#export\n",
    "class RocketRegressor(sklearn.pipeline.Pipeline):\n",
    "    \"\"\"Time series regression using ROCKET features and a linear regressor\"\"\"\n",
    "    \n",
    "    def __init__(self, num_kernels=10_000, normalize_input=True, random_state=None, \n",
    "                 alphas=np.logspace(-3, 3, 7), normalize_features=True, memory=None, verbose=False, scoring=None, **kwargs):\n",
    "        \"\"\"\n",
    "        RocketRegressor is recommended for up to 10k time series. \n",
    "        For a larger dataset, you can use ROCKET (in Pytorch).\n",
    "        scoring = None --> defaults to r2.\n",
    "        \n",
    "        Args:            \n",
    "            num_kernels     : int, number of random convolutional kernels (default 10,000)\n",
    "            normalize_input : boolean, whether or not to normalise the input time series per instance (default True)\n",
    "            random_state    : Optional random seed (default None)\n",
    "        \"\"\"\n",
    "\n",
    "        self.steps = [('rocket', Rocket(num_kernels=num_kernels, normalise=normalize_input, random_state=random_state)),\n",
    "                  ('ridgecv', RidgeCV(alphas=alphas, normalize=normalize_features, scoring=scoring, **kwargs))]\n",
    "        store_attr()\n",
    "        self._validate_steps()\n",
    "\n",
    "\n",
    "    def __repr__(self):  \n",
    "        return f'Pipeline(steps={self.steps.copy()})'\n",
    "\n",
    "    def save(self, fname='Rocket', path='./models'):\n",
    "        path = Path(path)\n",
    "        filename = path/fname\n",
    "        with open(f'{filename}.pkl', 'wb') as output:\n",
    "            pickle.dump(self, output, pickle.HIGHEST_PROTOCOL)"
   ]
  },
  {
   "cell_type": "code",
   "execution_count": null,
   "metadata": {},
   "outputs": [
    {
     "name": "stdout",
     "output_type": "stream",
     "text": [
      "0.9\n"
     ]
    }
   ],
   "source": [
    "#extras\n",
    "# Univariate classification with sklearn-type API\n",
    "dsid = 'OliveOil'\n",
    "fname = 'RocketClassifier'\n",
    "X_train, y_train, X_test, y_test = get_UCR_data(dsid, Xdtype='float64')\n",
    "cls = RocketClassifier()\n",
    "cls.fit(X_train, y_train)\n",
    "cls.save(fname)\n",
    "del cls\n",
    "cls = load_rocket(fname)\n",
    "print(cls.score(X_test, y_test))"
   ]
  },
  {
   "cell_type": "code",
   "execution_count": null,
   "metadata": {},
   "outputs": [],
   "source": [
    "#extras\n",
    "# Multivariate classification with sklearn-type API\n",
    "dsid = 'NATOPS'\n",
    "fname = 'RocketClassifier'\n",
    "X_train, y_train, X_test, y_test = get_UCR_data(dsid, Xdtype='float64')\n",
    "cls = RocketClassifier()\n",
    "cls.fit(X_train, y_train)\n",
    "cls.save(fname)\n",
    "del cls\n",
    "cls = load_rocket(fname)\n",
    "print(cls.score(X_test, y_test))"
   ]
  },
  {
   "cell_type": "code",
   "execution_count": null,
   "metadata": {},
   "outputs": [],
   "source": [
    "#extras\n",
    "# Univariate regression with sklearn-type API\n",
    "from sklearn.metrics import mean_squared_error\n",
    "dsid = 'Covid3Month'\n",
    "fname = 'RocketRegressor'\n",
    "X_train, y_train, X_test, y_test = get_Monash_regression_data(dsid, Xdtype='float64')\n",
    "if X_train is not None: \n",
    "    rmse_scorer = make_scorer(mean_squared_error, greater_is_better=False)\n",
    "    reg = RocketRegressor(scoring=rmse_scorer)\n",
    "    reg.fit(X_train, y_train)\n",
    "    reg.save(fname)\n",
    "    del reg\n",
    "    reg = load_rocket(fname)\n",
    "    y_pred = reg.predict(X_test)\n",
    "    print(mean_squared_error(y_test, y_pred, squared=False))"
   ]
  },
  {
   "cell_type": "code",
   "execution_count": null,
   "metadata": {},
   "outputs": [],
   "source": [
    "#extras\n",
    "# Multivariate regression with sklearn-type API\n",
    "from sklearn.metrics import mean_squared_error\n",
    "dsid = 'AppliancesEnergy'\n",
    "fname = 'RocketRegressor'\n",
    "X_train, y_train, X_test, y_test = get_Monash_regression_data(dsid, Xdtype='float64')\n",
    "if X_train is not None: \n",
    "    rmse_scorer = make_scorer(mean_squared_error, greater_is_better=False)\n",
    "    reg = RocketRegressor(scoring=rmse_scorer)\n",
    "    reg.fit(X_train, y_train)\n",
    "    reg.save(fname)\n",
    "    del reg\n",
    "    reg = load_rocket(fname)\n",
    "    y_pred = reg.predict(X_test)\n",
    "    print(mean_squared_error(y_test, y_pred, squared=False))"
   ]
  },
  {
   "cell_type": "code",
   "execution_count": null,
   "metadata": {},
   "outputs": [],
   "source": [
    "#hide\n",
    "from tsai.imports import *\n",
    "from tsai.export import *\n",
    "nb_name = get_nb_name()\n",
    "# nb_name = \"111_models.ROCKET.ipynb\"\n",
    "create_scripts(nb_name);"
   ]
  },
  {
   "cell_type": "code",
   "execution_count": null,
   "metadata": {},
   "outputs": [],
   "source": []
  }
 ],
 "metadata": {
  "kernelspec": {
   "display_name": "Python 3 (ipykernel)",
   "language": "python",
   "name": "python3"
  }
 },
 "nbformat": 4,
 "nbformat_minor": 2
}
