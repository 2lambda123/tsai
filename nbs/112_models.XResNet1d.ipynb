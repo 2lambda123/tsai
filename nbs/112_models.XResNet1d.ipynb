{
 "cells": [
  {
   "cell_type": "code",
   "execution_count": null,
   "metadata": {},
   "outputs": [],
   "source": [
    "# default_exp models.XResNet1d"
   ]
  },
  {
   "cell_type": "markdown",
   "metadata": {},
   "source": [
    "# XResNet1d\n",
    "\n",
    "> This is a modified version of fastai's XResNet model in github. Changes include:\n",
    "* ndim set to 1d (default)\n",
    "* API is modified to match the default timeseriesAI's API."
   ]
  },
  {
   "cell_type": "code",
   "execution_count": null,
   "metadata": {},
   "outputs": [],
   "source": [
    "#export\n",
    "from tsai.imports import *\n",
    "from tsai.models.layers import *\n",
    "from tsai.models.utils import *"
   ]
  },
  {
   "cell_type": "code",
   "execution_count": null,
   "metadata": {},
   "outputs": [],
   "source": [
    "#export\n",
    "from fastai.vision.models.xresnet import *"
   ]
  },
  {
   "cell_type": "code",
   "execution_count": null,
   "metadata": {},
   "outputs": [],
   "source": [
    "#export\n",
    "@delegates(ResBlock)\n",
    "def xresnet1d18 (c_in, c_out, act=nn.ReLU, **kwargs): return xresnet18(c_in=c_in, n_out=c_out, act_cls=act, ndim=1, **kwargs)\n",
    "@delegates(ResBlock)\n",
    "def xresnet1d34 (c_in, c_out, act=nn.ReLU, **kwargs): return xresnet34(c_in=c_in, n_out=c_out, act_cls=act, ndim=1, **kwargs)\n",
    "@delegates(ResBlock)\n",
    "def xresnet1d50 (c_in, c_out, act=nn.ReLU, **kwargs): return xresnet50(c_in=c_in, n_out=c_out, act_cls=act, ndim=1, **kwargs)\n",
    "@delegates(ResBlock)\n",
    "def xresnet1d101 (c_in, c_out, act=nn.ReLU, **kwargs): return xresnet101(c_in=c_in, n_out=c_out, act_cls=act, ndim=1, **kwargs)\n",
    "@delegates(ResBlock)\n",
    "def xresnet1d152 (c_in, c_out, act=nn.ReLU, **kwargs): return xresnet152(c_in=c_in, n_out=c_out, act_cls=act, ndim=1, **kwargs)\n",
    "@delegates(ResBlock)\n",
    "def xresnet1d18_deep (c_in, c_out, act=nn.ReLU, **kwargs): return xresnet18_deep(c_in=c_in, n_out=c_out, act_cls=act, ndim=1, **kwargs)\n",
    "@delegates(ResBlock)\n",
    "def xresnet1d34_deep (c_in, c_out, act=nn.ReLU, **kwargs): return xresnet34_deep(c_in=c_in, n_out=c_out, act_cls=act, ndim=1, **kwargs)\n",
    "@delegates(ResBlock)\n",
    "def xresnet1d50_deep (c_in, c_out, act=nn.ReLU, **kwargs): return xresnet50_deep(c_in=c_in, n_out=c_out, act_cls=act, ndim=1, **kwargs)\n",
    "@delegates(ResBlock)\n",
    "def xresnet1d18_deeper (c_in, c_out, act=nn.ReLU, **kwargs): return xresnet18_deeper(c_in=c_in, n_out=c_out, act_cls=act, ndim=1, **kwargs)\n",
    "@delegates(ResBlock)\n",
    "def xresnet1d34_deeper (c_in, c_out, act=nn.ReLU, **kwargs): return xresnet34_deeper(c_in=c_in, n_out=c_out, act_cls=act, ndim=1, **kwargs)\n",
    "@delegates(ResBlock)\n",
    "def xresnet1d50_deeper (c_in, c_out, act=nn.ReLU, **kwargs): return xresnet50_deeper(c_in=c_in, n_out=c_out, act_cls=act, ndim=1, **kwargs)"
   ]
  },
  {
   "cell_type": "code",
   "execution_count": null,
   "metadata": {},
   "outputs": [
    {
     "name": "stdout",
     "output_type": "stream",
     "text": [
      "0 xresnet1d18\n",
      "1 xresnet1d34\n",
      "2 xresnet1d50\n",
      "3 xresnet1d18_deep\n",
      "4 xresnet1d34_deep\n",
      "5 xresnet1d50_deep\n",
      "6 xresnet1d18_deeper\n",
      "7 xresnet1d34_deeper\n",
      "8 xresnet1d50_deeper\n"
     ]
    }
   ],
   "source": [
    "bs, c_in, seq_len = 2, 4, 32\n",
    "c_out = 2\n",
    "x = torch.rand(bs, c_in, seq_len)\n",
    "archs = [\n",
    "    xresnet1d18, xresnet1d34, xresnet1d50, \n",
    "    xresnet1d18_deep, xresnet1d34_deep, xresnet1d50_deep, xresnet1d18_deeper,\n",
    "    xresnet1d34_deeper, xresnet1d50_deeper\n",
    "#     # Long test\n",
    "#     xresnet1d101, xresnet1d152,\n",
    "]\n",
    "for i, arch in enumerate(archs):\n",
    "    print(i, arch.__name__)\n",
    "    test_eq(arch(c_in, c_out, sa=True, act=Mish)(x).shape, (bs, c_out))"
   ]
  },
  {
   "cell_type": "code",
   "execution_count": null,
   "metadata": {
    "hide_input": true
   },
   "outputs": [],
   "source": [
    "#hide\n",
    "# bs, c_in, seq_len = 2, 4, 32\n",
    "# c_out = 2\n",
    "# x = torch.rand(bs, c_in, seq_len)\n",
    "# archs = [\n",
    "#     xse_resnet1d18, xse_resnext1d18, xresnext1d18, \n",
    "#     xse_resnet1d34, xse_resnext1d34, xresnext1d34, \n",
    "#     xse_resnet1d50, xse_resnext1d50, xresnext1d50, \n",
    "# #     # Long test\n",
    "# #     xse_resnet1d101, xse_resnext1d101, xresnext1d101,\n",
    "# #     xse_resnet1d152, xsenet1d154, \n",
    "#     xse_resnext1d18_deep, xse_resnext1d34_deep, xse_resnext1d50_deep, \n",
    "#     xse_resnext1d18_deeper, xse_resnext1d34_deeper, xse_resnext1d50_deeper\n",
    "# ]\n",
    "# for i, arch in enumerate(archs):\n",
    "#     print(i, arch.__name__)\n",
    "#     test_eq(arch(c_in, c_out)(x).shape, (bs, c_out))"
   ]
  },
  {
   "cell_type": "code",
   "execution_count": null,
   "metadata": {},
   "outputs": [],
   "source": [
    "m = xresnet1d34(4, 2, act=Mish)\n",
    "test_eq(len(get_layers(m, is_bn)), 38)\n",
    "test_eq(check_weight(m, is_bn)[0].sum(), 22)"
   ]
  },
  {
   "cell_type": "code",
   "execution_count": null,
   "metadata": {},
   "outputs": [
    {
     "data": {
      "application/javascript": [
       "IPython.notebook.save_checkpoint()"
      ],
      "text/plain": [
       "<IPython.core.display.Javascript object>"
      ]
     },
     "metadata": {},
     "output_type": "display_data"
    },
    {
     "name": "stdout",
     "output_type": "stream",
     "text": [
      "Converted 000_utils.ipynb.\n",
      "Converted 000b_data.validation.ipynb.\n",
      "Converted 001_data.external.ipynb.\n",
      "Converted 002_data.core.ipynb.\n",
      "Converted 003_data.transforms.ipynb.\n",
      "Converted 003b_data.image.ipynb.\n",
      "Converted 005_data.tabular.ipynb.\n",
      "Converted 007_metrics.ipynb.\n",
      "Converted 008_learner.ipynb.\n",
      "Converted 009_optimizer.ipynb.\n",
      "Converted 010_callback.ipynb.\n",
      "Converted 100_models.layers.ipynb.\n",
      "Converted 100b_models.utils.ipynb.\n",
      "Converted 101_models.ResNet.ipynb.\n",
      "Converted 101b_models.ResNetPlus.ipynb.\n",
      "Converted 102_models.InceptionTime.ipynb.\n",
      "Converted 102b_models.InceptionTimePlus.ipynb.\n",
      "Converted 103_models.FCN.ipynb.\n",
      "Converted 103b_models.FCNPlus.ipynb.\n",
      "Converted 104_models.ResCNN.ipynb.\n",
      "Converted 105_models.RNN.ipynb.\n",
      "Converted 106_models.XceptionTime.ipynb.\n",
      "Converted 106b_models.XceptionTimePlus.ipynb.\n",
      "Converted 107_models.RNN_FCN.ipynb.\n",
      "Converted 107b_models.RNN_FCNPlus.ipynb.\n",
      "Converted 108_models.Transformer.ipynb.\n",
      "Converted 109_models.OmniScaleCNN.ipynb.\n",
      "Converted 110_models.mWDN.ipynb.\n",
      "Converted 111_models.ROCKET.ipynb.\n",
      "Converted 112_models.XResNet1d.ipynb.\n",
      "Converted 112b_models.XResNet1dPlus.ipynb.\n",
      "Converted 200_trading.utils.ipynb.\n",
      "Converted index.ipynb.\n",
      "\n",
      "\n",
      "Checking folder: /Users/nacho/Documents/Machine_Learning/Jupyter_Notebooks/timeseries/tsai\n",
      "Correct conversion! 😃\n",
      "Total time elapsed 44 s\n",
      "Saturday 10/03/20 13:36:48 CEST\n"
     ]
    },
    {
     "data": {
      "text/html": [
       "\n",
       "                <audio  controls=\"controls\" autoplay=\"autoplay\">\n",
       "                    <source src=\"data:audio/wav;base64,UklGRvQHAABXQVZFZm10IBAAAAABAAEAECcAACBOAAACABAAZGF0YdAHAAAAAPF/iPh/gOoOon6w6ayCoR2ZeyfbjobxK+F2Hs0XjKc5i3DGvzaTlEaraE+zz5uLUl9f46fHpWJdxVSrnfmw8mYEScqUP70cb0Q8X41uysJ1si6Eh1jYzXp9IE2DzOYsftYRyoCY9dJ/8QICgIcEun8D9PmAaBPlfT7lq4MFIlh61tYPiCswIHX+yBaOqT1QbuW7qpVQSv9lu6+xnvRVSlyopAypbGBTUdSalrSTaUBFYpInwUpxOzhti5TOdndyKhCGrdwAfBUcXIJB69p+Vw1egB76+n9q/h6ADglbf4LvnIHfF/981ODThF4m8HiS0riJVjQ6c+/EOZCYQfJrGrhBmPVNMmNArLKhQlkXWYqhbaxXY8ZNHphLuBJsZUEckCTFVHMgNKGJytIDeSUmw4QN4Qx9pReTgb3vYX/TCBuApf75f+P5Y4CRDdN+B+tngk8c8nt03CKGqipgd13OhotwOC5x9MCAknFFcmlmtPmagFFFYOCo0qRzXMhVi57pryNmIEqJlRi8bm52PfuNM8k4dfQv+4cO12l6zCGdg3jl730uE/KAPvS+f0wEAoAsA89/XfXQgBESIn6S5luDtiC8eh/YmIfpLqt1OMp5jXg8/24MveqUNUnPZsqw0Z3yVDldnaUOqIZfXlKrm36zzWhjRhaT+r+ncHI5/otUzfd2uSt7hl/bqXtoHaCC6+mqfrAOeoDD+PJ/xf8RgLMHfH/b8GeBihZIfSXidoQSJWB52NM1iRkzz3MkxpKPbUCrbDu5d5fgTAxkSK3JoEhYD1p2omere2LZTuqYLbdWa49Cx5Dww7tyXDUnioXRkHhwJyKFvd/AfPoYy4Fl7j1/LQorgEr9/X89+0qAOAwAf13sJoL8Gkd8wt25hWIp3Heez/eKODfPcSPCzpFNRDVqf7UlmnNQKGHgqd+jgVvJVm2f265QZTpLS5byur1tpT6ajvrHq3Q2MXWIxtUCehoj8YMk5LB9hRQegeTypn+nBQWA0QHgf7f2q4C5EFt+5ucOg2YfHXtq2SSHpS0ydnTL4IxFO6pvNb4ulBdInWfcsfSc7VMmXpSmE6eeXmZThJxpsgRohEfOk86+AHCoOpOMFsx1dv8s6oYT2k17uR7ngpXod34IEJqAaPfnfyABCIBZBpl/NPI2gTQVjX134x2ExSPMeR7VtYjZMWJ0W8ftjkA/YW1durCWykvjZFKu4p9LVwVbZKNkqpxh6U+6mRC2mGq2Q3SRvsIgcpc2sIpD0Bp4uiiFhW3ecXxOGgaCDe0Vf4cLPoDv+/5/mfw1gN4KKX+17emBqBmYfBHfVYUZKFR44NBtiv41bHJUwx+RJkP1apu2VJlkTwli4qrwoo1ax1dToNCtemRSTBGXz7kJbdM/PY/Dxht0dTLziH7Ul3loJEiE0uJsfdsVTYGL8Yt/AgcMgHYA7X8S+IqAYA+QfjzpxIIVHnp7tdqzhmAstXaxzEqMETpScGC/dJP3Rmdo8LIZnOVSEF+Opxumsl1sVF+dVrE5Z6NIiZSkvVdv2zsqjdnK8HVDLlyHyNjuegogM4NA5z9+YRG9gA722H97AgOA/gSyf43zCIHdE899yuTIg3ciNXpm1jmImTDwdJPITI4RPhRugbvslbFKt2Vfr/6eTFb4W1WkY6m6YPdQjJr2tNZp3EQlko7BgXHRNz2LAc+gdwMq7IUf3R58ohtFgrbr6n7hDFWAlPr8f/T9I4CECU9/De+vgVQY5nxh4POEzybJeCTS5YnCNAZzhsRzkP1Bsmu4t4aYU07nYuerA6KWWcJYO6HHrKJjaE3Zl624UWz/QOOPjcWHc7QzdIk40yl5tCWjhIDhJX0xF4CBMvBsf10IF4Ac//Z/bPlsgAcOwn6S6n6CwxzUewLcRoYaKzV38M23i9o493CNwL6S1UUuaQe0QpvbUfdfiqglpcRccFU+nkWwambASUiVfLyqbg49xY2eyWh1hy/Sh37XjHpaIYKD7OUEfrgS5IC09MV/1gMBgKMDyH/n9N6AhhINfh7mdoMoIZt6r9fAh1cvfHXNya6N4DzDbqi8K5WWSYlmbbAdnkpV6FxJpWSo1V8DUmGb3rMRaQBG2JJgwN9wCDnNi8HNI3dKK1aG0dvHe/UciIJf6rt+Og5wgDn59X9P/xWAKQhxf2XweYH+FjB9suGVhIMlOnlo02GJhTOdc7vFyo/TQGxs2Li7lz9NwmPurBihnVi7WSWiwKvGYntOpJiOt5drKUKMkFnE8HLxNPmJ9NG4eP8mAYUv4Np8hhi3gdruSX+3CSWAwP38f8f6UoCuDPF+6Os8gnAbKnxQ3d2F0imydzDPKIuiN5lxu8EKkrFE82kftW2az1DbYImpMqTUW3FWIJ83r5hl2koJlla7+m0+PmSOZcjcdMgwS4g11iZ6qCLUg5jkxn0QFA6BWvOvfzEFBIBHAtp/Qfa3gC4RSH5y5yeD2B/8evnYS4cULgR2CMsUja47cG/QvW6UeEhXZ3+xP51GVNVdP6Zpp+1eDFM5nMeySWghR4+TNL85cD46YIyCzKJ2kCzEhoTabXtGHs+CCemJfpMPjoDe9+t/qQALgM8Gj3++8UaBqRV2fQTjO4Q3JKd5r9TgiEYyMHTxxiWPpz8jbfq585YpTJpk960xoKFXsVoTo7yq6GGMTw==\" type=\"audio/wav\" />\n",
       "                    Your browser does not support the audio element.\n",
       "                </audio>\n",
       "              "
      ],
      "text/plain": [
       "<IPython.lib.display.Audio object>"
      ]
     },
     "metadata": {},
     "output_type": "display_data"
    }
   ],
   "source": [
    "#hide\n",
    "out = create_scripts()\n",
    "beep(out)"
   ]
  }
 ],
 "metadata": {
  "kernelspec": {
   "display_name": "Python 3",
   "language": "python",
   "name": "python3"
  }
 },
 "nbformat": 4,
 "nbformat_minor": 2
}
