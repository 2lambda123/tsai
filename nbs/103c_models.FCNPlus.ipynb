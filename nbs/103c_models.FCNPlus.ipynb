{
 "cells": [
  {
   "cell_type": "code",
   "execution_count": null,
   "metadata": {},
   "outputs": [],
   "source": [
    "# default_exp models.FCNPlus"
   ]
  },
  {
   "cell_type": "markdown",
   "metadata": {},
   "source": [
    "# FCNPlus\n",
    "\n",
    "> This is an unofficial PyTorch implementation by Ignacio Oguiza - timeseriesAI@gmail.com modified from:\n",
    "\n",
    "* Wang, Z., Yan, W., & Oates, T. (2017, May). Time series classification from scratch with deep neural networks: A strong baseline. In 2017 international joint conference on neural networks (IJCNN) (pp. 1578-1585). IEEE.\n",
    "\n",
    "* Fawaz, H. I., Forestier, G., Weber, J., Idoumghar, L., & Muller, P. A. (2019). Deep learning for time series classification: a review. Data Mining and Knowledge Discovery, 33(4), 917-963.\n",
    "* FCN TensorFlow implementation: https://github.com/hfawaz/dl-4-tsc/blob/master/classifiers/fcn.py\n",
    "\n",
    "* 👀 kernel filter size 8 has been replaced by 7 (I believe it's a bug)"
   ]
  },
  {
   "cell_type": "code",
   "execution_count": null,
   "metadata": {},
   "outputs": [],
   "source": [
    "#export\n",
    "from tsai.imports import *\n",
    "from tsai.models.layers import *"
   ]
  },
  {
   "cell_type": "code",
   "execution_count": null,
   "metadata": {},
   "outputs": [],
   "source": [
    "# export\n",
    "class FCNPlus(nn.Sequential):\n",
    "    def __init__(self, c_in, c_out, layers=[128, 256, 128], kss=[7, 5, 3], coord=False, separable=False, use_bn=False, fc_dropout=0.,\n",
    "                 zero_norm=False, act=nn.ReLU, act_kwargs={}, residual=False):\n",
    "        assert len(layers) == len(kss)\n",
    "        backbone = _FCNBlockPlus(c_in, layers=layers, kss=kss, coord=coord, separable=separable,\n",
    "                                 zero_norm=zero_norm, act=nn.ReLU, act_kwargs={}, residual=False)\n",
    "        self.head_nf = layers[2]\n",
    "        head_layers = [nn.AdaptiveAvgPool1d(1), Squeeze(-1)]\n",
    "        if use_bn: head_layers += [nn.BatchNorm1d(layers[-1])]\n",
    "        if fc_dropout != 0: head_layers += [nn.Dropout(fc_dropout)]\n",
    "        head_layers += [nn.Linear(layers[-1], c_out)]\n",
    "        head = nn.Sequential(*head_layers)\n",
    "        super().__init__(OrderedDict([('backbone', backbone), ('head', head)]))\n",
    "\n",
    "\n",
    "class _FCNBlockPlus(Module):\n",
    "    def __init__(self, c_in, layers=[128, 256, 128], kss=[7, 5, 3], coord=False, separable=False,\n",
    "                 zero_norm=False, act=nn.ReLU, act_kwargs={}, residual=False):\n",
    "        self.residual = residual\n",
    "        self.convblock1 = ConvBlock(\n",
    "            c_in, layers[0], kss[0], coord=coord, separable=separable, act=act, act_kwargs=act_kwargs)\n",
    "        self.convblock2 = ConvBlock(\n",
    "            layers[0], layers[1], kss[1], coord=coord, separable=separable, act=act, act_kwargs=act_kwargs)\n",
    "        self.convblock3 = ConvBlock(layers[1], layers[2], kss[2], coord=coord, separable=separable, zero_norm=zero_norm if residual else False,\n",
    "                                    act=None if residual else act, act_kwargs=act_kwargs)\n",
    "        if residual:\n",
    "            self.shortcut = BN1(layers[2]) if c_in == layers[2] else ConvBlock(\n",
    "                c_in, layers[2], 1, coord=coord, act=None)\n",
    "        self.add = Add() if residual else Noop\n",
    "\n",
    "    def forward(self, x):\n",
    "        if self.residual:\n",
    "            res = x\n",
    "        x = self.convblock1(x)\n",
    "        x = self.convblock2(x)\n",
    "        x = self.convblock3(x)\n",
    "        if self.residual:\n",
    "            x = self.add(x, self.shortcut(res))\n",
    "        return x"
   ]
  },
  {
   "cell_type": "code",
   "execution_count": null,
   "metadata": {},
   "outputs": [],
   "source": [
    "xb = torch.rand(16, 3, 10)\n",
    "test_eq(FCNPlus(3, 2)(xb).shape, [xb.shape[0], 2])\n",
    "test_eq(FCNPlus(3, 2, coord=True, separable=True, act=Swish, residual=True)(xb).shape, [xb.shape[0], 2])\n",
    "test_eq(nn.Sequential(*FCNPlus(3, 2).children())(xb).shape, [xb.shape[0], 2])"
   ]
  },
  {
   "cell_type": "code",
   "execution_count": null,
   "metadata": {},
   "outputs": [
    {
     "data": {
      "text/plain": [
       "Sequential(\n",
       "  (0): AdaptiveAvgPool1d(output_size=1)\n",
       "  (1): Squeeze(dim=-1)\n",
       "  (2): Linear(in_features=128, out_features=3, bias=True)\n",
       ")"
      ]
     },
     "execution_count": null,
     "metadata": {},
     "output_type": "execute_result"
    }
   ],
   "source": [
    "from tsai.models.utils import *\n",
    "model = build_ts_model(FCNPlus, 2, 3)\n",
    "model[-1]"
   ]
  },
  {
   "cell_type": "code",
   "execution_count": null,
   "metadata": {},
   "outputs": [],
   "source": [
    "from tsai.models.FCN import *\n",
    "test_eq(total_params(FCN(3,2)), total_params(FCNPlus(3,2)))"
   ]
  },
  {
   "cell_type": "code",
   "execution_count": null,
   "metadata": {},
   "outputs": [
    {
     "data": {
      "text/plain": [
       "FCNPlus(\n",
       "  (backbone): _FCNBlockPlus(\n",
       "    (convblock1): ConvBlock(\n",
       "      (0): Conv1d(3, 128, kernel_size=(7,), stride=(1,), padding=(3,), bias=False)\n",
       "      (1): BatchNorm1d(128, eps=1e-05, momentum=0.1, affine=True, track_running_stats=True)\n",
       "      (2): ReLU()\n",
       "    )\n",
       "    (convblock2): ConvBlock(\n",
       "      (0): Conv1d(128, 256, kernel_size=(5,), stride=(1,), padding=(2,), bias=False)\n",
       "      (1): BatchNorm1d(256, eps=1e-05, momentum=0.1, affine=True, track_running_stats=True)\n",
       "      (2): ReLU()\n",
       "    )\n",
       "    (convblock3): ConvBlock(\n",
       "      (0): Conv1d(256, 128, kernel_size=(3,), stride=(1,), padding=(1,), bias=False)\n",
       "      (1): BatchNorm1d(128, eps=1e-05, momentum=0.1, affine=True, track_running_stats=True)\n",
       "      (2): ReLU()\n",
       "    )\n",
       "    (add): Sequential()\n",
       "  )\n",
       "  (head): Sequential(\n",
       "    (0): AdaptiveAvgPool1d(output_size=1)\n",
       "    (1): Squeeze(dim=-1)\n",
       "    (2): Linear(in_features=128, out_features=2, bias=True)\n",
       "  )\n",
       ")"
      ]
     },
     "execution_count": null,
     "metadata": {},
     "output_type": "execute_result"
    }
   ],
   "source": [
    "FCNPlus(3,2)"
   ]
  },
  {
   "cell_type": "code",
   "execution_count": null,
   "metadata": {},
   "outputs": [],
   "source": [
    "#hide\n",
    "out = create_scripts()\n",
    "beep(out)"
   ]
  }
 ],
 "metadata": {
  "kernelspec": {
   "display_name": "Python 3 (ipykernel)",
   "language": "python",
   "name": "python3"
  }
 },
 "nbformat": 4,
 "nbformat_minor": 2
}
