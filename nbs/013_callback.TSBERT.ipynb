{
 "cells": [
  {
   "cell_type": "code",
   "execution_count": null,
   "metadata": {},
   "outputs": [],
   "source": [
    "# default_exp callback.TSBERT"
   ]
  },
  {
   "cell_type": "markdown",
   "metadata": {},
   "source": [
    "# TSBERT: Self-supervised Pre-training of Time Series Models\n",
    "\n",
    "> Callback used to perform the autoregressive task of denoising the input after a binary mask has been applied."
   ]
  },
  {
   "cell_type": "markdown",
   "metadata": {},
   "source": [
    "This is an unofficial PyTorch implementation created by Ignacio Oguiza (timeseriesAI@gmail.com) based on:.\n",
    "\n",
    "* Zerveas, G., Jayaraman, S., Patel, D., Bhamidipaty, A., & Eickhoff, C. (2020). [A Transformer-based Framework for Multivariate Time Series Representation Learning. arXiv preprint arXiv:2010.02803v2.](https://arxiv.org/pdf/2010.02803). No official implementation available as far as I know (Oct 10th, 2020)\n",
    "\n",
    "* Vaswani, A., Shazeer, N., Parmar, N., Uszkoreit, J., Jones, L., Gomez, A. N., ... & Polosukhin, I. (2017). [Attention is all you need. In Advances in neural information processing systems (pp. 5998-6008).](https://papers.nips.cc/paper/7181-attention-is-all-you-need.pdf)\n",
    "\n",
    "* He, R., Ravula, A., Kanagal, B., & Ainslie, J. (2020). Realformer: Transformer Likes Informed Attention. arXiv preprint arXiv:2012.11747."
   ]
  },
  {
   "cell_type": "code",
   "execution_count": null,
   "metadata": {},
   "outputs": [],
   "source": [
    "#export\n",
    "from fastai.callback.all import *\n",
    "from tsai.imports import *\n",
    "from tsai.utils import *\n",
    "from tsai.models.utils import *"
   ]
  },
  {
   "cell_type": "code",
   "execution_count": null,
   "metadata": {},
   "outputs": [],
   "source": [
    "#export\n",
    "def create_subsequence_mask(o, r=.15, lm=3, stateful=True, sync=False):\n",
    "    n_masks, mask_dims, mask_len = o.shape\n",
    "    if sync == 'random': sync = random.random() > .5\n",
    "    dims = 1 if sync else mask_dims\n",
    "    numels = n_masks * dims * mask_len\n",
    "    pm = 1 / lm\n",
    "    pu = pm * (r / (1 - r))\n",
    "    a, b, proba_a, proba_b = ([1], [0], pu, pm) if random.random() > pm else ([0], [1], pm, pu)\n",
    "    if stateful: \n",
    "        max_len = max(1, 2 * math.ceil(numels // (1/pm + 1/pu)))\n",
    "        while True:\n",
    "            dist_a = np.clip(np.random.geometric(proba_a, max_len), 1, mask_len)\n",
    "            dist_b = np.clip(np.random.geometric(proba_b, max_len), 1, mask_len)\n",
    "            if (dist_a + dist_b).sum() >= numels:\n",
    "                dist_len = np.argmax((dist_a + dist_b).cumsum() >= numels) + 1\n",
    "                break\n",
    "        l = [a*ax + b*bx for (ax, bx) in zip(dist_a[:dist_len], dist_b[:dist_len])]\n",
    "        _mask = list(itertools.chain.from_iterable(l))[:numels]\n",
    "    else: \n",
    "        _mask = np.random.binomial(1, 1 - r, numels)\n",
    "    mask = torch.Tensor(_mask).reshape(n_masks, dims, mask_len)\n",
    "    if sync: mask = mask.repeat(1, mask_dims, 1)\n",
    "    return mask.to(o.device)\n",
    "\n",
    "def create_variable_mask(o, r=.15):\n",
    "    n_masks, mask_dims, mask_len = o.shape\n",
    "    sel_dims = np.random.choice(n_masks * mask_dims, int(n_masks * mask_dims * r), False)\n",
    "    _mask = np.ones((n_masks * mask_dims, mask_len))\n",
    "    _mask[sel_dims] = 0\n",
    "    mask = torch.Tensor(_mask).reshape(*o.shape)\n",
    "    return mask.to(o.device)"
   ]
  },
  {
   "cell_type": "code",
   "execution_count": null,
   "metadata": {},
   "outputs": [],
   "source": [
    "t = torch.rand(16, 3, 100)\n",
    "mask = create_subsequence_mask(t, sync=False)\n",
    "test_eq(mask.shape, t.shape)\n",
    "mask = create_subsequence_mask(t, sync=True)\n",
    "test_eq(mask.shape, t.shape)\n",
    "mask = create_variable_mask(t)\n",
    "test_eq(mask.shape, t.shape)"
   ]
  },
  {
   "cell_type": "code",
   "execution_count": null,
   "metadata": {},
   "outputs": [],
   "source": [
    "#export\n",
    "class TSBERT_Loss(Module):\n",
    "    def __init__(self, crit=None):\n",
    "        self.crit = ifnone(crit, MSELossFlat())\n",
    "        self.mask = slice(None)\n",
    "        \n",
    "    def forward(self, preds, target):\n",
    "        return self.crit(preds[self.mask], target[self.mask])"
   ]
  },
  {
   "cell_type": "code",
   "execution_count": null,
   "metadata": {},
   "outputs": [],
   "source": [
    "# export\n",
    "class TSBERT(Callback):\n",
    "    def __init__(self, r:float=.15, subsequence_mask:bool=True, lm:float=3., stateful:bool=True, sync:bool=False, variable_mask:bool=False,\n",
    "                 crit:callable=None, target_dir:str='./data/TSBERT', fname:str='ssd_trained_model',verbose:bool=True):\n",
    "        r\"\"\"\n",
    "        A callback to implement a self-supervised denoising task.\n",
    "        Args:\n",
    "            mask_shape: expected mask shape (tuple). e.g batch size, n_vars, timesteps\n",
    "            r: proba of masking.\n",
    "            subsequence_mask: apply a mask to random subsequences.\n",
    "            lm: average mask len when using stateful (geometric) masking.\n",
    "            stateful: geometric distribution is applied so that average mask length is lm.\n",
    "            sync: all variables have the same masking.\n",
    "            variable_mask: apply a mask to random variables.\n",
    "            crit: loss function that will be used. If None MSELossFlat().\n",
    "            target_dir : directory where trained model will be stored.\n",
    "            fname : name that will be used to save the pretrained model.\n",
    "    \"\"\"\n",
    "        self.subsequence_mask,self.variable_mask=subsequence_mask,variable_mask\n",
    "        assert self.subsequence_mask or self.variable_mask, 'you must set subsequence_mask and/or variable_mask to True'\n",
    "        self.r,self.lm,self.stateful,self.sync,self.crit,self.target_dir,self.fname,self.verbose = r,lm,stateful,sync,crit,Path(target_dir),fname,verbose\n",
    "        \n",
    "    def before_fit(self):\n",
    "        # modify loss for denoising task\n",
    "        self.old_loss_func = self.learn.loss_func\n",
    "        self.learn.loss_func = TSBERT_Loss(self.crit)\n",
    "        \n",
    "        # save initial model head\n",
    "        assert hasattr(self.learn.model, \"head\"), \"you can only use SSD with models that have .head attributes\"\n",
    "        backbone, head = split_model(self.learn.model)\n",
    "        self.head = head\n",
    "        self.learn.model = backbone\n",
    "        \n",
    "        # prepare model for denoising task\n",
    "        with torch.no_grad():\n",
    "            b = self.learn.dls.train.one_batch()\n",
    "            ni = b[0].shape[1] \n",
    "            out = self.learn.model(b[0])\n",
    "            assert out.ndim == 3, \"make sure the backbone (after model.head = Noop) produces a 3d output [bs x nf x seq_len]\"\n",
    "            no = out.shape[1]\n",
    "            self.learn.model.head = nn.Sequential(*[Transpose(-1, -2), nn.Linear(no, ni), Transpose(-1, -2)]).to(b[0].device)\n",
    "            assert self.learn.model(b[0]).shape == b[0].shape\n",
    "    \n",
    "    def before_batch(self):\n",
    "        if self.subsequence_mask and self.variable_mask:\n",
    "            random_thr = 1/3 if self.sync == 'random' else 1/2\n",
    "            if random.random() > random_thr: \n",
    "                mask = create_subsequence_mask(self.x, r=self.r, lm=self.lm, stateful=self.stateful, sync=self.sync)\n",
    "            else: \n",
    "                mask = create_variable_mask(self.x, r=self.r)\n",
    "        elif self.subsequence_mask:\n",
    "            mask = create_subsequence_mask(self.x, r=self.r, lm=self.lm, stateful=self.stateful, sync=self.sync)\n",
    "        else: \n",
    "            mask = create_variable_mask(self.x, r=self.r)\n",
    "        self.learn.yb = (self.x,)\n",
    "        self.learn.xb = (self.x * mask,)\n",
    "        self.learn.loss_func.mask = mask == 0\n",
    "\n",
    "    def after_fit(self):\n",
    "        if self.epoch == self.n_epoch - 1 and not \"LRFinder\" in [cls_name(cb) for cb in self.learn.cbs]:\n",
    "            self.learn.loss_func = self.old_loss_func\n",
    "            self.learn.model.head = self.head\n",
    "            PATH = Path(f'{self.target_dir/self.fname}.pth')\n",
    "            if not os.path.exists(PATH.parent): os.makedirs(PATH.parent)\n",
    "            torch.save(self.learn.model.state_dict(), PATH)\n",
    "            pv(f\"\\npre-trained model weights path: {PATH}\\n\", self.verbose)\n",
    "        self.learn.remove_cb(self)"
   ]
  },
  {
   "cell_type": "markdown",
   "metadata": {},
   "source": [
    "# Experiments"
   ]
  },
  {
   "cell_type": "code",
   "execution_count": null,
   "metadata": {},
   "outputs": [],
   "source": [
    "from fastai.data.transforms import *\n",
    "from tsai.data.all import *\n",
    "from tsai.models.utils import *\n",
    "from tsai.models.layers import *\n",
    "from tsai.learner import *\n",
    "from tsai.models.TSTPlus import *\n",
    "from tsai.models.InceptionTimePlus import *"
   ]
  },
  {
   "cell_type": "code",
   "execution_count": null,
   "metadata": {},
   "outputs": [
    {
     "name": "stdout",
     "output_type": "stream",
     "text": [
      "X      - shape: [360 samples x 24 features x 51 timesteps]  type: memmap  dtype:float32  isnan: 0\n",
      "y      - shape: (360,)  type: memmap  dtype:<U3  n_classes: 6 (60 samples per class) ['1.0', '2.0', '3.0', '4.0', '5.0', '6.0']  isnan: False\n",
      "splits - n_splits: 2 shape: [180, 180]  overlap: [False]\n"
     ]
    }
   ],
   "source": [
    "dsid = 'NATOPS'\n",
    "X, y, splits = get_UCR_data(dsid, split_data=False)\n",
    "check_data(X, y, splits)"
   ]
  },
  {
   "cell_type": "code",
   "execution_count": null,
   "metadata": {},
   "outputs": [
    {
     "data": {
      "text/html": [
       "<table border=\"1\" class=\"dataframe\">\n",
       "  <thead>\n",
       "    <tr style=\"text-align: left;\">\n",
       "      <th>epoch</th>\n",
       "      <th>train_loss</th>\n",
       "      <th>valid_loss</th>\n",
       "      <th>time</th>\n",
       "    </tr>\n",
       "  </thead>\n",
       "  <tbody>\n",
       "    <tr>\n",
       "      <td>0</td>\n",
       "      <td>1.531935</td>\n",
       "      <td>1.087306</td>\n",
       "      <td>00:05</td>\n",
       "    </tr>\n",
       "  </tbody>\n",
       "</table>"
      ],
      "text/plain": [
       "<IPython.core.display.HTML object>"
      ]
     },
     "metadata": {},
     "output_type": "display_data"
    },
    {
     "name": "stdout",
     "output_type": "stream",
     "text": [
      "\n",
      "pre-trained model weights path: data/TSBERT/NATOPS_test.pth\n",
      "\n"
     ]
    }
   ],
   "source": [
    "# Pre-train\n",
    "tfms  = [None, [Categorize()]]\n",
    "batch_tfms = [TSStandardize(by_var=True)]\n",
    "unlabeled_dls = get_ts_dls(X, splits=splits, tfms=tfms, batch_tfms=batch_tfms, bs=64)\n",
    "tsbert = TSBERT(subsequence_mask=True, sync='random', variable_mask=True, fname=f'{dsid}_test')\n",
    "learn = ts_learner(unlabeled_dls, InceptionTimePlus, cbs=tsbert)\n",
    "learn.fit_one_cycle(1, 3e-3)"
   ]
  },
  {
   "cell_type": "code",
   "execution_count": null,
   "metadata": {},
   "outputs": [
    {
     "name": "stdout",
     "output_type": "stream",
     "text": [
      "weights from data/TSBERT/NATOPS_test.pth successfully transferred!\n",
      "\n"
     ]
    },
    {
     "data": {
      "text/html": [
       "<table border=\"1\" class=\"dataframe\">\n",
       "  <thead>\n",
       "    <tr style=\"text-align: left;\">\n",
       "      <th>epoch</th>\n",
       "      <th>train_loss</th>\n",
       "      <th>valid_loss</th>\n",
       "      <th>accuracy</th>\n",
       "      <th>time</th>\n",
       "    </tr>\n",
       "  </thead>\n",
       "  <tbody>\n",
       "    <tr>\n",
       "      <td>0</td>\n",
       "      <td>1.897716</td>\n",
       "      <td>1.774922</td>\n",
       "      <td>0.161111</td>\n",
       "      <td>00:05</td>\n",
       "    </tr>\n",
       "  </tbody>\n",
       "</table>"
      ],
      "text/plain": [
       "<IPython.core.display.HTML object>"
      ]
     },
     "metadata": {},
     "output_type": "display_data"
    },
    {
     "data": {
      "text/html": [
       "<table border=\"1\" class=\"dataframe\">\n",
       "  <thead>\n",
       "    <tr style=\"text-align: left;\">\n",
       "      <th>epoch</th>\n",
       "      <th>train_loss</th>\n",
       "      <th>valid_loss</th>\n",
       "      <th>accuracy</th>\n",
       "      <th>time</th>\n",
       "    </tr>\n",
       "  </thead>\n",
       "  <tbody>\n",
       "    <tr>\n",
       "      <td>0</td>\n",
       "      <td>1.121014</td>\n",
       "      <td>1.736586</td>\n",
       "      <td>0.177778</td>\n",
       "      <td>00:06</td>\n",
       "    </tr>\n",
       "  </tbody>\n",
       "</table>"
      ],
      "text/plain": [
       "<IPython.core.display.HTML object>"
      ]
     },
     "metadata": {},
     "output_type": "display_data"
    }
   ],
   "source": [
    "# Fine-tune\n",
    "tfms  = [None, [Categorize()]]\n",
    "batch_tfms = [TSStandardize(by_var=True)]\n",
    "labeled_dls = get_ts_dls(X, y, splits=splits, tfms=tfms, batch_tfms=batch_tfms, bs=64)\n",
    "learn = ts_learner(labeled_dls, InceptionTimePlus, pretrained=True, weights_path='data/TSBERT/NATOPS_test.pth', metrics=[accuracy])\n",
    "learn.fine_tune(1)"
   ]
  },
  {
   "cell_type": "code",
   "execution_count": null,
   "metadata": {},
   "outputs": [],
   "source": [
    "# hide\n",
    "out = create_scripts(); beep(out)"
   ]
  }
 ],
 "metadata": {
  "kernelspec": {
   "display_name": "Python 3",
   "language": "python",
   "name": "python3"
  }
 },
 "nbformat": 4,
 "nbformat_minor": 1
}
