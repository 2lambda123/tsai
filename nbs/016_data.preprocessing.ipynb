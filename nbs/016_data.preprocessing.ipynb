{
 "cells": [
  {
   "cell_type": "code",
   "execution_count": null,
   "metadata": {},
   "outputs": [],
   "source": [
    "# default_exp data.preprocessing"
   ]
  },
  {
   "cell_type": "markdown",
   "metadata": {},
   "source": [
    "# Data preprocessing\n",
    "\n",
    "> Functions used to preprocess time series (both X and y)."
   ]
  },
  {
   "cell_type": "code",
   "execution_count": null,
   "metadata": {},
   "outputs": [],
   "source": [
    "#export\n",
    "from tsai.imports import *\n",
    "from tsai.utils import *\n",
    "from tsai.data.external import *\n",
    "from tsai.data.core import *\n",
    "from tsai.data.preparation import *"
   ]
  },
  {
   "cell_type": "code",
   "execution_count": null,
   "metadata": {},
   "outputs": [],
   "source": [
    "dsid = 'NATOPS'\n",
    "X, y, splits = get_UCR_data(dsid, return_split=False)\n",
    "tfms = [None, Categorize()]\n",
    "dsets = TSDatasets(X, y, tfms=tfms, splits=splits)"
   ]
  },
  {
   "cell_type": "code",
   "execution_count": null,
   "metadata": {},
   "outputs": [],
   "source": [
    "#export\n",
    "class ToNumpyCategory(Transform):\n",
    "    \"Categorize a numpy batch\"\n",
    "    order = 90\n",
    "\n",
    "    def __init__(self, **kwargs):\n",
    "        super().__init__(**kwargs)\n",
    "\n",
    "    def encodes(self, o: np.ndarray):\n",
    "        self.type = type(o)\n",
    "        self.cat = Categorize()\n",
    "        self.cat.setup(o)\n",
    "        self.vocab = self.cat.vocab\n",
    "        return np.asarray(stack([self.cat(oi) for oi in o]))\n",
    "\n",
    "    def decodes(self, o: np.ndarray):\n",
    "        return stack([self.cat.decode(oi) for oi in o])\n",
    "\n",
    "    def decodes(self, o: torch.Tensor):\n",
    "        return stack([self.cat.decode(oi) for oi in o])"
   ]
  },
  {
   "cell_type": "code",
   "execution_count": null,
   "metadata": {},
   "outputs": [
    {
     "data": {
      "text/plain": [
       "array([3, 2, 2, 3, 2, 4, 0, 5, 2, 1])"
      ]
     },
     "execution_count": null,
     "metadata": {},
     "output_type": "execute_result"
    }
   ],
   "source": [
    "t = ToNumpyCategory()\n",
    "y_cat = t(y)\n",
    "y_cat[:10]"
   ]
  },
  {
   "cell_type": "code",
   "execution_count": null,
   "metadata": {},
   "outputs": [],
   "source": [
    "test_eq(t.decode(tensor(y_cat)), y)\n",
    "test_eq(t.decode(np.array(y_cat)), y)"
   ]
  },
  {
   "cell_type": "code",
   "execution_count": null,
   "metadata": {},
   "outputs": [],
   "source": [
    "#export\n",
    "class OneHot(Transform): \n",
    "    \"One-hot encode/ decode a batch\"\n",
    "    order = 90\n",
    "    def __init__(self, n_classes=None, **kwargs): \n",
    "        self.n_classes = n_classes\n",
    "        super().__init__(**kwargs)\n",
    "    def encodes(self, o: torch.Tensor): \n",
    "        if not self.n_classes: self.n_classes = len(np.unique(o))\n",
    "        return torch.eye(self.n_classes)[o]\n",
    "    def encodes(self, o: np.ndarray): \n",
    "        o = ToNumpyCategory()(o)\n",
    "        if not self.n_classes: self.n_classes = len(np.unique(o))\n",
    "        return np.eye(self.n_classes)[o]\n",
    "    def decodes(self, o: torch.Tensor): return torch.argmax(o, dim=-1)\n",
    "    def decodes(self, o: np.ndarray): return np.argmax(o, axis=-1)"
   ]
  },
  {
   "cell_type": "code",
   "execution_count": null,
   "metadata": {},
   "outputs": [
    {
     "data": {
      "text/plain": [
       "array([[0., 0., 0., 1., 0., 0.],\n",
       "       [0., 0., 1., 0., 0., 0.],\n",
       "       [0., 0., 1., 0., 0., 0.],\n",
       "       [0., 0., 0., 1., 0., 0.],\n",
       "       [0., 0., 1., 0., 0., 0.],\n",
       "       [0., 0., 0., 0., 1., 0.],\n",
       "       [1., 0., 0., 0., 0., 0.],\n",
       "       [0., 0., 0., 0., 0., 1.],\n",
       "       [0., 0., 1., 0., 0., 0.],\n",
       "       [0., 1., 0., 0., 0., 0.]])"
      ]
     },
     "execution_count": null,
     "metadata": {},
     "output_type": "execute_result"
    }
   ],
   "source": [
    "oh_encoder = OneHot()\n",
    "y_cat = ToNumpyCategory()(y)\n",
    "oht = oh_encoder(y_cat)\n",
    "oht[:10]"
   ]
  },
  {
   "cell_type": "code",
   "execution_count": null,
   "metadata": {},
   "outputs": [],
   "source": [
    "n_classes = 10\n",
    "n_samples = 100\n",
    "\n",
    "t = torch.randint(0, n_classes, (n_samples,))\n",
    "oh_encoder = OneHot()\n",
    "oht = oh_encoder(t)\n",
    "test_eq(oht.shape, (n_samples, n_classes))\n",
    "test_eq(torch.argmax(oht, dim=-1), t)\n",
    "test_eq(oh_encoder.decode(oht), t)"
   ]
  },
  {
   "cell_type": "code",
   "execution_count": null,
   "metadata": {},
   "outputs": [],
   "source": [
    "n_classes = 10\n",
    "n_samples = 100\n",
    "\n",
    "a = np.random.randint(0, n_classes, (n_samples,))\n",
    "oh_encoder = OneHot()\n",
    "oha = oh_encoder(a)\n",
    "test_eq(oha.shape, (n_samples, n_classes))\n",
    "test_eq(np.argmax(oha, axis=-1), a)\n",
    "test_eq(oh_encoder.decode(oha), a)"
   ]
  },
  {
   "cell_type": "code",
   "execution_count": null,
   "metadata": {},
   "outputs": [],
   "source": [
    "#export\n",
    "class TSNan2Value(Transform):\n",
    "    \"Replaces any nan values by a predefined value or median\"\n",
    "    order = 90\n",
    "    def __init__(self, value=0, median=False, by_sample_and_var=True, sel_vars=None):\n",
    "        store_attr()\n",
    "        if not ismin_torch(\"1.8\"):\n",
    "            raise ValueError('This function only works with Pytorch>=1.8.')\n",
    "\n",
    "    def encodes(self, o:TSTensor):\n",
    "        if self.sel_vars is not None: \n",
    "            mask = torch.isnan(o[:, self.sel_vars])\n",
    "            if mask.any() and self.median:\n",
    "                if self.by_sample_and_var:\n",
    "                    median = torch.nanmedian(o[:, self.sel_vars], dim=2, keepdim=True)[0].repeat(1, 1, o.shape[-1])\n",
    "                    o[:, self.sel_vars][mask] = median[mask]\n",
    "                else:\n",
    "                    o[:, self.sel_vars] = torch.nan_to_num(o[:, self.sel_vars], torch.nanmedian(o[:, self.sel_vars]))\n",
    "            o[:, self.sel_vars] = torch.nan_to_num(o[:, self.sel_vars], self.value)\n",
    "        else:\n",
    "            mask = torch.isnan(o)\n",
    "            if mask.any() and self.median:\n",
    "                if self.by_sample_and_var:\n",
    "                    median = torch.nanmedian(o, dim=2, keepdim=True)[0].repeat(1, 1, o.shape[-1])\n",
    "                    o[mask] = median[mask]\n",
    "                else:\n",
    "                    o = torch.nan_to_num(o, torch.nanmedian(o))\n",
    "            o = torch.nan_to_num(o, self.value)\n",
    "        return o\n",
    "\n",
    "\n",
    "    \n",
    "Nan2Value = TSNan2Value"
   ]
  },
  {
   "cell_type": "code",
   "execution_count": null,
   "metadata": {},
   "outputs": [],
   "source": [
    "o = TSTensor(torch.randn(16, 10, 100))\n",
    "o[0,0] = float('nan')\n",
    "o[o > .9] = float('nan')\n",
    "o[[0,1,5,8,14,15], :, -20:] = float('nan')\n",
    "nan_vals1 = torch.isnan(o).sum()\n",
    "o2 = Pipeline(TSNan2Value(), split_idx=0)(o.clone())\n",
    "o3 = Pipeline(TSNan2Value(median=True, by_sample_and_var=True), split_idx=0)(o.clone())\n",
    "o4 = Pipeline(TSNan2Value(median=True, by_sample_and_var=False), split_idx=0)(o.clone())\n",
    "nan_vals2 = torch.isnan(o2).sum()\n",
    "nan_vals3 = torch.isnan(o3).sum()\n",
    "nan_vals4 = torch.isnan(o4).sum()\n",
    "test_ne(nan_vals1, 0)\n",
    "test_eq(nan_vals2, 0)\n",
    "test_eq(nan_vals3, 0)\n",
    "test_eq(nan_vals4, 0)"
   ]
  },
  {
   "cell_type": "code",
   "execution_count": null,
   "metadata": {},
   "outputs": [],
   "source": [
    "o = TSTensor(torch.randn(16, 10, 100))\n",
    "o[o > .9] = float('nan')\n",
    "o = TSNan2Value(median=True, sel_vars=[0,1,2,3,4])(o)\n",
    "test_eq(torch.isnan(o[:, [0,1,2,3,4]]).sum().item(), 0)"
   ]
  },
  {
   "cell_type": "code",
   "execution_count": null,
   "metadata": {},
   "outputs": [],
   "source": [
    "# export\n",
    "class TSStandardize(Transform):\n",
    "    \"\"\"Standardizes batch of type `TSTensor`\n",
    "\n",
    "    Args:\n",
    "        - mean: you can pass a precalculated mean value as a torch tensor which is the one that will be used, or leave as None, in which case\n",
    "            it will be estimated using a batch.\n",
    "        - std: you can pass a precalculated std value as a torch tensor which is the one that will be used, or leave as None, in which case\n",
    "            it will be estimated using a batch. If both mean and std values are passed when instantiating TSStandardize, the rest of arguments won't be used.\n",
    "        - by_sample: if True, it will calculate mean and std for each individual sample. Otherwise based on the entire batch.\n",
    "        - by_var:\n",
    "            * False: mean and std will be the same for all variables.\n",
    "            * True: a mean and std will be be different for each variable.\n",
    "            * a list of ints: (like [0,1,3]) a different mean and std will be set for each variable on the list. Variables not included in the list\n",
    "            won't be standardized.\n",
    "            * a list that contains a list/lists: (like[0, [1,3]]) a different mean and std will be set for each element of the list. If multiple elements are\n",
    "            included in a list, the same mean and std will be set for those variable in the sublist/s. (in the example a mean and std is determined for\n",
    "            variable 0, and another one for variables 1 & 3 - the same one). Variables not included in the list won't be standardized.\n",
    "        - by_step: if False, it will standardize values for each time step.\n",
    "        - eps: it avoids dividing by 0\n",
    "        - use_single_batch: if True a single training batch will be used to calculate mean & std. Else the entire training set will be used.\n",
    "    \"\"\"\n",
    "\n",
    "    parameters, order = L('mean', 'std'), 90\n",
    "    _setup = True # indicates it requires set up\n",
    "    def __init__(self, mean=None, std=None, by_sample=False, by_var=False, by_step=False, eps=1e-8, use_single_batch=True, verbose=False, **kwargs):\n",
    "        super().__init__(**kwargs)\n",
    "        self.mean = tensor(mean) if mean is not None else None\n",
    "        self.std = tensor(std) if std is not None else None\n",
    "        self._setup = (mean is None or std is None) and not by_sample\n",
    "        self.eps = eps\n",
    "        self.by_sample, self.by_var, self.by_step = by_sample, by_var, by_step\n",
    "        drop_axes = []\n",
    "        if by_sample: drop_axes.append(0)\n",
    "        if by_var: drop_axes.append(1)\n",
    "        if by_step: drop_axes.append(2)\n",
    "        self.axes = tuple([ax for ax in (0, 1, 2) if ax not in drop_axes])\n",
    "        if by_var and is_listy(by_var):\n",
    "            self.list_axes = tuple([ax for ax in (0, 1, 2) if ax not in drop_axes]) + (1,)\n",
    "        self.use_single_batch = use_single_batch\n",
    "        self.verbose = verbose\n",
    "        if self.mean is not None or self.std is not None:\n",
    "            pv(f'{self.__class__.__name__} mean={self.mean}, std={self.std}, by_sample={self.by_sample}, by_var={self.by_var}, by_step={self.by_step}\\n', \n",
    "               self.verbose)\n",
    "\n",
    "    @classmethod\n",
    "    def from_stats(cls, mean, std): return cls(mean, std)\n",
    "\n",
    "    def setups(self, dl: DataLoader):\n",
    "        if self._setup:\n",
    "            if not self.use_single_batch:\n",
    "                o = dl.dataset.__getitem__([slice(None)])[0]\n",
    "            else:\n",
    "                o, *_ = dl.one_batch()\n",
    "            if self.by_var and is_listy(self.by_var):\n",
    "                shape = torch.mean(o, dim=self.axes, keepdim=self.axes!=()).shape\n",
    "                mean = torch.zeros(*shape, device=o.device)\n",
    "                std = torch.ones(*shape, device=o.device)\n",
    "                for v in self.by_var:\n",
    "                    if not is_listy(v): v = [v]\n",
    "                    mean[:, v] = torch_nanmean(o[:, v], dim=self.axes if len(v) == 1 else self.list_axes, keepdim=True)\n",
    "                    std[:, v] = torch.clamp_min(torch_nanstd(o[:, v], dim=self.axes if len(v) == 1 else self.list_axes, keepdim=True), self.eps)\n",
    "            else:\n",
    "                mean = torch_nanmean(o, dim=self.axes, keepdim=self.axes!=())\n",
    "                std = torch.clamp_min(torch_nanstd(o, dim=self.axes, keepdim=self.axes!=()), self.eps)\n",
    "            self.mean, self.std = mean, std\n",
    "            if len(self.mean.shape) == 0:\n",
    "                pv(f'{self.__class__.__name__} mean={self.mean}, std={self.std}, by_sample={self.by_sample}, by_var={self.by_var}, by_step={self.by_step}\\n',\n",
    "                   self.verbose)\n",
    "            else:\n",
    "                pv(f'{self.__class__.__name__} mean shape={self.mean.shape}, std shape={self.std.shape}, by_sample={self.by_sample}, by_var={self.by_var}, by_step={self.by_step}\\n',\n",
    "                   self.verbose)\n",
    "            self._setup = False\n",
    "        elif self.by_sample: self.mean, self.std = torch.zeros(1), torch.ones(1)\n",
    "\n",
    "    def encodes(self, o:TSTensor):\n",
    "        if self.by_sample:\n",
    "            if self.by_var and is_listy(self.by_var):\n",
    "                shape = torch.mean(o, dim=self.axes, keepdim=self.axes!=()).shape\n",
    "                mean = torch.zeros(*shape, device=o.device)\n",
    "                std = torch.ones(*shape, device=o.device)\n",
    "                for v in self.by_var:\n",
    "                    if not is_listy(v): v = [v]\n",
    "                    mean[:, v] = torch_nanmean(o[:, v], dim=self.axes if len(v) == 1 else self.list_axes, keepdim=True)\n",
    "                    std[:, v] = torch.clamp_min(torch_nanstd(o[:, v], dim=self.axes if len(v) == 1 else self.list_axes, keepdim=True), self.eps)\n",
    "            else:\n",
    "                mean = torch_nanmean(o, dim=self.axes, keepdim=self.axes!=())\n",
    "                std = torch.clamp_min(torch_nanstd(o, dim=self.axes, keepdim=self.axes!=()), self.eps)\n",
    "            self.mean, self.std = mean, std\n",
    "        return (o - self.mean) / self.std\n",
    "\n",
    "    def decodes(self, o:TSTensor):\n",
    "        if self.mean is None or self.std is None: return o\n",
    "        return o * self.std + self.mean\n",
    "\n",
    "    def __repr__(self): return f'{self.__class__.__name__}(by_sample={self.by_sample}, by_var={self.by_var}, by_step={self.by_step})'"
   ]
  },
  {
   "cell_type": "code",
   "execution_count": null,
   "metadata": {},
   "outputs": [],
   "source": [
    "batch_tfms=[TSStandardize(by_sample=True, by_var=False, verbose=True)]\n",
    "dls = TSDataLoaders.from_dsets(dsets.train, dsets.valid, bs=128, num_workers=0, batch_tfms=batch_tfms)\n",
    "xb, yb = next(iter(dls.train))\n",
    "test_close(xb.mean(), 0, eps=1e-1)\n",
    "test_close(xb.std(), 1, eps=1e-1)"
   ]
  },
  {
   "cell_type": "code",
   "execution_count": null,
   "metadata": {},
   "outputs": [],
   "source": [
    "from tsai.data.validation import TimeSplitter\n",
    "X_nan = np.random.rand(100, 5, 10)\n",
    "idxs = np.random.choice(len(X_nan), int(len(X_nan)*.5), False)\n",
    "X_nan[idxs, 0] = float('nan')\n",
    "idxs = np.random.choice(len(X_nan), int(len(X_nan)*.5), False)\n",
    "X_nan[idxs, 1, -10:] = float('nan')\n",
    "batch_tfms = TSStandardize(by_var=True)\n",
    "dls = get_ts_dls(X_nan, batch_tfms=batch_tfms, splits=TimeSplitter(show_plot=False)(range_of(X_nan)))\n",
    "test_eq(torch.isnan(dls.after_batch[0].mean).sum(), 0)\n",
    "test_eq(torch.isnan(dls.after_batch[0].std).sum(), 0)\n",
    "xb = first(dls.train)[0]\n",
    "test_ne(torch.isnan(xb).sum(), 0)\n",
    "test_ne(torch.isnan(xb).sum(), torch.isnan(xb).numel())\n",
    "batch_tfms = [TSStandardize(by_var=True), Nan2Value()]\n",
    "dls = get_ts_dls(X_nan, batch_tfms=batch_tfms, splits=TimeSplitter(show_plot=False)(range_of(X_nan)))\n",
    "xb = first(dls.train)[0]\n",
    "test_eq(torch.isnan(xb).sum(), 0)"
   ]
  },
  {
   "cell_type": "code",
   "execution_count": null,
   "metadata": {},
   "outputs": [],
   "source": [
    "batch_tfms=[TSStandardize(by_sample=True, by_var=False, verbose=False)]\n",
    "dls = TSDataLoaders.from_dsets(dsets.train, dsets.valid, bs=128, num_workers=0, after_batch=batch_tfms)\n",
    "xb, yb = next(iter(dls.train))\n",
    "test_close(xb.mean(), 0, eps=1e-1)\n",
    "test_close(xb.std(), 1, eps=1e-1)\n",
    "xb, yb = next(iter(dls.valid))\n",
    "test_close(xb.mean(), 0, eps=1e-1)\n",
    "test_close(xb.std(), 1, eps=1e-1)"
   ]
  },
  {
   "cell_type": "code",
   "execution_count": null,
   "metadata": {},
   "outputs": [],
   "source": [
    "tfms = [None, TSClassification()]\n",
    "batch_tfms = TSStandardize(by_sample=True)\n",
    "dls = get_ts_dls(X, y, splits=splits, tfms=tfms, batch_tfms=batch_tfms, bs=[64, 128], inplace=True)\n",
    "xb, yb = dls.train.one_batch()\n",
    "test_close(xb.mean(), 0, eps=1e-1)\n",
    "test_close(xb.std(), 1, eps=1e-1)\n",
    "xb, yb = dls.valid.one_batch()\n",
    "test_close(xb.mean(), 0, eps=1e-1)\n",
    "test_close(xb.std(), 1, eps=1e-1)"
   ]
  },
  {
   "cell_type": "code",
   "execution_count": null,
   "metadata": {},
   "outputs": [],
   "source": [
    "tfms = [None, TSClassification()]\n",
    "batch_tfms = TSStandardize(by_sample=True, by_var=False, verbose=False)\n",
    "dls = get_ts_dls(X, y, splits=splits, tfms=tfms, batch_tfms=batch_tfms, bs=[64, 128], inplace=False)\n",
    "xb, yb = dls.train.one_batch()\n",
    "test_close(xb.mean(), 0, eps=1e-1)\n",
    "test_close(xb.std(), 1, eps=1e-1)\n",
    "xb, yb = dls.valid.one_batch()\n",
    "test_close(xb.mean(), 0, eps=1e-1)\n",
    "test_close(xb.std(), 1, eps=1e-1)"
   ]
  },
  {
   "cell_type": "code",
   "execution_count": null,
   "metadata": {},
   "outputs": [],
   "source": [
    "#export\n",
    "\n",
    "@patch\n",
    "def mul_min(x:Union[torch.Tensor, TSTensor, NumpyTensor], axes=(), keepdim=False):\n",
    "    if axes == (): return retain_type(x.min(), x)\n",
    "    axes = reversed(sorted(axes if is_listy(axes) else [axes]))\n",
    "    min_x = x\n",
    "    for ax in axes: min_x, _ = min_x.min(ax, keepdim)\n",
    "    return retain_type(min_x, x)\n",
    "\n",
    "\n",
    "@patch\n",
    "def mul_max(x:Union[torch.Tensor, TSTensor, NumpyTensor], axes=(), keepdim=False):\n",
    "    if axes == (): return retain_type(x.max(), x)\n",
    "    axes = reversed(sorted(axes if is_listy(axes) else [axes]))\n",
    "    max_x = x\n",
    "    for ax in axes: max_x, _ = max_x.max(ax, keepdim)\n",
    "    return retain_type(max_x, x)\n",
    "\n",
    "\n",
    "class TSNormalize(Transform):\n",
    "    \"Normalizes batch of type `TSTensor`\"\n",
    "    parameters, order = L('min', 'max'), 90\n",
    "    _setup = True # indicates it requires set up\n",
    "    def __init__(self, min=None, max=None, range=(-1, 1), by_sample=False, by_var=False, by_step=False, clip_values=True, \n",
    "                 use_single_batch=True, verbose=False, **kwargs):\n",
    "        super().__init__(**kwargs)\n",
    "        self.min = tensor(min) if min is not None else None\n",
    "        self.max = tensor(max) if max is not None else None\n",
    "        self._setup = (self.min is None and self.max is None) and not by_sample\n",
    "        self.range_min, self.range_max = range\n",
    "        self.by_sample, self.by_var, self.by_step = by_sample, by_var, by_step\n",
    "        drop_axes = []\n",
    "        if by_sample: drop_axes.append(0)\n",
    "        if by_var: drop_axes.append(1)\n",
    "        if by_step: drop_axes.append(2)\n",
    "        self.axes = tuple([ax for ax in (0, 1, 2) if ax not in drop_axes])\n",
    "        if by_var and is_listy(by_var):\n",
    "            self.list_axes = tuple([ax for ax in (0, 1, 2) if ax not in drop_axes]) + (1,)\n",
    "        self.clip_values = clip_values\n",
    "        self.use_single_batch = use_single_batch\n",
    "        self.verbose = verbose\n",
    "        if self.min is not None or self.max is not None:\n",
    "            pv(f'{self.__class__.__name__} min={self.min}, max={self.max}, by_sample={self.by_sample}, by_var={self.by_var}, by_step={self.by_step}\\n', self.verbose)\n",
    "            \n",
    "    @classmethod\n",
    "    def from_stats(cls, min, max, range_min=0, range_max=1): return cls(min, max, range_min, range_max)\n",
    "\n",
    "    def setups(self, dl: DataLoader):\n",
    "        if self._setup:\n",
    "            if not self.use_single_batch:\n",
    "                o = dl.dataset.__getitem__([slice(None)])[0]\n",
    "            else:\n",
    "                o, *_ = dl.one_batch()\n",
    "            if self.by_var and is_listy(self.by_var):\n",
    "                shape = torch.mean(o, dim=self.axes, keepdim=self.axes!=()).shape\n",
    "                _min = torch.zeros(*shape, device=o.device) + self.range_min\n",
    "                _max = torch.zeros(*shape, device=o.device) + self.range_max\n",
    "                for v in self.by_var:\n",
    "                    if not is_listy(v): v = [v]\n",
    "                    _min[:, v] = o[:, v].mul_min(self.axes if len(v) == 1 else self.list_axes, keepdim=self.axes!=())\n",
    "                    _max[:, v] = o[:, v].mul_max(self.axes if len(v) == 1 else self.list_axes, keepdim=self.axes!=())\n",
    "            else:\n",
    "                _min, _max = o.mul_min(self.axes, keepdim=self.axes!=()), o.mul_max(self.axes, keepdim=self.axes!=())\n",
    "            self.min, self.max = _min, _max\n",
    "            if len(self.min.shape) == 0: \n",
    "                pv(f'{self.__class__.__name__} min={self.min}, max={self.max}, by_sample={self.by_sample}, by_var={self.by_var}, by_step={self.by_step}\\n', \n",
    "                   self.verbose)\n",
    "            else:\n",
    "                pv(f'{self.__class__.__name__} min shape={self.min.shape}, max shape={self.max.shape}, by_sample={self.by_sample}, by_var={self.by_var}, by_step={self.by_step}\\n', \n",
    "                   self.verbose)\n",
    "            self._setup = False\n",
    "        elif self.by_sample: self.min, self.max = -torch.ones(1), torch.ones(1)\n",
    "\n",
    "    def encodes(self, o:TSTensor): \n",
    "        if self.by_sample: \n",
    "            if self.by_var and is_listy(self.by_var):\n",
    "                shape = torch.mean(o, dim=self.axes, keepdim=self.axes!=()).shape\n",
    "                _min = torch.zeros(*shape, device=o.device) + self.range_min\n",
    "                _max = torch.ones(*shape, device=o.device) + self.range_max\n",
    "                for v in self.by_var:\n",
    "                    if not is_listy(v): v = [v]\n",
    "                    _min[:, v] = o[:, v].mul_min(self.axes, keepdim=self.axes!=())\n",
    "                    _max[:, v] = o[:, v].mul_max(self.axes, keepdim=self.axes!=())\n",
    "            else:\n",
    "                _min, _max = o.mul_min(self.axes, keepdim=self.axes!=()), o.mul_max(self.axes, keepdim=self.axes!=())\n",
    "            self.min, self.max = _min, _max\n",
    "        output = ((o - self.min) / (self.max - self.min)) * (self.range_max - self.range_min) + self.range_min\n",
    "        if self.clip_values:\n",
    "            if self.by_var and is_listy(self.by_var):\n",
    "                for v in self.by_var:\n",
    "                    if not is_listy(v): v = [v]\n",
    "                    output[:, v] = torch.clamp(output[:, v], self.range_min, self.range_max)\n",
    "            else:\n",
    "                output = torch.clamp(output, self.range_min, self.range_max)\n",
    "        return output\n",
    "    \n",
    "    def __repr__(self): return f'{self.__class__.__name__}(by_sample={self.by_sample}, by_var={self.by_var}, by_step={self.by_step})'"
   ]
  },
  {
   "cell_type": "code",
   "execution_count": null,
   "metadata": {},
   "outputs": [],
   "source": [
    "batch_tfms = [TSNormalize()]\n",
    "dls = TSDataLoaders.from_dsets(dsets.train, dsets.valid, bs=128, num_workers=0, after_batch=batch_tfms)\n",
    "xb, yb = next(iter(dls.train))\n",
    "assert xb.max() <= 1\n",
    "assert xb.min() >= -1"
   ]
  },
  {
   "cell_type": "code",
   "execution_count": null,
   "metadata": {},
   "outputs": [],
   "source": [
    "batch_tfms=[TSNormalize(by_sample=True, by_var=False, verbose=False)]\n",
    "dls = TSDataLoaders.from_dsets(dsets.train, dsets.valid, bs=128, num_workers=0, after_batch=batch_tfms)\n",
    "xb, yb = next(iter(dls.train))\n",
    "assert xb.max() <= 1\n",
    "assert xb.min() >= -1"
   ]
  },
  {
   "cell_type": "code",
   "execution_count": null,
   "metadata": {},
   "outputs": [],
   "source": [
    "batch_tfms = [TSNormalize(by_var=[0, [1, 2]], use_single_batch=False, clip_values=False, verbose=False)]\n",
    "dls = TSDataLoaders.from_dsets(dsets.train, dsets.valid, bs=128, num_workers=0, after_batch=batch_tfms)\n",
    "xb, yb = next(iter(dls.train))\n",
    "assert xb[:, [0, 1, 2]].max() <= 1\n",
    "assert xb[:, [0, 1, 2]].min() >= -1"
   ]
  },
  {
   "cell_type": "code",
   "execution_count": null,
   "metadata": {},
   "outputs": [],
   "source": [
    "#export\n",
    "class TSClipOutliers(Transform):\n",
    "    \"Clip outliers batch of type `TSTensor` based on the IQR\"\n",
    "    parameters, order = L('min', 'max'), 90\n",
    "    _setup = True # indicates it requires set up\n",
    "    def __init__(self, min=None, max=None, by_sample=False, by_var=False, use_single_batch=False, verbose=False, **kwargs):\n",
    "        super().__init__(**kwargs)\n",
    "        self.min = tensor(min) if min is not None else tensor(-np.inf)\n",
    "        self.max = tensor(max) if max is not None else tensor(np.inf)\n",
    "        self.by_sample, self.by_var = by_sample, by_var\n",
    "        self._setup = (min is None or max is None) and not by_sample \n",
    "        if by_sample and by_var: self.axis = (2)\n",
    "        elif by_sample: self.axis = (1, 2)\n",
    "        elif by_var: self.axis = (0, 2)\n",
    "        else: self.axis = None\n",
    "        self.use_single_batch = use_single_batch\n",
    "        self.verbose = verbose\n",
    "        if min is not None or max is not None:\n",
    "            pv(f'{self.__class__.__name__} min={min}, max={max}\\n', self.verbose)\n",
    "\n",
    "    def setups(self, dl: DataLoader):\n",
    "        if self._setup:\n",
    "            if not self.use_single_batch:\n",
    "                o = dl.dataset.__getitem__([slice(None)])[0]\n",
    "            else:\n",
    "                o, *_ = dl.one_batch()\n",
    "            min, max = get_outliers_IQR(o, self.axis)\n",
    "            self.min, self.max = tensor(min), tensor(max)\n",
    "            if self.axis is None: pv(f'{self.__class__.__name__} min={self.min}, max={self.max}, by_sample={self.by_sample}, by_var={self.by_var}\\n', \n",
    "                                     self.verbose)\n",
    "            else: pv(f'{self.__class__.__name__} min={self.min.shape}, max={self.max.shape}, by_sample={self.by_sample}, by_var={self.by_var}\\n', \n",
    "                     self.verbose)\n",
    "            self._setup = False\n",
    "            \n",
    "    def encodes(self, o:TSTensor):\n",
    "        if self.axis is None: return torch.clamp(o, self.min, self.max)\n",
    "        elif self.by_sample: \n",
    "            min, max = get_outliers_IQR(o, axis=self.axis)\n",
    "            self.min, self.max = o.new(min), o.new(max)\n",
    "        return torch_clamp(o, self.min, self.max)\n",
    "    \n",
    "    def __repr__(self): return f'{self.__class__.__name__}(by_sample={self.by_sample}, by_var={self.by_var})'"
   ]
  },
  {
   "cell_type": "code",
   "execution_count": null,
   "metadata": {},
   "outputs": [
    {
     "name": "stdout",
     "output_type": "stream",
     "text": [
      "TSClipOutliers min=-1, max=1\n",
      "\n"
     ]
    }
   ],
   "source": [
    "batch_tfms=[TSClipOutliers(-1, 1, verbose=True)]\n",
    "dls = TSDataLoaders.from_dsets(dsets.train, dsets.valid, bs=128, num_workers=0, after_batch=batch_tfms)\n",
    "xb, yb = next(iter(dls.train))\n",
    "assert xb.max() <= 1\n",
    "assert xb.min() >= -1\n",
    "test_close(xb.min(), -1, eps=1e-1)\n",
    "test_close(xb.max(), 1, eps=1e-1)\n",
    "xb, yb = next(iter(dls.valid))\n",
    "test_close(xb.min(), -1, eps=1e-1)\n",
    "test_close(xb.max(), 1, eps=1e-1)"
   ]
  },
  {
   "cell_type": "code",
   "execution_count": null,
   "metadata": {},
   "outputs": [],
   "source": [
    "# export\n",
    "class TSClip(Transform):\n",
    "    \"Clip  batch of type `TSTensor`\"\n",
    "    parameters, order = L('min', 'max'), 90\n",
    "    def __init__(self, min=-6, max=6, **kwargs):\n",
    "        super().__init__(**kwargs)\n",
    "        self.min = torch.tensor(min)\n",
    "        self.max = torch.tensor(max)\n",
    "\n",
    "    def encodes(self, o:TSTensor):\n",
    "        return torch.clamp(o, self.min, self.max)\n",
    "    def __repr__(self): return f'{self.__class__.__name__}(min={self.min}, max={self.max})'"
   ]
  },
  {
   "cell_type": "code",
   "execution_count": null,
   "metadata": {},
   "outputs": [],
   "source": [
    "t = TSTensor(torch.randn(10, 20, 100)*10)\n",
    "test_le(TSClip()(t).max().item(), 6)\n",
    "test_ge(TSClip()(t).min().item(), -6)"
   ]
  },
  {
   "cell_type": "code",
   "execution_count": null,
   "metadata": {},
   "outputs": [],
   "source": [
    "#export\n",
    "class TSSelfMissingness(Transform):\n",
    "    \"Applies missingness from samples in a batch to random samples in the batch for selected variables\"\n",
    "    order = 90\n",
    "    def __init__(self, sel_vars=None, **kwargs):\n",
    "        self.sel_vars = sel_vars\n",
    "        super().__init__(**kwargs)\n",
    "\n",
    "    def encodes(self, o:TSTensor):\n",
    "        if self.sel_vars is not None: \n",
    "            mask = rotate_axis0(torch.isnan(o[:, self.sel_vars]))\n",
    "            o[:, self.sel_vars] = o[:, self.sel_vars].masked_fill(mask, np.nan)\n",
    "        else:\n",
    "            mask = rotate_axis0(torch.isnan(o))\n",
    "            o.masked_fill_(mask, np.nan)\n",
    "        return o"
   ]
  },
  {
   "cell_type": "code",
   "execution_count": null,
   "metadata": {},
   "outputs": [],
   "source": [
    "t = TSTensor(torch.randn(10, 20, 100))\n",
    "t[t>.8] = np.nan\n",
    "t2 = TSSelfMissingness()(t.clone())\n",
    "t3 = TSSelfMissingness(sel_vars=[0,3,5,7])(t.clone())\n",
    "assert (torch.isnan(t).sum() < torch.isnan(t2).sum()) and (torch.isnan(t2).sum() >  torch.isnan(t3).sum())"
   ]
  },
  {
   "cell_type": "code",
   "execution_count": null,
   "metadata": {},
   "outputs": [],
   "source": [
    "#export\n",
    "class TSRobustScale(Transform):\n",
    "    r\"\"\"This Scaler removes the median and scales the data according to the quantile range (defaults to IQR: Interquartile Range)\"\"\"\n",
    "    parameters, order = L('median', 'iqr'), 90\n",
    "    _setup = True # indicates it requires set up\n",
    "    def __init__(self, median=None, iqr=None, quantile_range=(25.0, 75.0), use_single_batch=True, eps=1e-8, verbose=False, **kwargs):\n",
    "        super().__init__(**kwargs)\n",
    "        self.median = tensor(median) if median is not None else None\n",
    "        self.iqr = tensor(iqr) if iqr is not None else None\n",
    "        self._setup = median is None or iqr is None\n",
    "        self.use_single_batch = use_single_batch\n",
    "        self.eps = eps\n",
    "        self.verbose = verbose\n",
    "        self.quantile_range = quantile_range\n",
    "            \n",
    "    def setups(self, dl: DataLoader):\n",
    "        if self._setup:\n",
    "            if not self.use_single_batch:\n",
    "                o = dl.dataset.__getitem__([slice(None)])[0]\n",
    "            else:\n",
    "                o, *_ = dl.one_batch()\n",
    "\n",
    "            new_o = o.permute(1,0,2).flatten(1)\n",
    "            median = get_percentile(new_o, 50, axis=1)\n",
    "            iqrmin, iqrmax = get_outliers_IQR(new_o, axis=1, quantile_range=self.quantile_range)\n",
    "            self.median = median.unsqueeze(0)\n",
    "            self.iqr = torch.clamp_min((iqrmax - iqrmin).unsqueeze(0), self.eps)\n",
    "            \n",
    "            pv(f'{self.__class__.__name__} median={self.median.shape} iqr={self.iqr.shape}', self.verbose)\n",
    "            self._setup = False\n",
    "        else: \n",
    "            if self.median is None: self.median = torch.zeros(1, device=dl.device)\n",
    "            if self.iqr is None: self.iqr = torch.ones(1, device=dl.device)\n",
    "\n",
    "            \n",
    "    def encodes(self, o:TSTensor):\n",
    "        return (o - self.median) / self.iqr\n",
    "\n",
    "    def __repr__(self): return f'{self.__class__.__name__}(quantile_range={self.quantile_range}, use_single_batch={self.use_single_batch})'"
   ]
  },
  {
   "cell_type": "code",
   "execution_count": null,
   "metadata": {},
   "outputs": [
    {
     "name": "stdout",
     "output_type": "stream",
     "text": [
      "TSRobustScale median=torch.Size([1, 24, 1]) iqr=torch.Size([1, 24, 1])\n"
     ]
    },
    {
     "data": {
      "text/plain": [
       "TSTensor([-2.2737786769866943], device=cpu)"
      ]
     },
     "execution_count": null,
     "metadata": {},
     "output_type": "execute_result"
    }
   ],
   "source": [
    "batch_tfms = TSRobustScale(verbose=True, use_single_batch=False)\n",
    "dls = TSDataLoaders.from_dsets(dsets.train, dsets.valid, batch_tfms=batch_tfms, num_workers=0)\n",
    "xb, yb = next(iter(dls.train))\n",
    "xb.min()"
   ]
  },
  {
   "cell_type": "code",
   "execution_count": null,
   "metadata": {},
   "outputs": [],
   "source": [
    "#export\n",
    "class TSRandomStandardize(Transform):\n",
    "    r\"\"\"Transformation that applies a randomly chosen sample mean and sample standard deviation mean from a given \n",
    "    distribution to the training set in order to improve generalization.\"\"\"\n",
    "\n",
    "    parameters, order = L('mean_dist', 'std_dist'), 90\n",
    "    def __init__(self, mean_dist, std_dist, sample_size=30, eps=1e-8, split_idx=0, **kwargs):\n",
    "        self.mean_dist, self.std_dist = torch.from_numpy(mean_dist), torch.from_numpy(std_dist)\n",
    "        self.size = len(self.mean_dist)\n",
    "        self.sample_size = sample_size\n",
    "        self.eps = eps\n",
    "        super().__init__(split_idx=split_idx, **kwargs)\n",
    "    def encodes(self, o:TSTensor):\n",
    "        rand_idxs = np.random.choice(self.size, (self.sample_size or 1) * o.shape[0])\n",
    "        mean = torch.stack(torch.split(self.mean_dist[rand_idxs], o.shape[0])).mean(0)\n",
    "        std  = torch.clamp(torch.stack(torch.split(self.std_dist [rand_idxs], o.shape[0])).mean(0), self.eps)\n",
    "        return (o - mean) / std"
   ]
  },
  {
   "cell_type": "code",
   "execution_count": null,
   "metadata": {},
   "outputs": [],
   "source": [
    "#export\n",
    "class TSDiff(Transform):\n",
    "    \"Differences batch of type `TSTensor`\"\n",
    "    order = 90\n",
    "    def __init__(self, lag=1, pad=True, **kwargs):\n",
    "        super().__init__(**kwargs)\n",
    "        self.lag, self.pad = lag, pad\n",
    "\n",
    "    def encodes(self, o:TSTensor): \n",
    "        return torch_diff(o, lag=self.lag, pad=self.pad)\n",
    "    \n",
    "    def __repr__(self): return f'{self.__class__.__name__}(lag={self.lag}, pad={self.pad})'"
   ]
  },
  {
   "cell_type": "code",
   "execution_count": null,
   "metadata": {},
   "outputs": [],
   "source": [
    "t = TSTensor(torch.arange(24).reshape(2,3,4))\n",
    "test_eq(TSDiff()(t)[..., 1:].float().mean(), 1)\n",
    "test_eq(TSDiff(lag=2, pad=False)(t).float().mean(), 2)"
   ]
  },
  {
   "cell_type": "code",
   "execution_count": null,
   "metadata": {},
   "outputs": [],
   "source": [
    "#export\n",
    "class TSLog(Transform):\n",
    "    \"Log transforms batch of type `TSTensor` + 1. Accepts positive and negative numbers\"\n",
    "    order = 90\n",
    "    def __init__(self, ex=None, **kwargs):\n",
    "        self.ex = ex\n",
    "        super().__init__(**kwargs)\n",
    "    def encodes(self, o:TSTensor):\n",
    "        output = torch.zeros_like(o)\n",
    "        output[o > 0] = torch.log1p(o[o > 0])\n",
    "        output[o < 0] = -torch.log1p(torch.abs(o[o < 0]))\n",
    "        if self.ex is not None: output[...,self.ex,:] = o[...,self.ex,:]\n",
    "        return output\n",
    "    def decodes(self, o:TSTensor):\n",
    "        output = torch.zeros_like(o)\n",
    "        output[o > 0] = torch.exp(o[o > 0]) - 1\n",
    "        output[o < 0] = -torch.exp(torch.abs(o[o < 0])) + 1\n",
    "        if self.ex is not None: output[...,self.ex,:] = o[...,self.ex,:]\n",
    "        return output\n",
    "    def __repr__(self): return f'{self.__class__.__name__}()'"
   ]
  },
  {
   "cell_type": "code",
   "execution_count": null,
   "metadata": {},
   "outputs": [],
   "source": [
    "t = TSTensor(torch.rand(2,3,4)) * 2 - 1 \n",
    "tfm = TSLog()\n",
    "enc_t = tfm(t)\n",
    "test_ne(enc_t, t)\n",
    "test_close(tfm.decodes(enc_t).data, t.data)"
   ]
  },
  {
   "cell_type": "code",
   "execution_count": null,
   "metadata": {},
   "outputs": [],
   "source": [
    "#export\n",
    "class TSCyclicalPosition(Transform):\n",
    "    \"\"\"Concatenates the position along the sequence as 2 additional variables (sine and cosine)\n",
    "    \n",
    "        Args:\n",
    "            magnitude: added for compatibility. It's not used.\n",
    "    \"\"\"\n",
    "    order = 90\n",
    "    def __init__(self, magnitude=None, **kwargs): \n",
    "        super().__init__(**kwargs)\n",
    "\n",
    "    def encodes(self, o: TSTensor): \n",
    "        bs,_,seq_len = o.shape\n",
    "        sin, cos = sincos_encoding(seq_len, device=o.device)\n",
    "        output = torch.cat([o, sin.reshape(1,1,-1).repeat(bs,1,1), cos.reshape(1,1,-1).repeat(bs,1,1)], 1)\n",
    "        return output"
   ]
  },
  {
   "cell_type": "code",
   "execution_count": null,
   "metadata": {},
   "outputs": [
    {
     "data": {
      "image/png": "[encoded data removed]",
      "text/plain": [
       "<Figure size 432x288 with 1 Axes>"
      ]
     },
     "metadata": {
      "needs_background": "light"
     },
     "output_type": "display_data"
    }
   ],
   "source": [
    "bs, c_in, seq_len = 1,3,100\n",
    "t = TSTensor(torch.rand(bs, c_in, seq_len))\n",
    "enc_t = TSCyclicalPosition()(t)\n",
    "test_ne(enc_t, t)\n",
    "assert t.shape[1] == enc_t.shape[1] - 2\n",
    "plt.plot(enc_t[0, -2:].cpu().numpy().T)\n",
    "plt.show()"
   ]
  },
  {
   "cell_type": "code",
   "execution_count": null,
   "metadata": {},
   "outputs": [],
   "source": [
    "#export\n",
    "class TSLinearPosition(Transform):\n",
    "    \"\"\"Concatenates the position along the sequence as 1 additional variable\n",
    "    \n",
    "        Args:\n",
    "            magnitude: added for compatibility. It's not used.\n",
    "    \"\"\"\n",
    "\n",
    "    order = 90\n",
    "    def __init__(self, magnitude=None, lin_range=(-1,1), **kwargs): \n",
    "        self.lin_range = lin_range\n",
    "        super().__init__(**kwargs)\n",
    "\n",
    "    def encodes(self, o: TSTensor): \n",
    "        bs,_,seq_len = o.shape\n",
    "        lin = linear_encoding(seq_len, device=o.device, lin_range=self.lin_range)\n",
    "        output = torch.cat([o, lin.reshape(1,1,-1).repeat(bs,1,1)], 1)\n",
    "        return output"
   ]
  },
  {
   "cell_type": "code",
   "execution_count": null,
   "metadata": {},
   "outputs": [
    {
     "data": {
      "image/png": "[encoded data removed]",
      "text/plain": [
       "<Figure size 432x288 with 1 Axes>"
      ]
     },
     "metadata": {
      "needs_background": "light"
     },
     "output_type": "display_data"
    }
   ],
   "source": [
    "bs, c_in, seq_len = 1,3,100\n",
    "t = TSTensor(torch.rand(bs, c_in, seq_len))\n",
    "enc_t = TSLinearPosition()(t)\n",
    "test_ne(enc_t, t)\n",
    "assert t.shape[1] == enc_t.shape[1] - 1\n",
    "plt.plot(enc_t[0, -1].cpu().numpy().T)\n",
    "plt.show()"
   ]
  },
  {
   "cell_type": "code",
   "execution_count": null,
   "metadata": {},
   "outputs": [],
   "source": [
    "# export\n",
    "class TSPosition(Transform):\n",
    "    \"\"\"Concatenates linear and/or cyclical positions along the sequence as additional variables\"\"\"\n",
    "\n",
    "    order = 90\n",
    "    def __init__(self, cyclical=True, linear=True, magnitude=None, lin_range=(-1,1), **kwargs):\n",
    "        self.lin_range = lin_range\n",
    "        self.cyclical, self.linear = cyclical, linear\n",
    "        super().__init__(**kwargs)\n",
    "\n",
    "    def encodes(self, o: TSTensor):\n",
    "        bs,_,seq_len = o.shape\n",
    "        if self.linear:\n",
    "            lin = linear_encoding(seq_len, device=o.device, lin_range=self.lin_range)\n",
    "            o = torch.cat([o, lin.reshape(1,1,-1).repeat(bs,1,1)], 1)\n",
    "        if self.cyclical:\n",
    "            sin, cos = sincos_encoding(seq_len, device=o.device)\n",
    "            o = torch.cat([o, sin.reshape(1,1,-1).repeat(bs,1,1), cos.reshape(1,1,-1).repeat(bs,1,1)], 1)\n",
    "        return o"
   ]
  },
  {
   "cell_type": "code",
   "execution_count": null,
   "metadata": {},
   "outputs": [
    {
     "data": {
      "image/png": "[encoded data removed]",
      "text/plain": [
       "<Figure size 432x288 with 1 Axes>"
      ]
     },
     "metadata": {
      "needs_background": "light"
     },
     "output_type": "display_data"
    }
   ],
   "source": [
    "bs, c_in, seq_len = 1,3,100\n",
    "t = TSTensor(torch.rand(bs, c_in, seq_len))\n",
    "enc_t = TSPosition(cyclical=True, linear=True)(t)\n",
    "test_eq(enc_t.shape[1], 6)\n",
    "plt.plot(enc_t[0, 3:].T);"
   ]
  },
  {
   "cell_type": "code",
   "execution_count": null,
   "metadata": {},
   "outputs": [],
   "source": [
    "#export\n",
    "class TSMissingness(Transform):\n",
    "    \"\"\"Concatenates data missingness for selected features along the sequence as additional variables\"\"\"\n",
    "\n",
    "    order = 90\n",
    "    def __init__(self, feature_idxs=None, magnitude=None, **kwargs):\n",
    "        self.feature_idxs = listify(feature_idxs)\n",
    "        super().__init__(**kwargs)\n",
    "\n",
    "    def encodes(self, o: TSTensor):\n",
    "        if self.feature_idxs:\n",
    "            missingness = o[:, self.feature_idxs].isnan()\n",
    "        else:\n",
    "            missingness = o.isnan()\n",
    "        return torch.cat([o, missingness], 1)"
   ]
  },
  {
   "cell_type": "code",
   "execution_count": null,
   "metadata": {},
   "outputs": [],
   "source": [
    "bs, c_in, seq_len = 1,3,100\n",
    "t = TSTensor(torch.rand(bs, c_in, seq_len))\n",
    "t[t>.5] = np.nan\n",
    "enc_t = TSMissingness(feature_idxs=[0,2])(t)\n",
    "test_eq(enc_t.shape[1], 5)\n",
    "test_eq(enc_t[:, 3:], torch.isnan(t[:, [0,2]]).float())"
   ]
  },
  {
   "cell_type": "code",
   "execution_count": null,
   "metadata": {},
   "outputs": [],
   "source": [
    "#export\n",
    "class TSPositionGaps(Transform):\n",
    "    \"\"\"Concatenates gaps for selected features along the sequence as additional variables\"\"\"\n",
    "\n",
    "    order = 90\n",
    "    def __init__(self, feature_idxs=None, magnitude=None, forward=True, backward=False, nearest=False, normalize=True, **kwargs):\n",
    "        self.feature_idxs = listify(feature_idxs)\n",
    "        self.gap_fn = partial(get_gaps, forward=forward, backward=backward, nearest=nearest, normalize=normalize)\n",
    "        super().__init__(**kwargs)\n",
    "\n",
    "    def encodes(self, o: TSTensor):\n",
    "        if self.feature_idxs:\n",
    "            gaps = self.gap_fn(o[:, self.feature_idxs])\n",
    "        else:\n",
    "            gaps = self.gap_fn(o)\n",
    "        return torch.cat([o, gaps], 1)\n"
   ]
  },
  {
   "cell_type": "code",
   "execution_count": null,
   "metadata": {},
   "outputs": [
    {
     "data": {
      "text/plain": [
       "tensor([[[4.2478e-03,        nan,        nan,        nan,        nan,\n",
       "                 nan, 4.8765e-01, 1.7860e-01],\n",
       "         [2.5971e-02, 3.6089e-01, 4.2248e-01, 3.7459e-01,        nan,\n",
       "          1.5059e-01,        nan,        nan],\n",
       "         [4.3894e-01,        nan,        nan,        nan,        nan,\n",
       "          1.9110e-01,        nan,        nan],\n",
       "         [1.0000e+00, 1.0000e+00, 2.0000e+00, 3.0000e+00, 4.0000e+00,\n",
       "          5.0000e+00, 6.0000e+00, 1.0000e+00],\n",
       "         [1.0000e+00, 1.0000e+00, 2.0000e+00, 3.0000e+00, 4.0000e+00,\n",
       "          5.0000e+00, 1.0000e+00, 2.0000e+00],\n",
       "         [6.0000e+00, 5.0000e+00, 4.0000e+00, 3.0000e+00, 2.0000e+00,\n",
       "          1.0000e+00, 1.0000e+00, 1.0000e+00],\n",
       "         [5.0000e+00, 4.0000e+00, 3.0000e+00, 2.0000e+00, 1.0000e+00,\n",
       "          3.0000e+00, 2.0000e+00, 1.0000e+00],\n",
       "         [1.0000e+00, 1.0000e+00, 2.0000e+00, 3.0000e+00, 2.0000e+00,\n",
       "          1.0000e+00, 1.0000e+00, 1.0000e+00],\n",
       "         [1.0000e+00, 1.0000e+00, 2.0000e+00, 2.0000e+00, 1.0000e+00,\n",
       "          3.0000e+00, 1.0000e+00, 1.0000e+00]]])"
      ]
     },
     "execution_count": null,
     "metadata": {},
     "output_type": "execute_result"
    }
   ],
   "source": [
    "bs, c_in, seq_len = 1,3,8\n",
    "t = TSTensor(torch.rand(bs, c_in, seq_len))\n",
    "t[t>.5] = np.nan\n",
    "enc_t = TSPositionGaps(feature_idxs=[0,2], forward=True, backward=True, nearest=True, normalize=False)(t)\n",
    "test_eq(enc_t.shape[1], 9)\n",
    "enc_t.data"
   ]
  },
  {
   "cell_type": "code",
   "execution_count": null,
   "metadata": {},
   "outputs": [],
   "source": [
    "#export\n",
    "class TSRollingMean(Transform):\n",
    "    \"\"\"Calculates the rolling mean for all/ selected features alongside the sequence\n",
    "    \n",
    "       It replaces the original values or adds additional variables (default)\n",
    "       If nan values are found, they will be filled forward and backward\"\"\"\n",
    "\n",
    "    order = 90\n",
    "    def __init__(self, feature_idxs=None, magnitude=None, window=2, replace=False, **kwargs):\n",
    "        self.feature_idxs = listify(feature_idxs)\n",
    "        self.rolling_mean_fn = partial(rolling_moving_average, window=window)\n",
    "        self.replace = replace\n",
    "        super().__init__(**kwargs)\n",
    "\n",
    "    def encodes(self, o: TSTensor):\n",
    "        if self.feature_idxs:\n",
    "            if torch.isnan(o[:, self.feature_idxs]).any():\n",
    "                o[:, self.feature_idxs] = fbfill_sequence(o[:, self.feature_idxs])\n",
    "            rolling_mean = self.rolling_mean_fn(o[:, self.feature_idxs])\n",
    "            if self.replace: \n",
    "                o[:, self.feature_idxs] = rolling_mean\n",
    "                return o\n",
    "        else:\n",
    "            if torch.isnan(o).any():\n",
    "                o = fbfill_sequence(o)\n",
    "            rolling_mean = self.rolling_mean_fn(o)\n",
    "            if self.replace: return rolling_mean\n",
    "        return torch.cat([o, rolling_mean], 1)"
   ]
  },
  {
   "cell_type": "code",
   "execution_count": null,
   "metadata": {},
   "outputs": [
    {
     "name": "stdout",
     "output_type": "stream",
     "text": [
      "tensor([[[0.2122, 0.3246, 0.3004, 0.4973, 0.1704,    nan, 0.0059,    nan],\n",
      "         [   nan,    nan, 0.2917, 0.5177, 0.2637,    nan, 0.3245, 0.2461],\n",
      "         [0.0717,    nan, 0.1573, 0.4383, 0.2078,    nan, 0.3376,    nan]]])\n",
      "tensor([[[0.2122, 0.3246, 0.3004, 0.4973, 0.1704, 0.1704, 0.0059, 0.0059],\n",
      "         [   nan,    nan, 0.2917, 0.5177, 0.2637,    nan, 0.3245, 0.2461],\n",
      "         [0.0717, 0.0717, 0.1573, 0.4383, 0.2078, 0.2078, 0.3376, 0.3376],\n",
      "         [0.2122, 0.2684, 0.2791, 0.3741, 0.3227, 0.2794, 0.1156, 0.0608],\n",
      "         [0.0717, 0.0717, 0.1002, 0.2224, 0.2678, 0.2846, 0.2511, 0.2943]]])\n",
      "tensor([[[0.2122, 0.2684, 0.2791, 0.3741, 0.3227, 0.2794, 0.1156, 0.0608],\n",
      "         [0.2917, 0.2917, 0.2917, 0.3670, 0.3577, 0.3484, 0.2840, 0.2781],\n",
      "         [0.0717, 0.0717, 0.1002, 0.2224, 0.2678, 0.2846, 0.2511, 0.2943]]])\n"
     ]
    }
   ],
   "source": [
    "bs, c_in, seq_len = 1,3,8\n",
    "t = TSTensor(torch.rand(bs, c_in, seq_len))\n",
    "t[t > .6] = np.nan\n",
    "print(t.data)\n",
    "enc_t = TSRollingMean(feature_idxs=[0,2], window=3)(t)\n",
    "test_eq(enc_t.shape[1], 5)\n",
    "print(enc_t.data)\n",
    "enc_t = TSRollingMean(window=3, replace=True)(t)\n",
    "test_eq(enc_t.shape[1], 3)\n",
    "print(enc_t.data)"
   ]
  },
  {
   "cell_type": "code",
   "execution_count": null,
   "metadata": {},
   "outputs": [],
   "source": [
    "#export\n",
    "class TSLogReturn(Transform):\n",
    "    \"Calculates log-return of batch of type `TSTensor`. For positive values only\"\n",
    "    order = 90\n",
    "    def __init__(self, lag=1, pad=True, **kwargs):\n",
    "        super().__init__(**kwargs)\n",
    "        self.lag, self.pad = lag, pad\n",
    "\n",
    "    def encodes(self, o:TSTensor):\n",
    "        return torch_diff(torch.log(o), lag=self.lag, pad=self.pad)\n",
    "\n",
    "    def __repr__(self): return f'{self.__class__.__name__}(lag={self.lag}, pad={self.pad})'"
   ]
  },
  {
   "cell_type": "code",
   "execution_count": null,
   "metadata": {},
   "outputs": [],
   "source": [
    "t = TSTensor([1,2,4,8,16,32,64,128,256]).float()\n",
    "test_eq(TSLogReturn(pad=False)(t).std(), 0)"
   ]
  },
  {
   "cell_type": "code",
   "execution_count": null,
   "metadata": {},
   "outputs": [],
   "source": [
    "#export\n",
    "class TSAdd(Transform):\n",
    "    \"Add a defined amount to each batch of type `TSTensor`.\"\n",
    "    order = 90\n",
    "    def __init__(self, add, **kwargs):\n",
    "        super().__init__(**kwargs)\n",
    "        self.add = add\n",
    "\n",
    "    def encodes(self, o:TSTensor):\n",
    "        return torch.add(o, self.add)\n",
    "    def __repr__(self): return f'{self.__class__.__name__}(lag={self.lag}, pad={self.pad})'"
   ]
  },
  {
   "cell_type": "code",
   "execution_count": null,
   "metadata": {},
   "outputs": [],
   "source": [
    "t = TSTensor([1,2,3]).float()\n",
    "test_eq(TSAdd(1)(t), TSTensor([2,3,4]).float())"
   ]
  },
  {
   "cell_type": "code",
   "execution_count": null,
   "metadata": {},
   "outputs": [],
   "source": [
    "#export\n",
    "class TSClipByVar(Transform):\n",
    "    \"\"\"Clip  batch of type `TSTensor` by variable\n",
    "    \n",
    "    Args:\n",
    "        var_min_max: list of tuples containing variable index, min value (or None) and max value (or None)\n",
    "    \"\"\"\n",
    "    order = 90\n",
    "    def __init__(self, var_min_max, **kwargs):\n",
    "        super().__init__(**kwargs)\n",
    "        self.var_min_max = var_min_max\n",
    "\n",
    "    def encodes(self, o:TSTensor):\n",
    "        for v,m,M in self.var_min_max:\n",
    "            o[:, v] = torch.clamp(o[:, v], m, M)\n",
    "        return o"
   ]
  },
  {
   "cell_type": "code",
   "execution_count": null,
   "metadata": {},
   "outputs": [],
   "source": [
    "t = TSTensor(torch.rand(16, 3, 10) * tensor([1,10,100]).reshape(1,-1,1))\n",
    "max_values = t.max(0).values.max(-1).values.data\n",
    "max_values2 = TSClipByVar([(1,None,5), (2,10,50)])(t).max(0).values.max(-1).values.data\n",
    "test_le(max_values2[1], 5)\n",
    "test_ge(max_values2[2], 10)\n",
    "test_le(max_values2[2], 50)"
   ]
  },
  {
   "cell_type": "markdown",
   "metadata": {},
   "source": [
    "# sklearn API transforms"
   ]
  },
  {
   "cell_type": "code",
   "execution_count": null,
   "metadata": {},
   "outputs": [],
   "source": [
    "#export\n",
    "from sklearn.base import BaseEstimator, TransformerMixin\n",
    "from fastai.data.transforms import CategoryMap\n",
    "from joblib import dump, load\n",
    "\n",
    "\n",
    "class TSShrinkDataFrame(BaseEstimator, TransformerMixin):\n",
    "\n",
    "    def __init__(self, columns=None, skip=[], obj2cat=True, int2uint=False, verbose=True):\n",
    "        self.columns, self.skip, self.obj2cat, self.int2uint, self.verbose = listify(columns), skip, obj2cat, int2uint, verbose\n",
    "        \n",
    "    def fit(self, X:pd.DataFrame, y=None, **fit_params):\n",
    "        assert isinstance(X, pd.DataFrame)\n",
    "        self.old_dtypes = X.dtypes            \n",
    "        if not self.columns: self.columns = X.columns\n",
    "        self.dt = df_shrink_dtypes(X[self.columns], self.skip, obj2cat=self.obj2cat, int2uint=self.int2uint)\n",
    "        return self\n",
    "        \n",
    "    def transform(self, X:pd.DataFrame, y=None, **transform_params):\n",
    "        assert isinstance(X, pd.DataFrame)\n",
    "        if self.verbose:\n",
    "            start_memory = X.memory_usage().sum() / 1024**2\n",
    "            print(f\"Memory usage of dataframe is {start_memory} MB\")\n",
    "        X[self.columns] = X[self.columns].astype(self.dt)\n",
    "        if self.verbose:\n",
    "            end_memory = X.memory_usage().sum() / 1024**2\n",
    "            print(f\"Memory usage of dataframe after reduction {end_memory} MB\")\n",
    "            print(f\"Reduced by {100 * (start_memory - end_memory) / start_memory} % \")\n",
    "        return X\n",
    "         \n",
    "    def inverse_transform(self, X):\n",
    "        assert isinstance(X, pd.DataFrame)\n",
    "        if self.verbose:\n",
    "            start_memory = X.memory_usage().sum() / 1024**2\n",
    "            print(f\"Memory usage of dataframe is {start_memory} MB\")\n",
    "        X = X.astype(self.old_dtypes)\n",
    "        if self.verbose:\n",
    "            end_memory = X.memory_usage().sum() / 1024**2\n",
    "            print(f\"Memory usage of dataframe after reduction {end_memory} MB\")\n",
    "            print(f\"Reduced by {100 * (start_memory - end_memory) / start_memory} % \")\n",
    "        return X\n"
   ]
  },
  {
   "cell_type": "code",
   "execution_count": null,
   "metadata": {},
   "outputs": [
    {
     "name": "stdout",
     "output_type": "stream",
     "text": [
      "Memory usage of dataframe is 0.000274658203125 MB\n",
      "Memory usage of dataframe after reduction 0.0001697540283203125 MB\n",
      "Reduced by 38.19444444444444 % \n"
     ]
    }
   ],
   "source": [
    "df = pd.DataFrame()\n",
    "df[\"ints64\"] = np.random.randint(0,3,10)\n",
    "df['floats64'] = np.random.rand(10)\n",
    "tfm = TSShrinkDataFrame()\n",
    "tfm.fit(df)\n",
    "df = tfm.transform(df)\n",
    "test_eq(df[\"ints64\"].dtype, \"int8\")\n",
    "test_eq(df[\"floats64\"].dtype, \"float32\")"
   ]
  },
  {
   "cell_type": "code",
   "execution_count": null,
   "metadata": {},
   "outputs": [],
   "source": [
    "#export\n",
    "class TSOneHotEncoder(BaseEstimator, TransformerMixin):\n",
    "\n",
    "    def __init__(self, columns=None, drop=True, add_na=True, dtype=np.int64):\n",
    "        self.columns = listify(columns)\n",
    "        self.drop, self.add_na, self.dtype = drop, add_na, dtype\n",
    "        \n",
    "\n",
    "    def fit(self, X:pd.DataFrame, y=None, **fit_params):\n",
    "        assert isinstance(X, pd.DataFrame)\n",
    "        if not self.columns: self.columns = X.columns\n",
    "        handle_unknown = \"ignore\" if self.add_na else \"error\"\n",
    "        self.ohe_tfm = sklearn.preprocessing.OneHotEncoder(handle_unknown=handle_unknown)\n",
    "        if len(self.columns) == 1:\n",
    "            self.ohe_tfm.fit(X[self.columns].to_numpy().reshape(-1, 1))\n",
    "        else: \n",
    "            self.ohe_tfm.fit(X[self.columns])\n",
    "        return self\n",
    "\n",
    "    def transform(self, X:pd.DataFrame, y=None, **transform_params):\n",
    "        assert isinstance(X, pd.DataFrame)\n",
    "        if len(self.columns) == 1:\n",
    "            output = self.ohe_tfm.transform(X[self.columns].to_numpy().reshape(-1, 1)).toarray().astype(self.dtype)\n",
    "        else: \n",
    "            output = self.ohe_tfm.transform(X[self.columns]).toarray().astype(self.dtype)\n",
    "        new_cols = []\n",
    "        for i,col in enumerate(self.columns): \n",
    "            for cats in self.ohe_tfm.categories_[i]:\n",
    "                new_cols.append(f\"{str(col)}_{str(cats)}\")\n",
    "        X[new_cols] = output\n",
    "        if self.drop: X = X.drop(self.columns, axis=1)\n",
    "        return X\n"
   ]
  },
  {
   "cell_type": "code",
   "execution_count": null,
   "metadata": {},
   "outputs": [],
   "source": [
    "df = pd.DataFrame()\n",
    "df[\"a\"] = np.random.randint(0,2,10)\n",
    "df[\"b\"] = np.random.randint(0,3,10)\n",
    "unique_cols = len(df[\"a\"].unique()) + len(df[\"b\"].unique())\n",
    "tfm = TSOneHotEncoder()\n",
    "tfm.fit(df)\n",
    "df = tfm.transform(df)\n",
    "test_eq(df.shape[1], unique_cols)"
   ]
  },
  {
   "cell_type": "code",
   "execution_count": null,
   "metadata": {},
   "outputs": [],
   "source": [
    "#export\n",
    "class TSCategoricalEncoder(BaseEstimator, TransformerMixin):\n",
    "\n",
    "    def __init__(self, columns=None, add_na=True):\n",
    "        self.columns = listify(columns)\n",
    "        self.add_na = add_na\n",
    "\n",
    "    def fit(self, X:pd.DataFrame, y=None, **fit_params):\n",
    "        assert isinstance(X, pd.DataFrame)\n",
    "        if not self.columns: self.columns = X.columns\n",
    "        self.cat_tfms = []\n",
    "        for column in self.columns: \n",
    "            self.cat_tfms.append(CategoryMap(X[column], add_na=self.add_na))\n",
    "        return self\n",
    "\n",
    "    def transform(self, X:pd.DataFrame, y=None, **transform_params):\n",
    "        assert isinstance(X, pd.DataFrame)\n",
    "        for cat_tfm, column in zip(self.cat_tfms, self.columns): \n",
    "            X[column] = cat_tfm.map_objs(X[column])\n",
    "        return X\n",
    "    \n",
    "    def inverse_transform(self, X):\n",
    "        assert isinstance(X, pd.DataFrame)\n",
    "        for cat_tfm, column in zip(self.cat_tfms, self.columns): \n",
    "            X[column] = cat_tfm.map_ids(X[column])\n",
    "        return X"
   ]
  },
  {
   "cell_type": "markdown",
   "metadata": {},
   "source": [
    "Stateful transforms like TSCategoricalEncoder can easily be serialized. "
   ]
  },
  {
   "cell_type": "code",
   "execution_count": null,
   "metadata": {},
   "outputs": [],
   "source": [
    "import joblib\n",
    "df = pd.DataFrame()\n",
    "df[\"a\"] = alphabet[np.random.randint(0,2,100)]\n",
    "df[\"b\"] = ALPHABET[np.random.randint(0,3,100)]\n",
    "a_unique = len(df[\"a\"].unique())\n",
    "b_unique = len(df[\"b\"].unique())\n",
    "tfm = TSCategoricalEncoder()\n",
    "tfm.fit(df)\n",
    "joblib.dump(tfm, \"data/TSCategoricalEncoder.joblib\")\n",
    "tfm = joblib.load(\"data/TSCategoricalEncoder.joblib\")\n",
    "df = tfm.transform(df)\n",
    "test_eq(df['a'].max(), a_unique)\n",
    "test_eq(df['b'].max(), b_unique)"
   ]
  },
  {
   "cell_type": "code",
   "execution_count": null,
   "metadata": {},
   "outputs": [],
   "source": [
    "#export\n",
    "default_date_attr = ['Year', 'Month', 'Week', 'Day', 'Dayofweek', 'Dayofyear', 'Is_month_end', 'Is_month_start', \n",
    "                     'Is_quarter_end', 'Is_quarter_start', 'Is_year_end', 'Is_year_start']\n",
    "\n",
    "class TSDateTimeEncoder(BaseEstimator, TransformerMixin):\n",
    "\n",
    "    def __init__(self, datetime_columns=None, prefix=None, drop=True, time=False, attr=default_date_attr):\n",
    "        self.datetime_columns = listify(datetime_columns)\n",
    "        self.prefix, self.drop, self.time, self.attr = prefix, drop, time ,attr\n",
    "        \n",
    "    def fit(self, X:pd.DataFrame, y=None, **fit_params):\n",
    "        assert isinstance(X, pd.DataFrame)\n",
    "        if self.time: self.attr = self.attr + ['Hour', 'Minute', 'Second']\n",
    "        if not self.datetime_columns:\n",
    "            self.datetime_columns = X.columns\n",
    "        self.prefixes = []\n",
    "        for dt_column in self.datetime_columns: \n",
    "            self.prefixes.append(re.sub('[Dd]ate$', '', dt_column) if self.prefix is None else self.prefix)\n",
    "        return self\n",
    "        \n",
    "    def transform(self, X:pd.DataFrame, y=None, **transform_params):\n",
    "        assert isinstance(X, pd.DataFrame)\n",
    "        \n",
    "        for dt_column,prefix in zip(self.datetime_columns,self.prefixes): \n",
    "            make_date(X, dt_column)\n",
    "            field = X[dt_column]\n",
    "\n",
    "            # Pandas removed `dt.week` in v1.1.10\n",
    "            week = field.dt.isocalendar().week.astype(field.dt.day.dtype) if hasattr(field.dt, 'isocalendar') else field.dt.week\n",
    "            for n in self.attr: X[prefix + \"_\" + n] = getattr(field.dt, n.lower()) if n != 'Week' else week\n",
    "            if self.drop: X = X.drop(self.datetime_columns, axis=1)\n",
    "        return X"
   ]
  },
  {
   "cell_type": "code",
   "execution_count": null,
   "metadata": {},
   "outputs": [
    {
     "data": {
      "text/html": [
       "<div>\n",
       "<style scoped>\n",
       "    .dataframe tbody tr th:only-of-type {\n",
       "        vertical-align: middle;\n",
       "    }\n",
       "\n",
       "    .dataframe tbody tr th {\n",
       "        vertical-align: top;\n",
       "    }\n",
       "\n",
       "    .dataframe thead th {\n",
       "        text-align: right;\n",
       "    }\n",
       "</style>\n",
       "<table border=\"1\" class=\"dataframe\">\n",
       "  <thead>\n",
       "    <tr style=\"text-align: right;\">\n",
       "      <th></th>\n",
       "      <th>_Year</th>\n",
       "      <th>_Month</th>\n",
       "      <th>_Week</th>\n",
       "      <th>_Day</th>\n",
       "      <th>_Dayofweek</th>\n",
       "      <th>_Dayofyear</th>\n",
       "      <th>_Is_month_end</th>\n",
       "      <th>_Is_month_start</th>\n",
       "      <th>_Is_quarter_end</th>\n",
       "      <th>_Is_quarter_start</th>\n",
       "      <th>_Is_year_end</th>\n",
       "      <th>_Is_year_start</th>\n",
       "    </tr>\n",
       "  </thead>\n",
       "  <tbody>\n",
       "    <tr>\n",
       "      <th>0</th>\n",
       "      <td>2022</td>\n",
       "      <td>2</td>\n",
       "      <td>8</td>\n",
       "      <td>25</td>\n",
       "      <td>4</td>\n",
       "      <td>56</td>\n",
       "      <td>False</td>\n",
       "      <td>False</td>\n",
       "      <td>False</td>\n",
       "      <td>False</td>\n",
       "      <td>False</td>\n",
       "      <td>False</td>\n",
       "    </tr>\n",
       "    <tr>\n",
       "      <th>1</th>\n",
       "      <td>2022</td>\n",
       "      <td>2</td>\n",
       "      <td>8</td>\n",
       "      <td>26</td>\n",
       "      <td>5</td>\n",
       "      <td>57</td>\n",
       "      <td>False</td>\n",
       "      <td>False</td>\n",
       "      <td>False</td>\n",
       "      <td>False</td>\n",
       "      <td>False</td>\n",
       "      <td>False</td>\n",
       "    </tr>\n",
       "  </tbody>\n",
       "</table>\n",
       "</div>"
      ],
      "text/plain": [
       "   _Year  _Month  _Week  _Day  _Dayofweek  _Dayofyear  _Is_month_end  \\\n",
       "0   2022       2      8    25           4          56          False   \n",
       "1   2022       2      8    26           5          57          False   \n",
       "\n",
       "   _Is_month_start  _Is_quarter_end  _Is_quarter_start  _Is_year_end  \\\n",
       "0            False            False              False         False   \n",
       "1            False            False              False         False   \n",
       "\n",
       "   _Is_year_start  \n",
       "0           False  \n",
       "1           False  "
      ]
     },
     "execution_count": null,
     "metadata": {},
     "output_type": "execute_result"
    }
   ],
   "source": [
    "import datetime\n",
    "df = pd.DataFrame()\n",
    "df.loc[0, \"date\"] = datetime.datetime.now()\n",
    "df.loc[1, \"date\"] = datetime.datetime.now() + pd.Timedelta(1, unit=\"D\")\n",
    "tfm = TSDateTimeEncoder()\n",
    "joblib.dump(tfm, \"data/TSDateTimeEncoder.joblib\")\n",
    "tfm = joblib.load(\"data/TSDateTimeEncoder.joblib\")\n",
    "tfm.fit_transform(df)"
   ]
  },
  {
   "cell_type": "code",
   "execution_count": null,
   "metadata": {},
   "outputs": [],
   "source": [
    "#export\n",
    "class TSMissingnessEncoder(BaseEstimator, TransformerMixin):\n",
    "\n",
    "    def __init__(self, columns=None):\n",
    "        self.columns = listify(columns)\n",
    "        \n",
    "    def fit(self, X:pd.DataFrame, y=None, **fit_params):\n",
    "        assert isinstance(X, pd.DataFrame)\n",
    "        if not self.columns: self.columns = X.columns\n",
    "        self.missing_columns = [f\"{cn}_missing\" for cn in self.columns]\n",
    "        return self\n",
    "        \n",
    "    def transform(self, X:pd.DataFrame, y=None, **transform_params):\n",
    "        assert isinstance(X, pd.DataFrame)\n",
    "        X[self.missing_columns] = X[self.columns].isnull().astype(int)\n",
    "        return X\n",
    "         \n",
    "    def inverse_transform(self, X):\n",
    "        assert isinstance(X, pd.DataFrame)\n",
    "        X.drop(self.missing_columns, axis=1, inplace=True)\n",
    "        return X"
   ]
  },
  {
   "cell_type": "code",
   "execution_count": null,
   "metadata": {},
   "outputs": [
    {
     "data": {
      "text/html": [
       "<div>\n",
       "<style scoped>\n",
       "    .dataframe tbody tr th:only-of-type {\n",
       "        vertical-align: middle;\n",
       "    }\n",
       "\n",
       "    .dataframe tbody tr th {\n",
       "        vertical-align: top;\n",
       "    }\n",
       "\n",
       "    .dataframe thead th {\n",
       "        text-align: right;\n",
       "    }\n",
       "</style>\n",
       "<table border=\"1\" class=\"dataframe\">\n",
       "  <thead>\n",
       "    <tr style=\"text-align: right;\">\n",
       "      <th></th>\n",
       "      <th>a</th>\n",
       "      <th>b</th>\n",
       "      <th>c</th>\n",
       "      <th>a_missing</th>\n",
       "      <th>b_missing</th>\n",
       "      <th>c_missing</th>\n",
       "    </tr>\n",
       "  </thead>\n",
       "  <tbody>\n",
       "    <tr>\n",
       "      <th>0</th>\n",
       "      <td>0.359862</td>\n",
       "      <td>0.659904</td>\n",
       "      <td>0.134528</td>\n",
       "      <td>0</td>\n",
       "      <td>0</td>\n",
       "      <td>0</td>\n",
       "    </tr>\n",
       "    <tr>\n",
       "      <th>1</th>\n",
       "      <td>NaN</td>\n",
       "      <td>0.775247</td>\n",
       "      <td>0.188255</td>\n",
       "      <td>1</td>\n",
       "      <td>0</td>\n",
       "      <td>0</td>\n",
       "    </tr>\n",
       "    <tr>\n",
       "      <th>2</th>\n",
       "      <td>NaN</td>\n",
       "      <td>NaN</td>\n",
       "      <td>0.021239</td>\n",
       "      <td>1</td>\n",
       "      <td>1</td>\n",
       "      <td>0</td>\n",
       "    </tr>\n",
       "    <tr>\n",
       "      <th>3</th>\n",
       "      <td>0.687643</td>\n",
       "      <td>0.531282</td>\n",
       "      <td>0.401169</td>\n",
       "      <td>0</td>\n",
       "      <td>0</td>\n",
       "      <td>0</td>\n",
       "    </tr>\n",
       "    <tr>\n",
       "      <th>4</th>\n",
       "      <td>0.324380</td>\n",
       "      <td>0.438282</td>\n",
       "      <td>0.744854</td>\n",
       "      <td>0</td>\n",
       "      <td>0</td>\n",
       "      <td>0</td>\n",
       "    </tr>\n",
       "    <tr>\n",
       "      <th>5</th>\n",
       "      <td>0.118729</td>\n",
       "      <td>0.671355</td>\n",
       "      <td>0.533379</td>\n",
       "      <td>0</td>\n",
       "      <td>0</td>\n",
       "      <td>0</td>\n",
       "    </tr>\n",
       "    <tr>\n",
       "      <th>6</th>\n",
       "      <td>0.463929</td>\n",
       "      <td>0.081524</td>\n",
       "      <td>NaN</td>\n",
       "      <td>0</td>\n",
       "      <td>0</td>\n",
       "      <td>1</td>\n",
       "    </tr>\n",
       "    <tr>\n",
       "      <th>7</th>\n",
       "      <td>0.067968</td>\n",
       "      <td>0.442355</td>\n",
       "      <td>0.789096</td>\n",
       "      <td>0</td>\n",
       "      <td>0</td>\n",
       "      <td>0</td>\n",
       "    </tr>\n",
       "    <tr>\n",
       "      <th>8</th>\n",
       "      <td>0.493748</td>\n",
       "      <td>0.616366</td>\n",
       "      <td>NaN</td>\n",
       "      <td>0</td>\n",
       "      <td>0</td>\n",
       "      <td>1</td>\n",
       "    </tr>\n",
       "    <tr>\n",
       "      <th>9</th>\n",
       "      <td>NaN</td>\n",
       "      <td>0.005298</td>\n",
       "      <td>0.627628</td>\n",
       "      <td>1</td>\n",
       "      <td>0</td>\n",
       "      <td>0</td>\n",
       "    </tr>\n",
       "  </tbody>\n",
       "</table>\n",
       "</div>"
      ],
      "text/plain": [
       "          a         b         c  a_missing  b_missing  c_missing\n",
       "0  0.359862  0.659904  0.134528          0          0          0\n",
       "1       NaN  0.775247  0.188255          1          0          0\n",
       "2       NaN       NaN  0.021239          1          1          0\n",
       "3  0.687643  0.531282  0.401169          0          0          0\n",
       "4  0.324380  0.438282  0.744854          0          0          0\n",
       "5  0.118729  0.671355  0.533379          0          0          0\n",
       "6  0.463929  0.081524       NaN          0          0          1\n",
       "7  0.067968  0.442355  0.789096          0          0          0\n",
       "8  0.493748  0.616366       NaN          0          0          1\n",
       "9       NaN  0.005298  0.627628          1          0          0"
      ]
     },
     "execution_count": null,
     "metadata": {},
     "output_type": "execute_result"
    }
   ],
   "source": [
    "data = np.random.rand(10,3)\n",
    "data[data > .8] = np.nan\n",
    "df = pd.DataFrame(data, columns=[\"a\", \"b\", \"c\"])\n",
    "tfm = TSMissingnessEncoder()\n",
    "tfm.fit(df)\n",
    "joblib.dump(tfm, \"data/TSMissingnessEncoder.joblib\")\n",
    "tfm = joblib.load(\"data/TSMissingnessEncoder.joblib\")\n",
    "df = tfm.transform(df)\n",
    "df"
   ]
  },
  {
   "cell_type": "markdown",
   "metadata": {},
   "source": [
    "## y transforms"
   ]
  },
  {
   "cell_type": "code",
   "execution_count": null,
   "metadata": {},
   "outputs": [],
   "source": [
    "# export\n",
    "class Preprocessor():\n",
    "    def __init__(self, preprocessor, **kwargs): \n",
    "        self.preprocessor = preprocessor(**kwargs)\n",
    "        \n",
    "    def fit(self, o): \n",
    "        if isinstance(o, pd.Series): o = o.values.reshape(-1,1)\n",
    "        else: o = o.reshape(-1,1)\n",
    "        self.fit_preprocessor = self.preprocessor.fit(o)\n",
    "        return self.fit_preprocessor\n",
    "    \n",
    "    def transform(self, o, copy=True):\n",
    "        if type(o) in [float, int]: o = array([o]).reshape(-1,1)\n",
    "        o_shape = o.shape\n",
    "        if isinstance(o, pd.Series): o = o.values.reshape(-1,1)\n",
    "        else: o = o.reshape(-1,1)\n",
    "        output = self.fit_preprocessor.transform(o).reshape(*o_shape)\n",
    "        if isinstance(o, torch.Tensor): return o.new(output)\n",
    "        return output\n",
    "    \n",
    "    def inverse_transform(self, o, copy=True):\n",
    "        o_shape = o.shape\n",
    "        if isinstance(o, pd.Series): o = o.values.reshape(-1,1)\n",
    "        else: o = o.reshape(-1,1)\n",
    "        output = self.fit_preprocessor.inverse_transform(o).reshape(*o_shape)\n",
    "        if isinstance(o, torch.Tensor): return o.new(output)\n",
    "        return output\n",
    "\n",
    "\n",
    "StandardScaler = partial(sklearn.preprocessing.StandardScaler)\n",
    "setattr(StandardScaler, '__name__', 'StandardScaler')\n",
    "RobustScaler = partial(sklearn.preprocessing.RobustScaler)\n",
    "setattr(RobustScaler, '__name__', 'RobustScaler')\n",
    "Normalizer = partial(sklearn.preprocessing.MinMaxScaler, feature_range=(-1, 1))\n",
    "setattr(Normalizer, '__name__', 'Normalizer')\n",
    "BoxCox = partial(sklearn.preprocessing.PowerTransformer, method='box-cox')\n",
    "setattr(BoxCox, '__name__', 'BoxCox')\n",
    "YeoJohnshon = partial(sklearn.preprocessing.PowerTransformer, method='yeo-johnson')\n",
    "setattr(YeoJohnshon, '__name__', 'YeoJohnshon')\n",
    "Quantile = partial(sklearn.preprocessing.QuantileTransformer, n_quantiles=1_000, output_distribution='normal', random_state=0)\n",
    "setattr(Quantile, '__name__', 'Quantile')"
   ]
  },
  {
   "cell_type": "code",
   "execution_count": null,
   "metadata": {},
   "outputs": [
    {
     "data": {
      "image/png": "[encoded data removed]",
      "text/plain": [
       "<Figure size 1152x36 with 1 Axes>"
      ]
     },
     "metadata": {
      "needs_background": "light"
     },
     "output_type": "display_data"
    },
    {
     "data": {
      "image/png": "[encoded data removed]",
      "text/plain": [
       "<Figure size 432x288 with 1 Axes>"
      ]
     },
     "metadata": {
      "needs_background": "light"
     },
     "output_type": "display_data"
    }
   ],
   "source": [
    "# Standardize\n",
    "from tsai.data.validation import TimeSplitter\n",
    "y = random_shuffle(np.random.randn(1000) * 10 + 5)\n",
    "splits = TimeSplitter()(y)\n",
    "preprocessor = Preprocessor(StandardScaler)\n",
    "preprocessor.fit(y[splits[0]])\n",
    "y_tfm = preprocessor.transform(y)\n",
    "test_close(preprocessor.inverse_transform(y_tfm), y)\n",
    "plt.hist(y, 50, label='ori',)\n",
    "plt.hist(y_tfm, 50, label='tfm')\n",
    "plt.legend(loc='best')\n",
    "plt.show()"
   ]
  },
  {
   "cell_type": "code",
   "execution_count": null,
   "metadata": {},
   "outputs": [
    {
     "data": {
      "image/png": "[encoded data removed]",
      "text/plain": [
       "<Figure size 1152x36 with 1 Axes>"
      ]
     },
     "metadata": {
      "needs_background": "light"
     },
     "output_type": "display_data"
    },
    {
     "data": {
      "image/png": "[encoded data removed]",
      "text/plain": [
       "<Figure size 432x288 with 1 Axes>"
      ]
     },
     "metadata": {
      "needs_background": "light"
     },
     "output_type": "display_data"
    }
   ],
   "source": [
    "# RobustScaler\n",
    "y = random_shuffle(np.random.randn(1000) * 10 + 5)\n",
    "splits = TimeSplitter()(y)\n",
    "preprocessor = Preprocessor(RobustScaler)\n",
    "preprocessor.fit(y[splits[0]])\n",
    "y_tfm = preprocessor.transform(y)\n",
    "test_close(preprocessor.inverse_transform(y_tfm), y)\n",
    "plt.hist(y, 50, label='ori',)\n",
    "plt.hist(y_tfm, 50, label='tfm')\n",
    "plt.legend(loc='best')\n",
    "plt.show()"
   ]
  },
  {
   "cell_type": "code",
   "execution_count": null,
   "metadata": {},
   "outputs": [
    {
     "data": {
      "image/png": "[encoded data removed]",
      "text/plain": [
       "<Figure size 1152x36 with 1 Axes>"
      ]
     },
     "metadata": {
      "needs_background": "light"
     },
     "output_type": "display_data"
    },
    {
     "data": {
      "image/png": "[encoded data removed]",
      "text/plain": [
       "<Figure size 432x288 with 1 Axes>"
      ]
     },
     "metadata": {
      "needs_background": "light"
     },
     "output_type": "display_data"
    }
   ],
   "source": [
    "# Normalize\n",
    "y = random_shuffle(np.random.rand(1000) * 3 + .5)\n",
    "splits = TimeSplitter()(y)\n",
    "preprocessor = Preprocessor(Normalizer)\n",
    "preprocessor.fit(y[splits[0]])\n",
    "y_tfm = preprocessor.transform(y)\n",
    "test_close(preprocessor.inverse_transform(y_tfm), y)\n",
    "plt.hist(y, 50, label='ori',)\n",
    "plt.hist(y_tfm, 50, label='tfm')\n",
    "plt.legend(loc='best')\n",
    "plt.show()"
   ]
  },
  {
   "cell_type": "code",
   "execution_count": null,
   "metadata": {},
   "outputs": [
    {
     "data": {
      "image/png": "[encoded data removed]",
      "text/plain": [
       "<Figure size 1152x36 with 1 Axes>"
      ]
     },
     "metadata": {
      "needs_background": "light"
     },
     "output_type": "display_data"
    },
    {
     "data": {
      "image/png": "[encoded data removed]",
      "text/plain": [
       "<Figure size 432x288 with 1 Axes>"
      ]
     },
     "metadata": {
      "needs_background": "light"
     },
     "output_type": "display_data"
    }
   ],
   "source": [
    "# BoxCox\n",
    "y = random_shuffle(np.random.rand(1000) * 10 + 5)\n",
    "splits = TimeSplitter()(y)\n",
    "preprocessor = Preprocessor(BoxCox)\n",
    "preprocessor.fit(y[splits[0]])\n",
    "y_tfm = preprocessor.transform(y)\n",
    "test_close(preprocessor.inverse_transform(y_tfm), y)\n",
    "plt.hist(y, 50, label='ori',)\n",
    "plt.hist(y_tfm, 50, label='tfm')\n",
    "plt.legend(loc='best')\n",
    "plt.show()"
   ]
  },
  {
   "cell_type": "code",
   "execution_count": null,
   "metadata": {},
   "outputs": [
    {
     "data": {
      "image/png": "[encoded data removed]",
      "text/plain": [
       "<Figure size 1152x36 with 1 Axes>"
      ]
     },
     "metadata": {
      "needs_background": "light"
     },
     "output_type": "display_data"
    },
    {
     "data": {
      "image/png": "[encoded data removed]",
      "text/plain": [
       "<Figure size 432x288 with 1 Axes>"
      ]
     },
     "metadata": {
      "needs_background": "light"
     },
     "output_type": "display_data"
    }
   ],
   "source": [
    "# YeoJohnshon\n",
    "y = random_shuffle(np.random.randn(1000) * 10 + 5)\n",
    "y = np.random.beta(.5, .5, size=1000)\n",
    "splits = TimeSplitter()(y)\n",
    "preprocessor = Preprocessor(YeoJohnshon)\n",
    "preprocessor.fit(y[splits[0]])\n",
    "y_tfm = preprocessor.transform(y)\n",
    "test_close(preprocessor.inverse_transform(y_tfm), y)\n",
    "plt.hist(y, 50, label='ori',)\n",
    "plt.hist(y_tfm, 50, label='tfm')\n",
    "plt.legend(loc='best')\n",
    "plt.show()"
   ]
  },
  {
   "cell_type": "code",
   "execution_count": null,
   "metadata": {},
   "outputs": [
    {
     "data": {
      "image/png": "[encoded data removed]",
      "text/plain": [
       "<Figure size 1152x36 with 1 Axes>"
      ]
     },
     "metadata": {
      "needs_background": "light"
     },
     "output_type": "display_data"
    },
    {
     "data": {
      "image/png": "[encoded data removed]",
      "text/plain": [
       "<Figure size 432x288 with 1 Axes>"
      ]
     },
     "metadata": {
      "needs_background": "light"
     },
     "output_type": "display_data"
    },
    {
     "data": {
      "image/png": "[encoded data removed]",
      "text/plain": [
       "<Figure size 432x288 with 1 Axes>"
      ]
     },
     "metadata": {
      "needs_background": "light"
     },
     "output_type": "display_data"
    }
   ],
   "source": [
    "# QuantileTransformer\n",
    "y = - np.random.beta(1, .5, 10000) * 10\n",
    "splits = TimeSplitter()(y)\n",
    "preprocessor = Preprocessor(Quantile)\n",
    "preprocessor.fit(y[splits[0]])\n",
    "plt.hist(y, 50, label='ori',)\n",
    "y_tfm = preprocessor.transform(y)\n",
    "plt.legend(loc='best')\n",
    "plt.show()\n",
    "plt.hist(y_tfm, 50, label='tfm')\n",
    "plt.legend(loc='best')\n",
    "plt.show()\n",
    "test_close(preprocessor.inverse_transform(y_tfm), y, 1e-1)"
   ]
  },
  {
   "cell_type": "code",
   "execution_count": null,
   "metadata": {},
   "outputs": [],
   "source": [
    "#export\n",
    "def ReLabeler(cm):\n",
    "    r\"\"\"Changes the labels in a dataset based on a dictionary (class mapping) \n",
    "        Args:\n",
    "            cm = class mapping dictionary\n",
    "    \"\"\"\n",
    "    def _relabel(y):\n",
    "        obj = len(set([len(listify(v)) for v in cm.values()])) > 1\n",
    "        keys = cm.keys()\n",
    "        if obj: \n",
    "            new_cm = {k:v for k,v in zip(keys, [listify(v) for v in cm.values()])}\n",
    "            return np.array([new_cm[yi] if yi in keys else listify(yi) for yi in y], dtype=object).reshape(*y.shape)\n",
    "        else: \n",
    "            new_cm = {k:v for k,v in zip(keys, [listify(v) for v in cm.values()])}\n",
    "            return np.array([new_cm[yi] if yi in keys else listify(yi) for yi in y]).reshape(*y.shape)\n",
    "    return _relabel"
   ]
  },
  {
   "cell_type": "code",
   "execution_count": null,
   "metadata": {},
   "outputs": [
    {
     "data": {
      "text/plain": [
       "(array(['b', 'e', 'e', 'd', 'e', 'c', 'a', 'b', 'c', 'b', 'e', 'd', 'a',\n",
       "        'a', 'b', 'c', 'c', 'a', 'a', 'a'], dtype='<U1'),\n",
       " array(['x', 'z', 'z', 'z', 'z', 'y', 'x', 'x', 'y', 'x', 'z', 'z', 'x',\n",
       "        'x', 'x', 'y', 'y', 'x', 'x', 'x'], dtype='<U1'))"
      ]
     },
     "execution_count": null,
     "metadata": {},
     "output_type": "execute_result"
    }
   ],
   "source": [
    "vals = {0:'a', 1:'b', 2:'c', 3:'d', 4:'e'}\n",
    "y = np.array([vals[i] for i in np.random.randint(0, 5, 20)])\n",
    "labeler = ReLabeler(dict(a='x', b='x', c='y', d='z', e='z'))\n",
    "y_new = labeler(y)\n",
    "test_eq(y.shape, y_new.shape)\n",
    "y, y_new"
   ]
  },
  {
   "cell_type": "code",
   "execution_count": null,
   "metadata": {},
   "outputs": [
    {
     "data": {
      "application/javascript": "IPython.notebook.save_checkpoint();",
      "text/plain": [
       "<IPython.core.display.Javascript object>"
      ]
     },
     "metadata": {},
     "output_type": "display_data"
    },
    {
     "name": "stdout",
     "output_type": "stream",
     "text": [
      "Converted 000_export.ipynb.\n",
      "Converted 001_utils.ipynb.\n",
      "Converted 010_data.validation.ipynb.\n",
      "Converted 011_data.preparation.ipynb.\n",
      "Converted 012_data.external.ipynb.\n",
      "Converted 013_data.core.ipynb.\n",
      "Converted 014_data.unwindowed.ipynb.\n",
      "Converted 015_data.metadatasets.ipynb.\n",
      "Converted 016_data.preprocessing.ipynb.\n",
      "Converted 017_data.transforms.ipynb.\n",
      "Converted 018_data.mixed_augmentation.ipynb.\n",
      "Converted 019_data.image.ipynb.\n",
      "Converted 020_data.features.ipynb.\n",
      "Converted 021_data.tabular.ipynb.\n",
      "Converted 022_data.mixed.ipynb.\n",
      "Converted 050_losses.ipynb.\n",
      "Converted 051_metrics.ipynb.\n",
      "Converted 052_learner.ipynb.\n",
      "Converted 052a_inference.ipynb.\n",
      "Converted 052b_analysis.ipynb.\n",
      "Converted 052c_calibration.ipynb.\n",
      "Converted 052d_tslearner.ipynb.\n",
      "Converted 053_optimizer.ipynb.\n",
      "Converted 060_callback.core.ipynb.\n",
      "Converted 061_callback.noisy_student.ipynb.\n",
      "Converted 063_callback.MVP.ipynb.\n",
      "Converted 064_callback.PredictionDynamics.ipynb.\n",
      "Converted 100_models.layers.ipynb.\n",
      "Converted 100b_models.utils.ipynb.\n",
      "Converted 100c_models.explainability.ipynb.\n",
      "Converted 101_models.ResNet.ipynb.\n",
      "Converted 101b_models.ResNetPlus.ipynb.\n",
      "Converted 102_models.InceptionTime.ipynb.\n",
      "Converted 102b_models.InceptionTimePlus.ipynb.\n",
      "Converted 103_models.MLP.ipynb.\n",
      "Converted 103b_models.FCN.ipynb.\n",
      "Converted 103c_models.FCNPlus.ipynb.\n",
      "Converted 104_models.ResCNN.ipynb.\n",
      "Converted 105_models.RNN.ipynb.\n",
      "Converted 105_models.RNNPlus.ipynb.\n",
      "Converted 106_models.XceptionTime.ipynb.\n",
      "Converted 106b_models.XceptionTimePlus.ipynb.\n",
      "Converted 107_models.RNN_FCN.ipynb.\n",
      "Converted 107b_models.RNN_FCNPlus.ipynb.\n",
      "Converted 108_models.TransformerModel.ipynb.\n",
      "Converted 108b_models.TST.ipynb.\n",
      "Converted 108c_models.TSTPlus.ipynb.\n",
      "Converted 109_models.OmniScaleCNN.ipynb.\n",
      "Converted 110_models.mWDN.ipynb.\n",
      "Converted 111_models.ROCKET.ipynb.\n",
      "Converted 111b_models.MINIROCKET.ipynb.\n",
      "Converted 111c_models.MINIROCKET_Pytorch.ipynb.\n",
      "Converted 111d_models.MINIROCKETPlus_Pytorch.ipynb.\n",
      "Converted 112_models.XResNet1d.ipynb.\n",
      "Converted 112b_models.XResNet1dPlus.ipynb.\n",
      "Converted 113_models.TCN.ipynb.\n",
      "Converted 114_models.XCM.ipynb.\n",
      "Converted 114b_models.XCMPlus.ipynb.\n",
      "Converted 120_models.TabModel.ipynb.\n",
      "Converted 121_models.TabTransformer.ipynb.\n",
      "Converted 122_models.TabFusionTransformer.ipynb.\n",
      "Converted 123_models.TSPerceiver.ipynb.\n",
      "Converted 124_models.TSiTPlus.ipynb.\n",
      "Converted 130_models.MultiInputNet.ipynb.\n",
      "Converted 140_models.misc.ipynb.\n",
      "Converted 200_optuna.ipynb.\n",
      "Converted 201_wandb.ipynb.\n",
      "Converted 900_tutorials.ipynb.\n",
      "Converted index.ipynb.\n",
      "\n",
      "\n",
      "Checking folder: /Users/nacho/notebooks/tsai/tsai\n",
      "Correct conversion! 😃\n",
      "Total time elapsed 639.017 s\n",
      "Friday 25/02/22 12:05:26 CET\n"
     ]
    },
    {
     "data": {
      "text/html": [
       "\n",
       "                <audio  controls=\"controls\" autoplay=\"autoplay\">\n",
       "                    <source src=\"data:audio/wav;base64,UklGRvQHAABXQVZFZm10IBAAAAABAAEAECcAACBOAAACABAAZGF0YdAHAAAAAPF/iPh/gOoOon6w6ayCoR2ZeyfbjobxK+F2Hs0XjKc5i3DGvzaTlEaraE+zz5uLUl9f46fHpWJdxVSrnfmw8mYEScqUP70cb0Q8X41uysJ1si6Eh1jYzXp9IE2DzOYsftYRyoCY9dJ/8QICgIcEun8D9PmAaBPlfT7lq4MFIlh61tYPiCswIHX+yBaOqT1QbuW7qpVQSv9lu6+xnvRVSlyopAypbGBTUdSalrSTaUBFYpInwUpxOzhti5TOdndyKhCGrdwAfBUcXIJB69p+Vw1egB76+n9q/h6ADglbf4LvnIHfF/981ODThF4m8HiS0riJVjQ6c+/EOZCYQfJrGrhBmPVNMmNArLKhQlkXWYqhbaxXY8ZNHphLuBJsZUEckCTFVHMgNKGJytIDeSUmw4QN4Qx9pReTgb3vYX/TCBuApf75f+P5Y4CRDdN+B+tngk8c8nt03CKGqipgd13OhotwOC5x9MCAknFFcmlmtPmagFFFYOCo0qRzXMhVi57pryNmIEqJlRi8bm52PfuNM8k4dfQv+4cO12l6zCGdg3jl730uE/KAPvS+f0wEAoAsA89/XfXQgBESIn6S5luDtiC8eh/YmIfpLqt1OMp5jXg8/24MveqUNUnPZsqw0Z3yVDldnaUOqIZfXlKrm36zzWhjRhaT+r+ncHI5/otUzfd2uSt7hl/bqXtoHaCC6+mqfrAOeoDD+PJ/xf8RgLMHfH/b8GeBihZIfSXidoQSJWB52NM1iRkzz3MkxpKPbUCrbDu5d5fgTAxkSK3JoEhYD1p2omere2LZTuqYLbdWa49Cx5Dww7tyXDUnioXRkHhwJyKFvd/AfPoYy4Fl7j1/LQorgEr9/X89+0qAOAwAf13sJoL8Gkd8wt25hWIp3Heez/eKODfPcSPCzpFNRDVqf7UlmnNQKGHgqd+jgVvJVm2f265QZTpLS5byur1tpT6ajvrHq3Q2MXWIxtUCehoj8YMk5LB9hRQegeTypn+nBQWA0QHgf7f2q4C5EFt+5ucOg2YfHXtq2SSHpS0ydnTL4IxFO6pvNb4ulBdInWfcsfSc7VMmXpSmE6eeXmZThJxpsgRohEfOk86+AHCoOpOMFsx1dv8s6oYT2k17uR7ngpXod34IEJqAaPfnfyABCIBZBpl/NPI2gTQVjX134x2ExSPMeR7VtYjZMWJ0W8ftjkA/YW1durCWykvjZFKu4p9LVwVbZKNkqpxh6U+6mRC2mGq2Q3SRvsIgcpc2sIpD0Bp4uiiFhW3ecXxOGgaCDe0Vf4cLPoDv+/5/mfw1gN4KKX+17emBqBmYfBHfVYUZKFR44NBtiv41bHJUwx+RJkP1apu2VJlkTwli4qrwoo1ax1dToNCtemRSTBGXz7kJbdM/PY/Dxht0dTLziH7Ul3loJEiE0uJsfdsVTYGL8Yt/AgcMgHYA7X8S+IqAYA+QfjzpxIIVHnp7tdqzhmAstXaxzEqMETpScGC/dJP3Rmdo8LIZnOVSEF+Opxumsl1sVF+dVrE5Z6NIiZSkvVdv2zsqjdnK8HVDLlyHyNjuegogM4NA5z9+YRG9gA722H97AgOA/gSyf43zCIHdE899yuTIg3ciNXpm1jmImTDwdJPITI4RPhRugbvslbFKt2Vfr/6eTFb4W1WkY6m6YPdQjJr2tNZp3EQlko7BgXHRNz2LAc+gdwMq7IUf3R58ohtFgrbr6n7hDFWAlPr8f/T9I4CECU9/De+vgVQY5nxh4POEzybJeCTS5YnCNAZzhsRzkP1Bsmu4t4aYU07nYuerA6KWWcJYO6HHrKJjaE3Zl624UWz/QOOPjcWHc7QzdIk40yl5tCWjhIDhJX0xF4CBMvBsf10IF4Ac//Z/bPlsgAcOwn6S6n6CwxzUewLcRoYaKzV38M23i9o493CNwL6S1UUuaQe0QpvbUfdfiqglpcRccFU+nkWwambASUiVfLyqbg49xY2eyWh1hy/Sh37XjHpaIYKD7OUEfrgS5IC09MV/1gMBgKMDyH/n9N6AhhINfh7mdoMoIZt6r9fAh1cvfHXNya6N4DzDbqi8K5WWSYlmbbAdnkpV6FxJpWSo1V8DUmGb3rMRaQBG2JJgwN9wCDnNi8HNI3dKK1aG0dvHe/UciIJf6rt+Og5wgDn59X9P/xWAKQhxf2XweYH+FjB9suGVhIMlOnlo02GJhTOdc7vFyo/TQGxs2Li7lz9NwmPurBihnVi7WSWiwKvGYntOpJiOt5drKUKMkFnE8HLxNPmJ9NG4eP8mAYUv4Np8hhi3gdruSX+3CSWAwP38f8f6UoCuDPF+6Os8gnAbKnxQ3d2F0imydzDPKIuiN5lxu8EKkrFE82kftW2az1DbYImpMqTUW3FWIJ83r5hl2koJlla7+m0+PmSOZcjcdMgwS4g11iZ6qCLUg5jkxn0QFA6BWvOvfzEFBIBHAtp/Qfa3gC4RSH5y5yeD2B/8evnYS4cULgR2CMsUja47cG/QvW6UeEhXZ3+xP51GVNVdP6Zpp+1eDFM5nMeySWghR4+TNL85cD46YIyCzKJ2kCzEhoTabXtGHs+CCemJfpMPjoDe9+t/qQALgM8Gj3++8UaBqRV2fQTjO4Q3JKd5r9TgiEYyMHTxxiWPpz8jbfq585YpTJpk960xoKFXsVoTo7yq6GGMTw==\" type=\"audio/wav\" />\n",
       "                    Your browser does not support the audio element.\n",
       "                </audio>\n",
       "              "
      ],
      "text/plain": [
       "<IPython.lib.display.Audio object>"
      ]
     },
     "metadata": {},
     "output_type": "display_data"
    }
   ],
   "source": [
    "#hide\n",
    "from tsai.imports import create_scripts\n",
    "from tsai.export import get_nb_name\n",
    "nb_name = get_nb_name()\n",
    "create_scripts(nb_name);"
   ]
  },
  {
   "cell_type": "code",
   "execution_count": null,
   "metadata": {},
   "outputs": [],
   "source": []
  }
 ],
 "metadata": {
  "kernelspec": {
   "display_name": "Python 3 (ipykernel)",
   "language": "python",
   "name": "python3"
  }
 },
 "nbformat": 4,
 "nbformat_minor": 2
}
