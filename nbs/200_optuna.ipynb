{
 "cells": [
  {
   "cell_type": "code",
   "execution_count": null,
   "metadata": {},
   "outputs": [],
   "source": [
    "# default_exp optuna"
   ]
  },
  {
   "cell_type": "markdown",
   "metadata": {},
   "source": [
    "# Optuna: A hyperparameter optimization framework\n",
    "\n",
    "> Optuna is an automatic hyperparameter optimization software framework, particularly designed for machine learning. It features an imperative, define-by-run style user API. Thanks to our define-by-run API, the code written with Optuna enjoys high modularity, and the user of Optuna can dynamically construct the search spaces for the hyperparameters."
   ]
  },
  {
   "cell_type": "code",
   "execution_count": null,
   "metadata": {},
   "outputs": [],
   "source": [
    "# export\n",
    "from pathlib import Path\n",
    "from fastcore.script import *\n",
    "import joblib\n",
    "from tsai.imports import *\n",
    "import warnings\n",
    "warnings.filterwarnings(\"ignore\")\n",
    "\n",
    "\n",
    "@call_parse\n",
    "def optuna_study(\n",
    "    config:             Param('Path to the study config file', str), \n",
    "    study_type:         Param('Type of study', str)=None,\n",
    "    multivariate:       Param('Flag to show progress bars or not.', store_false)=True,\n",
    "    study_name:         Param(\"Study's name. If this argument is set to None, a unique name is generated automatically.\", str)=None, \n",
    "    seed:               Param('Seed for random number generator.', int)=None, \n",
    "    search_space:       Param('Path to dictionary whose keys and values are a parameter name and the corresponding candidates of values', str)=None, \n",
    "    direction:          Param('Direction of optimization.', str)='maximize',\n",
    "    n_trials:           Param('The number of trials.', int)=None, \n",
    "    timeout:            Param('Stop study after the given number of second(s).', int)=None, \n",
    "    gc_after_trial:     Param('Flag to determine whether to automatically run garbage collection after each trial.', store_true)=False,\n",
    "    show_progress_bar:  Param('Flag to show progress bars or not.', store_false)=True,\n",
    "    show_plots:         Param('Flag to show plots or not.', store_false)=True,\n",
    "    save:               Param('Flag to save study to disk or not.', store_false)=True,\n",
    "    path:               Param('Path where the study will be saved', str)='optuna', \n",
    "    verbose:            Param('Verbose.', store_false)=True,\n",
    "    ):\n",
    "\n",
    "    try: import optuna\n",
    "    except ImportError: raise ImportError('You need to install optuna to run sweeps!') \n",
    "        \n",
    "    if '../' not in sys.path: sys.path.apppend('../')\n",
    "    sys.path.append(config.rsplit('/', 1)[0])\n",
    "    print(sys.path)\n",
    "\n",
    "    m = import_file_as_module(config)\n",
    "    assert hasattr(m, 'objective'), f\"there's no objective function in {config}\"\n",
    "    objective = getattr(m, \"objective\")\n",
    "\n",
    "    if study_type is None or study_type.lower() == \"bayesian\": sampler = optuna.samplers.TPESampler(seed=seed, multivariate=multivariate)\n",
    "    elif study_type.lower() in [\"gridsearch\", \"gridsampler\"]: \n",
    "        assert hasattr(m, 'search_space'), f\"there's no search_space function in {search_space}\"\n",
    "        search_space = getattr(m, 'search_space')\n",
    "        sampler = optuna.samplers.GridSampler(search_space=search_space)\n",
    "    elif study_type.lower() in [\"randomsearch\", \"randomsampler\"]: sampler = optuna.samplers.RandomSampler(seed=seed)\n",
    "    \n",
    "    try: \n",
    "        study = optuna.create_study(sampler=sampler, study_name=study_name, direction=direction)\n",
    "        study.optimize(objective, n_trials=n_trials, timeout=timeout, gc_after_trial=gc_after_trial, show_progress_bar=show_progress_bar)\n",
    "        \n",
    "    except KeyboardInterrupt:\n",
    "        pass\n",
    "\n",
    "    if save: \n",
    "        full_path = Path(path)/f'{study.study_name}.pkl'\n",
    "        full_path.parent.mkdir(parents=True, exist_ok=True)\n",
    "        joblib.dump(study, full_path)\n",
    "        print(f'\\nOptuna study saved to {full_path}')\n",
    "        print(f\"To reload the study run: study = joblib.load('{full_path}')\")\n",
    "\n",
    "    if show_plots and len(study.trials) > 1: \n",
    "        try: display(optuna.visualization.plot_optimization_history(study))\n",
    "        except: pass\n",
    "        try: display(optuna.visualization.plot_param_importances(study))\n",
    "        except: pass\n",
    "        try: display(optuna.visualization.plot_slice(study))\n",
    "        except: pass\n",
    "        try: display(optuna.visualization.plot_parallel_coordinate(study))\n",
    "        except: pass\n",
    "    \n",
    "    try: \n",
    "        print(f\"\\nStudy stats   : \")\n",
    "        print(f\"===============\")\n",
    "        print(f\"Study name    : {study.study_name}\")\n",
    "        print(f\"  n_trials    : {len(study.trials)}\")\n",
    "        print(f\"Best trial    :\")\n",
    "        trial = study.best_trial\n",
    "        print(f\"  value       : {trial.value}\")\n",
    "        print(f\"  best_params = {trial.params}\\n\")\n",
    "    except:\n",
    "        print('No trials are completed yet.')\n",
    "    return study"
   ]
  },
  {
   "cell_type": "code",
   "execution_count": null,
   "metadata": {},
   "outputs": [],
   "source": [
    "#hide\n",
    "out = create_scripts()\n",
    "beep(out)"
   ]
  },
  {
   "cell_type": "code",
   "execution_count": null,
   "metadata": {},
   "outputs": [],
   "source": []
  }
 ],
 "metadata": {
  "kernelspec": {
   "display_name": "Python 3",
   "language": "python",
   "name": "python3"
  }
 },
 "nbformat": 4,
 "nbformat_minor": 2
}
