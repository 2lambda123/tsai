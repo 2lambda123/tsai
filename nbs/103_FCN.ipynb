{
 "cells": [
  {
   "cell_type": "code",
   "execution_count": null,
   "metadata": {},
   "outputs": [],
   "source": [
    "# default_exp models.FCN"
   ]
  },
  {
   "cell_type": "markdown",
   "metadata": {},
   "source": [
    "# FCN\n",
    "\n",
    "> This is an unofficial PyTorch implementation by Ignacio Oguiza - oguiza@gmail.com based on:\n",
    "\n",
    "* Wang, Z., Yan, W., & Oates, T. (2017, May). Time series classification from scratch with deep neural networks: A strong baseline. In 2017 international joint conference on neural networks (IJCNN) (pp. 1578-1585). IEEE.\n",
    "\n",
    "* Fawaz, H. I., Forestier, G., Weber, J., Idoumghar, L., & Muller, P. A. (2019). Deep learning for time series classification: a review. Data Mining and Knowledge Discovery, 33(4), 917-963.\n",
    "* FCN TensorFlow implementation: https://github.com/hfawaz/dl-4-tsc\n",
    "\n",
    "* 👀 kernel filter size 8 has been replaced by 7 (I believe it's a bug)"
   ]
  },
  {
   "cell_type": "code",
   "execution_count": null,
   "metadata": {},
   "outputs": [],
   "source": [
    "#export\n",
    "from tsai.imports import *\n",
    "from tsai.models.layers import *"
   ]
  },
  {
   "cell_type": "code",
   "execution_count": null,
   "metadata": {},
   "outputs": [],
   "source": [
    "#export\n",
    "class FCN(Module):\n",
    "    def __init__(self,c_in,c_out,layers=[128,256,128],kss=[7,5,3]):\n",
    "        self.conv1 = convlayer(c_in,layers[0],kss[0])\n",
    "        self.conv2 = convlayer(layers[0],layers[1],kss[1])\n",
    "        self.conv3 = convlayer(layers[1],layers[2],kss[2])\n",
    "        self.gap = nn.AdaptiveAvgPool1d(1)\n",
    "        self.fc = nn.Linear(layers[-1],c_out)\n",
    "\n",
    "    def forward(self, x):\n",
    "        x = self.conv1(x)\n",
    "        x = self.conv2(x)\n",
    "        x = self.conv3(x)\n",
    "        x = self.gap(x).squeeze(-1)\n",
    "        return self.fc(x)"
   ]
  },
  {
   "cell_type": "code",
   "execution_count": null,
   "metadata": {},
   "outputs": [],
   "source": [
    "xb = torch.rand(16, 3, 128)\n",
    "test_eq(FCN(3,2)(xb).shape, [xb.shape[0], 2])"
   ]
  },
  {
   "cell_type": "code",
   "execution_count": null,
   "metadata": {},
   "outputs": [
    {
     "data": {
      "application/javascript": [
       "IPython.notebook.save_checkpoint()"
      ],
      "text/plain": [
       "<IPython.core.display.Javascript object>"
      ]
     },
     "metadata": {},
     "output_type": "display_data"
    },
    {
     "name": "stdout",
     "output_type": "stream",
     "text": [
      "Converted 000_utils.ipynb.\n",
      "Converted 001_data.external.ipynb.\n",
      "Converted 002_data.core.ipynb.\n",
      "Converted 003_data.transforms.ipynb.\n",
      "Converted 005_data.tabular.ipynb.\n",
      "Converted 006_data.validation.ipynb.\n",
      "Converted 007_metrics.ipynb.\n",
      "Converted 008_learner.ipynb.\n",
      "Converted 009_optimizer.ipynb.\n",
      "Converted 010_rocket_functions.ipynb.\n",
      "Converted 100_layers.ipynb.\n",
      "Converted 100b_models_utils.ipynb.\n",
      "Converted 101_ResNet.ipynb.\n",
      "Converted 102_InceptionTime.ipynb.\n",
      "Converted 103_FCN.ipynb.\n",
      "Converted 104_ResCNN.ipynb.\n",
      "Converted index.ipynb.\n",
      "\n",
      "\n",
      "Checking folder: /Users/nacho/Documents/Machine_Learning/Jupyter_Notebooks/timeseries/tsai\n",
      "Correct conversion! 😃\n",
      "Total elapsed time 16 s\n",
      "Tue, 28 Apr 2020 20:05:55 CEST\n",
      " \n",
      "\n"
     ]
    },
    {
     "data": {
      "text/html": [
       "\n",
       "                <audio  controls=\"controls\" autoplay=\"autoplay\">\n",
       "                    <source src=\"data:audio/wav;base64,UklGRvQHAABXQVZFZm10IBAAAAABAAEAECcAACBOAAACABAAZGF0YdAHAAAAAP5/G0/lsAKAAAD+fxtP5bACgAAA/n8bT+WwAoAAAP5/G0/lsAKAAAD+fxtP5bACgAAA/n8bT+WwAoAAAP5/G0/lsAKAAAD+fxtP5bACgAAA/n8bT+WwAoAAAP5/G0/lsAKAAAD+fxtP5bACgAAA/n8bT+WwAoAAAP5/G0/lsAKAAAD+fxtP5bACgAAA/n8bT+WwAoAAAP5/G0/lsAKAAAD+fxtP5bACgAAA/n8bT+WwAoAAAP5/G0/lsAKAAAD+fxtP5bACgAAA/n8bT+WwAoAAAP5/G0/lsAKAAAD+fxtP5bACgAAA/n8bT+WwAoAAAP5/G0/lsAKAAAD+fxtP5bACgAAA/n8bT+WwAoAAAP5/G0/lsAKAAAD+fxtP5bACgAAA/n8bT+WwAoAAAP5/G0/lsAKAAAD+fxtP5bACgAAA/n8bT+WwAoAAAP5/G0/lsAKAAAD+fxtP5bACgAAA/n8bT+WwAoAAAP5/G0/lsAKAAAD+fxtP5bACgAAA/n8bT+WwAoAAAP5/G0/lsAKAAAD+fxtP5bACgAAA/n8bT+WwAoAAAP5/G0/lsAKAAAD+fxtP5bACgAAA/n8bT+WwAoAAAP5/G0/lsAKAAAD+fxtP5bACgAAA/n8bT+WwAoAAAP5/G0/lsAKAAAD+fxtP5bACgAAA/n8bT+WwAoAAAP5/G0/lsAKAAAD+fxtP5bACgAAA/n8bT+WwAoAAAP5/G0/lsAKAAAD+fxtP5bACgAAA/n8bT+WwAoAAAP5/G0/lsAKAAAD+fxtP5bACgAAA/n8bT+WwAoAAAP5/G0/lsAKAAAD+fxtP5bACgAAA/n8bT+WwAoAAAP5/G0/lsAKAAAD+fxtP5bACgAAA/n8bT+WwAoAAAP5/G0/lsAKAAAD+fxtP5bACgAAA/n8bT+WwAoAAAP5/G0/lsAKAAAD+fxtP5bACgAAA/n8bT+WwAoAAAP5/G0/lsAKAAAD+fxtP5bACgAAA/n8bT+WwAoAAAP5/G0/lsAKAAAD+fxtP5bACgAAA/n8bT+WwAoAAAP5/G0/lsAKAAAD+fxtP5bACgAAA/n8bT+WwAoAAAP5/G0/lsAKAAAD+fxtP5bACgAAA/n8bT+WwAoAAAP5/G0/lsAKAAAD+fxtP5bACgAAA/n8bT+WwAoAAAP5/G0/lsAKAAAD+fxtP5bACgAAA/n8bT+WwAoAAAP5/G0/lsAKAAAD+fxtP5bACgAAA/n8bT+WwAoAAAP5/G0/lsAKAAAD+fxtP5bACgAAA/n8bT+WwAoAAAP5/G0/lsAKAAAD+fxtP5bACgAAA/n8bT+WwAoAAAP5/G0/lsAKAAAD+fxtP5bACgAAA/n8bT+WwAoAAAP5/G0/lsAKAAAD+fxtP5bACgAAA/n8bT+WwAoAAAP5/G0/lsAKAAAD+fxtP5bACgAAA/n8bT+WwAoAAAP5/G0/lsAKAAAD+fxtP5bACgAAA/n8bT+WwAoAAAP5/G0/lsAKAAAD+fxtP5bACgAAA/n8bT+WwAoAAAP5/G0/lsAKAAAD+fxtP5bACgAAA/n8bT+WwAoAAAP5/G0/lsAKAAAD+fxtP5bACgAAA/n8bT+WwAoAAAP5/G0/lsAKAAAD+fxtP5bACgAAA/n8bT+WwAoAAAP5/G0/lsAKAAAD+fxtP5bACgAAA/n8bT+WwAoAAAP5/G0/lsAKAAAD+fxtP5bACgAAA/n8bT+WwAoAAAP5/G0/lsAKAAAD+fxtP5bACgAAA/n8bT+WwAoAAAP5/G0/lsAKAAAD+fxtP5bACgAAA/n8bT+WwAoAAAP5/G0/lsAKAAAD+fxtP5bACgAAA/n8bT+WwAoAAAP5/G0/lsAKAAAD+fxtP5bACgAAA/n8bT+WwAoAAAP5/G0/lsAKAAAD+fxtP5bACgAAA/n8bT+WwAoAAAP5/G0/lsAKAAAD+fxtP5bACgAAA/n8bT+WwAoAAAP5/G0/lsAKAAAD+fxtP5bACgAAA/n8bT+WwAoAAAP5/G0/lsAKAAAD+fxtP5bACgAAA/n8bT+WwAoAAAP5/G0/lsAKAAAD+fxtP5bACgAAA/n8bT+WwAoAAAP5/G0/lsAKAAAD+fxtP5bACgAAA/n8bT+WwAoAAAP5/G0/lsAKAAAD+fxtP5bACgAAA/n8bT+WwAoAAAP5/G0/lsAKAAAD+fxtP5bACgAAA/n8bT+WwAoAAAP5/G0/lsAKAAAD+fxtP5bACgAAA/n8bT+WwAoAAAP5/G0/lsAKAAAD+fxtP5bACgAAA/n8bT+WwAoAAAP5/G0/lsAKAAAD+fxtP5bACgAAA/n8bT+WwAoAAAP5/G0/lsAKAAAD+fxtP5bACgAAA/n8bT+WwAoAAAP5/G0/lsAKAAAD+fxtP5bACgAAA/n8bT+WwAoAAAP5/G0/lsAKAAAD+fxtP5bACgAAA/n8bT+WwAoAAAP5/G0/lsAKAAAD+fxtP5bACgAAA/n8bT+WwAoAAAP5/G0/lsAKAAAD+fxtP5bACgAAA/n8bT+WwAoAAAP5/G0/lsAKAAAD+fxtP5bACgAAA/n8bT+WwAoAAAP5/G0/lsAGAAAD+fxtP5bACgAAA/n8bT+WwAoAAAP5/G0/lsAKAAAD+fxtP5bACgAAA/n8bT+WwAoAAAP5/G0/lsAKAAAD+fxtP5bACgA==\" type=\"audio/wav\" />\n",
       "                    Your browser does not support the audio element.\n",
       "                </audio>\n",
       "              "
      ],
      "text/plain": [
       "<IPython.lib.display.Audio object>"
      ]
     },
     "execution_count": null,
     "metadata": {},
     "output_type": "execute_result"
    }
   ],
   "source": [
    "#hide\n",
    "out = create_scripts()\n",
    "beep(out)"
   ]
  }
 ],
 "metadata": {
  "kernelspec": {
   "display_name": "Python 3",
   "language": "python",
   "name": "python3"
  }
 },
 "nbformat": 4,
 "nbformat_minor": 2
}
