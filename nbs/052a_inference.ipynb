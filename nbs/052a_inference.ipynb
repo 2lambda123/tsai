{
 "cells": [
  {
   "cell_type": "code",
   "execution_count": null,
   "metadata": {},
   "outputs": [],
   "source": [
    "# default_exp inference"
   ]
  },
  {
   "cell_type": "markdown",
   "metadata": {},
   "source": [
    "# Inference\n",
    "\n",
    "> This contains the code required for inference."
   ]
  },
  {
   "cell_type": "code",
   "execution_count": null,
   "metadata": {},
   "outputs": [],
   "source": [
    "# export\n",
    "from fastai.learner import load_learner\n",
    "from fastai.callback.core import GatherPredsCallback\n",
    "from fastai.learner import Learner\n",
    "from fastcore.basics import patch\n",
    "from fastcore.meta import delegates"
   ]
  },
  {
   "cell_type": "code",
   "execution_count": null,
   "metadata": {},
   "outputs": [],
   "source": [
    "#export\n",
    "@patch\n",
    "@delegates(GatherPredsCallback.__init__)\n",
    "def get_X_preds(self: Learner, X, y=None, bs=64, with_input=False, with_decoded=True, with_loss=False, **kwargs):\n",
    "    if with_loss and y is None:\n",
    "        print('cannot find loss as y=None')\n",
    "        with_loss = False\n",
    "    dl = self.dls.valid.new_dl(X, y=y)\n",
    "    dl.bs = self.dls.bs if bs is None else bs\n",
    "    output = list(self.get_preds(dl=dl, with_input=with_input, with_decoded=with_decoded, with_loss=with_loss, reorder=False))\n",
    "    if with_decoded and hasattr(self.dls, 'vocab'):\n",
    "        output[2 + with_input] = L([self.dls.vocab[p] for p in output[2 + with_input]])\n",
    "    return tuple(output)"
   ]
  },
  {
   "cell_type": "code",
   "execution_count": null,
   "metadata": {},
   "outputs": [],
   "source": [
    "learn = load_learner('test.pth')"
   ]
  },
  {
   "cell_type": "code",
   "execution_count": null,
   "metadata": {},
   "outputs": [
    {
     "data": {
      "text/html": [],
      "text/plain": [
       "<IPython.core.display.HTML object>"
      ]
     },
     "metadata": {},
     "output_type": "display_data"
    },
    {
     "data": {
      "text/plain": [
       "(tensor([[0.1652, 0.1498, 0.2987, 0.3863],\n",
       "         [0.1652, 0.1498, 0.2987, 0.3863],\n",
       "         [0.1652, 0.1498, 0.2987, 0.3863],\n",
       "         [0.1653, 0.1498, 0.2987, 0.3862],\n",
       "         [0.1652, 0.1498, 0.2987, 0.3863],\n",
       "         [0.1653, 0.1498, 0.2987, 0.3862],\n",
       "         [0.1653, 0.1498, 0.2986, 0.3863],\n",
       "         [0.1653, 0.1498, 0.2987, 0.3863],\n",
       "         [0.1653, 0.1499, 0.2987, 0.3862],\n",
       "         [0.1653, 0.1498, 0.2987, 0.3862]]),\n",
       " None,\n",
       " tensor([3, 3, 3, 3, 3, 3, 3, 3, 3, 3]))"
      ]
     },
     "execution_count": null,
     "metadata": {},
     "output_type": "execute_result"
    }
   ],
   "source": [
    "import numpy as np\n",
    "X_test = np.load(\"data/X_test.npy\")\n",
    "test_probas, test_targets, test_preds = learn.get_X_preds(X_test[0:10], with_decoded=True)\n",
    "test_probas, test_targets, test_preds"
   ]
  },
  {
   "cell_type": "code",
   "execution_count": null,
   "metadata": {},
   "outputs": [
    {
     "data": {
      "text/html": [],
      "text/plain": [
       "<IPython.core.display.HTML object>"
      ]
     },
     "metadata": {},
     "output_type": "display_data"
    },
    {
     "data": {
      "text/plain": [
       "(tensor([[0.1652, 0.1498, 0.2987, 0.3863],\n",
       "         [0.1652, 0.1498, 0.2987, 0.3863],\n",
       "         [0.1652, 0.1498, 0.2987, 0.3863],\n",
       "         [0.1653, 0.1498, 0.2987, 0.3862],\n",
       "         [0.1652, 0.1498, 0.2987, 0.3863],\n",
       "         [0.1653, 0.1498, 0.2987, 0.3862],\n",
       "         [0.1653, 0.1498, 0.2986, 0.3863],\n",
       "         [0.1653, 0.1498, 0.2987, 0.3863],\n",
       "         [0.1653, 0.1499, 0.2987, 0.3862],\n",
       "         [0.1653, 0.1498, 0.2987, 0.3862]]),\n",
       " TensorCategory([0, 0, 0, 0, 0, 1, 1, 1, 1, 1]),\n",
       " tensor([3, 3, 3, 3, 3, 3, 3, 3, 3, 3]))"
      ]
     },
     "execution_count": null,
     "metadata": {},
     "output_type": "execute_result"
    }
   ],
   "source": [
    "X_test = np.load(\"data/X_test.npy\")\n",
    "y_test = np.load(\"data/y_test.npy\")\n",
    "test_probas2, test_targets2, test_preds2 = learn.get_X_preds(X_test[0:10], y_test[0:10], with_decoded=True)\n",
    "test_probas2, test_targets2, test_preds2"
   ]
  },
  {
   "cell_type": "code",
   "execution_count": null,
   "metadata": {},
   "outputs": [],
   "source": [
    "from fastcore.test import test_eq\n",
    "test_eq(test_probas, test_probas2)\n",
    "test_eq(test_preds, test_preds2)"
   ]
  },
  {
   "cell_type": "code",
   "execution_count": null,
   "metadata": {},
   "outputs": [],
   "source": [
    "#hide\n",
    "from tsai.imports import create_scripts\n",
    "from tsai.export import get_nb_name\n",
    "nb_name = get_nb_name()\n",
    "create_scripts(nb_name);"
   ]
  },
  {
   "cell_type": "code",
   "execution_count": null,
   "metadata": {},
   "outputs": [],
   "source": []
  }
 ],
 "metadata": {
  "kernelspec": {
   "display_name": "Python 3",
   "language": "python",
   "name": "python3"
  }
 },
 "nbformat": 4,
 "nbformat_minor": 4
}
