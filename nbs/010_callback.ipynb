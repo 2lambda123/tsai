{
 "cells": [
  {
   "cell_type": "code",
   "execution_count": null,
   "metadata": {},
   "outputs": [],
   "source": [
    "# default_exp callback"
   ]
  },
  {
   "cell_type": "markdown",
   "metadata": {},
   "source": [
    "# Callback\n",
    "\n",
    "> Callbacks for timeseriesAI."
   ]
  },
  {
   "cell_type": "code",
   "execution_count": null,
   "metadata": {},
   "outputs": [],
   "source": [
    "#export \n",
    "from tsai.imports import *\n",
    "from tsai.utils import *\n",
    "from tsai.data.transforms import *\n",
    "from tsai.models.layers import *\n",
    "from fastai.callback.all import *"
   ]
  },
  {
   "cell_type": "code",
   "execution_count": null,
   "metadata": {},
   "outputs": [],
   "source": [
    "#export\n",
    "import torch.multiprocessing\n",
    "torch.multiprocessing.set_sharing_strategy('file_system')"
   ]
  },
  {
   "cell_type": "markdown",
   "metadata": {},
   "source": [
    "https://dev.fast.ai/callback.core#Callback"
   ]
  },
  {
   "cell_type": "markdown",
   "metadata": {},
   "source": [
    "## Events: "
   ]
  },
  {
   "cell_type": "markdown",
   "metadata": {},
   "source": [
    "A callback can implement actions on the following events:\n",
    "* before_fit: called before doing anything, ideal for initial setup.\n",
    "* before_epoch: called at the beginning of each epoch, useful for any behavior you need to reset at each epoch.\n",
    "* before_train: called at the beginning of the training part of an epoch.\n",
    "* before_batch: called at the beginning of each batch, just after drawing said batch. It can be used to do any setup necessary for the batch (like hyper-parameter scheduling) or to change the input/target before it goes in the model (change of the input with techniques like mixup for instance).\n",
    "* after_pred: called after computing the output of the model on the batch. It can be used to change that output before it's fed to the loss.\n",
    "* after_loss: called after the loss has been computed, but before the backward pass. It can be used to add any penalty to the loss (AR or TAR in RNN training for instance).\n",
    "* before_backward: called after the loss has been computed, but only in training mode (i.e. when the backward pass will be used)\n",
    "* after_backward: called after the backward pass, but before the update of the parameters. It can be used to do any change to the gradients before said update (gradient clipping for instance).\n",
    "* after_step: called after the step and before the gradients are zeroed.\n",
    "* after_batch: called at the end of a batch, for any clean-up before the next one.\n",
    "* after_train: called at the end of the training phase of an epoch.\n",
    "* before_validate: called at the beginning of the validation phase of an epoch, useful for any setup needed specifically for validation.\n",
    "* after_validate: called at the end of the validation part of an epoch.\n",
    "* after_epoch: called at the end of an epoch, for any clean-up before the next one.\n",
    "* after_fit: called at the end of training, for final clean-up."
   ]
  },
  {
   "cell_type": "markdown",
   "metadata": {},
   "source": [
    "## Learner attributes:"
   ]
  },
  {
   "cell_type": "markdown",
   "metadata": {},
   "source": [
    "When writing a callback, the following attributes of Learner are available:\n",
    "\n",
    "* **model**: the model used for training/validation\n",
    "* **data**: the underlying DataLoaders\n",
    "* **loss_func**: the loss function used\n",
    "* **opt**: the optimizer used to udpate the model parameters\n",
    "* **opt_func**: the function used to create the optimizer\n",
    "* **cbs**: the list containing all Callbacks\n",
    "* **dl**: current DataLoader used for iteration\n",
    "* **x/xb**: last input drawn from self.dl (potentially modified by callbacks). xb is always a tuple (potentially with one element) and x is detuplified. You can only assign to xb.\n",
    "* **y/yb**: last target drawn from self.dl (potentially modified by callbacks). yb is always a tuple (potentially with one element) and y is detuplified. You can only assign to yb.\n",
    "* **pred**: last predictions from self.model (potentially modified by callbacks)\n",
    "* **loss**: last computed loss (potentially modified by callbacks)\n",
    "* **n_epoch**: the number of epochs in this training\n",
    "* **n_iter**: the number of iterations in the current self.dl\n",
    "* **epoch**: the current epoch index (from 0 to n_epoch-1)\n",
    "* **iter**: the current iteration index in self.dl (from 0 to n_iter-1)\n",
    "\n",
    "The following attributes are added by TrainEvalCallback and should be available unless you went out of your way to remove that callback:\n",
    "* **train_iter**: the number of training iterations done since the beginning of this training\n",
    "* **pct_train**: from 0. to 1., the percentage of training iterations completed\n",
    "* **training**: flag to indicate if we're in training mode or not\n",
    "\n",
    "The following attribute is added by Recorder and should be available unless you went out of your way to remove that callback:\n",
    "* **smooth_loss**: an exponentially-averaged version of the training loss"
   ]
  },
  {
   "cell_type": "markdown",
   "metadata": {},
   "source": [
    "## Gambler's loss: noisy labels"
   ]
  },
  {
   "cell_type": "code",
   "execution_count": null,
   "metadata": {},
   "outputs": [],
   "source": [
    "#export\n",
    "class GamblersCallback(Callback):\n",
    "    \"A callback to use metrics with gambler's loss\"\n",
    "    def after_loss(self): self.learn.pred = self.learn.pred[..., :-1]"
   ]
  },
  {
   "cell_type": "code",
   "execution_count": null,
   "metadata": {},
   "outputs": [
    {
     "name": "stdout",
     "output_type": "stream",
     "text": [
      "Dataset: NATOPS\n",
      "X      : (360, 24, 51)\n",
      "y      : (360,)\n",
      "splits : ((#180) [0,1,2,3,4,5,6,7,8,9...], (#180) [180,181,182,183,184,185,186,187,188,189...]) \n",
      "\n"
     ]
    },
    {
     "data": {
      "text/html": [
       "<table border=\"1\" class=\"dataframe\">\n",
       "  <thead>\n",
       "    <tr style=\"text-align: left;\">\n",
       "      <th>epoch</th>\n",
       "      <th>train_loss</th>\n",
       "      <th>valid_loss</th>\n",
       "      <th>accuracy</th>\n",
       "      <th>time</th>\n",
       "    </tr>\n",
       "  </thead>\n",
       "  <tbody>\n",
       "    <tr>\n",
       "      <td>0</td>\n",
       "      <td>1.575226</td>\n",
       "      <td>1.553405</td>\n",
       "      <td>0.166667</td>\n",
       "      <td>00:06</td>\n",
       "    </tr>\n",
       "  </tbody>\n",
       "</table>"
      ],
      "text/plain": [
       "<IPython.core.display.HTML object>"
      ]
     },
     "metadata": {},
     "output_type": "display_data"
    }
   ],
   "source": [
    "from tsai.data.all import *\n",
    "from tsai.models.InceptionTime import *\n",
    "from tsai.models.layers import *\n",
    "dsid = 'NATOPS'\n",
    "X, y, splits = get_UCR_data(dsid, parent_dir='./data/UCR/', verbose=True, on_disk=True, return_split=False)\n",
    "tfms = [None, Categorize()]\n",
    "dsets = TSDatasets(X, y, tfms=tfms, splits=splits)\n",
    "dls = TSDataLoaders.from_dsets(dsets.train, dsets.valid, bs=[64, 128])\n",
    "loss_func = gambler_loss()\n",
    "learn = Learner(dls, InceptionTime(dls.vars, dls.c + 1), loss_func=loss_func, cbs=GamblersCallback, metrics=[accuracy])\n",
    "learn.fit_one_cycle(1)"
   ]
  },
  {
   "cell_type": "markdown",
   "metadata": {},
   "source": [
    "## Noisy student: self-training (pseudolabels)"
   ]
  },
  {
   "cell_type": "code",
   "execution_count": null,
   "metadata": {},
   "outputs": [],
   "source": [
    "#export\n",
    "@log_args\n",
    "class NoisyStudent(Callback):\n",
    "    \"\"\"A callback to implement the Noisy Student approach. In the original paper this was used in combination with noise: \n",
    "        - stochastic depth: .8\n",
    "        - RandAugment: N=2, M=27\n",
    "        - dropout: .5\n",
    "        \n",
    "    Steps:\n",
    "        1. Build the dl you will use as a teacher\n",
    "        2. Create dl2 with the unlabeled data plus pseudolabels (either soft or hard preds)\n",
    "        3. Pass any required batch_tfms to the callback\n",
    "    \n",
    "    \"\"\"\n",
    "    \n",
    "    def __init__(self, dl2:DataLoader, bs:Union[None, int]=None, unlabel_ratio:int=1, batch_tfms:Union[None, list]=None, do_setup:bool=True, \n",
    "                 unlabeled_sample_weight:float=1., verbose=False): \n",
    "        self.dl2, self.bs, self.unlabel_ratio, self.batch_tfms, self.do_setup, self.vebose = dl2, bs, unlabel_ratio, batch_tfms, do_setup, verbose\n",
    "        self.unlabeled_sample_weight = unlabeled_sample_weight\n",
    "        \n",
    "    def before_fit(self):\n",
    "        # Remove and store dl.train.batch_tfms\n",
    "        self.old_train_dl_batch_tfms = self.dls.train.after_batch\n",
    "        self.dls.train.after_batch = noop        \n",
    "\n",
    "        if self.do_setup and self.batch_tfms:\n",
    "            for bt in self.batch_tfms: bt.setup(self.dls.train)\n",
    "\n",
    "        unlabel_ratio = self.unlabel_ratio\n",
    "        dsets_ratio = len(self.dl2.dataset) / len(self.dls.train.dataset)\n",
    "        if dsets_ratio < self.unlabel_ratio:  self.unlabel_ratio = dsets_ratio\n",
    "        if self.bs is None: self.bs = self.dls.train.bs\n",
    "        self.dl2.bs = min(len(self.dl2.dataset), int(self.unlabel_ratio * self.bs / (1 + self.unlabel_ratio)))\n",
    "        self.dls.train.bs = self.bs - self.dl2.bs\n",
    "        if unlabel_ratio != self.dl2.bs/self.dls.train.bs: \n",
    "            print(f'effective unlabel_ratio          : {unlabel_ratio:.3f} --> {self.dl2.bs/self.dls.train.bs:.3f} \\\n",
    "            dl.bs: {self.dls.train.bs}  dl2.bs: {self.dl2.bs}')\n",
    "        print(f'relative unlabeled sample weight : {self.dl2.bs/self.dls.train.bs * len(self.dls.train.dataset) / len(self.dl2.dataset):.3f}')\n",
    "        self.dl2iter = iter(self.dl2)\n",
    "    \n",
    "        self.old_loss_func = self.learn.loss_func\n",
    "        self.learn.loss_func = self.loss\n",
    "        \n",
    "    def before_batch(self):\n",
    "        if self.training:\n",
    "            X, y = self.x, self.y\n",
    "            try: X2, y2 = next(self.dl2iter)\n",
    "            except StopIteration:\n",
    "                self.dl2iter = iter(self.dl2)\n",
    "                X2, y2 = next(self.dl2iter)\n",
    "            if y.ndim == 1 and y2.ndim == 2: y = torch.eye(self.learn.dls.c)[y].to(device)\n",
    "            pv(f'X: {X.shape}  X2: {X2.shape}  y: {y.shape} y2: {y2.shape}', self.vebose)\n",
    "            X_comb = concat(X, X2) # concat and retain type for tfms\n",
    "            y_comb = concat(y, y2)\n",
    "#             perm = torch.randperm(y_comb.shape[0])\n",
    "#             X_combv = X_comb[perm]\n",
    "#             y_comb = y_comb[perm]\n",
    "            if self.batch_tfms is not None: \n",
    "                X_comb = compose_tfms(X_comb, self.batch_tfms, split_idx=0)\n",
    "                y_comb = compose_tfms(y_comb, self.batch_tfms, split_idx=0)\n",
    "            self.learn.xb = (X_comb,)\n",
    "            self.learn.yb = (y_comb,)\n",
    "            pv(f'X: {X.shape}  X2: {X2.shape}  X_comb: {X_comb.shape}', self.vebose)\n",
    "            \n",
    "    def loss(self, output, target): \n",
    "        if target.ndim == 2: _, target = target.max(dim=1)\n",
    "        if self.training and self.unlabeled_sample_weight != 1: \n",
    "            loss = (1 - self.unlabeled_sample_weight) * self.old_loss_func(output[:self.dls.train.bs], target[:self.dls.train.bs])\n",
    "            loss += self.unlabeled_sample_weight * self.old_loss_func(output[self.dls.train.bs:], target[self.dls.train.bs:])\n",
    "            return loss \n",
    "        else: \n",
    "            return self.old_loss_func(output, target)\n",
    "    \n",
    "    def after_fit(self):\n",
    "        self.dls.train.after_batch = self.old_train_dl_batch_tfms\n",
    "        self.learn.loss_func = self.old_loss_func\n",
    "        self.dls.train.bs = self.bs\n",
    "        self.dls.bs = self.bs"
   ]
  },
  {
   "cell_type": "code",
   "execution_count": null,
   "metadata": {},
   "outputs": [
    {
     "name": "stdout",
     "output_type": "stream",
     "text": [
      "Dataset: NATOPS\n",
      "X      : (360, 24, 51)\n",
      "y      : (360,)\n",
      "splits : ((#180) [0,1,2,3,4,5,6,7,8,9...], (#180) [180,181,182,183,184,185,186,187,188,189...]) \n",
      "\n"
     ]
    }
   ],
   "source": [
    "from tsai.data.all import *\n",
    "from tsai.models.InceptionTime import *\n",
    "from tsai.models.layers import *\n",
    "dsid = 'NATOPS'\n",
    "X, y, splits = get_UCR_data(dsid, parent_dir='./data/UCR/', verbose=True, on_disk=True, return_split=False)"
   ]
  },
  {
   "cell_type": "code",
   "execution_count": null,
   "metadata": {},
   "outputs": [
    {
     "data": {
      "text/plain": [
       "(TSTensor(samples:64, vars:24, len:51),\n",
       " TensorCategory([0, 5, 4, 4, 0, 4, 4, 5, 3, 3, 1, 1, 5, 3, 2, 2, 2, 0, 0, 4, 1, 0, 3, 2,\n",
       "         5, 1, 5, 5, 0, 1, 3, 4, 1, 0, 3, 2, 0, 4, 1, 5, 1, 5, 5, 5, 1, 2, 2, 3,\n",
       "         3, 0, 0, 0, 3, 5, 3, 4, 5, 1, 2, 5, 1, 4, 1, 0]))"
      ]
     },
     "execution_count": null,
     "metadata": {},
     "output_type": "execute_result"
    }
   ],
   "source": [
    "tfms = [None, Categorize()]\n",
    "dsets = TSDatasets(X, y, tfms=tfms, splits=splits)\n",
    "batch_tfms = None\n",
    "dls = TSDataLoaders.from_dsets(dsets.train, dsets.valid, bs=64, batch_tfms=batch_tfms)\n",
    "first(dls.train)"
   ]
  },
  {
   "cell_type": "code",
   "execution_count": null,
   "metadata": {},
   "outputs": [],
   "source": [
    "unlabeled_data = X\n",
    "pseudolabels = ToNumpyCategory()(y) # one-hot to simulate soft preds, but also work with hard preds!\n",
    "pseudolabels = OneHot()(y) # one-hot to simulate soft preds, but also work with hard preds!\n",
    "dsets2 = TSDatasets(unlabeled_data, pseudolabels)\n",
    "dl2 = TSDataLoader(dsets2, bs=4, num_workers=0)\n",
    "test_eq(torch.equal(first(dl2)[0], TSTensor(unlabeled_data[dl2.input_idxs])), True)"
   ]
  },
  {
   "cell_type": "code",
   "execution_count": null,
   "metadata": {},
   "outputs": [],
   "source": [
    "cbs = []\n",
    "noisy_student = NoisyStudent(dl2, unlabel_ratio=4, batch_tfms=[TSStandardize(), TSRandomSize(.5)], verbose=True)\n",
    "cbs += [noisy_student]"
   ]
  },
  {
   "cell_type": "code",
   "execution_count": null,
   "metadata": {},
   "outputs": [
    {
     "data": {
      "text/plain": [
       "(#4) [TrainEvalCallback,Recorder,ProgressCallback,NoisyStudent]"
      ]
     },
     "execution_count": null,
     "metadata": {},
     "output_type": "execute_result"
    }
   ],
   "source": [
    "learn = Learner(dls, InceptionTime(dls.vars, dls.c), loss_func=LabelSmoothingCrossEntropy(), cbs=cbs, metrics=[accuracy])\n",
    "learn.cbs"
   ]
  },
  {
   "cell_type": "code",
   "execution_count": null,
   "metadata": {},
   "outputs": [
    {
     "name": "stdout",
     "output_type": "stream",
     "text": [
      "effective unlabel_ratio          : 4.000 --> 1.909             dl.bs: 22  dl2.bs: 42\n",
      "relative unlabeled sample weight : 0.955\n"
     ]
    },
    {
     "data": {
      "text/html": [
       "<table border=\"1\" class=\"dataframe\">\n",
       "  <thead>\n",
       "    <tr style=\"text-align: left;\">\n",
       "      <th>epoch</th>\n",
       "      <th>train_loss</th>\n",
       "      <th>valid_loss</th>\n",
       "      <th>accuracy</th>\n",
       "      <th>time</th>\n",
       "    </tr>\n",
       "  </thead>\n",
       "  <tbody>\n",
       "    <tr>\n",
       "      <td>0</td>\n",
       "      <td>1.201314</td>\n",
       "      <td>1.740737</td>\n",
       "      <td>0.211111</td>\n",
       "      <td>00:23</td>\n",
       "    </tr>\n",
       "  </tbody>\n",
       "</table>"
      ],
      "text/plain": [
       "<IPython.core.display.HTML object>"
      ]
     },
     "metadata": {},
     "output_type": "display_data"
    },
    {
     "name": "stdout",
     "output_type": "stream",
     "text": [
      "X: torch.Size([22, 24, 51])  X2: torch.Size([42, 24, 51])  y: torch.Size([22, 6]) y2: torch.Size([42, 6])\n",
      "X: torch.Size([22, 24, 51])  X2: torch.Size([42, 24, 51])  X_comb: torch.Size([64, 24, 49])\n",
      "X: torch.Size([22, 24, 51])  X2: torch.Size([42, 24, 51])  y: torch.Size([22, 6]) y2: torch.Size([42, 6])\n",
      "X: torch.Size([22, 24, 51])  X2: torch.Size([42, 24, 51])  X_comb: torch.Size([64, 24, 65])\n",
      "X: torch.Size([22, 24, 51])  X2: torch.Size([42, 24, 51])  y: torch.Size([22, 6]) y2: torch.Size([42, 6])\n",
      "X: torch.Size([22, 24, 51])  X2: torch.Size([42, 24, 51])  X_comb: torch.Size([64, 24, 43])\n",
      "X: torch.Size([22, 24, 51])  X2: torch.Size([42, 24, 51])  y: torch.Size([22, 6]) y2: torch.Size([42, 6])\n",
      "X: torch.Size([22, 24, 51])  X2: torch.Size([42, 24, 51])  X_comb: torch.Size([64, 24, 42])\n",
      "X: torch.Size([22, 24, 51])  X2: torch.Size([42, 24, 51])  y: torch.Size([22, 6]) y2: torch.Size([42, 6])\n",
      "X: torch.Size([22, 24, 51])  X2: torch.Size([42, 24, 51])  X_comb: torch.Size([64, 24, 110])\n",
      "X: torch.Size([22, 24, 51])  X2: torch.Size([42, 24, 51])  y: torch.Size([22, 6]) y2: torch.Size([42, 6])\n",
      "X: torch.Size([22, 24, 51])  X2: torch.Size([42, 24, 51])  X_comb: torch.Size([64, 24, 109])\n",
      "X: torch.Size([22, 24, 51])  X2: torch.Size([42, 24, 51])  y: torch.Size([22, 6]) y2: torch.Size([42, 6])\n",
      "X: torch.Size([22, 24, 51])  X2: torch.Size([42, 24, 51])  X_comb: torch.Size([64, 24, 84])\n",
      "X: torch.Size([22, 24, 51])  X2: torch.Size([42, 24, 51])  y: torch.Size([22, 6]) y2: torch.Size([42, 6])\n",
      "X: torch.Size([22, 24, 51])  X2: torch.Size([42, 24, 51])  X_comb: torch.Size([64, 24, 72])\n"
     ]
    }
   ],
   "source": [
    "learn.fit_one_cycle(1)"
   ]
  },
  {
   "cell_type": "code",
   "execution_count": null,
   "metadata": {},
   "outputs": [
    {
     "data": {
      "text/plain": [
       "(Pipeline: ,\n",
       " (TSTensor(samples:64, vars:24, len:51),\n",
       "  TensorCategory([2, 5, 1, 3, 4, 0, 5, 2, 2, 5, 5, 4, 0, 0, 2, 3, 5, 4, 2, 5, 3, 1, 5, 3,\n",
       "          1, 3, 4, 1, 5, 0, 4, 5, 4, 2, 1, 3, 1, 4, 0, 4, 3, 2, 3, 4, 5, 5, 3, 4,\n",
       "          2, 1, 4, 0, 0, 4, 0, 1, 1, 4, 0, 0, 5, 2, 3, 2])),\n",
       " LabelSmoothingCrossEntropy(),\n",
       " 64)"
      ]
     },
     "execution_count": null,
     "metadata": {},
     "output_type": "execute_result"
    }
   ],
   "source": [
    "learn.dls.train.after_batch, first(dls.train), learn.loss_func, learn.dls.train.bs"
   ]
  },
  {
   "cell_type": "markdown",
   "metadata": {},
   "source": [
    "## Progressive resizing"
   ]
  },
  {
   "cell_type": "code",
   "execution_count": null,
   "metadata": {},
   "outputs": [],
   "source": [
    "# old\n",
    "@log_args\n",
    "class ScheduledResizing(Callback):\n",
    "    \"A callback to implement progressive resizing during training based on a schedule function (sched_lin, sched_exp or sched_cos (default))\"\n",
    "    def __init__(self, initial_size_perc:float=0., final_size_perc:float=1., initial_iter_perc:float=0., final_iter_perc:float=1., \n",
    "                 schedule_func:callable=sched_cos, show_plot:bool=False): \n",
    "        self.initial_size_perc,self.final_size_perc,self.initial_iter_perc,self.final_iter_perc,self.schedule_func,self.show_plot = \\\n",
    "        initial_size_perc,final_size_perc,initial_iter_perc,final_iter_perc,schedule_func,show_plot\n",
    "    def before_fit(self):\n",
    "        self.magnitude = []\n",
    "    def before_batch(self):\n",
    "        if self.training: \n",
    "            magnitude = self.schedule_func(self.initial_size_perc, self.final_size_perc, \n",
    "                                           min(1, max(0, self.pct_train - self.initial_iter_perc) / (self.final_iter_perc - self.initial_iter_perc)))\n",
    "            self.magnitude.append(magnitude)\n",
    "            self.learn.xb = (TSResize(magnitude)(self.x, split_idx=self.dl.split_idx), )\n",
    "    def after_fit(self):\n",
    "        if self.show_plot: \n",
    "            plt.plot(self.magnitude)\n",
    "            plt.show()\n",
    "    def __repr__(self):\n",
    "        return f'{self.__class__.__name__}({self.initial_size_perc},{self.final_size_perc},{self.initial_iter_perc},{self.final_iter_perc},\\\n",
    "{self.schedule_func},{self.show_plot})'"
   ]
  },
  {
   "cell_type": "code",
   "execution_count": null,
   "metadata": {},
   "outputs": [],
   "source": [
    "# ProgressiveResizing(2,1,.3,.7)"
   ]
  },
  {
   "cell_type": "code",
   "execution_count": null,
   "metadata": {},
   "outputs": [],
   "source": [
    "# old\n",
    "@log_args\n",
    "class ScheduledResize(Callback):\n",
    "    \"A callback to implement scheduled resizing during training based on a function (sched_lin, sched_exp or sched_cos (default))\"\n",
    "    def __init__(self, initial_size_perc:float=0., final_size_perc:float=1., initial_iter_perc:float=0., final_iter_perc:float=1., \n",
    "                 schedule_func:callable=sched_cos, show_plot:bool=False): \n",
    "        self.initial_size_perc,self.final_size_perc,self.initial_iter_perc,self.final_iter_perc,self.schedule_func,self.show_plot = \\\n",
    "        initial_size_perc,final_size_perc,initial_iter_perc,final_iter_perc,schedule_func,show_plot\n",
    "    def before_fit(self):\n",
    "        self.magnitude = []\n",
    "    def before_batch(self):\n",
    "        if self.training: \n",
    "            magnitude = self.schedule_func(self.initial_size_perc, self.final_size_perc, \n",
    "                                           min(1, max(0, self.pct_train - self.initial_iter_perc) / (self.final_iter_perc - self.initial_iter_perc)))\n",
    "            self.magnitude.append(magnitude)\n",
    "            self.learn.xb = (TSResize(magnitude)(self.x, split_idx=self.dl.split_idx), )\n",
    "    def after_fit(self):\n",
    "        if self.show_plot: \n",
    "            plt.plot(self.magnitude)\n",
    "            plt.show()\n",
    "    def __repr__(self):\n",
    "        return f'{self.__class__.__name__}({self.initial_size_perc},{self.final_size_perc},{self.initial_iter_perc},{self.final_iter_perc},\\\n",
    "{self.schedule_func},{self.show_plot})'"
   ]
  },
  {
   "cell_type": "code",
   "execution_count": null,
   "metadata": {},
   "outputs": [],
   "source": [
    "# export\n",
    "@log_args\n",
    "class TransformScheduler(Callback):\n",
    "    \"A callback to schedule batch transforms during training based on a function (sched_lin, sched_exp, sched_cos (default), etc)\"\n",
    "    def __init__(self, schedule_func:callable, show_plot:bool=False): \n",
    "        self.schedule_func,self.show_plot = schedule_func,show_plot\n",
    "        self.mult = []\n",
    "\n",
    "    def before_fit(self):\n",
    "        for pct in np.linspace(0, 1, len(self.dls.train) * self.n_epoch): self.mult.append(self.schedule_func(pct))\n",
    "        # get initial magnitude values and update initial value\n",
    "        self.mag = []\n",
    "        self.mag_tfms = []\n",
    "        for t in self.dls.after_batch: \n",
    "            if hasattr(t, 'magnitude'):\n",
    "                self.mag.append(t.magnitude)\n",
    "                t.magnitude *= self.mult[0]\n",
    "                self.mag_tfms.append(t)\n",
    "\n",
    "    def after_batch(self):\n",
    "        if self.training and len(self.mag_tfms)>0 and self.train_iter < len(self.mult):\n",
    "            # set values for next batch\n",
    "            for t,m in zip(self.mag_tfms, self.mag): \n",
    "                t.magnitude = m * self.mult[self.train_iter]\n",
    "                \n",
    "    def after_fit(self):\n",
    "        if self.show_plot and self.mult != [] and len(self.mag_tfms)>0: \n",
    "            print()\n",
    "            plt.plot(self.mult)\n",
    "            plt.title('Scheduled tfms')\n",
    "            plt.show()\n",
    "            print()\n",
    "            self.show_plot = False\n",
    "        # set values to initial values\n",
    "        for t,m in zip(self.mag_tfms, self.mag): t.magnitude = m\n",
    "    \n",
    "    def __repr__(self):\n",
    "        return f'{self.__class__.__name__}({self.schedule_func})'"
   ]
  },
  {
   "cell_type": "code",
   "execution_count": null,
   "metadata": {},
   "outputs": [
    {
     "data": {
      "text/plain": [
       "TransformScheduler(<fastai.callback.schedule._Annealer object at 0x7fd728308910>)"
      ]
     },
     "execution_count": null,
     "metadata": {},
     "output_type": "execute_result"
    }
   ],
   "source": [
    "TransformScheduler(SchedCos(1, 0))"
   ]
  },
  {
   "cell_type": "code",
   "execution_count": null,
   "metadata": {},
   "outputs": [
    {
     "data": {
      "image/png": "[encoded data removed]",
      "text/plain": [
       "<Figure size 432x288 with 1 Axes>"
      ]
     },
     "metadata": {
      "needs_background": "light"
     },
     "output_type": "display_data"
    }
   ],
   "source": [
    "p = torch.linspace(0.,1,100)\n",
    "f = combine_scheds([0.3, 0.4, 0.3], [SchedLin(1.,1.), SchedCos(1.,0.), SchedLin(0.,.0), ])\n",
    "plt.plot(p, [f(o) for o in p]);"
   ]
  },
  {
   "cell_type": "code",
   "execution_count": null,
   "metadata": {},
   "outputs": [
    {
     "data": {
      "image/png": "[encoded data removed]",
      "text/plain": [
       "<Figure size 432x288 with 1 Axes>"
      ]
     },
     "metadata": {
      "needs_background": "light"
     },
     "output_type": "display_data"
    }
   ],
   "source": [
    "p = torch.linspace(0.,1,100)\n",
    "f = combine_scheds([0.3, 0.7], [SchedCos(0.,1.), SchedCos(1.,0.)])\n",
    "plt.plot(p, [f(o) for o in p]);"
   ]
  },
  {
   "cell_type": "code",
   "execution_count": null,
   "metadata": {},
   "outputs": [],
   "source": [
    "#export\n",
    "@log_args\n",
    "class TSStdBySampleCallback(Callback):\n",
    "    \"A callback to standardize each sample in a batch (optionally by_var)\"\n",
    "    def __init__(self, by_channel=False): self.by_var = by_var\n",
    "    def before_batch(self): self.learn.xb = (TSStdBySample(self.by_var)(self.x, split_idx=0), )\n",
    "    def __repr__(self): return f'TSStdBySample({self.by_channel})'"
   ]
  },
  {
   "cell_type": "code",
   "execution_count": null,
   "metadata": {},
   "outputs": [],
   "source": [
    "#export\n",
    "class ShowGraphCallback2(Callback):\n",
    "    \"(Modified) Update a graph of training and validation loss\"\n",
    "    run_after,run_valid=ProgressCallback,False\n",
    "\n",
    "    def before_fit(self):\n",
    "        self.run = not hasattr(self.learn, 'lr_finder') and not hasattr(self, \"gather_preds\")\n",
    "        if not(self.run): return\n",
    "        self.nb_batches = []\n",
    "        assert hasattr(self.learn, 'progress')\n",
    "\n",
    "    def after_train(self): self.nb_batches.append(self.train_iter)\n",
    "\n",
    "    def after_epoch(self):\n",
    "        \"Plot validation loss in the pbar graph\"\n",
    "        rec = self.learn.recorder\n",
    "        iters = range_of(rec.losses)\n",
    "        val_losses = [v[1] for v in rec.values]\n",
    "        x_bounds = (0, (self.n_epoch - len(self.nb_batches)) * self.nb_batches[0] + len(rec.losses))\n",
    "        y_min = min((min(Tensor(rec.losses)), min(Tensor(val_losses))))\n",
    "        y_max = max((max(Tensor(rec.losses)), max(Tensor(val_losses))))\n",
    "        margin = (y_max - y_min) * .05\n",
    "        y_bounds = (y_min - margin, y_max + margin)\n",
    "        self.progress.mbar.update_graph([(iters, rec.losses), (self.nb_batches, val_losses)], x_bounds, y_bounds)"
   ]
  },
  {
   "cell_type": "markdown",
   "metadata": {},
   "source": [
    "## Output"
   ]
  },
  {
   "cell_type": "code",
   "execution_count": null,
   "metadata": {},
   "outputs": [
    {
     "data": {
      "application/javascript": [
       "IPython.notebook.save_checkpoint()"
      ],
      "text/plain": [
       "<IPython.core.display.Javascript object>"
      ]
     },
     "metadata": {},
     "output_type": "display_data"
    },
    {
     "name": "stdout",
     "output_type": "stream",
     "text": [
      "Converted 000_utils.ipynb.\n",
      "Converted 000b_data.validation.ipynb.\n",
      "Converted 001_data.external.ipynb.\n",
      "Converted 002_data.core.ipynb.\n",
      "Converted 003_data.transforms.ipynb.\n",
      "Converted 003b_data.image.ipynb.\n",
      "Converted 005_data.tabular.ipynb.\n",
      "Converted 007_metrics.ipynb.\n",
      "Converted 008_learner.ipynb.\n",
      "Converted 009_optimizer.ipynb.\n",
      "Converted 010_callback.ipynb.\n",
      "Converted 100_models.layers.ipynb.\n",
      "Converted 100b_models.utils.ipynb.\n",
      "Converted 101_models.ResNet.ipynb.\n",
      "Converted 101b_models.ResNetPlus.ipynb.\n",
      "Converted 102_models.InceptionTime.ipynb.\n",
      "Converted 102b_models.InceptionTimePlus.ipynb.\n",
      "Converted 103_models.FCN.ipynb.\n",
      "Converted 103b_models.FCNPlus.ipynb.\n",
      "Converted 104_models.ResCNN.ipynb.\n",
      "Converted 105_models.RNN.ipynb.\n",
      "Converted 106_models.XceptionTime.ipynb.\n",
      "Converted 106b_models.XceptionTimePlus.ipynb.\n",
      "Converted 107_models.RNN_FCN.ipynb.\n",
      "Converted 107b_models.RNN_FCNPlus.ipynb.\n",
      "Converted 108_models.Transformer.ipynb.\n",
      "Converted 109_models.OmniScaleCNN.ipynb.\n",
      "Converted 110_models.mWDN.ipynb.\n",
      "Converted 111_models.ROCKET.ipynb.\n",
      "Converted 112_models.XResNet1d.ipynb.\n",
      "Converted 112b_models.XResNet1dPlus.ipynb.\n",
      "Converted 200_trading.utils.ipynb.\n",
      "Converted index.ipynb.\n",
      "\n",
      "\n",
      "Checking folder: /Users/nacho/Documents/Machine_Learning/Jupyter_Notebooks/timeseries/tsai\n",
      "Correct conversion! 😃\n",
      "Total time elapsed 43 s\n",
      "Thursday 10/08/20 16:28:28 CEST\n"
     ]
    },
    {
     "data": {
      "text/html": [
       "\n",
       "                <audio  controls=\"controls\" autoplay=\"autoplay\">\n",
       "                    <source src=\"data:audio/wav;base64,UklGRvQHAABXQVZFZm10IBAAAAABAAEAECcAACBOAAACABAAZGF0YdAHAAAAAPF/iPh/gOoOon6w6ayCoR2ZeyfbjobxK+F2Hs0XjKc5i3DGvzaTlEaraE+zz5uLUl9f46fHpWJdxVSrnfmw8mYEScqUP70cb0Q8X41uysJ1si6Eh1jYzXp9IE2DzOYsftYRyoCY9dJ/8QICgIcEun8D9PmAaBPlfT7lq4MFIlh61tYPiCswIHX+yBaOqT1QbuW7qpVQSv9lu6+xnvRVSlyopAypbGBTUdSalrSTaUBFYpInwUpxOzhti5TOdndyKhCGrdwAfBUcXIJB69p+Vw1egB76+n9q/h6ADglbf4LvnIHfF/981ODThF4m8HiS0riJVjQ6c+/EOZCYQfJrGrhBmPVNMmNArLKhQlkXWYqhbaxXY8ZNHphLuBJsZUEckCTFVHMgNKGJytIDeSUmw4QN4Qx9pReTgb3vYX/TCBuApf75f+P5Y4CRDdN+B+tngk8c8nt03CKGqipgd13OhotwOC5x9MCAknFFcmlmtPmagFFFYOCo0qRzXMhVi57pryNmIEqJlRi8bm52PfuNM8k4dfQv+4cO12l6zCGdg3jl730uE/KAPvS+f0wEAoAsA89/XfXQgBESIn6S5luDtiC8eh/YmIfpLqt1OMp5jXg8/24MveqUNUnPZsqw0Z3yVDldnaUOqIZfXlKrm36zzWhjRhaT+r+ncHI5/otUzfd2uSt7hl/bqXtoHaCC6+mqfrAOeoDD+PJ/xf8RgLMHfH/b8GeBihZIfSXidoQSJWB52NM1iRkzz3MkxpKPbUCrbDu5d5fgTAxkSK3JoEhYD1p2omere2LZTuqYLbdWa49Cx5Dww7tyXDUnioXRkHhwJyKFvd/AfPoYy4Fl7j1/LQorgEr9/X89+0qAOAwAf13sJoL8Gkd8wt25hWIp3Heez/eKODfPcSPCzpFNRDVqf7UlmnNQKGHgqd+jgVvJVm2f265QZTpLS5byur1tpT6ajvrHq3Q2MXWIxtUCehoj8YMk5LB9hRQegeTypn+nBQWA0QHgf7f2q4C5EFt+5ucOg2YfHXtq2SSHpS0ydnTL4IxFO6pvNb4ulBdInWfcsfSc7VMmXpSmE6eeXmZThJxpsgRohEfOk86+AHCoOpOMFsx1dv8s6oYT2k17uR7ngpXod34IEJqAaPfnfyABCIBZBpl/NPI2gTQVjX134x2ExSPMeR7VtYjZMWJ0W8ftjkA/YW1durCWykvjZFKu4p9LVwVbZKNkqpxh6U+6mRC2mGq2Q3SRvsIgcpc2sIpD0Bp4uiiFhW3ecXxOGgaCDe0Vf4cLPoDv+/5/mfw1gN4KKX+17emBqBmYfBHfVYUZKFR44NBtiv41bHJUwx+RJkP1apu2VJlkTwli4qrwoo1ax1dToNCtemRSTBGXz7kJbdM/PY/Dxht0dTLziH7Ul3loJEiE0uJsfdsVTYGL8Yt/AgcMgHYA7X8S+IqAYA+QfjzpxIIVHnp7tdqzhmAstXaxzEqMETpScGC/dJP3Rmdo8LIZnOVSEF+Opxumsl1sVF+dVrE5Z6NIiZSkvVdv2zsqjdnK8HVDLlyHyNjuegogM4NA5z9+YRG9gA722H97AgOA/gSyf43zCIHdE899yuTIg3ciNXpm1jmImTDwdJPITI4RPhRugbvslbFKt2Vfr/6eTFb4W1WkY6m6YPdQjJr2tNZp3EQlko7BgXHRNz2LAc+gdwMq7IUf3R58ohtFgrbr6n7hDFWAlPr8f/T9I4CECU9/De+vgVQY5nxh4POEzybJeCTS5YnCNAZzhsRzkP1Bsmu4t4aYU07nYuerA6KWWcJYO6HHrKJjaE3Zl624UWz/QOOPjcWHc7QzdIk40yl5tCWjhIDhJX0xF4CBMvBsf10IF4Ac//Z/bPlsgAcOwn6S6n6CwxzUewLcRoYaKzV38M23i9o493CNwL6S1UUuaQe0QpvbUfdfiqglpcRccFU+nkWwambASUiVfLyqbg49xY2eyWh1hy/Sh37XjHpaIYKD7OUEfrgS5IC09MV/1gMBgKMDyH/n9N6AhhINfh7mdoMoIZt6r9fAh1cvfHXNya6N4DzDbqi8K5WWSYlmbbAdnkpV6FxJpWSo1V8DUmGb3rMRaQBG2JJgwN9wCDnNi8HNI3dKK1aG0dvHe/UciIJf6rt+Og5wgDn59X9P/xWAKQhxf2XweYH+FjB9suGVhIMlOnlo02GJhTOdc7vFyo/TQGxs2Li7lz9NwmPurBihnVi7WSWiwKvGYntOpJiOt5drKUKMkFnE8HLxNPmJ9NG4eP8mAYUv4Np8hhi3gdruSX+3CSWAwP38f8f6UoCuDPF+6Os8gnAbKnxQ3d2F0imydzDPKIuiN5lxu8EKkrFE82kftW2az1DbYImpMqTUW3FWIJ83r5hl2koJlla7+m0+PmSOZcjcdMgwS4g11iZ6qCLUg5jkxn0QFA6BWvOvfzEFBIBHAtp/Qfa3gC4RSH5y5yeD2B/8evnYS4cULgR2CMsUja47cG/QvW6UeEhXZ3+xP51GVNVdP6Zpp+1eDFM5nMeySWghR4+TNL85cD46YIyCzKJ2kCzEhoTabXtGHs+CCemJfpMPjoDe9+t/qQALgM8Gj3++8UaBqRV2fQTjO4Q3JKd5r9TgiEYyMHTxxiWPpz8jbfq585YpTJpk960xoKFXsVoTo7yq6GGMTw==\" type=\"audio/wav\" />\n",
       "                    Your browser does not support the audio element.\n",
       "                </audio>\n",
       "              "
      ],
      "text/plain": [
       "<IPython.lib.display.Audio object>"
      ]
     },
     "metadata": {},
     "output_type": "display_data"
    }
   ],
   "source": [
    "#hide\n",
    "out = create_scripts()\n",
    "beep(out)"
   ]
  }
 ],
 "metadata": {
  "kernelspec": {
   "display_name": "Python 3",
   "language": "python",
   "name": "python3"
  }
 },
 "nbformat": 4,
 "nbformat_minor": 2
}
