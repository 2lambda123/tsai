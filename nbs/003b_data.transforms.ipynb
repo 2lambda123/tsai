{
 "cells": [
  {
   "cell_type": "code",
   "execution_count": null,
   "metadata": {},
   "outputs": [],
   "source": [
    "# default_exp data.transforms"
   ]
  },
  {
   "cell_type": "markdown",
   "metadata": {},
   "source": [
    "# Time Series Data Augmentation\n",
    "\n",
    "> Functions used to transform TSTensors (Data Augmentation)."
   ]
  },
  {
   "cell_type": "code",
   "execution_count": null,
   "metadata": {},
   "outputs": [],
   "source": [
    "#export\n",
    "from fastai.vision.augment import RandTransform\n",
    "from tsai.imports import *\n",
    "from tsai.utils import *\n",
    "from tsai.data.external import *\n",
    "from tsai.data.core import *\n",
    "from tsai.data.preprocessing import *"
   ]
  },
  {
   "cell_type": "code",
   "execution_count": null,
   "metadata": {},
   "outputs": [],
   "source": [
    "#export\n",
    "from scipy.interpolate import CubicSpline\n",
    "from scipy.ndimage import convolve1d, zoom\n",
    "import pywt\n",
    "from pyts.image.gaf import GramianAngularField"
   ]
  },
  {
   "cell_type": "code",
   "execution_count": null,
   "metadata": {},
   "outputs": [],
   "source": [
    "dsid = 'NATOPS'\n",
    "X, y, splits = get_UCR_data(dsid, return_split=False)\n",
    "tfms = [None, Categorize()]\n",
    "batch_tfms = TSStandardize()\n",
    "dls = get_ts_dls(X, y, tfms=tfms, splits=splits, batch_tfms=batch_tfms, bs=128)\n",
    "xb, yb = next(iter(dls.train))"
   ]
  },
  {
   "cell_type": "code",
   "execution_count": null,
   "metadata": {},
   "outputs": [],
   "source": [
    "#export\n",
    "class TSIdentity(RandTransform):\n",
    "    \"Applies the identity tfm to a `TSTensor` batch\"\n",
    "    order = 90\n",
    "    def __init__(self, magnitude=None, **kwargs): \n",
    "        self.magnitude = magnitude \n",
    "        super().__init__(**kwargs)\n",
    "    def encodes(self, o: TSTensor): return o"
   ]
  },
  {
   "cell_type": "code",
   "execution_count": null,
   "metadata": {},
   "outputs": [],
   "source": [
    "test_eq(TSIdentity()(xb, split_idx=0).shape, xb.shape)"
   ]
  },
  {
   "cell_type": "code",
   "execution_count": null,
   "metadata": {},
   "outputs": [],
   "source": [
    "#export\n",
    "# partial(TSShuffle_HLs, ex=0), \n",
    "class TSShuffle_HLs(RandTransform):\n",
    "    \"Randomly shuffles HIs/LOs of an OHLC `TSTensor` batch\"\n",
    "    order = 70\n",
    "    def __init__(self, magnitude=1., ex=None, **kwargs): \n",
    "        self.magnitude, self.ex = magnitude, ex\n",
    "        super().__init__(**kwargs)\n",
    "    def encodes(self, o: TSTensor):\n",
    "        if not self.magnitude or self.magnitude <= 0: return o\n",
    "        timesteps = o.shape[-1] // 4\n",
    "        pos_rand_list = np.random.choice(np.arange(timesteps),size=random.randint(1, timesteps),replace=False)\n",
    "        rand_list = pos_rand_list * 4\n",
    "        highs = rand_list + 1\n",
    "        lows = highs + 1\n",
    "        a = np.vstack([highs, lows]).flatten('F')\n",
    "        b = np.vstack([lows, highs]).flatten('F')\n",
    "        output = o.clone()\n",
    "        output[...,a] = output[...,b]\n",
    "        if self.ex is not None: output[...,self.ex,:] = o[...,self.ex,:]\n",
    "        return output"
   ]
  },
  {
   "cell_type": "code",
   "execution_count": null,
   "metadata": {},
   "outputs": [],
   "source": [
    "test_eq(TSShuffle_HLs()(xb, split_idx=0).shape, xb.shape)"
   ]
  },
  {
   "cell_type": "code",
   "execution_count": null,
   "metadata": {},
   "outputs": [],
   "source": [
    "#export\n",
    "# partial(TSShuffleSteps, ex=0), \n",
    "class TSShuffleSteps(RandTransform):\n",
    "    \"Randomly shuffles consecutive sequence datapoints in batch\"\n",
    "    order = 70\n",
    "    def __init__(self, magnitude=1., ex=None, **kwargs): \n",
    "        self.magnitude, self.ex = magnitude, ex\n",
    "        super().__init__(**kwargs)\n",
    "    def encodes(self, o: TSTensor):\n",
    "        if not self.magnitude or self.magnitude <= 0: return o\n",
    "        odd = 1 - o.shape[-1]%2\n",
    "        r = np.random.randint(2)\n",
    "        timesteps = o.shape[-1] // 2\n",
    "        pos_rand_list = np.random.choice(np.arange(0, timesteps - r * odd), size=random.randint(1, timesteps - r * odd),replace=False) * 2 + 1 + r\n",
    "        a = np.vstack([pos_rand_list, pos_rand_list - 1]).flatten('F')\n",
    "        b = np.vstack([pos_rand_list - 1, pos_rand_list]).flatten('F')\n",
    "        output = o.clone()\n",
    "        output[...,a] = output[...,b]\n",
    "        if self.ex is not None: output[...,self.ex,:] = o[...,self.ex,:]\n",
    "        return output"
   ]
  },
  {
   "cell_type": "code",
   "execution_count": null,
   "metadata": {},
   "outputs": [
    {
     "data": {
      "image/png": "[encoded data removed]",
      "text/plain": [
       "<Figure size 432x288 with 1 Axes>"
      ]
     },
     "metadata": {
      "needs_background": "light"
     },
     "output_type": "display_data"
    }
   ],
   "source": [
    "t = TSTensor(torch.arange(11).float())\n",
    "tt_ = []\n",
    "for _ in range(1000): \n",
    "    tt = TSShuffleSteps()(t, split_idx=0)\n",
    "    test_eq(len(set(tt.tolist())), len(t))\n",
    "    test_ne(tt, t)\n",
    "    tt_.extend([t for i,t in enumerate(tt) if t!=i])\n",
    "x, y = np.unique(tt_, return_counts=True) # This is to visualize distribution which should be equal for all and half for first and last items\n",
    "plt.bar(x, y);"
   ]
  },
  {
   "cell_type": "code",
   "execution_count": null,
   "metadata": {},
   "outputs": [],
   "source": [
    "#export\n",
    "class TSMagAddNoise(RandTransform):\n",
    "    \"Applies additive noise on the y-axis for each step of a `TSTensor` batch\"\n",
    "    order = 80\n",
    "    def __init__(self, magnitude=1, ex=None, **kwargs):\n",
    "        self.magnitude, self.ex = magnitude, ex\n",
    "        super().__init__(**kwargs)\n",
    "    def encodes(self, o: TSTensor):\n",
    "        if not self.magnitude or self.magnitude <= 0: return o\n",
    "        # output = o + torch.normal(0, o.std() * self.magnitude, o.shape, dtype=o.dtype, device=o.device)\n",
    "        output = o + torch.normal(0, 1/3, o.shape, dtype=o.dtype, device=o.device) * (o[..., 1:] - o[..., :-1]).std(2, keepdims=True) * self.magnitude\n",
    "        if self.ex is not None: output[...,self.ex,:] = o[...,self.ex,:]\n",
    "        return output\n",
    "\n",
    "class TSMagMulNoise(RandTransform): \n",
    "    \"Applies multiplicative noise on the y-axis for each step of a `TSTensor` batch\"\n",
    "    order = 80\n",
    "    def __init__(self, magnitude=1, ex=None, **kwargs): \n",
    "        self.magnitude, self.ex = magnitude, ex\n",
    "        super().__init__(**kwargs)\n",
    "    def encodes(self, o: TSTensor):\n",
    "        if not self.magnitude or self.magnitude <= 0: return o\n",
    "        noise = torch.normal(1, self.magnitude * .025, o.shape, dtype=o.dtype, device=o.device)\n",
    "        output = o * noise\n",
    "        if self.ex is not None: output[...,self.ex,:] = o[...,self.ex,:]\n",
    "        return output"
   ]
  },
  {
   "cell_type": "code",
   "execution_count": null,
   "metadata": {},
   "outputs": [],
   "source": [
    "test_eq(TSMagAddNoise()(xb, split_idx=0).shape, xb.shape)\n",
    "test_eq(TSMagMulNoise()(xb, split_idx=0).shape, xb.shape)\n",
    "test_ne(TSMagAddNoise()(xb, split_idx=0), xb)\n",
    "test_ne(TSMagMulNoise()(xb, split_idx=0), xb)"
   ]
  },
  {
   "cell_type": "code",
   "execution_count": null,
   "metadata": {},
   "outputs": [],
   "source": [
    "#export\n",
    "def random_curve_generator(o, magnitude=0.1, order=4, noise=None):\n",
    "    seq_len = o.shape[-1]\n",
    "    f = CubicSpline(np.linspace(-seq_len, 2 * seq_len - 1, 3 * (order - 1) + 1, dtype=int), \n",
    "                    np.random.normal(loc=1.0, scale=magnitude, size=3 * (order - 1) + 1), axis=-1)\n",
    "    return f(np.arange(seq_len))\n",
    "\n",
    "def random_cum_curve_generator(o, magnitude=0.1, order=4, noise=None):\n",
    "    x = random_curve_generator(o, magnitude=magnitude, order=order, noise=noise).cumsum()\n",
    "    x -= x[0]\n",
    "    x /= x[-1]\n",
    "    x = np.clip(x, 0, 1)\n",
    "    return x * (o.shape[-1] - 1)\n",
    "\n",
    "def random_cum_noise_generator(o, magnitude=0.1, noise=None):\n",
    "    seq_len = o.shape[-1]\n",
    "    x = np.clip(np.ones(seq_len) + np.random.normal(loc=0, scale=magnitude, size=seq_len), 0, 1000).cumsum()\n",
    "    x -= x[0]\n",
    "    x /= x[-1]\n",
    "    return x * (o.shape[-1] - 1)\n",
    "\n",
    "def random_cum_linear_generator(o, magnitude=0.1):\n",
    "    seq_len = o.shape[-1]\n",
    "    win_len = int(round(seq_len * np.random.rand() * magnitude))\n",
    "    if win_len == seq_len: return np.arange(o.shape[-1])\n",
    "    start = np.random.randint(0, seq_len - win_len)\n",
    "    # mult between .5 and 2\n",
    "    rand = np.random.rand()\n",
    "    mult = 1 + rand\n",
    "    if np.random.randint(2): mult = 1 - rand/2\n",
    "    x = np.ones(seq_len)\n",
    "    x[start : start + win_len] = mult\n",
    "    x = x.cumsum()\n",
    "    x -= x[0]\n",
    "    x /= x[-1]\n",
    "    return np.clip(x, 0, 1) * (seq_len - 1)"
   ]
  },
  {
   "cell_type": "code",
   "execution_count": null,
   "metadata": {},
   "outputs": [],
   "source": [
    "#export\n",
    "class TSTimeNoise(RandTransform):\n",
    "    \"Applies noise to each step in the x-axis of a `TSTensor` batch based on smooth random curve\"\n",
    "    order = 80\n",
    "    def __init__(self, magnitude=0.1, ex=None, **kwargs): \n",
    "        self.magnitude, self.ex = magnitude, ex\n",
    "        super().__init__(**kwargs)\n",
    "    def encodes(self, o: TSTensor):\n",
    "        if not self.magnitude or self.magnitude <= 0: return o\n",
    "        f = CubicSpline(np.arange(o.shape[-1]), o.cpu(), axis=-1)\n",
    "        output = o.new(f(random_cum_noise_generator(o, magnitude=self.magnitude)))\n",
    "        if self.ex is not None: output[...,self.ex,:] = o[...,self.ex,:]\n",
    "        return output"
   ]
  },
  {
   "cell_type": "code",
   "execution_count": null,
   "metadata": {},
   "outputs": [],
   "source": [
    "test_eq(TSTimeNoise()(xb, split_idx=0).shape, xb.shape)\n",
    "test_ne(TSTimeNoise()(xb, split_idx=0), xb)"
   ]
  },
  {
   "cell_type": "code",
   "execution_count": null,
   "metadata": {},
   "outputs": [],
   "source": [
    "#export\n",
    "class TSMagWarp(RandTransform):\n",
    "    \"Applies warping to the y-axis of a `TSTensor` batch based on a smooth random curve\"\n",
    "    order = 80\n",
    "    def __init__(self, magnitude=0.02, ord=4, ex=None, **kwargs): \n",
    "        self.magnitude, self.ord, self.ex = magnitude, ord, ex\n",
    "        super().__init__(**kwargs)\n",
    "    def encodes(self, o: TSTensor):\n",
    "        if self.magnitude and self.magnitude <= 0: return o\n",
    "        y_mult = random_curve_generator(o, magnitude=self.magnitude, order=self.ord)\n",
    "        output = o * o.new(y_mult)\n",
    "        if self.ex is not None: output[...,self.ex,:] = o[...,self.ex,:]\n",
    "        return output"
   ]
  },
  {
   "cell_type": "code",
   "execution_count": null,
   "metadata": {},
   "outputs": [],
   "source": [
    "test_eq(TSMagWarp()(xb, split_idx=0).shape, xb.shape)\n",
    "test_ne(TSMagWarp()(xb, split_idx=0), xb)"
   ]
  },
  {
   "cell_type": "code",
   "execution_count": null,
   "metadata": {},
   "outputs": [],
   "source": [
    "#export\n",
    "class TSTimeWarp(RandTransform):\n",
    "    \"Applies time warping to the x-axis of a `TSTensor` batch based on a smooth random curve\"\n",
    "    order = 80\n",
    "    def __init__(self, magnitude=0.02, ord=4, ex=None, **kwargs): \n",
    "        self.magnitude, self.ord, self.ex = magnitude, ord, ex\n",
    "        super().__init__(**kwargs)\n",
    "    def encodes(self, o: TSTensor):\n",
    "        if not self.magnitude or self.magnitude <= 0: return o\n",
    "        f = CubicSpline(np.arange(o.shape[-1]), o.cpu(), axis=-1)\n",
    "        output = o.new(f(random_cum_curve_generator(o, magnitude=self.magnitude, order=self.ord)))\n",
    "        if self.ex is not None: output[...,self.ex,:] = o[...,self.ex,:]\n",
    "        return output"
   ]
  },
  {
   "cell_type": "code",
   "execution_count": null,
   "metadata": {},
   "outputs": [],
   "source": [
    "test_eq(TSTimeWarp()(xb, split_idx=0).shape, xb.shape)\n",
    "test_ne(TSTimeWarp()(xb, split_idx=0), xb)"
   ]
  },
  {
   "cell_type": "code",
   "execution_count": null,
   "metadata": {},
   "outputs": [],
   "source": [
    "#export\n",
    "class TSWindowWarp(RandTransform):\n",
    "    \"\"\"Applies window slicing to the x-axis of a `TSTensor` batch based on a random linear curve based on\n",
    "    https://halshs.archives-ouvertes.fr/halshs-01357973/document\"\"\"\n",
    "    order = 80\n",
    "    def __init__(self, magnitude=0.1, ex=None, **kwargs): \n",
    "        self.magnitude, self.ex = magnitude, ex\n",
    "        super().__init__(**kwargs)\n",
    "    def encodes(self, o: TSTensor):\n",
    "        if not self.magnitude or self.magnitude <= 0 or self.magnitude >= 1: return o\n",
    "        f = CubicSpline(np.arange(o.shape[-1]), o.cpu(), axis=-1)\n",
    "        output = o.new(f(random_cum_linear_generator(o, magnitude=self.magnitude)))\n",
    "        if self.ex is not None: output[...,self.ex,:] = o[...,self.ex,:]\n",
    "        return output"
   ]
  },
  {
   "cell_type": "code",
   "execution_count": null,
   "metadata": {},
   "outputs": [],
   "source": [
    "test_eq(TSWindowWarp()(xb, split_idx=0).shape, xb.shape)\n",
    "test_ne(TSWindowWarp(0.5)(xb, split_idx=0), xb)"
   ]
  },
  {
   "cell_type": "code",
   "execution_count": null,
   "metadata": {},
   "outputs": [],
   "source": [
    "#export\n",
    "class TSMagScale(RandTransform):\n",
    "    \"Applies scaling to the y-axis of a `TSTensor` batch based on a scalar\"\n",
    "    order = 80\n",
    "    def __init__(self, magnitude=0.5, ex=None, **kwargs): \n",
    "        self.magnitude, self.ex = magnitude, ex\n",
    "        super().__init__(**kwargs)\n",
    "    def encodes(self, o: TSTensor):\n",
    "        if not self.magnitude or self.magnitude <= 0: return o\n",
    "        rand = random_half_normal()\n",
    "        scale = (1 - (rand  * self.magnitude)/2) if random.random() > 1/3 else (1 + (rand  * self.magnitude))\n",
    "        output = o * scale\n",
    "        if self.ex is not None: output[...,self.ex,:] = o[...,self.ex,:]\n",
    "        return output\n",
    "    \n",
    "class TSMagScalePerVar(RandTransform):\n",
    "    \"Applies per_var scaling to the y-axis of a `TSTensor` batch based on a scalar\"\n",
    "    order = 80\n",
    "    def __init__(self, magnitude=0.5, ex=None, **kwargs): \n",
    "        self.magnitude, self.ex = magnitude, ex\n",
    "        super().__init__(**kwargs)\n",
    "    def encodes(self, o: TSTensor):\n",
    "        if not self.magnitude or self.magnitude <= 0: return o\n",
    "        s = [1] * o.ndim\n",
    "        s[-2] = o.shape[-2]\n",
    "        rand = random_half_normal_tensor(s, device=o.device)\n",
    "        scale = (1 - (rand  * self.magnitude)/2) if random.random() > 1/3 else (1 + (rand  * self.magnitude))\n",
    "        output = o * scale\n",
    "        if self.ex is not None: output[...,self.ex,:] = o[...,self.ex,:]\n",
    "        return output"
   ]
  },
  {
   "cell_type": "code",
   "execution_count": null,
   "metadata": {},
   "outputs": [],
   "source": [
    "test_eq(TSMagScale()(xb, split_idx=0).shape, xb.shape)\n",
    "test_eq(TSMagScalePerVar()(xb, split_idx=0).shape, xb.shape)\n",
    "test_ne(TSMagScale()(xb, split_idx=0), xb)\n",
    "test_ne(TSMagScalePerVar()(xb, split_idx=0), xb)"
   ]
  },
  {
   "cell_type": "code",
   "execution_count": null,
   "metadata": {},
   "outputs": [],
   "source": [
    "#export\n",
    "class TSRandomResizedCrop(RandTransform):\n",
    "    \"Randomly amplifies a sequence focusing on a random section of the steps\"\n",
    "    order = 95\n",
    "    def __init__(self, magnitude=0.1, ex=None, mode='linear', **kwargs): \n",
    "        \"mode:  'nearest' | 'linear' | 'area'\"\n",
    "        self.magnitude, self.ex, self.mode = magnitude, ex, mode\n",
    "        super().__init__(**kwargs)\n",
    "    def encodes(self, o: TSTensor):\n",
    "        if not self.magnitude or self.magnitude <= 0: return o\n",
    "        seq_len = o.shape[-1]\n",
    "        lambd = np.random.beta(self.magnitude, self.magnitude)\n",
    "        lambd = max(lambd, 1 - lambd)\n",
    "        win_len = int(round(seq_len * lambd))\n",
    "        if win_len == seq_len: return o\n",
    "        start = np.random.randint(0, seq_len - win_len)\n",
    "        return F.interpolate(o[..., start : start + win_len], size=seq_len, mode=self.mode, align_corners=None if self.mode in ['nearest', 'area'] else False)\n",
    "    \n",
    "TSRandomZoomIn = TSRandomResizedCrop"
   ]
  },
  {
   "cell_type": "code",
   "execution_count": null,
   "metadata": {},
   "outputs": [],
   "source": [
    "test_eq(TSRandomZoomIn(.5)(xb, split_idx=0).shape, xb.shape)"
   ]
  },
  {
   "cell_type": "code",
   "execution_count": null,
   "metadata": {},
   "outputs": [],
   "source": [
    "#export\n",
    "class TSWindowSlicing(RandTransform):\n",
    "    \"Randomly extracts an resize a ts slice based on https://halshs.archives-ouvertes.fr/halshs-01357973/document\"\n",
    "    order = 95\n",
    "    def __init__(self, magnitude=0.1, ex=None, mode='linear', **kwargs): \n",
    "        \"mode:  'nearest' | 'linear' | 'area'\"\n",
    "        self.magnitude, self.ex, self.mode = magnitude, ex, mode\n",
    "        super().__init__(**kwargs)\n",
    "    def encodes(self, o: TSTensor):\n",
    "        if not self.magnitude or self.magnitude <= 0 or self.magnitude >= 1: return o\n",
    "        seq_len = o.shape[-1]\n",
    "        win_len = int(round(seq_len * (1 - self.magnitude)))\n",
    "        if win_len == seq_len: return o\n",
    "        start = np.random.randint(0, seq_len - win_len)\n",
    "        return F.interpolate(o[..., start : start + win_len], size=seq_len, mode=self.mode, align_corners=None if self.mode in ['nearest', 'area'] else False)"
   ]
  },
  {
   "cell_type": "code",
   "execution_count": null,
   "metadata": {},
   "outputs": [],
   "source": [
    "test_eq(TSWindowSlicing()(xb, split_idx=0).shape, xb.shape)\n",
    "test_ne(TSWindowSlicing()(xb, split_idx=0), xb)"
   ]
  },
  {
   "cell_type": "code",
   "execution_count": null,
   "metadata": {},
   "outputs": [],
   "source": [
    "#export\n",
    "class TSRandomZoomOut(RandTransform):\n",
    "    \"Randomly compresses a sequence on the x-axis\"\n",
    "    order = 95\n",
    "    def __init__(self, magnitude=0.1, ex=None, mode='linear', **kwargs): \n",
    "        \"mode:  'nearest' | 'linear' | 'area'\"\n",
    "        self.magnitude, self.ex, self.mode = magnitude, ex, mode\n",
    "        super().__init__(**kwargs)\n",
    "    def encodes(self, o: TSTensor):\n",
    "        if not self.magnitude or self.magnitude <= 0: return o\n",
    "        seq_len = o.shape[-1]\n",
    "        lambd = np.random.beta(self.magnitude, self.magnitude)\n",
    "        lambd = max(lambd, 1 - lambd)\n",
    "        win_len = int(round(seq_len * lambd))\n",
    "        if win_len == seq_len: return o\n",
    "        start = (seq_len - win_len) // 2\n",
    "        output = torch.zeros_like(o, dtype=o.dtype, device=o.device)\n",
    "        interp = F.interpolate(o, size=win_len, mode=self.mode, align_corners=None if self.mode in ['nearest', 'area'] else False)\n",
    "        output[..., start:start + win_len] = o.new(interp)\n",
    "        return output"
   ]
  },
  {
   "cell_type": "code",
   "execution_count": null,
   "metadata": {},
   "outputs": [],
   "source": [
    "test_eq(TSRandomZoomOut(.5)(xb, split_idx=0).shape, xb.shape)"
   ]
  },
  {
   "cell_type": "code",
   "execution_count": null,
   "metadata": {},
   "outputs": [],
   "source": [
    "#export\n",
    "class TSRandomTimeScale(RandTransform):\n",
    "    \"Randomly amplifies/ compresses a sequence on the x-axis keeping the same length\"\n",
    "    order = 95\n",
    "    def __init__(self, magnitude=0.1, ex=None, mode='linear', **kwargs): \n",
    "        \"mode:  'nearest' | 'linear' | 'area'\"\n",
    "        self.magnitude, self.ex, self.mode = magnitude, ex, mode\n",
    "        super().__init__(**kwargs)\n",
    "    def encodes(self, o: TSTensor):\n",
    "        if not self.magnitude or self.magnitude <= 0: return o\n",
    "        if np.random.rand() <= 0.5: return TSRandomZoomIn(magnitude=self.magnitude, ex=self.ex, mode=self.mode)(o, split_idx=0)\n",
    "        else: return TSRandomZoomOut(magnitude=self.magnitude, ex=self.ex, mode=self.mode)(o, split_idx=0)"
   ]
  },
  {
   "cell_type": "code",
   "execution_count": null,
   "metadata": {},
   "outputs": [],
   "source": [
    "test_eq(TSRandomTimeScale(.5)(xb, split_idx=0).shape, xb.shape)"
   ]
  },
  {
   "cell_type": "code",
   "execution_count": null,
   "metadata": {},
   "outputs": [],
   "source": [
    "#export\n",
    "class TSRandomTimeStep(RandTransform):\n",
    "    \"Compresses a sequence on the x-axis by randomly selecting sequence steps and interpolating to previous size\"\n",
    "    order = 95\n",
    "    def __init__(self, magnitude=0.02, ex=None, mode='linear', **kwargs): \n",
    "        \"mode:  'nearest' | 'linear' | 'area'\"\n",
    "        self.magnitude, self.ex, self.mode = magnitude, ex, mode\n",
    "        super().__init__(**kwargs)\n",
    "    def encodes(self, o: TSTensor):\n",
    "        if not self.magnitude or self.magnitude <= 0: return o\n",
    "        seq_len = o.shape[-1]\n",
    "        new_seq_len = int(round(seq_len * max(.5, (1 - np.random.rand() * self.magnitude))))\n",
    "        if  new_seq_len == seq_len: return o\n",
    "        timesteps = np.sort(np.random.choice(np.arange(seq_len),new_seq_len, replace=False))\n",
    "        output = F.interpolate(o[..., timesteps], size=seq_len, mode=self.mode, align_corners=None if self.mode in ['nearest', 'area'] else False)\n",
    "        if self.ex is not None: output[...,self.ex,:] = o[...,self.ex,:]\n",
    "        return output"
   ]
  },
  {
   "cell_type": "code",
   "execution_count": null,
   "metadata": {},
   "outputs": [],
   "source": [
    "test_eq(TSRandomTimeStep()(xb, split_idx=0).shape, xb.shape)"
   ]
  },
  {
   "cell_type": "code",
   "execution_count": null,
   "metadata": {},
   "outputs": [],
   "source": [
    "#export\n",
    "class TSBlur(RandTransform):\n",
    "    \"Blurs a sequence applying a filter of type [1, 0, 1]\"\n",
    "    order = 80\n",
    "    def __init__(self, magnitude=1., ex=None, **kwargs): \n",
    "        self.magnitude, self.ex = magnitude, ex\n",
    "        self.filterargs = np.array([1, 0, 1])\n",
    "        super().__init__(**kwargs)\n",
    "    def encodes(self, o: TSTensor):\n",
    "        if not self.magnitude or self.magnitude <= 0: return o\n",
    "        w = self.filterargs * np.random.rand(3)\n",
    "        w = w / w.sum()\n",
    "        output = o.new(convolve1d(o.cpu(), w, mode='nearest'))\n",
    "        if self.ex is not None: output[...,self.ex,:] = o[...,self.ex,:]\n",
    "        return output"
   ]
  },
  {
   "cell_type": "code",
   "execution_count": null,
   "metadata": {},
   "outputs": [],
   "source": [
    "test_eq(TSBlur()(xb, split_idx=0).shape, xb.shape)\n",
    "test_ne(TSBlur()(xb, split_idx=0), xb)"
   ]
  },
  {
   "cell_type": "code",
   "execution_count": null,
   "metadata": {},
   "outputs": [],
   "source": [
    "#export\n",
    "class TSSmooth(RandTransform):\n",
    "    \"Smoothens a sequence applying a filter of type [1, 5, 1]\"\n",
    "    order = 80\n",
    "    def __init__(self, magnitude=1., ex=None, **kwargs): \n",
    "        self.magnitude, self.ex = magnitude, ex\n",
    "        self.filterargs = np.array([1, 5, 1])\n",
    "        super().__init__(**kwargs)\n",
    "    def encodes(self, o: TSTensor):\n",
    "        if not self.magnitude or self.magnitude <= 0: return o\n",
    "        w = self.filterargs * np.random.rand(3)\n",
    "        w = w / w.sum()\n",
    "        output = o.new(convolve1d(o.cpu(), w, mode='nearest'))\n",
    "        if self.ex is not None: output[...,self.ex,:] = o[...,self.ex,:]\n",
    "        return output"
   ]
  },
  {
   "cell_type": "code",
   "execution_count": null,
   "metadata": {},
   "outputs": [],
   "source": [
    "test_eq(TSSmooth()(xb, split_idx=0).shape, xb.shape)\n",
    "test_ne(TSSmooth()(xb, split_idx=0), xb)"
   ]
  },
  {
   "cell_type": "code",
   "execution_count": null,
   "metadata": {},
   "outputs": [],
   "source": [
    "#export\n",
    "def maddest(d, axis=None): #Mean Absolute Deviation\n",
    "    return np.mean(np.absolute(d - np.mean(d, axis)), axis)\n",
    "\n",
    "class TSFreqDenoise(RandTransform):\n",
    "    \"Denoises a sequence applying a wavelet decomposition method\"\n",
    "    order = 80\n",
    "    def __init__(self, magnitude=0.1, ex=None, wavelet='db4', level=2, thr=None, thr_mode='hard', pad_mode='per', **kwargs): \n",
    "        self.magnitude, self.ex = magnitude, ex\n",
    "        self.wavelet, self.level, self.thr, self.thr_mode, self.pad_mode = wavelet, level, thr, thr_mode, pad_mode\n",
    "        super().__init__(**kwargs)\n",
    "    def encodes(self, o: TSTensor):\n",
    "        if not self.magnitude or self.magnitude <= 0: return o\n",
    "        \"\"\"\n",
    "        1. Adapted from waveletSmooth function found here:\n",
    "        http://connor-johnson.com/2016/01/24/using-pywavelets-to-remove-high-frequency-noise/\n",
    "        2. Threshold equation and using hard mode in threshold as mentioned\n",
    "        in section '3.2 denoising based on optimized singular values' from paper by Tomas Vantuch:\n",
    "        http://dspace.vsb.cz/bitstream/handle/10084/133114/VAN431_FEI_P1807_1801V001_2018.pdf\n",
    "        \"\"\"\n",
    "        seq_len = o.shape[-1]\n",
    "        # Decompose to get the wavelet coefficients\n",
    "        coeff = pywt.wavedec(o.cpu(), self.wavelet, mode=self.pad_mode)\n",
    "        # Calculate sigma for threshold as defined in http://dspace.vsb.cz/bitstream/handle/10084/133114/VAN431_FEI_P1807_1801V001_2018.pdf\n",
    "        # As noted by @harshit92 MAD referred to in the paper is Mean Absolute Deviation not Median Absolute Deviation\n",
    "        sigma = (1/0.6745) * maddest(coeff[-self.level])\n",
    "        # Calculate the univeral threshold\n",
    "        uthr = sigma * np.sqrt(2*np.log(seq_len)) * (1 if self.thr is None else self.magnitude)\n",
    "        coeff[1:] = (pywt.threshold(c, value=uthr, mode=self.thr_mode) for c in coeff[1:])\n",
    "        # Reconstruct the signal using the thresholded coefficients\n",
    "        output = o.new(pywt.waverec(coeff, self.wavelet, mode=self.pad_mode)[..., :seq_len])\n",
    "        if self.ex is not None: output[...,self.ex,:] = o[...,self.ex,:]\n",
    "        return output"
   ]
  },
  {
   "cell_type": "code",
   "execution_count": null,
   "metadata": {},
   "outputs": [],
   "source": [
    "test_eq(TSFreqDenoise()(xb, split_idx=0).shape, xb.shape)\n",
    "test_ne(TSFreqDenoise()(xb, split_idx=0), xb)"
   ]
  },
  {
   "cell_type": "code",
   "execution_count": null,
   "metadata": {},
   "outputs": [],
   "source": [
    "#export\n",
    "class TSRandomFreqNoise(RandTransform):\n",
    "    \"Applys random noise using a wavelet decomposition method\"\n",
    "    order = 80\n",
    "    def __init__(self, magnitude=0.1, ex=None, wavelet='db4', level=2, mode='constant', **kwargs): \n",
    "        self.magnitude, self.ex = magnitude, ex\n",
    "        self.wavelet, self.level, self.mode = wavelet, level, mode\n",
    "        super().__init__(**kwargs)\n",
    "    def encodes(self, o: TSTensor):\n",
    "        if not self.magnitude or self.magnitude <= 0: return o\n",
    "        self.level = 1 if self.level is None else self.level\n",
    "        coeff = pywt.wavedec(o.cpu(), self.wavelet, mode=self.mode, level=self.level)\n",
    "        coeff[1:] = [c * (1 + 2 * (np.random.rand() - 0.5) * self.magnitude) for c in coeff[1:]]\n",
    "        output = o.new(pywt.waverec(coeff, self.wavelet, mode=self.mode)[..., :o.shape[-1]])\n",
    "        if self.ex is not None: output[...,self.ex,:] = o[...,self.ex,:]\n",
    "        return output"
   ]
  },
  {
   "cell_type": "code",
   "execution_count": null,
   "metadata": {},
   "outputs": [],
   "source": [
    "test_eq(TSRandomFreqNoise()(xb, split_idx=0).shape, xb.shape)"
   ]
  },
  {
   "cell_type": "code",
   "execution_count": null,
   "metadata": {},
   "outputs": [],
   "source": [
    "#export\n",
    "class TSRandomResizedLookBack(RandTransform):\n",
    "    \"Selects a random number of sequence steps starting from the end and return an output of the same shape\"\n",
    "    order = 95\n",
    "    def __init__(self, magnitude=0.1, mode='linear', **kwargs): \n",
    "        \"mode:  'nearest' | 'linear' | 'area'\"\n",
    "        self.magnitude, self.mode = magnitude, mode\n",
    "        super().__init__(**kwargs)\n",
    "    def encodes(self, o: TSTensor):\n",
    "        if not self.magnitude or self.magnitude <= 0: return o\n",
    "        seq_len = o.shape[-1]\n",
    "        lambd = np.random.beta(self.magnitude, self.magnitude)\n",
    "        lambd = min(lambd, 1 - lambd)\n",
    "        output = o.clone()[..., int(round(lambd * seq_len)):]\n",
    "        return F.interpolate(output, size=seq_len, mode=self.mode, align_corners=None if self.mode in ['nearest', 'area'] else False)"
   ]
  },
  {
   "cell_type": "code",
   "execution_count": null,
   "metadata": {},
   "outputs": [],
   "source": [
    "for i in range(100): \n",
    "    o = TSRandomResizedLookBack()(xb, split_idx=0)\n",
    "    test_eq(o.shape[-1], xb.shape[-1])"
   ]
  },
  {
   "cell_type": "code",
   "execution_count": null,
   "metadata": {},
   "outputs": [],
   "source": [
    "#export\n",
    "class TSVarOut(RandTransform):\n",
    "    \"Set the value of a random number of variables to zero\"\n",
    "    order = 95\n",
    "    def __init__(self, magnitude=0.05, ex=None, **kwargs): \n",
    "        self.magnitude, self.ex = magnitude, ex\n",
    "        super().__init__(**kwargs)\n",
    "    def encodes(self, o: TSTensor):\n",
    "        if not self.magnitude or self.magnitude <= 0: return o\n",
    "        in_vars = o.shape[-2]\n",
    "        if in_vars == 1: return o\n",
    "        lambd = np.random.beta(self.magnitude, self.magnitude)\n",
    "        lambd = min(lambd, 1 - lambd)\n",
    "        p = np.arange(in_vars).cumsum()\n",
    "        p = p/p[-1]\n",
    "        p = p / p.sum()\n",
    "        p = p[::-1]\n",
    "        out_vars = np.random.choice(np.arange(in_vars), int(round(lambd * in_vars)), p=p, replace=False)\n",
    "        if len(out_vars) == 0:  return o\n",
    "        output = o.clone()\n",
    "        output[...,out_vars,:] = 0\n",
    "        if self.ex is not None: output[...,self.ex,:] = o[...,self.ex,:]\n",
    "        return output"
   ]
  },
  {
   "cell_type": "code",
   "execution_count": null,
   "metadata": {},
   "outputs": [],
   "source": [
    "test_eq(TSVarOut()(xb, split_idx=0).shape, xb.shape)"
   ]
  },
  {
   "cell_type": "code",
   "execution_count": null,
   "metadata": {},
   "outputs": [],
   "source": [
    "#export\n",
    "class TSCutOut(RandTransform):\n",
    "    \"Sets a random section of the sequence to zero\"\n",
    "    order = 95\n",
    "    def __init__(self, magnitude=0.05, ex=None, **kwargs): \n",
    "        self.magnitude, self.ex = magnitude, ex\n",
    "        super().__init__(**kwargs)\n",
    "    def encodes(self, o: TSTensor):\n",
    "        if not self.magnitude or self.magnitude <= 0: return o\n",
    "        seq_len = o.shape[-1]\n",
    "        lambd = np.random.beta(self.magnitude, self.magnitude)\n",
    "        lambd = min(lambd, 1 - lambd)\n",
    "        win_len = int(round(seq_len * lambd))\n",
    "        start = np.random.randint(-win_len + 1, seq_len)\n",
    "        end = start + win_len\n",
    "        start = max(0, start)\n",
    "        end = min(end, seq_len)\n",
    "        output = o.clone()\n",
    "        output[..., start:end] = 0\n",
    "        if self.ex is not None: output[...,self.ex,:] = o[...,self.ex,:]\n",
    "        return output"
   ]
  },
  {
   "cell_type": "code",
   "execution_count": null,
   "metadata": {},
   "outputs": [],
   "source": [
    "test_eq(TSCutOut()(xb, split_idx=0).shape, xb.shape)"
   ]
  },
  {
   "cell_type": "code",
   "execution_count": null,
   "metadata": {},
   "outputs": [],
   "source": [
    "#export\n",
    "class TSTimeStepOut(RandTransform):\n",
    "    \"Sets random sequence steps to zero\"\n",
    "    order = 95\n",
    "    def __init__(self, magnitude=0.05, ex=None, **kwargs): \n",
    "        self.magnitude, self.ex = magnitude, ex\n",
    "        super().__init__(**kwargs)\n",
    "    def encodes(self, o: TSTensor):\n",
    "        if not self.magnitude or self.magnitude <= 0: return o\n",
    "        magnitude = min(.5, self.magnitude)\n",
    "        seq_len = o.shape[-1]\n",
    "        timesteps = np.sort(np.random.choice(np.arange(seq_len), int(round(seq_len * magnitude)), replace=False))\n",
    "        output = o.clone()\n",
    "        output[..., timesteps] = 0\n",
    "        if self.ex is not None: output[...,self.ex,:] = o[...,self.ex,:]\n",
    "        return output"
   ]
  },
  {
   "cell_type": "code",
   "execution_count": null,
   "metadata": {},
   "outputs": [],
   "source": [
    "test_eq(TSTimeStepOut()(xb, split_idx=0).shape, xb.shape)"
   ]
  },
  {
   "cell_type": "code",
   "execution_count": null,
   "metadata": {},
   "outputs": [],
   "source": [
    "#export\n",
    "class TSRandomCropPad(RandTransform):\n",
    "    \"Crops a section of the sequence of a random length\"\n",
    "    order = 95\n",
    "    def __init__(self, magnitude=0.05, ex=None, **kwargs): \n",
    "        self.magnitude, self.ex = magnitude, ex\n",
    "        super().__init__(**kwargs)\n",
    "    def encodes(self, o: TSTensor):\n",
    "        if not self.magnitude or self.magnitude <= 0: return o\n",
    "        seq_len = o.shape[-1]\n",
    "        lambd = np.random.beta(self.magnitude, self.magnitude)\n",
    "        lambd = max(lambd, 1 - lambd)\n",
    "        win_len = int(round(seq_len * lambd))\n",
    "        if win_len == seq_len: return o\n",
    "        start = np.random.randint(0, seq_len - win_len)\n",
    "        output = torch.zeros_like(o, dtype=o.dtype, device=o.device)\n",
    "        output[..., start : start + win_len] = o[..., start : start + win_len]\n",
    "        if self.ex is not None: output[...,self.ex,:] = o[...,self.ex,:]\n",
    "        return output"
   ]
  },
  {
   "cell_type": "code",
   "execution_count": null,
   "metadata": {},
   "outputs": [],
   "source": [
    "test_eq(TSRandomCropPad()(xb, split_idx=0).shape, xb.shape)"
   ]
  },
  {
   "cell_type": "code",
   "execution_count": null,
   "metadata": {},
   "outputs": [],
   "source": [
    "#export\n",
    "class TSMaskOut(RandTransform):\n",
    "    \"Set a random number of steps to zero\"\n",
    "    order = 95\n",
    "    def __init__(self, magnitude=0.05, ex=None, **kwargs): \n",
    "        self.magnitude, self.ex = magnitude, ex\n",
    "        super().__init__(**kwargs)\n",
    "    def encodes(self, o: TSTensor):\n",
    "        if not self.magnitude or self.magnitude <= 0: return o\n",
    "        seq_len = o.shape[-1]\n",
    "        mask = torch.rand_like(o) <= self.magnitude\n",
    "        output = o.clone()\n",
    "        output[mask] = 0\n",
    "        if self.ex is not None: output[...,self.ex,:] = o[...,self.ex,:]\n",
    "        return output"
   ]
  },
  {
   "cell_type": "code",
   "execution_count": null,
   "metadata": {},
   "outputs": [],
   "source": [
    "test_eq(TSMaskOut()(xb, split_idx=0).shape, xb.shape)\n",
    "test_ne(TSMaskOut()(xb, split_idx=0), xb)"
   ]
  },
  {
   "cell_type": "code",
   "execution_count": null,
   "metadata": {},
   "outputs": [],
   "source": [
    "#export\n",
    "class TSTranslateX(RandTransform):\n",
    "    \"Moves a selected sequence window a random number of steps\"\n",
    "    order = 90\n",
    "    def __init__(self, magnitude=0.1, ex=None, **kwargs): \n",
    "        self.magnitude, self.ex = magnitude, ex\n",
    "        super().__init__(**kwargs)\n",
    "    def encodes(self, o: TSTensor):\n",
    "        if not self.magnitude or self.magnitude <= 0: return o\n",
    "        seq_len = o.shape[-1]\n",
    "        lambd = np.random.beta(self.magnitude, self.magnitude)\n",
    "        lambd = min(lambd, 1 - lambd)\n",
    "        shift = int(round(seq_len * lambd))\n",
    "        if shift == 0 or shift == seq_len: return o\n",
    "        if np.random.rand() < 0.5: shift = -shift\n",
    "        new_start = max(0, shift)\n",
    "        new_end = min(seq_len + shift, seq_len)\n",
    "        start = max(0, -shift)\n",
    "        end = min(seq_len - shift, seq_len)\n",
    "        output = torch.zeros_like(o, dtype=o.dtype, device=o.device)\n",
    "        output[..., new_start : new_end] = o[..., start : end]\n",
    "        if self.ex is not None: output[...,self.ex,:] = o[...,self.ex,:]\n",
    "        return output"
   ]
  },
  {
   "cell_type": "code",
   "execution_count": null,
   "metadata": {},
   "outputs": [],
   "source": [
    "test_eq(TSTranslateX()(xb, split_idx=0).shape, xb.shape)"
   ]
  },
  {
   "cell_type": "code",
   "execution_count": null,
   "metadata": {},
   "outputs": [],
   "source": [
    "#export\n",
    "class TSRandomShift(RandTransform):\n",
    "    \"Shifts and splits a sequence\"\n",
    "    order = 90\n",
    "    def __init__(self, magnitude=0.02, ex=None, **kwargs): \n",
    "        self.magnitude, self.ex = magnitude, ex\n",
    "        super().__init__(**kwargs)\n",
    "    def encodes(self, o: TSTensor):\n",
    "        if not self.magnitude or self.magnitude <= 0: return o\n",
    "        pos = int(round(np.random.randint(0, o.shape[-1]) * self.magnitude)) * (random.randint(0, 1)*2-1)\n",
    "        output = torch.cat((o[..., pos:], o[..., :pos]), dim=-1)\n",
    "        if self.ex is not None: output[...,self.ex,:] = o[...,self.ex,:]\n",
    "        return output"
   ]
  },
  {
   "cell_type": "code",
   "execution_count": null,
   "metadata": {},
   "outputs": [],
   "source": [
    "test_eq(TSRandomShift()(xb, split_idx=0).shape, xb.shape)"
   ]
  },
  {
   "cell_type": "code",
   "execution_count": null,
   "metadata": {},
   "outputs": [],
   "source": [
    "#export\n",
    "class TSHorizontalFlip(RandTransform):\n",
    "    \"Flips the sequence along the x-axis\"\n",
    "    order = 90\n",
    "    def __init__(self, magnitude=1., ex=None, **kwargs): \n",
    "        self.magnitude, self.ex = magnitude, ex\n",
    "        super().__init__(**kwargs)\n",
    "    def encodes(self, o: TSTensor):\n",
    "        if not self.magnitude or self.magnitude <= 0: return o\n",
    "        output = torch.flip(o, [-1])\n",
    "        if self.ex is not None: output[...,self.ex,:] = o[...,self.ex,:]\n",
    "        return output"
   ]
  },
  {
   "cell_type": "code",
   "execution_count": null,
   "metadata": {},
   "outputs": [],
   "source": [
    "test_eq(TSHorizontalFlip()(xb, split_idx=0).shape, xb.shape)\n",
    "test_ne(TSHorizontalFlip()(xb, split_idx=0), xb)"
   ]
  },
  {
   "cell_type": "code",
   "execution_count": null,
   "metadata": {},
   "outputs": [],
   "source": [
    "#export\n",
    "class TSRandomTrend(RandTransform):\n",
    "    \"Randomly rotates the sequence along the z-axis\"\n",
    "    order = 90\n",
    "    def __init__(self, magnitude=0.1, ex=None, **kwargs): \n",
    "        self.magnitude, self.ex = magnitude, ex\n",
    "        super().__init__(**kwargs)\n",
    "    def encodes(self, o: TSTensor):\n",
    "        if not self.magnitude or self.magnitude <= 0: return o\n",
    "        flat_x = o.reshape(o.shape[0], -1)\n",
    "        ran = flat_x.max(dim=-1, keepdim=True).values - flat_x.min(dim=-1, keepdim=True).values\n",
    "        trend = torch.linspace(0, 1, o.shape[-1], device=o.device) * ran\n",
    "        t = (1 + self.magnitude * 2 * (np.random.rand() - 0.5) * trend)\n",
    "        t -= t.mean(-1, keepdim=True)\n",
    "        if o.ndim == 3: t = t.unsqueeze(1)\n",
    "        output = o + t\n",
    "        if self.ex is not None: output[...,self.ex,:] = o[...,self.ex,:]\n",
    "        return output\n",
    "    \n",
    "TSRandomRotate = TSRandomTrend"
   ]
  },
  {
   "cell_type": "code",
   "execution_count": null,
   "metadata": {},
   "outputs": [],
   "source": [
    "test_eq(TSRandomTrend()(xb, split_idx=0).shape, xb.shape)"
   ]
  },
  {
   "cell_type": "code",
   "execution_count": null,
   "metadata": {},
   "outputs": [],
   "source": [
    "#export\n",
    "class TSVerticalFlip(RandTransform):\n",
    "    \"Applies a negative value to the time sequence\"\n",
    "    order = 90\n",
    "    def __init__(self, magnitude=1., ex=None, **kwargs): \n",
    "        self.magnitude, self.ex = magnitude, ex\n",
    "        super().__init__(**kwargs)\n",
    "    def encodes(self, o: TSTensor): \n",
    "        if not self.magnitude or self.magnitude <= 0: return o\n",
    "        return - o"
   ]
  },
  {
   "cell_type": "code",
   "execution_count": null,
   "metadata": {},
   "outputs": [],
   "source": [
    "test_eq(TSVerticalFlip()(xb, split_idx=0).shape, xb.shape)\n",
    "test_ne(TSVerticalFlip()(xb, split_idx=0), xb)"
   ]
  },
  {
   "cell_type": "code",
   "execution_count": null,
   "metadata": {},
   "outputs": [],
   "source": [
    "#export\n",
    "class TSResize(RandTransform):\n",
    "    \"Resizes the sequence length of a time series\"\n",
    "    order = 80\n",
    "    def __init__(self, magnitude=-0.5, size=None, ex=None, mode='linear', **kwargs): \n",
    "        \"mode:  'nearest' | 'linear' | 'area'\"\n",
    "        self.magnitude, self.size, self.ex, self.mode = magnitude, size, ex, mode\n",
    "        super().__init__(**kwargs)\n",
    "    def encodes(self, o: TSTensor): \n",
    "        if self.magnitude == 0: return o\n",
    "        size = ifnone(self.size, int(round((1 + self.magnitude) * o.shape[-1])))\n",
    "        output = F.interpolate(o, size=size, mode=self.mode, align_corners=None if self.mode in ['nearest', 'area'] else False)\n",
    "        return output"
   ]
  },
  {
   "cell_type": "code",
   "execution_count": null,
   "metadata": {},
   "outputs": [],
   "source": [
    "for sz in np.linspace(.2, 2, 10): test_eq(TSResize(sz)(xb, split_idx=0).shape[-1], int(round(xb.shape[-1]*(1+sz))))\n",
    "test_ne(TSResize(1)(xb, split_idx=0), xb)"
   ]
  },
  {
   "cell_type": "code",
   "execution_count": null,
   "metadata": {},
   "outputs": [],
   "source": [
    "#export\n",
    "class TSRandomSize(RandTransform):\n",
    "    \"Randomly resizes the sequence length of a time series\"\n",
    "    order = 80\n",
    "    def __init__(self, magnitude=0., ex=None, mode='linear', **kwargs):\n",
    "        \"mode:  'nearest' | 'linear' | 'area'\"\n",
    "        self.magnitude, self.ex, self.mode = magnitude, ex, mode\n",
    "        super().__init__(**kwargs)\n",
    "    def encodes(self, o: TSTensor):\n",
    "        if not self.magnitude or self.magnitude <= 0: return o\n",
    "        size_perc = 1 / (1 + (random_half_normal() if random.random() > 1/3 else - random_half_normal() / 2) * (1 + self.magnitude))\n",
    "        if random.random() > .5: size_perc = 1. / size_perc\n",
    "        return F.interpolate(o, size=int(size_perc * o.shape[-1]), mode=self.mode, align_corners=None if self.mode in ['nearest', 'area'] else False)"
   ]
  },
  {
   "cell_type": "code",
   "execution_count": null,
   "metadata": {},
   "outputs": [],
   "source": [
    "seq_len_ = []\n",
    "for i in range(100): \n",
    "    o = TSRandomSize(.5)(xb, split_idx=0)\n",
    "    seq_len_.append(o.shape[-1])\n",
    "test_lt(min(seq_len_), xb.shape[-1])\n",
    "test_gt(max(seq_len_), xb.shape[-1])"
   ]
  },
  {
   "cell_type": "code",
   "execution_count": null,
   "metadata": {},
   "outputs": [],
   "source": [
    "#export\n",
    "class TSRandomLowRes(RandTransform):\n",
    "    \"Randomly resizes the sequence length of a time series to a lower resolution\"\n",
    "    order = 80\n",
    "    def __init__(self, magnitude=.5, ex=None, mode='linear', **kwargs): \n",
    "        \"mode:  'nearest' | 'linear' | 'area'\"\n",
    "        self.magnitude, self.ex, self.mode = magnitude, ex, mode\n",
    "        super().__init__(**kwargs)\n",
    "    def encodes(self, o: TSTensor): \n",
    "        if not self.magnitude or self.magnitude <= 0: return o\n",
    "        size_perc = 1 - (np.random.rand() * (1 - self.magnitude))\n",
    "        return F.interpolate(o, size=int(size_perc * o.shape[-1]), mode=self.mode, align_corners=None if self.mode in ['nearest', 'area'] else False)"
   ]
  },
  {
   "cell_type": "code",
   "execution_count": null,
   "metadata": {},
   "outputs": [],
   "source": [
    "#export\n",
    "class TSDownUpScale(RandTransform):\n",
    "    \"Downscales a time series and upscales it again to previous sequence length\"\n",
    "    order = 80\n",
    "    def __init__(self, magnitude=0.5, ex=None, mode='linear', **kwargs): \n",
    "        \"mode:  'nearest' | 'linear' | 'area'\"\n",
    "        self.magnitude, self.ex, self.mode = magnitude, ex, mode\n",
    "        super().__init__(**kwargs)\n",
    "    def encodes(self, o: TSTensor): \n",
    "        if not self.magnitude or self.magnitude <= 0 or self.magnitude >= 1: return o\n",
    "        output = F.interpolate(o, size=int((1 - self.magnitude) * o.shape[-1]), mode=self.mode, align_corners=None if self.mode in ['nearest', 'area'] else False)\n",
    "        output = F.interpolate(output, size=o.shape[-1], mode=self.mode, align_corners=None if self.mode in ['nearest', 'area'] else False)\n",
    "        if self.ex is not None: output[...,self.ex,:] = o[...,self.ex,:]\n",
    "        return output"
   ]
  },
  {
   "cell_type": "code",
   "execution_count": null,
   "metadata": {},
   "outputs": [],
   "source": [
    "test_eq(TSDownUpScale()(xb, split_idx=0).shape, xb.shape)"
   ]
  },
  {
   "cell_type": "code",
   "execution_count": null,
   "metadata": {},
   "outputs": [],
   "source": [
    "#export\n",
    "class TSRandomDownUpScale(RandTransform):\n",
    "    \"Randomly downscales a time series and upscales it again to previous sequence length\"\n",
    "    order = 80\n",
    "    def __init__(self, magnitude=.5, ex=None, mode='linear', **kwargs): \n",
    "        \"mode:  'nearest' | 'linear' | 'area'\"\n",
    "        self.magnitude, self.ex, self.mode = magnitude, ex, mode\n",
    "        super().__init__(**kwargs)\n",
    "    def encodes(self, o: TSTensor): \n",
    "        if not self.magnitude or self.magnitude <= 0 or self.magnitude >= 1: return o\n",
    "        scale_factor = 0.5 + 0.5 * np.random.rand() \n",
    "        output = F.interpolate(o, size=int(scale_factor * o.shape[-1]), mode=self.mode, align_corners=None if self.mode in ['nearest', 'area'] else False)\n",
    "        output = F.interpolate(output, size=o.shape[-1], mode=self.mode, align_corners=None if self.mode in ['nearest', 'area'] else False)\n",
    "        if self.ex is not None: output[...,self.ex,:] = o[...,self.ex,:]\n",
    "        return output"
   ]
  },
  {
   "cell_type": "code",
   "execution_count": null,
   "metadata": {},
   "outputs": [],
   "source": [
    "test_eq(TSRandomDownUpScale()(xb, split_idx=0).shape, xb.shape)\n",
    "test_ne(TSDownUpScale()(xb, split_idx=0), xb)\n",
    "test_eq(TSDownUpScale()(xb, split_idx=1), xb)"
   ]
  },
  {
   "cell_type": "code",
   "execution_count": null,
   "metadata": {},
   "outputs": [],
   "source": [
    "#export\n",
    "all_TS_randaugs = [\n",
    "    \n",
    "    TSIdentity, \n",
    "    \n",
    "    # Noise\n",
    "    (TSMagAddNoise, 0.1, 1.),\n",
    "    (partial(TSMagMulNoise, ex=0), 0.1, 1),\n",
    "    (partial(TSTimeNoise, ex=0), 0.1, 1.),\n",
    "    (partial(TSRandomFreqNoise, ex=0), 0.1, 1.),\n",
    "    partial(TSShuffleSteps, ex=0),\n",
    "    (TSRandomTimeScale, 0.05, 0.5), \n",
    "    (TSRandomTimeStep, 0.05, 0.5), \n",
    "    (partial(TSFreqDenoise, ex=0), 0.1, 1.),\n",
    "    (TSRandomLowRes, 0.05, 0.5),\n",
    "    \n",
    "    # Magnitude\n",
    "    (partial(TSMagWarp, ex=0), 0.02, 0.2),\n",
    "    (TSMagScale, 0.2, 1.),\n",
    "    (partial(TSMagScalePerVar, ex=0), 0.2, 1.),\n",
    "    partial(TSBlur, ex=0),\n",
    "    partial(TSSmooth, ex=0),\n",
    "    partial(TSDownUpScale, ex=0),\n",
    "    partial(TSRandomDownUpScale, ex=0), \n",
    "    (TSRandomTrend, 0.1, 0.5), \n",
    "    TSVerticalFlip, \n",
    "    (TSVarOut, 0.05, 0.5), \n",
    "    (TSCutOut, 0.05, 0.5), \n",
    "    \n",
    "    # Time\n",
    "    (partial(TSTimeWarp, ex=0), 0.02, 0.2),\n",
    "    (TSWindowWarp, 0.05, 0.5),\n",
    "    (TSRandomSize, 0.05, 1.),\n",
    "    TSHorizontalFlip, \n",
    "    (TSTranslateX, 0.1, 0.5),\n",
    "    (TSRandomShift, 0.02, 0.2), \n",
    "    (TSRandomZoomIn, 0.05, 0.5), \n",
    "    (TSWindowSlicing, 0.05, 0.2),\n",
    "    (TSRandomZoomOut, 0.05, 0.5),\n",
    "    (TSRandomResizedLookBack, 0.1, 1.),\n",
    "    (TSTimeStepOut, 0.01, 0.2),\n",
    "    (TSRandomCropPad, 0.05, 0.5), \n",
    "    (TSRandomResizedCrop, 0.05, 0.5),\n",
    "    (TSMaskOut, 0.01, 0.2),\n",
    "]"
   ]
  },
  {
   "cell_type": "code",
   "execution_count": null,
   "metadata": {},
   "outputs": [],
   "source": [
    "#export\n",
    "class RandAugment(RandTransform):\n",
    "    order = 60\n",
    "    def __init__(self, tfms:list, N:int=1, M:int=3, **kwargs):\n",
    "        '''\n",
    "        tfms   : list of tfm functions (not called)\n",
    "        N      : number of tfms applied to each batch (usual values 1-3)\n",
    "        M      : tfm magnitude multiplier (1-10, usually 3-5). Only works if tfms are tuples (tfm, min, max)\n",
    "        kwargs : RandTransform kwargs\n",
    "        '''\n",
    "        super().__init__(**kwargs)\n",
    "        if not isinstance(tfms, list): tfms = [tfms]\n",
    "        self.tfms, self.N, self.magnitude = tfms, min(len(tfms), N), M / 10\n",
    "        self.n_tfms, self.tfms_idxs = len(tfms), np.arange(len(tfms))\n",
    "\n",
    "    def encodes(self, o:(NumpyTensor, TSTensor)):\n",
    "        if not self.N or not self.magnitude: return o\n",
    "        tfms = self.tfms if self.n_tfms==1 else L(self.tfms)[np.random.choice(np.arange(self.n_tfms), self.N, replace=False)]\n",
    "        tfms_ = []\n",
    "        for tfm in tfms:\n",
    "            if isinstance(tfm, tuple):\n",
    "                t, min_val, max_val = tfm\n",
    "                tfms_ += [t(magnitude=self.magnitude * float(max_val - min_val) + min_val)]\n",
    "            else:  tfms_ += [tfm()]\n",
    "        output = compose_tfms(o, tfms_, split_idx=self.split_idx)\n",
    "        return output"
   ]
  },
  {
   "cell_type": "code",
   "execution_count": null,
   "metadata": {},
   "outputs": [],
   "source": [
    "test_ne(RandAugment(TSMagAddNoise, N=5, M=10)(xb, split_idx=0), xb)"
   ]
  },
  {
   "cell_type": "code",
   "execution_count": null,
   "metadata": {},
   "outputs": [],
   "source": [
    "#export\n",
    "class TestTfm(RandTransform):\n",
    "    \"Utility class to test the output of selected tfms during training\"\n",
    "    def __init__(self, tfm, magnitude=1., ex=None, **kwargs): \n",
    "        self.tfm, self.magnitude, self.ex = tfm, magnitude, ex\n",
    "        self.tfmd, self.shape = [], []\n",
    "        super().__init__(**kwargs)\n",
    "    def encodes(self, o: TSTensor): \n",
    "        if not self.magnitude or self.magnitude <= 0: return o\n",
    "        output = self.tfm(o, split_idx=self.split_idx)\n",
    "        self.tfmd.append(torch.equal(o, output))\n",
    "        self.shape.append(o.shape)\n",
    "        return output"
   ]
  },
  {
   "cell_type": "code",
   "execution_count": null,
   "metadata": {},
   "outputs": [],
   "source": [
    "#export\n",
    "def get_tfm_name(tfm):\n",
    "    if isinstance(tfm, tuple): tfm = tfm[0]\n",
    "    if hasattr(tfm, \"func\"): tfm = tfm.func\n",
    "    if hasattr(tfm, \"__name__\"): return tfm.__name__\n",
    "    elif hasattr(tfm, \"__class__\") and hasattr(tfm.__class__, \"__name__\"): return tfm.__class__.__name__\n",
    "    else: return tfm"
   ]
  },
  {
   "cell_type": "code",
   "execution_count": null,
   "metadata": {},
   "outputs": [],
   "source": [
    "test_eq(get_tfm_name(partial(TSMagScale()))==get_tfm_name((partial(TSMagScale()), 0.1, .05))==get_tfm_name(TSMagScale())==get_tfm_name((TSMagScale(), 0.1, .05)), True)"
   ]
  },
  {
   "cell_type": "code",
   "execution_count": null,
   "metadata": {},
   "outputs": [],
   "source": [
    "all_TS_randaugs_names = [get_tfm_name(t) for t in all_TS_randaugs]"
   ]
  },
  {
   "cell_type": "code",
   "execution_count": null,
   "metadata": {},
   "outputs": [
    {
     "data": {
      "application/javascript": [
       "IPython.notebook.save_checkpoint();"
      ],
      "text/plain": [
       "<IPython.core.display.Javascript object>"
      ]
     },
     "metadata": {},
     "output_type": "display_data"
    }
   ],
   "source": [
    "#hide\n",
    "out = create_scripts()\n",
    "beep(out)"
   ]
  }
 ],
 "metadata": {
  "kernelspec": {
   "display_name": "Python 3",
   "language": "python",
   "name": "python3"
  }
 },
 "nbformat": 4,
 "nbformat_minor": 2
}
