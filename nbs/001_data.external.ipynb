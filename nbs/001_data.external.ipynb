{
 "cells": [
  {
   "cell_type": "code",
   "execution_count": null,
   "metadata": {},
   "outputs": [],
   "source": [
    "# default_exp data.external"
   ]
  },
  {
   "cell_type": "markdown",
   "metadata": {},
   "source": [
    "# External data\n",
    "\n",
    "> Helper functions used to download and extract common time series datasets."
   ]
  },
  {
   "cell_type": "code",
   "execution_count": null,
   "metadata": {},
   "outputs": [],
   "source": [
    "#export\n",
    "from tsai.imports import *\n",
    "from tsai.utils import * \n",
    "from tsai.data.validation import *\n",
    "from fastai.data.external import *\n",
    "from tqdm import tqdm"
   ]
  },
  {
   "cell_type": "code",
   "execution_count": null,
   "metadata": {},
   "outputs": [],
   "source": [
    "#export\n",
    "import zipfile\n",
    "import tempfile\n",
    "try: from urllib import urlretrieve\n",
    "except ImportError: from urllib.request import urlretrieve\n",
    "import shutil\n",
    "from pyunpack import Archive\n",
    "from sktime.utils.data_io import load_from_tsfile_to_dataframe\n",
    "from sktime.datasets import load_UCR_UEA_dataset\n",
    "from sktime.utils.validation.panel import check_X"
   ]
  },
  {
   "cell_type": "code",
   "execution_count": null,
   "metadata": {},
   "outputs": [],
   "source": [
    "#export\n",
    "def decompress_from_url(url, target_dir=None, verbose=False):\n",
    "    #Download\n",
    "    try:\n",
    "        pv(\"downloading data...\", verbose)\n",
    "        fname = os.path.basename(url)\n",
    "        tmpdir = tempfile.mkdtemp()\n",
    "        local_comp_fname = os.path.join(tmpdir, fname)\n",
    "        urlretrieve(url, local_comp_fname)\n",
    "        pv(\"...data downloaded\", verbose)\n",
    "    except:\n",
    "        shutil.rmtree(tmpdir)\n",
    "        if verbose: sys.stderr.write(\"Could not download url. Please, check url.\\n\")\n",
    "    \n",
    "    #Decompress\n",
    "    try:\n",
    "        pv(\"decompressing data...\", verbose)\n",
    "        if not os.path.exists(target_dir): os.makedirs(target_dir)\n",
    "        Archive(local_comp_fname).extractall(target_dir)\n",
    "        shutil.rmtree(tmpdir)\n",
    "        pv(\"...data decompressed\", verbose)\n",
    "        return target_dir\n",
    "    except:\n",
    "        shutil.rmtree(tmpdir)\n",
    "        if verbose: sys.stderr.write(\"Could not decompress file, aborting.\\n\")\n",
    "        return None"
   ]
  },
  {
   "cell_type": "code",
   "execution_count": null,
   "metadata": {},
   "outputs": [],
   "source": [
    "#export\n",
    "def get_UCR_univariate_list():\n",
    "    return [\n",
    "        'ACSF1', 'Adiac', 'AllGestureWiimoteX', 'AllGestureWiimoteY',\n",
    "        'AllGestureWiimoteZ', 'ArrowHead', 'Beef', 'BeetleFly', 'BirdChicken',\n",
    "        'BME', 'Car', 'CBF', 'Chinatown', 'ChlorineConcentration',\n",
    "        'CinCECGTorso', 'Coffee', 'Computers', 'CricketX', 'CricketY',\n",
    "        'CricketZ', 'Crop', 'DiatomSizeReduction',\n",
    "        'DistalPhalanxOutlineAgeGroup', 'DistalPhalanxOutlineCorrect',\n",
    "        'DistalPhalanxTW', 'DodgerLoopDay', 'DodgerLoopGame',\n",
    "        'DodgerLoopWeekend', 'Earthquakes', 'ECG200', 'ECG5000', 'ECGFiveDays',\n",
    "        'ElectricDevices', 'EOGHorizontalSignal', 'EOGVerticalSignal',\n",
    "        'EthanolLevel', 'FaceAll', 'FaceFour', 'FacesUCR', 'FiftyWords',\n",
    "        'Fish', 'FordA', 'FordB', 'FreezerRegularTrain', 'FreezerSmallTrain',\n",
    "        'Fungi', 'GestureMidAirD1', 'GestureMidAirD2', 'GestureMidAirD3',\n",
    "        'GesturePebbleZ1', 'GesturePebbleZ2', 'GunPoint', 'GunPointAgeSpan',\n",
    "        'GunPointMaleVersusFemale', 'GunPointOldVersusYoung', 'Ham',\n",
    "        'HandOutlines', 'Haptics', 'Herring', 'HouseTwenty', 'InlineSkate',\n",
    "        'InsectEPGRegularTrain', 'InsectEPGSmallTrain', 'InsectWingbeatSound',\n",
    "        'ItalyPowerDemand', 'LargeKitchenAppliances', 'Lightning2',\n",
    "        'Lightning7', 'Mallat', 'Meat', 'MedicalImages', 'MelbournePedestrian',\n",
    "        'MiddlePhalanxOutlineAgeGroup', 'MiddlePhalanxOutlineCorrect',\n",
    "        'MiddlePhalanxTW', 'MixedShapesRegularTrain', 'MixedShapesSmallTrain',\n",
    "        'MoteStrain', 'NonInvasiveFetalECGThorax1',\n",
    "        'NonInvasiveFetalECGThorax2', 'OliveOil', 'OSULeaf',\n",
    "        'PhalangesOutlinesCorrect', 'Phoneme', 'PickupGestureWiimoteZ',\n",
    "        'PigAirwayPressure', 'PigArtPressure', 'PigCVP', 'PLAID', 'Plane',\n",
    "        'PowerCons', 'ProximalPhalanxOutlineAgeGroup',\n",
    "        'ProximalPhalanxOutlineCorrect', 'ProximalPhalanxTW',\n",
    "        'RefrigerationDevices', 'Rock', 'ScreenType', 'SemgHandGenderCh2',\n",
    "        'SemgHandMovementCh2', 'SemgHandSubjectCh2', 'ShakeGestureWiimoteZ',\n",
    "        'ShapeletSim', 'ShapesAll', 'SmallKitchenAppliances', 'SmoothSubspace',\n",
    "        'SonyAIBORobotSurface1', 'SonyAIBORobotSurface2', 'StarLightCurves',\n",
    "        'Strawberry', 'SwedishLeaf', 'Symbols', 'SyntheticControl',\n",
    "        'ToeSegmentation1', 'ToeSegmentation2', 'Trace', 'TwoLeadECG',\n",
    "        'TwoPatterns', 'UMD', 'UWaveGestureLibraryAll', 'UWaveGestureLibraryX',\n",
    "        'UWaveGestureLibraryY', 'UWaveGestureLibraryZ', 'Wafer', 'Wine',\n",
    "        'WordSynonyms', 'Worms', 'WormsTwoClass', 'Yoga'\n",
    "    ]\n",
    "\n",
    "test_eq(len(get_UCR_univariate_list()), 128)\n",
    "\n",
    "UCR_univariate_list = get_UCR_univariate_list()"
   ]
  },
  {
   "cell_type": "code",
   "execution_count": null,
   "metadata": {},
   "outputs": [
    {
     "data": {
      "text/plain": [
       "158"
      ]
     },
     "execution_count": null,
     "metadata": {},
     "output_type": "execute_result"
    }
   ],
   "source": [
    "#export\n",
    "def get_UCR_multivariate_list():\n",
    "    return [\n",
    "        'ArticularyWordRecognition', 'AtrialFibrillation', 'BasicMotions',\n",
    "        'CharacterTrajectories', 'Cricket', 'DuckDuckGeese', 'EigenWorms',\n",
    "        'Epilepsy', 'ERing', 'EthanolConcentration', 'FaceDetection',\n",
    "        'FingerMovements', 'HandMovementDirection', 'Handwriting', 'Heartbeat',\n",
    "        'InsectWingbeat', 'JapaneseVowels', 'Libras', 'LSST', 'MotorImagery',\n",
    "        'NATOPS', 'PEMS-SF', 'PenDigits', 'PhonemeSpectra', 'RacketSports',\n",
    "        'SelfRegulationSCP1', 'SelfRegulationSCP2', 'SpokenArabicDigits',\n",
    "        'StandWalkJump', 'UWaveGestureLibrary'\n",
    "    ]\n",
    "\n",
    "test_eq(len(get_UCR_multivariate_list()), 30)\n",
    "UCR_multivariate_list = get_UCR_multivariate_list()\n",
    "\n",
    "UCR_list = sorted(UCR_univariate_list + UCR_multivariate_list)\n",
    "classification_list = UCR_list\n",
    "len(UCR_list)"
   ]
  },
  {
   "cell_type": "code",
   "execution_count": null,
   "metadata": {},
   "outputs": [],
   "source": [
    "#export\n",
    "def get_UCR_data(dsid, path='.', parent_dir='data/UCR', on_disk=True, return_split=True, split_data=True, force_download=False, verbose=False):\n",
    "    dsid_list = [ds for ds in UCR_list if ds.lower() == dsid.lower()]\n",
    "    assert len(dsid_list) > 0, f'{dsid} is not a UCR dataset'\n",
    "    dsid = dsid_list[0]\n",
    "    return_split = return_split and split_data # keep return_split for compatibility. It will be replaced by split_data\n",
    "    if dsid in ['InsectWingbeat']:\n",
    "        warnings.warn(f'Be aware that download of the {dsid} dataset is very slow!')\n",
    "    pv(f'Dataset: {dsid}', verbose)\n",
    "    full_parent_dir = Path(path)/parent_dir\n",
    "    full_tgt_dir = full_parent_dir/dsid\n",
    "    if not os.path.exists(full_tgt_dir): os.makedirs(full_tgt_dir)\n",
    "    if force_download or not all([os.path.isfile(f'{full_parent_dir}/{dsid}/{fn}.npy') for fn in ['X_train', 'X_valid', 'y_train', 'y_valid', 'X', 'y']]):\n",
    "        src_website = 'http://www.timeseriesclassification.com/Downloads'\n",
    "        decompress_from_url(f'{src_website}/{dsid}.zip', target_dir=full_tgt_dir, verbose=verbose)\n",
    "        if dsid == 'DuckDuckGeese':\n",
    "            with zipfile.ZipFile(Path(f'{full_parent_dir}/DuckDuckGeese/DuckDuckGeese_ts.zip'), 'r') as zip_ref:\n",
    "                zip_ref.extractall(Path(parent_dir))\n",
    "        pv('loading ts files to dataframe...', verbose)\n",
    "        X_train_df, y_train = load_from_tsfile_to_dataframe(full_tgt_dir/f'{dsid}_TRAIN.ts')\n",
    "        X_valid_df, y_valid = load_from_tsfile_to_dataframe(full_tgt_dir/f'{dsid}_TEST.ts')\n",
    "        pv('...ts files loaded', verbose)\n",
    "        pv('preparing numpy arrays...', verbose)\n",
    "        X_train_ = []\n",
    "        X_valid_ = []\n",
    "        for i in progress_bar(range(X_train_df.shape[-1]), leave=False):\n",
    "            X_train_.append(stack_pad(X_train_df[f'dim_{i}'])) # stack arrays even if they have different lengths\n",
    "            X_valid_.append(stack_pad(X_valid_df[f'dim_{i}'])) # stack arrays even if they have different lengths\n",
    "        X_train = np.transpose(np.stack(X_train_, axis=-1), (0, 2, 1)).astype(np.float32)\n",
    "        X_valid = np.transpose(np.stack(X_valid_, axis=-1), (0, 2, 1)).astype(np.float32)\n",
    "        X_train, X_valid = match_seq_len(X_train, X_valid)\n",
    "\n",
    "        np.save(f'{full_tgt_dir}/X_train.npy', X_train)\n",
    "        np.save(f'{full_tgt_dir}/y_train.npy', y_train)\n",
    "        np.save(f'{full_tgt_dir}/X_valid.npy', X_valid)\n",
    "        np.save(f'{full_tgt_dir}/y_valid.npy', y_valid)\n",
    "        np.save(f'{full_tgt_dir}/X.npy', concat(X_train, X_valid))\n",
    "        np.save(f'{full_tgt_dir}/y.npy', concat(y_train, y_valid))\n",
    "        del X_train, X_valid, y_train, y_valid\n",
    "        delete_all_in_dir(full_tgt_dir, exception='.npy')\n",
    "        pv('...numpy arrays correctly saved', verbose)\n",
    "\n",
    "    mmap_mode='r+' if on_disk else None\n",
    "    X_train = np.load(f'{full_tgt_dir}/X_train.npy', mmap_mode=mmap_mode)\n",
    "    y_train = np.load(f'{full_tgt_dir}/y_train.npy', mmap_mode=mmap_mode)\n",
    "    X_valid = np.load(f'{full_tgt_dir}/X_valid.npy', mmap_mode=mmap_mode)\n",
    "    y_valid = np.load(f'{full_tgt_dir}/y_valid.npy', mmap_mode=mmap_mode)\n",
    "\n",
    "    if return_split:\n",
    "        if verbose:\n",
    "            print('X_train:', X_train.shape)\n",
    "            print('y_train:', y_train.shape)\n",
    "            print('X_valid:', X_valid.shape)\n",
    "            print('y_valid:', y_valid.shape, '\\n')\n",
    "        return X_train, y_train, X_valid, y_valid\n",
    "    else:\n",
    "        X = np.load(f'{full_tgt_dir}/X.npy', mmap_mode=mmap_mode)\n",
    "        y = np.load(f'{full_tgt_dir}/y.npy', mmap_mode=mmap_mode)\n",
    "        splits = get_predefined_splits(X_train, X_valid)\n",
    "        if verbose:\n",
    "            print('X      :', X .shape)\n",
    "            print('y      :', y .shape)\n",
    "            print('splits :', coll_repr(splits[0]), coll_repr(splits[1]), '\\n')\n",
    "        return X, y, splits\n",
    "    \n",
    "    \n",
    "get_classification_data = get_UCR_data"
   ]
  },
  {
   "cell_type": "code",
   "execution_count": null,
   "metadata": {},
   "outputs": [
    {
     "data": {
      "text/html": [],
      "text/plain": [
       "<IPython.core.display.HTML object>"
      ]
     },
     "metadata": {},
     "output_type": "display_data"
    },
    {
     "data": {
      "text/html": [],
      "text/plain": [
       "<IPython.core.display.HTML object>"
      ]
     },
     "metadata": {},
     "output_type": "display_data"
    }
   ],
   "source": [
    "#hide\n",
    "PATH = Path('.')\n",
    "dsids = ['OliveOil', 'AtrialFibrillation'] # univariate and multivariate\n",
    "for dsid in dsids:\n",
    "    tgt_dir = PATH/f'data/UCR/{dsid}'\n",
    "    if os.path.isdir(tgt_dir): shutil.rmtree(tgt_dir)\n",
    "    test_eq(len(get_files(tgt_dir)), 0) # no file left\n",
    "    X_train, y_train, X_valid, y_valid = get_UCR_data(dsid, PATH, parent_dir='data/UCR')\n",
    "    test_eq(len(get_files(tgt_dir, '.npy')), 6)\n",
    "    test_eq(len(get_files(tgt_dir, '.npy')), len(get_files(tgt_dir))) # test no left file/ dir\n",
    "    del X_train, y_train, X_valid, y_valid\n",
    "    start = time.time()\n",
    "    X_train, y_train, X_valid, y_valid = get_UCR_data(dsid, PATH, parent_dir='data/UCR')\n",
    "    elapsed = time.time() - start\n",
    "    test_eq(elapsed < 1, True)\n",
    "    test_eq(X_train.ndim, 3)\n",
    "    test_eq(y_train.ndim, 1)\n",
    "    test_eq(X_valid.ndim, 3)\n",
    "    test_eq(y_valid.ndim, 1)\n",
    "    test_eq(len(get_files(tgt_dir, '.npy')), 6)\n",
    "    test_eq(len(get_files(tgt_dir, '.npy')), len(get_files(tgt_dir))) # test no left file/ dir\n",
    "    test_eq(X_train.ndim, 3)\n",
    "    test_eq(y_train.ndim, 1)\n",
    "    test_eq(X_valid.ndim, 3)\n",
    "    test_eq(y_valid.ndim, 1)\n",
    "    test_eq(X_train.dtype, np.float32)\n",
    "    test_eq(X_train.__class__.__name__, 'memmap')\n",
    "    del X_train, y_train, X_valid, y_valid\n",
    "    X_train, y_train, X_valid, y_valid = get_UCR_data(dsid, PATH, parent_dir='data/UCR', on_disk=False)\n",
    "    test_eq(X_train.__class__.__name__, 'ndarray')\n",
    "    del X_train, y_train, X_valid, y_valid"
   ]
  },
  {
   "cell_type": "code",
   "execution_count": null,
   "metadata": {},
   "outputs": [
    {
     "name": "stdout",
     "output_type": "stream",
     "text": [
      "Dataset: NATOPS\n",
      "X_train: (180, 24, 51)\n",
      "y_train: (180,)\n",
      "X_valid: (180, 24, 51)\n",
      "y_valid: (180,) \n",
      "\n"
     ]
    }
   ],
   "source": [
    "dsid = 'natops' \n",
    "X_train, y_train, X_valid, y_valid = get_UCR_data(dsid, verbose=True)\n",
    "X, y, splits = get_UCR_data(dsid, split_data=False)\n",
    "test_eq(X[splits[0]], X_train)\n",
    "test_eq(y[splits[1]], y_valid)\n",
    "test_eq(X[splits[0]], X_train)\n",
    "test_eq(y[splits[1]], y_valid)\n",
    "test_type(X, X_train)\n",
    "test_type(y, y_train)"
   ]
  },
  {
   "cell_type": "code",
   "execution_count": null,
   "metadata": {},
   "outputs": [],
   "source": [
    "#export\n",
    "def check_data(X, y=None, splits=None, show_plot=True):\n",
    "    try: X_is_nan = np.isnan(X).sum()\n",
    "    except: X_is_nan = 'couldn not be checked'\n",
    "    if X.ndim == 3:\n",
    "        shape = f'[{X.shape[0]} samples x {X.shape[1]} features x {X.shape[-1]} timesteps]'\n",
    "        print(f'X      - shape: {shape}  type: {cls_name(X)}  dtype:{X.dtype}  isnan: {X_is_nan}')\n",
    "    else:\n",
    "        print(f'X      - shape: {X.shape}  type: {cls_name(X)}  dtype:{X.dtype}  isnan: {X_is_nan}')\n",
    "    if not isinstance(X, np.ndarray): warnings.warn('X must be a np.ndarray')\n",
    "    if X_is_nan: warnings.warn('X must not contain nan values')\n",
    "    if y is not None:\n",
    "        if isinstance(y[0], (Integral, str)):\n",
    "            n_classes = f'{len(np.unique(y))} ({len(y)//len(np.unique(y))} samples per class) {L(np.unique(y).tolist())}'\n",
    "            y_is_nan = 'nan' in [c.lower() for c in np.unique(y)]\n",
    "            print(f'y      - shape: {y.shape}  type: {cls_name(y)}  dtype:{y.dtype}  n_classes: {n_classes}  isnan: {y_is_nan}')\n",
    "        else:\n",
    "            y_is_nan = np.isnan(y).sum()\n",
    "            print(f'y      - shape: {y.shape}  type: {cls_name(y)}  dtype:{y.dtype}  isnan: {y_is_nan}')\n",
    "        if not isinstance(y, np.ndarray): warnings.warn('y must be a np.ndarray')\n",
    "        if y_is_nan: warnings.warn('y must not contain nan values')\n",
    "    if splits is not None:\n",
    "        _splits = get_splits_len(splits)\n",
    "        n_splits = len(_splits)\n",
    "        overlap = check_splits_overlap(splits)\n",
    "        print(f'splits - n_splits: {len(_splits)} shape: {_splits}  overlap: {overlap}')\n",
    "        if show_plot: plot_splits(splits)"
   ]
  },
  {
   "cell_type": "code",
   "execution_count": null,
   "metadata": {},
   "outputs": [
    {
     "data": {
      "text/html": [],
      "text/plain": [
       "<IPython.core.display.HTML object>"
      ]
     },
     "metadata": {},
     "output_type": "display_data"
    },
    {
     "name": "stdout",
     "output_type": "stream",
     "text": [
      "X      - shape: [60 samples x 1 features x 570 timesteps]  type: ndarray  dtype:float32  isnan: 0\n",
      "y      - shape: (60,)  type: ndarray  dtype:<U1  n_classes: 4 (15 samples per class) ['1', '2', '3', '4']  isnan: False\n",
      "splits - n_splits: 2 shape: [30, 30]  overlap: [False]\n"
     ]
    },
    {
     "data": {
      "image/png": "[encoded data removed]",
      "text/plain": [
       "<Figure size 1152x36 with 1 Axes>"
      ]
     },
     "metadata": {
      "needs_background": "light"
     },
     "output_type": "display_data"
    },
    {
     "name": "stdout",
     "output_type": "stream",
     "text": [
      "X      - shape: (60, 570)  type: ndarray  dtype:float32  isnan: 0\n",
      "y      - shape: (60,)  type: ndarray  dtype:<U1  n_classes: 4 (15 samples per class) ['1', '2', '3', '4']  isnan: False\n",
      "splits - n_splits: 2 shape: [30, 30]  overlap: [False]\n"
     ]
    },
    {
     "data": {
      "image/png": "[encoded data removed]",
      "text/plain": [
       "<Figure size 1152x36 with 1 Axes>"
      ]
     },
     "metadata": {
      "needs_background": "light"
     },
     "output_type": "display_data"
    },
    {
     "name": "stdout",
     "output_type": "stream",
     "text": [
      "X      - shape: [60 samples x 1 features x 570 timesteps]  type: ndarray  dtype:float32  isnan: 0\n",
      "y      - shape: (60,)  type: ndarray  dtype:float32  isnan: 0\n",
      "splits - n_splits: 2 shape: [30, 30]  overlap: [False]\n"
     ]
    },
    {
     "data": {
      "image/png": "[encoded data removed]",
      "text/plain": [
       "<Figure size 1152x36 with 1 Axes>"
      ]
     },
     "metadata": {
      "needs_background": "light"
     },
     "output_type": "display_data"
    },
    {
     "name": "stdout",
     "output_type": "stream",
     "text": [
      "X      - shape: (60, 570)  type: ndarray  dtype:float32  isnan: 0\n",
      "y      - shape: (60,)  type: ndarray  dtype:float32  isnan: 10\n",
      "splits - n_splits: 2 shape: [30, 30]  overlap: [False]\n"
     ]
    },
    {
     "name": "stderr",
     "output_type": "stream",
     "text": [
      "/Users/nacho/anaconda3/lib/python3.7/site-packages/ipykernel_launcher.py:21: UserWarning: y must not contain nan values\n"
     ]
    },
    {
     "data": {
      "image/png": "[encoded data removed]",
      "text/plain": [
       "<Figure size 1152x36 with 1 Axes>"
      ]
     },
     "metadata": {
      "needs_background": "light"
     },
     "output_type": "display_data"
    },
    {
     "data": {
      "text/html": [],
      "text/plain": [
       "<IPython.core.display.HTML object>"
      ]
     },
     "metadata": {},
     "output_type": "display_data"
    },
    {
     "data": {
      "image/png": "[encoded data removed]",
      "text/plain": [
       "<Figure size 1152x108 with 1 Axes>"
      ]
     },
     "metadata": {
      "needs_background": "light"
     },
     "output_type": "display_data"
    },
    {
     "name": "stdout",
     "output_type": "stream",
     "text": [
      "X      - shape: [60 samples x 1 features x 570 timesteps]  type: ndarray  dtype:float32  isnan: 0\n",
      "y      - shape: (60,)  type: ndarray  dtype:<U1  n_classes: 4 (15 samples per class) ['1', '2', '3', '4']  isnan: False\n",
      "splits - n_splits: 3 shape: [[40, 20], [40, 20], [40, 20]]  overlap: [False, False, False]\n"
     ]
    },
    {
     "data": {
      "image/png": "[encoded data removed]",
      "text/plain": [
       "<Figure size 1152x108 with 1 Axes>"
      ]
     },
     "metadata": {
      "needs_background": "light"
     },
     "output_type": "display_data"
    },
    {
     "name": "stdout",
     "output_type": "stream",
     "text": [
      "X      - shape: (60, 570)  type: ndarray  dtype:float32  isnan: 0\n",
      "y      - shape: (60,)  type: ndarray  dtype:<U1  n_classes: 4 (15 samples per class) ['1', '2', '3', '4']  isnan: False\n",
      "splits - n_splits: 3 shape: [[40, 20], [40, 20], [40, 20]]  overlap: [False, False, False]\n"
     ]
    },
    {
     "data": {
      "image/png": "[encoded data removed]",
      "text/plain": [
       "<Figure size 1152x108 with 1 Axes>"
      ]
     },
     "metadata": {
      "needs_background": "light"
     },
     "output_type": "display_data"
    },
    {
     "name": "stdout",
     "output_type": "stream",
     "text": [
      "X      - shape: (60, 570)  type: ndarray  dtype:float32  isnan: 0\n",
      "y      - shape: (60,)  type: ndarray  dtype:<U1  n_classes: 5 (12 samples per class) ['1', '2', '3', '4', 'n']  isnan: False\n",
      "splits - n_splits: 3 shape: [[40, 20], [40, 20], [40, 20]]  overlap: [False, False, False]\n"
     ]
    },
    {
     "data": {
      "image/png": "[encoded data removed]",
      "text/plain": [
       "<Figure size 1152x108 with 1 Axes>"
      ]
     },
     "metadata": {
      "needs_background": "light"
     },
     "output_type": "display_data"
    },
    {
     "data": {
      "text/html": [],
      "text/plain": [
       "<IPython.core.display.HTML object>"
      ]
     },
     "metadata": {},
     "output_type": "display_data"
    }
   ],
   "source": [
    "dsid = 'OliveOil'\n",
    "X, y, splits = get_UCR_data(dsid, split_data=False, on_disk=False, force_download=True)\n",
    "check_data(X, y, splits)\n",
    "check_data(X[:, 0], y, splits)\n",
    "y = y.astype(np.float32)\n",
    "check_data(X, y, splits)\n",
    "y[:10] = np.nan\n",
    "check_data(X[:, 0], y, splits)\n",
    "X, y, splits = get_UCR_data(dsid, split_data=False, on_disk=False, force_download=True)\n",
    "splits = get_splits(y, 3)\n",
    "check_data(X, y, splits)\n",
    "check_data(X[:, 0], y, splits)\n",
    "y[:5]= np.nan\n",
    "check_data(X[:, 0], y, splits)\n",
    "X, y, splits = get_UCR_data(dsid, split_data=False, on_disk=False, force_download=True)"
   ]
  },
  {
   "cell_type": "markdown",
   "metadata": {},
   "source": [
    "Another way to extract data is to use the sktime function `load_UCR_UEA_dataset`."
   ]
  },
  {
   "cell_type": "code",
   "execution_count": null,
   "metadata": {},
   "outputs": [
    {
     "data": {
      "text/plain": [
       "((30, 1, 570), numpy.ndarray, (30,), numpy.ndarray)"
      ]
     },
     "execution_count": null,
     "metadata": {},
     "output_type": "execute_result"
    }
   ],
   "source": [
    "dsid = 'OliveOil'\n",
    "\n",
    "X_train, y_train = load_UCR_UEA_dataset(dsid, split='train', return_X_y=True)\n",
    "X_train = check_X(X_train, coerce_to_numpy=True).astype(np.float32)\n",
    "X_test, y_test = load_UCR_UEA_dataset(dsid, split='test', return_X_y=True)\n",
    "X_test = check_X(X_test, coerce_to_numpy=True).astype(np.float32)\n",
    "X_train.shape, type(X_train), y_train.shape, type(y_train)"
   ]
  },
  {
   "cell_type": "code",
   "execution_count": null,
   "metadata": {},
   "outputs": [],
   "source": [
    "#export\n",
    "# This code comes from https://github.com/ChangWeiTan/TSRegression. As of Jan 16th, 2021 there's no pip install available.\n",
    "\n",
    "def load_from_tsfile_to_dataframe2(full_file_path_and_name, return_separate_X_and_y=True, replace_missing_vals_with='NaN'):\n",
    "    \"\"\"Loads data from a .ts file into a Pandas DataFrame.\n",
    "    Parameters\n",
    "    ----------\n",
    "    full_file_path_and_name: str\n",
    "        The full pathname of the .ts file to read.\n",
    "    return_separate_X_and_y: bool\n",
    "        true if X and Y values should be returned as separate Data Frames (X) and a numpy array (y), false otherwise.\n",
    "        This is only relevant for data that\n",
    "    replace_missing_vals_with: str\n",
    "       The value that missing values in the text file should be replaced with prior to parsing.\n",
    "    Returns\n",
    "    -------\n",
    "    DataFrame, ndarray\n",
    "        If return_separate_X_and_y then a tuple containing a DataFrame and a numpy array containing the relevant time-series and corresponding class values.\n",
    "    DataFrame\n",
    "        If not return_separate_X_and_y then a single DataFrame containing all time-series and (if relevant) a column \"class_vals\" the associated class values.\n",
    "    \"\"\"\n",
    "\n",
    "    # Initialize flags and variables used when parsing the file\n",
    "    metadata_started = False\n",
    "    data_started = False\n",
    "\n",
    "    has_problem_name_tag = False\n",
    "    has_timestamps_tag = False\n",
    "    has_univariate_tag = False\n",
    "    has_class_labels_tag = False\n",
    "    has_target_labels_tag = False\n",
    "    has_data_tag = False\n",
    "\n",
    "    previous_timestamp_was_float = None\n",
    "    previous_timestamp_was_int = None\n",
    "    previous_timestamp_was_timestamp = None\n",
    "    num_dimensions = None\n",
    "    is_first_case = True\n",
    "    instance_list = []\n",
    "    class_val_list = []\n",
    "    line_num = 0\n",
    "\n",
    "    # Parse the file\n",
    "    # print(full_file_path_and_name)\n",
    "    with open(full_file_path_and_name, 'r', encoding='utf-8') as file:\n",
    "        for line in tqdm(file):\n",
    "            # print(\".\", end='')\n",
    "            # Strip white space from start/end of line and change to lowercase for use below\n",
    "            line = line.strip().lower()\n",
    "            # Empty lines are valid at any point in a file\n",
    "            if line:\n",
    "                # Check if this line contains metadata\n",
    "                # Please note that even though metadata is stored in this function it is not currently published externally\n",
    "                if line.startswith(\"@problemname\"):\n",
    "                    # Check that the data has not started\n",
    "                    if data_started:\n",
    "                        raise TsFileParseException(\"metadata must come before data\")\n",
    "                    # Check that the associated value is valid\n",
    "                    tokens = line.split(' ')\n",
    "                    token_len = len(tokens)\n",
    "\n",
    "                    if token_len == 1:\n",
    "                        raise TsFileParseException(\"problemname tag requires an associated value\")\n",
    "\n",
    "                    problem_name = line[len(\"@problemname\") + 1:]\n",
    "                    has_problem_name_tag = True\n",
    "                    metadata_started = True\n",
    "                elif line.startswith(\"@timestamps\"):\n",
    "                    # Check that the data has not started\n",
    "                    if data_started:\n",
    "                        raise TsFileParseException(\"metadata must come before data\")\n",
    "\n",
    "                    # Check that the associated value is valid\n",
    "                    tokens = line.split(' ')\n",
    "                    token_len = len(tokens)\n",
    "\n",
    "                    if token_len != 2:\n",
    "                        raise TsFileParseException(\"timestamps tag requires an associated Boolean value\")\n",
    "                    elif tokens[1] == \"true\":\n",
    "                        timestamps = True\n",
    "                    elif tokens[1] == \"false\":\n",
    "                        timestamps = False\n",
    "                    else:\n",
    "                        raise TsFileParseException(\"invalid timestamps value\")\n",
    "                    has_timestamps_tag = True\n",
    "                    metadata_started = True\n",
    "                elif line.startswith(\"@univariate\"):\n",
    "                    # Check that the data has not started\n",
    "                    if data_started:\n",
    "                        raise TsFileParseException(\"metadata must come before data\")\n",
    "\n",
    "                    # Check that the associated value is valid\n",
    "                    tokens = line.split(' ')\n",
    "                    token_len = len(tokens)\n",
    "                    if token_len != 2:\n",
    "                        raise TsFileParseException(\"univariate tag requires an associated Boolean value\")\n",
    "                    elif tokens[1] == \"true\":\n",
    "                        univariate = True\n",
    "                    elif tokens[1] == \"false\":\n",
    "                        univariate = False\n",
    "                    else:\n",
    "                        raise TsFileParseException(\"invalid univariate value\")\n",
    "\n",
    "                    has_univariate_tag = True\n",
    "                    metadata_started = True\n",
    "                elif line.startswith(\"@classlabel\"):\n",
    "                    # Check that the data has not started\n",
    "                    if data_started:\n",
    "                        raise TsFileParseException(\"metadata must come before data\")\n",
    "\n",
    "                    # Check that the associated value is valid\n",
    "                    tokens = line.split(' ')\n",
    "                    token_len = len(tokens)\n",
    "\n",
    "                    if token_len == 1:\n",
    "                        raise TsFileParseException(\"classlabel tag requires an associated Boolean value\")\n",
    "\n",
    "                    if tokens[1] == \"true\":\n",
    "                        class_labels = True\n",
    "                    elif tokens[1] == \"false\":\n",
    "                        class_labels = False\n",
    "                    else:\n",
    "                        raise TsFileParseException(\"invalid classLabel value\")\n",
    "\n",
    "                    # Check if we have any associated class values\n",
    "                    if token_len == 2 and class_labels:\n",
    "                        raise TsFileParseException(\"if the classlabel tag is true then class values must be supplied\")\n",
    "\n",
    "                    has_class_labels_tag = True\n",
    "                    class_label_list = [token.strip() for token in tokens[2:]]\n",
    "                    metadata_started = True\n",
    "                elif line.startswith(\"@targetlabel\"):\n",
    "                    # Check that the data has not started\n",
    "                    if data_started:\n",
    "                        raise TsFileParseException(\"metadata must come before data\")\n",
    "\n",
    "                    # Check that the associated value is valid\n",
    "                    tokens = line.split(' ')\n",
    "                    token_len = len(tokens)\n",
    "\n",
    "                    if token_len == 1:\n",
    "                        raise TsFileParseException(\"targetlabel tag requires an associated Boolean value\")\n",
    "\n",
    "                    if tokens[1] == \"true\":\n",
    "                        target_labels = True\n",
    "                    elif tokens[1] == \"false\":\n",
    "                        target_labels = False\n",
    "                    else:\n",
    "                        raise TsFileParseException(\"invalid targetLabel value\")\n",
    "\n",
    "                    has_target_labels_tag = True\n",
    "                    class_val_list = []\n",
    "                    metadata_started = True\n",
    "                # Check if this line contains the start of data\n",
    "                elif line.startswith(\"@data\"):\n",
    "                    if line != \"@data\":\n",
    "                        raise TsFileParseException(\"data tag should not have an associated value\")\n",
    "\n",
    "                    if data_started and not metadata_started:\n",
    "                        raise TsFileParseException(\"metadata must come before data\")\n",
    "                    else:\n",
    "                        has_data_tag = True\n",
    "                        data_started = True\n",
    "                # If the 'data tag has been found then metadata has been parsed and data can be loaded\n",
    "                elif data_started:\n",
    "                    # Check that a full set of metadata has been provided\n",
    "                    incomplete_regression_meta_data = not has_problem_name_tag or not has_timestamps_tag or not has_univariate_tag or not has_target_labels_tag or not has_data_tag\n",
    "                    incomplete_classification_meta_data = not has_problem_name_tag or not has_timestamps_tag or not has_univariate_tag or not has_class_labels_tag or not has_data_tag\n",
    "                    if incomplete_regression_meta_data and incomplete_classification_meta_data:\n",
    "                        raise TsFileParseException(\"a full set of metadata has not been provided before the data\")\n",
    "\n",
    "                    # Replace any missing values with the value specified\n",
    "                    line = line.replace(\"?\", replace_missing_vals_with)\n",
    "\n",
    "                    # Check if we dealing with data that has timestamps\n",
    "                    if timestamps:\n",
    "                        # We're dealing with timestamps so cannot just split line on ':' as timestamps may contain one\n",
    "                        has_another_value = False\n",
    "                        has_another_dimension = False\n",
    "\n",
    "                        timestamps_for_dimension = []\n",
    "                        values_for_dimension = []\n",
    "\n",
    "                        this_line_num_dimensions = 0\n",
    "                        line_len = len(line)\n",
    "                        char_num = 0\n",
    "\n",
    "                        while char_num < line_len:\n",
    "                            # Move through any spaces\n",
    "                            while char_num < line_len and str.isspace(line[char_num]):\n",
    "                                char_num += 1\n",
    "\n",
    "                            # See if there is any more data to read in or if we should validate that read thus far\n",
    "\n",
    "                            if char_num < line_len:\n",
    "\n",
    "                                # See if we have an empty dimension (i.e. no values)\n",
    "                                if line[char_num] == \":\":\n",
    "                                    if len(instance_list) < (this_line_num_dimensions + 1):\n",
    "                                        instance_list.append([])\n",
    "\n",
    "                                    instance_list[this_line_num_dimensions].append(pd.Series())\n",
    "                                    this_line_num_dimensions += 1\n",
    "\n",
    "                                    has_another_value = False\n",
    "                                    has_another_dimension = True\n",
    "\n",
    "                                    timestamps_for_dimension = []\n",
    "                                    values_for_dimension = []\n",
    "\n",
    "                                    char_num += 1\n",
    "                                else:\n",
    "                                    # Check if we have reached a class label\n",
    "                                    if line[char_num] != \"(\" and target_labels:\n",
    "                                        class_val = line[char_num:].strip()\n",
    "\n",
    "                                        # if class_val not in class_val_list:\n",
    "                                        #     raise TsFileParseException(\n",
    "                                        #         \"the class value '\" + class_val + \"' on line \" + str(\n",
    "                                        #             line_num + 1) + \" is not valid\")\n",
    "\n",
    "                                        class_val_list.append(float(class_val))\n",
    "                                        char_num = line_len\n",
    "\n",
    "                                        has_another_value = False\n",
    "                                        has_another_dimension = False\n",
    "\n",
    "                                        timestamps_for_dimension = []\n",
    "                                        values_for_dimension = []\n",
    "\n",
    "                                    else:\n",
    "\n",
    "                                        # Read in the data contained within the next tuple\n",
    "\n",
    "                                        if line[char_num] != \"(\" and not target_labels:\n",
    "                                            raise TsFileParseException(\n",
    "                                                \"dimension \" + str(this_line_num_dimensions + 1) + \" on line \" + str(\n",
    "                                                    line_num + 1) + \" does not start with a '('\")\n",
    "\n",
    "                                        char_num += 1\n",
    "                                        tuple_data = \"\"\n",
    "\n",
    "                                        while char_num < line_len and line[char_num] != \")\":\n",
    "                                            tuple_data += line[char_num]\n",
    "                                            char_num += 1\n",
    "\n",
    "                                        if char_num >= line_len or line[char_num] != \")\":\n",
    "                                            raise TsFileParseException(\n",
    "                                                \"dimension \" + str(this_line_num_dimensions + 1) + \" on line \" + str(\n",
    "                                                    line_num + 1) + \" does not end with a ')'\")\n",
    "\n",
    "                                        # Read in any spaces immediately after the current tuple\n",
    "\n",
    "                                        char_num += 1\n",
    "\n",
    "                                        while char_num < line_len and str.isspace(line[char_num]):\n",
    "                                            char_num += 1\n",
    "\n",
    "                                        # Check if there is another value or dimension to process after this tuple\n",
    "\n",
    "                                        if char_num >= line_len:\n",
    "                                            has_another_value = False\n",
    "                                            has_another_dimension = False\n",
    "\n",
    "                                        elif line[char_num] == \",\":\n",
    "                                            has_another_value = True\n",
    "                                            has_another_dimension = False\n",
    "\n",
    "                                        elif line[char_num] == \":\":\n",
    "                                            has_another_value = False\n",
    "                                            has_another_dimension = True\n",
    "\n",
    "                                        char_num += 1\n",
    "\n",
    "                                        # Get the numeric value for the tuple by reading from the end of the tuple data backwards to the last comma\n",
    "\n",
    "                                        last_comma_index = tuple_data.rfind(',')\n",
    "\n",
    "                                        if last_comma_index == -1:\n",
    "                                            raise TsFileParseException(\n",
    "                                                \"dimension \" + str(this_line_num_dimensions + 1) + \" on line \" + str(\n",
    "                                                    line_num + 1) + \" contains a tuple that has no comma inside of it\")\n",
    "\n",
    "                                        try:\n",
    "                                            value = tuple_data[last_comma_index + 1:]\n",
    "                                            value = float(value)\n",
    "\n",
    "                                        except ValueError:\n",
    "                                            raise TsFileParseException(\n",
    "                                                \"dimension \" + str(this_line_num_dimensions + 1) + \" on line \" + str(\n",
    "                                                    line_num + 1) + \" contains a tuple that does not have a valid numeric value\")\n",
    "\n",
    "                                        # Check the type of timestamp that we have\n",
    "\n",
    "                                        timestamp = tuple_data[0: last_comma_index]\n",
    "\n",
    "                                        try:\n",
    "                                            timestamp = int(timestamp)\n",
    "                                            timestamp_is_int = True\n",
    "                                            timestamp_is_timestamp = False\n",
    "                                        except ValueError:\n",
    "                                            timestamp_is_int = False\n",
    "\n",
    "                                        if not timestamp_is_int:\n",
    "                                            try:\n",
    "                                                timestamp = float(timestamp)\n",
    "                                                timestamp_is_float = True\n",
    "                                                timestamp_is_timestamp = False\n",
    "                                            except ValueError:\n",
    "                                                timestamp_is_float = False\n",
    "\n",
    "                                        if not timestamp_is_int and not timestamp_is_float:\n",
    "                                            try:\n",
    "                                                timestamp = timestamp.strip()\n",
    "                                                timestamp_is_timestamp = True\n",
    "                                            except ValueError:\n",
    "                                                timestamp_is_timestamp = False\n",
    "\n",
    "                                        # Make sure that the timestamps in the file (not just this dimension or case) are consistent\n",
    "\n",
    "                                        if not timestamp_is_timestamp and not timestamp_is_int and not timestamp_is_float:\n",
    "                                            raise TsFileParseException(\n",
    "                                                \"dimension \" + str(this_line_num_dimensions + 1) + \" on line \" + str(\n",
    "                                                    line_num + 1) + \" contains a tuple that has an invalid timestamp '\" + timestamp + \"'\")\n",
    "\n",
    "                                        if previous_timestamp_was_float is not None and previous_timestamp_was_float and not timestamp_is_float:\n",
    "                                            raise TsFileParseException(\n",
    "                                                \"dimension \" + str(this_line_num_dimensions + 1) + \" on line \" + str(\n",
    "                                                    line_num + 1) + \" contains tuples where the timestamp format is inconsistent\")\n",
    "\n",
    "                                        if previous_timestamp_was_int is not None and previous_timestamp_was_int and not timestamp_is_int:\n",
    "                                            raise TsFileParseException(\n",
    "                                                \"dimension \" + str(this_line_num_dimensions + 1) + \" on line \" + str(\n",
    "                                                    line_num + 1) + \" contains tuples where the timestamp format is inconsistent\")\n",
    "\n",
    "                                        if previous_timestamp_was_timestamp is not None and previous_timestamp_was_timestamp and not timestamp_is_timestamp:\n",
    "                                            raise TsFileParseException(\n",
    "                                                \"dimension \" + str(this_line_num_dimensions + 1) + \" on line \" + str(\n",
    "                                                    line_num + 1) + \" contains tuples where the timestamp format is inconsistent\")\n",
    "\n",
    "                                        # Store the values\n",
    "\n",
    "                                        timestamps_for_dimension += [timestamp]\n",
    "                                        values_for_dimension += [value]\n",
    "\n",
    "                                        #  If this was our first tuple then we store the type of timestamp we had\n",
    "\n",
    "                                        if previous_timestamp_was_timestamp is None and timestamp_is_timestamp:\n",
    "                                            previous_timestamp_was_timestamp = True\n",
    "                                            previous_timestamp_was_int = False\n",
    "                                            previous_timestamp_was_float = False\n",
    "\n",
    "                                        if previous_timestamp_was_int is None and timestamp_is_int:\n",
    "                                            previous_timestamp_was_timestamp = False\n",
    "                                            previous_timestamp_was_int = True\n",
    "                                            previous_timestamp_was_float = False\n",
    "\n",
    "                                        if previous_timestamp_was_float is None and timestamp_is_float:\n",
    "                                            previous_timestamp_was_timestamp = False\n",
    "                                            previous_timestamp_was_int = False\n",
    "                                            previous_timestamp_was_float = True\n",
    "\n",
    "                                        # See if we should add the data for this dimension\n",
    "\n",
    "                                        if not has_another_value:\n",
    "                                            if len(instance_list) < (this_line_num_dimensions + 1):\n",
    "                                                instance_list.append([])\n",
    "\n",
    "                                            if timestamp_is_timestamp:\n",
    "                                                timestamps_for_dimension = pd.DatetimeIndex(timestamps_for_dimension)\n",
    "\n",
    "                                            instance_list[this_line_num_dimensions].append(\n",
    "                                                pd.Series(index=timestamps_for_dimension, data=values_for_dimension))\n",
    "                                            this_line_num_dimensions += 1\n",
    "\n",
    "                                            timestamps_for_dimension = []\n",
    "                                            values_for_dimension = []\n",
    "\n",
    "                            elif has_another_value:\n",
    "                                raise TsFileParseException(\n",
    "                                    \"dimension \" + str(this_line_num_dimensions + 1) + \" on line \" + str(\n",
    "                                        line_num + 1) + \" ends with a ',' that is not followed by another tuple\")\n",
    "\n",
    "                            elif has_another_dimension and target_labels:\n",
    "                                raise TsFileParseException(\n",
    "                                    \"dimension \" + str(this_line_num_dimensions + 1) + \" on line \" + str(\n",
    "                                        line_num + 1) + \" ends with a ':' while it should list a class value\")\n",
    "\n",
    "                            elif has_another_dimension and not target_labels:\n",
    "                                if len(instance_list) < (this_line_num_dimensions + 1):\n",
    "                                    instance_list.append([])\n",
    "\n",
    "                                instance_list[this_line_num_dimensions].append(pd.Series(dtype=np.float32))\n",
    "                                this_line_num_dimensions += 1\n",
    "                                num_dimensions = this_line_num_dimensions\n",
    "\n",
    "                            # If this is the 1st line of data we have seen then note the dimensions\n",
    "\n",
    "                            if not has_another_value and not has_another_dimension:\n",
    "                                if num_dimensions is None:\n",
    "                                    num_dimensions = this_line_num_dimensions\n",
    "\n",
    "                                if num_dimensions != this_line_num_dimensions:\n",
    "                                    raise TsFileParseException(\"line \" + str(\n",
    "                                        line_num + 1) + \" does not have the same number of dimensions as the previous line of data\")\n",
    "\n",
    "                        # Check that we are not expecting some more data, and if not, store that processed above\n",
    "\n",
    "                        if has_another_value:\n",
    "                            raise TsFileParseException(\n",
    "                                \"dimension \" + str(this_line_num_dimensions + 1) + \" on line \" + str(\n",
    "                                    line_num + 1) + \" ends with a ',' that is not followed by another tuple\")\n",
    "\n",
    "                        elif has_another_dimension and target_labels:\n",
    "                            raise TsFileParseException(\n",
    "                                \"dimension \" + str(this_line_num_dimensions + 1) + \" on line \" + str(\n",
    "                                    line_num + 1) + \" ends with a ':' while it should list a class value\")\n",
    "\n",
    "                        elif has_another_dimension and not target_labels:\n",
    "                            if len(instance_list) < (this_line_num_dimensions + 1):\n",
    "                                instance_list.append([])\n",
    "\n",
    "                            instance_list[this_line_num_dimensions].append(pd.Series())\n",
    "                            this_line_num_dimensions += 1\n",
    "                            num_dimensions = this_line_num_dimensions\n",
    "\n",
    "                        # If this is the 1st line of data we have seen then note the dimensions\n",
    "\n",
    "                        if not has_another_value and num_dimensions != this_line_num_dimensions:\n",
    "                            raise TsFileParseException(\"line \" + str(\n",
    "                                line_num + 1) + \" does not have the same number of dimensions as the previous line of data\")\n",
    "\n",
    "                        # Check if we should have class values, and if so that they are contained in those listed in the metadata\n",
    "\n",
    "                        if target_labels and len(class_val_list) == 0:\n",
    "                            raise TsFileParseException(\"the cases have no associated class values\")\n",
    "                    else:\n",
    "                        dimensions = line.split(\":\")\n",
    "                        # If first row then note the number of dimensions (that must be the same for all cases)\n",
    "                        if is_first_case:\n",
    "                            num_dimensions = len(dimensions)\n",
    "\n",
    "                            if target_labels:\n",
    "                                num_dimensions -= 1\n",
    "\n",
    "                            for dim in range(0, num_dimensions):\n",
    "                                instance_list.append([])\n",
    "                            is_first_case = False\n",
    "\n",
    "                        # See how many dimensions that the case whose data in represented in this line has\n",
    "                        this_line_num_dimensions = len(dimensions)\n",
    "\n",
    "                        if target_labels:\n",
    "                            this_line_num_dimensions -= 1\n",
    "\n",
    "                        # All dimensions should be included for all series, even if they are empty\n",
    "                        if this_line_num_dimensions != num_dimensions:\n",
    "                            raise TsFileParseException(\"inconsistent number of dimensions. Expecting \" + str(\n",
    "                                num_dimensions) + \" but have read \" + str(this_line_num_dimensions))\n",
    "\n",
    "                        # Process the data for each dimension\n",
    "                        for dim in range(0, num_dimensions):\n",
    "                            dimension = dimensions[dim].strip()\n",
    "\n",
    "                            if dimension:\n",
    "                                data_series = dimension.split(\",\")\n",
    "                                data_series = [float(i) for i in data_series]\n",
    "                                instance_list[dim].append(pd.Series(data_series))\n",
    "                            else:\n",
    "                                instance_list[dim].append(pd.Series())\n",
    "\n",
    "                        if target_labels:\n",
    "                            class_val_list.append(float(dimensions[num_dimensions].strip()))\n",
    "\n",
    "            line_num += 1\n",
    "\n",
    "    # Check that the file was not empty\n",
    "    if line_num:\n",
    "        # Check that the file contained both metadata and data\n",
    "        complete_regression_meta_data = has_problem_name_tag and has_timestamps_tag and has_univariate_tag and has_target_labels_tag and has_data_tag\n",
    "        complete_classification_meta_data = has_problem_name_tag and has_timestamps_tag and has_univariate_tag and has_class_labels_tag and has_data_tag\n",
    "\n",
    "        if metadata_started and not complete_regression_meta_data and not complete_classification_meta_data:\n",
    "            raise TsFileParseException(\"metadata incomplete\")\n",
    "        elif metadata_started and not data_started:\n",
    "            raise TsFileParseException(\"file contained metadata but no data\")\n",
    "        elif metadata_started and data_started and len(instance_list) == 0:\n",
    "            raise TsFileParseException(\"file contained metadata but no data\")\n",
    "\n",
    "        # Create a DataFrame from the data parsed above\n",
    "        data = pd.DataFrame(dtype=np.float32)\n",
    "\n",
    "        for dim in range(0, num_dimensions):\n",
    "            data['dim_' + str(dim)] = instance_list[dim]\n",
    "\n",
    "        # Check if we should return any associated class labels separately\n",
    "\n",
    "        if target_labels:\n",
    "            if return_separate_X_and_y:\n",
    "                return data, np.asarray(class_val_list)\n",
    "            else:\n",
    "                data['class_vals'] = pd.Series(class_val_list)\n",
    "                return data\n",
    "        else:\n",
    "            return data\n",
    "    else:\n",
    "        raise TsFileParseException(\"empty file\")"
   ]
  },
  {
   "cell_type": "code",
   "execution_count": null,
   "metadata": {},
   "outputs": [
    {
     "data": {
      "text/plain": [
       "15"
      ]
     },
     "execution_count": null,
     "metadata": {},
     "output_type": "execute_result"
    }
   ],
   "source": [
    "#export\n",
    "def get_Monash_regression_list():\n",
    "    return sorted([\n",
    "        \"AustraliaRainfall\", \"HouseholdPowerConsumption1\",\n",
    "        \"HouseholdPowerConsumption2\", \"BeijingPM25Quality\",\n",
    "        \"BeijingPM10Quality\", \"Covid3Month\", \"LiveFuelMoistureContent\",\n",
    "        \"FloodModeling1\", \"FloodModeling2\", \"FloodModeling3\",\n",
    "        \"AppliancesEnergy\", \"BenzeneConcentration\", \"NewsHeadlineSentiment\",\n",
    "        \"NewsTitleSentiment\", \"IEEEPPG\",  \n",
    "        #\"BIDMC32RR\", \"BIDMC32HR\", \"BIDMC32SpO2\", \"PPGDalia\" # Cannot be downloaded\n",
    "    ])\n",
    "\n",
    "Monash_list = get_Monash_regression_list()\n",
    "regression_list = Monash_list\n",
    "len(Monash_list)"
   ]
  },
  {
   "cell_type": "code",
   "execution_count": null,
   "metadata": {},
   "outputs": [],
   "source": [
    "#export\n",
    "def get_Monash_data(dsid, path='./data/Monash', on_disk=True, split_data=True, force_download=False, verbose=False):\n",
    "    dsid_list = [rd for rd in Monash_list if rd.lower() == dsid.lower()]\n",
    "    assert len(dsid_list) > 0, f'{dsid} is not a Monash dataset'\n",
    "    dsid = dsid_list[0]\n",
    "    full_tgt_dir = Path(path)/dsid\n",
    "    pv(f'Dataset: {dsid}', verbose)\n",
    "\n",
    "    if force_download or not all([os.path.isfile(f'{path}/{dsid}/{fn}.npy') for fn in ['X_train', 'X_valid', 'y_train', 'y_valid', 'X', 'y']]):\n",
    "\n",
    "        if dsid == 'AppliancesEnergy': id = 3902637\n",
    "        elif dsid == 'HouseholdPowerConsumption1': id = 3902704\n",
    "        elif dsid == 'HouseholdPowerConsumption2': id = 3902706\n",
    "        elif dsid == 'BenzeneConcentration': id = 3902673\n",
    "        elif dsid == 'BeijingPM25Quality': id = 3902671\n",
    "        elif dsid == 'BeijingPM10Quality': id = 3902667\n",
    "        elif dsid == 'LiveFuelMoistureContent': id = 3902716\n",
    "        elif dsid == 'FloodModeling1': id = 3902694\n",
    "        elif dsid == 'FloodModeling2': id = 3902696\n",
    "        elif dsid == 'FloodModeling3': id = 3902698\n",
    "        elif dsid == 'AustraliaRainfall': id = 3902654\n",
    "        elif dsid == 'PPGDalia': id = 3902728\n",
    "        elif dsid == 'IEEEPPG': id = 3902710\n",
    "        elif dsid == 'BIDMCRR' or dsid == 'BIDM32CRR': id = 3902685\n",
    "        elif dsid == 'BIDMCHR' or dsid == 'BIDM32CHR': id = 3902676\n",
    "        elif dsid == 'BIDMCSpO2' or dsid == 'BIDM32CSpO2': id = 3902688\n",
    "        elif dsid == 'NewsHeadlineSentiment': id = 3902718\n",
    "        elif dsid == 'NewsTitleSentiment': id = 3902726\n",
    "        elif dsid == 'Covid3Month': id = 3902690\n",
    "\n",
    "        for split in ['TRAIN', 'TEST']:\n",
    "            url = f\"https://zenodo.org/record/{id}/files/{dsid}_{split}.ts\"\n",
    "            fname = Path(path)/f'{dsid}/{dsid}_{split}.ts'\n",
    "\n",
    "            pv('downloading data...', verbose)\n",
    "            try:\n",
    "                download_data(url, fname, c_key='archive', force_download=force_download, timeout=4)\n",
    "            except:\n",
    "                warnings.warn(f'Cannot download {dsid} dataset')\n",
    "                if split_data: return None, None, None, None\n",
    "                else: return None, None, None\n",
    "            pv('...download complete', verbose)\n",
    "            if split == 'TRAIN':\n",
    "                X_train, y_train = load_from_tsfile_to_dataframe2(fname)\n",
    "                X_train = check_X(X_train, coerce_to_numpy=True).astype(np.float32)\n",
    "            else:\n",
    "                X_valid, y_valid = load_from_tsfile_to_dataframe2(fname)\n",
    "                X_valid = check_X(X_valid, coerce_to_numpy=True).astype(np.float32)\n",
    "        np.save(f'{full_tgt_dir}/X_train.npy', X_train)\n",
    "        np.save(f'{full_tgt_dir}/y_train.npy', y_train)\n",
    "        np.save(f'{full_tgt_dir}/X_valid.npy', X_valid)\n",
    "        np.save(f'{full_tgt_dir}/y_valid.npy', y_valid)\n",
    "        np.save(f'{full_tgt_dir}/X.npy', concat(X_train, X_valid))\n",
    "        np.save(f'{full_tgt_dir}/y.npy', concat(y_train, y_valid))\n",
    "        del X_train, X_valid, y_train, y_valid\n",
    "        delete_all_in_dir(full_tgt_dir, exception='.npy')\n",
    "        pv('...numpy arrays correctly saved', verbose)\n",
    "\n",
    "    mmap_mode='r+' if on_disk else None\n",
    "    X_train = np.load(f'{full_tgt_dir}/X_train.npy', mmap_mode=mmap_mode)\n",
    "    y_train = np.load(f'{full_tgt_dir}/y_train.npy', mmap_mode=mmap_mode)\n",
    "    X_valid = np.load(f'{full_tgt_dir}/X_valid.npy', mmap_mode=mmap_mode)\n",
    "    y_valid = np.load(f'{full_tgt_dir}/y_valid.npy', mmap_mode=mmap_mode)\n",
    "\n",
    "    if split_data:\n",
    "        if verbose:\n",
    "            print('X_train:', X_train.shape)\n",
    "            print('y_train:', y_train.shape)\n",
    "            print('X_valid:', X_valid.shape)\n",
    "            print('y_valid:', y_valid.shape, '\\n')\n",
    "        return X_train, y_train, X_valid, y_valid\n",
    "    else:\n",
    "        X = np.load(f'{full_tgt_dir}/X.npy', mmap_mode=mmap_mode)\n",
    "        y = np.load(f'{full_tgt_dir}/y.npy', mmap_mode=mmap_mode)\n",
    "        splits = get_predefined_splits(X_train, X_valid)\n",
    "        if verbose:\n",
    "            print('X      :', X .shape)\n",
    "            print('y      :', y .shape)\n",
    "            print('splits :', coll_repr(splits[0]), coll_repr(splits[1]), '\\n')\n",
    "        return X, y, splits\n",
    "\n",
    "\n",
    "get_regression_data = get_Monash_data"
   ]
  },
  {
   "cell_type": "code",
   "execution_count": null,
   "metadata": {},
   "outputs": [
    {
     "data": {
      "text/html": [],
      "text/plain": [
       "<IPython.core.display.HTML object>"
      ]
     },
     "metadata": {},
     "output_type": "display_data"
    },
    {
     "name": "stderr",
     "output_type": "stream",
     "text": [
      "119it [00:16,  7.34it/s]\n"
     ]
    },
    {
     "data": {
      "text/html": [],
      "text/plain": [
       "<IPython.core.display.HTML object>"
      ]
     },
     "metadata": {},
     "output_type": "display_data"
    },
    {
     "name": "stderr",
     "output_type": "stream",
     "text": [
      "66it [00:07,  9.01it/s] \n"
     ]
    }
   ],
   "source": [
    "dsid = \"appliancesenergy\"\n",
    "X_train, y_train, X_valid, y_valid = get_Monash_data(dsid, on_disk=True, split_data=True)\n",
    "X, y, splits = get_Monash_data(dsid, on_disk=True, split_data=False, force_download=True)"
   ]
  },
  {
   "cell_type": "code",
   "execution_count": null,
   "metadata": {
    "hide_input": true
   },
   "outputs": [],
   "source": [
    "# #hide\n",
    "# def get_forecasting_list():\n",
    "#     return sorted([\n",
    "#         \"Sunspots\",\n",
    "#     ])\n",
    "\n",
    "# forecasting_list = get_forecasting_list()"
   ]
  },
  {
   "cell_type": "code",
   "execution_count": null,
   "metadata": {
    "hide_input": true
   },
   "outputs": [],
   "source": [
    "# #hide\n",
    "# def get_forecasting_data(dsid):\n",
    "#     if dsid.lower() == 'sunspots':\n",
    "#         try: \n",
    "#             !wget --no-check-certificate \\\n",
    "#                 https://storage.googleapis.com/laurencemoroney-blog.appspot.com/Sunspots.csv \\\n",
    "#                 -q -O /tmp/sunspots.csv\n",
    "#             df = pd.read_csv('/tmp/sunspots.csv', parse_dates=['Date'], index_col=['Date'])\n",
    "#             return df['Monthly Mean Total Sunspot Number'].asfreq('1M').values\n",
    "#         except: \n",
    "#             print(f\"couldn't retrieve {dsid} data\")\n",
    "#             return None"
   ]
  },
  {
   "cell_type": "code",
   "execution_count": null,
   "metadata": {
    "hide_input": true
   },
   "outputs": [],
   "source": [
    "#hide\n",
    "#get_forecasting_data('sunspots')"
   ]
  },
  {
   "cell_type": "code",
   "execution_count": null,
   "metadata": {
    "hide_input": false
   },
   "outputs": [
    {
     "data": {
      "application/javascript": [
       "IPython.notebook.save_checkpoint();"
      ],
      "text/plain": [
       "<IPython.core.display.Javascript object>"
      ]
     },
     "metadata": {},
     "output_type": "display_data"
    },
    {
     "name": "stdout",
     "output_type": "stream",
     "text": [
      "Converted 000_utils.ipynb.\n",
      "Converted 000b_data.validation.ipynb.\n",
      "Converted 000c_data.preparation.ipynb.\n",
      "Converted 001_data.external.ipynb.\n",
      "Converted 002_data.core.ipynb.\n",
      "Converted 003_data.preprocessing.ipynb.\n",
      "Converted 003b_data.transforms.ipynb.\n",
      "Converted 003c_data.mixed_augmentation.ipynb.\n",
      "Converted 003d_data.image.ipynb.\n",
      "Converted 003e_data.features.ipynb.\n",
      "Converted 005_data.tabular.ipynb.\n",
      "Converted 006_data.mixed.ipynb.\n",
      "Converted 007_metrics.ipynb.\n",
      "Converted 008_learner.ipynb.\n",
      "Converted 009_optimizer.ipynb.\n",
      "Converted 010_callback.core.ipynb.\n",
      "Converted 011_callback.noisy_student.ipynb.\n",
      "Converted 012_callback.gblend.ipynb.\n",
      "Converted 013_callback.TSBERT.ipynb.\n",
      "Converted 100_models.layers.ipynb.\n",
      "Converted 100b_models.utils.ipynb.\n",
      "Converted 100c_models.explainability.ipynb.\n",
      "Converted 101_models.ResNet.ipynb.\n",
      "Converted 101b_models.ResNetPlus.ipynb.\n",
      "Converted 102_models.InceptionTime.ipynb.\n",
      "Converted 102b_models.InceptionTimePlus.ipynb.\n",
      "Converted 103_models.MLP.ipynb.\n",
      "Converted 103b_models.FCN.ipynb.\n",
      "Converted 103c_models.FCNPlus.ipynb.\n",
      "Converted 104_models.ResCNN.ipynb.\n",
      "Converted 105_models.RNN.ipynb.\n",
      "Converted 105_models.RNNPlus.ipynb.\n",
      "Converted 106_models.XceptionTime.ipynb.\n",
      "Converted 106b_models.XceptionTimePlus.ipynb.\n",
      "Converted 107_models.RNN_FCN.ipynb.\n",
      "Converted 107b_models.RNN_FCNPlus.ipynb.\n",
      "Converted 108_models.TransformerModel.ipynb.\n",
      "Converted 108b_models.TST.ipynb.\n",
      "Converted 108c_models.TSTPlus.ipynb.\n",
      "Converted 109_models.OmniScaleCNN.ipynb.\n",
      "Converted 110_models.mWDN.ipynb.\n",
      "Converted 111_models.ROCKET.ipynb.\n",
      "Converted 111b_models.MINIROCKET.ipynb.\n",
      "Converted 112_models.XResNet1d.ipynb.\n",
      "Converted 112b_models.XResNet1dPlus.ipynb.\n",
      "Converted 113_models.TCN.ipynb.\n",
      "Converted 114_models.XCM.ipynb.\n",
      "Converted 120_models.TabModel.ipynb.\n",
      "Converted 130_models.MultiInputNet.ipynb.\n",
      "Converted 140_models.misc.ipynb.\n",
      "Converted 900_tutorials.ipynb.\n",
      "Converted index.ipynb.\n",
      "\n",
      "\n",
      "Checking folder: /Users/nacho/Documents/Machine_Learning/Jupyter_Notebooks/tsai/tsai\n",
      "Correct conversion! 😃\n",
      "Total time elapsed 136 s\n",
      "Wednesday 01/20/21 20:03:28 CET\n"
     ]
    },
    {
     "data": {
      "text/html": [
       "\n",
       "                <audio  controls=\"controls\" autoplay=\"autoplay\">\n",
       "                    <source src=\"data:audio/wav;base64,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\" type=\"audio/wav\" />\n",
       "                    Your browser does not support the audio element.\n",
       "                </audio>\n",
       "              "
      ],
      "text/plain": [
       "<IPython.lib.display.Audio object>"
      ]
     },
     "metadata": {},
     "output_type": "display_data"
    }
   ],
   "source": [
    "#hide\n",
    "out = create_scripts(); beep(out)"
   ]
  }
 ],
 "metadata": {
  "kernelspec": {
   "display_name": "Python 3",
   "language": "python",
   "name": "python3"
  }
 },
 "nbformat": 4,
 "nbformat_minor": 2
}
