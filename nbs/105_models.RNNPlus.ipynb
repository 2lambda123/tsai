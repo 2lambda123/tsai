{
 "cells": [
  {
   "cell_type": "code",
   "execution_count": null,
   "metadata": {},
   "outputs": [],
   "source": [
    "# default_exp models.RNNPlus"
   ]
  },
  {
   "cell_type": "markdown",
   "metadata": {},
   "source": [
    "# RNNPlus\n",
    "\n",
    "> These are RNN, LSTM and GRU PyTorch implementations created by Ignacio Oguiza - timeseriesAI@gmail.com based on:"
   ]
  },
  {
   "cell_type": "markdown",
   "metadata": {},
   "source": [
    "The idea of including a feature extractor to the RNN network comes from the solution developed by the UPSTAGE team (https://www.kaggle.com/songwonho, \n",
    "https://www.kaggle.com/limerobot and https://www.kaggle.com/jungikhyo). \n",
    "They finished in 3rd position in Kaggle's Google Brain - Ventilator Pressure Prediction competition. They used a Conv1d + Stacked LSTM architecture."
   ]
  },
  {
   "cell_type": "code",
   "execution_count": null,
   "metadata": {},
   "outputs": [],
   "source": [
    "#export\n",
    "from tsai.imports import *\n",
    "from tsai.utils import *\n",
    "from tsai.data.core import *\n",
    "from tsai.models.layers import *"
   ]
  },
  {
   "cell_type": "code",
   "execution_count": null,
   "metadata": {},
   "outputs": [],
   "source": [
    "#export\n",
    "class _RNN_Backbone(Module):\n",
    "    def __init__(self, cell, c_in, c_out, seq_len=None, hidden_size=100, n_layers=1, bias=True, rnn_dropout=0, bidirectional=False, \n",
    "                 n_embeds=None, embed_dims=None, cat_pos=None, feature_extractor=None, init_weights=True):\n",
    "        \n",
    "        # Categorical embeddings\n",
    "        if n_embeds is not None:\n",
    "            self.to_cat_embed = MultiEmbeddding(c_in, n_embeds, embed_dims=embed_dims, cat_pos=cat_pos)\n",
    "            if embed_dims is None: \n",
    "                embed_dims = [emb_sz_rule(s) for s in n_embeds]\n",
    "            c_in = c_in + sum(embed_dims) - len(n_embeds)\n",
    "        else:\n",
    "            self.to_cat_embed = nn.Identity()\n",
    "        \n",
    "        # Feature extractor\n",
    "        if feature_extractor:\n",
    "            assert isinstance(feature_extractor, nn.Module), \"feature extractor must be an nn.Module\"\n",
    "            self.feature_extractor = feature_extractor\n",
    "            c_in, seq_len = self._calculate_output_size(self.feature_extractor, c_in, seq_len)\n",
    "        else:\n",
    "            self.feature_extractor = nn.Identity()\n",
    "        \n",
    "        # RNN layers\n",
    "        rnn_layers = []\n",
    "        if len(set(hidden_size)) == 1: \n",
    "            hidden_size = hidden_size[0]\n",
    "            if n_layers == 1: rnn_dropout = 0\n",
    "            rnn_layers.append(cell(c_in, hidden_size, num_layers=n_layers, bias=bias, batch_first=True, dropout=rnn_dropout, bidirectional=bidirectional))\n",
    "            rnn_layers.append(LSTMOutput()) # this selects just the output, and discards h_n, and c_n\n",
    "        else: \n",
    "            for i in range(len(hidden_size)):\n",
    "                input_size = c_in if i == 0 else hs * (1 + bidirectional)\n",
    "                hs = hidden_size[i] \n",
    "                rnn_layers.append(cell(input_size, hs, num_layers=1, bias=bias, batch_first=True, bidirectional=bidirectional))\n",
    "                rnn_layers.append(LSTMOutput()) # this selects just the output, and discards h_n, and c_n\n",
    "                if rnn_dropout and i < len(hidden_size) - 1: rnn_layers.append(nn.Dropout(rnn_dropout)) # add dropout to all layers except last\n",
    "        self.rnn = nn.Sequential(*rnn_layers)\n",
    "        self.transpose = Transpose(-1, -2, contiguous=True)\n",
    "        if init_weights: self.apply(self._weights_init) \n",
    "\n",
    "    def forward(self, x):\n",
    "        x = self.to_cat_embed(x)\n",
    "        x = self.feature_extractor(x)\n",
    "        x = self.transpose(x)                    # [batch_size x n_vars x seq_len] --> [batch_size x seq_len x n_vars]\n",
    "        x = self.rnn(x)                          # [batch_size x seq_len x hidden_size * (1 + bidirectional)]\n",
    "        x = self.transpose(x)                    # [batch_size x hidden_size * (1 + bidirectional) x seq_len]\n",
    "        return x\n",
    "    \n",
    "    def _weights_init(self, m): \n",
    "        # same initialization as keras. Adapted from the initialization developed \n",
    "        # by JUN KODA (https://www.kaggle.com/junkoda) in this notebook\n",
    "        # https://www.kaggle.com/junkoda/pytorch-lstm-with-tensorflow-like-initialization\n",
    "        for name, params in m.named_parameters():\n",
    "            if \"weight_ih\" in name: \n",
    "                nn.init.xavier_normal_(params)\n",
    "            elif 'weight_hh' in name: \n",
    "                nn.init.orthogonal_(params)\n",
    "            elif 'bias_ih' in name:\n",
    "                params.data.fill_(0)\n",
    "                # Set forget-gate bias to 1\n",
    "                n = params.size(0)\n",
    "                params.data[(n // 4):(n // 2)].fill_(1)\n",
    "            elif 'bias_hh' in name:\n",
    "                params.data.fill_(0)\n",
    "                \n",
    "    @torch.no_grad()\n",
    "    def _calculate_output_size(self, m, c_in, seq_len):\n",
    "        xb = torch.randn(1, c_in, seq_len)\n",
    "        c_in, seq_len = m(xb).shape[1:]\n",
    "        return c_in, seq_len"
   ]
  },
  {
   "cell_type": "code",
   "execution_count": null,
   "metadata": {},
   "outputs": [],
   "source": [
    "#export\n",
    "class _RNNPlus_Base(nn.Sequential):\n",
    "    def __init__(self, c_in, c_out, seq_len=None, hidden_size=[100], n_layers=1, bias=True, rnn_dropout=0, bidirectional=False, \n",
    "                 n_embeds=None, embed_dims=None, cat_pos=None, feature_extractor=None, fc_dropout=0., last_step=True, bn=False, \n",
    "                 custom_head=None, y_range=None, init_weights=True):\n",
    "\n",
    "        if not last_step: assert seq_len, 'you need to enter a seq_len to use flatten=True'\n",
    "\n",
    "        # Backbone\n",
    "        hidden_size = listify(hidden_size)\n",
    "        backbone = _RNN_Backbone(self._cell, c_in, c_out, seq_len=seq_len, hidden_size=hidden_size, n_layers=n_layers, \n",
    "                                 n_embeds=n_embeds, embed_dims=embed_dims, cat_pos=cat_pos, feature_extractor=feature_extractor,\n",
    "                                 bias=bias, rnn_dropout=rnn_dropout,  bidirectional=bidirectional, init_weights=init_weights)\n",
    "\n",
    "        # Head\n",
    "        self.head_nf = hidden_size * (1 + bidirectional) if isinstance(hidden_size, Integral) else hidden_size[-1] * (1 + bidirectional) \n",
    "        if custom_head: \n",
    "            if isinstance(custom_head, nn.Module): head = custom_head\n",
    "            else: head = custom_head(self.head_nf, c_out, seq_len)\n",
    "        else: head = self.create_head(self.head_nf, c_out, seq_len, last_step=last_step, fc_dropout=fc_dropout, bn=bn, y_range=y_range)\n",
    "        super().__init__(OrderedDict([('backbone', backbone), ('head', head)]))\n",
    "\n",
    "    def create_head(self, nf, c_out, seq_len, last_step=True, fc_dropout=0., bn=False, y_range=None):\n",
    "        if last_step:\n",
    "            layers = [LastStep()]\n",
    "        else:\n",
    "            layers = [Flatten()]\n",
    "            nf *= seq_len\n",
    "        if bn: layers += [nn.BatchNorm1d(nf)]\n",
    "        if fc_dropout: layers += [nn.Dropout(fc_dropout)]\n",
    "        layers += [nn.Linear(nf, c_out)]\n",
    "        if y_range: layers += [SigmoidRange(*y_range)]\n",
    "        return nn.Sequential(*layers)\n",
    "\n",
    "\n",
    "class RNNPlus(_RNNPlus_Base):\n",
    "    _cell = nn.RNN\n",
    "\n",
    "class LSTMPlus(_RNNPlus_Base):\n",
    "    _cell = nn.LSTM\n",
    "\n",
    "class GRUPlus(_RNNPlus_Base):\n",
    "    _cell = nn.GRU"
   ]
  },
  {
   "cell_type": "code",
   "execution_count": null,
   "metadata": {},
   "outputs": [],
   "source": [
    "bs = 16\n",
    "c_in = 3\n",
    "seq_len = 12\n",
    "c_out = 2\n",
    "xb = torch.rand(bs, c_in, seq_len)\n",
    "test_eq(RNNPlus(c_in, c_out)(xb).shape, [bs, c_out])\n",
    "test_eq(RNNPlus(c_in, c_out, hidden_size=100, n_layers=2, bias=True, rnn_dropout=0.2, bidirectional=True, fc_dropout=0.5)(xb).shape, [bs, c_out])\n",
    "test_eq(RNNPlus(c_in, c_out, hidden_size=[100, 50, 10], bias=True, rnn_dropout=0.2, bidirectional=True, fc_dropout=0.5)(xb).shape, [bs, c_out])\n",
    "test_eq(RNNPlus(c_in, c_out, hidden_size=[100], n_layers=2, bias=True, rnn_dropout=0.2, bidirectional=True, fc_dropout=0.5)(xb).shape, \n",
    "        [bs, c_out])\n",
    "test_eq(LSTMPlus(c_in, c_out, hidden_size=100, n_layers=2, bias=True, rnn_dropout=0.2, bidirectional=True, fc_dropout=0.5)(xb).shape, [bs, c_out])\n",
    "test_eq(GRUPlus(c_in, c_out, hidden_size=100, n_layers=2, bias=True, rnn_dropout=0.2, bidirectional=True, fc_dropout=0.5)(xb).shape, [bs, c_out])\n",
    "test_eq(RNNPlus(c_in, c_out, seq_len, last_step=False)(xb).shape, [bs, c_out])\n",
    "test_eq(RNNPlus(c_in, c_out, seq_len, last_step=False)(xb).shape, [bs, c_out])\n",
    "test_eq(RNNPlus(c_in, c_out, seq_len, hidden_size=100, n_layers=2, bias=True, rnn_dropout=0.2, bidirectional=True, fc_dropout=0.5, last_step=False)(xb).shape, \n",
    "        [bs, c_out])\n",
    "test_eq(LSTMPlus(c_in, c_out, seq_len, last_step=False)(xb).shape, [bs, c_out])\n",
    "test_eq(GRUPlus(c_in, c_out, seq_len, last_step=False)(xb).shape, [bs, c_out])"
   ]
  },
  {
   "cell_type": "code",
   "execution_count": null,
   "metadata": {},
   "outputs": [],
   "source": [
    "feature_extractor = MultiConv1d(c_in, kss=[1,3,5,7])\n",
    "custom_head = nn.Sequential(Transpose(1,2), nn.Linear(8,8), nn.SELU(), nn.Linear(8, 1), Squeeze())\n",
    "test_eq(LSTMPlus(c_in, c_out, seq_len, hidden_size=[32,16,8,4], bidirectional=True, \n",
    "                 feature_extractor=feature_extractor, custom_head=custom_head)(xb).shape, [bs, seq_len])\n",
    "feature_extractor = MultiConv1d(c_in, kss=[1,3,5,7], keep_original=True)\n",
    "custom_head = nn.Sequential(Transpose(1,2), nn.Linear(8,8), nn.SELU(), nn.Linear(8, 1), Squeeze())\n",
    "test_eq(LSTMPlus(c_in, c_out, seq_len, hidden_size=[32,16,8,4], bidirectional=True, \n",
    "                 feature_extractor=feature_extractor, custom_head=custom_head)(xb).shape, [bs, seq_len])"
   ]
  },
  {
   "cell_type": "code",
   "execution_count": null,
   "metadata": {},
   "outputs": [],
   "source": [
    "bs = 16\n",
    "c_in = 3\n",
    "seq_len = 12\n",
    "c_out = 2\n",
    "x1 = torch.rand(bs,1,seq_len)\n",
    "x2 = torch.randint(0,3,(bs,1,seq_len))\n",
    "x3 = torch.randint(0,5,(bs,1,seq_len))\n",
    "xb = torch.cat([x1,x2,x3],1)\n",
    "\n",
    "custom_head = partial(create_mlp_head, fc_dropout=0.5)\n",
    "test_eq(LSTMPlus(c_in, c_out, seq_len, last_step=False, custom_head=custom_head)(xb).shape, [bs, c_out])\n",
    "custom_head = partial(create_pool_head, concat_pool=True, fc_dropout=0.5)\n",
    "test_eq(LSTMPlus(c_in, c_out, seq_len, last_step=False, custom_head=custom_head)(xb).shape, [bs, c_out])\n",
    "custom_head = partial(create_pool_plus_head, fc_dropout=0.5)\n",
    "test_eq(LSTMPlus(c_in, c_out, seq_len, last_step=False, custom_head=custom_head)(xb).shape, [bs, c_out])\n",
    "custom_head = partial(create_conv_head)\n",
    "test_eq(LSTMPlus(c_in, c_out, seq_len, last_step=False, custom_head=custom_head)(xb).shape, [bs, c_out])\n",
    "test_eq(LSTMPlus(c_in, c_out, seq_len, hidden_size=[100, 50], n_layers=2, bias=True, rnn_dropout=0.2, bidirectional=True)(xb).shape, [bs, c_out])\n",
    "\n",
    "n_embeds = [3, 5]\n",
    "cat_pos = [1, 2]\n",
    "custom_head = partial(create_conv_head)\n",
    "m = LSTMPlus(c_in, c_out, seq_len, hidden_size=[100, 50], n_layers=2, bias=True, rnn_dropout=0.2, bidirectional=True, n_embeds=n_embeds, cat_pos=cat_pos)\n",
    "test_eq(m(xb).shape, [bs, c_out])"
   ]
  },
  {
   "cell_type": "code",
   "execution_count": null,
   "metadata": {},
   "outputs": [],
   "source": [
    "from tsai.data.all import *\n",
    "from tsai.models.utils import *\n",
    "dsid = 'NATOPS' \n",
    "bs = 16\n",
    "X, y, splits = get_UCR_data(dsid, return_split=False)\n",
    "tfms  = [None, [Categorize()]]\n",
    "dls = get_ts_dls(X, y, tfms=tfms, splits=splits, bs=bs)"
   ]
  },
  {
   "cell_type": "code",
   "execution_count": null,
   "metadata": {},
   "outputs": [
    {
     "name": "stdout",
     "output_type": "stream",
     "text": [
      "Sequential(\n",
      "  (0): LastStep()\n",
      "  (1): Linear(in_features=100, out_features=6, bias=True)\n",
      ")\n"
     ]
    },
    {
     "data": {
      "text/html": [
       "<table border=\"1\" class=\"dataframe\">\n",
       "  <thead>\n",
       "    <tr style=\"text-align: left;\">\n",
       "      <th>epoch</th>\n",
       "      <th>train_loss</th>\n",
       "      <th>valid_loss</th>\n",
       "      <th>accuracy</th>\n",
       "      <th>time</th>\n",
       "    </tr>\n",
       "  </thead>\n",
       "  <tbody>\n",
       "    <tr>\n",
       "      <td>0</td>\n",
       "      <td>1.716743</td>\n",
       "      <td>1.566314</td>\n",
       "      <td>0.455556</td>\n",
       "      <td>00:01</td>\n",
       "    </tr>\n",
       "  </tbody>\n",
       "</table>"
      ],
      "text/plain": [
       "<IPython.core.display.HTML object>"
      ]
     },
     "metadata": {},
     "output_type": "display_data"
    }
   ],
   "source": [
    "model = build_ts_model(LSTMPlus, dls=dls)\n",
    "print(model[-1])\n",
    "learn = Learner(dls, model,  metrics=accuracy)\n",
    "learn.fit_one_cycle(1, 3e-3)"
   ]
  },
  {
   "cell_type": "code",
   "execution_count": null,
   "metadata": {},
   "outputs": [
    {
     "data": {
      "text/html": [
       "<table border=\"1\" class=\"dataframe\">\n",
       "  <thead>\n",
       "    <tr style=\"text-align: left;\">\n",
       "      <th>epoch</th>\n",
       "      <th>train_loss</th>\n",
       "      <th>valid_loss</th>\n",
       "      <th>accuracy</th>\n",
       "      <th>time</th>\n",
       "    </tr>\n",
       "  </thead>\n",
       "  <tbody>\n",
       "    <tr>\n",
       "      <td>0</td>\n",
       "      <td>1.157552</td>\n",
       "      <td>0.720114</td>\n",
       "      <td>0.783333</td>\n",
       "      <td>00:01</td>\n",
       "    </tr>\n",
       "  </tbody>\n",
       "</table>"
      ],
      "text/plain": [
       "<IPython.core.display.HTML object>"
      ]
     },
     "metadata": {},
     "output_type": "display_data"
    }
   ],
   "source": [
    "model = LSTMPlus(dls.vars, dls.c, dls.len, last_step=False)\n",
    "learn = Learner(dls, model,  metrics=accuracy)\n",
    "learn.fit_one_cycle(1, 3e-3)"
   ]
  },
  {
   "cell_type": "code",
   "execution_count": null,
   "metadata": {},
   "outputs": [
    {
     "data": {
      "text/html": [
       "<table border=\"1\" class=\"dataframe\">\n",
       "  <thead>\n",
       "    <tr style=\"text-align: left;\">\n",
       "      <th>epoch</th>\n",
       "      <th>train_loss</th>\n",
       "      <th>valid_loss</th>\n",
       "      <th>accuracy</th>\n",
       "      <th>time</th>\n",
       "    </tr>\n",
       "  </thead>\n",
       "  <tbody>\n",
       "    <tr>\n",
       "      <td>0</td>\n",
       "      <td>1.719398</td>\n",
       "      <td>1.518189</td>\n",
       "      <td>0.655556</td>\n",
       "      <td>00:01</td>\n",
       "    </tr>\n",
       "  </tbody>\n",
       "</table>"
      ],
      "text/plain": [
       "<IPython.core.display.HTML object>"
      ]
     },
     "metadata": {},
     "output_type": "display_data"
    }
   ],
   "source": [
    "custom_head = partial(create_pool_head, concat_pool=True)\n",
    "model = LSTMPlus(dls.vars, dls.c, dls.len, last_step=False, custom_head=custom_head)\n",
    "learn = Learner(dls, model,  metrics=accuracy)\n",
    "learn.fit_one_cycle(1, 3e-3)"
   ]
  },
  {
   "cell_type": "code",
   "execution_count": null,
   "metadata": {},
   "outputs": [
    {
     "data": {
      "text/html": [
       "<table border=\"1\" class=\"dataframe\">\n",
       "  <thead>\n",
       "    <tr style=\"text-align: left;\">\n",
       "      <th>epoch</th>\n",
       "      <th>train_loss</th>\n",
       "      <th>valid_loss</th>\n",
       "      <th>accuracy</th>\n",
       "      <th>time</th>\n",
       "    </tr>\n",
       "  </thead>\n",
       "  <tbody>\n",
       "    <tr>\n",
       "      <td>0</td>\n",
       "      <td>0.872896</td>\n",
       "      <td>1.350415</td>\n",
       "      <td>0.633333</td>\n",
       "      <td>00:02</td>\n",
       "    </tr>\n",
       "  </tbody>\n",
       "</table>"
      ],
      "text/plain": [
       "<IPython.core.display.HTML object>"
      ]
     },
     "metadata": {},
     "output_type": "display_data"
    }
   ],
   "source": [
    "custom_head = partial(create_pool_plus_head, concat_pool=True)\n",
    "model = LSTMPlus(dls.vars, dls.c, dls.len, last_step=False, custom_head=custom_head)\n",
    "learn = Learner(dls, model,  metrics=accuracy)\n",
    "learn.fit_one_cycle(1, 3e-3)"
   ]
  },
  {
   "cell_type": "code",
   "execution_count": null,
   "metadata": {},
   "outputs": [
    {
     "name": "stdout",
     "output_type": "stream",
     "text": [
      "RNNPlus(\n",
      "  (backbone): _RNN_Backbone(\n",
      "    (to_cat_embed): Identity()\n",
      "    (feature_extractor): Identity()\n",
      "    (rnn): Sequential(\n",
      "      (0): RNN(3, 100, num_layers=2, batch_first=True, dropout=0.5, bidirectional=True)\n",
      "      (1): LSTMOutput()\n",
      "    )\n",
      "    (transpose): Transpose(dims=-1, -2).contiguous()\n",
      "  )\n",
      "  (head): Sequential(\n",
      "    (0): LastStep()\n",
      "    (1): Dropout(p=0.5, inplace=False)\n",
      "    (2): Linear(in_features=200, out_features=2, bias=True)\n",
      "  )\n",
      ")\n",
      "(81802, True)\n"
     ]
    },
    {
     "data": {
      "text/plain": [
       "torch.Size([16, 2])"
      ]
     },
     "execution_count": null,
     "metadata": {},
     "output_type": "execute_result"
    }
   ],
   "source": [
    "m = RNNPlus(c_in, c_out, seq_len, hidden_size=100,n_layers=2,bidirectional=True,rnn_dropout=.5,fc_dropout=.5)\n",
    "print(m)\n",
    "print(total_params(m))\n",
    "m(xb).shape"
   ]
  },
  {
   "cell_type": "code",
   "execution_count": null,
   "metadata": {},
   "outputs": [
    {
     "name": "stdout",
     "output_type": "stream",
     "text": [
      "LSTMPlus(\n",
      "  (backbone): _RNN_Backbone(\n",
      "    (to_cat_embed): Identity()\n",
      "    (feature_extractor): Identity()\n",
      "    (rnn): Sequential(\n",
      "      (0): LSTM(3, 100, num_layers=2, batch_first=True, dropout=0.5, bidirectional=True)\n",
      "      (1): LSTMOutput()\n",
      "    )\n",
      "    (transpose): Transpose(dims=-1, -2).contiguous()\n",
      "  )\n",
      "  (head): Sequential(\n",
      "    (0): LastStep()\n",
      "    (1): Dropout(p=0.5, inplace=False)\n",
      "    (2): Linear(in_features=200, out_features=2, bias=True)\n",
      "  )\n",
      ")\n",
      "(326002, True)\n"
     ]
    },
    {
     "data": {
      "text/plain": [
       "torch.Size([16, 2])"
      ]
     },
     "execution_count": null,
     "metadata": {},
     "output_type": "execute_result"
    }
   ],
   "source": [
    "m = LSTMPlus(c_in, c_out, seq_len, hidden_size=100,n_layers=2,bidirectional=True,rnn_dropout=.5,fc_dropout=.5)\n",
    "print(m)\n",
    "print(total_params(m))\n",
    "m(xb).shape"
   ]
  },
  {
   "cell_type": "code",
   "execution_count": null,
   "metadata": {},
   "outputs": [
    {
     "name": "stdout",
     "output_type": "stream",
     "text": [
      "GRUPlus(\n",
      "  (backbone): _RNN_Backbone(\n",
      "    (to_cat_embed): Identity()\n",
      "    (feature_extractor): Identity()\n",
      "    (rnn): Sequential(\n",
      "      (0): GRU(3, 100, num_layers=2, batch_first=True, dropout=0.5, bidirectional=True)\n",
      "      (1): LSTMOutput()\n",
      "    )\n",
      "    (transpose): Transpose(dims=-1, -2).contiguous()\n",
      "  )\n",
      "  (head): Sequential(\n",
      "    (0): LastStep()\n",
      "    (1): Dropout(p=0.5, inplace=False)\n",
      "    (2): Linear(in_features=200, out_features=2, bias=True)\n",
      "  )\n",
      ")\n",
      "(244602, True)\n"
     ]
    },
    {
     "data": {
      "text/plain": [
       "torch.Size([16, 2])"
      ]
     },
     "execution_count": null,
     "metadata": {},
     "output_type": "execute_result"
    }
   ],
   "source": [
    "m = GRUPlus(c_in, c_out, seq_len, hidden_size=100,n_layers=2,bidirectional=True,rnn_dropout=.5,fc_dropout=.5)\n",
    "print(m)\n",
    "print(total_params(m))\n",
    "m(xb).shape"
   ]
  },
  {
   "cell_type": "code",
   "execution_count": null,
   "metadata": {},
   "outputs": [],
   "source": [
    "#hide\n",
    "from tsai.imports import create_scripts\n",
    "from tsai.export import get_nb_name\n",
    "nb_name = get_nb_name()\n",
    "create_scripts(nb_name);"
   ]
  },
  {
   "cell_type": "code",
   "execution_count": null,
   "metadata": {},
   "outputs": [],
   "source": []
  }
 ],
 "metadata": {
  "kernelspec": {
   "display_name": "Python 3",
   "language": "python",
   "name": "python3"
  }
 },
 "nbformat": 4,
 "nbformat_minor": 2
}
