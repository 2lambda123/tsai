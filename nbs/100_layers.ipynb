{
 "cells": [
  {
   "cell_type": "code",
   "execution_count": null,
   "metadata": {},
   "outputs": [],
   "source": [
    "# default_exp models.layers"
   ]
  },
  {
   "cell_type": "markdown",
   "metadata": {},
   "source": [
    "# Layers\n",
    "\n",
    "> Helper function used to build PyTorch timeseries models."
   ]
  },
  {
   "cell_type": "code",
   "execution_count": null,
   "metadata": {},
   "outputs": [],
   "source": [
    "#hide\n",
    "from nbdev.showdoc import *"
   ]
  },
  {
   "cell_type": "code",
   "execution_count": null,
   "metadata": {},
   "outputs": [],
   "source": [
    "#export\n",
    "import torch\n",
    "import torch.nn as nn\n",
    "\n",
    "def noop(x): return x\n",
    "\n",
    "def same_padding1d(seq_len,ks,stride=1,dilation=1):\n",
    "    assert stride > 0\n",
    "    assert dilation >= 1\n",
    "    effective_ks = (ks - 1) * dilation + 1\n",
    "    out_dim = (seq_len + stride - 1) // stride\n",
    "    p = max(0, (out_dim - 1) * stride + effective_ks - seq_len)\n",
    "    padding_before = p // 2\n",
    "    padding_after = p - padding_before\n",
    "    return padding_before, padding_after\n",
    "\n",
    "class ZeroPad1d(nn.ConstantPad1d):\n",
    "    def __init__(self, padding):\n",
    "        super().__init__(padding, 0.)\n",
    "\n",
    "class ConvSP1d(nn.Module):\n",
    "    \"Conv1d padding='same'\"\n",
    "    def __init__(self,c_in,c_out,ks,stride=1,padding='same',dilation=1,bias=True):\n",
    "        super().__init__()\n",
    "        self.ks, self.stride, self.dilation = ks, stride, dilation\n",
    "        self.conv = nn.Conv1d(c_in,c_out,ks,stride=stride,padding=0,dilation=dilation,bias=bias)\n",
    "        self.zeropad = ZeroPad1d\n",
    "        self.weight = self.conv.weight\n",
    "        self.bias = self.conv.bias\n",
    "\n",
    "    def forward(self, x):\n",
    "        padding = same_padding1d(x.shape[-1],self.ks,stride=self.stride,dilation=self.dilation)\n",
    "        return self.conv(self.zeropad(padding)(x))\n",
    "\n",
    "def convlayer(c_in,c_out,ks=3,padding='same',bias=True,stride=1,\n",
    "              bn_init=False,zero_bn=False,bn_before=True,act_fn=True,**kwargs):\n",
    "    '''conv layer (padding=\"same\") + bn + act'''\n",
    "    if ks % 2 == 1 and padding == 'same': padding = ks // 2\n",
    "    layers = [ConvSP1d(c_in,c_out, ks, bias=bias, stride=stride) if padding == 'same' else \\\n",
    "    nn.Conv1d(c_in,c_out, ks, stride=stride, padding=padding, bias=bias)]\n",
    "    bn = nn.BatchNorm1d(c_out)\n",
    "    if bn_init: nn.init.constant_(bn.weight, 0. if zero_bn else 1.)\n",
    "    if bn_before: layers.append(bn)\n",
    "    if act_fn: layers.append(nn.ReLU())\n",
    "    if not bn_before: layers.append(bn)\n",
    "    return nn.Sequential(*layers)"
   ]
  },
  {
   "cell_type": "code",
   "execution_count": null,
   "metadata": {},
   "outputs": [
    {
     "data": {
      "application/javascript": [
       "IPython.notebook.save_checkpoint()"
      ],
      "text/plain": [
       "<IPython.core.display.Javascript object>"
      ]
     },
     "metadata": {},
     "output_type": "display_data"
    },
    {
     "name": "stdout",
     "output_type": "stream",
     "text": [
      "\n",
      "Current notebook saved.\n",
      "\n",
      "Converted 000_utils.ipynb.\n",
      "Converted 001_core.ipynb.\n",
      "Converted 002_data.ipynb.\n",
      "Converted 100_layers.ipynb.\n",
      "Converted 101_ResNet.ipynb.\n",
      "Converted 102_InceptionTime.ipynb.\n",
      "Converted 103_DeepConvRNN_dev.ipynb.\n",
      "Converted index.ipynb.\n"
     ]
    }
   ],
   "source": [
    "#hide\n",
    "from save_nb import *\n",
    "from nbdev.export import *\n",
    "save_nb()\n",
    "notebook2script()"
   ]
  },
  {
   "cell_type": "code",
   "execution_count": null,
   "metadata": {},
   "outputs": [],
   "source": []
  }
 ],
 "metadata": {
  "kernelspec": {
   "display_name": "Python 3",
   "language": "python",
   "name": "python3"
  }
 },
 "nbformat": 4,
 "nbformat_minor": 2
}
