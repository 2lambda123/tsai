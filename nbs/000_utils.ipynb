{
 "cells": [
  {
   "cell_type": "code",
   "execution_count": 36,
   "metadata": {
    "ExecuteTime": {
     "end_time": "2020-04-09T17:48:50.299256Z",
     "start_time": "2020-04-09T17:48:50.271113Z"
    }
   },
   "outputs": [],
   "source": [
    "# default_exp utils"
   ]
  },
  {
   "cell_type": "markdown",
   "metadata": {},
   "source": [
    "# Utilities\n",
    "\n",
    "> Helper functions used throughout the library not related to timeseries data."
   ]
  },
  {
   "cell_type": "code",
   "execution_count": 37,
   "metadata": {
    "ExecuteTime": {
     "end_time": "2020-04-09T17:48:50.337294Z",
     "start_time": "2020-04-09T17:48:50.311317Z"
    }
   },
   "outputs": [
    {
     "data": {
      "text/html": [
       "<style>.container { width:95% !important; }</style>"
      ],
      "text/plain": [
       "<IPython.core.display.HTML object>"
      ]
     },
     "metadata": {},
     "output_type": "display_data"
    }
   ],
   "source": [
    "#hide\n",
    "from nbdev.showdoc import *\n",
    "from IPython.display import display, HTML\n",
    "display(HTML(\"<style>.container { width:95% !important; }</style>\"))"
   ]
  },
  {
   "cell_type": "code",
   "execution_count": 38,
   "metadata": {
    "ExecuteTime": {
     "end_time": "2020-04-09T17:48:50.352864Z",
     "start_time": "2020-04-09T17:48:50.346467Z"
    }
   },
   "outputs": [],
   "source": [
    "#export\n",
    "# from timeseries.all import *"
   ]
  },
  {
   "cell_type": "code",
   "execution_count": 39,
   "metadata": {
    "ExecuteTime": {
     "end_time": "2020-04-09T17:48:50.373666Z",
     "start_time": "2020-04-09T17:48:50.361673Z"
    }
   },
   "outputs": [],
   "source": [
    "#export\n",
    "from fastai2.imports import *\n",
    "import torch"
   ]
  },
  {
   "cell_type": "code",
   "execution_count": 40,
   "metadata": {
    "ExecuteTime": {
     "end_time": "2020-04-09T17:48:50.482477Z",
     "start_time": "2020-04-09T17:48:50.379829Z"
    }
   },
   "outputs": [],
   "source": [
    "#export\n",
    "def ToTensor(o):\n",
    "    if isinstance(o, torch.Tensor): return o\n",
    "    elif isinstance(o, np.ndarray):  return torch.from_numpy(o)\n",
    "    assert False, f\"Can't convert {type(o)} to torch.Tensor\"\n",
    "\n",
    "\n",
    "def ToArray(o):\n",
    "    if isinstance(o, np.ndarray): return o\n",
    "    elif isinstance(o, torch.Tensor): return o.cpu().numpy()\n",
    "    assert False, f\"Can't convert {type(o)} to np.array\"\n",
    "\n",
    "\n",
    "def To3DTensor(o):\n",
    "    o = ToTensor(o)\n",
    "    if o.ndim == 3: return o\n",
    "    elif o.ndim == 1: return o[None, None]\n",
    "    elif o.ndim == 2: return o[:, None]\n",
    "    assert False, f'Please, review input dimensions {o.ndim}'\n",
    "\n",
    "\n",
    "def To2DTensor(o):\n",
    "    o = ToTensor(o)\n",
    "    if o.ndim == 2: return o\n",
    "    elif o.ndim == 1: return o[None]\n",
    "    elif o.ndim == 3: return o[0]#torch.squeeze(o, 0)\n",
    "    assert False, f'Please, review input dimensions {o.ndim}'\n",
    "\n",
    "\n",
    "def To1DTensor(o):\n",
    "    o = ToTensor(o)\n",
    "    if o.ndim == 1: return o\n",
    "    elif o.ndim == 3: return o[0,0]#torch.squeeze(o, 1)\n",
    "    if o.ndim == 2: return o[0]#torch.squeeze(o, 0)\n",
    "    assert False, f'Please, review input dimensions {o.ndim}'\n",
    "\n",
    "\n",
    "def To3DArray(o):\n",
    "    o = ToArray(o)\n",
    "    if o.ndim == 3: return o\n",
    "    elif o.ndim == 1: return o[None, None]\n",
    "    elif o.ndim == 2: return o[:, None]\n",
    "    assert False, f'Please, review input dimensions {o.ndim}'\n",
    "\n",
    "\n",
    "def To2DArray(o):\n",
    "    o = ToArray(o)\n",
    "    if o.ndim == 2: return o\n",
    "    elif o.ndim == 1: return o[None]\n",
    "    elif o.ndim == 3: return 0[0]#np.squeeze(o, 0)\n",
    "    assert False, f'Please, review input dimensions {o.ndim}'\n",
    "\n",
    "\n",
    "def To1DArray(o):\n",
    "    o = ToArray(o)\n",
    "    if o.ndim == 1: return o\n",
    "    elif o.ndim == 3: o = 0[0,0]#np.squeeze(o, 1)\n",
    "    elif o.ndim == 2: o = 0[0]#np.squeeze(o, 0)\n",
    "    assert False, f'Please, review input dimensions {o.ndim}'\n",
    "    \n",
    "    \n",
    "def To3D(o):\n",
    "    if o.ndim == 3: return o\n",
    "    if isinstance(o, np.ndarray): return To3DArray(o)\n",
    "    if isinstance(o, torch.Tensor): return To3DTensor(o)\n",
    "    \n",
    "    \n",
    "def To2D(o):\n",
    "    if o.ndim == 2: return o\n",
    "    if isinstance(o, np.ndarray): return To2DArray(o)\n",
    "    if isinstance(o, torch.Tensor): return To2DTensor(o)\n",
    "    \n",
    "    \n",
    "def To1D(o):\n",
    "    if o.ndim == 1: return o\n",
    "    if isinstance(o, np.ndarray): return To1DArray(o)\n",
    "    if isinstance(o, torch.Tensor): return To1DTensor(o)\n",
    "    \n",
    "    \n",
    "def To2DPlus(o):\n",
    "    if o.ndim >= 2: return o\n",
    "    if isinstance(o, np.ndarray): return To2DArray(o)\n",
    "    elif isinstance(o, torch.Tensor): return To2DTensor(o)\n",
    "    \n",
    "    \n",
    "def To3DPlus(o):\n",
    "    if o.ndim >= 3: return o\n",
    "    if isinstance(o, np.ndarray): return To3DArray(o)\n",
    "    elif isinstance(o, torch.Tensor): return To3DTensor(o)\n",
    "    \n",
    "    \n",
    "def To2DPlusTensor(o):\n",
    "    return To2DPlus(ToTensor(o))\n",
    "\n",
    "\n",
    "def To2DPlusArray(o):\n",
    "    return To2DPlus(ToArray(o))\n",
    "\n",
    "\n",
    "def To3DPlusTensor(o):\n",
    "    return To3DPlus(ToTensor(o))\n",
    "\n",
    "\n",
    "def To3DPlusArray(o):\n",
    "    return To3DPlus(ToArray(o))\n",
    "\n",
    "\n",
    "def Todtype(dtype):\n",
    "    def _to_type(o, dtype=dtype):\n",
    "        if o.dtype == dtype: return o\n",
    "        elif isinstance(o, torch.Tensor): o = o.to(dtype=dtype)\n",
    "        elif isinstance(o, np.ndarray): o = o.astype(dtype)\n",
    "        return o\n",
    "    return _to_type"
   ]
  },
  {
   "cell_type": "code",
   "execution_count": 41,
   "metadata": {
    "ExecuteTime": {
     "end_time": "2020-04-09T17:48:50.496200Z",
     "start_time": "2020-04-09T17:48:50.488707Z"
    }
   },
   "outputs": [],
   "source": [
    "# a = np.random.rand(100).astype(np.float32)\n",
    "# b = torch.from_numpy(a).float()\n",
    "# test_eq(ToTensor(a), b)\n",
    "# test_eq(a, ToArray(b))\n",
    "# test_eq(To3DTensor(a).ndim, 3)\n",
    "# test_eq(To2DTensor(a).ndim, 2)\n",
    "# test_eq(To1DTensor(a).ndim, 1)\n",
    "# test_eq(To3DArray(b).ndim, 3)\n",
    "# test_eq(To2DArray(b).ndim, 2)\n",
    "# test_eq(To1DArray(b).ndim, 1)"
   ]
  },
  {
   "cell_type": "code",
   "execution_count": 42,
   "metadata": {
    "ExecuteTime": {
     "end_time": "2020-04-09T17:48:50.522992Z",
     "start_time": "2020-04-09T17:48:50.502678Z"
    }
   },
   "outputs": [],
   "source": [
    "#export\n",
    "def bytes2size(size_bytes):\n",
    "    if size_bytes == 0: return \"0B\"\n",
    "    size_name = (\"B\", \"KB\", \"MB\", \"GB\", \"TB\", \"PB\", \"EB\", \"ZB\", \"YB\")\n",
    "    i = int(math.floor(math.log(size_bytes, 1024)))\n",
    "    p = math.pow(1024, i)\n",
    "    s = round(size_bytes / p, 2)\n",
    "    return \"%s %s\" % (s, size_name[i])\n",
    "\n",
    "def bytes2GB(byts):\n",
    "    return round(byts / math.pow(1024, 3), 2)"
   ]
  },
  {
   "cell_type": "code",
   "execution_count": 43,
   "metadata": {
    "ExecuteTime": {
     "end_time": "2020-04-09T17:48:50.545585Z",
     "start_time": "2020-04-09T17:48:50.529063Z"
    }
   },
   "outputs": [],
   "source": [
    "#export\n",
    "def delete_all_in_dir(tgt_dir, exception=None):\n",
    "    if exception is not None and len(L(exception)) > 1: exception = tuple(exception)\n",
    "    for file in os.listdir(tgt_dir):\n",
    "        if exception is not None and file.endswith(exception): continue\n",
    "        file_path = os.path.join(tgt_dir, file)\n",
    "        if os.path.isfile(file_path) or os.path.islink(file_path): os.unlink(file_path)\n",
    "        elif os.path.isdir(file_path): shutil.rmtree(file_path)"
   ]
  },
  {
   "cell_type": "code",
   "execution_count": 44,
   "metadata": {
    "ExecuteTime": {
     "end_time": "2020-04-09T17:48:50.567414Z",
     "start_time": "2020-04-09T17:48:50.558619Z"
    }
   },
   "outputs": [],
   "source": [
    "#export\n",
    "def reverse_dict(dictionary): \n",
    "    return {v: k for k, v in dictionary.items()}"
   ]
  },
  {
   "cell_type": "code",
   "execution_count": 45,
   "metadata": {
    "ExecuteTime": {
     "end_time": "2020-04-09T17:48:50.583550Z",
     "start_time": "2020-04-09T17:48:50.575432Z"
    }
   },
   "outputs": [],
   "source": [
    "#export\n",
    "def is_tuple(o): return isinstance(o, tuple)"
   ]
  },
  {
   "cell_type": "code",
   "execution_count": 46,
   "metadata": {
    "ExecuteTime": {
     "end_time": "2020-04-09T17:48:50.601800Z",
     "start_time": "2020-04-09T17:48:50.589698Z"
    }
   },
   "outputs": [],
   "source": [
    "#export\n",
    "def itemify(*o, tup_id=None): \n",
    "    items = L(*o).zip()\n",
    "    if tup_id is not None: return L([item[tup_id] for item in items])\n",
    "    else: return items"
   ]
  },
  {
   "cell_type": "code",
   "execution_count": 47,
   "metadata": {
    "ExecuteTime": {
     "end_time": "2020-04-09T17:48:50.626486Z",
     "start_time": "2020-04-09T17:48:50.608088Z"
    }
   },
   "outputs": [],
   "source": [
    "#export\n",
    "def is_none(o):\n",
    "    return o in [[], [None], None]\n",
    "\n",
    "def ifisnone(a, b):\n",
    "    \"`a` if `a` is None else `b`\"\n",
    "    return None if is_none(a) else b\n",
    "\n",
    "def ifnoneelse(a, b, c=None):\n",
    "    \"`b` if `a` is None else `c`\"\n",
    "    return b if a is None else ifnone(c, a)\n",
    "\n",
    "def ifisnoneelse(a, b, c=None):\n",
    "    \"`b` if `a` is None else `c`\"\n",
    "    return b if is_none(a) else ifnone(c, a)\n",
    "\n",
    "def ifelse(a, b, c):\n",
    "    \"`b` if `a` is True else `c`\"\n",
    "    return b if a else c"
   ]
  },
  {
   "cell_type": "code",
   "execution_count": 48,
   "metadata": {
    "ExecuteTime": {
     "end_time": "2020-04-09T17:48:50.641572Z",
     "start_time": "2020-04-09T17:48:50.632758Z"
    }
   },
   "outputs": [],
   "source": [
    "#hide\n",
    "test_eq(ifisnone(None, 2), None)\n",
    "test_eq(ifisnone([], 2), None)"
   ]
  },
  {
   "cell_type": "code",
   "execution_count": 49,
   "metadata": {
    "ExecuteTime": {
     "end_time": "2020-04-09T17:48:50.657231Z",
     "start_time": "2020-04-09T17:48:50.648086Z"
    }
   },
   "outputs": [],
   "source": [
    "#hide\n",
    "test_eq(ifnoneelse(None, 1, 2), 1)\n",
    "test_eq(ifnoneelse(1, 2, 3), 3)"
   ]
  },
  {
   "cell_type": "code",
   "execution_count": 50,
   "metadata": {
    "ExecuteTime": {
     "end_time": "2020-04-09T17:48:50.676234Z",
     "start_time": "2020-04-09T17:48:50.663740Z"
    }
   },
   "outputs": [],
   "source": [
    "#export\n",
    "def stack(o, axis=0):\n",
    "    if isinstance(o[0], np.ndarray): return np.stack(o, axis)\n",
    "    elif isinstance(o[0], torch.Tensor): return torch.stack(tuple(o), dim=axis)\n",
    "    assert False, f'cannot stack this data type {type(o[0])}'"
   ]
  },
  {
   "cell_type": "code",
   "execution_count": 51,
   "metadata": {
    "ExecuteTime": {
     "end_time": "2020-04-09T17:48:50.705972Z",
     "start_time": "2020-04-09T17:48:50.682555Z"
    }
   },
   "outputs": [],
   "source": [
    "#hide\n",
    "a = np.random.rand(2, 3, 4)\n",
    "t = torch.from_numpy(a)\n",
    "test_eq_type(stack(itemify(a, tup_id=0)), a)\n",
    "test_eq_type(stack(itemify(t, tup_id=0)), t)"
   ]
  },
  {
   "cell_type": "code",
   "execution_count": 52,
   "metadata": {
    "ExecuteTime": {
     "end_time": "2020-04-09T17:48:50.720856Z",
     "start_time": "2020-04-09T17:48:50.712285Z"
    }
   },
   "outputs": [],
   "source": [
    "#export\n",
    "# This is a convenience function will use later proposed by Thomas Capelle @tcapelle to be able to easily benchmark performance\n",
    "def cycle_dl(dl):\n",
    "    for _ in iter(dl): pass"
   ]
  },
  {
   "cell_type": "code",
   "execution_count": 53,
   "metadata": {
    "ExecuteTime": {
     "end_time": "2020-04-09T17:48:50.736776Z",
     "start_time": "2020-04-09T17:48:50.726888Z"
    }
   },
   "outputs": [],
   "source": [
    "#export\n",
    "device = 'cuda' if torch.cuda.is_available() else 'cpu'\n",
    "defaults.device = device\n",
    "cpus = defaults.cpus"
   ]
  },
  {
   "cell_type": "code",
   "execution_count": 54,
   "metadata": {
    "ExecuteTime": {
     "end_time": "2020-04-09T17:48:52.425283Z",
     "start_time": "2020-04-09T17:48:50.742949Z"
    }
   },
   "outputs": [
    {
     "data": {
      "application/javascript": [
       "IPython.notebook.save_checkpoint()"
      ],
      "text/plain": [
       "<IPython.core.display.Javascript object>"
      ]
     },
     "metadata": {},
     "output_type": "display_data"
    },
    {
     "name": "stdout",
     "output_type": "stream",
     "text": [
      "\n",
      "Current notebook saved.\n",
      "\n",
      "Converted 000_utils.ipynb.\n",
      "Converted 001_core.ipynb.\n",
      "Converted 002_data.ipynb.\n",
      "Converted 100_layers.ipynb.\n",
      "Converted 101_ResNet.ipynb.\n",
      "Converted 102_InceptionTime.ipynb.\n",
      "Converted index.ipynb.\n"
     ]
    }
   ],
   "source": [
    "#hide\n",
    "from save_nb import *\n",
    "from nbdev.export import *\n",
    "save_nb()\n",
    "notebook2script()"
   ]
  }
 ],
 "metadata": {
  "kernelspec": {
   "display_name": "Python 3",
   "language": "python",
   "name": "python3"
  },
  "language_info": {
   "codemirror_mode": {
    "name": "ipython",
    "version": 3
   },
   "file_extension": ".py",
   "mimetype": "text/x-python",
   "name": "python",
   "nbconvert_exporter": "python",
   "pygments_lexer": "ipython3",
   "version": "3.7.3"
  },
  "toc": {
   "base_numbering": 1,
   "nav_menu": {},
   "number_sections": true,
   "sideBar": true,
   "skip_h1_title": false,
   "title_cell": "Table of Contents",
   "title_sidebar": "Contents",
   "toc_cell": false,
   "toc_position": {},
   "toc_section_display": true,
   "toc_window_display": false
  }
 },
 "nbformat": 4,
 "nbformat_minor": 4
}
