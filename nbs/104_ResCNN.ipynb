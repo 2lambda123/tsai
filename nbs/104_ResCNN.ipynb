{
 "cells": [
  {
   "cell_type": "code",
   "execution_count": null,
   "metadata": {},
   "outputs": [],
   "source": [
    "# default_exp models.ResCNN"
   ]
  },
  {
   "cell_type": "markdown",
   "metadata": {},
   "source": [
    "# ResCNN\n",
    "\n",
    "> This is an unofficial PyTorch implementation by Ignacio Oguiza - oguiza@gmail.com based on:\n",
    "* Zou, X., Wang, Z., Li, Q., & Sheng, W. (2019). Integration of residual network and convolutional neural network along with various activation functions and global pooling for time series classification. Neurocomputing.\n",
    "* No official implementation found"
   ]
  },
  {
   "cell_type": "code",
   "execution_count": null,
   "metadata": {},
   "outputs": [],
   "source": [
    "#export\n",
    "from tsai.imports import *\n",
    "from tsai.models.layers import *"
   ]
  },
  {
   "cell_type": "code",
   "execution_count": null,
   "metadata": {},
   "outputs": [],
   "source": [
    "#export\n",
    "class Block(Module):\n",
    "    def __init__(self, ni, nf, ks=[7, 5, 3], act_fn='relu'):\n",
    "        self.conv1 = convlayer(ni, nf, ks[0], act_fn=act_fn)\n",
    "        self.conv2 = convlayer(nf, nf, ks[1], act_fn=act_fn)\n",
    "        self.conv3 = convlayer(nf, nf, ks[2], act_fn=False)\n",
    "\n",
    "        # expand channels for the sum if necessary\n",
    "        self.shortcut = noop if ni == nf else convlayer(ni, nf, ks=1, act_fn=False)\n",
    "        self.act_fn = get_act_layer(act_fn)\n",
    "\n",
    "    def forward(self, x):\n",
    "        res = x\n",
    "        x = self.conv1(x)\n",
    "        x = self.conv2(x)\n",
    "        x = self.conv3(x)\n",
    "        sc = self.shortcut(res)\n",
    "        x += sc\n",
    "        x = self.act_fn(x)\n",
    "        return x\n",
    "\n",
    "\n",
    "class ResCNN(Module):\n",
    "    def __init__(self, c_in, c_out):\n",
    "        nf = 64\n",
    "        self.block = Block(c_in, nf, ks=[7, 5, 3], act_fn='relu')\n",
    "        self.conv1 = convlayer(nf, nf * 2, ks=3, act_fn='leakyrelu', negative_slope=.2)\n",
    "        self.conv2 = convlayer(nf * 2, nf * 4, ks=3, act_fn='prelu')\n",
    "        self.conv3 = convlayer(nf * 4, nf * 2, ks=3, act_fn='elu', alpha=.3)\n",
    "        self.gap = nn.AdaptiveAvgPool1d(1)\n",
    "        self.lin = nn.Linear(nf * 2, c_out)\n",
    "\n",
    "    def forward(self, x):\n",
    "        x = self.block(x)\n",
    "        x = self.conv1(x)\n",
    "        x = self.conv2(x)\n",
    "        x = self.conv3(x)\n",
    "        x = self.gap(x).squeeze(-1)\n",
    "        return self.lin(x)"
   ]
  },
  {
   "cell_type": "code",
   "execution_count": null,
   "metadata": {},
   "outputs": [],
   "source": [
    "xb = torch.rand(16, 3, 128)\n",
    "test_eq(ResCNN(3,2)(xb).shape, [xb.shape[0], 2])"
   ]
  },
  {
   "cell_type": "code",
   "execution_count": null,
   "metadata": {},
   "outputs": [
    {
     "data": {
      "application/javascript": [
       "IPython.notebook.save_checkpoint()"
      ],
      "text/plain": [
       "<IPython.core.display.Javascript object>"
      ]
     },
     "metadata": {},
     "output_type": "display_data"
    },
    {
     "name": "stdout",
     "output_type": "stream",
     "text": [
      "Converted 000_utils.ipynb.\n",
      "Converted 001_data.external.ipynb.\n",
      "Converted 002_data.core.ipynb.\n",
      "Converted 003_data.transforms.ipynb.\n",
      "Converted 005_data.tabular.ipynb.\n",
      "Converted 006_data.validation.ipynb.\n",
      "Converted 007_metrics.ipynb.\n",
      "Converted 008_learner.ipynb.\n",
      "Converted 009_optimizer.ipynb.\n",
      "Converted 010_rocket_functions.ipynb.\n",
      "Converted 100_layers.ipynb.\n",
      "Converted 100b_models_utils.ipynb.\n",
      "Converted 101_ResNet.ipynb.\n",
      "Converted 102_InceptionTime.ipynb.\n",
      "Converted 103_FCN.ipynb.\n",
      "Converted 104_ResCNN.ipynb.\n",
      "Converted index.ipynb.\n",
      "\n",
      "\n",
      "Checking folder: /Users/nacho/Documents/Machine_Learning/Jupyter_Notebooks/timeseries/tsai\n",
      "Correct conversion! 😃\n",
      "Total elapsed time 17 s\n",
      "Tue, 28 Apr 2020 20:07:03 CEST\n",
      " \n",
      "\n"
     ]
    },
    {
     "data": {
      "text/html": [
       "\n",
       "                <audio  controls=\"controls\" autoplay=\"autoplay\">\n",
       "                    <source src=\"data:audio/wav;base64,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\" type=\"audio/wav\" />\n",
       "                    Your browser does not support the audio element.\n",
       "                </audio>\n",
       "              "
      ],
      "text/plain": [
       "<IPython.lib.display.Audio object>"
      ]
     },
     "execution_count": null,
     "metadata": {},
     "output_type": "execute_result"
    }
   ],
   "source": [
    "#hide\n",
    "out = create_scripts()\n",
    "beep(out)"
   ]
  }
 ],
 "metadata": {
  "kernelspec": {
   "display_name": "Python 3",
   "language": "python",
   "name": "python3"
  }
 },
 "nbformat": 4,
 "nbformat_minor": 2
}
