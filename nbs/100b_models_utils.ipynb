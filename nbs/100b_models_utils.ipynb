{
 "cells": [
  {
   "cell_type": "code",
   "execution_count": null,
   "metadata": {},
   "outputs": [],
   "source": [
    "# default_exp models.utils"
   ]
  },
  {
   "cell_type": "markdown",
   "metadata": {},
   "source": [
    "# Utils\n",
    "\n",
    "> Utility functions used to build PyTorch timeseries models."
   ]
  },
  {
   "cell_type": "code",
   "execution_count": null,
   "metadata": {},
   "outputs": [],
   "source": [
    "#export\n",
    "from tsai.imports import *"
   ]
  },
  {
   "cell_type": "code",
   "execution_count": null,
   "metadata": {},
   "outputs": [
    {
     "data": {
      "text/html": [
       "<style>.container { width:95% !important; }</style>"
      ],
      "text/plain": [
       "<IPython.core.display.HTML object>"
      ]
     },
     "metadata": {},
     "output_type": "display_data"
    }
   ],
   "source": [
    "#hide\n",
    "display(HTML(\"<style>.container { width:95% !important; }</style>\"))"
   ]
  },
  {
   "cell_type": "code",
   "execution_count": null,
   "metadata": {},
   "outputs": [],
   "source": [
    "#export\n",
    "def get_layers(model, cond=noop):\n",
    "    if isinstance(model, Learner): model=model.model\n",
    "    return [m for m in flatten_model(model) if any([c(m) for c in L(cond)])]\n",
    "\n",
    "def count_params(model):\n",
    "    if isinstance(model, Learner): model = model.model\n",
    "    count = 0\n",
    "    for l in get_layers(model):\n",
    "        for i in range(len(list(l.parameters()))): \n",
    "            count += len(list(l.parameters())[i].data.flatten())\n",
    "    return count"
   ]
  },
  {
   "cell_type": "code",
   "execution_count": null,
   "metadata": {},
   "outputs": [
    {
     "data": {
      "application/javascript": [
       "IPython.notebook.save_checkpoint()"
      ],
      "text/plain": [
       "<IPython.core.display.Javascript object>"
      ]
     },
     "metadata": {},
     "output_type": "display_data"
    },
    {
     "name": "stdout",
     "output_type": "stream",
     "text": [
      "\n",
      "Current notebook saved.\n",
      "\n",
      "Converted 000_utils.ipynb.\n",
      "Converted 001_data.external.ipynb.\n",
      "Converted 002_data.core.ipynb.\n",
      "Converted 003_data.transforms.ipynb.\n",
      "Converted 005_data.tabular.ipynb.\n",
      "Converted 006_data.validation.ipynb.\n",
      "Converted 007_metrics.ipynb.\n",
      "Converted 008_learner.ipynb.\n",
      "Converted 009_optimizers.ipynb.\n",
      "Converted 010_rocket_functions.ipynb.\n",
      "Converted 100_layers.ipynb.\n",
      "Converted 100b_models_utils.ipynb.\n",
      "Converted 101_ResNet.ipynb.\n",
      "Converted 102_InceptionTime.ipynb.\n",
      "Converted index.ipynb.\n",
      "\n",
      "Checking folder: /Users/nacho/Documents/Machine_Learning/Jupyter_Notebooks/timeseries/tsai\n",
      "Correct conversion! 😃\n",
      "Total elapsed time 10 s\n",
      "21-04-2020 16:23:45\n"
     ]
    },
    {
     "data": {
      "text/html": [
       "\n",
       "                <audio  controls=\"controls\" autoplay=\"autoplay\">\n",
       "                    <source src=\"data:audio/wav;base64,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\" type=\"audio/wav\" />\n",
       "                    Your browser does not support the audio element.\n",
       "                </audio>\n",
       "              "
      ],
      "text/plain": [
       "<IPython.lib.display.Audio object>"
      ]
     },
     "execution_count": null,
     "metadata": {},
     "output_type": "execute_result"
    }
   ],
   "source": [
    "#hide\n",
    "create_scripts()\n",
    "beep()"
   ]
  }
 ],
 "metadata": {
  "kernelspec": {
   "display_name": "Python 3",
   "language": "python",
   "name": "python3"
  }
 },
 "nbformat": 4,
 "nbformat_minor": 2
}
