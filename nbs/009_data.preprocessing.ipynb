{
 "cells": [
  {
   "cell_type": "code",
   "execution_count": null,
   "metadata": {},
   "outputs": [],
   "source": [
    "#|default_exp data.preprocessing"
   ]
  },
  {
   "cell_type": "markdown",
   "metadata": {},
   "source": [
    "# Data preprocessing"
   ]
  },
  {
   "cell_type": "markdown",
   "metadata": {},
   "source": [
    ">Functions used to preprocess time series (both X and y)."
   ]
  },
  {
   "cell_type": "code",
   "execution_count": null,
   "metadata": {},
   "outputs": [],
   "source": [
    "#|export\n",
    "from __future__ import annotations\n",
    "from tsai.imports import *\n",
    "import re\n",
    "import sklearn\n",
    "from fastcore.transform import Transform, Pipeline\n",
    "from fastai.data.transforms import Categorize\n",
    "from fastai.data.load import DataLoader\n",
    "from fastai.tabular.core import df_shrink_dtypes, make_date\n",
    "from tsai.utils import *\n",
    "from tsai.data.core import *\n",
    "from tsai.data.preparation import *"
   ]
  },
  {
   "cell_type": "code",
   "execution_count": null,
   "metadata": {},
   "outputs": [],
   "source": [
    "from tsai.data.external import get_UCR_data"
   ]
  },
  {
   "cell_type": "code",
   "execution_count": null,
   "metadata": {},
   "outputs": [],
   "source": [
    "dsid = 'NATOPS'\n",
    "X, y, splits = get_UCR_data(dsid, return_split=False)\n",
    "tfms = [None, Categorize()]\n",
    "dsets = TSDatasets(X, y, tfms=tfms, splits=splits)"
   ]
  },
  {
   "cell_type": "code",
   "execution_count": null,
   "metadata": {},
   "outputs": [],
   "source": [
    "#|export\n",
    "class ToNumpyCategory(Transform):\n",
    "    \"Categorize a numpy batch\"\n",
    "    order = 90\n",
    "\n",
    "    def __init__(self, **kwargs):\n",
    "        super().__init__(**kwargs)\n",
    "\n",
    "    def encodes(self, o: np.ndarray):\n",
    "        self.type = type(o)\n",
    "        self.cat = Categorize()\n",
    "        self.cat.setup(o)\n",
    "        self.vocab = self.cat.vocab\n",
    "        return np.asarray(stack([self.cat(oi) for oi in o]))\n",
    "\n",
    "    def decodes(self, o: np.ndarray):\n",
    "        return stack([self.cat.decode(oi) for oi in o])\n",
    "\n",
    "    def decodes(self, o: torch.Tensor):\n",
    "        return stack([self.cat.decode(oi) for oi in o])"
   ]
  },
  {
   "cell_type": "code",
   "execution_count": null,
   "metadata": {},
   "outputs": [
    {
     "data": {
      "text/plain": [
       "array([3, 2, 2, 3, 2, 4, 0, 5, 2, 1])"
      ]
     },
     "execution_count": null,
     "metadata": {},
     "output_type": "execute_result"
    }
   ],
   "source": [
    "t = ToNumpyCategory()\n",
    "y_cat = t(y)\n",
    "y_cat[:10]"
   ]
  },
  {
   "cell_type": "code",
   "execution_count": null,
   "metadata": {},
   "outputs": [],
   "source": [
    "test_eq(t.decode(tensor(y_cat)), y)\n",
    "test_eq(t.decode(np.array(y_cat)), y)"
   ]
  },
  {
   "cell_type": "code",
   "execution_count": null,
   "metadata": {},
   "outputs": [],
   "source": [
    "#|export\n",
    "class OneHot(Transform): \n",
    "    \"One-hot encode/ decode a batch\"\n",
    "    order = 90\n",
    "    def __init__(self, n_classes=None, **kwargs): \n",
    "        self.n_classes = n_classes\n",
    "        super().__init__(**kwargs)\n",
    "    def encodes(self, o: torch.Tensor): \n",
    "        if not self.n_classes: self.n_classes = len(np.unique(o))\n",
    "        return torch.eye(self.n_classes)[o]\n",
    "    def encodes(self, o: np.ndarray): \n",
    "        o = ToNumpyCategory()(o)\n",
    "        if not self.n_classes: self.n_classes = len(np.unique(o))\n",
    "        return np.eye(self.n_classes)[o]\n",
    "    def decodes(self, o: torch.Tensor): return torch.argmax(o, dim=-1)\n",
    "    def decodes(self, o: np.ndarray): return np.argmax(o, axis=-1)"
   ]
  },
  {
   "cell_type": "code",
   "execution_count": null,
   "metadata": {},
   "outputs": [
    {
     "data": {
      "text/plain": [
       "array([[0., 0., 0., 1., 0., 0.],\n",
       "       [0., 0., 1., 0., 0., 0.],\n",
       "       [0., 0., 1., 0., 0., 0.],\n",
       "       [0., 0., 0., 1., 0., 0.],\n",
       "       [0., 0., 1., 0., 0., 0.],\n",
       "       [0., 0., 0., 0., 1., 0.],\n",
       "       [1., 0., 0., 0., 0., 0.],\n",
       "       [0., 0., 0., 0., 0., 1.],\n",
       "       [0., 0., 1., 0., 0., 0.],\n",
       "       [0., 1., 0., 0., 0., 0.]])"
      ]
     },
     "execution_count": null,
     "metadata": {},
     "output_type": "execute_result"
    }
   ],
   "source": [
    "oh_encoder = OneHot()\n",
    "y_cat = ToNumpyCategory()(y)\n",
    "oht = oh_encoder(y_cat)\n",
    "oht[:10]"
   ]
  },
  {
   "cell_type": "code",
   "execution_count": null,
   "metadata": {},
   "outputs": [],
   "source": [
    "n_classes = 10\n",
    "n_samples = 100\n",
    "\n",
    "t = torch.randint(0, n_classes, (n_samples,))\n",
    "oh_encoder = OneHot()\n",
    "oht = oh_encoder(t)\n",
    "test_eq(oht.shape, (n_samples, n_classes))\n",
    "test_eq(torch.argmax(oht, dim=-1), t)\n",
    "test_eq(oh_encoder.decode(oht), t)"
   ]
  },
  {
   "cell_type": "code",
   "execution_count": null,
   "metadata": {},
   "outputs": [],
   "source": [
    "n_classes = 10\n",
    "n_samples = 100\n",
    "\n",
    "a = np.random.randint(0, n_classes, (n_samples,))\n",
    "oh_encoder = OneHot()\n",
    "oha = oh_encoder(a)\n",
    "test_eq(oha.shape, (n_samples, n_classes))\n",
    "test_eq(np.argmax(oha, axis=-1), a)\n",
    "test_eq(oh_encoder.decode(oha), a)"
   ]
  },
  {
   "cell_type": "code",
   "execution_count": null,
   "metadata": {},
   "outputs": [],
   "source": [
    "#|export\n",
    "class TSNan2Value(Transform):\n",
    "    \"Replaces any nan values by a predefined value or median\"\n",
    "    order = 90\n",
    "    def __init__(self, value=0, median=False, by_sample_and_var=True, sel_vars=None):\n",
    "        store_attr()\n",
    "        if not ismin_torch(\"1.8\"):\n",
    "            raise ValueError('This function only works with Pytorch>=1.8.')\n",
    "\n",
    "    def encodes(self, o:TSTensor):\n",
    "        if self.sel_vars is not None: \n",
    "            mask = torch.isnan(o[:, self.sel_vars])\n",
    "            if mask.any() and self.median:\n",
    "                if self.by_sample_and_var:\n",
    "                    median = torch.nanmedian(o[:, self.sel_vars], dim=2, keepdim=True)[0].repeat(1, 1, o.shape[-1])\n",
    "                    o[:, self.sel_vars][mask] = median[mask]\n",
    "                else:\n",
    "                    o[:, self.sel_vars] = torch.nan_to_num(o[:, self.sel_vars], torch.nanmedian(o[:, self.sel_vars]))\n",
    "            o[:, self.sel_vars] = torch.nan_to_num(o[:, self.sel_vars], self.value)\n",
    "        else:\n",
    "            mask = torch.isnan(o)\n",
    "            if mask.any() and self.median:\n",
    "                if self.by_sample_and_var:\n",
    "                    median = torch.nanmedian(o, dim=2, keepdim=True)[0].repeat(1, 1, o.shape[-1])\n",
    "                    o[mask] = median[mask]\n",
    "                else:\n",
    "                    o = torch.nan_to_num(o, torch.nanmedian(o))\n",
    "            o = torch.nan_to_num(o, self.value)\n",
    "        return o\n",
    "\n",
    "\n",
    "    \n",
    "Nan2Value = TSNan2Value"
   ]
  },
  {
   "cell_type": "code",
   "execution_count": null,
   "metadata": {},
   "outputs": [],
   "source": [
    "o = TSTensor(torch.randn(16, 10, 100))\n",
    "o[0,0] = float('nan')\n",
    "o[o > .9] = float('nan')\n",
    "o[[0,1,5,8,14,15], :, -20:] = float('nan')\n",
    "nan_vals1 = torch.isnan(o).sum()\n",
    "o2 = Pipeline(TSNan2Value(), split_idx=0)(o.clone())\n",
    "o3 = Pipeline(TSNan2Value(median=True, by_sample_and_var=True), split_idx=0)(o.clone())\n",
    "o4 = Pipeline(TSNan2Value(median=True, by_sample_and_var=False), split_idx=0)(o.clone())\n",
    "nan_vals2 = torch.isnan(o2).sum()\n",
    "nan_vals3 = torch.isnan(o3).sum()\n",
    "nan_vals4 = torch.isnan(o4).sum()\n",
    "test_ne(nan_vals1, 0)\n",
    "test_eq(nan_vals2, 0)\n",
    "test_eq(nan_vals3, 0)\n",
    "test_eq(nan_vals4, 0)"
   ]
  },
  {
   "cell_type": "code",
   "execution_count": null,
   "metadata": {},
   "outputs": [],
   "source": [
    "o = TSTensor(torch.randn(16, 10, 100))\n",
    "o[o > .9] = float('nan')\n",
    "o = TSNan2Value(median=True, sel_vars=[0,1,2,3,4])(o)\n",
    "test_eq(torch.isnan(o[:, [0,1,2,3,4]]).sum().item(), 0)"
   ]
  },
  {
   "cell_type": "code",
   "execution_count": null,
   "metadata": {},
   "outputs": [],
   "source": [
    "#|export\n",
    "class TSStandardize(Transform):\n",
    "    \"\"\"Standardizes batch of type `TSTensor`\n",
    "\n",
    "    Args:\n",
    "        - mean: you can pass a precalculated mean value as a torch tensor which is the one that will be used, or leave as None, in which case\n",
    "            it will be estimated using a batch.\n",
    "        - std: you can pass a precalculated std value as a torch tensor which is the one that will be used, or leave as None, in which case\n",
    "            it will be estimated using a batch. If both mean and std values are passed when instantiating TSStandardize, the rest of arguments won't be used.\n",
    "        - by_sample: if True, it will calculate mean and std for each individual sample. Otherwise based on the entire batch.\n",
    "        - by_var:\n",
    "            * False: mean and std will be the same for all variables.\n",
    "            * True: a mean and std will be be different for each variable.\n",
    "            * a list of ints: (like [0,1,3]) a different mean and std will be set for each variable on the list. Variables not included in the list\n",
    "            won't be standardized.\n",
    "            * a list that contains a list/lists: (like[0, [1,3]]) a different mean and std will be set for each element of the list. If multiple elements are\n",
    "            included in a list, the same mean and std will be set for those variable in the sublist/s. (in the example a mean and std is determined for\n",
    "            variable 0, and another one for variables 1 & 3 - the same one). Variables not included in the list won't be standardized.\n",
    "        - by_step: if False, it will standardize values for each time step.\n",
    "        - exc_vars: list of variables that won't be standardized.\n",
    "        - eps: it avoids dividing by 0\n",
    "        - use_single_batch: if True a single training batch will be used to calculate mean & std. Else the entire training set will be used.\n",
    "    \"\"\"\n",
    "\n",
    "    parameters, order = L('mean', 'std'), 90\n",
    "    _setup = True # indicates it requires set up\n",
    "    def __init__(self, mean=None, std=None, by_sample=False, by_var=False, by_step=False, exc_vars=None, eps=1e-8, use_single_batch=True, verbose=False, **kwargs):\n",
    "        super().__init__(**kwargs)\n",
    "        self.mean = tensor(mean) if mean is not None else None\n",
    "        self.std = tensor(std) if std is not None else None\n",
    "        self._setup = (mean is None or std is None) and not by_sample\n",
    "        self.eps = eps\n",
    "        self.by_sample, self.by_var, self.by_step = by_sample, by_var, by_step\n",
    "        drop_axes = []\n",
    "        if by_sample: drop_axes.append(0)\n",
    "        if by_var: drop_axes.append(1)\n",
    "        if by_step: drop_axes.append(2)\n",
    "        self.exc_vars = exc_vars\n",
    "        self.axes = tuple([ax for ax in (0, 1, 2) if ax not in drop_axes])\n",
    "        if by_var and is_listy(by_var):\n",
    "            self.list_axes = tuple([ax for ax in (0, 1, 2) if ax not in drop_axes]) + (1,)\n",
    "        self.use_single_batch = use_single_batch\n",
    "        self.verbose = verbose\n",
    "        if self.mean is not None or self.std is not None:\n",
    "            pv(f'{self.__class__.__name__} mean={self.mean}, std={self.std}, by_sample={self.by_sample}, by_var={self.by_var}, by_step={self.by_step}\\n', \n",
    "               self.verbose)\n",
    "\n",
    "    @classmethod\n",
    "    def from_stats(cls, mean, std): return cls(mean, std)\n",
    "\n",
    "    def setups(self, dl: DataLoader):\n",
    "        if self._setup:\n",
    "            if not self.use_single_batch:\n",
    "                o = dl.dataset.__getitem__([slice(None)])[0]\n",
    "            else:\n",
    "                o, *_ = dl.one_batch()\n",
    "            if self.by_var and is_listy(self.by_var):\n",
    "                shape = torch.mean(o, dim=self.axes, keepdim=self.axes!=()).shape\n",
    "                mean = torch.zeros(*shape, device=o.device)\n",
    "                std = torch.ones(*shape, device=o.device)\n",
    "                for v in self.by_var:\n",
    "                    if not is_listy(v): v = [v]\n",
    "                    mean[:, v] = torch_nanmean(o[:, v], dim=self.axes if len(v) == 1 else self.list_axes, keepdim=True)\n",
    "                    std[:, v] = torch.clamp_min(torch_nanstd(o[:, v], dim=self.axes if len(v) == 1 else self.list_axes, keepdim=True), self.eps)\n",
    "            else:\n",
    "                mean = torch_nanmean(o, dim=self.axes, keepdim=self.axes!=())\n",
    "                std = torch.clamp_min(torch_nanstd(o, dim=self.axes, keepdim=self.axes!=()), self.eps)\n",
    "            if self.exc_vars is not None:\n",
    "                mean[:, self.exc_vars] = 0.\n",
    "                std[:, self.exc_vars] = 1.\n",
    "            self.mean, self.std = mean, std\n",
    "            if len(self.mean.shape) == 0:\n",
    "                pv(f'{self.__class__.__name__} mean={self.mean}, std={self.std}, by_sample={self.by_sample}, by_var={self.by_var}, by_step={self.by_step}\\n',\n",
    "                   self.verbose)\n",
    "            else:\n",
    "                pv(f'{self.__class__.__name__} mean shape={self.mean.shape}, std shape={self.std.shape}, by_sample={self.by_sample}, by_var={self.by_var}, by_step={self.by_step}\\n',\n",
    "                   self.verbose)\n",
    "            self._setup = False\n",
    "        elif self.by_sample: self.mean, self.std = torch.zeros(1), torch.ones(1)\n",
    "\n",
    "    def encodes(self, o:TSTensor):\n",
    "        if self.by_sample:\n",
    "            if self.by_var and is_listy(self.by_var):\n",
    "                shape = torch.mean(o, dim=self.axes, keepdim=self.axes!=()).shape\n",
    "                mean = torch.zeros(*shape, device=o.device)\n",
    "                std = torch.ones(*shape, device=o.device)\n",
    "                for v in self.by_var:\n",
    "                    if not is_listy(v): v = [v]\n",
    "                    mean[:, v] = torch_nanmean(o[:, v], dim=self.axes if len(v) == 1 else self.list_axes, keepdim=True)\n",
    "                    std[:, v] = torch.clamp_min(torch_nanstd(o[:, v], dim=self.axes if len(v) == 1 else self.list_axes, keepdim=True), self.eps)\n",
    "            else:\n",
    "                mean = torch_nanmean(o, dim=self.axes, keepdim=self.axes!=())\n",
    "                std = torch.clamp_min(torch_nanstd(o, dim=self.axes, keepdim=self.axes!=()), self.eps)\n",
    "            if self.exc_vars is not None:\n",
    "                mean[:, self.exc_vars] = 0.\n",
    "                std[:, self.exc_vars] = 1.\n",
    "            self.mean, self.std = mean, std\n",
    "        return (o - self.mean) / self.std\n",
    "\n",
    "    def decodes(self, o:TSTensor):\n",
    "        if self.mean is None or self.std is None: return o\n",
    "        return o * self.std + self.mean\n",
    "\n",
    "    def __repr__(self): return f'{self.__class__.__name__}(by_sample={self.by_sample}, by_var={self.by_var}, by_step={self.by_step})'"
   ]
  },
  {
   "cell_type": "code",
   "execution_count": null,
   "metadata": {},
   "outputs": [],
   "source": [
    "batch_tfms=[TSStandardize(by_sample=True, by_var=False, verbose=True)]\n",
    "dls = TSDataLoaders.from_dsets(dsets.train, dsets.valid, bs=128, num_workers=0, batch_tfms=batch_tfms)\n",
    "xb, yb = next(iter(dls.train))\n",
    "test_close(xb.mean(), 0, eps=1e-1)\n",
    "test_close(xb.std(), 1, eps=1e-1)"
   ]
  },
  {
   "cell_type": "code",
   "execution_count": null,
   "metadata": {},
   "outputs": [
    {
     "name": "stdout",
     "output_type": "stream",
     "text": [
      "tensor([ 0.0000, -1.3170,  0.0000,  0.9567, -0.8527, -0.4163,  0.0000, -0.6075,\n",
      "         0.0000,  0.7660, -0.4960, -0.0931,  0.0000, -1.0460, -0.6201,  0.8963,\n",
      "        -0.7069, -0.2978, -0.5613, -1.1707, -0.7464,  0.9141, -0.7807, -0.4218])\n",
      "tensor([1.0000, 0.8856, 1.0000, 0.7576, 1.1533, 0.5402, 1.0000, 0.2649, 1.0000,\n",
      "        0.2381, 0.4070, 0.3355, 1.0000, 0.6449, 0.2731, 0.5334, 0.8628, 0.4379,\n",
      "        0.5860, 0.7697, 0.3169, 0.6759, 1.0076, 0.5053])\n"
     ]
    }
   ],
   "source": [
    "exc_vars = [0, 2, 6, 8, 12]\n",
    "batch_tfms=[TSStandardize(by_var=True, exc_vars=exc_vars)]\n",
    "dls = TSDataLoaders.from_dsets(dsets.train, dsets.valid, bs=128, num_workers=0, batch_tfms=batch_tfms)\n",
    "xb, yb = next(iter(dls.train))\n",
    "test_eq(len(dls.train.after_batch.fs[0].mean.flatten()), 24)\n",
    "test_eq(len(dls.train.after_batch.fs[0].std.flatten()), 24)\n",
    "test_eq(dls.train.after_batch.fs[0].mean.flatten()[exc_vars], torch.zeros(len(exc_vars)))\n",
    "test_eq(dls.train.after_batch.fs[0].std.flatten()[exc_vars], torch.ones(len(exc_vars)))\n",
    "print(dls.train.after_batch.fs[0].mean.flatten().data)\n",
    "print(dls.train.after_batch.fs[0].std.flatten().data)"
   ]
  },
  {
   "cell_type": "code",
   "execution_count": null,
   "metadata": {},
   "outputs": [],
   "source": [
    "from tsai.data.validation import TimeSplitter"
   ]
  },
  {
   "cell_type": "code",
   "execution_count": null,
   "metadata": {},
   "outputs": [],
   "source": [
    "X_nan = np.random.rand(100, 5, 10)\n",
    "idxs = np.random.choice(len(X_nan), int(len(X_nan)*.5), False)\n",
    "X_nan[idxs, 0] = float('nan')\n",
    "idxs = np.random.choice(len(X_nan), int(len(X_nan)*.5), False)\n",
    "X_nan[idxs, 1, -10:] = float('nan')\n",
    "batch_tfms = TSStandardize(by_var=True)\n",
    "dls = get_ts_dls(X_nan, batch_tfms=batch_tfms, splits=TimeSplitter(show_plot=False)(range_of(X_nan)))\n",
    "test_eq(torch.isnan(dls.after_batch[0].mean).sum(), 0)\n",
    "test_eq(torch.isnan(dls.after_batch[0].std).sum(), 0)\n",
    "xb = first(dls.train)[0]\n",
    "test_ne(torch.isnan(xb).sum(), 0)\n",
    "test_ne(torch.isnan(xb).sum(), torch.isnan(xb).numel())\n",
    "batch_tfms = [TSStandardize(by_var=True), Nan2Value()]\n",
    "dls = get_ts_dls(X_nan, batch_tfms=batch_tfms, splits=TimeSplitter(show_plot=False)(range_of(X_nan)))\n",
    "xb = first(dls.train)[0]\n",
    "test_eq(torch.isnan(xb).sum(), 0)"
   ]
  },
  {
   "cell_type": "code",
   "execution_count": null,
   "metadata": {},
   "outputs": [],
   "source": [
    "batch_tfms=[TSStandardize(by_sample=True, by_var=False, verbose=False)]\n",
    "dls = TSDataLoaders.from_dsets(dsets.train, dsets.valid, bs=128, num_workers=0, after_batch=batch_tfms)\n",
    "xb, yb = next(iter(dls.train))\n",
    "test_close(xb.mean(), 0, eps=1e-1)\n",
    "test_close(xb.std(), 1, eps=1e-1)\n",
    "xb, yb = next(iter(dls.valid))\n",
    "test_close(xb.mean(), 0, eps=1e-1)\n",
    "test_close(xb.std(), 1, eps=1e-1)"
   ]
  },
  {
   "cell_type": "code",
   "execution_count": null,
   "metadata": {},
   "outputs": [],
   "source": [
    "tfms = [None, TSClassification()]\n",
    "batch_tfms = TSStandardize(by_sample=True)\n",
    "dls = get_ts_dls(X, y, splits=splits, tfms=tfms, batch_tfms=batch_tfms, bs=[64, 128], inplace=True)\n",
    "xb, yb = dls.train.one_batch()\n",
    "test_close(xb.mean(), 0, eps=1e-1)\n",
    "test_close(xb.std(), 1, eps=1e-1)\n",
    "xb, yb = dls.valid.one_batch()\n",
    "test_close(xb.mean(), 0, eps=1e-1)\n",
    "test_close(xb.std(), 1, eps=1e-1)"
   ]
  },
  {
   "cell_type": "code",
   "execution_count": null,
   "metadata": {},
   "outputs": [],
   "source": [
    "tfms = [None, TSClassification()]\n",
    "batch_tfms = TSStandardize(by_sample=True, by_var=False, verbose=False)\n",
    "dls = get_ts_dls(X, y, splits=splits, tfms=tfms, batch_tfms=batch_tfms, bs=[64, 128], inplace=False)\n",
    "xb, yb = dls.train.one_batch()\n",
    "test_close(xb.mean(), 0, eps=1e-1)\n",
    "test_close(xb.std(), 1, eps=1e-1)\n",
    "xb, yb = dls.valid.one_batch()\n",
    "test_close(xb.mean(), 0, eps=1e-1)\n",
    "test_close(xb.std(), 1, eps=1e-1)"
   ]
  },
  {
   "cell_type": "code",
   "execution_count": null,
   "metadata": {},
   "outputs": [],
   "source": [
    "#|export\n",
    "\n",
    "@patch\n",
    "def mul_min(x:torch.Tensor|TSTensor|NumpyTensor, axes=(), keepdim=False):\n",
    "    if axes == (): return retain_type(x.min(), x)\n",
    "    axes = reversed(sorted(axes if is_listy(axes) else [axes]))\n",
    "    min_x = x\n",
    "    for ax in axes: min_x, _ = min_x.min(ax, keepdim)\n",
    "    return retain_type(min_x, x)\n",
    "\n",
    "\n",
    "@patch\n",
    "def mul_max(x:torch.Tensor|TSTensor|NumpyTensor, axes=(), keepdim=False):\n",
    "    if axes == (): return retain_type(x.max(), x)\n",
    "    axes = reversed(sorted(axes if is_listy(axes) else [axes]))\n",
    "    max_x = x\n",
    "    for ax in axes: max_x, _ = max_x.max(ax, keepdim)\n",
    "    return retain_type(max_x, x)\n",
    "\n",
    "\n",
    "class TSNormalize(Transform):\n",
    "    \"Normalizes batch of type `TSTensor`\"\n",
    "    parameters, order = L('min', 'max'), 90\n",
    "    _setup = True # indicates it requires set up\n",
    "    def __init__(self, min=None, max=None, range=(-1, 1), by_sample=False, by_var=False, by_step=False, clip_values=True, \n",
    "                 use_single_batch=True, verbose=False, **kwargs):\n",
    "        super().__init__(**kwargs)\n",
    "        self.min = tensor(min) if min is not None else None\n",
    "        self.max = tensor(max) if max is not None else None\n",
    "        self._setup = (self.min is None and self.max is None) and not by_sample\n",
    "        self.range_min, self.range_max = range\n",
    "        self.by_sample, self.by_var, self.by_step = by_sample, by_var, by_step\n",
    "        drop_axes = []\n",
    "        if by_sample: drop_axes.append(0)\n",
    "        if by_var: drop_axes.append(1)\n",
    "        if by_step: drop_axes.append(2)\n",
    "        self.axes = tuple([ax for ax in (0, 1, 2) if ax not in drop_axes])\n",
    "        if by_var and is_listy(by_var):\n",
    "            self.list_axes = tuple([ax for ax in (0, 1, 2) if ax not in drop_axes]) + (1,)\n",
    "        self.clip_values = clip_values\n",
    "        self.use_single_batch = use_single_batch\n",
    "        self.verbose = verbose\n",
    "        if self.min is not None or self.max is not None:\n",
    "            pv(f'{self.__class__.__name__} min={self.min}, max={self.max}, by_sample={self.by_sample}, by_var={self.by_var}, by_step={self.by_step}\\n', self.verbose)\n",
    "            \n",
    "    @classmethod\n",
    "    def from_stats(cls, min, max, range_min=0, range_max=1): return cls(min, max, range_min, range_max)\n",
    "\n",
    "    def setups(self, dl: DataLoader):\n",
    "        if self._setup:\n",
    "            if not self.use_single_batch:\n",
    "                o = dl.dataset.__getitem__([slice(None)])[0]\n",
    "            else:\n",
    "                o, *_ = dl.one_batch()\n",
    "            if self.by_var and is_listy(self.by_var):\n",
    "                shape = torch.mean(o, dim=self.axes, keepdim=self.axes!=()).shape\n",
    "                _min = torch.zeros(*shape, device=o.device) + self.range_min\n",
    "                _max = torch.zeros(*shape, device=o.device) + self.range_max\n",
    "                for v in self.by_var:\n",
    "                    if not is_listy(v): v = [v]\n",
    "                    _min[:, v] = o[:, v].mul_min(self.axes if len(v) == 1 else self.list_axes, keepdim=self.axes!=())\n",
    "                    _max[:, v] = o[:, v].mul_max(self.axes if len(v) == 1 else self.list_axes, keepdim=self.axes!=())\n",
    "            else:\n",
    "                _min, _max = o.mul_min(self.axes, keepdim=self.axes!=()), o.mul_max(self.axes, keepdim=self.axes!=())\n",
    "            self.min, self.max = _min, _max\n",
    "            if len(self.min.shape) == 0: \n",
    "                pv(f'{self.__class__.__name__} min={self.min}, max={self.max}, by_sample={self.by_sample}, by_var={self.by_var}, by_step={self.by_step}\\n', \n",
    "                   self.verbose)\n",
    "            else:\n",
    "                pv(f'{self.__class__.__name__} min shape={self.min.shape}, max shape={self.max.shape}, by_sample={self.by_sample}, by_var={self.by_var}, by_step={self.by_step}\\n', \n",
    "                   self.verbose)\n",
    "            self._setup = False\n",
    "        elif self.by_sample: self.min, self.max = -torch.ones(1), torch.ones(1)\n",
    "\n",
    "    def encodes(self, o:TSTensor): \n",
    "        if self.by_sample: \n",
    "            if self.by_var and is_listy(self.by_var):\n",
    "                shape = torch.mean(o, dim=self.axes, keepdim=self.axes!=()).shape\n",
    "                _min = torch.zeros(*shape, device=o.device) + self.range_min\n",
    "                _max = torch.ones(*shape, device=o.device) + self.range_max\n",
    "                for v in self.by_var:\n",
    "                    if not is_listy(v): v = [v]\n",
    "                    _min[:, v] = o[:, v].mul_min(self.axes, keepdim=self.axes!=())\n",
    "                    _max[:, v] = o[:, v].mul_max(self.axes, keepdim=self.axes!=())\n",
    "            else:\n",
    "                _min, _max = o.mul_min(self.axes, keepdim=self.axes!=()), o.mul_max(self.axes, keepdim=self.axes!=())\n",
    "            self.min, self.max = _min, _max\n",
    "        output = ((o - self.min) / (self.max - self.min)) * (self.range_max - self.range_min) + self.range_min\n",
    "        if self.clip_values:\n",
    "            if self.by_var and is_listy(self.by_var):\n",
    "                for v in self.by_var:\n",
    "                    if not is_listy(v): v = [v]\n",
    "                    output[:, v] = torch.clamp(output[:, v], self.range_min, self.range_max)\n",
    "            else:\n",
    "                output = torch.clamp(output, self.range_min, self.range_max)\n",
    "        return output\n",
    "    \n",
    "    def __repr__(self): return f'{self.__class__.__name__}(by_sample={self.by_sample}, by_var={self.by_var}, by_step={self.by_step})'"
   ]
  },
  {
   "cell_type": "code",
   "execution_count": null,
   "metadata": {},
   "outputs": [],
   "source": [
    "batch_tfms = [TSNormalize()]\n",
    "dls = TSDataLoaders.from_dsets(dsets.train, dsets.valid, bs=128, num_workers=0, after_batch=batch_tfms)\n",
    "xb, yb = next(iter(dls.train))\n",
    "assert xb.max() <= 1\n",
    "assert xb.min() >= -1"
   ]
  },
  {
   "cell_type": "code",
   "execution_count": null,
   "metadata": {},
   "outputs": [],
   "source": [
    "batch_tfms=[TSNormalize(by_sample=True, by_var=False, verbose=False)]\n",
    "dls = TSDataLoaders.from_dsets(dsets.train, dsets.valid, bs=128, num_workers=0, after_batch=batch_tfms)\n",
    "xb, yb = next(iter(dls.train))\n",
    "assert xb.max() <= 1\n",
    "assert xb.min() >= -1"
   ]
  },
  {
   "cell_type": "code",
   "execution_count": null,
   "metadata": {},
   "outputs": [],
   "source": [
    "batch_tfms = [TSNormalize(by_var=[0, [1, 2]], use_single_batch=False, clip_values=False, verbose=False)]\n",
    "dls = TSDataLoaders.from_dsets(dsets.train, dsets.valid, bs=128, num_workers=0, after_batch=batch_tfms)\n",
    "xb, yb = next(iter(dls.train))\n",
    "assert xb[:, [0, 1, 2]].max() <= 1\n",
    "assert xb[:, [0, 1, 2]].min() >= -1"
   ]
  },
  {
   "cell_type": "code",
   "execution_count": null,
   "metadata": {},
   "outputs": [],
   "source": [
    "#|export\n",
    "class TSCatEncode(Transform):\n",
    "    \"Encodes a variable based on a categorical array\"\n",
    "    def __init__(self, a, sel_var):\n",
    "        a_key = np.unique(a)\n",
    "        a_val = np.arange(1, len(a_key) + 1)\n",
    "        self.o2i = dict(zip(a_key, a_val))\n",
    "        self.a_key = torch.from_numpy(a_key)\n",
    "        self.sel_var = sel_var\n",
    "\n",
    "    def encodes(self, o:TSTensor):\n",
    "        o_ = o[:, self.sel_var]\n",
    "        o_val = torch.zeros_like(o_)\n",
    "        o_in_a = torch.isin(o_, self.a_key.to(o.device))\n",
    "        o_val[o_in_a] = o_[o_in_a].cpu().apply_(self.o2i.get).to(o.device) # apply is not available for cuda!!\n",
    "        o[:, self.sel_var] = o_val\n",
    "        return o"
   ]
  },
  {
   "cell_type": "code",
   "execution_count": null,
   "metadata": {},
   "outputs": [
    {
     "data": {
      "text/plain": [
       "tensor([[ 7,  7,  7,  ...,  7,  7,  7],\n",
       "        [ 4,  4,  4,  ...,  4,  4,  4],\n",
       "        [10, 10, 10,  ..., 10, 10, 10],\n",
       "        ...,\n",
       "        [ 0,  0,  0,  ...,  0,  0,  0],\n",
       "        [ 7,  7,  7,  ...,  7,  7,  7],\n",
       "        [ 5,  5,  5,  ...,  5,  5,  5]])"
      ]
     },
     "execution_count": null,
     "metadata": {},
     "output_type": "execute_result"
    }
   ],
   "source": [
    "# static input\n",
    "a = np.random.randint(10, 20, 512)[:, None, None].repeat(10, 1).repeat(28, 2)\n",
    "b = TSTensor(torch.randint(0, 30, (512,), device='cpu').unsqueeze(-1).unsqueeze(-1).repeat(1, 10, 28))\n",
    "output = TSCatEncode(a, sel_var=0)(b)\n",
    "test_eq(0 <= output[:, 0].min() <= len(np.unique(a)), True)\n",
    "test_eq(0 <= output[:, 0].max() <= len(np.unique(a)), True)\n",
    "test_eq(output[:, 0], output[:, 0, 0][:, None].repeat(1, 28))\n",
    "output[:, 0].data"
   ]
  },
  {
   "cell_type": "code",
   "execution_count": null,
   "metadata": {},
   "outputs": [
    {
     "data": {
      "text/plain": [
       "tensor([[1, 0, 0,  ..., 0, 0, 0],\n",
       "        [0, 0, 0,  ..., 0, 0, 0],\n",
       "        [0, 0, 0,  ..., 8, 0, 2],\n",
       "        ...,\n",
       "        [0, 0, 0,  ..., 0, 0, 0],\n",
       "        [0, 0, 0,  ..., 0, 0, 0],\n",
       "        [0, 0, 0,  ..., 0, 0, 7]])"
      ]
     },
     "execution_count": null,
     "metadata": {},
     "output_type": "execute_result"
    }
   ],
   "source": [
    "# non-static input\n",
    "a = np.random.randint(10, 20, 512)[:, None, None].repeat(10, 1).repeat(28, 2)\n",
    "b = TSTensor(torch.randint(0, 30, (512, 10, 28), device='cpu'))\n",
    "output = TSCatEncode(a, sel_var=0)(b)\n",
    "test_eq(0 <= output[:, 0].min() <= len(np.unique(a)), True)\n",
    "test_eq(0 <= output[:, 0].max() <= len(np.unique(a)), True)\n",
    "test_ne(output[:, 0], output[:, 0, 0][:, None].repeat(1, 28))\n",
    "output[:, 0].data"
   ]
  },
  {
   "cell_type": "code",
   "execution_count": null,
   "metadata": {},
   "outputs": [],
   "source": [
    "#| export\n",
    "class TSDropFeatByKey(Transform):\n",
    "    \"\"\"Randomly drops selected features at selected steps based \n",
    "    with a given probability per feature, step and a key variable\"\"\"\n",
    "    parameters, order = 'p', 90\n",
    "    \n",
    "    def __init__(self, \n",
    "    key_var, # int representing the variable that contains the key information\n",
    "    p, # array of shape (n_keys, n_features, n_steps) representing the probabilities of dropping a feature at a given step for a given key\n",
    "    sel_vars, # int or slice or list of ints or array of ints representing the variables to drop\n",
    "    sel_steps=None, # int or slice or list of ints or array of ints representing the steps to drop\n",
    "    **kwargs,\n",
    "    ):\n",
    "        super().__init__(**kwargs)\n",
    "        if isinstance(p, np.ndarray):\n",
    "            p = torch.from_numpy(p)\n",
    "        if not isinstance(sel_vars, slice):\n",
    "            if isinstance(sel_vars, Integral): sel_vars = [sel_vars]\n",
    "            sel_vars = np.asarray(sel_vars)\n",
    "            if not isinstance(sel_steps, slice) and sel_steps is not None:\n",
    "                sel_vars = sel_vars.reshape(-1, 1)\n",
    "        if sel_steps is None:\n",
    "            sel_steps = slice(None)\n",
    "        elif not isinstance(sel_steps, slice):\n",
    "            if isinstance(sel_steps, Integral): sel_steps = [sel_steps]\n",
    "            sel_steps = np.asarray(sel_steps)\n",
    "            if not isinstance(sel_vars, slice):\n",
    "                sel_steps = sel_steps.reshape(1, -1)\n",
    "        self.key_var, self.p = key_var, p\n",
    "        self.sel_vars, self.sel_steps = sel_vars, sel_steps\n",
    "        if p.shape[-1] == 1:\n",
    "            if isinstance(self.sel_vars, slice) or isinstance(self.sel_steps, slice):\n",
    "                self._idxs = [slice(None), slice(None), slice(None), 0]\n",
    "            else:\n",
    "                self._idxs = [slice(None), 0, slice(None), slice(None), 0]\n",
    "        else:\n",
    "            if isinstance(self.sel_vars, slice) or isinstance(self.sel_steps, slice):\n",
    "                self._idxs = self._idxs = [slice(None), np.arange(p.shape[-1]), slice(None), np.arange(p.shape[-1])]\n",
    "            else:\n",
    "                self._idxs = [slice(None), 0, np.arange(p.shape[-1]), slice(None), np.arange(p.shape[-1])]\n",
    "\n",
    "    def encodes(self, o:TSTensor):\n",
    "        o_slice = o[:, self.sel_vars, self.sel_steps]\n",
    "        o_values = o[:, self.key_var, self.sel_steps]\n",
    "        o_values = torch.nan_to_num(o_values)\n",
    "        o_values = torch.round(o_values).long()\n",
    "        if self.p.shape[-1] == 1:\n",
    "            p = self.p[o_values][self._idxs].permute(0, 2, 1)\n",
    "        else:\n",
    "            p = self.p[o_values][self._idxs].permute(1, 2, 0)\n",
    "        mask = torch.rand_like(o_slice) < p\n",
    "        o_slice[mask] = np.nan\n",
    "        o[:, self.sel_vars, self.sel_steps] = o_slice\n",
    "        return o"
   ]
  },
  {
   "cell_type": "code",
   "execution_count": null,
   "metadata": {},
   "outputs": [],
   "source": [
    "n_devices = 4\n",
    "key_var = 0\n",
    "\n",
    "for sel_vars in [1, [1], [1,3,5], slice(3, 5)]:\n",
    "    for sel_steps in [None, -1, 27, [27], [25, 26], slice(10, 20)]:\n",
    "        o = TSTensor(torch.rand(512, 10, 28))\n",
    "        o[:, key_var] = torch.randint(0, n_devices, (512, 28))\n",
    "        n_vars = 1 if isinstance(sel_vars, Integral) else len(sel_vars) if isinstance(sel_vars, list) else sel_vars.stop - sel_vars.start\n",
    "        n_steps = o.shape[-1] if sel_steps is None else 1 if isinstance(sel_steps, Integral) else \\\n",
    "            len(sel_steps) if isinstance(sel_steps, list) else sel_steps.stop - sel_steps.start\n",
    "        p = torch.rand(n_devices, n_vars, n_steps) * .5 + .5\n",
    "        output = TSDropFeatByKey(key_var, p, sel_vars, sel_steps)(o)\n",
    "        assert torch.isnan(output).sum((0, 2))[sel_vars].sum() > 0\n",
    "        assert torch.isnan(output).sum((0, 2))[~np.array(np.arange(o.shape[1])[sel_vars])].sum() == 0"
   ]
  },
  {
   "cell_type": "code",
   "execution_count": null,
   "metadata": {},
   "outputs": [],
   "source": [
    "#|export\n",
    "class TSClipOutliers(Transform):\n",
    "    \"Clip outliers batch of type `TSTensor` based on the IQR\"\n",
    "    parameters, order = L('min', 'max'), 90\n",
    "    _setup = True # indicates it requires set up\n",
    "    def __init__(self, min=None, max=None, by_sample=False, by_var=False, use_single_batch=False, verbose=False, **kwargs):\n",
    "        super().__init__(**kwargs)\n",
    "        self.min = tensor(min) if min is not None else tensor(-np.inf)\n",
    "        self.max = tensor(max) if max is not None else tensor(np.inf)\n",
    "        self.by_sample, self.by_var = by_sample, by_var\n",
    "        self._setup = (min is None or max is None) and not by_sample \n",
    "        if by_sample and by_var: self.axis = (2)\n",
    "        elif by_sample: self.axis = (1, 2)\n",
    "        elif by_var: self.axis = (0, 2)\n",
    "        else: self.axis = None\n",
    "        self.use_single_batch = use_single_batch\n",
    "        self.verbose = verbose\n",
    "        if min is not None or max is not None:\n",
    "            pv(f'{self.__class__.__name__} min={min}, max={max}\\n', self.verbose)\n",
    "\n",
    "    def setups(self, dl: DataLoader):\n",
    "        if self._setup:\n",
    "            if not self.use_single_batch:\n",
    "                o = dl.dataset.__getitem__([slice(None)])[0]\n",
    "            else:\n",
    "                o, *_ = dl.one_batch()\n",
    "            min, max = get_outliers_IQR(o, self.axis)\n",
    "            self.min, self.max = tensor(min), tensor(max)\n",
    "            if self.axis is None: pv(f'{self.__class__.__name__} min={self.min}, max={self.max}, by_sample={self.by_sample}, by_var={self.by_var}\\n', \n",
    "                                     self.verbose)\n",
    "            else: pv(f'{self.__class__.__name__} min={self.min.shape}, max={self.max.shape}, by_sample={self.by_sample}, by_var={self.by_var}\\n', \n",
    "                     self.verbose)\n",
    "            self._setup = False\n",
    "            \n",
    "    def encodes(self, o:TSTensor):\n",
    "        if self.axis is None: return torch.clamp(o, self.min, self.max)\n",
    "        elif self.by_sample: \n",
    "            min, max = get_outliers_IQR(o, axis=self.axis)\n",
    "            self.min, self.max = o.new(min), o.new(max)\n",
    "        return torch_clamp(o, self.min, self.max)\n",
    "    \n",
    "    def __repr__(self): return f'{self.__class__.__name__}(by_sample={self.by_sample}, by_var={self.by_var})'"
   ]
  },
  {
   "cell_type": "code",
   "execution_count": null,
   "metadata": {},
   "outputs": [
    {
     "name": "stdout",
     "output_type": "stream",
     "text": [
      "TSClipOutliers min=-1, max=1\n",
      "\n"
     ]
    }
   ],
   "source": [
    "batch_tfms=[TSClipOutliers(-1, 1, verbose=True)]\n",
    "dls = TSDataLoaders.from_dsets(dsets.train, dsets.valid, bs=128, num_workers=0, after_batch=batch_tfms)\n",
    "xb, yb = next(iter(dls.train))\n",
    "assert xb.max() <= 1\n",
    "assert xb.min() >= -1\n",
    "test_close(xb.min(), -1, eps=1e-1)\n",
    "test_close(xb.max(), 1, eps=1e-1)\n",
    "xb, yb = next(iter(dls.valid))\n",
    "test_close(xb.min(), -1, eps=1e-1)\n",
    "test_close(xb.max(), 1, eps=1e-1)"
   ]
  },
  {
   "cell_type": "code",
   "execution_count": null,
   "metadata": {},
   "outputs": [],
   "source": [
    "#|export\n",
    "class TSClip(Transform):\n",
    "    \"Clip  batch of type `TSTensor`\"\n",
    "    parameters, order = L('min', 'max'), 90\n",
    "    def __init__(self, min=-6, max=6, **kwargs):\n",
    "        super().__init__(**kwargs)\n",
    "        self.min = torch.tensor(min)\n",
    "        self.max = torch.tensor(max)\n",
    "\n",
    "    def encodes(self, o:TSTensor):\n",
    "        return torch.clamp(o, self.min, self.max)\n",
    "    def __repr__(self): return f'{self.__class__.__name__}(min={self.min}, max={self.max})'"
   ]
  },
  {
   "cell_type": "code",
   "execution_count": null,
   "metadata": {},
   "outputs": [],
   "source": [
    "t = TSTensor(torch.randn(10, 20, 100)*10)\n",
    "test_le(TSClip()(t).max().item(), 6)\n",
    "test_ge(TSClip()(t).min().item(), -6)"
   ]
  },
  {
   "cell_type": "code",
   "execution_count": null,
   "metadata": {},
   "outputs": [],
   "source": [
    "#|export\n",
    "class TSSelfMissingness(Transform):\n",
    "    \"Applies missingness from samples in a batch to random samples in the batch for selected variables\"\n",
    "    order = 90\n",
    "    def __init__(self, sel_vars=None, **kwargs):\n",
    "        self.sel_vars = sel_vars\n",
    "        super().__init__(**kwargs)\n",
    "\n",
    "    def encodes(self, o:TSTensor):\n",
    "        if self.sel_vars is not None: \n",
    "            mask = rotate_axis0(torch.isnan(o[:, self.sel_vars]))\n",
    "            o[:, self.sel_vars] = o[:, self.sel_vars].masked_fill(mask, np.nan)\n",
    "        else:\n",
    "            mask = rotate_axis0(torch.isnan(o))\n",
    "            o.masked_fill_(mask, np.nan)\n",
    "        return o"
   ]
  },
  {
   "cell_type": "code",
   "execution_count": null,
   "metadata": {},
   "outputs": [],
   "source": [
    "t = TSTensor(torch.randn(10, 20, 100))\n",
    "t[t>.8] = np.nan\n",
    "t2 = TSSelfMissingness()(t.clone())\n",
    "t3 = TSSelfMissingness(sel_vars=[0,3,5,7])(t.clone())\n",
    "assert (torch.isnan(t).sum() < torch.isnan(t2).sum()) and (torch.isnan(t2).sum() >  torch.isnan(t3).sum())"
   ]
  },
  {
   "cell_type": "code",
   "execution_count": null,
   "metadata": {},
   "outputs": [],
   "source": [
    "#|export\n",
    "class TSRobustScale(Transform):\n",
    "    r\"\"\"This Scaler removes the median and scales the data according to the quantile range (defaults to IQR: Interquartile Range)\"\"\"\n",
    "    parameters, order = L('median', 'iqr'), 90\n",
    "    _setup = True # indicates it requires set up\n",
    "    def __init__(self, median=None, iqr=None, quantile_range=(25.0, 75.0), use_single_batch=True, exc_vars=None, eps=1e-8, verbose=False, **kwargs):\n",
    "        super().__init__(**kwargs)\n",
    "        self.median = tensor(median) if median is not None else None\n",
    "        self.iqr = tensor(iqr) if iqr is not None else None\n",
    "        self._setup = median is None or iqr is None\n",
    "        self.use_single_batch = use_single_batch\n",
    "        self.exc_vars = exc_vars\n",
    "        self.eps = eps\n",
    "        self.verbose = verbose\n",
    "        self.quantile_range = quantile_range\n",
    "            \n",
    "    def setups(self, dl: DataLoader):\n",
    "        if self._setup:\n",
    "            if not self.use_single_batch:\n",
    "                o = dl.dataset.__getitem__([slice(None)])[0]\n",
    "            else:\n",
    "                o, *_ = dl.one_batch()\n",
    "\n",
    "            new_o = o.permute(1,0,2).flatten(1)\n",
    "            median = get_percentile(new_o, 50, axis=1)\n",
    "            iqrmin, iqrmax = get_outliers_IQR(new_o, axis=1, quantile_range=self.quantile_range)\n",
    "            self.median = median.unsqueeze(0)\n",
    "            self.iqr = torch.clamp_min((iqrmax - iqrmin).unsqueeze(0), self.eps)\n",
    "            if self.exc_vars is not None: \n",
    "                self.median[:, self.exc_vars] = 0\n",
    "                self.iqr[:, self.exc_vars] = 1\n",
    "            \n",
    "            pv(f'{self.__class__.__name__} median={self.median.shape} iqr={self.iqr.shape}', self.verbose)\n",
    "            self._setup = False\n",
    "        else: \n",
    "            if self.median is None: self.median = torch.zeros(1, device=dl.device)\n",
    "            if self.iqr is None: self.iqr = torch.ones(1, device=dl.device)\n",
    "\n",
    "            \n",
    "    def encodes(self, o:TSTensor):\n",
    "        return (o - self.median) / self.iqr\n",
    "\n",
    "    def __repr__(self): return f'{self.__class__.__name__}(quantile_range={self.quantile_range}, use_single_batch={self.use_single_batch})'"
   ]
  },
  {
   "cell_type": "code",
   "execution_count": null,
   "metadata": {},
   "outputs": [
    {
     "name": "stdout",
     "output_type": "stream",
     "text": [
      "TSRobustScale median=torch.Size([1, 24, 1]) iqr=torch.Size([1, 24, 1])\n"
     ]
    },
    {
     "data": {
      "text/plain": [
       "TSTensor([-2.3502116203308105], device=cpu, dtype=torch.float32)"
      ]
     },
     "execution_count": null,
     "metadata": {},
     "output_type": "execute_result"
    }
   ],
   "source": [
    "batch_tfms = TSRobustScale(verbose=True, use_single_batch=False)\n",
    "dls = TSDataLoaders.from_dsets(dsets.train, dsets.valid, batch_tfms=batch_tfms, num_workers=0)\n",
    "xb, yb = next(iter(dls.train))\n",
    "xb.min()"
   ]
  },
  {
   "cell_type": "code",
   "execution_count": null,
   "metadata": {},
   "outputs": [
    {
     "name": "stdout",
     "output_type": "stream",
     "text": [
      "tensor([ 0.0000, -1.7305,  0.0000,  0.7365, -1.2736, -0.5528,  0.0000, -0.7074,\n",
      "         0.0000,  0.7087, -0.7014, -0.1120,  0.0000, -1.3332, -0.5958,  0.7563,\n",
      "        -1.0129, -0.3985, -0.5186, -1.5125, -0.7353,  0.7326, -1.1495, -0.5359])\n",
      "tensor([1.0000, 4.2788, 1.0000, 4.8008, 8.0682, 2.2777, 1.0000, 0.6955, 1.0000,\n",
      "        1.4875, 2.6386, 1.4756, 1.0000, 2.9811, 1.2507, 3.2291, 5.9906, 1.9098,\n",
      "        1.3428, 3.6368, 1.3689, 4.4213, 6.9907, 2.1939])\n"
     ]
    }
   ],
   "source": [
    "exc_vars = [0, 2, 6, 8, 12]\n",
    "batch_tfms = TSRobustScale(use_single_batch=False, exc_vars=exc_vars)\n",
    "dls = TSDataLoaders.from_dsets(dsets.train, dsets.valid, batch_tfms=batch_tfms, num_workers=0)\n",
    "xb, yb = next(iter(dls.train))\n",
    "test_eq(len(dls.train.after_batch.fs[0].median.flatten()), 24)\n",
    "test_eq(len(dls.train.after_batch.fs[0].iqr.flatten()), 24)\n",
    "test_eq(dls.train.after_batch.fs[0].median.flatten()[exc_vars], torch.zeros(len(exc_vars)))\n",
    "test_eq(dls.train.after_batch.fs[0].iqr.flatten()[exc_vars], torch.ones(len(exc_vars)))\n",
    "print(dls.train.after_batch.fs[0].median.flatten().data)\n",
    "print(dls.train.after_batch.fs[0].iqr.flatten().data)"
   ]
  },
  {
   "cell_type": "code",
   "execution_count": null,
   "metadata": {},
   "outputs": [],
   "source": [
    "#|export\n",
    "def get_stats_with_uncertainty(o, sel_vars=None, sel_vars_zero_mean_unit_var=False, bs=64, n_trials=None, axis=(0,2)):\n",
    "    o_dtype = o.dtype\n",
    "    if n_trials is None: n_trials = len(o) // bs\n",
    "    random_idxs = np.random.choice(len(o), n_trials * bs, n_trials * bs > len(o))\n",
    "    oi_mean = []\n",
    "    oi_std = []\n",
    "    start = 0\n",
    "    for i in progress_bar(range(n_trials)):\n",
    "        idxs = random_idxs[start:start + bs]\n",
    "        start += bs\n",
    "        if hasattr(o, 'oindex'):\n",
    "            oi = o.index[idxs]\n",
    "        if hasattr(o, 'compute'):\n",
    "            oi = o[idxs].compute()\n",
    "        else:\n",
    "            oi = o[idxs]\n",
    "        oi_mean.append(np.nanmean(oi.astype('float32'), axis=axis, keepdims=True))\n",
    "        oi_std.append(np.nanstd(oi.astype('float32'), axis=axis, keepdims=True))\n",
    "    oi_mean = np.concatenate(oi_mean)\n",
    "    oi_std = np.concatenate(oi_std)\n",
    "    E_mean = np.nanmean(oi_mean, axis=0, keepdims=True).astype(o_dtype)\n",
    "    S_mean = np.nanstd(oi_mean, axis=0, keepdims=True).astype(o_dtype)\n",
    "    E_std = np.nanmean(oi_std, axis=0, keepdims=True).astype(o_dtype)\n",
    "    S_std = np.nanstd(oi_std, axis=0, keepdims=True).astype(o_dtype)\n",
    "    if sel_vars is not None:\n",
    "        non_sel_vars = np.isin(np.arange(o.shape[1]), sel_vars, invert=True)\n",
    "        if sel_vars_zero_mean_unit_var:\n",
    "            E_mean[:, non_sel_vars] = 0 # zero mean\n",
    "            E_std[:, non_sel_vars] = 1  # unit var\n",
    "        S_mean[:, non_sel_vars] = 0 # no uncertainty\n",
    "        S_std[:, non_sel_vars] = 0  # no uncertainty\n",
    "    return np.stack([E_mean, S_mean, E_std, S_std])\n",
    "\n",
    "\n",
    "def get_random_stats(E_mean, S_mean, E_std, S_std):\n",
    "    mult = np.random.normal(0, 1, 2)\n",
    "    new_mean = E_mean + S_mean * mult[0]\n",
    "    new_std = E_std + S_std * mult[1]\n",
    "    return new_mean, new_std\n",
    "\n",
    "\n",
    "class TSGaussianStandardize(Transform):\n",
    "    \"Scales each batch using modeled mean and std based on UNCERTAINTY MODELING FOR OUT-OF-DISTRIBUTION GENERALIZATION https://arxiv.org/abs/2202.03958\"\n",
    "\n",
    "    parameters, order = L('E_mean', 'S_mean', 'E_std', 'S_std'), 90\n",
    "    def __init__(self, \n",
    "        E_mean : np.ndarray, # Mean expected value\n",
    "        S_mean : np.ndarray, # Uncertainty (standard deviation) of the mean\n",
    "        E_std : np.ndarray,  # Standard deviation expected value\n",
    "        S_std : np.ndarray,  # Uncertainty (standard deviation) of the standard deviation\n",
    "        eps=1e-8, # (epsilon) small amount added to standard deviation to avoid deviding by zero\n",
    "        split_idx=0, # Flag to indicate to which set is this transofrm applied. 0: training, 1:validation, None:both\n",
    "        **kwargs,\n",
    "        ):\n",
    "        self.E_mean, self.S_mean = torch.from_numpy(E_mean), torch.from_numpy(S_mean)\n",
    "        self.E_std, self.S_std = torch.from_numpy(E_std), torch.from_numpy(S_std)\n",
    "        self.eps = eps\n",
    "        super().__init__(split_idx=split_idx, **kwargs)\n",
    "        \n",
    "    def encodes(self, o:TSTensor):\n",
    "        mult = torch.normal(0, 1, (2,), device=o.device)\n",
    "        new_mean = self.E_mean + self.S_mean * mult[0]\n",
    "        new_std = torch.clamp(self.E_std + self.S_std * mult[1], self.eps)\n",
    "        return (o - new_mean) / new_std\n",
    "    \n",
    "TSRandomStandardize = TSGaussianStandardize"
   ]
  },
  {
   "cell_type": "code",
   "execution_count": null,
   "metadata": {},
   "outputs": [
    {
     "data": {
      "text/html": [
       "\n",
       "<style>\n",
       "    /* Turns off some styling */\n",
       "    progress {\n",
       "        /* gets rid of default border in Firefox and Opera. */\n",
       "        border: none;\n",
       "        /* Needs to be in here for Safari polyfill so background images work as expected. */\n",
       "        background-size: auto;\n",
       "    }\n",
       "    progress:not([value]), progress:not([value])::-webkit-progress-bar {\n",
       "        background: repeating-linear-gradient(45deg, #7e7e7e, #7e7e7e 10px, #5c5c5c 10px, #5c5c5c 20px);\n",
       "    }\n",
       "    .progress-bar-interrupted, .progress-bar-interrupted::-webkit-progress-bar {\n",
       "        background: #F44336;\n",
       "    }\n",
       "</style>\n"
      ],
      "text/plain": [
       "<IPython.core.display.HTML object>"
      ]
     },
     "metadata": {},
     "output_type": "display_data"
    },
    {
     "data": {
      "text/html": [
       "\n",
       "    <div>\n",
       "      <progress value='15' class='' max='15' style='width:300px; height:20px; vertical-align: middle;'></progress>\n",
       "      100.00% [15/15 00:00&lt;00:00]\n",
       "    </div>\n",
       "    "
      ],
      "text/plain": [
       "<IPython.core.display.HTML object>"
      ]
     },
     "metadata": {},
     "output_type": "display_data"
    },
    {
     "data": {
      "text/plain": [
       "(array([[[0.50218356],\n",
       "         [0.50377834]]]),\n",
       " array([[[0.28790575],\n",
       "         [0.28940667]]]))"
      ]
     },
     "execution_count": null,
     "metadata": {},
     "output_type": "execute_result"
    }
   ],
   "source": [
    "arr = np.random.rand(1000, 2, 50)\n",
    "E_mean, S_mean, E_std, S_std = get_stats_with_uncertainty(arr, sel_vars=None, bs=64, n_trials=None, axis=(0,2))\n",
    "new_mean, new_std = get_random_stats(E_mean, S_mean, E_std, S_std)\n",
    "new_mean2, new_std2 = get_random_stats(E_mean, S_mean, E_std, S_std)\n",
    "test_ne(new_mean, new_mean2)\n",
    "test_ne(new_std, new_std2)\n",
    "test_eq(new_mean.shape, (1, 2, 1))\n",
    "test_eq(new_std.shape, (1, 2, 1))\n",
    "new_mean, new_std"
   ]
  },
  {
   "cell_type": "markdown",
   "metadata": {},
   "source": [
    "TSGaussianStandardize can be used jointly with TSStandardized in the following way: \n",
    "\n",
    "```python\n",
    "X, y, splits = get_UCR_data('LSST', split_data=False)\n",
    "tfms = [None, TSClassification()]\n",
    "E_mean, S_mean, E_std, S_std = get_stats_with_uncertainty(X, sel_vars=None, bs=64, n_trials=None, axis=(0,2))\n",
    "batch_tfms = [TSGaussianStandardize(E_mean, S_mean, E_std, S_std, split_idx=0), TSStandardize(E_mean, S_mean, split_idx=1)]\n",
    "dls = get_ts_dls(X, y, splits=splits, tfms=tfms, batch_tfms=batch_tfms, bs=[32, 64])\n",
    "learn = ts_learner(dls, InceptionTimePlus, metrics=accuracy, cbs=[ShowGraph()])\n",
    "learn.fit_one_cycle(1, 1e-2)\n",
    "```\n",
    "In this way the train batches are scaled based on mean and standard deviation distributions while the valid batches are scaled with a fixed mean and standard deviation values.\n",
    "\n",
    "The intent is to improve out-of-distribution performance. This method is inspired by UNCERTAINTY MODELING FOR OUT-OF-DISTRIBUTION GENERALIZATION https://arxiv.org/abs/2202.03958."
   ]
  },
  {
   "cell_type": "code",
   "execution_count": null,
   "metadata": {},
   "outputs": [],
   "source": [
    "#|export\n",
    "class TSDiff(Transform):\n",
    "    \"Differences batch of type `TSTensor`\"\n",
    "    order = 90\n",
    "    def __init__(self, lag=1, pad=True, **kwargs):\n",
    "        super().__init__(**kwargs)\n",
    "        self.lag, self.pad = lag, pad\n",
    "\n",
    "    def encodes(self, o:TSTensor): \n",
    "        return torch_diff(o, lag=self.lag, pad=self.pad)\n",
    "    \n",
    "    def __repr__(self): return f'{self.__class__.__name__}(lag={self.lag}, pad={self.pad})'"
   ]
  },
  {
   "cell_type": "code",
   "execution_count": null,
   "metadata": {},
   "outputs": [],
   "source": [
    "t = TSTensor(torch.arange(24).reshape(2,3,4))\n",
    "test_eq(TSDiff()(t)[..., 1:].float().mean(), 1)\n",
    "test_eq(TSDiff(lag=2, pad=False)(t).float().mean(), 2)"
   ]
  },
  {
   "cell_type": "code",
   "execution_count": null,
   "metadata": {},
   "outputs": [],
   "source": [
    "#|export\n",
    "class TSLog(Transform):\n",
    "    \"Log transforms batch of type `TSTensor` + 1. Accepts positive and negative numbers\"\n",
    "    order = 90\n",
    "    def __init__(self, ex=None, **kwargs):\n",
    "        self.ex = ex\n",
    "        super().__init__(**kwargs)\n",
    "    def encodes(self, o:TSTensor):\n",
    "        output = torch.zeros_like(o)\n",
    "        output[o > 0] = torch.log1p(o[o > 0])\n",
    "        output[o < 0] = -torch.log1p(torch.abs(o[o < 0]))\n",
    "        if self.ex is not None: output[...,self.ex,:] = o[...,self.ex,:]\n",
    "        return output\n",
    "    def decodes(self, o:TSTensor):\n",
    "        output = torch.zeros_like(o)\n",
    "        output[o > 0] = torch.exp(o[o > 0]) - 1\n",
    "        output[o < 0] = -torch.exp(torch.abs(o[o < 0])) + 1\n",
    "        if self.ex is not None: output[...,self.ex,:] = o[...,self.ex,:]\n",
    "        return output\n",
    "    def __repr__(self): return f'{self.__class__.__name__}()'"
   ]
  },
  {
   "cell_type": "code",
   "execution_count": null,
   "metadata": {},
   "outputs": [],
   "source": [
    "t = TSTensor(torch.rand(2,3,4)) * 2 - 1 \n",
    "tfm = TSLog()\n",
    "enc_t = tfm(t)\n",
    "test_ne(enc_t, t)\n",
    "test_close(tfm.decodes(enc_t).data, t.data)"
   ]
  },
  {
   "cell_type": "code",
   "execution_count": null,
   "metadata": {},
   "outputs": [],
   "source": [
    "#|export\n",
    "class TSCyclicalPosition(Transform):\n",
    "    \"Concatenates the position along the sequence as 2 additional variables (sine and cosine)\"\n",
    "    order = 90\n",
    "    def __init__(self, \n",
    "        cyclical_var=None, # Optional variable to indicate the steps withing the cycle (ie minute of the day)\n",
    "        magnitude=None, # Added for compatibility. It's not used.\n",
    "        drop_var=False, # Flag to indicate if the cyclical var is removed\n",
    "        **kwargs\n",
    "        ):\n",
    "        super().__init__(**kwargs)\n",
    "        self.cyclical_var, self.drop_var = cyclical_var, drop_var\n",
    "\n",
    "    def encodes(self, o: TSTensor):\n",
    "        bs,nvars,seq_len = o.shape\n",
    "        if self.cyclical_var is None:\n",
    "            sin, cos = sincos_encoding(seq_len, device=o.device)\n",
    "            output = torch.cat([o, sin.reshape(1,1,-1).repeat(bs,1,1), cos.reshape(1,1,-1).repeat(bs,1,1)], 1)\n",
    "            return output\n",
    "        else:\n",
    "            sin = torch.sin(o[:, [self.cyclical_var]]/seq_len * 2 * np.pi)\n",
    "            cos = torch.cos(o[:, [self.cyclical_var]]/seq_len * 2 * np.pi)\n",
    "            if self.drop_var:\n",
    "                exc_vars = np.isin(np.arange(nvars), self.cyclical_var, invert=True)\n",
    "                output = torch.cat([o[:, exc_vars], sin, cos], 1)\n",
    "            else:\n",
    "                output = torch.cat([o, sin, cos], 1)\n",
    "            return output"
   ]
  },
  {
   "cell_type": "code",
   "execution_count": null,
   "metadata": {},
   "outputs": [
    {
     "data": {
      "image/png": "[encoded data removed]",
      "text/plain": [
       "<Figure size 640x480 with 1 Axes>"
      ]
     },
     "metadata": {},
     "output_type": "display_data"
    }
   ],
   "source": [
    "bs, c_in, seq_len = 1,3,100\n",
    "t = TSTensor(torch.rand(bs, c_in, seq_len))\n",
    "enc_t = TSCyclicalPosition()(t)\n",
    "test_ne(enc_t, t)\n",
    "assert t.shape[1] == enc_t.shape[1] - 2\n",
    "plt.plot(enc_t[0, -2:].cpu().numpy().T)\n",
    "plt.show()"
   ]
  },
  {
   "cell_type": "code",
   "execution_count": null,
   "metadata": {},
   "outputs": [
    {
     "data": {
      "image/png": "[encoded data removed]",
      "text/plain": [
       "<Figure size 640x480 with 1 Axes>"
      ]
     },
     "metadata": {},
     "output_type": "display_data"
    }
   ],
   "source": [
    "bs, c_in, seq_len = 1,3,100\n",
    "t1 = torch.rand(bs, c_in, seq_len)\n",
    "t2 = torch.arange(seq_len)\n",
    "t2 = torch.cat([t2[35:], t2[:35]]).reshape(1, 1, -1)\n",
    "t = TSTensor(torch.cat([t1, t2], 1))\n",
    "mask = torch.rand_like(t) > .8\n",
    "t[mask] = np.nan\n",
    "enc_t = TSCyclicalPosition(3)(t)\n",
    "test_ne(enc_t, t)\n",
    "assert t.shape[1] == enc_t.shape[1] - 2\n",
    "plt.plot(enc_t[0, -2:].cpu().numpy().T)\n",
    "plt.show()"
   ]
  },
  {
   "cell_type": "code",
   "execution_count": null,
   "metadata": {},
   "outputs": [],
   "source": [
    "#|export\n",
    "class TSLinearPosition(Transform):\n",
    "    \"Concatenates the position along the sequence as 1 additional variable\"\n",
    "\n",
    "    order = 90\n",
    "    def __init__(self, \n",
    "        linear_var:int=None, # Optional variable to indicate the steps withing the cycle (ie minute of the day)\n",
    "        var_range:tuple=None, # Optional range indicating min and max values of the linear variable\n",
    "        magnitude=None, # Added for compatibility. It's not used.\n",
    "        drop_var:bool=False, # Flag to indicate if the cyclical var is removed\n",
    "        lin_range:tuple=(-1,1), \n",
    "        **kwargs): \n",
    "        self.linear_var, self.var_range, self.drop_var, self.lin_range = linear_var, var_range, drop_var, lin_range\n",
    "        super().__init__(**kwargs)\n",
    "\n",
    "    def encodes(self, o: TSTensor): \n",
    "        bs,nvars,seq_len = o.shape\n",
    "        if self.linear_var is None:\n",
    "            lin = linear_encoding(seq_len, device=o.device, lin_range=self.lin_range)\n",
    "            output = torch.cat([o, lin.reshape(1,1,-1).repeat(bs,1,1)], 1)\n",
    "        else:\n",
    "            linear_var = o[:, [self.linear_var]]\n",
    "            if self.var_range is None:\n",
    "                lin = (linear_var - linear_var.min()) / (linear_var.max() - linear_var.min())\n",
    "            else:\n",
    "                lin = (linear_var - self.var_range[0]) / (self.var_range[1] - self.var_range[0])\n",
    "            lin = (linear_var - self.lin_range[0]) / (self.lin_range[1] - self.lin_range[0])\n",
    "            if self.drop_var:\n",
    "                exc_vars = np.isin(np.arange(nvars), self.linear_var, invert=True)\n",
    "                output = torch.cat([o[:, exc_vars], lin], 1)\n",
    "            else:\n",
    "                output = torch.cat([o, lin], 1)\n",
    "            return output\n",
    "        return output"
   ]
  },
  {
   "cell_type": "code",
   "execution_count": null,
   "metadata": {},
   "outputs": [
    {
     "data": {
      "image/png": "[encoded data removed]",
      "text/plain": [
       "<Figure size 640x480 with 1 Axes>"
      ]
     },
     "metadata": {},
     "output_type": "display_data"
    }
   ],
   "source": [
    "bs, c_in, seq_len = 1,3,100\n",
    "t = TSTensor(torch.rand(bs, c_in, seq_len))\n",
    "enc_t = TSLinearPosition()(t)\n",
    "test_ne(enc_t, t)\n",
    "assert t.shape[1] == enc_t.shape[1] - 1\n",
    "plt.plot(enc_t[0, -1].cpu().numpy().T)\n",
    "plt.show()"
   ]
  },
  {
   "cell_type": "code",
   "execution_count": null,
   "metadata": {},
   "outputs": [
    {
     "data": {
      "image/png": "[encoded data removed]",
      "text/plain": [
       "<Figure size 640x480 with 1 Axes>"
      ]
     },
     "metadata": {},
     "output_type": "display_data"
    }
   ],
   "source": [
    "t = torch.arange(100)\n",
    "t1 = torch.cat([t[30:], t[:30]]).reshape(1, 1, -1)\n",
    "t2 = torch.cat([t[52:], t[:52]]).reshape(1, 1, -1)\n",
    "t = torch.cat([t1, t2]).float()\n",
    "mask = torch.rand_like(t) > .8\n",
    "t[mask] = np.nan\n",
    "t = TSTensor(t)\n",
    "enc_t = TSLinearPosition(linear_var=0, var_range=(0, 100), drop_var=True)(t)\n",
    "test_ne(enc_t, t)\n",
    "assert t.shape[1] == enc_t.shape[1]\n",
    "plt.plot(enc_t[0, -1].cpu().numpy().T)\n",
    "plt.show()"
   ]
  },
  {
   "cell_type": "code",
   "execution_count": null,
   "metadata": {},
   "outputs": [],
   "source": [
    "#|export\n",
    "class TSMissingness(Transform):\n",
    "    \"Concatenates data missingness for selected features along the sequence as additional variables\"\n",
    "\n",
    "    order = 90\n",
    "    def __init__(self, sel_vars=None, feature_idxs=None, magnitude=None, **kwargs):\n",
    "        sel_vars = sel_vars or feature_idxs\n",
    "        self.sel_vars = listify(sel_vars)\n",
    "        super().__init__(**kwargs)\n",
    "\n",
    "    def encodes(self, o: TSTensor):\n",
    "        if self.sel_vars is not None:\n",
    "            missingness = o[:, self.sel_vars].isnan()\n",
    "        else:\n",
    "            missingness = o.isnan()\n",
    "        return torch.cat([o, missingness], 1)"
   ]
  },
  {
   "cell_type": "code",
   "execution_count": null,
   "metadata": {},
   "outputs": [],
   "source": [
    "bs, c_in, seq_len = 1,3,100\n",
    "t = TSTensor(torch.rand(bs, c_in, seq_len))\n",
    "t[t>.5] = np.nan\n",
    "enc_t = TSMissingness(sel_vars=[0,2])(t)\n",
    "test_eq(enc_t.shape[1], 5)\n",
    "test_eq(enc_t[:, 3:], torch.isnan(t[:, [0,2]]).float())"
   ]
  },
  {
   "cell_type": "code",
   "execution_count": null,
   "metadata": {},
   "outputs": [],
   "source": [
    "#|export\n",
    "class TSPositionGaps(Transform):\n",
    "    \"\"\"Concatenates gaps for selected features along the sequence as additional variables\"\"\"\n",
    "\n",
    "    order = 90\n",
    "    def __init__(self, sel_vars=None, feature_idxs=None, magnitude=None, forward=True, backward=False, \n",
    "                 nearest=False, normalize=True, **kwargs):\n",
    "        sel_vars = sel_vars or feature_idxs\n",
    "        self.sel_vars = listify(sel_vars)\n",
    "        self.gap_fn = partial(get_gaps, forward=forward, backward=backward, nearest=nearest, normalize=normalize)\n",
    "        super().__init__(**kwargs)\n",
    "\n",
    "    def encodes(self, o: TSTensor):\n",
    "        if self.sel_vars:\n",
    "            gaps = self.gap_fn(o[:, self.sel_vars])\n",
    "        else:\n",
    "            gaps = self.gap_fn(o)\n",
    "        return torch.cat([o, gaps], 1)"
   ]
  },
  {
   "cell_type": "code",
   "execution_count": null,
   "metadata": {},
   "outputs": [
    {
     "data": {
      "text/plain": [
       "tensor([[[   nan,    nan,    nan,    nan, 0.1002,    nan, 0.0067,    nan],\n",
       "         [   nan, 0.1946, 0.2883, 0.3187, 0.4339,    nan, 0.4647, 0.3606],\n",
       "         [0.3654, 0.1780, 0.1146, 0.2576,    nan,    nan,    nan,    nan],\n",
       "         [1.0000, 2.0000, 3.0000, 4.0000, 5.0000, 1.0000, 2.0000, 1.0000],\n",
       "         [1.0000, 1.0000, 1.0000, 1.0000, 1.0000, 2.0000, 3.0000, 4.0000],\n",
       "         [4.0000, 3.0000, 2.0000, 1.0000, 2.0000, 1.0000, 2.0000, 1.0000],\n",
       "         [1.0000, 1.0000, 1.0000, 5.0000, 4.0000, 3.0000, 2.0000, 1.0000],\n",
       "         [1.0000, 2.0000, 2.0000, 1.0000, 2.0000, 1.0000, 2.0000, 1.0000],\n",
       "         [1.0000, 1.0000, 1.0000, 1.0000, 1.0000, 2.0000, 2.0000, 1.0000]]])"
      ]
     },
     "execution_count": null,
     "metadata": {},
     "output_type": "execute_result"
    }
   ],
   "source": [
    "bs, c_in, seq_len = 1,3,8\n",
    "t = TSTensor(torch.rand(bs, c_in, seq_len))\n",
    "t[t>.5] = np.nan\n",
    "enc_t = TSPositionGaps(sel_vars=[0,2], forward=True, backward=True, nearest=True, normalize=False)(t)\n",
    "test_eq(enc_t.shape[1], 9)\n",
    "enc_t.data"
   ]
  },
  {
   "cell_type": "code",
   "execution_count": null,
   "metadata": {},
   "outputs": [],
   "source": [
    "#|export\n",
    "class TSRollingMean(Transform):\n",
    "    \"\"\"Calculates the rolling mean for all/ selected features alongside the sequence\n",
    "    \n",
    "       It replaces the original values or adds additional variables (default)\n",
    "       If nan values are found, they will be filled forward and backward\"\"\"\n",
    "\n",
    "    order = 90\n",
    "    def __init__(self, sel_vars=None, feature_idxs=None, magnitude=None, window=2, replace=False, **kwargs):\n",
    "        sel_vars = sel_vars or feature_idxs\n",
    "        self.sel_vars = listify(sel_vars)\n",
    "        self.rolling_mean_fn = partial(rolling_moving_average, window=window)\n",
    "        self.replace = replace\n",
    "        super().__init__(**kwargs)\n",
    "\n",
    "    def encodes(self, o: TSTensor):\n",
    "        if self.sel_vars:\n",
    "            if torch.isnan(o[:, self.sel_vars]).any():\n",
    "                o[:, self.sel_vars] = fbfill_sequence(o[:, self.sel_vars])\n",
    "            rolling_mean = self.rolling_mean_fn(o[:, self.sel_vars])\n",
    "            if self.replace: \n",
    "                o[:, self.sel_vars] = rolling_mean\n",
    "                return o\n",
    "        else:\n",
    "            if torch.isnan(o).any():\n",
    "                o = fbfill_sequence(o)\n",
    "            rolling_mean = self.rolling_mean_fn(o)\n",
    "            if self.replace: return rolling_mean\n",
    "        return torch.cat([o, rolling_mean], 1)"
   ]
  },
  {
   "cell_type": "code",
   "execution_count": null,
   "metadata": {},
   "outputs": [
    {
     "name": "stdout",
     "output_type": "stream",
     "text": [
      "tensor([[[0.1395,    nan,    nan,    nan, 0.2549, 0.4154, 0.0995,    nan],\n",
      "         [   nan, 0.0991, 0.2952,    nan, 0.1058,    nan, 0.5181, 0.3817],\n",
      "         [0.4504, 0.2515, 0.0548,    nan,    nan,    nan,    nan, 0.5683]]])\n",
      "tensor([[[0.1395, 0.1395, 0.1395, 0.1395, 0.2549, 0.4154, 0.0995, 0.0995],\n",
      "         [   nan, 0.0991, 0.2952,    nan, 0.1058,    nan, 0.5181, 0.3817],\n",
      "         [0.4504, 0.2515, 0.0548, 0.0548, 0.0548, 0.0548, 0.0548, 0.5683],\n",
      "         [0.1395, 0.1395, 0.1395, 0.1395, 0.1780, 0.2699, 0.2566, 0.2048],\n",
      "         [0.4504, 0.3509, 0.2522, 0.1204, 0.0548, 0.0548, 0.0548, 0.2260]]])\n",
      "tensor([[[0.1395, 0.1395, 0.1395, 0.1395, 0.1780, 0.2699, 0.2566, 0.2048],\n",
      "         [0.0991, 0.0991, 0.1645, 0.2299, 0.2321, 0.1689, 0.2432, 0.3352],\n",
      "         [0.4504, 0.3509, 0.2522, 0.1204, 0.0548, 0.0548, 0.0548, 0.2260]]])\n"
     ]
    }
   ],
   "source": [
    "bs, c_in, seq_len = 1,3,8\n",
    "t = TSTensor(torch.rand(bs, c_in, seq_len))\n",
    "t[t > .6] = np.nan\n",
    "print(t.data)\n",
    "enc_t = TSRollingMean(sel_vars=[0,2], window=3)(t)\n",
    "test_eq(enc_t.shape[1], 5)\n",
    "print(enc_t.data)\n",
    "enc_t = TSRollingMean(window=3, replace=True)(t)\n",
    "test_eq(enc_t.shape[1], 3)\n",
    "print(enc_t.data)"
   ]
  },
  {
   "cell_type": "code",
   "execution_count": null,
   "metadata": {},
   "outputs": [],
   "source": [
    "#|export\n",
    "class TSLogReturn(Transform):\n",
    "    \"Calculates log-return of batch of type `TSTensor`. For positive values only\"\n",
    "    order = 90\n",
    "    def __init__(self, lag=1, pad=True, **kwargs):\n",
    "        super().__init__(**kwargs)\n",
    "        self.lag, self.pad = lag, pad\n",
    "\n",
    "    def encodes(self, o:TSTensor):\n",
    "        return torch_diff(torch.log(o), lag=self.lag, pad=self.pad)\n",
    "\n",
    "    def __repr__(self): return f'{self.__class__.__name__}(lag={self.lag}, pad={self.pad})'"
   ]
  },
  {
   "cell_type": "code",
   "execution_count": null,
   "metadata": {},
   "outputs": [],
   "source": [
    "t = TSTensor([1,2,4,8,16,32,64,128,256]).float()\n",
    "test_eq(TSLogReturn(pad=False)(t).std(), 0)"
   ]
  },
  {
   "cell_type": "code",
   "execution_count": null,
   "metadata": {},
   "outputs": [],
   "source": [
    "#|export\n",
    "class TSAdd(Transform):\n",
    "    \"Add a defined amount to each batch of type `TSTensor`.\"\n",
    "    order = 90\n",
    "    def __init__(self, add, **kwargs):\n",
    "        super().__init__(**kwargs)\n",
    "        self.add = add\n",
    "\n",
    "    def encodes(self, o:TSTensor):\n",
    "        return torch.add(o, self.add)\n",
    "    def __repr__(self): return f'{self.__class__.__name__}(lag={self.lag}, pad={self.pad})'"
   ]
  },
  {
   "cell_type": "code",
   "execution_count": null,
   "metadata": {},
   "outputs": [],
   "source": [
    "t = TSTensor([1,2,3]).float()\n",
    "test_eq(TSAdd(1)(t), TSTensor([2,3,4]).float())"
   ]
  },
  {
   "cell_type": "code",
   "execution_count": null,
   "metadata": {},
   "outputs": [],
   "source": [
    "#|export\n",
    "class TSClipByVar(Transform):\n",
    "    \"\"\"Clip  batch of type `TSTensor` by variable\n",
    "    \n",
    "    Args:\n",
    "        var_min_max: list of tuples containing variable index, min value (or None) and max value (or None)\n",
    "    \"\"\"\n",
    "    order = 90\n",
    "    def __init__(self, var_min_max, **kwargs):\n",
    "        super().__init__(**kwargs)\n",
    "        self.var_min_max = var_min_max\n",
    "\n",
    "    def encodes(self, o:TSTensor):\n",
    "        for v,m,M in self.var_min_max:\n",
    "            o[:, v] = torch.clamp(o[:, v], m, M)\n",
    "        return o"
   ]
  },
  {
   "cell_type": "code",
   "execution_count": null,
   "metadata": {},
   "outputs": [],
   "source": [
    "t = TSTensor(torch.rand(16, 3, 10) * tensor([1,10,100]).reshape(1,-1,1))\n",
    "max_values = t.max(0).values.max(-1).values.data\n",
    "max_values2 = TSClipByVar([(1,None,5), (2,10,50)])(t).max(0).values.max(-1).values.data\n",
    "test_le(max_values2[1], 5)\n",
    "test_ge(max_values2[2], 10)\n",
    "test_le(max_values2[2], 50)"
   ]
  },
  {
   "cell_type": "code",
   "execution_count": null,
   "metadata": {},
   "outputs": [],
   "source": [
    "#|export\n",
    "class TSDropVars(Transform):\n",
    "    \"Drops selected variable from the input\"\n",
    "    order = 90\n",
    "    def __init__(self, drop_vars, **kwargs):\n",
    "        super().__init__(**kwargs)\n",
    "        self.drop_vars = drop_vars\n",
    "\n",
    "    def encodes(self, o:TSTensor):\n",
    "        exc_vars = np.isin(np.arange(o.shape[1]), self.drop_vars, invert=True)\n",
    "        return o[:, exc_vars]"
   ]
  },
  {
   "cell_type": "code",
   "execution_count": null,
   "metadata": {},
   "outputs": [
    {
     "data": {
      "text/plain": [
       "tensor([[[ 0,  1,  2,  3],\n",
       "         [ 4,  5,  6,  7]],\n",
       "\n",
       "        [[12, 13, 14, 15],\n",
       "         [16, 17, 18, 19]]])"
      ]
     },
     "execution_count": null,
     "metadata": {},
     "output_type": "execute_result"
    }
   ],
   "source": [
    "t = TSTensor(torch.arange(24).reshape(2, 3, 4))\n",
    "enc_t = TSDropVars(2)(t)\n",
    "test_ne(t, enc_t)\n",
    "enc_t.data"
   ]
  },
  {
   "cell_type": "code",
   "execution_count": null,
   "metadata": {},
   "outputs": [],
   "source": [
    "#|export\n",
    "class TSOneHotEncode(Transform):\n",
    "    order = 90\n",
    "    def __init__(self,\n",
    "        sel_var:int, # Variable that is one-hot encoded\n",
    "        unique_labels:list, # List containing all labels (excluding nan values)\n",
    "        add_na:bool=False, # Flag to indicate if values not included in vocab should be set as 0\n",
    "        drop_var:bool=True, # Flag to indicate if the selected var is removed\n",
    "        magnitude=None, # Added for compatibility. It's not used.\n",
    "        **kwargs\n",
    "        ):\n",
    "        unique_labels = listify(unique_labels)\n",
    "        self.sel_var = sel_var\n",
    "        self.unique_labels = unique_labels\n",
    "        self.n_classes = len(unique_labels) + add_na\n",
    "        self.add_na = add_na\n",
    "        self.drop_var = drop_var\n",
    "        super().__init__(**kwargs)\n",
    "        \n",
    "    def encodes(self, o: TSTensor):\n",
    "        bs, n_vars, seq_len = o.shape\n",
    "        o_var = o[:, [self.sel_var]]\n",
    "        ohe_var = torch.zeros(bs, self.n_classes, seq_len, device=o.device)\n",
    "        if self.add_na:\n",
    "            is_na = torch.isin(o_var, o_var.new(list(self.unique_labels)), invert=True) # not available in dict\n",
    "            ohe_var[:, [0]] = is_na.to(ohe_var.dtype)\n",
    "        for i,l in enumerate(self.unique_labels):\n",
    "            ohe_var[:, [i + self.add_na]] = (o_var == l).to(ohe_var.dtype)\n",
    "        if self.drop_var:\n",
    "            exc_vars = torch.isin(torch.arange(o.shape[1], device=o.device), self.sel_var, invert=True)\n",
    "            output = torch.cat([o[:, exc_vars], ohe_var], 1)\n",
    "        else:\n",
    "            output = torch.cat([o, ohe_var], 1)\n",
    "        return output"
   ]
  },
  {
   "cell_type": "code",
   "execution_count": null,
   "metadata": {},
   "outputs": [
    {
     "data": {
      "text/plain": [
       "tensor([[[2, 0, 0, 2, 1]],\n",
       "\n",
       "        [[2, 0, 0, 1, 0]]])"
      ]
     },
     "execution_count": null,
     "metadata": {},
     "output_type": "execute_result"
    }
   ],
   "source": [
    "bs = 2\n",
    "seq_len = 5\n",
    "t_cont = torch.rand(bs, 1, seq_len)\n",
    "t_cat = torch.randint(0, 3, t_cont.shape)\n",
    "t = TSTensor(torch.cat([t_cat, t_cont], 1))\n",
    "t_cat"
   ]
  },
  {
   "cell_type": "code",
   "execution_count": null,
   "metadata": {},
   "outputs": [
    {
     "data": {
      "text/plain": [
       "tensor([[[0., 1., 1., 0., 0.],\n",
       "         [0., 0., 0., 0., 1.],\n",
       "         [1., 0., 0., 1., 0.]],\n",
       "\n",
       "        [[0., 1., 1., 0., 1.],\n",
       "         [0., 0., 0., 1., 0.],\n",
       "         [1., 0., 0., 0., 0.]]])"
      ]
     },
     "execution_count": null,
     "metadata": {},
     "output_type": "execute_result"
    }
   ],
   "source": [
    "tfm = TSOneHotEncode(0, [0, 1, 2])\n",
    "output = tfm(t)[:, -3:].data\n",
    "test_eq(t_cat, torch.argmax(tfm(t)[:, -3:], 1)[:, None])\n",
    "tfm(t)[:, -3:].data"
   ]
  },
  {
   "cell_type": "code",
   "execution_count": null,
   "metadata": {},
   "outputs": [
    {
     "data": {
      "text/plain": [
       "tensor([[[10.,  5., 11., nan, 12.]],\n",
       "\n",
       "        [[ 5., 12., 10., nan, 11.]]])"
      ]
     },
     "execution_count": null,
     "metadata": {},
     "output_type": "execute_result"
    }
   ],
   "source": [
    "bs = 2\n",
    "seq_len = 5\n",
    "t_cont = torch.rand(bs, 1, seq_len)\n",
    "t_cat = torch.tensor([[10.,  5., 11., np.nan, 12.], [ 5., 12., 10., np.nan, 11.]])[:, None]\n",
    "t = TSTensor(torch.cat([t_cat, t_cont], 1))\n",
    "t_cat"
   ]
  },
  {
   "cell_type": "code",
   "execution_count": null,
   "metadata": {},
   "outputs": [
    {
     "data": {
      "text/plain": [
       "tensor([[[1., 0., 0., 0., 0.],\n",
       "         [0., 0., 1., 0., 0.],\n",
       "         [0., 0., 0., 0., 1.]],\n",
       "\n",
       "        [[0., 0., 1., 0., 0.],\n",
       "         [0., 0., 0., 0., 1.],\n",
       "         [0., 1., 0., 0., 0.]]])"
      ]
     },
     "execution_count": null,
     "metadata": {},
     "output_type": "execute_result"
    }
   ],
   "source": [
    "tfm = TSOneHotEncode(0, [10, 11, 12], drop_var=False)\n",
    "mask = ~torch.isnan(t[:, 0])\n",
    "test_eq(tfm(t)[:, 0][mask], t[:, 0][mask])\n",
    "tfm(t)[:, -3:].data"
   ]
  },
  {
   "cell_type": "code",
   "execution_count": null,
   "metadata": {},
   "outputs": [],
   "source": [
    "t1 = torch.randint(3, 7, (2, 1, 10))\n",
    "t2 = torch.rand(2, 1, 10)\n",
    "t = TSTensor(torch.cat([t1, t2], 1))\n",
    "output = TSOneHotEncode(0, [3, 4, 5], add_na=True, drop_var=True)(t)\n",
    "test_eq((t1 > 5).float(), output.data[:, [1]])\n",
    "test_eq((t1 == 3).float(), output.data[:, [2]])\n",
    "test_eq((t1 == 4).float(), output.data[:, [3]])\n",
    "test_eq((t1 == 5).float(), output.data[:, [4]])\n",
    "test_eq(output.shape, (t.shape[0], 5, t.shape[-1]))"
   ]
  },
  {
   "cell_type": "code",
   "execution_count": null,
   "metadata": {},
   "outputs": [],
   "source": [
    "#|export\n",
    "class TSPosition(Transform):\n",
    "    order = 90\n",
    "    def __init__(self,\n",
    "        steps:list, # List containing the steps passed as an additional variable. Theu should be normalized.\n",
    "        magnitude=None, # Added for compatibility. It's not used.\n",
    "        **kwargs\n",
    "        ):\n",
    "        self.steps = torch.from_numpy(np.asarray(steps)).reshape(1, 1, -1)\n",
    "        super().__init__(**kwargs)\n",
    "\n",
    "    def encodes(self, o: TSTensor):\n",
    "        bs = o.shape[0]\n",
    "        steps = self.steps.expand(bs, -1, -1).to(device=o.device, dtype=o.dtype)\n",
    "        return torch.cat([o, steps], 1)"
   ]
  },
  {
   "cell_type": "code",
   "execution_count": null,
   "metadata": {},
   "outputs": [
    {
     "data": {
      "text/plain": [
       "(torch.float32, torch.float32)"
      ]
     },
     "execution_count": null,
     "metadata": {},
     "output_type": "execute_result"
    }
   ],
   "source": [
    "t = TSTensor(torch.rand(2, 1, 10)).float()\n",
    "a = np.linspace(-1, 1, 10).astype('float64')\n",
    "TSPosition(a)(t).data.dtype, t.dtype"
   ]
  },
  {
   "cell_type": "markdown",
   "metadata": {},
   "source": [
    "# sklearn API transforms"
   ]
  },
  {
   "cell_type": "code",
   "execution_count": null,
   "metadata": {},
   "outputs": [],
   "source": [
    "#|export\n",
    "from sklearn.base import BaseEstimator, TransformerMixin\n",
    "from fastai.data.transforms import CategoryMap\n",
    "from joblib import dump, load\n",
    "\n",
    "\n",
    "class TSShrinkDataFrame(BaseEstimator, TransformerMixin):\n",
    "\n",
    "    def __init__(self, columns=None, skip=[], obj2cat=True, int2uint=False, verbose=True):\n",
    "        self.columns, self.skip, self.obj2cat, self.int2uint, self.verbose = listify(columns), skip, obj2cat, int2uint, verbose\n",
    "        \n",
    "    def fit(self, X:pd.DataFrame, y=None, **fit_params):\n",
    "        assert isinstance(X, pd.DataFrame)\n",
    "        self.old_dtypes = X.dtypes            \n",
    "        if not self.columns: self.columns = X.columns\n",
    "        self.dt = df_shrink_dtypes(X[self.columns], self.skip, obj2cat=self.obj2cat, int2uint=self.int2uint)\n",
    "        return self\n",
    "        \n",
    "    def transform(self, X:pd.DataFrame, y=None, **transform_params):\n",
    "        assert isinstance(X, pd.DataFrame)\n",
    "        if self.verbose:\n",
    "            start_memory = X.memory_usage().sum() / 1024**2\n",
    "            print(f\"Memory usage of dataframe is {start_memory} MB\")\n",
    "        X[self.columns] = X[self.columns].astype(self.dt)\n",
    "        if self.verbose:\n",
    "            end_memory = X.memory_usage().sum() / 1024**2\n",
    "            print(f\"Memory usage of dataframe after reduction {end_memory} MB\")\n",
    "            print(f\"Reduced by {100 * (start_memory - end_memory) / start_memory} % \")\n",
    "        return X\n",
    "         \n",
    "    def inverse_transform(self, X):\n",
    "        assert isinstance(X, pd.DataFrame)\n",
    "        if self.verbose:\n",
    "            start_memory = X.memory_usage().sum() / 1024**2\n",
    "            print(f\"Memory usage of dataframe is {start_memory} MB\")\n",
    "        X = X.astype(self.old_dtypes)\n",
    "        if self.verbose:\n",
    "            end_memory = X.memory_usage().sum() / 1024**2\n",
    "            print(f\"Memory usage of dataframe after reduction {end_memory} MB\")\n",
    "            print(f\"Reduced by {100 * (start_memory - end_memory) / start_memory} % \")\n",
    "        return X"
   ]
  },
  {
   "cell_type": "code",
   "execution_count": null,
   "metadata": {},
   "outputs": [
    {
     "name": "stdout",
     "output_type": "stream",
     "text": [
      "Memory usage of dataframe is 0.000274658203125 MB\n",
      "Memory usage of dataframe after reduction 0.0001697540283203125 MB\n",
      "Reduced by 38.19444444444444 % \n"
     ]
    }
   ],
   "source": [
    "df = pd.DataFrame()\n",
    "df[\"ints64\"] = np.random.randint(0,3,10)\n",
    "df['floats64'] = np.random.rand(10)\n",
    "tfm = TSShrinkDataFrame()\n",
    "tfm.fit(df)\n",
    "df = tfm.transform(df)\n",
    "test_eq(df[\"ints64\"].dtype, \"int8\")\n",
    "test_eq(df[\"floats64\"].dtype, \"float32\")"
   ]
  },
  {
   "cell_type": "code",
   "execution_count": null,
   "metadata": {},
   "outputs": [],
   "source": [
    "#|export\n",
    "class TSOneHotEncoder(BaseEstimator, TransformerMixin):\n",
    "\n",
    "    def __init__(self, columns=None, drop=True, add_na=True, dtype=np.int64):\n",
    "        self.columns = listify(columns)\n",
    "        self.drop, self.add_na, self.dtype = drop, add_na, dtype\n",
    "        \n",
    "\n",
    "    def fit(self, X:pd.DataFrame, y=None, **fit_params):\n",
    "        assert isinstance(X, pd.DataFrame)\n",
    "        if not self.columns: self.columns = X.columns\n",
    "        handle_unknown = \"ignore\" if self.add_na else \"error\"\n",
    "        self.ohe_tfm = sklearn.preprocessing.OneHotEncoder(handle_unknown=handle_unknown)\n",
    "        if len(self.columns) == 1:\n",
    "            self.ohe_tfm.fit(X[self.columns].to_numpy().reshape(-1, 1))\n",
    "        else: \n",
    "            self.ohe_tfm.fit(X[self.columns])\n",
    "        return self\n",
    "\n",
    "    def transform(self, X:pd.DataFrame, y=None, **transform_params):\n",
    "        assert isinstance(X, pd.DataFrame)\n",
    "        if len(self.columns) == 1:\n",
    "            output = self.ohe_tfm.transform(X[self.columns].to_numpy().reshape(-1, 1)).toarray().astype(self.dtype)\n",
    "        else: \n",
    "            output = self.ohe_tfm.transform(X[self.columns]).toarray().astype(self.dtype)\n",
    "        new_cols = []\n",
    "        for i,col in enumerate(self.columns): \n",
    "            for cats in self.ohe_tfm.categories_[i]:\n",
    "                new_cols.append(f\"{str(col)}_{str(cats)}\")\n",
    "        X[new_cols] = output\n",
    "        if self.drop: X = X.drop(self.columns, axis=1)\n",
    "        return X"
   ]
  },
  {
   "cell_type": "code",
   "execution_count": null,
   "metadata": {},
   "outputs": [],
   "source": [
    "df = pd.DataFrame()\n",
    "df[\"a\"] = np.random.randint(0,2,10)\n",
    "df[\"b\"] = np.random.randint(0,3,10)\n",
    "unique_cols = len(df[\"a\"].unique()) + len(df[\"b\"].unique())\n",
    "tfm = TSOneHotEncoder()\n",
    "tfm.fit(df)\n",
    "df = tfm.transform(df)\n",
    "test_eq(df.shape[1], unique_cols)"
   ]
  },
  {
   "cell_type": "code",
   "execution_count": null,
   "metadata": {},
   "outputs": [],
   "source": [
    "#|export\n",
    "class TSCategoricalEncoder(BaseEstimator, TransformerMixin):\n",
    "\n",
    "    def __init__(self, columns=None, add_na=True, prefix=None, suffix=None, verbose=True):\n",
    "        self.columns = listify(columns)\n",
    "        self.add_na = add_na\n",
    "        self.prefix = prefix\n",
    "        self.suffix = suffix\n",
    "        self.verbose = verbose\n",
    "\n",
    "    def fit(self, X:pd.DataFrame, y=None, **fit_params):\n",
    "        assert isinstance(X, pd.DataFrame)\n",
    "        if not self.columns: self.columns = X.columns\n",
    "        self.cat_tfms = []\n",
    "        for column in self.columns:\n",
    "            self.cat_tfms.append(CategoryMap(X[column], add_na=self.add_na))\n",
    "        return self\n",
    "\n",
    "    def transform(self, X:pd.DataFrame, y=None, **transform_params):\n",
    "        assert isinstance(X, pd.DataFrame)\n",
    "        for cat_tfm, column in zip(self.cat_tfms, self.columns):\n",
    "            new_col = column\n",
    "            if self.prefix is not None:\n",
    "                new_col = self.prefix + str(new_col)\n",
    "            if self.suffix is not None: \n",
    "                new_col = str(new_col) + self.suffix\n",
    "            pv(f'encoding {column}...', self.verbose)\n",
    "            X[new_col] = cat_tfm.map_objs(X[column])\n",
    "            pv(f'...{column} encoded', self.verbose)\n",
    "        return X\n",
    "\n",
    "    def inverse_transform(self, X:pd.DataFrame):\n",
    "        assert isinstance(X, pd.DataFrame)\n",
    "        for cat_tfm, column in zip(self.cat_tfms, self.columns):\n",
    "            new_col = column\n",
    "            if self.prefix is not None:\n",
    "                new_col = self.prefix + str(new_col)\n",
    "            if self.suffix is not None: \n",
    "                new_col = str(new_col) + self.suffix\n",
    "            pv(f'decoding {new_col}...', self.verbose)\n",
    "            X[new_col] = cat_tfm.map_ids(X[new_col])\n",
    "            pv(f'...{new_col} decoded', self.verbose)\n",
    "        return X"
   ]
  },
  {
   "cell_type": "markdown",
   "metadata": {},
   "source": [
    "Stateful transforms like TSCategoricalEncoder can easily be serialized. "
   ]
  },
  {
   "cell_type": "code",
   "execution_count": null,
   "metadata": {},
   "outputs": [],
   "source": [
    "import joblib"
   ]
  },
  {
   "cell_type": "code",
   "execution_count": null,
   "metadata": {},
   "outputs": [
    {
     "name": "stdout",
     "output_type": "stream",
     "text": [
      "encoding a...\n",
      "...a encoded\n",
      "encoding b...\n",
      "...b encoded\n"
     ]
    }
   ],
   "source": [
    "df = pd.DataFrame()\n",
    "df[\"a\"] = alphabet[np.random.randint(0,2,100)]\n",
    "df[\"b\"] = ALPHABET[np.random.randint(0,3,100)]\n",
    "a_unique = len(df[\"a\"].unique())\n",
    "b_unique = len(df[\"b\"].unique())\n",
    "tfm = TSCategoricalEncoder()\n",
    "tfm.fit(df)\n",
    "joblib.dump(tfm, \"data/TSCategoricalEncoder.joblib\")\n",
    "tfm = joblib.load(\"data/TSCategoricalEncoder.joblib\")\n",
    "df = tfm.transform(df)\n",
    "test_eq(df['a'].max(), a_unique)\n",
    "test_eq(df['b'].max(), b_unique)"
   ]
  },
  {
   "cell_type": "code",
   "execution_count": null,
   "metadata": {},
   "outputs": [],
   "source": [
    "#|export\n",
    "default_date_attr = ['Year', 'Month', 'Week', 'Day', 'Dayofweek', 'Dayofyear', 'Is_month_end', 'Is_month_start', \n",
    "                     'Is_quarter_end', 'Is_quarter_start', 'Is_year_end', 'Is_year_start']\n",
    "\n",
    "class TSDateTimeEncoder(BaseEstimator, TransformerMixin):\n",
    "\n",
    "    def __init__(self, datetime_columns=None, prefix=None, drop=True, time=False, attr=default_date_attr):\n",
    "        self.datetime_columns = listify(datetime_columns)\n",
    "        self.prefix, self.drop, self.time, self.attr = prefix, drop, time ,attr\n",
    "        \n",
    "    def fit(self, X:pd.DataFrame, y=None, **fit_params):\n",
    "        assert isinstance(X, pd.DataFrame)\n",
    "        if self.time: self.attr = self.attr + ['Hour', 'Minute', 'Second']\n",
    "        if not self.datetime_columns:\n",
    "            self.datetime_columns = X.columns\n",
    "        self.prefixes = []\n",
    "        for dt_column in self.datetime_columns: \n",
    "            self.prefixes.append(re.sub('[Dd]ate$', '', dt_column) if self.prefix is None else self.prefix)\n",
    "        return self\n",
    "        \n",
    "    def transform(self, X:pd.DataFrame, y=None, **transform_params):\n",
    "        assert isinstance(X, pd.DataFrame)\n",
    "        \n",
    "        for dt_column,prefix in zip(self.datetime_columns,self.prefixes): \n",
    "            make_date(X, dt_column)\n",
    "            field = X[dt_column]\n",
    "\n",
    "            # Pandas removed `dt.week` in v1.1.10\n",
    "            week = field.dt.isocalendar().week.astype(field.dt.day.dtype) if hasattr(field.dt, 'isocalendar') else field.dt.week\n",
    "            for n in self.attr: X[prefix + \"_\" + n] = getattr(field.dt, n.lower()) if n != 'Week' else week\n",
    "            if self.drop: X = X.drop(self.datetime_columns, axis=1)\n",
    "        return X"
   ]
  },
  {
   "cell_type": "code",
   "execution_count": null,
   "metadata": {},
   "outputs": [],
   "source": [
    "import datetime"
   ]
  },
  {
   "cell_type": "code",
   "execution_count": null,
   "metadata": {},
   "outputs": [
    {
     "data": {
      "text/html": [
       "<div>\n",
       "<style scoped>\n",
       "    .dataframe tbody tr th:only-of-type {\n",
       "        vertical-align: middle;\n",
       "    }\n",
       "\n",
       "    .dataframe tbody tr th {\n",
       "        vertical-align: top;\n",
       "    }\n",
       "\n",
       "    .dataframe thead th {\n",
       "        text-align: right;\n",
       "    }\n",
       "</style>\n",
       "<table border=\"1\" class=\"dataframe\">\n",
       "  <thead>\n",
       "    <tr style=\"text-align: right;\">\n",
       "      <th></th>\n",
       "      <th>_Year</th>\n",
       "      <th>_Month</th>\n",
       "      <th>_Week</th>\n",
       "      <th>_Day</th>\n",
       "      <th>_Dayofweek</th>\n",
       "      <th>_Dayofyear</th>\n",
       "      <th>_Is_month_end</th>\n",
       "      <th>_Is_month_start</th>\n",
       "      <th>_Is_quarter_end</th>\n",
       "      <th>_Is_quarter_start</th>\n",
       "      <th>_Is_year_end</th>\n",
       "      <th>_Is_year_start</th>\n",
       "    </tr>\n",
       "  </thead>\n",
       "  <tbody>\n",
       "    <tr>\n",
       "      <th>0</th>\n",
       "      <td>2022</td>\n",
       "      <td>12</td>\n",
       "      <td>50</td>\n",
       "      <td>16</td>\n",
       "      <td>4</td>\n",
       "      <td>350</td>\n",
       "      <td>False</td>\n",
       "      <td>False</td>\n",
       "      <td>False</td>\n",
       "      <td>False</td>\n",
       "      <td>False</td>\n",
       "      <td>False</td>\n",
       "    </tr>\n",
       "    <tr>\n",
       "      <th>1</th>\n",
       "      <td>2022</td>\n",
       "      <td>12</td>\n",
       "      <td>50</td>\n",
       "      <td>17</td>\n",
       "      <td>5</td>\n",
       "      <td>351</td>\n",
       "      <td>False</td>\n",
       "      <td>False</td>\n",
       "      <td>False</td>\n",
       "      <td>False</td>\n",
       "      <td>False</td>\n",
       "      <td>False</td>\n",
       "    </tr>\n",
       "  </tbody>\n",
       "</table>\n",
       "</div>"
      ],
      "text/plain": [
       "   _Year  _Month  _Week  _Day  _Dayofweek  _Dayofyear  _Is_month_end  \\\n",
       "0   2022      12     50    16           4         350          False   \n",
       "1   2022      12     50    17           5         351          False   \n",
       "\n",
       "   _Is_month_start  _Is_quarter_end  _Is_quarter_start  _Is_year_end  \\\n",
       "0            False            False              False         False   \n",
       "1            False            False              False         False   \n",
       "\n",
       "   _Is_year_start  \n",
       "0           False  \n",
       "1           False  "
      ]
     },
     "execution_count": null,
     "metadata": {},
     "output_type": "execute_result"
    }
   ],
   "source": [
    "df = pd.DataFrame()\n",
    "df.loc[0, \"date\"] = datetime.datetime.now()\n",
    "df.loc[1, \"date\"] = datetime.datetime.now() + pd.Timedelta(1, unit=\"D\")\n",
    "tfm = TSDateTimeEncoder()\n",
    "joblib.dump(tfm, \"data/TSDateTimeEncoder.joblib\")\n",
    "tfm = joblib.load(\"data/TSDateTimeEncoder.joblib\")\n",
    "tfm.fit_transform(df)"
   ]
  },
  {
   "cell_type": "code",
   "execution_count": null,
   "metadata": {},
   "outputs": [],
   "source": [
    "#|export\n",
    "class TSMissingnessEncoder(BaseEstimator, TransformerMixin):\n",
    "\n",
    "    def __init__(self, columns=None):\n",
    "        self.columns = listify(columns)\n",
    "        \n",
    "    def fit(self, X:pd.DataFrame, y=None, **fit_params):\n",
    "        assert isinstance(X, pd.DataFrame)\n",
    "        if not self.columns: self.columns = X.columns\n",
    "        self.missing_columns = [f\"{cn}_missing\" for cn in self.columns]\n",
    "        return self\n",
    "        \n",
    "    def transform(self, X:pd.DataFrame, y=None, **transform_params):\n",
    "        assert isinstance(X, pd.DataFrame)\n",
    "        X[self.missing_columns] = X[self.columns].isnull().astype(int)\n",
    "        return X\n",
    "         \n",
    "    def inverse_transform(self, X):\n",
    "        assert isinstance(X, pd.DataFrame)\n",
    "        X.drop(self.missing_columns, axis=1, inplace=True)\n",
    "        return X"
   ]
  },
  {
   "cell_type": "code",
   "execution_count": null,
   "metadata": {},
   "outputs": [
    {
     "data": {
      "text/html": [
       "<div>\n",
       "<style scoped>\n",
       "    .dataframe tbody tr th:only-of-type {\n",
       "        vertical-align: middle;\n",
       "    }\n",
       "\n",
       "    .dataframe tbody tr th {\n",
       "        vertical-align: top;\n",
       "    }\n",
       "\n",
       "    .dataframe thead th {\n",
       "        text-align: right;\n",
       "    }\n",
       "</style>\n",
       "<table border=\"1\" class=\"dataframe\">\n",
       "  <thead>\n",
       "    <tr style=\"text-align: right;\">\n",
       "      <th></th>\n",
       "      <th>a</th>\n",
       "      <th>b</th>\n",
       "      <th>c</th>\n",
       "      <th>a_missing</th>\n",
       "      <th>b_missing</th>\n",
       "      <th>c_missing</th>\n",
       "    </tr>\n",
       "  </thead>\n",
       "  <tbody>\n",
       "    <tr>\n",
       "      <th>0</th>\n",
       "      <td>NaN</td>\n",
       "      <td>NaN</td>\n",
       "      <td>0.214431</td>\n",
       "      <td>1</td>\n",
       "      <td>1</td>\n",
       "      <td>0</td>\n",
       "    </tr>\n",
       "    <tr>\n",
       "      <th>1</th>\n",
       "      <td>0.377148</td>\n",
       "      <td>0.189471</td>\n",
       "      <td>0.579457</td>\n",
       "      <td>0</td>\n",
       "      <td>0</td>\n",
       "      <td>0</td>\n",
       "    </tr>\n",
       "    <tr>\n",
       "      <th>2</th>\n",
       "      <td>0.098363</td>\n",
       "      <td>NaN</td>\n",
       "      <td>0.203242</td>\n",
       "      <td>0</td>\n",
       "      <td>1</td>\n",
       "      <td>0</td>\n",
       "    </tr>\n",
       "    <tr>\n",
       "      <th>3</th>\n",
       "      <td>NaN</td>\n",
       "      <td>0.052139</td>\n",
       "      <td>0.653996</td>\n",
       "      <td>1</td>\n",
       "      <td>0</td>\n",
       "      <td>0</td>\n",
       "    </tr>\n",
       "    <tr>\n",
       "      <th>4</th>\n",
       "      <td>0.091636</td>\n",
       "      <td>NaN</td>\n",
       "      <td>0.681170</td>\n",
       "      <td>0</td>\n",
       "      <td>1</td>\n",
       "      <td>0</td>\n",
       "    </tr>\n",
       "    <tr>\n",
       "      <th>5</th>\n",
       "      <td>0.665159</td>\n",
       "      <td>0.074841</td>\n",
       "      <td>0.023606</td>\n",
       "      <td>0</td>\n",
       "      <td>0</td>\n",
       "      <td>0</td>\n",
       "    </tr>\n",
       "    <tr>\n",
       "      <th>6</th>\n",
       "      <td>0.674338</td>\n",
       "      <td>0.726029</td>\n",
       "      <td>0.122438</td>\n",
       "      <td>0</td>\n",
       "      <td>0</td>\n",
       "      <td>0</td>\n",
       "    </tr>\n",
       "    <tr>\n",
       "      <th>7</th>\n",
       "      <td>0.699077</td>\n",
       "      <td>0.672016</td>\n",
       "      <td>0.086151</td>\n",
       "      <td>0</td>\n",
       "      <td>0</td>\n",
       "      <td>0</td>\n",
       "    </tr>\n",
       "    <tr>\n",
       "      <th>8</th>\n",
       "      <td>0.071617</td>\n",
       "      <td>0.773986</td>\n",
       "      <td>NaN</td>\n",
       "      <td>0</td>\n",
       "      <td>0</td>\n",
       "      <td>1</td>\n",
       "    </tr>\n",
       "    <tr>\n",
       "      <th>9</th>\n",
       "      <td>0.593852</td>\n",
       "      <td>0.664601</td>\n",
       "      <td>NaN</td>\n",
       "      <td>0</td>\n",
       "      <td>0</td>\n",
       "      <td>1</td>\n",
       "    </tr>\n",
       "  </tbody>\n",
       "</table>\n",
       "</div>"
      ],
      "text/plain": [
       "          a         b         c  a_missing  b_missing  c_missing\n",
       "0       NaN       NaN  0.214431          1          1          0\n",
       "1  0.377148  0.189471  0.579457          0          0          0\n",
       "2  0.098363       NaN  0.203242          0          1          0\n",
       "3       NaN  0.052139  0.653996          1          0          0\n",
       "4  0.091636       NaN  0.681170          0          1          0\n",
       "5  0.665159  0.074841  0.023606          0          0          0\n",
       "6  0.674338  0.726029  0.122438          0          0          0\n",
       "7  0.699077  0.672016  0.086151          0          0          0\n",
       "8  0.071617  0.773986       NaN          0          0          1\n",
       "9  0.593852  0.664601       NaN          0          0          1"
      ]
     },
     "execution_count": null,
     "metadata": {},
     "output_type": "execute_result"
    }
   ],
   "source": [
    "data = np.random.rand(10,3)\n",
    "data[data > .8] = np.nan\n",
    "df = pd.DataFrame(data, columns=[\"a\", \"b\", \"c\"])\n",
    "tfm = TSMissingnessEncoder()\n",
    "tfm.fit(df)\n",
    "joblib.dump(tfm, \"data/TSMissingnessEncoder.joblib\")\n",
    "tfm = joblib.load(\"data/TSMissingnessEncoder.joblib\")\n",
    "df = tfm.transform(df)\n",
    "df"
   ]
  },
  {
   "cell_type": "markdown",
   "metadata": {},
   "source": [
    "## y transforms"
   ]
  },
  {
   "cell_type": "code",
   "execution_count": null,
   "metadata": {},
   "outputs": [],
   "source": [
    "#|export\n",
    "class Preprocessor():\n",
    "    def __init__(self, preprocessor, **kwargs): \n",
    "        self.preprocessor = preprocessor(**kwargs)\n",
    "        \n",
    "    def fit(self, o): \n",
    "        if isinstance(o, pd.Series): o = o.values.reshape(-1,1)\n",
    "        else: o = o.reshape(-1,1)\n",
    "        self.fit_preprocessor = self.preprocessor.fit(o)\n",
    "        return self.fit_preprocessor\n",
    "    \n",
    "    def transform(self, o, copy=True):\n",
    "        if type(o) in [float, int]: o = array([o]).reshape(-1,1)\n",
    "        o_shape = o.shape\n",
    "        if isinstance(o, pd.Series): o = o.values.reshape(-1,1)\n",
    "        else: o = o.reshape(-1,1)\n",
    "        output = self.fit_preprocessor.transform(o).reshape(*o_shape)\n",
    "        if isinstance(o, torch.Tensor): return o.new(output)\n",
    "        return output\n",
    "    \n",
    "    def inverse_transform(self, o, copy=True):\n",
    "        o_shape = o.shape\n",
    "        if isinstance(o, pd.Series): o = o.values.reshape(-1,1)\n",
    "        else: o = o.reshape(-1,1)\n",
    "        output = self.fit_preprocessor.inverse_transform(o).reshape(*o_shape)\n",
    "        if isinstance(o, torch.Tensor): return o.new(output)\n",
    "        return output\n",
    "\n",
    "\n",
    "StandardScaler = partial(sklearn.preprocessing.StandardScaler)\n",
    "setattr(StandardScaler, '__name__', 'StandardScaler')\n",
    "RobustScaler = partial(sklearn.preprocessing.RobustScaler)\n",
    "setattr(RobustScaler, '__name__', 'RobustScaler')\n",
    "Normalizer = partial(sklearn.preprocessing.MinMaxScaler, feature_range=(-1, 1))\n",
    "setattr(Normalizer, '__name__', 'Normalizer')\n",
    "BoxCox = partial(sklearn.preprocessing.PowerTransformer, method='box-cox')\n",
    "setattr(BoxCox, '__name__', 'BoxCox')\n",
    "YeoJohnshon = partial(sklearn.preprocessing.PowerTransformer, method='yeo-johnson')\n",
    "setattr(YeoJohnshon, '__name__', 'YeoJohnshon')\n",
    "Quantile = partial(sklearn.preprocessing.QuantileTransformer, n_quantiles=1_000, output_distribution='normal', random_state=0)\n",
    "setattr(Quantile, '__name__', 'Quantile')"
   ]
  },
  {
   "cell_type": "code",
   "execution_count": null,
   "metadata": {},
   "outputs": [],
   "source": [
    "# Standardize\n",
    "from tsai.data.validation import TimeSplitter"
   ]
  },
  {
   "cell_type": "code",
   "execution_count": null,
   "metadata": {},
   "outputs": [
    {
     "data": {
      "image/png": "[encoded data removed]",
      "text/plain": [
       "<Figure size 1600x50 with 1 Axes>"
      ]
     },
     "metadata": {},
     "output_type": "display_data"
    },
    {
     "data": {
      "image/png": "[encoded data removed]",
      "text/plain": [
       "<Figure size 640x480 with 1 Axes>"
      ]
     },
     "metadata": {},
     "output_type": "display_data"
    }
   ],
   "source": [
    "y = random_shuffle(np.random.randn(1000) * 10 + 5)\n",
    "splits = TimeSplitter()(y)\n",
    "preprocessor = Preprocessor(StandardScaler)\n",
    "preprocessor.fit(y[splits[0]])\n",
    "y_tfm = preprocessor.transform(y)\n",
    "test_close(preprocessor.inverse_transform(y_tfm), y)\n",
    "plt.hist(y, 50, label='ori',)\n",
    "plt.hist(y_tfm, 50, label='tfm')\n",
    "plt.legend(loc='best')\n",
    "plt.show()"
   ]
  },
  {
   "cell_type": "code",
   "execution_count": null,
   "metadata": {},
   "outputs": [
    {
     "data": {
      "image/png": "[encoded data removed]",
      "text/plain": [
       "<Figure size 1600x50 with 1 Axes>"
      ]
     },
     "metadata": {},
     "output_type": "display_data"
    },
    {
     "data": {
      "image/png": "[encoded data removed]",
      "text/plain": [
       "<Figure size 640x480 with 1 Axes>"
      ]
     },
     "metadata": {},
     "output_type": "display_data"
    }
   ],
   "source": [
    "# RobustScaler\n",
    "y = random_shuffle(np.random.randn(1000) * 10 + 5)\n",
    "splits = TimeSplitter()(y)\n",
    "preprocessor = Preprocessor(RobustScaler)\n",
    "preprocessor.fit(y[splits[0]])\n",
    "y_tfm = preprocessor.transform(y)\n",
    "test_close(preprocessor.inverse_transform(y_tfm), y)\n",
    "plt.hist(y, 50, label='ori',)\n",
    "plt.hist(y_tfm, 50, label='tfm')\n",
    "plt.legend(loc='best')\n",
    "plt.show()"
   ]
  },
  {
   "cell_type": "code",
   "execution_count": null,
   "metadata": {},
   "outputs": [
    {
     "data": {
      "image/png": "[encoded data removed]",
      "text/plain": [
       "<Figure size 1600x50 with 1 Axes>"
      ]
     },
     "metadata": {},
     "output_type": "display_data"
    },
    {
     "data": {
      "image/png": "[encoded data removed]",
      "text/plain": [
       "<Figure size 640x480 with 1 Axes>"
      ]
     },
     "metadata": {},
     "output_type": "display_data"
    }
   ],
   "source": [
    "# Normalize\n",
    "y = random_shuffle(np.random.rand(1000) * 3 + .5)\n",
    "splits = TimeSplitter()(y)\n",
    "preprocessor = Preprocessor(Normalizer)\n",
    "preprocessor.fit(y[splits[0]])\n",
    "y_tfm = preprocessor.transform(y)\n",
    "test_close(preprocessor.inverse_transform(y_tfm), y)\n",
    "plt.hist(y, 50, label='ori',)\n",
    "plt.hist(y_tfm, 50, label='tfm')\n",
    "plt.legend(loc='best')\n",
    "plt.show()"
   ]
  },
  {
   "cell_type": "code",
   "execution_count": null,
   "metadata": {},
   "outputs": [
    {
     "data": {
      "image/png": "[encoded data removed]",
      "text/plain": [
       "<Figure size 1600x50 with 1 Axes>"
      ]
     },
     "metadata": {},
     "output_type": "display_data"
    },
    {
     "data": {
      "image/png": "[encoded data removed]",
      "text/plain": [
       "<Figure size 640x480 with 1 Axes>"
      ]
     },
     "metadata": {},
     "output_type": "display_data"
    }
   ],
   "source": [
    "# BoxCox\n",
    "y = random_shuffle(np.random.rand(1000) * 10 + 5)\n",
    "splits = TimeSplitter()(y)\n",
    "preprocessor = Preprocessor(BoxCox)\n",
    "preprocessor.fit(y[splits[0]])\n",
    "y_tfm = preprocessor.transform(y)\n",
    "test_close(preprocessor.inverse_transform(y_tfm), y)\n",
    "plt.hist(y, 50, label='ori',)\n",
    "plt.hist(y_tfm, 50, label='tfm')\n",
    "plt.legend(loc='best')\n",
    "plt.show()"
   ]
  },
  {
   "cell_type": "code",
   "execution_count": null,
   "metadata": {},
   "outputs": [
    {
     "data": {
      "image/png": "[encoded data removed]",
      "text/plain": [
       "<Figure size 1600x50 with 1 Axes>"
      ]
     },
     "metadata": {},
     "output_type": "display_data"
    },
    {
     "data": {
      "image/png": "[encoded data removed]",
      "text/plain": [
       "<Figure size 640x480 with 1 Axes>"
      ]
     },
     "metadata": {},
     "output_type": "display_data"
    }
   ],
   "source": [
    "# YeoJohnshon\n",
    "y = random_shuffle(np.random.randn(1000) * 10 + 5)\n",
    "y = np.random.beta(.5, .5, size=1000)\n",
    "splits = TimeSplitter()(y)\n",
    "preprocessor = Preprocessor(YeoJohnshon)\n",
    "preprocessor.fit(y[splits[0]])\n",
    "y_tfm = preprocessor.transform(y)\n",
    "test_close(preprocessor.inverse_transform(y_tfm), y)\n",
    "plt.hist(y, 50, label='ori',)\n",
    "plt.hist(y_tfm, 50, label='tfm')\n",
    "plt.legend(loc='best')\n",
    "plt.show()"
   ]
  },
  {
   "cell_type": "code",
   "execution_count": null,
   "metadata": {},
   "outputs": [
    {
     "data": {
      "image/png": "[encoded data removed]",
      "text/plain": [
       "<Figure size 1600x50 with 1 Axes>"
      ]
     },
     "metadata": {},
     "output_type": "display_data"
    },
    {
     "data": {
      "image/png": "[encoded data removed]",
      "text/plain": [
       "<Figure size 640x480 with 1 Axes>"
      ]
     },
     "metadata": {},
     "output_type": "display_data"
    },
    {
     "data": {
      "image/png": "[encoded data removed]",
      "text/plain": [
       "<Figure size 640x480 with 1 Axes>"
      ]
     },
     "metadata": {},
     "output_type": "display_data"
    }
   ],
   "source": [
    "# QuantileTransformer\n",
    "y = - np.random.beta(1, .5, 10000) * 10\n",
    "splits = TimeSplitter()(y)\n",
    "preprocessor = Preprocessor(Quantile)\n",
    "preprocessor.fit(y[splits[0]])\n",
    "plt.hist(y, 50, label='ori',)\n",
    "y_tfm = preprocessor.transform(y)\n",
    "plt.legend(loc='best')\n",
    "plt.show()\n",
    "plt.hist(y_tfm, 50, label='tfm')\n",
    "plt.legend(loc='best')\n",
    "plt.show()\n",
    "test_close(preprocessor.inverse_transform(y_tfm), y, 1e-1)"
   ]
  },
  {
   "cell_type": "code",
   "execution_count": null,
   "metadata": {},
   "outputs": [],
   "source": [
    "#|export\n",
    "def ReLabeler(cm):\n",
    "    r\"\"\"Changes the labels in a dataset based on a dictionary (class mapping) \n",
    "        Args:\n",
    "            cm = class mapping dictionary\n",
    "    \"\"\"\n",
    "    def _relabel(y):\n",
    "        obj = len(set([len(listify(v)) for v in cm.values()])) > 1\n",
    "        keys = cm.keys()\n",
    "        if obj: \n",
    "            new_cm = {k:v for k,v in zip(keys, [listify(v) for v in cm.values()])}\n",
    "            return np.array([new_cm[yi] if yi in keys else listify(yi) for yi in y], dtype=object).reshape(*y.shape)\n",
    "        else: \n",
    "            new_cm = {k:v for k,v in zip(keys, [listify(v) for v in cm.values()])}\n",
    "            return np.array([new_cm[yi] if yi in keys else listify(yi) for yi in y]).reshape(*y.shape)\n",
    "    return _relabel"
   ]
  },
  {
   "cell_type": "code",
   "execution_count": null,
   "metadata": {},
   "outputs": [
    {
     "data": {
      "text/plain": [
       "(array(['d', 'c', 'c', 'c', 'd', 'b', 'a', 'a', 'e', 'a', 'b', 'd', 'e',\n",
       "        'e', 'e', 'd', 'a', 'c', 'c', 'e'], dtype='<U1'),\n",
       " array(['z', 'y', 'y', 'y', 'z', 'x', 'x', 'x', 'z', 'x', 'x', 'z', 'z',\n",
       "        'z', 'z', 'z', 'x', 'y', 'y', 'z'], dtype='<U1'))"
      ]
     },
     "execution_count": null,
     "metadata": {},
     "output_type": "execute_result"
    }
   ],
   "source": [
    "vals = {0:'a', 1:'b', 2:'c', 3:'d', 4:'e'}\n",
    "y = np.array([vals[i] for i in np.random.randint(0, 5, 20)])\n",
    "labeler = ReLabeler(dict(a='x', b='x', c='y', d='z', e='z'))\n",
    "y_new = labeler(y)\n",
    "test_eq(y.shape, y_new.shape)\n",
    "y, y_new"
   ]
  },
  {
   "cell_type": "code",
   "execution_count": null,
   "metadata": {},
   "outputs": [
    {
     "data": {
      "application/javascript": "IPython.notebook.save_checkpoint();",
      "text/plain": [
       "<IPython.core.display.Javascript object>"
      ]
     },
     "metadata": {},
     "output_type": "display_data"
    },
    {
     "name": "stdout",
     "output_type": "stream",
     "text": [
      "/Users/nacho/notebooks/tsai/nbs/009_data.preprocessing.ipynb saved at 2022-12-16 11:19:39\n",
      "Correct notebook to script conversion! 😃\n",
      "Friday 16/12/22 11:19:44 CET\n"
     ]
    },
    {
     "data": {
      "text/html": [
       "\n",
       "                <audio  controls=\"controls\" autoplay=\"autoplay\">\n",
       "                    <source src=\"data:audio/wav;base64,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\" type=\"audio/wav\" />\n",
       "                    Your browser does not support the audio element.\n",
       "                </audio>\n",
       "              "
      ],
      "text/plain": [
       "<IPython.lib.display.Audio object>"
      ]
     },
     "metadata": {},
     "output_type": "display_data"
    }
   ],
   "source": [
    "#|eval: false\n",
    "#|hide\n",
    "from tsai.export import get_nb_name; nb_name = get_nb_name(locals())\n",
    "from tsai.imports import create_scripts; create_scripts(nb_name)"
   ]
  },
  {
   "cell_type": "code",
   "execution_count": null,
   "metadata": {},
   "outputs": [],
   "source": []
  }
 ],
 "metadata": {
  "kernelspec": {
   "display_name": "py37torch113",
   "language": "python",
   "name": "python3"
  }
 },
 "nbformat": 4,
 "nbformat_minor": 4
}
