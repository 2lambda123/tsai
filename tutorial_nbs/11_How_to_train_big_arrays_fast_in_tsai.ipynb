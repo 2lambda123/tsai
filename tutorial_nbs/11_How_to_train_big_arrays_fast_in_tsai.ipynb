{
 "cells": [
  {
   "cell_type": "markdown",
   "metadata": {},
   "source": [
    "<a href=\"https://github.com/timeseriesAI/tsai/blob/main/tutorial_nbs/11_How_to_train_big_arrays_fast_in_tsai.ipynb\" target=\"_parent\"><img src=\"https://colab.research.google.com/assets/colab-badge.svg\" alt=\"Open In Colab\"/></a>"
   ]
  },
  {
   "cell_type": "markdown",
   "metadata": {},
   "source": [
    "created by Ignacio Oguiza - email: timeseriesAI@gmail.com"
   ]
  },
  {
   "cell_type": "markdown",
   "metadata": {
    "heading_collapsed": true
   },
   "source": [
    "# Purpose 😇"
   ]
  },
  {
   "cell_type": "markdown",
   "metadata": {
    "hidden": true
   },
   "source": [
    "Interested in speeding up your training on large datasets? 3x?\n",
    "\n",
    "In this notebook, we'll demonstrate how you can efficiently train a larger-than-memory dataset in **tsai**.\n"
   ]
  },
  {
   "cell_type": "markdown",
   "metadata": {
    "heading_collapsed": true
   },
   "source": [
    "# Import libraries 📚"
   ]
  },
  {
   "cell_type": "code",
   "execution_count": null,
   "metadata": {
    "hidden": true
   },
   "outputs": [],
   "source": [
    "# ## NOTE: UNCOMMENT AND RUN THIS CELL IF YOU NEED TO INSTALL/ UPGRADE TSAI\n",
    "# stable = False # True: stable version in pip, False: latest version from github\n",
    "# if stable: \n",
    "#     !pip install tsai -U >> /dev/null\n",
    "# else:      \n",
    "#     !pip install git+https://github.com/timeseriesAI/tsai.git -U >> /dev/null\n",
    "# ## NOTE: REMEMBER TO RESTART (NOT RECONNECT/ RESET) THE KERNEL/ RUNTIME ONCE THE INSTALLATION IS FINISHED"
   ]
  },
  {
   "cell_type": "code",
   "execution_count": null,
   "metadata": {
    "hidden": true
   },
   "outputs": [
    {
     "name": "stdout",
     "output_type": "stream",
     "text": [
      "os             : Linux\n",
      "os version     : 5.4.104+\n",
      "python         : 3.7.11\n",
      "tsai           : 0.2.20\n",
      "fastai         : 2.5.2\n",
      "fastcore       : 1.3.26\n",
      "torch          : 1.9.0+cu102\n",
      "n_cpus         : 2\n",
      "device         : cuda (Tesla K80)\n"
     ]
    }
   ],
   "source": [
    "from tsai.all import *\n",
    "computer_setup()"
   ]
  },
  {
   "cell_type": "markdown",
   "metadata": {
    "heading_collapsed": true
   },
   "source": [
    "# Zarr arrays ☦️"
   ]
  },
  {
   "cell_type": "markdown",
   "metadata": {
    "hidden": true
   },
   "source": [
    "In addition to tsai, we'll make also need a library called [zarr](https://www.google.com/url?sa=t&rct=j&q=&esrc=s&source=web&cd=&cad=rja&uact=8&ved=2ahUKEwjZ6JD7me3yAhWC2uAKHU6yBdcQFnoECA4QAw&url=https%3A%2F%2Fzarr.readthedocs.io%2F&usg=AOvVaw3MS9C9GsiZ_RRX2IcWe_2w). \n",
    "\n",
    "\n",
    "Zarr is a format for the storage of chunked, compressed, N-dimensional arrays. These documents describe the Zarr format and its Python implementation.\n",
    "\n",
    "**Highlights**\n",
    "\n",
    "- Create N-dimensional arrays with any NumPy dtype.\n",
    "- Chunk arrays along any dimension.\n",
    "- Compress and/or filter chunks using any NumCodecs codec.\n",
    "- Store arrays in memory, on disk, inside a Zip file, on S3, …\n",
    "- Read an array concurrently from multiple threads or processes.\n",
    "- Write to an array concurrently from multiple threads or processes.\n",
    "- Organize arrays into hierarchies via groups."
   ]
  },
  {
   "cell_type": "code",
   "execution_count": null,
   "metadata": {
    "hidden": true
   },
   "outputs": [],
   "source": [
    "# ## NOTE: UNCOMMENT AND RUN THIS CELL IF YOU NEED TO INSTALL/ UPGRADE ZARR\n",
    "# !pip install zarr -U >> /dev/null"
   ]
  },
  {
   "cell_type": "code",
   "execution_count": null,
   "metadata": {
    "hidden": true
   },
   "outputs": [],
   "source": [
    "import zarr"
   ]
  },
  {
   "cell_type": "markdown",
   "metadata": {
    "heading_collapsed": true,
    "hidden": true
   },
   "source": [
    "## Want to know more about zarr arrays?"
   ]
  },
  {
   "cell_type": "markdown",
   "metadata": {
    "hidden": true
   },
   "source": [
    "We are going to briefly understand how we can use zarr arrays. Let's prepare a relatively small dataset that fits in memory. \n",
    "\n",
    "Note: For a more in-depth understanding of zarr arrays you can visit this [tutorial](https://zarr.readthedocs.io/en/stable/tutorial.html)."
   ]
  },
  {
   "cell_type": "code",
   "execution_count": null,
   "metadata": {
    "hidden": true
   },
   "outputs": [],
   "source": [
    "path = Path('data')\n",
    "if not os.path.exists(path): os.makedirs(path)"
   ]
  },
  {
   "cell_type": "code",
   "execution_count": null,
   "metadata": {
    "hidden": true
   },
   "outputs": [],
   "source": [
    "arr = np.random.rand(10_000, 10, 100)\n",
    "np.save(path/'arr.npy', arr)"
   ]
  },
  {
   "cell_type": "markdown",
   "metadata": {
    "hidden": true
   },
   "source": [
    "We know that one of the data formats we can use for large datasets are memory-mapped arrays (np.memmap). They behave like normal arrays, except that they remain on disk. When you index them, only those indices are loaded in memory. That's great because it's what we need to create batches in tsai."
   ]
  },
  {
   "cell_type": "code",
   "execution_count": null,
   "metadata": {
    "hidden": true
   },
   "outputs": [
    {
     "data": {
      "text/plain": [
       "(10000, 10, 100)"
      ]
     },
     "execution_count": null,
     "metadata": {},
     "output_type": "execute_result"
    }
   ],
   "source": [
    "memmap_arr = np.load(path/'arr.npy', mmap_mode='r+')\n",
    "memmap_arr.shape"
   ]
  },
  {
   "cell_type": "markdown",
   "metadata": {
    "heading_collapsed": true,
    "hidden": true
   },
   "source": [
    "### Create an on-disk zarr array & load data"
   ]
  },
  {
   "cell_type": "markdown",
   "metadata": {
    "hidden": true
   },
   "source": [
    "For large datasets, we need to create an zarr array on disk."
   ]
  },
  {
   "cell_type": "code",
   "execution_count": null,
   "metadata": {
    "hidden": true
   },
   "outputs": [
    {
     "data": {
      "text/plain": [
       "<zarr.core.Array (10000, 10, 100) float64>"
      ]
     },
     "execution_count": null,
     "metadata": {},
     "output_type": "execute_result"
    }
   ],
   "source": [
    "zarr_arr = zarr.open(path/'zarr.zarr', mode='w', shape=arr.shape, dtype=arr.dtype)\n",
    "zarr_arr"
   ]
  },
  {
   "cell_type": "markdown",
   "metadata": {
    "hidden": true
   },
   "source": [
    "They are array-like objects, like memmap arrays"
   ]
  },
  {
   "cell_type": "code",
   "execution_count": null,
   "metadata": {
    "hidden": true
   },
   "outputs": [
    {
     "data": {
      "text/plain": [
       "(True, True)"
      ]
     },
     "execution_count": null,
     "metadata": {},
     "output_type": "execute_result"
    }
   ],
   "source": [
    "hasattr(memmap_arr, '__array__'), hasattr(zarr_arr, '__array__')"
   ]
  },
  {
   "cell_type": "markdown",
   "metadata": {
    "hidden": true
   },
   "source": [
    "Although they are not np.ndarrays"
   ]
  },
  {
   "cell_type": "code",
   "execution_count": null,
   "metadata": {
    "hidden": true
   },
   "outputs": [
    {
     "data": {
      "text/plain": [
       "(True, False)"
      ]
     },
     "execution_count": null,
     "metadata": {},
     "output_type": "execute_result"
    }
   ],
   "source": [
    "isinstance(memmap_arr, np.ndarray), isinstance(zarr_arr, np.ndarray)"
   ]
  },
  {
   "cell_type": "markdown",
   "metadata": {
    "hidden": true
   },
   "source": [
    "To load data we can break it in chunks that fit memory. We can load data from an array, a dataframe, etc. "
   ]
  },
  {
   "cell_type": "code",
   "execution_count": null,
   "metadata": {
    "hidden": true
   },
   "outputs": [],
   "source": [
    "chunksize = 1_000\n",
    "\n",
    "for i in range(len(memmap_arr) // chunksize + 1):\n",
    "    zarr_arr[i * chunksize : (i + 1) * chunksize] = memmap_arr[i * chunksize : (i + 1) * chunksize]"
   ]
  },
  {
   "cell_type": "markdown",
   "metadata": {
    "hidden": true
   },
   "source": [
    "Once you load ata, if you want to ensure your data is never modified, you may load the zarr array in mode 'r' (read only). \n",
    "\n",
    "Note: there's no need to close zarr arrays."
   ]
  },
  {
   "cell_type": "code",
   "execution_count": null,
   "metadata": {
    "hidden": true
   },
   "outputs": [],
   "source": [
    "zarr_arr = zarr.open(path/'zarr.zarr', mode='r')"
   ]
  },
  {
   "cell_type": "markdown",
   "metadata": {
    "heading_collapsed": true,
    "hidden": true
   },
   "source": [
    "### How to slice a zarr array?"
   ]
  },
  {
   "cell_type": "markdown",
   "metadata": {
    "hidden": true
   },
   "source": [
    "Let's now create some indices to index the arrays. \n",
    "\n",
    "Indexing is used to obtain individual elements from an array. In tsai, it's used to create batches of data by the dataloader. "
   ]
  },
  {
   "cell_type": "code",
   "execution_count": null,
   "metadata": {
    "hidden": true
   },
   "outputs": [],
   "source": [
    "idxs = np.random.choice(len(arr), 64, False)"
   ]
  },
  {
   "cell_type": "code",
   "execution_count": null,
   "metadata": {
    "hidden": true
   },
   "outputs": [
    {
     "data": {
      "text/plain": [
       "((64, 10, 100), (64, 10, 100))"
      ]
     },
     "execution_count": null,
     "metadata": {},
     "output_type": "execute_result"
    }
   ],
   "source": [
    "arr[idxs].shape, memmap_arr[idxs].shape"
   ]
  },
  {
   "cell_type": "markdown",
   "metadata": {
    "hidden": true
   },
   "source": [
    "When memmap arrays are index, the index elements become a regular np.array. "
   ]
  },
  {
   "cell_type": "code",
   "execution_count": null,
   "metadata": {
    "hidden": true
   },
   "outputs": [
    {
     "data": {
      "text/plain": [
       "(numpy.ndarray, numpy.ndarray)"
      ]
     },
     "execution_count": null,
     "metadata": {},
     "output_type": "execute_result"
    }
   ],
   "source": [
    "type(arr[idxs]), type(memmap_arr[idxs])"
   ]
  },
  {
   "cell_type": "markdown",
   "metadata": {
    "hidden": true
   },
   "source": [
    "Zarr arrays are unique in the way they need to be indexed.\n",
    "\n",
    "If we try to apply indices in the same way as with memmap arrays, you'll get an error message.\n",
    "\n",
    "Zarr arrays have an attribute called 'oindex' that is used to index the array."
   ]
  },
  {
   "cell_type": "code",
   "execution_count": null,
   "metadata": {
    "hidden": true
   },
   "outputs": [
    {
     "data": {
      "text/plain": [
       "True"
      ]
     },
     "execution_count": null,
     "metadata": {},
     "output_type": "execute_result"
    }
   ],
   "source": [
    "hasattr(zarr_arr, 'oindex')"
   ]
  },
  {
   "cell_type": "code",
   "execution_count": null,
   "metadata": {
    "hidden": true
   },
   "outputs": [
    {
     "data": {
      "text/plain": [
       "((64, 10, 100), numpy.ndarray)"
      ]
     },
     "execution_count": null,
     "metadata": {},
     "output_type": "execute_result"
    }
   ],
   "source": [
    "zarr_arr.oindex[idxs].shape, type(zarr_arr.oindex[idxs])"
   ]
  },
  {
   "cell_type": "code",
   "execution_count": null,
   "metadata": {
    "hidden": true
   },
   "outputs": [
    {
     "data": {
      "text/plain": [
       "(True, True)"
      ]
     },
     "execution_count": null,
     "metadata": {},
     "output_type": "execute_result"
    }
   ],
   "source": [
    "np.array_equal(arr[idxs], memmap_arr[idxs]), np.array_equal(arr[idxs], zarr_arr.oindex[idxs])"
   ]
  },
  {
   "cell_type": "markdown",
   "metadata": {
    "hidden": true
   },
   "source": [
    "tsai supports many types of array-like objects, like numpy arrays, memmap arrays, zarr arrays, xarrays, dask arrays, and even lists or L objects. \n",
    "\n",
    "That means you can use any of those types as data inputs. "
   ]
  },
  {
   "cell_type": "markdown",
   "metadata": {
    "heading_collapsed": true
   },
   "source": [
    "# In-memory datasets 🧠"
   ]
  },
  {
   "cell_type": "markdown",
   "metadata": {
    "hidden": true
   },
   "source": [
    "Let's compare the performance of the 3 types of arrays we have created (np.array, np.memmap, zarr). They all fit in memory, although for comparison, np.memmap and zarr data are on disk. "
   ]
  },
  {
   "cell_type": "code",
   "execution_count": null,
   "metadata": {
    "hidden": true
   },
   "outputs": [
    {
     "name": "stdout",
     "output_type": "stream",
     "text": [
      "The slowest run took 4.21 times longer than the fastest. This could mean that an intermediate result is being cached.\n",
      "1000 loops, best of 5: 1.02 ms per loop\n"
     ]
    }
   ],
   "source": [
    "%timeit arr[np.random.choice(len(arr), 512, False)]"
   ]
  },
  {
   "cell_type": "code",
   "execution_count": null,
   "metadata": {
    "hidden": true
   },
   "outputs": [
    {
     "name": "stdout",
     "output_type": "stream",
     "text": [
      "The slowest run took 257.40 times longer than the fastest. This could mean that an intermediate result is being cached.\n",
      "1 loop, best of 5: 2.76 ms per loop\n"
     ]
    }
   ],
   "source": [
    "%timeit memmap_arr[np.random.choice(len(arr), 512, False)]"
   ]
  },
  {
   "cell_type": "code",
   "execution_count": null,
   "metadata": {
    "hidden": true
   },
   "outputs": [
    {
     "data": {
      "text/plain": [
       "(<zarr.core.Array (10000, 10, 100) float64>, (1250, 3, 25))"
      ]
     },
     "execution_count": null,
     "metadata": {},
     "output_type": "execute_result"
    }
   ],
   "source": [
    "zarr_arr = zarr.open(path/'zarr.zarr', mode='w', shape=arr.shape, dtype=arr.dtype)\n",
    "zarr_arr, zarr_arr.chunks"
   ]
  },
  {
   "cell_type": "code",
   "execution_count": null,
   "metadata": {
    "hidden": true
   },
   "outputs": [
    {
     "name": "stdout",
     "output_type": "stream",
     "text": [
      "100 loops, best of 5: 16.4 ms per loop\n"
     ]
    }
   ],
   "source": [
    "%timeit zarr_arr.oindex[np.random.choice(len(arr), 512, False)]"
   ]
  },
  {
   "cell_type": "markdown",
   "metadata": {
    "hidden": true
   },
   "source": [
    "⚠️ In order to improve performance, it's beneficial for zarr arrays to sort the indices. "
   ]
  },
  {
   "cell_type": "code",
   "execution_count": null,
   "metadata": {
    "hidden": true
   },
   "outputs": [
    {
     "name": "stdout",
     "output_type": "stream",
     "text": [
      "100 loops, best of 5: 8.6 ms per loop\n"
     ]
    }
   ],
   "source": [
    "%timeit zarr_arr.oindex[np.sort(np.random.choice(len(arr), 512, False))]"
   ]
  },
  {
   "cell_type": "markdown",
   "metadata": {
    "hidden": true
   },
   "source": [
    "This is very slow!! 🤨\n",
    "\n",
    "We can use the chunks to make this faster. For an in-depth review on chunks you can read [this](https://docs.dask.org/en/latest/array-chunks.html). \n",
    "\n",
    "Best practices are: \n",
    "\n",
    "- If you can load the entire array into memory, you can turn off chunks by providing chunks=False, in which case there will be one single chunk for the array.\n",
    "- If you are only going to index using the 1st dimension, use chunks=(n, -1, -1) which will be faster. You'll need to define n. Later we'll see how to calculate it. \n",
    "- Usual chunk size is between 10MB - 1GB. \n",
    "\n",
    "\n",
    "⚠️ Note that chunks stands for “chunk shape” rather than “number of chunks”, so specifying chunks=1 means that you will have many chunks, each with exactly one element."
   ]
  },
  {
   "cell_type": "code",
   "execution_count": null,
   "metadata": {
    "hidden": true
   },
   "outputs": [
    {
     "data": {
      "text/plain": [
       "<zarr.core.Array (10000, 10, 100) float64>"
      ]
     },
     "execution_count": null,
     "metadata": {},
     "output_type": "execute_result"
    }
   ],
   "source": [
    "zarr_arr = zarr.open(path/'zarr.zarr', mode='w', shape=arr.shape, dtype=arr.dtype, chunks=(1, -1, -1))\n",
    "zarr_arr"
   ]
  },
  {
   "cell_type": "code",
   "execution_count": null,
   "metadata": {
    "hidden": true
   },
   "outputs": [
    {
     "name": "stdout",
     "output_type": "stream",
     "text": [
      "10 loops, best of 5: 56.9 ms per loop\n"
     ]
    }
   ],
   "source": [
    "%timeit zarr_arr.oindex[np.random.choice(len(arr), 512, False)]"
   ]
  },
  {
   "cell_type": "code",
   "execution_count": null,
   "metadata": {
    "hidden": true
   },
   "outputs": [
    {
     "name": "stdout",
     "output_type": "stream",
     "text": [
      "10 loops, best of 5: 35.5 ms per loop\n"
     ]
    }
   ],
   "source": [
    "%timeit zarr_arr.oindex[np.sort(np.random.choice(len(arr), 512, False))]"
   ]
  },
  {
   "cell_type": "code",
   "execution_count": null,
   "metadata": {
    "hidden": true
   },
   "outputs": [
    {
     "data": {
      "text/plain": [
       "(<zarr.core.Array (10000, 10, 100) float64>, (10000, 10, 100))"
      ]
     },
     "execution_count": null,
     "metadata": {},
     "output_type": "execute_result"
    }
   ],
   "source": [
    "zarr_arr = zarr.open(path/'zarr.zarr', mode='w', shape=arr.shape, dtype=arr.dtype, chunks=(-1, -1, -1))\n",
    "zarr_arr, zarr_arr.chunks"
   ]
  },
  {
   "cell_type": "code",
   "execution_count": null,
   "metadata": {
    "hidden": true
   },
   "outputs": [
    {
     "name": "stdout",
     "output_type": "stream",
     "text": [
      "100 loops, best of 5: 3.95 ms per loop\n"
     ]
    }
   ],
   "source": [
    "%timeit zarr_arr.oindex[np.random.choice(len(arr), 512, False)]"
   ]
  },
  {
   "cell_type": "code",
   "execution_count": null,
   "metadata": {
    "hidden": true
   },
   "outputs": [
    {
     "name": "stdout",
     "output_type": "stream",
     "text": [
      "1000 loops, best of 5: 982 µs per loop\n"
     ]
    }
   ],
   "source": [
    "%timeit zarr_arr.oindex[np.sort(np.random.choice(len(arr), 512, False))]"
   ]
  },
  {
   "cell_type": "markdown",
   "metadata": {
    "hidden": true
   },
   "source": [
    "We have learned 2 things: \n",
    "\n",
    "- For datasets that fit in memory, both numpy arrays and zarr arrays are very fast. Memmap arrays are slower.\n",
    "\n",
    "- Chunks have a great impact on zarr arrays performance. Always choose chunks=False for datasets that fit in memory. \n",
    "\n",
    "⚠️ chunks=False means a single data containing all data in the dataset. We can only do this when data fits in memory. "
   ]
  },
  {
   "cell_type": "markdown",
   "metadata": {
    "heading_collapsed": true
   },
   "source": [
    "# Larger-than-memory datasets 🤯"
   ]
  },
  {
   "cell_type": "markdown",
   "metadata": {
    "hidden": true
   },
   "source": [
    "We are going to create a larger-than_memory file with **dummy data**. \n",
    "\n",
    "Colab Pro has 13GB of RAM. The X_large file has 37GB. So we'll need to manage everything on disk.\n",
    "\n",
    "Data creation will take 1 min.\n",
    "\n",
    "\n",
    "⚠️ Remember to delete this file when you finish!"
   ]
  },
  {
   "cell_type": "code",
   "execution_count": null,
   "metadata": {
    "hidden": true
   },
   "outputs": [
    {
     "data": {
      "text/plain": [
       "memmap([[[0., 0., 0., ..., 0., 0., 0.],\n",
       "         [0., 0., 0., ..., 0., 0., 0.],\n",
       "         [0., 0., 0., ..., 0., 0., 0.],\n",
       "         ...,\n",
       "         [0., 0., 0., ..., 0., 0., 0.],\n",
       "         [0., 0., 0., ..., 0., 0., 0.],\n",
       "         [0., 0., 0., ..., 0., 0., 0.]],\n",
       "\n",
       "        [[0., 0., 0., ..., 0., 0., 0.],\n",
       "         [0., 0., 0., ..., 0., 0., 0.],\n",
       "         [0., 0., 0., ..., 0., 0., 0.],\n",
       "         ...,\n",
       "         [0., 0., 0., ..., 0., 0., 0.],\n",
       "         [0., 0., 0., ..., 0., 0., 0.],\n",
       "         [0., 0., 0., ..., 0., 0., 0.]],\n",
       "\n",
       "        [[0., 0., 0., ..., 0., 0., 0.],\n",
       "         [0., 0., 0., ..., 0., 0., 0.],\n",
       "         [0., 0., 0., ..., 0., 0., 0.],\n",
       "         ...,\n",
       "         [0., 0., 0., ..., 0., 0., 0.],\n",
       "         [0., 0., 0., ..., 0., 0., 0.],\n",
       "         [0., 0., 0., ..., 0., 0., 0.]],\n",
       "\n",
       "        ...,\n",
       "\n",
       "        [[0., 0., 0., ..., 0., 0., 0.],\n",
       "         [0., 0., 0., ..., 0., 0., 0.],\n",
       "         [0., 0., 0., ..., 0., 0., 0.],\n",
       "         ...,\n",
       "         [0., 0., 0., ..., 0., 0., 0.],\n",
       "         [0., 0., 0., ..., 0., 0., 0.],\n",
       "         [0., 0., 0., ..., 0., 0., 0.]],\n",
       "\n",
       "        [[0., 0., 0., ..., 0., 0., 0.],\n",
       "         [0., 0., 0., ..., 0., 0., 0.],\n",
       "         [0., 0., 0., ..., 0., 0., 0.],\n",
       "         ...,\n",
       "         [0., 0., 0., ..., 0., 0., 0.],\n",
       "         [0., 0., 0., ..., 0., 0., 0.],\n",
       "         [0., 0., 0., ..., 0., 0., 0.]],\n",
       "\n",
       "        [[0., 0., 0., ..., 0., 0., 0.],\n",
       "         [0., 0., 0., ..., 0., 0., 0.],\n",
       "         [0., 0., 0., ..., 0., 0., 0.],\n",
       "         ...,\n",
       "         [0., 0., 0., ..., 0., 0., 0.],\n",
       "         [0., 0., 0., ..., 0., 0., 0.],\n",
       "         [0., 0., 0., ..., 0., 0., 0.]]], dtype=float32)"
      ]
     },
     "execution_count": null,
     "metadata": {},
     "output_type": "execute_result"
    }
   ],
   "source": [
    "X_large = create_empty_array((1_000_000, 10, 1000), fname='X_large', mode='r+')\n",
    "del X_large\n",
    "X_large = np.load(path/'X_large.npy', mmap_mode='r+')\n",
    "X_large"
   ]
  },
  {
   "cell_type": "code",
   "execution_count": null,
   "metadata": {
    "hidden": true
   },
   "outputs": [
    {
     "data": {
      "text/plain": [
       "memmap(['b', 'a', 'a', ..., 'c', 'a', 'b'], dtype='<U1')"
      ]
     },
     "execution_count": null,
     "metadata": {},
     "output_type": "execute_result"
    }
   ],
   "source": [
    "y_large = np.array(['a', 'b', 'c'])[np.random.randint(0, 3, len(X_large))]\n",
    "np.save(path/'y_large.npy', y_large)\n",
    "del y_large\n",
    "y_large = np.load(path/'y_large.npy', mmap_mode='r+')\n",
    "y_large"
   ]
  },
  {
   "cell_type": "code",
   "execution_count": null,
   "metadata": {
    "hidden": true
   },
   "outputs": [
    {
     "data": {
      "image/png": "[encoded data removed]",
      "text/plain": [
       "<Figure size 1152x36 with 1 Axes>"
      ]
     },
     "metadata": {
      "needs_background": "light"
     },
     "output_type": "display_data"
    }
   ],
   "source": [
    "splits = TimeSplitter()(y_large)"
   ]
  },
  {
   "cell_type": "markdown",
   "metadata": {
    "hidden": true
   },
   "source": [
    "Let's see what's the performance of memmap arrays when they are indexed (simulating a batch creation process): "
   ]
  },
  {
   "cell_type": "code",
   "execution_count": null,
   "metadata": {
    "hidden": true
   },
   "outputs": [
    {
     "name": "stdout",
     "output_type": "stream",
     "text": [
      "1 loop, best of 5: 1.41 s per loop\n"
     ]
    }
   ],
   "source": [
    "%timeit X_large[np.random.choice(len(X_large), 512, False)]"
   ]
  },
  {
   "cell_type": "markdown",
   "metadata": {
    "hidden": true
   },
   "source": [
    "Let's now create a zarr array on disk with the same shape. In this case we are not setting chunks to be able to benchmark performance. "
   ]
  },
  {
   "cell_type": "code",
   "execution_count": null,
   "metadata": {
    "hidden": true
   },
   "outputs": [
    {
     "data": {
      "text/plain": [
       "(<zarr.core.Array (1000000, 10, 1000) float32>, (31250, 1, 63))"
      ]
     },
     "execution_count": null,
     "metadata": {},
     "output_type": "execute_result"
    }
   ],
   "source": [
    "X_large_zarr = zarr.open(path/'X_large.zarr', mode='w', shape=X_large.shape, dtype=X_large.dtype)\n",
    "X_large_zarr, X_large_zarr.chunks"
   ]
  },
  {
   "cell_type": "code",
   "execution_count": null,
   "metadata": {
    "hidden": true
   },
   "outputs": [
    {
     "name": "stdout",
     "output_type": "stream",
     "text": [
      "1 loop, best of 5: 517 ms per loop\n"
     ]
    }
   ],
   "source": [
    "%timeit X_large_zarr.oindex[np.random.choice(len(X_large), 512, False)]"
   ]
  },
  {
   "cell_type": "markdown",
   "metadata": {
    "hidden": true
   },
   "source": [
    "This is faster (3x on my machine)!!! \n",
    "\n",
    "Now we'll apply a better chunking strategy: "
   ]
  },
  {
   "cell_type": "code",
   "execution_count": null,
   "metadata": {
    "hidden": true
   },
   "outputs": [
    {
     "data": {
      "text/plain": [
       "(<zarr.core.Array (1000000, 10, 1000) float32>, (1, 10, 1000))"
      ]
     },
     "execution_count": null,
     "metadata": {},
     "output_type": "execute_result"
    }
   ],
   "source": [
    "X_large_zarr = zarr.open(path/'X_large.zarr', mode='w', shape=X_large.shape, dtype=X_large.dtype, chunks=(1, -1, -1))\n",
    "X_large_zarr, X_large_zarr.chunks"
   ]
  },
  {
   "cell_type": "code",
   "execution_count": null,
   "metadata": {
    "hidden": true
   },
   "outputs": [
    {
     "name": "stdout",
     "output_type": "stream",
     "text": [
      "1 loop, best of 5: 211 ms per loop\n"
     ]
    }
   ],
   "source": [
    "%timeit X_large_zarr.oindex[np.random.choice(len(X_large), 512, False)]"
   ]
  },
  {
   "cell_type": "markdown",
   "metadata": {
    "hidden": true
   },
   "source": [
    "This is much faster. 7x faster than memmap arrays. "
   ]
  },
  {
   "cell_type": "markdown",
   "metadata": {
    "hidden": true
   },
   "source": [
    "Let's calculate a chunk of 1GB. There are 37GB in 1_000_000 samples. "
   ]
  },
  {
   "cell_type": "code",
   "execution_count": null,
   "metadata": {
    "hidden": true
   },
   "outputs": [
    {
     "data": {
      "text/plain": [
       "27027"
      ]
     },
     "execution_count": null,
     "metadata": {},
     "output_type": "execute_result"
    }
   ],
   "source": [
    "1_000_000//37"
   ]
  },
  {
   "cell_type": "markdown",
   "metadata": {
    "hidden": true
   },
   "source": [
    "Let's use 25_000 samples per chunk."
   ]
  },
  {
   "cell_type": "code",
   "execution_count": null,
   "metadata": {
    "hidden": true
   },
   "outputs": [
    {
     "data": {
      "text/plain": [
       "(<zarr.core.Array (1000000, 10, 1000) float32>, (25000, 10, 1000))"
      ]
     },
     "execution_count": null,
     "metadata": {},
     "output_type": "execute_result"
    }
   ],
   "source": [
    "X_large_zarr = zarr.open(path/'X_large.zarr', mode='w', shape=X_large.shape, dtype=X_large.dtype, chunks=(25_000, -1, -1))\n",
    "X_large_zarr, X_large_zarr.chunks"
   ]
  },
  {
   "cell_type": "code",
   "execution_count": null,
   "metadata": {
    "hidden": true
   },
   "outputs": [
    {
     "name": "stdout",
     "output_type": "stream",
     "text": [
      "10 loops, best of 5: 64.8 ms per loop\n"
     ]
    }
   ],
   "source": [
    "%timeit X_large_zarr.oindex[np.random.choice(len(X_large), 512, False)]"
   ]
  },
  {
   "cell_type": "markdown",
   "metadata": {
    "hidden": true
   },
   "source": [
    "Excellent!!! 🙃 I'm starting to really like zarr arrays!!!\n",
    "\n",
    "One more idea. Zarr arrays are faster when the indices are sorted. Let's try it: "
   ]
  },
  {
   "cell_type": "code",
   "execution_count": null,
   "metadata": {
    "hidden": true
   },
   "outputs": [
    {
     "name": "stdout",
     "output_type": "stream",
     "text": [
      "10 loops, best of 5: 25.9 ms per loop\n"
     ]
    }
   ],
   "source": [
    "%timeit X_large_zarr.oindex[np.sort(np.random.choice(len(X_large), 512, False))]"
   ]
  },
  {
   "cell_type": "markdown",
   "metadata": {
    "hidden": true
   },
   "source": [
    "\n",
    "This is an excellent performance for a large, on-disk dataset like this. It's 50 times faster than memmap arrays!!! 🚀🚀🚀🚀🚀\n",
    "\n",
    "Zarr arrays are very useful when dealing with larger-then-memory datasets.\n",
    "\n",
    "There are some important concepts to unsertand why zarr arrays are so fast to index: \n",
    "\n",
    "- Chunks are parts of the array that are loaded in memory at the same time. This makes indexing more efficient. \n",
    "\n",
    "- Zarr arrays are compressed. This also improves the loading of data in memory. \n",
    "\n",
    "- Zarr arrays can be concurrently read and written by multiple threads or processes."
   ]
  },
  {
   "cell_type": "markdown",
   "metadata": {
    "heading_collapsed": true,
    "hidden": true
   },
   "source": [
    "## Key learnings: "
   ]
  },
  {
   "cell_type": "markdown",
   "metadata": {
    "hidden": true
   },
   "source": [
    "- For datasets that fit in memory, use numpy arrays or np.memmap arrays. \n",
    "\n",
    "- For larger than memory datasets, use zarr arrays. \n",
    "\n",
    "- Set up chunks=(n, -1, -1)\n",
    "\n",
    "- To determine the n, a rule of thumb is to calculate the number of samples that fit in 1GB of memory. \n",
    "\n",
    "- Sort the indices before indexing the array. \n",
    "\n",
    "\n",
    "The tsai library applies all these learnings to achieve the fastest possible performance for larger-than-memory datasets\n",
    "\n"
   ]
  },
  {
   "cell_type": "markdown",
   "metadata": {
    "heading_collapsed": true
   },
   "source": [
    "# Training  🏃🏽‍♀️"
   ]
  },
  {
   "cell_type": "code",
   "execution_count": null,
   "metadata": {
    "hidden": true
   },
   "outputs": [
    {
     "data": {
      "image/png": "[encoded data removed]",
      "text/plain": [
       "<Figure size 1152x36 with 1 Axes>"
      ]
     },
     "metadata": {
      "needs_background": "light"
     },
     "output_type": "display_data"
    }
   ],
   "source": [
    "X_large_zarr = zarr.open(path/'X_large.zarr', mode='w', shape=X_large.shape, dtype=X_large.dtype, chunks=(25_000, -1, -1))\n",
    "y_large_zarr = zarr.open(path/'y_large.zarr', mode='w', shape=y_large.shape, dtype=y_large.dtype, chunks=(25_000))\n",
    "splits = TimeSplitter()(y_large)"
   ]
  },
  {
   "cell_type": "markdown",
   "metadata": {
    "hidden": true
   },
   "source": [
    "When creating the dataloaders, there are 2 important things to remember:\n",
    "\n",
    "1. If you are dealing with a classification task and need to transform the lavels, use TSClassification. It's vectorized version of Categorize that run much faster.\n",
    "\n",
    "2. Set inplace to False. This is required when the data doesn't fit in memory. If you don't use it your system will crash and you will need to start again. \n",
    "\n",
    "3. Increasing num_workers=cpus may also reduce the training time. \n",
    "\n",
    "\n",
    "⚠️ Note: bear in mind we are using dummy data. We are not intereted in accuracy. We are interested in time/epoch."
   ]
  },
  {
   "cell_type": "markdown",
   "metadata": {
    "heading_collapsed": true,
    "hidden": true
   },
   "source": [
    "## np.memmap"
   ]
  },
  {
   "cell_type": "code",
   "execution_count": null,
   "metadata": {
    "hidden": true
   },
   "outputs": [
    {
     "data": {
      "text/html": [
       "<table border=\"1\" class=\"dataframe\">\n",
       "  <thead>\n",
       "    <tr style=\"text-align: left;\">\n",
       "      <th>epoch</th>\n",
       "      <th>train_loss</th>\n",
       "      <th>valid_loss</th>\n",
       "      <th>accuracy</th>\n",
       "      <th>time</th>\n",
       "    </tr>\n",
       "  </thead>\n",
       "  <tbody>\n",
       "    <tr>\n",
       "      <td>0</td>\n",
       "      <td>1.098610</td>\n",
       "      <td>1.098615</td>\n",
       "      <td>0.333765</td>\n",
       "      <td>47:50</td>\n",
       "    </tr>\n",
       "  </tbody>\n",
       "</table>"
      ],
      "text/plain": [
       "<IPython.core.display.HTML object>"
      ]
     },
     "metadata": {},
     "output_type": "display_data"
    },
    {
     "data": {
      "image/png": "[encoded data removed]",
      "text/plain": [
       "<Figure size 432x288 with 1 Axes>"
      ]
     },
     "metadata": {},
     "output_type": "display_data"
    },
    {
     "name": "stdout",
     "output_type": "stream",
     "text": [
      "not enough values to plot a chart\n",
      "Total time        : 0:47:51.242024\n"
     ]
    }
   ],
   "source": [
    "tfms = [None, TSClassification()]\n",
    "batch_tfms = TSStandardize(by_sample=True)\n",
    "dls = get_ts_dls(X_large, y_large, splits=splits, tfms=tfms, batch_tfms=batch_tfms, inplace=False, bs=[512, 1_024], num_workers=cpus)\n",
    "learn = ts_learner(dls, InceptionTimePlus, metrics=accuracy, cbs=ShowGraph())\n",
    "timer.start()\n",
    "learn.fit_one_cycle(1, 1e-2)\n",
    "timer.stop()"
   ]
  },
  {
   "cell_type": "markdown",
   "metadata": {
    "hidden": true
   },
   "source": [
    "47 minutes / epoch. That's slow!\n",
    "\n",
    "In this case, GPU utilization is very variable, although a lot of the time stays at 0%. That is because the dataloader takes time to build the batches because indexing is pretty slow with np.memmap arrays with such a large dataset."
   ]
  },
  {
   "cell_type": "markdown",
   "metadata": {
    "heading_collapsed": true,
    "hidden": true
   },
   "source": [
    "## zarr arrays"
   ]
  },
  {
   "cell_type": "markdown",
   "metadata": {
    "hidden": true
   },
   "source": [
    "We'll try first with num_workers=0."
   ]
  },
  {
   "cell_type": "code",
   "execution_count": null,
   "metadata": {
    "hidden": true
   },
   "outputs": [
    {
     "data": {
      "text/html": [
       "<table border=\"1\" class=\"dataframe\">\n",
       "  <thead>\n",
       "    <tr style=\"text-align: left;\">\n",
       "      <th>epoch</th>\n",
       "      <th>train_loss</th>\n",
       "      <th>valid_loss</th>\n",
       "      <th>accuracy</th>\n",
       "      <th>time</th>\n",
       "    </tr>\n",
       "  </thead>\n",
       "  <tbody>\n",
       "    <tr>\n",
       "      <td>0</td>\n",
       "      <td>0.000000</td>\n",
       "      <td>0.000000</td>\n",
       "      <td>1.000000</td>\n",
       "      <td>16:43</td>\n",
       "    </tr>\n",
       "  </tbody>\n",
       "</table>"
      ],
      "text/plain": [
       "<IPython.core.display.HTML object>"
      ]
     },
     "metadata": {},
     "output_type": "display_data"
    },
    {
     "data": {
      "image/png": "[encoded data removed]",
      "text/plain": [
       "<Figure size 432x288 with 1 Axes>"
      ]
     },
     "metadata": {},
     "output_type": "display_data"
    },
    {
     "name": "stderr",
     "output_type": "stream",
     "text": [
      "/usr/local/lib/python3.7/dist-packages/tsai/callback/core.py:105: UserWarning: Attempting to set identical bottom == top == 0.0 results in singular transformations; automatically expanding.\n",
      "  if y_bounds is not None: self.graph_ax.set_ylim(*y_bounds)\n"
     ]
    },
    {
     "name": "stdout",
     "output_type": "stream",
     "text": [
      "not enough values to plot a chart\n",
      "Total time        : 0:16:44.367853\n"
     ]
    }
   ],
   "source": [
    "tfms = [None, TSClassification()]\n",
    "batch_tfms = TSStandardize(by_sample=True)\n",
    "dls = get_ts_dls(X_large_zarr, y_large_zarr, splits=splits, tfms=tfms, batch_tfms=batch_tfms, inplace=False, bs=[512, 1_024], num_workers=0)\n",
    "learn = ts_learner(dls, InceptionTimePlus, metrics=accuracy, cbs=ShowGraph())\n",
    "timer.start()\n",
    "learn.fit_one_cycle(1, 1e-2)\n",
    "timer.stop()"
   ]
  },
  {
   "cell_type": "markdown",
   "metadata": {
    "hidden": true
   },
   "source": [
    "That's great. An interesting finding is that most of the time the GPU utilization is 100%. This means the batch creation process is no longer a bottleneck. That's why speed is much faster. To further reduce time, we'd need a better GPU and/ or multiple GPUs."
   ]
  },
  {
   "cell_type": "code",
   "execution_count": null,
   "metadata": {
    "hidden": true
   },
   "outputs": [
    {
     "data": {
      "text/html": [
       "<table border=\"1\" class=\"dataframe\">\n",
       "  <thead>\n",
       "    <tr style=\"text-align: left;\">\n",
       "      <th>epoch</th>\n",
       "      <th>train_loss</th>\n",
       "      <th>valid_loss</th>\n",
       "      <th>accuracy</th>\n",
       "      <th>time</th>\n",
       "    </tr>\n",
       "  </thead>\n",
       "  <tbody>\n",
       "    <tr>\n",
       "      <td>0</td>\n",
       "      <td>0.000000</td>\n",
       "      <td>0.000000</td>\n",
       "      <td>1.000000</td>\n",
       "      <td>16:26</td>\n",
       "    </tr>\n",
       "  </tbody>\n",
       "</table>"
      ],
      "text/plain": [
       "<IPython.core.display.HTML object>"
      ]
     },
     "metadata": {},
     "output_type": "display_data"
    },
    {
     "data": {
      "image/png": "[encoded data removed]",
      "text/plain": [
       "<Figure size 432x288 with 1 Axes>"
      ]
     },
     "metadata": {},
     "output_type": "display_data"
    },
    {
     "name": "stderr",
     "output_type": "stream",
     "text": [
      "/usr/local/lib/python3.7/dist-packages/tsai/callback/core.py:105: UserWarning: Attempting to set identical bottom == top == 0.0 results in singular transformations; automatically expanding.\n",
      "  if y_bounds is not None: self.graph_ax.set_ylim(*y_bounds)\n"
     ]
    },
    {
     "name": "stdout",
     "output_type": "stream",
     "text": [
      "not enough values to plot a chart\n",
      "Total time        : 0:16:26.761193\n"
     ]
    }
   ],
   "source": [
    "tfms = [None, TSClassification()]\n",
    "batch_tfms = TSStandardize(by_sample=True)\n",
    "dls = get_ts_dls(X_large_zarr, y_large_zarr, splits=splits, tfms=tfms, batch_tfms=batch_tfms, inplace=False, bs=[512, 1_024], num_workers=cpus) # cpus=4\n",
    "learn = ts_learner(dls, InceptionTimePlus, metrics=accuracy, cbs=ShowGraph())\n",
    "timer.start()\n",
    "learn.fit_one_cycle(1, 1e-2)\n",
    "timer.stop()"
   ]
  },
  {
   "cell_type": "markdown",
   "metadata": {
    "hidden": true
   },
   "source": [
    "Setting num_workers=cpus didn't help much here probably because the bottleneck is now the GPU. It doesn't matter if the dataloader is faster at generating batches, because the network cannot process them so quickly. I would think that with a more powerful GPU setting num_workers>0 could probably work. \n",
    "\n",
    "In any case, the goal is to ensure maximum utilization of your GPU. You can easily get a view of GPU utilization by running this code in your terminal during training: \n",
    "\n",
    "```\n",
    "watch -n .2 nvidia-smi\n",
    "```"
   ]
  },
  {
   "cell_type": "markdown",
   "metadata": {
    "heading_collapsed": true
   },
   "source": [
    "# Conclusion ✅"
   ]
  },
  {
   "cell_type": "markdown",
   "metadata": {
    "hidden": true
   },
   "source": [
    "In this notebook we have learned how we can train a model with a large dataset in tsai. By using zarr arrays and setting the chunks parameter to an optimal value, we can really speed up training 3x!!\n",
    "\n",
    "Key points: \n",
    "\n",
    "- if you dataset fits in memory, use np.arrays or zarr arrays whith chunks = False.\n",
    "- if your dataset doesn't fit in memory, our recommended format is zarr with chunks = (n, -1, -1)\n",
    "- the new chunks_calculator in tsai automatically calculates that value. Just use \n",
    "\n",
    "   ```\n",
    "   chunks = chunks_calculator(array.shape, array.dtype)\n",
    "   ```\n",
    "- You may also try setting num_workers=cpus, as zarr arrays support parallel computing. This usually improves performance too. \n",
    "- By using all this you'll be able to significantly reduce your training time when using out-of-memory datasets. \n",
    "- `tsai` currently supports multiple input data types, including: \n",
    "\n",
    "   * np.ndarray\n",
    "   * list\n",
    "   * L\n",
    "   * np.memmap\n",
    "   * dask.array\n",
    "   * xarray\n",
    "   * zarr\n",
    "\n",
    "   The last 4 have the benefit that they can be used on-disk (out-of-core learning), with larger-than-memory datasets.\n",
    "\n",
    "We hope you've find this tutorial useful. If you have any questions/ issues don't hesitate to visit [tsai](https://github.com/timeseriesAI/tsai) in GitHub!!"
   ]
  },
  {
   "cell_type": "markdown",
   "metadata": {
    "heading_collapsed": true
   },
   "source": [
    "# Additional tests"
   ]
  },
  {
   "cell_type": "markdown",
   "metadata": {
    "heading_collapsed": true,
    "hidden": true
   },
   "source": [
    "## Chunks benchmark"
   ]
  },
  {
   "cell_type": "code",
   "execution_count": null,
   "metadata": {
    "hidden": true
   },
   "outputs": [
    {
     "name": "stdout",
     "output_type": "stream",
     "text": [
      "\n",
      "shape: (1000, 10, 1000)\n",
      "    batch size: 64\n",
      "        memmap               chunks: N/A                 :   0.000589\n",
      "        zarr_default         chunks: (250, 3, 250)       :   0.008723\n",
      "        zarr_1               chunks: (1, 10, 1000)       :   0.015477\n",
      "        zarr_auto            chunks: (1000, 10, 1000)    :   0.000913\n",
      "        zarr_unchunked       chunks: (1000, 10, 1000)    :   0.000917\n",
      "    batch size: 512\n",
      "        memmap               chunks: N/A                 :   0.020232\n",
      "        zarr_default         chunks: (250, 3, 250)       :   0.028686\n",
      "        zarr_1               chunks: (1, 10, 1000)       :   0.137249\n",
      "        zarr_auto            chunks: (1000, 10, 1000)    :   0.017940\n",
      "        zarr_unchunked       chunks: (1000, 10, 1000)    :   0.017983\n",
      "\n",
      "shape: (10000, 10, 1000)\n",
      "    batch size: 64\n",
      "        memmap               chunks: N/A                 :   0.000882\n",
      "        zarr_default         chunks: (1250, 2, 125)      :   0.034200\n",
      "        zarr_1               chunks: (1, 10, 1000)       :   0.015522\n",
      "        zarr_auto            chunks: (10000, 10, 1000)   :   0.001104\n",
      "        zarr_unchunked       chunks: (10000, 10, 1000)   :   0.001080\n",
      "    batch size: 512\n",
      "        memmap               chunks: N/A                 :   0.020877\n",
      "        zarr_default         chunks: (1250, 2, 125)      :   0.059502\n",
      "        zarr_1               chunks: (1, 10, 1000)       :   0.134743\n",
      "        zarr_auto            chunks: (10000, 10, 1000)   :   0.017995\n",
      "        zarr_unchunked       chunks: (10000, 10, 1000)   :   0.018066\n",
      "\n",
      "shape: (100000, 10, 1000)\n",
      "    batch size: 64\n",
      "        memmap               chunks: N/A                 :   0.100249\n",
      "        zarr_default         chunks: (6250, 1, 125)      :   0.146941\n",
      "        zarr_1               chunks: (1, 10, 1000)       :   0.018990\n",
      "        zarr_auto            chunks: (26757, 10, 1000)   :   0.003746\n",
      "        zarr_unchunked       chunks: (100000, 10, 1000)  :   0.003110\n",
      "    batch size: 512\n",
      "        memmap               chunks: N/A                 :   0.601841\n",
      "        zarr_default         chunks: (6250, 1, 125)      :   0.164207\n",
      "        zarr_1               chunks: (1, 10, 1000)       :   0.138349\n",
      "        zarr_auto            chunks: (26757, 10, 1000)   :   0.018485\n",
      "        zarr_unchunked       chunks: (100000, 10, 1000)  :   0.017794\n",
      "\n",
      "shape: (1000000, 10, 1000)\n",
      "    batch size: 64\n",
      "        memmap               chunks: N/A                 :   0.211840\n",
      "        zarr_default         chunks: (31250, 1, 63)      :   0.460088\n",
      "        zarr_1               chunks: (1, 10, 1000)       :   0.052718\n",
      "        zarr_auto            chunks: (27028, 10, 1000)   :   0.034241\n",
      "    batch size: 512\n",
      "        memmap               chunks: N/A                 :   1.694527\n",
      "        zarr_default         chunks: (31250, 1, 63)      :   0.593565\n",
      "        zarr_1               chunks: (1, 10, 1000)       :   0.173024\n",
      "        zarr_auto            chunks: (27028, 10, 1000)   :   0.053061\n"
     ]
    }
   ],
   "source": [
    "for n in np.asarray([1e3, 1e4, 1e5, 1e6], dtype=int):\n",
    "    shape = (n, 10, 1000)\n",
    "    dtype = 'float32'\n",
    "    X_memmap = create_empty_array(shape, fname=f'X_{n}', mode='r+', dtype=dtype)\n",
    "    X_zarr_default = zarr.open(path/f'X_{n}.zarr', mode='w', shape=shape, dtype=dtype)\n",
    "    X_zarr_1 = zarr.open(path/f'X_{n}.zarr', mode='w', shape=shape, dtype=dtype, chunks=(1, None, None))\n",
    "    X_zarr_auto = zarr.open(path/f'X_{n}.zarr', mode='w', shape=shape, dtype=dtype, chunks=chunks_calculator(shape, dtype))\n",
    "    if n <= 100_000:\n",
    "        X_zarr_unchunked = zarr.open(path/f'X_{n}.zarr', mode='w', shape=shape, dtype=dtype, chunks=False)\n",
    "    else: \n",
    "        X_zarr_unchunked = None\n",
    "    \n",
    "    print(f'\\nshape: {shape}')\n",
    "    for bs in [64, 512]:\n",
    "        print(f'    batch size: {bs}')\n",
    "        for name,arr in zip(['memmap', 'zarr_default', 'zarr_1', 'zarr_auto', 'zarr_unchunked'], [X_memmap, X_zarr_default, X_zarr_1, X_zarr_auto, X_zarr_unchunked]):\n",
    "            if arr is None: continue\n",
    "            if hasattr(arr, 'oindex'):\n",
    "                res = %timeit -o -q arr.oindex[np.sort(np.random.choice(len(arr), bs, False))]\n",
    "            else: \n",
    "                res = %timeit -o -q arr[np.sort(np.random.choice(len(arr), bs, False))]\n",
    "            print(f'        {name:20} chunks: {str(arr.chunks) if hasattr(arr, \"chunks\") else \"N/A\":20}: {res.best:10.6f}')"
   ]
  },
  {
   "cell_type": "markdown",
   "metadata": {
    "heading_collapsed": true,
    "hidden": true
   },
   "source": [
    "## Dataloader speed"
   ]
  },
  {
   "cell_type": "markdown",
   "metadata": {
    "hidden": true
   },
   "source": [
    "Let's now measure the time it takes the dataloader to create all batches in an epoch.\n",
    "\n",
    "First, we'll build the dataloaders:"
   ]
  },
  {
   "cell_type": "code",
   "execution_count": null,
   "metadata": {
    "hidden": true
   },
   "outputs": [
    {
     "data": {
      "text/plain": [
       "(<zarr.core.Array (1000000, 10, 1000) float32>, (27028, 10, 1000))"
      ]
     },
     "execution_count": null,
     "metadata": {},
     "output_type": "execute_result"
    }
   ],
   "source": [
    "X_large_zarr = zarr.open(path/'X_large.zarr', mode='w', shape=(1_000_000, 10, 1000), dtype='float32', chunks=chunks_calculator((1_000_000, 10, 1000), 'float32'))\n",
    "X_large_zarr, X_large_zarr.chunks"
   ]
  },
  {
   "cell_type": "code",
   "execution_count": null,
   "metadata": {
    "hidden": true
   },
   "outputs": [
    {
     "data": {
      "text/plain": [
       "(<zarr.core.Array (1000000,) <U1>, (1000000,))"
      ]
     },
     "execution_count": null,
     "metadata": {},
     "output_type": "execute_result"
    }
   ],
   "source": [
    "y_large = np.array(['a', 'b', 'c'])[np.random.randint(0, 3, 1_000_000)]\n",
    "np.save(path/'y_large.npy', y_large)\n",
    "del y_large\n",
    "y_large = np.load(path/'y_large.npy', mmap_mode='r+')\n",
    "y_large_zarr = zarr.open(path/'y_large.zarr', mode='w', shape=y_large.shape, dtype=y_large.dtype, chunks=chunks_calculator(y_large.shape, y_large.dtype))\n",
    "y_large_zarr, y_large_zarr.chunks"
   ]
  },
  {
   "cell_type": "code",
   "execution_count": null,
   "metadata": {
    "hidden": true
   },
   "outputs": [
    {
     "data": {
      "image/png": "[encoded data removed]",
      "text/plain": [
       "<Figure size 1152x36 with 1 Axes>"
      ]
     },
     "metadata": {
      "needs_background": "light"
     },
     "output_type": "display_data"
    }
   ],
   "source": [
    "splits = TimeSplitter()(y_large_zarr)"
   ]
  },
  {
   "cell_type": "code",
   "execution_count": null,
   "metadata": {
    "hidden": true
   },
   "outputs": [],
   "source": [
    "tfms = [None, TSClassification()]\n",
    "batch_tfms = TSStandardize(by_sample=True)\n",
    "dls = get_ts_dls(X_large_zarr, y_large_zarr, splits=splits, tfms=tfms, batch_tfms=batch_tfms, inplace=False, bs=[512, 1_024])\n",
    "train_dl = dls.train\n",
    "valid_dl = dls.valid"
   ]
  },
  {
   "cell_type": "code",
   "execution_count": null,
   "metadata": {
    "hidden": true
   },
   "outputs": [
    {
     "name": "stdout",
     "output_type": "stream",
     "text": [
      "Total time        : 0:00:47.665007\n"
     ]
    }
   ],
   "source": [
    "timer.start()\n",
    "for _ in train_dl: _\n",
    "timer.stop()"
   ]
  },
  {
   "cell_type": "code",
   "execution_count": null,
   "metadata": {
    "hidden": true
   },
   "outputs": [
    {
     "name": "stdout",
     "output_type": "stream",
     "text": [
      "Total time        : 0:00:06.226197\n"
     ]
    }
   ],
   "source": [
    "timer.start()\n",
    "for _ in valid_dl: _\n",
    "timer.stop()"
   ]
  },
  {
   "cell_type": "markdown",
   "metadata": {
    "hidden": true
   },
   "source": [
    "It takes the dataloader <1 minute to  generate all batches in an epoch. That means that most of the time is spend on the GPU once the batches are passed to the model. "
   ]
  }
 ],
 "metadata": {
  "kernelspec": {
   "display_name": "Python 3",
   "language": "python",
   "name": "python3"
  },
  "language_info": {
   "codemirror_mode": {
    "name": "ipython",
    "version": 3
   },
   "file_extension": ".py",
   "mimetype": "text/x-python",
   "name": "python",
   "nbconvert_exporter": "python",
   "pygments_lexer": "ipython3",
   "version": "3.6.13"
  },
  "toc": {
   "base_numbering": 1,
   "nav_menu": {},
   "number_sections": true,
   "sideBar": true,
   "skip_h1_title": false,
   "title_cell": "Table of Contents",
   "title_sidebar": "Contents",
   "toc_cell": false,
   "toc_position": {},
   "toc_section_display": true,
   "toc_window_display": false
  }
 },
 "nbformat": 4,
 "nbformat_minor": 1
}
