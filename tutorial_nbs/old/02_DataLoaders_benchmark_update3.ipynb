{
 "cells": [
  {
   "cell_type": "markdown",
   "metadata": {
    "heading_collapsed": true
   },
   "source": [
    "## DataLoaders requirements"
   ]
  },
  {
   "cell_type": "markdown",
   "metadata": {
    "hidden": true
   },
   "source": [
    "* Use univariate and multivariate time series\n",
    "* Use labeled (X,y) and unlabeled (X,) datasets\n",
    "* In-memory and on-disk np.arrays (np.memmap)\n",
    "* Slice the dataset (based on selected variables and/ or sequence steps)\n",
    "* Use item and batch tfms\n",
    "* Create batch with specified output types (TSTensor, TensorCategory, etc)\n",
    "* Show batch (with tfms)\n",
    "* Add test data and unlabeled datasets\n",
    "* Better performance than native Pytorch, fastai v1 & vanilla fastai v2"
   ]
  },
  {
   "cell_type": "markdown",
   "metadata": {
    "heading_collapsed": true
   },
   "source": [
    "## Import libraries"
   ]
  },
  {
   "cell_type": "code",
   "execution_count": 1,
   "metadata": {
    "ExecuteTime": {
     "end_time": "2020-04-04T11:56:17.892439Z",
     "start_time": "2020-04-04T11:56:17.803678Z"
    },
    "hidden": true
   },
   "outputs": [],
   "source": [
    "import sys\n",
    "import os\n",
    "ISCOLAB = 'google.colab' in sys.modules\n",
    "if ISCOLAB:\n",
    "    if not os.path.isdir('/content/timeseriesAI2'):\n",
    "        !pip install git+https://github.com/fastai/fastai2 \n",
    "        !pip install git+https://github.com/fastai/fastcore \n",
    "        !pip install pyunpack\n",
    "        !pip install sktime\n",
    "        !git clone https://github.com/timeseriesAI/timeseriesAI2.git\n",
    "        %cd timeseriesAI2\n",
    "    else: \n",
    "        path = !pwd\n",
    "        if path != ['/content/timeseriesAI2']: \n",
    "            %cd timeseriesAI2\n",
    "        !pwd"
   ]
  },
  {
   "cell_type": "code",
   "execution_count": 2,
   "metadata": {
    "ExecuteTime": {
     "end_time": "2020-04-04T11:56:18.277915Z",
     "start_time": "2020-04-04T11:56:18.240345Z"
    },
    "hidden": true
   },
   "outputs": [
    {
     "data": {
      "text/html": [
       "<style>.container {width:95% !important; }</style>"
      ],
      "text/plain": [
       "<IPython.core.display.HTML object>"
      ]
     },
     "metadata": {},
     "output_type": "display_data"
    }
   ],
   "source": [
    "from IPython.display import display, HTML\n",
    "display(HTML(\"<style>.container {width:95% !important; }</style>\"))"
   ]
  },
  {
   "cell_type": "code",
   "execution_count": 3,
   "metadata": {
    "ExecuteTime": {
     "end_time": "2020-04-04T11:56:32.528446Z",
     "start_time": "2020-04-04T11:56:20.406027Z"
    },
    "hidden": true
   },
   "outputs": [],
   "source": [
    "from fastai2.torch_core import *\n",
    "from fastai2.data.all import *\n",
    "from fastai2.learner import *\n",
    "from fastai2.metrics import *\n",
    "from fastai2.callback.all import *"
   ]
  },
  {
   "cell_type": "code",
   "execution_count": 4,
   "metadata": {
    "ExecuteTime": {
     "end_time": "2020-04-04T11:56:32.603359Z",
     "start_time": "2020-04-04T11:56:32.534560Z"
    },
    "hidden": true
   },
   "outputs": [],
   "source": [
    "from timeseries.imports import *\n",
    "from timeseries.utils import *\n",
    "from timeseries.data import *\n",
    "from timeseries.core import *\n",
    "from timeseries.models import *"
   ]
  },
  {
   "cell_type": "markdown",
   "metadata": {
    "heading_collapsed": true
   },
   "source": [
    "## Load data"
   ]
  },
  {
   "cell_type": "code",
   "execution_count": 5,
   "metadata": {
    "ExecuteTime": {
     "end_time": "2020-04-04T11:56:33.161695Z",
     "start_time": "2020-04-04T11:56:32.610234Z"
    },
    "hidden": true
   },
   "outputs": [
    {
     "name": "stdout",
     "output_type": "stream",
     "text": [
      "Dataset: StarLightCurves\n",
      "X_train: (1000, 1, 1024)\n",
      "y_train: (1000,)\n",
      "X_valid: (8236, 1, 1024)\n",
      "y_valid: (8236,) \n",
      "\n"
     ]
    }
   ],
   "source": [
    "# dataset id\n",
    "dsid = 'StarLightCurves'\n",
    "X_train, y_train, X_valid, y_valid = get_UCR_data(dsid, parent_dir='./data/UCR/', verbose=True, on_disk=True)\n",
    "X_in_memory = np.concatenate((X_train, X_valid))\n",
    "y_in_memory = np.concatenate((y_train, y_valid)).astype(int)\n",
    "folder = './data/UCR'\n",
    "np.save(f'{folder}/{dsid}/X.npy', X_in_memory)\n",
    "np.save(f'{folder}/{dsid}/y.npy', y_in_memory)\n",
    "X_on_disk = np.load(f'{folder}/{dsid}/X.npy', mmap_mode='r')\n",
    "y_on_disk = np.load(f'{folder}/{dsid}/y.npy', mmap_mode='r').astype(int)\n",
    "splits = (L(list(np.arange(len(X_train)))), L(list(np.arange(len(X_train), len(X_on_disk)))))"
   ]
  },
  {
   "cell_type": "markdown",
   "metadata": {
    "heading_collapsed": true
   },
   "source": [
    "## Performance benchmark"
   ]
  },
  {
   "cell_type": "markdown",
   "metadata": {
    "hidden": true
   },
   "source": [
    "### Pytorch"
   ]
  },
  {
   "cell_type": "code",
   "execution_count": 6,
   "metadata": {
    "hidden": true
   },
   "outputs": [],
   "source": [
    "# Native Pytorch\n",
    "class PytorchDataset():\n",
    "    def __init__(self, X, y=None): self.X, self.y = torch.as_tensor(X), torch.as_tensor(y)\n",
    "    def __getitem__(self, idx): return (self.X[idx], self.y[idx])\n",
    "    def __len__(self): return len(self.X)"
   ]
  },
  {
   "cell_type": "code",
   "execution_count": 7,
   "metadata": {
    "hidden": true
   },
   "outputs": [
    {
     "name": "stdout",
     "output_type": "stream",
     "text": [
      "shape: 8236         bs: torch.Size([128, 1, 1024])\n",
      "275 ms ± 26 ms per loop (mean ± std. dev. of 7 runs, 1 loop each)\n"
     ]
    }
   ],
   "source": [
    "ds    = PytorchDataset(np.array(X_valid), np.array(y_valid).astype(int))\n",
    "dl    = torch.utils.data.DataLoader(ds, batch_size=128)\n",
    "xb,yb = next(iter(dl))\n",
    "print(f'shape: {str(len(ds)):10}   bs: {xb.shape}')\n",
    "%timeit cycle_dl(dl)"
   ]
  },
  {
   "cell_type": "markdown",
   "metadata": {
    "hidden": true
   },
   "source": [
    "### Fastai v1"
   ]
  },
  {
   "cell_type": "markdown",
   "metadata": {
    "hidden": true
   },
   "source": [
    "For reference, this are the timings achieved with fastai v1 under the same conditions: \n",
    "\n",
    "- cycle_dl:  1.01s\n",
    "- total training time: 102 s"
   ]
  },
  {
   "cell_type": "markdown",
   "metadata": {
    "hidden": true
   },
   "source": [
    "### Fastai v2"
   ]
  },
  {
   "cell_type": "code",
   "execution_count": 8,
   "metadata": {
    "hidden": true
   },
   "outputs": [
    {
     "name": "stdout",
     "output_type": "stream",
     "text": [
      "shape: 8236         bs: torch.Size([128, 1, 1024])\n",
      "11.4 s ± 569 ms per loop (mean ± std. dev. of 7 runs, 1 loop each)\n"
     ]
    }
   ],
   "source": [
    "getters = [ItemGetter(0), ItemGetter(1)]\n",
    "dblock = DataBlock(blocks=(TSTensorBlock, CategoryBlock),\n",
    "                   getters=getters,\n",
    "                   splitter=IndexSplitter(splits[1]),\n",
    "                   item_tfms=None,\n",
    "                   batch_tfms=None)\n",
    "source = itemify(X_in_memory, y_in_memory)\n",
    "dls = dblock.dataloaders(source, bs=64, val_bs=128, num_workers=0)\n",
    "xb,yb = next(iter(dls.valid))\n",
    "print(f'shape: {str(len(dls.valid.dataset)):10}   bs: {xb.shape}')\n",
    "%timeit cycle_dl(dls.valid)"
   ]
  },
  {
   "cell_type": "code",
   "execution_count": 9,
   "metadata": {
    "hidden": true
   },
   "outputs": [
    {
     "name": "stdout",
     "output_type": "stream",
     "text": [
      "shape: 8236         bs: torch.Size([128, 1, 1024])\n",
      "3.66 s ± 351 ms per loop (mean ± std. dev. of 7 runs, 1 loop each)\n"
     ]
    }
   ],
   "source": [
    "train_ds = PytorchDataset(np.array(X_train), np.array(y_train).astype(int))\n",
    "valid_ds = PytorchDataset(np.array(X_valid), np.array(y_valid).astype(int))\n",
    "dls = DataLoaders.from_dsets(train_ds, valid_ds, batch_size=128, num_workers=0)\n",
    "xb,yb = next(iter(dls.valid))\n",
    "print(f'shape: {str(len(dls.valid.dataset)):10}   bs: {xb.shape}')\n",
    "%timeit cycle_dl(dls.valid)"
   ]
  },
  {
   "cell_type": "markdown",
   "metadata": {},
   "source": [
    "## New heading"
   ]
  },
  {
   "cell_type": "code",
   "execution_count": 6,
   "metadata": {
    "ExecuteTime": {
     "end_time": "2020-04-04T11:56:33.239030Z",
     "start_time": "2020-04-04T11:56:33.168642Z"
    }
   },
   "outputs": [],
   "source": [
    "class Datasets(FilteredBase):\n",
    "    \"A dataset that creates a tuple from each `tfms`, passed thru `item_tfms`\"\n",
    "    def __init__(self, items=None, tfms=None, tls=None, n_inp=None, dl_type=None, **kwargs):\n",
    "        super().__init__(dl_type=dl_type)\n",
    "        self.tls = L(tls if tls else [TfmdLists(items, t, **kwargs) for t in L(ifnone(tfms,[None]))])\n",
    "        self.n_inp = (1 if len(self.tls)==1 else len(self.tls)-1) if n_inp is None else n_inp\n",
    "\n",
    "    def __getitem__(self, it):\n",
    "        res = tuple([tl[it] for tl in self.tls])\n",
    "        return res if is_indexer(it) else list(zip(*res))\n",
    "\n",
    "    def __getattr__(self,k): return gather_attrs(self, k, 'tls')\n",
    "    def __dir__(self): return super().__dir__() + gather_attr_names(self, 'tls')\n",
    "    def __len__(self): return len(self.tls[0])\n",
    "    def __iter__(self): return (self[i] for i in range(len(self)))\n",
    "    def __repr__(self): return coll_repr(self)\n",
    "    def decode(self, o, full=True): return tuple(tl.decode(o_, full=full) for o_,tl in zip(o,tuplify(self.tls, match=o)))\n",
    "    def subset(self, i): return type(self)(tls=L(tl.subset(i) for tl in self.tls), n_inp=self.n_inp)\n",
    "    def _new(self, items, *args, **kwargs): return super()._new(items, tfms=self.tfms, do_setup=False, **kwargs)\n",
    "    def overlapping_splits(self): return self.tls[0].overlapping_splits()\n",
    "    def new_empty(self): return type(self)(tls=[tl.new_empty() for tl in self.tls], n_inp=self.n_inp)\n",
    "    @property\n",
    "    def splits(self): return self.tls[0].splits\n",
    "    @property\n",
    "    def split_idx(self): return self.tls[0].tfms.split_idx\n",
    "    @property\n",
    "    def items(self): return self.tls[0].items\n",
    "    @items.setter\n",
    "    def items(self, v):\n",
    "        for tl in self.tls: tl.items = v\n",
    "\n",
    "    def show(self, o, ctx=None, **kwargs):\n",
    "        for o_,tl in zip(o,self.tls): ctx = tl.show(o_, ctx=ctx, **kwargs)\n",
    "        return ctx\n",
    "\n",
    "    @contextmanager\n",
    "    def set_split_idx(self, i):\n",
    "        old_split_idx = self.split_idx\n",
    "        for tl in self.tls: tl.tfms.split_idx = i\n",
    "        yield self\n",
    "        for tl in self.tls: tl.tfms.split_idx = old_split_idx\n"
   ]
  },
  {
   "cell_type": "code",
   "execution_count": 7,
   "metadata": {
    "ExecuteTime": {
     "end_time": "2020-04-04T11:56:33.422017Z",
     "start_time": "2020-04-04T11:56:33.412136Z"
    }
   },
   "outputs": [],
   "source": [
    "def ifnotnone(a, b):\n",
    "    \"`a` if `a` is None else `b`\"\n",
    "    return a if a is not None else b\n",
    "\n",
    "def ifnoneelse(a, b, c):\n",
    "    \"`b` if `a` is None else `c`\"\n",
    "    return b if a is None else c"
   ]
  },
  {
   "cell_type": "code",
   "execution_count": 55,
   "metadata": {
    "ExecuteTime": {
     "end_time": "2020-04-04T12:17:29.158787Z",
     "start_time": "2020-04-04T12:17:29.076083Z"
    }
   },
   "outputs": [],
   "source": [
    "class NumpyDatasets(Datasets):\n",
    "    \"A dataset that creates tuples from X (and y) and applies `item_tfms`\"\n",
    "    _xtype, _ytype = None, None # Expected X and y output types (torch.Tensor - default - or subclass)\n",
    "    def __init__(self, X=None, y=None, items=None, sel_vars=None, sel_steps=None, tfms=None, tls=None, n_inp=None, dl_type=None, \n",
    "                 preprocess=False, **kwargs):\n",
    "\n",
    "        if tls is None: items = ifnoneelse(y,tuple((X,)),tuple((X, y)))\n",
    "        self.tfms = L(ifnone(tfms,[None]*len(ifnone(tls,items))))\n",
    "        self.sel_vars = slice(None) if sel_vars is None else sel_vars\n",
    "        self.sel_steps = slice(None) if sel_steps is None else sel_steps\n",
    "        self.tls = L(tls if tls else [TfmdLists(item, t, **kwargs) for item,t in zip(items,self.tfms)])\n",
    "        self.n_inp = (1 if len(self.tls)==1 else len(self.tls)-1) if n_inp is None else n_inp\n",
    "        self.ptls = L([tl.items if is_none(tfm) else np.stack(tl[:]) if preprocess else tl for tl,tfm in zip(self.tls, self.tfms)])\n",
    "        self._get_types()\n",
    "        self.preprocess = preprocess\n",
    "            \n",
    "    def _get_types(self):\n",
    "        if self.tls: \n",
    "            self.types = [type(tl[0]) if isinstance(tl[0], torch.Tensor) else torch.as_tensor for tl in self.tls]\n",
    "            if self._xtype is not None: self.types[0] = self._xtype\n",
    "            if len(self.types) == 2 and self._ytype is not None: self.types[1] = self._ytype\n",
    "    \n",
    "    def __getitem__(self, it):\n",
    "        return tuple([typ(ptl[it][self.sel_vars, self.sel_steps] if i==0 else ptl[it]) for i,(ptl,typ) in enumerate(zip(self.ptls,self.types))])\n",
    "    \n",
    "    def subset(self, i): return type(self)(tls=L(tl.subset(i) for tl in self.tls), n_inp=self.n_inp, \n",
    "                                           preprocess=self.preprocess, tfms=self.tfms, sel_vars=self.sel_vars, sel_steps=self.sel_steps)\n",
    "    \n",
    "    def _new(self, X, *args, y=None, **kwargs): \n",
    "        items = ifnone(items,ifnoneelse(y,tuple((X,)),tuple((X, y))))\n",
    "        return super()._new(items, tfms=self.tfms, do_setup=False, **kwargs)\n",
    "\n",
    "class TSDatasets(NumpyDatasets):\n",
    "    \"A dataset that creates tuples from X (and y) and applies `item_tfms`\"\n",
    "    _xtype, _ytype = TSTensor, None # Expected X and y output types (torch.Tensor - default - or subclass)\n",
    "    \n",
    "class NumpyDataLoader(TfmdDL):\n",
    "    do_item = noops\n",
    "    \n",
    "    def create_batch(self, b): return self.dataset[b]\n",
    "    \n",
    "    @property\n",
    "    def vars(self): return self.dataset[0][0].shape[-2]\n",
    "    \n",
    "    @property\n",
    "    def len(self): return self.dataset[0][0].shape[-1]\n",
    "\n",
    "    @delegates(plt.subplots)\n",
    "    def show_batch(self, b=None, max_n=9, nrows=3, ncols=3, figsize=(12, 10), **kwargs):\n",
    "        b = self.one_batch()\n",
    "        b = itemify(b)\n",
    "        if nrows is None: \n",
    "            sqrt = math.sqrt(len(b))\n",
    "            rows = min(math.ceil(sqrt), len(b)) \n",
    "        if ncols is None: ncols = len(b) // nrows\n",
    "        fig, axs = plt.subplots(nrows=nrows, ncols=ncols, figsize=figsize,  **kwargs)\n",
    "        for tup, ax in zip(b[:nrows ** 2], [axs] if nrows == 1 else axs.flatten()): \n",
    "            show_tuple(self.dataset.decode(tup), ax=ax)\n",
    "            plt.tight_layout()\n",
    "\n",
    "@delegates(plt.subplots)\n",
    "def show_tuple(tup, ax=None, **kwargs):\n",
    "    \"Display a timeseries plot from a tuple\"\n",
    "    tup[0].show(title='unlabeled' if len(tup) == 1 else tup[1], ax=ax, **kwargs)\n",
    "    \n",
    "class TSDataLoader(NumpyDataLoader): pass\n",
    "\n",
    "\n",
    "\n",
    "#     def test_dl(self:DataLoaders, test_items, rm_type_tfms=None, with_labels=False, **kwargs):\n",
    "#         \"Create a test dataloader from `test_items` using validation transforms of `dls`\"\n",
    "#         test = test_set(self.valid, test_items, rm_tfms=rm_type_tfms, with_labels=with_labels\n",
    "#                         ) if isinstance(self.valid, (Datasets, NumpyDatasets, TfmdLists)) else test_items\n",
    "#         return self.valid.new(test, **kwargs)"
   ]
  },
  {
   "cell_type": "code",
   "execution_count": 56,
   "metadata": {
    "ExecuteTime": {
     "end_time": "2020-04-04T12:17:30.846665Z",
     "start_time": "2020-04-04T12:17:30.834291Z"
    }
   },
   "outputs": [],
   "source": [
    "bs = 128\n",
    "idx = np.random.randint(len(X_in_memory), size=bs)\n",
    "train_idx = np.random.randint(len(splits[0]), size=bs)\n",
    "valid_idx = np.random.randint(len(splits[1]), size=bs)"
   ]
  },
  {
   "cell_type": "code",
   "execution_count": 57,
   "metadata": {
    "ExecuteTime": {
     "end_time": "2020-04-04T12:17:38.993881Z",
     "start_time": "2020-04-04T12:17:31.883227Z"
    }
   },
   "outputs": [
    {
     "data": {
      "text/plain": [
       "(TSTensor(vars:1, len:1024), TensorCategory(1))"
      ]
     },
     "execution_count": 57,
     "metadata": {},
     "output_type": "execute_result"
    }
   ],
   "source": [
    "tfms = [None, [Categorize()]]\n",
    "# tfms = None\n",
    "# dsets = NumpyDatasets(X_on_disk, y_on_disk, tfms=tfms, splits=splits, preprocess=False)\n",
    "dsets = TSDatasets(X_on_disk, y_on_disk, tfms=tfms, splits=splits, preprocess=True)\n",
    "train_ds = dsets.train\n",
    "valid_ds = dsets.valid\n",
    "valid_ds[0]"
   ]
  },
  {
   "cell_type": "code",
   "execution_count": 41,
   "metadata": {
    "ExecuteTime": {
     "end_time": "2020-04-04T12:10:44.466307Z",
     "start_time": "2020-04-04T12:10:44.436800Z"
    },
    "scrolled": false
   },
   "outputs": [
    {
     "data": {
      "text/plain": [
       "(TSTensor(samples:128, vars:1, len:1024),\n",
       " TensorCategory([1, 2, 2, 0, 1, 2, 2, 2, 1, 2, 2, 2, 2, 2, 2, 0, 2, 2, 2, 0, 0, 2, 2, 2,\n",
       "         1, 0, 2, 0, 2, 1, 2, 2, 1, 2, 1, 1, 1, 1, 1, 2, 2, 0, 2, 2, 1, 0, 0, 2,\n",
       "         2, 2, 2, 1, 0, 0, 2, 2, 2, 2, 2, 2, 0, 0, 1, 2, 2, 1, 2, 2, 2, 0, 0, 2,\n",
       "         1, 1, 1, 2, 2, 1, 1, 1, 1, 2, 2, 2, 2, 2, 1, 1, 2, 1, 2, 2, 0, 2, 0, 2,\n",
       "         2, 2, 2, 2, 2, 2, 1, 1, 1, 2, 2, 2, 1, 0, 2, 2, 0, 2, 2, 1, 2, 1, 2, 2,\n",
       "         2, 2, 2, 2, 1, 2, 2, 0]))"
      ]
     },
     "execution_count": 41,
     "metadata": {},
     "output_type": "execute_result"
    }
   ],
   "source": [
    "train_dl = TSDataLoader(train_ds, bs=64, shuffle=True, drop_last=True, num_workers=0)\n",
    "valid_dl = TSDataLoader(valid_ds, bs=128, num_workers=0)\n",
    "dls = TSDataLoaders(train_dl, valid_dl)\n",
    "b = next(iter(dls.valid))\n",
    "b"
   ]
  },
  {
   "cell_type": "code",
   "execution_count": 42,
   "metadata": {
    "ExecuteTime": {
     "end_time": "2020-04-04T12:10:58.923370Z",
     "start_time": "2020-04-04T12:10:46.995747Z"
    },
    "scrolled": false
   },
   "outputs": [
    {
     "data": {
      "image/png": "[encoded data removed]",
      "text/plain": [
       "<Figure size 864x720 with 9 Axes>"
      ]
     },
     "metadata": {
      "needs_background": "light"
     },
     "output_type": "display_data"
    }
   ],
   "source": [
    "dls.train.show_batch()"
   ]
  },
  {
   "cell_type": "code",
   "execution_count": 128,
   "metadata": {},
   "outputs": [
    {
     "name": "stdout",
     "output_type": "stream",
     "text": [
      "362 µs ± 18.3 µs per loop (mean ± std. dev. of 7 runs, 1000 loops each)\n"
     ]
    }
   ],
   "source": [
    "X_val = X_in_memory[splits[1]]\n",
    "y_val = y_in_memory[splits[1]]\n",
    "%timeit tuple((TSTensor(X_val[valid_idx]), TensorCategory(y_val[valid_idx])))"
   ]
  },
  {
   "cell_type": "code",
   "execution_count": 129,
   "metadata": {},
   "outputs": [
    {
     "name": "stdout",
     "output_type": "stream",
     "text": [
      "47.2 ms ± 330 µs per loop (mean ± std. dev. of 7 runs, 10 loops each)\n"
     ]
    }
   ],
   "source": [
    "%timeit valid_ds[valid_idx]"
   ]
  },
  {
   "cell_type": "code",
   "execution_count": 130,
   "metadata": {},
   "outputs": [
    {
     "name": "stdout",
     "output_type": "stream",
     "text": [
      "3.16 s ± 106 ms per loop (mean ± std. dev. of 7 runs, 1 loop each)\n"
     ]
    }
   ],
   "source": [
    "%timeit cycle_dl(valid_dl)"
   ]
  },
  {
   "cell_type": "code",
   "execution_count": 141,
   "metadata": {},
   "outputs": [
    {
     "name": "stdout",
     "output_type": "stream",
     "text": [
      "373 µs ± 4.03 µs per loop (mean ± std. dev. of 7 runs, 1000 loops each)\n"
     ]
    }
   ],
   "source": [
    "%timeit valid_ds[valid_idx]"
   ]
  },
  {
   "cell_type": "code",
   "execution_count": 142,
   "metadata": {},
   "outputs": [
    {
     "name": "stdout",
     "output_type": "stream",
     "text": [
      "89.5 ms ± 1.7 ms per loop (mean ± std. dev. of 7 runs, 10 loops each)\n"
     ]
    }
   ],
   "source": [
    "%timeit cycle_dl(valid_dl)"
   ]
  },
  {
   "cell_type": "code",
   "execution_count": 59,
   "metadata": {
    "ExecuteTime": {
     "end_time": "2020-04-04T15:26:18.840969Z",
     "start_time": "2020-04-04T15:26:17.869459Z"
    }
   },
   "outputs": [
    {
     "ename": "AttributeError",
     "evalue": "type object 'DataLoaders' has no attribute 'show_results'",
     "output_type": "error",
     "traceback": [
      "\u001b[0;31m---------------------------------------------------------------------------\u001b[0m",
      "\u001b[0;31mAttributeError\u001b[0m                            Traceback (most recent call last)",
      "\u001b[0;32m<ipython-input-59-3c19e601aaf7>\u001b[0m in \u001b[0;36m<module>\u001b[0;34m\u001b[0m\n\u001b[0;32m----> 1\u001b[0;31m \u001b[0mDataLoaders\u001b[0m\u001b[0;34m.\u001b[0m\u001b[0mshow_results\u001b[0m\u001b[0;34m\u001b[0m\u001b[0;34m\u001b[0m\u001b[0m\n\u001b[0m",
      "\u001b[0;31mAttributeError\u001b[0m: type object 'DataLoaders' has no attribute 'show_results'"
     ]
    }
   ],
   "source": [
    "@typedispatch\n",
    "def show_results(x:TensorImage, y, samples, outs, ctxs=None, max_n=10, nrows=None, ncols=None, figsize=None, **kwargs):\n",
    "    if ctxs is None: ctxs = get_grid(min(len(samples), max_n), nrows=nrows, ncols=ncols, add_vert=1, figsize=figsize)\n",
    "    ctxs = show_results[object](x, y, samples, outs, ctxs=ctxs, max_n=max_n, **kwargs)\n",
    "    return ctxs"
   ]
  },
  {
   "cell_type": "code",
   "execution_count": null,
   "metadata": {},
   "outputs": [],
   "source": []
  }
 ],
 "metadata": {
  "kernelspec": {
   "display_name": "Python 3",
   "language": "python",
   "name": "python3"
  },
  "language_info": {
   "codemirror_mode": {
    "name": "ipython",
    "version": 3
   },
   "file_extension": ".py",
   "mimetype": "text/x-python",
   "name": "python",
   "nbconvert_exporter": "python",
   "pygments_lexer": "ipython3",
   "version": "3.7.3"
  },
  "toc": {
   "base_numbering": 1,
   "nav_menu": {},
   "number_sections": true,
   "sideBar": true,
   "skip_h1_title": false,
   "title_cell": "Table of Contents",
   "title_sidebar": "Contents",
   "toc_cell": false,
   "toc_position": {},
   "toc_section_display": true,
   "toc_window_display": false
  }
 },
 "nbformat": 4,
 "nbformat_minor": 2
}
