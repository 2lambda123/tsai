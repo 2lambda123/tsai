{
 "cells": [
  {
   "cell_type": "markdown",
   "metadata": {
    "colab_type": "text",
    "id": "q5zvCtPaIvkU"
   },
   "source": [
    "## DataLoaders requirements"
   ]
  },
  {
   "cell_type": "markdown",
   "metadata": {
    "colab_type": "text",
    "id": "3qjaXUSuIvkX"
   },
   "source": [
    "I'd like to share with you how you can work with (very large) numpy arrays in **fastai2** through a time series classification example.\n",
    "\n",
    "**High level requirements:**\n",
    "\n",
    "* Use univariate and multivariate time series\n",
    "* Use labeled (X,y) and unlabeled (X,) datasets\n",
    "* Data may be already split in train/ valid\n",
    "* In-memory and on-disk np.arrays (np.memmap in case of larger than RAM data)\n",
    "* Slice the dataset (based on selected variables and/ or sequence steps)\n",
    "* Use item and batch tfms\n",
    "* Create batch with specified output types (TSTensor, TensorCategory, etc)\n",
    "* Show batch (with tfms)\n",
    "* Show results\n",
    "* Add test data and unlabeled datasets\n",
    "* Export and predict on new data\n",
    "* Better performance than native Pytorch, fastai v1 & vanilla fastai v2\n",
    "\n",
    "These are pretty challanging requirements. Let's see if fastai2 can meet them with little configuration."
   ]
  },
  {
   "cell_type": "markdown",
   "metadata": {
    "colab_type": "text",
    "id": "OBW2olZbIvka"
   },
   "source": [
    "## Import libraries"
   ]
  },
  {
   "cell_type": "code",
   "execution_count": 1,
   "metadata": {
    "colab": {
     "base_uri": "https://localhost:8080/",
     "height": 1000
    },
    "colab_type": "code",
    "id": "srz0mwuvIvkc",
    "outputId": "1e943e98-6398-4798-ef30-7228be0ec850"
   },
   "outputs": [
    {
     "name": "stdout",
     "output_type": "stream",
     "text": [
      "Collecting git+https://github.com/fastai/fastai2\n",
      "  Cloning https://github.com/fastai/fastai2 to /tmp/pip-req-build-2zspuuzp\n",
      "  Running command git clone -q https://github.com/fastai/fastai2 /tmp/pip-req-build-2zspuuzp\n",
      "Collecting fastcore\n",
      "  Downloading https://files.pythonhosted.org/packages/3b/b5/aed836ce5b16ea1088a5d1a41d400bc051abf90bbef58bb74d8fd01a76af/fastcore-0.1.16-py3-none-any.whl\n",
      "Requirement already satisfied: torch>=1.3.0 in /usr/local/lib/python3.6/dist-packages (from fastai2==0.0.17) (1.4.0)\n",
      "Requirement already satisfied: torchvision>=0.5 in /usr/local/lib/python3.6/dist-packages (from fastai2==0.0.17) (0.5.0)\n",
      "Requirement already satisfied: matplotlib in /usr/local/lib/python3.6/dist-packages (from fastai2==0.0.17) (3.2.1)\n",
      "Requirement already satisfied: pandas in /usr/local/lib/python3.6/dist-packages (from fastai2==0.0.17) (1.0.3)\n",
      "Requirement already satisfied: requests in /usr/local/lib/python3.6/dist-packages (from fastai2==0.0.17) (2.21.0)\n",
      "Requirement already satisfied: pyyaml in /usr/local/lib/python3.6/dist-packages (from fastai2==0.0.17) (3.13)\n",
      "Requirement already satisfied: fastprogress>=0.1.22 in /usr/local/lib/python3.6/dist-packages (from fastai2==0.0.17) (0.2.2)\n",
      "Requirement already satisfied: pillow in /usr/local/lib/python3.6/dist-packages (from fastai2==0.0.17) (7.0.0)\n",
      "Requirement already satisfied: scikit-learn in /usr/local/lib/python3.6/dist-packages (from fastai2==0.0.17) (0.22.2.post1)\n",
      "Requirement already satisfied: scipy in /usr/local/lib/python3.6/dist-packages (from fastai2==0.0.17) (1.4.1)\n",
      "Requirement already satisfied: spacy in /usr/local/lib/python3.6/dist-packages (from fastai2==0.0.17) (2.2.4)\n",
      "Requirement already satisfied: numpy in /usr/local/lib/python3.6/dist-packages (from fastcore->fastai2==0.0.17) (1.18.2)\n",
      "Requirement already satisfied: dataclasses>='0.7'; python_version < \"3.7\" in /usr/local/lib/python3.6/dist-packages (from fastcore->fastai2==0.0.17) (0.7)\n",
      "Requirement already satisfied: six in /usr/local/lib/python3.6/dist-packages (from torchvision>=0.5->fastai2==0.0.17) (1.12.0)\n",
      "Requirement already satisfied: pyparsing!=2.0.4,!=2.1.2,!=2.1.6,>=2.0.1 in /usr/local/lib/python3.6/dist-packages (from matplotlib->fastai2==0.0.17) (2.4.6)\n",
      "Requirement already satisfied: python-dateutil>=2.1 in /usr/local/lib/python3.6/dist-packages (from matplotlib->fastai2==0.0.17) (2.8.1)\n",
      "Requirement already satisfied: cycler>=0.10 in /usr/local/lib/python3.6/dist-packages (from matplotlib->fastai2==0.0.17) (0.10.0)\n",
      "Requirement already satisfied: kiwisolver>=1.0.1 in /usr/local/lib/python3.6/dist-packages (from matplotlib->fastai2==0.0.17) (1.1.0)\n",
      "Requirement already satisfied: pytz>=2017.2 in /usr/local/lib/python3.6/dist-packages (from pandas->fastai2==0.0.17) (2018.9)\n",
      "Requirement already satisfied: certifi>=2017.4.17 in /usr/local/lib/python3.6/dist-packages (from requests->fastai2==0.0.17) (2019.11.28)\n",
      "Requirement already satisfied: urllib3<1.25,>=1.21.1 in /usr/local/lib/python3.6/dist-packages (from requests->fastai2==0.0.17) (1.24.3)\n",
      "Requirement already satisfied: chardet<3.1.0,>=3.0.2 in /usr/local/lib/python3.6/dist-packages (from requests->fastai2==0.0.17) (3.0.4)\n",
      "Requirement already satisfied: idna<2.9,>=2.5 in /usr/local/lib/python3.6/dist-packages (from requests->fastai2==0.0.17) (2.8)\n",
      "Requirement already satisfied: joblib>=0.11 in /usr/local/lib/python3.6/dist-packages (from scikit-learn->fastai2==0.0.17) (0.14.1)\n",
      "Requirement already satisfied: blis<0.5.0,>=0.4.0 in /usr/local/lib/python3.6/dist-packages (from spacy->fastai2==0.0.17) (0.4.1)\n",
      "Requirement already satisfied: thinc==7.4.0 in /usr/local/lib/python3.6/dist-packages (from spacy->fastai2==0.0.17) (7.4.0)\n",
      "Requirement already satisfied: catalogue<1.1.0,>=0.0.7 in /usr/local/lib/python3.6/dist-packages (from spacy->fastai2==0.0.17) (1.0.0)\n",
      "Requirement already satisfied: murmurhash<1.1.0,>=0.28.0 in /usr/local/lib/python3.6/dist-packages (from spacy->fastai2==0.0.17) (1.0.2)\n",
      "Requirement already satisfied: plac<1.2.0,>=0.9.6 in /usr/local/lib/python3.6/dist-packages (from spacy->fastai2==0.0.17) (1.1.3)\n",
      "Requirement already satisfied: preshed<3.1.0,>=3.0.2 in /usr/local/lib/python3.6/dist-packages (from spacy->fastai2==0.0.17) (3.0.2)\n",
      "Requirement already satisfied: cymem<2.1.0,>=2.0.2 in /usr/local/lib/python3.6/dist-packages (from spacy->fastai2==0.0.17) (2.0.3)\n",
      "Requirement already satisfied: setuptools in /usr/local/lib/python3.6/dist-packages (from spacy->fastai2==0.0.17) (46.0.0)\n",
      "Requirement already satisfied: srsly<1.1.0,>=1.0.2 in /usr/local/lib/python3.6/dist-packages (from spacy->fastai2==0.0.17) (1.0.2)\n",
      "Requirement already satisfied: tqdm<5.0.0,>=4.38.0 in /usr/local/lib/python3.6/dist-packages (from spacy->fastai2==0.0.17) (4.38.0)\n",
      "Requirement already satisfied: wasabi<1.1.0,>=0.4.0 in /usr/local/lib/python3.6/dist-packages (from spacy->fastai2==0.0.17) (0.6.0)\n",
      "Requirement already satisfied: importlib-metadata>=0.20; python_version < \"3.8\" in /usr/local/lib/python3.6/dist-packages (from catalogue<1.1.0,>=0.0.7->spacy->fastai2==0.0.17) (1.6.0)\n",
      "Requirement already satisfied: zipp>=0.5 in /usr/local/lib/python3.6/dist-packages (from importlib-metadata>=0.20; python_version < \"3.8\"->catalogue<1.1.0,>=0.0.7->spacy->fastai2==0.0.17) (3.1.0)\n",
      "Building wheels for collected packages: fastai2\n",
      "  Building wheel for fastai2 (setup.py) ... \u001b[?25l\u001b[?25hdone\n",
      "  Created wheel for fastai2: filename=fastai2-0.0.17-cp36-none-any.whl size=187332 sha256=a3ae5952b6f030c5a8e4bf471a97632f33834b0130c4cc73f4a57a0dc6aec6e3\n",
      "  Stored in directory: /tmp/pip-ephem-wheel-cache-ya2ekoqa/wheels/a1/59/9a/50335b36924b827e29d5f40b41fc3a008cc1f30dd80e560dfd\n",
      "Successfully built fastai2\n",
      "Installing collected packages: fastcore, fastai2\n",
      "Successfully installed fastai2-0.0.17 fastcore-0.1.16\n",
      "Collecting git+https://github.com/fastai/fastcore\n",
      "  Cloning https://github.com/fastai/fastcore to /tmp/pip-req-build-9bc5ictr\n",
      "  Running command git clone -q https://github.com/fastai/fastcore /tmp/pip-req-build-9bc5ictr\n",
      "Requirement already satisfied: numpy in /usr/local/lib/python3.6/dist-packages (from fastcore==0.1.17) (1.18.2)\n",
      "Requirement already satisfied: dataclasses>='0.7' in /usr/local/lib/python3.6/dist-packages (from fastcore==0.1.17) (0.7)\n",
      "Building wheels for collected packages: fastcore\n",
      "  Building wheel for fastcore (setup.py) ... \u001b[?25l\u001b[?25hdone\n",
      "  Created wheel for fastcore: filename=fastcore-0.1.17-cp36-none-any.whl size=28221 sha256=aa79fa8441a3ca56843c28f65cf9310d41475336c55e0204529f8bcaf7ddf1a0\n",
      "  Stored in directory: /tmp/pip-ephem-wheel-cache-qj_9ps82/wheels/8a/2a/23/bc50c8f5e28776b44ac837a01fcfa675724565d4813d8e51c7\n",
      "Successfully built fastcore\n",
      "Installing collected packages: fastcore\n",
      "  Found existing installation: fastcore 0.1.16\n",
      "    Uninstalling fastcore-0.1.16:\n",
      "      Successfully uninstalled fastcore-0.1.16\n",
      "Successfully installed fastcore-0.1.17\n",
      "Collecting pyunpack\n",
      "  Downloading https://files.pythonhosted.org/packages/79/dc/44cd41fb99d184ae7c2eac439a52ca624d5ece62b0302c3437fcc4ce3b58/pyunpack-0.1.2.tar.gz\n",
      "Collecting easyprocess\n",
      "  Downloading https://files.pythonhosted.org/packages/32/8f/88d636f1da22a3c573259e44cfefb46a117d3f9432e2c98b1ab4a21372ad/EasyProcess-0.2.10-py2.py3-none-any.whl\n",
      "Building wheels for collected packages: pyunpack\n",
      "  Building wheel for pyunpack (setup.py) ... \u001b[?25l\u001b[?25hdone\n",
      "  Created wheel for pyunpack: filename=pyunpack-0.1.2-cp36-none-any.whl size=5163 sha256=8a22c8b9c4eef5b8aed4793c183e4891ae22a0f429d73de10d14a0268add0c1a\n",
      "  Stored in directory: /root/.cache/pip/wheels/af/44/08/60613970881e542c0baad1f2dea5ed8e6716bc573f49197b7e\n",
      "Successfully built pyunpack\n",
      "Installing collected packages: easyprocess, pyunpack\n",
      "Successfully installed easyprocess-0.2.10 pyunpack-0.1.2\n",
      "Collecting sktime\n",
      "\u001b[?25l  Downloading https://files.pythonhosted.org/packages/74/aa/a8709883f270fad7052c0f618aa7fe2001d35bb2c12d68317beb65c7789f/sktime-0.3.0.tar.gz (5.0MB)\n",
      "\u001b[K     |████████████████████████████████| 5.0MB 7.6MB/s \n",
      "\u001b[?25hRequirement already satisfied: numpy>=1.16.0 in /usr/local/lib/python3.6/dist-packages (from sktime) (1.18.2)\n",
      "Requirement already satisfied: scipy>=1.2.0 in /usr/local/lib/python3.6/dist-packages (from sktime) (1.4.1)\n",
      "Requirement already satisfied: scikit-learn>=0.21.0 in /usr/local/lib/python3.6/dist-packages (from sktime) (0.22.2.post1)\n",
      "Requirement already satisfied: pandas>=0.23.0 in /usr/local/lib/python3.6/dist-packages (from sktime) (1.0.3)\n",
      "Requirement already satisfied: joblib in /usr/local/lib/python3.6/dist-packages (from sktime) (0.14.1)\n",
      "Collecting scikit-posthocs>=0.5.0\n",
      "  Downloading https://files.pythonhosted.org/packages/3b/b8/8a9769c7a286070f74fbc56bcede507680210010ce0887c70112e70ced5a/scikit_posthocs-0.6.4-py3-none-any.whl\n",
      "Requirement already satisfied: statsmodels>=0.9.0 in /usr/local/lib/python3.6/dist-packages (from sktime) (0.10.2)\n",
      "Requirement already satisfied: pytz>=2017.2 in /usr/local/lib/python3.6/dist-packages (from pandas>=0.23.0->sktime) (2018.9)\n",
      "Requirement already satisfied: python-dateutil>=2.6.1 in /usr/local/lib/python3.6/dist-packages (from pandas>=0.23.0->sktime) (2.8.1)\n",
      "Requirement already satisfied: matplotlib in /usr/local/lib/python3.6/dist-packages (from scikit-posthocs>=0.5.0->sktime) (3.2.1)\n",
      "Requirement already satisfied: seaborn in /usr/local/lib/python3.6/dist-packages (from scikit-posthocs>=0.5.0->sktime) (0.10.0)\n",
      "Requirement already satisfied: patsy>=0.4.0 in /usr/local/lib/python3.6/dist-packages (from statsmodels>=0.9.0->sktime) (0.5.1)\n",
      "Requirement already satisfied: six>=1.5 in /usr/local/lib/python3.6/dist-packages (from python-dateutil>=2.6.1->pandas>=0.23.0->sktime) (1.12.0)\n",
      "Requirement already satisfied: cycler>=0.10 in /usr/local/lib/python3.6/dist-packages (from matplotlib->scikit-posthocs>=0.5.0->sktime) (0.10.0)\n",
      "Requirement already satisfied: pyparsing!=2.0.4,!=2.1.2,!=2.1.6,>=2.0.1 in /usr/local/lib/python3.6/dist-packages (from matplotlib->scikit-posthocs>=0.5.0->sktime) (2.4.6)\n",
      "Requirement already satisfied: kiwisolver>=1.0.1 in /usr/local/lib/python3.6/dist-packages (from matplotlib->scikit-posthocs>=0.5.0->sktime) (1.1.0)\n",
      "Requirement already satisfied: setuptools in /usr/local/lib/python3.6/dist-packages (from kiwisolver>=1.0.1->matplotlib->scikit-posthocs>=0.5.0->sktime) (46.0.0)\n",
      "Building wheels for collected packages: sktime\n",
      "  Building wheel for sktime (setup.py) ... \u001b[?25l\u001b[?25hdone\n",
      "  Created wheel for sktime: filename=sktime-0.3.0-cp36-cp36m-linux_x86_64.whl size=3299833 sha256=9e00e3f88f8f09330a0eb1571c511d780f0faf36cc6d5c691e62dbaec344cbfa\n",
      "  Stored in directory: /root/.cache/pip/wheels/92/5a/c2/859f666f521c12e592cf689e8e2ebff32d74d0416b74dad213\n",
      "Successfully built sktime\n",
      "Installing collected packages: scikit-posthocs, sktime\n",
      "Successfully installed scikit-posthocs-0.6.4 sktime-0.3.0\n",
      "Cloning into 'timeseriesAI2'...\n",
      "remote: Enumerating objects: 288, done.\u001b[K\n",
      "remote: Counting objects: 100% (288/288), done.\u001b[K\n",
      "remote: Compressing objects: 100% (228/228), done.\u001b[K\n",
      "remote: Total 288 (delta 130), reused 117 (delta 50), pack-reused 0\u001b[K\n",
      "Receiving objects: 100% (288/288), 2.88 MiB | 6.44 MiB/s, done.\n",
      "Resolving deltas: 100% (130/130), done.\n",
      "/content/timeseriesAI2\n"
     ]
    }
   ],
   "source": [
    "import sys\n",
    "import os\n",
    "ISCOLAB = 'google.colab' in sys.modules\n",
    "if ISCOLAB:\n",
    "    if not os.path.isdir('/content/timeseriesAI2'):\n",
    "        !pip install git+https://github.com/fastai/fastai2 \n",
    "        !pip install git+https://github.com/fastai/fastcore \n",
    "        !pip install pyunpack\n",
    "        !pip install sktime\n",
    "        !git clone https://github.com/timeseriesAI/timeseriesAI2.git\n",
    "        %cd timeseriesAI2\n",
    "    else: \n",
    "        path = !pwd\n",
    "        if path != ['/content/timeseriesAI2']: \n",
    "            %cd timeseriesAI2\n",
    "        !pwd"
   ]
  },
  {
   "cell_type": "code",
   "execution_count": null,
   "metadata": {},
   "outputs": [],
   "source": [
    "# Uncomment if needed to reload repo\n",
    "# %cd ..\n",
    "# !rm -rf timeseriesAI2\n",
    "# !git clone https://github.com/timeseriesAI/timeseriesAI2.git\n",
    "# %cd timeseriesAI2"
   ]
  },
  {
   "cell_type": "code",
   "execution_count": 5,
   "metadata": {
    "colab": {
     "base_uri": "https://localhost:8080/",
     "height": 17
    },
    "colab_type": "code",
    "id": "wuOxM-WJIvkq",
    "outputId": "39835e42-9d40-410c-8c6e-821f19c366b9"
   },
   "outputs": [
    {
     "data": {
      "text/html": [
       "<style>.container {width:95% !important; }</style>"
      ],
      "text/plain": [
       "<IPython.core.display.HTML object>"
      ]
     },
     "metadata": {},
     "output_type": "display_data"
    }
   ],
   "source": [
    "from IPython.display import display, HTML\n",
    "display(HTML(\"<style>.container {width:95% !important; }</style>\"))"
   ]
  },
  {
   "cell_type": "code",
   "execution_count": 1,
   "metadata": {
    "colab": {},
    "colab_type": "code",
    "id": "o6e_jq-HIvk3"
   },
   "outputs": [],
   "source": [
    "from fastai2.torch_core import *\n",
    "from fastai2.data.all import *\n",
    "from fastai2.vision.all import *\n",
    "from fastai2.learner import *\n",
    "from fastai2.metrics import *\n",
    "from fastai2.callback.all import *"
   ]
  },
  {
   "cell_type": "code",
   "execution_count": 2,
   "metadata": {
    "colab": {},
    "colab_type": "code",
    "id": "2J-hbSMKIvk_"
   },
   "outputs": [
    {
     "name": "stdout",
     "output_type": "stream",
     "text": [
      "0.0.16\n",
      "0.1.17\n"
     ]
    }
   ],
   "source": [
    "from timeseries.imports import *\n",
    "from timeseries.utils import *\n",
    "from timeseries.data import *\n",
    "from timeseries.core import *\n",
    "from timeseries.models import *\n",
    "print(fastai2.__version__)\n",
    "print(fastcore.__version__)"
   ]
  },
  {
   "cell_type": "code",
   "execution_count": 11,
   "metadata": {
    "ExecuteTime": {
     "end_time": "2020-04-05T13:17:48.165155Z",
     "start_time": "2020-04-05T13:17:41.054571Z"
    }
   },
   "outputs": [
    {
     "name": "stdout",
     "output_type": "stream",
     "text": [
      "0.0.16\n",
      "0.1.17\n"
     ]
    }
   ],
   "source": [
    "import fastai2, fastcore\n",
    "from fastai2.imports import *\n",
    "from fastai2.data.all import *\n",
    "import numpy as np\n",
    "print(fastai2.__version__)\n",
    "print(fastcore.__version__)"
   ]
  },
  {
   "cell_type": "code",
   "execution_count": 15,
   "metadata": {
    "ExecuteTime": {
     "end_time": "2020-04-05T14:27:09.515528Z",
     "start_time": "2020-04-05T14:27:09.461261Z"
    }
   },
   "outputs": [
    {
     "data": {
      "text/plain": [
       "1"
      ]
     },
     "execution_count": 15,
     "metadata": {},
     "output_type": "execute_result"
    }
   ],
   "source": [
    "X = np.random.rand(5, 1, 2)\n",
    "y = np.random.randint(1, 3, 5)\n",
    "items = L(X,y).zip()\n",
    "TfmdLists(items, ItemGetter(1))[0]"
   ]
  },
  {
   "cell_type": "markdown",
   "metadata": {
    "colab_type": "text",
    "id": "UH35-QcZIvlJ"
   },
   "source": [
    "## Load data"
   ]
  },
  {
   "cell_type": "code",
   "execution_count": 10,
   "metadata": {
    "colab": {
     "base_uri": "https://localhost:8080/",
     "height": 153
    },
    "colab_type": "code",
    "id": "vWoMUpdCIvlL",
    "outputId": "41674072-8d1a-4556-aee3-58ab6d28dab9"
   },
   "outputs": [
    {
     "name": "stdout",
     "output_type": "stream",
     "text": [
      "Dataset: StarLightCurves\n",
      "X_train: (1000, 1, 1024)\n",
      "y_train: (1000,)\n",
      "X_valid: (8236, 1, 1024)\n",
      "y_valid: (8236,) \n",
      "\n"
     ]
    }
   ],
   "source": [
    "# dataset id\n",
    "dsid = 'StarLightCurves'\n",
    "X_train, y_train, X_valid, y_valid = get_UCR_data(dsid, parent_dir='./data/UCR/', verbose=True, on_disk=True)\n",
    "X_in_memory = np.concatenate((X_train, X_valid))\n",
    "y_in_memory = np.concatenate((y_train, y_valid)).astype(int)\n",
    "folder = './data/UCR'\n",
    "np.save(f'{folder}/{dsid}/X.npy', X_in_memory)\n",
    "np.save(f'{folder}/{dsid}/y.npy', y_in_memory)\n",
    "X_on_disk = np.load(f'{folder}/{dsid}/X.npy', mmap_mode='r')\n",
    "y_on_disk = np.load(f'{folder}/{dsid}/y.npy', mmap_mode='r').astype(int)\n",
    "splits = (L(list(np.arange(len(X_train)))), L(list(np.arange(len(X_train), len(X_on_disk)))))"
   ]
  },
  {
   "cell_type": "markdown",
   "metadata": {
    "colab_type": "text",
    "id": "8nvRSEZrIvlV"
   },
   "source": [
    "## Performance benchmark"
   ]
  },
  {
   "cell_type": "markdown",
   "metadata": {
    "colab_type": "text",
    "heading_collapsed": true,
    "id": "C5Um1xqaIvlX"
   },
   "source": [
    "### Pytorch dataloader"
   ]
  },
  {
   "cell_type": "code",
   "execution_count": 0,
   "metadata": {
    "colab": {},
    "colab_type": "code",
    "hidden": true,
    "id": "_hvOyRymIvlY"
   },
   "outputs": [],
   "source": [
    "# Native Pytorch\n",
    "class PytorchDataset():\n",
    "    def __init__(self, X, y=None): self.X, self.y = torch.as_tensor(X), torch.as_tensor(y)\n",
    "    def __getitem__(self, idx): return (self.X[idx], self.y[idx])\n",
    "    def __len__(self): return len(self.X)"
   ]
  },
  {
   "cell_type": "code",
   "execution_count": 7,
   "metadata": {
    "colab": {
     "base_uri": "https://localhost:8080/",
     "height": 51
    },
    "colab_type": "code",
    "hidden": true,
    "id": "aeFHdH08UWv1",
    "outputId": "57b2b437-9396-4c9d-9f7d-22b43e63f406"
   },
   "outputs": [
    {
     "name": "stdout",
     "output_type": "stream",
     "text": [
      "shape: 8236         bs: torch.Size([128, 1, 1024])\n",
      "10 loops, best of 3: 47 ms per loop\n"
     ]
    }
   ],
   "source": [
    "ds    = PytorchDataset(np.array(X_valid), np.array(y_valid).astype(int))\n",
    "dl    = torch.utils.data.DataLoader(ds, batch_size=128)\n",
    "xb,yb = next(iter(dl))\n",
    "print(f'shape: {str(len(ds)):10}   bs: {xb.shape}')\n",
    "%timeit cycle_dl(dl)"
   ]
  },
  {
   "cell_type": "markdown",
   "metadata": {
    "colab_type": "text",
    "heading_collapsed": true,
    "id": "eghDOIQgIvls"
   },
   "source": [
    "### Fastai v1"
   ]
  },
  {
   "cell_type": "markdown",
   "metadata": {
    "colab_type": "text",
    "hidden": true,
    "id": "y3JalSKlIvlu"
   },
   "source": [
    "For reference, this are the timings achieved with fastai v1 under the same conditions: \n",
    "\n",
    "- cycle_dl:  1.01s\n",
    "- total training time: 102 s"
   ]
  },
  {
   "cell_type": "markdown",
   "metadata": {
    "colab_type": "text",
    "id": "4Gz9PSBZIvlw"
   },
   "source": [
    "### Fastai v2"
   ]
  },
  {
   "cell_type": "code",
   "execution_count": 11,
   "metadata": {},
   "outputs": [
    {
     "data": {
      "text/plain": [
       "1"
      ]
     },
     "execution_count": 11,
     "metadata": {},
     "output_type": "execute_result"
    }
   ],
   "source": [
    "X = np.random.rand(5, 1, 2)\n",
    "y = np.random.randint(1, 3, 5)\n",
    "items = L(X,y).zip()\n",
    "TfmdLists(items, [ItemGetter(1)])[0]"
   ]
  },
  {
   "cell_type": "code",
   "execution_count": 3,
   "metadata": {},
   "outputs": [
    {
     "ename": "NameError",
     "evalue": "name 'splits' is not defined",
     "output_type": "error",
     "traceback": [
      "\u001b[0;31m---------------------------------------------------------------------------\u001b[0m",
      "\u001b[0;31mNameError\u001b[0m                                 Traceback (most recent call last)",
      "\u001b[0;32m<ipython-input-3-4926ac2e5cac>\u001b[0m in \u001b[0;36m<module>\u001b[0;34m\u001b[0m\n\u001b[1;32m      2\u001b[0m dblock = DataBlock(blocks=(TransformBlock, CategoryBlock),\n\u001b[1;32m      3\u001b[0m                    \u001b[0mgetters\u001b[0m\u001b[0;34m=\u001b[0m\u001b[0mgetters\u001b[0m\u001b[0;34m,\u001b[0m\u001b[0;34m\u001b[0m\u001b[0;34m\u001b[0m\u001b[0m\n\u001b[0;32m----> 4\u001b[0;31m                    \u001b[0msplitter\u001b[0m\u001b[0;34m=\u001b[0m\u001b[0mIndexSplitter\u001b[0m\u001b[0;34m(\u001b[0m\u001b[0msplits\u001b[0m\u001b[0;34m[\u001b[0m\u001b[0;36m1\u001b[0m\u001b[0;34m]\u001b[0m\u001b[0;34m)\u001b[0m\u001b[0;34m,\u001b[0m\u001b[0;34m\u001b[0m\u001b[0;34m\u001b[0m\u001b[0m\n\u001b[0m\u001b[1;32m      5\u001b[0m                    \u001b[0mitem_tfms\u001b[0m\u001b[0;34m=\u001b[0m\u001b[0;32mNone\u001b[0m\u001b[0;34m,\u001b[0m\u001b[0;34m\u001b[0m\u001b[0;34m\u001b[0m\u001b[0m\n\u001b[1;32m      6\u001b[0m                    batch_tfms=None)\n",
      "\u001b[0;31mNameError\u001b[0m: name 'splits' is not defined"
     ]
    }
   ],
   "source": [
    "getters = [ItemGetter(0), ItemGetter(1)]\n",
    "dblock = DataBlock(blocks=(TransformBlock, CategoryBlock),\n",
    "                   getters=getters,\n",
    "                   splitter=IndexSplitter(splits[1]),\n",
    "                   item_tfms=None,\n",
    "                   batch_tfms=None)\n",
    "source = itemify(X_in_memory, y_in_memory)\n",
    "dls = dblock.dataloaders(source, bs=64, val_bs=128, num_workers=0)\n",
    "xb,yb = next(iter(dls.valid))\n",
    "print(f'shape: {str(len(dls.valid.dataset)):10}   bs: {xb.shape}')\n",
    "# %timeit cycle_dl(dls.valid)"
   ]
  },
  {
   "cell_type": "code",
   "execution_count": null,
   "metadata": {},
   "outputs": [],
   "source": [
    "X = np.random.rand(5, 1, 2)\n",
    "y = np.random.randint(1, 3, 5)\n",
    "items = L(X,y).zip()\n",
    "TfmdLists(items, [ItemGetter(1)], Categorize())[0]"
   ]
  },
  {
   "cell_type": "code",
   "execution_count": 0,
   "metadata": {
    "colab": {
     "base_uri": "https://localhost:8080/",
     "height": 52
    },
    "colab_type": "code",
    "id": "FUgJH0nEIvlx",
    "outputId": "720d85dd-68bd-4e4b-c633-94e0709b85f2"
   },
   "outputs": [
    {
     "name": "stdout",
     "output_type": "stream",
     "text": [
      "shape: 8236         bs: torch.Size([128, 1, 1024])\n",
      "1 loop, best of 3: 3.43 s per loop\n"
     ]
    }
   ],
   "source": [
    "getters = [ItemGetter(0), ItemGetter(1)]\n",
    "dblock = DataBlock(blocks=(TSTensorBlock, CategoryBlock),\n",
    "                   getters=getters,\n",
    "                   splitter=IndexSplitter(splits[1]),\n",
    "                   item_tfms=None,\n",
    "                   batch_tfms=None)\n",
    "source = itemify(X_in_memory, y_in_memory)\n",
    "dls = dblock.dataloaders(source, bs=64, val_bs=128, num_workers=0)\n",
    "xb,yb = next(iter(dls.valid))\n",
    "print(f'shape: {str(len(dls.valid.dataset)):10}   bs: {xb.shape}')\n",
    "%timeit cycle_dl(dls.valid)"
   ]
  },
  {
   "cell_type": "markdown",
   "metadata": {
    "colab_type": "text",
    "id": "4rUFR5DFKW8f"
   },
   "source": [
    "Sylvain Gugger provided an alternative recommendation in this [post](https://forums.fast.ai/t/datablock-with-numpy-input/64848/2):\n",
    "\n",
    "\"You can create a DataLoaders object from regular PyTorch datasets (though all the visualization methods like show_batch and show_results will fail).\""
   ]
  },
  {
   "cell_type": "code",
   "execution_count": 0,
   "metadata": {
    "colab": {
     "base_uri": "https://localhost:8080/",
     "height": 52
    },
    "colab_type": "code",
    "id": "lgCgZX6lIvl5",
    "outputId": "67761c9b-eb29-45cd-a2c9-149a863e6588"
   },
   "outputs": [
    {
     "name": "stdout",
     "output_type": "stream",
     "text": [
      "shape: 8236         bs: torch.Size([128, 1, 1024])\n",
      "1 loop, best of 3: 892 ms per loop\n"
     ]
    }
   ],
   "source": [
    "train_ds = PytorchDataset(np.array(X_train), np.array(y_train).astype(int))\n",
    "valid_ds = PytorchDataset(np.array(X_valid), np.array(y_valid).astype(int))\n",
    "dls = DataLoaders.from_dsets(train_ds, valid_ds, batch_size=128, num_workers=0)\n",
    "xb,yb = next(iter(dls.valid))\n",
    "print(f'shape: {str(len(dls.valid.dataset)):10}   bs: {xb.shape}')\n",
    "%timeit cycle_dl(dls.valid)"
   ]
  },
  {
   "cell_type": "markdown",
   "metadata": {
    "colab_type": "text",
    "id": "p45nu7qPIvmD"
   },
   "source": [
    "## NumpyDatasets & NumpyDataLoader"
   ]
  },
  {
   "cell_type": "code",
   "execution_count": 0,
   "metadata": {
    "colab": {},
    "colab_type": "code",
    "id": "6SHtLjZbIvmV"
   },
   "outputs": [],
   "source": [
    "class NumpyDatasets(Datasets):\n",
    "    \"A dataset that creates tuples from X (and y) and applies `item_tfms`\"\n",
    "    _xtype, _ytype = None, None # Expected X and y output types (torch.Tensor - default - or subclass)\n",
    "    def __init__(self, X=None, y=None, items=None, sel_vars=None, sel_steps=None, tfms=None, tls=None, n_inp=None, dl_type=None, \n",
    "                 preprocess=False, **kwargs):\n",
    "\n",
    "        if tls is None: items = ifnoneelse(y,tuple((X,)),tuple((X, y)))\n",
    "        self.tfms = L(ifnone(tfms,[None]*len(ifnone(tls,items))))\n",
    "        self.sel_vars = slice(None) if sel_vars is None else sel_vars\n",
    "        self.sel_steps = slice(None) if sel_steps is None else sel_steps\n",
    "        self.tls = L(tls if tls else [TfmdLists(item, t, **kwargs) for item,t in zip(items,self.tfms)])\n",
    "        self.n_inp = (1 if len(self.tls)==1 else len(self.tls)-1) if n_inp is None else n_inp\n",
    "        self.ptls = L([tl.items if is_none(tfm) else np.stack(tl[:]) if preprocess else tl for tl,tfm in zip(self.tls, self.tfms)])\n",
    "        self.preprocess = preprocess\n",
    "    \n",
    "    def __getitem__(self, it):\n",
    "        return tuple([typ(ptl[it][self.sel_vars, self.sel_steps] if i==0 else ptl[it]) for i,(ptl,typ) in enumerate(zip(self.ptls,self.types))])\n",
    "    \n",
    "    def subset(self, i): return type(self)(tls=L(tl.subset(i) for tl in self.tls), n_inp=self.n_inp, \n",
    "                                           preprocess=self.preprocess, tfms=self.tfms, sel_vars=self.sel_vars, sel_steps=self.sel_steps)\n",
    "    \n",
    "    def _new(self, X, *args, y=None, **kwargs): \n",
    "        items = ifnone(items,ifnoneelse(y,tuple((X,)),tuple((X, y))))\n",
    "        return super()._new(items, tfms=self.tfms, do_setup=False, **kwargs)\n",
    "    \n",
    "    @property\n",
    "    def vars(self): return self[0][0].shape[-2]\n",
    "\n",
    "    @property\n",
    "    def length(self): return self[0][0].shape[-1]\n",
    "\n",
    "    @property\n",
    "    def types(self):\n",
    "        if self.tls: \n",
    "            types = [type(tl[0]) if isinstance(tl[0], torch.Tensor) else torch.as_tensor for tl in self.tls]\n",
    "            if self._xtype is not None: types[0] = self._xtype\n",
    "            if len(types) == 2 and self._ytype is not None: types[1] = self._ytype\n",
    "            return types \n",
    "\n",
    "\n",
    "class TSDatasets(NumpyDatasets):\n",
    "    \"A dataset that creates tuples from X (and y) and applies `item_tfms`\"\n",
    "    _xtype, _ytype = TSTensor, None # Expected X and y output types (torch.Tensor - default - or subclass)\n",
    "    \n",
    "\n",
    "class NumpyDataLoader(TfmdDL):\n",
    "    do_item = noops\n",
    "    \n",
    "    def create_batch(self, b): return self.dataset[b]\n",
    "    \n",
    "    @property\n",
    "    def vars(self): return self.dataset[0][0].shape[-2]\n",
    "    \n",
    "    @property\n",
    "    def length(self): return self.dataset[0][0].shape[-1]\n",
    "\n",
    "    @delegates(plt.subplots)\n",
    "    def show_batch(self, b=None, ctxs=None, max_n=9, nrows=3, ncols=3, figsize=(16, 10), **kwargs):\n",
    "        b = self.one_batch()\n",
    "        db = self.decode_batch(b, max_n=max_n)\n",
    "        if figsize is None: figsize = (ncols*6, max_n//ncols*4)\n",
    "        if ctxs is None: ctxs = get_grid(min(len(db), nrows*ncols), nrows=None, ncols=ncols, figsize=figsize, **kwargs)\n",
    "        for i,ctx in enumerate(ctxs):\n",
    "            show_tuple(db[i], ctx=ctx)\n",
    "\n",
    "    @delegates(plt.subplots)\n",
    "    def show_results(self, b, preds, ctxs=None, max_n=9, nrows=3, ncols=3, figsize=(16, 10), **kwargs):\n",
    "        t = self.decode_batch(b, max_n=max_n)\n",
    "        p = self.decode_batch((b[0],preds), max_n=max_n)\n",
    "        if figsize is None: figsize = (ncols*6, max_n//ncols*4)\n",
    "        if ctxs is None: ctxs = get_grid(min(len(t), nrows*ncols), nrows=None, ncols=ncols, figsize=figsize, **kwargs)\n",
    "        for i,ctx in enumerate(ctxs): \n",
    "            title = f'True: {t[i][1]}\\nPred: {p[i][1]}'\n",
    "            color = 'green' if t[i][1] == p[i][1] else 'red'\n",
    "            t[i][0].show(ctx=ctx, title=title, title_color=color)\n",
    "\n",
    "\n",
    "@delegates(plt.subplots)\n",
    "def show_tuple(tup, **kwargs):\n",
    "    \"Display a timeseries plot from a decoded tuple\"\n",
    "    tup[0].show(title='unlabeled' if len(tup) == 1 else tup[1], **kwargs)\n",
    "    \n",
    "class TSDataLoader(NumpyDataLoader): pass"
   ]
  },
  {
   "cell_type": "code",
   "execution_count": 0,
   "metadata": {
    "colab": {},
    "colab_type": "code",
    "id": "qa4I5cEGuYmz"
   },
   "outputs": [],
   "source": [
    "bs = 128\n",
    "idx = np.random.randint(len(X_in_memory), size=bs)\n",
    "train_idx = np.random.randint(len(splits[0]), size=bs)\n",
    "valid_idx = np.random.randint(len(splits[1]), size=bs)"
   ]
  },
  {
   "cell_type": "code",
   "execution_count": 144,
   "metadata": {
    "colab": {
     "base_uri": "https://localhost:8080/",
     "height": 330
    },
    "colab_type": "code",
    "id": "lWrK75gKIvmk",
    "outputId": "56e12891-6ed7-4668-d8e7-411f7b10f619"
   },
   "outputs": [
    {
     "name": "stdout",
     "output_type": "stream",
     "text": [
      "(TSTensor(vars:1, len:1024), TensorCategory(1))\n"
     ]
    },
    {
     "data": {
      "image/png": "[encoded data removed]",
      "text/plain": [
       "<Figure size 432x288 with 1 Axes>"
      ]
     },
     "metadata": {
      "tags": []
     },
     "output_type": "display_data"
    }
   ],
   "source": [
    "tfms = [None, [Categorize()]]\n",
    "# tfms = None\n",
    "# dsets = NumpyDatasets(X_on_disk, y_on_disk, tfms=tfms, splits=splits, preprocess=True)\n",
    "dsets = TSDatasets(X_on_disk, y_on_disk, tfms=tfms, splits=splits, preprocess=True)\n",
    "train_ds = dsets.train\n",
    "valid_ds = dsets.valid\n",
    "test_ds  = dsets.add_ds(X_in_memory, y_in_memory)\n",
    "print(valid_ds[0])\n",
    "show_at(valid_ds, 0);"
   ]
  },
  {
   "cell_type": "code",
   "execution_count": 133,
   "metadata": {
    "colab": {
     "base_uri": "https://localhost:8080/",
     "height": 313
    },
    "colab_type": "code",
    "id": "AmExcsBinbL4",
    "outputId": "1c7451d8-a3b6-4c9a-95be-a2b1a3b1caec"
   },
   "outputs": [
    {
     "data": {
      "image/png": "[encoded data removed]",
      "text/plain": [
       "<Figure size 432x288 with 1 Axes>"
      ]
     },
     "metadata": {
      "tags": []
     },
     "output_type": "display_data"
    }
   ],
   "source": [
    "valid_ds.show(valid_ds[0]);"
   ]
  },
  {
   "cell_type": "code",
   "execution_count": 124,
   "metadata": {
    "colab": {
     "base_uri": "https://localhost:8080/",
     "height": 136
    },
    "colab_type": "code",
    "id": "nqL2GxGyIvmt",
    "outputId": "116fed41-699e-4cbc-f82d-bcaa24e114c3",
    "scrolled": false
   },
   "outputs": [
    {
     "data": {
      "text/plain": [
       "(TSTensor(samples:128, vars:1, len:1024),\n",
       " TensorCategory([1, 2, 2, 0, 1, 2, 2, 2, 1, 2, 2, 2, 2, 2, 2, 0, 2, 2, 2, 0, 0, 2, 2, 2,\n",
       "         1, 0, 2, 0, 2, 1, 2, 2, 1, 2, 1, 1, 1, 1, 1, 2, 2, 0, 2, 2, 1, 0, 0, 2,\n",
       "         2, 2, 2, 1, 0, 0, 2, 2, 2, 2, 2, 2, 0, 0, 1, 2, 2, 1, 2, 2, 2, 0, 0, 2,\n",
       "         1, 1, 1, 2, 2, 1, 1, 1, 1, 2, 2, 2, 2, 2, 1, 1, 2, 1, 2, 2, 0, 2, 0, 2,\n",
       "         2, 2, 2, 2, 2, 2, 1, 1, 1, 2, 2, 2, 1, 0, 2, 2, 0, 2, 2, 1, 2, 1, 2, 2,\n",
       "         2, 2, 2, 2, 1, 2, 2, 0]))"
      ]
     },
     "execution_count": 124,
     "metadata": {
      "tags": []
     },
     "output_type": "execute_result"
    }
   ],
   "source": [
    "train_dl = TSDataLoader(train_ds, bs=64, shuffle=True, drop_last=True, num_workers=0)\n",
    "valid_dl = TSDataLoader(valid_ds, bs=128, num_workers=0)\n",
    "dls = TSDataLoaders(train_dl, valid_dl)\n",
    "b = next(iter(dls.valid))\n",
    "b"
   ]
  },
  {
   "cell_type": "code",
   "execution_count": 125,
   "metadata": {
    "colab": {
     "base_uri": "https://localhost:8080/",
     "height": 688
    },
    "colab_type": "code",
    "id": "hXQcDANmIvm4",
    "outputId": "d78561ed-9f3f-4d50-c751-4a456733cd4c",
    "scrolled": false
   },
   "outputs": [
    {
     "data": {
      "image/png": "[encoded data removed]",
      "text/plain": [
       "<Figure size 1152x720 with 9 Axes>"
      ]
     },
     "metadata": {
      "tags": []
     },
     "output_type": "display_data"
    }
   ],
   "source": [
    "dls.train.show_batch(sharey=True)"
   ]
  },
  {
   "cell_type": "code",
   "execution_count": 19,
   "metadata": {
    "colab": {
     "base_uri": "https://localhost:8080/",
     "height": 136
    },
    "colab_type": "code",
    "id": "FY4UjKKfXJEB",
    "outputId": "c531a6a5-d48f-4077-912d-ff45be629d0e"
   },
   "outputs": [
    {
     "data": {
      "text/plain": [
       "(TSTensor(samples:128, vars:1, len:1024),\n",
       " TensorCategory([2, 2, 3, 3, 2, 2, 3, 3, 3, 2, 3, 3, 1, 3, 3, 3, 2, 3, 2, 3, 3, 3, 3, 3,\n",
       "         3, 2, 3, 1, 3, 2, 3, 1, 2, 2, 3, 2, 3, 3, 2, 3, 3, 3, 3, 3, 3, 3, 3, 3,\n",
       "         2, 1, 2, 3, 3, 3, 2, 3, 3, 3, 3, 3, 3, 3, 3, 2, 1, 3, 2, 3, 3, 3, 3, 2,\n",
       "         3, 3, 3, 3, 3, 3, 3, 3, 3, 3, 2, 1, 3, 1, 2, 3, 2, 3, 3, 2, 3, 3, 3, 3,\n",
       "         3, 3, 2, 1, 2, 3, 3, 3, 2, 1, 2, 3, 3, 3, 2, 3, 2, 3, 3, 3, 2, 3, 2, 2,\n",
       "         3, 2, 2, 3, 3, 3, 2, 2]))"
      ]
     },
     "execution_count": 19,
     "metadata": {
      "tags": []
     },
     "output_type": "execute_result"
    }
   ],
   "source": [
    "X_val = X_in_memory[splits[1]]\n",
    "y_val = y_in_memory[splits[1]]\n",
    "tuple((TSTensor(X_val[valid_idx]), TensorCategory(y_val[valid_idx])))"
   ]
  },
  {
   "cell_type": "code",
   "execution_count": 24,
   "metadata": {
    "colab": {
     "base_uri": "https://localhost:8080/",
     "height": 51
    },
    "colab_type": "code",
    "id": "JUYPbFa5XlTu",
    "outputId": "6c2c6332-3f24-4189-a653-3762e08c1ad7"
   },
   "outputs": [
    {
     "name": "stdout",
     "output_type": "stream",
     "text": [
      "The slowest run took 4.59 times longer than the fastest. This could mean that an intermediate result is being cached.\n",
      "10000 loops, best of 3: 157 µs per loop\n"
     ]
    }
   ],
   "source": [
    "%timeit tuple((TSTensor(X_val[valid_idx]), TensorCategory(y_val[valid_idx])))"
   ]
  },
  {
   "cell_type": "code",
   "execution_count": 18,
   "metadata": {
    "colab": {
     "base_uri": "https://localhost:8080/",
     "height": 136
    },
    "colab_type": "code",
    "id": "gC2thB8AXFUz",
    "outputId": "42f13991-76cf-4c26-83ef-b97f280b4e45"
   },
   "outputs": [
    {
     "data": {
      "text/plain": [
       "(TSTensor(samples:128, vars:1, len:1024),\n",
       " TensorCategory([1, 1, 2, 2, 1, 1, 2, 2, 2, 1, 2, 2, 0, 2, 2, 2, 1, 2, 1, 2, 2, 2, 2, 2,\n",
       "         2, 1, 2, 0, 2, 1, 2, 0, 1, 1, 2, 1, 2, 2, 1, 2, 2, 2, 2, 2, 2, 2, 2, 2,\n",
       "         1, 0, 1, 2, 2, 2, 1, 2, 2, 2, 2, 2, 2, 2, 2, 1, 0, 2, 1, 2, 2, 2, 2, 1,\n",
       "         2, 2, 2, 2, 2, 2, 2, 2, 2, 2, 1, 0, 2, 0, 1, 2, 1, 2, 2, 1, 2, 2, 2, 2,\n",
       "         2, 2, 1, 0, 1, 2, 2, 2, 1, 0, 1, 2, 2, 2, 1, 2, 1, 2, 2, 2, 1, 2, 1, 1,\n",
       "         2, 1, 1, 2, 2, 2, 1, 1]))"
      ]
     },
     "execution_count": 18,
     "metadata": {
      "tags": []
     },
     "output_type": "execute_result"
    }
   ],
   "source": [
    "valid_ds[valid_idx]"
   ]
  },
  {
   "cell_type": "code",
   "execution_count": 0,
   "metadata": {
    "colab": {
     "base_uri": "https://localhost:8080/",
     "height": 34
    },
    "colab_type": "code",
    "id": "0vST9agVIvnN",
    "outputId": "d29c0480-0676-4188-a895-5b64b4213bc3"
   },
   "outputs": [
    {
     "name": "stdout",
     "output_type": "stream",
     "text": [
      "100 loops, best of 3: 14.5 ms per loop\n"
     ]
    }
   ],
   "source": [
    "# Preprocess = False\n",
    "%timeit valid_ds[valid_idx]"
   ]
  },
  {
   "cell_type": "code",
   "execution_count": 0,
   "metadata": {
    "colab": {
     "base_uri": "https://localhost:8080/",
     "height": 34
    },
    "colab_type": "code",
    "id": "XfyNCitYIvnU",
    "outputId": "767ae2d5-2a11-498a-9d48-107f87646dad"
   },
   "outputs": [
    {
     "name": "stdout",
     "output_type": "stream",
     "text": [
      "1 loop, best of 3: 929 ms per loop\n"
     ]
    }
   ],
   "source": [
    "%timeit cycle_dl(valid_dl)"
   ]
  },
  {
   "cell_type": "code",
   "execution_count": 17,
   "metadata": {
    "colab": {
     "base_uri": "https://localhost:8080/",
     "height": 34
    },
    "colab_type": "code",
    "id": "EQR2Qxj_W67v",
    "outputId": "a3781153-4911-49c0-e88c-9c0a058c9f40"
   },
   "outputs": [
    {
     "name": "stdout",
     "output_type": "stream",
     "text": [
      "10000 loops, best of 3: 161 µs per loop\n"
     ]
    }
   ],
   "source": [
    "# Preprocess = False\n",
    "%timeit valid_ds[valid_idx]"
   ]
  },
  {
   "cell_type": "code",
   "execution_count": 23,
   "metadata": {
    "colab": {
     "base_uri": "https://localhost:8080/",
     "height": 34
    },
    "colab_type": "code",
    "id": "1MnhBaO9Xa_L",
    "outputId": "904750b1-ead4-4133-e6ad-864c3fba0a70"
   },
   "outputs": [
    {
     "name": "stdout",
     "output_type": "stream",
     "text": [
      "10 loops, best of 3: 30.8 ms per loop\n"
     ]
    }
   ],
   "source": [
    "%timeit cycle_dl(valid_dl)"
   ]
  },
  {
   "cell_type": "code",
   "execution_count": 0,
   "metadata": {
    "colab": {
     "base_uri": "https://localhost:8080/",
     "height": 815
    },
    "colab_type": "code",
    "id": "3zZIMFWD9eAy",
    "outputId": "a381a088-aad1-48d0-b3e5-67631299df33"
   },
   "outputs": [
    {
     "data": {
      "text/html": [
       "<table border=\"1\" class=\"dataframe\">\n",
       "  <thead>\n",
       "    <tr style=\"text-align: left;\">\n",
       "      <th>epoch</th>\n",
       "      <th>train_loss</th>\n",
       "      <th>valid_loss</th>\n",
       "      <th>accuracy</th>\n",
       "      <th>time</th>\n",
       "    </tr>\n",
       "  </thead>\n",
       "  <tbody>\n",
       "    <tr>\n",
       "      <td>0</td>\n",
       "      <td>0.705418</td>\n",
       "      <td>1.009921</td>\n",
       "      <td>0.676663</td>\n",
       "      <td>00:03</td>\n",
       "    </tr>\n",
       "    <tr>\n",
       "      <td>1</td>\n",
       "      <td>0.570929</td>\n",
       "      <td>0.650547</td>\n",
       "      <td>0.831836</td>\n",
       "      <td>00:03</td>\n",
       "    </tr>\n",
       "    <tr>\n",
       "      <td>2</td>\n",
       "      <td>0.493112</td>\n",
       "      <td>0.624059</td>\n",
       "      <td>0.746479</td>\n",
       "      <td>00:03</td>\n",
       "    </tr>\n",
       "    <tr>\n",
       "      <td>3</td>\n",
       "      <td>0.418206</td>\n",
       "      <td>0.274643</td>\n",
       "      <td>0.894609</td>\n",
       "      <td>00:03</td>\n",
       "    </tr>\n",
       "    <tr>\n",
       "      <td>4</td>\n",
       "      <td>0.362605</td>\n",
       "      <td>0.542397</td>\n",
       "      <td>0.773434</td>\n",
       "      <td>00:03</td>\n",
       "    </tr>\n",
       "    <tr>\n",
       "      <td>5</td>\n",
       "      <td>0.307633</td>\n",
       "      <td>0.274911</td>\n",
       "      <td>0.875304</td>\n",
       "      <td>00:03</td>\n",
       "    </tr>\n",
       "    <tr>\n",
       "      <td>6</td>\n",
       "      <td>0.261671</td>\n",
       "      <td>1.009938</td>\n",
       "      <td>0.856484</td>\n",
       "      <td>00:03</td>\n",
       "    </tr>\n",
       "    <tr>\n",
       "      <td>7</td>\n",
       "      <td>0.236244</td>\n",
       "      <td>0.156257</td>\n",
       "      <td>0.944998</td>\n",
       "      <td>00:03</td>\n",
       "    </tr>\n",
       "    <tr>\n",
       "      <td>8</td>\n",
       "      <td>0.202548</td>\n",
       "      <td>0.127820</td>\n",
       "      <td>0.968310</td>\n",
       "      <td>00:03</td>\n",
       "    </tr>\n",
       "    <tr>\n",
       "      <td>9</td>\n",
       "      <td>0.176167</td>\n",
       "      <td>0.111701</td>\n",
       "      <td>0.974259</td>\n",
       "      <td>00:03</td>\n",
       "    </tr>\n",
       "    <tr>\n",
       "      <td>10</td>\n",
       "      <td>0.156153</td>\n",
       "      <td>0.154165</td>\n",
       "      <td>0.954711</td>\n",
       "      <td>00:03</td>\n",
       "    </tr>\n",
       "    <tr>\n",
       "      <td>11</td>\n",
       "      <td>0.140993</td>\n",
       "      <td>0.103623</td>\n",
       "      <td>0.974381</td>\n",
       "      <td>00:03</td>\n",
       "    </tr>\n",
       "    <tr>\n",
       "      <td>12</td>\n",
       "      <td>0.127677</td>\n",
       "      <td>0.101870</td>\n",
       "      <td>0.973409</td>\n",
       "      <td>00:03</td>\n",
       "    </tr>\n",
       "    <tr>\n",
       "      <td>13</td>\n",
       "      <td>0.114302</td>\n",
       "      <td>0.119971</td>\n",
       "      <td>0.962846</td>\n",
       "      <td>00:03</td>\n",
       "    </tr>\n",
       "    <tr>\n",
       "      <td>14</td>\n",
       "      <td>0.107243</td>\n",
       "      <td>0.344897</td>\n",
       "      <td>0.871297</td>\n",
       "      <td>00:03</td>\n",
       "    </tr>\n",
       "    <tr>\n",
       "      <td>15</td>\n",
       "      <td>0.100960</td>\n",
       "      <td>0.183128</td>\n",
       "      <td>0.929577</td>\n",
       "      <td>00:03</td>\n",
       "    </tr>\n",
       "    <tr>\n",
       "      <td>16</td>\n",
       "      <td>0.092131</td>\n",
       "      <td>0.132932</td>\n",
       "      <td>0.956654</td>\n",
       "      <td>00:03</td>\n",
       "    </tr>\n",
       "    <tr>\n",
       "      <td>17</td>\n",
       "      <td>0.084803</td>\n",
       "      <td>0.091446</td>\n",
       "      <td>0.972317</td>\n",
       "      <td>00:03</td>\n",
       "    </tr>\n",
       "    <tr>\n",
       "      <td>18</td>\n",
       "      <td>0.076947</td>\n",
       "      <td>0.087434</td>\n",
       "      <td>0.975231</td>\n",
       "      <td>00:03</td>\n",
       "    </tr>\n",
       "    <tr>\n",
       "      <td>19</td>\n",
       "      <td>0.071001</td>\n",
       "      <td>0.081130</td>\n",
       "      <td>0.977538</td>\n",
       "      <td>00:03</td>\n",
       "    </tr>\n",
       "    <tr>\n",
       "      <td>20</td>\n",
       "      <td>0.066302</td>\n",
       "      <td>0.083136</td>\n",
       "      <td>0.978023</td>\n",
       "      <td>00:03</td>\n",
       "    </tr>\n",
       "    <tr>\n",
       "      <td>21</td>\n",
       "      <td>0.062757</td>\n",
       "      <td>0.078921</td>\n",
       "      <td>0.978630</td>\n",
       "      <td>00:03</td>\n",
       "    </tr>\n",
       "    <tr>\n",
       "      <td>22</td>\n",
       "      <td>0.058176</td>\n",
       "      <td>0.079395</td>\n",
       "      <td>0.978388</td>\n",
       "      <td>00:03</td>\n",
       "    </tr>\n",
       "    <tr>\n",
       "      <td>23</td>\n",
       "      <td>0.055385</td>\n",
       "      <td>0.080016</td>\n",
       "      <td>0.978023</td>\n",
       "      <td>00:03</td>\n",
       "    </tr>\n",
       "    <tr>\n",
       "      <td>24</td>\n",
       "      <td>0.052719</td>\n",
       "      <td>0.079736</td>\n",
       "      <td>0.978266</td>\n",
       "      <td>00:03</td>\n",
       "    </tr>\n",
       "  </tbody>\n",
       "</table>"
      ],
      "text/plain": [
       "<IPython.core.display.HTML object>"
      ]
     },
     "metadata": {
      "tags": []
     },
     "output_type": "display_data"
    },
    {
     "name": "stdout",
     "output_type": "stream",
     "text": [
      "97.16755080223083\n"
     ]
    }
   ],
   "source": [
    "# Preprocess = False, Data in memory\n",
    "tfms  = [None, [Categorize()]]\n",
    "dsets = TSDatasets(X_in_memory, y_in_memory, tfms=tfms, splits=splits, preprocess=False)\n",
    "train_ds = dsets.train\n",
    "valid_ds = dsets.valid\n",
    "train_dl = TSDataLoader(train_ds, bs=64, shuffle=True, drop_last=True, num_workers=0)\n",
    "valid_dl = TSDataLoader(valid_ds, bs=128, num_workers=0)\n",
    "dls   = TSDataLoaders(train_dl, valid_dl, device=default_device())\n",
    "model = InceptionTime(dls.vars, dls.c)\n",
    "learn2 = Learner(dls, model, metrics=accuracy)\n",
    "start = time.time()\n",
    "learn2.fit_one_cycle(25, lr_max=1e-3)\n",
    "print(time.time() - start)"
   ]
  },
  {
   "cell_type": "code",
   "execution_count": 0,
   "metadata": {
    "colab": {
     "base_uri": "https://localhost:8080/",
     "height": 815
    },
    "colab_type": "code",
    "id": "ZzpiQDTVymXH",
    "outputId": "fa008163-aedf-4988-83c2-f01b530a9cdc"
   },
   "outputs": [
    {
     "data": {
      "text/html": [
       "<table border=\"1\" class=\"dataframe\">\n",
       "  <thead>\n",
       "    <tr style=\"text-align: left;\">\n",
       "      <th>epoch</th>\n",
       "      <th>train_loss</th>\n",
       "      <th>valid_loss</th>\n",
       "      <th>accuracy</th>\n",
       "      <th>time</th>\n",
       "    </tr>\n",
       "  </thead>\n",
       "  <tbody>\n",
       "    <tr>\n",
       "      <td>0</td>\n",
       "      <td>0.730351</td>\n",
       "      <td>1.026829</td>\n",
       "      <td>0.798567</td>\n",
       "      <td>00:02</td>\n",
       "    </tr>\n",
       "    <tr>\n",
       "      <td>1</td>\n",
       "      <td>0.582621</td>\n",
       "      <td>0.644263</td>\n",
       "      <td>0.845920</td>\n",
       "      <td>00:02</td>\n",
       "    </tr>\n",
       "    <tr>\n",
       "      <td>2</td>\n",
       "      <td>0.486823</td>\n",
       "      <td>0.408003</td>\n",
       "      <td>0.852477</td>\n",
       "      <td>00:02</td>\n",
       "    </tr>\n",
       "    <tr>\n",
       "      <td>3</td>\n",
       "      <td>0.414061</td>\n",
       "      <td>0.607993</td>\n",
       "      <td>0.692448</td>\n",
       "      <td>00:02</td>\n",
       "    </tr>\n",
       "    <tr>\n",
       "      <td>4</td>\n",
       "      <td>0.347909</td>\n",
       "      <td>0.663359</td>\n",
       "      <td>0.855755</td>\n",
       "      <td>00:02</td>\n",
       "    </tr>\n",
       "    <tr>\n",
       "      <td>5</td>\n",
       "      <td>0.298066</td>\n",
       "      <td>0.179185</td>\n",
       "      <td>0.951797</td>\n",
       "      <td>00:02</td>\n",
       "    </tr>\n",
       "    <tr>\n",
       "      <td>6</td>\n",
       "      <td>0.251365</td>\n",
       "      <td>0.192588</td>\n",
       "      <td>0.930306</td>\n",
       "      <td>00:02</td>\n",
       "    </tr>\n",
       "    <tr>\n",
       "      <td>7</td>\n",
       "      <td>0.211995</td>\n",
       "      <td>0.255828</td>\n",
       "      <td>0.932127</td>\n",
       "      <td>00:02</td>\n",
       "    </tr>\n",
       "    <tr>\n",
       "      <td>8</td>\n",
       "      <td>0.180487</td>\n",
       "      <td>0.470174</td>\n",
       "      <td>0.857334</td>\n",
       "      <td>00:02</td>\n",
       "    </tr>\n",
       "    <tr>\n",
       "      <td>9</td>\n",
       "      <td>0.154197</td>\n",
       "      <td>0.240356</td>\n",
       "      <td>0.905901</td>\n",
       "      <td>00:02</td>\n",
       "    </tr>\n",
       "    <tr>\n",
       "      <td>10</td>\n",
       "      <td>0.136392</td>\n",
       "      <td>0.280078</td>\n",
       "      <td>0.877125</td>\n",
       "      <td>00:02</td>\n",
       "    </tr>\n",
       "    <tr>\n",
       "      <td>11</td>\n",
       "      <td>0.122639</td>\n",
       "      <td>0.140122</td>\n",
       "      <td>0.951554</td>\n",
       "      <td>00:02</td>\n",
       "    </tr>\n",
       "    <tr>\n",
       "      <td>12</td>\n",
       "      <td>0.113663</td>\n",
       "      <td>0.124430</td>\n",
       "      <td>0.964303</td>\n",
       "      <td>00:02</td>\n",
       "    </tr>\n",
       "    <tr>\n",
       "      <td>13</td>\n",
       "      <td>0.104083</td>\n",
       "      <td>0.107013</td>\n",
       "      <td>0.968553</td>\n",
       "      <td>00:02</td>\n",
       "    </tr>\n",
       "    <tr>\n",
       "      <td>14</td>\n",
       "      <td>0.095522</td>\n",
       "      <td>0.097808</td>\n",
       "      <td>0.971588</td>\n",
       "      <td>00:02</td>\n",
       "    </tr>\n",
       "    <tr>\n",
       "      <td>15</td>\n",
       "      <td>0.086618</td>\n",
       "      <td>0.128834</td>\n",
       "      <td>0.968067</td>\n",
       "      <td>00:02</td>\n",
       "    </tr>\n",
       "    <tr>\n",
       "      <td>16</td>\n",
       "      <td>0.081772</td>\n",
       "      <td>0.160577</td>\n",
       "      <td>0.939534</td>\n",
       "      <td>00:02</td>\n",
       "    </tr>\n",
       "    <tr>\n",
       "      <td>17</td>\n",
       "      <td>0.075815</td>\n",
       "      <td>0.083388</td>\n",
       "      <td>0.976323</td>\n",
       "      <td>00:02</td>\n",
       "    </tr>\n",
       "    <tr>\n",
       "      <td>18</td>\n",
       "      <td>0.071869</td>\n",
       "      <td>0.085877</td>\n",
       "      <td>0.976688</td>\n",
       "      <td>00:02</td>\n",
       "    </tr>\n",
       "    <tr>\n",
       "      <td>19</td>\n",
       "      <td>0.067252</td>\n",
       "      <td>0.081978</td>\n",
       "      <td>0.975959</td>\n",
       "      <td>00:02</td>\n",
       "    </tr>\n",
       "    <tr>\n",
       "      <td>20</td>\n",
       "      <td>0.060078</td>\n",
       "      <td>0.074898</td>\n",
       "      <td>0.977902</td>\n",
       "      <td>00:02</td>\n",
       "    </tr>\n",
       "    <tr>\n",
       "      <td>21</td>\n",
       "      <td>0.055047</td>\n",
       "      <td>0.072920</td>\n",
       "      <td>0.978995</td>\n",
       "      <td>00:02</td>\n",
       "    </tr>\n",
       "    <tr>\n",
       "      <td>22</td>\n",
       "      <td>0.050996</td>\n",
       "      <td>0.072335</td>\n",
       "      <td>0.979966</td>\n",
       "      <td>00:02</td>\n",
       "    </tr>\n",
       "    <tr>\n",
       "      <td>23</td>\n",
       "      <td>0.047499</td>\n",
       "      <td>0.073165</td>\n",
       "      <td>0.979845</td>\n",
       "      <td>00:02</td>\n",
       "    </tr>\n",
       "    <tr>\n",
       "      <td>24</td>\n",
       "      <td>0.045599</td>\n",
       "      <td>0.072690</td>\n",
       "      <td>0.979723</td>\n",
       "      <td>00:02</td>\n",
       "    </tr>\n",
       "  </tbody>\n",
       "</table>"
      ],
      "text/plain": [
       "<IPython.core.display.HTML object>"
      ]
     },
     "metadata": {
      "tags": []
     },
     "output_type": "display_data"
    },
    {
     "name": "stdout",
     "output_type": "stream",
     "text": [
      "73.67140460014343\n"
     ]
    }
   ],
   "source": [
    "# Preprocess = False, Data in memory\n",
    "tfms  = [None, [Categorize()]]\n",
    "dsets = TSDatasets(X_in_memory, y_in_memory, tfms=tfms, splits=splits, preprocess=True)\n",
    "train_ds = dsets.train\n",
    "valid_ds = dsets.valid\n",
    "train_dl = TSDataLoader(train_ds, bs=64, shuffle=True, drop_last=True, num_workers=0)\n",
    "valid_dl = TSDataLoader(valid_ds, bs=128, num_workers=0)\n",
    "dls   = TSDataLoaders(train_dl, valid_dl, device=default_device())\n",
    "model = InceptionTime(dls.vars, dls.c)\n",
    "learn = Learner(dls, model, metrics=accuracy)\n",
    "start = time.time()\n",
    "learn.fit_one_cycle(25, lr_max=1e-3)\n",
    "print(time.time() - start)"
   ]
  },
  {
   "cell_type": "code",
   "execution_count": 0,
   "metadata": {
    "colab": {
     "base_uri": "https://localhost:8080/",
     "height": 815
    },
    "colab_type": "code",
    "id": "5xZgRP-XL371",
    "outputId": "f9e300e4-8d5f-4edb-b56e-bd04b5dd2c49"
   },
   "outputs": [
    {
     "data": {
      "text/html": [
       "<table border=\"1\" class=\"dataframe\">\n",
       "  <thead>\n",
       "    <tr style=\"text-align: left;\">\n",
       "      <th>epoch</th>\n",
       "      <th>train_loss</th>\n",
       "      <th>valid_loss</th>\n",
       "      <th>accuracy</th>\n",
       "      <th>time</th>\n",
       "    </tr>\n",
       "  </thead>\n",
       "  <tbody>\n",
       "    <tr>\n",
       "      <td>0</td>\n",
       "      <td>0.799278</td>\n",
       "      <td>1.068762</td>\n",
       "      <td>0.577222</td>\n",
       "      <td>00:03</td>\n",
       "    </tr>\n",
       "    <tr>\n",
       "      <td>1</td>\n",
       "      <td>0.647836</td>\n",
       "      <td>0.694410</td>\n",
       "      <td>0.835600</td>\n",
       "      <td>00:03</td>\n",
       "    </tr>\n",
       "    <tr>\n",
       "      <td>2</td>\n",
       "      <td>0.546813</td>\n",
       "      <td>0.423343</td>\n",
       "      <td>0.851627</td>\n",
       "      <td>00:03</td>\n",
       "    </tr>\n",
       "    <tr>\n",
       "      <td>3</td>\n",
       "      <td>0.451487</td>\n",
       "      <td>0.337685</td>\n",
       "      <td>0.856484</td>\n",
       "      <td>00:03</td>\n",
       "    </tr>\n",
       "    <tr>\n",
       "      <td>4</td>\n",
       "      <td>0.392121</td>\n",
       "      <td>0.434699</td>\n",
       "      <td>0.834628</td>\n",
       "      <td>00:03</td>\n",
       "    </tr>\n",
       "    <tr>\n",
       "      <td>5</td>\n",
       "      <td>0.338288</td>\n",
       "      <td>0.906969</td>\n",
       "      <td>0.849077</td>\n",
       "      <td>00:03</td>\n",
       "    </tr>\n",
       "    <tr>\n",
       "      <td>6</td>\n",
       "      <td>0.302274</td>\n",
       "      <td>0.739665</td>\n",
       "      <td>0.855027</td>\n",
       "      <td>00:03</td>\n",
       "    </tr>\n",
       "    <tr>\n",
       "      <td>7</td>\n",
       "      <td>0.265216</td>\n",
       "      <td>0.229490</td>\n",
       "      <td>0.928485</td>\n",
       "      <td>00:03</td>\n",
       "    </tr>\n",
       "    <tr>\n",
       "      <td>8</td>\n",
       "      <td>0.227199</td>\n",
       "      <td>0.891239</td>\n",
       "      <td>0.787882</td>\n",
       "      <td>00:03</td>\n",
       "    </tr>\n",
       "    <tr>\n",
       "      <td>9</td>\n",
       "      <td>0.200662</td>\n",
       "      <td>0.167834</td>\n",
       "      <td>0.956897</td>\n",
       "      <td>00:03</td>\n",
       "    </tr>\n",
       "    <tr>\n",
       "      <td>10</td>\n",
       "      <td>0.178086</td>\n",
       "      <td>0.134484</td>\n",
       "      <td>0.971831</td>\n",
       "      <td>00:03</td>\n",
       "    </tr>\n",
       "    <tr>\n",
       "      <td>11</td>\n",
       "      <td>0.162484</td>\n",
       "      <td>0.135507</td>\n",
       "      <td>0.971831</td>\n",
       "      <td>00:03</td>\n",
       "    </tr>\n",
       "    <tr>\n",
       "      <td>12</td>\n",
       "      <td>0.141893</td>\n",
       "      <td>0.324522</td>\n",
       "      <td>0.854541</td>\n",
       "      <td>00:03</td>\n",
       "    </tr>\n",
       "    <tr>\n",
       "      <td>13</td>\n",
       "      <td>0.127553</td>\n",
       "      <td>0.104538</td>\n",
       "      <td>0.976081</td>\n",
       "      <td>00:03</td>\n",
       "    </tr>\n",
       "    <tr>\n",
       "      <td>14</td>\n",
       "      <td>0.117298</td>\n",
       "      <td>0.093386</td>\n",
       "      <td>0.975231</td>\n",
       "      <td>00:03</td>\n",
       "    </tr>\n",
       "    <tr>\n",
       "      <td>15</td>\n",
       "      <td>0.107174</td>\n",
       "      <td>0.122522</td>\n",
       "      <td>0.958718</td>\n",
       "      <td>00:03</td>\n",
       "    </tr>\n",
       "    <tr>\n",
       "      <td>16</td>\n",
       "      <td>0.098357</td>\n",
       "      <td>0.095834</td>\n",
       "      <td>0.970131</td>\n",
       "      <td>00:03</td>\n",
       "    </tr>\n",
       "    <tr>\n",
       "      <td>17</td>\n",
       "      <td>0.090398</td>\n",
       "      <td>0.090557</td>\n",
       "      <td>0.977538</td>\n",
       "      <td>00:03</td>\n",
       "    </tr>\n",
       "    <tr>\n",
       "      <td>18</td>\n",
       "      <td>0.084084</td>\n",
       "      <td>0.097719</td>\n",
       "      <td>0.969645</td>\n",
       "      <td>00:03</td>\n",
       "    </tr>\n",
       "    <tr>\n",
       "      <td>19</td>\n",
       "      <td>0.076340</td>\n",
       "      <td>0.083998</td>\n",
       "      <td>0.976566</td>\n",
       "      <td>00:03</td>\n",
       "    </tr>\n",
       "    <tr>\n",
       "      <td>20</td>\n",
       "      <td>0.072788</td>\n",
       "      <td>0.084524</td>\n",
       "      <td>0.976081</td>\n",
       "      <td>00:03</td>\n",
       "    </tr>\n",
       "    <tr>\n",
       "      <td>21</td>\n",
       "      <td>0.067777</td>\n",
       "      <td>0.086830</td>\n",
       "      <td>0.974866</td>\n",
       "      <td>00:03</td>\n",
       "    </tr>\n",
       "    <tr>\n",
       "      <td>22</td>\n",
       "      <td>0.064344</td>\n",
       "      <td>0.080149</td>\n",
       "      <td>0.977902</td>\n",
       "      <td>00:03</td>\n",
       "    </tr>\n",
       "    <tr>\n",
       "      <td>23</td>\n",
       "      <td>0.061662</td>\n",
       "      <td>0.079382</td>\n",
       "      <td>0.977416</td>\n",
       "      <td>00:03</td>\n",
       "    </tr>\n",
       "    <tr>\n",
       "      <td>24</td>\n",
       "      <td>0.058263</td>\n",
       "      <td>0.079369</td>\n",
       "      <td>0.977538</td>\n",
       "      <td>00:03</td>\n",
       "    </tr>\n",
       "  </tbody>\n",
       "</table>"
      ],
      "text/plain": [
       "<IPython.core.display.HTML object>"
      ]
     },
     "metadata": {
      "tags": []
     },
     "output_type": "display_data"
    },
    {
     "name": "stdout",
     "output_type": "stream",
     "text": [
      "82.7504723072052\n"
     ]
    }
   ],
   "source": [
    "# Preprocess = False, Data on disk\n",
    "tfms = [None, [Categorize()]]\n",
    "dsets = TSDatasets(X_on_disk, y_on_disk, tfms=tfms, splits=splits, preprocess=True)\n",
    "train_ds = dsets.train\n",
    "valid_ds = dsets.valid\n",
    "train_dl = TSDataLoader(train_ds, bs=64, shuffle=True, drop_last=True)\n",
    "valid_dl = TSDataLoader(valid_ds, bs=128)\n",
    "dls = TSDataLoaders(train_dl, valid_dl, device=default_device())\n",
    "model = InceptionTime(dls.vars, dls.c)\n",
    "learn = Learner(dls, model, metrics=accuracy)\n",
    "start = time.time()\n",
    "learn.fit_one_cycle(25, lr_max=1e-3)\n",
    "print(time.time() - start)"
   ]
  },
  {
   "cell_type": "code",
   "execution_count": 26,
   "metadata": {
    "colab": {
     "base_uri": "https://localhost:8080/",
     "height": 734
    },
    "colab_type": "code",
    "id": "zznzCDisYl-w",
    "outputId": "159aeb7a-c7e5-4726-dfe6-9c1ea12ed1c5"
   },
   "outputs": [
    {
     "data": {
      "text/html": [],
      "text/plain": [
       "<IPython.core.display.HTML object>"
      ]
     },
     "metadata": {
      "tags": []
     },
     "output_type": "display_data"
    },
    {
     "data": {
      "image/png": "[encoded data removed]",
      "text/plain": [
       "<Figure size 1296x864 with 9 Axes>"
      ]
     },
     "metadata": {
      "tags": []
     },
     "output_type": "display_data"
    }
   ],
   "source": [
    "learn.show_results(sharey=True)"
   ]
  },
  {
   "cell_type": "code",
   "execution_count": 237,
   "metadata": {
    "colab": {
     "base_uri": "https://localhost:8080/",
     "height": 159
    },
    "colab_type": "code",
    "id": "3TA8zBLnXj5a",
    "outputId": "6a48d32e-8d3c-43d1-e857-8223af953eb0"
   },
   "outputs": [
    {
     "data": {
      "text/html": [
       "<table border=\"1\" class=\"dataframe\">\n",
       "  <thead>\n",
       "    <tr style=\"text-align: left;\">\n",
       "      <th>epoch</th>\n",
       "      <th>train_loss</th>\n",
       "      <th>valid_loss</th>\n",
       "      <th>accuracy</th>\n",
       "      <th>time</th>\n",
       "    </tr>\n",
       "  </thead>\n",
       "  <tbody>\n",
       "    <tr>\n",
       "      <td>0</td>\n",
       "      <td>0.608039</td>\n",
       "      <td>0.875217</td>\n",
       "      <td>0.767120</td>\n",
       "      <td>00:02</td>\n",
       "    </tr>\n",
       "    <tr>\n",
       "      <td>1</td>\n",
       "      <td>0.438873</td>\n",
       "      <td>0.729845</td>\n",
       "      <td>0.558038</td>\n",
       "      <td>00:02</td>\n",
       "    </tr>\n",
       "    <tr>\n",
       "      <td>2</td>\n",
       "      <td>0.347714</td>\n",
       "      <td>0.340342</td>\n",
       "      <td>0.847256</td>\n",
       "      <td>00:02</td>\n",
       "    </tr>\n",
       "  </tbody>\n",
       "</table>"
      ],
      "text/plain": [
       "<IPython.core.display.HTML object>"
      ]
     },
     "metadata": {
      "tags": []
     },
     "output_type": "display_data"
    },
    {
     "name": "stdout",
     "output_type": "stream",
     "text": [
      "8.937021017074585\n"
     ]
    }
   ],
   "source": [
    "tfms  = [None, [Categorize()]]\n",
    "dsets = TSDatasets(X_in_memory, y_in_memory, tfms=tfms, splits=splits, preprocess=True)\n",
    "train_ds = dsets.train\n",
    "valid_ds = dsets.valid\n",
    "train_dl = TSDataLoader(train_ds, bs=64, shuffle=True, drop_last=True, num_workers=0)\n",
    "valid_dl = TSDataLoader(valid_ds, bs=128, num_workers=0)\n",
    "dls   = TSDataLoaders(train_dl, valid_dl, device=default_device())\n",
    "model = InceptionTime(dls.vars, dls.c)\n",
    "learn = Learner(dls, model, metrics=accuracy)\n",
    "start = time.time()\n",
    "learn.fit_one_cycle(3, lr_max=1e-3)\n",
    "print(time.time() - start)"
   ]
  },
  {
   "cell_type": "code",
   "execution_count": 0,
   "metadata": {
    "colab": {},
    "colab_type": "code",
    "id": "tYlMDNiC0jkO"
   },
   "outputs": [],
   "source": [
    "# Save the dataset\n",
    "dsets_fname = 'dsets'\n",
    "torch.save(dsets, dsets_fname)\n",
    "\n",
    "# Saves the model along with optimizer\n",
    "save_fname = 'learner'\n",
    "learn.save(save_fname)\n",
    "\n",
    "# Export learn without the items (data) and the optimizer state for inference\n",
    "export_fname = 'export.pkl'\n",
    "learn.export(export_fname)"
   ]
  },
  {
   "cell_type": "code",
   "execution_count": 0,
   "metadata": {
    "colab": {},
    "colab_type": "code",
    "id": "CsZTX9dC1u9N"
   },
   "outputs": [],
   "source": [
    "try: del dsets\n",
    "except: pass\n",
    "try: del learn\n",
    "except: pass"
   ]
  },
  {
   "cell_type": "code",
   "execution_count": 0,
   "metadata": {
    "colab": {},
    "colab_type": "code",
    "id": "F0Wt1mvQkimu"
   },
   "outputs": [],
   "source": [
    "# Let's build the learner again\n",
    "dsets_fname = 'dsets'\n",
    "save_fname = 'learner'\n",
    "export_fname = 'export.pkl'\n",
    "\n",
    "dsets = torch.load(dsets_fname)\n",
    "learn = load_learner(export_fname, cpu=False)\n",
    "learn.load(save_fname)\n",
    "learn.dls[0].dataset = dsets.train\n",
    "learn.dls[1].dataset = dsets.valid"
   ]
  },
  {
   "cell_type": "code",
   "execution_count": 241,
   "metadata": {
    "colab": {
     "base_uri": "https://localhost:8080/",
     "height": 170
    },
    "colab_type": "code",
    "id": "gCzOKfQIUr9I",
    "outputId": "2e758544-fd4d-453e-8c81-2cbae8602702"
   },
   "outputs": [
    {
     "data": {
      "text/html": [],
      "text/plain": [
       "<IPython.core.display.HTML object>"
      ]
     },
     "metadata": {
      "tags": []
     },
     "output_type": "display_data"
    },
    {
     "data": {
      "text/html": [],
      "text/plain": [
       "<IPython.core.display.HTML object>"
      ]
     },
     "metadata": {
      "tags": []
     },
     "output_type": "display_data"
    },
    {
     "data": {
      "text/plain": [
       "(tensor([[0.0233, 0.9468, 0.0299],\n",
       "         [0.1551, 0.0867, 0.7582],\n",
       "         [0.1619, 0.0739, 0.7642],\n",
       "         ...,\n",
       "         [0.2072, 0.0259, 0.7669],\n",
       "         [0.0265, 0.9401, 0.0334],\n",
       "         [0.0343, 0.0141, 0.9516]]),\n",
       " tensor([1, 2, 2,  ..., 0, 1, 2]),\n",
       " tensor([1, 2, 2,  ..., 2, 1, 2]))"
      ]
     },
     "execution_count": 241,
     "metadata": {
      "tags": []
     },
     "output_type": "execute_result"
    }
   ],
   "source": [
    "train_probas, train_targets, train_preds = learn.get_preds(ds_idx=0, with_decoded=True, save_preds=None, save_targs=None)\n",
    "valid_probas, valid_targets, valid_preds = learn.get_preds(ds_idx=1, with_decoded=True, save_preds=None, save_targs=None)\n",
    "valid_probas, valid_targets, valid_preds"
   ]
  },
  {
   "cell_type": "code",
   "execution_count": 242,
   "metadata": {
    "colab": {
     "base_uri": "https://localhost:8080/",
     "height": 34
    },
    "colab_type": "code",
    "id": "FMnYkdn-rJhy",
    "outputId": "7ed6608e-4522-49c8-aa9e-c8237d49a0c0"
   },
   "outputs": [
    {
     "data": {
      "text/plain": [
       "tensor(0.8473)"
      ]
     },
     "execution_count": 242,
     "metadata": {
      "tags": []
     },
     "output_type": "execute_result"
    }
   ],
   "source": [
    "(valid_targets == valid_preds).float().mean()"
   ]
  },
  {
   "cell_type": "code",
   "execution_count": 0,
   "metadata": {
    "colab": {},
    "colab_type": "code",
    "id": "x1U-On13FfPU"
   },
   "outputs": [],
   "source": [
    "def add_ds(dsets, X, y=None, test_items=None, rm_tfms=None, with_labels=False):\n",
    "    \"Create test datasets from X (and y) using validation transforms of `dsets`\"\n",
    "    items = tuple((X,)) if y is None else tuple((X, y))\n",
    "    with_labels = False if y is None else True\n",
    "    if isinstance(dsets, (Datasets, NumpyDatasets, TSDatasets)):\n",
    "        tls = dsets.tls if with_labels else dsets.tls[:dsets.n_inp]\n",
    "        new_tls = L([tl._new(item, split_idx=1) for tl,item in zip(tls, items)])\n",
    "        if rm_tfms is None: rm_tfms = [tl.infer_idx(get_first(item)) for tl,item in zip(new_tls, items)]\n",
    "        else:               rm_tfms = tuplify(rm_tfms, match=new_tls)\n",
    "        for i,j in enumerate(rm_tfms): new_tls[i].tfms.fs = new_tls[i].tfms.fs[j:]\n",
    "        if isinstance(dsets, (NumpyDatasets, TSDatasets)):\n",
    "            cls = dsets.__class__\n",
    "            return cls(tls=new_tls, n_inp=dsets.n_inp, preprocess=dsets.preprocess, tfms=dsets.tfms, sel_vars=dsets.sel_vars, sel_steps=dsets.sel_steps)\n",
    "        elif isinstance(dsets, Datasets): return Datasets(tls=new_tls)\n",
    "    elif isinstance(dsets, TfmdLists):\n",
    "        new_tl = dsets._new(items, split_idx=1)\n",
    "        if rm_tfms is None: rm_tfms = dsets.infer_idx(get_first(items))\n",
    "        new_tl.tfms.fs = new_tl.tfms.fs[rm_tfms:]\n",
    "        return new_tl\n",
    "    else: raise Exception(f\"This method requires using the fastai library to assemble your data.Expected a `Datasets` or a `TfmdLists` but got {dsets.__class__.__name__}\")\n",
    "\n",
    "def add_test(dsets, X, y=None, test_items=None, rm_tfms=None, with_labels=False):\n",
    "    return add_ds(dsets, X, y=y, test_items=test_items, rm_tfms=rm_tfms, with_labels=with_labels)\n",
    "\n",
    "NumpyDatasets.add_test = add_test\n",
    "# TSDatasets.add_test = add_test\n",
    "\n",
    "def add_unlabeled(dsets, X, test_items=None, rm_tfms=None, with_labels=False):\n",
    "    return add_ds(dsets, X, y=None, test_items=test_items, rm_tfms=rm_tfms, with_labels=with_labels)\n",
    "\n",
    "NumpyDatasets.add_unlabeled = add_unlabeled\n",
    "# TSDatasets.add_unlabeled = add_unlabeled"
   ]
  },
  {
   "cell_type": "code",
   "execution_count": 271,
   "metadata": {
    "colab": {
     "base_uri": "https://localhost:8080/",
     "height": 136
    },
    "colab_type": "code",
    "id": "jtrNSbovNOrs",
    "outputId": "26b211cd-66f1-4d07-9a5f-843e17cc4178"
   },
   "outputs": [
    {
     "data": {
      "text/plain": [
       "(TSTensor(samples:128, vars:1, len:1024),\n",
       " TensorCategory([2, 2, 0, 2, 2, 1, 2, 1, 2, 2, 1, 2, 2, 2, 2, 2, 0, 1, 2, 1, 2, 0, 1, 0,\n",
       "         2, 2, 0, 2, 2, 2, 1, 2, 1, 1, 2, 0, 0, 1, 2, 0, 1, 2, 1, 2, 2, 1, 1, 2,\n",
       "         0, 0, 0, 2, 2, 2, 0, 2, 2, 2, 2, 1, 2, 2, 2, 0, 1, 2, 2, 2, 2, 1, 1, 2,\n",
       "         1, 0, 1, 2, 2, 1, 1, 2, 2, 1, 1, 1, 2, 0, 2, 2, 1, 1, 2, 0, 2, 2, 2, 1,\n",
       "         2, 2, 1, 2, 1, 1, 2, 1, 2, 1, 2, 0, 2, 2, 1, 2, 2, 2, 2, 2, 1, 2, 1, 1,\n",
       "         2, 2, 2, 2, 1, 2, 0, 2], device='cuda:0'))"
      ]
     },
     "execution_count": 271,
     "metadata": {
      "tags": []
     },
     "output_type": "execute_result"
    }
   ],
   "source": [
    "# Labeled test data\n",
    "# Let's first delete the datasets and learner\n",
    "try: del dsets\n",
    "except: pass\n",
    "try: del learn\n",
    "except: pass\n",
    "# Let's build the learner again\n",
    "dsets_fname = 'dsets'\n",
    "save_fname = 'learner'\n",
    "export_fname = 'export.pkl'\n",
    "\n",
    "dsets = torch.load(dsets_fname)\n",
    "learn = load_learner(export_fname, cpu=False)\n",
    "learn.load(save_fname)\n",
    "\n",
    "# And now we load a new dataset\n",
    "test_ds = dsets.add_test(X_in_memory, y_in_memory)\n",
    "test_dl = learn.dls[1].new(test_ds)\n",
    "b = next(iter(test_dl))\n",
    "b"
   ]
  },
  {
   "cell_type": "code",
   "execution_count": 272,
   "metadata": {
    "colab": {
     "base_uri": "https://localhost:8080/",
     "height": 170
    },
    "colab_type": "code",
    "id": "Pz1N_GP-4wuA",
    "outputId": "9bd3b33a-93c8-436a-906e-2f8288bbaa77"
   },
   "outputs": [
    {
     "data": {
      "text/html": [],
      "text/plain": [
       "<IPython.core.display.HTML object>"
      ]
     },
     "metadata": {
      "tags": []
     },
     "output_type": "display_data"
    },
    {
     "data": {
      "text/plain": [
       "(tensor([[0.0707, 0.0150, 0.9143],\n",
       "         [0.2448, 0.0234, 0.7318],\n",
       "         [0.2458, 0.0253, 0.7289],\n",
       "         ...,\n",
       "         [0.2072, 0.0259, 0.7669],\n",
       "         [0.0265, 0.9401, 0.0334],\n",
       "         [0.0343, 0.0141, 0.9516]]),\n",
       " tensor([2, 2, 0,  ..., 0, 1, 2]),\n",
       " tensor([2, 2, 2,  ..., 2, 1, 2]))"
      ]
     },
     "execution_count": 272,
     "metadata": {
      "tags": []
     },
     "output_type": "execute_result"
    }
   ],
   "source": [
    "test_probas, test_targets, test_preds = learn.get_preds(dl=test_dl, with_decoded=True, save_preds=None, save_targs=None)\n",
    "test_probas, test_targets, test_preds"
   ]
  },
  {
   "cell_type": "code",
   "execution_count": 273,
   "metadata": {
    "colab": {
     "base_uri": "https://localhost:8080/",
     "height": 34
    },
    "colab_type": "code",
    "id": "XEcoPG179AAc",
    "outputId": "c34ce962-82c7-4c6e-b6e9-40e114c8dc5a"
   },
   "outputs": [
    {
     "data": {
      "text/plain": [
       "(TSTensor(samples:128, vars:1, len:1024),)"
      ]
     },
     "execution_count": 273,
     "metadata": {
      "tags": []
     },
     "output_type": "execute_result"
    }
   ],
   "source": [
    "# Unlabeled test data\n",
    "# Let's first delete the datasets and learner\n",
    "try: del dsets\n",
    "except: pass\n",
    "try: del learn\n",
    "except: pass\n",
    "# Let's build the learner again\n",
    "dsets_fname = 'dsets'\n",
    "save_fname = 'learner'\n",
    "export_fname = 'export.pkl'\n",
    "\n",
    "dsets = torch.load(dsets_fname)\n",
    "learn = load_learner(export_fname, cpu=False)\n",
    "learn.load(save_fname)\n",
    "\n",
    "# And now we load a new dataset\n",
    "test_ds = dsets.add_test(X_in_memory)\n",
    "test_dl = learn.dls[1].new(test_ds)\n",
    "b = next(iter(test_dl))\n",
    "b"
   ]
  },
  {
   "cell_type": "code",
   "execution_count": 274,
   "metadata": {
    "colab": {
     "base_uri": "https://localhost:8080/",
     "height": 136
    },
    "colab_type": "code",
    "id": "pxgxEajo9J5x",
    "outputId": "71aa52e7-1c54-4904-cc0b-e1cebe52c85d"
   },
   "outputs": [
    {
     "data": {
      "text/html": [],
      "text/plain": [
       "<IPython.core.display.HTML object>"
      ]
     },
     "metadata": {
      "tags": []
     },
     "output_type": "display_data"
    },
    {
     "data": {
      "text/plain": [
       "tensor([[0.0707, 0.0150, 0.9143],\n",
       "        [0.2448, 0.0234, 0.7318],\n",
       "        [0.2458, 0.0253, 0.7289],\n",
       "        ...,\n",
       "        [0.2072, 0.0259, 0.7669],\n",
       "        [0.0265, 0.9401, 0.0334],\n",
       "        [0.0343, 0.0141, 0.9516]])"
      ]
     },
     "execution_count": 274,
     "metadata": {
      "tags": []
     },
     "output_type": "execute_result"
    }
   ],
   "source": [
    "test_probas, *_ = learn.get_preds(dl=test_dl, save_preds=None)\n",
    "test_probas"
   ]
  },
  {
   "cell_type": "code",
   "execution_count": 275,
   "metadata": {
    "colab": {
     "base_uri": "https://localhost:8080/",
     "height": 34
    },
    "colab_type": "code",
    "id": "a24nKZRiOTpk",
    "outputId": "77272374-b26b-42d6-cbd3-6e7bfdb54b40"
   },
   "outputs": [
    {
     "data": {
      "text/plain": [
       "(TSTensor(samples:128, vars:1, len:1024),)"
      ]
     },
     "execution_count": 275,
     "metadata": {
      "tags": []
     },
     "output_type": "execute_result"
    }
   ],
   "source": [
    "# Unlabeled dataset\n",
    "# Let's first delete the datasets and learner\n",
    "try: del dsets\n",
    "except: pass\n",
    "try: del learn\n",
    "except: pass\n",
    "# Let's build the learner again\n",
    "dsets_fname = 'dsets'\n",
    "save_fname = 'learner'\n",
    "export_fname = 'export.pkl'\n",
    "\n",
    "dsets = torch.load(dsets_fname)\n",
    "learn = load_learner(export_fname, cpu=False)\n",
    "learn.load(save_fname)\n",
    "\n",
    "# And now we load a new datasets\n",
    "unlabeled_ds = dsets.add_unlabeled(X_in_memory)\n",
    "unlabeled_dl = learn.dls[1].new(unlabeled_ds)\n",
    "b = next(iter(unlabeled_dl))\n",
    "b"
   ]
  },
  {
   "cell_type": "code",
   "execution_count": 276,
   "metadata": {
    "colab": {
     "base_uri": "https://localhost:8080/",
     "height": 136
    },
    "colab_type": "code",
    "id": "lNazOlUkTE5L",
    "outputId": "75c2d858-76c8-4811-8536-e028a2625015"
   },
   "outputs": [
    {
     "data": {
      "text/html": [],
      "text/plain": [
       "<IPython.core.display.HTML object>"
      ]
     },
     "metadata": {
      "tags": []
     },
     "output_type": "display_data"
    },
    {
     "data": {
      "text/plain": [
       "tensor([[0.0707, 0.0150, 0.9143],\n",
       "        [0.2448, 0.0234, 0.7318],\n",
       "        [0.2458, 0.0253, 0.7289],\n",
       "        ...,\n",
       "        [0.2072, 0.0259, 0.7669],\n",
       "        [0.0265, 0.9401, 0.0334],\n",
       "        [0.0343, 0.0141, 0.9516]])"
      ]
     },
     "execution_count": 276,
     "metadata": {
      "tags": []
     },
     "output_type": "execute_result"
    }
   ],
   "source": [
    "u_probas, *_ = learn.get_preds(dl=unlabeled_dl, save_preds=None)\n",
    "u_probas"
   ]
  },
  {
   "cell_type": "code",
   "execution_count": 0,
   "metadata": {
    "colab": {},
    "colab_type": "code",
    "id": "13ww5ccW5ers"
   },
   "outputs": [],
   "source": []
  }
 ],
 "metadata": {
  "accelerator": "GPU",
  "colab": {
   "name": "02_DataLoaders_benchmark_update3.ipynb",
   "provenance": [],
   "toc_visible": true
  },
  "kernelspec": {
   "display_name": "Python 3",
   "language": "python",
   "name": "python3"
  },
  "language_info": {
   "codemirror_mode": {
    "name": "ipython",
    "version": 3
   },
   "file_extension": ".py",
   "mimetype": "text/x-python",
   "name": "python",
   "nbconvert_exporter": "python",
   "pygments_lexer": "ipython3",
   "version": "3.7.3"
  },
  "toc": {
   "base_numbering": 1,
   "nav_menu": {},
   "number_sections": true,
   "sideBar": true,
   "skip_h1_title": false,
   "title_cell": "Table of Contents",
   "title_sidebar": "Contents",
   "toc_cell": false,
   "toc_position": {},
   "toc_section_display": true,
   "toc_window_display": false
  }
 },
 "nbformat": 4,
 "nbformat_minor": 1
}
