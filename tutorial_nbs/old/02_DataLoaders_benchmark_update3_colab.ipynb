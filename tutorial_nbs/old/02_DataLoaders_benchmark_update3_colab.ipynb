{
  "nbformat": 4,
  "nbformat_minor": 0,
  "metadata": {
    "kernelspec": {
      "name": "python3",
      "display_name": "Python 3"
    },
    "language_info": {
      "codemirror_mode": {
        "name": "ipython",
        "version": 3
      },
      "file_extension": ".py",
      "mimetype": "text/x-python",
      "name": "python",
      "nbconvert_exporter": "python",
      "pygments_lexer": "ipython3",
      "version": "3.7.3"
    },
    "toc": {
      "base_numbering": 1,
      "nav_menu": {},
      "number_sections": true,
      "sideBar": true,
      "skip_h1_title": false,
      "title_cell": "Table of Contents",
      "title_sidebar": "Contents",
      "toc_cell": false,
      "toc_position": {},
      "toc_section_display": true,
      "toc_window_display": false
    },
    "colab": {
      "name": "02_DataLoaders_benchmark_update3.ipynb",
      "provenance": []
    },
    "accelerator": "GPU"
  },
  "cells": [
    {
      "cell_type": "markdown",
      "metadata": {
        "heading_collapsed": true,
        "id": "q5zvCtPaIvkU",
        "colab_type": "text"
      },
      "source": [
        "## DataLoaders requirements"
      ]
    },
    {
      "cell_type": "markdown",
      "metadata": {
        "hidden": true,
        "id": "3qjaXUSuIvkX",
        "colab_type": "text"
      },
      "source": [
        "* Use univariate and multivariate time series\n",
        "* Use labeled (X,y) and unlabeled (X,) datasets\n",
        "* In-memory and on-disk np.arrays (np.memmap)\n",
        "* Slice the dataset (based on selected variables and/ or sequence steps)\n",
        "* Use item and batch tfms\n",
        "* Create batch with specified output types (TSTensor, TensorCategory, etc)\n",
        "* Show batch (with tfms)\n",
        "* Add test data and unlabeled datasets\n",
        "* Better performance than native Pytorch, fastai v1 & vanilla fastai v2"
      ]
    },
    {
      "cell_type": "markdown",
      "metadata": {
        "heading_collapsed": true,
        "id": "OBW2olZbIvka",
        "colab_type": "text"
      },
      "source": [
        "## Import libraries"
      ]
    },
    {
      "cell_type": "code",
      "metadata": {
        "ExecuteTime": {
          "end_time": "2020-04-04T11:56:17.892439Z",
          "start_time": "2020-04-04T11:56:17.803678Z"
        },
        "hidden": true,
        "id": "srz0mwuvIvkc",
        "colab_type": "code",
        "colab": {
          "base_uri": "https://localhost:8080/",
          "height": 1000
        },
        "outputId": "7fba2be2-32b0-4b63-bc38-b6612fdd993f"
      },
      "source": [
        "import sys\n",
        "import os\n",
        "ISCOLAB = 'google.colab' in sys.modules\n",
        "if ISCOLAB:\n",
        "    if not os.path.isdir('/content/timeseriesAI2'):\n",
        "        !pip install git+https://github.com/fastai/fastai2 \n",
        "        !pip install git+https://github.com/fastai/fastcore \n",
        "        !pip install pyunpack\n",
        "        !pip install sktime\n",
        "        !git clone https://github.com/timeseriesAI/timeseriesAI2.git\n",
        "        %cd timeseriesAI2\n",
        "    else: \n",
        "        path = !pwd\n",
        "        if path != ['/content/timeseriesAI2']: \n",
        "            %cd timeseriesAI2\n",
        "        !pwd"
      ],
      "execution_count": 1,
      "outputs": [
        {
          "output_type": "stream",
          "text": [
            "Collecting git+https://github.com/fastai/fastai2\n",
            "  Cloning https://github.com/fastai/fastai2 to /tmp/pip-req-build-x07ykdyd\n",
            "  Running command git clone -q https://github.com/fastai/fastai2 /tmp/pip-req-build-x07ykdyd\n",
            "Collecting fastcore\n",
            "  Downloading https://files.pythonhosted.org/packages/3b/b5/aed836ce5b16ea1088a5d1a41d400bc051abf90bbef58bb74d8fd01a76af/fastcore-0.1.16-py3-none-any.whl\n",
            "Requirement already satisfied: torch>=1.3.0 in /usr/local/lib/python3.6/dist-packages (from fastai2==0.0.17) (1.4.0)\n",
            "Requirement already satisfied: torchvision>=0.5 in /usr/local/lib/python3.6/dist-packages (from fastai2==0.0.17) (0.5.0)\n",
            "Requirement already satisfied: matplotlib in /usr/local/lib/python3.6/dist-packages (from fastai2==0.0.17) (3.2.1)\n",
            "Requirement already satisfied: pandas in /usr/local/lib/python3.6/dist-packages (from fastai2==0.0.17) (1.0.3)\n",
            "Requirement already satisfied: requests in /usr/local/lib/python3.6/dist-packages (from fastai2==0.0.17) (2.21.0)\n",
            "Requirement already satisfied: pyyaml in /usr/local/lib/python3.6/dist-packages (from fastai2==0.0.17) (3.13)\n",
            "Requirement already satisfied: fastprogress>=0.1.22 in /usr/local/lib/python3.6/dist-packages (from fastai2==0.0.17) (0.2.2)\n",
            "Requirement already satisfied: pillow in /usr/local/lib/python3.6/dist-packages (from fastai2==0.0.17) (7.0.0)\n",
            "Requirement already satisfied: scikit-learn in /usr/local/lib/python3.6/dist-packages (from fastai2==0.0.17) (0.22.2.post1)\n",
            "Requirement already satisfied: scipy in /usr/local/lib/python3.6/dist-packages (from fastai2==0.0.17) (1.4.1)\n",
            "Requirement already satisfied: spacy in /usr/local/lib/python3.6/dist-packages (from fastai2==0.0.17) (2.2.4)\n",
            "Requirement already satisfied: numpy in /usr/local/lib/python3.6/dist-packages (from fastcore->fastai2==0.0.17) (1.18.2)\n",
            "Requirement already satisfied: dataclasses>='0.7'; python_version < \"3.7\" in /usr/local/lib/python3.6/dist-packages (from fastcore->fastai2==0.0.17) (0.7)\n",
            "Requirement already satisfied: six in /usr/local/lib/python3.6/dist-packages (from torchvision>=0.5->fastai2==0.0.17) (1.12.0)\n",
            "Requirement already satisfied: python-dateutil>=2.1 in /usr/local/lib/python3.6/dist-packages (from matplotlib->fastai2==0.0.17) (2.8.1)\n",
            "Requirement already satisfied: kiwisolver>=1.0.1 in /usr/local/lib/python3.6/dist-packages (from matplotlib->fastai2==0.0.17) (1.1.0)\n",
            "Requirement already satisfied: cycler>=0.10 in /usr/local/lib/python3.6/dist-packages (from matplotlib->fastai2==0.0.17) (0.10.0)\n",
            "Requirement already satisfied: pyparsing!=2.0.4,!=2.1.2,!=2.1.6,>=2.0.1 in /usr/local/lib/python3.6/dist-packages (from matplotlib->fastai2==0.0.17) (2.4.6)\n",
            "Requirement already satisfied: pytz>=2017.2 in /usr/local/lib/python3.6/dist-packages (from pandas->fastai2==0.0.17) (2018.9)\n",
            "Requirement already satisfied: chardet<3.1.0,>=3.0.2 in /usr/local/lib/python3.6/dist-packages (from requests->fastai2==0.0.17) (3.0.4)\n",
            "Requirement already satisfied: urllib3<1.25,>=1.21.1 in /usr/local/lib/python3.6/dist-packages (from requests->fastai2==0.0.17) (1.24.3)\n",
            "Requirement already satisfied: idna<2.9,>=2.5 in /usr/local/lib/python3.6/dist-packages (from requests->fastai2==0.0.17) (2.8)\n",
            "Requirement already satisfied: certifi>=2017.4.17 in /usr/local/lib/python3.6/dist-packages (from requests->fastai2==0.0.17) (2019.11.28)\n",
            "Requirement already satisfied: joblib>=0.11 in /usr/local/lib/python3.6/dist-packages (from scikit-learn->fastai2==0.0.17) (0.14.1)\n",
            "Requirement already satisfied: murmurhash<1.1.0,>=0.28.0 in /usr/local/lib/python3.6/dist-packages (from spacy->fastai2==0.0.17) (1.0.2)\n",
            "Requirement already satisfied: srsly<1.1.0,>=1.0.2 in /usr/local/lib/python3.6/dist-packages (from spacy->fastai2==0.0.17) (1.0.2)\n",
            "Requirement already satisfied: setuptools in /usr/local/lib/python3.6/dist-packages (from spacy->fastai2==0.0.17) (46.0.0)\n",
            "Requirement already satisfied: tqdm<5.0.0,>=4.38.0 in /usr/local/lib/python3.6/dist-packages (from spacy->fastai2==0.0.17) (4.38.0)\n",
            "Requirement already satisfied: cymem<2.1.0,>=2.0.2 in /usr/local/lib/python3.6/dist-packages (from spacy->fastai2==0.0.17) (2.0.3)\n",
            "Requirement already satisfied: blis<0.5.0,>=0.4.0 in /usr/local/lib/python3.6/dist-packages (from spacy->fastai2==0.0.17) (0.4.1)\n",
            "Requirement already satisfied: wasabi<1.1.0,>=0.4.0 in /usr/local/lib/python3.6/dist-packages (from spacy->fastai2==0.0.17) (0.6.0)\n",
            "Requirement already satisfied: plac<1.2.0,>=0.9.6 in /usr/local/lib/python3.6/dist-packages (from spacy->fastai2==0.0.17) (1.1.3)\n",
            "Requirement already satisfied: thinc==7.4.0 in /usr/local/lib/python3.6/dist-packages (from spacy->fastai2==0.0.17) (7.4.0)\n",
            "Requirement already satisfied: catalogue<1.1.0,>=0.0.7 in /usr/local/lib/python3.6/dist-packages (from spacy->fastai2==0.0.17) (1.0.0)\n",
            "Requirement already satisfied: preshed<3.1.0,>=3.0.2 in /usr/local/lib/python3.6/dist-packages (from spacy->fastai2==0.0.17) (3.0.2)\n",
            "Requirement already satisfied: importlib-metadata>=0.20; python_version < \"3.8\" in /usr/local/lib/python3.6/dist-packages (from catalogue<1.1.0,>=0.0.7->spacy->fastai2==0.0.17) (1.6.0)\n",
            "Requirement already satisfied: zipp>=0.5 in /usr/local/lib/python3.6/dist-packages (from importlib-metadata>=0.20; python_version < \"3.8\"->catalogue<1.1.0,>=0.0.7->spacy->fastai2==0.0.17) (3.1.0)\n",
            "Building wheels for collected packages: fastai2\n",
            "  Building wheel for fastai2 (setup.py) ... \u001b[?25l\u001b[?25hdone\n",
            "  Created wheel for fastai2: filename=fastai2-0.0.17-cp36-none-any.whl size=186716 sha256=5626737b775d6dadda8cc8005e1999d8da76bf8c4297abe58a54522acc92a147\n",
            "  Stored in directory: /tmp/pip-ephem-wheel-cache-xql8nnzr/wheels/a1/59/9a/50335b36924b827e29d5f40b41fc3a008cc1f30dd80e560dfd\n",
            "Successfully built fastai2\n",
            "Installing collected packages: fastcore, fastai2\n",
            "Successfully installed fastai2-0.0.17 fastcore-0.1.16\n",
            "Collecting git+https://github.com/fastai/fastcore\n",
            "  Cloning https://github.com/fastai/fastcore to /tmp/pip-req-build-s2k5jw3z\n",
            "  Running command git clone -q https://github.com/fastai/fastcore /tmp/pip-req-build-s2k5jw3z\n",
            "Requirement already satisfied: numpy in /usr/local/lib/python3.6/dist-packages (from fastcore==0.1.17) (1.18.2)\n",
            "Requirement already satisfied: dataclasses>='0.7' in /usr/local/lib/python3.6/dist-packages (from fastcore==0.1.17) (0.7)\n",
            "Building wheels for collected packages: fastcore\n",
            "  Building wheel for fastcore (setup.py) ... \u001b[?25l\u001b[?25hdone\n",
            "  Created wheel for fastcore: filename=fastcore-0.1.17-cp36-none-any.whl size=28213 sha256=346118a2eceaee9ac391c59f7e3d8e8b2bb717b6601f54ab9e794837fc443ec4\n",
            "  Stored in directory: /tmp/pip-ephem-wheel-cache-3d12wjt8/wheels/8a/2a/23/bc50c8f5e28776b44ac837a01fcfa675724565d4813d8e51c7\n",
            "Successfully built fastcore\n",
            "Installing collected packages: fastcore\n",
            "  Found existing installation: fastcore 0.1.16\n",
            "    Uninstalling fastcore-0.1.16:\n",
            "      Successfully uninstalled fastcore-0.1.16\n",
            "Successfully installed fastcore-0.1.17\n",
            "Collecting pyunpack\n",
            "  Downloading https://files.pythonhosted.org/packages/79/dc/44cd41fb99d184ae7c2eac439a52ca624d5ece62b0302c3437fcc4ce3b58/pyunpack-0.1.2.tar.gz\n",
            "Collecting easyprocess\n",
            "  Downloading https://files.pythonhosted.org/packages/32/8f/88d636f1da22a3c573259e44cfefb46a117d3f9432e2c98b1ab4a21372ad/EasyProcess-0.2.10-py2.py3-none-any.whl\n",
            "Building wheels for collected packages: pyunpack\n",
            "  Building wheel for pyunpack (setup.py) ... \u001b[?25l\u001b[?25hdone\n",
            "  Created wheel for pyunpack: filename=pyunpack-0.1.2-cp36-none-any.whl size=5163 sha256=e7851d104e0affcec93756aece0e40f10efea4eb5d2ac1dcd7dc06ae77a6aee6\n",
            "  Stored in directory: /root/.cache/pip/wheels/af/44/08/60613970881e542c0baad1f2dea5ed8e6716bc573f49197b7e\n",
            "Successfully built pyunpack\n",
            "Installing collected packages: easyprocess, pyunpack\n",
            "Successfully installed easyprocess-0.2.10 pyunpack-0.1.2\n",
            "Collecting sktime\n",
            "\u001b[?25l  Downloading https://files.pythonhosted.org/packages/74/aa/a8709883f270fad7052c0f618aa7fe2001d35bb2c12d68317beb65c7789f/sktime-0.3.0.tar.gz (5.0MB)\n",
            "\u001b[K     |████████████████████████████████| 5.0MB 4.6MB/s \n",
            "\u001b[?25hRequirement already satisfied: numpy>=1.16.0 in /usr/local/lib/python3.6/dist-packages (from sktime) (1.18.2)\n",
            "Requirement already satisfied: scipy>=1.2.0 in /usr/local/lib/python3.6/dist-packages (from sktime) (1.4.1)\n",
            "Requirement already satisfied: scikit-learn>=0.21.0 in /usr/local/lib/python3.6/dist-packages (from sktime) (0.22.2.post1)\n",
            "Requirement already satisfied: pandas>=0.23.0 in /usr/local/lib/python3.6/dist-packages (from sktime) (1.0.3)\n",
            "Requirement already satisfied: joblib in /usr/local/lib/python3.6/dist-packages (from sktime) (0.14.1)\n",
            "Collecting scikit-posthocs>=0.5.0\n",
            "  Downloading https://files.pythonhosted.org/packages/3b/b8/8a9769c7a286070f74fbc56bcede507680210010ce0887c70112e70ced5a/scikit_posthocs-0.6.4-py3-none-any.whl\n",
            "Requirement already satisfied: statsmodels>=0.9.0 in /usr/local/lib/python3.6/dist-packages (from sktime) (0.10.2)\n",
            "Requirement already satisfied: pytz>=2017.2 in /usr/local/lib/python3.6/dist-packages (from pandas>=0.23.0->sktime) (2018.9)\n",
            "Requirement already satisfied: python-dateutil>=2.6.1 in /usr/local/lib/python3.6/dist-packages (from pandas>=0.23.0->sktime) (2.8.1)\n",
            "Requirement already satisfied: matplotlib in /usr/local/lib/python3.6/dist-packages (from scikit-posthocs>=0.5.0->sktime) (3.2.1)\n",
            "Requirement already satisfied: seaborn in /usr/local/lib/python3.6/dist-packages (from scikit-posthocs>=0.5.0->sktime) (0.10.0)\n",
            "Requirement already satisfied: patsy>=0.4.0 in /usr/local/lib/python3.6/dist-packages (from statsmodels>=0.9.0->sktime) (0.5.1)\n",
            "Requirement already satisfied: six>=1.5 in /usr/local/lib/python3.6/dist-packages (from python-dateutil>=2.6.1->pandas>=0.23.0->sktime) (1.12.0)\n",
            "Requirement already satisfied: kiwisolver>=1.0.1 in /usr/local/lib/python3.6/dist-packages (from matplotlib->scikit-posthocs>=0.5.0->sktime) (1.1.0)\n",
            "Requirement already satisfied: pyparsing!=2.0.4,!=2.1.2,!=2.1.6,>=2.0.1 in /usr/local/lib/python3.6/dist-packages (from matplotlib->scikit-posthocs>=0.5.0->sktime) (2.4.6)\n",
            "Requirement already satisfied: cycler>=0.10 in /usr/local/lib/python3.6/dist-packages (from matplotlib->scikit-posthocs>=0.5.0->sktime) (0.10.0)\n",
            "Requirement already satisfied: setuptools in /usr/local/lib/python3.6/dist-packages (from kiwisolver>=1.0.1->matplotlib->scikit-posthocs>=0.5.0->sktime) (46.0.0)\n",
            "Building wheels for collected packages: sktime\n",
            "  Building wheel for sktime (setup.py) ... \u001b[?25l\u001b[?25hdone\n",
            "  Created wheel for sktime: filename=sktime-0.3.0-cp36-cp36m-linux_x86_64.whl size=3299837 sha256=2187645c041a142fd76c834fd07addab3f8265c5a280b7033afaa686e4de858b\n",
            "  Stored in directory: /root/.cache/pip/wheels/92/5a/c2/859f666f521c12e592cf689e8e2ebff32d74d0416b74dad213\n",
            "Successfully built sktime\n",
            "Installing collected packages: scikit-posthocs, sktime\n",
            "Successfully installed scikit-posthocs-0.6.4 sktime-0.3.0\n",
            "Cloning into 'timeseriesAI2'...\n",
            "remote: Enumerating objects: 271, done.\u001b[K\n",
            "remote: Counting objects: 100% (271/271), done.\u001b[K\n",
            "remote: Compressing objects: 100% (215/215), done.\u001b[K\n",
            "remote: Total 271 (delta 116), reused 110 (delta 46), pack-reused 0\u001b[K\n",
            "Receiving objects: 100% (271/271), 2.57 MiB | 6.82 MiB/s, done.\n",
            "Resolving deltas: 100% (116/116), done.\n",
            "/content/timeseriesAI2\n"
          ],
          "name": "stdout"
        }
      ]
    },
    {
      "cell_type": "code",
      "metadata": {
        "ExecuteTime": {
          "end_time": "2020-04-04T11:56:18.277915Z",
          "start_time": "2020-04-04T11:56:18.240345Z"
        },
        "hidden": true,
        "id": "wuOxM-WJIvkq",
        "colab_type": "code",
        "colab": {
          "base_uri": "https://localhost:8080/",
          "height": 16
        },
        "outputId": "6d6a3d87-f891-4386-e373-8725bcba2f7c"
      },
      "source": [
        "from IPython.display import display, HTML\n",
        "display(HTML(\"<style>.container {width:95% !important; }</style>\"))"
      ],
      "execution_count": 2,
      "outputs": [
        {
          "output_type": "display_data",
          "data": {
            "text/html": [
              "<style>.container {width:95% !important; }</style>"
            ],
            "text/plain": [
              "<IPython.core.display.HTML object>"
            ]
          },
          "metadata": {
            "tags": []
          }
        }
      ]
    },
    {
      "cell_type": "code",
      "metadata": {
        "ExecuteTime": {
          "end_time": "2020-04-04T11:56:32.528446Z",
          "start_time": "2020-04-04T11:56:20.406027Z"
        },
        "hidden": true,
        "id": "o6e_jq-HIvk3",
        "colab_type": "code",
        "colab": {}
      },
      "source": [
        "from fastai2.torch_core import *\n",
        "from fastai2.data.all import *\n",
        "from fastai2.learner import *\n",
        "from fastai2.metrics import *\n",
        "from fastai2.callback.all import *"
      ],
      "execution_count": 0,
      "outputs": []
    },
    {
      "cell_type": "code",
      "metadata": {
        "ExecuteTime": {
          "end_time": "2020-04-04T11:56:32.603359Z",
          "start_time": "2020-04-04T11:56:32.534560Z"
        },
        "hidden": true,
        "id": "2J-hbSMKIvk_",
        "colab_type": "code",
        "colab": {}
      },
      "source": [
        "from timeseries.imports import *\n",
        "from timeseries.utils import *\n",
        "from timeseries.data import *\n",
        "from timeseries.core import *\n",
        "from timeseries.models import *"
      ],
      "execution_count": 0,
      "outputs": []
    },
    {
      "cell_type": "markdown",
      "metadata": {
        "heading_collapsed": true,
        "id": "UH35-QcZIvlJ",
        "colab_type": "text"
      },
      "source": [
        "## Load data"
      ]
    },
    {
      "cell_type": "code",
      "metadata": {
        "ExecuteTime": {
          "end_time": "2020-04-04T11:56:33.161695Z",
          "start_time": "2020-04-04T11:56:32.610234Z"
        },
        "hidden": true,
        "id": "vWoMUpdCIvlL",
        "colab_type": "code",
        "colab": {
          "base_uri": "https://localhost:8080/",
          "height": 158
        },
        "outputId": "f25915ee-3217-4ea8-d33b-3c3a4bd9debd"
      },
      "source": [
        "# dataset id\n",
        "dsid = 'StarLightCurves'\n",
        "X_train, y_train, X_valid, y_valid = get_UCR_data(dsid, parent_dir='./data/UCR/', verbose=True, on_disk=True)\n",
        "X_in_memory = np.concatenate((X_train, X_valid))\n",
        "y_in_memory = np.concatenate((y_train, y_valid)).astype(int)\n",
        "folder = './data/UCR'\n",
        "np.save(f'{folder}/{dsid}/X.npy', X_in_memory)\n",
        "np.save(f'{folder}/{dsid}/y.npy', y_in_memory)\n",
        "X_on_disk = np.load(f'{folder}/{dsid}/X.npy', mmap_mode='r')\n",
        "y_on_disk = np.load(f'{folder}/{dsid}/y.npy', mmap_mode='r').astype(int)\n",
        "splits = (L(list(np.arange(len(X_train)))), L(list(np.arange(len(X_train), len(X_on_disk)))))"
      ],
      "execution_count": 5,
      "outputs": [
        {
          "output_type": "stream",
          "text": [
            "Dataset: StarLightCurves\n",
            "Downloading and decompressing data to data/UCR/StarLightCurves...\n",
            "...data downloaded and decompressed\n",
            "X_train: (1000, 1, 1024)\n",
            "y_train: (1000,)\n",
            "X_valid: (8236, 1, 1024)\n",
            "y_valid: (8236,) \n",
            "\n"
          ],
          "name": "stdout"
        }
      ]
    },
    {
      "cell_type": "markdown",
      "metadata": {
        "heading_collapsed": true,
        "id": "8nvRSEZrIvlV",
        "colab_type": "text"
      },
      "source": [
        "## Performance benchmark"
      ]
    },
    {
      "cell_type": "markdown",
      "metadata": {
        "hidden": true,
        "id": "C5Um1xqaIvlX",
        "colab_type": "text"
      },
      "source": [
        "### Pytorch"
      ]
    },
    {
      "cell_type": "code",
      "metadata": {
        "hidden": true,
        "id": "_hvOyRymIvlY",
        "colab_type": "code",
        "colab": {}
      },
      "source": [
        "# Native Pytorch\n",
        "class PytorchDataset():\n",
        "    def __init__(self, X, y=None): self.X, self.y = torch.as_tensor(X), torch.as_tensor(y)\n",
        "    def __getitem__(self, idx): return (self.X[idx], self.y[idx])\n",
        "    def __len__(self): return len(self.X)"
      ],
      "execution_count": 0,
      "outputs": []
    },
    {
      "cell_type": "code",
      "metadata": {
        "hidden": true,
        "id": "Job-HacyIvlj",
        "colab_type": "code",
        "colab": {
          "base_uri": "https://localhost:8080/",
          "height": 52
        },
        "outputId": "68f54fd5-0791-41d0-888c-8c88099a0dd6"
      },
      "source": [
        "ds    = PytorchDataset(np.array(X_valid), np.array(y_valid).astype(int))\n",
        "dl    = torch.utils.data.DataLoader(ds, batch_size=128)\n",
        "xb,yb = next(iter(dl))\n",
        "print(f'shape: {str(len(ds)):10}   bs: {xb.shape}')\n",
        "%timeit cycle_dl(dl)"
      ],
      "execution_count": 7,
      "outputs": [
        {
          "output_type": "stream",
          "text": [
            "shape: 8236         bs: torch.Size([128, 1, 1024])\n",
            "10 loops, best of 3: 65.5 ms per loop\n"
          ],
          "name": "stdout"
        }
      ]
    },
    {
      "cell_type": "markdown",
      "metadata": {
        "hidden": true,
        "id": "eghDOIQgIvls",
        "colab_type": "text"
      },
      "source": [
        "### Fastai v1"
      ]
    },
    {
      "cell_type": "markdown",
      "metadata": {
        "hidden": true,
        "id": "y3JalSKlIvlu",
        "colab_type": "text"
      },
      "source": [
        "For reference, this are the timings achieved with fastai v1 under the same conditions: \n",
        "\n",
        "- cycle_dl:  1.01s\n",
        "- total training time: 102 s"
      ]
    },
    {
      "cell_type": "markdown",
      "metadata": {
        "hidden": true,
        "id": "4Gz9PSBZIvlw",
        "colab_type": "text"
      },
      "source": [
        "### Fastai v2"
      ]
    },
    {
      "cell_type": "code",
      "metadata": {
        "hidden": true,
        "id": "FUgJH0nEIvlx",
        "colab_type": "code",
        "colab": {
          "base_uri": "https://localhost:8080/",
          "height": 52
        },
        "outputId": "720d85dd-68bd-4e4b-c633-94e0709b85f2"
      },
      "source": [
        "getters = [ItemGetter(0), ItemGetter(1)]\n",
        "dblock = DataBlock(blocks=(TSTensorBlock, CategoryBlock),\n",
        "                   getters=getters,\n",
        "                   splitter=IndexSplitter(splits[1]),\n",
        "                   item_tfms=None,\n",
        "                   batch_tfms=None)\n",
        "source = itemify(X_in_memory, y_in_memory)\n",
        "dls = dblock.dataloaders(source, bs=64, val_bs=128, num_workers=0)\n",
        "xb,yb = next(iter(dls.valid))\n",
        "print(f'shape: {str(len(dls.valid.dataset)):10}   bs: {xb.shape}')\n",
        "%timeit cycle_dl(dls.valid)"
      ],
      "execution_count": 8,
      "outputs": [
        {
          "output_type": "stream",
          "text": [
            "shape: 8236         bs: torch.Size([128, 1, 1024])\n",
            "1 loop, best of 3: 3.43 s per loop\n"
          ],
          "name": "stdout"
        }
      ]
    },
    {
      "cell_type": "markdown",
      "metadata": {
        "id": "4rUFR5DFKW8f",
        "colab_type": "text"
      },
      "source": [
        "Sylvain's recommendation"
      ]
    },
    {
      "cell_type": "code",
      "metadata": {
        "hidden": true,
        "id": "lgCgZX6lIvl5",
        "colab_type": "code",
        "colab": {
          "base_uri": "https://localhost:8080/",
          "height": 52
        },
        "outputId": "67761c9b-eb29-45cd-a2c9-149a863e6588"
      },
      "source": [
        "train_ds = PytorchDataset(np.array(X_train), np.array(y_train).astype(int))\n",
        "valid_ds = PytorchDataset(np.array(X_valid), np.array(y_valid).astype(int))\n",
        "dls = DataLoaders.from_dsets(train_ds, valid_ds, batch_size=128, num_workers=0)\n",
        "xb,yb = next(iter(dls.valid))\n",
        "print(f'shape: {str(len(dls.valid.dataset)):10}   bs: {xb.shape}')\n",
        "%timeit cycle_dl(dls.valid)"
      ],
      "execution_count": 9,
      "outputs": [
        {
          "output_type": "stream",
          "text": [
            "shape: 8236         bs: torch.Size([128, 1, 1024])\n",
            "1 loop, best of 3: 892 ms per loop\n"
          ],
          "name": "stdout"
        }
      ]
    },
    {
      "cell_type": "markdown",
      "metadata": {
        "id": "p45nu7qPIvmD",
        "colab_type": "text"
      },
      "source": [
        "## NumpyDatasets & NumpyDataLoader"
      ]
    },
    {
      "cell_type": "code",
      "metadata": {
        "ExecuteTime": {
          "end_time": "2020-04-04T11:56:33.239030Z",
          "start_time": "2020-04-04T11:56:33.168642Z"
        },
        "id": "5yNwmtOdIvmF",
        "colab_type": "code",
        "colab": {}
      },
      "source": [
        "# class Datasets(FilteredBase):\n",
        "#     \"A dataset that creates a tuple from each `tfms`, passed thru `item_tfms`\"\n",
        "#     def __init__(self, items=None, tfms=None, tls=None, n_inp=None, dl_type=None, **kwargs):\n",
        "#         super().__init__(dl_type=dl_type)\n",
        "#         self.tls = L(tls if tls else [TfmdLists(items, t, **kwargs) for t in L(ifnone(tfms,[None]))])\n",
        "#         self.n_inp = (1 if len(self.tls)==1 else len(self.tls)-1) if n_inp is None else n_inp\n",
        "\n",
        "#     def __getitem__(self, it):\n",
        "#         res = tuple([tl[it] for tl in self.tls])\n",
        "#         return res if is_indexer(it) else list(zip(*res))\n",
        "\n",
        "#     def __getattr__(self,k): return gather_attrs(self, k, 'tls')\n",
        "#     def __dir__(self): return super().__dir__() + gather_attr_names(self, 'tls')\n",
        "#     def __len__(self): return len(self.tls[0])\n",
        "#     def __iter__(self): return (self[i] for i in range(len(self)))\n",
        "#     def __repr__(self): return coll_repr(self)\n",
        "#     def decode(self, o, full=True): return tuple(tl.decode(o_, full=full) for o_,tl in zip(o,tuplify(self.tls, match=o)))\n",
        "#     def subset(self, i): return type(self)(tls=L(tl.subset(i) for tl in self.tls), n_inp=self.n_inp)\n",
        "#     def _new(self, items, *args, **kwargs): return super()._new(items, tfms=self.tfms, do_setup=False, **kwargs)\n",
        "#     def overlapping_splits(self): return self.tls[0].overlapping_splits()\n",
        "#     def new_empty(self): return type(self)(tls=[tl.new_empty() for tl in self.tls], n_inp=self.n_inp)\n",
        "#     @property\n",
        "#     def splits(self): return self.tls[0].splits\n",
        "#     @property\n",
        "#     def split_idx(self): return self.tls[0].tfms.split_idx\n",
        "#     @property\n",
        "#     def items(self): return self.tls[0].items\n",
        "#     @items.setter\n",
        "#     def items(self, v):\n",
        "#         for tl in self.tls: tl.items = v\n",
        "\n",
        "#     def show(self, o, ctx=None, **kwargs):\n",
        "#         for o_,tl in zip(o,self.tls): ctx = tl.show(o_, ctx=ctx, **kwargs)\n",
        "#         return ctx\n",
        "\n",
        "#     @contextmanager\n",
        "#     def set_split_idx(self, i):\n",
        "#         old_split_idx = self.split_idx\n",
        "#         for tl in self.tls: tl.tfms.split_idx = i\n",
        "#         yield self\n",
        "#         for tl in self.tls: tl.tfms.split_idx = old_split_idx\n"
      ],
      "execution_count": 0,
      "outputs": []
    },
    {
      "cell_type": "code",
      "metadata": {
        "ExecuteTime": {
          "end_time": "2020-04-04T11:56:33.422017Z",
          "start_time": "2020-04-04T11:56:33.412136Z"
        },
        "id": "jkiAWhcmIvmN",
        "colab_type": "code",
        "colab": {}
      },
      "source": [
        "def is_none(o):\n",
        "    return o in [[], [None], None]\n",
        "    \n",
        "def ifnotnone(a, b):\n",
        "    \"`a` if `a` is None else `b`\"\n",
        "    return a if a is not None else b\n",
        "\n",
        "def ifnoneelse(a, b, c):\n",
        "    \"`b` if `a` is None else `c`\"\n",
        "    return b if a is None else c"
      ],
      "execution_count": 0,
      "outputs": []
    },
    {
      "cell_type": "code",
      "metadata": {
        "ExecuteTime": {
          "end_time": "2020-04-04T12:17:29.158787Z",
          "start_time": "2020-04-04T12:17:29.076083Z"
        },
        "id": "6SHtLjZbIvmV",
        "colab_type": "code",
        "colab": {}
      },
      "source": [
        "class NumpyDatasets(Datasets):\n",
        "    \"A dataset that creates tuples from X (and y) and applies `item_tfms`\"\n",
        "    _xtype, _ytype = None, None # Expected X and y output types (torch.Tensor - default - or subclass)\n",
        "    def __init__(self, X=None, y=None, items=None, sel_vars=None, sel_steps=None, tfms=None, tls=None, n_inp=None, dl_type=None, \n",
        "                 preprocess=False, **kwargs):\n",
        "\n",
        "        if tls is None: items = ifnoneelse(y,tuple((X,)),tuple((X, y)))\n",
        "        self.tfms = L(ifnone(tfms,[None]*len(ifnone(tls,items))))\n",
        "        self.sel_vars = slice(None) if sel_vars is None else sel_vars\n",
        "        self.sel_steps = slice(None) if sel_steps is None else sel_steps\n",
        "        self.tls = L(tls if tls else [TfmdLists(item, t, **kwargs) for item,t in zip(items,self.tfms)])\n",
        "        self.n_inp = (1 if len(self.tls)==1 else len(self.tls)-1) if n_inp is None else n_inp\n",
        "        self.ptls = L([tl.items if is_none(tfm) else np.stack(tl[:]) if preprocess else tl for tl,tfm in zip(self.tls, self.tfms)])\n",
        "        self._get_types()\n",
        "        self.preprocess = preprocess\n",
        "            \n",
        "    def _get_types(self):\n",
        "        if self.tls: \n",
        "            self.types = [type(tl[0]) if isinstance(tl[0], torch.Tensor) else torch.as_tensor for tl in self.tls]\n",
        "            if self._xtype is not None: self.types[0] = self._xtype\n",
        "            if len(self.types) == 2 and self._ytype is not None: self.types[1] = self._ytype\n",
        "    \n",
        "    def __getitem__(self, it):\n",
        "        return tuple([typ(ptl[it][self.sel_vars, self.sel_steps] if i==0 else ptl[it]) for i,(ptl,typ) in enumerate(zip(self.ptls,self.types))])\n",
        "    \n",
        "    def subset(self, i): return type(self)(tls=L(tl.subset(i) for tl in self.tls), n_inp=self.n_inp, \n",
        "                                           preprocess=self.preprocess, tfms=self.tfms, sel_vars=self.sel_vars, sel_steps=self.sel_steps)\n",
        "    \n",
        "    def _new(self, X, *args, y=None, **kwargs): \n",
        "        items = ifnone(items,ifnoneelse(y,tuple((X,)),tuple((X, y))))\n",
        "        return super()._new(items, tfms=self.tfms, do_setup=False, **kwargs)\n",
        "    \n",
        "    @property\n",
        "    def vars(self): return self[0][0].shape[-2]\n",
        "\n",
        "class TSDatasets(NumpyDatasets):\n",
        "    \"A dataset that creates tuples from X (and y) and applies `item_tfms`\"\n",
        "    _xtype, _ytype = TSTensor, None # Expected X and y output types (torch.Tensor - default - or subclass)\n",
        "    \n",
        "class NumpyDataLoader(TfmdDL):\n",
        "    do_item = noops\n",
        "    \n",
        "    def create_batch(self, b): return self.dataset[b]\n",
        "    \n",
        "    @property\n",
        "    def vars(self): return self.dataset[0][0].shape[-2]\n",
        "    \n",
        "    @property\n",
        "    def len(self): return self.dataset[0][0].shape[-1]\n",
        "\n",
        "    @delegates(plt.subplots)\n",
        "    def show_batch(self, b=None, max_n=9, nrows=3, ncols=3, figsize=(12, 10), **kwargs):\n",
        "        b = self.one_batch()\n",
        "        b = itemify(b)\n",
        "        if nrows is None: \n",
        "            sqrt = math.sqrt(len(b))\n",
        "            rows = min(math.ceil(sqrt), len(b)) \n",
        "        if ncols is None: ncols = len(b) // nrows\n",
        "        fig, axs = plt.subplots(nrows=nrows, ncols=ncols, figsize=figsize,  **kwargs)\n",
        "        for tup, ax in zip(b[:nrows ** 2], [axs] if nrows == 1 else axs.flatten()): \n",
        "            show_tuple(self.dataset.decode(tup), ax=ax)\n",
        "            plt.tight_layout()\n",
        "\n",
        "@delegates(plt.subplots)\n",
        "def show_tuple(tup, ax=None, **kwargs):\n",
        "    \"Display a timeseries plot from a tuple\"\n",
        "    tup[0].show(title='unlabeled' if len(tup) == 1 else tup[1], ax=ax, **kwargs)\n",
        "    \n",
        "class TSDataLoader(NumpyDataLoader): pass\n",
        "\n",
        "\n",
        "\n",
        "#     def test_dl(self:DataLoaders, test_items, rm_type_tfms=None, with_labels=False, **kwargs):\n",
        "#         \"Create a test dataloader from `test_items` using validation transforms of `dls`\"\n",
        "#         test = test_set(self.valid, test_items, rm_tfms=rm_type_tfms, with_labels=with_labels\n",
        "#                         ) if isinstance(self.valid, (Datasets, NumpyDatasets, TfmdLists)) else test_items\n",
        "#         return self.valid.new(test, **kwargs)"
      ],
      "execution_count": 0,
      "outputs": []
    },
    {
      "cell_type": "code",
      "metadata": {
        "ExecuteTime": {
          "end_time": "2020-04-04T12:17:30.846665Z",
          "start_time": "2020-04-04T12:17:30.834291Z"
        },
        "id": "Pi4meQHHIvmd",
        "colab_type": "code",
        "colab": {}
      },
      "source": [
        "bs = 128\n",
        "idx = np.random.randint(len(X_in_memory), size=bs)\n",
        "train_idx = np.random.randint(len(splits[0]), size=bs)\n",
        "valid_idx = np.random.randint(len(splits[1]), size=bs)"
      ],
      "execution_count": 0,
      "outputs": []
    },
    {
      "cell_type": "code",
      "metadata": {
        "ExecuteTime": {
          "end_time": "2020-04-04T12:17:38.993881Z",
          "start_time": "2020-04-04T12:17:31.883227Z"
        },
        "id": "lWrK75gKIvmk",
        "colab_type": "code",
        "colab": {
          "base_uri": "https://localhost:8080/",
          "height": 34
        },
        "outputId": "f3814173-ffbe-43dc-8bb7-573396c930c0"
      },
      "source": [
        "tfms = [None, [Categorize()]]\n",
        "# tfms = None\n",
        "# dsets = NumpyDatasets(X_on_disk, y_on_disk, tfms=tfms, splits=splits, preprocess=False)\n",
        "dsets = TSDatasets(X_on_disk, y_on_disk, tfms=tfms, splits=splits, preprocess=True)\n",
        "train_ds = dsets.train\n",
        "valid_ds = dsets.valid\n",
        "valid_ds[0]"
      ],
      "execution_count": 16,
      "outputs": [
        {
          "output_type": "execute_result",
          "data": {
            "text/plain": [
              "(TSTensor(vars:1, len:1024), TensorCategory(1))"
            ]
          },
          "metadata": {
            "tags": []
          },
          "execution_count": 16
        }
      ]
    },
    {
      "cell_type": "code",
      "metadata": {
        "ExecuteTime": {
          "end_time": "2020-04-04T12:10:44.466307Z",
          "start_time": "2020-04-04T12:10:44.436800Z"
        },
        "scrolled": false,
        "id": "nqL2GxGyIvmt",
        "colab_type": "code",
        "colab": {
          "base_uri": "https://localhost:8080/",
          "height": 141
        },
        "outputId": "847d161e-b1b7-4063-dada-57b2865dedeb"
      },
      "source": [
        "train_dl = TSDataLoader(train_ds, bs=64, shuffle=True, drop_last=True, num_workers=0)\n",
        "valid_dl = TSDataLoader(valid_ds, bs=128, num_workers=0)\n",
        "dls = TSDataLoaders(train_dl, valid_dl)\n",
        "b = next(iter(dls.valid))\n",
        "b"
      ],
      "execution_count": 17,
      "outputs": [
        {
          "output_type": "execute_result",
          "data": {
            "text/plain": [
              "(TSTensor(samples:128, vars:1, len:1024),\n",
              " TensorCategory([1, 2, 2, 0, 1, 2, 2, 2, 1, 2, 2, 2, 2, 2, 2, 0, 2, 2, 2, 0, 0, 2, 2, 2,\n",
              "         1, 0, 2, 0, 2, 1, 2, 2, 1, 2, 1, 1, 1, 1, 1, 2, 2, 0, 2, 2, 1, 0, 0, 2,\n",
              "         2, 2, 2, 1, 0, 0, 2, 2, 2, 2, 2, 2, 0, 0, 1, 2, 2, 1, 2, 2, 2, 0, 0, 2,\n",
              "         1, 1, 1, 2, 2, 1, 1, 1, 1, 2, 2, 2, 2, 2, 1, 1, 2, 1, 2, 2, 0, 2, 0, 2,\n",
              "         2, 2, 2, 2, 2, 2, 1, 1, 1, 2, 2, 2, 1, 0, 2, 2, 0, 2, 2, 1, 2, 1, 2, 2,\n",
              "         2, 2, 2, 2, 1, 2, 2, 0]))"
            ]
          },
          "metadata": {
            "tags": []
          },
          "execution_count": 17
        }
      ]
    },
    {
      "cell_type": "code",
      "metadata": {
        "ExecuteTime": {
          "end_time": "2020-04-04T12:10:58.923370Z",
          "start_time": "2020-04-04T12:10:46.995747Z"
        },
        "scrolled": false,
        "id": "hXQcDANmIvm4",
        "colab_type": "code",
        "colab": {
          "base_uri": "https://localhost:8080/",
          "height": 728
        },
        "outputId": "cf34edfd-3048-4b98-ef56-2eaf6bd1e90d"
      },
      "source": [
        "dls.train.show_batch()"
      ],
      "execution_count": 22,
      "outputs": [
        {
          "output_type": "display_data",
          "data": {
            "image/png": "[encoded data removed]",
            "text/plain": [
              "<Figure size 864x720 with 9 Axes>"
            ]
          },
          "metadata": {
            "tags": []
          }
        }
      ]
    },
    {
      "cell_type": "code",
      "metadata": {
        "id": "lV4_LHC3IvnF",
        "colab_type": "code",
        "colab": {
          "base_uri": "https://localhost:8080/",
          "height": 52
        },
        "outputId": "9bdf06e7-babf-4ded-fa99-c994151ef912"
      },
      "source": [
        "X_val = X_in_memory[splits[1]]\n",
        "y_val = y_in_memory[splits[1]]\n",
        "%timeit tuple((TSTensor(X_val[valid_idx]), TensorCategory(y_val[valid_idx])))"
      ],
      "execution_count": 23,
      "outputs": [
        {
          "output_type": "stream",
          "text": [
            "The slowest run took 4.82 times longer than the fastest. This could mean that an intermediate result is being cached.\n",
            "1000 loops, best of 3: 198 µs per loop\n"
          ],
          "name": "stdout"
        }
      ]
    },
    {
      "cell_type": "code",
      "metadata": {
        "id": "0vST9agVIvnN",
        "colab_type": "code",
        "colab": {
          "base_uri": "https://localhost:8080/",
          "height": 34
        },
        "outputId": "d29c0480-0676-4188-a895-5b64b4213bc3"
      },
      "source": [
        "%timeit valid_ds[valid_idx]"
      ],
      "execution_count": 26,
      "outputs": [
        {
          "output_type": "stream",
          "text": [
            "100 loops, best of 3: 14.5 ms per loop\n"
          ],
          "name": "stdout"
        }
      ]
    },
    {
      "cell_type": "code",
      "metadata": {
        "id": "XfyNCitYIvnU",
        "colab_type": "code",
        "colab": {
          "base_uri": "https://localhost:8080/",
          "height": 34
        },
        "outputId": "767ae2d5-2a11-498a-9d48-107f87646dad"
      },
      "source": [
        "%timeit cycle_dl(valid_dl)"
      ],
      "execution_count": 27,
      "outputs": [
        {
          "output_type": "stream",
          "text": [
            "1 loop, best of 3: 929 ms per loop\n"
          ],
          "name": "stdout"
        }
      ]
    },
    {
      "cell_type": "code",
      "metadata": {
        "id": "B4EvDaFWIvnc",
        "colab_type": "code",
        "colab": {
          "base_uri": "https://localhost:8080/",
          "height": 52
        },
        "outputId": "a6181d72-aa9e-4f53-ff6d-b6a03d89e396"
      },
      "source": [
        "%timeit valid_ds[valid_idx]"
      ],
      "execution_count": 20,
      "outputs": [
        {
          "output_type": "stream",
          "text": [
            "The slowest run took 4.25 times longer than the fastest. This could mean that an intermediate result is being cached.\n",
            "10000 loops, best of 3: 186 µs per loop\n"
          ],
          "name": "stdout"
        }
      ]
    },
    {
      "cell_type": "code",
      "metadata": {
        "id": "hdkuzb--Ivnk",
        "colab_type": "code",
        "colab": {
          "base_uri": "https://localhost:8080/",
          "height": 34
        },
        "outputId": "c8372270-3d47-4b75-dbd6-721fb53cad9b"
      },
      "source": [
        "%timeit cycle_dl(valid_dl)"
      ],
      "execution_count": 31,
      "outputs": [
        {
          "output_type": "stream",
          "text": [
            "10 loops, best of 3: 37 ms per loop\n"
          ],
          "name": "stdout"
        }
      ]
    },
    {
      "cell_type": "code",
      "metadata": {
        "id": "hRH7RtRlL_3O",
        "colab_type": "code",
        "colab": {
          "base_uri": "https://localhost:8080/",
          "height": 815
        },
        "outputId": "91353020-6e63-4203-f437-aae95cff59a1"
      },
      "source": [
        "tfms  = [None, [Categorize()]]\n",
        "dsets = TSDatasets(X_in_memory, y_in_memory, tfms=tfms, splits=splits, preprocess=True)\n",
        "train_ds = dsets.train\n",
        "valid_ds = dsets.valid\n",
        "train_dl = TSDataLoader(train_ds, bs=64, shuffle=True, drop_last=True, num_workers=0)\n",
        "valid_dl = TSDataLoader(valid_ds, bs=128, num_workers=0)\n",
        "dls   = TSDataLoaders(train_dl, valid_dl, device=default_device())\n",
        "model = InceptionTime(dls.vars, dls.c)\n",
        "learn = Learner(dls, model, metrics=accuracy)\n",
        "start = time.time()\n",
        "learn.fit_one_cycle(25, lr_max=1e-3)\n",
        "print(time.time() - start)"
      ],
      "execution_count": 10,
      "outputs": [
        {
          "output_type": "display_data",
          "data": {
            "text/html": [
              "<table border=\"1\" class=\"dataframe\">\n",
              "  <thead>\n",
              "    <tr style=\"text-align: left;\">\n",
              "      <th>epoch</th>\n",
              "      <th>train_loss</th>\n",
              "      <th>valid_loss</th>\n",
              "      <th>accuracy</th>\n",
              "      <th>time</th>\n",
              "    </tr>\n",
              "  </thead>\n",
              "  <tbody>\n",
              "    <tr>\n",
              "      <td>0</td>\n",
              "      <td>0.704361</td>\n",
              "      <td>1.004038</td>\n",
              "      <td>0.777319</td>\n",
              "      <td>00:03</td>\n",
              "    </tr>\n",
              "    <tr>\n",
              "      <td>1</td>\n",
              "      <td>0.571141</td>\n",
              "      <td>0.677692</td>\n",
              "      <td>0.835236</td>\n",
              "      <td>00:02</td>\n",
              "    </tr>\n",
              "    <tr>\n",
              "      <td>2</td>\n",
              "      <td>0.484006</td>\n",
              "      <td>0.415430</td>\n",
              "      <td>0.855877</td>\n",
              "      <td>00:02</td>\n",
              "    </tr>\n",
              "    <tr>\n",
              "      <td>3</td>\n",
              "      <td>0.410333</td>\n",
              "      <td>0.458810</td>\n",
              "      <td>0.825401</td>\n",
              "      <td>00:02</td>\n",
              "    </tr>\n",
              "    <tr>\n",
              "      <td>4</td>\n",
              "      <td>0.343993</td>\n",
              "      <td>0.243812</td>\n",
              "      <td>0.940505</td>\n",
              "      <td>00:02</td>\n",
              "    </tr>\n",
              "    <tr>\n",
              "      <td>5</td>\n",
              "      <td>0.287211</td>\n",
              "      <td>1.100354</td>\n",
              "      <td>0.855148</td>\n",
              "      <td>00:02</td>\n",
              "    </tr>\n",
              "    <tr>\n",
              "      <td>6</td>\n",
              "      <td>0.243030</td>\n",
              "      <td>0.213324</td>\n",
              "      <td>0.916829</td>\n",
              "      <td>00:02</td>\n",
              "    </tr>\n",
              "    <tr>\n",
              "      <td>7</td>\n",
              "      <td>0.211733</td>\n",
              "      <td>0.282990</td>\n",
              "      <td>0.863162</td>\n",
              "      <td>00:02</td>\n",
              "    </tr>\n",
              "    <tr>\n",
              "      <td>8</td>\n",
              "      <td>0.184711</td>\n",
              "      <td>0.294763</td>\n",
              "      <td>0.870811</td>\n",
              "      <td>00:02</td>\n",
              "    </tr>\n",
              "    <tr>\n",
              "      <td>9</td>\n",
              "      <td>0.158757</td>\n",
              "      <td>0.145911</td>\n",
              "      <td>0.960175</td>\n",
              "      <td>00:02</td>\n",
              "    </tr>\n",
              "    <tr>\n",
              "      <td>10</td>\n",
              "      <td>0.143177</td>\n",
              "      <td>0.104395</td>\n",
              "      <td>0.976809</td>\n",
              "      <td>00:02</td>\n",
              "    </tr>\n",
              "    <tr>\n",
              "      <td>11</td>\n",
              "      <td>0.128239</td>\n",
              "      <td>0.147756</td>\n",
              "      <td>0.955440</td>\n",
              "      <td>00:02</td>\n",
              "    </tr>\n",
              "    <tr>\n",
              "      <td>12</td>\n",
              "      <td>0.116559</td>\n",
              "      <td>0.114856</td>\n",
              "      <td>0.962118</td>\n",
              "      <td>00:03</td>\n",
              "    </tr>\n",
              "    <tr>\n",
              "      <td>13</td>\n",
              "      <td>0.106064</td>\n",
              "      <td>0.101651</td>\n",
              "      <td>0.975838</td>\n",
              "      <td>00:02</td>\n",
              "    </tr>\n",
              "    <tr>\n",
              "      <td>14</td>\n",
              "      <td>0.098466</td>\n",
              "      <td>0.140877</td>\n",
              "      <td>0.957504</td>\n",
              "      <td>00:02</td>\n",
              "    </tr>\n",
              "    <tr>\n",
              "      <td>15</td>\n",
              "      <td>0.091682</td>\n",
              "      <td>0.097814</td>\n",
              "      <td>0.974988</td>\n",
              "      <td>00:02</td>\n",
              "    </tr>\n",
              "    <tr>\n",
              "      <td>16</td>\n",
              "      <td>0.086750</td>\n",
              "      <td>0.187202</td>\n",
              "      <td>0.926663</td>\n",
              "      <td>00:02</td>\n",
              "    </tr>\n",
              "    <tr>\n",
              "      <td>17</td>\n",
              "      <td>0.079910</td>\n",
              "      <td>0.153414</td>\n",
              "      <td>0.941962</td>\n",
              "      <td>00:02</td>\n",
              "    </tr>\n",
              "    <tr>\n",
              "      <td>18</td>\n",
              "      <td>0.076709</td>\n",
              "      <td>0.108232</td>\n",
              "      <td>0.968917</td>\n",
              "      <td>00:02</td>\n",
              "    </tr>\n",
              "    <tr>\n",
              "      <td>19</td>\n",
              "      <td>0.070064</td>\n",
              "      <td>0.079451</td>\n",
              "      <td>0.978752</td>\n",
              "      <td>00:02</td>\n",
              "    </tr>\n",
              "    <tr>\n",
              "      <td>20</td>\n",
              "      <td>0.065297</td>\n",
              "      <td>0.078062</td>\n",
              "      <td>0.978509</td>\n",
              "      <td>00:02</td>\n",
              "    </tr>\n",
              "    <tr>\n",
              "      <td>21</td>\n",
              "      <td>0.059317</td>\n",
              "      <td>0.080266</td>\n",
              "      <td>0.976688</td>\n",
              "      <td>00:02</td>\n",
              "    </tr>\n",
              "    <tr>\n",
              "      <td>22</td>\n",
              "      <td>0.055984</td>\n",
              "      <td>0.078799</td>\n",
              "      <td>0.976688</td>\n",
              "      <td>00:02</td>\n",
              "    </tr>\n",
              "    <tr>\n",
              "      <td>23</td>\n",
              "      <td>0.053301</td>\n",
              "      <td>0.077716</td>\n",
              "      <td>0.977538</td>\n",
              "      <td>00:02</td>\n",
              "    </tr>\n",
              "    <tr>\n",
              "      <td>24</td>\n",
              "      <td>0.050550</td>\n",
              "      <td>0.077014</td>\n",
              "      <td>0.978023</td>\n",
              "      <td>00:02</td>\n",
              "    </tr>\n",
              "  </tbody>\n",
              "</table>"
            ],
            "text/plain": [
              "<IPython.core.display.HTML object>"
            ]
          },
          "metadata": {
            "tags": []
          }
        },
        {
          "output_type": "stream",
          "text": [
            "74.82915663719177\n"
          ],
          "name": "stdout"
        }
      ]
    },
    {
      "cell_type": "code",
      "metadata": {
        "id": "5xZgRP-XL371",
        "colab_type": "code",
        "colab": {
          "base_uri": "https://localhost:8080/",
          "height": 815
        },
        "outputId": "f9e300e4-8d5f-4edb-b56e-bd04b5dd2c49"
      },
      "source": [
        "tfms = [None, [Categorize()]]\n",
        "dsets = TSDatasets(X_on_disk, y_on_disk, tfms=tfms, splits=splits, preprocess=True)\n",
        "train_ds = dsets.train\n",
        "valid_ds = dsets.valid\n",
        "train_dl = TSDataLoader(train_ds, bs=64, shuffle=True, drop_last=True)\n",
        "valid_dl = TSDataLoader(valid_ds, bs=128)\n",
        "dls = TSDataLoaders(train_dl, valid_dl, device=default_device())\n",
        "model = InceptionTime(dls.vars, dls.c)\n",
        "learn = Learner(dls, model, metrics=accuracy)\n",
        "start = time.time()\n",
        "learn.fit_one_cycle(25, lr_max=1e-3)\n",
        "print(time.time() - start)"
      ],
      "execution_count": 9,
      "outputs": [
        {
          "output_type": "display_data",
          "data": {
            "text/html": [
              "<table border=\"1\" class=\"dataframe\">\n",
              "  <thead>\n",
              "    <tr style=\"text-align: left;\">\n",
              "      <th>epoch</th>\n",
              "      <th>train_loss</th>\n",
              "      <th>valid_loss</th>\n",
              "      <th>accuracy</th>\n",
              "      <th>time</th>\n",
              "    </tr>\n",
              "  </thead>\n",
              "  <tbody>\n",
              "    <tr>\n",
              "      <td>0</td>\n",
              "      <td>0.799278</td>\n",
              "      <td>1.068762</td>\n",
              "      <td>0.577222</td>\n",
              "      <td>00:03</td>\n",
              "    </tr>\n",
              "    <tr>\n",
              "      <td>1</td>\n",
              "      <td>0.647836</td>\n",
              "      <td>0.694410</td>\n",
              "      <td>0.835600</td>\n",
              "      <td>00:03</td>\n",
              "    </tr>\n",
              "    <tr>\n",
              "      <td>2</td>\n",
              "      <td>0.546813</td>\n",
              "      <td>0.423343</td>\n",
              "      <td>0.851627</td>\n",
              "      <td>00:03</td>\n",
              "    </tr>\n",
              "    <tr>\n",
              "      <td>3</td>\n",
              "      <td>0.451487</td>\n",
              "      <td>0.337685</td>\n",
              "      <td>0.856484</td>\n",
              "      <td>00:03</td>\n",
              "    </tr>\n",
              "    <tr>\n",
              "      <td>4</td>\n",
              "      <td>0.392121</td>\n",
              "      <td>0.434699</td>\n",
              "      <td>0.834628</td>\n",
              "      <td>00:03</td>\n",
              "    </tr>\n",
              "    <tr>\n",
              "      <td>5</td>\n",
              "      <td>0.338288</td>\n",
              "      <td>0.906969</td>\n",
              "      <td>0.849077</td>\n",
              "      <td>00:03</td>\n",
              "    </tr>\n",
              "    <tr>\n",
              "      <td>6</td>\n",
              "      <td>0.302274</td>\n",
              "      <td>0.739665</td>\n",
              "      <td>0.855027</td>\n",
              "      <td>00:03</td>\n",
              "    </tr>\n",
              "    <tr>\n",
              "      <td>7</td>\n",
              "      <td>0.265216</td>\n",
              "      <td>0.229490</td>\n",
              "      <td>0.928485</td>\n",
              "      <td>00:03</td>\n",
              "    </tr>\n",
              "    <tr>\n",
              "      <td>8</td>\n",
              "      <td>0.227199</td>\n",
              "      <td>0.891239</td>\n",
              "      <td>0.787882</td>\n",
              "      <td>00:03</td>\n",
              "    </tr>\n",
              "    <tr>\n",
              "      <td>9</td>\n",
              "      <td>0.200662</td>\n",
              "      <td>0.167834</td>\n",
              "      <td>0.956897</td>\n",
              "      <td>00:03</td>\n",
              "    </tr>\n",
              "    <tr>\n",
              "      <td>10</td>\n",
              "      <td>0.178086</td>\n",
              "      <td>0.134484</td>\n",
              "      <td>0.971831</td>\n",
              "      <td>00:03</td>\n",
              "    </tr>\n",
              "    <tr>\n",
              "      <td>11</td>\n",
              "      <td>0.162484</td>\n",
              "      <td>0.135507</td>\n",
              "      <td>0.971831</td>\n",
              "      <td>00:03</td>\n",
              "    </tr>\n",
              "    <tr>\n",
              "      <td>12</td>\n",
              "      <td>0.141893</td>\n",
              "      <td>0.324522</td>\n",
              "      <td>0.854541</td>\n",
              "      <td>00:03</td>\n",
              "    </tr>\n",
              "    <tr>\n",
              "      <td>13</td>\n",
              "      <td>0.127553</td>\n",
              "      <td>0.104538</td>\n",
              "      <td>0.976081</td>\n",
              "      <td>00:03</td>\n",
              "    </tr>\n",
              "    <tr>\n",
              "      <td>14</td>\n",
              "      <td>0.117298</td>\n",
              "      <td>0.093386</td>\n",
              "      <td>0.975231</td>\n",
              "      <td>00:03</td>\n",
              "    </tr>\n",
              "    <tr>\n",
              "      <td>15</td>\n",
              "      <td>0.107174</td>\n",
              "      <td>0.122522</td>\n",
              "      <td>0.958718</td>\n",
              "      <td>00:03</td>\n",
              "    </tr>\n",
              "    <tr>\n",
              "      <td>16</td>\n",
              "      <td>0.098357</td>\n",
              "      <td>0.095834</td>\n",
              "      <td>0.970131</td>\n",
              "      <td>00:03</td>\n",
              "    </tr>\n",
              "    <tr>\n",
              "      <td>17</td>\n",
              "      <td>0.090398</td>\n",
              "      <td>0.090557</td>\n",
              "      <td>0.977538</td>\n",
              "      <td>00:03</td>\n",
              "    </tr>\n",
              "    <tr>\n",
              "      <td>18</td>\n",
              "      <td>0.084084</td>\n",
              "      <td>0.097719</td>\n",
              "      <td>0.969645</td>\n",
              "      <td>00:03</td>\n",
              "    </tr>\n",
              "    <tr>\n",
              "      <td>19</td>\n",
              "      <td>0.076340</td>\n",
              "      <td>0.083998</td>\n",
              "      <td>0.976566</td>\n",
              "      <td>00:03</td>\n",
              "    </tr>\n",
              "    <tr>\n",
              "      <td>20</td>\n",
              "      <td>0.072788</td>\n",
              "      <td>0.084524</td>\n",
              "      <td>0.976081</td>\n",
              "      <td>00:03</td>\n",
              "    </tr>\n",
              "    <tr>\n",
              "      <td>21</td>\n",
              "      <td>0.067777</td>\n",
              "      <td>0.086830</td>\n",
              "      <td>0.974866</td>\n",
              "      <td>00:03</td>\n",
              "    </tr>\n",
              "    <tr>\n",
              "      <td>22</td>\n",
              "      <td>0.064344</td>\n",
              "      <td>0.080149</td>\n",
              "      <td>0.977902</td>\n",
              "      <td>00:03</td>\n",
              "    </tr>\n",
              "    <tr>\n",
              "      <td>23</td>\n",
              "      <td>0.061662</td>\n",
              "      <td>0.079382</td>\n",
              "      <td>0.977416</td>\n",
              "      <td>00:03</td>\n",
              "    </tr>\n",
              "    <tr>\n",
              "      <td>24</td>\n",
              "      <td>0.058263</td>\n",
              "      <td>0.079369</td>\n",
              "      <td>0.977538</td>\n",
              "      <td>00:03</td>\n",
              "    </tr>\n",
              "  </tbody>\n",
              "</table>"
            ],
            "text/plain": [
              "<IPython.core.display.HTML object>"
            ]
          },
          "metadata": {
            "tags": []
          }
        },
        {
          "output_type": "stream",
          "text": [
            "82.7504723072052\n"
          ],
          "name": "stdout"
        }
      ]
    },
    {
      "cell_type": "code",
      "metadata": {
        "id": "TltRHV2eOB9q",
        "colab_type": "code",
        "colab": {}
      },
      "source": [
        ""
      ],
      "execution_count": 0,
      "outputs": []
    }
  ]
}