{
 "cells": [
  {
   "cell_type": "markdown",
   "metadata": {},
   "source": [
    "created by Ignacio Oguiza - email: oguiza@gmail.com"
   ]
  },
  {
   "cell_type": "markdown",
   "metadata": {},
   "source": [
    "# How to efficiently work with very large Numpy Arrays?"
   ]
  },
  {
   "cell_type": "markdown",
   "metadata": {},
   "source": [
    "## Import libraries"
   ]
  },
  {
   "cell_type": "code",
   "execution_count": 1,
   "metadata": {
    "ExecuteTime": {
     "end_time": "2020-04-02T07:28:08.041043Z",
     "start_time": "2020-04-02T07:28:07.945119Z"
    }
   },
   "outputs": [],
   "source": [
    "import sys\n",
    "import os\n",
    "ISCOLAB = 'google.colab' in sys.modules\n",
    "if ISCOLAB:\n",
    "    if not os.path.isdir('/content/timeseriesAI2'):\n",
    "        !git clone https://github.com/timeseriesAI/timeseriesAI2.git\n",
    "        !pip install git+https://github.com/fastai/fastai2 \n",
    "        !pip install git+https://github.com/fastai/fastcore \n",
    "        !pip install pyunpack\n",
    "        !pip install sktime\n",
    "        %cd timeseriesAI2\n",
    "    else: \n",
    "        path = !pwd\n",
    "        if path != ['/content/timeseriesAI2']: \n",
    "            %cd timeseriesAI2\n",
    "        !pwd"
   ]
  },
  {
   "cell_type": "markdown",
   "metadata": {},
   "source": [
    "## Introduction"
   ]
  },
  {
   "cell_type": "markdown",
   "metadata": {},
   "source": [
    "I normally work with time series data. I made the decision to use numpy arrays to store my data since the can easily handle multiple dimensions, and are really very efficient.\n",
    "\n",
    "But sometimes datasets are really big (many GBs) and don't fit in memory. So I started looking around and found something that works very well: [**np.memmap**](https://docs.scipy.org/doc/numpy/reference/generated/numpy.memmap.html). Conceptually they work as arrays on disk, and that's how I often call them.\n",
    "\n",
    "np.memmap creates a map to numpy array you have previously saved on disk, so that you can efficiently access small segments of those (small or large) files on disk, without reading the entire file into memory. And that's exactly what we need with deep learning, be able to quickly create a batch in memory, without reading the entire file (that is stored on disk). \n",
    "\n",
    "The best analogy I've found are image files. You may have a very large dataset on disk (that far exceeds your RAM). In order to create your DL datasets, what you pass are the paths to each individual file, so that you can then load a few images and create a batch on demand.\n",
    "\n",
    "You can view np.memmap as the path collection that can be used to load numpy data on demand when you need to create a batch.\n",
    "\n",
    "So let's see how you can work with larger than RAM arrays on disk."
   ]
  },
  {
   "cell_type": "markdown",
   "metadata": {},
   "source": [
    "On my laptop I have only 8GB of RAM."
   ]
  },
  {
   "cell_type": "code",
   "execution_count": 620,
   "metadata": {
    "ExecuteTime": {
     "end_time": "2020-04-02T16:30:52.333995Z",
     "start_time": "2020-04-02T16:30:52.267441Z"
    }
   },
   "outputs": [
    {
     "name": "stdout",
     "output_type": "stream",
     "text": [
      "Total RAM      :  8.00 GB\n",
      "Available RAM  :  2.35 GB\n",
      "\n"
     ]
    }
   ],
   "source": [
    "from fastai2.data.all import *\n",
    "from fastai2.torch_core import *\n",
    "from timeseries.core import *\n",
    "from timeseries.imports import *\n",
    "from timeseries.utils import *\n",
    "print(f'Total RAM      : {bytes2GB(psutil.virtual_memory().total):5.2f} GB')\n",
    "print(f'Available RAM  : {bytes2GB(psutil.virtual_memory().available):5.2f} GB\\n')"
   ]
  },
  {
   "cell_type": "code",
   "execution_count": 396,
   "metadata": {
    "ExecuteTime": {
     "end_time": "2020-04-02T10:22:17.103523Z",
     "start_time": "2020-04-02T10:22:17.067062Z"
    }
   },
   "outputs": [
    {
     "data": {
      "text/html": [
       "<style>.container {width:95% !important; }</style>"
      ],
      "text/plain": [
       "<IPython.core.display.HTML object>"
      ]
     },
     "metadata": {},
     "output_type": "display_data"
    }
   ],
   "source": [
    "from IPython.display import display, HTML\n",
    "display(HTML(\"<style>.container {width:95% !important; }</style>\"))"
   ]
  },
  {
   "cell_type": "markdown",
   "metadata": {},
   "source": [
    "I will try to demonstrate how you can handle a 10 GB numpy array dataset in an efficient way. "
   ]
  },
  {
   "cell_type": "markdown",
   "metadata": {},
   "source": [
    "## Create and save a larger than memory array"
   ]
  },
  {
   "cell_type": "markdown",
   "metadata": {},
   "source": [
    "I will now create a large numpy array that doesn't fit in memory. \n",
    "Since I don't have enough RAM, I'll create an empty array on disk, and then load data in chunks that fit in memory.\n",
    "\n",
    "⚠️ If you want to to experiment with large datasets, you may uncomment and run this code. **It will create a ~10GB on your disk**. \n",
    "If you do it, remember to delete it later.\n",
    "In my laptop it took me around **11 mins to run.**"
   ]
  },
  {
   "cell_type": "code",
   "execution_count": 3,
   "metadata": {
    "ExecuteTime": {
     "end_time": "2020-04-02T07:28:18.298039Z",
     "start_time": "2020-04-02T07:28:18.290884Z"
    }
   },
   "outputs": [],
   "source": [
    "# # Save a small empty array\n",
    "# X_temp_fn = './data/temp_X.npy'\n",
    "# np.save(X_temp_fn, np.empty(1))\n",
    "\n",
    "# # Create a np.memmap with desired dtypes and shape of the large array you want to save.\n",
    "# # It's just a placeholder that doesn't contain any data\n",
    "# X_fn = './data/X_on_disk.npy'\n",
    "# X = np.memmap(X_temp_fn, dtype='float32', shape=(100000, 50, 512))\n",
    "\n",
    "# # We are going to create a loop to fill in the np.memmap\n",
    "# start = 0\n",
    "# for i in range(20):\n",
    "#     # You now grab a chunk of your data that fits in memory\n",
    "#     # This could come from a pandas dataframe for example\n",
    "#     # I will simulate it with some random data\n",
    "#     data_chunk = np.random.rand(5000, 50, 512)\n",
    "#     end = start + data_chunk.shape[0]\n",
    "    \n",
    "#     # I now fill a slice of the np.memmap\n",
    "#     X[start:end] = data_chunk\n",
    "    \n",
    "#     start = end\n",
    "#     del data_chunk\n",
    "\n",
    "# #I can now remove the temp file I created\n",
    "# os.remove(X_temp_fn)\n",
    "\n",
    "# # Once the data is loaded on the np.memmap, I save it as a normal np.array\n",
    "# np.save(X_fn, X)\n",
    "\n",
    "# # I will create a smaller array. Sinc this fits in memory, I don't need to use a memmap\n",
    "# y_fn = 'y_on_disk.npy'\n",
    "# y = np.random.randint(0, 10, X.shape[0])\n",
    "# labels = np.array(['a', 'b', 'c', 'd', 'e', 'f', 'g', 'h', 'i', 'j'])\n",
    "# np.save(y_fn, labels[y])\n",
    "\n",
    "# del X, y"
   ]
  },
  {
   "cell_type": "markdown",
   "metadata": {},
   "source": [
    "Ok. So let's check the size of these files on memory."
   ]
  },
  {
   "cell_type": "code",
   "execution_count": 4,
   "metadata": {
    "ExecuteTime": {
     "end_time": "2020-04-02T07:28:18.314647Z",
     "start_time": "2020-04-02T07:28:18.304242Z"
    }
   },
   "outputs": [
    {
     "name": "stdout",
     "output_type": "stream",
     "text": [
      "X array:  10240000128 bytes (9.540 GB)\n",
      "y array:       400128 bytes (0.000 GB)\n"
     ]
    }
   ],
   "source": [
    "print(f'X array: {os.path.getsize(\"./data/X_on_disk.npy\"):12} bytes ({bytes2GB(os.path.getsize(\"./data/X_on_disk.npy\")):3.3f} GB)')\n",
    "print(f'y array: {os.path.getsize(\"./data/y_on_disk.npy\"):12} bytes ({bytes2GB(os.path.getsize(\"./data/y_on_disk.npy\")):3.3f} GB)')"
   ]
  },
  {
   "cell_type": "markdown",
   "metadata": {},
   "source": [
    "## Load an array on disk (np.memmap)"
   ]
  },
  {
   "cell_type": "markdown",
   "metadata": {},
   "source": [
    "Remember I only have an 8 GB RAM on this laptop, so I couldn't load these datasets in memory.\n",
    "\n",
    "☣️ Actually I accidentally loaded the \"X_on_disk.npy\" file, and my laptop crahsed so I had to reboot it!\n",
    "\n",
    "So let's now load data as arrays on disk (np.memmap). The way to do it is super simple, and very efficient. You just do it as you would with a normal array, but add an mmap_mode.\n",
    "\n",
    "There are 4 modes: \n",
    "\n",
    "- ‘r’\tOpen existing file for reading only.\n",
    "- ‘r+’\tOpen existing file for reading and writing.\n",
    "- ‘w+’\tCreate or overwrite existing file for reading and writing.\n",
    "- ‘c’\tCopy-on-write: assignments affect data in memory, but changes are not saved to disk. The file on disk is read-only.\n",
    "\n",
    "I normally use mode 'r' since I want to be able to make changes to data in memory (transforms for example), without affecting data on disk (same approach as with image data). This is the same thing you do with image files on disk, that are just read, and then modified in memory, without change the file on disk."
   ]
  },
  {
   "cell_type": "code",
   "execution_count": 92,
   "metadata": {
    "ExecuteTime": {
     "end_time": "2020-04-02T07:59:11.893860Z",
     "start_time": "2020-04-02T07:59:03.991368Z"
    }
   },
   "outputs": [
    {
     "data": {
      "text/plain": [
       "(10000, 50, 512)"
      ]
     },
     "execution_count": 92,
     "metadata": {},
     "output_type": "execute_result"
    }
   ],
   "source": [
    "X_in_memory = np.load('./data/X_on_disk_small.npy')\n",
    "# y_in_memory = np.load('./data/y_on_disk_small.npy')\n",
    "y_in_memory = np.random.randint(0, 10, len(X_in_memory))\n",
    "X_in_memory_items = itemify(X_in_memory)\n",
    "Xy_in_memory_items = itemify(X_in_memory, y_in_memory)\n",
    "X_in_memory.shape"
   ]
  },
  {
   "cell_type": "code",
   "execution_count": 460,
   "metadata": {
    "ExecuteTime": {
     "end_time": "2020-04-02T10:42:00.164475Z",
     "start_time": "2020-04-02T10:41:59.818073Z"
    }
   },
   "outputs": [
    {
     "data": {
      "text/plain": [
       "((8236, 1, 1024), dtype('float32'))"
      ]
     },
     "execution_count": 460,
     "metadata": {},
     "output_type": "execute_result"
    }
   ],
   "source": [
    "X_in_memory = np.random.rand(8236, 1, 1024).astype('float32')\n",
    "y_in_memory = np.random.randint(0, 10, len(X_in_memory))\n",
    "X_in_memory_items = itemify(X_in_memory)\n",
    "Xy_in_memory_items = itemify(X_in_memory, y_in_memory)\n",
    "X_in_memory.shape, X_in_memory.dtype"
   ]
  },
  {
   "cell_type": "code",
   "execution_count": 91,
   "metadata": {
    "ExecuteTime": {
     "end_time": "2020-04-02T07:58:40.714291Z",
     "start_time": "2020-04-02T07:58:40.412929Z"
    }
   },
   "outputs": [
    {
     "data": {
      "text/plain": [
       "(10000, 50, 512)"
      ]
     },
     "execution_count": 91,
     "metadata": {},
     "output_type": "execute_result"
    }
   ],
   "source": [
    "X_on_disk = np.load('./data/X_on_disk_small.npy', mmap_mode='r')\n",
    "# y_on_disk = np.load('./data/y_on_disk_small.npy', mmap_mode='r')\n",
    "y_on_disk = np.random.randint(0, 10, len(X_on_disk))\n",
    "X_on_disk_items = itemify(X_on_disk)\n",
    "Xy_on_disk_items = itemify(X_on_disk, y_on_disk)\n",
    "X_on_disk.shape"
   ]
  },
  {
   "cell_type": "code",
   "execution_count": 461,
   "metadata": {
    "ExecuteTime": {
     "end_time": "2020-04-02T10:42:06.107222Z",
     "start_time": "2020-04-02T10:42:06.090772Z"
    }
   },
   "outputs": [],
   "source": [
    "bs = 128\n",
    "idx = np.random.randint(len(X_in_memory), size=bs)\n",
    "index = np.random.permutation(np.arange(len(X_in_memory)))\n",
    "splits = L([index[:7000], index[7000:]])\n",
    "train_idx = np.random.randint(len(splits[0]), size=bs)\n",
    "valid_idx = np.random.randint(len(splits[1]), size=bs)"
   ]
  },
  {
   "cell_type": "code",
   "execution_count": 187,
   "metadata": {
    "ExecuteTime": {
     "end_time": "2020-04-02T08:39:37.604200Z",
     "start_time": "2020-04-02T08:39:37.583811Z"
    }
   },
   "outputs": [
    {
     "data": {
      "text/plain": [
       "(torch.Size([128, 1, 1024]), (128,))"
      ]
     },
     "execution_count": 187,
     "metadata": {},
     "output_type": "execute_result"
    }
   ],
   "source": [
    "def create_batch_from_items(items, idx):\n",
    "    return ([torch.from_numpy(np.stack(tl)) if i == 0 else np.stack(tl) \n",
    "                  for i,tl in enumerate(zip(*items[idx]))])\n",
    "\n",
    "xb, yb = create_batch_from_items(Xy_in_memory_items, idx=idx)\n",
    "xb.shape, yb.shape"
   ]
  },
  {
   "cell_type": "code",
   "execution_count": 196,
   "metadata": {
    "ExecuteTime": {
     "end_time": "2020-04-02T08:44:27.471882Z",
     "start_time": "2020-04-02T08:44:27.445982Z"
    }
   },
   "outputs": [
    {
     "data": {
      "text/plain": [
       "(torch.Size([128, 1, 1024]), (128,))"
      ]
     },
     "execution_count": 196,
     "metadata": {},
     "output_type": "execute_result"
    }
   ],
   "source": [
    "def create_batch_from_items2(items, idx):\n",
    "    res = items[idx]\n",
    "    return ([torch.from_numpy(np.stack(tl)) if i == 0 else np.stack(tl) \n",
    "                  for i,tl in enumerate(list(zip(*res)))])\n",
    "\n",
    "xb, yb = create_batch_from_items2(Xy_in_memory_items, idx=idx)\n",
    "xb.shape, yb.shape"
   ]
  },
  {
   "cell_type": "code",
   "execution_count": 188,
   "metadata": {
    "ExecuteTime": {
     "end_time": "2020-04-02T08:40:08.591260Z",
     "start_time": "2020-04-02T08:40:08.572743Z"
    }
   },
   "outputs": [
    {
     "data": {
      "text/plain": [
       "(torch.Size([128, 1, 1024]), (128,))"
      ]
     },
     "execution_count": 188,
     "metadata": {},
     "output_type": "execute_result"
    }
   ],
   "source": [
    "def create_batch_from_arrays(os, idx=None):\n",
    "    return ([torch.as_tensor(o[idx]) if i == 0 else o[idx] for i,o in enumerate(os)])\n",
    "\n",
    "xb, yb = create_batch_from_arrays((X_in_memory, y_in_memory), idx=idx)\n",
    "xb.shape, yb.shape"
   ]
  },
  {
   "cell_type": "code",
   "execution_count": 189,
   "metadata": {
    "ExecuteTime": {
     "end_time": "2020-04-02T08:40:38.308868Z",
     "start_time": "2020-04-02T08:40:22.779895Z"
    }
   },
   "outputs": [
    {
     "name": "stdout",
     "output_type": "stream",
     "text": [
      "1.93 ms ± 72.3 µs per loop (mean ± std. dev. of 7 runs, 1000 loops each)\n"
     ]
    }
   ],
   "source": [
    "%timeit create_batch_from_items(Xy_in_memory_items, idx)"
   ]
  },
  {
   "cell_type": "code",
   "execution_count": 197,
   "metadata": {
    "ExecuteTime": {
     "end_time": "2020-04-02T08:44:57.439754Z",
     "start_time": "2020-04-02T08:44:42.667712Z"
    }
   },
   "outputs": [
    {
     "name": "stdout",
     "output_type": "stream",
     "text": [
      "1.82 ms ± 21.7 µs per loop (mean ± std. dev. of 7 runs, 1000 loops each)\n"
     ]
    }
   ],
   "source": [
    "%timeit create_batch_from_items2(Xy_in_memory_items, idx)"
   ]
  },
  {
   "cell_type": "code",
   "execution_count": 190,
   "metadata": {
    "ExecuteTime": {
     "end_time": "2020-04-02T08:40:42.545365Z",
     "start_time": "2020-04-02T08:40:40.323319Z"
    }
   },
   "outputs": [
    {
     "name": "stdout",
     "output_type": "stream",
     "text": [
      "269 µs ± 2.64 µs per loop (mean ± std. dev. of 7 runs, 1000 loops each)\n"
     ]
    }
   ],
   "source": [
    "%timeit create_batch_from_arrays((X_in_memory, y_in_memory), idx=idx)"
   ]
  },
  {
   "cell_type": "code",
   "execution_count": 171,
   "metadata": {
    "ExecuteTime": {
     "end_time": "2020-04-02T08:33:55.685878Z",
     "start_time": "2020-04-02T08:33:54.810621Z"
    }
   },
   "outputs": [
    {
     "name": "stdout",
     "output_type": "stream",
     "text": [
      "17.8 ms ± 352 µs per loop (mean ± std. dev. of 7 runs, 1 loop each)\n"
     ]
    }
   ],
   "source": [
    "%timeit create_batch_from_items(Xy_on_disk_items, idx)"
   ]
  },
  {
   "cell_type": "code",
   "execution_count": 173,
   "metadata": {
    "ExecuteTime": {
     "end_time": "2020-04-02T08:34:17.711596Z",
     "start_time": "2020-04-02T08:34:06.712677Z"
    }
   },
   "outputs": [
    {
     "name": "stdout",
     "output_type": "stream",
     "text": [
      "13.5 ms ± 158 µs per loop (mean ± std. dev. of 7 runs, 100 loops each)\n"
     ]
    }
   ],
   "source": [
    "%timeit create_batch_from_arrays((X_on_disk, y_on_disk), idx=idx)"
   ]
  },
  {
   "cell_type": "code",
   "execution_count": null,
   "metadata": {},
   "outputs": [],
   "source": []
  },
  {
   "cell_type": "code",
   "execution_count": 103,
   "metadata": {
    "ExecuteTime": {
     "end_time": "2020-04-02T08:01:49.050540Z",
     "start_time": "2020-04-02T08:01:47.062162Z"
    }
   },
   "outputs": [
    {
     "name": "stdout",
     "output_type": "stream",
     "text": [
      "23.7 ms ± 68.9 µs per loop (mean ± std. dev. of 7 runs, 10 loops each)\n"
     ]
    }
   ],
   "source": [
    "%timeit (torch.from_numpy(X_in_memory[idx]), torch.from_numpy(y_in_memory[idx]))"
   ]
  },
  {
   "cell_type": "code",
   "execution_count": 104,
   "metadata": {
    "ExecuteTime": {
     "end_time": "2020-04-02T08:02:29.535905Z",
     "start_time": "2020-04-02T08:02:27.176542Z"
    }
   },
   "outputs": [
    {
     "name": "stdout",
     "output_type": "stream",
     "text": [
      "26.3 ms ± 663 µs per loop (mean ± std. dev. of 7 runs, 10 loops each)\n"
     ]
    }
   ],
   "source": [
    "%timeit (torch.from_numpy(X_on_disk[idx]), torch.from_numpy(y_on_disk[idx]))"
   ]
  },
  {
   "cell_type": "code",
   "execution_count": 537,
   "metadata": {
    "ExecuteTime": {
     "end_time": "2020-04-02T15:32:10.055686Z",
     "start_time": "2020-04-02T15:32:10.000371Z"
    }
   },
   "outputs": [],
   "source": [
    "class NumpyDatasets2():\n",
    "    def __init__(self, X, y=None, sel_vars=None, sel_steps=None, splits=None, split=None, split_idx=None, **kwargs):\n",
    "        self.X,self.y,self.splits,self.split = X,y,splits,split\n",
    "        self.sel_vars =  slice(None) if sel_vars is None else sel_vars\n",
    "        self.sel_steps =  slice(None) if sel_steps is None else sel_steps\n",
    "        \n",
    "    def __getitem__(self, idx):\n",
    "        if self.split is not None: idx = self.split[idx] \n",
    "        if self.y is None: return (self.X[idx, self.sel_vars, self.sel_steps], )\n",
    "        else:  return (self.X[idx, self.sel_vars, self.sel_steps], self.y[idx])\n",
    "\n",
    "    def __len__(self):\n",
    "        return len(self.X) if self.split is None else len(self.split)\n",
    "    \n",
    "    def subset(self, i): \n",
    "        if self.splits is None: self.splits = [np.arange(len(self.X))]\n",
    "        return type(self)(X=self.X, y=self.y, sel_vars=self.sel_vars, \n",
    "                          sel_steps=self.sel_steps, split=self.splits[i], split_idx=i)\n",
    "    \n",
    "    def __repr__(self): return coll_repr(self)\n",
    "    \n",
    "    @property\n",
    "    def train(self): return self.subset(0)\n",
    "    \n",
    "    @property\n",
    "    def valid(self): return self.subset(1)\n",
    "    \n",
    "    \n",
    "class TSDatasets2(NumpyDatasets2):\n",
    "    def __getitem__(self, idx):\n",
    "        if self.split is not None: idx = self.split[idx] \n",
    "        if self.y is None: return (torch.as_tensor(self.X[idx, self.sel_vars, self.sel_steps]), )\n",
    "        else:  return (torch.as_tensor(self.X[idx, self.sel_vars, self.sel_steps]), self.y[idx])\n",
    "        \n",
    "    \n",
    "class TSDataLoader(TfmdDL):\n",
    "    do_item = noops\n",
    "    def __init__(self, dataset, num_workers=0, **kwargs):\n",
    "        super().__init__(dataset, num_workers=num_workers, **kwargs)\n",
    "    def create_batch(self, b): return self.dataset[b]"
   ]
  },
  {
   "cell_type": "code",
   "execution_count": 538,
   "metadata": {
    "ExecuteTime": {
     "end_time": "2020-04-02T15:32:13.750621Z",
     "start_time": "2020-04-02T15:32:13.701974Z"
    }
   },
   "outputs": [
    {
     "data": {
      "text/plain": [
       "(8236, torch.Size([128, 1, 1024]), (128,))"
      ]
     },
     "execution_count": 538,
     "metadata": {},
     "output_type": "execute_result"
    }
   ],
   "source": [
    "dsets = TSDatasets2(X_in_memory, y_in_memory)\n",
    "train_ds = dsets.train\n",
    "xb, yb = train_ds[train_idx]\n",
    "len(train_ds), xb.shape, yb.shape"
   ]
  },
  {
   "cell_type": "code",
   "execution_count": 528,
   "metadata": {
    "ExecuteTime": {
     "end_time": "2020-04-02T11:12:00.355995Z",
     "start_time": "2020-04-02T11:12:00.341054Z"
    }
   },
   "outputs": [
    {
     "data": {
      "text/plain": [
       "65"
      ]
     },
     "execution_count": 528,
     "metadata": {},
     "output_type": "execute_result"
    }
   ],
   "source": [
    "len(list(chunked(np.arange(len(train_ds)), 128)))"
   ]
  },
  {
   "cell_type": "code",
   "execution_count": 533,
   "metadata": {
    "ExecuteTime": {
     "end_time": "2020-04-02T11:16:23.725792Z",
     "start_time": "2020-04-02T11:16:23.693403Z"
    }
   },
   "outputs": [],
   "source": [
    "chunks = chunked(np.arange(len(ds)), 128)\n",
    "\n",
    "def cycle_ds(ds, chunks=None):\n",
    "    if chunks is None: chunks = chunked(np.arange(len(ds)), 128)\n",
    "    for idx in chunks:\n",
    "        _ = ds[idx]\n",
    "        \n",
    "cycle_ds(train_ds, chunks)"
   ]
  },
  {
   "cell_type": "code",
   "execution_count": 534,
   "metadata": {
    "ExecuteTime": {
     "end_time": "2020-04-02T11:16:33.681904Z",
     "start_time": "2020-04-02T11:16:29.842153Z"
    }
   },
   "outputs": [
    {
     "name": "stdout",
     "output_type": "stream",
     "text": [
      "470 ns ± 4.4 ns per loop (mean ± std. dev. of 7 runs, 1000000 loops each)\n"
     ]
    }
   ],
   "source": [
    "%timeit cycle_ds(train_ds, chunks)"
   ]
  },
  {
   "cell_type": "code",
   "execution_count": 516,
   "metadata": {
    "ExecuteTime": {
     "end_time": "2020-04-02T11:02:03.632873Z",
     "start_time": "2020-04-02T11:01:49.555007Z"
    }
   },
   "outputs": [
    {
     "name": "stdout",
     "output_type": "stream",
     "text": [
      "173 µs ± 3.51 µs per loop (mean ± std. dev. of 7 runs, 10000 loops each)\n"
     ]
    }
   ],
   "source": [
    "%timeit train_ds[train_idx]"
   ]
  },
  {
   "cell_type": "code",
   "execution_count": 512,
   "metadata": {
    "ExecuteTime": {
     "end_time": "2020-04-02T10:58:58.968750Z",
     "start_time": "2020-04-02T10:58:58.929352Z"
    }
   },
   "outputs": [
    {
     "data": {
      "text/plain": [
       "(tensor([[[0.7893, 0.4066, 0.8080,  ..., 0.8776, 0.5709, 0.0694]],\n",
       " \n",
       "         [[0.5133, 0.8600, 0.1148,  ..., 0.3096, 0.3210, 0.0861]],\n",
       " \n",
       "         [[0.2545, 0.5694, 0.1404,  ..., 0.8457, 0.4543, 0.6036]],\n",
       " \n",
       "         ...,\n",
       " \n",
       "         [[0.7951, 0.9280, 0.0888,  ..., 0.4516, 0.9465, 0.3413]],\n",
       " \n",
       "         [[0.2978, 0.1751, 0.2217,  ..., 0.0978, 0.3504, 0.3807]],\n",
       " \n",
       "         [[0.7931, 0.8853, 0.3646,  ..., 0.7148, 0.1426, 0.8407]]]),\n",
       " tensor([2, 4, 3, 8, 8, 1, 6, 2, 2, 3, 0, 1, 2, 0, 7, 6, 1, 5, 9, 6, 3, 2, 1, 3,\n",
       "         7, 5, 6, 9, 9, 7, 4, 4, 3, 9, 3, 3, 2, 5, 3, 5, 5, 8, 4, 5, 7, 8, 1, 2,\n",
       "         2, 0, 1, 1, 7, 9, 8, 0, 3, 1, 0, 9, 5, 6, 4, 0, 3, 9, 7, 1, 1, 2, 8, 4,\n",
       "         2, 6, 7, 3, 9, 9, 1, 8, 5, 0, 8, 1, 6, 6, 0, 6, 2, 7, 8, 7, 4, 1, 2, 3,\n",
       "         2, 2, 0, 0, 3, 4, 8, 1, 7, 0, 6, 0, 5, 4, 5, 9, 1, 0, 1, 9, 7, 2, 3, 1,\n",
       "         4, 8, 0, 6, 6, 5, 3, 6]))"
      ]
     },
     "execution_count": 512,
     "metadata": {},
     "output_type": "execute_result"
    }
   ],
   "source": [
    "train_dl = torch.utils.data.DataLoader(dataset=dsets.train, batch_size=128)\n",
    "xb,yb = next(iter(train_dl))\n",
    "xb, yb"
   ]
  },
  {
   "cell_type": "code",
   "execution_count": 497,
   "metadata": {
    "ExecuteTime": {
     "end_time": "2020-04-02T10:52:49.075004Z",
     "start_time": "2020-04-02T10:52:47.056444Z"
    }
   },
   "outputs": [
    {
     "name": "stdout",
     "output_type": "stream",
     "text": [
      "247 ms ± 1.69 ms per loop (mean ± std. dev. of 7 runs, 1 loop each)\n"
     ]
    }
   ],
   "source": [
    "%timeit cycle_dl(train_dl)"
   ]
  },
  {
   "cell_type": "code",
   "execution_count": 517,
   "metadata": {
    "ExecuteTime": {
     "end_time": "2020-04-02T11:02:19.865478Z",
     "start_time": "2020-04-02T11:02:19.842421Z"
    }
   },
   "outputs": [
    {
     "data": {
      "text/plain": [
       "(tensor([[[0.7893, 0.4066, 0.8080,  ..., 0.8776, 0.5709, 0.0694]],\n",
       " \n",
       "         [[0.5133, 0.8600, 0.1148,  ..., 0.3096, 0.3210, 0.0861]],\n",
       " \n",
       "         [[0.2545, 0.5694, 0.1404,  ..., 0.8457, 0.4543, 0.6036]],\n",
       " \n",
       "         ...,\n",
       " \n",
       "         [[0.7951, 0.9280, 0.0888,  ..., 0.4516, 0.9465, 0.3413]],\n",
       " \n",
       "         [[0.2978, 0.1751, 0.2217,  ..., 0.0978, 0.3504, 0.3807]],\n",
       " \n",
       "         [[0.7931, 0.8853, 0.3646,  ..., 0.7148, 0.1426, 0.8407]]]),\n",
       " array([2, 4, 3, 8, 8, 1, 6, 2, 2, 3, 0, 1, 2, 0, 7, 6, 1, 5, 9, 6, 3, 2,\n",
       "        1, 3, 7, 5, 6, 9, 9, 7, 4, 4, 3, 9, 3, 3, 2, 5, 3, 5, 5, 8, 4, 5,\n",
       "        7, 8, 1, 2, 2, 0, 1, 1, 7, 9, 8, 0, 3, 1, 0, 9, 5, 6, 4, 0, 3, 9,\n",
       "        7, 1, 1, 2, 8, 4, 2, 6, 7, 3, 9, 9, 1, 8, 5, 0, 8, 1, 6, 6, 0, 6,\n",
       "        2, 7, 8, 7, 4, 1, 2, 3, 2, 2, 0, 0, 3, 4, 8, 1, 7, 0, 6, 0, 5, 4,\n",
       "        5, 9, 1, 0, 1, 9, 7, 2, 3, 1, 4, 8, 0, 6, 6, 5, 3, 6]))"
      ]
     },
     "execution_count": 517,
     "metadata": {},
     "output_type": "execute_result"
    }
   ],
   "source": [
    "train_dl = TSDataLoader(dsets.train, bs=128, shuffle=False)\n",
    "xb, yb = next(iter(train_dl))\n",
    "xb, yb"
   ]
  },
  {
   "cell_type": "code",
   "execution_count": 518,
   "metadata": {
    "ExecuteTime": {
     "end_time": "2020-04-02T11:02:39.544337Z",
     "start_time": "2020-04-02T11:02:33.637464Z"
    }
   },
   "outputs": [
    {
     "name": "stdout",
     "output_type": "stream",
     "text": [
      "72.5 ms ± 798 µs per loop (mean ± std. dev. of 7 runs, 10 loops each)\n"
     ]
    }
   ],
   "source": [
    "%timeit cycle_dl(train_dl)"
   ]
  },
  {
   "cell_type": "code",
   "execution_count": 347,
   "metadata": {
    "ExecuteTime": {
     "end_time": "2020-04-02T10:06:10.405099Z",
     "start_time": "2020-04-02T10:06:10.386705Z"
    }
   },
   "outputs": [
    {
     "data": {
      "text/plain": [
       "(tensor([[[0.9056, 0.2924, 0.7631,  ..., 0.5925, 0.3613, 0.3369]],\n",
       " \n",
       "         [[0.2004, 0.7806, 0.2996,  ..., 0.3589, 0.7574, 0.3505]]]),\n",
       " array([0, 0]))"
      ]
     },
     "execution_count": 347,
     "metadata": {},
     "output_type": "execute_result"
    }
   ],
   "source": [
    "train_ds[0, 1]"
   ]
  },
  {
   "cell_type": "code",
   "execution_count": 351,
   "metadata": {
    "ExecuteTime": {
     "end_time": "2020-04-02T10:08:12.887056Z",
     "start_time": "2020-04-02T10:08:10.824369Z"
    }
   },
   "outputs": [
    {
     "name": "stdout",
     "output_type": "stream",
     "text": [
      "250 µs ± 2.01 µs per loop (mean ± std. dev. of 7 runs, 1000 loops each)\n"
     ]
    }
   ],
   "source": [
    "%timeit train_ds[train_idx]"
   ]
  },
  {
   "cell_type": "code",
   "execution_count": 550,
   "metadata": {
    "ExecuteTime": {
     "end_time": "2020-04-02T15:36:08.749354Z",
     "start_time": "2020-04-02T15:36:08.665906Z"
    }
   },
   "outputs": [],
   "source": [
    "class NumpyDatasets(FilteredBase):\n",
    "    \"A dataset that creates a tuple from each `tfms`, passed thru `item_tfms`\"\n",
    "    def __init__(self, X=None, y=None, items=None, tfms=None, tls=None, n_inp=None, dl_type=None, preprocess=False, **kwargs):\n",
    "        super().__init__(dl_type=dl_type)\n",
    "\n",
    "        #New 4 lines of code\n",
    "        if tls is None:\n",
    "            if items is None: items = itemify(X,) if y is None else itemify(X,y)\n",
    "            assert (tfms is None or len(items[0]) == len(tfms)), f\"n_tfms ({len(tfms)}) doesn't match n_items ({len(items[0])})\"\n",
    "            tfms = None if tfms is None else [[ItemGetter(i)] + L(tfms[i]) for i in range(len(items[0]))]\n",
    "        \n",
    "        self.tls = L(tls if tls else [TfmdLists(items, t, **kwargs) for t in L(ifnone(tfms,[None]))])\n",
    "        self.n_inp = (1 if len(self.tls)==1 else len(self.tls)-1) if n_inp is None else n_inp\n",
    "        \n",
    "        if preprocess: self.ptls = itemify([tl[:] for tl in self.tls])\n",
    "        else: self.ptls = self.tls\n",
    "        self.preprocess = preprocess\n",
    "\n",
    "    def __getitem__(self, it):\n",
    "        if self.preprocess: res = self.ptls[it]\n",
    "        else: res = tuple([tl[it] for tl in self.tls])\n",
    "        return res if is_indexer(it) else list(zip(*res))\n",
    "\n",
    "    def __getattr__(self,k): return gather_attrs(self, k, 'tls')\n",
    "    def __dir__(self): return super().__dir__() + gather_attr_names(self, 'tls')\n",
    "    def __len__(self): return len(self.tls[0])\n",
    "    def __iter__(self): return (self[i] for i in range(len(self)))\n",
    "    def __repr__(self): return coll_repr(self)\n",
    "    def decode(self, o, full=True): return tuple(tl.decode(o_, full=full) for o_,tl in zip(o,tuplify(self.tls, match=o)))\n",
    "    def subset(self, i): return type(self)(tls=L(tl.subset(i) for tl in self.tls), n_inp=self.n_inp, preprocess=self.preprocess)\n",
    "    def _new(self, *args, X=None, y=None, items=None, **kwargs): return super()._new(X=X, y=y, items=items, tfms=self.tfms, \n",
    "                                                                                     do_setup=False, **kwargs)\n",
    "    def overlapping_splits(self): return self.tls[0].overlapping_splits()\n",
    "    @property\n",
    "    def splits(self): return self.tls[0].splits\n",
    "    @property\n",
    "    def split_idx(self): return self.tls[0].tfms.split_idx\n",
    "    @property\n",
    "    def items(self): return self.tls[0].items\n",
    "    @items.setter\n",
    "    def items(self, v):\n",
    "        for tl in self.tls: tl.items = v\n",
    "\n",
    "    def show(self, o, ctx=None, **kwargs):\n",
    "        for o_,tl in zip(o,self.tls): ctx = tl.show(o_, ctx=ctx, **kwargs)\n",
    "        return ctx\n",
    "\n",
    "    def new_empty(self):\n",
    "        tls = [tl._new([], split_idx=tl.split_idx) for tl in self.tls]\n",
    "        return type(self)(tls=tls, n_inp=self.n_inp)\n",
    "\n",
    "    @contextmanager\n",
    "    def set_split_idx(self, i):\n",
    "        old_split_idx = self.split_idx\n",
    "        for tl in self.tls: tl.tfms.split_idx = i\n",
    "        yield self\n",
    "        for tl in self.tls: tl.tfms.split_idx = old_split_idx"
   ]
  },
  {
   "cell_type": "code",
   "execution_count": 551,
   "metadata": {
    "ExecuteTime": {
     "end_time": "2020-04-02T15:36:09.670591Z",
     "start_time": "2020-04-02T15:36:09.572886Z"
    }
   },
   "outputs": [],
   "source": [
    "dsets = NumpyDatasets(X_in_memory, y_in_memory)\n",
    "train_ds = dsets.train\n",
    "o = train_ds[train_idx]"
   ]
  },
  {
   "cell_type": "code",
   "execution_count": 568,
   "metadata": {
    "ExecuteTime": {
     "end_time": "2020-04-02T15:42:09.176503Z",
     "start_time": "2020-04-02T15:42:05.783644Z"
    }
   },
   "outputs": [
    {
     "data": {
      "text/plain": [
       "TensorCategory(2)"
      ]
     },
     "execution_count": 568,
     "metadata": {},
     "output_type": "execute_result"
    }
   ],
   "source": [
    "tuple(TfmdLists(y_in_memory, Categorize())[:])"
   ]
  },
  {
   "cell_type": "code",
   "execution_count": 698,
   "metadata": {
    "ExecuteTime": {
     "end_time": "2020-04-02T18:38:17.745868Z",
     "start_time": "2020-04-02T18:38:17.652277Z"
    }
   },
   "outputs": [],
   "source": [
    "Normalize??"
   ]
  },
  {
   "cell_type": "code",
   "execution_count": 697,
   "metadata": {
    "ExecuteTime": {
     "end_time": "2020-04-02T18:38:10.309848Z",
     "start_time": "2020-04-02T18:38:10.195009Z"
    }
   },
   "outputs": [
    {
     "data": {
      "text/plain": [
       "(TSTensor(samples:128, vars:50, len:512),\n",
       " tensor([[0.8820, 0.6734, 0.8180,  ..., 0.5689, 0.2792, 0.3668],\n",
       "         [0.8213, 0.7132, 0.9676,  ..., 0.9788, 0.7889, 0.8886],\n",
       "         [0.2028, 0.8744, 0.6563,  ..., 0.7629, 0.6458, 0.9421],\n",
       "         ...,\n",
       "         [0.0130, 0.0788, 0.3215,  ..., 0.8222, 0.0345, 0.8217],\n",
       "         [0.1284, 0.9962, 0.1713,  ..., 0.7226, 0.0071, 0.8336],\n",
       "         [0.3945, 0.9712, 0.1988,  ..., 0.5232, 0.1200, 0.4968]]),\n",
       " tensor([[0.8820, 0.6734, 0.8180,  ..., 0.5689, 0.2792, 0.3668],\n",
       "         [0.8213, 0.7132, 0.9676,  ..., 0.9788, 0.7889, 0.8886],\n",
       "         [0.2028, 0.8744, 0.6563,  ..., 0.7629, 0.6458, 0.9421],\n",
       "         ...,\n",
       "         [0.0130, 0.0788, 0.3215,  ..., 0.8222, 0.0345, 0.8217],\n",
       "         [0.1284, 0.9962, 0.1713,  ..., 0.7226, 0.0071, 0.8336],\n",
       "         [0.3945, 0.9712, 0.1988,  ..., 0.5232, 0.1200, 0.4968]]))"
      ]
     },
     "execution_count": 697,
     "metadata": {},
     "output_type": "execute_result"
    }
   ],
   "source": [
    "idx "
   ]
  },
  {
   "cell_type": "code",
   "execution_count": 642,
   "metadata": {
    "ExecuteTime": {
     "end_time": "2020-04-02T16:37:51.362322Z",
     "start_time": "2020-04-02T16:37:51.350987Z"
    }
   },
   "outputs": [
    {
     "data": {
      "text/plain": [
       "TSTensor(samples:2, vars:1, len:1024)"
      ]
     },
     "execution_count": 642,
     "metadata": {},
     "output_type": "execute_result"
    }
   ],
   "source": [
    "TSTensor(X_in_memory[[0,1]])"
   ]
  },
  {
   "cell_type": "code",
   "execution_count": 668,
   "metadata": {
    "ExecuteTime": {
     "end_time": "2020-04-02T18:25:25.994486Z",
     "start_time": "2020-04-02T18:25:20.245355Z"
    }
   },
   "outputs": [
    {
     "ename": "IndexError",
     "evalue": "too many indices for tensor of dimension 1",
     "output_type": "error",
     "traceback": [
      "\u001b[0;31m---------------------------------------------------------------------------\u001b[0m",
      "\u001b[0;31mIndexError\u001b[0m                                Traceback (most recent call last)",
      "\u001b[0;32m<ipython-input-668-7c44b25ce870>\u001b[0m in \u001b[0;36m<module>\u001b[0;34m\u001b[0m\n\u001b[1;32m      4\u001b[0m \u001b[0mptl\u001b[0m \u001b[0;34m=\u001b[0m \u001b[0mtl\u001b[0m\u001b[0;34m[\u001b[0m\u001b[0;34m:\u001b[0m\u001b[0;34m]\u001b[0m\u001b[0;34m\u001b[0m\u001b[0;34m\u001b[0m\u001b[0m\n\u001b[1;32m      5\u001b[0m \u001b[0mres\u001b[0m \u001b[0;34m=\u001b[0m \u001b[0mretain_type\u001b[0m\u001b[0;34m(\u001b[0m\u001b[0mnp\u001b[0m\u001b[0;34m.\u001b[0m\u001b[0mstack\u001b[0m\u001b[0;34m(\u001b[0m\u001b[0mptl\u001b[0m\u001b[0;34m)\u001b[0m\u001b[0;34m,\u001b[0m \u001b[0mtyp\u001b[0m\u001b[0;34m=\u001b[0m\u001b[0mtype\u001b[0m\u001b[0;34m(\u001b[0m\u001b[0mptl\u001b[0m\u001b[0;34m[\u001b[0m\u001b[0;36m0\u001b[0m\u001b[0;34m]\u001b[0m\u001b[0;34m)\u001b[0m\u001b[0;34m)\u001b[0m\u001b[0;34m\u001b[0m\u001b[0;34m\u001b[0m\u001b[0m\n\u001b[0;32m----> 6\u001b[0;31m \u001b[0mtype\u001b[0m\u001b[0;34m(\u001b[0m\u001b[0mres\u001b[0m\u001b[0;34m)\u001b[0m\u001b[0;34m,\u001b[0m \u001b[0mres\u001b[0m\u001b[0;34m[\u001b[0m\u001b[0;34m[\u001b[0m\u001b[0;36m0\u001b[0m\u001b[0;34m,\u001b[0m\u001b[0;36m1\u001b[0m\u001b[0;34m]\u001b[0m\u001b[0;34m]\u001b[0m\u001b[0;34m,\u001b[0m \u001b[0mtl\u001b[0m\u001b[0;34m.\u001b[0m\u001b[0mdecode\u001b[0m\u001b[0;34m(\u001b[0m\u001b[0mres\u001b[0m\u001b[0;34m[\u001b[0m\u001b[0;36m0\u001b[0m\u001b[0;34m,\u001b[0m \u001b[0;36m1\u001b[0m\u001b[0;34m]\u001b[0m\u001b[0;34m)\u001b[0m\u001b[0;34m\u001b[0m\u001b[0;34m\u001b[0m\u001b[0m\n\u001b[0m",
      "\u001b[0;31mIndexError\u001b[0m: too many indices for tensor of dimension 1"
     ]
    }
   ],
   "source": [
    "y = y_in_memory\n",
    "tfms = [add(100), Categorize()]\n",
    "tl = TfmdLists(y, tfms)\n",
    "ptl = tl[:]\n",
    "ptl = retain_type(np.stack(ptl), typ=type(ptl[0]))\n",
    "res = ptl[:128]\n",
    "type(res), res[:128], tl.decode(res[:128])"
   ]
  },
  {
   "cell_type": "code",
   "execution_count": 670,
   "metadata": {
    "ExecuteTime": {
     "end_time": "2020-04-02T18:26:14.980060Z",
     "start_time": "2020-04-02T18:26:14.958559Z"
    }
   },
   "outputs": [
    {
     "data": {
      "text/plain": [
       "(fastai2.torch_core.TensorCategory,\n",
       " tensor([2, 4, 3, 8, 8, 1, 6, 2, 2, 3, 0, 1, 2, 0, 7, 6, 1, 5, 9, 6, 3, 2, 1, 3,\n",
       "         7, 5, 6, 9, 9, 7, 4, 4, 3, 9, 3, 3, 2, 5, 3, 5, 5, 8, 4, 5, 7, 8, 1, 2,\n",
       "         2, 0, 1, 1, 7, 9, 8, 0, 3, 1, 0, 9, 5, 6, 4, 0, 3, 9, 7, 1, 1, 2, 8, 4,\n",
       "         2, 6, 7, 3, 9, 9, 1, 8, 5, 0, 8, 1, 6, 6, 0, 6, 2, 7, 8, 7, 4, 1, 2, 3,\n",
       "         2, 2, 0, 0, 3, 4, 8, 1, 7, 0, 6, 0, 5, 4, 5, 9, 1, 0, 1, 9, 7, 2, 3, 1,\n",
       "         4, 8, 0, 6, 6, 5, 3, 6]),\n",
       " '(#128) [102,104,103,108,108,101,106,102,102,103...]')"
      ]
     },
     "execution_count": 670,
     "metadata": {},
     "output_type": "execute_result"
    }
   ],
   "source": [
    "type(res), res[:128], tl.decode(res[:128])"
   ]
  },
  {
   "cell_type": "code",
   "execution_count": 666,
   "metadata": {
    "ExecuteTime": {
     "end_time": "2020-04-02T18:23:52.727126Z",
     "start_time": "2020-04-02T18:23:52.714246Z"
    }
   },
   "outputs": [
    {
     "data": {
      "text/plain": [
       "(TensorCategory(2), TensorCategory(2))"
      ]
     },
     "execution_count": 666,
     "metadata": {},
     "output_type": "execute_result"
    }
   ],
   "source": [
    "ptl[0], tl[0]"
   ]
  },
  {
   "cell_type": "code",
   "execution_count": 587,
   "metadata": {
    "ExecuteTime": {
     "end_time": "2020-04-02T16:09:23.982645Z",
     "start_time": "2020-04-02T16:09:23.974452Z"
    }
   },
   "outputs": [],
   "source": [
    "class TensorCategory(TensorBase):\n",
    "    def __get_item__(o, idx): retain_type(o[idx])\n"
   ]
  },
  {
   "cell_type": "code",
   "execution_count": 580,
   "metadata": {
    "ExecuteTime": {
     "end_time": "2020-04-02T15:48:41.556331Z",
     "start_time": "2020-04-02T15:48:40.728231Z"
    }
   },
   "outputs": [
    {
     "data": {
      "image/png": "[encoded data removed]",
      "text/plain": [
       "<Figure size 432x288 with 1 Axes>"
      ]
     },
     "metadata": {
      "needs_background": "light"
     },
     "output_type": "display_data"
    }
   ],
   "source": [
    "plt.plot(X_in_memory[0].T);"
   ]
  },
  {
   "cell_type": "code",
   "execution_count": null,
   "metadata": {},
   "outputs": [],
   "source": []
  },
  {
   "cell_type": "code",
   "execution_count": null,
   "metadata": {},
   "outputs": [],
   "source": []
  },
  {
   "cell_type": "code",
   "execution_count": null,
   "metadata": {},
   "outputs": [],
   "source": []
  },
  {
   "cell_type": "code",
   "execution_count": 407,
   "metadata": {
    "ExecuteTime": {
     "end_time": "2020-04-02T10:25:00.457869Z",
     "start_time": "2020-04-02T10:25:00.423877Z"
    }
   },
   "outputs": [
    {
     "name": "stderr",
     "output_type": "stream",
     "text": [
      "ERROR:root:Internal Python error in the inspect module.\n",
      "Below is the traceback from this internal error.\n",
      "\n"
     ]
    },
    {
     "name": "stdout",
     "output_type": "stream",
     "text": [
      "Traceback (most recent call last):\n",
      "  File \"/Users/nacho/anaconda3/lib/python3.7/site-packages/IPython/core/interactiveshell.py\", line 3326, in run_code\n",
      "    exec(code_obj, self.user_global_ns, self.user_ns)\n",
      "  File \"<ipython-input-407-d3e06c743344>\", line 10, in <module>\n",
      "    xb, yb = next(iter(train_dl))\n",
      "  File \"/Users/nacho/anaconda3/lib/python3.7/site-packages/fastai2/data/load.py\", line 97, in __iter__\n",
      "    for b in _loaders[self.fake_l.num_workers==0](self.fake_l):\n",
      "  File \"/Users/nacho/anaconda3/lib/python3.7/site-packages/torch/utils/data/dataloader.py\", line 684, in __init__\n",
      "    self._worker_result_queue = multiprocessing_context.Queue()\n",
      "  File \"/Users/nacho/anaconda3/lib/python3.7/multiprocessing/context.py\", line 102, in Queue\n",
      "    return Queue(maxsize, ctx=self.get_context())\n",
      "  File \"/Users/nacho/anaconda3/lib/python3.7/multiprocessing/queues.py\", line 41, in __init__\n",
      "    self._reader, self._writer = connection.Pipe(duplex=False)\n",
      "  File \"/Users/nacho/anaconda3/lib/python3.7/multiprocessing/connection.py\", line 517, in Pipe\n",
      "    fd1, fd2 = os.pipe()\n",
      "OSError: [Errno 24] Too many open files\n",
      "\n",
      "During handling of the above exception, another exception occurred:\n",
      "\n",
      "Traceback (most recent call last):\n",
      "  File \"/Users/nacho/anaconda3/lib/python3.7/site-packages/IPython/core/interactiveshell.py\", line 2040, in showtraceback\n",
      "    stb = value._render_traceback_()\n",
      "AttributeError: 'OSError' object has no attribute '_render_traceback_'\n",
      "\n",
      "During handling of the above exception, another exception occurred:\n",
      "\n",
      "Traceback (most recent call last):\n",
      "  File \"/Users/nacho/anaconda3/lib/python3.7/site-packages/IPython/core/ultratb.py\", line 1101, in get_records\n",
      "    return _fixed_getinnerframes(etb, number_of_lines_of_context, tb_offset)\n",
      "  File \"/Users/nacho/anaconda3/lib/python3.7/site-packages/IPython/core/ultratb.py\", line 319, in wrapped\n",
      "    return f(*args, **kwargs)\n",
      "  File \"/Users/nacho/anaconda3/lib/python3.7/site-packages/IPython/core/ultratb.py\", line 353, in _fixed_getinnerframes\n",
      "    records = fix_frame_records_filenames(inspect.getinnerframes(etb, context))\n",
      "  File \"/Users/nacho/anaconda3/lib/python3.7/inspect.py\", line 1502, in getinnerframes\n",
      "    frameinfo = (tb.tb_frame,) + getframeinfo(tb, context)\n",
      "  File \"/Users/nacho/anaconda3/lib/python3.7/inspect.py\", line 1460, in getframeinfo\n",
      "    filename = getsourcefile(frame) or getfile(frame)\n",
      "  File \"/Users/nacho/anaconda3/lib/python3.7/inspect.py\", line 696, in getsourcefile\n",
      "    if getattr(getmodule(object, filename), '__loader__', None) is not None:\n",
      "  File \"/Users/nacho/anaconda3/lib/python3.7/inspect.py\", line 725, in getmodule\n",
      "    file = getabsfile(object, _filename)\n",
      "  File \"/Users/nacho/anaconda3/lib/python3.7/inspect.py\", line 709, in getabsfile\n",
      "    return os.path.normcase(os.path.abspath(_filename))\n",
      "  File \"/Users/nacho/anaconda3/lib/python3.7/posixpath.py\", line 383, in abspath\n",
      "    cwd = os.getcwd()\n",
      "OSError: [Errno 24] Too many open files\n"
     ]
    },
    {
     "ename": "OSError",
     "evalue": "[Errno 24] Too many open files",
     "output_type": "error",
     "traceback": [
      "\u001b[0;31m---------------------------------------------------------------------------\u001b[0m"
     ]
    }
   ],
   "source": [
    "class TSDataloader(TfmdDL):\n",
    "    do_item = noops\n",
    "    def __init__(self, dataset, bs=16, shuffle=False, after_batch=None, num_workers=0, **kwargs):\n",
    "        if after_batch is None: after_batch = L(TransformBlock().batch_tfms) + ReadTSBatch(dataset)\n",
    "        super().__init__(dataset, bs=bs, shuffle=shuffle, after_batch=after_batch, num_workers=num_workers, **kwargs)\n",
    "\n",
    "    def create_batch(self, b): return self.dataset[b]\n",
    "    \n",
    "train_dl = TSDataLoader(train_ds)\n",
    "xb, yb = next(iter(train_dl))"
   ]
  },
  {
   "cell_type": "code",
   "execution_count": null,
   "metadata": {},
   "outputs": [],
   "source": []
  },
  {
   "cell_type": "code",
   "execution_count": 479,
   "metadata": {
    "ExecuteTime": {
     "end_time": "2020-04-02T10:47:59.332172Z",
     "start_time": "2020-04-02T10:47:59.296002Z"
    }
   },
   "outputs": [],
   "source": [
    "class Slicer:\n",
    "    \"slice numpy ds\"\n",
    "    def __init__(self,to): self.to = to\n",
    "    def __getitem__(self, idxs):\n",
    "        return self.to.new(*self.to[idxs])\n",
    "\n",
    "class NumpyDataset2():\n",
    "    def __init__(self, X, y=None):\n",
    "        self.X, self.y = X, y\n",
    "\n",
    "    def __getitem__(self, idx):\n",
    "        if self.y is None: return (self.X[idx], )\n",
    "        else: return (self.X[idx], self.y[idx])\n",
    "\n",
    "    def __len__(self):\n",
    "        return len(self.X)\n",
    "\n",
    "    @property\n",
    "    def slicer(self):\n",
    "        return Slicer(self)\n",
    "\n",
    "    def new(self, X, y):\n",
    "        return type(self)(X, y)\n",
    "\n",
    "class ReadTSBatch(ItemTransform):\n",
    "    def __init__(self, to): self.to = to\n",
    "\n",
    "    def encodes(self, to):\n",
    "        res = (tensor(to.X).float(), )\n",
    "        res = res + (tensor(to.y),)\n",
    "        # if to.device is not None: res = to_device(res, to.device)\n",
    "        return res\n",
    "    \n",
    "class TSDataloader(TfmdDL):\n",
    "    do_item = noops\n",
    "    def __init__(self, dataset, bs=16, shuffle=False, after_batch=None, num_workers=0, **kwargs):\n",
    "        if after_batch is None: after_batch = L(TransformBlock().batch_tfms)+ReadTSBatch(dataset)\n",
    "        super().__init__(dataset, bs=bs, shuffle=shuffle, after_batch=after_batch, num_workers=num_workers, **kwargs)\n",
    "\n",
    "    def create_batch(self, b): return self.dataset.slicer[b]"
   ]
  },
  {
   "cell_type": "code",
   "execution_count": 480,
   "metadata": {
    "ExecuteTime": {
     "end_time": "2020-04-02T10:48:00.074998Z",
     "start_time": "2020-04-02T10:48:00.061880Z"
    }
   },
   "outputs": [
    {
     "data": {
      "text/plain": [
       "(torch.Size([8236, 1, 1024]), torch.Size([8236]))"
      ]
     },
     "execution_count": 480,
     "metadata": {},
     "output_type": "execute_result"
    }
   ],
   "source": [
    "ds = NumpyDataset2(X_in_memory, y_in_memory)\n",
    "rtb = ReadTSBatch(ds) \n",
    "xb, yb = rtb.encodes(ds)#.slicer[[0,3,5]]\n",
    "xb.shape, yb.shape"
   ]
  },
  {
   "cell_type": "code",
   "execution_count": 481,
   "metadata": {
    "ExecuteTime": {
     "end_time": "2020-04-02T10:48:05.854081Z",
     "start_time": "2020-04-02T10:48:05.799223Z"
    }
   },
   "outputs": [
    {
     "data": {
      "text/plain": [
       "(torch.Size([128, 1, 1024]), torch.Size([128]))"
      ]
     },
     "execution_count": 481,
     "metadata": {},
     "output_type": "execute_result"
    }
   ],
   "source": [
    "class TSDataloader(TfmdDL):\n",
    "    do_item = noops\n",
    "    def __init__(self, dataset, bs=16, shuffle=False, after_batch=None, num_workers=0, **kwargs):\n",
    "        if after_batch is None: after_batch = L(TransformBlock().batch_tfms) + ReadTSBatch(dataset)\n",
    "        super().__init__(dataset, bs=bs, shuffle=shuffle, after_batch=after_batch, num_workers=num_workers, **kwargs)\n",
    "\n",
    "    def create_batch(self, b): return self.dataset.slicer[b]\n",
    "    \n",
    "dl = TSDataloader(ds, bs=128, shuffle=True)\n",
    "xb, yb = next(iter(dl))\n",
    "xb.shape, yb.shape"
   ]
  },
  {
   "cell_type": "code",
   "execution_count": 482,
   "metadata": {
    "ExecuteTime": {
     "end_time": "2020-04-02T10:48:09.070098Z",
     "start_time": "2020-04-02T10:48:09.025600Z"
    }
   },
   "outputs": [
    {
     "data": {
      "text/plain": [
       "(torch.Size([128, 1, 1024]), torch.Size([128]))"
      ]
     },
     "execution_count": 482,
     "metadata": {},
     "output_type": "execute_result"
    }
   ],
   "source": [
    "dl = TSDataloader(ds, bs=128, shuffle=True)\n",
    "xb, yb = next(iter(dl))\n",
    "xb.shape, yb.shape"
   ]
  },
  {
   "cell_type": "code",
   "execution_count": 369,
   "metadata": {
    "ExecuteTime": {
     "end_time": "2020-04-02T10:14:23.129916Z",
     "start_time": "2020-04-02T10:14:23.115837Z"
    }
   },
   "outputs": [],
   "source": [
    "def cycle_dl(dl):\n",
    "    for _ in iter(dl): pass"
   ]
  },
  {
   "cell_type": "code",
   "execution_count": 483,
   "metadata": {
    "ExecuteTime": {
     "end_time": "2020-04-02T10:48:23.422767Z",
     "start_time": "2020-04-02T10:48:16.613577Z"
    }
   },
   "outputs": [
    {
     "name": "stdout",
     "output_type": "stream",
     "text": [
      "82.7 ms ± 66.1 µs per loop (mean ± std. dev. of 7 runs, 10 loops each)\n"
     ]
    }
   ],
   "source": [
    "%timeit cycle_dl(dl)"
   ]
  },
  {
   "cell_type": "code",
   "execution_count": 41,
   "metadata": {
    "ExecuteTime": {
     "end_time": "2020-04-02T07:43:31.963858Z",
     "start_time": "2020-04-02T07:43:31.453496Z"
    }
   },
   "outputs": [
    {
     "name": "stdout",
     "output_type": "stream",
     "text": [
      "27.8 ms ± 159 µs per loop (mean ± std. dev. of 7 runs, 1 loop each)\n"
     ]
    }
   ],
   "source": [
    "%timeit create_batch_from_items(Xy_in_memory_items, idx_in_memory)"
   ]
  },
  {
   "cell_type": "code",
   "execution_count": 42,
   "metadata": {
    "ExecuteTime": {
     "end_time": "2020-04-02T07:43:38.626964Z",
     "start_time": "2020-04-02T07:43:36.483834Z"
    }
   },
   "outputs": [
    {
     "name": "stdout",
     "output_type": "stream",
     "text": [
      "26.3 ms ± 25.5 µs per loop (mean ± std. dev. of 7 runs, 10 loops each)\n"
     ]
    }
   ],
   "source": [
    "%timeit (X_in_memory[idx_in_memory], y_in_memory[idx_in_memory])"
   ]
  },
  {
   "cell_type": "code",
   "execution_count": null,
   "metadata": {},
   "outputs": [],
   "source": []
  },
  {
   "cell_type": "code",
   "execution_count": 22,
   "metadata": {
    "ExecuteTime": {
     "end_time": "2020-04-02T07:35:11.152567Z",
     "start_time": "2020-04-02T07:35:09.579459Z"
    }
   },
   "outputs": [
    {
     "name": "stdout",
     "output_type": "stream",
     "text": [
      "191 µs ± 10.6 µs per loop (mean ± std. dev. of 7 runs, 1000 loops each)\n"
     ]
    }
   ],
   "source": [
    "%timeit list(zip(*Xy_in_memory_items[idx_in_memory]))"
   ]
  },
  {
   "cell_type": "code",
   "execution_count": 13,
   "metadata": {
    "ExecuteTime": {
     "end_time": "2020-04-02T07:30:16.324013Z",
     "start_time": "2020-04-02T07:30:12.482013Z"
    },
    "scrolled": false
   },
   "outputs": [
    {
     "name": "stdout",
     "output_type": "stream",
     "text": [
      "474 µs ± 30.2 µs per loop (mean ± std. dev. of 7 runs, 1000 loops each)\n"
     ]
    }
   ],
   "source": [
    "%timeit (X_in_memory[idx_in_memory], y_in_memory[idx_in_memory])"
   ]
  },
  {
   "cell_type": "code",
   "execution_count": 14,
   "metadata": {
    "ExecuteTime": {
     "end_time": "2020-04-02T07:30:41.337393Z",
     "start_time": "2020-04-02T07:30:28.842066Z"
    }
   },
   "outputs": [
    {
     "name": "stdout",
     "output_type": "stream",
     "text": [
      "154 µs ± 3.89 µs per loop (mean ± std. dev. of 7 runs, 10000 loops each)\n"
     ]
    }
   ],
   "source": [
    "%timeit Xy_in_memory_items[idx_in_memory]"
   ]
  },
  {
   "cell_type": "code",
   "execution_count": 27,
   "metadata": {},
   "outputs": [
    {
     "name": "stdout",
     "output_type": "stream",
     "text": [
      "660 ns ± 3.93 ns per loop (mean ± std. dev. of 7 runs, 1000000 loops each)\n"
     ]
    }
   ],
   "source": [
    "%timeit X_in_memory[0]"
   ]
  },
  {
   "cell_type": "code",
   "execution_count": 28,
   "metadata": {},
   "outputs": [
    {
     "name": "stdout",
     "output_type": "stream",
     "text": [
      "209 µs ± 1.28 µs per loop (mean ± std. dev. of 7 runs, 1000 loops each)\n"
     ]
    }
   ],
   "source": [
    "%timeit X_in_memory[idx_in_memory]"
   ]
  },
  {
   "cell_type": "code",
   "execution_count": 29,
   "metadata": {},
   "outputs": [
    {
     "name": "stdout",
     "output_type": "stream",
     "text": [
      "155 µs ± 840 ns per loop (mean ± std. dev. of 7 runs, 10000 loops each)\n"
     ]
    }
   ],
   "source": [
    "%timeit X_in_memory_items[idx_in_memory]"
   ]
  },
  {
   "cell_type": "code",
   "execution_count": null,
   "metadata": {},
   "outputs": [],
   "source": []
  },
  {
   "cell_type": "code",
   "execution_count": null,
   "metadata": {},
   "outputs": [],
   "source": []
  },
  {
   "cell_type": "code",
   "execution_count": null,
   "metadata": {},
   "outputs": [],
   "source": []
  },
  {
   "cell_type": "code",
   "execution_count": null,
   "metadata": {},
   "outputs": [],
   "source": [
    "%timeit Xy_on_disk_items[idx_ond_disk]"
   ]
  },
  {
   "cell_type": "code",
   "execution_count": 33,
   "metadata": {},
   "outputs": [
    {
     "name": "stdout",
     "output_type": "stream",
     "text": [
      "158 µs ± 2.37 µs per loop (mean ± std. dev. of 7 runs, 10000 loops each)\n"
     ]
    }
   ],
   "source": [
    "%timeit Xy_on_disk_items[idx_ond_disk]"
   ]
  },
  {
   "cell_type": "code",
   "execution_count": 15,
   "metadata": {},
   "outputs": [],
   "source": [
    "X_zip = itemify(X_on_disk)"
   ]
  },
  {
   "cell_type": "code",
   "execution_count": 13,
   "metadata": {},
   "outputs": [
    {
     "name": "stdout",
     "output_type": "stream",
     "text": [
      "156 µs ± 2.03 µs per loop (mean ± std. dev. of 7 runs, 10000 loops each)\n"
     ]
    }
   ],
   "source": [
    "%timeit X_zip[idx]"
   ]
  },
  {
   "cell_type": "code",
   "execution_count": 11,
   "metadata": {},
   "outputs": [
    {
     "name": "stdout",
     "output_type": "stream",
     "text": [
      "6.99 ms ± 9.81 µs per loop (mean ± std. dev. of 7 runs, 100 loops each)\n"
     ]
    }
   ],
   "source": [
    "%timeit X_on_disk[idx]"
   ]
  },
  {
   "cell_type": "code",
   "execution_count": 10,
   "metadata": {},
   "outputs": [
    {
     "name": "stdout",
     "output_type": "stream",
     "text": [
      "11 µs ± 64.3 ns per loop (mean ± std. dev. of 7 runs, 100000 loops each)\n"
     ]
    }
   ],
   "source": [
    "%timeit X_on_disk[:128]"
   ]
  },
  {
   "cell_type": "code",
   "execution_count": 8,
   "metadata": {},
   "outputs": [
    {
     "name": "stdout",
     "output_type": "stream",
     "text": [
      "10.9 µs ± 224 ns per loop (mean ± std. dev. of 7 runs, 100000 loops each)\n"
     ]
    }
   ],
   "source": [
    "%timeit X_on_disk[0]"
   ]
  },
  {
   "cell_type": "code",
   "execution_count": 9,
   "metadata": {},
   "outputs": [
    {
     "data": {
      "text/plain": [
       "1395.2"
      ]
     },
     "execution_count": 9,
     "metadata": {},
     "output_type": "execute_result"
    }
   ],
   "source": [
    "10.9*128"
   ]
  },
  {
   "cell_type": "markdown",
   "metadata": {},
   "source": [
    "**Fast load**: it only takes a few ms to \"load\" a memory map to a 10 GB array on disk.\n",
    "\n",
    "In fact, the only thing that is loaded is a map to the array stored on disk. That's why it's so fast."
   ]
  },
  {
   "cell_type": "markdown",
   "metadata": {},
   "source": [
    "## Arrays on disk: main features"
   ]
  },
  {
   "cell_type": "markdown",
   "metadata": {
    "heading_collapsed": true
   },
   "source": [
    "### Very limited RAM usage"
   ]
  },
  {
   "cell_type": "code",
   "execution_count": 39,
   "metadata": {
    "hidden": true
   },
   "outputs": [
    {
     "name": "stdout",
     "output_type": "stream",
     "text": [
      "(100000, 50, 512) (100000,)\n"
     ]
    }
   ],
   "source": [
    "print(X_on_disk.shape, y_on_disk.shape)"
   ]
  },
  {
   "cell_type": "code",
   "execution_count": 6,
   "metadata": {
    "hidden": true
   },
   "outputs": [
    {
     "name": "stdout",
     "output_type": "stream",
     "text": [
      "X array on disk:          152 bytes (0.000 GB)\n",
      "y array on disk:          120 bytes (0.000 GB)\n"
     ]
    }
   ],
   "source": [
    "print(f'X array on disk: {sys.getsizeof(X_on_disk):12} bytes ({bytes2GB(sys.getsizeof(X_on_disk)):3.3f} GB)')\n",
    "print(f'y array on disk: {sys.getsizeof(y_on_disk):12} bytes ({bytes2GB(sys.getsizeof(y_on_disk)):3.3f} GB)')"
   ]
  },
  {
   "cell_type": "markdown",
   "metadata": {
    "hidden": true
   },
   "source": [
    "**152 bytes of RAM for a 10GB array**. This is the great benefit of arrays on disk.\n",
    "\n",
    "Arrays on disk barely use any RAM until each the it's sliced and an element is converted into a np.array or a tensor.\n",
    "\n",
    "This is equivalent to the size of file paths in images (very limited) compared to the files themselves (actual images). "
   ]
  },
  {
   "cell_type": "markdown",
   "metadata": {
    "heading_collapsed": true
   },
   "source": [
    "### Types"
   ]
  },
  {
   "cell_type": "markdown",
   "metadata": {
    "hidden": true
   },
   "source": [
    "np.memmap is a subclass of np.ndarray"
   ]
  },
  {
   "cell_type": "code",
   "execution_count": 7,
   "metadata": {
    "hidden": true
   },
   "outputs": [
    {
     "data": {
      "text/plain": [
       "True"
      ]
     },
     "execution_count": 7,
     "metadata": {},
     "output_type": "execute_result"
    }
   ],
   "source": [
    "isinstance(X_on_disk, np.ndarray)"
   ]
  },
  {
   "cell_type": "code",
   "execution_count": 8,
   "metadata": {
    "hidden": true
   },
   "outputs": [
    {
     "data": {
      "text/plain": [
       "numpy.memmap"
      ]
     },
     "execution_count": 8,
     "metadata": {},
     "output_type": "execute_result"
    }
   ],
   "source": [
    "type(X_on_disk)"
   ]
  },
  {
   "cell_type": "markdown",
   "metadata": {
    "heading_collapsed": true
   },
   "source": [
    "### Operations"
   ]
  },
  {
   "cell_type": "markdown",
   "metadata": {
    "hidden": true
   },
   "source": [
    "With np.memmap you can perform the same operations you would with a normal numpy array. \n",
    "The most common operations you will perform in deep learning are:\n",
    "\n",
    "- slicing\n",
    "- calculating stats: mean and std\n",
    "- scaling (using normalize or standardize)\n",
    "- transformation into a tensor\n",
    "\n",
    "Once you get the array on disk slice, you'll convert it into a tensor, move to a GPU and performs operations there."
   ]
  },
  {
   "cell_type": "markdown",
   "metadata": {
    "hidden": true
   },
   "source": [
    "\n",
    "⚠️ You need to be careful though not to convert the entire np.memmap to an array/ tensor if it's larger than your RAM. This will crash your computer unless you have enough RAM, so you would have to reboot!\n",
    "\n",
    "**DON'T DO THIS:  torch.from_numpy(X) or np.array(X)** unless you have ehough RAM.\n",
    "\n",
    "To avoid issues during test, I created a smaller array on disk (that I can store in memory). When I want to test something I test it with that array first. It's important to always verify that the type output of your operations is np.memmap, which means data is still in memory."
   ]
  },
  {
   "cell_type": "markdown",
   "metadata": {
    "hidden": true
   },
   "source": [
    "#### Slicing"
   ]
  },
  {
   "cell_type": "markdown",
   "metadata": {
    "hidden": true
   },
   "source": [
    "To ensure you don't brind the entire array in memory (which may crash your computer) you can always work with slices of data, which is by the way how fastai works.\n",
    "\n",
    "If you use mode 'r' you can grab a sample and make changes to it, but this won't modify data on disk."
   ]
  },
  {
   "cell_type": "code",
   "execution_count": 9,
   "metadata": {
    "hidden": true
   },
   "outputs": [
    {
     "data": {
      "text/plain": [
       "memmap([[0.2626543 , 0.81090355, 0.32464218, ..., 0.23839498, 0.67757344,\n",
       "         0.3310132 ],\n",
       "        [0.7845197 , 0.68123066, 0.38421404, ..., 0.5383686 , 0.01147997,\n",
       "         0.13235402],\n",
       "        [0.6679299 , 0.56707335, 0.02308166, ..., 0.77351165, 0.20462573,\n",
       "         0.9898304 ],\n",
       "        ...,\n",
       "        [0.38630033, 0.5770135 , 0.18095827, ..., 0.9798217 , 0.56657016,\n",
       "         0.6018766 ],\n",
       "        [0.09030128, 0.01747155, 0.5882474 , ..., 0.28344667, 0.6954193 ,\n",
       "         0.93599343],\n",
       "        [0.91863537, 0.01252496, 0.4146458 , ..., 0.80348647, 0.9133351 ,\n",
       "         0.5418618 ]], dtype=float32)"
      ]
     },
     "execution_count": 9,
     "metadata": {},
     "output_type": "execute_result"
    }
   ],
   "source": [
    "x = X_on_disk[0]\n",
    "x"
   ]
  },
  {
   "cell_type": "markdown",
   "metadata": {
    "hidden": true
   },
   "source": [
    "It's important to note thatn when we perform an math operation on a np.memmap (add, subtract, ...) the output is a np.array, and no longer a np.memmap. \n",
    "\n",
    "⚠️ Remember you don't want to run this type of operations with a memmap larger than your RAM!! That's why I do it with a slice."
   ]
  },
  {
   "cell_type": "code",
   "execution_count": 10,
   "metadata": {
    "hidden": true
   },
   "outputs": [
    {
     "data": {
      "text/plain": [
       "array([[1.2626543, 1.8109035, 1.3246422, ..., 1.238395 , 1.6775734,\n",
       "        1.3310132],\n",
       "       [1.7845197, 1.6812307, 1.384214 , ..., 1.5383686, 1.01148  ,\n",
       "        1.132354 ],\n",
       "       [1.6679299, 1.5670733, 1.0230817, ..., 1.7735116, 1.2046257,\n",
       "        1.9898304],\n",
       "       ...,\n",
       "       [1.3863003, 1.5770135, 1.1809583, ..., 1.9798217, 1.5665702,\n",
       "        1.6018766],\n",
       "       [1.0903013, 1.0174716, 1.5882474, ..., 1.2834467, 1.6954193,\n",
       "        1.9359934],\n",
       "       [1.9186354, 1.012525 , 1.4146458, ..., 1.8034865, 1.9133351,\n",
       "        1.5418618]], dtype=float32)"
      ]
     },
     "execution_count": 10,
     "metadata": {},
     "output_type": "execute_result"
    }
   ],
   "source": [
    "x = X_on_disk[0] + 1\n",
    "x"
   ]
  },
  {
   "cell_type": "code",
   "execution_count": 11,
   "metadata": {
    "hidden": true
   },
   "outputs": [
    {
     "data": {
      "text/plain": [
       "tensor([[1.2627, 1.8109, 1.3246,  ..., 1.2384, 1.6776, 1.3310],\n",
       "        [1.7845, 1.6812, 1.3842,  ..., 1.5384, 1.0115, 1.1324],\n",
       "        [1.6679, 1.5671, 1.0231,  ..., 1.7735, 1.2046, 1.9898],\n",
       "        ...,\n",
       "        [1.3863, 1.5770, 1.1810,  ..., 1.9798, 1.5666, 1.6019],\n",
       "        [1.0903, 1.0175, 1.5882,  ..., 1.2834, 1.6954, 1.9360],\n",
       "        [1.9186, 1.0125, 1.4146,  ..., 1.8035, 1.9133, 1.5419]])"
      ]
     },
     "execution_count": 11,
     "metadata": {},
     "output_type": "execute_result"
    }
   ],
   "source": [
    "x = torch.from_numpy(X_on_disk[0])\n",
    "x2 = x + 1\n",
    "x2"
   ]
  },
  {
   "cell_type": "markdown",
   "metadata": {
    "hidden": true
   },
   "source": [
    "As you can see, this doesn't affect the original np.memmap"
   ]
  },
  {
   "cell_type": "code",
   "execution_count": 12,
   "metadata": {
    "hidden": true
   },
   "outputs": [
    {
     "data": {
      "text/plain": [
       "memmap([[0.2626543 , 0.81090355, 0.32464218, ..., 0.23839498, 0.67757344,\n",
       "         0.3310132 ],\n",
       "        [0.7845197 , 0.68123066, 0.38421404, ..., 0.5383686 , 0.01147997,\n",
       "         0.13235402],\n",
       "        [0.6679299 , 0.56707335, 0.02308166, ..., 0.77351165, 0.20462573,\n",
       "         0.9898304 ],\n",
       "        ...,\n",
       "        [0.38630033, 0.5770135 , 0.18095827, ..., 0.9798217 , 0.56657016,\n",
       "         0.6018766 ],\n",
       "        [0.09030128, 0.01747155, 0.5882474 , ..., 0.28344667, 0.6954193 ,\n",
       "         0.93599343],\n",
       "        [0.91863537, 0.01252496, 0.4146458 , ..., 0.80348647, 0.9133351 ,\n",
       "         0.5418618 ]], dtype=float32)"
      ]
     },
     "execution_count": 12,
     "metadata": {},
     "output_type": "execute_result"
    }
   ],
   "source": [
    "X_on_disk[0]"
   ]
  },
  {
   "cell_type": "markdown",
   "metadata": {
    "hidden": true
   },
   "source": [
    "You can slice an array on disk by any axis, and it'll return a memmap. Slicing by any axis is very fast."
   ]
  },
  {
   "cell_type": "code",
   "execution_count": 13,
   "metadata": {
    "hidden": true
   },
   "outputs": [
    {
     "data": {
      "text/plain": [
       "memmap([[0.2626543 , 0.81090355, 0.32464218, ..., 0.23839498, 0.67757344,\n",
       "         0.3310132 ],\n",
       "        [0.7845197 , 0.68123066, 0.38421404, ..., 0.5383686 , 0.01147997,\n",
       "         0.13235402],\n",
       "        [0.6679299 , 0.56707335, 0.02308166, ..., 0.77351165, 0.20462573,\n",
       "         0.9898304 ],\n",
       "        ...,\n",
       "        [0.38630033, 0.5770135 , 0.18095827, ..., 0.9798217 , 0.56657016,\n",
       "         0.6018766 ],\n",
       "        [0.09030128, 0.01747155, 0.5882474 , ..., 0.28344667, 0.6954193 ,\n",
       "         0.93599343],\n",
       "        [0.91863537, 0.01252496, 0.4146458 , ..., 0.80348647, 0.9133351 ,\n",
       "         0.5418618 ]], dtype=float32)"
      ]
     },
     "execution_count": 13,
     "metadata": {},
     "output_type": "execute_result"
    }
   ],
   "source": [
    "X_on_disk[0]"
   ]
  },
  {
   "cell_type": "code",
   "execution_count": 14,
   "metadata": {
    "hidden": true
   },
   "outputs": [
    {
     "data": {
      "text/plain": [
       "memmap([[0.2626543 , 0.81090355, 0.32464218, ..., 0.23839498, 0.67757344,\n",
       "         0.3310132 ],\n",
       "        [0.7720094 , 0.21011464, 0.02604653, ..., 0.8257726 , 0.9297855 ,\n",
       "         0.34065437],\n",
       "        [0.10447659, 0.7670673 , 0.838875  , ..., 0.76260966, 0.5328985 ,\n",
       "         0.2714968 ],\n",
       "        ...,\n",
       "        [0.8387722 , 0.13451461, 0.8197776 , ..., 0.3349404 , 0.43819886,\n",
       "         0.65123564],\n",
       "        [0.20458107, 0.76076484, 0.5841517 , ..., 0.8807168 , 0.8641069 ,\n",
       "         0.5569748 ],\n",
       "        [0.6686797 , 0.9680852 , 0.04992276, ..., 0.99571806, 0.22515585,\n",
       "         0.9119718 ]], dtype=float32)"
      ]
     },
     "execution_count": 14,
     "metadata": {},
     "output_type": "execute_result"
    }
   ],
   "source": [
    "X_on_disk[:, 0]"
   ]
  },
  {
   "cell_type": "markdown",
   "metadata": {
    "hidden": true
   },
   "source": [
    "However, bear in mind that if you use multiple indices, the output will be a regular numpy array. This is important as it will use more RAM. "
   ]
  },
  {
   "cell_type": "code",
   "execution_count": 15,
   "metadata": {
    "hidden": true
   },
   "outputs": [
    {
     "data": {
      "text/plain": [
       "array([[[0.2626543 , 0.81090355, 0.32464218, ..., 0.23839498,\n",
       "         0.67757344, 0.3310132 ],\n",
       "        [0.7845197 , 0.68123066, 0.38421404, ..., 0.5383686 ,\n",
       "         0.01147997, 0.13235402],\n",
       "        [0.6679299 , 0.56707335, 0.02308166, ..., 0.77351165,\n",
       "         0.20462573, 0.9898304 ],\n",
       "        ...,\n",
       "        [0.38630033, 0.5770135 , 0.18095827, ..., 0.9798217 ,\n",
       "         0.56657016, 0.6018766 ],\n",
       "        [0.09030128, 0.01747155, 0.5882474 , ..., 0.28344667,\n",
       "         0.6954193 , 0.93599343],\n",
       "        [0.91863537, 0.01252496, 0.4146458 , ..., 0.80348647,\n",
       "         0.9133351 , 0.5418618 ]],\n",
       "\n",
       "       [[0.7720094 , 0.21011464, 0.02604653, ..., 0.8257726 ,\n",
       "         0.9297855 , 0.34065437],\n",
       "        [0.7020411 , 0.7310075 , 0.00217595, ..., 0.74274397,\n",
       "         0.85443044, 0.469761  ],\n",
       "        [0.7890441 , 0.29349124, 0.4332237 , ..., 0.22531688,\n",
       "         0.13641207, 0.955273  ],\n",
       "        ...,\n",
       "        [0.08417109, 0.47016835, 0.9377146 , ..., 0.82218635,\n",
       "         0.58684355, 0.44834593],\n",
       "        [0.15103178, 0.53963864, 0.3386973 , ..., 0.9789423 ,\n",
       "         0.16320346, 0.75033426],\n",
       "        [0.9836441 , 0.8263102 , 0.97352153, ..., 0.9199377 ,\n",
       "         0.65910494, 0.63731635]]], dtype=float32)"
      ]
     },
     "execution_count": 15,
     "metadata": {},
     "output_type": "execute_result"
    }
   ],
   "source": [
    "X_on_disk[[0,1]]"
   ]
  },
  {
   "cell_type": "markdown",
   "metadata": {
    "hidden": true
   },
   "source": [
    "There's a trick we can use avoid this making use of the excellent new L class in fastai. It is to **itemify** the np.memmap/s. "
   ]
  },
  {
   "cell_type": "code",
   "execution_count": 40,
   "metadata": {
    "hidden": true
   },
   "outputs": [],
   "source": [
    "def itemify(*x): return L(*x).zip()"
   ]
  },
  {
   "cell_type": "markdown",
   "metadata": {
    "hidden": true
   },
   "source": [
    "To itemify one or several np.memmap/s is very fast. Let's see how long it takes with a 10 GB array."
   ]
  },
  {
   "cell_type": "code",
   "execution_count": 41,
   "metadata": {
    "hidden": true
   },
   "outputs": [],
   "source": [
    "X_on_disk_as_items = itemify(X_on_disk)"
   ]
  },
  {
   "cell_type": "markdown",
   "metadata": {
    "hidden": true
   },
   "source": [
    "5 seconds to return individual records on disk! Bear in mind you only need to perform this once!\n",
    "\n",
    "So now, you can select multiple items at the same time, and they will all still be on disk:"
   ]
  },
  {
   "cell_type": "code",
   "execution_count": 18,
   "metadata": {
    "hidden": true
   },
   "outputs": [
    {
     "data": {
      "text/plain": [
       "(#2) [(memmap([[0.2626543 , 0.81090355, 0.32464218, ..., 0.23839498, 0.67757344,\n",
       "         0.3310132 ],\n",
       "        [0.7845197 , 0.68123066, 0.38421404, ..., 0.5383686 , 0.01147997,\n",
       "         0.13235402],\n",
       "        [0.6679299 , 0.56707335, 0.02308166, ..., 0.77351165, 0.20462573,\n",
       "         0.9898304 ],\n",
       "        ...,\n",
       "        [0.38630033, 0.5770135 , 0.18095827, ..., 0.9798217 , 0.56657016,\n",
       "         0.6018766 ],\n",
       "        [0.09030128, 0.01747155, 0.5882474 , ..., 0.28344667, 0.6954193 ,\n",
       "         0.93599343],\n",
       "        [0.91863537, 0.01252496, 0.4146458 , ..., 0.80348647, 0.9133351 ,\n",
       "         0.5418618 ]], dtype=float32),),(memmap([[0.7720094 , 0.21011464, 0.02604653, ..., 0.8257726 , 0.9297855 ,\n",
       "         0.34065437],\n",
       "        [0.7020411 , 0.7310075 , 0.00217595, ..., 0.74274397, 0.85443044,\n",
       "         0.469761  ],\n",
       "        [0.7890441 , 0.29349124, 0.4332237 , ..., 0.22531688, 0.13641207,\n",
       "         0.955273  ],\n",
       "        ...,\n",
       "        [0.08417109, 0.47016835, 0.9377146 , ..., 0.82218635, 0.58684355,\n",
       "         0.44834593],\n",
       "        [0.15103178, 0.53963864, 0.3386973 , ..., 0.9789423 , 0.16320346,\n",
       "         0.75033426],\n",
       "        [0.9836441 , 0.8263102 , 0.97352153, ..., 0.9199377 , 0.65910494,\n",
       "         0.63731635]], dtype=float32),)]"
      ]
     },
     "execution_count": 18,
     "metadata": {},
     "output_type": "execute_result"
    }
   ],
   "source": [
    "X_on_disk_as_items[0,1]"
   ]
  },
  {
   "cell_type": "markdown",
   "metadata": {
    "hidden": true
   },
   "source": [
    "You can also itemify several items at once: X and y for example. When you slice the list, you'll get tuples."
   ]
  },
  {
   "cell_type": "code",
   "execution_count": 42,
   "metadata": {
    "hidden": true
   },
   "outputs": [],
   "source": [
    "Xy_on_disk_as_items = itemify(X_on_disk, y_on_disk)"
   ]
  },
  {
   "cell_type": "code",
   "execution_count": 43,
   "metadata": {
    "hidden": true
   },
   "outputs": [
    {
     "data": {
      "text/plain": [
       "(#2) [(memmap([[0.2626543 , 0.81090355, 0.32464218, ..., 0.23839498, 0.67757344,\n",
       "         0.3310132 ],\n",
       "        [0.7845197 , 0.68123066, 0.38421404, ..., 0.5383686 , 0.01147997,\n",
       "         0.13235402],\n",
       "        [0.6679299 , 0.56707335, 0.02308166, ..., 0.77351165, 0.20462573,\n",
       "         0.9898304 ],\n",
       "        ...,\n",
       "        [0.38630033, 0.5770135 , 0.18095827, ..., 0.9798217 , 0.56657016,\n",
       "         0.6018766 ],\n",
       "        [0.09030128, 0.01747155, 0.5882474 , ..., 0.28344667, 0.6954193 ,\n",
       "         0.93599343],\n",
       "        [0.91863537, 0.01252496, 0.4146458 , ..., 0.80348647, 0.9133351 ,\n",
       "         0.5418618 ]], dtype=float32), 'b'),(memmap([[0.7720094 , 0.21011464, 0.02604653, ..., 0.8257726 , 0.9297855 ,\n",
       "         0.34065437],\n",
       "        [0.7020411 , 0.7310075 , 0.00217595, ..., 0.74274397, 0.85443044,\n",
       "         0.469761  ],\n",
       "        [0.7890441 , 0.29349124, 0.4332237 , ..., 0.22531688, 0.13641207,\n",
       "         0.955273  ],\n",
       "        ...,\n",
       "        [0.08417109, 0.47016835, 0.9377146 , ..., 0.82218635, 0.58684355,\n",
       "         0.44834593],\n",
       "        [0.15103178, 0.53963864, 0.3386973 , ..., 0.9789423 , 0.16320346,\n",
       "         0.75033426],\n",
       "        [0.9836441 , 0.8263102 , 0.97352153, ..., 0.9199377 , 0.65910494,\n",
       "         0.63731635]], dtype=float32), 'b')]"
      ]
     },
     "execution_count": 43,
     "metadata": {},
     "output_type": "execute_result"
    }
   ],
   "source": [
    "Xy_on_disk_as_items[0, 1]"
   ]
  },
  {
   "cell_type": "markdown",
   "metadata": {
    "hidden": true
   },
   "source": [
    "Slicing is very fast, even if there are 100.000 samples."
   ]
  },
  {
   "cell_type": "code",
   "execution_count": 19,
   "metadata": {
    "hidden": true
   },
   "outputs": [
    {
     "name": "stdout",
     "output_type": "stream",
     "text": [
      "11.5 µs ± 956 ns per loop (mean ± std. dev. of 7 runs, 100000 loops each)\n"
     ]
    }
   ],
   "source": [
    "# axis 0\n",
    "%timeit X_on_disk[0]"
   ]
  },
  {
   "cell_type": "code",
   "execution_count": 20,
   "metadata": {
    "hidden": true
   },
   "outputs": [
    {
     "name": "stdout",
     "output_type": "stream",
     "text": [
      "16.2 µs ± 3.87 µs per loop (mean ± std. dev. of 7 runs, 10000 loops each)\n"
     ]
    }
   ],
   "source": [
    "# axis 1\n",
    "%timeit X_on_disk[..., 0]"
   ]
  },
  {
   "cell_type": "code",
   "execution_count": 21,
   "metadata": {
    "hidden": true
   },
   "outputs": [
    {
     "name": "stdout",
     "output_type": "stream",
     "text": [
      "14.6 µs ± 3.78 µs per loop (mean ± std. dev. of 7 runs, 10000 loops each)\n"
     ]
    }
   ],
   "source": [
    "# axis 2\n",
    "%timeit X_on_disk[:, 0]"
   ]
  },
  {
   "cell_type": "code",
   "execution_count": 22,
   "metadata": {
    "hidden": true
   },
   "outputs": [
    {
     "name": "stdout",
     "output_type": "stream",
     "text": [
      "13.5 µs ± 983 ns per loop (mean ± std. dev. of 7 runs, 100000 loops each)\n"
     ]
    }
   ],
   "source": [
    "# aixs 0,1\n",
    "%timeit X_on_disk[0, 0]"
   ]
  },
  {
   "cell_type": "markdown",
   "metadata": {
    "hidden": true
   },
   "source": [
    "To compare how fast you can slice a np.memmap, let's create a smaller array that I can fit in memory (X_in_memory). This is 10 times smaller (100 MB) than the one on disk."
   ]
  },
  {
   "cell_type": "code",
   "execution_count": 23,
   "metadata": {
    "hidden": true
   },
   "outputs": [],
   "source": [
    "X_in_memory_small = np.random.rand(10000, 50, 512)"
   ]
  },
  {
   "cell_type": "code",
   "execution_count": 24,
   "metadata": {
    "hidden": true
   },
   "outputs": [
    {
     "name": "stdout",
     "output_type": "stream",
     "text": [
      "661 ns ± 28.4 ns per loop (mean ± std. dev. of 7 runs, 1000000 loops each)\n"
     ]
    }
   ],
   "source": [
    "%timeit X_in_memory_small[0]"
   ]
  },
  {
   "cell_type": "markdown",
   "metadata": {
    "hidden": true
   },
   "source": [
    "Let's create the same array on disk. It's super simple:"
   ]
  },
  {
   "cell_type": "code",
   "execution_count": 36,
   "metadata": {
    "hidden": true
   },
   "outputs": [],
   "source": [
    "np.save('./data/X_on_disk_small.npy', X_in_memory_small)\n",
    "X_on_disk_small = np.load('./data/X_on_disk_small.npy', mmap_mode='r')"
   ]
  },
  {
   "cell_type": "code",
   "execution_count": 26,
   "metadata": {
    "hidden": true
   },
   "outputs": [
    {
     "name": "stdout",
     "output_type": "stream",
     "text": [
      "11.7 µs ± 515 ns per loop (mean ± std. dev. of 7 runs, 100000 loops each)\n"
     ]
    }
   ],
   "source": [
    "%timeit X_on_disk_small[0]"
   ]
  },
  {
   "cell_type": "markdown",
   "metadata": {
    "hidden": true
   },
   "source": [
    "This is approx. 17 slower than having arrays on disk, although it's still pretty fast.\n",
    "\n",
    "However, if we use the itemified version, it's much faster:"
   ]
  },
  {
   "cell_type": "code",
   "execution_count": 27,
   "metadata": {
    "hidden": true
   },
   "outputs": [
    {
     "name": "stdout",
     "output_type": "stream",
     "text": [
      "2.39 µs ± 90.5 ns per loop (mean ± std. dev. of 7 runs, 100000 loops each)\n"
     ]
    }
   ],
   "source": [
    "%timeit X_on_disk_as_items[0]"
   ]
  },
  {
   "cell_type": "markdown",
   "metadata": {
    "hidden": true
   },
   "source": [
    "This is much better! So now you can access 1 of multiple items on disk with a pretty good performance."
   ]
  },
  {
   "cell_type": "markdown",
   "metadata": {
    "hidden": true
   },
   "source": [
    "#### Calculating stats: mean and std"
   ]
  },
  {
   "cell_type": "markdown",
   "metadata": {
    "hidden": true
   },
   "source": [
    "Another benefit of using arrays on disk is that you can calculate the mean and std deviation of the entire dataset. \n",
    "\n",
    "It takes a considerable time since the array is very big (10GB), but it's feasible:\n",
    "\n",
    "- mean (0.4999966):  1 min 45 s\n",
    "- std  (0.2886839): 11 min 43 s \n",
    "\n",
    "in my laptop. \n",
    "If you need them, you could calculate these stats once, and store the results (similar to ImageNet stats).\n",
    "However, you usually need to claculate these metrics for labeled (train) datasets, that tend to be smaller."
   ]
  },
  {
   "cell_type": "code",
   "execution_count": 85,
   "metadata": {
    "hidden": true
   },
   "outputs": [
    {
     "data": {
      "text/plain": [
       "0.4999966"
      ]
     },
     "execution_count": 85,
     "metadata": {},
     "output_type": "execute_result"
    }
   ],
   "source": [
    "# X_mean = X_on_disk.mean()\n",
    "# X_mean"
   ]
  },
  {
   "cell_type": "code",
   "execution_count": 86,
   "metadata": {
    "hidden": true
   },
   "outputs": [
    {
     "data": {
      "text/plain": [
       "0.28868386"
      ]
     },
     "execution_count": 86,
     "metadata": {},
     "output_type": "execute_result"
    }
   ],
   "source": [
    "# X_std = X_on_disk.std()\n",
    "# X_std"
   ]
  },
  {
   "cell_type": "markdown",
   "metadata": {
    "hidden": true
   },
   "source": [
    "#### Conversion into a tensor"
   ]
  },
  {
   "cell_type": "markdown",
   "metadata": {
    "hidden": true
   },
   "source": [
    "Conversion from an array on disk slice into a tensor is also very fast:"
   ]
  },
  {
   "cell_type": "code",
   "execution_count": 28,
   "metadata": {
    "hidden": true
   },
   "outputs": [
    {
     "data": {
      "text/plain": [
       "tensor([[0.2627, 0.8109, 0.3246,  ..., 0.2384, 0.6776, 0.3310],\n",
       "        [0.7845, 0.6812, 0.3842,  ..., 0.5384, 0.0115, 0.1324],\n",
       "        [0.6679, 0.5671, 0.0231,  ..., 0.7735, 0.2046, 0.9898],\n",
       "        ...,\n",
       "        [0.3863, 0.5770, 0.1810,  ..., 0.9798, 0.5666, 0.6019],\n",
       "        [0.0903, 0.0175, 0.5882,  ..., 0.2834, 0.6954, 0.9360],\n",
       "        [0.9186, 0.0125, 0.4146,  ..., 0.8035, 0.9133, 0.5419]])"
      ]
     },
     "execution_count": 28,
     "metadata": {},
     "output_type": "execute_result"
    }
   ],
   "source": [
    "torch.from_numpy(X_on_disk[0])"
   ]
  },
  {
   "cell_type": "code",
   "execution_count": 29,
   "metadata": {
    "hidden": true
   },
   "outputs": [],
   "source": [
    "X_on_disk_small_0 = X_on_disk_small[0]\n",
    "X_in_memory_small_0 = X_in_memory_small[0]"
   ]
  },
  {
   "cell_type": "code",
   "execution_count": 30,
   "metadata": {
    "hidden": true
   },
   "outputs": [
    {
     "name": "stdout",
     "output_type": "stream",
     "text": [
      "9.54 µs ± 25.7 ns per loop (mean ± std. dev. of 7 runs, 100000 loops each)\n"
     ]
    }
   ],
   "source": [
    "%timeit torch.from_numpy(X_on_disk_small_0)"
   ]
  },
  {
   "cell_type": "code",
   "execution_count": 31,
   "metadata": {
    "hidden": true
   },
   "outputs": [
    {
     "name": "stdout",
     "output_type": "stream",
     "text": [
      "9.66 µs ± 418 ns per loop (mean ± std. dev. of 7 runs, 100000 loops each)\n"
     ]
    }
   ],
   "source": [
    "%timeit torch.from_numpy(X_in_memory_small_0 )"
   ]
  },
  {
   "cell_type": "markdown",
   "metadata": {
    "hidden": true
   },
   "source": [
    "So it takes the same time to convert from numpy.memmap or from a np.array in memory is the same."
   ]
  },
  {
   "cell_type": "markdown",
   "metadata": {
    "hidden": true
   },
   "source": [
    "#### Combined operations: slicing plus conversion to tensor"
   ]
  },
  {
   "cell_type": "markdown",
   "metadata": {
    "hidden": true
   },
   "source": [
    "Let's now check performance of the combined process: slicing plus conversion to a tensor. Based on what we've seen there are 3 options: \n",
    "\n",
    "- slice np.array in memory + conversion to tensor\n",
    "- slice np.memamap on disk + conversion to tensor\n",
    "- slice itemified np.memmap + converion to tensor"
   ]
  },
  {
   "cell_type": "code",
   "execution_count": 32,
   "metadata": {
    "hidden": true
   },
   "outputs": [
    {
     "name": "stdout",
     "output_type": "stream",
     "text": [
      "17 µs ± 4.3 µs per loop (mean ± std. dev. of 7 runs, 100000 loops each)\n"
     ]
    }
   ],
   "source": [
    "%timeit torch.from_numpy(X_in_memory_small[0])"
   ]
  },
  {
   "cell_type": "code",
   "execution_count": 33,
   "metadata": {
    "hidden": true
   },
   "outputs": [
    {
     "name": "stdout",
     "output_type": "stream",
     "text": [
      "38.2 µs ± 6.91 µs per loop (mean ± std. dev. of 7 runs, 10000 loops each)\n"
     ]
    }
   ],
   "source": [
    "%timeit torch.from_numpy(X_on_disk_small[0])"
   ]
  },
  {
   "cell_type": "code",
   "execution_count": 34,
   "metadata": {
    "hidden": true
   },
   "outputs": [],
   "source": [
    "X_on_disk_small_as_items = itemify(X_on_disk_small)"
   ]
  },
  {
   "cell_type": "code",
   "execution_count": 35,
   "metadata": {
    "hidden": true
   },
   "outputs": [
    {
     "name": "stdout",
     "output_type": "stream",
     "text": [
      "19.6 µs ± 2.57 µs per loop (mean ± std. dev. of 7 runs, 10000 loops each)\n"
     ]
    }
   ],
   "source": [
    "%timeit torch.from_numpy(X_on_disk_small_as_items[0][0])"
   ]
  },
  {
   "cell_type": "markdown",
   "metadata": {
    "hidden": true
   },
   "source": [
    "So this last method is **almost as fast as having the array in memory**!! This is an excellent outcome, since slicing arrays in memory is a highly optimized operation. \n",
    "\n",
    "And we have the benefit of having access to very large datasets if needed."
   ]
  },
  {
   "cell_type": "markdown",
   "metadata": {
    "heading_collapsed": true
   },
   "source": [
    "## Summary"
   ]
  },
  {
   "cell_type": "markdown",
   "metadata": {
    "hidden": true
   },
   "source": [
    "We now have a very efficient way to work with very large numpy arrays.\n",
    "\n",
    "The process is very simple:\n",
    "\n",
    "- create and save the array on disk (as described before)\n",
    "- load it with a mmap_mode='r'\n",
    "- itemify the array/s\n",
    "\n",
    "So my recommendation would be:\n",
    "\n",
    "- use numpy arrays in memory when possible (if your data fits in memory)\n",
    "- use numpy memmap (arrays on disk) when data doesn't fit. You will still have a great performance."
   ]
  }
 ],
 "metadata": {
  "kernelspec": {
   "display_name": "Python 3",
   "language": "python",
   "name": "python3"
  },
  "language_info": {
   "codemirror_mode": {
    "name": "ipython",
    "version": 3
   },
   "file_extension": ".py",
   "mimetype": "text/x-python",
   "name": "python",
   "nbconvert_exporter": "python",
   "pygments_lexer": "ipython3",
   "version": "3.7.3"
  },
  "toc": {
   "base_numbering": 1,
   "nav_menu": {},
   "number_sections": true,
   "sideBar": true,
   "skip_h1_title": false,
   "title_cell": "Table of Contents",
   "title_sidebar": "Contents",
   "toc_cell": false,
   "toc_position": {},
   "toc_section_display": true,
   "toc_window_display": false
  }
 },
 "nbformat": 4,
 "nbformat_minor": 2
}
