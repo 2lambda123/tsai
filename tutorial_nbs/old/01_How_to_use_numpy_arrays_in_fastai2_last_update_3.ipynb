{
 "cells": [
  {
   "cell_type": "markdown",
   "metadata": {
    "colab_type": "text",
    "id": "-GPTq4Pa4CK6"
   },
   "source": [
    "created by Ignacio Oguiza - email: oguiza@gmail.com"
   ]
  },
  {
   "cell_type": "markdown",
   "metadata": {
    "colab_type": "text",
    "heading_collapsed": true,
    "id": "q5zvCtPaIvkU"
   },
   "source": [
    "## How to work with numpy arrays in fastai2: a time series classification example ⏳ "
   ]
  },
  {
   "cell_type": "markdown",
   "metadata": {
    "colab_type": "text",
    "hidden": true,
    "id": "3qjaXUSuIvkX"
   },
   "source": [
    "I'd like to share with you how you can work with numpy arrays in **fastai2** through a time series classification example. To be able to use fastai v2 I have a few requirements: \n",
    "\n",
    "\n",
    "* Use univariate and multivariate time series\n",
    "* Use labeled (X,y) and unlabeled (X,) datasets\n",
    "* Data may be already split in train/ valid\n",
    "* In-memory and on-disk np.arrays (np.memmap in case of larger than RAM data)\n",
    "* Slice the dataset (based on selected variables and/ or sequence steps)\n",
    "* Use item and batch tfms\n",
    "* Create batch with specified output types (TSTensor, TensorCategory, etc)\n",
    "* Show batch (with tfms)\n",
    "* Show results\n",
    "* Add test data and unlabeled datasets\n",
    "* Export and predict on new data\n",
    "* Equal or better performance than native Pytorch, fastai v1 & vanilla fastai v2\n",
    "\n",
    "These are pretty challanging. Let's see if fastai2 can meet them (with limited customization)."
   ]
  },
  {
   "cell_type": "markdown",
   "metadata": {
    "colab_type": "text",
    "heading_collapsed": true,
    "id": "OBW2olZbIvka"
   },
   "source": [
    "## Import libraries 📚"
   ]
  },
  {
   "cell_type": "code",
   "execution_count": 3,
   "metadata": {
    "ExecuteTime": {
     "end_time": "2020-04-08T09:14:10.459872Z",
     "start_time": "2020-04-08T09:14:10.369202Z"
    },
    "colab": {
     "base_uri": "https://localhost:8080/",
     "height": 1000
    },
    "colab_type": "code",
    "hidden": true,
    "id": "srz0mwuvIvkc",
    "outputId": "0aa9165c-92bd-430d-be46-4523d041c762"
   },
   "outputs": [],
   "source": [
    "import sys\n",
    "import os\n",
    "ISCOLAB = 'google.colab' in sys.modules\n",
    "if ISCOLAB:\n",
    "    if not os.path.isdir('/content/timeseriesAI2'):\n",
    "        !pip install git+https://github.com/fastai/fastai2 \n",
    "        !pip install git+https://github.com/fastai/fastcore \n",
    "        !pip install pyunpack\n",
    "        !pip install sktime\n",
    "        !git clone https://github.com/timeseriesAI/timeseriesAI2.git\n",
    "        %cd timeseriesAI2\n",
    "    else: \n",
    "        path = !pwd\n",
    "        if path != ['/content/timeseriesAI2']: \n",
    "            %cd timeseriesAI2\n",
    "        !pwd"
   ]
  },
  {
   "cell_type": "code",
   "execution_count": 4,
   "metadata": {
    "ExecuteTime": {
     "end_time": "2020-04-08T09:14:12.204147Z",
     "start_time": "2020-04-08T09:14:12.198649Z"
    },
    "colab": {},
    "colab_type": "code",
    "hidden": true,
    "id": "Kqq8BBL__k6N"
   },
   "outputs": [],
   "source": [
    "# # Uncomment if need to reload repo\n",
    "# %cd ..\n",
    "# !rm -rf timeseriesAI2\n",
    "\n",
    "# !git clone https://github.com/timeseriesAI/timeseriesAI2.git\n",
    "# %cd timeseriesAI2"
   ]
  },
  {
   "cell_type": "code",
   "execution_count": 5,
   "metadata": {
    "ExecuteTime": {
     "end_time": "2020-04-08T09:14:35.891504Z",
     "start_time": "2020-04-08T09:14:13.429093Z"
    },
    "colab": {
     "base_uri": "https://localhost:8080/",
     "height": 16
    },
    "colab_type": "code",
    "hidden": true,
    "id": "wuOxM-WJIvkq",
    "outputId": "3b6a097e-59c7-4225-a0dd-2738c33e2ac4"
   },
   "outputs": [
    {
     "data": {
      "text/html": [
       "<style>.container {width:95% !important; }</style>"
      ],
      "text/plain": [
       "<IPython.core.display.HTML object>"
      ]
     },
     "metadata": {},
     "output_type": "display_data"
    }
   ],
   "source": [
    "from timeseries import *\n",
    "display(HTML(\"<style>.container {width:95% !important; }</style>\"))"
   ]
  },
  {
   "cell_type": "code",
   "execution_count": 4,
   "metadata": {
    "ExecuteTime": {
     "end_time": "2020-04-05T18:36:07.275305Z",
     "start_time": "2020-04-05T18:36:06.978681Z"
    },
    "colab": {
     "base_uri": "https://localhost:8080/",
     "height": 194
    },
    "colab_type": "code",
    "hidden": true,
    "id": "p0YwdQijzLJX",
    "outputId": "0e155fdf-1e47-4586-81e8-d18b7ca490f5"
   },
   "outputs": [
    {
     "name": "stdout",
     "output_type": "stream",
     "text": [
      "fastai2    : 0.0.17\n",
      "fastcore   : 0.1.17\n",
      "torch      : 1.4.0\n",
      "scipy      : 1.4.1\n",
      "numpy      : 1.18.2\n",
      "pandas     : 1.0.3\n",
      "Total RAM  : 12.72 GB\n",
      "Used RAM   :  0.66 GB\n",
      "n_cpus     : 2\n",
      "device     : cuda (Tesla P100-PCIE-16GB)\n"
     ]
    }
   ],
   "source": [
    "print('fastai2    :', fastai2.__version__)\n",
    "print('fastcore   :', fastcore.__version__)\n",
    "print('torch      :', torch.__version__)\n",
    "print('scipy      :', sp.__version__)\n",
    "print('numpy      :', np.__version__)\n",
    "print('pandas     :', pd.__version__)\n",
    "print(f'Total RAM  : {bytes2GB(psutil.virtual_memory().total):5.2f} GB')\n",
    "print(f'Used RAM   : {bytes2GB(psutil.virtual_memory().used):5.2f} GB')\n",
    "print('n_cpus     :', cpus)\n",
    "iscuda = torch.cuda.is_available()\n",
    "if iscuda: print('device     : {} ({})'.format(device, torch.cuda.get_device_name(0)))\n",
    "else: print('device     :', device)"
   ]
  },
  {
   "cell_type": "markdown",
   "metadata": {
    "colab_type": "text",
    "heading_collapsed": true,
    "id": "UH35-QcZIvlJ"
   },
   "source": [
    "## Load data 🔢"
   ]
  },
  {
   "cell_type": "code",
   "execution_count": 6,
   "metadata": {
    "ExecuteTime": {
     "end_time": "2020-04-05T18:36:08.279256Z",
     "start_time": "2020-04-05T18:36:07.285562Z"
    },
    "colab": {
     "base_uri": "https://localhost:8080/",
     "height": 158
    },
    "colab_type": "code",
    "hidden": true,
    "id": "vWoMUpdCIvlL",
    "outputId": "1f8c169e-80b5-4649-b611-464aa401695d"
   },
   "outputs": [
    {
     "name": "stdout",
     "output_type": "stream",
     "text": [
      "Dataset: StarLightCurves\n",
      "Downloading and decompressing data to data/UCR/StarLightCurves...\n",
      "...data downloaded and decompressed\n",
      "X_train: (1000, 1, 1024)\n",
      "y_train: (1000,)\n",
      "X_valid: (8236, 1, 1024)\n",
      "y_valid: (8236,) \n",
      "\n"
     ]
    }
   ],
   "source": [
    "# dataset id\n",
    "dsid = 'StarLightCurves'\n",
    "X_train, y_train, X_valid, y_valid = get_UCR_data(dsid, parent_dir='./data/UCR/', verbose=True, on_disk=True)\n",
    "X_in_memory = np.concatenate((X_train, X_valid))\n",
    "y_in_memory = np.concatenate((y_train, y_valid))\n",
    "folder = './data/UCR'\n",
    "np.save(f'{folder}/{dsid}/X.npy', X_in_memory)\n",
    "np.save(f'{folder}/{dsid}/y.npy', y_in_memory)\n",
    "X_on_disk = np.load(f'{folder}/{dsid}/X.npy', mmap_mode='r')\n",
    "y_on_disk = np.load(f'{folder}/{dsid}/y.npy', mmap_mode='r')\n",
    "splits = (L(list(np.arange(len(X_train)))), L(list(np.arange(len(X_train), len(X_on_disk)))))"
   ]
  },
  {
   "cell_type": "markdown",
   "metadata": {
    "colab_type": "text",
    "heading_collapsed": true,
    "id": "J3omC6C74CM2"
   },
   "source": [
    "## Building block: NumpyTensor/ TSTensor 🧱"
   ]
  },
  {
   "cell_type": "markdown",
   "metadata": {
    "colab_type": "text",
    "hidden": true,
    "id": "I0SXbRVt4CM3"
   },
   "source": [
    "Since fastai is based on Pytorch, you'll need to somehow transform the numpy arrays to tensors at some point (NumpyTensor or TSTensor in our case). There's a transform function called ToNumpyTensor/ ToTSTensor that transforms an array into a tensor of type NumpyTensor/ TSTensor (which have a show method)."
   ]
  },
  {
   "cell_type": "code",
   "execution_count": 6,
   "metadata": {
    "ExecuteTime": {
     "end_time": "2020-04-08T09:14:35.925802Z",
     "start_time": "2020-04-08T09:14:35.898749Z"
    },
    "hidden": true
   },
   "outputs": [],
   "source": [
    "class NumpyTensor(TensorBase):\n",
    "    def __new__(cls, o, **kwargs): \n",
    "        res = tensor(o)\n",
    "        res.__class__ = cls\n",
    "        res._meta = kwargs\n",
    "        return res\n",
    "    \n",
    "    def __getitem__(self, idx):\n",
    "        res = super().__getitem__(idx)\n",
    "        return self.__class__(res)\n",
    "\n",
    "    def __repr__(self):\n",
    "        return f'NumpyTensor(shape:{list(self.shape)})'\n",
    "\n",
    "    def show(self, ax=None, ctx=None, title=None, title_color='black', **kwargs):\n",
    "        if self.ndim != 2: self = self.__class__(To2DTensor(self))\n",
    "        ax = ifnone(ax,ctx)\n",
    "        if ax is None: fig, ax = plt.subplots(**kwargs)\n",
    "        ax.plot(self.T)\n",
    "        ax.axis(xmin=0, xmax=self.shape[-1] - 1)\n",
    "        ax.set_title(title, weight='bold', color=title_color)\n",
    "        plt.tight_layout()\n",
    "        return ax\n",
    "\n",
    "@Transform\n",
    "def ToNumpyTensor(o:(np.ndarray, torch.Tensor)): \n",
    "    return NumpyTensor(o)"
   ]
  },
  {
   "cell_type": "code",
   "execution_count": 7,
   "metadata": {
    "ExecuteTime": {
     "end_time": "2020-04-08T09:14:35.968699Z",
     "start_time": "2020-04-08T09:14:35.934160Z"
    },
    "colab": {},
    "colab_type": "code",
    "hidden": true,
    "id": "QvdowrMK4CM5"
   },
   "outputs": [],
   "source": [
    "class TSTensor(TensorBase):\n",
    "    '''Returns a tensor oftype torch.float32 and class TSTensor'''\n",
    "    def __new__(cls, o, **kwargs): \n",
    "        res = tensor(o)\n",
    "        res.__class__ = cls\n",
    "        res._meta = kwargs\n",
    "        return res\n",
    "\n",
    "    @property\n",
    "    def vars(self): return self.shape[-2]\n",
    "\n",
    "    @property\n",
    "    def length(self): return self.shape[-1]\n",
    "    \n",
    "    def __getitem__(self, idx):\n",
    "        res = super().__getitem__(idx)\n",
    "        return self.__class__(res)\n",
    "\n",
    "    def __repr__(self):\n",
    "        if self.ndim >= 3:   return f'TSTensor(samples:{self.shape[-3]}, vars:{self.shape[-2]}, len:{self.shape[-1]})'\n",
    "        elif self.ndim == 2: return f'TSTensor(vars:{self.shape[-2]}, len:{self.shape[-1]})'\n",
    "        elif self.ndim == 1: return f'TSTensor(len:{self.shape[-1]})'\n",
    "        else: return f'TSTensor(float)'\n",
    "\n",
    "    def show(self, ax=None, ctx=None, title=None, title_color='black', **kwargs):\n",
    "        if self.ndim != 2: self = self.__class__(To2DTensor(self))\n",
    "        ax = ifnone(ax,ctx)\n",
    "        if ax is None: fig, ax = plt.subplots(**kwargs)\n",
    "        ax.plot(self.T)\n",
    "        ax.axis(xmin=0, xmax=self.shape[-1] - 1)\n",
    "        ax.set_title(title, weight='bold', color=title_color)\n",
    "        plt.tight_layout()\n",
    "        return ax\n",
    "\n",
    "@Transform\n",
    "def ToTSTensor(o:(np.ndarray, torch.Tensor), dtype=torch.float32, **kwargs): \n",
    "    \"\"\" Transforms input to tensor of dtype torch.float32\"\"\"\n",
    "    return TSTensor(o, dtype=dtype, **kwargs)"
   ]
  },
  {
   "cell_type": "code",
   "execution_count": 8,
   "metadata": {
    "ExecuteTime": {
     "end_time": "2020-04-08T09:14:36.747533Z",
     "start_time": "2020-04-08T09:14:35.975180Z"
    },
    "colab": {
     "base_uri": "https://localhost:8080/",
     "height": 296
    },
    "colab_type": "code",
    "hidden": true,
    "id": "D1IoxjQk4CNA",
    "outputId": "1a345c6d-74fb-403f-b315-b4abb5b157c5"
   },
   "outputs": [
    {
     "data": {
      "image/png": "[encoded data removed]",
      "text/plain": [
       "<Figure size 432x288 with 1 Axes>"
      ]
     },
     "metadata": {
      "needs_background": "light"
     },
     "output_type": "display_data"
    }
   ],
   "source": [
    "nt = NumpyTensor(np.random.rand(4, 6))\n",
    "nt.show();"
   ]
  },
  {
   "cell_type": "code",
   "execution_count": 9,
   "metadata": {
    "ExecuteTime": {
     "end_time": "2020-04-08T09:14:37.435309Z",
     "start_time": "2020-04-08T09:14:36.753087Z"
    },
    "colab": {
     "base_uri": "https://localhost:8080/",
     "height": 296
    },
    "colab_type": "code",
    "hidden": true,
    "id": "R6ShXkic4CNL",
    "outputId": "d562518e-8e01-43d2-b1c7-483c9d052bbf"
   },
   "outputs": [
    {
     "data": {
      "image/png": "[encoded data removed]",
      "text/plain": [
       "<Figure size 432x288 with 1 Axes>"
      ]
     },
     "metadata": {
      "needs_background": "light"
     },
     "output_type": "display_data"
    }
   ],
   "source": [
    "tstensor = TSTensor(np.random.rand(10, 3, 50))\n",
    "tstensor[0].show();"
   ]
  },
  {
   "cell_type": "markdown",
   "metadata": {
    "colab_type": "text",
    "heading_collapsed": true,
    "id": "8nvRSEZrIvlV"
   },
   "source": [
    "## Performance benchmarks ⏱"
   ]
  },
  {
   "cell_type": "markdown",
   "metadata": {
    "colab_type": "text",
    "hidden": true,
    "id": "ScoSJzcw4CNW"
   },
   "source": [
    "In fastai v2 there are multiple options to creaet a dataloaders. Let's see some of them and most importantly wheteher they meet our requirements.\n",
    "\n",
    "I will compare 2 processes: \n",
    "\n",
    "- cycle_dl: process to load the entire valid dataset (adapted from a function developed by Thomas Capelle (fastai's @tcapelle))\n",
    "- train model for 25 epochs"
   ]
  },
  {
   "cell_type": "markdown",
   "metadata": {
    "colab_type": "text",
    "heading_collapsed": true,
    "hidden": true,
    "id": "C5Um1xqaIvlX"
   },
   "source": [
    "### Generic Pytorch dataloader"
   ]
  },
  {
   "cell_type": "code",
   "execution_count": 0,
   "metadata": {
    "ExecuteTime": {
     "end_time": "2020-04-05T18:36:08.554907Z",
     "start_time": "2020-04-05T18:36:08.284904Z"
    },
    "colab": {},
    "colab_type": "code",
    "hidden": true,
    "id": "_hvOyRymIvlY"
   },
   "outputs": [],
   "source": [
    "# # Native Pytorch\n",
    "# class PytorchDataset():\n",
    "#     def __init__(self, X, y=None): self.X, self.y = torch.as_tensor(X), torch.as_tensor(y)\n",
    "#     def __getitem__(self, idx): return (self.X[idx], self.y[idx])\n",
    "#     def __len__(self): return len(self.X)"
   ]
  },
  {
   "cell_type": "code",
   "execution_count": 11,
   "metadata": {
    "colab": {
     "base_uri": "https://localhost:8080/",
     "height": 52
    },
    "colab_type": "code",
    "hidden": true,
    "id": "aeFHdH08UWv1",
    "outputId": "11e24959-6f4c-4270-aa10-bc8a42c79585"
   },
   "outputs": [
    {
     "name": "stdout",
     "output_type": "stream",
     "text": [
      "shape: 8236         bs: torch.Size([128, 1, 1024])\n",
      "10 loops, best of 3: 47.2 ms per loop\n"
     ]
    }
   ],
   "source": [
    "ds    = PytorchDataset(np.array(X_valid), np.array(y_valid).astype(int))\n",
    "dl    = torch.utils.data.DataLoader(ds, batch_size=128)\n",
    "xb,yb = next(iter(dl))\n",
    "print(f'shape: {str(len(ds)):10}   bs: {xb.shape}')\n",
    "%timeit cycle_dl(dl)"
   ]
  },
  {
   "cell_type": "markdown",
   "metadata": {
    "colab_type": "text",
    "hidden": true,
    "id": "JbmjOQ4AASCQ"
   },
   "source": [
    "This is the most simple dataset we can have. This doesn't allow us to perform any transforms, show_batch, etc. It cannot be used inside fastai.\n",
    "\n",
    "I've included it for reference, as this dataloader is pretty fast (around 50 ms to cycle the entire dataset). This will be difficult to beat 😅!"
   ]
  },
  {
   "cell_type": "markdown",
   "metadata": {
    "colab_type": "text",
    "heading_collapsed": true,
    "hidden": true,
    "id": "eghDOIQgIvls"
   },
   "source": [
    "### Fastai v1"
   ]
  },
  {
   "cell_type": "markdown",
   "metadata": {
    "colab_type": "text",
    "hidden": true,
    "id": "y3JalSKlIvlu"
   },
   "source": [
    "For comparison, I've run the same exact test in the same machine with fastai v1 timeseries code and these are the timings: : \n",
    "\n",
    "- cycle_dl:  1.01s\n",
    "- training time: 102 s\n",
    "\n",
    "This 102 seconds is what we'll try to beat."
   ]
  },
  {
   "cell_type": "markdown",
   "metadata": {
    "colab_type": "text",
    "heading_collapsed": true,
    "hidden": true,
    "id": "j9Rir4b64CNo"
   },
   "source": [
    "### Fastai v2:  Factory method"
   ]
  },
  {
   "cell_type": "code",
   "execution_count": 0,
   "metadata": {
    "ExecuteTime": {
     "end_time": "2020-04-05T18:55:39.450377Z",
     "start_time": "2020-04-05T18:55:39.089884Z"
    },
    "colab": {},
    "colab_type": "code",
    "hidden": true,
    "id": "7iUtNYJk4CNp"
   },
   "outputs": [],
   "source": [
    "class TSDataLoaders(DataLoaders):\n",
    "    @classmethod\n",
    "    @delegates(DataLoaders.from_dblock)\n",
    "    def from_numpy(cls, X, y=None, splitter=None, valid_pct=0.2, seed=0, item_tfms=None, batch_tfms=None, **kwargs):\n",
    "        \"Create timeseries dataloaders from arrays (X and y, unless unlabeled)\"\n",
    "        if splitter is None: splitter = RandomSplitter(valid_pct=valid_pct, seed=seed)\n",
    "        getters = [ItemGetter(0), ItemGetter(1)] if y is not None else [ItemGetter(0)]\n",
    "        dblock = DataBlock(blocks=(TSTensorBlock, CategoryBlock),\n",
    "                           getters=getters,\n",
    "                           splitter=splitter,\n",
    "                           item_tfms=item_tfms,\n",
    "                           batch_tfms=batch_tfms)\n",
    "\n",
    "        source = itemify(X) if y is None else itemify(X,y)\n",
    "        return cls.from_dblock(dblock, source, **kwargs)"
   ]
  },
  {
   "cell_type": "code",
   "execution_count": 13,
   "metadata": {
    "ExecuteTime": {
     "end_time": "2020-04-05T18:56:09.059551Z",
     "start_time": "2020-04-05T18:56:06.439333Z"
    },
    "colab": {
     "base_uri": "https://localhost:8080/",
     "height": 141
    },
    "colab_type": "code",
    "hidden": true,
    "id": "4UvtkJwN4CNu",
    "outputId": "7a8c6449-0236-4142-99d1-1cb64c421154"
   },
   "outputs": [
    {
     "data": {
      "text/plain": [
       "(TSTensor(samples:128, vars:1, len:1024),\n",
       " TensorCategory([1, 2, 2, 0, 1, 2, 2, 2, 1, 2, 2, 2, 2, 2, 2, 0, 2, 2, 2, 0, 0, 2, 2, 2,\n",
       "         1, 0, 2, 0, 2, 1, 2, 2, 1, 2, 1, 1, 1, 1, 1, 2, 2, 0, 2, 2, 1, 0, 0, 2,\n",
       "         2, 2, 2, 1, 0, 0, 2, 2, 2, 2, 2, 2, 0, 0, 1, 2, 2, 1, 2, 2, 2, 0, 0, 2,\n",
       "         1, 1, 1, 2, 2, 1, 1, 1, 1, 2, 2, 2, 2, 2, 1, 1, 2, 1, 2, 2, 0, 2, 0, 2,\n",
       "         2, 2, 2, 2, 2, 2, 1, 1, 1, 2, 2, 2, 1, 0, 2, 2, 0, 2, 2, 1, 2, 1, 2, 2,\n",
       "         2, 2, 2, 2, 1, 2, 2, 0], device='cuda:0'))"
      ]
     },
     "execution_count": 13,
     "metadata": {
      "tags": []
     },
     "output_type": "execute_result"
    }
   ],
   "source": [
    "dls = TSDataLoaders.from_numpy(X_in_memory, y_in_memory, splitter=IndexSplitter(splits[1]), bs=64, val_bs=128)\n",
    "t = next(iter(dls.valid))\n",
    "t"
   ]
  },
  {
   "cell_type": "code",
   "execution_count": 14,
   "metadata": {
    "colab": {
     "base_uri": "https://localhost:8080/",
     "height": 52
    },
    "colab_type": "code",
    "hidden": true,
    "id": "0tqyW1BW4CN0",
    "outputId": "bd5e42ed-9326-4d7a-edac-9127c650a0c6"
   },
   "outputs": [
    {
     "name": "stdout",
     "output_type": "stream",
     "text": [
      "CPU times: user 94.1 ms, sys: 60.9 ms, total: 155 ms\n",
      "Wall time: 3.02 s\n"
     ]
    }
   ],
   "source": [
    "%time cycle_dl(dls.valid)"
   ]
  },
  {
   "cell_type": "code",
   "execution_count": 15,
   "metadata": {
    "colab": {
     "base_uri": "https://localhost:8080/",
     "height": 815
    },
    "colab_type": "code",
    "hidden": true,
    "id": "3TnXmY3W4CN7",
    "outputId": "54407c5a-1910-4a9f-ab1e-55c3e7de7fa7"
   },
   "outputs": [
    {
     "data": {
      "text/html": [
       "<table border=\"1\" class=\"dataframe\">\n",
       "  <thead>\n",
       "    <tr style=\"text-align: left;\">\n",
       "      <th>epoch</th>\n",
       "      <th>train_loss</th>\n",
       "      <th>valid_loss</th>\n",
       "      <th>accuracy</th>\n",
       "      <th>time</th>\n",
       "    </tr>\n",
       "  </thead>\n",
       "  <tbody>\n",
       "    <tr>\n",
       "      <td>0</td>\n",
       "      <td>0.773913</td>\n",
       "      <td>1.076612</td>\n",
       "      <td>0.143273</td>\n",
       "      <td>00:05</td>\n",
       "    </tr>\n",
       "    <tr>\n",
       "      <td>1</td>\n",
       "      <td>0.620511</td>\n",
       "      <td>0.692732</td>\n",
       "      <td>0.837057</td>\n",
       "      <td>00:05</td>\n",
       "    </tr>\n",
       "    <tr>\n",
       "      <td>2</td>\n",
       "      <td>0.514848</td>\n",
       "      <td>0.467747</td>\n",
       "      <td>0.847013</td>\n",
       "      <td>00:05</td>\n",
       "    </tr>\n",
       "    <tr>\n",
       "      <td>3</td>\n",
       "      <td>0.434807</td>\n",
       "      <td>2.182418</td>\n",
       "      <td>0.419500</td>\n",
       "      <td>00:05</td>\n",
       "    </tr>\n",
       "    <tr>\n",
       "      <td>4</td>\n",
       "      <td>0.368843</td>\n",
       "      <td>2.002529</td>\n",
       "      <td>0.431277</td>\n",
       "      <td>00:05</td>\n",
       "    </tr>\n",
       "    <tr>\n",
       "      <td>5</td>\n",
       "      <td>0.307304</td>\n",
       "      <td>0.394070</td>\n",
       "      <td>0.855634</td>\n",
       "      <td>00:05</td>\n",
       "    </tr>\n",
       "    <tr>\n",
       "      <td>6</td>\n",
       "      <td>0.260759</td>\n",
       "      <td>0.160155</td>\n",
       "      <td>0.945119</td>\n",
       "      <td>00:05</td>\n",
       "    </tr>\n",
       "    <tr>\n",
       "      <td>7</td>\n",
       "      <td>0.226270</td>\n",
       "      <td>0.158245</td>\n",
       "      <td>0.952040</td>\n",
       "      <td>00:05</td>\n",
       "    </tr>\n",
       "    <tr>\n",
       "      <td>8</td>\n",
       "      <td>0.198179</td>\n",
       "      <td>0.121649</td>\n",
       "      <td>0.968674</td>\n",
       "      <td>00:05</td>\n",
       "    </tr>\n",
       "    <tr>\n",
       "      <td>9</td>\n",
       "      <td>0.172922</td>\n",
       "      <td>0.105524</td>\n",
       "      <td>0.976202</td>\n",
       "      <td>00:05</td>\n",
       "    </tr>\n",
       "    <tr>\n",
       "      <td>10</td>\n",
       "      <td>0.151063</td>\n",
       "      <td>0.093648</td>\n",
       "      <td>0.974016</td>\n",
       "      <td>00:05</td>\n",
       "    </tr>\n",
       "    <tr>\n",
       "      <td>11</td>\n",
       "      <td>0.133503</td>\n",
       "      <td>0.354982</td>\n",
       "      <td>0.845192</td>\n",
       "      <td>00:05</td>\n",
       "    </tr>\n",
       "    <tr>\n",
       "      <td>12</td>\n",
       "      <td>0.119764</td>\n",
       "      <td>0.101798</td>\n",
       "      <td>0.970131</td>\n",
       "      <td>00:05</td>\n",
       "    </tr>\n",
       "    <tr>\n",
       "      <td>13</td>\n",
       "      <td>0.106421</td>\n",
       "      <td>0.102677</td>\n",
       "      <td>0.966610</td>\n",
       "      <td>00:05</td>\n",
       "    </tr>\n",
       "    <tr>\n",
       "      <td>14</td>\n",
       "      <td>0.100027</td>\n",
       "      <td>0.116180</td>\n",
       "      <td>0.971710</td>\n",
       "      <td>00:05</td>\n",
       "    </tr>\n",
       "    <tr>\n",
       "      <td>15</td>\n",
       "      <td>0.092136</td>\n",
       "      <td>0.091226</td>\n",
       "      <td>0.973774</td>\n",
       "      <td>00:05</td>\n",
       "    </tr>\n",
       "    <tr>\n",
       "      <td>16</td>\n",
       "      <td>0.085832</td>\n",
       "      <td>0.095075</td>\n",
       "      <td>0.969888</td>\n",
       "      <td>00:05</td>\n",
       "    </tr>\n",
       "    <tr>\n",
       "      <td>17</td>\n",
       "      <td>0.082972</td>\n",
       "      <td>0.090879</td>\n",
       "      <td>0.975109</td>\n",
       "      <td>00:05</td>\n",
       "    </tr>\n",
       "    <tr>\n",
       "      <td>18</td>\n",
       "      <td>0.077156</td>\n",
       "      <td>0.083075</td>\n",
       "      <td>0.976081</td>\n",
       "      <td>00:05</td>\n",
       "    </tr>\n",
       "    <tr>\n",
       "      <td>19</td>\n",
       "      <td>0.073840</td>\n",
       "      <td>0.094466</td>\n",
       "      <td>0.970738</td>\n",
       "      <td>00:05</td>\n",
       "    </tr>\n",
       "    <tr>\n",
       "      <td>20</td>\n",
       "      <td>0.068822</td>\n",
       "      <td>0.080726</td>\n",
       "      <td>0.976688</td>\n",
       "      <td>00:05</td>\n",
       "    </tr>\n",
       "    <tr>\n",
       "      <td>21</td>\n",
       "      <td>0.064765</td>\n",
       "      <td>0.078758</td>\n",
       "      <td>0.978873</td>\n",
       "      <td>00:05</td>\n",
       "    </tr>\n",
       "    <tr>\n",
       "      <td>22</td>\n",
       "      <td>0.061014</td>\n",
       "      <td>0.079831</td>\n",
       "      <td>0.976688</td>\n",
       "      <td>00:05</td>\n",
       "    </tr>\n",
       "    <tr>\n",
       "      <td>23</td>\n",
       "      <td>0.057772</td>\n",
       "      <td>0.078858</td>\n",
       "      <td>0.977780</td>\n",
       "      <td>00:05</td>\n",
       "    </tr>\n",
       "    <tr>\n",
       "      <td>24</td>\n",
       "      <td>0.055073</td>\n",
       "      <td>0.079984</td>\n",
       "      <td>0.976566</td>\n",
       "      <td>00:05</td>\n",
       "    </tr>\n",
       "  </tbody>\n",
       "</table>"
      ],
      "text/plain": [
       "<IPython.core.display.HTML object>"
      ]
     },
     "metadata": {
      "tags": []
     },
     "output_type": "display_data"
    },
    {
     "name": "stdout",
     "output_type": "stream",
     "text": [
      "129.90362572669983\n"
     ]
    }
   ],
   "source": [
    "model = InceptionTime(X_in_memory.shape[-2], dls.c)\n",
    "learn = Learner(dls, model, metrics=accuracy)\n",
    "start = time.time()\n",
    "learn.fit_one_cycle(25, lr_max=1e-3)\n",
    "print(time.time() - start)"
   ]
  },
  {
   "cell_type": "markdown",
   "metadata": {
    "colab_type": "text",
    "hidden": true,
    "id": "5cLWA1wl4COC"
   },
   "source": [
    "This method is very easy to use, but it's pretty slow."
   ]
  },
  {
   "cell_type": "markdown",
   "metadata": {
    "colab_type": "text",
    "heading_collapsed": true,
    "hidden": true,
    "id": "vvntqhIY4COD"
   },
   "source": [
    "### Fastai v2:  Datablock API"
   ]
  },
  {
   "cell_type": "code",
   "execution_count": 0,
   "metadata": {
    "colab": {},
    "colab_type": "code",
    "hidden": true,
    "id": "WnHr7Et-4COE"
   },
   "outputs": [],
   "source": [
    "class TSTensorBlock():\n",
    "    \"A basic wrapper that links defaults transforms for the data block API\"\n",
    "    def __init__(self, type_tfms=None, item_tfms=None, batch_tfms=None, dl_type=None, dls_kwargs=None):\n",
    "        self.type_tfms  =              L(type_tfms)\n",
    "        self.item_tfms  = ToTSTensor + L(item_tfms)\n",
    "        self.batch_tfms =              L(batch_tfms)\n",
    "        self.dl_type,self.dls_kwargs = dl_type,({} if dls_kwargs is None else dls_kwargs)"
   ]
  },
  {
   "cell_type": "code",
   "execution_count": 17,
   "metadata": {
    "colab": {
     "base_uri": "https://localhost:8080/",
     "height": 52
    },
    "colab_type": "code",
    "hidden": true,
    "id": "OP4wpYBcgh-o",
    "outputId": "add2754f-a2d7-4fbb-f51b-e837060043d8"
   },
   "outputs": [
    {
     "name": "stdout",
     "output_type": "stream",
     "text": [
      "shape: 8236         bs: torch.Size([128, 1, 1024])\n",
      "1 loop, best of 3: 3.26 s per loop\n"
     ]
    }
   ],
   "source": [
    "getters = [ItemGetter(0), ItemGetter(1)]\n",
    "dblock = DataBlock(blocks=(TSTensorBlock, CategoryBlock()),\n",
    "                   getters=getters,\n",
    "                   splitter=IndexSplitter(splits[1]),\n",
    "                   item_tfms=None,\n",
    "                   batch_tfms=None)\n",
    "source = itemify(X_in_memory, y_in_memory)\n",
    "dls = dblock.dataloaders(source, bs=64, val_bs=128, num_workers=0)\n",
    "xb,yb = next(iter(dls.valid))\n",
    "print(f'shape: {str(len(dls.valid.dataset)):10}   bs: {xb.shape}')\n",
    "%timeit cycle_dl(dls.valid)"
   ]
  },
  {
   "cell_type": "markdown",
   "metadata": {
    "colab_type": "text",
    "hidden": true,
    "id": "CgA-r2UJNih0"
   },
   "source": [
    "So it takes > 3 s to cycle the entire dataloader. This is much slower than Pytorch simple model (although fastai v2 provides a lot more functionality!)."
   ]
  },
  {
   "cell_type": "code",
   "execution_count": 18,
   "metadata": {
    "colab": {
     "base_uri": "https://localhost:8080/",
     "height": 815
    },
    "colab_type": "code",
    "hidden": true,
    "id": "TU4dch2KJ-RI",
    "outputId": "7fe6a4be-3ab3-42b5-9fac-4abe1068ce1b"
   },
   "outputs": [
    {
     "data": {
      "text/html": [
       "<table border=\"1\" class=\"dataframe\">\n",
       "  <thead>\n",
       "    <tr style=\"text-align: left;\">\n",
       "      <th>epoch</th>\n",
       "      <th>train_loss</th>\n",
       "      <th>valid_loss</th>\n",
       "      <th>accuracy</th>\n",
       "      <th>time</th>\n",
       "    </tr>\n",
       "  </thead>\n",
       "  <tbody>\n",
       "    <tr>\n",
       "      <td>0</td>\n",
       "      <td>0.737062</td>\n",
       "      <td>1.041777</td>\n",
       "      <td>0.279869</td>\n",
       "      <td>00:07</td>\n",
       "    </tr>\n",
       "    <tr>\n",
       "      <td>1</td>\n",
       "      <td>0.594224</td>\n",
       "      <td>0.738383</td>\n",
       "      <td>0.850534</td>\n",
       "      <td>00:06</td>\n",
       "    </tr>\n",
       "    <tr>\n",
       "      <td>2</td>\n",
       "      <td>0.494184</td>\n",
       "      <td>0.548935</td>\n",
       "      <td>0.827465</td>\n",
       "      <td>00:06</td>\n",
       "    </tr>\n",
       "    <tr>\n",
       "      <td>3</td>\n",
       "      <td>0.415249</td>\n",
       "      <td>0.372656</td>\n",
       "      <td>0.855877</td>\n",
       "      <td>00:06</td>\n",
       "    </tr>\n",
       "    <tr>\n",
       "      <td>4</td>\n",
       "      <td>0.348832</td>\n",
       "      <td>0.458948</td>\n",
       "      <td>0.856605</td>\n",
       "      <td>00:06</td>\n",
       "    </tr>\n",
       "    <tr>\n",
       "      <td>5</td>\n",
       "      <td>0.302510</td>\n",
       "      <td>1.211509</td>\n",
       "      <td>0.682856</td>\n",
       "      <td>00:06</td>\n",
       "    </tr>\n",
       "    <tr>\n",
       "      <td>6</td>\n",
       "      <td>0.262590</td>\n",
       "      <td>0.199042</td>\n",
       "      <td>0.960539</td>\n",
       "      <td>00:06</td>\n",
       "    </tr>\n",
       "    <tr>\n",
       "      <td>7</td>\n",
       "      <td>0.222744</td>\n",
       "      <td>0.188022</td>\n",
       "      <td>0.968796</td>\n",
       "      <td>00:06</td>\n",
       "    </tr>\n",
       "    <tr>\n",
       "      <td>8</td>\n",
       "      <td>0.192664</td>\n",
       "      <td>0.101375</td>\n",
       "      <td>0.975474</td>\n",
       "      <td>00:06</td>\n",
       "    </tr>\n",
       "    <tr>\n",
       "      <td>9</td>\n",
       "      <td>0.167375</td>\n",
       "      <td>0.122871</td>\n",
       "      <td>0.967339</td>\n",
       "      <td>00:06</td>\n",
       "    </tr>\n",
       "    <tr>\n",
       "      <td>10</td>\n",
       "      <td>0.147510</td>\n",
       "      <td>0.142800</td>\n",
       "      <td>0.952525</td>\n",
       "      <td>00:06</td>\n",
       "    </tr>\n",
       "    <tr>\n",
       "      <td>11</td>\n",
       "      <td>0.129360</td>\n",
       "      <td>0.181742</td>\n",
       "      <td>0.930185</td>\n",
       "      <td>00:06</td>\n",
       "    </tr>\n",
       "    <tr>\n",
       "      <td>12</td>\n",
       "      <td>0.123042</td>\n",
       "      <td>0.176857</td>\n",
       "      <td>0.957504</td>\n",
       "      <td>00:06</td>\n",
       "    </tr>\n",
       "    <tr>\n",
       "      <td>13</td>\n",
       "      <td>0.112511</td>\n",
       "      <td>0.098635</td>\n",
       "      <td>0.970738</td>\n",
       "      <td>00:06</td>\n",
       "    </tr>\n",
       "    <tr>\n",
       "      <td>14</td>\n",
       "      <td>0.104256</td>\n",
       "      <td>0.086667</td>\n",
       "      <td>0.975959</td>\n",
       "      <td>00:06</td>\n",
       "    </tr>\n",
       "    <tr>\n",
       "      <td>15</td>\n",
       "      <td>0.094919</td>\n",
       "      <td>0.122595</td>\n",
       "      <td>0.957504</td>\n",
       "      <td>00:06</td>\n",
       "    </tr>\n",
       "    <tr>\n",
       "      <td>16</td>\n",
       "      <td>0.085962</td>\n",
       "      <td>0.087621</td>\n",
       "      <td>0.976081</td>\n",
       "      <td>00:06</td>\n",
       "    </tr>\n",
       "    <tr>\n",
       "      <td>17</td>\n",
       "      <td>0.083077</td>\n",
       "      <td>0.085093</td>\n",
       "      <td>0.977052</td>\n",
       "      <td>00:06</td>\n",
       "    </tr>\n",
       "    <tr>\n",
       "      <td>18</td>\n",
       "      <td>0.074878</td>\n",
       "      <td>0.082916</td>\n",
       "      <td>0.977295</td>\n",
       "      <td>00:06</td>\n",
       "    </tr>\n",
       "    <tr>\n",
       "      <td>19</td>\n",
       "      <td>0.068326</td>\n",
       "      <td>0.083322</td>\n",
       "      <td>0.978023</td>\n",
       "      <td>00:06</td>\n",
       "    </tr>\n",
       "    <tr>\n",
       "      <td>20</td>\n",
       "      <td>0.063118</td>\n",
       "      <td>0.078826</td>\n",
       "      <td>0.978145</td>\n",
       "      <td>00:06</td>\n",
       "    </tr>\n",
       "    <tr>\n",
       "      <td>21</td>\n",
       "      <td>0.058064</td>\n",
       "      <td>0.081501</td>\n",
       "      <td>0.975109</td>\n",
       "      <td>00:06</td>\n",
       "    </tr>\n",
       "    <tr>\n",
       "      <td>22</td>\n",
       "      <td>0.053295</td>\n",
       "      <td>0.079347</td>\n",
       "      <td>0.976688</td>\n",
       "      <td>00:06</td>\n",
       "    </tr>\n",
       "    <tr>\n",
       "      <td>23</td>\n",
       "      <td>0.048514</td>\n",
       "      <td>0.077554</td>\n",
       "      <td>0.977659</td>\n",
       "      <td>00:06</td>\n",
       "    </tr>\n",
       "    <tr>\n",
       "      <td>24</td>\n",
       "      <td>0.045869</td>\n",
       "      <td>0.077765</td>\n",
       "      <td>0.977173</td>\n",
       "      <td>00:06</td>\n",
       "    </tr>\n",
       "  </tbody>\n",
       "</table>"
      ],
      "text/plain": [
       "<IPython.core.display.HTML object>"
      ]
     },
     "metadata": {
      "tags": []
     },
     "output_type": "display_data"
    },
    {
     "name": "stdout",
     "output_type": "stream",
     "text": [
      "166.2942316532135\n"
     ]
    }
   ],
   "source": [
    "model = InceptionTime(X_in_memory.shape[-2], dls.c)\n",
    "learn = Learner(dls, model, metrics=accuracy)\n",
    "start = time.time()\n",
    "learn.fit_one_cycle(25, lr_max=1e-3)\n",
    "print(time.time() - start)"
   ]
  },
  {
   "cell_type": "markdown",
   "metadata": {
    "colab_type": "text",
    "hidden": true,
    "id": "FDkLd5Z_9gfc"
   },
   "source": [
    "This is very slow compared to the native Pytorch, and even to fastai v1."
   ]
  },
  {
   "cell_type": "markdown",
   "metadata": {
    "colab_type": "text",
    "heading_collapsed": true,
    "hidden": true,
    "id": "DjtBvzhn9iZl"
   },
   "source": [
    "### Mixed Pytorch dataset + Fastai DataLoaders"
   ]
  },
  {
   "cell_type": "markdown",
   "metadata": {
    "colab_type": "text",
    "hidden": true,
    "id": "4rUFR5DFKW8f"
   },
   "source": [
    "\n",
    "\n",
    "Sylvain Gugger provided an alternative recommendation to use numpy arrays in this [post](https://forums.fast.ai/t/datablock-with-numpy-input/64848/2):\n",
    "\n",
    "\"You can create a DataLoaders object from regular PyTorch datasets (though all the visualization methods like show_batch and show_results will fail).\""
   ]
  },
  {
   "cell_type": "code",
   "execution_count": 19,
   "metadata": {
    "colab": {
     "base_uri": "https://localhost:8080/",
     "height": 52
    },
    "colab_type": "code",
    "hidden": true,
    "id": "lgCgZX6lIvl5",
    "outputId": "67b5f063-ed95-4aa3-ab44-35fb39dc8bb8"
   },
   "outputs": [
    {
     "name": "stdout",
     "output_type": "stream",
     "text": [
      "shape: 8236         bs: torch.Size([128, 1, 1024])\n",
      "1 loop, best of 3: 772 ms per loop\n"
     ]
    }
   ],
   "source": [
    "train_ds = PytorchDataset(np.array(X_train), np.array(y_train).astype(int) - 1)\n",
    "valid_ds = PytorchDataset(np.array(X_valid), np.array(y_valid).astype(int) - 1)\n",
    "dls = DataLoaders.from_dsets(train_ds, valid_ds, batch_size=128, num_workers=0, device=default_device())\n",
    "xb,yb = next(iter(dls.valid))\n",
    "print(f'shape: {str(len(dls.valid.dataset)):10}   bs: {xb.shape}')\n",
    "%timeit cycle_dl(dls.valid)"
   ]
  },
  {
   "cell_type": "code",
   "execution_count": 20,
   "metadata": {
    "colab": {
     "base_uri": "https://localhost:8080/",
     "height": 815
    },
    "colab_type": "code",
    "hidden": true,
    "id": "Vj5xki5cz74C",
    "outputId": "8f3f4b17-68f3-4c88-ff97-7303db0bde8b"
   },
   "outputs": [
    {
     "data": {
      "text/html": [
       "<table border=\"1\" class=\"dataframe\">\n",
       "  <thead>\n",
       "    <tr style=\"text-align: left;\">\n",
       "      <th>epoch</th>\n",
       "      <th>train_loss</th>\n",
       "      <th>valid_loss</th>\n",
       "      <th>accuracy</th>\n",
       "      <th>time</th>\n",
       "    </tr>\n",
       "  </thead>\n",
       "  <tbody>\n",
       "    <tr>\n",
       "      <td>0</td>\n",
       "      <td>0.907794</td>\n",
       "      <td>1.104778</td>\n",
       "      <td>0.279869</td>\n",
       "      <td>00:03</td>\n",
       "    </tr>\n",
       "    <tr>\n",
       "      <td>1</td>\n",
       "      <td>0.758172</td>\n",
       "      <td>1.036763</td>\n",
       "      <td>0.776712</td>\n",
       "      <td>00:03</td>\n",
       "    </tr>\n",
       "    <tr>\n",
       "      <td>2</td>\n",
       "      <td>0.656297</td>\n",
       "      <td>0.856869</td>\n",
       "      <td>0.835357</td>\n",
       "      <td>00:03</td>\n",
       "    </tr>\n",
       "    <tr>\n",
       "      <td>3</td>\n",
       "      <td>0.582669</td>\n",
       "      <td>0.654162</td>\n",
       "      <td>0.840457</td>\n",
       "      <td>00:03</td>\n",
       "    </tr>\n",
       "    <tr>\n",
       "      <td>4</td>\n",
       "      <td>0.524617</td>\n",
       "      <td>0.625574</td>\n",
       "      <td>0.854662</td>\n",
       "      <td>00:03</td>\n",
       "    </tr>\n",
       "    <tr>\n",
       "      <td>5</td>\n",
       "      <td>0.471048</td>\n",
       "      <td>0.542751</td>\n",
       "      <td>0.853448</td>\n",
       "      <td>00:03</td>\n",
       "    </tr>\n",
       "    <tr>\n",
       "      <td>6</td>\n",
       "      <td>0.428712</td>\n",
       "      <td>0.262246</td>\n",
       "      <td>0.923749</td>\n",
       "      <td>00:03</td>\n",
       "    </tr>\n",
       "    <tr>\n",
       "      <td>7</td>\n",
       "      <td>0.387910</td>\n",
       "      <td>0.352556</td>\n",
       "      <td>0.855634</td>\n",
       "      <td>00:03</td>\n",
       "    </tr>\n",
       "    <tr>\n",
       "      <td>8</td>\n",
       "      <td>0.349279</td>\n",
       "      <td>0.272079</td>\n",
       "      <td>0.963089</td>\n",
       "      <td>00:03</td>\n",
       "    </tr>\n",
       "    <tr>\n",
       "      <td>9</td>\n",
       "      <td>0.313974</td>\n",
       "      <td>0.204339</td>\n",
       "      <td>0.963939</td>\n",
       "      <td>00:03</td>\n",
       "    </tr>\n",
       "    <tr>\n",
       "      <td>10</td>\n",
       "      <td>0.280677</td>\n",
       "      <td>0.173480</td>\n",
       "      <td>0.936498</td>\n",
       "      <td>00:03</td>\n",
       "    </tr>\n",
       "    <tr>\n",
       "      <td>11</td>\n",
       "      <td>0.252948</td>\n",
       "      <td>0.242978</td>\n",
       "      <td>0.937955</td>\n",
       "      <td>00:03</td>\n",
       "    </tr>\n",
       "    <tr>\n",
       "      <td>12</td>\n",
       "      <td>0.232807</td>\n",
       "      <td>0.128735</td>\n",
       "      <td>0.969767</td>\n",
       "      <td>00:03</td>\n",
       "    </tr>\n",
       "    <tr>\n",
       "      <td>13</td>\n",
       "      <td>0.212429</td>\n",
       "      <td>0.108083</td>\n",
       "      <td>0.976809</td>\n",
       "      <td>00:03</td>\n",
       "    </tr>\n",
       "    <tr>\n",
       "      <td>14</td>\n",
       "      <td>0.195040</td>\n",
       "      <td>0.108919</td>\n",
       "      <td>0.976809</td>\n",
       "      <td>00:03</td>\n",
       "    </tr>\n",
       "    <tr>\n",
       "      <td>15</td>\n",
       "      <td>0.180199</td>\n",
       "      <td>0.158857</td>\n",
       "      <td>0.955925</td>\n",
       "      <td>00:03</td>\n",
       "    </tr>\n",
       "    <tr>\n",
       "      <td>16</td>\n",
       "      <td>0.167674</td>\n",
       "      <td>0.303183</td>\n",
       "      <td>0.858669</td>\n",
       "      <td>00:03</td>\n",
       "    </tr>\n",
       "    <tr>\n",
       "      <td>17</td>\n",
       "      <td>0.156047</td>\n",
       "      <td>0.097927</td>\n",
       "      <td>0.974745</td>\n",
       "      <td>00:03</td>\n",
       "    </tr>\n",
       "    <tr>\n",
       "      <td>18</td>\n",
       "      <td>0.144803</td>\n",
       "      <td>0.094012</td>\n",
       "      <td>0.976688</td>\n",
       "      <td>00:03</td>\n",
       "    </tr>\n",
       "    <tr>\n",
       "      <td>19</td>\n",
       "      <td>0.133754</td>\n",
       "      <td>0.098309</td>\n",
       "      <td>0.974988</td>\n",
       "      <td>00:03</td>\n",
       "    </tr>\n",
       "    <tr>\n",
       "      <td>20</td>\n",
       "      <td>0.124701</td>\n",
       "      <td>0.097480</td>\n",
       "      <td>0.974016</td>\n",
       "      <td>00:03</td>\n",
       "    </tr>\n",
       "    <tr>\n",
       "      <td>21</td>\n",
       "      <td>0.117342</td>\n",
       "      <td>0.090435</td>\n",
       "      <td>0.976809</td>\n",
       "      <td>00:03</td>\n",
       "    </tr>\n",
       "    <tr>\n",
       "      <td>22</td>\n",
       "      <td>0.110673</td>\n",
       "      <td>0.088202</td>\n",
       "      <td>0.977659</td>\n",
       "      <td>00:03</td>\n",
       "    </tr>\n",
       "    <tr>\n",
       "      <td>23</td>\n",
       "      <td>0.104206</td>\n",
       "      <td>0.087888</td>\n",
       "      <td>0.977295</td>\n",
       "      <td>00:03</td>\n",
       "    </tr>\n",
       "    <tr>\n",
       "      <td>24</td>\n",
       "      <td>0.098974</td>\n",
       "      <td>0.087520</td>\n",
       "      <td>0.977173</td>\n",
       "      <td>00:03</td>\n",
       "    </tr>\n",
       "  </tbody>\n",
       "</table>"
      ],
      "text/plain": [
       "<IPython.core.display.HTML object>"
      ]
     },
     "metadata": {
      "tags": []
     },
     "output_type": "display_data"
    },
    {
     "name": "stdout",
     "output_type": "stream",
     "text": [
      "92.88428354263306\n"
     ]
    }
   ],
   "source": [
    "model = InceptionTime(X_in_memory.shape[-2], len(np.unique(y_in_memory)))\n",
    "learn = Learner(dls, model, loss_func=nn.CrossEntropyLoss(), metrics=accuracy)\n",
    "start = time.time()\n",
    "learn.fit_one_cycle(25, lr_max=1e-3)\n",
    "print(time.time() - start)"
   ]
  },
  {
   "cell_type": "markdown",
   "metadata": {
    "colab_type": "text",
    "hidden": true,
    "id": "SBwRBHhzA_X2"
   },
   "source": [
    "This is definitely an improvement in terms of speed.\n",
    "\n",
    "It is now better than fastai v1, but still worse than Pytorch. "
   ]
  },
  {
   "cell_type": "markdown",
   "metadata": {
    "colab_type": "text",
    "heading_collapsed": true,
    "id": "p45nu7qPIvmD"
   },
   "source": [
    "## NumpyDatasets & NumpyDataLoader 🤩"
   ]
  },
  {
   "cell_type": "markdown",
   "metadata": {
    "colab_type": "text",
    "hidden": true,
    "id": "8dxF-Q1zBb9f"
   },
   "source": [
    "So far we we've seen fastai v2 is easy to use, but it's slow compared to v1 (in this example the Datablock API was 60% slower). \n",
    "\n",
    "There are at least 3 major differences between vision and time series - TS- (and numpy based data in general) that we can leverage to improve performance: \n",
    "\n",
    "1. Vision tipically requires some item preprocessing that is sometimes random. For example, when you randomly crop an image. Each time it'll return a different value. In my experience, most item transforms are **deterministic** (actually most impact the label only).\n",
    "\n",
    "2. In vision problems, you usually derive the image and label from a single item (path). In TS problems, it's common to have data already **split between X and y**.\n",
    "\n",
    "3. You can only create an image loading and processing them 1 at a time. However with numpy datasets, you can create a batch **processing all batch items** at the same time, just by slicing an array/ tensor. This is much faster.\n",
    "\n",
    "The first difference allows us to approach the datasets creation is a different way. Since the tfms will almost always deliver the same output, we can **preprocess** the item tfms at datasets initialization, and thus save this time in every epoch. As you'll see, this results in a much faster dataloder.\n",
    "\n",
    "It doesn't make much sense to have data already split (into X and y) to merge them in a single item, process them together, and separate again. It'd be easier to just apply the tfms independently to the inputs (X) and labels (y), and then simply slice them. Slicing is a much faster operation than applying a transform, and also allows a significant improvement in terms of speed.\n",
    "\n",
    "There's **no need to have a collate_fn to create a batch**. The fastest way to do it would be to simply use the batch indices to slice the preprocessed arrays/ tensors all at the same time. \n",
    "\n",
    "Based on this, I've created a NumpyDatasets and NumpyDataLoader that leverage the characteristics of numpy-based datasets.\n",
    "\n",
    "BTW, something important as well, is that NumpyDatasets allows the use of larger than RAM datasets, as data can be sliced directly from disk before loading in memory. "
   ]
  },
  {
   "cell_type": "code",
   "execution_count": 0,
   "metadata": {
    "ExecuteTime": {
     "end_time": "2020-04-05T19:06:22.526800Z",
     "start_time": "2020-04-05T19:06:21.466217Z"
    },
    "colab": {},
    "colab_type": "code",
    "hidden": true,
    "id": "6SHtLjZbIvmV"
   },
   "outputs": [],
   "source": [
    "class NumpyDatasets(Datasets):\n",
    "    \"A dataset that creates tuples from X (and y) and applies `item_tfms`\"\n",
    "    _xtype, _ytype = NumpyTensor, None # Expected X and y output types\n",
    "    def __init__(self, X=None, y=None, items=None, sel_vars=None, sel_steps=None, tfms=None, tls=None, n_inp=None, dl_type=None, \n",
    "                 inplace=False, **kwargs):\n",
    "\n",
    "        if tls is None: items = ifnoneelse(y,tuple((X,)),tuple((X, y)))\n",
    "        self.tfms = L(ifnone(tfms,[None]*len(ifnone(tls,items))))\n",
    "        self.sel_vars = ifnone(sel_vars, slice(None))\n",
    "        self.sel_steps = ifnone(sel_steps,slice(None))\n",
    "        self.tls = L(tls if tls else [TfmdLists(item, t, **kwargs) for item,t in zip(items,self.tfms)])\n",
    "        self.n_inp = (1 if len(self.tls)==1 else len(self.tls)-1) if n_inp is None else n_inp\n",
    "        self.ptls = L([tl.items if is_none(tfm) else np.stack(tl[:]) if inplace else tl for tl,tfm in zip(self.tls, self.tfms)])\n",
    "        self.inplace = inplace \n",
    "    \n",
    "    def __getitem__(self, it):\n",
    "        return tuple([typ(ptl[it][...,self.sel_vars, self.sel_steps] if i==0 else ptl[it]) for i,(ptl,typ) in enumerate(zip(self.ptls,self.types))])\n",
    "    \n",
    "    def subset(self, i): return type(self)(tls=L(tl.subset(i) for tl in self.tls), n_inp=self.n_inp, \n",
    "                                           inplace=self.inplace, tfms=self.tfms, sel_vars=self.sel_vars, sel_steps=self.sel_steps)\n",
    "    \n",
    "    def _new(self, X, *args, y=None, **kwargs): \n",
    "        items = ifnoneelse(y,tuple((X,)),tuple((X, y)))\n",
    "        return super()._new(items, tfms=self.tfms, do_setup=False, **kwargs)\n",
    "    \n",
    "    def show_at(self, idx, **kwargs):\n",
    "        self.show(self[idx], **kwargs)\n",
    "        plt.show()\n",
    "    @property\n",
    "    def vars(self): return self[0][0].shape[-2]\n",
    "    @property\n",
    "    def length(self): return self[0][0].shape[-1]\n",
    "    @property\n",
    "    def types(self):\n",
    "        return [ifnone(_typ, type(self.tls[i]) if isinstance(self.tls[i], torch.Tensor) else tensor) \n",
    "                for i,_typ in zip(range(len(self.items)), [self._xtype, self._ytype])]\n",
    "    @property\n",
    "    def items(self): return tuple([tl.items for tl in self.tls])\n",
    "    @items.setter\n",
    "    def items(self, vs):\n",
    "        for tl,c in zip(self.tls, vs): tl.items = v\n",
    "\n",
    "\n",
    "class TSDatasets(NumpyDatasets):\n",
    "    \"A dataset that creates tuples from X (and y) and applies `item_tfms`\"\n",
    "    _xtype, _ytype = TSTensor, None # Expected X and y output types (torch.Tensor - default - or subclass)\n",
    "\n",
    "def add_ds(dsets, X, y=None, test_items=None, rm_tfms=None, with_labels=False):\n",
    "    \"Create test datasets from X (and y) using validation transforms of `dsets`\"\n",
    "    items = ifnoneelse(y,tuple((X,)),tuple((X, y)))\n",
    "    with_labels = ifnoneelse(y,False,True) \n",
    "    if isinstance(dsets, (Datasets, NumpyDatasets, TSDatasets)):\n",
    "        tls = dsets.tls if with_labels else dsets.tls[:dsets.n_inp]\n",
    "        new_tls = L([tl._new(item, split_idx=1) for tl,item in zip(tls, items)])\n",
    "        if rm_tfms is None: rm_tfms = [tl.infer_idx(get_first(item)) for tl,item in zip(new_tls, items)]\n",
    "        else:               rm_tfms = tuplify(rm_tfms, match=new_tls)\n",
    "        for i,j in enumerate(rm_tfms): new_tls[i].tfms.fs = new_tls[i].tfms.fs[j:]\n",
    "        if isinstance(dsets, (NumpyDatasets, TSDatasets)):\n",
    "            cls = dsets.__class__\n",
    "            return cls(tls=new_tls, n_inp=dsets.n_inp, inplace=dsets.inplace, tfms=dsets.tfms, sel_vars=dsets.sel_vars, sel_steps=dsets.sel_steps)\n",
    "        elif isinstance(dsets, Datasets): return Datasets(tls=new_tls)\n",
    "    elif isinstance(dsets, TfmdLists):\n",
    "        new_tl = dsets._new(items, split_idx=1)\n",
    "        if rm_tfms is None: rm_tfms = dsets.infer_idx(get_first(items))\n",
    "        new_tl.tfms.fs = new_tl.tfms.fs[rm_tfms:]\n",
    "        return new_tl\n",
    "    else: raise Exception(f\"This method requires using the fastai library to assemble your data.Expected a `Datasets` or a `TfmdLists` but got {dsets.__class__.__name__}\")\n",
    "\n",
    "@patch\n",
    "def add_test(self:NumpyDatasets, X, y=None, test_items=None, rm_tfms=None, with_labels=False):\n",
    "    return add_ds(self, X, y=y, test_items=test_items, rm_tfms=rm_tfms, with_labels=with_labels)\n",
    "\n",
    "@patch\n",
    "def add_unlabeled(self:NumpyDatasets, X, test_items=None, rm_tfms=None, with_labels=False):\n",
    "    return add_ds(self, X, y=None, test_items=test_items, rm_tfms=rm_tfms, with_labels=with_labels)"
   ]
  },
  {
   "cell_type": "code",
   "execution_count": 0,
   "metadata": {
    "ExecuteTime": {
     "end_time": "2020-04-05T19:06:23.245724Z",
     "start_time": "2020-04-05T19:06:22.927475Z"
    },
    "colab": {},
    "colab_type": "code",
    "hidden": true,
    "id": "KIt99RNME1yQ"
   },
   "outputs": [],
   "source": [
    "class NumpyDataLoader(TfmdDL):\n",
    "    do_item = noops\n",
    "    def create_batch(self, b): return self.dataset[b]\n",
    "    \n",
    "    @property\n",
    "    def vars(self): return self.dataset[0][0].shape[-2]\n",
    "    \n",
    "    @property\n",
    "    def length(self): return self.dataset[0][0].shape[-1]\n",
    "\n",
    "    @delegates(plt.subplots)\n",
    "    def show_batch(self, b=None, ctxs=None, max_n=9, nrows=3, ncols=3, figsize=(16, 10), **kwargs):\n",
    "        b = self.one_batch()\n",
    "        db = self.decode_batch(b, max_n=max_n)\n",
    "        if figsize is None: figsize = (ncols*6, max_n//ncols*4)\n",
    "        if ctxs is None: ctxs = get_grid(min(len(db), nrows*ncols), nrows=None, ncols=ncols, figsize=figsize, **kwargs)\n",
    "        for i,ctx in enumerate(ctxs):\n",
    "            show_tuple(db[i], ctx=ctx)\n",
    "\n",
    "    @delegates(plt.subplots)\n",
    "    def show_results(self, b, preds, ctxs=None, max_n=9, nrows=3, ncols=3, figsize=(16, 10), **kwargs):\n",
    "        t = self.decode_batch(b, max_n=max_n)\n",
    "        p = self.decode_batch((b[0],preds), max_n=max_n)\n",
    "        if figsize is None: figsize = (ncols*6, max_n//ncols*4)\n",
    "        if ctxs is None: ctxs = get_grid(min(len(t), nrows*ncols), nrows=None, ncols=ncols, figsize=figsize, **kwargs)\n",
    "        for i,ctx in enumerate(ctxs): \n",
    "            title = f'True: {t[i][1]}\\nPred: {p[i][1]}'\n",
    "            color = 'green' if t[i][1] == p[i][1] else 'red'\n",
    "            t[i][0].show(ctx=ctx, title=title, title_color=color)\n",
    "\n",
    "@delegates(plt.subplots)\n",
    "def show_tuple(tup, **kwargs):\n",
    "    \"Display a timeseries plot from a decoded tuple\"\n",
    "    tup[0].show(title='unlabeled' if len(tup) == 1 else tup[1], **kwargs)\n",
    "    \n",
    "class TSDataLoader(NumpyDataLoader): pass"
   ]
  },
  {
   "cell_type": "code",
   "execution_count": 0,
   "metadata": {
    "ExecuteTime": {
     "end_time": "2020-04-05T19:06:24.100202Z",
     "start_time": "2020-04-05T19:06:23.812982Z"
    },
    "colab": {},
    "colab_type": "code",
    "hidden": true,
    "id": "qa4I5cEGuYmz"
   },
   "outputs": [],
   "source": [
    "bs = 128\n",
    "idx = np.random.randint(len(X_in_memory), size=bs)\n",
    "train_idx = np.random.randint(len(splits[0]), size=bs)\n",
    "valid_idx = np.random.randint(len(splits[1]), size=bs)"
   ]
  },
  {
   "cell_type": "code",
   "execution_count": 24,
   "metadata": {
    "ExecuteTime": {
     "end_time": "2020-04-05T19:06:37.673995Z",
     "start_time": "2020-04-05T19:06:25.527110Z"
    },
    "colab": {
     "base_uri": "https://localhost:8080/",
     "height": 331
    },
    "colab_type": "code",
    "hidden": true,
    "id": "lWrK75gKIvmk",
    "outputId": "4ed439a7-be82-4930-8120-3da42a6dce0d"
   },
   "outputs": [
    {
     "name": "stdout",
     "output_type": "stream",
     "text": [
      "(TSTensor(vars:1, len:1024), tensor(1))\n"
     ]
    },
    {
     "data": {
      "image/png": "[encoded data removed]",
      "text/plain": [
       "<Figure size 432x288 with 1 Axes>"
      ]
     },
     "metadata": {
      "tags": []
     },
     "output_type": "display_data"
    }
   ],
   "source": [
    "tfms = [None, [Categorize()]]\n",
    "# tfms = None\n",
    "# dsets = NumpyDatasets(X_on_disk, y_on_disk, tfms=tfms, sel_vars=None, sel_steps=None, splits=splits, inplace=True)\n",
    "dsets = TSDatasets(X_in_memory, y_in_memory, sel_vars=None, sel_steps=None, tfms=tfms, splits=splits, inplace=True)\n",
    "train_ds = dsets.train\n",
    "valid_ds = dsets.valid\n",
    "test_ds  = dsets.add_test(X_in_memory, y_in_memory)\n",
    "print(valid_ds[0])\n",
    "show_at(valid_ds, 0);"
   ]
  },
  {
   "cell_type": "code",
   "execution_count": 25,
   "metadata": {
    "ExecuteTime": {
     "end_time": "2020-04-05T19:06:37.970715Z",
     "start_time": "2020-04-05T19:06:37.679273Z"
    },
    "colab": {
     "base_uri": "https://localhost:8080/",
     "height": 87
    },
    "colab_type": "code",
    "hidden": true,
    "id": "nqL2GxGyIvmt",
    "outputId": "4064ca52-a66a-46dc-c5d8-0d88b656810a",
    "scrolled": false
   },
   "outputs": [
    {
     "data": {
      "text/plain": [
       "(TSTensor(samples:64, vars:1, len:1024),\n",
       " tensor([2, 2, 2, 2, 2, 1, 2, 2, 0, 2, 2, 2, 2, 1, 2, 2, 0, 0, 1, 2, 2, 2, 2, 0,\n",
       "         0, 0, 2, 2, 1, 1, 0, 2, 1, 0, 2, 2, 2, 2, 2, 0, 2, 2, 2, 2, 1, 1, 1, 2,\n",
       "         1, 2, 2, 2, 1, 2, 1, 2, 1, 2, 2, 1, 1, 1, 2, 2]))"
      ]
     },
     "execution_count": 25,
     "metadata": {
      "tags": []
     },
     "output_type": "execute_result"
    }
   ],
   "source": [
    "train_dl = TSDataLoader(train_ds, bs=64, shuffle=True, drop_last=True, num_workers=0)\n",
    "valid_dl = TSDataLoader(valid_ds, bs=128, num_workers=0)\n",
    "dls = TSDataLoaders(train_dl, valid_dl)\n",
    "b = next(iter(dls.train))\n",
    "b"
   ]
  },
  {
   "cell_type": "code",
   "execution_count": 26,
   "metadata": {
    "ExecuteTime": {
     "end_time": "2020-04-05T19:08:17.060230Z",
     "start_time": "2020-04-05T19:08:08.330009Z"
    },
    "colab": {
     "base_uri": "https://localhost:8080/",
     "height": 728
    },
    "colab_type": "code",
    "hidden": true,
    "id": "hXQcDANmIvm4",
    "outputId": "55e73220-0d43-4223-ecab-0c4ad5460017",
    "scrolled": false
   },
   "outputs": [
    {
     "data": {
      "image/png": "[encoded data removed]",
      "text/plain": [
       "<Figure size 1152x720 with 9 Axes>"
      ]
     },
     "metadata": {
      "tags": []
     },
     "output_type": "display_data"
    }
   ],
   "source": [
    "dls.train.show_batch(sharey=True)"
   ]
  },
  {
   "cell_type": "markdown",
   "metadata": {
    "colab_type": "text",
    "hidden": true,
    "id": "fD6M5pwnFAn_"
   },
   "source": [
    "Let's first establish another benchmark. \n",
    "\n",
    "If we think of it, the fastest and simplest way to create a batch to be used in fastai v2 would be to:\n",
    "\n",
    "1. split the X and y between train and valid. This can be done at initialization. \n",
    "\n",
    "2. Slice the data based on random idx, cast the outputs to the expected classes, and create a tuple. \n",
    "\n",
    "This process takes about 175 µs. So it's very fast."
   ]
  },
  {
   "cell_type": "code",
   "execution_count": 27,
   "metadata": {
    "colab": {
     "base_uri": "https://localhost:8080/",
     "height": 141
    },
    "colab_type": "code",
    "hidden": true,
    "id": "FY4UjKKfXJEB",
    "outputId": "0a086f71-1c6f-4961-f539-e7ebc9be8e35"
   },
   "outputs": [
    {
     "data": {
      "text/plain": [
       "(TSTensor(samples:128, vars:1, len:1024),\n",
       " TensorCategory([3, 3, 3, 3, 2, 3, 3, 3, 3, 3, 3, 3, 3, 2, 1, 1, 1, 1, 3, 2, 3, 2, 3, 3,\n",
       "         3, 1, 1, 2, 2, 2, 3, 3, 3, 2, 3, 3, 1, 3, 2, 1, 3, 1, 2, 3, 2, 3, 2, 3,\n",
       "         3, 3, 3, 3, 2, 3, 3, 2, 1, 1, 3, 3, 3, 2, 3, 3, 2, 3, 3, 3, 3, 3, 3, 2,\n",
       "         3, 2, 2, 3, 2, 3, 2, 3, 3, 3, 3, 2, 3, 3, 2, 3, 3, 2, 3, 1, 3, 2, 2, 3,\n",
       "         2, 2, 1, 1, 3, 3, 3, 3, 3, 3, 2, 2, 1, 1, 3, 3, 1, 2, 2, 3, 3, 3, 2, 3,\n",
       "         2, 2, 3, 1, 3, 3, 3, 1]))"
      ]
     },
     "execution_count": 27,
     "metadata": {
      "tags": []
     },
     "output_type": "execute_result"
    }
   ],
   "source": [
    "X_val = X_in_memory[splits[1]]\n",
    "y_val = y_in_memory[splits[1]].astype(int)\n",
    "tuple((TSTensor(X_val[valid_idx]), TensorCategory(y_val[valid_idx])))"
   ]
  },
  {
   "cell_type": "code",
   "execution_count": 28,
   "metadata": {
    "colab": {
     "base_uri": "https://localhost:8080/",
     "height": 52
    },
    "colab_type": "code",
    "hidden": true,
    "id": "JUYPbFa5XlTu",
    "outputId": "a070307b-93c1-4d56-cf0c-a6cc5fc124fe"
   },
   "outputs": [
    {
     "name": "stdout",
     "output_type": "stream",
     "text": [
      "The slowest run took 4.04 times longer than the fastest. This could mean that an intermediate result is being cached.\n",
      "10000 loops, best of 3: 177 µs per loop\n"
     ]
    }
   ],
   "source": [
    "%timeit tuple((TSTensor(X_val[valid_idx]), TensorCategory(y_val[valid_idx])))"
   ]
  },
  {
   "cell_type": "markdown",
   "metadata": {
    "colab_type": "text",
    "hidden": true,
    "id": "Wg25a-wGF_Zj"
   },
   "source": [
    "Let's see how does this compare to NumpyDatasets when tfms are not preprocessed:"
   ]
  },
  {
   "cell_type": "code",
   "execution_count": 29,
   "metadata": {
    "colab": {
     "base_uri": "https://localhost:8080/",
     "height": 141
    },
    "colab_type": "code",
    "hidden": true,
    "id": "gC2thB8AXFUz",
    "outputId": "031c176e-7be5-4370-e7d3-8968325b1423"
   },
   "outputs": [
    {
     "data": {
      "text/plain": [
       "(TSTensor(samples:128, vars:1, len:1024),\n",
       " tensor([2, 2, 2, 2, 1, 2, 2, 2, 2, 2, 2, 2, 2, 1, 0, 0, 0, 0, 2, 1, 2, 1, 2, 2,\n",
       "         2, 0, 0, 1, 1, 1, 2, 2, 2, 1, 2, 2, 0, 2, 1, 0, 2, 0, 1, 2, 1, 2, 1, 2,\n",
       "         2, 2, 2, 2, 1, 2, 2, 1, 0, 0, 2, 2, 2, 1, 2, 2, 1, 2, 2, 2, 2, 2, 2, 1,\n",
       "         2, 1, 1, 2, 1, 2, 1, 2, 2, 2, 2, 1, 2, 2, 1, 2, 2, 1, 2, 0, 2, 1, 1, 2,\n",
       "         1, 1, 0, 0, 2, 2, 2, 2, 2, 2, 1, 1, 0, 0, 2, 2, 0, 1, 1, 2, 2, 2, 1, 2,\n",
       "         1, 1, 2, 0, 2, 2, 2, 0]))"
      ]
     },
     "execution_count": 29,
     "metadata": {
      "tags": []
     },
     "output_type": "execute_result"
    }
   ],
   "source": [
    "valid_ds[valid_idx]"
   ]
  },
  {
   "cell_type": "code",
   "execution_count": 30,
   "metadata": {
    "colab": {
     "base_uri": "https://localhost:8080/",
     "height": 34
    },
    "colab_type": "code",
    "hidden": true,
    "id": "gkWhVnL_BPfs",
    "outputId": "ebef60b0-d83c-485f-b054-ba696e5dde71"
   },
   "outputs": [
    {
     "name": "stdout",
     "output_type": "stream",
     "text": [
      "100 loops, best of 3: 12.3 ms per loop\n"
     ]
    }
   ],
   "source": [
    "# Preprocess = False\n",
    "dsets = TSDatasets(X_in_memory, y_in_memory, sel_vars=None, sel_steps=None, tfms=tfms, splits=splits, inplace=False)\n",
    "valid_ds = dsets.valid\n",
    "valid_dl = TSDataLoader(valid_ds, bs=128, num_workers=0)\n",
    "%timeit valid_ds[valid_idx]"
   ]
  },
  {
   "cell_type": "markdown",
   "metadata": {
    "colab_type": "text",
    "hidden": true,
    "id": "8Kxh1iIFGS4u"
   },
   "source": [
    "This is about 100 times slower. This makes the dataloader almost 20 times slower than the simple Pytorch dataloder whe showed before."
   ]
  },
  {
   "cell_type": "code",
   "execution_count": 31,
   "metadata": {
    "colab": {
     "base_uri": "https://localhost:8080/",
     "height": 34
    },
    "colab_type": "code",
    "hidden": true,
    "id": "XfyNCitYIvnU",
    "outputId": "3ff6a13a-8aa5-4733-b347-77c43b7f0100"
   },
   "outputs": [
    {
     "name": "stdout",
     "output_type": "stream",
     "text": [
      "1 loop, best of 3: 805 ms per loop\n"
     ]
    }
   ],
   "source": [
    "%timeit cycle_dl(valid_dl)"
   ]
  },
  {
   "cell_type": "markdown",
   "metadata": {
    "colab_type": "text",
    "hidden": true,
    "id": "wcVGpzHQG3B4"
   },
   "source": [
    "Let's see how is performance when data is preprocessed:"
   ]
  },
  {
   "cell_type": "code",
   "execution_count": 32,
   "metadata": {
    "colab": {
     "base_uri": "https://localhost:8080/",
     "height": 34
    },
    "colab_type": "code",
    "hidden": true,
    "id": "ijN37_vWA6mq",
    "outputId": "13df2a87-a0a4-42a4-b34e-ecacea2f5a4c"
   },
   "outputs": [
    {
     "name": "stdout",
     "output_type": "stream",
     "text": [
      "10000 loops, best of 3: 127 µs per loop\n"
     ]
    }
   ],
   "source": [
    "# Preprocess = True\n",
    "dsets = TSDatasets(X_in_memory, y_in_memory, sel_vars=None, sel_steps=None, tfms=tfms, splits=splits, inplace=True)\n",
    "valid_ds = dsets.valid\n",
    "valid_dl = TSDataLoader(valid_ds, bs=128, num_workers=0)\n",
    "%timeit valid_ds[valid_idx]"
   ]
  },
  {
   "cell_type": "markdown",
   "metadata": {
    "colab_type": "text",
    "hidden": true,
    "id": "dZtMFtbVHCrV"
   },
   "source": [
    "Wow! Since we only perform slicing and casting at batch creation time performance is excellent. About 100 times faster than when not preprocessed. [link text](https:// [link text](https://))"
   ]
  },
  {
   "cell_type": "code",
   "execution_count": 33,
   "metadata": {
    "colab": {
     "base_uri": "https://localhost:8080/",
     "height": 34
    },
    "colab_type": "code",
    "hidden": true,
    "id": "wx_xvh43Ax90",
    "outputId": "bb1c496c-06e0-4d04-b689-5151f9a3a761"
   },
   "outputs": [
    {
     "name": "stdout",
     "output_type": "stream",
     "text": [
      "10 loops, best of 3: 30.6 ms per loop\n"
     ]
    }
   ],
   "source": [
    "%timeit cycle_dl(valid_dl)"
   ]
  },
  {
   "cell_type": "markdown",
   "metadata": {
    "colab_type": "text",
    "hidden": true,
    "id": "Ipl34JYu_tPk"
   },
   "source": [
    "😲 This is the same level of performance we had with the Pytorch dataloader, but much more flexible and with many additional benefits ❣️"
   ]
  },
  {
   "cell_type": "markdown",
   "metadata": {
    "colab_type": "text",
    "hidden": true,
    "id": "IYPtX0fy_yOZ"
   },
   "source": [
    "Let's now measure the timing with data on-disk instead of in memory."
   ]
  },
  {
   "cell_type": "code",
   "execution_count": 34,
   "metadata": {
    "colab": {
     "base_uri": "https://localhost:8080/",
     "height": 34
    },
    "colab_type": "code",
    "hidden": true,
    "id": "zAQYNTv7_hTY",
    "outputId": "0f061485-0296-4603-cf3e-99ab478d92cc"
   },
   "outputs": [
    {
     "name": "stdout",
     "output_type": "stream",
     "text": [
      "10000 loops, best of 3: 124 µs per loop\n"
     ]
    }
   ],
   "source": [
    "# Preprocess = True\n",
    "dsets = TSDatasets(X_on_disk, y_on_disk, sel_vars=None, sel_steps=None, tfms=tfms, splits=splits, inplace=True)\n",
    "valid_ds = dsets.valid\n",
    "valid_dl = TSDataLoader(valid_ds, bs=128, num_workers=0)\n",
    "%timeit valid_ds[valid_idx]"
   ]
  },
  {
   "cell_type": "code",
   "execution_count": 35,
   "metadata": {
    "colab": {
     "base_uri": "https://localhost:8080/",
     "height": 34
    },
    "colab_type": "code",
    "hidden": true,
    "id": "hp8xhyRo_huU",
    "outputId": "db462527-f8ad-49c7-c1c8-3cc3b6456fcb"
   },
   "outputs": [
    {
     "name": "stdout",
     "output_type": "stream",
     "text": [
      "10 loops, best of 3: 30.3 ms per loop\n"
     ]
    }
   ],
   "source": [
    "%timeit cycle_dl(valid_dl)"
   ]
  },
  {
   "cell_type": "markdown",
   "metadata": {
    "colab_type": "text",
    "hidden": true,
    "id": "Jegc1i9ZAdZ6"
   },
   "source": [
    "⚠️ Good, there's no impact in batch creation when the data is on disk!"
   ]
  },
  {
   "cell_type": "markdown",
   "metadata": {
    "colab_type": "text",
    "hidden": true,
    "id": "wiJfL55gCdB8"
   },
   "source": [
    "\n",
    "\n",
    "Let's now compare the time to train the model."
   ]
  },
  {
   "cell_type": "code",
   "execution_count": 36,
   "metadata": {
    "colab": {
     "base_uri": "https://localhost:8080/",
     "height": 815
    },
    "colab_type": "code",
    "hidden": true,
    "id": "3zZIMFWD9eAy",
    "outputId": "c421c643-a8e7-4658-9c85-fbe51fe84e97"
   },
   "outputs": [
    {
     "data": {
      "text/html": [
       "<table border=\"1\" class=\"dataframe\">\n",
       "  <thead>\n",
       "    <tr style=\"text-align: left;\">\n",
       "      <th>epoch</th>\n",
       "      <th>train_loss</th>\n",
       "      <th>valid_loss</th>\n",
       "      <th>accuracy</th>\n",
       "      <th>time</th>\n",
       "    </tr>\n",
       "  </thead>\n",
       "  <tbody>\n",
       "    <tr>\n",
       "      <td>0</td>\n",
       "      <td>0.727645</td>\n",
       "      <td>1.067144</td>\n",
       "      <td>0.279869</td>\n",
       "      <td>00:03</td>\n",
       "    </tr>\n",
       "    <tr>\n",
       "      <td>1</td>\n",
       "      <td>0.594386</td>\n",
       "      <td>0.702179</td>\n",
       "      <td>0.849927</td>\n",
       "      <td>00:03</td>\n",
       "    </tr>\n",
       "    <tr>\n",
       "      <td>2</td>\n",
       "      <td>0.508360</td>\n",
       "      <td>0.406608</td>\n",
       "      <td>0.851506</td>\n",
       "      <td>00:03</td>\n",
       "    </tr>\n",
       "    <tr>\n",
       "      <td>3</td>\n",
       "      <td>0.430965</td>\n",
       "      <td>0.358617</td>\n",
       "      <td>0.908451</td>\n",
       "      <td>00:03</td>\n",
       "    </tr>\n",
       "    <tr>\n",
       "      <td>4</td>\n",
       "      <td>0.369370</td>\n",
       "      <td>0.256972</td>\n",
       "      <td>0.869961</td>\n",
       "      <td>00:03</td>\n",
       "    </tr>\n",
       "    <tr>\n",
       "      <td>5</td>\n",
       "      <td>0.317290</td>\n",
       "      <td>0.376902</td>\n",
       "      <td>0.858184</td>\n",
       "      <td>00:03</td>\n",
       "    </tr>\n",
       "    <tr>\n",
       "      <td>6</td>\n",
       "      <td>0.272730</td>\n",
       "      <td>0.174848</td>\n",
       "      <td>0.951311</td>\n",
       "      <td>00:03</td>\n",
       "    </tr>\n",
       "    <tr>\n",
       "      <td>7</td>\n",
       "      <td>0.229925</td>\n",
       "      <td>0.160899</td>\n",
       "      <td>0.936498</td>\n",
       "      <td>00:03</td>\n",
       "    </tr>\n",
       "    <tr>\n",
       "      <td>8</td>\n",
       "      <td>0.193093</td>\n",
       "      <td>0.245744</td>\n",
       "      <td>0.910393</td>\n",
       "      <td>00:03</td>\n",
       "    </tr>\n",
       "    <tr>\n",
       "      <td>9</td>\n",
       "      <td>0.171099</td>\n",
       "      <td>0.208830</td>\n",
       "      <td>0.951676</td>\n",
       "      <td>00:03</td>\n",
       "    </tr>\n",
       "    <tr>\n",
       "      <td>10</td>\n",
       "      <td>0.152969</td>\n",
       "      <td>0.154376</td>\n",
       "      <td>0.951554</td>\n",
       "      <td>00:03</td>\n",
       "    </tr>\n",
       "    <tr>\n",
       "      <td>11</td>\n",
       "      <td>0.140715</td>\n",
       "      <td>0.423360</td>\n",
       "      <td>0.856484</td>\n",
       "      <td>00:03</td>\n",
       "    </tr>\n",
       "    <tr>\n",
       "      <td>12</td>\n",
       "      <td>0.127904</td>\n",
       "      <td>0.410007</td>\n",
       "      <td>0.821030</td>\n",
       "      <td>00:03</td>\n",
       "    </tr>\n",
       "    <tr>\n",
       "      <td>13</td>\n",
       "      <td>0.118758</td>\n",
       "      <td>0.252737</td>\n",
       "      <td>0.893031</td>\n",
       "      <td>00:03</td>\n",
       "    </tr>\n",
       "    <tr>\n",
       "      <td>14</td>\n",
       "      <td>0.106297</td>\n",
       "      <td>0.154528</td>\n",
       "      <td>0.950704</td>\n",
       "      <td>00:03</td>\n",
       "    </tr>\n",
       "    <tr>\n",
       "      <td>15</td>\n",
       "      <td>0.097818</td>\n",
       "      <td>0.109629</td>\n",
       "      <td>0.966974</td>\n",
       "      <td>00:03</td>\n",
       "    </tr>\n",
       "    <tr>\n",
       "      <td>16</td>\n",
       "      <td>0.091978</td>\n",
       "      <td>0.091740</td>\n",
       "      <td>0.973895</td>\n",
       "      <td>00:03</td>\n",
       "    </tr>\n",
       "    <tr>\n",
       "      <td>17</td>\n",
       "      <td>0.084563</td>\n",
       "      <td>0.153235</td>\n",
       "      <td>0.950826</td>\n",
       "      <td>00:03</td>\n",
       "    </tr>\n",
       "    <tr>\n",
       "      <td>18</td>\n",
       "      <td>0.081356</td>\n",
       "      <td>0.102135</td>\n",
       "      <td>0.964789</td>\n",
       "      <td>00:03</td>\n",
       "    </tr>\n",
       "    <tr>\n",
       "      <td>19</td>\n",
       "      <td>0.075554</td>\n",
       "      <td>0.087095</td>\n",
       "      <td>0.975474</td>\n",
       "      <td>00:03</td>\n",
       "    </tr>\n",
       "    <tr>\n",
       "      <td>20</td>\n",
       "      <td>0.070057</td>\n",
       "      <td>0.080406</td>\n",
       "      <td>0.977902</td>\n",
       "      <td>00:03</td>\n",
       "    </tr>\n",
       "    <tr>\n",
       "      <td>21</td>\n",
       "      <td>0.063611</td>\n",
       "      <td>0.085384</td>\n",
       "      <td>0.974624</td>\n",
       "      <td>00:03</td>\n",
       "    </tr>\n",
       "    <tr>\n",
       "      <td>22</td>\n",
       "      <td>0.059365</td>\n",
       "      <td>0.081059</td>\n",
       "      <td>0.978388</td>\n",
       "      <td>00:03</td>\n",
       "    </tr>\n",
       "    <tr>\n",
       "      <td>23</td>\n",
       "      <td>0.055718</td>\n",
       "      <td>0.081827</td>\n",
       "      <td>0.977052</td>\n",
       "      <td>00:03</td>\n",
       "    </tr>\n",
       "    <tr>\n",
       "      <td>24</td>\n",
       "      <td>0.054109</td>\n",
       "      <td>0.080710</td>\n",
       "      <td>0.978388</td>\n",
       "      <td>00:03</td>\n",
       "    </tr>\n",
       "  </tbody>\n",
       "</table>"
      ],
      "text/plain": [
       "<IPython.core.display.HTML object>"
      ]
     },
     "metadata": {
      "tags": []
     },
     "output_type": "display_data"
    },
    {
     "name": "stdout",
     "output_type": "stream",
     "text": [
      "97.49403381347656\n"
     ]
    }
   ],
   "source": [
    "# Preprocess = FALSE, Data in memory\n",
    "tfms  = [None, [Categorize()]]\n",
    "dsets = TSDatasets(X_in_memory, y_in_memory, tfms=tfms, splits=splits, inplace=False)\n",
    "train_ds = dsets.train\n",
    "valid_ds = dsets.valid\n",
    "train_dl = TSDataLoader(train_ds, bs=64, shuffle=True, drop_last=True, num_workers=0)\n",
    "valid_dl = TSDataLoader(valid_ds, bs=128, num_workers=0)\n",
    "dls   = TSDataLoaders(train_dl, valid_dl, device=default_device())\n",
    "model = InceptionTime(dls.vars, dls.c)\n",
    "learn2 = Learner(dls, model, metrics=accuracy)\n",
    "start = time.time()\n",
    "learn2.fit_one_cycle(25, lr_max=1e-3)\n",
    "print(time.time() - start)"
   ]
  },
  {
   "cell_type": "markdown",
   "metadata": {
    "colab_type": "text",
    "hidden": true,
    "id": "ES4Ap4DG4CPx"
   },
   "source": [
    "⚠️ This NumpyDataLoader is already a bit faster than fastai v1. But we have not yet used preprocess = True. "
   ]
  },
  {
   "cell_type": "code",
   "execution_count": 37,
   "metadata": {
    "colab": {
     "base_uri": "https://localhost:8080/",
     "height": 815
    },
    "colab_type": "code",
    "hidden": true,
    "id": "HlyJF63YDbiO",
    "outputId": "610b02fc-26a1-42c3-addb-6d8b3ca9bd3e"
   },
   "outputs": [
    {
     "data": {
      "text/html": [
       "<table border=\"1\" class=\"dataframe\">\n",
       "  <thead>\n",
       "    <tr style=\"text-align: left;\">\n",
       "      <th>epoch</th>\n",
       "      <th>train_loss</th>\n",
       "      <th>valid_loss</th>\n",
       "      <th>accuracy</th>\n",
       "      <th>time</th>\n",
       "    </tr>\n",
       "  </thead>\n",
       "  <tbody>\n",
       "    <tr>\n",
       "      <td>0</td>\n",
       "      <td>0.696308</td>\n",
       "      <td>0.955160</td>\n",
       "      <td>0.577222</td>\n",
       "      <td>00:02</td>\n",
       "    </tr>\n",
       "    <tr>\n",
       "      <td>1</td>\n",
       "      <td>0.566781</td>\n",
       "      <td>0.631734</td>\n",
       "      <td>0.809252</td>\n",
       "      <td>00:02</td>\n",
       "    </tr>\n",
       "    <tr>\n",
       "      <td>2</td>\n",
       "      <td>0.484536</td>\n",
       "      <td>0.390655</td>\n",
       "      <td>0.841549</td>\n",
       "      <td>00:02</td>\n",
       "    </tr>\n",
       "    <tr>\n",
       "      <td>3</td>\n",
       "      <td>0.408365</td>\n",
       "      <td>0.604181</td>\n",
       "      <td>0.627853</td>\n",
       "      <td>00:02</td>\n",
       "    </tr>\n",
       "    <tr>\n",
       "      <td>4</td>\n",
       "      <td>0.348453</td>\n",
       "      <td>0.187276</td>\n",
       "      <td>0.951797</td>\n",
       "      <td>00:02</td>\n",
       "    </tr>\n",
       "    <tr>\n",
       "      <td>5</td>\n",
       "      <td>0.291109</td>\n",
       "      <td>0.719341</td>\n",
       "      <td>0.856727</td>\n",
       "      <td>00:02</td>\n",
       "    </tr>\n",
       "    <tr>\n",
       "      <td>6</td>\n",
       "      <td>0.253515</td>\n",
       "      <td>0.242613</td>\n",
       "      <td>0.901044</td>\n",
       "      <td>00:02</td>\n",
       "    </tr>\n",
       "    <tr>\n",
       "      <td>7</td>\n",
       "      <td>0.216610</td>\n",
       "      <td>0.200984</td>\n",
       "      <td>0.925328</td>\n",
       "      <td>00:02</td>\n",
       "    </tr>\n",
       "    <tr>\n",
       "      <td>8</td>\n",
       "      <td>0.188960</td>\n",
       "      <td>1.469944</td>\n",
       "      <td>0.483609</td>\n",
       "      <td>00:02</td>\n",
       "    </tr>\n",
       "    <tr>\n",
       "      <td>9</td>\n",
       "      <td>0.167941</td>\n",
       "      <td>0.264442</td>\n",
       "      <td>0.885746</td>\n",
       "      <td>00:02</td>\n",
       "    </tr>\n",
       "    <tr>\n",
       "      <td>10</td>\n",
       "      <td>0.151791</td>\n",
       "      <td>0.135013</td>\n",
       "      <td>0.956654</td>\n",
       "      <td>00:02</td>\n",
       "    </tr>\n",
       "    <tr>\n",
       "      <td>11</td>\n",
       "      <td>0.143997</td>\n",
       "      <td>0.155507</td>\n",
       "      <td>0.939048</td>\n",
       "      <td>00:02</td>\n",
       "    </tr>\n",
       "    <tr>\n",
       "      <td>12</td>\n",
       "      <td>0.131475</td>\n",
       "      <td>0.108959</td>\n",
       "      <td>0.970495</td>\n",
       "      <td>00:02</td>\n",
       "    </tr>\n",
       "    <tr>\n",
       "      <td>13</td>\n",
       "      <td>0.116349</td>\n",
       "      <td>0.126330</td>\n",
       "      <td>0.969160</td>\n",
       "      <td>00:02</td>\n",
       "    </tr>\n",
       "    <tr>\n",
       "      <td>14</td>\n",
       "      <td>0.106784</td>\n",
       "      <td>0.136415</td>\n",
       "      <td>0.956654</td>\n",
       "      <td>00:02</td>\n",
       "    </tr>\n",
       "    <tr>\n",
       "      <td>15</td>\n",
       "      <td>0.097042</td>\n",
       "      <td>0.112845</td>\n",
       "      <td>0.969403</td>\n",
       "      <td>00:02</td>\n",
       "    </tr>\n",
       "    <tr>\n",
       "      <td>16</td>\n",
       "      <td>0.089969</td>\n",
       "      <td>0.083988</td>\n",
       "      <td>0.976688</td>\n",
       "      <td>00:02</td>\n",
       "    </tr>\n",
       "    <tr>\n",
       "      <td>17</td>\n",
       "      <td>0.084843</td>\n",
       "      <td>0.093615</td>\n",
       "      <td>0.974502</td>\n",
       "      <td>00:02</td>\n",
       "    </tr>\n",
       "    <tr>\n",
       "      <td>18</td>\n",
       "      <td>0.077079</td>\n",
       "      <td>0.103314</td>\n",
       "      <td>0.965639</td>\n",
       "      <td>00:02</td>\n",
       "    </tr>\n",
       "    <tr>\n",
       "      <td>19</td>\n",
       "      <td>0.071767</td>\n",
       "      <td>0.082031</td>\n",
       "      <td>0.977173</td>\n",
       "      <td>00:02</td>\n",
       "    </tr>\n",
       "    <tr>\n",
       "      <td>20</td>\n",
       "      <td>0.067266</td>\n",
       "      <td>0.080894</td>\n",
       "      <td>0.976931</td>\n",
       "      <td>00:02</td>\n",
       "    </tr>\n",
       "    <tr>\n",
       "      <td>21</td>\n",
       "      <td>0.063114</td>\n",
       "      <td>0.083144</td>\n",
       "      <td>0.975474</td>\n",
       "      <td>00:02</td>\n",
       "    </tr>\n",
       "    <tr>\n",
       "      <td>22</td>\n",
       "      <td>0.059353</td>\n",
       "      <td>0.079465</td>\n",
       "      <td>0.977173</td>\n",
       "      <td>00:02</td>\n",
       "    </tr>\n",
       "    <tr>\n",
       "      <td>23</td>\n",
       "      <td>0.055408</td>\n",
       "      <td>0.079524</td>\n",
       "      <td>0.977780</td>\n",
       "      <td>00:02</td>\n",
       "    </tr>\n",
       "    <tr>\n",
       "      <td>24</td>\n",
       "      <td>0.053558</td>\n",
       "      <td>0.078986</td>\n",
       "      <td>0.977295</td>\n",
       "      <td>00:02</td>\n",
       "    </tr>\n",
       "  </tbody>\n",
       "</table>"
      ],
      "text/plain": [
       "<IPython.core.display.HTML object>"
      ]
     },
     "metadata": {
      "tags": []
     },
     "output_type": "display_data"
    },
    {
     "name": "stdout",
     "output_type": "stream",
     "text": [
      "73.11140632629395\n"
     ]
    }
   ],
   "source": [
    "# Preprocess = TRUE, Data in memory\n",
    "tfms  = [None, [Categorize()]]\n",
    "dsets = TSDatasets(X_in_memory, y_in_memory, tfms=tfms, splits=splits, inplace=True)\n",
    "train_ds = dsets.train\n",
    "valid_ds = dsets.valid\n",
    "train_dl = TSDataLoader(train_ds, bs=64, shuffle=True, drop_last=True, num_workers=0)\n",
    "valid_dl = TSDataLoader(valid_ds, bs=128, num_workers=0)\n",
    "dls   = TSDataLoaders(train_dl, valid_dl, device=default_device())\n",
    "model = InceptionTime(dls.vars, dls.c)\n",
    "learn = Learner(dls, model, metrics=accuracy)\n",
    "start = time.time()\n",
    "learn.fit_one_cycle(25, lr_max=1e-3)\n",
    "print(time.time() - start)"
   ]
  },
  {
   "cell_type": "markdown",
   "metadata": {
    "colab_type": "text",
    "hidden": true,
    "id": "7st1Krjo4CP3"
   },
   "source": [
    "🍻 🎉 I think this is a great result. It means that just preprocessing the item transforms can reduce training time by almost 25%, and almost 50% from the generic datablock API. "
   ]
  },
  {
   "cell_type": "code",
   "execution_count": 38,
   "metadata": {
    "colab": {
     "base_uri": "https://localhost:8080/",
     "height": 815
    },
    "colab_type": "code",
    "hidden": true,
    "id": "gQMMrdeCCzzZ",
    "outputId": "56632b5e-abf9-406e-a746-4c1056478d59"
   },
   "outputs": [
    {
     "data": {
      "text/html": [
       "<table border=\"1\" class=\"dataframe\">\n",
       "  <thead>\n",
       "    <tr style=\"text-align: left;\">\n",
       "      <th>epoch</th>\n",
       "      <th>train_loss</th>\n",
       "      <th>valid_loss</th>\n",
       "      <th>accuracy</th>\n",
       "      <th>time</th>\n",
       "    </tr>\n",
       "  </thead>\n",
       "  <tbody>\n",
       "    <tr>\n",
       "      <td>0</td>\n",
       "      <td>0.758086</td>\n",
       "      <td>1.006821</td>\n",
       "      <td>0.579772</td>\n",
       "      <td>00:03</td>\n",
       "    </tr>\n",
       "    <tr>\n",
       "      <td>1</td>\n",
       "      <td>0.607912</td>\n",
       "      <td>0.655561</td>\n",
       "      <td>0.835843</td>\n",
       "      <td>00:03</td>\n",
       "    </tr>\n",
       "    <tr>\n",
       "      <td>2</td>\n",
       "      <td>0.514340</td>\n",
       "      <td>0.418256</td>\n",
       "      <td>0.850291</td>\n",
       "      <td>00:03</td>\n",
       "    </tr>\n",
       "    <tr>\n",
       "      <td>3</td>\n",
       "      <td>0.430684</td>\n",
       "      <td>0.279880</td>\n",
       "      <td>0.909058</td>\n",
       "      <td>00:03</td>\n",
       "    </tr>\n",
       "    <tr>\n",
       "      <td>4</td>\n",
       "      <td>0.357841</td>\n",
       "      <td>0.480854</td>\n",
       "      <td>0.856362</td>\n",
       "      <td>00:03</td>\n",
       "    </tr>\n",
       "    <tr>\n",
       "      <td>5</td>\n",
       "      <td>0.303761</td>\n",
       "      <td>0.799582</td>\n",
       "      <td>0.856241</td>\n",
       "      <td>00:03</td>\n",
       "    </tr>\n",
       "    <tr>\n",
       "      <td>6</td>\n",
       "      <td>0.255067</td>\n",
       "      <td>0.171060</td>\n",
       "      <td>0.945119</td>\n",
       "      <td>00:03</td>\n",
       "    </tr>\n",
       "    <tr>\n",
       "      <td>7</td>\n",
       "      <td>0.213089</td>\n",
       "      <td>0.232255</td>\n",
       "      <td>0.906265</td>\n",
       "      <td>00:03</td>\n",
       "    </tr>\n",
       "    <tr>\n",
       "      <td>8</td>\n",
       "      <td>0.181367</td>\n",
       "      <td>0.189762</td>\n",
       "      <td>0.939898</td>\n",
       "      <td>00:03</td>\n",
       "    </tr>\n",
       "    <tr>\n",
       "      <td>9</td>\n",
       "      <td>0.159745</td>\n",
       "      <td>0.288204</td>\n",
       "      <td>0.875789</td>\n",
       "      <td>00:03</td>\n",
       "    </tr>\n",
       "    <tr>\n",
       "      <td>10</td>\n",
       "      <td>0.141290</td>\n",
       "      <td>0.123382</td>\n",
       "      <td>0.962967</td>\n",
       "      <td>00:03</td>\n",
       "    </tr>\n",
       "    <tr>\n",
       "      <td>11</td>\n",
       "      <td>0.128642</td>\n",
       "      <td>0.133369</td>\n",
       "      <td>0.955561</td>\n",
       "      <td>00:03</td>\n",
       "    </tr>\n",
       "    <tr>\n",
       "      <td>12</td>\n",
       "      <td>0.118353</td>\n",
       "      <td>0.296726</td>\n",
       "      <td>0.871661</td>\n",
       "      <td>00:03</td>\n",
       "    </tr>\n",
       "    <tr>\n",
       "      <td>13</td>\n",
       "      <td>0.107707</td>\n",
       "      <td>0.105561</td>\n",
       "      <td>0.976445</td>\n",
       "      <td>00:03</td>\n",
       "    </tr>\n",
       "    <tr>\n",
       "      <td>14</td>\n",
       "      <td>0.099011</td>\n",
       "      <td>0.115142</td>\n",
       "      <td>0.970617</td>\n",
       "      <td>00:03</td>\n",
       "    </tr>\n",
       "    <tr>\n",
       "      <td>15</td>\n",
       "      <td>0.094726</td>\n",
       "      <td>0.087002</td>\n",
       "      <td>0.975231</td>\n",
       "      <td>00:03</td>\n",
       "    </tr>\n",
       "    <tr>\n",
       "      <td>16</td>\n",
       "      <td>0.088285</td>\n",
       "      <td>0.086045</td>\n",
       "      <td>0.977659</td>\n",
       "      <td>00:03</td>\n",
       "    </tr>\n",
       "    <tr>\n",
       "      <td>17</td>\n",
       "      <td>0.082463</td>\n",
       "      <td>0.087534</td>\n",
       "      <td>0.976202</td>\n",
       "      <td>00:03</td>\n",
       "    </tr>\n",
       "    <tr>\n",
       "      <td>18</td>\n",
       "      <td>0.078383</td>\n",
       "      <td>0.087245</td>\n",
       "      <td>0.975109</td>\n",
       "      <td>00:03</td>\n",
       "    </tr>\n",
       "    <tr>\n",
       "      <td>19</td>\n",
       "      <td>0.073381</td>\n",
       "      <td>0.089765</td>\n",
       "      <td>0.973895</td>\n",
       "      <td>00:03</td>\n",
       "    </tr>\n",
       "    <tr>\n",
       "      <td>20</td>\n",
       "      <td>0.068274</td>\n",
       "      <td>0.084433</td>\n",
       "      <td>0.977052</td>\n",
       "      <td>00:03</td>\n",
       "    </tr>\n",
       "    <tr>\n",
       "      <td>21</td>\n",
       "      <td>0.062637</td>\n",
       "      <td>0.082696</td>\n",
       "      <td>0.977659</td>\n",
       "      <td>00:03</td>\n",
       "    </tr>\n",
       "    <tr>\n",
       "      <td>22</td>\n",
       "      <td>0.058480</td>\n",
       "      <td>0.081950</td>\n",
       "      <td>0.975716</td>\n",
       "      <td>00:03</td>\n",
       "    </tr>\n",
       "    <tr>\n",
       "      <td>23</td>\n",
       "      <td>0.056328</td>\n",
       "      <td>0.081056</td>\n",
       "      <td>0.976931</td>\n",
       "      <td>00:03</td>\n",
       "    </tr>\n",
       "    <tr>\n",
       "      <td>24</td>\n",
       "      <td>0.054266</td>\n",
       "      <td>0.081299</td>\n",
       "      <td>0.976688</td>\n",
       "      <td>00:03</td>\n",
       "    </tr>\n",
       "  </tbody>\n",
       "</table>"
      ],
      "text/plain": [
       "<IPython.core.display.HTML object>"
      ]
     },
     "metadata": {
      "tags": []
     },
     "output_type": "display_data"
    },
    {
     "name": "stdout",
     "output_type": "stream",
     "text": [
      "81.07562470436096\n"
     ]
    }
   ],
   "source": [
    "# Preprocess = TRUE, Data on disk\n",
    "tfms = [None, [Categorize()]]\n",
    "dsets = TSDatasets(X_on_disk, y_on_disk, tfms=tfms, splits=splits, inplace=True)\n",
    "train_ds = dsets.train\n",
    "valid_ds = dsets.valid\n",
    "train_dl = TSDataLoader(train_ds, bs=64, shuffle=True, drop_last=True)\n",
    "valid_dl = TSDataLoader(valid_ds, bs=128)\n",
    "dls = TSDataLoaders(train_dl, valid_dl, device=default_device())\n",
    "model = InceptionTime(dls.vars, dls.c)\n",
    "learn = Learner(dls, model, metrics=accuracy)\n",
    "start = time.time()\n",
    "learn.fit_one_cycle(25, lr_max=1e-3)\n",
    "print(time.time() - start)"
   ]
  },
  {
   "cell_type": "markdown",
   "metadata": {
    "colab_type": "text",
    "hidden": true,
    "id": "aIfanvej4CP8"
   },
   "source": [
    "⚠️ This is also very important, as it means we can now train very large datasets with a good performance without loading data in memory. It takes around 10% longer."
   ]
  },
  {
   "cell_type": "markdown",
   "metadata": {
    "colab_type": "text",
    "heading_collapsed": true,
    "hidden": true,
    "id": "8vsqTrvKDGVL"
   },
   "source": [
    "#### Predictions"
   ]
  },
  {
   "cell_type": "markdown",
   "metadata": {
    "colab_type": "text",
    "hidden": true,
    "id": "CA1KdYQ34CP8"
   },
   "source": [
    "NumpyDatasets and NumpyDataLoader share all the benefits of fastai v2:"
   ]
  },
  {
   "cell_type": "code",
   "execution_count": 39,
   "metadata": {
    "colab": {
     "base_uri": "https://localhost:8080/",
     "height": 137
    },
    "colab_type": "code",
    "hidden": true,
    "id": "8aZTHMYeINNl",
    "outputId": "95cf01cd-02f8-4c28-88a0-f2031b72a077"
   },
   "outputs": [
    {
     "data": {
      "text/html": [
       "<table border=\"1\" class=\"dataframe\">\n",
       "  <thead>\n",
       "    <tr style=\"text-align: left;\">\n",
       "      <th>epoch</th>\n",
       "      <th>train_loss</th>\n",
       "      <th>valid_loss</th>\n",
       "      <th>accuracy</th>\n",
       "      <th>time</th>\n",
       "    </tr>\n",
       "  </thead>\n",
       "  <tbody>\n",
       "    <tr>\n",
       "      <td>0</td>\n",
       "      <td>0.623371</td>\n",
       "      <td>0.868707</td>\n",
       "      <td>0.839121</td>\n",
       "      <td>00:02</td>\n",
       "    </tr>\n",
       "    <tr>\n",
       "      <td>1</td>\n",
       "      <td>0.477802</td>\n",
       "      <td>0.496088</td>\n",
       "      <td>0.851141</td>\n",
       "      <td>00:02</td>\n",
       "    </tr>\n",
       "    <tr>\n",
       "      <td>2</td>\n",
       "      <td>0.395283</td>\n",
       "      <td>0.462894</td>\n",
       "      <td>0.906022</td>\n",
       "      <td>00:02</td>\n",
       "    </tr>\n",
       "  </tbody>\n",
       "</table>"
      ],
      "text/plain": [
       "<IPython.core.display.HTML object>"
      ]
     },
     "metadata": {
      "tags": []
     },
     "output_type": "display_data"
    }
   ],
   "source": [
    "# Preprocess = TRUE, Data in memory\n",
    "tfms  = [None, [Categorize()]]\n",
    "dsets = TSDatasets(X_in_memory, y_in_memory, tfms=tfms, splits=splits, inplace=True)\n",
    "train_dl = TSDataLoader(dsets.train, bs=64, shuffle=True, drop_last=True, num_workers=0)\n",
    "valid_dl = TSDataLoader(dsets.valid, bs=128, num_workers=0)\n",
    "dls   = TSDataLoaders(train_dl, valid_dl, device=default_device())\n",
    "model = InceptionTime(dls.vars, dls.c)\n",
    "learn = Learner(dls, model, metrics=accuracy)\n",
    "learn.fit_one_cycle(3, lr_max=1e-3)"
   ]
  },
  {
   "cell_type": "code",
   "execution_count": 40,
   "metadata": {
    "colab": {
     "base_uri": "https://localhost:8080/",
     "height": 728
    },
    "colab_type": "code",
    "hidden": true,
    "id": "zznzCDisYl-w",
    "outputId": "cdad3240-b444-45ea-e75b-cf495f80b4ff",
    "scrolled": true
   },
   "outputs": [
    {
     "data": {
      "text/html": [],
      "text/plain": [
       "<IPython.core.display.HTML object>"
      ]
     },
     "metadata": {
      "tags": []
     },
     "output_type": "display_data"
    },
    {
     "data": {
      "image/png": "[encoded data removed]",
      "text/plain": [
       "<Figure size 1152x720 with 9 Axes>"
      ]
     },
     "metadata": {
      "tags": []
     },
     "output_type": "display_data"
    }
   ],
   "source": [
    "learn.show_results(sharey=True)"
   ]
  },
  {
   "cell_type": "code",
   "execution_count": 41,
   "metadata": {
    "colab": {
     "base_uri": "https://localhost:8080/",
     "height": 176
    },
    "colab_type": "code",
    "hidden": true,
    "id": "ZVK9PMjJDgqS",
    "outputId": "964d93a6-eb26-4c78-cdb1-23f96116646a"
   },
   "outputs": [
    {
     "data": {
      "text/html": [],
      "text/plain": [
       "<IPython.core.display.HTML object>"
      ]
     },
     "metadata": {
      "tags": []
     },
     "output_type": "display_data"
    },
    {
     "data": {
      "text/html": [],
      "text/plain": [
       "<IPython.core.display.HTML object>"
      ]
     },
     "metadata": {
      "tags": []
     },
     "output_type": "display_data"
    },
    {
     "data": {
      "text/plain": [
       "(tensor([[0.0095, 0.9771, 0.0133],\n",
       "         [0.3646, 0.2382, 0.3972],\n",
       "         [0.3949, 0.2159, 0.3892],\n",
       "         ...,\n",
       "         [0.4822, 0.0898, 0.4280],\n",
       "         [0.0166, 0.9606, 0.0227],\n",
       "         [0.2271, 0.0792, 0.6936]]),\n",
       " tensor([1, 2, 2,  ..., 0, 1, 2]),\n",
       " tensor([1, 2, 0,  ..., 0, 1, 2]))"
      ]
     },
     "execution_count": 41,
     "metadata": {
      "tags": []
     },
     "output_type": "execute_result"
    }
   ],
   "source": [
    "train_probas, train_targets, train_preds = learn.get_preds(dl=train_dl, with_decoded=True)\n",
    "valid_probas, valid_targets, valid_preds = learn.get_preds(dl=valid_dl, with_decoded=True)\n",
    "valid_probas, valid_targets, valid_preds"
   ]
  },
  {
   "cell_type": "code",
   "execution_count": 42,
   "metadata": {
    "colab": {
     "base_uri": "https://localhost:8080/",
     "height": 311
    },
    "colab_type": "code",
    "hidden": true,
    "id": "Ikn0q270GuhV",
    "outputId": "a721c44e-a5e1-4157-b8b5-521687f7d322"
   },
   "outputs": [
    {
     "data": {
      "text/html": [],
      "text/plain": [
       "<IPython.core.display.HTML object>"
      ]
     },
     "metadata": {
      "tags": []
     },
     "output_type": "display_data"
    },
    {
     "data": {
      "image/png": "[encoded data removed]",
      "text/plain": [
       "<Figure size 432x288 with 1 Axes>"
      ]
     },
     "metadata": {
      "tags": []
     },
     "output_type": "display_data"
    }
   ],
   "source": [
    "interp = ClassificationInterpretation.from_learner(learn)\n",
    "interp.plot_confusion_matrix()"
   ]
  },
  {
   "cell_type": "markdown",
   "metadata": {
    "colab_type": "text",
    "heading_collapsed": true,
    "hidden": true,
    "id": "y5F0V2qT4CQz"
   },
   "source": [
    "### Add additional labeled test data"
   ]
  },
  {
   "cell_type": "code",
   "execution_count": 43,
   "metadata": {
    "colab": {
     "base_uri": "https://localhost:8080/",
     "height": 0
    },
    "colab_type": "code",
    "hidden": true,
    "id": "jtrNSbovNOrs",
    "outputId": "4c08b32c-a723-4784-880e-31ec934b862c"
   },
   "outputs": [
    {
     "data": {
      "text/plain": [
       "(TSTensor(samples:128, vars:1, len:1024),\n",
       " tensor([2, 2, 0, 2, 2, 1, 2, 1, 2, 2, 1, 2, 2, 2, 2, 2, 0, 1, 2, 1, 2, 0, 1, 0,\n",
       "         2, 2, 0, 2, 2, 2, 1, 2, 1, 1, 2, 0, 0, 1, 2, 0, 1, 2, 1, 2, 2, 1, 1, 2,\n",
       "         0, 0, 0, 2, 2, 2, 0, 2, 2, 2, 2, 1, 2, 2, 2, 0, 1, 2, 2, 2, 2, 1, 1, 2,\n",
       "         1, 0, 1, 2, 2, 1, 1, 2, 2, 1, 1, 1, 2, 0, 2, 2, 1, 1, 2, 0, 2, 2, 2, 1,\n",
       "         2, 2, 1, 2, 1, 1, 2, 1, 2, 1, 2, 0, 2, 2, 1, 2, 2, 2, 2, 2, 1, 2, 1, 1,\n",
       "         2, 2, 2, 2, 1, 2, 0, 2], device='cuda:0'))"
      ]
     },
     "execution_count": 43,
     "metadata": {
      "tags": []
     },
     "output_type": "execute_result"
    }
   ],
   "source": [
    "# Labeled test data\n",
    "test_ds = dsets.add_test(X_in_memory, y_in_memory)\n",
    "test_dl = learn.dls[1].new(test_ds)\n",
    "b = next(iter(test_dl))\n",
    "b"
   ]
  },
  {
   "cell_type": "code",
   "execution_count": 44,
   "metadata": {
    "colab": {
     "base_uri": "https://localhost:8080/",
     "height": 0
    },
    "colab_type": "code",
    "hidden": true,
    "id": "Pz1N_GP-4wuA",
    "outputId": "1670440e-644d-45e8-fe09-a65c5cd51207"
   },
   "outputs": [
    {
     "data": {
      "text/html": [],
      "text/plain": [
       "<IPython.core.display.HTML object>"
      ]
     },
     "metadata": {
      "tags": []
     },
     "output_type": "display_data"
    },
    {
     "data": {
      "text/plain": [
       "(tensor([[0.3812, 0.0904, 0.5284],\n",
       "         [0.5293, 0.0799, 0.3908],\n",
       "         [0.5227, 0.0845, 0.3928],\n",
       "         ...,\n",
       "         [0.4822, 0.0898, 0.4280],\n",
       "         [0.0166, 0.9606, 0.0227],\n",
       "         [0.2271, 0.0792, 0.6936]]),\n",
       " tensor([2, 2, 0,  ..., 0, 1, 2]),\n",
       " tensor([2, 0, 0,  ..., 0, 1, 2]))"
      ]
     },
     "execution_count": 44,
     "metadata": {
      "tags": []
     },
     "output_type": "execute_result"
    }
   ],
   "source": [
    "test_probas, test_targets, test_preds = learn.get_preds(dl=test_dl, with_decoded=True, save_preds=None, save_targs=None)\n",
    "test_probas, test_targets, test_preds"
   ]
  },
  {
   "cell_type": "markdown",
   "metadata": {
    "colab_type": "text",
    "heading_collapsed": true,
    "hidden": true,
    "id": "G1nhB2PA4CQ9"
   },
   "source": [
    "### Add additional unlabeled test data"
   ]
  },
  {
   "cell_type": "code",
   "execution_count": 45,
   "metadata": {
    "colab": {
     "base_uri": "https://localhost:8080/",
     "height": 0
    },
    "colab_type": "code",
    "hidden": true,
    "id": "XEcoPG179AAc",
    "outputId": "3dc4ff54-83fe-40ca-f36e-56c2d18de231"
   },
   "outputs": [
    {
     "data": {
      "text/plain": [
       "(TSTensor(samples:128, vars:1, len:1024),)"
      ]
     },
     "execution_count": 45,
     "metadata": {
      "tags": []
     },
     "output_type": "execute_result"
    }
   ],
   "source": [
    "# Unlabeled test data\n",
    "test_ds = dsets.add_test(X_in_memory)\n",
    "test_dl = learn.dls[1].new(test_ds)\n",
    "b = next(iter(test_dl))\n",
    "b"
   ]
  },
  {
   "cell_type": "code",
   "execution_count": 46,
   "metadata": {
    "colab": {
     "base_uri": "https://localhost:8080/",
     "height": 0
    },
    "colab_type": "code",
    "hidden": true,
    "id": "pxgxEajo9J5x",
    "outputId": "ddcff1c9-a83d-404f-fad3-d3e5fa44bc28"
   },
   "outputs": [
    {
     "data": {
      "text/html": [],
      "text/plain": [
       "<IPython.core.display.HTML object>"
      ]
     },
     "metadata": {
      "tags": []
     },
     "output_type": "display_data"
    },
    {
     "data": {
      "text/plain": [
       "tensor([[0.3812, 0.0904, 0.5284],\n",
       "        [0.5293, 0.0799, 0.3908],\n",
       "        [0.5227, 0.0845, 0.3928],\n",
       "        ...,\n",
       "        [0.4822, 0.0898, 0.4280],\n",
       "        [0.0166, 0.9606, 0.0227],\n",
       "        [0.2271, 0.0792, 0.6936]])"
      ]
     },
     "execution_count": 46,
     "metadata": {
      "tags": []
     },
     "output_type": "execute_result"
    }
   ],
   "source": [
    "test_probas, *_ = learn.get_preds(dl=test_dl, save_preds=None)\n",
    "test_probas"
   ]
  },
  {
   "cell_type": "markdown",
   "metadata": {
    "colab_type": "text",
    "heading_collapsed": true,
    "hidden": true,
    "id": "RGoenZnC4CRJ"
   },
   "source": [
    "### Add additional unlabeled data"
   ]
  },
  {
   "cell_type": "code",
   "execution_count": 47,
   "metadata": {
    "colab": {
     "base_uri": "https://localhost:8080/",
     "height": 34
    },
    "colab_type": "code",
    "hidden": true,
    "id": "a24nKZRiOTpk",
    "outputId": "3535aeea-5aa8-4ea0-83a8-71fb765de811"
   },
   "outputs": [
    {
     "data": {
      "text/plain": [
       "(TSTensor(samples:128, vars:1, len:1024),)"
      ]
     },
     "execution_count": 47,
     "metadata": {
      "tags": []
     },
     "output_type": "execute_result"
    }
   ],
   "source": [
    "# Unlabeled dataset\n",
    "unlabeled_ds = dsets.add_unlabeled(X_in_memory)\n",
    "unlabeled_dl = learn.dls[1].new(unlabeled_ds)\n",
    "b = next(iter(unlabeled_dl))\n",
    "b"
   ]
  },
  {
   "cell_type": "code",
   "execution_count": 48,
   "metadata": {
    "colab": {
     "base_uri": "https://localhost:8080/",
     "height": 141
    },
    "colab_type": "code",
    "hidden": true,
    "id": "lNazOlUkTE5L",
    "outputId": "c1aef76f-88a6-4d54-e4d9-e05853fa87d9"
   },
   "outputs": [
    {
     "data": {
      "text/html": [],
      "text/plain": [
       "<IPython.core.display.HTML object>"
      ]
     },
     "metadata": {
      "tags": []
     },
     "output_type": "display_data"
    },
    {
     "data": {
      "text/plain": [
       "tensor([[0.3812, 0.0904, 0.5284],\n",
       "        [0.5293, 0.0799, 0.3908],\n",
       "        [0.5227, 0.0845, 0.3928],\n",
       "        ...,\n",
       "        [0.4822, 0.0898, 0.4280],\n",
       "        [0.0166, 0.9606, 0.0227],\n",
       "        [0.2271, 0.0792, 0.6936]])"
      ]
     },
     "execution_count": 48,
     "metadata": {
      "tags": []
     },
     "output_type": "execute_result"
    }
   ],
   "source": [
    "u_probas, *_ = learn.get_preds(dl=unlabeled_dl, save_preds=None)\n",
    "u_probas"
   ]
  },
  {
   "cell_type": "markdown",
   "metadata": {
    "colab_type": "text",
    "heading_collapsed": true,
    "id": "1h6Uahtp4CRT"
   },
   "source": [
    "## Conclusions 🧠"
   ]
  },
  {
   "cell_type": "markdown",
   "metadata": {
    "colab_type": "text",
    "hidden": true,
    "id": "pjJugJxBQa__"
   },
   "source": [
    "We now have a dataloader that works with numpy arrays and meets all the requirements we set at the beginning of this notebook. The key benefits are: \n",
    "\n",
    "* We can use it with numpy arrays (or anything that can be converted into np arrays). For example, this can be used for **univariate and multivariate time series**.\n",
    "* Easy to use scikit-learn type of API (X, (y)), useful for **labeled and unlabeled datasets**\n",
    "* We can also use **larger than RAM datasets**, keeping data on disk.\n",
    "* It has all the benefits of being integrated with fastai v2: \n",
    "    * Use item and batch tfms\n",
    "    * Show batch (with tfms)\n",
    "    * Show results\n",
    "* The dataloader is **300 times faster than fastai v1** and **1000 times faster than generic fastai v2** (with numpy arrays).\n",
    "* This results in almost **30% faster training** fastai v1 and around **50% faster generic fastai v2** (for numpy arrays)"
   ]
  }
 ],
 "metadata": {
  "accelerator": "GPU",
  "colab": {
   "name": "02_DataLoaders_benchmark_update3.ipynb",
   "provenance": []
  },
  "kernelspec": {
   "display_name": "Python 3",
   "language": "python",
   "name": "python3"
  },
  "language_info": {
   "codemirror_mode": {
    "name": "ipython",
    "version": 3
   },
   "file_extension": ".py",
   "mimetype": "text/x-python",
   "name": "python",
   "nbconvert_exporter": "python",
   "pygments_lexer": "ipython3",
   "version": "3.7.3"
  },
  "toc": {
   "base_numbering": 1,
   "nav_menu": {},
   "number_sections": true,
   "sideBar": true,
   "skip_h1_title": false,
   "title_cell": "Table of Contents",
   "title_sidebar": "Contents",
   "toc_cell": false,
   "toc_position": {},
   "toc_section_display": true,
   "toc_window_display": false
  }
 },
 "nbformat": 4,
 "nbformat_minor": 1
}
