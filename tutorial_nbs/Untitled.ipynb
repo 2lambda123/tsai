{
 "cells": [
  {
   "cell_type": "code",
   "execution_count": null,
   "metadata": {},
   "outputs": [],
   "source": [
    "class TabularDataset():\n",
    "    \"A `Numpy` dataset from a `TabularPandas` object\"\n",
    "    def __init__(self, to):\n",
    "        self.cats = to.cats.to_numpy().astype(np.long)\n",
    "        self.conts = to.conts.to_numpy().astype(np.float32)\n",
    "        self.ys = to.ys.to_numpy()#.astype(np.int8) Remove as may be a regression problem?\n",
    "    def __getitem__(self, idx):\n",
    "        idx = idx[0]\n",
    "        return self.cats[idx:idx+self.bs], self.conts[idx:idx+self.bs], self.ys[idx:idx+self.bs]\n",
    "    def __len__(self): return len(self.cats)\n",
    "    @property\n",
    "    # Replaced self.y by self.ys (bug)\n",
    "    def c(self): return 0 if self.ys is None else 1 if isinstance(self.ys[0], float) else len(np.unique(self.ys))\n",
    "\n",
    "class TabDataLoader(DataLoader):\n",
    "    # add **kwargs\n",
    "    def __init__(self, dataset, bs=1, num_workers=0, device='cuda', shuffle=shuffle, **kwargs):\n",
    "        \"A `DataLoader` based on a `TabularDataset`\"\n",
    "        # Why always set shuffle to True?? \n",
    "        super().__init__(dataset, bs=bs, num_workers=num_workers, shuffle=True, device=device, drop_last=shuffle, **kwargs)\n",
    "        dataset.bs = bs\n",
    "        self.device, self.counter, self.shuffle = device, 0, shuffle\n",
    "        self.dataset=dataset\n",
    "\n",
    "    def create_item(self, s): return s\n",
    "  \n",
    "    def create_batch(self, b):\n",
    "        cat, cont, y = self.dataset[b]\n",
    "        return tensor(cat).to(self.device), tensor(cont).to(self.device), tensor(y).to(self.device)\n",
    "\n",
    "    def get_idxs(self):\n",
    "        idxs = Inf.count if self.indexed else Inf.nones\n",
    "        if self.n is not None: idxs = list(range(len(self.dataset)))\n",
    "        # Is this done once per epoch? If so, that's a good place to do it!!👍\n",
    "        if self.shuffle: self.shuffle_fn()\n",
    "        return idxs\n",
    "\n",
    "    def shuffle_fn(self):\n",
    "        \"Shuffle dataset after each epoch\"\n",
    "        rng = np.random.permutation(len(self.dataset))\n",
    "        self.dataset.cats = self.dataset.cats[rng]\n",
    "        self.dataset.conts = self.dataset.conts[rng]\n",
    "        self.dataset.ys = self.dataset.ys[rng]"
   ]
  }
 ],
 "metadata": {
  "kernelspec": {
   "display_name": "Python 3",
   "language": "python",
   "name": "python3"
  },
  "language_info": {
   "codemirror_mode": {
    "name": "ipython",
    "version": 3
   },
   "file_extension": ".py",
   "mimetype": "text/x-python",
   "name": "python",
   "nbconvert_exporter": "python",
   "pygments_lexer": "ipython3",
   "version": "3.7.3"
  },
  "toc": {
   "base_numbering": 1,
   "nav_menu": {},
   "number_sections": true,
   "sideBar": true,
   "skip_h1_title": false,
   "title_cell": "Table of Contents",
   "title_sidebar": "Contents",
   "toc_cell": false,
   "toc_position": {},
   "toc_section_display": true,
   "toc_window_display": false
  }
 },
 "nbformat": 4,
 "nbformat_minor": 2
}
