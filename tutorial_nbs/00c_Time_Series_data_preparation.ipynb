{
 "cells": [
  {
   "cell_type": "markdown",
   "metadata": {
    "id": "pkAoI1bcmFNl"
   },
   "source": [
    "<a href=\"https://colab.research.google.com/github/timeseriesAI/timeseriesAI/blob/master/tutorial_nbs/00c_Time_Series_data_preparation.ipynb\" target=\"_parent\"><img src=\"https://colab.research.google.com/assets/colab-badge.svg\" alt=\"Open In Colab\"/></a>"
   ]
  },
  {
   "cell_type": "markdown",
   "metadata": {
    "id": "OF1HNp5JmFNv"
   },
   "source": [
    "created by Ignacio Oguiza - email: oguiza@gmail.com"
   ]
  },
  {
   "cell_type": "markdown",
   "metadata": {
    "heading_collapsed": true,
    "id": "1pnksAmXmFN5"
   },
   "source": [
    "## Import libraries"
   ]
  },
  {
   "cell_type": "markdown",
   "metadata": {
    "hidden": true,
    "id": "NudyryUhmFOC"
   },
   "source": [
    "Since some of you have been asking questions as to how to prepare your data to be able to use timeserisAI, I've prepared a short tutorial to address this.\n",
    "\n",
    "There are endless options in terms of how your source data may be stored, so I'll cover a few of the most frequent ones I've seen. I may be expanding this in the future if needed."
   ]
  },
  {
   "cell_type": "code",
   "execution_count": 1,
   "metadata": {
    "ExecuteTime": {
     "end_time": "2020-10-31T09:22:56.702353Z",
     "start_time": "2020-10-31T09:22:45.185852Z"
    },
    "colab": {
     "base_uri": "https://localhost:8080/",
     "height": 313
    },
    "hidden": true,
    "id": "Zq169vi4o8CS",
    "outputId": "033912dd-ca0f-41fc-e46e-243b35ad1620"
   },
   "outputs": [
    {
     "name": "stdout",
     "output_type": "stream",
     "text": [
      "tsai       : 0.2.0\n",
      "fastai     : 2.0.18\n",
      "fastcore   : 1.2.5\n",
      "torch      : 1.6.0\n",
      "scipy      : 1.5.2\n",
      "numpy      : 1.19.1\n",
      "pandas     : 1.1.3\n",
      "matplotlib : 3.3.2\n"
     ]
    }
   ],
   "source": [
    "bleeding = True # True: latest version, False: latest stable version\n",
    "\n",
    "import sys\n",
    "ISCOLAB = 'google.colab' in sys.modules\n",
    "if ISCOLAB:\n",
    "    if bleeding:\n",
    "        !pip install git+https://github.com/fastai/fastcore.git@master -q\n",
    "        !pip install git+https://github.com/fastai/fastai.git@master -q\n",
    "        !pip install git+https://github.com/timeseriesAI/timeseriesAI.git -q\n",
    "    else: \n",
    "        !pip install tsai -q\n",
    "    \n",
    "from tsai.all import *\n",
    "print('tsai       :', tsai.__version__)\n",
    "print('fastai     :', fastai.__version__)\n",
    "print('fastcore   :', fastcore.__version__)\n",
    "print('torch      :', torch.__version__)\n",
    "print('scipy      :', sp.__version__)\n",
    "print('numpy      :', np.__version__)\n",
    "print('pandas     :', pd.__version__)\n",
    "print('matplotlib :', matplotlib.__version__)"
   ]
  },
  {
   "cell_type": "markdown",
   "metadata": {
    "heading_collapsed": true,
    "id": "fc94y9g5mFPE"
   },
   "source": [
    "## Required input shape"
   ]
  },
  {
   "cell_type": "markdown",
   "metadata": {
    "hidden": true,
    "id": "pANw0MU0mFPL"
   },
   "source": [
    "To be able to use timeseriesAI your data needs to have 3 dimensions: \n",
    "\n",
    "* **number of samples**\n",
    "* **number of features** (aka variables, dimensions)\n",
    "* **number of steps** (or length, time steps, sequence steps)\n",
    "\n",
    "There are a few convenience functions that you may want to use to prepare your data. \n",
    "\n",
    "We are going to see how you could prepare your data in a few scenarios. "
   ]
  },
  {
   "cell_type": "markdown",
   "metadata": {
    "hidden": true,
    "id": "8IpuqUknmFPS"
   },
   "source": [
    "**Note: I've recently modified timeseriesAI so that you can also use 2d input data in the case of univariate time series (they'll be converted to 3d internally), although you can still pass univariate time series as 3d or pass them if you prefer. You'll get the same result.**"
   ]
  },
  {
   "cell_type": "markdown",
   "metadata": {
    "heading_collapsed": true,
    "id": "XXWiXG5tmFPY"
   },
   "source": [
    "## UCR time series data"
   ]
  },
  {
   "cell_type": "markdown",
   "metadata": {
    "hidden": true,
    "id": "E4IwTFoDmFPe"
   },
   "source": [
    "The easiest case if if you want to use some of the data already preprocessed in timeseriesAI (all UCR datasets have been included). In this case, the only thing you need to do is:\n",
    "\n",
    "* select a univariate or multivariate dataset from the list\n",
    "* use the get_UCR_data function"
   ]
  },
  {
   "cell_type": "code",
   "execution_count": 2,
   "metadata": {
    "colab": {
     "base_uri": "https://localhost:8080/"
    },
    "hidden": true,
    "id": "Ob9mTH-imFPo",
    "outputId": "e7d6b566-9c83-4df1-9ddb-d5b5f4acd946"
   },
   "outputs": [
    {
     "name": "stdout",
     "output_type": "stream",
     "text": [
      "univariate datasets:  ['ACSF1', 'Adiac', 'AllGestureWiimoteX', 'AllGestureWiimoteY', 'AllGestureWiimoteZ', 'ArrowHead', 'Beef', 'BeetleFly', 'BirdChicken', 'BME', 'Car', 'CBF', 'Chinatown', 'ChlorineConcentration', 'CinCECGTorso', 'Coffee', 'Computers', 'CricketX', 'CricketY', 'CricketZ', 'Crop', 'DiatomSizeReduction', 'DistalPhalanxOutlineAgeGroup', 'DistalPhalanxOutlineCorrect', 'DistalPhalanxTW', 'DodgerLoopDay', 'DodgerLoopGame', 'DodgerLoopWeekend', 'Earthquakes', 'ECG200', 'ECG5000', 'ECGFiveDays', 'ElectricDevices', 'EOGHorizontalSignal', 'EOGVerticalSignal', 'EthanolLevel', 'FaceAll', 'FaceFour', 'FacesUCR', 'FiftyWords', 'Fish', 'FordA', 'FordB', 'FreezerRegularTrain', 'FreezerSmallTrain', 'Fungi', 'GestureMidAirD1', 'GestureMidAirD2', 'GestureMidAirD3', 'GesturePebbleZ1', 'GesturePebbleZ2', 'GunPoint', 'GunPointAgeSpan', 'GunPointMaleVersusFemale', 'GunPointOldVersusYoung', 'Ham', 'HandOutlines', 'Haptics', 'Herring', 'HouseTwenty', 'InlineSkate', 'InsectEPGRegularTrain', 'InsectEPGSmallTrain', 'InsectWingbeatSound', 'ItalyPowerDemand', 'LargeKitchenAppliances', 'Lightning2', 'Lightning7', 'Mallat', 'Meat', 'MedicalImages', 'MelbournePedestrian', 'MiddlePhalanxOutlineAgeGroup', 'MiddlePhalanxOutlineCorrect', 'MiddlePhalanxTW', 'MixedShapesRegularTrain', 'MixedShapesSmallTrain', 'MoteStrain', 'NonInvasiveFetalECGThorax1', 'NonInvasiveFetalECGThorax2', 'OliveOil', 'OSULeaf', 'PhalangesOutlinesCorrect', 'Phoneme', 'PickupGestureWiimoteZ', 'PigAirwayPressure', 'PigArtPressure', 'PigCVP', 'PLAID', 'Plane', 'PowerCons', 'ProximalPhalanxOutlineAgeGroup', 'ProximalPhalanxOutlineCorrect', 'ProximalPhalanxTW', 'RefrigerationDevices', 'Rock', 'ScreenType', 'SemgHandGenderCh2', 'SemgHandMovementCh2', 'SemgHandSubjectCh2', 'ShakeGestureWiimoteZ', 'ShapeletSim', 'ShapesAll', 'SmallKitchenAppliances', 'SmoothSubspace', 'SonyAIBORobotSurface1', 'SonyAIBORobotSurface2', 'StarLightCurves', 'Strawberry', 'SwedishLeaf', 'Symbols', 'SyntheticControl', 'ToeSegmentation1', 'ToeSegmentation2', 'Trace', 'TwoLeadECG', 'TwoPatterns', 'UMD', 'UWaveGestureLibraryAll', 'UWaveGestureLibraryX', 'UWaveGestureLibraryY', 'UWaveGestureLibraryZ', 'Wafer', 'Wine', 'WordSynonyms', 'Worms', 'WormsTwoClass', 'Yoga']\n"
     ]
    }
   ],
   "source": [
    "print('univariate datasets: ', get_UCR_univariate_list())"
   ]
  },
  {
   "cell_type": "code",
   "execution_count": 3,
   "metadata": {
    "colab": {
     "base_uri": "https://localhost:8080/"
    },
    "hidden": true,
    "id": "NqVEqzKimFQM",
    "outputId": "8ef618bb-885d-4d9d-89d8-db827a779ccd"
   },
   "outputs": [
    {
     "name": "stdout",
     "output_type": "stream",
     "text": [
      "multivariate datasets:  ['ArticularyWordRecognition', 'AtrialFibrillation', 'BasicMotions', 'CharacterTrajectories', 'Cricket', 'DuckDuckGeese', 'EigenWorms', 'Epilepsy', 'ERing', 'EthanolConcentration', 'FaceDetection', 'FingerMovements', 'HandMovementDirection', 'Handwriting', 'Heartbeat', 'InsectWingbeat', 'JapaneseVowels', 'Libras', 'LSST', 'MotorImagery', 'NATOPS', 'PEMS-SF', 'PenDigits', 'PhonemeSpectra', 'RacketSports', 'SelfRegulationSCP1', 'SelfRegulationSCP2', 'SpokenArabicDigits', 'StandWalkJump', 'UWaveGestureLibrary']\n"
     ]
    }
   ],
   "source": [
    "print('multivariate datasets: ', get_UCR_multivariate_list())"
   ]
  },
  {
   "cell_type": "code",
   "execution_count": 4,
   "metadata": {
    "colab": {
     "base_uri": "https://localhost:8080/"
    },
    "hidden": true,
    "id": "SJgqYdZ0mFQr",
    "outputId": "ebef4b8f-2540-4f38-ffec-c8d3a0c714aa"
   },
   "outputs": [
    {
     "data": {
      "text/plain": [
       "((360, 24, 51),\n",
       " (360,),\n",
       " ((#180) [0,1,2,3,4,5,6,7,8,9...],\n",
       "  (#180) [180,181,182,183,184,185,186,187,188,189...]))"
      ]
     },
     "execution_count": 4,
     "metadata": {
      "tags": []
     },
     "output_type": "execute_result"
    }
   ],
   "source": [
    "ds_name = 'NATOPS' \n",
    "X, y, splits = get_UCR_data(ds_name, return_split=False)\n",
    "X.shape, y.shape, splits"
   ]
  },
  {
   "cell_type": "code",
   "execution_count": 5,
   "metadata": {
    "colab": {
     "base_uri": "https://localhost:8080/"
    },
    "hidden": true,
    "id": "Y-u3gvVWmFRD",
    "outputId": "35d72515-5a6e-4d1c-d4fd-6040f19a3ec6"
   },
   "outputs": [
    {
     "data": {
      "text/plain": [
       "(#360) [(TSTensor(vars:51, len:51), TensorCategory(3)),(TSTensor(vars:51, len:51), TensorCategory(2)),(TSTensor(vars:51, len:51), TensorCategory(2)),(TSTensor(vars:51, len:51), TensorCategory(3)),(TSTensor(vars:51, len:51), TensorCategory(2)),(TSTensor(vars:51, len:51), TensorCategory(4)),(TSTensor(vars:51, len:51), TensorCategory(0)),(TSTensor(vars:51, len:51), TensorCategory(5)),(TSTensor(vars:51, len:51), TensorCategory(2)),(TSTensor(vars:51, len:51), TensorCategory(1))...]"
      ]
     },
     "execution_count": 5,
     "metadata": {
      "tags": []
     },
     "output_type": "execute_result"
    }
   ],
   "source": [
    "tfms  = [None, [Categorize()]]\n",
    "dsets = TSDatasets(X, y, tfms=tfms, splits=splits, inplace=True)\n",
    "dsets"
   ]
  },
  {
   "cell_type": "markdown",
   "metadata": {
    "hidden": true,
    "id": "Zv1WFxY5mFRc"
   },
   "source": [
    "As you can see, X has 3 dimensions: \n",
    "\n",
    "* 360 samples\n",
    "* 24 features\n",
    "* 51 time steps\n",
    "\n",
    "Let's visualize of the samples:"
   ]
  },
  {
   "cell_type": "code",
   "execution_count": 6,
   "metadata": {
    "colab": {
     "base_uri": "https://localhost:8080/",
     "height": 265
    },
    "hidden": true,
    "id": "crnS-erVmFRf",
    "outputId": "3580034e-264d-4c30-e3a4-8a3f202dc448"
   },
   "outputs": [
    {
     "data": {
      "image/png": "[encoded data removed]",
      "text/plain": [
       "<Figure size 432x288 with 1 Axes>"
      ]
     },
     "metadata": {
      "needs_background": "light",
      "tags": []
     },
     "output_type": "display_data"
    }
   ],
   "source": [
    "plt.plot(X[0].T);"
   ]
  },
  {
   "cell_type": "markdown",
   "metadata": {
    "heading_collapsed": true,
    "id": "ZVB-egxtmFRx"
   },
   "source": [
    "## 2d or 3d np.ndarray/ torch.Tensor"
   ]
  },
  {
   "cell_type": "markdown",
   "metadata": {
    "hidden": true,
    "id": "mvHvJeuDmFR0"
   },
   "source": [
    "Another option is that you have your data as an array or a tensor. \n",
    "In this case, the only thing you'll need to do is to transform your data to 3d (if not already done), and generate your splits.\n",
    "We are going to simulate this scenario generating 2d data for a univariate dataset: "
   ]
  },
  {
   "cell_type": "code",
   "execution_count": 7,
   "metadata": {
    "colab": {
     "base_uri": "https://localhost:8080/"
    },
    "hidden": true,
    "id": "dYee8KBvmFR4",
    "outputId": "7d4d5d19-6a81-4706-c6c9-46b86734c997"
   },
   "outputs": [
    {
     "data": {
      "text/plain": [
       "((60, 570), (60,))"
      ]
     },
     "execution_count": 7,
     "metadata": {
      "tags": []
     },
     "output_type": "execute_result"
    }
   ],
   "source": [
    "ds_name = 'OliveOil' \n",
    "X, y, _ = get_UCR_data(ds_name, return_split=False)\n",
    "X_2d = X[:, 0]\n",
    "X_2d.shape, y.shape"
   ]
  },
  {
   "cell_type": "markdown",
   "metadata": {
    "hidden": true,
    "id": "IRxeuTjWmFSK"
   },
   "source": [
    "To make data 3d you use `to3d`:"
   ]
  },
  {
   "cell_type": "code",
   "execution_count": 8,
   "metadata": {
    "colab": {
     "base_uri": "https://localhost:8080/"
    },
    "hidden": true,
    "id": "9BTgqYdMmFSN",
    "outputId": "c0090b75-fd86-445d-f33d-fe477024c828"
   },
   "outputs": [
    {
     "data": {
      "text/plain": [
       "(60, 1, 570)"
      ]
     },
     "execution_count": 8,
     "metadata": {
      "tags": []
     },
     "output_type": "execute_result"
    }
   ],
   "source": [
    "X_3d = to3d(X_2d)\n",
    "X_3d.shape"
   ]
  },
  {
   "cell_type": "markdown",
   "metadata": {
    "hidden": true,
    "id": "WXIfhFKemFSd"
   },
   "source": [
    "To generate your splits, you would use `get_splits`. Here you need to indicate: \n",
    "* valid_size=0.2\n",
    "* test_size (optional)\n",
    "* stratify=True if you want stratified splits\n",
    "* random_state=seed or None (random)"
   ]
  },
  {
   "cell_type": "code",
   "execution_count": 9,
   "metadata": {
    "colab": {
     "base_uri": "https://localhost:8080/"
    },
    "hidden": true,
    "id": "klNOs9PZmFSg",
    "outputId": "a1f9cd55-4f5d-4255-f4d1-f37407f0fa89"
   },
   "outputs": [
    {
     "data": {
      "text/plain": [
       "(#2) [[58, 21, 9, 45, 41, 54, 56, 46, 44, 53, 48, 20, 25, 52, 27, 35, 23, 34, 59, 37, 57, 13, 32, 6, 43, 33, 8, 26, 49, 30, 51, 22, 12, 15, 4, 29, 17, 19, 0, 42, 47, 39, 10, 2, 1, 5, 7, 36],[55, 38, 40, 18, 16, 24, 3, 28, 50, 14, 31, 11]]"
      ]
     },
     "execution_count": 9,
     "metadata": {
      "tags": []
     },
     "output_type": "execute_result"
    }
   ],
   "source": [
    "splits = get_splits(y, valid_size=.2, stratify=True, random_state=23, shuffle=True)\n",
    "splits"
   ]
  },
  {
   "cell_type": "code",
   "execution_count": 10,
   "metadata": {
    "colab": {
     "base_uri": "https://localhost:8080/"
    },
    "hidden": true,
    "id": "vCNbwQnjmFSx",
    "outputId": "6ed01f29-e9fe-4e59-9703-9a525e8743fe"
   },
   "outputs": [
    {
     "data": {
      "text/plain": [
       "((60, 1, 570),\n",
       " (60,),\n",
       " (#2) [[58, 21, 9, 45, 41, 54, 56, 46, 44, 53, 48, 20, 25, 52, 27, 35, 23, 34, 59, 37, 57, 13, 32, 6, 43, 33, 8, 26, 49, 30, 51, 22, 12, 15, 4, 29, 17, 19, 0, 42, 47, 39, 10, 2, 1, 5, 7, 36],[55, 38, 40, 18, 16, 24, 3, 28, 50, 14, 31, 11]])"
      ]
     },
     "execution_count": 10,
     "metadata": {
      "tags": []
     },
     "output_type": "execute_result"
    }
   ],
   "source": [
    "X_3d.shape, y.shape, splits"
   ]
  },
  {
   "cell_type": "code",
   "execution_count": 11,
   "metadata": {
    "colab": {
     "base_uri": "https://localhost:8080/"
    },
    "hidden": true,
    "id": "t5RPnOEumFTF",
    "outputId": "0a48ad10-ee67-4fa5-a711-4572f7de0a33"
   },
   "outputs": [
    {
     "data": {
      "text/plain": [
       "(#60) [(TSTensor(vars:570, len:570), TensorCategory(0)),(TSTensor(vars:570, len:570), TensorCategory(0)),(TSTensor(vars:570, len:570), TensorCategory(0)),(TSTensor(vars:570, len:570), TensorCategory(0)),(TSTensor(vars:570, len:570), TensorCategory(0)),(TSTensor(vars:570, len:570), TensorCategory(1)),(TSTensor(vars:570, len:570), TensorCategory(1)),(TSTensor(vars:570, len:570), TensorCategory(1)),(TSTensor(vars:570, len:570), TensorCategory(1)),(TSTensor(vars:570, len:570), TensorCategory(1))...]"
      ]
     },
     "execution_count": 11,
     "metadata": {
      "tags": []
     },
     "output_type": "execute_result"
    }
   ],
   "source": [
    "tfms  = [None, [Categorize()]]\n",
    "dsets = TSDatasets(X_3d, y, tfms=tfms, splits=splits, inplace=True)\n",
    "dsets"
   ]
  },
  {
   "cell_type": "markdown",
   "metadata": {
    "hidden": true,
    "id": "E2u89e6emFTX"
   },
   "source": [
    "In fastai I've modified TS datasets so that you can pass univariate time series as a 2d or 3d arrays."
   ]
  },
  {
   "cell_type": "code",
   "execution_count": 12,
   "metadata": {
    "colab": {
     "base_uri": "https://localhost:8080/"
    },
    "hidden": true,
    "id": "9qvJ9RrbmFTa",
    "outputId": "a224cafe-cd98-47e7-d44b-bb6d4a499260"
   },
   "outputs": [
    {
     "data": {
      "text/plain": [
       "(#60) [(TSTensor(vars:570, len:570), TensorCategory(0)),(TSTensor(vars:570, len:570), TensorCategory(0)),(TSTensor(vars:570, len:570), TensorCategory(0)),(TSTensor(vars:570, len:570), TensorCategory(0)),(TSTensor(vars:570, len:570), TensorCategory(0)),(TSTensor(vars:570, len:570), TensorCategory(1)),(TSTensor(vars:570, len:570), TensorCategory(1)),(TSTensor(vars:570, len:570), TensorCategory(1)),(TSTensor(vars:570, len:570), TensorCategory(1)),(TSTensor(vars:570, len:570), TensorCategory(1))...]"
      ]
     },
     "execution_count": 12,
     "metadata": {
      "tags": []
     },
     "output_type": "execute_result"
    }
   ],
   "source": [
    "tfms  = [None, [Categorize()]]\n",
    "dsets = TSDatasets(X_2d, y, tfms=tfms, splits=splits, inplace=True)\n",
    "dsets"
   ]
  },
  {
   "cell_type": "markdown",
   "metadata": {
    "heading_collapsed": true,
    "hidden": true,
    "id": "ZCeQ_U-YmFTs"
   },
   "source": [
    "### Pre-split 2d or 3d np.ndarray/ torch.Tensor"
   ]
  },
  {
   "cell_type": "markdown",
   "metadata": {
    "hidden": true,
    "id": "7rWfJL7emFTw"
   },
   "source": [
    "If your data is already split into Train and Valid/ Test, you may the use `get_predefined_split` to generate the splits:"
   ]
  },
  {
   "cell_type": "code",
   "execution_count": 13,
   "metadata": {
    "hidden": true,
    "id": "lKAPKSc8mFTy"
   },
   "outputs": [],
   "source": [
    "ds_name = 'OliveOil' \n",
    "X_train, y_train, X_valid, y_valid = get_UCR_data(ds_name, return_split=True)"
   ]
  },
  {
   "cell_type": "code",
   "execution_count": 14,
   "metadata": {
    "hidden": true,
    "id": "zZSx62AemFUA"
   },
   "outputs": [],
   "source": [
    "X, y, splits = combine_split_data([X_train, X_valid], [y_train, y_valid])"
   ]
  },
  {
   "cell_type": "code",
   "execution_count": 15,
   "metadata": {
    "colab": {
     "base_uri": "https://localhost:8080/"
    },
    "hidden": true,
    "id": "S0z_bFzomFUM",
    "outputId": "06baca46-2af0-48e2-cc45-f08a4bb6d5d7"
   },
   "outputs": [
    {
     "data": {
      "text/plain": [
       "(#60) [(TSTensor(vars:570, len:570), TensorCategory(0)),(TSTensor(vars:570, len:570), TensorCategory(0)),(TSTensor(vars:570, len:570), TensorCategory(0)),(TSTensor(vars:570, len:570), TensorCategory(0)),(TSTensor(vars:570, len:570), TensorCategory(0)),(TSTensor(vars:570, len:570), TensorCategory(1)),(TSTensor(vars:570, len:570), TensorCategory(1)),(TSTensor(vars:570, len:570), TensorCategory(1)),(TSTensor(vars:570, len:570), TensorCategory(1)),(TSTensor(vars:570, len:570), TensorCategory(1))...]"
      ]
     },
     "execution_count": 15,
     "metadata": {
      "tags": []
     },
     "output_type": "execute_result"
    }
   ],
   "source": [
    "tfms  = [None, [Categorize()]]\n",
    "dsets = TSDatasets(X, y, tfms=tfms, splits=splits, inplace=True)\n",
    "dsets"
   ]
  },
  {
   "cell_type": "markdown",
   "metadata": {
    "heading_collapsed": true,
    "id": "IylWYViimFUc"
   },
   "source": [
    "## Pandas dataframe with samples as rows"
   ]
  },
  {
   "cell_type": "markdown",
   "metadata": {
    "heading_collapsed": true,
    "hidden": true,
    "id": "uunH3yWumFUf"
   },
   "source": [
    "### Univariate"
   ]
  },
  {
   "cell_type": "code",
   "execution_count": 16,
   "metadata": {
    "colab": {
     "base_uri": "https://localhost:8080/",
     "height": 256
    },
    "hidden": true,
    "id": "VdusB0aymFUh",
    "outputId": "139c0539-389a-4384-f217-53e754f6d77b"
   },
   "outputs": [
    {
     "data": {
      "text/html": [
       "<div>\n",
       "<style scoped>\n",
       "    .dataframe tbody tr th:only-of-type {\n",
       "        vertical-align: middle;\n",
       "    }\n",
       "\n",
       "    .dataframe tbody tr th {\n",
       "        vertical-align: top;\n",
       "    }\n",
       "\n",
       "    .dataframe thead th {\n",
       "        text-align: right;\n",
       "    }\n",
       "</style>\n",
       "<table border=\"1\" class=\"dataframe\">\n",
       "  <thead>\n",
       "    <tr style=\"text-align: right;\">\n",
       "      <th></th>\n",
       "      <th>0</th>\n",
       "      <th>1</th>\n",
       "      <th>2</th>\n",
       "      <th>3</th>\n",
       "      <th>4</th>\n",
       "      <th>5</th>\n",
       "      <th>6</th>\n",
       "      <th>7</th>\n",
       "      <th>8</th>\n",
       "      <th>9</th>\n",
       "      <th>10</th>\n",
       "      <th>11</th>\n",
       "      <th>12</th>\n",
       "      <th>13</th>\n",
       "      <th>14</th>\n",
       "      <th>15</th>\n",
       "      <th>16</th>\n",
       "      <th>17</th>\n",
       "      <th>18</th>\n",
       "      <th>19</th>\n",
       "      <th>20</th>\n",
       "      <th>21</th>\n",
       "      <th>22</th>\n",
       "      <th>23</th>\n",
       "      <th>24</th>\n",
       "      <th>25</th>\n",
       "      <th>26</th>\n",
       "      <th>27</th>\n",
       "      <th>28</th>\n",
       "      <th>29</th>\n",
       "      <th>30</th>\n",
       "      <th>31</th>\n",
       "      <th>32</th>\n",
       "      <th>33</th>\n",
       "      <th>34</th>\n",
       "      <th>35</th>\n",
       "      <th>36</th>\n",
       "      <th>37</th>\n",
       "      <th>38</th>\n",
       "      <th>39</th>\n",
       "      <th>...</th>\n",
       "      <th>531</th>\n",
       "      <th>532</th>\n",
       "      <th>533</th>\n",
       "      <th>534</th>\n",
       "      <th>535</th>\n",
       "      <th>536</th>\n",
       "      <th>537</th>\n",
       "      <th>538</th>\n",
       "      <th>539</th>\n",
       "      <th>540</th>\n",
       "      <th>541</th>\n",
       "      <th>542</th>\n",
       "      <th>543</th>\n",
       "      <th>544</th>\n",
       "      <th>545</th>\n",
       "      <th>546</th>\n",
       "      <th>547</th>\n",
       "      <th>548</th>\n",
       "      <th>549</th>\n",
       "      <th>550</th>\n",
       "      <th>551</th>\n",
       "      <th>552</th>\n",
       "      <th>553</th>\n",
       "      <th>554</th>\n",
       "      <th>555</th>\n",
       "      <th>556</th>\n",
       "      <th>557</th>\n",
       "      <th>558</th>\n",
       "      <th>559</th>\n",
       "      <th>560</th>\n",
       "      <th>561</th>\n",
       "      <th>562</th>\n",
       "      <th>563</th>\n",
       "      <th>564</th>\n",
       "      <th>565</th>\n",
       "      <th>566</th>\n",
       "      <th>567</th>\n",
       "      <th>568</th>\n",
       "      <th>569</th>\n",
       "      <th>target</th>\n",
       "    </tr>\n",
       "  </thead>\n",
       "  <tbody>\n",
       "    <tr>\n",
       "      <th>0</th>\n",
       "      <td>-0.6113753</td>\n",
       "      <td>-0.61058575</td>\n",
       "      <td>-0.60655695</td>\n",
       "      <td>-0.6011323</td>\n",
       "      <td>-0.5943146</td>\n",
       "      <td>-0.5857617</td>\n",
       "      <td>-0.57741904</td>\n",
       "      <td>-0.57017505</td>\n",
       "      <td>-0.56328535</td>\n",
       "      <td>-0.5574073</td>\n",
       "      <td>-0.55306035</td>\n",
       "      <td>-0.54781276</td>\n",
       "      <td>-0.54062283</td>\n",
       "      <td>-0.53238523</td>\n",
       "      <td>-0.5242016</td>\n",
       "      <td>-0.5147812</td>\n",
       "      <td>-0.5047363</td>\n",
       "      <td>-0.4952528</td>\n",
       "      <td>-0.485334</td>\n",
       "      <td>-0.47537318</td>\n",
       "      <td>-0.46403742</td>\n",
       "      <td>-0.45114058</td>\n",
       "      <td>-0.4369889</td>\n",
       "      <td>-0.42175648</td>\n",
       "      <td>-0.4067732</td>\n",
       "      <td>-0.39350414</td>\n",
       "      <td>-0.38244155</td>\n",
       "      <td>-0.37466624</td>\n",
       "      <td>-0.36922652</td>\n",
       "      <td>-0.36666876</td>\n",
       "      <td>-0.3679026</td>\n",
       "      <td>-0.37080258</td>\n",
       "      <td>-0.37362453</td>\n",
       "      <td>-0.37438405</td>\n",
       "      <td>-0.372865</td>\n",
       "      <td>-0.3702442</td>\n",
       "      <td>-0.36807972</td>\n",
       "      <td>-0.3673022</td>\n",
       "      <td>-0.3683349</td>\n",
       "      <td>-0.37162817</td>\n",
       "      <td>...</td>\n",
       "      <td>-0.9286415</td>\n",
       "      <td>-0.9316075</td>\n",
       "      <td>-0.93491876</td>\n",
       "      <td>-0.93783975</td>\n",
       "      <td>-0.94056565</td>\n",
       "      <td>-0.9436097</td>\n",
       "      <td>-0.94698703</td>\n",
       "      <td>-0.9497789</td>\n",
       "      <td>-0.95259786</td>\n",
       "      <td>-0.9553117</td>\n",
       "      <td>-0.9577494</td>\n",
       "      <td>-0.9606554</td>\n",
       "      <td>-0.9618862</td>\n",
       "      <td>-0.9622885</td>\n",
       "      <td>-0.9637895</td>\n",
       "      <td>-0.9654887</td>\n",
       "      <td>-0.96707076</td>\n",
       "      <td>-0.96850574</td>\n",
       "      <td>-0.9692563</td>\n",
       "      <td>-0.97000676</td>\n",
       "      <td>-0.9712196</td>\n",
       "      <td>-0.97347116</td>\n",
       "      <td>-0.97518533</td>\n",
       "      <td>-0.97595084</td>\n",
       "      <td>-0.9767614</td>\n",
       "      <td>-0.9777971</td>\n",
       "      <td>-0.9782804</td>\n",
       "      <td>-0.9781664</td>\n",
       "      <td>-0.9784366</td>\n",
       "      <td>-0.97955334</td>\n",
       "      <td>-0.9803849</td>\n",
       "      <td>-0.98032784</td>\n",
       "      <td>-0.9802198</td>\n",
       "      <td>-0.9806911</td>\n",
       "      <td>-0.98133653</td>\n",
       "      <td>-0.9823362</td>\n",
       "      <td>-0.9832128</td>\n",
       "      <td>-0.98367214</td>\n",
       "      <td>-0.9831198</td>\n",
       "      <td>1</td>\n",
       "    </tr>\n",
       "    <tr>\n",
       "      <th>1</th>\n",
       "      <td>-0.61539173</td>\n",
       "      <td>-0.61372936</td>\n",
       "      <td>-0.6092278</td>\n",
       "      <td>-0.6043151</td>\n",
       "      <td>-0.5987679</td>\n",
       "      <td>-0.59050655</td>\n",
       "      <td>-0.5816167</td>\n",
       "      <td>-0.5729264</td>\n",
       "      <td>-0.5653742</td>\n",
       "      <td>-0.5599074</td>\n",
       "      <td>-0.55469084</td>\n",
       "      <td>-0.5493044</td>\n",
       "      <td>-0.5424702</td>\n",
       "      <td>-0.5327998</td>\n",
       "      <td>-0.523466</td>\n",
       "      <td>-0.51446587</td>\n",
       "      <td>-0.5054389</td>\n",
       "      <td>-0.49574763</td>\n",
       "      <td>-0.4846621</td>\n",
       "      <td>-0.4748427</td>\n",
       "      <td>-0.46355754</td>\n",
       "      <td>-0.44917405</td>\n",
       "      <td>-0.43526125</td>\n",
       "      <td>-0.42058876</td>\n",
       "      <td>-0.40537405</td>\n",
       "      <td>-0.39310876</td>\n",
       "      <td>-0.38420993</td>\n",
       "      <td>-0.37710756</td>\n",
       "      <td>-0.37194163</td>\n",
       "      <td>-0.36985323</td>\n",
       "      <td>-0.37061888</td>\n",
       "      <td>-0.37295753</td>\n",
       "      <td>-0.3744918</td>\n",
       "      <td>-0.37498936</td>\n",
       "      <td>-0.37296945</td>\n",
       "      <td>-0.368739</td>\n",
       "      <td>-0.36538446</td>\n",
       "      <td>-0.36521763</td>\n",
       "      <td>-0.3662395</td>\n",
       "      <td>-0.36865857</td>\n",
       "      <td>...</td>\n",
       "      <td>-0.9288288</td>\n",
       "      <td>-0.93108404</td>\n",
       "      <td>-0.9340692</td>\n",
       "      <td>-0.936959</td>\n",
       "      <td>-0.9400484</td>\n",
       "      <td>-0.9434745</td>\n",
       "      <td>-0.9467635</td>\n",
       "      <td>-0.94974566</td>\n",
       "      <td>-0.95251334</td>\n",
       "      <td>-0.9551499</td>\n",
       "      <td>-0.95775074</td>\n",
       "      <td>-0.9599792</td>\n",
       "      <td>-0.96084315</td>\n",
       "      <td>-0.9620884</td>\n",
       "      <td>-0.963724</td>\n",
       "      <td>-0.965154</td>\n",
       "      <td>-0.9665721</td>\n",
       "      <td>-0.96809745</td>\n",
       "      <td>-0.9694619</td>\n",
       "      <td>-0.970454</td>\n",
       "      <td>-0.9713924</td>\n",
       "      <td>-0.9731084</td>\n",
       "      <td>-0.9745027</td>\n",
       "      <td>-0.9758433</td>\n",
       "      <td>-0.9767907</td>\n",
       "      <td>-0.97686815</td>\n",
       "      <td>-0.9778632</td>\n",
       "      <td>-0.9787957</td>\n",
       "      <td>-0.97900724</td>\n",
       "      <td>-0.9792098</td>\n",
       "      <td>-0.97933495</td>\n",
       "      <td>-0.97952265</td>\n",
       "      <td>-0.98003805</td>\n",
       "      <td>-0.9811463</td>\n",
       "      <td>-0.982332</td>\n",
       "      <td>-0.9825703</td>\n",
       "      <td>-0.9826299</td>\n",
       "      <td>-0.9828504</td>\n",
       "      <td>-0.9825495</td>\n",
       "      <td>1</td>\n",
       "    </tr>\n",
       "    <tr>\n",
       "      <th>2</th>\n",
       "      <td>-0.61199886</td>\n",
       "      <td>-0.6105003</td>\n",
       "      <td>-0.606374</td>\n",
       "      <td>-0.6004454</td>\n",
       "      <td>-0.5930837</td>\n",
       "      <td>-0.5852453</td>\n",
       "      <td>-0.577118</td>\n",
       "      <td>-0.56882674</td>\n",
       "      <td>-0.56159616</td>\n",
       "      <td>-0.55609345</td>\n",
       "      <td>-0.5514965</td>\n",
       "      <td>-0.5465301</td>\n",
       "      <td>-0.5397196</td>\n",
       "      <td>-0.53149986</td>\n",
       "      <td>-0.5226009</td>\n",
       "      <td>-0.51322824</td>\n",
       "      <td>-0.5040581</td>\n",
       "      <td>-0.49438158</td>\n",
       "      <td>-0.4840943</td>\n",
       "      <td>-0.47418833</td>\n",
       "      <td>-0.46224755</td>\n",
       "      <td>-0.44844177</td>\n",
       "      <td>-0.43458235</td>\n",
       "      <td>-0.41984707</td>\n",
       "      <td>-0.40504324</td>\n",
       "      <td>-0.39165455</td>\n",
       "      <td>-0.38086674</td>\n",
       "      <td>-0.37267384</td>\n",
       "      <td>-0.367484</td>\n",
       "      <td>-0.36535385</td>\n",
       "      <td>-0.36622676</td>\n",
       "      <td>-0.36862504</td>\n",
       "      <td>-0.37185156</td>\n",
       "      <td>-0.3722359</td>\n",
       "      <td>-0.36948904</td>\n",
       "      <td>-0.3671563</td>\n",
       "      <td>-0.364615</td>\n",
       "      <td>-0.36311942</td>\n",
       "      <td>-0.3646865</td>\n",
       "      <td>-0.36879784</td>\n",
       "      <td>...</td>\n",
       "      <td>-0.92803323</td>\n",
       "      <td>-0.9309082</td>\n",
       "      <td>-0.9344952</td>\n",
       "      <td>-0.9374059</td>\n",
       "      <td>-0.94085586</td>\n",
       "      <td>-0.94380534</td>\n",
       "      <td>-0.94685304</td>\n",
       "      <td>-0.9502494</td>\n",
       "      <td>-0.95351464</td>\n",
       "      <td>-0.9563449</td>\n",
       "      <td>-0.95894575</td>\n",
       "      <td>-0.9609151</td>\n",
       "      <td>-0.9613202</td>\n",
       "      <td>-0.9621127</td>\n",
       "      <td>-0.9638645</td>\n",
       "      <td>-0.96565205</td>\n",
       "      <td>-0.96663815</td>\n",
       "      <td>-0.9678001</td>\n",
       "      <td>-0.9694208</td>\n",
       "      <td>-0.97115767</td>\n",
       "      <td>-0.9721468</td>\n",
       "      <td>-0.9731627</td>\n",
       "      <td>-0.9749473</td>\n",
       "      <td>-0.97696716</td>\n",
       "      <td>-0.97740513</td>\n",
       "      <td>-0.9773157</td>\n",
       "      <td>-0.97770303</td>\n",
       "      <td>-0.9780665</td>\n",
       "      <td>-0.97877556</td>\n",
       "      <td>-0.9795144</td>\n",
       "      <td>-0.9796634</td>\n",
       "      <td>-0.9799643</td>\n",
       "      <td>-0.9805631</td>\n",
       "      <td>-0.9813258</td>\n",
       "      <td>-0.9827439</td>\n",
       "      <td>-0.9831074</td>\n",
       "      <td>-0.9830329</td>\n",
       "      <td>-0.98395646</td>\n",
       "      <td>-0.98385817</td>\n",
       "      <td>1</td>\n",
       "    </tr>\n",
       "    <tr>\n",
       "      <th>3</th>\n",
       "      <td>-0.62278444</td>\n",
       "      <td>-0.6222215</td>\n",
       "      <td>-0.6190489</td>\n",
       "      <td>-0.6132514</td>\n",
       "      <td>-0.6058886</td>\n",
       "      <td>-0.59750843</td>\n",
       "      <td>-0.589047</td>\n",
       "      <td>-0.58069694</td>\n",
       "      <td>-0.57282245</td>\n",
       "      <td>-0.566727</td>\n",
       "      <td>-0.5621004</td>\n",
       "      <td>-0.5575762</td>\n",
       "      <td>-0.5509329</td>\n",
       "      <td>-0.5432631</td>\n",
       "      <td>-0.5359064</td>\n",
       "      <td>-0.5272794</td>\n",
       "      <td>-0.5178035</td>\n",
       "      <td>-0.50788516</td>\n",
       "      <td>-0.4973467</td>\n",
       "      <td>-0.48689255</td>\n",
       "      <td>-0.47539392</td>\n",
       "      <td>-0.46113798</td>\n",
       "      <td>-0.44533786</td>\n",
       "      <td>-0.42968524</td>\n",
       "      <td>-0.41457745</td>\n",
       "      <td>-0.40165198</td>\n",
       "      <td>-0.39022556</td>\n",
       "      <td>-0.38090926</td>\n",
       "      <td>-0.37547597</td>\n",
       "      <td>-0.37315518</td>\n",
       "      <td>-0.37455186</td>\n",
       "      <td>-0.37754694</td>\n",
       "      <td>-0.37892258</td>\n",
       "      <td>-0.37832958</td>\n",
       "      <td>-0.376963</td>\n",
       "      <td>-0.37452176</td>\n",
       "      <td>-0.37186083</td>\n",
       "      <td>-0.3709036</td>\n",
       "      <td>-0.3719722</td>\n",
       "      <td>-0.3761081</td>\n",
       "      <td>...</td>\n",
       "      <td>-0.92008495</td>\n",
       "      <td>-0.92249906</td>\n",
       "      <td>-0.9256928</td>\n",
       "      <td>-0.9295127</td>\n",
       "      <td>-0.9330766</td>\n",
       "      <td>-0.93493086</td>\n",
       "      <td>-0.9376039</td>\n",
       "      <td>-0.9410324</td>\n",
       "      <td>-0.94345856</td>\n",
       "      <td>-0.9463001</td>\n",
       "      <td>-0.9494035</td>\n",
       "      <td>-0.9518598</td>\n",
       "      <td>-0.9524046</td>\n",
       "      <td>-0.9533498</td>\n",
       "      <td>-0.954295</td>\n",
       "      <td>-0.95524013</td>\n",
       "      <td>-0.9567693</td>\n",
       "      <td>-0.95837367</td>\n",
       "      <td>-0.9598818</td>\n",
       "      <td>-0.9607607</td>\n",
       "      <td>-0.9618594</td>\n",
       "      <td>-0.96385515</td>\n",
       "      <td>-0.96569735</td>\n",
       "      <td>-0.967687</td>\n",
       "      <td>-0.9692914</td>\n",
       "      <td>-0.96823484</td>\n",
       "      <td>-0.96799403</td>\n",
       "      <td>-0.9683733</td>\n",
       "      <td>-0.96819574</td>\n",
       "      <td>-0.9688188</td>\n",
       "      <td>-0.96990246</td>\n",
       "      <td>-0.97058576</td>\n",
       "      <td>-0.9707182</td>\n",
       "      <td>-0.97119683</td>\n",
       "      <td>-0.9722684</td>\n",
       "      <td>-0.9726537</td>\n",
       "      <td>-0.9728614</td>\n",
       "      <td>-0.97367114</td>\n",
       "      <td>-0.9736139</td>\n",
       "      <td>1</td>\n",
       "    </tr>\n",
       "    <tr>\n",
       "      <th>4</th>\n",
       "      <td>-0.62179345</td>\n",
       "      <td>-0.62127197</td>\n",
       "      <td>-0.61729795</td>\n",
       "      <td>-0.61207414</td>\n",
       "      <td>-0.6054717</td>\n",
       "      <td>-0.5976075</td>\n",
       "      <td>-0.5891649</td>\n",
       "      <td>-0.5814236</td>\n",
       "      <td>-0.57462037</td>\n",
       "      <td>-0.5684105</td>\n",
       "      <td>-0.5630968</td>\n",
       "      <td>-0.5572676</td>\n",
       "      <td>-0.5499369</td>\n",
       "      <td>-0.5420367</td>\n",
       "      <td>-0.5340197</td>\n",
       "      <td>-0.5247529</td>\n",
       "      <td>-0.514632</td>\n",
       "      <td>-0.50455</td>\n",
       "      <td>-0.4945939</td>\n",
       "      <td>-0.48378965</td>\n",
       "      <td>-0.47193044</td>\n",
       "      <td>-0.45932797</td>\n",
       "      <td>-0.44466355</td>\n",
       "      <td>-0.42886323</td>\n",
       "      <td>-0.4138212</td>\n",
       "      <td>-0.40010384</td>\n",
       "      <td>-0.39083704</td>\n",
       "      <td>-0.38395888</td>\n",
       "      <td>-0.37735346</td>\n",
       "      <td>-0.37531847</td>\n",
       "      <td>-0.37652326</td>\n",
       "      <td>-0.37887594</td>\n",
       "      <td>-0.38023657</td>\n",
       "      <td>-0.3792056</td>\n",
       "      <td>-0.37698781</td>\n",
       "      <td>-0.37421557</td>\n",
       "      <td>-0.37173104</td>\n",
       "      <td>-0.37033442</td>\n",
       "      <td>-0.37150627</td>\n",
       "      <td>-0.37512967</td>\n",
       "      <td>...</td>\n",
       "      <td>-0.9282628</td>\n",
       "      <td>-0.9319252</td>\n",
       "      <td>-0.9352938</td>\n",
       "      <td>-0.9376315</td>\n",
       "      <td>-0.9398703</td>\n",
       "      <td>-0.9426305</td>\n",
       "      <td>-0.9457534</td>\n",
       "      <td>-0.94882536</td>\n",
       "      <td>-0.95181936</td>\n",
       "      <td>-0.9547415</td>\n",
       "      <td>-0.9571391</td>\n",
       "      <td>-0.9598214</td>\n",
       "      <td>-0.96099925</td>\n",
       "      <td>-0.96151173</td>\n",
       "      <td>-0.9624768</td>\n",
       "      <td>-0.96400225</td>\n",
       "      <td>-0.9655278</td>\n",
       "      <td>-0.9669693</td>\n",
       "      <td>-0.9683719</td>\n",
       "      <td>-0.9700203</td>\n",
       "      <td>-0.97085947</td>\n",
       "      <td>-0.9719534</td>\n",
       "      <td>-0.9739194</td>\n",
       "      <td>-0.97556776</td>\n",
       "      <td>-0.9765748</td>\n",
       "      <td>-0.9756517</td>\n",
       "      <td>-0.9758435</td>\n",
       "      <td>-0.9769644</td>\n",
       "      <td>-0.97713524</td>\n",
       "      <td>-0.9774199</td>\n",
       "      <td>-0.9778305</td>\n",
       "      <td>-0.978376</td>\n",
       "      <td>-0.9787776</td>\n",
       "      <td>-0.97965574</td>\n",
       "      <td>-0.98114824</td>\n",
       "      <td>-0.9817956</td>\n",
       "      <td>-0.98133105</td>\n",
       "      <td>-0.9812891</td>\n",
       "      <td>-0.98133105</td>\n",
       "      <td>1</td>\n",
       "    </tr>\n",
       "  </tbody>\n",
       "</table>\n",
       "<p>5 rows × 571 columns</p>\n",
       "</div>"
      ],
      "text/plain": [
       "             0            1            2  ...          568          569 target\n",
       "0   -0.6113753  -0.61058575  -0.60655695  ...  -0.98367214   -0.9831198      1\n",
       "1  -0.61539173  -0.61372936   -0.6092278  ...   -0.9828504   -0.9825495      1\n",
       "2  -0.61199886   -0.6105003    -0.606374  ...  -0.98395646  -0.98385817      1\n",
       "3  -0.62278444   -0.6222215   -0.6190489  ...  -0.97367114   -0.9736139      1\n",
       "4  -0.62179345  -0.62127197  -0.61729795  ...   -0.9812891  -0.98133105      1\n",
       "\n",
       "[5 rows x 571 columns]"
      ]
     },
     "execution_count": 16,
     "metadata": {
      "tags": []
     },
     "output_type": "execute_result"
    }
   ],
   "source": [
    "ds_name = 'OliveOil'\n",
    "X, y, _ = get_UCR_data(ds_name, return_split=False)\n",
    "X = X[:, 0]\n",
    "y = y.reshape(-1, 1)\n",
    "data = np.concatenate((X, y), axis=-1)\n",
    "df = pd.DataFrame(data)\n",
    "df = df.rename(columns={570: 'target'})\n",
    "df.head()"
   ]
  },
  {
   "cell_type": "code",
   "execution_count": 17,
   "metadata": {
    "colab": {
     "base_uri": "https://localhost:8080/"
    },
    "hidden": true,
    "id": "XDX5FgWsmFUu",
    "outputId": "b855a286-74f1-47b9-98d6-85bfd0df1917"
   },
   "outputs": [
    {
     "data": {
      "text/plain": [
       "((60, 1, 570), (60,))"
      ]
     },
     "execution_count": 17,
     "metadata": {
      "tags": []
     },
     "output_type": "execute_result"
    }
   ],
   "source": [
    "X, y = df2xy(df, target_col='target')\n",
    "X.shape, y.shape"
   ]
  },
  {
   "cell_type": "code",
   "execution_count": 18,
   "metadata": {
    "colab": {
     "base_uri": "https://localhost:8080/"
    },
    "hidden": true,
    "id": "onbOZN_OmFU9",
    "outputId": "7f442b8e-5ed2-4482-8018-dfec31058668"
   },
   "outputs": [
    {
     "data": {
      "text/plain": [
       "(#2) [[58, 21, 9, 45, 41, 54, 56, 46, 44, 53, 48, 20, 25, 52, 27, 35, 23, 34, 59, 37, 57, 13, 32, 6, 43, 33, 8, 26, 49, 30, 51, 22, 12, 15, 4, 29, 17, 19, 0, 42, 47, 39, 10, 2, 1, 5, 7, 36],[55, 38, 40, 18, 16, 24, 3, 28, 50, 14, 31, 11]]"
      ]
     },
     "execution_count": 18,
     "metadata": {
      "tags": []
     },
     "output_type": "execute_result"
    }
   ],
   "source": [
    "splits = get_splits(y, valid_size=.2, stratify=True, random_state=23, shuffle=True)\n",
    "splits"
   ]
  },
  {
   "cell_type": "code",
   "execution_count": 19,
   "metadata": {
    "colab": {
     "base_uri": "https://localhost:8080/"
    },
    "hidden": true,
    "id": "Sh8_0_IomFVI",
    "outputId": "c5b2515d-c936-448a-e6e2-bd75845c8617"
   },
   "outputs": [
    {
     "data": {
      "text/plain": [
       "(#60) [(TSTensor(vars:570, len:570), TensorCategory(0)),(TSTensor(vars:570, len:570), TensorCategory(0)),(TSTensor(vars:570, len:570), TensorCategory(0)),(TSTensor(vars:570, len:570), TensorCategory(0)),(TSTensor(vars:570, len:570), TensorCategory(0)),(TSTensor(vars:570, len:570), TensorCategory(1)),(TSTensor(vars:570, len:570), TensorCategory(1)),(TSTensor(vars:570, len:570), TensorCategory(1)),(TSTensor(vars:570, len:570), TensorCategory(1)),(TSTensor(vars:570, len:570), TensorCategory(1))...]"
      ]
     },
     "execution_count": 19,
     "metadata": {
      "tags": []
     },
     "output_type": "execute_result"
    }
   ],
   "source": [
    "tfms  = [None, [Categorize()]]\n",
    "dsets = TSDatasets(X, y, tfms=tfms, splits=splits, inplace=True)\n",
    "dsets"
   ]
  },
  {
   "cell_type": "markdown",
   "metadata": {
    "heading_collapsed": true,
    "hidden": true,
    "id": "hOG0QsWFmFVU"
   },
   "source": [
    "### Multivariate"
   ]
  },
  {
   "cell_type": "code",
   "execution_count": 20,
   "metadata": {
    "colab": {
     "base_uri": "https://localhost:8080/",
     "height": 256
    },
    "hidden": true,
    "id": "LVYEOL5-mFVX",
    "outputId": "29aa2c35-b183-4ba7-eb89-d248998bafb3"
   },
   "outputs": [
    {
     "data": {
      "text/html": [
       "<div>\n",
       "<style scoped>\n",
       "    .dataframe tbody tr th:only-of-type {\n",
       "        vertical-align: middle;\n",
       "    }\n",
       "\n",
       "    .dataframe tbody tr th {\n",
       "        vertical-align: top;\n",
       "    }\n",
       "\n",
       "    .dataframe thead th {\n",
       "        text-align: right;\n",
       "    }\n",
       "</style>\n",
       "<table border=\"1\" class=\"dataframe\">\n",
       "  <thead>\n",
       "    <tr style=\"text-align: right;\">\n",
       "      <th></th>\n",
       "      <th>feature</th>\n",
       "      <th>0</th>\n",
       "      <th>1</th>\n",
       "      <th>2</th>\n",
       "      <th>3</th>\n",
       "      <th>4</th>\n",
       "      <th>5</th>\n",
       "      <th>6</th>\n",
       "      <th>7</th>\n",
       "      <th>8</th>\n",
       "      <th>9</th>\n",
       "      <th>10</th>\n",
       "      <th>11</th>\n",
       "      <th>12</th>\n",
       "      <th>13</th>\n",
       "      <th>14</th>\n",
       "      <th>15</th>\n",
       "      <th>16</th>\n",
       "      <th>17</th>\n",
       "      <th>18</th>\n",
       "      <th>19</th>\n",
       "      <th>20</th>\n",
       "      <th>21</th>\n",
       "      <th>22</th>\n",
       "      <th>23</th>\n",
       "      <th>24</th>\n",
       "      <th>25</th>\n",
       "      <th>26</th>\n",
       "      <th>27</th>\n",
       "      <th>28</th>\n",
       "      <th>29</th>\n",
       "      <th>30</th>\n",
       "      <th>31</th>\n",
       "      <th>32</th>\n",
       "      <th>33</th>\n",
       "      <th>34</th>\n",
       "      <th>35</th>\n",
       "      <th>36</th>\n",
       "      <th>37</th>\n",
       "      <th>38</th>\n",
       "      <th>...</th>\n",
       "      <th>531</th>\n",
       "      <th>532</th>\n",
       "      <th>533</th>\n",
       "      <th>534</th>\n",
       "      <th>535</th>\n",
       "      <th>536</th>\n",
       "      <th>537</th>\n",
       "      <th>538</th>\n",
       "      <th>539</th>\n",
       "      <th>540</th>\n",
       "      <th>541</th>\n",
       "      <th>542</th>\n",
       "      <th>543</th>\n",
       "      <th>544</th>\n",
       "      <th>545</th>\n",
       "      <th>546</th>\n",
       "      <th>547</th>\n",
       "      <th>548</th>\n",
       "      <th>549</th>\n",
       "      <th>550</th>\n",
       "      <th>551</th>\n",
       "      <th>552</th>\n",
       "      <th>553</th>\n",
       "      <th>554</th>\n",
       "      <th>555</th>\n",
       "      <th>556</th>\n",
       "      <th>557</th>\n",
       "      <th>558</th>\n",
       "      <th>559</th>\n",
       "      <th>560</th>\n",
       "      <th>561</th>\n",
       "      <th>562</th>\n",
       "      <th>563</th>\n",
       "      <th>564</th>\n",
       "      <th>565</th>\n",
       "      <th>566</th>\n",
       "      <th>567</th>\n",
       "      <th>568</th>\n",
       "      <th>569</th>\n",
       "      <th>target</th>\n",
       "    </tr>\n",
       "  </thead>\n",
       "  <tbody>\n",
       "    <tr>\n",
       "      <th>175</th>\n",
       "      <td>3</td>\n",
       "      <td>99.377066</td>\n",
       "      <td>99.378307</td>\n",
       "      <td>99.383004</td>\n",
       "      <td>99.389189</td>\n",
       "      <td>99.396304</td>\n",
       "      <td>99.405102</td>\n",
       "      <td>99.414323</td>\n",
       "      <td>99.422454</td>\n",
       "      <td>99.430200</td>\n",
       "      <td>99.436739</td>\n",
       "      <td>99.441869</td>\n",
       "      <td>99.447907</td>\n",
       "      <td>99.455854</td>\n",
       "      <td>99.463201</td>\n",
       "      <td>99.472073</td>\n",
       "      <td>99.482541</td>\n",
       "      <td>99.492390</td>\n",
       "      <td>99.502692</td>\n",
       "      <td>99.513568</td>\n",
       "      <td>99.524616</td>\n",
       "      <td>99.537423</td>\n",
       "      <td>99.550744</td>\n",
       "      <td>99.563921</td>\n",
       "      <td>99.578813</td>\n",
       "      <td>99.593765</td>\n",
       "      <td>99.606638</td>\n",
       "      <td>99.617364</td>\n",
       "      <td>99.625972</td>\n",
       "      <td>99.631406</td>\n",
       "      <td>99.632770</td>\n",
       "      <td>99.630961</td>\n",
       "      <td>99.627751</td>\n",
       "      <td>99.624648</td>\n",
       "      <td>99.623840</td>\n",
       "      <td>99.625909</td>\n",
       "      <td>99.628964</td>\n",
       "      <td>99.631073</td>\n",
       "      <td>99.631118</td>\n",
       "      <td>99.629526</td>\n",
       "      <td>...</td>\n",
       "      <td>99.083274</td>\n",
       "      <td>99.080340</td>\n",
       "      <td>99.077225</td>\n",
       "      <td>99.074690</td>\n",
       "      <td>99.071590</td>\n",
       "      <td>99.068097</td>\n",
       "      <td>99.064808</td>\n",
       "      <td>99.061597</td>\n",
       "      <td>99.059068</td>\n",
       "      <td>99.056287</td>\n",
       "      <td>99.053743</td>\n",
       "      <td>99.052046</td>\n",
       "      <td>99.050778</td>\n",
       "      <td>99.049418</td>\n",
       "      <td>99.048171</td>\n",
       "      <td>99.047216</td>\n",
       "      <td>99.046327</td>\n",
       "      <td>99.044732</td>\n",
       "      <td>99.043185</td>\n",
       "      <td>99.041839</td>\n",
       "      <td>99.040623</td>\n",
       "      <td>99.039046</td>\n",
       "      <td>99.037595</td>\n",
       "      <td>99.036367</td>\n",
       "      <td>99.035126</td>\n",
       "      <td>99.035036</td>\n",
       "      <td>99.035171</td>\n",
       "      <td>99.034892</td>\n",
       "      <td>99.034802</td>\n",
       "      <td>99.034249</td>\n",
       "      <td>99.033363</td>\n",
       "      <td>99.032615</td>\n",
       "      <td>99.032609</td>\n",
       "      <td>99.032021</td>\n",
       "      <td>99.031171</td>\n",
       "      <td>99.031198</td>\n",
       "      <td>99.030609</td>\n",
       "      <td>99.030441</td>\n",
       "      <td>99.030480</td>\n",
       "      <td>104.0</td>\n",
       "    </tr>\n",
       "    <tr>\n",
       "      <th>176</th>\n",
       "      <td>3</td>\n",
       "      <td>99.390295</td>\n",
       "      <td>99.392517</td>\n",
       "      <td>99.397438</td>\n",
       "      <td>99.402816</td>\n",
       "      <td>99.409873</td>\n",
       "      <td>99.418803</td>\n",
       "      <td>99.427823</td>\n",
       "      <td>99.436244</td>\n",
       "      <td>99.443137</td>\n",
       "      <td>99.449131</td>\n",
       "      <td>99.454126</td>\n",
       "      <td>99.459165</td>\n",
       "      <td>99.466971</td>\n",
       "      <td>99.476223</td>\n",
       "      <td>99.485138</td>\n",
       "      <td>99.494613</td>\n",
       "      <td>99.504236</td>\n",
       "      <td>99.514130</td>\n",
       "      <td>99.523959</td>\n",
       "      <td>99.534835</td>\n",
       "      <td>99.547136</td>\n",
       "      <td>99.559773</td>\n",
       "      <td>99.573805</td>\n",
       "      <td>99.588492</td>\n",
       "      <td>99.602866</td>\n",
       "      <td>99.616404</td>\n",
       "      <td>99.627658</td>\n",
       "      <td>99.635532</td>\n",
       "      <td>99.640908</td>\n",
       "      <td>99.641907</td>\n",
       "      <td>99.639292</td>\n",
       "      <td>99.636499</td>\n",
       "      <td>99.634176</td>\n",
       "      <td>99.633694</td>\n",
       "      <td>99.635041</td>\n",
       "      <td>99.637689</td>\n",
       "      <td>99.639852</td>\n",
       "      <td>99.640021</td>\n",
       "      <td>99.638489</td>\n",
       "      <td>...</td>\n",
       "      <td>99.074609</td>\n",
       "      <td>99.071569</td>\n",
       "      <td>99.068196</td>\n",
       "      <td>99.065863</td>\n",
       "      <td>99.063150</td>\n",
       "      <td>99.059714</td>\n",
       "      <td>99.056418</td>\n",
       "      <td>99.053093</td>\n",
       "      <td>99.050701</td>\n",
       "      <td>99.047860</td>\n",
       "      <td>99.045144</td>\n",
       "      <td>99.042636</td>\n",
       "      <td>99.040777</td>\n",
       "      <td>99.040580</td>\n",
       "      <td>99.039733</td>\n",
       "      <td>99.038486</td>\n",
       "      <td>99.036895</td>\n",
       "      <td>99.034693</td>\n",
       "      <td>99.033512</td>\n",
       "      <td>99.031962</td>\n",
       "      <td>99.030683</td>\n",
       "      <td>99.030005</td>\n",
       "      <td>99.028259</td>\n",
       "      <td>99.026474</td>\n",
       "      <td>99.025602</td>\n",
       "      <td>99.025590</td>\n",
       "      <td>99.025358</td>\n",
       "      <td>99.025061</td>\n",
       "      <td>99.025004</td>\n",
       "      <td>99.023996</td>\n",
       "      <td>99.023249</td>\n",
       "      <td>99.022934</td>\n",
       "      <td>99.022428</td>\n",
       "      <td>99.021527</td>\n",
       "      <td>99.020822</td>\n",
       "      <td>99.020762</td>\n",
       "      <td>99.020462</td>\n",
       "      <td>99.019507</td>\n",
       "      <td>99.019367</td>\n",
       "      <td>104.0</td>\n",
       "    </tr>\n",
       "    <tr>\n",
       "      <th>177</th>\n",
       "      <td>3</td>\n",
       "      <td>99.387922</td>\n",
       "      <td>99.390261</td>\n",
       "      <td>99.394830</td>\n",
       "      <td>99.400812</td>\n",
       "      <td>99.407458</td>\n",
       "      <td>99.416016</td>\n",
       "      <td>99.425299</td>\n",
       "      <td>99.433606</td>\n",
       "      <td>99.441293</td>\n",
       "      <td>99.447148</td>\n",
       "      <td>99.452367</td>\n",
       "      <td>99.457684</td>\n",
       "      <td>99.464902</td>\n",
       "      <td>99.473275</td>\n",
       "      <td>99.481804</td>\n",
       "      <td>99.491484</td>\n",
       "      <td>99.501346</td>\n",
       "      <td>99.512097</td>\n",
       "      <td>99.523346</td>\n",
       "      <td>99.534080</td>\n",
       "      <td>99.545428</td>\n",
       "      <td>99.558262</td>\n",
       "      <td>99.572030</td>\n",
       "      <td>99.586962</td>\n",
       "      <td>99.602082</td>\n",
       "      <td>99.615453</td>\n",
       "      <td>99.626849</td>\n",
       "      <td>99.635296</td>\n",
       "      <td>99.639578</td>\n",
       "      <td>99.640092</td>\n",
       "      <td>99.637749</td>\n",
       "      <td>99.634198</td>\n",
       "      <td>99.631447</td>\n",
       "      <td>99.630961</td>\n",
       "      <td>99.632987</td>\n",
       "      <td>99.634876</td>\n",
       "      <td>99.636186</td>\n",
       "      <td>99.636988</td>\n",
       "      <td>99.635562</td>\n",
       "      <td>...</td>\n",
       "      <td>99.077913</td>\n",
       "      <td>99.075249</td>\n",
       "      <td>99.071856</td>\n",
       "      <td>99.068773</td>\n",
       "      <td>99.065491</td>\n",
       "      <td>99.062423</td>\n",
       "      <td>99.059108</td>\n",
       "      <td>99.055823</td>\n",
       "      <td>99.053522</td>\n",
       "      <td>99.051040</td>\n",
       "      <td>99.048363</td>\n",
       "      <td>99.045815</td>\n",
       "      <td>99.044666</td>\n",
       "      <td>99.043821</td>\n",
       "      <td>99.042255</td>\n",
       "      <td>99.040798</td>\n",
       "      <td>99.039360</td>\n",
       "      <td>99.038080</td>\n",
       "      <td>99.036669</td>\n",
       "      <td>99.035025</td>\n",
       "      <td>99.033959</td>\n",
       "      <td>99.032825</td>\n",
       "      <td>99.031647</td>\n",
       "      <td>99.030429</td>\n",
       "      <td>99.029292</td>\n",
       "      <td>99.028895</td>\n",
       "      <td>99.029083</td>\n",
       "      <td>99.028439</td>\n",
       "      <td>99.027633</td>\n",
       "      <td>99.027150</td>\n",
       "      <td>99.026371</td>\n",
       "      <td>99.026007</td>\n",
       "      <td>99.025971</td>\n",
       "      <td>99.025246</td>\n",
       "      <td>99.024581</td>\n",
       "      <td>99.024234</td>\n",
       "      <td>99.023587</td>\n",
       "      <td>99.023002</td>\n",
       "      <td>99.023483</td>\n",
       "      <td>104.0</td>\n",
       "    </tr>\n",
       "    <tr>\n",
       "      <th>178</th>\n",
       "      <td>3</td>\n",
       "      <td>99.390348</td>\n",
       "      <td>99.391047</td>\n",
       "      <td>99.394922</td>\n",
       "      <td>99.401168</td>\n",
       "      <td>99.408396</td>\n",
       "      <td>99.416801</td>\n",
       "      <td>99.425483</td>\n",
       "      <td>99.433159</td>\n",
       "      <td>99.440373</td>\n",
       "      <td>99.446437</td>\n",
       "      <td>99.451426</td>\n",
       "      <td>99.457427</td>\n",
       "      <td>99.465389</td>\n",
       "      <td>99.474284</td>\n",
       "      <td>99.483399</td>\n",
       "      <td>99.493031</td>\n",
       "      <td>99.502635</td>\n",
       "      <td>99.513345</td>\n",
       "      <td>99.524078</td>\n",
       "      <td>99.534758</td>\n",
       "      <td>99.546808</td>\n",
       "      <td>99.559518</td>\n",
       "      <td>99.573300</td>\n",
       "      <td>99.588103</td>\n",
       "      <td>99.602855</td>\n",
       "      <td>99.615651</td>\n",
       "      <td>99.626391</td>\n",
       "      <td>99.634888</td>\n",
       "      <td>99.639904</td>\n",
       "      <td>99.641000</td>\n",
       "      <td>99.639486</td>\n",
       "      <td>99.636459</td>\n",
       "      <td>99.633327</td>\n",
       "      <td>99.632565</td>\n",
       "      <td>99.633894</td>\n",
       "      <td>99.636461</td>\n",
       "      <td>99.638611</td>\n",
       "      <td>99.638990</td>\n",
       "      <td>99.637602</td>\n",
       "      <td>...</td>\n",
       "      <td>99.075329</td>\n",
       "      <td>99.072791</td>\n",
       "      <td>99.069393</td>\n",
       "      <td>99.065780</td>\n",
       "      <td>99.062305</td>\n",
       "      <td>99.059693</td>\n",
       "      <td>99.056591</td>\n",
       "      <td>99.053709</td>\n",
       "      <td>99.051133</td>\n",
       "      <td>99.048192</td>\n",
       "      <td>99.045379</td>\n",
       "      <td>99.042967</td>\n",
       "      <td>99.042095</td>\n",
       "      <td>99.041041</td>\n",
       "      <td>99.039871</td>\n",
       "      <td>99.038850</td>\n",
       "      <td>99.037560</td>\n",
       "      <td>99.036088</td>\n",
       "      <td>99.034715</td>\n",
       "      <td>99.033237</td>\n",
       "      <td>99.032040</td>\n",
       "      <td>99.030598</td>\n",
       "      <td>99.028496</td>\n",
       "      <td>99.026904</td>\n",
       "      <td>99.026492</td>\n",
       "      <td>99.026651</td>\n",
       "      <td>99.026585</td>\n",
       "      <td>99.026409</td>\n",
       "      <td>99.025812</td>\n",
       "      <td>99.024987</td>\n",
       "      <td>99.024331</td>\n",
       "      <td>99.023934</td>\n",
       "      <td>99.023716</td>\n",
       "      <td>99.022909</td>\n",
       "      <td>99.021966</td>\n",
       "      <td>99.021285</td>\n",
       "      <td>99.021127</td>\n",
       "      <td>99.020634</td>\n",
       "      <td>99.020106</td>\n",
       "      <td>104.0</td>\n",
       "    </tr>\n",
       "    <tr>\n",
       "      <th>179</th>\n",
       "      <td>3</td>\n",
       "      <td>99.377725</td>\n",
       "      <td>99.378153</td>\n",
       "      <td>99.381078</td>\n",
       "      <td>99.385643</td>\n",
       "      <td>99.392011</td>\n",
       "      <td>99.400396</td>\n",
       "      <td>99.408790</td>\n",
       "      <td>99.416355</td>\n",
       "      <td>99.424343</td>\n",
       "      <td>99.431244</td>\n",
       "      <td>99.436988</td>\n",
       "      <td>99.443594</td>\n",
       "      <td>99.450532</td>\n",
       "      <td>99.458960</td>\n",
       "      <td>99.468379</td>\n",
       "      <td>99.478070</td>\n",
       "      <td>99.488336</td>\n",
       "      <td>99.498316</td>\n",
       "      <td>99.509126</td>\n",
       "      <td>99.520683</td>\n",
       "      <td>99.533603</td>\n",
       "      <td>99.547668</td>\n",
       "      <td>99.561966</td>\n",
       "      <td>99.577142</td>\n",
       "      <td>99.590942</td>\n",
       "      <td>99.602146</td>\n",
       "      <td>99.611813</td>\n",
       "      <td>99.619420</td>\n",
       "      <td>99.623943</td>\n",
       "      <td>99.625260</td>\n",
       "      <td>99.623494</td>\n",
       "      <td>99.621157</td>\n",
       "      <td>99.619948</td>\n",
       "      <td>99.620527</td>\n",
       "      <td>99.623180</td>\n",
       "      <td>99.626325</td>\n",
       "      <td>99.628812</td>\n",
       "      <td>99.630052</td>\n",
       "      <td>99.629970</td>\n",
       "      <td>...</td>\n",
       "      <td>99.079979</td>\n",
       "      <td>99.076738</td>\n",
       "      <td>99.073174</td>\n",
       "      <td>99.070143</td>\n",
       "      <td>99.066902</td>\n",
       "      <td>99.064843</td>\n",
       "      <td>99.061981</td>\n",
       "      <td>99.058496</td>\n",
       "      <td>99.055749</td>\n",
       "      <td>99.053072</td>\n",
       "      <td>99.050458</td>\n",
       "      <td>99.047608</td>\n",
       "      <td>99.046499</td>\n",
       "      <td>99.046471</td>\n",
       "      <td>99.045832</td>\n",
       "      <td>99.044584</td>\n",
       "      <td>99.043351</td>\n",
       "      <td>99.041976</td>\n",
       "      <td>99.040321</td>\n",
       "      <td>99.038388</td>\n",
       "      <td>99.037209</td>\n",
       "      <td>99.036057</td>\n",
       "      <td>99.034758</td>\n",
       "      <td>99.033145</td>\n",
       "      <td>99.031767</td>\n",
       "      <td>99.032391</td>\n",
       "      <td>99.032541</td>\n",
       "      <td>99.031767</td>\n",
       "      <td>99.031438</td>\n",
       "      <td>99.031272</td>\n",
       "      <td>99.030874</td>\n",
       "      <td>99.030576</td>\n",
       "      <td>99.030334</td>\n",
       "      <td>99.029671</td>\n",
       "      <td>99.028706</td>\n",
       "      <td>99.028079</td>\n",
       "      <td>99.027955</td>\n",
       "      <td>99.026948</td>\n",
       "      <td>99.026330</td>\n",
       "      <td>104.0</td>\n",
       "    </tr>\n",
       "  </tbody>\n",
       "</table>\n",
       "<p>5 rows × 572 columns</p>\n",
       "</div>"
      ],
      "text/plain": [
       "     feature          0          1  ...        568        569  target\n",
       "175        3  99.377066  99.378307  ...  99.030441  99.030480   104.0\n",
       "176        3  99.390295  99.392517  ...  99.019507  99.019367   104.0\n",
       "177        3  99.387922  99.390261  ...  99.023002  99.023483   104.0\n",
       "178        3  99.390348  99.391047  ...  99.020634  99.020106   104.0\n",
       "179        3  99.377725  99.378153  ...  99.026948  99.026330   104.0\n",
       "\n",
       "[5 rows x 572 columns]"
      ]
     },
     "metadata": {
      "tags": []
     },
     "output_type": "display_data"
    }
   ],
   "source": [
    "ds_name = 'OliveOil'\n",
    "X, y, _ = get_UCR_data(ds_name, return_split=False)\n",
    "X = X[:, 0]\n",
    "y = y.reshape(-1, 1)\n",
    "data = np.concatenate((X, y), axis=-1)\n",
    "df = pd.DataFrame(data).astype(float)\n",
    "df = df.rename(columns={570: 'target'})\n",
    "df1 = pd.concat([df, df + 10, df + 100], axis=0).reset_index(drop=True)\n",
    "df2 = pd.DataFrame(np.array([1] * 60 + [2] * 60 + [3] * 60), columns=['feature'])\n",
    "df = pd.merge(df2, df1, left_index=True, right_index=True)\n",
    "display(df.tail())"
   ]
  },
  {
   "cell_type": "code",
   "execution_count": 21,
   "metadata": {
    "colab": {
     "base_uri": "https://localhost:8080/"
    },
    "hidden": true,
    "id": "UmF3ZorKmFVl",
    "outputId": "1bc6b4c5-902c-4053-86ec-15ba1492f117"
   },
   "outputs": [
    {
     "data": {
      "text/plain": [
       "((60, 3, 570), (60,))"
      ]
     },
     "execution_count": 21,
     "metadata": {
      "tags": []
     },
     "output_type": "execute_result"
    }
   ],
   "source": [
    "X, y = df2xy(df, feat_col='feature', target_col='target', data_cols=None)\n",
    "X.shape, y.shape"
   ]
  },
  {
   "cell_type": "code",
   "execution_count": 22,
   "metadata": {
    "colab": {
     "base_uri": "https://localhost:8080/"
    },
    "hidden": true,
    "id": "yCSgdMAPmFWS",
    "outputId": "23b26ba3-ff1e-4ea8-8132-d9d004c59b9f"
   },
   "outputs": [
    {
     "data": {
      "text/plain": [
       "(#2) [[58, 21, 9, 45, 41, 54, 56, 46, 44, 53, 48, 20, 25, 52, 27, 35, 23, 34, 59, 37, 57, 13, 32, 6, 43, 33, 8, 26, 49, 30, 51, 22, 12, 15, 4, 29, 17, 19, 0, 42, 47, 39, 10, 2, 1, 5, 7, 36],[55, 38, 40, 18, 16, 24, 3, 28, 50, 14, 31, 11]]"
      ]
     },
     "execution_count": 22,
     "metadata": {
      "tags": []
     },
     "output_type": "execute_result"
    }
   ],
   "source": [
    "splits = get_splits(y, valid_size=.2, stratify=True, random_state=23, shuffle=True)\n",
    "splits"
   ]
  },
  {
   "cell_type": "code",
   "execution_count": 23,
   "metadata": {
    "colab": {
     "base_uri": "https://localhost:8080/"
    },
    "hidden": true,
    "id": "fzJLLAbUmFWi",
    "outputId": "317e126e-71a1-4594-87ea-a5823dfdf4cd"
   },
   "outputs": [
    {
     "data": {
      "text/plain": [
       "(#60) [(TSTensor(vars:570, len:570), TensorCategory(0)),(TSTensor(vars:570, len:570), TensorCategory(0)),(TSTensor(vars:570, len:570), TensorCategory(0)),(TSTensor(vars:570, len:570), TensorCategory(0)),(TSTensor(vars:570, len:570), TensorCategory(0)),(TSTensor(vars:570, len:570), TensorCategory(1)),(TSTensor(vars:570, len:570), TensorCategory(1)),(TSTensor(vars:570, len:570), TensorCategory(1)),(TSTensor(vars:570, len:570), TensorCategory(1)),(TSTensor(vars:570, len:570), TensorCategory(1))...]"
      ]
     },
     "execution_count": 23,
     "metadata": {
      "tags": []
     },
     "output_type": "execute_result"
    }
   ],
   "source": [
    "tfms  = [None, [Categorize()]]\n",
    "dsets = TSDatasets(X, y, tfms=tfms, splits=splits, inplace=True)\n",
    "dsets"
   ]
  },
  {
   "cell_type": "markdown",
   "metadata": {
    "heading_collapsed": true,
    "id": "26aLn2kPmFWu"
   },
   "source": [
    "## Single, long time series"
   ]
  },
  {
   "cell_type": "markdown",
   "metadata": {
    "hidden": true,
    "id": "mdBwpA4gmFWw"
   },
   "source": [
    "Sometimes, instead of having the data already split into samples, you only have a single (univariate or multivariate) time series that you need to split. \n",
    "The recommended way to do this is to use a sliding window. In `timeseriesAI`there is a function called `SlidingWindow`that performs this task in a flexible way.\n",
    "\n",
    "This function applies a sliding window to a 1d or 2d input (np.ndarray, torch.Tensor or pd.DataFrame). \n",
    "   \n",
    "* Args:\n",
    "    * window_length   = length of lookback window\n",
    "    * stride          = n datapoints the window is moved ahead along the sequence. Default: 1. If None, stride=window_length (no overlap)\n",
    "    * horizon         = number of future datapoints to predict. 0 for last step in the selected window. > 0 for future steps. List for several steps.\n",
    "    * get_x          = indices of columns that contain the independent variable (xs). If get_x=None, all data will be used as x\n",
    "    * get_y          = indices of columns that contain the target (ys). If y_idx is None, no y will be returned\n",
    "    * seq_first       = True if input shape (seq_len, n_vars), False if input shape (n_vars, seq_len)\n",
    "    * random_start    = determines the step where the first window is applied: 0 (default), a given step (int), or random within the 1st stride (None). \n",
    "\n",
    "* Input:\n",
    "    * shape: (seq_len, ) or (seq_len, n_vars) if seq_first=True else (n_vars, seq_len)"
   ]
  },
  {
   "cell_type": "markdown",
   "metadata": {
    "heading_collapsed": true,
    "hidden": true,
    "id": "9SDXDQIMmFWy"
   },
   "source": [
    "### Univariate"
   ]
  },
  {
   "cell_type": "markdown",
   "metadata": {
    "hidden": true,
    "id": "4hyA85dpmFWz"
   },
   "source": [
    "You may use it just without a target"
   ]
  },
  {
   "cell_type": "code",
   "execution_count": 24,
   "metadata": {
    "colab": {
     "base_uri": "https://localhost:8080/"
    },
    "hidden": true,
    "id": "fP0yV6ELmFW3",
    "outputId": "1105c7a9-8be1-45c4-c3b6-c20643a26a9e"
   },
   "outputs": [
    {
     "name": "stdout",
     "output_type": "stream",
     "text": [
      "input shape: (100,)\n"
     ]
    },
    {
     "data": {
      "text/plain": [
       "(#96) [(array([[0, 1, 2, 3, 4]]),),(array([[1, 2, 3, 4, 5]]),),(array([[2, 3, 4, 5, 6]]),),(array([[3, 4, 5, 6, 7]]),),(array([[4, 5, 6, 7, 8]]),),(array([[5, 6, 7, 8, 9]]),),(array([[ 6,  7,  8,  9, 10]]),),(array([[ 7,  8,  9, 10, 11]]),),(array([[ 8,  9, 10, 11, 12]]),),(array([[ 9, 10, 11, 12, 13]]),)...]"
      ]
     },
     "execution_count": 24,
     "metadata": {
      "tags": []
     },
     "output_type": "execute_result"
    }
   ],
   "source": [
    "window_length = 5\n",
    "t = np.arange(100)\n",
    "print('input shape:', t.shape)\n",
    "X, y = SlidingWindow(window_length)(t)\n",
    "itemify(X,)"
   ]
  },
  {
   "cell_type": "markdown",
   "metadata": {
    "hidden": true,
    "id": "r8srtLrImFXD"
   },
   "source": [
    "If the target is the next step in the univariate time series set `horizon=1`:"
   ]
  },
  {
   "cell_type": "code",
   "execution_count": 25,
   "metadata": {
    "colab": {
     "base_uri": "https://localhost:8080/"
    },
    "hidden": true,
    "id": "Z4S_iLKPmFXF",
    "outputId": "123c1182-9a41-4982-ba86-dee0502b0a04"
   },
   "outputs": [
    {
     "name": "stdout",
     "output_type": "stream",
     "text": [
      "input shape: (100,)\n"
     ]
    },
    {
     "data": {
      "text/plain": [
       "(#95) [(array([[0, 1, 2, 3, 4]]), 5),(array([[1, 2, 3, 4, 5]]), 6),(array([[2, 3, 4, 5, 6]]), 7),(array([[3, 4, 5, 6, 7]]), 8),(array([[4, 5, 6, 7, 8]]), 9),(array([[5, 6, 7, 8, 9]]), 10),(array([[ 6,  7,  8,  9, 10]]), 11),(array([[ 7,  8,  9, 10, 11]]), 12),(array([[ 8,  9, 10, 11, 12]]), 13),(array([[ 9, 10, 11, 12, 13]]), 14)...]"
      ]
     },
     "execution_count": 25,
     "metadata": {
      "tags": []
     },
     "output_type": "execute_result"
    }
   ],
   "source": [
    "window_length = 5\n",
    "horizon = 1\n",
    "\n",
    "t = np.arange(100)\n",
    "print('input shape:', t.shape)\n",
    "X, y = SlidingWindow(window_length, horizon=horizon)(t)\n",
    "itemify(X, y)"
   ]
  },
  {
   "cell_type": "markdown",
   "metadata": {
    "hidden": true,
    "id": "O1kqhhiEmFXS"
   },
   "source": [
    "Horizon may be > 1 to select multiple steps in the future:"
   ]
  },
  {
   "cell_type": "code",
   "execution_count": 26,
   "metadata": {
    "colab": {
     "base_uri": "https://localhost:8080/"
    },
    "hidden": true,
    "id": "vvl8YndlmFXT",
    "outputId": "d325c7f7-8f15-48ea-959d-4ff9fec060f8"
   },
   "outputs": [
    {
     "name": "stdout",
     "output_type": "stream",
     "text": [
      "input shape: (100,)\n"
     ]
    },
    {
     "data": {
      "text/plain": [
       "(#94) [(array([[0, 1, 2, 3, 4]]), array([5, 6])),(array([[1, 2, 3, 4, 5]]), array([6, 7])),(array([[2, 3, 4, 5, 6]]), array([7, 8])),(array([[3, 4, 5, 6, 7]]), array([8, 9])),(array([[4, 5, 6, 7, 8]]), array([ 9, 10])),(array([[5, 6, 7, 8, 9]]), array([10, 11])),(array([[ 6,  7,  8,  9, 10]]), array([11, 12])),(array([[ 7,  8,  9, 10, 11]]), array([12, 13])),(array([[ 8,  9, 10, 11, 12]]), array([13, 14])),(array([[ 9, 10, 11, 12, 13]]), array([14, 15]))...]"
      ]
     },
     "execution_count": 26,
     "metadata": {
      "tags": []
     },
     "output_type": "execute_result"
    }
   ],
   "source": [
    "window_length = 5\n",
    "horizon = 2\n",
    "\n",
    "t = np.arange(100)\n",
    "print('input shape:', t.shape)\n",
    "X, y = SlidingWindow(window_length, horizon=horizon)(t)\n",
    "itemify(X, y)"
   ]
  },
  {
   "cell_type": "markdown",
   "metadata": {
    "hidden": true,
    "id": "-nUvSAnUmFXf"
   },
   "source": [
    "To have non-overlapping samples, we need to set `stride=None`:"
   ]
  },
  {
   "cell_type": "code",
   "execution_count": 27,
   "metadata": {
    "colab": {
     "base_uri": "https://localhost:8080/"
    },
    "hidden": true,
    "id": "A02tdy70mFXh",
    "outputId": "5c2e84c4-56bb-4432-d700-0d2e6c6290b2"
   },
   "outputs": [
    {
     "name": "stdout",
     "output_type": "stream",
     "text": [
      "input shape: (100,)\n"
     ]
    },
    {
     "data": {
      "text/plain": [
       "(#19) [(array([[0, 1, 2, 3, 4]]), 5),(array([[5, 6, 7, 8, 9]]), 10),(array([[10, 11, 12, 13, 14]]), 15),(array([[15, 16, 17, 18, 19]]), 20),(array([[20, 21, 22, 23, 24]]), 25),(array([[25, 26, 27, 28, 29]]), 30),(array([[30, 31, 32, 33, 34]]), 35),(array([[35, 36, 37, 38, 39]]), 40),(array([[40, 41, 42, 43, 44]]), 45),(array([[45, 46, 47, 48, 49]]), 50)...]"
      ]
     },
     "execution_count": 27,
     "metadata": {
      "tags": []
     },
     "output_type": "execute_result"
    }
   ],
   "source": [
    "window_length = 5\n",
    "stride = None\n",
    "horizon = 1\n",
    "t = np.arange(100)\n",
    "print('input shape:', t.shape)\n",
    "X, y = SlidingWindow(window_length, stride=stride, horizon=horizon)(t)\n",
    "itemify(X, y)"
   ]
  },
  {
   "cell_type": "code",
   "execution_count": 28,
   "metadata": {
    "colab": {
     "base_uri": "https://localhost:8080/"
    },
    "hidden": true,
    "id": "5tuRIiZ9mFXq",
    "outputId": "1ac0e323-5b2c-4e84-b5dc-c4116acc03cc"
   },
   "outputs": [
    {
     "name": "stdout",
     "output_type": "stream",
     "text": [
      "input shape: (100,)\n"
     ]
    },
    {
     "data": {
      "text/plain": [
       "(#32) [(array([[0, 1, 2, 3, 4]]), 5),(array([[3, 4, 5, 6, 7]]), 8),(array([[ 6,  7,  8,  9, 10]]), 11),(array([[ 9, 10, 11, 12, 13]]), 14),(array([[12, 13, 14, 15, 16]]), 17),(array([[15, 16, 17, 18, 19]]), 20),(array([[18, 19, 20, 21, 22]]), 23),(array([[21, 22, 23, 24, 25]]), 26),(array([[24, 25, 26, 27, 28]]), 29),(array([[27, 28, 29, 30, 31]]), 32)...]"
      ]
     },
     "execution_count": 28,
     "metadata": {
      "tags": []
     },
     "output_type": "execute_result"
    }
   ],
   "source": [
    "window_length = 5\n",
    "stride = 3\n",
    "horizon = 1\n",
    "t = np.arange(100)\n",
    "print('input shape:', t.shape)\n",
    "X, y = SlidingWindow(window_length, stride=stride, horizon=horizon)(t)\n",
    "itemify(X, y)"
   ]
  },
  {
   "cell_type": "markdown",
   "metadata": {
    "hidden": true,
    "id": "c3PAGnZRmFX0"
   },
   "source": [
    "We can also decide where to start the sliding window using `start`: "
   ]
  },
  {
   "cell_type": "code",
   "execution_count": 29,
   "metadata": {
    "colab": {
     "base_uri": "https://localhost:8080/"
    },
    "hidden": true,
    "id": "nZ_JYRBZmFX2",
    "outputId": "2cf9fe18-c32b-4dbb-ef8e-5ec08ab88979"
   },
   "outputs": [
    {
     "name": "stdout",
     "output_type": "stream",
     "text": [
      "input shape: (100,)\n"
     ]
    },
    {
     "data": {
      "text/plain": [
       "(#15) [(array([[20, 21, 22, 23, 24]]), 25),(array([[25, 26, 27, 28, 29]]), 30),(array([[30, 31, 32, 33, 34]]), 35),(array([[35, 36, 37, 38, 39]]), 40),(array([[40, 41, 42, 43, 44]]), 45),(array([[45, 46, 47, 48, 49]]), 50),(array([[50, 51, 52, 53, 54]]), 55),(array([[55, 56, 57, 58, 59]]), 60),(array([[60, 61, 62, 63, 64]]), 65),(array([[65, 66, 67, 68, 69]]), 70)...]"
      ]
     },
     "execution_count": 29,
     "metadata": {
      "tags": []
     },
     "output_type": "execute_result"
    }
   ],
   "source": [
    "window_length = 5\n",
    "stride = None\n",
    "horizon = 1\n",
    "t = np.arange(100)\n",
    "print('input shape:', t.shape)\n",
    "X, y = SlidingWindow(window_length, stride=stride, start=20, horizon=horizon)(t)\n",
    "itemify(X, y)"
   ]
  },
  {
   "cell_type": "markdown",
   "metadata": {
    "hidden": true,
    "id": "SNSMyNTOmFYC"
   },
   "source": [
    "If the time series is of shape (1, seq_len) we need to set `seq_first=False`"
   ]
  },
  {
   "cell_type": "code",
   "execution_count": 30,
   "metadata": {
    "colab": {
     "base_uri": "https://localhost:8080/"
    },
    "hidden": true,
    "id": "tuhlJtsPmFYE",
    "outputId": "303e8f17-e39a-4db9-b849-18f803603b43"
   },
   "outputs": [
    {
     "name": "stdout",
     "output_type": "stream",
     "text": [
      "input shape: (1, 100)\n"
     ]
    },
    {
     "data": {
      "text/plain": [
       "(#32) [(array([[0, 1, 2, 3, 4]]), 5),(array([[3, 4, 5, 6, 7]]), 8),(array([[ 6,  7,  8,  9, 10]]), 11),(array([[ 9, 10, 11, 12, 13]]), 14),(array([[12, 13, 14, 15, 16]]), 17),(array([[15, 16, 17, 18, 19]]), 20),(array([[18, 19, 20, 21, 22]]), 23),(array([[21, 22, 23, 24, 25]]), 26),(array([[24, 25, 26, 27, 28]]), 29),(array([[27, 28, 29, 30, 31]]), 32)...]"
      ]
     },
     "execution_count": 30,
     "metadata": {
      "tags": []
     },
     "output_type": "execute_result"
    }
   ],
   "source": [
    "window_length = 5\n",
    "stride = 3\n",
    "horizon = 1\n",
    "t = np.arange(100).reshape(1, -1)\n",
    "print('input shape:', t.shape)\n",
    "X, y = SlidingWindow(window_length, stride=stride, horizon=horizon, seq_first=False)(t)\n",
    "itemify(X, y)"
   ]
  },
  {
   "cell_type": "markdown",
   "metadata": {
    "hidden": true,
    "id": "n12j3j6wmFYO"
   },
   "source": [
    "Your univariate time series may be in a pandas DataFrame:"
   ]
  },
  {
   "cell_type": "code",
   "execution_count": 31,
   "metadata": {
    "colab": {
     "base_uri": "https://localhost:8080/",
     "height": 713
    },
    "hidden": true,
    "id": "v9BQKvSMmFYP",
    "outputId": "4889d180-6f54-4a33-df60-86005ee3e342"
   },
   "outputs": [
    {
     "name": "stdout",
     "output_type": "stream",
     "text": [
      "input shape: (20, 1)\n"
     ]
    },
    {
     "data": {
      "text/html": [
       "<div>\n",
       "<style scoped>\n",
       "    .dataframe tbody tr th:only-of-type {\n",
       "        vertical-align: middle;\n",
       "    }\n",
       "\n",
       "    .dataframe tbody tr th {\n",
       "        vertical-align: top;\n",
       "    }\n",
       "\n",
       "    .dataframe thead th {\n",
       "        text-align: right;\n",
       "    }\n",
       "</style>\n",
       "<table border=\"1\" class=\"dataframe\">\n",
       "  <thead>\n",
       "    <tr style=\"text-align: right;\">\n",
       "      <th></th>\n",
       "      <th>var</th>\n",
       "    </tr>\n",
       "  </thead>\n",
       "  <tbody>\n",
       "    <tr>\n",
       "      <th>0</th>\n",
       "      <td>0</td>\n",
       "    </tr>\n",
       "    <tr>\n",
       "      <th>1</th>\n",
       "      <td>1</td>\n",
       "    </tr>\n",
       "    <tr>\n",
       "      <th>2</th>\n",
       "      <td>2</td>\n",
       "    </tr>\n",
       "    <tr>\n",
       "      <th>3</th>\n",
       "      <td>3</td>\n",
       "    </tr>\n",
       "    <tr>\n",
       "      <th>4</th>\n",
       "      <td>4</td>\n",
       "    </tr>\n",
       "    <tr>\n",
       "      <th>5</th>\n",
       "      <td>5</td>\n",
       "    </tr>\n",
       "    <tr>\n",
       "      <th>6</th>\n",
       "      <td>6</td>\n",
       "    </tr>\n",
       "    <tr>\n",
       "      <th>7</th>\n",
       "      <td>7</td>\n",
       "    </tr>\n",
       "    <tr>\n",
       "      <th>8</th>\n",
       "      <td>8</td>\n",
       "    </tr>\n",
       "    <tr>\n",
       "      <th>9</th>\n",
       "      <td>9</td>\n",
       "    </tr>\n",
       "    <tr>\n",
       "      <th>10</th>\n",
       "      <td>10</td>\n",
       "    </tr>\n",
       "    <tr>\n",
       "      <th>11</th>\n",
       "      <td>11</td>\n",
       "    </tr>\n",
       "    <tr>\n",
       "      <th>12</th>\n",
       "      <td>12</td>\n",
       "    </tr>\n",
       "    <tr>\n",
       "      <th>13</th>\n",
       "      <td>13</td>\n",
       "    </tr>\n",
       "    <tr>\n",
       "      <th>14</th>\n",
       "      <td>14</td>\n",
       "    </tr>\n",
       "    <tr>\n",
       "      <th>15</th>\n",
       "      <td>15</td>\n",
       "    </tr>\n",
       "    <tr>\n",
       "      <th>16</th>\n",
       "      <td>16</td>\n",
       "    </tr>\n",
       "    <tr>\n",
       "      <th>17</th>\n",
       "      <td>17</td>\n",
       "    </tr>\n",
       "    <tr>\n",
       "      <th>18</th>\n",
       "      <td>18</td>\n",
       "    </tr>\n",
       "    <tr>\n",
       "      <th>19</th>\n",
       "      <td>19</td>\n",
       "    </tr>\n",
       "  </tbody>\n",
       "</table>\n",
       "</div>"
      ],
      "text/plain": [
       "    var\n",
       "0     0\n",
       "1     1\n",
       "2     2\n",
       "3     3\n",
       "4     4\n",
       "5     5\n",
       "6     6\n",
       "7     7\n",
       "8     8\n",
       "9     9\n",
       "10   10\n",
       "11   11\n",
       "12   12\n",
       "13   13\n",
       "14   14\n",
       "15   15\n",
       "16   16\n",
       "17   17\n",
       "18   18\n",
       "19   19"
      ]
     },
     "metadata": {
      "tags": []
     },
     "output_type": "display_data"
    },
    {
     "data": {
      "text/plain": [
       "(#3) [(array([[0, 1, 2, 3, 4]]), 5),(array([[5, 6, 7, 8, 9]]), 10),(array([[10, 11, 12, 13, 14]]), 15)]"
      ]
     },
     "execution_count": 31,
     "metadata": {
      "tags": []
     },
     "output_type": "execute_result"
    }
   ],
   "source": [
    "window_length = 5\n",
    "stride = None\n",
    "horizon=1\n",
    "\n",
    "t = np.arange(20)\n",
    "df = pd.DataFrame(t, columns=['var'])\n",
    "print('input shape:', df.shape)\n",
    "display(df)\n",
    "X, y = SlidingWindow(window_length, stride=stride, horizon=horizon)(df)\n",
    "itemify(X, y)"
   ]
  },
  {
   "cell_type": "code",
   "execution_count": 32,
   "metadata": {
    "colab": {
     "base_uri": "https://localhost:8080/",
     "height": 117
    },
    "hidden": true,
    "id": "gsc-V5ijmFYY",
    "outputId": "15d1c707-27ea-421b-911f-c83df131df01"
   },
   "outputs": [
    {
     "name": "stdout",
     "output_type": "stream",
     "text": [
      "input shape: (1, 20)\n"
     ]
    },
    {
     "data": {
      "text/html": [
       "<div>\n",
       "<style scoped>\n",
       "    .dataframe tbody tr th:only-of-type {\n",
       "        vertical-align: middle;\n",
       "    }\n",
       "\n",
       "    .dataframe tbody tr th {\n",
       "        vertical-align: top;\n",
       "    }\n",
       "\n",
       "    .dataframe thead th {\n",
       "        text-align: right;\n",
       "    }\n",
       "</style>\n",
       "<table border=\"1\" class=\"dataframe\">\n",
       "  <thead>\n",
       "    <tr style=\"text-align: right;\">\n",
       "      <th></th>\n",
       "      <th>0</th>\n",
       "      <th>1</th>\n",
       "      <th>2</th>\n",
       "      <th>3</th>\n",
       "      <th>4</th>\n",
       "      <th>5</th>\n",
       "      <th>6</th>\n",
       "      <th>7</th>\n",
       "      <th>8</th>\n",
       "      <th>9</th>\n",
       "      <th>10</th>\n",
       "      <th>11</th>\n",
       "      <th>12</th>\n",
       "      <th>13</th>\n",
       "      <th>14</th>\n",
       "      <th>15</th>\n",
       "      <th>16</th>\n",
       "      <th>17</th>\n",
       "      <th>18</th>\n",
       "      <th>19</th>\n",
       "    </tr>\n",
       "  </thead>\n",
       "  <tbody>\n",
       "    <tr>\n",
       "      <th>var</th>\n",
       "      <td>0</td>\n",
       "      <td>1</td>\n",
       "      <td>2</td>\n",
       "      <td>3</td>\n",
       "      <td>4</td>\n",
       "      <td>5</td>\n",
       "      <td>6</td>\n",
       "      <td>7</td>\n",
       "      <td>8</td>\n",
       "      <td>9</td>\n",
       "      <td>10</td>\n",
       "      <td>11</td>\n",
       "      <td>12</td>\n",
       "      <td>13</td>\n",
       "      <td>14</td>\n",
       "      <td>15</td>\n",
       "      <td>16</td>\n",
       "      <td>17</td>\n",
       "      <td>18</td>\n",
       "      <td>19</td>\n",
       "    </tr>\n",
       "  </tbody>\n",
       "</table>\n",
       "</div>"
      ],
      "text/plain": [
       "     0   1   2   3   4   5   6   7   8   ...  11  12  13  14  15  16  17  18  19\n",
       "var   0   1   2   3   4   5   6   7   8  ...  11  12  13  14  15  16  17  18  19\n",
       "\n",
       "[1 rows x 20 columns]"
      ]
     },
     "metadata": {
      "tags": []
     },
     "output_type": "display_data"
    },
    {
     "data": {
      "text/plain": [
       "(#3) [(array([[0, 1, 2, 3, 4]]), 5),(array([[5, 6, 7, 8, 9]]), 10),(array([[10, 11, 12, 13, 14]]), 15)]"
      ]
     },
     "execution_count": 32,
     "metadata": {
      "tags": []
     },
     "output_type": "execute_result"
    }
   ],
   "source": [
    "window_length = 5\n",
    "stride = None\n",
    "horizon=1\n",
    "\n",
    "t = np.arange(20)\n",
    "df = pd.DataFrame(t, columns=['var']).T\n",
    "print('input shape:', df.shape)\n",
    "display(df)\n",
    "X, y = SlidingWindow(window_length, stride=stride, horizon=horizon, seq_first=False)(df)\n",
    "itemify(X, y)"
   ]
  },
  {
   "cell_type": "markdown",
   "metadata": {
    "heading_collapsed": true,
    "hidden": true,
    "id": "X2pejXf2mFYh"
   },
   "source": [
    "### Multivariate"
   ]
  },
  {
   "cell_type": "markdown",
   "metadata": {
    "hidden": true,
    "id": "pSsW8zxamFYi"
   },
   "source": [
    "When using multivariate data, all parameters shown before work in the same way, but you always need to indicate how to get the X data and the y data (as there are multiple features). To do that, we'll use get_x and get_y. \n",
    "\n",
    "By default get_x is set to None, which means that all features will be used.\n",
    "By default get_y is set to None, which means that all features will be used as long as horizon > 0 (to avoid leakage).\n",
    "\n",
    "If you get the time series in a np.ndarray or a torch.Tensor, you should use integers, a list or slice as get_x/ get_y."
   ]
  },
  {
   "cell_type": "code",
   "execution_count": 33,
   "metadata": {
    "colab": {
     "base_uri": "https://localhost:8080/",
     "height": 480
    },
    "hidden": true,
    "id": "LKE4cmi7mFYk",
    "outputId": "8cbb9716-5fcb-4e05-876c-c1f14cc09c46"
   },
   "outputs": [
    {
     "name": "stdout",
     "output_type": "stream",
     "text": [
      "(1000, 3)\n"
     ]
    },
    {
     "data": {
      "image/png": "[encoded data removed]",
      "text/plain": [
       "<Figure size 432x288 with 1 Axes>"
      ]
     },
     "metadata": {
      "needs_background": "light",
      "tags": []
     },
     "output_type": "display_data"
    },
    {
     "data": {
      "text/plain": [
       "(#200) [(array([[-0.46136149, -0.06263258,  0.10000537,  0.36959743,  0.38101995],\n",
       "       [ 0.30064406,  0.74447348,  0.44764435,  0.86413139,  1.2253089 ]]), -0.44637801964597956),(array([[0.86331519, 1.0664679 , 1.25002559, 1.65092634, 1.17167969],\n",
       "       [1.71411784, 1.70340893, 1.44872569, 1.22277182, 1.66428985]]), -0.1704680111457817),(array([[1.29530519, 0.80491903, 0.53279918, 0.71804687, 0.658143  ],\n",
       "       [2.0701268 , 1.61107954, 1.64217375, 1.87512916, 1.94201311]]), -0.2176365715517109),(array([[0.49794198, 0.32213385, 0.65028909, 0.41179358, 0.37518258],\n",
       "       [1.74774471, 2.20507278, 2.18593032, 2.2749129 , 2.08461111]]), -1.0730329246452908),(array([[0.68172011, 0.89115451, 0.90821502, 0.5554486 , 0.07278643],\n",
       "       [2.29659555, 2.1857918 , 2.62613193, 3.0729132 , 3.43554279]]), -1.348725681784257),(array([[-0.25363819, -0.63236363, -0.59900395, -0.93151817, -1.16805965],\n",
       "       [ 3.67130596,  3.22642699,  2.87100064,  2.48881462,  2.3379397 ]]), -0.5456892508238963),(array([[-0.84364612, -1.07082759, -1.18701577, -1.3417443 , -1.52472641],\n",
       "       [ 2.14761463,  2.19839703,  2.04923712,  1.8432484 ,  1.67636842]]), -1.2966782940874153),(array([[-1.98164795, -1.84391433, -1.69789108, -2.05987541, -2.49806277],\n",
       "       [ 1.46144492,  1.40680516,  1.05327367,  0.85914283,  0.89159811]]), -1.9539884201874942),(array([[-2.54444443, -2.82981723, -3.17214349, -3.12259201, -3.22870735],\n",
       "       [ 0.55088098,  0.47449972,  0.46119794,  0.51393896,  0.1508451 ]]), -2.0045124502625358),(array([[-2.88738015, -3.21993925, -3.21631699, -3.3607341 , -3.0463166 ],\n",
       "       [ 0.03217689, -0.13231745, -0.23705328, -0.27559188, -0.488257  ]]), -2.1298054276182135)...]"
      ]
     },
     "execution_count": 33,
     "metadata": {
      "tags": []
     },
     "output_type": "execute_result"
    }
   ],
   "source": [
    "window_length = 5\n",
    "stride = None\n",
    "n_vars = 3\n",
    "\n",
    "t = (np.random.rand(1000, n_vars) - .5).cumsum(0)\n",
    "print(t.shape)\n",
    "plt.plot(t)\n",
    "plt.show()\n",
    "X, y = SlidingWindow(window_length, stride=stride, get_x=[0,1], get_y=2)(t)\n",
    "itemify(X, y)"
   ]
  },
  {
   "cell_type": "code",
   "execution_count": 34,
   "metadata": {
    "colab": {
     "base_uri": "https://localhost:8080/",
     "height": 614
    },
    "hidden": true,
    "id": "McfdJsQrmFYu",
    "outputId": "96512d8f-156f-44f4-f3b8-8100d818e156"
   },
   "outputs": [
    {
     "name": "stdout",
     "output_type": "stream",
     "text": [
      "input shape: (10, 3)\n"
     ]
    },
    {
     "data": {
      "text/html": [
       "<div>\n",
       "<style scoped>\n",
       "    .dataframe tbody tr th:only-of-type {\n",
       "        vertical-align: middle;\n",
       "    }\n",
       "\n",
       "    .dataframe tbody tr th {\n",
       "        vertical-align: top;\n",
       "    }\n",
       "\n",
       "    .dataframe thead th {\n",
       "        text-align: right;\n",
       "    }\n",
       "</style>\n",
       "<table border=\"1\" class=\"dataframe\">\n",
       "  <thead>\n",
       "    <tr style=\"text-align: right;\">\n",
       "      <th></th>\n",
       "      <th>var_0</th>\n",
       "      <th>var_1</th>\n",
       "      <th>var_2</th>\n",
       "    </tr>\n",
       "  </thead>\n",
       "  <tbody>\n",
       "    <tr>\n",
       "      <th>0</th>\n",
       "      <td>0</td>\n",
       "      <td>0</td>\n",
       "      <td>0</td>\n",
       "    </tr>\n",
       "    <tr>\n",
       "      <th>1</th>\n",
       "      <td>1</td>\n",
       "      <td>10</td>\n",
       "      <td>100</td>\n",
       "    </tr>\n",
       "    <tr>\n",
       "      <th>2</th>\n",
       "      <td>2</td>\n",
       "      <td>20</td>\n",
       "      <td>200</td>\n",
       "    </tr>\n",
       "    <tr>\n",
       "      <th>3</th>\n",
       "      <td>3</td>\n",
       "      <td>30</td>\n",
       "      <td>300</td>\n",
       "    </tr>\n",
       "    <tr>\n",
       "      <th>4</th>\n",
       "      <td>4</td>\n",
       "      <td>40</td>\n",
       "      <td>400</td>\n",
       "    </tr>\n",
       "    <tr>\n",
       "      <th>5</th>\n",
       "      <td>5</td>\n",
       "      <td>50</td>\n",
       "      <td>500</td>\n",
       "    </tr>\n",
       "    <tr>\n",
       "      <th>6</th>\n",
       "      <td>6</td>\n",
       "      <td>60</td>\n",
       "      <td>600</td>\n",
       "    </tr>\n",
       "    <tr>\n",
       "      <th>7</th>\n",
       "      <td>7</td>\n",
       "      <td>70</td>\n",
       "      <td>700</td>\n",
       "    </tr>\n",
       "    <tr>\n",
       "      <th>8</th>\n",
       "      <td>8</td>\n",
       "      <td>80</td>\n",
       "      <td>800</td>\n",
       "    </tr>\n",
       "    <tr>\n",
       "      <th>9</th>\n",
       "      <td>9</td>\n",
       "      <td>90</td>\n",
       "      <td>900</td>\n",
       "    </tr>\n",
       "  </tbody>\n",
       "</table>\n",
       "</div>"
      ],
      "text/plain": [
       "   var_0  var_1  var_2\n",
       "0      0      0      0\n",
       "1      1     10    100\n",
       "2      2     20    200\n",
       "3      3     30    300\n",
       "4      4     40    400\n",
       "5      5     50    500\n",
       "6      6     60    600\n",
       "7      7     70    700\n",
       "8      8     80    800\n",
       "9      9     90    900"
      ]
     },
     "metadata": {
      "tags": []
     },
     "output_type": "display_data"
    },
    {
     "data": {
      "text/plain": [
       "(#6) [(array([[  0,   1,   2,   3,   4],\n",
       "       [  0,  10,  20,  30,  40],\n",
       "       [  0, 100, 200, 300, 400]]),),(array([[  1,   2,   3,   4,   5],\n",
       "       [ 10,  20,  30,  40,  50],\n",
       "       [100, 200, 300, 400, 500]]),),(array([[  2,   3,   4,   5,   6],\n",
       "       [ 20,  30,  40,  50,  60],\n",
       "       [200, 300, 400, 500, 600]]),),(array([[  3,   4,   5,   6,   7],\n",
       "       [ 30,  40,  50,  60,  70],\n",
       "       [300, 400, 500, 600, 700]]),),(array([[  4,   5,   6,   7,   8],\n",
       "       [ 40,  50,  60,  70,  80],\n",
       "       [400, 500, 600, 700, 800]]),),(array([[  5,   6,   7,   8,   9],\n",
       "       [ 50,  60,  70,  80,  90],\n",
       "       [500, 600, 700, 800, 900]]),)]"
      ]
     },
     "execution_count": 34,
     "metadata": {
      "tags": []
     },
     "output_type": "execute_result"
    }
   ],
   "source": [
    "window_length = 5\n",
    "n_vars = 3\n",
    "\n",
    "t = (torch.stack(n_vars * [torch.arange(10)]).T * tensor([1, 10, 100]))\n",
    "df = pd.DataFrame(t, columns=[f'var_{i}' for i in range(n_vars)])\n",
    "print('input shape:', df.shape)\n",
    "display(df)\n",
    "X, y = SlidingWindow(window_length)(df)\n",
    "itemify(X, y)"
   ]
  },
  {
   "cell_type": "code",
   "execution_count": 35,
   "metadata": {
    "colab": {
     "base_uri": "https://localhost:8080/",
     "height": 578
    },
    "hidden": true,
    "id": "LtnyzykGmFY3",
    "outputId": "67b85caa-39b3-4047-c17f-ad3d7546a9cc"
   },
   "outputs": [
    {
     "name": "stdout",
     "output_type": "stream",
     "text": [
      "input shape: (10, 3)\n"
     ]
    },
    {
     "data": {
      "text/html": [
       "<div>\n",
       "<style scoped>\n",
       "    .dataframe tbody tr th:only-of-type {\n",
       "        vertical-align: middle;\n",
       "    }\n",
       "\n",
       "    .dataframe tbody tr th {\n",
       "        vertical-align: top;\n",
       "    }\n",
       "\n",
       "    .dataframe thead th {\n",
       "        text-align: right;\n",
       "    }\n",
       "</style>\n",
       "<table border=\"1\" class=\"dataframe\">\n",
       "  <thead>\n",
       "    <tr style=\"text-align: right;\">\n",
       "      <th></th>\n",
       "      <th>var_0</th>\n",
       "      <th>var_1</th>\n",
       "      <th>var_2</th>\n",
       "    </tr>\n",
       "  </thead>\n",
       "  <tbody>\n",
       "    <tr>\n",
       "      <th>0</th>\n",
       "      <td>0</td>\n",
       "      <td>0</td>\n",
       "      <td>0</td>\n",
       "    </tr>\n",
       "    <tr>\n",
       "      <th>1</th>\n",
       "      <td>1</td>\n",
       "      <td>10</td>\n",
       "      <td>100</td>\n",
       "    </tr>\n",
       "    <tr>\n",
       "      <th>2</th>\n",
       "      <td>2</td>\n",
       "      <td>20</td>\n",
       "      <td>200</td>\n",
       "    </tr>\n",
       "    <tr>\n",
       "      <th>3</th>\n",
       "      <td>3</td>\n",
       "      <td>30</td>\n",
       "      <td>300</td>\n",
       "    </tr>\n",
       "    <tr>\n",
       "      <th>4</th>\n",
       "      <td>4</td>\n",
       "      <td>40</td>\n",
       "      <td>400</td>\n",
       "    </tr>\n",
       "    <tr>\n",
       "      <th>5</th>\n",
       "      <td>5</td>\n",
       "      <td>50</td>\n",
       "      <td>500</td>\n",
       "    </tr>\n",
       "    <tr>\n",
       "      <th>6</th>\n",
       "      <td>6</td>\n",
       "      <td>60</td>\n",
       "      <td>600</td>\n",
       "    </tr>\n",
       "    <tr>\n",
       "      <th>7</th>\n",
       "      <td>7</td>\n",
       "      <td>70</td>\n",
       "      <td>700</td>\n",
       "    </tr>\n",
       "    <tr>\n",
       "      <th>8</th>\n",
       "      <td>8</td>\n",
       "      <td>80</td>\n",
       "      <td>800</td>\n",
       "    </tr>\n",
       "    <tr>\n",
       "      <th>9</th>\n",
       "      <td>9</td>\n",
       "      <td>90</td>\n",
       "      <td>900</td>\n",
       "    </tr>\n",
       "  </tbody>\n",
       "</table>\n",
       "</div>"
      ],
      "text/plain": [
       "   var_0  var_1  var_2\n",
       "0      0      0      0\n",
       "1      1     10    100\n",
       "2      2     20    200\n",
       "3      3     30    300\n",
       "4      4     40    400\n",
       "5      5     50    500\n",
       "6      6     60    600\n",
       "7      7     70    700\n",
       "8      8     80    800\n",
       "9      9     90    900"
      ]
     },
     "metadata": {
      "tags": []
     },
     "output_type": "display_data"
    },
    {
     "data": {
      "text/plain": [
       "(#5) [(array([[  0,   1,   2,   3,   4],\n",
       "       [  0,  10,  20,  30,  40],\n",
       "       [  0, 100, 200, 300, 400]]), array([  5,  50, 500])),(array([[  1,   2,   3,   4,   5],\n",
       "       [ 10,  20,  30,  40,  50],\n",
       "       [100, 200, 300, 400, 500]]), array([  6,  60, 600])),(array([[  2,   3,   4,   5,   6],\n",
       "       [ 20,  30,  40,  50,  60],\n",
       "       [200, 300, 400, 500, 600]]), array([  7,  70, 700])),(array([[  3,   4,   5,   6,   7],\n",
       "       [ 30,  40,  50,  60,  70],\n",
       "       [300, 400, 500, 600, 700]]), array([  8,  80, 800])),(array([[  4,   5,   6,   7,   8],\n",
       "       [ 40,  50,  60,  70,  80],\n",
       "       [400, 500, 600, 700, 800]]), array([  9,  90, 900]))]"
      ]
     },
     "execution_count": 35,
     "metadata": {
      "tags": []
     },
     "output_type": "execute_result"
    }
   ],
   "source": [
    "window_length = 5\n",
    "n_vars = 3\n",
    "horizon = 1\n",
    "\n",
    "t = (torch.stack(n_vars * [torch.arange(10)]).T * tensor([1, 10, 100]))\n",
    "df = pd.DataFrame(t, columns=[f'var_{i}' for i in range(n_vars)])\n",
    "print('input shape:', df.shape)\n",
    "display(df)\n",
    "X, y = SlidingWindow(window_length, horizon=horizon)(df)\n",
    "itemify(X, y)"
   ]
  },
  {
   "cell_type": "markdown",
   "metadata": {
    "hidden": true,
    "id": "Z-bcD2ZMmFZB"
   },
   "source": [
    "You may also get the target from a different column: "
   ]
  },
  {
   "cell_type": "code",
   "execution_count": 36,
   "metadata": {
    "colab": {
     "base_uri": "https://localhost:8080/",
     "height": 506
    },
    "hidden": true,
    "id": "f0AjQV1MmFZD",
    "outputId": "7839b210-c69e-4fd4-bcd3-03bc2a21a03b"
   },
   "outputs": [
    {
     "name": "stdout",
     "output_type": "stream",
     "text": [
      "input shape: (10, 3)\n"
     ]
    },
    {
     "data": {
      "text/html": [
       "<div>\n",
       "<style scoped>\n",
       "    .dataframe tbody tr th:only-of-type {\n",
       "        vertical-align: middle;\n",
       "    }\n",
       "\n",
       "    .dataframe tbody tr th {\n",
       "        vertical-align: top;\n",
       "    }\n",
       "\n",
       "    .dataframe thead th {\n",
       "        text-align: right;\n",
       "    }\n",
       "</style>\n",
       "<table border=\"1\" class=\"dataframe\">\n",
       "  <thead>\n",
       "    <tr style=\"text-align: right;\">\n",
       "      <th></th>\n",
       "      <th>var_0</th>\n",
       "      <th>var_1</th>\n",
       "      <th>target</th>\n",
       "    </tr>\n",
       "  </thead>\n",
       "  <tbody>\n",
       "    <tr>\n",
       "      <th>0</th>\n",
       "      <td>0</td>\n",
       "      <td>0</td>\n",
       "      <td>0</td>\n",
       "    </tr>\n",
       "    <tr>\n",
       "      <th>1</th>\n",
       "      <td>1</td>\n",
       "      <td>10</td>\n",
       "      <td>100</td>\n",
       "    </tr>\n",
       "    <tr>\n",
       "      <th>2</th>\n",
       "      <td>2</td>\n",
       "      <td>20</td>\n",
       "      <td>200</td>\n",
       "    </tr>\n",
       "    <tr>\n",
       "      <th>3</th>\n",
       "      <td>3</td>\n",
       "      <td>30</td>\n",
       "      <td>300</td>\n",
       "    </tr>\n",
       "    <tr>\n",
       "      <th>4</th>\n",
       "      <td>4</td>\n",
       "      <td>40</td>\n",
       "      <td>400</td>\n",
       "    </tr>\n",
       "    <tr>\n",
       "      <th>5</th>\n",
       "      <td>5</td>\n",
       "      <td>50</td>\n",
       "      <td>500</td>\n",
       "    </tr>\n",
       "    <tr>\n",
       "      <th>6</th>\n",
       "      <td>6</td>\n",
       "      <td>60</td>\n",
       "      <td>600</td>\n",
       "    </tr>\n",
       "    <tr>\n",
       "      <th>7</th>\n",
       "      <td>7</td>\n",
       "      <td>70</td>\n",
       "      <td>700</td>\n",
       "    </tr>\n",
       "    <tr>\n",
       "      <th>8</th>\n",
       "      <td>8</td>\n",
       "      <td>80</td>\n",
       "      <td>800</td>\n",
       "    </tr>\n",
       "    <tr>\n",
       "      <th>9</th>\n",
       "      <td>9</td>\n",
       "      <td>90</td>\n",
       "      <td>900</td>\n",
       "    </tr>\n",
       "  </tbody>\n",
       "</table>\n",
       "</div>"
      ],
      "text/plain": [
       "   var_0  var_1  target\n",
       "0      0      0       0\n",
       "1      1     10     100\n",
       "2      2     20     200\n",
       "3      3     30     300\n",
       "4      4     40     400\n",
       "5      5     50     500\n",
       "6      6     60     600\n",
       "7      7     70     700\n",
       "8      8     80     800\n",
       "9      9     90     900"
      ]
     },
     "metadata": {
      "tags": []
     },
     "output_type": "display_data"
    },
    {
     "data": {
      "text/plain": [
       "(#6) [(array([[ 0,  1,  2,  3,  4],\n",
       "       [ 0, 10, 20, 30, 40]]), 400),(array([[ 1,  2,  3,  4,  5],\n",
       "       [10, 20, 30, 40, 50]]), 500),(array([[ 2,  3,  4,  5,  6],\n",
       "       [20, 30, 40, 50, 60]]), 600),(array([[ 3,  4,  5,  6,  7],\n",
       "       [30, 40, 50, 60, 70]]), 700),(array([[ 4,  5,  6,  7,  8],\n",
       "       [40, 50, 60, 70, 80]]), 800),(array([[ 5,  6,  7,  8,  9],\n",
       "       [50, 60, 70, 80, 90]]), 900)]"
      ]
     },
     "execution_count": 36,
     "metadata": {
      "tags": []
     },
     "output_type": "execute_result"
    }
   ],
   "source": [
    "window_length = 5\n",
    "n_vars = 3\n",
    "\n",
    "t = (torch.stack(n_vars * [torch.arange(10)]).T * tensor([1, 10, 100]))\n",
    "columns=[f'var_{i}' for i in range(n_vars-1)]+['target']\n",
    "df = pd.DataFrame(t, columns=columns)\n",
    "print('input shape:', df.shape)\n",
    "display(df)\n",
    "X, y = SlidingWindow(window_length, get_x=columns[:-1], get_y='target')(df)\n",
    "itemify(X, y)"
   ]
  },
  {
   "cell_type": "code",
   "execution_count": 37,
   "metadata": {
    "colab": {
     "base_uri": "https://localhost:8080/",
     "height": 668
    },
    "hidden": true,
    "id": "ANVEmhZNmFZN",
    "outputId": "8337ab4e-a273-4117-fe6a-c7446041fb51"
   },
   "outputs": [
    {
     "name": "stdout",
     "output_type": "stream",
     "text": [
      "input shape: (10, 5)\n"
     ]
    },
    {
     "data": {
      "text/html": [
       "<div>\n",
       "<style scoped>\n",
       "    .dataframe tbody tr th:only-of-type {\n",
       "        vertical-align: middle;\n",
       "    }\n",
       "\n",
       "    .dataframe tbody tr th {\n",
       "        vertical-align: top;\n",
       "    }\n",
       "\n",
       "    .dataframe thead th {\n",
       "        text-align: right;\n",
       "    }\n",
       "</style>\n",
       "<table border=\"1\" class=\"dataframe\">\n",
       "  <thead>\n",
       "    <tr style=\"text-align: right;\">\n",
       "      <th></th>\n",
       "      <th>var_0</th>\n",
       "      <th>var_1</th>\n",
       "      <th>var_2</th>\n",
       "      <th>var_3</th>\n",
       "      <th>target</th>\n",
       "    </tr>\n",
       "  </thead>\n",
       "  <tbody>\n",
       "    <tr>\n",
       "      <th>0</th>\n",
       "      <td>0</td>\n",
       "      <td>0</td>\n",
       "      <td>0</td>\n",
       "      <td>0</td>\n",
       "      <td>0</td>\n",
       "    </tr>\n",
       "    <tr>\n",
       "      <th>1</th>\n",
       "      <td>1</td>\n",
       "      <td>10</td>\n",
       "      <td>100</td>\n",
       "      <td>1000</td>\n",
       "      <td>10000</td>\n",
       "    </tr>\n",
       "    <tr>\n",
       "      <th>2</th>\n",
       "      <td>2</td>\n",
       "      <td>20</td>\n",
       "      <td>200</td>\n",
       "      <td>2000</td>\n",
       "      <td>20000</td>\n",
       "    </tr>\n",
       "    <tr>\n",
       "      <th>3</th>\n",
       "      <td>3</td>\n",
       "      <td>30</td>\n",
       "      <td>300</td>\n",
       "      <td>3000</td>\n",
       "      <td>30000</td>\n",
       "    </tr>\n",
       "    <tr>\n",
       "      <th>4</th>\n",
       "      <td>4</td>\n",
       "      <td>40</td>\n",
       "      <td>400</td>\n",
       "      <td>4000</td>\n",
       "      <td>40000</td>\n",
       "    </tr>\n",
       "    <tr>\n",
       "      <th>5</th>\n",
       "      <td>5</td>\n",
       "      <td>50</td>\n",
       "      <td>500</td>\n",
       "      <td>5000</td>\n",
       "      <td>50000</td>\n",
       "    </tr>\n",
       "    <tr>\n",
       "      <th>6</th>\n",
       "      <td>6</td>\n",
       "      <td>60</td>\n",
       "      <td>600</td>\n",
       "      <td>6000</td>\n",
       "      <td>60000</td>\n",
       "    </tr>\n",
       "    <tr>\n",
       "      <th>7</th>\n",
       "      <td>7</td>\n",
       "      <td>70</td>\n",
       "      <td>700</td>\n",
       "      <td>7000</td>\n",
       "      <td>70000</td>\n",
       "    </tr>\n",
       "    <tr>\n",
       "      <th>8</th>\n",
       "      <td>8</td>\n",
       "      <td>80</td>\n",
       "      <td>800</td>\n",
       "      <td>8000</td>\n",
       "      <td>80000</td>\n",
       "    </tr>\n",
       "    <tr>\n",
       "      <th>9</th>\n",
       "      <td>9</td>\n",
       "      <td>90</td>\n",
       "      <td>900</td>\n",
       "      <td>9000</td>\n",
       "      <td>90000</td>\n",
       "    </tr>\n",
       "  </tbody>\n",
       "</table>\n",
       "</div>"
      ],
      "text/plain": [
       "   var_0  var_1  var_2  var_3  target\n",
       "0      0      0      0      0       0\n",
       "1      1     10    100   1000   10000\n",
       "2      2     20    200   2000   20000\n",
       "3      3     30    300   3000   30000\n",
       "4      4     40    400   4000   40000\n",
       "5      5     50    500   5000   50000\n",
       "6      6     60    600   6000   60000\n",
       "7      7     70    700   7000   70000\n",
       "8      8     80    800   8000   80000\n",
       "9      9     90    900   9000   90000"
      ]
     },
     "metadata": {
      "tags": []
     },
     "output_type": "display_data"
    },
    {
     "data": {
      "text/plain": [
       "(#5) [(array([[   0,    1,    2,    3,    4],\n",
       "       [   0,   10,   20,   30,   40],\n",
       "       [   0,  100,  200,  300,  400],\n",
       "       [   0, 1000, 2000, 3000, 4000]]), 50000),(array([[   1,    2,    3,    4,    5],\n",
       "       [  10,   20,   30,   40,   50],\n",
       "       [ 100,  200,  300,  400,  500],\n",
       "       [1000, 2000, 3000, 4000, 5000]]), 60000),(array([[   2,    3,    4,    5,    6],\n",
       "       [  20,   30,   40,   50,   60],\n",
       "       [ 200,  300,  400,  500,  600],\n",
       "       [2000, 3000, 4000, 5000, 6000]]), 70000),(array([[   3,    4,    5,    6,    7],\n",
       "       [  30,   40,   50,   60,   70],\n",
       "       [ 300,  400,  500,  600,  700],\n",
       "       [3000, 4000, 5000, 6000, 7000]]), 80000),(array([[   4,    5,    6,    7,    8],\n",
       "       [  40,   50,   60,   70,   80],\n",
       "       [ 400,  500,  600,  700,  800],\n",
       "       [4000, 5000, 6000, 7000, 8000]]), 90000)]"
      ]
     },
     "execution_count": 37,
     "metadata": {
      "tags": []
     },
     "output_type": "execute_result"
    }
   ],
   "source": [
    "window_length = 5\n",
    "n_vars = 5\n",
    "horizon = 1\n",
    "\n",
    "t = (torch.stack(n_vars * [torch.arange(10)]).T * tensor([10**i for i in range(n_vars)]))\n",
    "columns=[f'var_{i}' for i in range(n_vars-1)]+['target']\n",
    "df = pd.DataFrame(t, columns=columns)\n",
    "print('input shape:', df.shape)\n",
    "display(df)\n",
    "X, y = SlidingWindow(window_length, horizon=horizon, get_x=columns[:-1], get_y='target')(df)\n",
    "itemify(X, y)"
   ]
  },
  {
   "cell_type": "code",
   "execution_count": 38,
   "metadata": {
    "colab": {
     "base_uri": "https://localhost:8080/",
     "height": 480
    },
    "hidden": true,
    "id": "dg-w8vzbmFZU",
    "outputId": "d4e76832-e923-4878-f844-704f0a4a5126"
   },
   "outputs": [
    {
     "name": "stdout",
     "output_type": "stream",
     "text": [
      "input shape: (100, 5)\n"
     ]
    },
    {
     "data": {
      "text/html": [
       "<div>\n",
       "<style scoped>\n",
       "    .dataframe tbody tr th:only-of-type {\n",
       "        vertical-align: middle;\n",
       "    }\n",
       "\n",
       "    .dataframe tbody tr th {\n",
       "        vertical-align: top;\n",
       "    }\n",
       "\n",
       "    .dataframe thead th {\n",
       "        text-align: right;\n",
       "    }\n",
       "</style>\n",
       "<table border=\"1\" class=\"dataframe\">\n",
       "  <thead>\n",
       "    <tr style=\"text-align: right;\">\n",
       "      <th></th>\n",
       "      <th>var_0</th>\n",
       "      <th>var_1</th>\n",
       "      <th>var_2</th>\n",
       "      <th>var_3</th>\n",
       "      <th>target</th>\n",
       "    </tr>\n",
       "  </thead>\n",
       "  <tbody>\n",
       "    <tr>\n",
       "      <th>0</th>\n",
       "      <td>0.012272</td>\n",
       "      <td>-0.368561</td>\n",
       "      <td>-0.038994</td>\n",
       "      <td>-0.212032</td>\n",
       "      <td>1.0</td>\n",
       "    </tr>\n",
       "    <tr>\n",
       "      <th>1</th>\n",
       "      <td>0.076306</td>\n",
       "      <td>-0.347378</td>\n",
       "      <td>-0.181533</td>\n",
       "      <td>-0.521531</td>\n",
       "      <td>2.0</td>\n",
       "    </tr>\n",
       "    <tr>\n",
       "      <th>2</th>\n",
       "      <td>-0.051766</td>\n",
       "      <td>-0.419988</td>\n",
       "      <td>0.091814</td>\n",
       "      <td>-0.303610</td>\n",
       "      <td>6.0</td>\n",
       "    </tr>\n",
       "    <tr>\n",
       "      <th>3</th>\n",
       "      <td>0.297414</td>\n",
       "      <td>-0.742169</td>\n",
       "      <td>0.069861</td>\n",
       "      <td>-0.470020</td>\n",
       "      <td>4.0</td>\n",
       "    </tr>\n",
       "    <tr>\n",
       "      <th>4</th>\n",
       "      <td>0.173162</td>\n",
       "      <td>-0.858808</td>\n",
       "      <td>-0.283826</td>\n",
       "      <td>-0.118056</td>\n",
       "      <td>0.0</td>\n",
       "    </tr>\n",
       "    <tr>\n",
       "      <th>...</th>\n",
       "      <td>...</td>\n",
       "      <td>...</td>\n",
       "      <td>...</td>\n",
       "      <td>...</td>\n",
       "      <td>...</td>\n",
       "    </tr>\n",
       "    <tr>\n",
       "      <th>95</th>\n",
       "      <td>4.477322</td>\n",
       "      <td>1.781465</td>\n",
       "      <td>0.096184</td>\n",
       "      <td>-1.250533</td>\n",
       "      <td>7.0</td>\n",
       "    </tr>\n",
       "    <tr>\n",
       "      <th>96</th>\n",
       "      <td>4.920610</td>\n",
       "      <td>2.067113</td>\n",
       "      <td>0.590796</td>\n",
       "      <td>-1.030684</td>\n",
       "      <td>3.0</td>\n",
       "    </tr>\n",
       "    <tr>\n",
       "      <th>97</th>\n",
       "      <td>4.668664</td>\n",
       "      <td>1.572308</td>\n",
       "      <td>0.923680</td>\n",
       "      <td>-0.745484</td>\n",
       "      <td>5.0</td>\n",
       "    </tr>\n",
       "    <tr>\n",
       "      <th>98</th>\n",
       "      <td>5.022498</td>\n",
       "      <td>1.185238</td>\n",
       "      <td>0.801212</td>\n",
       "      <td>-0.777268</td>\n",
       "      <td>6.0</td>\n",
       "    </tr>\n",
       "    <tr>\n",
       "      <th>99</th>\n",
       "      <td>4.644793</td>\n",
       "      <td>0.955435</td>\n",
       "      <td>0.580527</td>\n",
       "      <td>-1.040355</td>\n",
       "      <td>8.0</td>\n",
       "    </tr>\n",
       "  </tbody>\n",
       "</table>\n",
       "<p>100 rows × 5 columns</p>\n",
       "</div>"
      ],
      "text/plain": [
       "       var_0     var_1     var_2     var_3  target\n",
       "0   0.012272 -0.368561 -0.038994 -0.212032     1.0\n",
       "1   0.076306 -0.347378 -0.181533 -0.521531     2.0\n",
       "2  -0.051766 -0.419988  0.091814 -0.303610     6.0\n",
       "3   0.297414 -0.742169  0.069861 -0.470020     4.0\n",
       "4   0.173162 -0.858808 -0.283826 -0.118056     0.0\n",
       "..       ...       ...       ...       ...     ...\n",
       "95  4.477322  1.781465  0.096184 -1.250533     7.0\n",
       "96  4.920610  2.067113  0.590796 -1.030684     3.0\n",
       "97  4.668664  1.572308  0.923680 -0.745484     5.0\n",
       "98  5.022498  1.185238  0.801212 -0.777268     6.0\n",
       "99  4.644793  0.955435  0.580527 -1.040355     8.0\n",
       "\n",
       "[100 rows x 5 columns]"
      ]
     },
     "metadata": {
      "tags": []
     },
     "output_type": "display_data"
    },
    {
     "data": {
      "text/plain": [
       "(#96) [(TSTensor(vars:4, len:4), TensorCategory(0)),(TSTensor(vars:4, len:4), TensorCategory(9)),(TSTensor(vars:4, len:4), TensorCategory(6)),(TSTensor(vars:4, len:4), TensorCategory(5)),(TSTensor(vars:4, len:4), TensorCategory(4)),(TSTensor(vars:4, len:4), TensorCategory(3)),(TSTensor(vars:4, len:4), TensorCategory(3)),(TSTensor(vars:4, len:4), TensorCategory(5)),(TSTensor(vars:4, len:4), TensorCategory(8)),(TSTensor(vars:4, len:4), TensorCategory(2))...]"
      ]
     },
     "execution_count": 38,
     "metadata": {
      "tags": []
     },
     "output_type": "execute_result"
    }
   ],
   "source": [
    "window_length = 4\n",
    "n_vars = 5\n",
    "seq_len = 100\n",
    "horizon = 1\n",
    "\n",
    "t1 = (np.random.rand(seq_len, n_vars-1) - .5).cumsum(0)\n",
    "t2 = np.random.randint(0, 10, (seq_len,1))\n",
    "t = np.concatenate((t1, t2), axis=-1)\n",
    "columns=[f'var_{i}' for i in range(n_vars-1)]+['target']\n",
    "df = pd.DataFrame(t, columns=columns)\n",
    "print('input shape:', df.shape)\n",
    "display(df)\n",
    "X, y = SlidingWindow(window_length, horizon=horizon, get_x=columns[:-1], get_y='target')(df)\n",
    "splits = get_splits(y, valid_size=.2, stratify=True, random_state=23, shuffle=False)\n",
    "tfms  = [None, [Categorize()]]\n",
    "dsets = TSDatasets(X, y, tfms=tfms, splits=splits, inplace=True)\n",
    "dsets"
   ]
  },
  {
   "cell_type": "code",
   "execution_count": 39,
   "metadata": {
    "colab": {
     "base_uri": "https://localhost:8080/"
    },
    "hidden": true,
    "id": "nyCFRPzTmFZf",
    "outputId": "d445b42c-5b20-41b6-ac31-2c285f7fd600"
   },
   "outputs": [
    {
     "data": {
      "text/plain": [
       "(tensor([[ 0.0123,  0.0763, -0.0518,  0.2974],\n",
       "         [-0.3686, -0.3474, -0.4200, -0.7422],\n",
       "         [-0.0390, -0.1815,  0.0918,  0.0699],\n",
       "         [-0.2120, -0.5215, -0.3036, -0.4700]]), tensor(0))"
      ]
     },
     "execution_count": 39,
     "metadata": {
      "tags": []
     },
     "output_type": "execute_result"
    }
   ],
   "source": [
    "dsets[0][0].data, dsets[0][1].data"
   ]
  },
  {
   "cell_type": "code",
   "execution_count": 40,
   "metadata": {
    "colab": {
     "base_uri": "https://localhost:8080/",
     "height": 292
    },
    "hidden": true,
    "id": "jPrLW1btmFZq",
    "outputId": "d28d1701-57e3-4f3f-d7a2-2f7f4bcb983e",
    "scrolled": false
   },
   "outputs": [
    {
     "name": "stdout",
     "output_type": "stream",
     "text": [
      "input shape: (5, 100)\n"
     ]
    },
    {
     "data": {
      "text/html": [
       "<div>\n",
       "<style scoped>\n",
       "    .dataframe tbody tr th:only-of-type {\n",
       "        vertical-align: middle;\n",
       "    }\n",
       "\n",
       "    .dataframe tbody tr th {\n",
       "        vertical-align: top;\n",
       "    }\n",
       "\n",
       "    .dataframe thead th {\n",
       "        text-align: right;\n",
       "    }\n",
       "</style>\n",
       "<table border=\"1\" class=\"dataframe\">\n",
       "  <thead>\n",
       "    <tr style=\"text-align: right;\">\n",
       "      <th></th>\n",
       "      <th>0</th>\n",
       "      <th>1</th>\n",
       "      <th>2</th>\n",
       "      <th>3</th>\n",
       "      <th>4</th>\n",
       "      <th>5</th>\n",
       "      <th>6</th>\n",
       "      <th>7</th>\n",
       "      <th>8</th>\n",
       "      <th>9</th>\n",
       "      <th>10</th>\n",
       "      <th>11</th>\n",
       "      <th>12</th>\n",
       "      <th>13</th>\n",
       "      <th>14</th>\n",
       "      <th>15</th>\n",
       "      <th>16</th>\n",
       "      <th>17</th>\n",
       "      <th>18</th>\n",
       "      <th>19</th>\n",
       "      <th>20</th>\n",
       "      <th>21</th>\n",
       "      <th>22</th>\n",
       "      <th>23</th>\n",
       "      <th>24</th>\n",
       "      <th>25</th>\n",
       "      <th>26</th>\n",
       "      <th>27</th>\n",
       "      <th>28</th>\n",
       "      <th>29</th>\n",
       "      <th>30</th>\n",
       "      <th>31</th>\n",
       "      <th>32</th>\n",
       "      <th>33</th>\n",
       "      <th>34</th>\n",
       "      <th>35</th>\n",
       "      <th>36</th>\n",
       "      <th>37</th>\n",
       "      <th>38</th>\n",
       "      <th>39</th>\n",
       "      <th>...</th>\n",
       "      <th>60</th>\n",
       "      <th>61</th>\n",
       "      <th>62</th>\n",
       "      <th>63</th>\n",
       "      <th>64</th>\n",
       "      <th>65</th>\n",
       "      <th>66</th>\n",
       "      <th>67</th>\n",
       "      <th>68</th>\n",
       "      <th>69</th>\n",
       "      <th>70</th>\n",
       "      <th>71</th>\n",
       "      <th>72</th>\n",
       "      <th>73</th>\n",
       "      <th>74</th>\n",
       "      <th>75</th>\n",
       "      <th>76</th>\n",
       "      <th>77</th>\n",
       "      <th>78</th>\n",
       "      <th>79</th>\n",
       "      <th>80</th>\n",
       "      <th>81</th>\n",
       "      <th>82</th>\n",
       "      <th>83</th>\n",
       "      <th>84</th>\n",
       "      <th>85</th>\n",
       "      <th>86</th>\n",
       "      <th>87</th>\n",
       "      <th>88</th>\n",
       "      <th>89</th>\n",
       "      <th>90</th>\n",
       "      <th>91</th>\n",
       "      <th>92</th>\n",
       "      <th>93</th>\n",
       "      <th>94</th>\n",
       "      <th>95</th>\n",
       "      <th>96</th>\n",
       "      <th>97</th>\n",
       "      <th>98</th>\n",
       "      <th>99</th>\n",
       "    </tr>\n",
       "  </thead>\n",
       "  <tbody>\n",
       "    <tr>\n",
       "      <th>var_0</th>\n",
       "      <td>0.102828</td>\n",
       "      <td>-0.393031</td>\n",
       "      <td>-0.177555</td>\n",
       "      <td>0.181165</td>\n",
       "      <td>0.048380</td>\n",
       "      <td>0.248350</td>\n",
       "      <td>0.712825</td>\n",
       "      <td>0.535518</td>\n",
       "      <td>0.198674</td>\n",
       "      <td>0.384046</td>\n",
       "      <td>0.837034</td>\n",
       "      <td>0.580614</td>\n",
       "      <td>0.866637</td>\n",
       "      <td>1.321084</td>\n",
       "      <td>1.386822</td>\n",
       "      <td>1.812789</td>\n",
       "      <td>1.822079</td>\n",
       "      <td>1.678264</td>\n",
       "      <td>1.649465</td>\n",
       "      <td>1.367185</td>\n",
       "      <td>1.686672</td>\n",
       "      <td>1.916455</td>\n",
       "      <td>1.839325</td>\n",
       "      <td>2.006578</td>\n",
       "      <td>1.655683</td>\n",
       "      <td>2.087045</td>\n",
       "      <td>2.054647</td>\n",
       "      <td>2.423306</td>\n",
       "      <td>2.693746</td>\n",
       "      <td>2.830236</td>\n",
       "      <td>2.544532</td>\n",
       "      <td>2.854320</td>\n",
       "      <td>2.375457</td>\n",
       "      <td>2.263381</td>\n",
       "      <td>2.059619</td>\n",
       "      <td>2.149001</td>\n",
       "      <td>2.051583</td>\n",
       "      <td>2.216335</td>\n",
       "      <td>2.236217</td>\n",
       "      <td>2.224508</td>\n",
       "      <td>...</td>\n",
       "      <td>2.723350</td>\n",
       "      <td>2.382722</td>\n",
       "      <td>2.165930</td>\n",
       "      <td>2.227705</td>\n",
       "      <td>1.849964</td>\n",
       "      <td>1.770114</td>\n",
       "      <td>2.029360</td>\n",
       "      <td>2.443883</td>\n",
       "      <td>2.550378</td>\n",
       "      <td>2.331953</td>\n",
       "      <td>2.037441</td>\n",
       "      <td>2.496359</td>\n",
       "      <td>2.643775</td>\n",
       "      <td>2.594521</td>\n",
       "      <td>2.755427</td>\n",
       "      <td>3.185048</td>\n",
       "      <td>3.555298</td>\n",
       "      <td>3.594320</td>\n",
       "      <td>3.403096</td>\n",
       "      <td>3.625465</td>\n",
       "      <td>3.396836</td>\n",
       "      <td>3.596167</td>\n",
       "      <td>4.068442</td>\n",
       "      <td>3.813916</td>\n",
       "      <td>3.582030</td>\n",
       "      <td>3.647997</td>\n",
       "      <td>3.305179</td>\n",
       "      <td>3.677399</td>\n",
       "      <td>4.127874</td>\n",
       "      <td>3.912800</td>\n",
       "      <td>3.690537</td>\n",
       "      <td>3.894584</td>\n",
       "      <td>4.233571</td>\n",
       "      <td>4.528758</td>\n",
       "      <td>4.214450</td>\n",
       "      <td>4.332464</td>\n",
       "      <td>4.471822</td>\n",
       "      <td>4.581812</td>\n",
       "      <td>4.468493</td>\n",
       "      <td>4.533295</td>\n",
       "    </tr>\n",
       "    <tr>\n",
       "      <th>var_1</th>\n",
       "      <td>-0.372265</td>\n",
       "      <td>-0.171719</td>\n",
       "      <td>-0.036888</td>\n",
       "      <td>0.001078</td>\n",
       "      <td>0.396705</td>\n",
       "      <td>-0.073430</td>\n",
       "      <td>0.039163</td>\n",
       "      <td>-0.253453</td>\n",
       "      <td>0.079428</td>\n",
       "      <td>0.229177</td>\n",
       "      <td>-0.117276</td>\n",
       "      <td>-0.025340</td>\n",
       "      <td>-0.476612</td>\n",
       "      <td>-0.276396</td>\n",
       "      <td>0.071749</td>\n",
       "      <td>-0.392578</td>\n",
       "      <td>-0.759337</td>\n",
       "      <td>-0.307967</td>\n",
       "      <td>-0.567546</td>\n",
       "      <td>-0.495930</td>\n",
       "      <td>-0.989953</td>\n",
       "      <td>-1.007693</td>\n",
       "      <td>-1.138709</td>\n",
       "      <td>-0.745491</td>\n",
       "      <td>-1.074410</td>\n",
       "      <td>-0.673935</td>\n",
       "      <td>-0.826295</td>\n",
       "      <td>-1.241890</td>\n",
       "      <td>-1.451512</td>\n",
       "      <td>-1.147955</td>\n",
       "      <td>-0.794634</td>\n",
       "      <td>-1.190397</td>\n",
       "      <td>-1.043648</td>\n",
       "      <td>-0.589300</td>\n",
       "      <td>-0.780641</td>\n",
       "      <td>-0.583177</td>\n",
       "      <td>-0.271200</td>\n",
       "      <td>-0.234350</td>\n",
       "      <td>-0.200276</td>\n",
       "      <td>-0.525554</td>\n",
       "      <td>...</td>\n",
       "      <td>-0.529735</td>\n",
       "      <td>-0.816092</td>\n",
       "      <td>-0.747203</td>\n",
       "      <td>-0.350709</td>\n",
       "      <td>0.135114</td>\n",
       "      <td>0.571033</td>\n",
       "      <td>0.432445</td>\n",
       "      <td>0.604454</td>\n",
       "      <td>0.839525</td>\n",
       "      <td>1.295095</td>\n",
       "      <td>1.282601</td>\n",
       "      <td>1.483706</td>\n",
       "      <td>1.440776</td>\n",
       "      <td>1.125998</td>\n",
       "      <td>1.510909</td>\n",
       "      <td>1.635219</td>\n",
       "      <td>1.396431</td>\n",
       "      <td>1.522728</td>\n",
       "      <td>1.787063</td>\n",
       "      <td>1.665690</td>\n",
       "      <td>1.610130</td>\n",
       "      <td>1.769990</td>\n",
       "      <td>1.586454</td>\n",
       "      <td>2.000974</td>\n",
       "      <td>1.742700</td>\n",
       "      <td>2.072321</td>\n",
       "      <td>2.324355</td>\n",
       "      <td>2.821673</td>\n",
       "      <td>2.639545</td>\n",
       "      <td>2.772563</td>\n",
       "      <td>2.431434</td>\n",
       "      <td>2.806784</td>\n",
       "      <td>2.538525</td>\n",
       "      <td>2.482464</td>\n",
       "      <td>2.843516</td>\n",
       "      <td>3.182216</td>\n",
       "      <td>3.165982</td>\n",
       "      <td>3.416382</td>\n",
       "      <td>3.830103</td>\n",
       "      <td>3.718441</td>\n",
       "    </tr>\n",
       "    <tr>\n",
       "      <th>var_2</th>\n",
       "      <td>0.148994</td>\n",
       "      <td>0.645277</td>\n",
       "      <td>0.878944</td>\n",
       "      <td>1.063070</td>\n",
       "      <td>0.853664</td>\n",
       "      <td>0.638564</td>\n",
       "      <td>0.269514</td>\n",
       "      <td>-0.023690</td>\n",
       "      <td>-0.044661</td>\n",
       "      <td>0.382664</td>\n",
       "      <td>0.806663</td>\n",
       "      <td>0.472053</td>\n",
       "      <td>0.798375</td>\n",
       "      <td>0.844077</td>\n",
       "      <td>0.879642</td>\n",
       "      <td>1.309726</td>\n",
       "      <td>1.134539</td>\n",
       "      <td>1.066106</td>\n",
       "      <td>0.916367</td>\n",
       "      <td>0.656445</td>\n",
       "      <td>0.617705</td>\n",
       "      <td>0.984653</td>\n",
       "      <td>0.902697</td>\n",
       "      <td>1.339442</td>\n",
       "      <td>0.845084</td>\n",
       "      <td>1.058056</td>\n",
       "      <td>1.452788</td>\n",
       "      <td>0.992701</td>\n",
       "      <td>1.426960</td>\n",
       "      <td>1.607827</td>\n",
       "      <td>2.019958</td>\n",
       "      <td>2.023579</td>\n",
       "      <td>2.475974</td>\n",
       "      <td>2.812091</td>\n",
       "      <td>3.034573</td>\n",
       "      <td>3.139058</td>\n",
       "      <td>2.912222</td>\n",
       "      <td>2.733665</td>\n",
       "      <td>2.570864</td>\n",
       "      <td>2.889863</td>\n",
       "      <td>...</td>\n",
       "      <td>6.583625</td>\n",
       "      <td>6.908244</td>\n",
       "      <td>6.478714</td>\n",
       "      <td>6.775537</td>\n",
       "      <td>6.609161</td>\n",
       "      <td>6.769615</td>\n",
       "      <td>6.899771</td>\n",
       "      <td>7.340307</td>\n",
       "      <td>6.964084</td>\n",
       "      <td>7.187115</td>\n",
       "      <td>7.372207</td>\n",
       "      <td>6.964556</td>\n",
       "      <td>7.402756</td>\n",
       "      <td>7.367359</td>\n",
       "      <td>7.558437</td>\n",
       "      <td>7.819616</td>\n",
       "      <td>8.177422</td>\n",
       "      <td>8.294969</td>\n",
       "      <td>8.719912</td>\n",
       "      <td>8.839184</td>\n",
       "      <td>9.148452</td>\n",
       "      <td>9.313665</td>\n",
       "      <td>9.383057</td>\n",
       "      <td>9.857757</td>\n",
       "      <td>9.632448</td>\n",
       "      <td>9.721182</td>\n",
       "      <td>9.550110</td>\n",
       "      <td>9.233496</td>\n",
       "      <td>8.854687</td>\n",
       "      <td>8.607039</td>\n",
       "      <td>8.925024</td>\n",
       "      <td>9.078933</td>\n",
       "      <td>9.231856</td>\n",
       "      <td>8.806716</td>\n",
       "      <td>9.172948</td>\n",
       "      <td>8.893375</td>\n",
       "      <td>9.244600</td>\n",
       "      <td>9.566908</td>\n",
       "      <td>9.248272</td>\n",
       "      <td>8.926985</td>\n",
       "    </tr>\n",
       "    <tr>\n",
       "      <th>var_3</th>\n",
       "      <td>-0.251008</td>\n",
       "      <td>-0.280116</td>\n",
       "      <td>0.005715</td>\n",
       "      <td>-0.185254</td>\n",
       "      <td>0.272260</td>\n",
       "      <td>0.090440</td>\n",
       "      <td>0.404199</td>\n",
       "      <td>0.055533</td>\n",
       "      <td>0.524363</td>\n",
       "      <td>0.773584</td>\n",
       "      <td>0.334678</td>\n",
       "      <td>0.557504</td>\n",
       "      <td>1.013841</td>\n",
       "      <td>0.906992</td>\n",
       "      <td>0.476207</td>\n",
       "      <td>0.869776</td>\n",
       "      <td>1.139593</td>\n",
       "      <td>0.643268</td>\n",
       "      <td>0.483413</td>\n",
       "      <td>0.165270</td>\n",
       "      <td>0.226185</td>\n",
       "      <td>0.320999</td>\n",
       "      <td>0.175792</td>\n",
       "      <td>0.398198</td>\n",
       "      <td>0.014268</td>\n",
       "      <td>0.369250</td>\n",
       "      <td>0.719126</td>\n",
       "      <td>0.355428</td>\n",
       "      <td>0.223020</td>\n",
       "      <td>-0.166577</td>\n",
       "      <td>-0.086758</td>\n",
       "      <td>-0.004773</td>\n",
       "      <td>-0.286422</td>\n",
       "      <td>0.146657</td>\n",
       "      <td>-0.279732</td>\n",
       "      <td>0.042108</td>\n",
       "      <td>0.247499</td>\n",
       "      <td>0.323533</td>\n",
       "      <td>-0.007964</td>\n",
       "      <td>0.017882</td>\n",
       "      <td>...</td>\n",
       "      <td>-2.648348</td>\n",
       "      <td>-2.321928</td>\n",
       "      <td>-2.634398</td>\n",
       "      <td>-3.044369</td>\n",
       "      <td>-3.391096</td>\n",
       "      <td>-3.508583</td>\n",
       "      <td>-3.072203</td>\n",
       "      <td>-3.443180</td>\n",
       "      <td>-3.387482</td>\n",
       "      <td>-3.086511</td>\n",
       "      <td>-3.568053</td>\n",
       "      <td>-3.636861</td>\n",
       "      <td>-3.182799</td>\n",
       "      <td>-3.168086</td>\n",
       "      <td>-3.145287</td>\n",
       "      <td>-3.406713</td>\n",
       "      <td>-3.431804</td>\n",
       "      <td>-3.587182</td>\n",
       "      <td>-3.389593</td>\n",
       "      <td>-3.232424</td>\n",
       "      <td>-3.090612</td>\n",
       "      <td>-2.758637</td>\n",
       "      <td>-2.485008</td>\n",
       "      <td>-2.222151</td>\n",
       "      <td>-2.700425</td>\n",
       "      <td>-2.259887</td>\n",
       "      <td>-2.283588</td>\n",
       "      <td>-2.659652</td>\n",
       "      <td>-2.286504</td>\n",
       "      <td>-2.276363</td>\n",
       "      <td>-2.527862</td>\n",
       "      <td>-2.217393</td>\n",
       "      <td>-2.337154</td>\n",
       "      <td>-2.139666</td>\n",
       "      <td>-2.633000</td>\n",
       "      <td>-2.949930</td>\n",
       "      <td>-3.318269</td>\n",
       "      <td>-3.171824</td>\n",
       "      <td>-3.316427</td>\n",
       "      <td>-3.762706</td>\n",
       "    </tr>\n",
       "    <tr>\n",
       "      <th>target</th>\n",
       "      <td>1.000000</td>\n",
       "      <td>8.000000</td>\n",
       "      <td>1.000000</td>\n",
       "      <td>3.000000</td>\n",
       "      <td>8.000000</td>\n",
       "      <td>7.000000</td>\n",
       "      <td>0.000000</td>\n",
       "      <td>9.000000</td>\n",
       "      <td>5.000000</td>\n",
       "      <td>5.000000</td>\n",
       "      <td>5.000000</td>\n",
       "      <td>7.000000</td>\n",
       "      <td>8.000000</td>\n",
       "      <td>6.000000</td>\n",
       "      <td>3.000000</td>\n",
       "      <td>1.000000</td>\n",
       "      <td>7.000000</td>\n",
       "      <td>8.000000</td>\n",
       "      <td>5.000000</td>\n",
       "      <td>2.000000</td>\n",
       "      <td>0.000000</td>\n",
       "      <td>1.000000</td>\n",
       "      <td>6.000000</td>\n",
       "      <td>1.000000</td>\n",
       "      <td>6.000000</td>\n",
       "      <td>3.000000</td>\n",
       "      <td>9.000000</td>\n",
       "      <td>4.000000</td>\n",
       "      <td>2.000000</td>\n",
       "      <td>3.000000</td>\n",
       "      <td>7.000000</td>\n",
       "      <td>8.000000</td>\n",
       "      <td>3.000000</td>\n",
       "      <td>2.000000</td>\n",
       "      <td>6.000000</td>\n",
       "      <td>7.000000</td>\n",
       "      <td>2.000000</td>\n",
       "      <td>7.000000</td>\n",
       "      <td>1.000000</td>\n",
       "      <td>7.000000</td>\n",
       "      <td>...</td>\n",
       "      <td>7.000000</td>\n",
       "      <td>6.000000</td>\n",
       "      <td>2.000000</td>\n",
       "      <td>6.000000</td>\n",
       "      <td>5.000000</td>\n",
       "      <td>9.000000</td>\n",
       "      <td>5.000000</td>\n",
       "      <td>6.000000</td>\n",
       "      <td>7.000000</td>\n",
       "      <td>6.000000</td>\n",
       "      <td>6.000000</td>\n",
       "      <td>1.000000</td>\n",
       "      <td>3.000000</td>\n",
       "      <td>0.000000</td>\n",
       "      <td>1.000000</td>\n",
       "      <td>4.000000</td>\n",
       "      <td>7.000000</td>\n",
       "      <td>7.000000</td>\n",
       "      <td>0.000000</td>\n",
       "      <td>7.000000</td>\n",
       "      <td>6.000000</td>\n",
       "      <td>4.000000</td>\n",
       "      <td>4.000000</td>\n",
       "      <td>4.000000</td>\n",
       "      <td>5.000000</td>\n",
       "      <td>2.000000</td>\n",
       "      <td>2.000000</td>\n",
       "      <td>6.000000</td>\n",
       "      <td>5.000000</td>\n",
       "      <td>0.000000</td>\n",
       "      <td>3.000000</td>\n",
       "      <td>6.000000</td>\n",
       "      <td>0.000000</td>\n",
       "      <td>4.000000</td>\n",
       "      <td>9.000000</td>\n",
       "      <td>7.000000</td>\n",
       "      <td>8.000000</td>\n",
       "      <td>0.000000</td>\n",
       "      <td>0.000000</td>\n",
       "      <td>8.000000</td>\n",
       "    </tr>\n",
       "  </tbody>\n",
       "</table>\n",
       "<p>5 rows × 100 columns</p>\n",
       "</div>"
      ],
      "text/plain": [
       "              0         1         2   ...        97        98        99\n",
       "var_0   0.102828 -0.393031 -0.177555  ...  4.581812  4.468493  4.533295\n",
       "var_1  -0.372265 -0.171719 -0.036888  ...  3.416382  3.830103  3.718441\n",
       "var_2   0.148994  0.645277  0.878944  ...  9.566908  9.248272  8.926985\n",
       "var_3  -0.251008 -0.280116  0.005715  ... -3.171824 -3.316427 -3.762706\n",
       "target  1.000000  8.000000  1.000000  ...  0.000000  0.000000  8.000000\n",
       "\n",
       "[5 rows x 100 columns]"
      ]
     },
     "metadata": {
      "tags": []
     },
     "output_type": "display_data"
    },
    {
     "data": {
      "text/plain": [
       "(#94) [(TSTensor(vars:4, len:4), TensorCategory(0)),(TSTensor(vars:4, len:4), TensorCategory(9)),(TSTensor(vars:4, len:4), TensorCategory(5)),(TSTensor(vars:4, len:4), TensorCategory(5)),(TSTensor(vars:4, len:4), TensorCategory(5)),(TSTensor(vars:4, len:4), TensorCategory(7)),(TSTensor(vars:4, len:4), TensorCategory(8)),(TSTensor(vars:4, len:4), TensorCategory(6)),(TSTensor(vars:4, len:4), TensorCategory(3)),(TSTensor(vars:4, len:4), TensorCategory(1))...]"
      ]
     },
     "execution_count": 40,
     "metadata": {
      "tags": []
     },
     "output_type": "execute_result"
    }
   ],
   "source": [
    "window_length = 4\n",
    "start = 3\n",
    "n_vars = 5\n",
    "seq_len = 100\n",
    "horizon = 0\n",
    "\n",
    "t1 = (np.random.rand(seq_len, n_vars-1) - .5).cumsum(0)\n",
    "t2 = np.random.randint(0, 10, (seq_len,1))\n",
    "t = np.concatenate((t1, t2), axis=-1)\n",
    "columns=[f'var_{i}' for i in range(n_vars-1)]+['target']\n",
    "df = pd.DataFrame(t, columns=columns).T\n",
    "print('input shape:', df.shape)\n",
    "display(df)\n",
    "X, y = SlidingWindow(window_length, start=start, horizon=horizon, get_x=columns[:-1], get_y='target', seq_first=False)(df)\n",
    "splits = get_splits(y, valid_size=.2, stratify=True, random_state=23, shuffle=False)\n",
    "tfms  = [None, [Categorize()]]\n",
    "dsets = TSDatasets(X, y, tfms=tfms, splits=splits, inplace=True)\n",
    "dsets"
   ]
  },
  {
   "cell_type": "code",
   "execution_count": 41,
   "metadata": {
    "colab": {
     "base_uri": "https://localhost:8080/"
    },
    "hidden": true,
    "id": "LdhADE-3mFZz",
    "outputId": "367c1e1c-8bc5-4d53-bc90-d6564ef6060c"
   },
   "outputs": [
    {
     "data": {
      "text/plain": [
       "(tensor([[ 0.1812,  0.0484,  0.2483,  0.7128],\n",
       "         [ 0.0011,  0.3967, -0.0734,  0.0392],\n",
       "         [ 1.0631,  0.8537,  0.6386,  0.2695],\n",
       "         [-0.1853,  0.2723,  0.0904,  0.4042]]), tensor(0))"
      ]
     },
     "execution_count": 41,
     "metadata": {
      "tags": []
     },
     "output_type": "execute_result"
    }
   ],
   "source": [
    "dsets[0][0].data, dsets[0][1].data"
   ]
  },
  {
   "cell_type": "markdown",
   "metadata": {
    "heading_collapsed": true,
    "id": "ASIg8LBomFZ8"
   },
   "source": [
    "## End-to-end example"
   ]
  },
  {
   "cell_type": "markdown",
   "metadata": {
    "heading_collapsed": true,
    "hidden": true,
    "id": "RJOmSQTZmFaA"
   },
   "source": [
    "### Data split by sample"
   ]
  },
  {
   "cell_type": "markdown",
   "metadata": {
    "hidden": true,
    "id": "KuMsdF_gmFaB"
   },
   "source": [
    "This is a example using real data where the dataframe already the data split by sample. Let's first simulate how you could get the pandas df.\n",
    "\n",
    "In this case, you only need to convert the df format to X and y using `df2xy`as we have seen before."
   ]
  },
  {
   "cell_type": "code",
   "execution_count": 42,
   "metadata": {
    "colab": {
     "base_uri": "https://localhost:8080/",
     "height": 444
    },
    "hidden": true,
    "id": "E1lfjEG9mFaC",
    "outputId": "a2851b1c-ff22-406e-8314-547d4e2b66e6"
   },
   "outputs": [
    {
     "data": {
      "text/html": [
       "<div>\n",
       "<style scoped>\n",
       "    .dataframe tbody tr th:only-of-type {\n",
       "        vertical-align: middle;\n",
       "    }\n",
       "\n",
       "    .dataframe tbody tr th {\n",
       "        vertical-align: top;\n",
       "    }\n",
       "\n",
       "    .dataframe thead th {\n",
       "        text-align: right;\n",
       "    }\n",
       "</style>\n",
       "<table border=\"1\" class=\"dataframe\">\n",
       "  <thead>\n",
       "    <tr style=\"text-align: right;\">\n",
       "      <th></th>\n",
       "      <th>sample</th>\n",
       "      <th>feature</th>\n",
       "      <th>0</th>\n",
       "      <th>1</th>\n",
       "      <th>2</th>\n",
       "      <th>3</th>\n",
       "      <th>4</th>\n",
       "      <th>5</th>\n",
       "      <th>6</th>\n",
       "      <th>7</th>\n",
       "      <th>8</th>\n",
       "      <th>9</th>\n",
       "      <th>10</th>\n",
       "      <th>11</th>\n",
       "      <th>12</th>\n",
       "      <th>13</th>\n",
       "      <th>14</th>\n",
       "      <th>15</th>\n",
       "      <th>16</th>\n",
       "      <th>17</th>\n",
       "      <th>18</th>\n",
       "      <th>19</th>\n",
       "      <th>20</th>\n",
       "      <th>21</th>\n",
       "      <th>22</th>\n",
       "      <th>23</th>\n",
       "      <th>24</th>\n",
       "      <th>25</th>\n",
       "      <th>26</th>\n",
       "      <th>27</th>\n",
       "      <th>28</th>\n",
       "      <th>29</th>\n",
       "      <th>30</th>\n",
       "      <th>31</th>\n",
       "      <th>32</th>\n",
       "      <th>33</th>\n",
       "      <th>34</th>\n",
       "      <th>35</th>\n",
       "      <th>36</th>\n",
       "      <th>37</th>\n",
       "      <th>38</th>\n",
       "      <th>39</th>\n",
       "      <th>40</th>\n",
       "      <th>41</th>\n",
       "      <th>42</th>\n",
       "      <th>43</th>\n",
       "      <th>44</th>\n",
       "      <th>45</th>\n",
       "      <th>46</th>\n",
       "      <th>47</th>\n",
       "      <th>48</th>\n",
       "      <th>49</th>\n",
       "      <th>50</th>\n",
       "      <th>target</th>\n",
       "    </tr>\n",
       "  </thead>\n",
       "  <tbody>\n",
       "    <tr>\n",
       "      <th>0</th>\n",
       "      <td>0</td>\n",
       "      <td>0</td>\n",
       "      <td>-0.372758</td>\n",
       "      <td>-0.367844</td>\n",
       "      <td>-0.378445</td>\n",
       "      <td>-0.386751</td>\n",
       "      <td>-0.417101</td>\n",
       "      <td>-0.447204</td>\n",
       "      <td>-0.423585</td>\n",
       "      <td>-0.318506</td>\n",
       "      <td>-0.144364</td>\n",
       "      <td>0.075895</td>\n",
       "      <td>0.347454</td>\n",
       "      <td>0.561359</td>\n",
       "      <td>0.849287</td>\n",
       "      <td>0.797611</td>\n",
       "      <td>0.441814</td>\n",
       "      <td>0.254091</td>\n",
       "      <td>0.234146</td>\n",
       "      <td>0.232438</td>\n",
       "      <td>0.523842</td>\n",
       "      <td>0.372282</td>\n",
       "      <td>0.297769</td>\n",
       "      <td>0.062438</td>\n",
       "      <td>-0.160582</td>\n",
       "      <td>-0.633307</td>\n",
       "      <td>-1.113923</td>\n",
       "      <td>-1.545462</td>\n",
       "      <td>-1.867234</td>\n",
       "      <td>-1.962210</td>\n",
       "      <td>-2.042082</td>\n",
       "      <td>-2.133169</td>\n",
       "      <td>-2.104933</td>\n",
       "      <td>-2.052543</td>\n",
       "      <td>-2.088645</td>\n",
       "      <td>-2.058607</td>\n",
       "      <td>-2.067922</td>\n",
       "      <td>-1.973175</td>\n",
       "      <td>-1.654191</td>\n",
       "      <td>-1.494491</td>\n",
       "      <td>-1.247257</td>\n",
       "      <td>-1.063626</td>\n",
       "      <td>-0.832244</td>\n",
       "      <td>-0.563308</td>\n",
       "      <td>-0.477529</td>\n",
       "      <td>-0.487402</td>\n",
       "      <td>-0.485995</td>\n",
       "      <td>-0.480247</td>\n",
       "      <td>-0.496073</td>\n",
       "      <td>-0.491603</td>\n",
       "      <td>-0.537007</td>\n",
       "      <td>-0.475939</td>\n",
       "      <td>-0.479505</td>\n",
       "      <td>4.0</td>\n",
       "    </tr>\n",
       "    <tr>\n",
       "      <th>1</th>\n",
       "      <td>0</td>\n",
       "      <td>1</td>\n",
       "      <td>-1.821679</td>\n",
       "      <td>-1.841987</td>\n",
       "      <td>-1.821358</td>\n",
       "      <td>-1.845643</td>\n",
       "      <td>-1.941721</td>\n",
       "      <td>-2.005778</td>\n",
       "      <td>-1.817611</td>\n",
       "      <td>-1.560247</td>\n",
       "      <td>-1.225895</td>\n",
       "      <td>-0.853063</td>\n",
       "      <td>-0.419435</td>\n",
       "      <td>0.009286</td>\n",
       "      <td>0.381121</td>\n",
       "      <td>0.272432</td>\n",
       "      <td>0.066764</td>\n",
       "      <td>-0.017016</td>\n",
       "      <td>-0.034722</td>\n",
       "      <td>-0.027134</td>\n",
       "      <td>-0.340397</td>\n",
       "      <td>0.099757</td>\n",
       "      <td>0.131993</td>\n",
       "      <td>0.329044</td>\n",
       "      <td>0.595222</td>\n",
       "      <td>0.624985</td>\n",
       "      <td>0.616613</td>\n",
       "      <td>0.456410</td>\n",
       "      <td>0.395317</td>\n",
       "      <td>0.288116</td>\n",
       "      <td>0.250682</td>\n",
       "      <td>0.235802</td>\n",
       "      <td>0.197454</td>\n",
       "      <td>0.166000</td>\n",
       "      <td>0.137392</td>\n",
       "      <td>0.052128</td>\n",
       "      <td>-0.123506</td>\n",
       "      <td>-0.418470</td>\n",
       "      <td>-0.852231</td>\n",
       "      <td>-1.201431</td>\n",
       "      <td>-1.436095</td>\n",
       "      <td>-1.704426</td>\n",
       "      <td>-1.852032</td>\n",
       "      <td>-1.833314</td>\n",
       "      <td>-1.843810</td>\n",
       "      <td>-1.830620</td>\n",
       "      <td>-1.820712</td>\n",
       "      <td>-1.781465</td>\n",
       "      <td>-1.804775</td>\n",
       "      <td>-1.799706</td>\n",
       "      <td>-1.751323</td>\n",
       "      <td>-1.772353</td>\n",
       "      <td>-1.761632</td>\n",
       "      <td>3.0</td>\n",
       "    </tr>\n",
       "    <tr>\n",
       "      <th>2</th>\n",
       "      <td>0</td>\n",
       "      <td>2</td>\n",
       "      <td>-0.846321</td>\n",
       "      <td>-0.846325</td>\n",
       "      <td>-0.839571</td>\n",
       "      <td>-0.848031</td>\n",
       "      <td>-0.885500</td>\n",
       "      <td>-1.002093</td>\n",
       "      <td>-1.227122</td>\n",
       "      <td>-1.452898</td>\n",
       "      <td>-1.603039</td>\n",
       "      <td>-1.678848</td>\n",
       "      <td>-1.688274</td>\n",
       "      <td>-1.356675</td>\n",
       "      <td>-0.699367</td>\n",
       "      <td>-0.378241</td>\n",
       "      <td>-0.417872</td>\n",
       "      <td>-0.425954</td>\n",
       "      <td>-0.401918</td>\n",
       "      <td>-0.376071</td>\n",
       "      <td>-0.438593</td>\n",
       "      <td>-0.250388</td>\n",
       "      <td>-0.452534</td>\n",
       "      <td>-0.685466</td>\n",
       "      <td>-0.891882</td>\n",
       "      <td>-1.170822</td>\n",
       "      <td>-1.417568</td>\n",
       "      <td>-1.532446</td>\n",
       "      <td>-1.325571</td>\n",
       "      <td>-1.148472</td>\n",
       "      <td>-0.975525</td>\n",
       "      <td>-0.824918</td>\n",
       "      <td>-0.704670</td>\n",
       "      <td>-0.680691</td>\n",
       "      <td>-0.639966</td>\n",
       "      <td>-0.653525</td>\n",
       "      <td>-0.677719</td>\n",
       "      <td>-0.700480</td>\n",
       "      <td>-0.803960</td>\n",
       "      <td>-0.756572</td>\n",
       "      <td>-0.739488</td>\n",
       "      <td>-0.673516</td>\n",
       "      <td>-0.675284</td>\n",
       "      <td>-0.734147</td>\n",
       "      <td>-0.737160</td>\n",
       "      <td>-0.750605</td>\n",
       "      <td>-0.727674</td>\n",
       "      <td>-0.726221</td>\n",
       "      <td>-0.749053</td>\n",
       "      <td>-0.776479</td>\n",
       "      <td>-0.603740</td>\n",
       "      <td>-0.763048</td>\n",
       "      <td>-0.793202</td>\n",
       "      <td>3.0</td>\n",
       "    </tr>\n",
       "    <tr>\n",
       "      <th>3</th>\n",
       "      <td>0</td>\n",
       "      <td>3</td>\n",
       "      <td>0.465208</td>\n",
       "      <td>0.467033</td>\n",
       "      <td>0.471135</td>\n",
       "      <td>0.506153</td>\n",
       "      <td>0.611207</td>\n",
       "      <td>0.697417</td>\n",
       "      <td>0.721512</td>\n",
       "      <td>0.652092</td>\n",
       "      <td>0.452124</td>\n",
       "      <td>0.202564</td>\n",
       "      <td>-0.063753</td>\n",
       "      <td>-0.301600</td>\n",
       "      <td>-0.284377</td>\n",
       "      <td>-0.100933</td>\n",
       "      <td>-0.581304</td>\n",
       "      <td>-0.639331</td>\n",
       "      <td>-0.643672</td>\n",
       "      <td>-0.646670</td>\n",
       "      <td>-0.651358</td>\n",
       "      <td>-0.645455</td>\n",
       "      <td>-0.782841</td>\n",
       "      <td>-0.493971</td>\n",
       "      <td>0.084138</td>\n",
       "      <td>0.342128</td>\n",
       "      <td>0.946373</td>\n",
       "      <td>1.560078</td>\n",
       "      <td>1.935687</td>\n",
       "      <td>1.950222</td>\n",
       "      <td>2.131079</td>\n",
       "      <td>2.126015</td>\n",
       "      <td>2.053882</td>\n",
       "      <td>1.990205</td>\n",
       "      <td>2.039243</td>\n",
       "      <td>2.049479</td>\n",
       "      <td>2.079578</td>\n",
       "      <td>2.130218</td>\n",
       "      <td>1.959991</td>\n",
       "      <td>1.796142</td>\n",
       "      <td>1.533115</td>\n",
       "      <td>1.295336</td>\n",
       "      <td>1.007058</td>\n",
       "      <td>0.661930</td>\n",
       "      <td>0.510333</td>\n",
       "      <td>0.412795</td>\n",
       "      <td>0.412242</td>\n",
       "      <td>0.455973</td>\n",
       "      <td>0.446786</td>\n",
       "      <td>0.425194</td>\n",
       "      <td>0.434855</td>\n",
       "      <td>0.468405</td>\n",
       "      <td>0.460464</td>\n",
       "      <td>4.0</td>\n",
       "    </tr>\n",
       "    <tr>\n",
       "      <th>4</th>\n",
       "      <td>0</td>\n",
       "      <td>4</td>\n",
       "      <td>-2.015072</td>\n",
       "      <td>-2.007557</td>\n",
       "      <td>-2.010042</td>\n",
       "      <td>-2.032552</td>\n",
       "      <td>-1.953282</td>\n",
       "      <td>-1.861078</td>\n",
       "      <td>-1.699443</td>\n",
       "      <td>-1.253402</td>\n",
       "      <td>-0.626680</td>\n",
       "      <td>-0.216944</td>\n",
       "      <td>0.166592</td>\n",
       "      <td>0.434528</td>\n",
       "      <td>0.530182</td>\n",
       "      <td>0.141329</td>\n",
       "      <td>-0.670784</td>\n",
       "      <td>-0.546166</td>\n",
       "      <td>-0.515768</td>\n",
       "      <td>-0.511740</td>\n",
       "      <td>-0.509378</td>\n",
       "      <td>-0.555969</td>\n",
       "      <td>-0.532075</td>\n",
       "      <td>-0.054251</td>\n",
       "      <td>0.505936</td>\n",
       "      <td>0.605833</td>\n",
       "      <td>0.625232</td>\n",
       "      <td>0.556590</td>\n",
       "      <td>0.439711</td>\n",
       "      <td>0.342896</td>\n",
       "      <td>0.369876</td>\n",
       "      <td>0.367179</td>\n",
       "      <td>0.272491</td>\n",
       "      <td>0.213265</td>\n",
       "      <td>0.148868</td>\n",
       "      <td>0.031957</td>\n",
       "      <td>-0.160838</td>\n",
       "      <td>-0.478980</td>\n",
       "      <td>-0.982751</td>\n",
       "      <td>-1.322028</td>\n",
       "      <td>-1.538583</td>\n",
       "      <td>-1.801356</td>\n",
       "      <td>-1.950689</td>\n",
       "      <td>-1.978446</td>\n",
       "      <td>-1.953984</td>\n",
       "      <td>-2.004474</td>\n",
       "      <td>-1.991646</td>\n",
       "      <td>-1.997254</td>\n",
       "      <td>-1.998531</td>\n",
       "      <td>-1.976082</td>\n",
       "      <td>-1.960404</td>\n",
       "      <td>-2.006394</td>\n",
       "      <td>-1.969680</td>\n",
       "      <td>3.0</td>\n",
       "    </tr>\n",
       "    <tr>\n",
       "      <th>...</th>\n",
       "      <td>...</td>\n",
       "      <td>...</td>\n",
       "      <td>...</td>\n",
       "      <td>...</td>\n",
       "      <td>...</td>\n",
       "      <td>...</td>\n",
       "      <td>...</td>\n",
       "      <td>...</td>\n",
       "      <td>...</td>\n",
       "      <td>...</td>\n",
       "      <td>...</td>\n",
       "      <td>...</td>\n",
       "      <td>...</td>\n",
       "      <td>...</td>\n",
       "      <td>...</td>\n",
       "      <td>...</td>\n",
       "      <td>...</td>\n",
       "      <td>...</td>\n",
       "      <td>...</td>\n",
       "      <td>...</td>\n",
       "      <td>...</td>\n",
       "      <td>...</td>\n",
       "      <td>...</td>\n",
       "      <td>...</td>\n",
       "      <td>...</td>\n",
       "      <td>...</td>\n",
       "      <td>...</td>\n",
       "      <td>...</td>\n",
       "      <td>...</td>\n",
       "      <td>...</td>\n",
       "      <td>...</td>\n",
       "      <td>...</td>\n",
       "      <td>...</td>\n",
       "      <td>...</td>\n",
       "      <td>...</td>\n",
       "      <td>...</td>\n",
       "      <td>...</td>\n",
       "      <td>...</td>\n",
       "      <td>...</td>\n",
       "      <td>...</td>\n",
       "      <td>...</td>\n",
       "      <td>...</td>\n",
       "      <td>...</td>\n",
       "      <td>...</td>\n",
       "      <td>...</td>\n",
       "      <td>...</td>\n",
       "      <td>...</td>\n",
       "      <td>...</td>\n",
       "      <td>...</td>\n",
       "      <td>...</td>\n",
       "      <td>...</td>\n",
       "      <td>...</td>\n",
       "      <td>...</td>\n",
       "      <td>...</td>\n",
       "    </tr>\n",
       "    <tr>\n",
       "      <th>8635</th>\n",
       "      <td>359</td>\n",
       "      <td>19</td>\n",
       "      <td>-1.658398</td>\n",
       "      <td>-1.617639</td>\n",
       "      <td>-1.623446</td>\n",
       "      <td>-1.690049</td>\n",
       "      <td>-1.596608</td>\n",
       "      <td>-1.631068</td>\n",
       "      <td>-1.524069</td>\n",
       "      <td>-1.515474</td>\n",
       "      <td>-1.249811</td>\n",
       "      <td>-0.750405</td>\n",
       "      <td>-0.474013</td>\n",
       "      <td>-0.197236</td>\n",
       "      <td>-0.041972</td>\n",
       "      <td>0.065433</td>\n",
       "      <td>0.174952</td>\n",
       "      <td>0.259837</td>\n",
       "      <td>0.346307</td>\n",
       "      <td>0.524960</td>\n",
       "      <td>0.609059</td>\n",
       "      <td>0.650063</td>\n",
       "      <td>0.547638</td>\n",
       "      <td>0.591836</td>\n",
       "      <td>0.414409</td>\n",
       "      <td>0.344978</td>\n",
       "      <td>0.017541</td>\n",
       "      <td>0.057137</td>\n",
       "      <td>0.089715</td>\n",
       "      <td>0.361771</td>\n",
       "      <td>0.547795</td>\n",
       "      <td>0.575467</td>\n",
       "      <td>0.497051</td>\n",
       "      <td>0.590614</td>\n",
       "      <td>0.563684</td>\n",
       "      <td>0.550441</td>\n",
       "      <td>0.495695</td>\n",
       "      <td>0.449240</td>\n",
       "      <td>0.340146</td>\n",
       "      <td>0.250273</td>\n",
       "      <td>0.021679</td>\n",
       "      <td>-0.332414</td>\n",
       "      <td>-0.638079</td>\n",
       "      <td>-0.939618</td>\n",
       "      <td>-1.195383</td>\n",
       "      <td>-1.413512</td>\n",
       "      <td>-1.810155</td>\n",
       "      <td>-1.614774</td>\n",
       "      <td>-1.684754</td>\n",
       "      <td>-1.659315</td>\n",
       "      <td>-1.705025</td>\n",
       "      <td>-1.678066</td>\n",
       "      <td>-1.641795</td>\n",
       "      <td>6.0</td>\n",
       "    </tr>\n",
       "    <tr>\n",
       "      <th>8636</th>\n",
       "      <td>359</td>\n",
       "      <td>20</td>\n",
       "      <td>-0.679048</td>\n",
       "      <td>-0.654021</td>\n",
       "      <td>-0.656639</td>\n",
       "      <td>-0.711966</td>\n",
       "      <td>-0.742536</td>\n",
       "      <td>-0.748806</td>\n",
       "      <td>-0.806330</td>\n",
       "      <td>-0.913220</td>\n",
       "      <td>-0.955816</td>\n",
       "      <td>-0.978653</td>\n",
       "      <td>-0.805290</td>\n",
       "      <td>-0.668659</td>\n",
       "      <td>-0.759316</td>\n",
       "      <td>-0.928167</td>\n",
       "      <td>-1.174089</td>\n",
       "      <td>-1.397615</td>\n",
       "      <td>-1.539834</td>\n",
       "      <td>-1.580997</td>\n",
       "      <td>-1.622937</td>\n",
       "      <td>-1.529194</td>\n",
       "      <td>-1.467256</td>\n",
       "      <td>-1.158529</td>\n",
       "      <td>-0.621209</td>\n",
       "      <td>-0.469503</td>\n",
       "      <td>-0.366582</td>\n",
       "      <td>-0.432349</td>\n",
       "      <td>-0.643596</td>\n",
       "      <td>-0.942087</td>\n",
       "      <td>-1.204617</td>\n",
       "      <td>-1.455218</td>\n",
       "      <td>-1.402750</td>\n",
       "      <td>-1.463065</td>\n",
       "      <td>-1.281403</td>\n",
       "      <td>-1.070488</td>\n",
       "      <td>-0.888179</td>\n",
       "      <td>-0.807410</td>\n",
       "      <td>-0.642349</td>\n",
       "      <td>-0.621054</td>\n",
       "      <td>-0.678858</td>\n",
       "      <td>-0.807743</td>\n",
       "      <td>-0.870315</td>\n",
       "      <td>-0.887390</td>\n",
       "      <td>-0.841650</td>\n",
       "      <td>-0.782175</td>\n",
       "      <td>-0.734422</td>\n",
       "      <td>-0.684311</td>\n",
       "      <td>-0.651485</td>\n",
       "      <td>-0.660619</td>\n",
       "      <td>-0.690759</td>\n",
       "      <td>-0.716252</td>\n",
       "      <td>-0.704824</td>\n",
       "      <td>3.0</td>\n",
       "    </tr>\n",
       "    <tr>\n",
       "      <th>8637</th>\n",
       "      <td>359</td>\n",
       "      <td>21</td>\n",
       "      <td>0.499991</td>\n",
       "      <td>0.390842</td>\n",
       "      <td>0.396292</td>\n",
       "      <td>0.395197</td>\n",
       "      <td>0.441420</td>\n",
       "      <td>0.881352</td>\n",
       "      <td>1.140342</td>\n",
       "      <td>1.473447</td>\n",
       "      <td>1.785171</td>\n",
       "      <td>2.012230</td>\n",
       "      <td>2.212297</td>\n",
       "      <td>2.186266</td>\n",
       "      <td>2.177933</td>\n",
       "      <td>2.084624</td>\n",
       "      <td>2.030396</td>\n",
       "      <td>1.734099</td>\n",
       "      <td>1.514197</td>\n",
       "      <td>1.125476</td>\n",
       "      <td>0.740709</td>\n",
       "      <td>0.397909</td>\n",
       "      <td>0.073697</td>\n",
       "      <td>-0.336738</td>\n",
       "      <td>-0.411805</td>\n",
       "      <td>-0.453496</td>\n",
       "      <td>-0.554760</td>\n",
       "      <td>-0.594266</td>\n",
       "      <td>-0.624127</td>\n",
       "      <td>-0.504503</td>\n",
       "      <td>-0.734771</td>\n",
       "      <td>0.317923</td>\n",
       "      <td>0.637029</td>\n",
       "      <td>1.160458</td>\n",
       "      <td>1.628362</td>\n",
       "      <td>1.827028</td>\n",
       "      <td>1.983302</td>\n",
       "      <td>2.031439</td>\n",
       "      <td>2.055445</td>\n",
       "      <td>2.149354</td>\n",
       "      <td>2.134582</td>\n",
       "      <td>2.133735</td>\n",
       "      <td>2.115736</td>\n",
       "      <td>1.919119</td>\n",
       "      <td>1.686165</td>\n",
       "      <td>1.448840</td>\n",
       "      <td>1.241460</td>\n",
       "      <td>1.038313</td>\n",
       "      <td>0.870652</td>\n",
       "      <td>0.754220</td>\n",
       "      <td>0.568415</td>\n",
       "      <td>0.550804</td>\n",
       "      <td>0.562437</td>\n",
       "      <td>5.0</td>\n",
       "    </tr>\n",
       "    <tr>\n",
       "      <th>8638</th>\n",
       "      <td>359</td>\n",
       "      <td>22</td>\n",
       "      <td>-1.664080</td>\n",
       "      <td>-1.725331</td>\n",
       "      <td>-1.686976</td>\n",
       "      <td>-1.650568</td>\n",
       "      <td>-1.716866</td>\n",
       "      <td>-1.749081</td>\n",
       "      <td>-1.737207</td>\n",
       "      <td>-1.571937</td>\n",
       "      <td>-1.367111</td>\n",
       "      <td>-1.106638</td>\n",
       "      <td>-0.746501</td>\n",
       "      <td>-0.565502</td>\n",
       "      <td>-0.410799</td>\n",
       "      <td>-0.246364</td>\n",
       "      <td>-0.041896</td>\n",
       "      <td>0.061825</td>\n",
       "      <td>0.272847</td>\n",
       "      <td>0.361454</td>\n",
       "      <td>0.513074</td>\n",
       "      <td>0.525478</td>\n",
       "      <td>0.600735</td>\n",
       "      <td>0.347172</td>\n",
       "      <td>0.109879</td>\n",
       "      <td>0.068872</td>\n",
       "      <td>-0.140797</td>\n",
       "      <td>-0.355404</td>\n",
       "      <td>-0.337072</td>\n",
       "      <td>0.233762</td>\n",
       "      <td>0.061218</td>\n",
       "      <td>0.626416</td>\n",
       "      <td>0.578140</td>\n",
       "      <td>0.712114</td>\n",
       "      <td>0.669431</td>\n",
       "      <td>0.617188</td>\n",
       "      <td>0.564924</td>\n",
       "      <td>0.493809</td>\n",
       "      <td>0.392836</td>\n",
       "      <td>0.270400</td>\n",
       "      <td>0.039889</td>\n",
       "      <td>-0.294179</td>\n",
       "      <td>-0.586838</td>\n",
       "      <td>-0.887147</td>\n",
       "      <td>-1.136640</td>\n",
       "      <td>-1.347163</td>\n",
       "      <td>-1.513772</td>\n",
       "      <td>-1.617310</td>\n",
       "      <td>-1.659452</td>\n",
       "      <td>-1.727294</td>\n",
       "      <td>-1.877402</td>\n",
       "      <td>-1.903281</td>\n",
       "      <td>-1.895895</td>\n",
       "      <td>4.0</td>\n",
       "    </tr>\n",
       "    <tr>\n",
       "      <th>8639</th>\n",
       "      <td>359</td>\n",
       "      <td>23</td>\n",
       "      <td>-0.733138</td>\n",
       "      <td>-0.718382</td>\n",
       "      <td>-0.705195</td>\n",
       "      <td>-0.694358</td>\n",
       "      <td>-0.675056</td>\n",
       "      <td>-0.671773</td>\n",
       "      <td>-0.556493</td>\n",
       "      <td>-0.490029</td>\n",
       "      <td>-0.390473</td>\n",
       "      <td>-0.251444</td>\n",
       "      <td>-0.057473</td>\n",
       "      <td>-0.006513</td>\n",
       "      <td>-0.099870</td>\n",
       "      <td>-0.322368</td>\n",
       "      <td>-0.604346</td>\n",
       "      <td>-0.913293</td>\n",
       "      <td>-1.055600</td>\n",
       "      <td>-1.112346</td>\n",
       "      <td>-1.190042</td>\n",
       "      <td>-1.124671</td>\n",
       "      <td>-1.425998</td>\n",
       "      <td>-1.117994</td>\n",
       "      <td>-0.975270</td>\n",
       "      <td>-0.957215</td>\n",
       "      <td>-1.128935</td>\n",
       "      <td>-0.597341</td>\n",
       "      <td>-0.522351</td>\n",
       "      <td>-0.824663</td>\n",
       "      <td>-0.595159</td>\n",
       "      <td>-0.951499</td>\n",
       "      <td>-0.923480</td>\n",
       "      <td>-0.903285</td>\n",
       "      <td>-0.690414</td>\n",
       "      <td>-0.464875</td>\n",
       "      <td>-0.197273</td>\n",
       "      <td>0.035887</td>\n",
       "      <td>0.187458</td>\n",
       "      <td>0.272548</td>\n",
       "      <td>0.168987</td>\n",
       "      <td>0.024388</td>\n",
       "      <td>-0.087861</td>\n",
       "      <td>-0.244723</td>\n",
       "      <td>-0.367544</td>\n",
       "      <td>-0.473136</td>\n",
       "      <td>-0.591317</td>\n",
       "      <td>-0.588854</td>\n",
       "      <td>-0.607189</td>\n",
       "      <td>-0.618963</td>\n",
       "      <td>-0.412571</td>\n",
       "      <td>-0.472645</td>\n",
       "      <td>-0.454302</td>\n",
       "      <td>4.0</td>\n",
       "    </tr>\n",
       "  </tbody>\n",
       "</table>\n",
       "<p>8640 rows × 54 columns</p>\n",
       "</div>"
      ],
      "text/plain": [
       "      sample  feature         0         1  ...        48        49        50  target\n",
       "0          0        0 -0.372758 -0.367844  ... -0.537007 -0.475939 -0.479505     4.0\n",
       "1          0        1 -1.821679 -1.841987  ... -1.751323 -1.772353 -1.761632     3.0\n",
       "2          0        2 -0.846321 -0.846325  ... -0.603740 -0.763048 -0.793202     3.0\n",
       "3          0        3  0.465208  0.467033  ...  0.434855  0.468405  0.460464     4.0\n",
       "4          0        4 -2.015072 -2.007557  ... -1.960404 -2.006394 -1.969680     3.0\n",
       "...      ...      ...       ...       ...  ...       ...       ...       ...     ...\n",
       "8635     359       19 -1.658398 -1.617639  ... -1.705025 -1.678066 -1.641795     6.0\n",
       "8636     359       20 -0.679048 -0.654021  ... -0.690759 -0.716252 -0.704824     3.0\n",
       "8637     359       21  0.499991  0.390842  ...  0.568415  0.550804  0.562437     5.0\n",
       "8638     359       22 -1.664080 -1.725331  ... -1.877402 -1.903281 -1.895895     4.0\n",
       "8639     359       23 -0.733138 -0.718382  ... -0.412571 -0.472645 -0.454302     4.0\n",
       "\n",
       "[8640 rows x 54 columns]"
      ]
     },
     "execution_count": 42,
     "metadata": {
      "tags": []
     },
     "output_type": "execute_result"
    }
   ],
   "source": [
    "ds_name = 'NATOPS' \n",
    "X, y, splits = get_UCR_data(ds_name, return_split=False)\n",
    "data = np.concatenate((np.arange(len(X)).repeat(X.shape[1]).reshape(-1,1), np.tile(np.arange(X.shape[1]), len(X)).reshape(-1,1)), axis=1)\n",
    "df1 = pd.DataFrame(data, columns=['sample', 'feature'])\n",
    "df2 = pd.DataFrame(X.reshape(-1, 51))\n",
    "df3 = pd.DataFrame(np.tile(y, X.shape[1]), columns=['target'])\n",
    "df = df1.merge(df2, left_index=True, right_index=True)\n",
    "df = df.merge(df3, left_index=True, right_index=True)\n",
    "df"
   ]
  },
  {
   "cell_type": "markdown",
   "metadata": {
    "hidden": true,
    "id": "E9wIKTojmFaN"
   },
   "source": [
    "In this case, we can shuffle the data as the individual time series are independent from the rest."
   ]
  },
  {
   "cell_type": "code",
   "execution_count": 43,
   "metadata": {
    "colab": {
     "base_uri": "https://localhost:8080/"
    },
    "hidden": true,
    "id": "8lYL2Um6mFaQ",
    "outputId": "6bccab1f-2978-46cd-c9aa-0430d7c7d2cf"
   },
   "outputs": [
    {
     "data": {
      "text/plain": [
       "(#360) [(TSTensor(vars:51, len:51), TensorCategory(3)),(TSTensor(vars:51, len:51), TensorCategory(2)),(TSTensor(vars:51, len:51), TensorCategory(2)),(TSTensor(vars:51, len:51), TensorCategory(3)),(TSTensor(vars:51, len:51), TensorCategory(2)),(TSTensor(vars:51, len:51), TensorCategory(4)),(TSTensor(vars:51, len:51), TensorCategory(0)),(TSTensor(vars:51, len:51), TensorCategory(5)),(TSTensor(vars:51, len:51), TensorCategory(2)),(TSTensor(vars:51, len:51), TensorCategory(1))...]"
      ]
     },
     "execution_count": 43,
     "metadata": {
      "tags": []
     },
     "output_type": "execute_result"
    }
   ],
   "source": [
    "X, y = df2xy(df, feat_col='feature', target_col='target', data_cols=slice(2, -1))\n",
    "splits = get_splits(y, valid_size=.2, stratify=True, random_state=23, shuffle=True)\n",
    "tfms  = [None, [Categorize()]]\n",
    "dsets = TSDatasets(X, y, tfms=tfms, splits=splits)\n",
    "dsets"
   ]
  },
  {
   "cell_type": "markdown",
   "metadata": {
    "heading_collapsed": true,
    "hidden": true,
    "id": "BMbI0a2MmFaa"
   },
   "source": [
    "### Single multivariate time series"
   ]
  },
  {
   "cell_type": "markdown",
   "metadata": {
    "hidden": true,
    "id": "d49qpHp-mFab"
   },
   "source": [
    "In this second scenario, we have a single time series, and we'll need to decide how to create the individual samples usingthe `SlidingWindow`function.\n",
    "\n",
    "This is how you could get the dataframe, with many columns for each feature, and a target."
   ]
  },
  {
   "cell_type": "code",
   "execution_count": 44,
   "metadata": {
    "colab": {
     "base_uri": "https://localhost:8080/",
     "height": 444
    },
    "hidden": true,
    "id": "7uHCD8EamFae",
    "outputId": "a85299ae-61f7-4a04-a6ed-89334d536ac5"
   },
   "outputs": [
    {
     "data": {
      "text/html": [
       "<div>\n",
       "<style scoped>\n",
       "    .dataframe tbody tr th:only-of-type {\n",
       "        vertical-align: middle;\n",
       "    }\n",
       "\n",
       "    .dataframe tbody tr th {\n",
       "        vertical-align: top;\n",
       "    }\n",
       "\n",
       "    .dataframe thead th {\n",
       "        text-align: right;\n",
       "    }\n",
       "</style>\n",
       "<table border=\"1\" class=\"dataframe\">\n",
       "  <thead>\n",
       "    <tr style=\"text-align: right;\">\n",
       "      <th></th>\n",
       "      <th>0</th>\n",
       "      <th>1</th>\n",
       "      <th>2</th>\n",
       "      <th>3</th>\n",
       "      <th>4</th>\n",
       "      <th>5</th>\n",
       "      <th>6</th>\n",
       "      <th>7</th>\n",
       "      <th>8</th>\n",
       "      <th>9</th>\n",
       "      <th>10</th>\n",
       "      <th>11</th>\n",
       "      <th>12</th>\n",
       "      <th>13</th>\n",
       "      <th>14</th>\n",
       "      <th>15</th>\n",
       "      <th>16</th>\n",
       "      <th>17</th>\n",
       "      <th>18</th>\n",
       "      <th>19</th>\n",
       "      <th>20</th>\n",
       "      <th>21</th>\n",
       "      <th>22</th>\n",
       "      <th>23</th>\n",
       "      <th>target</th>\n",
       "    </tr>\n",
       "  </thead>\n",
       "  <tbody>\n",
       "    <tr>\n",
       "      <th>0</th>\n",
       "      <td>-0.372758</td>\n",
       "      <td>-1.821679</td>\n",
       "      <td>-0.846321</td>\n",
       "      <td>0.465208</td>\n",
       "      <td>-2.015072</td>\n",
       "      <td>-0.839242</td>\n",
       "      <td>-0.564097</td>\n",
       "      <td>-0.796225</td>\n",
       "      <td>-0.149604</td>\n",
       "      <td>0.599967</td>\n",
       "      <td>-0.823936</td>\n",
       "      <td>-0.286140</td>\n",
       "      <td>-0.507478</td>\n",
       "      <td>-1.369001</td>\n",
       "      <td>-0.515990</td>\n",
       "      <td>0.577993</td>\n",
       "      <td>-1.534954</td>\n",
       "      <td>-0.673190</td>\n",
       "      <td>-0.536343</td>\n",
       "      <td>-1.626957</td>\n",
       "      <td>-0.594337</td>\n",
       "      <td>0.619205</td>\n",
       "      <td>-1.771773</td>\n",
       "      <td>-0.810086</td>\n",
       "      <td>4.0</td>\n",
       "    </tr>\n",
       "    <tr>\n",
       "      <th>1</th>\n",
       "      <td>-0.367844</td>\n",
       "      <td>-1.841987</td>\n",
       "      <td>-0.846325</td>\n",
       "      <td>0.467033</td>\n",
       "      <td>-2.007557</td>\n",
       "      <td>-0.838151</td>\n",
       "      <td>-0.564499</td>\n",
       "      <td>-0.797622</td>\n",
       "      <td>-0.150012</td>\n",
       "      <td>0.597535</td>\n",
       "      <td>-0.822723</td>\n",
       "      <td>-0.285675</td>\n",
       "      <td>-0.489377</td>\n",
       "      <td>-1.382364</td>\n",
       "      <td>-0.537491</td>\n",
       "      <td>0.576627</td>\n",
       "      <td>-1.532795</td>\n",
       "      <td>-0.671919</td>\n",
       "      <td>-0.533816</td>\n",
       "      <td>-1.642514</td>\n",
       "      <td>-0.605328</td>\n",
       "      <td>0.617045</td>\n",
       "      <td>-1.796660</td>\n",
       "      <td>-0.818863</td>\n",
       "      <td>4.0</td>\n",
       "    </tr>\n",
       "    <tr>\n",
       "      <th>2</th>\n",
       "      <td>-0.378445</td>\n",
       "      <td>-1.821358</td>\n",
       "      <td>-0.839571</td>\n",
       "      <td>0.471135</td>\n",
       "      <td>-2.010042</td>\n",
       "      <td>-0.832021</td>\n",
       "      <td>-0.563753</td>\n",
       "      <td>-0.795704</td>\n",
       "      <td>-0.151608</td>\n",
       "      <td>0.597007</td>\n",
       "      <td>-0.820954</td>\n",
       "      <td>-0.285412</td>\n",
       "      <td>-0.510865</td>\n",
       "      <td>-1.371936</td>\n",
       "      <td>-0.510966</td>\n",
       "      <td>0.576456</td>\n",
       "      <td>-1.532478</td>\n",
       "      <td>-0.671555</td>\n",
       "      <td>-0.526319</td>\n",
       "      <td>-1.697145</td>\n",
       "      <td>-0.624302</td>\n",
       "      <td>0.624789</td>\n",
       "      <td>-1.738568</td>\n",
       "      <td>-0.788060</td>\n",
       "      <td>4.0</td>\n",
       "    </tr>\n",
       "    <tr>\n",
       "      <th>3</th>\n",
       "      <td>-0.386751</td>\n",
       "      <td>-1.845643</td>\n",
       "      <td>-0.848031</td>\n",
       "      <td>0.506153</td>\n",
       "      <td>-2.032552</td>\n",
       "      <td>-0.841696</td>\n",
       "      <td>-0.565008</td>\n",
       "      <td>-0.790238</td>\n",
       "      <td>-0.152350</td>\n",
       "      <td>0.599099</td>\n",
       "      <td>-0.822648</td>\n",
       "      <td>-0.285793</td>\n",
       "      <td>-0.506752</td>\n",
       "      <td>-1.383616</td>\n",
       "      <td>-0.530980</td>\n",
       "      <td>0.579362</td>\n",
       "      <td>-1.535441</td>\n",
       "      <td>-0.672198</td>\n",
       "      <td>-0.554538</td>\n",
       "      <td>-1.644413</td>\n",
       "      <td>-0.602884</td>\n",
       "      <td>0.634100</td>\n",
       "      <td>-1.749744</td>\n",
       "      <td>-0.816695</td>\n",
       "      <td>4.0</td>\n",
       "    </tr>\n",
       "    <tr>\n",
       "      <th>4</th>\n",
       "      <td>-0.417101</td>\n",
       "      <td>-1.941721</td>\n",
       "      <td>-0.885500</td>\n",
       "      <td>0.611207</td>\n",
       "      <td>-1.953282</td>\n",
       "      <td>-0.902529</td>\n",
       "      <td>-0.573550</td>\n",
       "      <td>-0.799730</td>\n",
       "      <td>-0.169575</td>\n",
       "      <td>0.606181</td>\n",
       "      <td>-0.826938</td>\n",
       "      <td>-0.290546</td>\n",
       "      <td>-0.529976</td>\n",
       "      <td>-1.560801</td>\n",
       "      <td>-0.658221</td>\n",
       "      <td>0.626759</td>\n",
       "      <td>-1.482552</td>\n",
       "      <td>-0.659393</td>\n",
       "      <td>-0.576196</td>\n",
       "      <td>-1.763092</td>\n",
       "      <td>-0.694843</td>\n",
       "      <td>0.680086</td>\n",
       "      <td>-1.664565</td>\n",
       "      <td>-0.857897</td>\n",
       "      <td>4.0</td>\n",
       "    </tr>\n",
       "    <tr>\n",
       "      <th>...</th>\n",
       "      <td>...</td>\n",
       "      <td>...</td>\n",
       "      <td>...</td>\n",
       "      <td>...</td>\n",
       "      <td>...</td>\n",
       "      <td>...</td>\n",
       "      <td>...</td>\n",
       "      <td>...</td>\n",
       "      <td>...</td>\n",
       "      <td>...</td>\n",
       "      <td>...</td>\n",
       "      <td>...</td>\n",
       "      <td>...</td>\n",
       "      <td>...</td>\n",
       "      <td>...</td>\n",
       "      <td>...</td>\n",
       "      <td>...</td>\n",
       "      <td>...</td>\n",
       "      <td>...</td>\n",
       "      <td>...</td>\n",
       "      <td>...</td>\n",
       "      <td>...</td>\n",
       "      <td>...</td>\n",
       "      <td>...</td>\n",
       "      <td>...</td>\n",
       "    </tr>\n",
       "    <tr>\n",
       "      <th>18355</th>\n",
       "      <td>-0.845492</td>\n",
       "      <td>-1.919878</td>\n",
       "      <td>-0.583276</td>\n",
       "      <td>0.856647</td>\n",
       "      <td>-1.978063</td>\n",
       "      <td>-0.553987</td>\n",
       "      <td>-0.790264</td>\n",
       "      <td>-0.770808</td>\n",
       "      <td>-0.075527</td>\n",
       "      <td>0.673925</td>\n",
       "      <td>-0.822626</td>\n",
       "      <td>0.058216</td>\n",
       "      <td>-0.879236</td>\n",
       "      <td>-1.428410</td>\n",
       "      <td>-0.402750</td>\n",
       "      <td>0.857950</td>\n",
       "      <td>-1.527194</td>\n",
       "      <td>-0.315056</td>\n",
       "      <td>-0.889773</td>\n",
       "      <td>-1.684754</td>\n",
       "      <td>-0.651485</td>\n",
       "      <td>0.870652</td>\n",
       "      <td>-1.659452</td>\n",
       "      <td>-0.607189</td>\n",
       "      <td>4.0</td>\n",
       "    </tr>\n",
       "    <tr>\n",
       "      <th>18356</th>\n",
       "      <td>-0.761116</td>\n",
       "      <td>-1.945017</td>\n",
       "      <td>-0.587023</td>\n",
       "      <td>0.680567</td>\n",
       "      <td>-1.992559</td>\n",
       "      <td>-0.566642</td>\n",
       "      <td>-0.759338</td>\n",
       "      <td>-0.790078</td>\n",
       "      <td>-0.090382</td>\n",
       "      <td>0.630602</td>\n",
       "      <td>-0.856600</td>\n",
       "      <td>0.034010</td>\n",
       "      <td>-0.814410</td>\n",
       "      <td>-1.487098</td>\n",
       "      <td>-0.426398</td>\n",
       "      <td>0.737224</td>\n",
       "      <td>-1.501386</td>\n",
       "      <td>-0.315699</td>\n",
       "      <td>-0.642052</td>\n",
       "      <td>-1.659315</td>\n",
       "      <td>-0.660619</td>\n",
       "      <td>0.754220</td>\n",
       "      <td>-1.727294</td>\n",
       "      <td>-0.618963</td>\n",
       "      <td>4.0</td>\n",
       "    </tr>\n",
       "    <tr>\n",
       "      <th>18357</th>\n",
       "      <td>-0.679080</td>\n",
       "      <td>-1.933950</td>\n",
       "      <td>-0.615705</td>\n",
       "      <td>0.574144</td>\n",
       "      <td>-1.986102</td>\n",
       "      <td>-0.572386</td>\n",
       "      <td>-0.741427</td>\n",
       "      <td>-0.793610</td>\n",
       "      <td>-0.100764</td>\n",
       "      <td>0.607822</td>\n",
       "      <td>-0.862768</td>\n",
       "      <td>0.019406</td>\n",
       "      <td>-0.782641</td>\n",
       "      <td>-1.469383</td>\n",
       "      <td>-0.430941</td>\n",
       "      <td>0.659843</td>\n",
       "      <td>-1.503965</td>\n",
       "      <td>-0.324704</td>\n",
       "      <td>-0.609636</td>\n",
       "      <td>-1.705025</td>\n",
       "      <td>-0.690759</td>\n",
       "      <td>0.568415</td>\n",
       "      <td>-1.877402</td>\n",
       "      <td>-0.412571</td>\n",
       "      <td>4.0</td>\n",
       "    </tr>\n",
       "    <tr>\n",
       "      <th>18358</th>\n",
       "      <td>-0.670308</td>\n",
       "      <td>-1.916436</td>\n",
       "      <td>-0.634439</td>\n",
       "      <td>0.478221</td>\n",
       "      <td>-2.078024</td>\n",
       "      <td>-0.620835</td>\n",
       "      <td>-0.731334</td>\n",
       "      <td>-0.790556</td>\n",
       "      <td>-0.109856</td>\n",
       "      <td>0.600801</td>\n",
       "      <td>-0.858134</td>\n",
       "      <td>0.009664</td>\n",
       "      <td>-0.766994</td>\n",
       "      <td>-1.464376</td>\n",
       "      <td>-0.438325</td>\n",
       "      <td>0.597387</td>\n",
       "      <td>-1.612530</td>\n",
       "      <td>-0.412526</td>\n",
       "      <td>-0.560203</td>\n",
       "      <td>-1.678066</td>\n",
       "      <td>-0.716252</td>\n",
       "      <td>0.550804</td>\n",
       "      <td>-1.903281</td>\n",
       "      <td>-0.472645</td>\n",
       "      <td>4.0</td>\n",
       "    </tr>\n",
       "    <tr>\n",
       "      <th>18359</th>\n",
       "      <td>-0.651644</td>\n",
       "      <td>-1.911442</td>\n",
       "      <td>-0.656298</td>\n",
       "      <td>0.469341</td>\n",
       "      <td>-2.086228</td>\n",
       "      <td>-0.644960</td>\n",
       "      <td>-0.725837</td>\n",
       "      <td>-0.787746</td>\n",
       "      <td>-0.116215</td>\n",
       "      <td>0.597154</td>\n",
       "      <td>-0.854429</td>\n",
       "      <td>0.003888</td>\n",
       "      <td>-0.759306</td>\n",
       "      <td>-1.456960</td>\n",
       "      <td>-0.445572</td>\n",
       "      <td>0.591917</td>\n",
       "      <td>-1.623406</td>\n",
       "      <td>-0.413167</td>\n",
       "      <td>-0.557817</td>\n",
       "      <td>-1.641795</td>\n",
       "      <td>-0.704824</td>\n",
       "      <td>0.562437</td>\n",
       "      <td>-1.895895</td>\n",
       "      <td>-0.454302</td>\n",
       "      <td>4.0</td>\n",
       "    </tr>\n",
       "  </tbody>\n",
       "</table>\n",
       "<p>18360 rows × 25 columns</p>\n",
       "</div>"
      ],
      "text/plain": [
       "              0         1         2  ...        22        23  target\n",
       "0     -0.372758 -1.821679 -0.846321  ... -1.771773 -0.810086     4.0\n",
       "1     -0.367844 -1.841987 -0.846325  ... -1.796660 -0.818863     4.0\n",
       "2     -0.378445 -1.821358 -0.839571  ... -1.738568 -0.788060     4.0\n",
       "3     -0.386751 -1.845643 -0.848031  ... -1.749744 -0.816695     4.0\n",
       "4     -0.417101 -1.941721 -0.885500  ... -1.664565 -0.857897     4.0\n",
       "...         ...       ...       ...  ...       ...       ...     ...\n",
       "18355 -0.845492 -1.919878 -0.583276  ... -1.659452 -0.607189     4.0\n",
       "18356 -0.761116 -1.945017 -0.587023  ... -1.727294 -0.618963     4.0\n",
       "18357 -0.679080 -1.933950 -0.615705  ... -1.877402 -0.412571     4.0\n",
       "18358 -0.670308 -1.916436 -0.634439  ... -1.903281 -0.472645     4.0\n",
       "18359 -0.651644 -1.911442 -0.656298  ... -1.895895 -0.454302     4.0\n",
       "\n",
       "[18360 rows x 25 columns]"
      ]
     },
     "execution_count": 44,
     "metadata": {
      "tags": []
     },
     "output_type": "execute_result"
    }
   ],
   "source": [
    "ds_name = 'NATOPS' \n",
    "X, y, splits = get_UCR_data(ds_name, return_split=False)\n",
    "data = X.transpose(1,0,2).reshape(X.shape[1], -1)\n",
    "df = pd.DataFrame(data).T\n",
    "df2 = pd.DataFrame(np.repeat(y, X.shape[2]), columns=['target'])\n",
    "df = df.merge(df2, left_index=True, right_index=True)\n",
    "df"
   ]
  },
  {
   "cell_type": "markdown",
   "metadata": {
    "hidden": true,
    "id": "FiPggIk_mFaw"
   },
   "source": [
    "In this case, you'll need to set the following parameters:\n",
    " \n",
    "* window_length\n",
    "* stride\n",
    "* start\n",
    "* horizon\n",
    "* get_x\n",
    "* get_y\n",
    "* seq_first\n",
    "\n",
    "You also need to bear in mind that you sould set shuffle=False when using splits since the individual time series are correlated with rest."
   ]
  },
  {
   "cell_type": "code",
   "execution_count": 45,
   "metadata": {
    "colab": {
     "base_uri": "https://localhost:8080/"
    },
    "hidden": true,
    "id": "txlPio00mFa0",
    "outputId": "d2dd5b43-fc34-4dc9-e4c5-258570b96280"
   },
   "outputs": [
    {
     "data": {
      "text/plain": [
       "(#360) [(TSTensor(vars:51, len:51), TensorCategory(3)),(TSTensor(vars:51, len:51), TensorCategory(2)),(TSTensor(vars:51, len:51), TensorCategory(2)),(TSTensor(vars:51, len:51), TensorCategory(3)),(TSTensor(vars:51, len:51), TensorCategory(2)),(TSTensor(vars:51, len:51), TensorCategory(4)),(TSTensor(vars:51, len:51), TensorCategory(0)),(TSTensor(vars:51, len:51), TensorCategory(5)),(TSTensor(vars:51, len:51), TensorCategory(2)),(TSTensor(vars:51, len:51), TensorCategory(1))...]"
      ]
     },
     "execution_count": 45,
     "metadata": {
      "tags": []
     },
     "output_type": "execute_result"
    }
   ],
   "source": [
    "window_length = X.shape[-1]  # window_length is usually selected based on prior domain knowledge or by trial and error\n",
    "stride = None                # None for non-overlapping (stride = window_length) (default = 1). This depends on how often you want to predict once the model is trained\n",
    "start = 0                    # use all data since the first time stamp (default = 0)\n",
    "get_x = None                 # None mean X comes from all columns except the target. If you only need specific cols pass their names in a list\n",
    "get_y = 'target'             # In multivariate time series, you must indicate which is/are the y columns\n",
    "horizon = 0                  # 0 means y is taken from the last time stamp of the time sequence (default = 0)\n",
    "seq_first = True\n",
    "                            \n",
    "X, y = SlidingWindow(window_length, stride=stride, start=start, get_x=get_x,  get_y=get_y, horizon=horizon, seq_first=seq_first)(df)\n",
    "splits = get_splits(y, valid_size=.2, stratify=True, random_state=23, shuffle=False)\n",
    "tfms  = [None, [Categorize()]]\n",
    "dsets = TSDatasets(X, y, tfms=tfms, splits=splits)\n",
    "dsets"
   ]
  },
  {
   "cell_type": "code",
   "execution_count": 46,
   "metadata": {
    "colab": {
     "base_uri": "https://localhost:8080/",
     "height": 62
    },
    "hidden": true,
    "id": "C6zLdfeKmFa9",
    "outputId": "24f9dd29-4abd-4741-893e-73bd1f8b6a05"
   },
   "outputs": [
    {
     "data": {
      "text/html": [
       "\n",
       "                <audio controls=\"controls\" autoplay=\"autoplay\">\n",
       "                    <source src=\"data:audio/wav;base64,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\" type=\"audio/wav\" />\n",
       "                    Your browser does not support the audio element.\n",
       "                </audio>\n",
       "              "
      ],
      "text/plain": [
       "<IPython.lib.display.Audio object>"
      ]
     },
     "metadata": {
      "tags": []
     },
     "output_type": "display_data"
    }
   ],
   "source": [
    "beep()"
   ]
  }
 ],
 "metadata": {
  "accelerator": "GPU",
  "colab": {
   "name": "00c_Time_Series_data_preparation.ipynb",
   "provenance": []
  },
  "kernelspec": {
   "display_name": "Python 3",
   "language": "python",
   "name": "python3"
  },
  "language_info": {
   "codemirror_mode": {
    "name": "ipython",
    "version": 3
   },
   "file_extension": ".py",
   "mimetype": "text/x-python",
   "name": "python",
   "nbconvert_exporter": "python",
   "pygments_lexer": "ipython3",
   "version": "3.7.6"
  },
  "toc": {
   "base_numbering": 1,
   "nav_menu": {},
   "number_sections": true,
   "sideBar": true,
   "skip_h1_title": false,
   "title_cell": "Table of Contents",
   "title_sidebar": "Contents",
   "toc_cell": false,
   "toc_position": {},
   "toc_section_display": true,
   "toc_window_display": false
  }
 },
 "nbformat": 4,
 "nbformat_minor": 1
}
