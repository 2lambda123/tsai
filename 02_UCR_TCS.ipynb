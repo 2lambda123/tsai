{
 "cells": [
  {
   "cell_type": "markdown",
   "metadata": {
    "ExecuteTime": {
     "end_time": "2019-10-01T16:33:54.512402Z",
     "start_time": "2019-10-01T16:33:54.507048Z"
    }
   },
   "source": [
    "If you are using Google Colab uncomment the following code:"
   ]
  },
  {
   "cell_type": "code",
   "execution_count": null,
   "metadata": {
    "ExecuteTime": {
     "end_time": "2019-10-01T16:38:42.227769Z",
     "start_time": "2019-10-01T16:38:42.224773Z"
    }
   },
   "outputs": [],
   "source": [
    "#!git clone https://github.com/timeseriesAI/timeseriesAI.git\n",
    "#%cd timeseriesAI\n",
    "#!pip install tslearn\n",
    "#!pip install pyts"
   ]
  },
  {
   "cell_type": "code",
   "execution_count": null,
   "metadata": {
    "ExecuteTime": {
     "end_time": "2019-10-01T16:38:44.251012Z",
     "start_time": "2019-10-01T16:38:42.230947Z"
    }
   },
   "outputs": [],
   "source": [
    "import fastai, os\n",
    "from fastai_timeseries import *\n",
    "from torchtimeseries.models import *\n",
    "path = Path(os.getcwd())\n",
    "print(path)\n",
    "print('fastai :', fastai.__version__)\n",
    "print('torch  :', torch.__version__)\n",
    "print('device :', device)"
   ]
  },
  {
   "cell_type": "code",
   "execution_count": null,
   "metadata": {
    "ExecuteTime": {
     "end_time": "2019-10-01T16:42:10.837080Z",
     "start_time": "2019-10-01T16:42:10.830312Z"
    }
   },
   "outputs": [],
   "source": [
    "# Data\n",
    "bottom10 = [ 'Wine', 'BeetleFly',  #'CinCECGtorso', not available for download \n",
    "            'InlineSkate', 'MiddlePhalanxTW', 'OliveOil', 'SmallKitchenAppliances', 'WordSynonyms', \n",
    "            'MiddlePhalanxOutlineAgeGroup', 'MoteStrain', 'Phoneme']\n",
    "top3 = ['Herring', 'ScreenType', 'ChlorineConcentration']\n",
    "datasets = bottom10 + top3\n",
    "bs = 64\n",
    "scale_type = 'standardize'\n",
    "scale_subtype = 'per_channel'\n",
    "scale_range = (-1, 1)\n",
    "\n",
    "# Arch\n",
    "arch = InceptionTime\n",
    "arch_kwargs = dict()\n",
    "\n",
    "# Training\n",
    "iters = 1\n",
    "epochs = 100\n",
    "max_lr = 3e-3\n",
    "warmup = False\n",
    "pct_start = .7\n",
    "metrics = [accuracy]\n",
    "wd = 1e-2\n",
    "opt_func = Ranger\n",
    "loss_func = LabelSmoothingCrossEntropy()"
   ]
  },
  {
   "cell_type": "code",
   "execution_count": null,
   "metadata": {
    "ExecuteTime": {
     "end_time": "2019-10-01T16:51:01.204577Z",
     "start_time": "2019-10-01T16:42:13.516196Z"
    }
   },
   "outputs": [],
   "source": [
    "output = run_UCR_test(iters,\n",
    "                      epochs,\n",
    "                      datasets,\n",
    "                      arch,\n",
    "                      bs=bs,\n",
    "                      max_lr=max_lr,\n",
    "                      pct_start=pct_start,\n",
    "                      warmup=warmup,\n",
    "                      wd=wd,\n",
    "                      metrics=metrics,\n",
    "                      scale_type=scale_type,\n",
    "                      scale_subtype=scale_subtype,\n",
    "                      scale_range=scale_range,\n",
    "                      opt_func=opt_func,\n",
    "                      loss_func=loss_func,\n",
    "                      **arch_kwargs)"
   ]
  },
  {
   "cell_type": "code",
   "execution_count": null,
   "metadata": {},
   "outputs": [],
   "source": []
  }
 ],
 "metadata": {
  "kernelspec": {
   "display_name": "fastai-v1",
   "language": "python",
   "name": "fastai-v1"
  },
  "language_info": {
   "codemirror_mode": {
    "name": "ipython",
    "version": 3
   },
   "file_extension": ".py",
   "mimetype": "text/x-python",
   "name": "python",
   "nbconvert_exporter": "python",
   "pygments_lexer": "ipython3",
   "version": "3.7.4"
  }
 },
 "nbformat": 4,
 "nbformat_minor": 2
}
