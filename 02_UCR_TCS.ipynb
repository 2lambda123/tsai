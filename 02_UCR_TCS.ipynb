{
 "cells": [
  {
   "cell_type": "markdown",
   "metadata": {
    "ExecuteTime": {
     "end_time": "2019-10-01T16:33:54.512402Z",
     "start_time": "2019-10-01T16:33:54.507048Z"
    }
   },
   "source": [
    "If you are using Google Colab uncomment the following code:"
   ]
  },
  {
   "cell_type": "code",
   "execution_count": 1,
   "metadata": {
    "ExecuteTime": {
     "end_time": "2019-10-01T16:38:42.227769Z",
     "start_time": "2019-10-01T16:38:42.224773Z"
    }
   },
   "outputs": [],
   "source": [
    "#!git clone https://github.com/timeseriesAI/timeseriesAI.git\n",
    "#%cd timeseriesAI\n",
    "#!pip install tslearn\n",
    "#!pip install pyts"
   ]
  },
  {
   "cell_type": "code",
   "execution_count": 2,
   "metadata": {
    "ExecuteTime": {
     "end_time": "2019-10-01T16:38:44.251012Z",
     "start_time": "2019-10-01T16:38:42.230947Z"
    }
   },
   "outputs": [
    {
     "data": {
      "text/html": [
       "<style>.container { width:100% !important; }</style>"
      ],
      "text/plain": [
       "<IPython.core.display.HTML object>"
      ]
     },
     "metadata": {},
     "output_type": "display_data"
    },
    {
     "name": "stdout",
     "output_type": "stream",
     "text": [
      "/home/oguizadl/timeseriesAI\n",
      "fastai : 1.0.57\n",
      "torch  : 1.2.0\n",
      "device : cpu\n"
     ]
    }
   ],
   "source": [
    "import fastai, os\n",
    "from fastai_timeseries import *\n",
    "from torchtimeseries.models import *\n",
    "path = Path(os.getcwd())\n",
    "print(path)\n",
    "print('fastai :', fastai.__version__)\n",
    "print('torch  :', torch.__version__)\n",
    "print('device :', device)"
   ]
  },
  {
   "cell_type": "code",
   "execution_count": 4,
   "metadata": {
    "ExecuteTime": {
     "end_time": "2019-10-01T16:42:10.837080Z",
     "start_time": "2019-10-01T16:42:10.830312Z"
    }
   },
   "outputs": [],
   "source": [
    "# Data\n",
    "bottom10 = [ 'Wine', 'BeetleFly',  #'CinCECGtorso', not available for download \n",
    "            'InlineSkate', 'MiddlePhalanxTW', 'OliveOil', 'SmallKitchenAppliances', 'WordSynonyms', \n",
    "            'MiddlePhalanxOutlineAgeGroup', 'MoteStrain', 'Phoneme']\n",
    "top3 = ['Herring', 'ScreenType', 'ChlorineConcentration']\n",
    "datasets = bottom10 + top3\n",
    "bs = 64\n",
    "scale_type = 'standardize'\n",
    "scale_subtype = 'per_channel'\n",
    "scale_range = (-1, 1)\n",
    "\n",
    "# Arch\n",
    "arch = InceptionTime\n",
    "arch_kwargs = dict()\n",
    "\n",
    "# Training\n",
    "iters = 1\n",
    "epochs = 1\n",
    "max_lr = 3e-3\n",
    "warmup = False\n",
    "pct_start = .7\n",
    "metrics = [accuracy]\n",
    "wd = 1e-2\n",
    "opt_func = Ranger\n",
    "loss_func = LabelSmoothingCrossEntropy()"
   ]
  },
  {
   "cell_type": "code",
   "execution_count": 5,
   "metadata": {
    "ExecuteTime": {
     "end_time": "2019-10-01T16:51:01.204577Z",
     "start_time": "2019-10-01T16:42:13.516196Z"
    }
   },
   "outputs": [
    {
     "data": {
      "text/html": [
       "<div>\n",
       "<style scoped>\n",
       "    .dataframe tbody tr th:only-of-type {\n",
       "        vertical-align: middle;\n",
       "    }\n",
       "\n",
       "    .dataframe tbody tr th {\n",
       "        vertical-align: top;\n",
       "    }\n",
       "\n",
       "    .dataframe thead th {\n",
       "        text-align: right;\n",
       "    }\n",
       "</style>\n",
       "<table border=\"1\" class=\"dataframe\">\n",
       "  <thead>\n",
       "    <tr style=\"text-align: right;\">\n",
       "      <th></th>\n",
       "      <th>dataset</th>\n",
       "      <th>iter</th>\n",
       "      <th>epochs</th>\n",
       "      <th>loss</th>\n",
       "      <th>val_loss</th>\n",
       "      <th>accuracy</th>\n",
       "      <th>accuracy_train_loss</th>\n",
       "      <th>max_accuracy</th>\n",
       "      <th>time (s)</th>\n",
       "    </tr>\n",
       "  </thead>\n",
       "  <tbody>\n",
       "    <tr>\n",
       "      <td>0</td>\n",
       "      <td>Herring</td>\n",
       "      <td>0</td>\n",
       "      <td>1</td>\n",
       "      <td>0.763606</td>\n",
       "      <td>0.678836</td>\n",
       "      <td>0.593750</td>\n",
       "      <td>0.593750</td>\n",
       "      <td>0.593750</td>\n",
       "      <td>4s</td>\n",
       "    </tr>\n",
       "    <tr>\n",
       "      <td>1</td>\n",
       "      <td>ScreenType</td>\n",
       "      <td>0</td>\n",
       "      <td>1</td>\n",
       "      <td>1.105754</td>\n",
       "      <td>1.111276</td>\n",
       "      <td>0.333333</td>\n",
       "      <td>0.333333</td>\n",
       "      <td>0.333333</td>\n",
       "      <td>28s</td>\n",
       "    </tr>\n",
       "    <tr>\n",
       "      <td>2</td>\n",
       "      <td>ChlorineConcentration</td>\n",
       "      <td>0</td>\n",
       "      <td>1</td>\n",
       "      <td>1.065901</td>\n",
       "      <td>1.091499</td>\n",
       "      <td>0.236719</td>\n",
       "      <td>0.236719</td>\n",
       "      <td>0.236719</td>\n",
       "      <td>25s</td>\n",
       "    </tr>\n",
       "  </tbody>\n",
       "</table>\n",
       "</div>"
      ],
      "text/plain": [
       "                 dataset iter epochs      loss  val_loss  accuracy  \\\n",
       "0                Herring    0      1  0.763606  0.678836  0.593750   \n",
       "1             ScreenType    0      1  1.105754  1.111276  0.333333   \n",
       "2  ChlorineConcentration    0      1  1.065901  1.091499  0.236719   \n",
       "\n",
       "   accuracy_train_loss  max_accuracy time (s)  \n",
       "0             0.593750      0.593750       4s  \n",
       "1             0.333333      0.333333      28s  \n",
       "2             0.236719      0.236719      25s  "
      ]
     },
     "metadata": {},
     "output_type": "display_data"
    }
   ],
   "source": [
    "output = run_UCR_test(iters,\n",
    "                      epochs,\n",
    "                      datasets,\n",
    "                      arch,\n",
    "                      bs=bs,\n",
    "                      max_lr=max_lr,\n",
    "                      pct_start=pct_start,\n",
    "                      warmup=warmup,\n",
    "                      wd=wd,\n",
    "                      metrics=metrics,\n",
    "                      scale_type=scale_type,\n",
    "                      scale_subtype=scale_subtype,\n",
    "                      scale_range=scale_range,\n",
    "                      opt_func=opt_func,\n",
    "                      loss_func=loss_func,\n",
    "                      **arch_kwargs)"
   ]
  },
  {
   "cell_type": "code",
   "execution_count": null,
   "metadata": {},
   "outputs": [],
   "source": []
  }
 ],
 "metadata": {
  "kernelspec": {
   "display_name": "fastai-v1",
   "language": "python",
   "name": "fastai-v1"
  },
  "language_info": {
   "codemirror_mode": {
    "name": "ipython",
    "version": 3
   },
   "file_extension": ".py",
   "mimetype": "text/x-python",
   "name": "python",
   "nbconvert_exporter": "python",
   "pygments_lexer": "ipython3",
   "version": "3.7.4"
  }
 },
 "nbformat": 4,
 "nbformat_minor": 2
}
