{
 "cells": [
  {
   "cell_type": "code",
   "execution_count": 1,
   "metadata": {
    "ExecuteTime": {
     "end_time": "2019-10-01T15:50:23.463849Z",
     "start_time": "2019-10-01T15:50:23.451472Z"
    },
    "hide_input": true
   },
   "outputs": [
    {
     "data": {
      "application/javascript": [
       "utils.load_extension('collapsible_headings/main')\n",
       "utils.load_extension('hide_input/main')\n",
       "utils.load_extension('autosavetime/main')\n",
       "utils.load_extension('execute_time/ExecuteTime')\n",
       "utils.load_extension('code_prettify/code_prettify')\n",
       "utils.load_extension('scroll_down/main')\n",
       "utils.load_extension('jupyter-js-widgets/extension')\n"
      ],
      "text/plain": [
       "<IPython.core.display.Javascript object>"
      ]
     },
     "metadata": {},
     "output_type": "display_data"
    }
   ],
   "source": [
    "%%javascript\n",
    "utils.load_extension('collapsible_headings/main')\n",
    "utils.load_extension('hide_input/main')\n",
    "utils.load_extension('autosavetime/main')\n",
    "utils.load_extension('execute_time/ExecuteTime')\n",
    "utils.load_extension('code_prettify/code_prettify')\n",
    "utils.load_extension('scroll_down/main')\n",
    "utils.load_extension('jupyter-js-widgets/extension')"
   ]
  },
  {
   "cell_type": "code",
   "execution_count": 2,
   "metadata": {
    "ExecuteTime": {
     "end_time": "2019-10-01T15:50:23.734934Z",
     "start_time": "2019-10-01T15:50:23.466794Z"
    }
   },
   "outputs": [],
   "source": [
    "# If you are using Google Colab uncomment this:\n",
    "\n",
    "#!git clone https://github.com/timeseriesAI/timeseriesAI.git\n",
    "#%cd timeseriesAI\n",
    "#!pip install tslearn\n",
    "#!pip install pyts"
   ]
  },
  {
   "cell_type": "code",
   "execution_count": 3,
   "metadata": {
    "ExecuteTime": {
     "end_time": "2019-10-01T15:50:25.520521Z",
     "start_time": "2019-10-01T15:50:23.737282Z"
    }
   },
   "outputs": [
    {
     "data": {
      "text/html": [
       "<style>.container { width:100% !important; }</style>"
      ],
      "text/plain": [
       "<IPython.core.display.HTML object>"
      ]
     },
     "metadata": {},
     "output_type": "display_data"
    },
    {
     "name": "stdout",
     "output_type": "stream",
     "text": [
      "/home/oguizadl/timeseriesAI\n",
      "fastai : 1.0.57\n",
      "torch  : 1.2.0\n",
      "device : cpu\n"
     ]
    }
   ],
   "source": [
    "import fastai, os\n",
    "from fastai_timeseries import *\n",
    "from torchtimeseries.models import *\n",
    "path = Path(os.getcwd())\n",
    "print(path)\n",
    "print('fastai :', fastai.__version__)\n",
    "print('torch  :', torch.__version__)\n",
    "print('device :', device)"
   ]
  },
  {
   "cell_type": "code",
   "execution_count": 4,
   "metadata": {
    "ExecuteTime": {
     "end_time": "2019-10-01T15:50:25.556293Z",
     "start_time": "2019-10-01T15:50:25.523060Z"
    }
   },
   "outputs": [],
   "source": [
    "# Data\n",
    "bottom10 = ['Wine', 'BeetleFly',                           #'CinCECGtorso', not available for download\n",
    "            'InlineSkate', 'MiddlePhalanxTW', 'OliveOil', \n",
    "            'SmallKitchenAppliances', 'WordSynonyms', \n",
    "            'MiddlePhalanxOutlineAgeGroup', 'MoteStrain', 'Phoneme']\n",
    "top3 = ['Herring', 'ScreenType', 'ChlorineConcentration']\n",
    "datasets = bottom10 + top3\n",
    "bs = 64\n",
    "scale_type = 'standardize'\n",
    "scale_subtype = 'per_channel'\n",
    "scale_range = (-1, 1)\n",
    "\n",
    "# Arch\n",
    "arch = InceptionTime\n",
    "arch_kwargs = dict() \n",
    "\n",
    "# Training\n",
    "iters = 1\n",
    "epochs = 1\n",
    "max_lr = 1e-2 \n",
    "warmup = False\n",
    "pct_start = .7 \n",
    "metrics = [accuracy]\n",
    "wd = 1e-2\n",
    "opt_func=Ranger\n",
    "loss_func = LabelSmoothingCrossEntropy()\n",
    "\n",
    "# Callbacks\n",
    "mixup = False"
   ]
  },
  {
   "cell_type": "code",
   "execution_count": 5,
   "metadata": {
    "ExecuteTime": {
     "end_time": "2019-10-01T15:54:21.495439Z",
     "start_time": "2019-10-01T15:50:25.558634Z"
    }
   },
   "outputs": [
    {
     "data": {
      "text/html": [
       "<div>\n",
       "<style scoped>\n",
       "    .dataframe tbody tr th:only-of-type {\n",
       "        vertical-align: middle;\n",
       "    }\n",
       "\n",
       "    .dataframe tbody tr th {\n",
       "        vertical-align: top;\n",
       "    }\n",
       "\n",
       "    .dataframe thead th {\n",
       "        text-align: right;\n",
       "    }\n",
       "</style>\n",
       "<table border=\"1\" class=\"dataframe\">\n",
       "  <thead>\n",
       "    <tr style=\"text-align: right;\">\n",
       "      <th></th>\n",
       "      <th>dataset</th>\n",
       "      <th>iter</th>\n",
       "      <th>epochs</th>\n",
       "      <th>accuracy</th>\n",
       "      <th>accuracy_train_loss</th>\n",
       "      <th>max_accuracy</th>\n",
       "      <th>time (s)</th>\n",
       "    </tr>\n",
       "  </thead>\n",
       "  <tbody>\n",
       "    <tr>\n",
       "      <td>0</td>\n",
       "      <td>Herring</td>\n",
       "      <td>0</td>\n",
       "      <td>1</td>\n",
       "      <td>0.593750</td>\n",
       "      <td>0.593750</td>\n",
       "      <td>0.593750</td>\n",
       "      <td>6s</td>\n",
       "    </tr>\n",
       "    <tr>\n",
       "      <td>1</td>\n",
       "      <td>Wine</td>\n",
       "      <td>0</td>\n",
       "      <td>1</td>\n",
       "      <td>0.500000</td>\n",
       "      <td>0.500000</td>\n",
       "      <td>0.500000</td>\n",
       "      <td>2s</td>\n",
       "    </tr>\n",
       "    <tr>\n",
       "      <td>2</td>\n",
       "      <td>BeetleFly</td>\n",
       "      <td>0</td>\n",
       "      <td>1</td>\n",
       "      <td>0.500000</td>\n",
       "      <td>0.500000</td>\n",
       "      <td>0.500000</td>\n",
       "      <td>2s</td>\n",
       "    </tr>\n",
       "    <tr>\n",
       "      <td>3</td>\n",
       "      <td>MoteStrain</td>\n",
       "      <td>0</td>\n",
       "      <td>1</td>\n",
       "      <td>0.460863</td>\n",
       "      <td>0.460863</td>\n",
       "      <td>0.460863</td>\n",
       "      <td>4s</td>\n",
       "    </tr>\n",
       "    <tr>\n",
       "      <td>4</td>\n",
       "      <td>ChlorineConcentration</td>\n",
       "      <td>0</td>\n",
       "      <td>1</td>\n",
       "      <td>0.423177</td>\n",
       "      <td>0.423177</td>\n",
       "      <td>0.423177</td>\n",
       "      <td>25s</td>\n",
       "    </tr>\n",
       "    <tr>\n",
       "      <td>5</td>\n",
       "      <td>ScreenType</td>\n",
       "      <td>0</td>\n",
       "      <td>1</td>\n",
       "      <td>0.333333</td>\n",
       "      <td>0.333333</td>\n",
       "      <td>0.333333</td>\n",
       "      <td>27s</td>\n",
       "    </tr>\n",
       "    <tr>\n",
       "      <td>6</td>\n",
       "      <td>SmallKitchenAppliances</td>\n",
       "      <td>0</td>\n",
       "      <td>1</td>\n",
       "      <td>0.325333</td>\n",
       "      <td>0.325333</td>\n",
       "      <td>0.325333</td>\n",
       "      <td>27s</td>\n",
       "    </tr>\n",
       "    <tr>\n",
       "      <td>7</td>\n",
       "      <td>OliveOil</td>\n",
       "      <td>0</td>\n",
       "      <td>1</td>\n",
       "      <td>0.300000</td>\n",
       "      <td>0.300000</td>\n",
       "      <td>0.300000</td>\n",
       "      <td>3s</td>\n",
       "    </tr>\n",
       "    <tr>\n",
       "      <td>8</td>\n",
       "      <td>MiddlePhalanxTW</td>\n",
       "      <td>0</td>\n",
       "      <td>1</td>\n",
       "      <td>0.272727</td>\n",
       "      <td>0.272727</td>\n",
       "      <td>0.272727</td>\n",
       "      <td>5s</td>\n",
       "    </tr>\n",
       "    <tr>\n",
       "      <td>9</td>\n",
       "      <td>WordSynonyms</td>\n",
       "      <td>0</td>\n",
       "      <td>1</td>\n",
       "      <td>0.219436</td>\n",
       "      <td>0.219436</td>\n",
       "      <td>0.219436</td>\n",
       "      <td>12s</td>\n",
       "    </tr>\n",
       "    <tr>\n",
       "      <td>10</td>\n",
       "      <td>MiddlePhalanxOutlineAgeGroup</td>\n",
       "      <td>0</td>\n",
       "      <td>1</td>\n",
       "      <td>0.188312</td>\n",
       "      <td>0.188312</td>\n",
       "      <td>0.188312</td>\n",
       "      <td>5s</td>\n",
       "    </tr>\n",
       "    <tr>\n",
       "      <td>11</td>\n",
       "      <td>InlineSkate</td>\n",
       "      <td>0</td>\n",
       "      <td>1</td>\n",
       "      <td>0.092727</td>\n",
       "      <td>0.092727</td>\n",
       "      <td>0.092727</td>\n",
       "      <td>44s</td>\n",
       "    </tr>\n",
       "    <tr>\n",
       "      <td>12</td>\n",
       "      <td>Phoneme</td>\n",
       "      <td>0</td>\n",
       "      <td>1</td>\n",
       "      <td>0.022152</td>\n",
       "      <td>0.022152</td>\n",
       "      <td>0.022152</td>\n",
       "      <td>69s</td>\n",
       "    </tr>\n",
       "  </tbody>\n",
       "</table>\n",
       "</div>"
      ],
      "text/plain": [
       "                         dataset iter epochs  accuracy  accuracy_train_loss  \\\n",
       "0                        Herring    0      1  0.593750             0.593750   \n",
       "1                           Wine    0      1  0.500000             0.500000   \n",
       "2                      BeetleFly    0      1  0.500000             0.500000   \n",
       "3                     MoteStrain    0      1  0.460863             0.460863   \n",
       "4          ChlorineConcentration    0      1  0.423177             0.423177   \n",
       "5                     ScreenType    0      1  0.333333             0.333333   \n",
       "6         SmallKitchenAppliances    0      1  0.325333             0.325333   \n",
       "7                       OliveOil    0      1  0.300000             0.300000   \n",
       "8                MiddlePhalanxTW    0      1  0.272727             0.272727   \n",
       "9                   WordSynonyms    0      1  0.219436             0.219436   \n",
       "10  MiddlePhalanxOutlineAgeGroup    0      1  0.188312             0.188312   \n",
       "11                   InlineSkate    0      1  0.092727             0.092727   \n",
       "12                       Phoneme    0      1  0.022152             0.022152   \n",
       "\n",
       "    max_accuracy time (s)  \n",
       "0       0.593750       6s  \n",
       "1       0.500000       2s  \n",
       "2       0.500000       2s  \n",
       "3       0.460863       4s  \n",
       "4       0.423177      25s  \n",
       "5       0.333333      27s  \n",
       "6       0.325333      27s  \n",
       "7       0.300000       3s  \n",
       "8       0.272727       5s  \n",
       "9       0.219436      12s  \n",
       "10      0.188312       5s  \n",
       "11      0.092727      44s  \n",
       "12      0.022152      69s  "
      ]
     },
     "metadata": {},
     "output_type": "display_data"
    }
   ],
   "source": [
    "output = run_UCR_test(iters,\n",
    "                      epochs,\n",
    "                      datasets,\n",
    "                      arch,\n",
    "                      bs=bs,\n",
    "                      max_lr=max_lr,\n",
    "                      pct_start=pct_start,\n",
    "                      warmup=warmup,\n",
    "                      wd=wd,\n",
    "                      metrics=metrics,\n",
    "                      mixup=mixup,\n",
    "                      scale_type=scale_type,\n",
    "                      scale_subtype=scale_subtype,\n",
    "                      scale_range=scale_range,\n",
    "                      opt_func=opt_func,\n",
    "                      loss_func=loss_func,\n",
    "                      **arch_kwargs)"
   ]
  },
  {
   "cell_type": "code",
   "execution_count": null,
   "metadata": {},
   "outputs": [],
   "source": []
  }
 ],
 "metadata": {
  "kernelspec": {
   "display_name": "fastai-v1",
   "language": "python",
   "name": "fastai-v1"
  },
  "language_info": {
   "codemirror_mode": {
    "name": "ipython",
    "version": 3
   },
   "file_extension": ".py",
   "mimetype": "text/x-python",
   "name": "python",
   "nbconvert_exporter": "python",
   "pygments_lexer": "ipython3",
   "version": "3.7.4"
  }
 },
 "nbformat": 4,
 "nbformat_minor": 2
}
