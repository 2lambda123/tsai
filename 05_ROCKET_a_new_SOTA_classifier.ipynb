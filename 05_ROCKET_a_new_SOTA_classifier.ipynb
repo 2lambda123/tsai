{
 "cells": [
  {
   "cell_type": "markdown",
   "metadata": {},
   "source": [
    "created by Ignacio Oguiza - email: oguiza@gmail.com"
   ]
  },
  {
   "cell_type": "code",
   "execution_count": 1,
   "metadata": {
    "ExecuteTime": {
     "end_time": "2019-11-04T05:23:44.486585Z",
     "start_time": "2019-11-04T05:23:44.474518Z"
    },
    "hide_input": true
   },
   "outputs": [
    {
     "data": {
      "application/javascript": [
       "utils.load_extension('collapsible_headings/main')\n",
       "utils.load_extension('hide_input/main')\n",
       "utils.load_extension('autosavetime/main')\n",
       "utils.load_extension('execute_time/ExecuteTime')\n",
       "utils.load_extension('code_prettify/code_prettify')\n",
       "utils.load_extension('scroll_down/main')\n",
       "utils.load_extension('jupyter-js-widgets/extension')\n"
      ],
      "text/plain": [
       "<IPython.core.display.Javascript object>"
      ]
     },
     "metadata": {},
     "output_type": "display_data"
    }
   ],
   "source": [
    "%%javascript\n",
    "utils.load_extension('collapsible_headings/main')\n",
    "utils.load_extension('hide_input/main')\n",
    "utils.load_extension('autosavetime/main')\n",
    "utils.load_extension('execute_time/ExecuteTime')\n",
    "utils.load_extension('code_prettify/code_prettify')\n",
    "utils.load_extension('scroll_down/main')\n",
    "utils.load_extension('jupyter-js-widgets/extension')"
   ]
  },
  {
   "cell_type": "code",
   "execution_count": 2,
   "metadata": {
    "ExecuteTime": {
     "end_time": "2019-11-06T16:55:44.878602Z",
     "start_time": "2019-11-06T16:55:44.873661Z"
    },
    "hide_input": true
   },
   "outputs": [
    {
     "data": {
      "text/html": [
       "<style>.container { width:100% !important; }</style>"
      ],
      "text/plain": [
       "<IPython.core.display.HTML object>"
      ]
     },
     "metadata": {},
     "output_type": "display_data"
    }
   ],
   "source": [
    "from IPython.display import display, HTML, clear_output\n",
    "display(HTML(\"<style>.container { width:100% !important; }</style>\"))"
   ]
  },
  {
   "cell_type": "markdown",
   "metadata": {},
   "source": [
    "<img src=\"./images/Rocket.svg\"  width=\"150\">"
   ]
  },
  {
   "cell_type": "markdown",
   "metadata": {},
   "source": [
    "ROCKET (RandOm Convolutional KErnel Transform) is a new Time Series Classification (TSC) method that has just been released (Oct 29th, 2019), and has achieved **state-of-the-art performance on the UCR univariate time series classification datasets, surpassing HIVE-COTE (the previous state of the art since 2017) in accuracy, with exceptional speed compared to other traditional DL methods.** To achieve these 2 things at once is **VERY IMPRESSIVE**. ROCKET is certainly a new TSC method you should try.\n",
    "\n",
    "Authors:\n",
    "Dempster, A., Petitjean, F., & Webb, G. I. (2019). ROCKET: Exceptionally fast and accurate time series classification using random convolutional kernels. arXiv preprint arXiv:1910.13051.\n",
    "\n",
    "[paper](https://arxiv.org/pdf/1910.13051)\n",
    "\n",
    "There are 2 main limitations to the original ROCKET method though:\n",
    "- The release code doesn't handle multivariate data\n",
    "- It doesn't run on a GPU, so it's slow when used with a large datasets\n",
    "\n",
    "In this notebook you will learn: \n",
    "- how you can use the original ROCKET method\n",
    "- you will also learn about a new ROCKET version I have developed in Pytorch, that handles both univariate and multivariate data, and uses GPU\n",
    "- you will see how you can integrate the ROCKET features with fastai or other classifiers"
   ]
  },
  {
   "cell_type": "markdown",
   "metadata": {
    "heading_collapsed": true
   },
   "source": [
    "## Import libraries 📚"
   ]
  },
  {
   "cell_type": "code",
   "execution_count": 3,
   "metadata": {
    "ExecuteTime": {
     "end_time": "2019-11-06T16:55:48.530597Z",
     "start_time": "2019-11-06T16:55:48.250838Z"
    },
    "hidden": true,
    "hide_input": false
   },
   "outputs": [],
   "source": [
    "%reload_ext autoreload\n",
    "%autoreload 2\n",
    "%matplotlib inline"
   ]
  },
  {
   "cell_type": "code",
   "execution_count": 4,
   "metadata": {
    "ExecuteTime": {
     "end_time": "2019-11-06T16:55:50.272165Z",
     "start_time": "2019-11-06T16:55:48.780043Z"
    },
    "hidden": true
   },
   "outputs": [
    {
     "data": {
      "text/html": [
       "<style>.container { width:100% !important; }</style>"
      ],
      "text/plain": [
       "<IPython.core.display.HTML object>"
      ]
     },
     "metadata": {},
     "output_type": "display_data"
    },
    {
     "name": "stdout",
     "output_type": "stream",
     "text": [
      "pytorch: 1.3.0\n",
      "fastai : 1.0.59\n"
     ]
    }
   ],
   "source": [
    "from fastai_timeseries import *\n",
    "print('pytorch:', torch.__version__)\n",
    "print('fastai :', fastai.__version__)"
   ]
  },
  {
   "cell_type": "markdown",
   "metadata": {
    "heading_collapsed": true
   },
   "source": [
    "## How to use the original ROCKET method? 🚀"
   ]
  },
  {
   "cell_type": "markdown",
   "metadata": {
    "hidden": true
   },
   "source": [
    "ROCKET is applied in 2 phases:\n",
    "\n",
    "1. Generate features from each time series: ROCKET calculates 20k features from each time series, independently of the dimensions. \n",
    "2. Apply a classifier to those calculated features. Those features are then used by the classifier of your choice. In the original code they use 2 simple linear classifiers: RidgeClassifierCV and Logistic Regression, but you can use any classifier."
   ]
  },
  {
   "cell_type": "markdown",
   "metadata": {
    "hidden": true
   },
   "source": [
    "Let's first generate the features. We'll import data from a UCR Time Series dataset.\n",
    "\n",
    "The original method requires the time series to be in a 2d array of dtype np.float64."
   ]
  },
  {
   "cell_type": "code",
   "execution_count": 35,
   "metadata": {
    "ExecuteTime": {
     "end_time": "2019-11-04T12:55:25.082078Z",
     "start_time": "2019-11-04T12:55:24.973735Z"
    },
    "hidden": true
   },
   "outputs": [
    {
     "data": {
      "text/plain": [
       "((30, 570), (30, 570))"
      ]
     },
     "execution_count": 35,
     "metadata": {},
     "output_type": "execute_result"
    }
   ],
   "source": [
    "X_train, y_train, X_valid, y_valid = get_UCR_data('OliveOil')\n",
    "seq_len = X_train.shape[-1]\n",
    "X_train = X_train[:, 0].astype(np.float64)\n",
    "X_valid = X_valid[:, 0].astype(np.float64)\n",
    "X_train.shape, X_valid.shape"
   ]
  },
  {
   "cell_type": "markdown",
   "metadata": {
    "hidden": true
   },
   "source": [
    "Now we are normalize the data to mean 0 and std 1 per sample (recommended by the authors), that is they set each sample to mean 0 and std 1)."
   ]
  },
  {
   "cell_type": "code",
   "execution_count": 36,
   "metadata": {
    "ExecuteTime": {
     "end_time": "2019-11-04T12:55:26.731150Z",
     "start_time": "2019-11-04T12:55:26.698291Z"
    },
    "hidden": true
   },
   "outputs": [
    {
     "data": {
      "text/plain": [
       "(30, 1)"
      ]
     },
     "execution_count": 36,
     "metadata": {},
     "output_type": "execute_result"
    }
   ],
   "source": [
    "X_train = (X_train - X_train.mean(axis = 1, keepdims = True)) / (X_train.std(axis = 1, keepdims = True) + 1e-8)\n",
    "X_valid = (X_valid - X_valid.mean(axis = 1, keepdims = True)) / (X_valid.std(axis = 1, keepdims = True) + 1e-8)\n",
    "X_train.mean(axis = 1, keepdims = True).shape"
   ]
  },
  {
   "cell_type": "markdown",
   "metadata": {
    "ExecuteTime": {
     "end_time": "2019-11-04T09:50:07.532655Z",
     "start_time": "2019-11-04T09:50:07.468806Z"
    },
    "hidden": true
   },
   "source": [
    "To generate the features, we first need to create the 10k random kernels that will be used to process the data."
   ]
  },
  {
   "cell_type": "code",
   "execution_count": 37,
   "metadata": {
    "ExecuteTime": {
     "end_time": "2019-11-04T12:55:33.417382Z",
     "start_time": "2019-11-04T12:55:33.381512Z"
    },
    "hidden": true
   },
   "outputs": [],
   "source": [
    "kernels = generate_kernels(seq_len, 10000)"
   ]
  },
  {
   "cell_type": "markdown",
   "metadata": {
    "hidden": true
   },
   "source": [
    "Now we apply those ramdom kernels to the data"
   ]
  },
  {
   "cell_type": "code",
   "execution_count": 38,
   "metadata": {
    "ExecuteTime": {
     "end_time": "2019-11-04T12:55:35.918695Z",
     "start_time": "2019-11-04T12:55:34.491192Z"
    },
    "hidden": true
   },
   "outputs": [],
   "source": [
    "X_train_tfm = apply_kernels(X_train, kernels)\n",
    "X_valid_tfm = apply_kernels(X_valid, kernels)"
   ]
  },
  {
   "cell_type": "markdown",
   "metadata": {
    "hidden": true
   },
   "source": [
    "So now we have the features, and we are ready to apply a classifier. \n",
    "\n",
    "Let's use simple, linear RidgeClassifierCV as they propose in the paper. We first instantiate it. \n",
    "\n",
    "Note:\n",
    "alphas: Array of alpha values to try. Regularization strength; must be a positive float. Regularization improves the conditioning of the problem and reduces the variance of the estimates. Larger values specify stronger regularization. Alpha corresponds to C^-1 in other linear models such as LogisticRegression or LinearSVC."
   ]
  },
  {
   "cell_type": "code",
   "execution_count": 39,
   "metadata": {
    "ExecuteTime": {
     "end_time": "2019-11-04T12:55:35.950272Z",
     "start_time": "2019-11-04T12:55:35.924048Z"
    },
    "hidden": true
   },
   "outputs": [],
   "source": [
    "from sklearn.linear_model import RidgeClassifierCV\n",
    "classifier = RidgeClassifierCV(alphas=np.logspace(-3, 3, 7), normalize=True)"
   ]
  },
  {
   "cell_type": "code",
   "execution_count": 40,
   "metadata": {
    "ExecuteTime": {
     "end_time": "2019-11-04T12:55:37.537629Z",
     "start_time": "2019-11-04T12:55:37.500406Z"
    },
    "hidden": true
   },
   "outputs": [
    {
     "data": {
      "text/plain": [
       "RidgeClassifierCV(alphas=array([1.e-03, 1.e-02, 1.e-01, 1.e+00, 1.e+01, 1.e+02, 1.e+03]),\n",
       "                  class_weight=None, cv=None, fit_intercept=True,\n",
       "                  normalize=True, scoring=None, store_cv_values=False)"
      ]
     },
     "execution_count": 40,
     "metadata": {},
     "output_type": "execute_result"
    }
   ],
   "source": [
    " classifier.fit(X_train_tfm, y_train)"
   ]
  },
  {
   "cell_type": "code",
   "execution_count": 33,
   "metadata": {
    "ExecuteTime": {
     "end_time": "2019-11-04T12:54:49.793497Z",
     "start_time": "2019-11-04T12:54:49.764390Z"
    },
    "hidden": true
   },
   "outputs": [
    {
     "data": {
      "text/plain": [
       "0.9333333333333333"
      ]
     },
     "execution_count": 33,
     "metadata": {},
     "output_type": "execute_result"
    }
   ],
   "source": [
    "classifier.score(X_valid_tfm, y_valid)"
   ]
  },
  {
   "cell_type": "markdown",
   "metadata": {
    "hidden": true
   },
   "source": [
    "☣️ **This is pretty impressive! It matches or exceeds the state-of-the-art performance without any fine tuning in 1.5 seconds!!!**"
   ]
  },
  {
   "cell_type": "code",
   "execution_count": 41,
   "metadata": {
    "ExecuteTime": {
     "end_time": "2019-11-04T12:55:41.948132Z",
     "start_time": "2019-11-04T12:55:40.500910Z"
    },
    "hidden": true
   },
   "outputs": [
    {
     "data": {
      "text/plain": [
       "0.9333333333333333"
      ]
     },
     "execution_count": 41,
     "metadata": {},
     "output_type": "execute_result"
    }
   ],
   "source": [
    "kernels = generate_kernels(seq_len, 10000)\n",
    "X_train_tfm = apply_kernels(X_train, kernels)\n",
    "X_valid_tfm = apply_kernels(X_valid, kernels)\n",
    "from sklearn.linear_model import RidgeClassifierCV\n",
    "classifier = RidgeClassifierCV(alphas=np.logspace(-3, 3, 7), normalize=True)\n",
    "classifier.fit(X_train_tfm, y_train)\n",
    "classifier.score(X_valid_tfm, y_valid)"
   ]
  },
  {
   "cell_type": "markdown",
   "metadata": {
    "hidden": true
   },
   "source": [
    "Bear in mind that this process is not deterministic since there is randomness involved in the kernels. In thiis case, performance may vay between .9 to .933"
   ]
  },
  {
   "cell_type": "markdown",
   "metadata": {
    "heading_collapsed": true
   },
   "source": [
    "## How to use ROCKET with large and/ or multivariate datasets on GPU? ❓"
   ]
  },
  {
   "cell_type": "markdown",
   "metadata": {
    "hidden": true
   },
   "source": [
    "As stated before, the current ROCKET method doesn't provide multivariate time series or GPU support. This may be a drawback in many cases. To handle both limitations I've created a new version of ROCKET in Pytorch. "
   ]
  },
  {
   "cell_type": "code",
   "execution_count": 5,
   "metadata": {
    "ExecuteTime": {
     "end_time": "2019-11-06T16:55:55.946043Z",
     "start_time": "2019-11-06T16:55:55.911541Z"
    },
    "hidden": true
   },
   "outputs": [],
   "source": [
    "import torch\n",
    "import torch.nn as nn\n",
    "\n",
    "class ROCKET(nn.Module):\n",
    "    def __init__(self, c_in, seq_len, n_kernels=10000, kss=[7, 9, 11]):\n",
    "        \n",
    "        '''\n",
    "        ROCKET is a GPU Pytorch implementation of the ROCKET methods generate_kernels \n",
    "        and apply_kernels that can be used \n",
    "        with univariate and multivariate time series.\n",
    "        Input: is a 3d torch tensor of type torch.float32. When used with univariate TS, \n",
    "        make sure you transform the 2d to 3d by adding unsqueeze(1)\n",
    "        c_in: number of channels in (features). For univariate c_in is 1.\n",
    "        seq_len: sequence length (is the last dimension of the input)\n",
    "        '''\n",
    "        super().__init__()\n",
    "        kss = [ks for ks in kss if ks < seq_len]\n",
    "        convs = nn.ModuleList()\n",
    "        for i in range(n_kernels):\n",
    "            ks = np.random.choice(kss)\n",
    "            dilation = 2**np.random.uniform(0, np.log2((seq_len - 1) // (ks - 1)))\n",
    "            padding = int((ks - 1) * dilation // 2) if np.random.randint(2) == 1 else 0\n",
    "            weight = torch.randn(1, c_in, ks)\n",
    "            weight -= weight.mean()\n",
    "            bias = 2 * (torch.rand(1) - .5)\n",
    "            layer = nn.Conv1d(c_in, 1, ks, padding=2 * padding, dilation=int(dilation), bias=True)\n",
    "            layer.weight = torch.nn.Parameter(weight, requires_grad=False)\n",
    "            layer.bias = torch.nn.Parameter(bias, requires_grad=False)\n",
    "            convs.append(layer)\n",
    "        self.convs = convs\n",
    "        self.n_kernels = n_kernels\n",
    "        self.kss = kss\n",
    "\n",
    "    def forward(self, x):\n",
    "        for i in range(self.n_kernels):\n",
    "            out = self.convs[i](x)\n",
    "            _max = out.max(dim=-1).values\n",
    "            _ppv = torch.gt(out, 0).sum(dim=-1).float() / out.shape[-1]\n",
    "            cat = torch.cat((_max, _ppv), dim=-1)\n",
    "            output = cat if i == 0 else torch.cat((output, cat), dim=-1)\n",
    "        return output"
   ]
  },
  {
   "cell_type": "markdown",
   "metadata": {
    "hidden": true
   },
   "source": [
    "The way to use ROCKET in Pytorch is the following:\n",
    "\n",
    "First you prepare the input data. The input to ROCKET Pytorch is a 3d tensor (preferrable on gpu)"
   ]
  },
  {
   "cell_type": "code",
   "execution_count": 8,
   "metadata": {
    "ExecuteTime": {
     "end_time": "2019-11-06T16:58:16.575663Z",
     "start_time": "2019-11-06T16:58:16.473615Z"
    },
    "hidden": true
   },
   "outputs": [],
   "source": [
    "X_train, y_train, X_valid, y_valid = get_UCR_data('OliveOil')\n",
    "_, features, seq_len = X_train.shape\n",
    "X_train = (X_train - X_train.mean(axis = (1, 2), keepdims = True)) / (X_train.std(axis = (1, 2), keepdims = True) + 1e-8)\n",
    "X_valid = (X_valid - X_valid.mean(axis = (1, 2), keepdims = True)) / (X_valid.std(axis = (1, 2), keepdims = True) + 1e-8)\n",
    "X_train_tensor = torch.tensor(X_train, device=device)\n",
    "X_valid_tensor = torch.tensor(X_valid, device=device)"
   ]
  },
  {
   "cell_type": "markdown",
   "metadata": {
    "ExecuteTime": {
     "end_time": "2019-11-04T10:17:29.870472Z",
     "start_time": "2019-11-04T10:17:29.807377Z"
    },
    "hidden": true
   },
   "source": [
    "Then you instantiate the Pytorch model."
   ]
  },
  {
   "cell_type": "code",
   "execution_count": 9,
   "metadata": {
    "ExecuteTime": {
     "end_time": "2019-11-06T16:58:21.966634Z",
     "start_time": "2019-11-06T16:58:17.777138Z"
    },
    "hidden": true
   },
   "outputs": [],
   "source": [
    "model = ROCKET(features, seq_len, n_kernels=10000, kss=[7, 9, 11]).to(device)"
   ]
  },
  {
   "cell_type": "code",
   "execution_count": 10,
   "metadata": {
    "ExecuteTime": {
     "end_time": "2019-11-06T16:58:29.365163Z",
     "start_time": "2019-11-06T16:58:21.968572Z"
    },
    "hidden": true
   },
   "outputs": [],
   "source": [
    "X_train_tfm = model(X_train_tensor)\n",
    "X_valid_tfm = model(X_valid_tensor)"
   ]
  },
  {
   "cell_type": "markdown",
   "metadata": {
    "heading_collapsed": true,
    "hidden": true
   },
   "source": [
    "### RidgeClassifierCV"
   ]
  },
  {
   "cell_type": "markdown",
   "metadata": {
    "hidden": true
   },
   "source": [
    "And now you apply a classifier of your choice. \n",
    "With RidgeClassifierCV in particular, there's no need to normalize the extracted features before passing them to the classifier, as it does it internally (if normalize is set to True as recommended by the authors)."
   ]
  },
  {
   "cell_type": "code",
   "execution_count": 11,
   "metadata": {
    "ExecuteTime": {
     "end_time": "2019-11-06T16:58:29.413700Z",
     "start_time": "2019-11-06T16:58:29.367372Z"
    },
    "hidden": true
   },
   "outputs": [
    {
     "data": {
      "text/plain": [
       "0.9333333333333333"
      ]
     },
     "execution_count": 11,
     "metadata": {},
     "output_type": "execute_result"
    }
   ],
   "source": [
    "from sklearn.linear_model import RidgeClassifierCV\n",
    "classifier = RidgeClassifierCV(alphas=np.logspace(-3, 3, 7), normalize=True)\n",
    "classifier.fit(X_train_tfm, y_train)\n",
    "classifier.score(X_valid_tfm, y_valid)"
   ]
  },
  {
   "cell_type": "markdown",
   "metadata": {
    "heading_collapsed": true,
    "hidden": true
   },
   "source": [
    "### Logistic Regression"
   ]
  },
  {
   "cell_type": "markdown",
   "metadata": {
    "hidden": true
   },
   "source": [
    "In the case of other classifiers (like Logistic Regression), the authors recommend a per-feature normalization."
   ]
  },
  {
   "cell_type": "code",
   "execution_count": 16,
   "metadata": {
    "ExecuteTime": {
     "end_time": "2019-11-06T17:00:40.221526Z",
     "start_time": "2019-11-06T17:00:38.026046Z"
    },
    "hidden": true
   },
   "outputs": [
    {
     "name": "stdout",
     "output_type": "stream",
     "text": [
      "1.00E-03 0.40000\n",
      "1.00E-02 0.46667\n",
      "1.00E-01 0.66667\n",
      "1.00E+00 0.76667\n",
      "1.00E+01 0.83333\n",
      "1.00E+02 0.83333\n",
      "1.00E+03 0.83333\n"
     ]
    }
   ],
   "source": [
    "from sklearn.linear_model import LogisticRegression\n",
    "f_mean = X_train_tfm.mean(axis = 0, keepdims = True)\n",
    "f_std = X_train_tfm.std(axis = 0, keepdims = True) + 1e-8\n",
    "f_mean, f_std = 0, 1\n",
    "X_train_tfm2 = (X_train_tfm - f_mean) / f_std\n",
    "X_valid_tfm2 = (X_valid_tfm - f_mean) / f_std\n",
    "for C in np.logspace(-3,3,7):\n",
    "    classifier = LogisticRegression(penalty='l2', C=C, n_jobs=-1)\n",
    "    classifier.fit(X_train_tfm2, y_train)\n",
    "    print('{:.2E} {:.5f}'.format(C, classifier.score(X_valid_tfm2, y_valid)))"
   ]
  },
  {
   "cell_type": "markdown",
   "metadata": {
    "heading_collapsed": true,
    "hidden": true
   },
   "source": [
    "### Results"
   ]
  },
  {
   "cell_type": "markdown",
   "metadata": {
    "hidden": true
   },
   "source": [
    "I've checked the performance for all 85 univariate datasets in the UCR archive, and performance is the same as the published one. Average performance accross all datasets is 85.100% (original) vs\t85.085% (with the Pytorch version)."
   ]
  },
  {
   "cell_type": "markdown",
   "metadata": {
    "hidden": true
   },
   "source": [
    "I've also run some tests to and compared performance (time) of ROCKET original code vs Pytorch. These are the results:"
   ]
  },
  {
   "cell_type": "markdown",
   "metadata": {
    "hidden": true
   },
   "source": [
    "<img src=\"./images/Time_ROCKET_comp.png\" width=800>"
   ]
  },
  {
   "cell_type": "markdown",
   "metadata": {
    "hidden": true
   },
   "source": [
    "So, as you can see, in small datasets, the original method may be even faster than the GPU method, but for larger datasets, there's a great benefit in using the GPU version."
   ]
  },
  {
   "cell_type": "markdown",
   "metadata": {
    "hidden": true
   },
   "source": [
    "In addition to this, I have also run the code on the TSC UCR multivariate datasets (all the ones that don't caontain nan values), and the results are also very good, beating the previous state-of-the-art in this category as well by a large margin. For example, ROCKET reduces InceptionTime errors by 26% on average."
   ]
  },
  {
   "cell_type": "code",
   "execution_count": 7,
   "metadata": {
    "ExecuteTime": {
     "end_time": "2019-11-03T01:04:35.883690Z",
     "start_time": "2019-11-02T23:46:25.737723Z"
    },
    "hidden": true,
    "hide_input": false
   },
   "outputs": [
    {
     "data": {
      "text/html": [
       "<div>\n",
       "<style scoped>\n",
       "    .dataframe tbody tr th:only-of-type {\n",
       "        vertical-align: middle;\n",
       "    }\n",
       "\n",
       "    .dataframe tbody tr th {\n",
       "        vertical-align: top;\n",
       "    }\n",
       "\n",
       "    .dataframe thead th {\n",
       "        text-align: right;\n",
       "    }\n",
       "</style>\n",
       "<table border=\"1\" class=\"dataframe\">\n",
       "  <thead>\n",
       "    <tr style=\"text-align: right;\">\n",
       "      <th></th>\n",
       "      <th>dataset</th>\n",
       "      <th>type</th>\n",
       "      <th>iterations</th>\n",
       "      <th>mean_accuracy</th>\n",
       "      <th>std_accuracy</th>\n",
       "      <th>time(s)</th>\n",
       "    </tr>\n",
       "  </thead>\n",
       "  <tbody>\n",
       "    <tr>\n",
       "      <td>0</td>\n",
       "      <td>ArticularyWordRecognition</td>\n",
       "      <td>multivariate</td>\n",
       "      <td>5</td>\n",
       "      <td>0.992667</td>\n",
       "      <td>0.001333</td>\n",
       "      <td>14</td>\n",
       "    </tr>\n",
       "    <tr>\n",
       "      <td>1</td>\n",
       "      <td>AtrialFibrillation</td>\n",
       "      <td>multivariate</td>\n",
       "      <td>5</td>\n",
       "      <td>0.306667</td>\n",
       "      <td>0.053333</td>\n",
       "      <td>13</td>\n",
       "    </tr>\n",
       "    <tr>\n",
       "      <td>2</td>\n",
       "      <td>BasicMotions</td>\n",
       "      <td>multivariate</td>\n",
       "      <td>5</td>\n",
       "      <td>1.000000</td>\n",
       "      <td>0.000000</td>\n",
       "      <td>13</td>\n",
       "    </tr>\n",
       "    <tr>\n",
       "      <td>3</td>\n",
       "      <td>Cricket</td>\n",
       "      <td>multivariate</td>\n",
       "      <td>5</td>\n",
       "      <td>1.000000</td>\n",
       "      <td>0.000000</td>\n",
       "      <td>13</td>\n",
       "    </tr>\n",
       "    <tr>\n",
       "      <td>4</td>\n",
       "      <td>ERing</td>\n",
       "      <td>multivariate</td>\n",
       "      <td>5</td>\n",
       "      <td>0.954074</td>\n",
       "      <td>0.002963</td>\n",
       "      <td>13</td>\n",
       "    </tr>\n",
       "    <tr>\n",
       "      <td>5</td>\n",
       "      <td>EigenWorms</td>\n",
       "      <td>multivariate</td>\n",
       "      <td>5</td>\n",
       "      <td>0.819847</td>\n",
       "      <td>0.013310</td>\n",
       "      <td>78</td>\n",
       "    </tr>\n",
       "    <tr>\n",
       "      <td>6</td>\n",
       "      <td>Epilepsy</td>\n",
       "      <td>multivariate</td>\n",
       "      <td>5</td>\n",
       "      <td>0.963768</td>\n",
       "      <td>0.000000</td>\n",
       "      <td>13</td>\n",
       "    </tr>\n",
       "    <tr>\n",
       "      <td>7</td>\n",
       "      <td>EthanolConcentration</td>\n",
       "      <td>multivariate</td>\n",
       "      <td>5</td>\n",
       "      <td>0.292015</td>\n",
       "      <td>0.001521</td>\n",
       "      <td>15</td>\n",
       "    </tr>\n",
       "    <tr>\n",
       "      <td>8</td>\n",
       "      <td>FingerMovements</td>\n",
       "      <td>multivariate</td>\n",
       "      <td>5</td>\n",
       "      <td>0.534000</td>\n",
       "      <td>0.008000</td>\n",
       "      <td>14</td>\n",
       "    </tr>\n",
       "    <tr>\n",
       "      <td>9</td>\n",
       "      <td>HandMovementDirection</td>\n",
       "      <td>multivariate</td>\n",
       "      <td>5</td>\n",
       "      <td>0.475676</td>\n",
       "      <td>0.026204</td>\n",
       "      <td>13</td>\n",
       "    </tr>\n",
       "    <tr>\n",
       "      <td>10</td>\n",
       "      <td>Handwriting</td>\n",
       "      <td>multivariate</td>\n",
       "      <td>5</td>\n",
       "      <td>0.560706</td>\n",
       "      <td>0.003032</td>\n",
       "      <td>14</td>\n",
       "    </tr>\n",
       "    <tr>\n",
       "      <td>11</td>\n",
       "      <td>Heartbeat</td>\n",
       "      <td>multivariate</td>\n",
       "      <td>5</td>\n",
       "      <td>0.760976</td>\n",
       "      <td>0.003085</td>\n",
       "      <td>25</td>\n",
       "    </tr>\n",
       "    <tr>\n",
       "      <td>12</td>\n",
       "      <td>LSST</td>\n",
       "      <td>multivariate</td>\n",
       "      <td>5</td>\n",
       "      <td>0.640308</td>\n",
       "      <td>0.003544</td>\n",
       "      <td>33</td>\n",
       "    </tr>\n",
       "    <tr>\n",
       "      <td>13</td>\n",
       "      <td>Libras</td>\n",
       "      <td>multivariate</td>\n",
       "      <td>5</td>\n",
       "      <td>0.937778</td>\n",
       "      <td>0.002222</td>\n",
       "      <td>13</td>\n",
       "    </tr>\n",
       "    <tr>\n",
       "      <td>14</td>\n",
       "      <td>MotorImagery</td>\n",
       "      <td>multivariate</td>\n",
       "      <td>5</td>\n",
       "      <td>0.500000</td>\n",
       "      <td>0.000000</td>\n",
       "      <td>129</td>\n",
       "    </tr>\n",
       "    <tr>\n",
       "      <td>15</td>\n",
       "      <td>NATOPS</td>\n",
       "      <td>multivariate</td>\n",
       "      <td>5</td>\n",
       "      <td>0.950000</td>\n",
       "      <td>0.011111</td>\n",
       "      <td>14</td>\n",
       "    </tr>\n",
       "    <tr>\n",
       "      <td>16</td>\n",
       "      <td>PEMS-SF</td>\n",
       "      <td>multivariate</td>\n",
       "      <td>5</td>\n",
       "      <td>0.758382</td>\n",
       "      <td>0.005664</td>\n",
       "      <td>113</td>\n",
       "    </tr>\n",
       "    <tr>\n",
       "      <td>17</td>\n",
       "      <td>PenDigits</td>\n",
       "      <td>multivariate</td>\n",
       "      <td>5</td>\n",
       "      <td>0.987078</td>\n",
       "      <td>0.001191</td>\n",
       "      <td>198</td>\n",
       "    </tr>\n",
       "    <tr>\n",
       "      <td>18</td>\n",
       "      <td>PhonemeSpectra</td>\n",
       "      <td>multivariate</td>\n",
       "      <td>5</td>\n",
       "      <td>0.283627</td>\n",
       "      <td>0.001612</td>\n",
       "      <td>65</td>\n",
       "    </tr>\n",
       "    <tr>\n",
       "      <td>19</td>\n",
       "      <td>RacketSports</td>\n",
       "      <td>multivariate</td>\n",
       "      <td>5</td>\n",
       "      <td>0.901316</td>\n",
       "      <td>0.000000</td>\n",
       "      <td>14</td>\n",
       "    </tr>\n",
       "    <tr>\n",
       "      <td>20</td>\n",
       "      <td>SelfRegulationSCP1</td>\n",
       "      <td>multivariate</td>\n",
       "      <td>5</td>\n",
       "      <td>0.864846</td>\n",
       "      <td>0.006330</td>\n",
       "      <td>15</td>\n",
       "    </tr>\n",
       "    <tr>\n",
       "      <td>21</td>\n",
       "      <td>SelfRegulationSCP2</td>\n",
       "      <td>multivariate</td>\n",
       "      <td>5</td>\n",
       "      <td>0.551111</td>\n",
       "      <td>0.009558</td>\n",
       "      <td>14</td>\n",
       "    </tr>\n",
       "    <tr>\n",
       "      <td>22</td>\n",
       "      <td>StandWalkJump</td>\n",
       "      <td>multivariate</td>\n",
       "      <td>5</td>\n",
       "      <td>0.533333</td>\n",
       "      <td>0.000000</td>\n",
       "      <td>13</td>\n",
       "    </tr>\n",
       "    <tr>\n",
       "      <td>23</td>\n",
       "      <td>UWaveGestureLibrary</td>\n",
       "      <td>multivariate</td>\n",
       "      <td>5</td>\n",
       "      <td>0.922500</td>\n",
       "      <td>0.004146</td>\n",
       "      <td>14</td>\n",
       "    </tr>\n",
       "  </tbody>\n",
       "</table>\n",
       "</div>"
      ],
      "text/plain": [
       "                      dataset          type iterations mean_accuracy  \\\n",
       "0   ArticularyWordRecognition  multivariate          5      0.992667   \n",
       "1          AtrialFibrillation  multivariate          5      0.306667   \n",
       "2                BasicMotions  multivariate          5      1.000000   \n",
       "3                     Cricket  multivariate          5      1.000000   \n",
       "4                       ERing  multivariate          5      0.954074   \n",
       "5                  EigenWorms  multivariate          5      0.819847   \n",
       "6                    Epilepsy  multivariate          5      0.963768   \n",
       "7        EthanolConcentration  multivariate          5      0.292015   \n",
       "8             FingerMovements  multivariate          5      0.534000   \n",
       "9       HandMovementDirection  multivariate          5      0.475676   \n",
       "10                Handwriting  multivariate          5      0.560706   \n",
       "11                  Heartbeat  multivariate          5      0.760976   \n",
       "12                       LSST  multivariate          5      0.640308   \n",
       "13                     Libras  multivariate          5      0.937778   \n",
       "14               MotorImagery  multivariate          5      0.500000   \n",
       "15                     NATOPS  multivariate          5      0.950000   \n",
       "16                    PEMS-SF  multivariate          5      0.758382   \n",
       "17                  PenDigits  multivariate          5      0.987078   \n",
       "18             PhonemeSpectra  multivariate          5      0.283627   \n",
       "19               RacketSports  multivariate          5      0.901316   \n",
       "20         SelfRegulationSCP1  multivariate          5      0.864846   \n",
       "21         SelfRegulationSCP2  multivariate          5      0.551111   \n",
       "22              StandWalkJump  multivariate          5      0.533333   \n",
       "23        UWaveGestureLibrary  multivariate          5      0.922500   \n",
       "\n",
       "   std_accuracy time(s)  \n",
       "0      0.001333      14  \n",
       "1      0.053333      13  \n",
       "2      0.000000      13  \n",
       "3      0.000000      13  \n",
       "4      0.002963      13  \n",
       "5      0.013310      78  \n",
       "6      0.000000      13  \n",
       "7      0.001521      15  \n",
       "8      0.008000      14  \n",
       "9      0.026204      13  \n",
       "10     0.003032      14  \n",
       "11     0.003085      25  \n",
       "12     0.003544      33  \n",
       "13     0.002222      13  \n",
       "14     0.000000     129  \n",
       "15     0.011111      14  \n",
       "16     0.005664     113  \n",
       "17     0.001191     198  \n",
       "18     0.001612      65  \n",
       "19     0.000000      14  \n",
       "20     0.006330      15  \n",
       "21     0.009558      14  \n",
       "22     0.000000      13  \n",
       "23     0.004146      14  "
      ]
     },
     "metadata": {},
     "output_type": "display_data"
    },
    {
     "name": "stdout",
     "output_type": "stream",
     "text": [
      "\n",
      "(*) datasets not loaded      : ['DuckDuckGeese', 'FaceDetection', 'InsectWingbeat']\n",
      "(*) datasets with data issues: ['CharacterTrajectories', 'JapaneseVowels', 'SpokenArabicDigits']\n"
     ]
    }
   ],
   "source": [
    "iterations = 5\n",
    "datasets = sorted(get_UCR_multivariate_list())\n",
    "n_kernels=10_000\n",
    "kss=[7, 9, 11]\n",
    "\n",
    "ds_ = []\n",
    "ds_nl_ = []\n",
    "ds_di_ = []\n",
    "ds_type_ = []\n",
    "iters_ = []\n",
    "means_ = []\n",
    "stds_ = []\n",
    "times_ = []\n",
    "alphas_ = []\n",
    "\n",
    "datasets = listify(datasets)\n",
    "for dsid in datasets:\n",
    "    try: \n",
    "        print(f'\\nProcessing {dsid} dataset...\\n')\n",
    "        if dsid in get_UCR_univariate_list(): scale_type=None\n",
    "        else: scale_type='standardize'\n",
    "        data = create_UCR_databunch(dsid, bs=2048, scale_type=scale_type, verbose=True)\n",
    "        X_train = data.train_ds.x.items.astype(np.float32)\n",
    "        X_valid = data.valid_ds.x.items.astype(np.float32)\n",
    "        y_train = data.train_ds.y.items.astype(np.int64)\n",
    "        y_valid = data.valid_ds.y.items.astype(np.int64)\n",
    "    except: \n",
    "        ds_nl_.append(dsid)\n",
    "        print(f'\\n...{dsid} cannot be loaded\\n')\n",
    "        continue\n",
    "    if np.isinf(X_train).sum() + np.isnan(X_train).sum() > 0: \n",
    "        ds_di_.append(dsid)\n",
    "        print(f'...{dsid} contains inf or nan\\n')\n",
    "        continue\n",
    "        \n",
    "    if data.features == 1: ds_type_.append('univariate')\n",
    "    else: ds_type_.append('multivariate')\n",
    "    \n",
    "    score_ = []\n",
    "    elapsed_times_ = []\n",
    "    for i in range(iterations):\n",
    "        start_time = time.time()\n",
    "        model = ROCKET(data.features, data.seq_len, n_kernels=n_kernels,kss=kss).to(device)\n",
    "        for j, (xb,yb) in enumerate(data.train_dl.new(shuffle=False, drop_last=False)):\n",
    "            with torch.no_grad(): out = model(xb)\n",
    "            X_train_tfm = out if j == 0 else torch.cat((X_train_tfm, out))\n",
    "        for j, (xb,yb) in enumerate(data.valid_dl.new(shuffle=False, drop_last=False)):\n",
    "            with torch.no_grad(): out = model(xb)\n",
    "            X_valid_tfm = out if j == 0 else torch.cat((X_valid_tfm, out))\n",
    "        classifier = RidgeClassifierCV(alphas=np.logspace(-3, 3, 7), normalize=True)\n",
    "        classifier.fit(X_train_tfm, y_train)\n",
    "        score = classifier.score(X_valid_tfm, y_valid)\n",
    "        score_.append(score)\n",
    "        elapsed_time = time.time() - start_time\n",
    "        elapsed_times_.append(elapsed_time)\n",
    "        alphas_.append(classifier.alpha_)\n",
    "        print('   {:2} - score: {:.5f}  alpha: {:.2E}  time(s): {:4.0f}'.\\\n",
    "              format(i + 1, score, classifier.alpha_, elapsed_time))\n",
    "    ds_.append(dsid)\n",
    "    iters_.append(iterations)\n",
    "    means_.append('{:.6f}'.format(np.mean(score_)))\n",
    "    stds_.append('{:.6f}'.format(np.std(score_)))\n",
    "    times_.append('{:.0f}'.format(np.mean(elapsed_times_)))\n",
    "    if len(datasets) >1: clear_output()\n",
    "    df = pd.DataFrame(np.stack((ds_, ds_type_, iters_,  means_, stds_, times_)).T, \n",
    "             columns=['dataset', 'type', 'iterations',  'mean_accuracy', 'std_accuracy',  'time(s)'])\n",
    "    pd.set_option('display.max_columns', 999)\n",
    "    pd.set_option('display.max_rows', 999)\n",
    "    display(df)\n",
    "    pd.set_option('display.max_columns', 20)\n",
    "    pd.set_option('display.max_rows', 60)\n",
    "    if ds_nl_ != []: print('\\n(*) datasets not loaded      :', ds_nl_)\n",
    "    if ds_di_ != []:print('(*) datasets with data issues:', ds_di_)"
   ]
  },
  {
   "cell_type": "markdown",
   "metadata": {
    "hidden": true
   },
   "source": [
    "This is the comparison with InceptionTime:"
   ]
  },
  {
   "cell_type": "markdown",
   "metadata": {
    "ExecuteTime": {
     "end_time": "2019-11-06T15:14:51.216188Z",
     "start_time": "2019-11-06T15:14:51.164668Z"
    },
    "hidden": true
   },
   "source": [
    "<img src=\"./images/ROCKET_InceptionTime_multi.png\"  width=\"400\">"
   ]
  },
  {
   "cell_type": "markdown",
   "metadata": {
    "heading_collapsed": true
   },
   "source": [
    "## And how to use it with other classifiers? "
   ]
  },
  {
   "cell_type": "markdown",
   "metadata": {
    "hidden": true
   },
   "source": [
    "Once you build the 20k features per sample, you can use them to train any classifier of your choice."
   ]
  },
  {
   "cell_type": "markdown",
   "metadata": {
    "hidden": true
   },
   "source": [
    "If you want to use fastai, for example, with a logistic regression, you could should then build a databunch and a logistic regression model."
   ]
  },
  {
   "cell_type": "markdown",
   "metadata": {
    "heading_collapsed": true,
    "hidden": true
   },
   "source": [
    "### Integration with fastai"
   ]
  },
  {
   "cell_type": "code",
   "execution_count": 47,
   "metadata": {
    "ExecuteTime": {
     "end_time": "2019-11-04T12:58:32.854741Z",
     "start_time": "2019-11-04T12:58:21.067509Z"
    },
    "hidden": true
   },
   "outputs": [
    {
     "data": {
      "text/plain": [
       "TSDataBunch;\n",
       "\n",
       "Train: LabelList (30 items)\n",
       "x: TSList\n",
       "TimeSeries(ch=1, seq_len=20000),TimeSeries(ch=1, seq_len=20000),TimeSeries(ch=1, seq_len=20000),TimeSeries(ch=1, seq_len=20000),TimeSeries(ch=1, seq_len=20000)\n",
       "y: CategoryList\n",
       "0,0,0,0,0\n",
       "Path: .;\n",
       "\n",
       "Valid: LabelList (30 items)\n",
       "x: TSList\n",
       "TimeSeries(ch=1, seq_len=20000),TimeSeries(ch=1, seq_len=20000),TimeSeries(ch=1, seq_len=20000),TimeSeries(ch=1, seq_len=20000),TimeSeries(ch=1, seq_len=20000)\n",
       "y: CategoryList\n",
       "0,0,0,0,0\n",
       "Path: .;\n",
       "\n",
       "Test: None"
      ]
     },
     "execution_count": 47,
     "metadata": {},
     "output_type": "execute_result"
    }
   ],
   "source": [
    "bs = 30\n",
    "scale_type='standardize'\n",
    "\n",
    "X_train, y_train, X_valid, y_valid = get_UCR_data('OliveOil')\n",
    "_, features, seq_len = X_train.shape\n",
    "X_train = (X_train - X_train.mean(axis = (1, 2), keepdims = True)) / (X_train.std(axis = (1, 2), keepdims = True) + 1e-8)\n",
    "X_valid = (X_valid - X_valid.mean(axis = (1, 2), keepdims = True)) / (X_valid.std(axis = (1, 2), keepdims = True) + 1e-8)\n",
    "X_train_tensor = torch.tensor(X_train, device=device)\n",
    "X_valid_tensor = torch.tensor(X_valid, device=device)\n",
    "model = ROCKET(features, seq_len, n_kernels=10000, kss=[7, 9, 11]).to(device)\n",
    "X_train_tfm = model(X_train_tensor).unsqueeze(1)\n",
    "X_valid_tfm = model(X_valid_tensor).unsqueeze(1)\n",
    "\n",
    "data = (ItemLists('.', TSList(X_train_tfm), TSList(X_valid_tfm))\n",
    "        .label_from_lists(y_train, y_valid)\n",
    "        .databunch(bs=min(bs, len(X_train)), val_bs=min(bs * 2, len(X_valid)))\n",
    "        .scale(scale_type=scale_type))\n",
    "data"
   ]
  },
  {
   "cell_type": "markdown",
   "metadata": {
    "hidden": true
   },
   "source": [
    "Let's take a look at the output of ROCKET."
   ]
  },
  {
   "cell_type": "code",
   "execution_count": 48,
   "metadata": {
    "ExecuteTime": {
     "end_time": "2019-11-04T12:58:36.369701Z",
     "start_time": "2019-11-04T12:58:32.856925Z"
    },
    "hidden": true
   },
   "outputs": [
    {
     "data": {
      "image/png": "[encoded data removed]",
      "text/plain": [
       "<Figure size 720x720 with 25 Axes>"
      ]
     },
     "metadata": {
      "needs_background": "light"
     },
     "output_type": "display_data"
    }
   ],
   "source": [
    "data.show_batch()"
   ]
  },
  {
   "cell_type": "code",
   "execution_count": 50,
   "metadata": {
    "ExecuteTime": {
     "end_time": "2019-11-04T12:58:55.966364Z",
     "start_time": "2019-11-04T12:58:52.367745Z"
    },
    "hidden": true
   },
   "outputs": [
    {
     "data": {
      "text/html": [
       "<table border=\"1\" class=\"dataframe\">\n",
       "  <thead>\n",
       "    <tr style=\"text-align: left;\">\n",
       "      <th>epoch</th>\n",
       "      <th>train_loss</th>\n",
       "      <th>valid_loss</th>\n",
       "      <th>accuracy</th>\n",
       "      <th>time</th>\n",
       "    </tr>\n",
       "  </thead>\n",
       "  <tbody>\n",
       "    <tr>\n",
       "      <td>0</td>\n",
       "      <td>1.447277</td>\n",
       "      <td>1.838979</td>\n",
       "      <td>0.400000</td>\n",
       "      <td>00:00</td>\n",
       "    </tr>\n",
       "    <tr>\n",
       "      <td>1</td>\n",
       "      <td>1.636598</td>\n",
       "      <td>31.197151</td>\n",
       "      <td>0.133333</td>\n",
       "      <td>00:00</td>\n",
       "    </tr>\n",
       "    <tr>\n",
       "      <td>2</td>\n",
       "      <td>11.642745</td>\n",
       "      <td>31.246531</td>\n",
       "      <td>0.166667</td>\n",
       "      <td>00:00</td>\n",
       "    </tr>\n",
       "    <tr>\n",
       "      <td>3</td>\n",
       "      <td>16.640320</td>\n",
       "      <td>12.950564</td>\n",
       "      <td>0.166667</td>\n",
       "      <td>00:00</td>\n",
       "    </tr>\n",
       "    <tr>\n",
       "      <td>4</td>\n",
       "      <td>15.823500</td>\n",
       "      <td>9.460878</td>\n",
       "      <td>0.400000</td>\n",
       "      <td>00:00</td>\n",
       "    </tr>\n",
       "  </tbody>\n",
       "</table>"
      ],
      "text/plain": [
       "<IPython.core.display.HTML object>"
      ]
     },
     "metadata": {},
     "output_type": "display_data"
    }
   ],
   "source": [
    "model = nn.Sequential(nn.Linear(20_000, data.c))\n",
    "learn = Learner(data, model, metrics=accuracy)\n",
    "learn.fit_one_cycle(5)"
   ]
  },
  {
   "cell_type": "markdown",
   "metadata": {
    "heading_collapsed": true,
    "hidden": true
   },
   "source": [
    "### XGBoost"
   ]
  },
  {
   "cell_type": "code",
   "execution_count": 51,
   "metadata": {
    "ExecuteTime": {
     "end_time": "2019-11-04T12:59:24.747555Z",
     "start_time": "2019-11-04T12:59:12.959777Z"
    },
    "hidden": true
   },
   "outputs": [],
   "source": [
    "bs = 30\n",
    "scale_type='standardize'\n",
    "\n",
    "X_train, y_train, X_valid, y_valid = get_UCR_data('OliveOil')\n",
    "_, features, seq_len = X_train.shape\n",
    "X_train = (X_train - X_train.mean(axis = (1, 2), keepdims = True)) / (X_train.std(axis = (1, 2), keepdims = True) + 1e-8)\n",
    "X_valid = (X_valid - X_valid.mean(axis = (1, 2), keepdims = True)) / (X_valid.std(axis = (1, 2), keepdims = True) + 1e-8)\n",
    "X_train_tensor = torch.tensor(X_train, device=device)\n",
    "X_valid_tensor = torch.tensor(X_valid, device=device)\n",
    "model = ROCKET(features, seq_len, n_kernels=10000, kss=[7, 9, 11]).to(device)\n",
    "X_train_tfm = model(X_train_tensor)\n",
    "X_valid_tfm = model(X_valid_tensor)"
   ]
  },
  {
   "cell_type": "code",
   "execution_count": 54,
   "metadata": {
    "ExecuteTime": {
     "end_time": "2019-11-04T12:59:59.507366Z",
     "start_time": "2019-11-04T12:59:51.799262Z"
    },
    "hidden": true
   },
   "outputs": [
    {
     "data": {
      "text/plain": [
       "0.6666666666666666"
      ]
     },
     "execution_count": 54,
     "metadata": {},
     "output_type": "execute_result"
    }
   ],
   "source": [
    "import xgboost as xgb\n",
    "classifier = xgb.XGBClassifier(max_depth=3,\n",
    "                               learning_rate=0.1,\n",
    "                               n_estimators=100,\n",
    "                               verbosity=1,\n",
    "                               objective='binary:logistic',\n",
    "                               booster='gbtree',\n",
    "                               tree_method='auto',\n",
    "                               n_jobs=1,\n",
    "                               gpu_id=0,\n",
    "                               gamma=0,\n",
    "                               min_child_weight=1,\n",
    "                               max_delta_step=0,\n",
    "                               subsample=1,\n",
    "                               colsample_bytree=1,\n",
    "                               colsample_bylevel=1,\n",
    "                               colsample_bynode=1,\n",
    "                               reg_alpha=0,\n",
    "                               reg_lambda=1,\n",
    "                               scale_pos_weight=1,\n",
    "                               base_score=0.5,\n",
    "                               random_state=0,\n",
    "                               missing=None)\n",
    "\n",
    "classifier.fit(X_train_tfm, y_train)\n",
    "preds = classifier.predict(X_valid_tfm)\n",
    "(preds == y_valid).mean()"
   ]
  },
  {
   "cell_type": "markdown",
   "metadata": {
    "heading_collapsed": true
   },
   "source": [
    "## Conclusions"
   ]
  },
  {
   "cell_type": "markdown",
   "metadata": {
    "hidden": true
   },
   "source": [
    "ROCKET is a great method for TSC that has established a new levels of performance in terms of accuracy and time. It does it by successfully applying an approach quite different from the traditional DL approaches. The method uses 10k random kernels to generate features that are then classified by linear classifiers (although you may use a classifier of your choice).\n",
    "The original method has 2 limitations (lack of multivariate and lack of GPU support) that are overcome by the Pytorch implementation shared in this notebook."
   ]
  }
 ],
 "metadata": {
  "kernelspec": {
   "display_name": "fastai-v1",
   "language": "python",
   "name": "fastai-v1"
  },
  "language_info": {
   "codemirror_mode": {
    "name": "ipython",
    "version": 3
   },
   "file_extension": ".py",
   "mimetype": "text/x-python",
   "name": "python",
   "nbconvert_exporter": "python",
   "pygments_lexer": "ipython3",
   "version": "3.7.5"
  }
 },
 "nbformat": 4,
 "nbformat_minor": 2
}
